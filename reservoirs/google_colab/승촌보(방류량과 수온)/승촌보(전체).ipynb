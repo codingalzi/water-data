{
 "cells": [
  {
   "cell_type": "markdown",
   "metadata": {},
   "source": [
    "# 승촌보 데이터 분석 \n",
    "\n",
    "* 승촌보 수질 데이터(Seungchonbo.xlsx)   \n",
    "    * 2012-2022년  \n",
    "    * 시간 단위 수집 데이터\n",
    "* 승촌보 유량 데이터(Seungchonbo_flow.xlsx)\n",
    "    * 2012-2022년\n",
    "    * 10분 단위 수집 데이터"
   ]
  },
  {
   "cell_type": "markdown",
   "metadata": {},
   "source": [
    "## 필요한 모듈 임포트"
   ]
  },
  {
   "cell_type": "code",
   "execution_count": 2,
   "metadata": {},
   "outputs": [],
   "source": [
    "import numpy as np\n",
    "import pandas as pd\n",
    "import matplotlib.pyplot as plt\n",
    "import seaborn as sns\n",
    "\n",
    "import joblib"
   ]
  },
  {
   "cell_type": "code",
   "execution_count": 3,
   "metadata": {},
   "outputs": [],
   "source": [
    "from sklearn.model_selection import train_test_split\n",
    "from sklearn.model_selection import GridSearchCV\n",
    "\n",
    "from sklearn.preprocessing import StandardScaler\n",
    "\n",
    "from sklearn.ensemble import RandomForestRegressor, GradientBoostingRegressor"
   ]
  },
  {
   "cell_type": "markdown",
   "metadata": {},
   "source": [
    "## matplotlib 한글 설정  \n",
    "* 운영체제에 따른 한글 지원 설정. 윈도우, 우분투, 구글 코랩 지원. "
   ]
  },
  {
   "cell_type": "code",
   "execution_count": 4,
   "metadata": {},
   "outputs": [],
   "source": [
    "import platform\n",
    "plt.rc('figure', figsize=(10, 6))  # 그림 크기 설정\n",
    "if platform.system() == 'Windows': # 윈도우\n",
    "    from matplotlib import font_manager, rc\n",
    "    font_path = \"C:/Windows/Fonts/NGULIM.TTF\"\n",
    "    font = font_manager.FontProperties(fname=font_path).get_name()\n",
    "    rc('font', family=font)\n",
    "elif platform.system() == 'Linux': # 우분투 또는 구글 코랩\n",
    "    # !sudo apt-get install -y fonts-nanum*\n",
    "    # !fc-cache -fv\n",
    "    \n",
    "    applyfont = \"NanumBarunGothic\"\n",
    "    import matplotlib.font_manager as fm\n",
    "    if not any(map(lambda ft: ft.name == applyfont, fm.fontManager.ttflist)):\n",
    "        fm.fontManager.addfont(\"/usr/share/fonts/truetype/nanum/NanumBarunGothic.ttf\")\n",
    "    plt.rc(\"font\", family=applyfont)\n",
    "    plt.rc(\"axes\", unicode_minus=False)"
   ]
  },
  {
   "cell_type": "markdown",
   "metadata": {},
   "source": [
    "## 승촌보 수질 데이터 불러오기"
   ]
  },
  {
   "cell_type": "markdown",
   "metadata": {},
   "source": [
    "데이터 저장소"
   ]
  },
  {
   "cell_type": "code",
   "execution_count": 5,
   "metadata": {},
   "outputs": [],
   "source": [
    "base_path = r\"C:\\Users\\owner\\Desktop\\water-source\\data\""
   ]
  },
  {
   "cell_type": "markdown",
   "metadata": {},
   "source": [
    "승촌보 데이터 불러오기. `'측정일/월'` 특성은 date time으로 파싱."
   ]
  },
  {
   "cell_type": "markdown",
   "metadata": {},
   "source": [
    "## "
   ]
  },
  {
   "cell_type": "code",
   "execution_count": 6,
   "metadata": {},
   "outputs": [],
   "source": [
    "scb_yearly = pd.read_excel(base_path+\"\\Seungchonbo.xlsx\", \n",
    "                            skiprows=0, \n",
    "                            header=1, \n",
    "                            sheet_name=None,\n",
    "                            na_values='ND',\n",
    "                            parse_dates=[0])  # 측정일/월 특성을 date time으로 파싱"
   ]
  },
  {
   "cell_type": "markdown",
   "metadata": {},
   "source": [
    "`scb_yearly`는 연도별 데이터프레임을 갖는 사전 자료형."
   ]
  },
  {
   "cell_type": "code",
   "execution_count": 7,
   "metadata": {},
   "outputs": [
    {
     "name": "stdout",
     "output_type": "stream",
     "text": [
      "<class 'dict'>\n",
      "==================================================\n",
      "dict_keys(['2012년', '2013년', '2014년', '2015년', '2016년', '2017년', '2018년', '2019년', '2020년', '2021년', '2022년'])\n",
      "==================================================\n",
      "RangeIndex(start=0, stop=8750, step=1)\n",
      "==================================================\n",
      "                측정일/월 측정소명  수온 ℃  수소이온농도  전기전도도 μS/cm  용존산소 mg/L  총유기탄소 mg/L  \\\n",
      "0 2013-01-01 00:00:00   용봉   3.9     6.9        374.0       11.4         2.5   \n",
      "1 2013-01-01 01:00:00   용봉   3.9     6.9        375.0       11.4         2.5   \n",
      "2 2013-01-01 02:00:00   용봉   4.0     6.9        374.0       11.4         2.5   \n",
      "\n",
      "   총질소 mg/L  총인 mg/L  클로로필-a mg/㎥  \n",
      "0       NaN      NaN          7.2  \n",
      "1       NaN      NaN          6.9  \n",
      "2       NaN      NaN          6.8  \n"
     ]
    }
   ],
   "source": [
    "print(type(scb_yearly))\n",
    "print('='*50)\n",
    "print(scb_yearly.keys())\n",
    "print('='*50)\n",
    "print(scb_yearly['2013년'].index)\n",
    "print('='*50)\n",
    "print(scb_yearly['2013년'].head(3))"
   ]
  },
  {
   "cell_type": "markdown",
   "metadata": {},
   "source": [
    "연도별 특성은 모두 동일하며 다음과 같다."
   ]
  },
  {
   "cell_type": "code",
   "execution_count": 8,
   "metadata": {},
   "outputs": [
    {
     "name": "stdout",
     "output_type": "stream",
     "text": [
      "Index(['측정일/월', '측정소명', '수온 ℃', '수소이온농도', '전기전도도 μS/cm', '용존산소 mg/L',\n",
      "       '총유기탄소 mg/L', '총질소 mg/L', '총인 mg/L', '클로로필-a mg/㎥'],\n",
      "      dtype='object')\n"
     ]
    }
   ],
   "source": [
    "print(scb_yearly['2013년'].columns)"
   ]
  },
  {
   "cell_type": "markdown",
   "metadata": {},
   "source": [
    "`'측정일/월'` 특성을 '년-월-일 시'형식으로 변경한다."
   ]
  },
  {
   "cell_type": "code",
   "execution_count": 9,
   "metadata": {},
   "outputs": [],
   "source": [
    "for year in scb_yearly:\n",
    "    scb_yearly[year]['측정일/월'] = scb_yearly[year]['측정일/월'].apply(lambda x :  x.strftime('%Y-%m-%d %H'))"
   ]
  },
  {
   "cell_type": "code",
   "execution_count": 10,
   "metadata": {},
   "outputs": [
    {
     "name": "stdout",
     "output_type": "stream",
     "text": [
      "           측정일/월 측정소명  수온 ℃  수소이온농도  전기전도도 μS/cm  용존산소 mg/L  총유기탄소 mg/L  \\\n",
      "0  2013-01-01 00   용봉   3.9     6.9        374.0       11.4         2.5   \n",
      "1  2013-01-01 01   용봉   3.9     6.9        375.0       11.4         2.5   \n",
      "2  2013-01-01 02   용봉   4.0     6.9        374.0       11.4         2.5   \n",
      "\n",
      "   총질소 mg/L  총인 mg/L  클로로필-a mg/㎥  \n",
      "0       NaN      NaN          7.2  \n",
      "1       NaN      NaN          6.9  \n",
      "2       NaN      NaN          6.8  \n"
     ]
    }
   ],
   "source": [
    "print(scb_yearly['2013년'].head(3))"
   ]
  },
  {
   "cell_type": "markdown",
   "metadata": {},
   "source": [
    "### 연도별 수질 데이터 통합\n",
    "\n",
    "2012년도 데이터를 제외한 모든 데이터를 통합"
   ]
  },
  {
   "cell_type": "code",
   "execution_count": 11,
   "metadata": {},
   "outputs": [],
   "source": [
    "scb_yearly_df13 = pd.DataFrame()\n",
    "\n",
    "for year in list(scb_yearly.keys())[1:]:\n",
    "    scb_yearly_df13 = pd.concat([scb_yearly_df13, scb_yearly[year]])"
   ]
  },
  {
   "cell_type": "code",
   "execution_count": 12,
   "metadata": {},
   "outputs": [
    {
     "name": "stdout",
     "output_type": "stream",
     "text": [
      "           측정일/월 측정소명  수온 ℃  수소이온농도  전기전도도 μS/cm  용존산소 mg/L  총유기탄소 mg/L  \\\n",
      "0  2013-01-01 00   용봉   3.9     6.9        374.0       11.4         2.5   \n",
      "1  2013-01-01 01   용봉   3.9     6.9        375.0       11.4         2.5   \n",
      "2  2013-01-01 02   용봉   4.0     6.9        374.0       11.4         2.5   \n",
      "\n",
      "   총질소 mg/L  총인 mg/L  클로로필-a mg/㎥  \n",
      "0       NaN      NaN          7.2  \n",
      "1       NaN      NaN          6.9  \n",
      "2       NaN      NaN          6.8  \n",
      "==================================================\n",
      "              측정일/월 측정소명  수온 ℃  수소이온농도  전기전도도 μS/cm  용존산소 mg/L  총유기탄소 mg/L  \\\n",
      "3429  2022-05-23 21   용봉  25.9     6.8        417.0        NaN         6.7   \n",
      "3430  2022-05-23 22   용봉  25.7     6.8        420.0        NaN         6.4   \n",
      "3431  2022-05-23 23   용봉  25.5     6.8        411.0        NaN         6.4   \n",
      "\n",
      "      총질소 mg/L  총인 mg/L  클로로필-a mg/㎥  \n",
      "3429     5.909    0.107         58.3  \n",
      "3430     5.921    0.106         54.4  \n",
      "3431     5.818    0.106         52.3  \n"
     ]
    }
   ],
   "source": [
    "print(scb_yearly_df13.head(3))\n",
    "print('='*50)\n",
    "print(scb_yearly_df13.tail(3))"
   ]
  },
  {
   "cell_type": "markdown",
   "metadata": {},
   "source": [
    "인덱스 리셋(기존 인덱스는 삭제)"
   ]
  },
  {
   "cell_type": "code",
   "execution_count": 13,
   "metadata": {},
   "outputs": [],
   "source": [
    "scb_yearly_df13 = scb_yearly_df13.reset_index(drop=True)"
   ]
  },
  {
   "cell_type": "code",
   "execution_count": 14,
   "metadata": {},
   "outputs": [
    {
     "name": "stdout",
     "output_type": "stream",
     "text": [
      "           측정일/월 측정소명  수온 ℃  수소이온농도  전기전도도 μS/cm  용존산소 mg/L  총유기탄소 mg/L  \\\n",
      "0  2013-01-01 00   용봉   3.9     6.9        374.0       11.4         2.5   \n",
      "1  2013-01-01 01   용봉   3.9     6.9        375.0       11.4         2.5   \n",
      "2  2013-01-01 02   용봉   4.0     6.9        374.0       11.4         2.5   \n",
      "\n",
      "   총질소 mg/L  총인 mg/L  클로로필-a mg/㎥  \n",
      "0       NaN      NaN          7.2  \n",
      "1       NaN      NaN          6.9  \n",
      "2       NaN      NaN          6.8  \n",
      "==================================================\n",
      "               측정일/월 측정소명  수온 ℃  수소이온농도  전기전도도 μS/cm  용존산소 mg/L  총유기탄소 mg/L  \\\n",
      "82254  2022-05-23 21   용봉  25.9     6.8        417.0        NaN         6.7   \n",
      "82255  2022-05-23 22   용봉  25.7     6.8        420.0        NaN         6.4   \n",
      "82256  2022-05-23 23   용봉  25.5     6.8        411.0        NaN         6.4   \n",
      "\n",
      "       총질소 mg/L  총인 mg/L  클로로필-a mg/㎥  \n",
      "82254     5.909    0.107         58.3  \n",
      "82255     5.921    0.106         54.4  \n",
      "82256     5.818    0.106         52.3  \n"
     ]
    }
   ],
   "source": [
    "print(scb_yearly_df13.head(3))\n",
    "print('='*50)\n",
    "print(scb_yearly_df13.tail(3))"
   ]
  },
  {
   "cell_type": "markdown",
   "metadata": {},
   "source": [
    "기본 정보 확인"
   ]
  },
  {
   "cell_type": "code",
   "execution_count": 15,
   "metadata": {},
   "outputs": [
    {
     "name": "stdout",
     "output_type": "stream",
     "text": [
      "<class 'pandas.core.frame.DataFrame'>\n",
      "RangeIndex: 82257 entries, 0 to 82256\n",
      "Data columns (total 10 columns):\n",
      " #   Column       Non-Null Count  Dtype  \n",
      "---  ------       --------------  -----  \n",
      " 0   측정일/월        82257 non-null  object \n",
      " 1   측정소명         82257 non-null  object \n",
      " 2   수온 ℃         64574 non-null  float64\n",
      " 3   수소이온농도       64561 non-null  float64\n",
      " 4   전기전도도 μS/cm  64524 non-null  float64\n",
      " 5   용존산소 mg/L    62656 non-null  float64\n",
      " 6   총유기탄소 mg/L   58675 non-null  float64\n",
      " 7   총질소 mg/L     59981 non-null  float64\n",
      " 8   총인 mg/L      58997 non-null  float64\n",
      " 9   클로로필-a mg/㎥  62876 non-null  float64\n",
      "dtypes: float64(8), object(2)\n",
      "memory usage: 6.3+ MB\n"
     ]
    }
   ],
   "source": [
    "scb_yearly_df13.info()"
   ]
  },
  {
   "cell_type": "markdown",
   "metadata": {},
   "source": [
    "**결측치 확인**  \n",
    "\n",
    "측정일과 측정소를 제외한 모든 특성에 다수의 결측치가 포함된다."
   ]
  },
  {
   "cell_type": "code",
   "execution_count": 16,
   "metadata": {},
   "outputs": [
    {
     "data": {
      "text/plain": [
       "측정일/월              0\n",
       "측정소명               0\n",
       "수온 ℃           17683\n",
       "수소이온농도         17696\n",
       "전기전도도 μS/cm    17733\n",
       "용존산소 mg/L      19601\n",
       "총유기탄소 mg/L     23582\n",
       "총질소 mg/L       22276\n",
       "총인 mg/L        23260\n",
       "클로로필-a mg/㎥    19381\n",
       "dtype: int64"
      ]
     },
     "execution_count": 16,
     "metadata": {},
     "output_type": "execute_result"
    }
   ],
   "source": [
    "scb_yearly_df13.isnull().sum()"
   ]
  },
  {
   "cell_type": "markdown",
   "metadata": {},
   "source": [
    "## 승촌보 유량 데이터 추가\n",
    "\n",
    "`시간` 특성은 date time으로 파싱해서 불러온다."
   ]
  },
  {
   "cell_type": "code",
   "execution_count": 17,
   "metadata": {},
   "outputs": [],
   "source": [
    "scb_flow_yearly = pd.read_excel(base_path+\"\\Seungchonbo_flow.xlsx\", \n",
    "                            header=0, \n",
    "                            sheet_name=None,\n",
    "                            na_values='ND',\n",
    "                            parse_dates=[0])  # 시간 특성을 date time으로 파싱"
   ]
  },
  {
   "cell_type": "markdown",
   "metadata": {},
   "source": [
    "`scb_flow_yearly`도 연도별 데이터프레임을 갖는 사전 자료형이다."
   ]
  },
  {
   "cell_type": "code",
   "execution_count": 18,
   "metadata": {},
   "outputs": [
    {
     "name": "stdout",
     "output_type": "stream",
     "text": [
      "<class 'dict'>\n",
      "==================================================\n",
      "dict_keys(['2012', '2013', '2014', '2015', '2016', '2017', '2018', '2019', '2020', '2021', '2022'])\n",
      "==================================================\n",
      "<class 'pandas.core.frame.DataFrame'>\n",
      "RangeIndex: 52560 entries, 0 to 52559\n",
      "Data columns (total 5 columns):\n",
      " #   Column       Non-Null Count  Dtype         \n",
      "---  ------       --------------  -----         \n",
      " 0   시간           52560 non-null  datetime64[ns]\n",
      " 1    상류수위(EL.m)  52560 non-null  float64       \n",
      " 2    하류수위(EL.m)  52560 non-null  float64       \n",
      " 3    유입량(㎥/s)    52560 non-null  float64       \n",
      " 4    방류량(㎥/s)    52560 non-null  float64       \n",
      "dtypes: datetime64[ns](1), float64(4)\n",
      "memory usage: 2.0 MB\n",
      "None\n",
      "==================================================\n",
      "                   시간   상류수위(EL.m)   하류수위(EL.m)   유입량(㎥/s)   방류량(㎥/s)\n",
      "0 2013-01-01 00:00:00          7.5         3.77      19.82      19.74\n",
      "1 2013-01-01 00:10:00          7.5         3.77      19.78      19.76\n",
      "2 2013-01-01 00:20:00          7.5         3.77      19.77      19.82\n"
     ]
    }
   ],
   "source": [
    "print(type(scb_flow_yearly))\n",
    "print('='*50)\n",
    "print(scb_flow_yearly.keys())\n",
    "print('='*50)\n",
    "print(scb_flow_yearly['2013'].info())\n",
    "print('='*50)\n",
    "print(scb_flow_yearly['2013'].head(3))"
   ]
  },
  {
   "cell_type": "markdown",
   "metadata": {},
   "source": [
    "`시간` 특성을 '년-월-일 시' 형식으로 변경한다. "
   ]
  },
  {
   "cell_type": "code",
   "execution_count": 19,
   "metadata": {},
   "outputs": [],
   "source": [
    "\n",
    "for year in list(scb_flow_yearly.keys())[1:]:\n",
    "    scb_flow_yearly[year]['시간'] = scb_flow_yearly[year]['시간'].apply(lambda x : x.strftime('%Y-%m-%d %H'))"
   ]
  },
  {
   "cell_type": "code",
   "execution_count": 20,
   "metadata": {},
   "outputs": [
    {
     "name": "stdout",
     "output_type": "stream",
     "text": [
      "              시간   상류수위(EL.m)   하류수위(EL.m)   유입량(㎥/s)   방류량(㎥/s)\n",
      "0  2013-01-01 00          7.5         3.77      19.82      19.74\n",
      "1  2013-01-01 00          7.5         3.77      19.78      19.76\n",
      "2  2013-01-01 00          7.5         3.77      19.77      19.82\n"
     ]
    }
   ],
   "source": [
    "print(scb_flow_yearly['2013'].head(3))"
   ]
  },
  {
   "cell_type": "markdown",
   "metadata": {},
   "source": [
    "10분 단위로 수진된 수량 데이터를 시간 단위 데이터로 변환한다(시간대별 평균). 단, 데이터가 적은 2012년도 데이터는 무시한다."
   ]
  },
  {
   "cell_type": "code",
   "execution_count": 21,
   "metadata": {},
   "outputs": [],
   "source": [
    "scb_flow_yearly_hour = {}\n",
    "\n",
    "for year in list(scb_flow_yearly.keys())[1:]:\n",
    "    scb_flow_yearly_hour[year] = scb_flow_yearly[year].groupby('시간').mean()"
   ]
  },
  {
   "cell_type": "code",
   "execution_count": 22,
   "metadata": {},
   "outputs": [
    {
     "name": "stdout",
     "output_type": "stream",
     "text": [
      "                상류수위(EL.m)   하류수위(EL.m)   유입량(㎥/s)   방류량(㎥/s)\n",
      "시간                                                           \n",
      "2013-01-01 00          7.5         3.77  19.773333  19.748333\n",
      "2013-01-01 01          7.5         3.77  19.701667  19.706667\n",
      "2013-01-01 02          7.5         3.77  19.748333  19.723333\n"
     ]
    }
   ],
   "source": [
    "print(scb_flow_yearly_hour['2013'].head(3))"
   ]
  },
  {
   "cell_type": "markdown",
   "metadata": {},
   "source": [
    "인덱스 추가"
   ]
  },
  {
   "cell_type": "code",
   "execution_count": 23,
   "metadata": {},
   "outputs": [],
   "source": [
    "for year in scb_flow_yearly_hour:\n",
    "    scb_flow_yearly_hour[year] = scb_flow_yearly_hour[year].reset_index()"
   ]
  },
  {
   "cell_type": "code",
   "execution_count": 24,
   "metadata": {},
   "outputs": [
    {
     "data": {
      "text/html": [
       "<div>\n",
       "<style scoped>\n",
       "    .dataframe tbody tr th:only-of-type {\n",
       "        vertical-align: middle;\n",
       "    }\n",
       "\n",
       "    .dataframe tbody tr th {\n",
       "        vertical-align: top;\n",
       "    }\n",
       "\n",
       "    .dataframe thead th {\n",
       "        text-align: right;\n",
       "    }\n",
       "</style>\n",
       "<table border=\"1\" class=\"dataframe\">\n",
       "  <thead>\n",
       "    <tr style=\"text-align: right;\">\n",
       "      <th></th>\n",
       "      <th>시간</th>\n",
       "      <th>상류수위(EL.m)</th>\n",
       "      <th>하류수위(EL.m)</th>\n",
       "      <th>유입량(㎥/s)</th>\n",
       "      <th>방류량(㎥/s)</th>\n",
       "    </tr>\n",
       "  </thead>\n",
       "  <tbody>\n",
       "    <tr>\n",
       "      <th>0</th>\n",
       "      <td>2013-01-01 00</td>\n",
       "      <td>7.5</td>\n",
       "      <td>3.77</td>\n",
       "      <td>19.773333</td>\n",
       "      <td>19.748333</td>\n",
       "    </tr>\n",
       "    <tr>\n",
       "      <th>1</th>\n",
       "      <td>2013-01-01 01</td>\n",
       "      <td>7.5</td>\n",
       "      <td>3.77</td>\n",
       "      <td>19.701667</td>\n",
       "      <td>19.706667</td>\n",
       "    </tr>\n",
       "    <tr>\n",
       "      <th>2</th>\n",
       "      <td>2013-01-01 02</td>\n",
       "      <td>7.5</td>\n",
       "      <td>3.77</td>\n",
       "      <td>19.748333</td>\n",
       "      <td>19.723333</td>\n",
       "    </tr>\n",
       "  </tbody>\n",
       "</table>\n",
       "</div>"
      ],
      "text/plain": [
       "              시간   상류수위(EL.m)   하류수위(EL.m)   유입량(㎥/s)   방류량(㎥/s)\n",
       "0  2013-01-01 00          7.5         3.77  19.773333  19.748333\n",
       "1  2013-01-01 01          7.5         3.77  19.701667  19.706667\n",
       "2  2013-01-01 02          7.5         3.77  19.748333  19.723333"
      ]
     },
     "execution_count": 24,
     "metadata": {},
     "output_type": "execute_result"
    }
   ],
   "source": [
    "scb_flow_yearly_hour['2013'].head(3)"
   ]
  },
  {
   "cell_type": "markdown",
   "metadata": {},
   "source": [
    "승촌보 유량 데이터 통합(2013년부터)"
   ]
  },
  {
   "cell_type": "code",
   "execution_count": 25,
   "metadata": {},
   "outputs": [],
   "source": [
    "scb_flow_yearly_hour_df = pd.DataFrame()\n",
    "\n",
    "for year in scb_flow_yearly_hour:\n",
    "    scb_flow_yearly_hour_df = pd.concat([scb_flow_yearly_hour_df, scb_flow_yearly_hour[year]])"
   ]
  },
  {
   "cell_type": "code",
   "execution_count": 26,
   "metadata": {},
   "outputs": [
    {
     "name": "stdout",
     "output_type": "stream",
     "text": [
      "              시간   상류수위(EL.m)   하류수위(EL.m)   유입량(㎥/s)   방류량(㎥/s)\n",
      "0  2013-01-01 00          7.5         3.77  19.773333  19.748333\n",
      "1  2013-01-01 01          7.5         3.77  19.701667  19.706667\n",
      "2  2013-01-01 02          7.5         3.77  19.748333  19.723333\n",
      "==================================================\n",
      "                 시간   상류수위(EL.m)   하류수위(EL.m)   유입량(㎥/s)   방류량(㎥/s)\n",
      "5489  2022-08-17 17     5.483333     1.626667  29.068333  44.878333\n",
      "5490  2022-08-17 18     5.470000     1.566667  19.131667  14.925000\n",
      "5491  2022-08-17 19     5.468333     1.581667  18.811667  19.368333\n"
     ]
    }
   ],
   "source": [
    "print(scb_flow_yearly_hour_df.head(3))\n",
    "print('='*50)\n",
    "print(scb_flow_yearly_hour_df.tail(3))"
   ]
  },
  {
   "cell_type": "markdown",
   "metadata": {},
   "source": [
    "유량 데이터 인덱스 리셋(기존 인덱스 삭제)"
   ]
  },
  {
   "cell_type": "code",
   "execution_count": 27,
   "metadata": {},
   "outputs": [],
   "source": [
    "scb_flow_yearly_hour_df = scb_flow_yearly_hour_df.reset_index(drop=True)"
   ]
  },
  {
   "cell_type": "code",
   "execution_count": 28,
   "metadata": {},
   "outputs": [
    {
     "name": "stdout",
     "output_type": "stream",
     "text": [
      "              시간   상류수위(EL.m)   하류수위(EL.m)   유입량(㎥/s)   방류량(㎥/s)\n",
      "0  2013-01-01 00          7.5         3.77  19.773333  19.748333\n",
      "1  2013-01-01 01          7.5         3.77  19.701667  19.706667\n",
      "2  2013-01-01 02          7.5         3.77  19.748333  19.723333\n",
      "==================================================\n",
      "                  시간   상류수위(EL.m)   하류수위(EL.m)   유입량(㎥/s)   방류량(㎥/s)\n",
      "84351  2022-08-17 17     5.483333     1.626667  29.068333  44.878333\n",
      "84352  2022-08-17 18     5.470000     1.566667  19.131667  14.925000\n",
      "84353  2022-08-17 19     5.468333     1.581667  18.811667  19.368333\n"
     ]
    }
   ],
   "source": [
    "print(scb_flow_yearly_hour_df.head(3))\n",
    "print('='*50)\n",
    "print(scb_flow_yearly_hour_df.tail(3))"
   ]
  },
  {
   "cell_type": "markdown",
   "metadata": {},
   "source": [
    "기본 정보 확인"
   ]
  },
  {
   "cell_type": "code",
   "execution_count": 29,
   "metadata": {},
   "outputs": [
    {
     "name": "stdout",
     "output_type": "stream",
     "text": [
      "<class 'pandas.core.frame.DataFrame'>\n",
      "RangeIndex: 84354 entries, 0 to 84353\n",
      "Data columns (total 5 columns):\n",
      " #   Column       Non-Null Count  Dtype  \n",
      "---  ------       --------------  -----  \n",
      " 0   시간           84354 non-null  object \n",
      " 1    상류수위(EL.m)  84354 non-null  float64\n",
      " 2    하류수위(EL.m)  84354 non-null  float64\n",
      " 3    유입량(㎥/s)    84354 non-null  float64\n",
      " 4    방류량(㎥/s)    84354 non-null  float64\n",
      "dtypes: float64(4), object(1)\n",
      "memory usage: 3.2+ MB\n"
     ]
    }
   ],
   "source": [
    "scb_flow_yearly_hour_df.info()"
   ]
  },
  {
   "cell_type": "markdown",
   "metadata": {},
   "source": [
    "## 수질/유량 데이터 합병  \n",
    "수질 데이터와 유량 데이터를 `측정일/월`과 `시간` 기준으로 합병한다.   \n",
    "\n",
    "* 수질 데이터의 `측정일/월` 특성 이름을 `시간`으로 변경"
   ]
  },
  {
   "cell_type": "code",
   "execution_count": 30,
   "metadata": {},
   "outputs": [],
   "source": [
    "scb_yearly_df13 = scb_yearly_df13.rename(columns={'측정일/월':'시간'})"
   ]
  },
  {
   "cell_type": "code",
   "execution_count": 31,
   "metadata": {},
   "outputs": [
    {
     "data": {
      "text/html": [
       "<div>\n",
       "<style scoped>\n",
       "    .dataframe tbody tr th:only-of-type {\n",
       "        vertical-align: middle;\n",
       "    }\n",
       "\n",
       "    .dataframe tbody tr th {\n",
       "        vertical-align: top;\n",
       "    }\n",
       "\n",
       "    .dataframe thead th {\n",
       "        text-align: right;\n",
       "    }\n",
       "</style>\n",
       "<table border=\"1\" class=\"dataframe\">\n",
       "  <thead>\n",
       "    <tr style=\"text-align: right;\">\n",
       "      <th></th>\n",
       "      <th>시간</th>\n",
       "      <th>측정소명</th>\n",
       "      <th>수온 ℃</th>\n",
       "      <th>수소이온농도</th>\n",
       "      <th>전기전도도 μS/cm</th>\n",
       "      <th>용존산소 mg/L</th>\n",
       "      <th>총유기탄소 mg/L</th>\n",
       "      <th>총질소 mg/L</th>\n",
       "      <th>총인 mg/L</th>\n",
       "      <th>클로로필-a mg/㎥</th>\n",
       "    </tr>\n",
       "  </thead>\n",
       "  <tbody>\n",
       "    <tr>\n",
       "      <th>0</th>\n",
       "      <td>2013-01-01 00</td>\n",
       "      <td>용봉</td>\n",
       "      <td>3.9</td>\n",
       "      <td>6.9</td>\n",
       "      <td>374.0</td>\n",
       "      <td>11.4</td>\n",
       "      <td>2.5</td>\n",
       "      <td>NaN</td>\n",
       "      <td>NaN</td>\n",
       "      <td>7.2</td>\n",
       "    </tr>\n",
       "    <tr>\n",
       "      <th>1</th>\n",
       "      <td>2013-01-01 01</td>\n",
       "      <td>용봉</td>\n",
       "      <td>3.9</td>\n",
       "      <td>6.9</td>\n",
       "      <td>375.0</td>\n",
       "      <td>11.4</td>\n",
       "      <td>2.5</td>\n",
       "      <td>NaN</td>\n",
       "      <td>NaN</td>\n",
       "      <td>6.9</td>\n",
       "    </tr>\n",
       "    <tr>\n",
       "      <th>2</th>\n",
       "      <td>2013-01-01 02</td>\n",
       "      <td>용봉</td>\n",
       "      <td>4.0</td>\n",
       "      <td>6.9</td>\n",
       "      <td>374.0</td>\n",
       "      <td>11.4</td>\n",
       "      <td>2.5</td>\n",
       "      <td>NaN</td>\n",
       "      <td>NaN</td>\n",
       "      <td>6.8</td>\n",
       "    </tr>\n",
       "  </tbody>\n",
       "</table>\n",
       "</div>"
      ],
      "text/plain": [
       "              시간 측정소명  수온 ℃  수소이온농도  전기전도도 μS/cm  용존산소 mg/L  총유기탄소 mg/L  \\\n",
       "0  2013-01-01 00   용봉   3.9     6.9        374.0       11.4         2.5   \n",
       "1  2013-01-01 01   용봉   3.9     6.9        375.0       11.4         2.5   \n",
       "2  2013-01-01 02   용봉   4.0     6.9        374.0       11.4         2.5   \n",
       "\n",
       "   총질소 mg/L  총인 mg/L  클로로필-a mg/㎥  \n",
       "0       NaN      NaN          7.2  \n",
       "1       NaN      NaN          6.9  \n",
       "2       NaN      NaN          6.8  "
      ]
     },
     "execution_count": 31,
     "metadata": {},
     "output_type": "execute_result"
    }
   ],
   "source": [
    "scb_yearly_df13.head(3)"
   ]
  },
  {
   "cell_type": "markdown",
   "metadata": {},
   "source": [
    "`pd.merge()`에서 `how = 'outer'` 키워드 인자 : 두 데이터에 사용된 모든 시간대의 데이터를 모두 추가한다(합집합)."
   ]
  },
  {
   "cell_type": "code",
   "execution_count": 32,
   "metadata": {},
   "outputs": [],
   "source": [
    "scb_data = pd.merge(scb_yearly_df13, scb_flow_yearly_hour_df, how='outer')"
   ]
  },
  {
   "cell_type": "code",
   "execution_count": 33,
   "metadata": {},
   "outputs": [
    {
     "name": "stdout",
     "output_type": "stream",
     "text": [
      "<class 'pandas.core.frame.DataFrame'>\n",
      "Int64Index: 84380 entries, 0 to 84379\n",
      "Data columns (total 14 columns):\n",
      " #   Column       Non-Null Count  Dtype  \n",
      "---  ------       --------------  -----  \n",
      " 0   시간           84380 non-null  object \n",
      " 1   측정소명         82257 non-null  object \n",
      " 2   수온 ℃         64574 non-null  float64\n",
      " 3   수소이온농도       64561 non-null  float64\n",
      " 4   전기전도도 μS/cm  64524 non-null  float64\n",
      " 5   용존산소 mg/L    62656 non-null  float64\n",
      " 6   총유기탄소 mg/L   58675 non-null  float64\n",
      " 7   총질소 mg/L     59981 non-null  float64\n",
      " 8   총인 mg/L      58997 non-null  float64\n",
      " 9   클로로필-a mg/㎥  62876 non-null  float64\n",
      " 10   상류수위(EL.m)  84354 non-null  float64\n",
      " 11   하류수위(EL.m)  84354 non-null  float64\n",
      " 12   유입량(㎥/s)    84354 non-null  float64\n",
      " 13   방류량(㎥/s)    84354 non-null  float64\n",
      "dtypes: float64(12), object(2)\n",
      "memory usage: 9.7+ MB\n"
     ]
    }
   ],
   "source": [
    "scb_data.info()"
   ]
  },
  {
   "cell_type": "markdown",
   "metadata": {},
   "source": [
    "수질 데이터(~22년5월23일)는 82257개의 데이터 샘플.  \n",
    "유량 데이터(~22년8월17일)는 84354개의 데이터 샘플"
   ]
  },
  {
   "cell_type": "code",
   "execution_count": 34,
   "metadata": {},
   "outputs": [
    {
     "name": "stdout",
     "output_type": "stream",
     "text": [
      "82257\n",
      "84354\n"
     ]
    }
   ],
   "source": [
    "print(scb_yearly_df13.__len__())\n",
    "print(scb_flow_yearly_hour_df.__len__())"
   ]
  },
  {
   "cell_type": "markdown",
   "metadata": {},
   "source": [
    "유량 데이터만 있는 일자의 데이터는 삭제"
   ]
  },
  {
   "cell_type": "code",
   "execution_count": 35,
   "metadata": {},
   "outputs": [],
   "source": [
    "scb_data = scb_data[:len(scb_yearly_df13)]"
   ]
  },
  {
   "cell_type": "code",
   "execution_count": 36,
   "metadata": {},
   "outputs": [
    {
     "data": {
      "text/html": [
       "<div>\n",
       "<style scoped>\n",
       "    .dataframe tbody tr th:only-of-type {\n",
       "        vertical-align: middle;\n",
       "    }\n",
       "\n",
       "    .dataframe tbody tr th {\n",
       "        vertical-align: top;\n",
       "    }\n",
       "\n",
       "    .dataframe thead th {\n",
       "        text-align: right;\n",
       "    }\n",
       "</style>\n",
       "<table border=\"1\" class=\"dataframe\">\n",
       "  <thead>\n",
       "    <tr style=\"text-align: right;\">\n",
       "      <th></th>\n",
       "      <th>시간</th>\n",
       "      <th>측정소명</th>\n",
       "      <th>수온 ℃</th>\n",
       "      <th>수소이온농도</th>\n",
       "      <th>전기전도도 μS/cm</th>\n",
       "      <th>용존산소 mg/L</th>\n",
       "      <th>총유기탄소 mg/L</th>\n",
       "      <th>총질소 mg/L</th>\n",
       "      <th>총인 mg/L</th>\n",
       "      <th>클로로필-a mg/㎥</th>\n",
       "      <th>상류수위(EL.m)</th>\n",
       "      <th>하류수위(EL.m)</th>\n",
       "      <th>유입량(㎥/s)</th>\n",
       "      <th>방류량(㎥/s)</th>\n",
       "    </tr>\n",
       "  </thead>\n",
       "  <tbody>\n",
       "    <tr>\n",
       "      <th>82254</th>\n",
       "      <td>2022-05-23 21</td>\n",
       "      <td>용봉</td>\n",
       "      <td>25.9</td>\n",
       "      <td>6.8</td>\n",
       "      <td>417.0</td>\n",
       "      <td>NaN</td>\n",
       "      <td>6.7</td>\n",
       "      <td>5.909</td>\n",
       "      <td>0.107</td>\n",
       "      <td>58.3</td>\n",
       "      <td>5.44</td>\n",
       "      <td>1.531667</td>\n",
       "      <td>12.753333</td>\n",
       "      <td>12.743333</td>\n",
       "    </tr>\n",
       "    <tr>\n",
       "      <th>82255</th>\n",
       "      <td>2022-05-23 22</td>\n",
       "      <td>용봉</td>\n",
       "      <td>25.7</td>\n",
       "      <td>6.8</td>\n",
       "      <td>420.0</td>\n",
       "      <td>NaN</td>\n",
       "      <td>6.4</td>\n",
       "      <td>5.921</td>\n",
       "      <td>0.106</td>\n",
       "      <td>54.4</td>\n",
       "      <td>5.44</td>\n",
       "      <td>1.530000</td>\n",
       "      <td>12.700000</td>\n",
       "      <td>12.700000</td>\n",
       "    </tr>\n",
       "    <tr>\n",
       "      <th>82256</th>\n",
       "      <td>2022-05-23 23</td>\n",
       "      <td>용봉</td>\n",
       "      <td>25.5</td>\n",
       "      <td>6.8</td>\n",
       "      <td>411.0</td>\n",
       "      <td>NaN</td>\n",
       "      <td>6.4</td>\n",
       "      <td>5.818</td>\n",
       "      <td>0.106</td>\n",
       "      <td>52.3</td>\n",
       "      <td>5.44</td>\n",
       "      <td>1.525000</td>\n",
       "      <td>12.760000</td>\n",
       "      <td>12.770000</td>\n",
       "    </tr>\n",
       "  </tbody>\n",
       "</table>\n",
       "</div>"
      ],
      "text/plain": [
       "                  시간 측정소명  수온 ℃  수소이온농도  전기전도도 μS/cm  용존산소 mg/L  총유기탄소 mg/L  \\\n",
       "82254  2022-05-23 21   용봉  25.9     6.8        417.0        NaN         6.7   \n",
       "82255  2022-05-23 22   용봉  25.7     6.8        420.0        NaN         6.4   \n",
       "82256  2022-05-23 23   용봉  25.5     6.8        411.0        NaN         6.4   \n",
       "\n",
       "       총질소 mg/L  총인 mg/L  클로로필-a mg/㎥   상류수위(EL.m)   하류수위(EL.m)   유입량(㎥/s)  \\\n",
       "82254     5.909    0.107         58.3         5.44     1.531667  12.753333   \n",
       "82255     5.921    0.106         54.4         5.44     1.530000  12.700000   \n",
       "82256     5.818    0.106         52.3         5.44     1.525000  12.760000   \n",
       "\n",
       "        방류량(㎥/s)  \n",
       "82254  12.743333  \n",
       "82255  12.700000  \n",
       "82256  12.770000  "
      ]
     },
     "execution_count": 36,
     "metadata": {},
     "output_type": "execute_result"
    }
   ],
   "source": [
    "scb_data.tail(3)"
   ]
  },
  {
   "cell_type": "markdown",
   "metadata": {},
   "source": [
    "유량 특성 이름에 공백이 사용되었기에 특성명에 공백 제거"
   ]
  },
  {
   "cell_type": "code",
   "execution_count": 37,
   "metadata": {},
   "outputs": [],
   "source": [
    "scb_data.columns = [x.strip() for x in list(scb_data.columns)]"
   ]
  },
  {
   "cell_type": "markdown",
   "metadata": {},
   "source": [
    "## 특성 선택\n",
    "\n",
    "훈련에 사용하지 않을 특성 삭제"
   ]
  },
  {
   "cell_type": "code",
   "execution_count": 38,
   "metadata": {},
   "outputs": [],
   "source": [
    "scb_data.drop(['수소이온농도', '용존산소 mg/L', '하류수위(EL.m)', '유입량(㎥/s)'], axis=1, inplace=True)"
   ]
  },
  {
   "cell_type": "code",
   "execution_count": 39,
   "metadata": {},
   "outputs": [
    {
     "data": {
      "text/plain": [
       "Index(['시간', '측정소명', '수온 ℃', '전기전도도 μS/cm', '총유기탄소 mg/L', '총질소 mg/L',\n",
       "       '총인 mg/L', '클로로필-a mg/㎥', '상류수위(EL.m)', '방류량(㎥/s)'],\n",
       "      dtype='object')"
      ]
     },
     "execution_count": 39,
     "metadata": {},
     "output_type": "execute_result"
    }
   ],
   "source": [
    "scb_data.columns"
   ]
  },
  {
   "cell_type": "markdown",
   "metadata": {},
   "source": [
    "## 결측치 확인\n",
    "\n",
    "* 특성별 결측치 비율"
   ]
  },
  {
   "cell_type": "code",
   "execution_count": 40,
   "metadata": {},
   "outputs": [
    {
     "data": {
      "text/plain": [
       "시간             0.000000\n",
       "측정소명           0.000000\n",
       "수온 ℃           0.214973\n",
       "전기전도도 μS/cm    0.215580\n",
       "총유기탄소 mg/L     0.286687\n",
       "총질소 mg/L       0.270810\n",
       "총인 mg/L        0.282772\n",
       "클로로필-a mg/㎥    0.235615\n",
       "상류수위(EL.m)     0.000316\n",
       "방류량(㎥/s)       0.000316\n",
       "dtype: float64"
      ]
     },
     "execution_count": 40,
     "metadata": {},
     "output_type": "execute_result"
    }
   ],
   "source": [
    "scb_data.isnull().sum() / len(scb_data)"
   ]
  },
  {
   "cell_type": "markdown",
   "metadata": {},
   "source": [
    "* 결측치 분포 히트맵: 결측치가 한 동안 없는 경우도 존재"
   ]
  },
  {
   "cell_type": "code",
   "execution_count": 41,
   "metadata": {},
   "outputs": [
    {
     "data": {
      "image/png": "[encoded data removed]",
      "text/plain": [
       "<Figure size 720x432 with 1 Axes>"
      ]
     },
     "metadata": {
      "needs_background": "light"
     },
     "output_type": "display_data"
    }
   ],
   "source": [
    "sns.heatmap(scb_data.isnull(), cbar=False)\n",
    "plt.show()"
   ]
  },
  {
   "cell_type": "markdown",
   "metadata": {},
   "source": [
    "수치형 특성 결측치들 사이의 피어슨 상관계수 확인 - 어떤 특성들이 함께 결측되었나를 확인함"
   ]
  },
  {
   "cell_type": "code",
   "execution_count": 42,
   "metadata": {},
   "outputs": [
    {
     "data": {
      "text/html": [
       "<div>\n",
       "<style scoped>\n",
       "    .dataframe tbody tr th:only-of-type {\n",
       "        vertical-align: middle;\n",
       "    }\n",
       "\n",
       "    .dataframe tbody tr th {\n",
       "        vertical-align: top;\n",
       "    }\n",
       "\n",
       "    .dataframe thead th {\n",
       "        text-align: right;\n",
       "    }\n",
       "</style>\n",
       "<table border=\"1\" class=\"dataframe\">\n",
       "  <thead>\n",
       "    <tr style=\"text-align: right;\">\n",
       "      <th></th>\n",
       "      <th>수온 ℃</th>\n",
       "      <th>전기전도도 μS/cm</th>\n",
       "      <th>총유기탄소 mg/L</th>\n",
       "      <th>총질소 mg/L</th>\n",
       "      <th>총인 mg/L</th>\n",
       "      <th>클로로필-a mg/㎥</th>\n",
       "      <th>상류수위(EL.m)</th>\n",
       "      <th>방류량(㎥/s)</th>\n",
       "    </tr>\n",
       "  </thead>\n",
       "  <tbody>\n",
       "    <tr>\n",
       "      <th>수온 ℃</th>\n",
       "      <td>1.000000</td>\n",
       "      <td>0.997627</td>\n",
       "      <td>0.784735</td>\n",
       "      <td>0.771253</td>\n",
       "      <td>0.753176</td>\n",
       "      <td>0.893317</td>\n",
       "      <td>-0.005975</td>\n",
       "      <td>-0.005975</td>\n",
       "    </tr>\n",
       "    <tr>\n",
       "      <th>전기전도도 μS/cm</th>\n",
       "      <td>0.997627</td>\n",
       "      <td>1.000000</td>\n",
       "      <td>0.784629</td>\n",
       "      <td>0.770361</td>\n",
       "      <td>0.752133</td>\n",
       "      <td>0.891512</td>\n",
       "      <td>-0.005996</td>\n",
       "      <td>-0.005996</td>\n",
       "    </tr>\n",
       "    <tr>\n",
       "      <th>총유기탄소 mg/L</th>\n",
       "      <td>0.784735</td>\n",
       "      <td>0.784629</td>\n",
       "      <td>1.000000</td>\n",
       "      <td>0.698539</td>\n",
       "      <td>0.677277</td>\n",
       "      <td>0.726571</td>\n",
       "      <td>-0.005223</td>\n",
       "      <td>-0.005223</td>\n",
       "    </tr>\n",
       "    <tr>\n",
       "      <th>총질소 mg/L</th>\n",
       "      <td>0.771253</td>\n",
       "      <td>0.770361</td>\n",
       "      <td>0.698539</td>\n",
       "      <td>1.000000</td>\n",
       "      <td>0.884298</td>\n",
       "      <td>0.771919</td>\n",
       "      <td>-0.007758</td>\n",
       "      <td>-0.007758</td>\n",
       "    </tr>\n",
       "    <tr>\n",
       "      <th>총인 mg/L</th>\n",
       "      <td>0.753176</td>\n",
       "      <td>0.752133</td>\n",
       "      <td>0.677277</td>\n",
       "      <td>0.884298</td>\n",
       "      <td>1.000000</td>\n",
       "      <td>0.747514</td>\n",
       "      <td>-0.008128</td>\n",
       "      <td>-0.008128</td>\n",
       "    </tr>\n",
       "    <tr>\n",
       "      <th>클로로필-a mg/㎥</th>\n",
       "      <td>0.893317</td>\n",
       "      <td>0.891512</td>\n",
       "      <td>0.726571</td>\n",
       "      <td>0.771919</td>\n",
       "      <td>0.747514</td>\n",
       "      <td>1.000000</td>\n",
       "      <td>-0.006649</td>\n",
       "      <td>-0.006649</td>\n",
       "    </tr>\n",
       "    <tr>\n",
       "      <th>상류수위(EL.m)</th>\n",
       "      <td>-0.005975</td>\n",
       "      <td>-0.005996</td>\n",
       "      <td>-0.005223</td>\n",
       "      <td>-0.007758</td>\n",
       "      <td>-0.008128</td>\n",
       "      <td>-0.006649</td>\n",
       "      <td>1.000000</td>\n",
       "      <td>1.000000</td>\n",
       "    </tr>\n",
       "    <tr>\n",
       "      <th>방류량(㎥/s)</th>\n",
       "      <td>-0.005975</td>\n",
       "      <td>-0.005996</td>\n",
       "      <td>-0.005223</td>\n",
       "      <td>-0.007758</td>\n",
       "      <td>-0.008128</td>\n",
       "      <td>-0.006649</td>\n",
       "      <td>1.000000</td>\n",
       "      <td>1.000000</td>\n",
       "    </tr>\n",
       "  </tbody>\n",
       "</table>\n",
       "</div>"
      ],
      "text/plain": [
       "                 수온 ℃  전기전도도 μS/cm  총유기탄소 mg/L  총질소 mg/L   총인 mg/L  \\\n",
       "수온 ℃         1.000000     0.997627    0.784735  0.771253  0.753176   \n",
       "전기전도도 μS/cm  0.997627     1.000000    0.784629  0.770361  0.752133   \n",
       "총유기탄소 mg/L   0.784735     0.784629    1.000000  0.698539  0.677277   \n",
       "총질소 mg/L     0.771253     0.770361    0.698539  1.000000  0.884298   \n",
       "총인 mg/L      0.753176     0.752133    0.677277  0.884298  1.000000   \n",
       "클로로필-a mg/㎥  0.893317     0.891512    0.726571  0.771919  0.747514   \n",
       "상류수위(EL.m)  -0.005975    -0.005996   -0.005223 -0.007758 -0.008128   \n",
       "방류량(㎥/s)    -0.005975    -0.005996   -0.005223 -0.007758 -0.008128   \n",
       "\n",
       "             클로로필-a mg/㎥  상류수위(EL.m)  방류량(㎥/s)  \n",
       "수온 ℃            0.893317   -0.005975 -0.005975  \n",
       "전기전도도 μS/cm     0.891512   -0.005996 -0.005996  \n",
       "총유기탄소 mg/L      0.726571   -0.005223 -0.005223  \n",
       "총질소 mg/L        0.771919   -0.007758 -0.007758  \n",
       "총인 mg/L         0.747514   -0.008128 -0.008128  \n",
       "클로로필-a mg/㎥     1.000000   -0.006649 -0.006649  \n",
       "상류수위(EL.m)     -0.006649    1.000000  1.000000  \n",
       "방류량(㎥/s)       -0.006649    1.000000  1.000000  "
      ]
     },
     "execution_count": 42,
     "metadata": {},
     "output_type": "execute_result"
    }
   ],
   "source": [
    "scb_data_numeric = scb_data.iloc[:, 2:]\n",
    "scb_data_numeric.isnull().corr(method='pearson')"
   ]
  },
  {
   "cell_type": "markdown",
   "metadata": {},
   "source": [
    "## 클로로필 정규화"
   ]
  },
  {
   "cell_type": "markdown",
   "metadata": {},
   "source": [
    "회귀 모델을 적용하기 전에 클로로필 값이 정규 분포인지 확인. 왼쪽으로 치우친 형태임."
   ]
  },
  {
   "cell_type": "code",
   "execution_count": 43,
   "metadata": {},
   "outputs": [
    {
     "data": {
      "image/png": "[encoded data removed]",
      "text/plain": [
       "<Figure size 720x432 with 1 Axes>"
      ]
     },
     "metadata": {
      "needs_background": "light"
     },
     "output_type": "display_data"
    }
   ],
   "source": [
    "sns.histplot(scb_data['클로로필-a mg/㎥'])\n",
    "plt.show()"
   ]
  },
  {
   "cell_type": "markdown",
   "metadata": {},
   "source": [
    "`np.log1p()`를 사용해 로그변환하면 클로로필 값이 정규 분포를 가짐. "
   ]
  },
  {
   "cell_type": "code",
   "execution_count": 44,
   "metadata": {},
   "outputs": [
    {
     "data": {
      "image/png": "[encoded data removed]",
      "text/plain": [
       "<Figure size 720x432 with 1 Axes>"
      ]
     },
     "metadata": {
      "needs_background": "light"
     },
     "output_type": "display_data"
    }
   ],
   "source": [
    "sns.histplot(np.log1p(scb_data['클로로필-a mg/㎥']))\n",
    "plt.show()"
   ]
  },
  {
   "cell_type": "markdown",
   "metadata": {},
   "source": [
    "클로로필 값을 로그 변환 뒤 `scb_data`에 추가"
   ]
  },
  {
   "cell_type": "code",
   "execution_count": 45,
   "metadata": {},
   "outputs": [],
   "source": [
    "scb_data['log_Chl-a'] = np.log1p(scb_data['클로로필-a mg/㎥'])"
   ]
  },
  {
   "cell_type": "code",
   "execution_count": 46,
   "metadata": {},
   "outputs": [
    {
     "data": {
      "text/html": [
       "<div>\n",
       "<style scoped>\n",
       "    .dataframe tbody tr th:only-of-type {\n",
       "        vertical-align: middle;\n",
       "    }\n",
       "\n",
       "    .dataframe tbody tr th {\n",
       "        vertical-align: top;\n",
       "    }\n",
       "\n",
       "    .dataframe thead th {\n",
       "        text-align: right;\n",
       "    }\n",
       "</style>\n",
       "<table border=\"1\" class=\"dataframe\">\n",
       "  <thead>\n",
       "    <tr style=\"text-align: right;\">\n",
       "      <th></th>\n",
       "      <th>시간</th>\n",
       "      <th>측정소명</th>\n",
       "      <th>수온 ℃</th>\n",
       "      <th>전기전도도 μS/cm</th>\n",
       "      <th>총유기탄소 mg/L</th>\n",
       "      <th>총질소 mg/L</th>\n",
       "      <th>총인 mg/L</th>\n",
       "      <th>클로로필-a mg/㎥</th>\n",
       "      <th>상류수위(EL.m)</th>\n",
       "      <th>방류량(㎥/s)</th>\n",
       "      <th>log_Chl-a</th>\n",
       "    </tr>\n",
       "  </thead>\n",
       "  <tbody>\n",
       "    <tr>\n",
       "      <th>0</th>\n",
       "      <td>2013-01-01 00</td>\n",
       "      <td>용봉</td>\n",
       "      <td>3.9</td>\n",
       "      <td>374.0</td>\n",
       "      <td>2.5</td>\n",
       "      <td>NaN</td>\n",
       "      <td>NaN</td>\n",
       "      <td>7.2</td>\n",
       "      <td>7.5</td>\n",
       "      <td>19.748333</td>\n",
       "      <td>2.104134</td>\n",
       "    </tr>\n",
       "    <tr>\n",
       "      <th>1</th>\n",
       "      <td>2013-01-01 01</td>\n",
       "      <td>용봉</td>\n",
       "      <td>3.9</td>\n",
       "      <td>375.0</td>\n",
       "      <td>2.5</td>\n",
       "      <td>NaN</td>\n",
       "      <td>NaN</td>\n",
       "      <td>6.9</td>\n",
       "      <td>7.5</td>\n",
       "      <td>19.706667</td>\n",
       "      <td>2.066863</td>\n",
       "    </tr>\n",
       "    <tr>\n",
       "      <th>2</th>\n",
       "      <td>2013-01-01 02</td>\n",
       "      <td>용봉</td>\n",
       "      <td>4.0</td>\n",
       "      <td>374.0</td>\n",
       "      <td>2.5</td>\n",
       "      <td>NaN</td>\n",
       "      <td>NaN</td>\n",
       "      <td>6.8</td>\n",
       "      <td>7.5</td>\n",
       "      <td>19.723333</td>\n",
       "      <td>2.054124</td>\n",
       "    </tr>\n",
       "  </tbody>\n",
       "</table>\n",
       "</div>"
      ],
      "text/plain": [
       "              시간 측정소명  수온 ℃  전기전도도 μS/cm  총유기탄소 mg/L  총질소 mg/L  총인 mg/L  \\\n",
       "0  2013-01-01 00   용봉   3.9        374.0         2.5       NaN      NaN   \n",
       "1  2013-01-01 01   용봉   3.9        375.0         2.5       NaN      NaN   \n",
       "2  2013-01-01 02   용봉   4.0        374.0         2.5       NaN      NaN   \n",
       "\n",
       "   클로로필-a mg/㎥  상류수위(EL.m)   방류량(㎥/s)  log_Chl-a  \n",
       "0          7.2         7.5  19.748333   2.104134  \n",
       "1          6.9         7.5  19.706667   2.066863  \n",
       "2          6.8         7.5  19.723333   2.054124  "
      ]
     },
     "execution_count": 46,
     "metadata": {},
     "output_type": "execute_result"
    }
   ],
   "source": [
    "scb_data.head(3)"
   ]
  },
  {
   "cell_type": "code",
   "execution_count": 47,
   "metadata": {},
   "outputs": [],
   "source": [
    "scb_df = scb_data.copy()"
   ]
  },
  {
   "cell_type": "markdown",
   "metadata": {},
   "source": [
    "## 결측치 보간법"
   ]
  },
  {
   "cell_type": "code",
   "execution_count": 48,
   "metadata": {},
   "outputs": [],
   "source": [
    "from datetime import datetime"
   ]
  },
  {
   "cell_type": "markdown",
   "metadata": {},
   "source": [
    "시간 특성을 date time 자료형으로 변환"
   ]
  },
  {
   "cell_type": "code",
   "execution_count": 49,
   "metadata": {},
   "outputs": [],
   "source": [
    "scb_df['시간'] = scb_df['시간'].transform(lambda x: datetime.strptime(x, '%Y-%m-%d %H'))"
   ]
  },
  {
   "cell_type": "markdown",
   "metadata": {},
   "source": [
    "결측치는 양방향 12시간 선형 보간법으로 대체. 결측 구간별 최대 24시간의 결측치 대체.      \n",
    "예) 결측치가 36개인 구간이 있다면 처음~12개와 25~36개만 결측치 대체.  "
   ]
  },
  {
   "cell_type": "code",
   "execution_count": 50,
   "metadata": {},
   "outputs": [],
   "source": [
    "scb_df = scb_df.copy().set_index('시간').interpolate(method='time', limit = 12, limit_direction='both')"
   ]
  },
  {
   "cell_type": "markdown",
   "metadata": {},
   "source": [
    "결측치 제거"
   ]
  },
  {
   "cell_type": "code",
   "execution_count": 51,
   "metadata": {},
   "outputs": [],
   "source": [
    "scb_df.dropna(inplace=True)"
   ]
  },
  {
   "cell_type": "code",
   "execution_count": 52,
   "metadata": {},
   "outputs": [
    {
     "name": "stdout",
     "output_type": "stream",
     "text": [
      "<class 'pandas.core.frame.DataFrame'>\n",
      "DatetimeIndex: 59058 entries, 2013-03-29 04:00:00 to 2022-05-23 23:00:00\n",
      "Data columns (total 10 columns):\n",
      " #   Column       Non-Null Count  Dtype  \n",
      "---  ------       --------------  -----  \n",
      " 0   측정소명         59058 non-null  object \n",
      " 1   수온 ℃         59058 non-null  float64\n",
      " 2   전기전도도 μS/cm  59058 non-null  float64\n",
      " 3   총유기탄소 mg/L   59058 non-null  float64\n",
      " 4   총질소 mg/L     59058 non-null  float64\n",
      " 5   총인 mg/L      59058 non-null  float64\n",
      " 6   클로로필-a mg/㎥  59058 non-null  float64\n",
      " 7   상류수위(EL.m)   59058 non-null  float64\n",
      " 8   방류량(㎥/s)     59058 non-null  float64\n",
      " 9   log_Chl-a    59058 non-null  float64\n",
      "dtypes: float64(9), object(1)\n",
      "memory usage: 5.0+ MB\n"
     ]
    }
   ],
   "source": [
    "scb_df.info()"
   ]
  },
  {
   "cell_type": "markdown",
   "metadata": {},
   "source": [
    "## 훈련 특성과 타깃  \n",
    "\n",
    "log_Chl-a 은 타깃. 측정소명과 클로로필을 제외한 특성을 이용."
   ]
  },
  {
   "cell_type": "code",
   "execution_count": 53,
   "metadata": {},
   "outputs": [],
   "source": [
    "remove_feature = ['측정소명', '클로로필-a mg/㎥', 'log_Chl-a']"
   ]
  },
  {
   "cell_type": "code",
   "execution_count": 54,
   "metadata": {},
   "outputs": [],
   "source": [
    "col = list(scb_df.columns)\n",
    "\n",
    "for i in remove_feature:\n",
    "    col.remove(i)"
   ]
  },
  {
   "cell_type": "code",
   "execution_count": 55,
   "metadata": {},
   "outputs": [
    {
     "name": "stdout",
     "output_type": "stream",
     "text": [
      "['수온 ℃', '전기전도도 μS/cm', '총유기탄소 mg/L', '총질소 mg/L', '총인 mg/L', '상류수위(EL.m)', '방류량(㎥/s)']\n"
     ]
    }
   ],
   "source": [
    "print(col)"
   ]
  },
  {
   "cell_type": "markdown",
   "metadata": {},
   "source": [
    "## 모델 훈련 - RandomForest"
   ]
  },
  {
   "cell_type": "code",
   "execution_count": 56,
   "metadata": {},
   "outputs": [],
   "source": [
    "X_train, X_test, y_train, y_test = train_test_split(scb_df.loc[:, col], scb_df['log_Chl-a'], random_state=42)\n",
    "rf_reg = RandomForestRegressor(random_state=42, oob_score=True, n_jobs=-1)\n",
    "\n",
    "parameters = {'n_estimators':[100, 500], 'max_depth':[5, 10, 15], 'min_samples_leaf':[8, 12, 16]}"
   ]
  },
  {
   "cell_type": "code",
   "execution_count": 136,
   "metadata": {},
   "outputs": [],
   "source": [
    "rf_grid = GridSearchCV(rf_reg, param_grid=parameters, cv=3, n_jobs=-1, verbose=5)"
   ]
  },
  {
   "cell_type": "code",
   "execution_count": 137,
   "metadata": {},
   "outputs": [
    {
     "name": "stdout",
     "output_type": "stream",
     "text": [
      "Fitting 3 folds for each of 18 candidates, totalling 54 fits\n"
     ]
    },
    {
     "data": {
      "text/plain": [
       "GridSearchCV(cv=3,\n",
       "             estimator=RandomForestRegressor(n_jobs=-1, oob_score=True,\n",
       "                                             random_state=42),\n",
       "             n_jobs=-1,\n",
       "             param_grid={'max_depth': [5, 10, 15],\n",
       "                         'min_samples_leaf': [8, 12, 16],\n",
       "                         'n_estimators': [100, 500]},\n",
       "             verbose=5)"
      ]
     },
     "execution_count": 137,
     "metadata": {},
     "output_type": "execute_result"
    }
   ],
   "source": [
    "rf_grid.fit(X_train, y_train)"
   ]
  },
  {
   "cell_type": "code",
   "execution_count": 138,
   "metadata": {},
   "outputs": [],
   "source": [
    "scores_df = pd.DataFrame(rf_grid.cv_results_)"
   ]
  },
  {
   "cell_type": "code",
   "execution_count": 139,
   "metadata": {},
   "outputs": [
    {
     "data": {
      "text/html": [
       "<div>\n",
       "<style scoped>\n",
       "    .dataframe tbody tr th:only-of-type {\n",
       "        vertical-align: middle;\n",
       "    }\n",
       "\n",
       "    .dataframe tbody tr th {\n",
       "        vertical-align: top;\n",
       "    }\n",
       "\n",
       "    .dataframe thead th {\n",
       "        text-align: right;\n",
       "    }\n",
       "</style>\n",
       "<table border=\"1\" class=\"dataframe\">\n",
       "  <thead>\n",
       "    <tr style=\"text-align: right;\">\n",
       "      <th></th>\n",
       "      <th>params</th>\n",
       "      <th>mean_test_score</th>\n",
       "      <th>rank_test_score</th>\n",
       "    </tr>\n",
       "  </thead>\n",
       "  <tbody>\n",
       "    <tr>\n",
       "      <th>13</th>\n",
       "      <td>{'max_depth': 15, 'min_samples_leaf': 8, 'n_es...</td>\n",
       "      <td>0.882534</td>\n",
       "      <td>1</td>\n",
       "    </tr>\n",
       "    <tr>\n",
       "      <th>12</th>\n",
       "      <td>{'max_depth': 15, 'min_samples_leaf': 8, 'n_es...</td>\n",
       "      <td>0.881956</td>\n",
       "      <td>2</td>\n",
       "    </tr>\n",
       "    <tr>\n",
       "      <th>15</th>\n",
       "      <td>{'max_depth': 15, 'min_samples_leaf': 12, 'n_e...</td>\n",
       "      <td>0.865974</td>\n",
       "      <td>3</td>\n",
       "    </tr>\n",
       "    <tr>\n",
       "      <th>14</th>\n",
       "      <td>{'max_depth': 15, 'min_samples_leaf': 12, 'n_e...</td>\n",
       "      <td>0.865447</td>\n",
       "      <td>4</td>\n",
       "    </tr>\n",
       "    <tr>\n",
       "      <th>17</th>\n",
       "      <td>{'max_depth': 15, 'min_samples_leaf': 16, 'n_e...</td>\n",
       "      <td>0.851648</td>\n",
       "      <td>5</td>\n",
       "    </tr>\n",
       "  </tbody>\n",
       "</table>\n",
       "</div>"
      ],
      "text/plain": [
       "                                               params  mean_test_score  \\\n",
       "13  {'max_depth': 15, 'min_samples_leaf': 8, 'n_es...         0.882534   \n",
       "12  {'max_depth': 15, 'min_samples_leaf': 8, 'n_es...         0.881956   \n",
       "15  {'max_depth': 15, 'min_samples_leaf': 12, 'n_e...         0.865974   \n",
       "14  {'max_depth': 15, 'min_samples_leaf': 12, 'n_e...         0.865447   \n",
       "17  {'max_depth': 15, 'min_samples_leaf': 16, 'n_e...         0.851648   \n",
       "\n",
       "    rank_test_score  \n",
       "13                1  \n",
       "12                2  \n",
       "15                3  \n",
       "14                4  \n",
       "17                5  "
      ]
     },
     "execution_count": 139,
     "metadata": {},
     "output_type": "execute_result"
    }
   ],
   "source": [
    "scores_df.sort_values(by=['rank_test_score'], inplace=True)\n",
    "scores_df[['params', 'mean_test_score', 'rank_test_score']].head()"
   ]
  },
  {
   "cell_type": "code",
   "execution_count": 140,
   "metadata": {},
   "outputs": [
    {
     "data": {
      "text/plain": [
       "{'max_depth': 15, 'min_samples_leaf': 8, 'n_estimators': 500}"
      ]
     },
     "execution_count": 140,
     "metadata": {},
     "output_type": "execute_result"
    }
   ],
   "source": [
    "rf_grid.best_params_"
   ]
  },
  {
   "cell_type": "code",
   "execution_count": 141,
   "metadata": {},
   "outputs": [],
   "source": [
    "estimator = rf_grid.best_estimator_"
   ]
  },
  {
   "cell_type": "markdown",
   "metadata": {},
   "source": [
    "최신 모델 저장"
   ]
  },
  {
   "cell_type": "code",
   "execution_count": 142,
   "metadata": {},
   "outputs": [
    {
     "data": {
      "text/plain": [
       "['승촌보_rf_전체.pkl']"
      ]
     },
     "execution_count": 142,
     "metadata": {},
     "output_type": "execute_result"
    }
   ],
   "source": [
    "joblib.dump(estimator, \"승촌보_rf_전체.pkl\")\n"
   ]
  },
  {
   "cell_type": "markdown",
   "metadata": {},
   "source": [
    "저장된 모델 다시 불러오기"
   ]
  },
  {
   "cell_type": "code",
   "execution_count": 57,
   "metadata": {},
   "outputs": [],
   "source": [
    "estimator = joblib.load(\"승촌보_rf_전체.pkl\")"
   ]
  },
  {
   "cell_type": "code",
   "execution_count": 58,
   "metadata": {},
   "outputs": [
    {
     "data": {
      "text/plain": [
       "0.902518429674803"
      ]
     },
     "execution_count": 58,
     "metadata": {},
     "output_type": "execute_result"
    }
   ],
   "source": [
    "estimator.oob_score_"
   ]
  },
  {
   "cell_type": "code",
   "execution_count": 59,
   "metadata": {},
   "outputs": [],
   "source": [
    "pred = estimator.predict(X_test)"
   ]
  },
  {
   "cell_type": "code",
   "execution_count": 60,
   "metadata": {},
   "outputs": [
    {
     "name": "stdout",
     "output_type": "stream",
     "text": [
      "0.22 수온 ℃\n",
      "0.19 전기전도도 μS/cm\n",
      "0.06 총유기탄소 mg/L\n",
      "0.07 총질소 mg/L\n",
      "0.06 총인 mg/L\n",
      "0.15 상류수위(EL.m)\n",
      "0.25 방류량(㎥/s)\n"
     ]
    }
   ],
   "source": [
    "for score, name in zip(estimator.feature_importances_, col):\n",
    "    print(round(score, 2), name)"
   ]
  },
  {
   "cell_type": "code",
   "execution_count": 61,
   "metadata": {},
   "outputs": [
    {
     "data": {
      "image/png": "[encoded data removed]",
      "text/plain": [
       "<Figure size 720x432 with 1 Axes>"
      ]
     },
     "metadata": {
      "needs_background": "light"
     },
     "output_type": "display_data"
    }
   ],
   "source": [
    "feature_series = pd.Series(data = estimator.feature_importances_, index = col)\n",
    "feature_series = feature_series.sort_values(ascending = False)\n",
    "sns.barplot(x = feature_series[:10], y = feature_series.index[:10], color = 'gray')\n",
    "plt.show()"
   ]
  },
  {
   "cell_type": "code",
   "execution_count": 62,
   "metadata": {},
   "outputs": [
    {
     "data": {
      "text/plain": [
       "방류량(㎥/s)       0.248706\n",
       "수온 ℃           0.215017\n",
       "전기전도도 μS/cm    0.192643\n",
       "상류수위(EL.m)     0.145838\n",
       "총질소 mg/L       0.073749\n",
       "총인 mg/L        0.064111\n",
       "총유기탄소 mg/L     0.059936\n",
       "dtype: float64"
      ]
     },
     "execution_count": 62,
     "metadata": {},
     "output_type": "execute_result"
    }
   ],
   "source": [
    "feature_series[:10]"
   ]
  },
  {
   "cell_type": "code",
   "execution_count": 64,
   "metadata": {},
   "outputs": [
    {
     "name": "stdout",
     "output_type": "stream",
     "text": [
      "score : 0.9038319082324255\n"
     ]
    }
   ],
   "source": [
    "print('score :', estimator.score(X_test, y_test))\n"
   ]
  },
  {
   "cell_type": "markdown",
   "metadata": {},
   "source": [
    "## 모델 훈련 - GradientBoosting"
   ]
  },
  {
   "cell_type": "code",
   "execution_count": 65,
   "metadata": {},
   "outputs": [],
   "source": [
    "X_train, X_test, y_train, y_test = train_test_split(scb_df.loc[:, col], scb_df['log_Chl-a'], random_state=42)\n",
    "gb_reg = GradientBoostingRegressor(random_state=42)\n",
    "\n",
    "parameters = {'max_depth':[5, 10, 15], 'learning_rate':[0.05, 0.1, 0.2]}"
   ]
  },
  {
   "cell_type": "code",
   "execution_count": 109,
   "metadata": {},
   "outputs": [],
   "source": [
    "gb_grid = GridSearchCV(gb_reg, param_grid=parameters, cv=3, verbose=5)"
   ]
  },
  {
   "cell_type": "code",
   "execution_count": 111,
   "metadata": {},
   "outputs": [
    {
     "name": "stdout",
     "output_type": "stream",
     "text": [
      "Fitting 3 folds for each of 9 candidates, totalling 27 fits\n",
      "[CV 1/3] END ...learning_rate=0.05, max_depth=5;, score=0.727 total time=   5.5s\n",
      "[CV 2/3] END ...learning_rate=0.05, max_depth=5;, score=0.736 total time=   6.1s\n",
      "[CV 3/3] END ...learning_rate=0.05, max_depth=5;, score=0.729 total time=   6.6s\n",
      "[CV 1/3] END ..learning_rate=0.05, max_depth=10;, score=0.901 total time=  12.6s\n",
      "[CV 2/3] END ..learning_rate=0.05, max_depth=10;, score=0.904 total time=  10.9s\n",
      "[CV 3/3] END ..learning_rate=0.05, max_depth=10;, score=0.902 total time=  10.3s\n",
      "[CV 1/3] END ..learning_rate=0.05, max_depth=15;, score=0.926 total time=  14.8s\n",
      "[CV 2/3] END ..learning_rate=0.05, max_depth=15;, score=0.927 total time=  14.8s\n",
      "[CV 3/3] END ..learning_rate=0.05, max_depth=15;, score=0.926 total time=  15.6s\n",
      "[CV 1/3] END ....learning_rate=0.1, max_depth=5;, score=0.762 total time=   5.3s\n",
      "[CV 2/3] END ....learning_rate=0.1, max_depth=5;, score=0.774 total time=   5.3s\n",
      "[CV 3/3] END ....learning_rate=0.1, max_depth=5;, score=0.763 total time=   5.3s\n",
      "[CV 1/3] END ...learning_rate=0.1, max_depth=10;, score=0.918 total time=  10.6s\n",
      "[CV 2/3] END ...learning_rate=0.1, max_depth=10;, score=0.914 total time=  10.5s\n",
      "[CV 3/3] END ...learning_rate=0.1, max_depth=10;, score=0.916 total time=  10.5s\n",
      "[CV 1/3] END ...learning_rate=0.1, max_depth=15;, score=0.927 total time=  15.2s\n",
      "[CV 2/3] END ...learning_rate=0.1, max_depth=15;, score=0.927 total time=  15.1s\n",
      "[CV 3/3] END ...learning_rate=0.1, max_depth=15;, score=0.925 total time=  15.3s\n",
      "[CV 1/3] END ....learning_rate=0.2, max_depth=5;, score=0.803 total time=   5.3s\n",
      "[CV 2/3] END ....learning_rate=0.2, max_depth=5;, score=0.816 total time=   5.4s\n",
      "[CV 3/3] END ....learning_rate=0.2, max_depth=5;, score=0.808 total time=   5.3s\n",
      "[CV 1/3] END ...learning_rate=0.2, max_depth=10;, score=0.924 total time=  10.5s\n",
      "[CV 2/3] END ...learning_rate=0.2, max_depth=10;, score=0.924 total time=  10.6s\n",
      "[CV 3/3] END ...learning_rate=0.2, max_depth=10;, score=0.923 total time=  10.5s\n",
      "[CV 1/3] END ...learning_rate=0.2, max_depth=15;, score=0.928 total time=  15.3s\n",
      "[CV 2/3] END ...learning_rate=0.2, max_depth=15;, score=0.927 total time=  15.2s\n",
      "[CV 3/3] END ...learning_rate=0.2, max_depth=15;, score=0.923 total time=  16.7s\n"
     ]
    },
    {
     "data": {
      "text/plain": [
       "GridSearchCV(cv=3, estimator=GradientBoostingRegressor(random_state=42),\n",
       "             param_grid={'learning_rate': [0.05, 0.1, 0.2],\n",
       "                         'max_depth': [5, 10, 15]},\n",
       "             verbose=5)"
      ]
     },
     "execution_count": 111,
     "metadata": {},
     "output_type": "execute_result"
    }
   ],
   "source": [
    "gb_grid.fit(X_train, y_train)"
   ]
  },
  {
   "cell_type": "code",
   "execution_count": 112,
   "metadata": {},
   "outputs": [],
   "source": [
    "scores_df = pd.DataFrame(gb_grid.cv_results_)"
   ]
  },
  {
   "cell_type": "code",
   "execution_count": 113,
   "metadata": {},
   "outputs": [
    {
     "data": {
      "text/html": [
       "<div>\n",
       "<style scoped>\n",
       "    .dataframe tbody tr th:only-of-type {\n",
       "        vertical-align: middle;\n",
       "    }\n",
       "\n",
       "    .dataframe tbody tr th {\n",
       "        vertical-align: top;\n",
       "    }\n",
       "\n",
       "    .dataframe thead th {\n",
       "        text-align: right;\n",
       "    }\n",
       "</style>\n",
       "<table border=\"1\" class=\"dataframe\">\n",
       "  <thead>\n",
       "    <tr style=\"text-align: right;\">\n",
       "      <th></th>\n",
       "      <th>params</th>\n",
       "      <th>mean_test_score</th>\n",
       "      <th>rank_test_score</th>\n",
       "    </tr>\n",
       "  </thead>\n",
       "  <tbody>\n",
       "    <tr>\n",
       "      <th>2</th>\n",
       "      <td>{'learning_rate': 0.05, 'max_depth': 15}</td>\n",
       "      <td>0.926356</td>\n",
       "      <td>1</td>\n",
       "    </tr>\n",
       "    <tr>\n",
       "      <th>5</th>\n",
       "      <td>{'learning_rate': 0.1, 'max_depth': 15}</td>\n",
       "      <td>0.926246</td>\n",
       "      <td>2</td>\n",
       "    </tr>\n",
       "    <tr>\n",
       "      <th>8</th>\n",
       "      <td>{'learning_rate': 0.2, 'max_depth': 15}</td>\n",
       "      <td>0.925979</td>\n",
       "      <td>3</td>\n",
       "    </tr>\n",
       "    <tr>\n",
       "      <th>7</th>\n",
       "      <td>{'learning_rate': 0.2, 'max_depth': 10}</td>\n",
       "      <td>0.923528</td>\n",
       "      <td>4</td>\n",
       "    </tr>\n",
       "    <tr>\n",
       "      <th>4</th>\n",
       "      <td>{'learning_rate': 0.1, 'max_depth': 10}</td>\n",
       "      <td>0.916023</td>\n",
       "      <td>5</td>\n",
       "    </tr>\n",
       "  </tbody>\n",
       "</table>\n",
       "</div>"
      ],
      "text/plain": [
       "                                     params  mean_test_score  rank_test_score\n",
       "2  {'learning_rate': 0.05, 'max_depth': 15}         0.926356                1\n",
       "5   {'learning_rate': 0.1, 'max_depth': 15}         0.926246                2\n",
       "8   {'learning_rate': 0.2, 'max_depth': 15}         0.925979                3\n",
       "7   {'learning_rate': 0.2, 'max_depth': 10}         0.923528                4\n",
       "4   {'learning_rate': 0.1, 'max_depth': 10}         0.916023                5"
      ]
     },
     "execution_count": 113,
     "metadata": {},
     "output_type": "execute_result"
    }
   ],
   "source": [
    "scores_df.sort_values(by=['rank_test_score'], inplace=True)\n",
    "scores_df[['params', 'mean_test_score', 'rank_test_score']].head()"
   ]
  },
  {
   "cell_type": "code",
   "execution_count": 114,
   "metadata": {},
   "outputs": [
    {
     "data": {
      "text/plain": [
       "{'learning_rate': 0.05, 'max_depth': 15}"
      ]
     },
     "execution_count": 114,
     "metadata": {},
     "output_type": "execute_result"
    }
   ],
   "source": [
    "gb_grid.best_params_"
   ]
  },
  {
   "cell_type": "code",
   "execution_count": 115,
   "metadata": {},
   "outputs": [],
   "source": [
    "estimator = gb_grid.best_estimator_"
   ]
  },
  {
   "cell_type": "markdown",
   "metadata": {},
   "source": [
    "**최신 모델 저장**"
   ]
  },
  {
   "cell_type": "code",
   "execution_count": 116,
   "metadata": {},
   "outputs": [],
   "source": [
    "import joblib"
   ]
  },
  {
   "cell_type": "code",
   "execution_count": 117,
   "metadata": {},
   "outputs": [
    {
     "data": {
      "text/plain": [
       "['승촌보_gb_전체.pkl']"
      ]
     },
     "execution_count": 117,
     "metadata": {},
     "output_type": "execute_result"
    }
   ],
   "source": [
    "joblib.dump(estimator, \"승촌보_gb_전체.pkl\")"
   ]
  },
  {
   "cell_type": "markdown",
   "metadata": {},
   "source": [
    "저장된 모델을 다시 불러오기"
   ]
  },
  {
   "cell_type": "code",
   "execution_count": 66,
   "metadata": {},
   "outputs": [],
   "source": [
    "estimator = joblib.load(\"승촌보_gb_전체.pkl\")"
   ]
  },
  {
   "cell_type": "code",
   "execution_count": 67,
   "metadata": {},
   "outputs": [],
   "source": [
    "pred = estimator.predict(X_test)"
   ]
  },
  {
   "cell_type": "code",
   "execution_count": 68,
   "metadata": {},
   "outputs": [
    {
     "name": "stdout",
     "output_type": "stream",
     "text": [
      "0.21 수온 ℃\n",
      "0.2 전기전도도 μS/cm\n",
      "0.07 총유기탄소 mg/L\n",
      "0.08 총질소 mg/L\n",
      "0.07 총인 mg/L\n",
      "0.14 상류수위(EL.m)\n",
      "0.23 방류량(㎥/s)\n"
     ]
    }
   ],
   "source": [
    "for score, name in zip(estimator.feature_importances_, col):\n",
    "    print(round(score, 2), name)"
   ]
  },
  {
   "cell_type": "code",
   "execution_count": 69,
   "metadata": {},
   "outputs": [
    {
     "data": {
      "image/png": "[encoded data removed]",
      "text/plain": [
       "<Figure size 720x432 with 1 Axes>"
      ]
     },
     "metadata": {
      "needs_background": "light"
     },
     "output_type": "display_data"
    }
   ],
   "source": [
    "feature_series = pd.Series(data = estimator.feature_importances_, index = col)\n",
    "feature_series = feature_series.sort_values(ascending = False)\n",
    "sns.barplot(x = feature_series[:10], y = feature_series.index[:10], color = 'gray')\n",
    "plt.show()"
   ]
  },
  {
   "cell_type": "code",
   "execution_count": 70,
   "metadata": {},
   "outputs": [
    {
     "data": {
      "text/plain": [
       "방류량(㎥/s)       0.233123\n",
       "수온 ℃           0.210120\n",
       "전기전도도 μS/cm    0.195613\n",
       "상류수위(EL.m)     0.139688\n",
       "총질소 mg/L       0.081668\n",
       "총유기탄소 mg/L     0.071223\n",
       "총인 mg/L        0.068566\n",
       "dtype: float64"
      ]
     },
     "execution_count": 70,
     "metadata": {},
     "output_type": "execute_result"
    }
   ],
   "source": [
    "feature_series[:10]"
   ]
  },
  {
   "cell_type": "code",
   "execution_count": 71,
   "metadata": {},
   "outputs": [
    {
     "name": "stdout",
     "output_type": "stream",
     "text": [
      "score : 0.9461462695967687\n"
     ]
    }
   ],
   "source": [
    "print('score :', estimator.score(X_test, y_test))\n"
   ]
  }
 ],
 "metadata": {
  "kernelspec": {
   "display_name": "Python 3 (ipykernel)",
   "language": "python",
   "name": "python3"
  },
  "language_info": {
   "codemirror_mode": {
    "name": "ipython",
    "version": 3
   },
   "file_extension": ".py",
   "mimetype": "text/x-python",
   "name": "python",
   "nbconvert_exporter": "python",
   "pygments_lexer": "ipython3",
   "version": "3.9.7"
  },
  "vscode": {
   "interpreter": {
    "hash": "e6b9563c2d5f39a0f14e96863a92c28173db3617b8e00a6322a2465c297cc121"
   }
  }
 },
 "nbformat": 4,
 "nbformat_minor": 2
}
