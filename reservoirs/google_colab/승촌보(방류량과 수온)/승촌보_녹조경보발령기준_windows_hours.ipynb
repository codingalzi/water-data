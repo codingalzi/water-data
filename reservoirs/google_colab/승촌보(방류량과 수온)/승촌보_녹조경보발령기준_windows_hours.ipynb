{
 "cells": [
  {
   "cell_type": "markdown",
   "id": "b6f2a40d",
   "metadata": {},
   "source": [
    "## 필요한 모듈 임포트"
   ]
  },
  {
   "cell_type": "code",
   "execution_count": 1,
   "id": "db986dc9",
   "metadata": {},
   "outputs": [],
   "source": [
    "import numpy as np\n",
    "import pandas as pd\n",
    "\n",
    "import matplotlib.pyplot as plt\n",
    "import seaborn as sns\n",
    "\n",
    "import joblib\n",
    "\n",
    "from datetime import datetime\n",
    "import datetime as dt"
   ]
  },
  {
   "cell_type": "code",
   "execution_count": 2,
   "id": "c9f103a4",
   "metadata": {},
   "outputs": [],
   "source": [
    "from sklearn.model_selection import train_test_split\n",
    "from sklearn.model_selection import GridSearchCV\n",
    "\n",
    "from sklearn.preprocessing import StandardScaler\n",
    "\n",
    "from sklearn.ensemble import RandomForestRegressor, GradientBoostingRegressor\n",
    "\n",
    "from sklearn.tree import DecisionTreeRegressor\n",
    "\n",
    "from sklearn.linear_model import ElasticNet\n",
    "\n",
    "from sklearn.metrics import mean_squared_error"
   ]
  },
  {
   "cell_type": "code",
   "execution_count": 3,
   "id": "68d015e4",
   "metadata": {},
   "outputs": [],
   "source": [
    "# 운영체제에 따른 한글 지원을 설정한다. 지원되는 환경은 윈도우, 우분투, 구글 코랩 등이다.\n",
    "\n",
    "import platform\n",
    "plt.rc('figure', figsize=(10, 6))  # 그림 크기 설정\n",
    "if platform.system() == 'Windows': # 윈도우\n",
    "    from matplotlib import font_manager, rc\n",
    "    font_path = \"C:/Windows/Fonts/gulim.ttc\"\n",
    "    font = font_manager.FontProperties(fname=font_path).get_name()\n",
    "    rc('font', family=font)\n",
    "elif platform.system() == 'Linux': # 우분투 또는 구글 코랩\n",
    "    # !sudo apt-get install -y fonts-nanum*\n",
    "    # !fc-cache -fv\n",
    "    \n",
    "    applyfont = \"NanumBarunGothic\"\n",
    "    import matplotlib.font_manager as fm\n",
    "    if not any(map(lambda ft: ft.name == applyfont, fm.fontManager.ttflist)):\n",
    "        fm.fontManager.addfont(\"/usr/share/fonts/truetype/nanum/NanumBarunGothic.ttf\")\n",
    "    plt.rc(\"font\", family=applyfont)\n",
    "    plt.rc(\"axes\", unicode_minus=False)"
   ]
  },
  {
   "cell_type": "markdown",
   "id": "c1380141",
   "metadata": {},
   "source": [
    "## 승촌보 수질 데이터 불러오기"
   ]
  },
  {
   "cell_type": "markdown",
   "id": "e2fb0858",
   "metadata": {},
   "source": [
    "보 이름"
   ]
  },
  {
   "cell_type": "code",
   "execution_count": 4,
   "id": "62d32771",
   "metadata": {},
   "outputs": [],
   "source": [
    "reservoir = 'Seungchonbo'"
   ]
  },
  {
   "cell_type": "markdown",
   "id": "86b02d16",
   "metadata": {},
   "source": [
    "데이터 저장소"
   ]
  },
  {
   "cell_type": "code",
   "execution_count": 5,
   "id": "e57fbebc",
   "metadata": {},
   "outputs": [],
   "source": [
    "base_path = \"https://github.com/codingalzi/water-data/raw/master/reservoirs/\""
   ]
  },
  {
   "cell_type": "markdown",
   "id": "1ac42783",
   "metadata": {},
   "source": [
    "승촌보 데이터 불러오기. `'측정일/월'` 특성은 date time으로 파싱."
   ]
  },
  {
   "cell_type": "code",
   "execution_count": 6,
   "id": "6f7ca4b2",
   "metadata": {},
   "outputs": [],
   "source": [
    "data_file = reservoir+\".xlsx\"\n",
    "scb_yearly = pd.read_excel(base_path+data_file, \n",
    "                            skiprows=0, \n",
    "                            header=1, \n",
    "                            sheet_name=None,\n",
    "                            na_values='ND',\n",
    "                            parse_dates=[0])  # 측정일/월 특성을 datetime으로 파싱"
   ]
  },
  {
   "cell_type": "markdown",
   "id": "accd13c0",
   "metadata": {},
   "source": [
    "### 연도별 수질 데이터 통합"
   ]
  },
  {
   "cell_type": "markdown",
   "id": "0f8ee864",
   "metadata": {},
   "source": [
    "2012년도 데이터를 제외한 모든 데이터 통합 함수"
   ]
  },
  {
   "cell_type": "code",
   "execution_count": 8,
   "id": "badef293",
   "metadata": {},
   "outputs": [],
   "source": [
    "# 반환값은 데이터프레임\n",
    "\n",
    "def concat_yearly_df(df_yearly_dict):\n",
    "    df_concat = pd.DataFrame()\n",
    "\n",
    "    for year in list(df_yearly_dict.keys())[1:]:\n",
    "        df_concat = pd.concat([df_concat, df_yearly_dict[year]])\n",
    "\n",
    "    return df_concat"
   ]
  },
  {
   "cell_type": "code",
   "execution_count": 10,
   "id": "4168d2e2",
   "metadata": {},
   "outputs": [],
   "source": [
    "# 2013년도부터 통합\n",
    "scb_yearly_df13 = concat_yearly_df(scb_yearly)"
   ]
  },
  {
   "cell_type": "code",
   "execution_count": 12,
   "id": "00c25b4e",
   "metadata": {},
   "outputs": [],
   "source": [
    "scb_yearly_df13 = scb_yearly_df13.set_index('측정일/월')"
   ]
  },
  {
   "cell_type": "code",
   "execution_count": 14,
   "id": "f25d1474",
   "metadata": {},
   "outputs": [],
   "source": [
    "scb_yearly_df13.index.name = 'date/time'"
   ]
  },
  {
   "cell_type": "code",
   "execution_count": 15,
   "id": "d807cafe",
   "metadata": {},
   "outputs": [],
   "source": [
    "scb_yearly_df13 = scb_yearly_df13.sort_index()"
   ]
  },
  {
   "cell_type": "code",
   "execution_count": 16,
   "id": "f9f10755",
   "metadata": {},
   "outputs": [
    {
     "data": {
      "text/html": [
       "<div>\n",
       "<style scoped>\n",
       "    .dataframe tbody tr th:only-of-type {\n",
       "        vertical-align: middle;\n",
       "    }\n",
       "\n",
       "    .dataframe tbody tr th {\n",
       "        vertical-align: top;\n",
       "    }\n",
       "\n",
       "    .dataframe thead th {\n",
       "        text-align: right;\n",
       "    }\n",
       "</style>\n",
       "<table border=\"1\" class=\"dataframe\">\n",
       "  <thead>\n",
       "    <tr style=\"text-align: right;\">\n",
       "      <th></th>\n",
       "      <th>측정소명</th>\n",
       "      <th>수온 ℃</th>\n",
       "      <th>수소이온농도</th>\n",
       "      <th>전기전도도 μS/cm</th>\n",
       "      <th>용존산소 mg/L</th>\n",
       "      <th>총유기탄소 mg/L</th>\n",
       "      <th>총질소 mg/L</th>\n",
       "      <th>총인 mg/L</th>\n",
       "      <th>클로로필-a mg/㎥</th>\n",
       "    </tr>\n",
       "    <tr>\n",
       "      <th>date/time</th>\n",
       "      <th></th>\n",
       "      <th></th>\n",
       "      <th></th>\n",
       "      <th></th>\n",
       "      <th></th>\n",
       "      <th></th>\n",
       "      <th></th>\n",
       "      <th></th>\n",
       "      <th></th>\n",
       "    </tr>\n",
       "  </thead>\n",
       "  <tbody>\n",
       "    <tr>\n",
       "      <th>2013-01-01 00:00:00</th>\n",
       "      <td>용봉</td>\n",
       "      <td>3.9</td>\n",
       "      <td>6.9</td>\n",
       "      <td>374.0</td>\n",
       "      <td>11.4</td>\n",
       "      <td>2.5</td>\n",
       "      <td>NaN</td>\n",
       "      <td>NaN</td>\n",
       "      <td>7.2</td>\n",
       "    </tr>\n",
       "    <tr>\n",
       "      <th>2013-01-01 01:00:00</th>\n",
       "      <td>용봉</td>\n",
       "      <td>3.9</td>\n",
       "      <td>6.9</td>\n",
       "      <td>375.0</td>\n",
       "      <td>11.4</td>\n",
       "      <td>2.5</td>\n",
       "      <td>NaN</td>\n",
       "      <td>NaN</td>\n",
       "      <td>6.9</td>\n",
       "    </tr>\n",
       "    <tr>\n",
       "      <th>2013-01-01 02:00:00</th>\n",
       "      <td>용봉</td>\n",
       "      <td>4.0</td>\n",
       "      <td>6.9</td>\n",
       "      <td>374.0</td>\n",
       "      <td>11.4</td>\n",
       "      <td>2.5</td>\n",
       "      <td>NaN</td>\n",
       "      <td>NaN</td>\n",
       "      <td>6.8</td>\n",
       "    </tr>\n",
       "    <tr>\n",
       "      <th>2013-01-01 03:00:00</th>\n",
       "      <td>용봉</td>\n",
       "      <td>4.1</td>\n",
       "      <td>6.9</td>\n",
       "      <td>375.0</td>\n",
       "      <td>11.4</td>\n",
       "      <td>2.5</td>\n",
       "      <td>NaN</td>\n",
       "      <td>NaN</td>\n",
       "      <td>6.9</td>\n",
       "    </tr>\n",
       "    <tr>\n",
       "      <th>2013-01-01 04:00:00</th>\n",
       "      <td>용봉</td>\n",
       "      <td>4.0</td>\n",
       "      <td>6.9</td>\n",
       "      <td>380.0</td>\n",
       "      <td>11.3</td>\n",
       "      <td>2.6</td>\n",
       "      <td>NaN</td>\n",
       "      <td>NaN</td>\n",
       "      <td>6.9</td>\n",
       "    </tr>\n",
       "    <tr>\n",
       "      <th>...</th>\n",
       "      <td>...</td>\n",
       "      <td>...</td>\n",
       "      <td>...</td>\n",
       "      <td>...</td>\n",
       "      <td>...</td>\n",
       "      <td>...</td>\n",
       "      <td>...</td>\n",
       "      <td>...</td>\n",
       "      <td>...</td>\n",
       "    </tr>\n",
       "    <tr>\n",
       "      <th>2022-05-23 19:00:00</th>\n",
       "      <td>용봉</td>\n",
       "      <td>26.6</td>\n",
       "      <td>6.9</td>\n",
       "      <td>419.0</td>\n",
       "      <td>NaN</td>\n",
       "      <td>6.7</td>\n",
       "      <td>5.825</td>\n",
       "      <td>0.108</td>\n",
       "      <td>66.2</td>\n",
       "    </tr>\n",
       "    <tr>\n",
       "      <th>2022-05-23 20:00:00</th>\n",
       "      <td>용봉</td>\n",
       "      <td>26.3</td>\n",
       "      <td>6.8</td>\n",
       "      <td>425.0</td>\n",
       "      <td>NaN</td>\n",
       "      <td>6.5</td>\n",
       "      <td>5.803</td>\n",
       "      <td>0.107</td>\n",
       "      <td>61.2</td>\n",
       "    </tr>\n",
       "    <tr>\n",
       "      <th>2022-05-23 21:00:00</th>\n",
       "      <td>용봉</td>\n",
       "      <td>25.9</td>\n",
       "      <td>6.8</td>\n",
       "      <td>417.0</td>\n",
       "      <td>NaN</td>\n",
       "      <td>6.7</td>\n",
       "      <td>5.909</td>\n",
       "      <td>0.107</td>\n",
       "      <td>58.3</td>\n",
       "    </tr>\n",
       "    <tr>\n",
       "      <th>2022-05-23 22:00:00</th>\n",
       "      <td>용봉</td>\n",
       "      <td>25.7</td>\n",
       "      <td>6.8</td>\n",
       "      <td>420.0</td>\n",
       "      <td>NaN</td>\n",
       "      <td>6.4</td>\n",
       "      <td>5.921</td>\n",
       "      <td>0.106</td>\n",
       "      <td>54.4</td>\n",
       "    </tr>\n",
       "    <tr>\n",
       "      <th>2022-05-23 23:00:00</th>\n",
       "      <td>용봉</td>\n",
       "      <td>25.5</td>\n",
       "      <td>6.8</td>\n",
       "      <td>411.0</td>\n",
       "      <td>NaN</td>\n",
       "      <td>6.4</td>\n",
       "      <td>5.818</td>\n",
       "      <td>0.106</td>\n",
       "      <td>52.3</td>\n",
       "    </tr>\n",
       "  </tbody>\n",
       "</table>\n",
       "<p>82257 rows × 9 columns</p>\n",
       "</div>"
      ],
      "text/plain": [
       "                    측정소명  수온 ℃  수소이온농도  전기전도도 μS/cm  용존산소 mg/L  총유기탄소 mg/L  \\\n",
       "date/time                                                                    \n",
       "2013-01-01 00:00:00   용봉   3.9     6.9        374.0       11.4         2.5   \n",
       "2013-01-01 01:00:00   용봉   3.9     6.9        375.0       11.4         2.5   \n",
       "2013-01-01 02:00:00   용봉   4.0     6.9        374.0       11.4         2.5   \n",
       "2013-01-01 03:00:00   용봉   4.1     6.9        375.0       11.4         2.5   \n",
       "2013-01-01 04:00:00   용봉   4.0     6.9        380.0       11.3         2.6   \n",
       "...                  ...   ...     ...          ...        ...         ...   \n",
       "2022-05-23 19:00:00   용봉  26.6     6.9        419.0        NaN         6.7   \n",
       "2022-05-23 20:00:00   용봉  26.3     6.8        425.0        NaN         6.5   \n",
       "2022-05-23 21:00:00   용봉  25.9     6.8        417.0        NaN         6.7   \n",
       "2022-05-23 22:00:00   용봉  25.7     6.8        420.0        NaN         6.4   \n",
       "2022-05-23 23:00:00   용봉  25.5     6.8        411.0        NaN         6.4   \n",
       "\n",
       "                     총질소 mg/L  총인 mg/L  클로로필-a mg/㎥  \n",
       "date/time                                            \n",
       "2013-01-01 00:00:00       NaN      NaN          7.2  \n",
       "2013-01-01 01:00:00       NaN      NaN          6.9  \n",
       "2013-01-01 02:00:00       NaN      NaN          6.8  \n",
       "2013-01-01 03:00:00       NaN      NaN          6.9  \n",
       "2013-01-01 04:00:00       NaN      NaN          6.9  \n",
       "...                       ...      ...          ...  \n",
       "2022-05-23 19:00:00     5.825    0.108         66.2  \n",
       "2022-05-23 20:00:00     5.803    0.107         61.2  \n",
       "2022-05-23 21:00:00     5.909    0.107         58.3  \n",
       "2022-05-23 22:00:00     5.921    0.106         54.4  \n",
       "2022-05-23 23:00:00     5.818    0.106         52.3  \n",
       "\n",
       "[82257 rows x 9 columns]"
      ]
     },
     "execution_count": 16,
     "metadata": {},
     "output_type": "execute_result"
    }
   ],
   "source": [
    "scb_yearly_df13"
   ]
  },
  {
   "cell_type": "markdown",
   "id": "16759e9d",
   "metadata": {},
   "source": [
    "## 승촌보 유량 데이터 추가\n",
    "\n",
    "`시간` 특성은 date time으로 파싱해서 불러온다."
   ]
  },
  {
   "cell_type": "code",
   "execution_count": 17,
   "id": "50435dce",
   "metadata": {},
   "outputs": [],
   "source": [
    "flow_data_file = reservoir+\"_flow.xlsx\"\n",
    "scb_flow_yearly = pd.read_excel(base_path+flow_data_file, \n",
    "                            header=0, \n",
    "                            sheet_name=None,\n",
    "                            na_values='ND',\n",
    "                            parse_dates=[0])  # 시간 특성을 date time으로 파싱"
   ]
  },
  {
   "cell_type": "code",
   "execution_count": 18,
   "id": "8bdd1ca3",
   "metadata": {},
   "outputs": [
    {
     "data": {
      "text/plain": [
       "Index(['시간', ' 상류수위(EL.m)', ' 하류수위(EL.m)', ' 유입량(㎥/s)', ' 방류량(㎥/s)'], dtype='object')"
      ]
     },
     "execution_count": 18,
     "metadata": {},
     "output_type": "execute_result"
    }
   ],
   "source": [
    "scb_flow_yearly['2013'].columns"
   ]
  },
  {
   "cell_type": "markdown",
   "id": "cc2e380b",
   "metadata": {},
   "source": [
    "### 연도별 유량 데이터 통합"
   ]
  },
  {
   "cell_type": "code",
   "execution_count": 19,
   "id": "993a1ded",
   "metadata": {},
   "outputs": [],
   "source": [
    "# 2013년부터 통합\n",
    "scb_flow_yearly_df = concat_yearly_df(scb_flow_yearly)"
   ]
  },
  {
   "cell_type": "code",
   "execution_count": 21,
   "id": "75393010",
   "metadata": {},
   "outputs": [
    {
     "data": {
      "text/html": [
       "<div>\n",
       "<style scoped>\n",
       "    .dataframe tbody tr th:only-of-type {\n",
       "        vertical-align: middle;\n",
       "    }\n",
       "\n",
       "    .dataframe tbody tr th {\n",
       "        vertical-align: top;\n",
       "    }\n",
       "\n",
       "    .dataframe thead th {\n",
       "        text-align: right;\n",
       "    }\n",
       "</style>\n",
       "<table border=\"1\" class=\"dataframe\">\n",
       "  <thead>\n",
       "    <tr style=\"text-align: right;\">\n",
       "      <th></th>\n",
       "      <th>상류수위(EL.m)</th>\n",
       "      <th>하류수위(EL.m)</th>\n",
       "      <th>유입량(㎥/s)</th>\n",
       "      <th>방류량(㎥/s)</th>\n",
       "    </tr>\n",
       "    <tr>\n",
       "      <th>시간</th>\n",
       "      <th></th>\n",
       "      <th></th>\n",
       "      <th></th>\n",
       "      <th></th>\n",
       "    </tr>\n",
       "  </thead>\n",
       "  <tbody>\n",
       "    <tr>\n",
       "      <th>2013-01-01 00:00:00</th>\n",
       "      <td>7.50</td>\n",
       "      <td>3.77</td>\n",
       "      <td>19.82</td>\n",
       "      <td>19.74</td>\n",
       "    </tr>\n",
       "    <tr>\n",
       "      <th>2013-01-01 00:10:00</th>\n",
       "      <td>7.50</td>\n",
       "      <td>3.77</td>\n",
       "      <td>19.78</td>\n",
       "      <td>19.76</td>\n",
       "    </tr>\n",
       "    <tr>\n",
       "      <th>2013-01-01 00:20:00</th>\n",
       "      <td>7.50</td>\n",
       "      <td>3.77</td>\n",
       "      <td>19.77</td>\n",
       "      <td>19.82</td>\n",
       "    </tr>\n",
       "    <tr>\n",
       "      <th>2013-01-01 00:30:00</th>\n",
       "      <td>7.50</td>\n",
       "      <td>3.77</td>\n",
       "      <td>19.77</td>\n",
       "      <td>19.73</td>\n",
       "    </tr>\n",
       "    <tr>\n",
       "      <th>2013-01-01 00:40:00</th>\n",
       "      <td>7.50</td>\n",
       "      <td>3.77</td>\n",
       "      <td>19.78</td>\n",
       "      <td>19.79</td>\n",
       "    </tr>\n",
       "    <tr>\n",
       "      <th>...</th>\n",
       "      <td>...</td>\n",
       "      <td>...</td>\n",
       "      <td>...</td>\n",
       "      <td>...</td>\n",
       "    </tr>\n",
       "    <tr>\n",
       "      <th>2022-08-17 19:10:00</th>\n",
       "      <td>5.46</td>\n",
       "      <td>1.60</td>\n",
       "      <td>14.01</td>\n",
       "      <td>19.78</td>\n",
       "    </tr>\n",
       "    <tr>\n",
       "      <th>2022-08-17 19:20:00</th>\n",
       "      <td>5.47</td>\n",
       "      <td>1.59</td>\n",
       "      <td>18.96</td>\n",
       "      <td>19.78</td>\n",
       "    </tr>\n",
       "    <tr>\n",
       "      <th>2022-08-17 19:30:00</th>\n",
       "      <td>5.47</td>\n",
       "      <td>1.58</td>\n",
       "      <td>19.78</td>\n",
       "      <td>19.78</td>\n",
       "    </tr>\n",
       "    <tr>\n",
       "      <th>2022-08-17 19:40:00</th>\n",
       "      <td>5.47</td>\n",
       "      <td>1.57</td>\n",
       "      <td>24.72</td>\n",
       "      <td>19.78</td>\n",
       "    </tr>\n",
       "    <tr>\n",
       "      <th>2022-08-17 19:50:00</th>\n",
       "      <td>5.47</td>\n",
       "      <td>1.56</td>\n",
       "      <td>19.78</td>\n",
       "      <td>19.78</td>\n",
       "    </tr>\n",
       "  </tbody>\n",
       "</table>\n",
       "<p>505981 rows × 4 columns</p>\n",
       "</div>"
      ],
      "text/plain": [
       "                      상류수위(EL.m)   하류수위(EL.m)   유입량(㎥/s)   방류량(㎥/s)\n",
       "시간                                                                 \n",
       "2013-01-01 00:00:00         7.50         3.77      19.82      19.74\n",
       "2013-01-01 00:10:00         7.50         3.77      19.78      19.76\n",
       "2013-01-01 00:20:00         7.50         3.77      19.77      19.82\n",
       "2013-01-01 00:30:00         7.50         3.77      19.77      19.73\n",
       "2013-01-01 00:40:00         7.50         3.77      19.78      19.79\n",
       "...                          ...          ...        ...        ...\n",
       "2022-08-17 19:10:00         5.46         1.60      14.01      19.78\n",
       "2022-08-17 19:20:00         5.47         1.59      18.96      19.78\n",
       "2022-08-17 19:30:00         5.47         1.58      19.78      19.78\n",
       "2022-08-17 19:40:00         5.47         1.57      24.72      19.78\n",
       "2022-08-17 19:50:00         5.47         1.56      19.78      19.78\n",
       "\n",
       "[505981 rows x 4 columns]"
      ]
     },
     "execution_count": 21,
     "metadata": {},
     "output_type": "execute_result"
    }
   ],
   "source": [
    "scb_flow_yearly_df"
   ]
  },
  {
   "cell_type": "markdown",
   "id": "7acd82c0",
   "metadata": {},
   "source": [
    "인덱스를 시간으로 지정"
   ]
  },
  {
   "cell_type": "code",
   "execution_count": 20,
   "id": "00c25b4e",
   "metadata": {},
   "outputs": [],
   "source": [
    "scb_flow_yearly_df = scb_flow_yearly_df.set_index('시간')"
   ]
  },
  {
   "cell_type": "markdown",
   "id": "4d8e0c9d",
   "metadata": {},
   "source": [
    "인덱스 이름 변경"
   ]
  },
  {
   "cell_type": "code",
   "execution_count": 22,
   "id": "f25d1474",
   "metadata": {},
   "outputs": [],
   "source": [
    "scb_flow_yearly_df.index.name = 'date/time'"
   ]
  },
  {
   "cell_type": "markdown",
   "id": "a6420f1a",
   "metadata": {},
   "source": [
    "시간 기준으로 정렬"
   ]
  },
  {
   "cell_type": "code",
   "execution_count": 23,
   "id": "d807cafe",
   "metadata": {},
   "outputs": [],
   "source": [
    "scb_flow_yearly_df = scb_flow_yearly_df.sort_index()"
   ]
  },
  {
   "cell_type": "markdown",
   "id": "6963d466",
   "metadata": {},
   "source": [
    "**10분 단위를 1시간 단위로 변경**  \n",
    "\n",
    "시간별 평균값을 활용한다."
   ]
  },
  {
   "cell_type": "code",
   "execution_count": 24,
   "id": "412a4364",
   "metadata": {},
   "outputs": [],
   "source": [
    "scb_flow_yearly_hour_df = scb_flow_yearly_df.resample(\"H\").mean()"
   ]
  },
  {
   "cell_type": "code",
   "execution_count": 25,
   "id": "8bf9efb6",
   "metadata": {},
   "outputs": [
    {
     "data": {
      "text/html": [
       "<div>\n",
       "<style scoped>\n",
       "    .dataframe tbody tr th:only-of-type {\n",
       "        vertical-align: middle;\n",
       "    }\n",
       "\n",
       "    .dataframe tbody tr th {\n",
       "        vertical-align: top;\n",
       "    }\n",
       "\n",
       "    .dataframe thead th {\n",
       "        text-align: right;\n",
       "    }\n",
       "</style>\n",
       "<table border=\"1\" class=\"dataframe\">\n",
       "  <thead>\n",
       "    <tr style=\"text-align: right;\">\n",
       "      <th></th>\n",
       "      <th>상류수위(EL.m)</th>\n",
       "      <th>하류수위(EL.m)</th>\n",
       "      <th>유입량(㎥/s)</th>\n",
       "      <th>방류량(㎥/s)</th>\n",
       "    </tr>\n",
       "    <tr>\n",
       "      <th>date/time</th>\n",
       "      <th></th>\n",
       "      <th></th>\n",
       "      <th></th>\n",
       "      <th></th>\n",
       "    </tr>\n",
       "  </thead>\n",
       "  <tbody>\n",
       "    <tr>\n",
       "      <th>2013-01-01 00:00:00</th>\n",
       "      <td>7.500000</td>\n",
       "      <td>3.770000</td>\n",
       "      <td>19.773333</td>\n",
       "      <td>19.748333</td>\n",
       "    </tr>\n",
       "    <tr>\n",
       "      <th>2013-01-01 01:00:00</th>\n",
       "      <td>7.500000</td>\n",
       "      <td>3.770000</td>\n",
       "      <td>19.701667</td>\n",
       "      <td>19.706667</td>\n",
       "    </tr>\n",
       "    <tr>\n",
       "      <th>2013-01-01 02:00:00</th>\n",
       "      <td>7.500000</td>\n",
       "      <td>3.770000</td>\n",
       "      <td>19.748333</td>\n",
       "      <td>19.723333</td>\n",
       "    </tr>\n",
       "    <tr>\n",
       "      <th>2013-01-01 03:00:00</th>\n",
       "      <td>7.500000</td>\n",
       "      <td>3.770000</td>\n",
       "      <td>19.613333</td>\n",
       "      <td>19.610000</td>\n",
       "    </tr>\n",
       "    <tr>\n",
       "      <th>2013-01-01 04:00:00</th>\n",
       "      <td>7.500000</td>\n",
       "      <td>3.770000</td>\n",
       "      <td>19.661667</td>\n",
       "      <td>19.665000</td>\n",
       "    </tr>\n",
       "    <tr>\n",
       "      <th>...</th>\n",
       "      <td>...</td>\n",
       "      <td>...</td>\n",
       "      <td>...</td>\n",
       "      <td>...</td>\n",
       "    </tr>\n",
       "    <tr>\n",
       "      <th>2022-08-17 15:00:00</th>\n",
       "      <td>5.536667</td>\n",
       "      <td>1.618333</td>\n",
       "      <td>29.261667</td>\n",
       "      <td>25.190000</td>\n",
       "    </tr>\n",
       "    <tr>\n",
       "      <th>2022-08-17 16:00:00</th>\n",
       "      <td>5.525000</td>\n",
       "      <td>1.638333</td>\n",
       "      <td>23.243333</td>\n",
       "      <td>38.923333</td>\n",
       "    </tr>\n",
       "    <tr>\n",
       "      <th>2022-08-17 17:00:00</th>\n",
       "      <td>5.483333</td>\n",
       "      <td>1.626667</td>\n",
       "      <td>29.068333</td>\n",
       "      <td>44.878333</td>\n",
       "    </tr>\n",
       "    <tr>\n",
       "      <th>2022-08-17 18:00:00</th>\n",
       "      <td>5.470000</td>\n",
       "      <td>1.566667</td>\n",
       "      <td>19.131667</td>\n",
       "      <td>14.925000</td>\n",
       "    </tr>\n",
       "    <tr>\n",
       "      <th>2022-08-17 19:00:00</th>\n",
       "      <td>5.468333</td>\n",
       "      <td>1.581667</td>\n",
       "      <td>18.811667</td>\n",
       "      <td>19.368333</td>\n",
       "    </tr>\n",
       "  </tbody>\n",
       "</table>\n",
       "<p>84380 rows × 4 columns</p>\n",
       "</div>"
      ],
      "text/plain": [
       "                      상류수위(EL.m)   하류수위(EL.m)   유입량(㎥/s)   방류량(㎥/s)\n",
       "date/time                                                          \n",
       "2013-01-01 00:00:00     7.500000     3.770000  19.773333  19.748333\n",
       "2013-01-01 01:00:00     7.500000     3.770000  19.701667  19.706667\n",
       "2013-01-01 02:00:00     7.500000     3.770000  19.748333  19.723333\n",
       "2013-01-01 03:00:00     7.500000     3.770000  19.613333  19.610000\n",
       "2013-01-01 04:00:00     7.500000     3.770000  19.661667  19.665000\n",
       "...                          ...          ...        ...        ...\n",
       "2022-08-17 15:00:00     5.536667     1.618333  29.261667  25.190000\n",
       "2022-08-17 16:00:00     5.525000     1.638333  23.243333  38.923333\n",
       "2022-08-17 17:00:00     5.483333     1.626667  29.068333  44.878333\n",
       "2022-08-17 18:00:00     5.470000     1.566667  19.131667  14.925000\n",
       "2022-08-17 19:00:00     5.468333     1.581667  18.811667  19.368333\n",
       "\n",
       "[84380 rows x 4 columns]"
      ]
     },
     "execution_count": 25,
     "metadata": {},
     "output_type": "execute_result"
    }
   ],
   "source": [
    "scb_flow_yearly_hour_df"
   ]
  },
  {
   "cell_type": "markdown",
   "id": "0e9a3f69",
   "metadata": {},
   "source": [
    "## 수질/유량 데이터 합병  \n",
    "\n",
    "수질 데이터와 유량 데이터를 `date/time` 기준으로 합병한다."
   ]
  },
  {
   "cell_type": "code",
   "execution_count": 26,
   "id": "70f86e48",
   "metadata": {},
   "outputs": [],
   "source": [
    "# `pd.merge()`에서 `how = 'outer'` 키워드 인자 : 두 데이터에 사용된 모든 시간대의 데이터를 모두 추가한다(합집합).\n",
    "scb_data = pd.merge(scb_yearly_df13, scb_flow_yearly_hour_df, left_index=True, right_index=True, how='outer')"
   ]
  },
  {
   "cell_type": "code",
   "execution_count": 27,
   "id": "a8bcd8fa",
   "metadata": {},
   "outputs": [
    {
     "data": {
      "text/html": [
       "<div>\n",
       "<style scoped>\n",
       "    .dataframe tbody tr th:only-of-type {\n",
       "        vertical-align: middle;\n",
       "    }\n",
       "\n",
       "    .dataframe tbody tr th {\n",
       "        vertical-align: top;\n",
       "    }\n",
       "\n",
       "    .dataframe thead th {\n",
       "        text-align: right;\n",
       "    }\n",
       "</style>\n",
       "<table border=\"1\" class=\"dataframe\">\n",
       "  <thead>\n",
       "    <tr style=\"text-align: right;\">\n",
       "      <th></th>\n",
       "      <th>측정소명</th>\n",
       "      <th>수온 ℃</th>\n",
       "      <th>수소이온농도</th>\n",
       "      <th>전기전도도 μS/cm</th>\n",
       "      <th>용존산소 mg/L</th>\n",
       "      <th>총유기탄소 mg/L</th>\n",
       "      <th>총질소 mg/L</th>\n",
       "      <th>총인 mg/L</th>\n",
       "      <th>클로로필-a mg/㎥</th>\n",
       "      <th>상류수위(EL.m)</th>\n",
       "      <th>하류수위(EL.m)</th>\n",
       "      <th>유입량(㎥/s)</th>\n",
       "      <th>방류량(㎥/s)</th>\n",
       "    </tr>\n",
       "    <tr>\n",
       "      <th>date/time</th>\n",
       "      <th></th>\n",
       "      <th></th>\n",
       "      <th></th>\n",
       "      <th></th>\n",
       "      <th></th>\n",
       "      <th></th>\n",
       "      <th></th>\n",
       "      <th></th>\n",
       "      <th></th>\n",
       "      <th></th>\n",
       "      <th></th>\n",
       "      <th></th>\n",
       "      <th></th>\n",
       "    </tr>\n",
       "  </thead>\n",
       "  <tbody>\n",
       "    <tr>\n",
       "      <th>2013-01-01 00:00:00</th>\n",
       "      <td>용봉</td>\n",
       "      <td>3.9</td>\n",
       "      <td>6.9</td>\n",
       "      <td>374.0</td>\n",
       "      <td>11.4</td>\n",
       "      <td>2.5</td>\n",
       "      <td>NaN</td>\n",
       "      <td>NaN</td>\n",
       "      <td>7.2</td>\n",
       "      <td>7.500000</td>\n",
       "      <td>3.770000</td>\n",
       "      <td>19.773333</td>\n",
       "      <td>19.748333</td>\n",
       "    </tr>\n",
       "    <tr>\n",
       "      <th>2013-01-01 01:00:00</th>\n",
       "      <td>용봉</td>\n",
       "      <td>3.9</td>\n",
       "      <td>6.9</td>\n",
       "      <td>375.0</td>\n",
       "      <td>11.4</td>\n",
       "      <td>2.5</td>\n",
       "      <td>NaN</td>\n",
       "      <td>NaN</td>\n",
       "      <td>6.9</td>\n",
       "      <td>7.500000</td>\n",
       "      <td>3.770000</td>\n",
       "      <td>19.701667</td>\n",
       "      <td>19.706667</td>\n",
       "    </tr>\n",
       "    <tr>\n",
       "      <th>2013-01-01 02:00:00</th>\n",
       "      <td>용봉</td>\n",
       "      <td>4.0</td>\n",
       "      <td>6.9</td>\n",
       "      <td>374.0</td>\n",
       "      <td>11.4</td>\n",
       "      <td>2.5</td>\n",
       "      <td>NaN</td>\n",
       "      <td>NaN</td>\n",
       "      <td>6.8</td>\n",
       "      <td>7.500000</td>\n",
       "      <td>3.770000</td>\n",
       "      <td>19.748333</td>\n",
       "      <td>19.723333</td>\n",
       "    </tr>\n",
       "    <tr>\n",
       "      <th>2013-01-01 03:00:00</th>\n",
       "      <td>용봉</td>\n",
       "      <td>4.1</td>\n",
       "      <td>6.9</td>\n",
       "      <td>375.0</td>\n",
       "      <td>11.4</td>\n",
       "      <td>2.5</td>\n",
       "      <td>NaN</td>\n",
       "      <td>NaN</td>\n",
       "      <td>6.9</td>\n",
       "      <td>7.500000</td>\n",
       "      <td>3.770000</td>\n",
       "      <td>19.613333</td>\n",
       "      <td>19.610000</td>\n",
       "    </tr>\n",
       "    <tr>\n",
       "      <th>2013-01-01 04:00:00</th>\n",
       "      <td>용봉</td>\n",
       "      <td>4.0</td>\n",
       "      <td>6.9</td>\n",
       "      <td>380.0</td>\n",
       "      <td>11.3</td>\n",
       "      <td>2.6</td>\n",
       "      <td>NaN</td>\n",
       "      <td>NaN</td>\n",
       "      <td>6.9</td>\n",
       "      <td>7.500000</td>\n",
       "      <td>3.770000</td>\n",
       "      <td>19.661667</td>\n",
       "      <td>19.665000</td>\n",
       "    </tr>\n",
       "    <tr>\n",
       "      <th>...</th>\n",
       "      <td>...</td>\n",
       "      <td>...</td>\n",
       "      <td>...</td>\n",
       "      <td>...</td>\n",
       "      <td>...</td>\n",
       "      <td>...</td>\n",
       "      <td>...</td>\n",
       "      <td>...</td>\n",
       "      <td>...</td>\n",
       "      <td>...</td>\n",
       "      <td>...</td>\n",
       "      <td>...</td>\n",
       "      <td>...</td>\n",
       "    </tr>\n",
       "    <tr>\n",
       "      <th>2022-08-17 15:00:00</th>\n",
       "      <td>NaN</td>\n",
       "      <td>NaN</td>\n",
       "      <td>NaN</td>\n",
       "      <td>NaN</td>\n",
       "      <td>NaN</td>\n",
       "      <td>NaN</td>\n",
       "      <td>NaN</td>\n",
       "      <td>NaN</td>\n",
       "      <td>NaN</td>\n",
       "      <td>5.536667</td>\n",
       "      <td>1.618333</td>\n",
       "      <td>29.261667</td>\n",
       "      <td>25.190000</td>\n",
       "    </tr>\n",
       "    <tr>\n",
       "      <th>2022-08-17 16:00:00</th>\n",
       "      <td>NaN</td>\n",
       "      <td>NaN</td>\n",
       "      <td>NaN</td>\n",
       "      <td>NaN</td>\n",
       "      <td>NaN</td>\n",
       "      <td>NaN</td>\n",
       "      <td>NaN</td>\n",
       "      <td>NaN</td>\n",
       "      <td>NaN</td>\n",
       "      <td>5.525000</td>\n",
       "      <td>1.638333</td>\n",
       "      <td>23.243333</td>\n",
       "      <td>38.923333</td>\n",
       "    </tr>\n",
       "    <tr>\n",
       "      <th>2022-08-17 17:00:00</th>\n",
       "      <td>NaN</td>\n",
       "      <td>NaN</td>\n",
       "      <td>NaN</td>\n",
       "      <td>NaN</td>\n",
       "      <td>NaN</td>\n",
       "      <td>NaN</td>\n",
       "      <td>NaN</td>\n",
       "      <td>NaN</td>\n",
       "      <td>NaN</td>\n",
       "      <td>5.483333</td>\n",
       "      <td>1.626667</td>\n",
       "      <td>29.068333</td>\n",
       "      <td>44.878333</td>\n",
       "    </tr>\n",
       "    <tr>\n",
       "      <th>2022-08-17 18:00:00</th>\n",
       "      <td>NaN</td>\n",
       "      <td>NaN</td>\n",
       "      <td>NaN</td>\n",
       "      <td>NaN</td>\n",
       "      <td>NaN</td>\n",
       "      <td>NaN</td>\n",
       "      <td>NaN</td>\n",
       "      <td>NaN</td>\n",
       "      <td>NaN</td>\n",
       "      <td>5.470000</td>\n",
       "      <td>1.566667</td>\n",
       "      <td>19.131667</td>\n",
       "      <td>14.925000</td>\n",
       "    </tr>\n",
       "    <tr>\n",
       "      <th>2022-08-17 19:00:00</th>\n",
       "      <td>NaN</td>\n",
       "      <td>NaN</td>\n",
       "      <td>NaN</td>\n",
       "      <td>NaN</td>\n",
       "      <td>NaN</td>\n",
       "      <td>NaN</td>\n",
       "      <td>NaN</td>\n",
       "      <td>NaN</td>\n",
       "      <td>NaN</td>\n",
       "      <td>5.468333</td>\n",
       "      <td>1.581667</td>\n",
       "      <td>18.811667</td>\n",
       "      <td>19.368333</td>\n",
       "    </tr>\n",
       "  </tbody>\n",
       "</table>\n",
       "<p>84380 rows × 13 columns</p>\n",
       "</div>"
      ],
      "text/plain": [
       "                    측정소명  수온 ℃  수소이온농도  전기전도도 μS/cm  용존산소 mg/L  총유기탄소 mg/L  \\\n",
       "date/time                                                                    \n",
       "2013-01-01 00:00:00   용봉   3.9     6.9        374.0       11.4         2.5   \n",
       "2013-01-01 01:00:00   용봉   3.9     6.9        375.0       11.4         2.5   \n",
       "2013-01-01 02:00:00   용봉   4.0     6.9        374.0       11.4         2.5   \n",
       "2013-01-01 03:00:00   용봉   4.1     6.9        375.0       11.4         2.5   \n",
       "2013-01-01 04:00:00   용봉   4.0     6.9        380.0       11.3         2.6   \n",
       "...                  ...   ...     ...          ...        ...         ...   \n",
       "2022-08-17 15:00:00  NaN   NaN     NaN          NaN        NaN         NaN   \n",
       "2022-08-17 16:00:00  NaN   NaN     NaN          NaN        NaN         NaN   \n",
       "2022-08-17 17:00:00  NaN   NaN     NaN          NaN        NaN         NaN   \n",
       "2022-08-17 18:00:00  NaN   NaN     NaN          NaN        NaN         NaN   \n",
       "2022-08-17 19:00:00  NaN   NaN     NaN          NaN        NaN         NaN   \n",
       "\n",
       "                     총질소 mg/L  총인 mg/L  클로로필-a mg/㎥   상류수위(EL.m)   하류수위(EL.m)  \\\n",
       "date/time                                                                       \n",
       "2013-01-01 00:00:00       NaN      NaN          7.2     7.500000     3.770000   \n",
       "2013-01-01 01:00:00       NaN      NaN          6.9     7.500000     3.770000   \n",
       "2013-01-01 02:00:00       NaN      NaN          6.8     7.500000     3.770000   \n",
       "2013-01-01 03:00:00       NaN      NaN          6.9     7.500000     3.770000   \n",
       "2013-01-01 04:00:00       NaN      NaN          6.9     7.500000     3.770000   \n",
       "...                       ...      ...          ...          ...          ...   \n",
       "2022-08-17 15:00:00       NaN      NaN          NaN     5.536667     1.618333   \n",
       "2022-08-17 16:00:00       NaN      NaN          NaN     5.525000     1.638333   \n",
       "2022-08-17 17:00:00       NaN      NaN          NaN     5.483333     1.626667   \n",
       "2022-08-17 18:00:00       NaN      NaN          NaN     5.470000     1.566667   \n",
       "2022-08-17 19:00:00       NaN      NaN          NaN     5.468333     1.581667   \n",
       "\n",
       "                      유입량(㎥/s)   방류량(㎥/s)  \n",
       "date/time                                  \n",
       "2013-01-01 00:00:00  19.773333  19.748333  \n",
       "2013-01-01 01:00:00  19.701667  19.706667  \n",
       "2013-01-01 02:00:00  19.748333  19.723333  \n",
       "2013-01-01 03:00:00  19.613333  19.610000  \n",
       "2013-01-01 04:00:00  19.661667  19.665000  \n",
       "...                        ...        ...  \n",
       "2022-08-17 15:00:00  29.261667  25.190000  \n",
       "2022-08-17 16:00:00  23.243333  38.923333  \n",
       "2022-08-17 17:00:00  29.068333  44.878333  \n",
       "2022-08-17 18:00:00  19.131667  14.925000  \n",
       "2022-08-17 19:00:00  18.811667  19.368333  \n",
       "\n",
       "[84380 rows x 13 columns]"
      ]
     },
     "execution_count": 27,
     "metadata": {},
     "output_type": "execute_result"
    }
   ],
   "source": [
    "scb_data"
   ]
  },
  {
   "cell_type": "code",
   "execution_count": 28,
   "id": "71ab4e41",
   "metadata": {},
   "outputs": [],
   "source": [
    "\n",
    "# 유량 데이터 2022년도 데이터를 더 많이 포함하기에 삭제 필요.\n",
    "scb_data = scb_data[:len(scb_yearly_df13)]\n",
    "\n",
    "# 유량 특성 이름에 공백이 사용되었기에 특성명에 공백 제거\n",
    "scb_data.columns = [x.strip() for x in list(scb_data.columns)]"
   ]
  },
  {
   "cell_type": "markdown",
   "id": "dd2b43fb",
   "metadata": {},
   "source": [
    "## 데이터셋 전처리"
   ]
  },
  {
   "cell_type": "markdown",
   "id": "dfafd558",
   "metadata": {},
   "source": [
    "### 특성 선택\n",
    "\n",
    "훈련에 사용하지 않을 특성 삭제"
   ]
  },
  {
   "cell_type": "code",
   "execution_count": 29,
   "id": "14c528df",
   "metadata": {},
   "outputs": [],
   "source": [
    "# scb_data.drop(['측정소명', '수소이온농도', '용존산소 mg/L'], axis=1, inplace=True)\n",
    "scb_data = scb_data.drop(['측정소명', '수소이온농도', '용존산소 mg/L', '하류수위(EL.m)', '유입량(㎥/s)'], axis=1)"
   ]
  },
  {
   "cell_type": "code",
   "execution_count": 30,
   "id": "220f9875",
   "metadata": {},
   "outputs": [
    {
     "data": {
      "text/html": [
       "<div>\n",
       "<style scoped>\n",
       "    .dataframe tbody tr th:only-of-type {\n",
       "        vertical-align: middle;\n",
       "    }\n",
       "\n",
       "    .dataframe tbody tr th {\n",
       "        vertical-align: top;\n",
       "    }\n",
       "\n",
       "    .dataframe thead th {\n",
       "        text-align: right;\n",
       "    }\n",
       "</style>\n",
       "<table border=\"1\" class=\"dataframe\">\n",
       "  <thead>\n",
       "    <tr style=\"text-align: right;\">\n",
       "      <th></th>\n",
       "      <th>수온 ℃</th>\n",
       "      <th>전기전도도 μS/cm</th>\n",
       "      <th>총유기탄소 mg/L</th>\n",
       "      <th>총질소 mg/L</th>\n",
       "      <th>총인 mg/L</th>\n",
       "      <th>클로로필-a mg/㎥</th>\n",
       "      <th>상류수위(EL.m)</th>\n",
       "      <th>방류량(㎥/s)</th>\n",
       "    </tr>\n",
       "    <tr>\n",
       "      <th>date/time</th>\n",
       "      <th></th>\n",
       "      <th></th>\n",
       "      <th></th>\n",
       "      <th></th>\n",
       "      <th></th>\n",
       "      <th></th>\n",
       "      <th></th>\n",
       "      <th></th>\n",
       "    </tr>\n",
       "  </thead>\n",
       "  <tbody>\n",
       "    <tr>\n",
       "      <th>2013-01-01 00:00:00</th>\n",
       "      <td>3.9</td>\n",
       "      <td>374.0</td>\n",
       "      <td>2.5</td>\n",
       "      <td>NaN</td>\n",
       "      <td>NaN</td>\n",
       "      <td>7.2</td>\n",
       "      <td>7.500000</td>\n",
       "      <td>19.748333</td>\n",
       "    </tr>\n",
       "    <tr>\n",
       "      <th>2013-01-01 01:00:00</th>\n",
       "      <td>3.9</td>\n",
       "      <td>375.0</td>\n",
       "      <td>2.5</td>\n",
       "      <td>NaN</td>\n",
       "      <td>NaN</td>\n",
       "      <td>6.9</td>\n",
       "      <td>7.500000</td>\n",
       "      <td>19.706667</td>\n",
       "    </tr>\n",
       "    <tr>\n",
       "      <th>2013-01-01 02:00:00</th>\n",
       "      <td>4.0</td>\n",
       "      <td>374.0</td>\n",
       "      <td>2.5</td>\n",
       "      <td>NaN</td>\n",
       "      <td>NaN</td>\n",
       "      <td>6.8</td>\n",
       "      <td>7.500000</td>\n",
       "      <td>19.723333</td>\n",
       "    </tr>\n",
       "    <tr>\n",
       "      <th>2013-01-01 03:00:00</th>\n",
       "      <td>4.1</td>\n",
       "      <td>375.0</td>\n",
       "      <td>2.5</td>\n",
       "      <td>NaN</td>\n",
       "      <td>NaN</td>\n",
       "      <td>6.9</td>\n",
       "      <td>7.500000</td>\n",
       "      <td>19.610000</td>\n",
       "    </tr>\n",
       "    <tr>\n",
       "      <th>2013-01-01 04:00:00</th>\n",
       "      <td>4.0</td>\n",
       "      <td>380.0</td>\n",
       "      <td>2.6</td>\n",
       "      <td>NaN</td>\n",
       "      <td>NaN</td>\n",
       "      <td>6.9</td>\n",
       "      <td>7.500000</td>\n",
       "      <td>19.665000</td>\n",
       "    </tr>\n",
       "    <tr>\n",
       "      <th>...</th>\n",
       "      <td>...</td>\n",
       "      <td>...</td>\n",
       "      <td>...</td>\n",
       "      <td>...</td>\n",
       "      <td>...</td>\n",
       "      <td>...</td>\n",
       "      <td>...</td>\n",
       "      <td>...</td>\n",
       "    </tr>\n",
       "    <tr>\n",
       "      <th>2022-05-21 04:00:00</th>\n",
       "      <td>21.6</td>\n",
       "      <td>471.0</td>\n",
       "      <td>5.9</td>\n",
       "      <td>7.710</td>\n",
       "      <td>0.095</td>\n",
       "      <td>47.5</td>\n",
       "      <td>5.580000</td>\n",
       "      <td>13.180000</td>\n",
       "    </tr>\n",
       "    <tr>\n",
       "      <th>2022-05-21 05:00:00</th>\n",
       "      <td>21.4</td>\n",
       "      <td>466.0</td>\n",
       "      <td>6.0</td>\n",
       "      <td>7.569</td>\n",
       "      <td>0.097</td>\n",
       "      <td>45.7</td>\n",
       "      <td>5.580000</td>\n",
       "      <td>13.165000</td>\n",
       "    </tr>\n",
       "    <tr>\n",
       "      <th>2022-05-21 06:00:00</th>\n",
       "      <td>21.3</td>\n",
       "      <td>465.0</td>\n",
       "      <td>6.1</td>\n",
       "      <td>7.495</td>\n",
       "      <td>0.099</td>\n",
       "      <td>48.8</td>\n",
       "      <td>5.580000</td>\n",
       "      <td>13.110000</td>\n",
       "    </tr>\n",
       "    <tr>\n",
       "      <th>2022-05-21 07:00:00</th>\n",
       "      <td>21.4</td>\n",
       "      <td>464.0</td>\n",
       "      <td>6.0</td>\n",
       "      <td>7.452</td>\n",
       "      <td>0.100</td>\n",
       "      <td>52.9</td>\n",
       "      <td>5.580000</td>\n",
       "      <td>13.065000</td>\n",
       "    </tr>\n",
       "    <tr>\n",
       "      <th>2022-05-21 08:00:00</th>\n",
       "      <td>21.6</td>\n",
       "      <td>464.0</td>\n",
       "      <td>6.1</td>\n",
       "      <td>7.443</td>\n",
       "      <td>0.104</td>\n",
       "      <td>58.8</td>\n",
       "      <td>5.568333</td>\n",
       "      <td>13.005000</td>\n",
       "    </tr>\n",
       "  </tbody>\n",
       "</table>\n",
       "<p>82257 rows × 8 columns</p>\n",
       "</div>"
      ],
      "text/plain": [
       "                     수온 ℃  전기전도도 μS/cm  총유기탄소 mg/L  총질소 mg/L  총인 mg/L  \\\n",
       "date/time                                                               \n",
       "2013-01-01 00:00:00   3.9        374.0         2.5       NaN      NaN   \n",
       "2013-01-01 01:00:00   3.9        375.0         2.5       NaN      NaN   \n",
       "2013-01-01 02:00:00   4.0        374.0         2.5       NaN      NaN   \n",
       "2013-01-01 03:00:00   4.1        375.0         2.5       NaN      NaN   \n",
       "2013-01-01 04:00:00   4.0        380.0         2.6       NaN      NaN   \n",
       "...                   ...          ...         ...       ...      ...   \n",
       "2022-05-21 04:00:00  21.6        471.0         5.9     7.710    0.095   \n",
       "2022-05-21 05:00:00  21.4        466.0         6.0     7.569    0.097   \n",
       "2022-05-21 06:00:00  21.3        465.0         6.1     7.495    0.099   \n",
       "2022-05-21 07:00:00  21.4        464.0         6.0     7.452    0.100   \n",
       "2022-05-21 08:00:00  21.6        464.0         6.1     7.443    0.104   \n",
       "\n",
       "                     클로로필-a mg/㎥  상류수위(EL.m)   방류량(㎥/s)  \n",
       "date/time                                                \n",
       "2013-01-01 00:00:00          7.2    7.500000  19.748333  \n",
       "2013-01-01 01:00:00          6.9    7.500000  19.706667  \n",
       "2013-01-01 02:00:00          6.8    7.500000  19.723333  \n",
       "2013-01-01 03:00:00          6.9    7.500000  19.610000  \n",
       "2013-01-01 04:00:00          6.9    7.500000  19.665000  \n",
       "...                          ...         ...        ...  \n",
       "2022-05-21 04:00:00         47.5    5.580000  13.180000  \n",
       "2022-05-21 05:00:00         45.7    5.580000  13.165000  \n",
       "2022-05-21 06:00:00         48.8    5.580000  13.110000  \n",
       "2022-05-21 07:00:00         52.9    5.580000  13.065000  \n",
       "2022-05-21 08:00:00         58.8    5.568333  13.005000  \n",
       "\n",
       "[82257 rows x 8 columns]"
      ]
     },
     "execution_count": 30,
     "metadata": {},
     "output_type": "execute_result"
    }
   ],
   "source": [
    "scb_data"
   ]
  },
  {
   "cell_type": "markdown",
   "id": "8feb8403",
   "metadata": {},
   "source": [
    "### 클로로필 정규화"
   ]
  },
  {
   "cell_type": "markdown",
   "id": "b184e5b1",
   "metadata": {},
   "source": [
    "회귀 모델을 적용하기 전에 클로로필 값이 정규 분포인지 확인. 왼쪽으로 치우친 형태임."
   ]
  },
  {
   "cell_type": "code",
   "execution_count": 31,
   "id": "5bb3fc63",
   "metadata": {},
   "outputs": [
    {
     "data": {
      "image/png": "[encoded data removed]",
      "text/plain": [
       "<Figure size 720x432 with 1 Axes>"
      ]
     },
     "metadata": {
      "needs_background": "light"
     },
     "output_type": "display_data"
    }
   ],
   "source": [
    "sns.histplot(scb_data['클로로필-a mg/㎥'])\n",
    "plt.show()"
   ]
  },
  {
   "cell_type": "markdown",
   "id": "551aaa7e",
   "metadata": {},
   "source": [
    "`np.log1p()`를 사용해 로그변환하면 클로로필 값이 정규 분포에 가까워짐 "
   ]
  },
  {
   "cell_type": "code",
   "execution_count": 32,
   "id": "307d730b",
   "metadata": {},
   "outputs": [
    {
     "data": {
      "image/png": "[encoded data removed]",
      "text/plain": [
       "<Figure size 720x432 with 1 Axes>"
      ]
     },
     "metadata": {
      "needs_background": "light"
     },
     "output_type": "display_data"
    }
   ],
   "source": [
    "sns.histplot(np.log1p(scb_data['클로로필-a mg/㎥']))\n",
    "plt.show()"
   ]
  },
  {
   "cell_type": "markdown",
   "id": "57b3f945",
   "metadata": {},
   "source": [
    "클로로필 값을 로그 변환 뒤 `scb_data`에 추가"
   ]
  },
  {
   "cell_type": "code",
   "execution_count": 33,
   "id": "51151a0f",
   "metadata": {},
   "outputs": [],
   "source": [
    "scb_data['log_Chl-a'] = np.log1p(scb_data['클로로필-a mg/㎥'])"
   ]
  },
  {
   "cell_type": "code",
   "execution_count": 34,
   "id": "19cd8f50",
   "metadata": {
    "scrolled": true
   },
   "outputs": [
    {
     "data": {
      "text/html": [
       "<div>\n",
       "<style scoped>\n",
       "    .dataframe tbody tr th:only-of-type {\n",
       "        vertical-align: middle;\n",
       "    }\n",
       "\n",
       "    .dataframe tbody tr th {\n",
       "        vertical-align: top;\n",
       "    }\n",
       "\n",
       "    .dataframe thead th {\n",
       "        text-align: right;\n",
       "    }\n",
       "</style>\n",
       "<table border=\"1\" class=\"dataframe\">\n",
       "  <thead>\n",
       "    <tr style=\"text-align: right;\">\n",
       "      <th></th>\n",
       "      <th>수온 ℃</th>\n",
       "      <th>전기전도도 μS/cm</th>\n",
       "      <th>총유기탄소 mg/L</th>\n",
       "      <th>총질소 mg/L</th>\n",
       "      <th>총인 mg/L</th>\n",
       "      <th>클로로필-a mg/㎥</th>\n",
       "      <th>상류수위(EL.m)</th>\n",
       "      <th>방류량(㎥/s)</th>\n",
       "      <th>log_Chl-a</th>\n",
       "    </tr>\n",
       "    <tr>\n",
       "      <th>date/time</th>\n",
       "      <th></th>\n",
       "      <th></th>\n",
       "      <th></th>\n",
       "      <th></th>\n",
       "      <th></th>\n",
       "      <th></th>\n",
       "      <th></th>\n",
       "      <th></th>\n",
       "      <th></th>\n",
       "    </tr>\n",
       "  </thead>\n",
       "  <tbody>\n",
       "    <tr>\n",
       "      <th>2013-01-01 00:00:00</th>\n",
       "      <td>3.9</td>\n",
       "      <td>374.0</td>\n",
       "      <td>2.5</td>\n",
       "      <td>NaN</td>\n",
       "      <td>NaN</td>\n",
       "      <td>7.2</td>\n",
       "      <td>7.5</td>\n",
       "      <td>19.748333</td>\n",
       "      <td>2.104134</td>\n",
       "    </tr>\n",
       "    <tr>\n",
       "      <th>2013-01-01 01:00:00</th>\n",
       "      <td>3.9</td>\n",
       "      <td>375.0</td>\n",
       "      <td>2.5</td>\n",
       "      <td>NaN</td>\n",
       "      <td>NaN</td>\n",
       "      <td>6.9</td>\n",
       "      <td>7.5</td>\n",
       "      <td>19.706667</td>\n",
       "      <td>2.066863</td>\n",
       "    </tr>\n",
       "    <tr>\n",
       "      <th>2013-01-01 02:00:00</th>\n",
       "      <td>4.0</td>\n",
       "      <td>374.0</td>\n",
       "      <td>2.5</td>\n",
       "      <td>NaN</td>\n",
       "      <td>NaN</td>\n",
       "      <td>6.8</td>\n",
       "      <td>7.5</td>\n",
       "      <td>19.723333</td>\n",
       "      <td>2.054124</td>\n",
       "    </tr>\n",
       "  </tbody>\n",
       "</table>\n",
       "</div>"
      ],
      "text/plain": [
       "                     수온 ℃  전기전도도 μS/cm  총유기탄소 mg/L  총질소 mg/L  총인 mg/L  \\\n",
       "date/time                                                               \n",
       "2013-01-01 00:00:00   3.9        374.0         2.5       NaN      NaN   \n",
       "2013-01-01 01:00:00   3.9        375.0         2.5       NaN      NaN   \n",
       "2013-01-01 02:00:00   4.0        374.0         2.5       NaN      NaN   \n",
       "\n",
       "                     클로로필-a mg/㎥  상류수위(EL.m)   방류량(㎥/s)  log_Chl-a  \n",
       "date/time                                                           \n",
       "2013-01-01 00:00:00          7.2         7.5  19.748333   2.104134  \n",
       "2013-01-01 01:00:00          6.9         7.5  19.706667   2.066863  \n",
       "2013-01-01 02:00:00          6.8         7.5  19.723333   2.054124  "
      ]
     },
     "execution_count": 34,
     "metadata": {},
     "output_type": "execute_result"
    }
   ],
   "source": [
    "scb_data.head(3)"
   ]
  },
  {
   "cell_type": "markdown",
   "id": "32b87a27",
   "metadata": {},
   "source": [
    "## 방류량/수온 평균값 활용"
   ]
  },
  {
   "cell_type": "markdown",
   "id": "d18c087a",
   "metadata": {},
   "source": [
    "먼저 데이터셋을 복제해서 원본은 유지한다."
   ]
  },
  {
   "cell_type": "code",
   "execution_count": 35,
   "id": "943b5740",
   "metadata": {},
   "outputs": [],
   "source": [
    "scb_df = scb_data.copy()"
   ]
  },
  {
   "cell_type": "code",
   "execution_count": 36,
   "id": "2bd43994",
   "metadata": {},
   "outputs": [
    {
     "name": "stdout",
     "output_type": "stream",
     "text": [
      "<class 'pandas.core.frame.DataFrame'>\n",
      "DatetimeIndex: 82257 entries, 2013-01-01 00:00:00 to 2022-05-21 08:00:00\n",
      "Data columns (total 9 columns):\n",
      " #   Column       Non-Null Count  Dtype  \n",
      "---  ------       --------------  -----  \n",
      " 0   수온 ℃         64513 non-null  float64\n",
      " 1   전기전도도 μS/cm  64463 non-null  float64\n",
      " 2   총유기탄소 mg/L   58617 non-null  float64\n",
      " 3   총질소 mg/L     59921 non-null  float64\n",
      " 4   총인 mg/L      58937 non-null  float64\n",
      " 5   클로로필-a mg/㎥  62815 non-null  float64\n",
      " 6   상류수위(EL.m)   82231 non-null  float64\n",
      " 7   방류량(㎥/s)     82231 non-null  float64\n",
      " 8   log_Chl-a    62815 non-null  float64\n",
      "dtypes: float64(9)\n",
      "memory usage: 6.3 MB\n"
     ]
    }
   ],
   "source": [
    "scb_df.info()"
   ]
  },
  {
   "cell_type": "markdown",
   "id": "b03ca40d",
   "metadata": {},
   "source": [
    "### 훈련 특성과 타깃  \n",
    "\n",
    "- 훈련 특성: 측정소명과 클로로필을 제외한 특성 + 최대 14일 동안의 방류량/수온 평균값\n",
    "- 타깃 특성: `log_Chl-a`"
   ]
  },
  {
   "cell_type": "code",
   "execution_count": 37,
   "id": "a5243799",
   "metadata": {},
   "outputs": [],
   "source": [
    "features_to_remove = ['클로로필-a mg/㎥', 'log_Chl-a']\n",
    "basic_features = ['수온 ℃', '전기전도도 μS/cm', '총유기탄소 mg/L', '총질소 mg/L', '총인 mg/L', '상류수위(EL.m)', '방류량(㎥/s)']\n"
   ]
  },
  {
   "cell_type": "markdown",
   "id": "82c3ce6a",
   "metadata": {},
   "source": [
    "아래 함수는 지정된 특성에 대해 윈도우 크기만큼의 기간동안의 평균값을 특성으로 추가한다.\n",
    "\n",
    "- 일(24시간) 단위로 윈도우 사용\n",
    "- 일(day) 수를 지정하면 24시간 단위로 변환해서 윈도우 적용."
   ]
  },
  {
   "cell_type": "code",
   "execution_count": 38,
   "id": "451112f2",
   "metadata": {},
   "outputs": [],
   "source": [
    "from pandas import DataFrame\n",
    "import re\n",
    "\n",
    "def feature_windowing(df : DataFrame, feature : str, window: int) -> None:\n",
    "    # df = df.set_index('시간')\n",
    "    feature_ = re.split(' |\\(', feature)[0] # 공백 또는 여는 괄호 기준 쪼개기 후 특성 이름만 사용. 단위 등은 삭제됨. \n",
    "    window_ = f\"{window*24}H\"\n",
    "\n",
    "    new_features = dict()\n",
    "    new_features[str(window) + 'D' + 'window' + feature_] = df[feature].rolling(window=window_, min_periods=1).mean() # 1개 이상의 값이 있는 경우 평균값 계산\n",
    "    \n",
    "    new_features = pd.DataFrame(new_features)\n",
    "\n",
    "    return pd.concat([df, new_features], axis=1)"
   ]
  },
  {
   "cell_type": "markdown",
   "id": "ef7a7a62",
   "metadata": {},
   "source": [
    "## 모델 훈련"
   ]
  },
  {
   "cell_type": "markdown",
   "id": "1df2b1db",
   "metadata": {},
   "source": [
    "### GradientBoosting"
   ]
  },
  {
   "cell_type": "code",
   "execution_count": 39,
   "id": "c4c73664",
   "metadata": {},
   "outputs": [],
   "source": [
    "gb_reg = GradientBoostingRegressor(random_state=42)"
   ]
  },
  {
   "cell_type": "markdown",
   "id": "d26c96a0",
   "metadata": {},
   "source": [
    "이전 훈련 결과에 의해 하이퍼파라미터의 아래 조합이 가장 좋은 성능을 보였음.\n",
    "따라서 여기서는 훈련 시간을 절약하기 위해 하나의 조합만 사용함."
   ]
  },
  {
   "cell_type": "code",
   "execution_count": 40,
   "id": "43abf05d",
   "metadata": {},
   "outputs": [],
   "source": [
    "parameters = {'n_estimators':[300], 'max_depth':[10], 'min_samples_leaf':[10]}\n",
    "# parameters = {'n_estimators':[1200], 'max_depth':[25], 'min_samples_leaf':[10]}"
   ]
  },
  {
   "cell_type": "markdown",
   "id": "f388e92e",
   "metadata": {},
   "source": [
    "그리드 탐색 실행 함수\n",
    "\n",
    "- 모델, 하이퍼파라미터 조합, 특성, 윈도우 크기가 정해지면 해당 특성의 지정된 크기만큼의 \n",
    "    윈도우 기간 동안의 평균값을 새로운 특성으로 추가함.\n",
    "- 윈도우의 단위는 일(day)"
   ]
  },
  {
   "cell_type": "code",
   "execution_count": 41,
   "id": "0b7ce9b6",
   "metadata": {},
   "outputs": [],
   "source": [
    "def gridsearch(dataset, model, parameters, feature, windows, cv=3):\n",
    "\n",
    "      # best models\n",
    "    best_model_dict = dict()\n",
    "    # test scores of the best models\n",
    "    test_score_dict = dict()\n",
    "    # train features of the best models\n",
    "    input_features_dict = dict()\n",
    "\n",
    "    for window in windows:\n",
    "        # window 특성 추가\n",
    "        dataset_window = feature_windowing(dataset, feature, window)\n",
    "        # 결측치 제거\n",
    "        dataset_window.dropna(inplace=True)\n",
    "\n",
    "        # 입력 및 타깃 특성 지정\n",
    "        features_to_remove_ = features_to_remove + [feature]\n",
    "\n",
    "        features_ = list(dataset_window.columns)\n",
    "        for ft in features_to_remove_:\n",
    "          features_.remove(ft)\n",
    "        \n",
    "        input_features = features_\n",
    "        target_feature = 'log_Chl-a'\n",
    "\n",
    "        # 입력 및 타깃 데이터셋 지정\n",
    "        inputs = dataset_window.loc[:, input_features]\n",
    "        targets = dataset_window[target_feature]\n",
    "\n",
    "        # 훈련셋과 테스트셋 분리\n",
    "        X_train, X_test, y_train, y_test = train_test_split(inputs, targets, random_state=42)\n",
    "\n",
    "        added_feature = input_features[-1]\n",
    "        print(f\"==={added_feature} 모델 훈련===\")\n",
    "        # 그리드 탐색 훈련 시작\n",
    "        model_grid = GridSearchCV(model, param_grid=parameters, cv=cv, verbose=5)\n",
    "        model_grid.fit(X_train, y_train)\n",
    "\n",
    "        estimator = model_grid.best_estimator_\n",
    "\n",
    "        best_model_dict[added_feature] = estimator\n",
    "        test_score_dict[added_feature] = estimator.score(X_test, y_test)\n",
    "        input_features_dict[added_feature] = input_features\n",
    "\n",
    "    return best_model_dict, test_score_dict, input_features_dict\n"
   ]
  },
  {
   "cell_type": "markdown",
   "id": "cf9dfb6d",
   "metadata": {},
   "source": [
    "방류량을 기준으로 1일부터 14일까지의 윈도우를 개별적으로 적용하여 훈련한다."
   ]
  },
  {
   "cell_type": "code",
   "execution_count": 42,
   "id": "429118b6",
   "metadata": {},
   "outputs": [
    {
     "name": "stdout",
     "output_type": "stream",
     "text": [
      "===1Dwindow방류량 모델 훈련===\n",
      "Fitting 3 folds for each of 1 candidates, totalling 3 fits\n",
      "[CV 1/3] END max_depth=10, min_samples_leaf=10, n_estimators=300;, score=0.939 total time=  38.1s\n",
      "[CV 2/3] END max_depth=10, min_samples_leaf=10, n_estimators=300;, score=0.942 total time=  38.0s\n",
      "[CV 3/3] END max_depth=10, min_samples_leaf=10, n_estimators=300;, score=0.944 total time=  38.3s\n",
      "===2Dwindow방류량 모델 훈련===\n",
      "Fitting 3 folds for each of 1 candidates, totalling 3 fits\n",
      "[CV 1/3] END max_depth=10, min_samples_leaf=10, n_estimators=300;, score=0.949 total time=  38.2s\n",
      "[CV 2/3] END max_depth=10, min_samples_leaf=10, n_estimators=300;, score=0.949 total time=  38.5s\n",
      "[CV 3/3] END max_depth=10, min_samples_leaf=10, n_estimators=300;, score=0.949 total time=  38.4s\n",
      "===3Dwindow방류량 모델 훈련===\n",
      "Fitting 3 folds for each of 1 candidates, totalling 3 fits\n",
      "[CV 1/3] END max_depth=10, min_samples_leaf=10, n_estimators=300;, score=0.950 total time=  38.3s\n",
      "[CV 2/3] END max_depth=10, min_samples_leaf=10, n_estimators=300;, score=0.949 total time=  38.4s\n",
      "[CV 3/3] END max_depth=10, min_samples_leaf=10, n_estimators=300;, score=0.953 total time=  38.4s\n",
      "===4Dwindow방류량 모델 훈련===\n",
      "Fitting 3 folds for each of 1 candidates, totalling 3 fits\n",
      "[CV 1/3] END max_depth=10, min_samples_leaf=10, n_estimators=300;, score=0.951 total time=  38.2s\n",
      "[CV 2/3] END max_depth=10, min_samples_leaf=10, n_estimators=300;, score=0.951 total time=  38.6s\n",
      "[CV 3/3] END max_depth=10, min_samples_leaf=10, n_estimators=300;, score=0.954 total time=  38.4s\n",
      "===5Dwindow방류량 모델 훈련===\n",
      "Fitting 3 folds for each of 1 candidates, totalling 3 fits\n",
      "[CV 1/3] END max_depth=10, min_samples_leaf=10, n_estimators=300;, score=0.952 total time=  38.1s\n",
      "[CV 2/3] END max_depth=10, min_samples_leaf=10, n_estimators=300;, score=0.955 total time=  38.2s\n",
      "[CV 3/3] END max_depth=10, min_samples_leaf=10, n_estimators=300;, score=0.954 total time=  38.3s\n",
      "===6Dwindow방류량 모델 훈련===\n",
      "Fitting 3 folds for each of 1 candidates, totalling 3 fits\n",
      "[CV 1/3] END max_depth=10, min_samples_leaf=10, n_estimators=300;, score=0.953 total time=  39.1s\n",
      "[CV 2/3] END max_depth=10, min_samples_leaf=10, n_estimators=300;, score=0.953 total time=  38.1s\n",
      "[CV 3/3] END max_depth=10, min_samples_leaf=10, n_estimators=300;, score=0.958 total time=  38.2s\n",
      "===7Dwindow방류량 모델 훈련===\n",
      "Fitting 3 folds for each of 1 candidates, totalling 3 fits\n",
      "[CV 1/3] END max_depth=10, min_samples_leaf=10, n_estimators=300;, score=0.952 total time=  38.2s\n",
      "[CV 2/3] END max_depth=10, min_samples_leaf=10, n_estimators=300;, score=0.954 total time=  38.2s\n",
      "[CV 3/3] END max_depth=10, min_samples_leaf=10, n_estimators=300;, score=0.958 total time=  38.2s\n",
      "===8Dwindow방류량 모델 훈련===\n",
      "Fitting 3 folds for each of 1 candidates, totalling 3 fits\n",
      "[CV 1/3] END max_depth=10, min_samples_leaf=10, n_estimators=300;, score=0.956 total time=  38.3s\n",
      "[CV 2/3] END max_depth=10, min_samples_leaf=10, n_estimators=300;, score=0.958 total time=  38.2s\n",
      "[CV 3/3] END max_depth=10, min_samples_leaf=10, n_estimators=300;, score=0.962 total time=  38.2s\n",
      "===9Dwindow방류량 모델 훈련===\n",
      "Fitting 3 folds for each of 1 candidates, totalling 3 fits\n",
      "[CV 1/3] END max_depth=10, min_samples_leaf=10, n_estimators=300;, score=0.956 total time=  38.5s\n",
      "[CV 2/3] END max_depth=10, min_samples_leaf=10, n_estimators=300;, score=0.955 total time=  38.5s\n",
      "[CV 3/3] END max_depth=10, min_samples_leaf=10, n_estimators=300;, score=0.961 total time=  38.5s\n",
      "===10Dwindow방류량 모델 훈련===\n",
      "Fitting 3 folds for each of 1 candidates, totalling 3 fits\n",
      "[CV 1/3] END max_depth=10, min_samples_leaf=10, n_estimators=300;, score=0.957 total time=  38.4s\n",
      "[CV 2/3] END max_depth=10, min_samples_leaf=10, n_estimators=300;, score=0.958 total time=  38.4s\n",
      "[CV 3/3] END max_depth=10, min_samples_leaf=10, n_estimators=300;, score=0.961 total time=  38.4s\n",
      "===11Dwindow방류량 모델 훈련===\n",
      "Fitting 3 folds for each of 1 candidates, totalling 3 fits\n",
      "[CV 1/3] END max_depth=10, min_samples_leaf=10, n_estimators=300;, score=0.957 total time=  38.5s\n",
      "[CV 2/3] END max_depth=10, min_samples_leaf=10, n_estimators=300;, score=0.957 total time=  38.4s\n",
      "[CV 3/3] END max_depth=10, min_samples_leaf=10, n_estimators=300;, score=0.960 total time=  38.4s\n",
      "===12Dwindow방류량 모델 훈련===\n",
      "Fitting 3 folds for each of 1 candidates, totalling 3 fits\n",
      "[CV 1/3] END max_depth=10, min_samples_leaf=10, n_estimators=300;, score=0.957 total time=  38.4s\n",
      "[CV 2/3] END max_depth=10, min_samples_leaf=10, n_estimators=300;, score=0.957 total time=  38.4s\n",
      "[CV 3/3] END max_depth=10, min_samples_leaf=10, n_estimators=300;, score=0.961 total time=  38.4s\n",
      "===13Dwindow방류량 모델 훈련===\n",
      "Fitting 3 folds for each of 1 candidates, totalling 3 fits\n",
      "[CV 1/3] END max_depth=10, min_samples_leaf=10, n_estimators=300;, score=0.957 total time=  38.6s\n",
      "[CV 2/3] END max_depth=10, min_samples_leaf=10, n_estimators=300;, score=0.957 total time=  38.4s\n",
      "[CV 3/3] END max_depth=10, min_samples_leaf=10, n_estimators=300;, score=0.961 total time=  38.4s\n",
      "===14Dwindow방류량 모델 훈련===\n",
      "Fitting 3 folds for each of 1 candidates, totalling 3 fits\n",
      "[CV 1/3] END max_depth=10, min_samples_leaf=10, n_estimators=300;, score=0.958 total time=  38.4s\n",
      "[CV 2/3] END max_depth=10, min_samples_leaf=10, n_estimators=300;, score=0.958 total time=  38.4s\n",
      "[CV 3/3] END max_depth=10, min_samples_leaf=10, n_estimators=300;, score=0.959 total time=  38.3s\n"
     ]
    }
   ],
   "source": [
    "window_feature = '방류량(㎥/s)'\n",
    "windows = range(1, 15)\n",
    "best_model_dict, test_score_dict, input_features_dict = gridsearch(scb_df, gb_reg, parameters, window_feature, windows, cv=3)"
   ]
  },
  {
   "cell_type": "markdown",
   "id": "072f0cb7",
   "metadata": {},
   "source": [
    "아래 함수는 훈련 후 각 특성의 중요도를 그래프로 그린다."
   ]
  },
  {
   "cell_type": "code",
   "execution_count": 43,
   "id": "6ff85135",
   "metadata": {},
   "outputs": [],
   "source": [
    "def feature_importance_barplot(best_model_dict, input_features_dict):\n",
    "    models_trained = best_model_dict.keys()\n",
    "    num_of_models = len(models_trained)\n",
    "\n",
    "    fig, axs = plt.subplots(num_of_models, sharex=True, figsize=(10, num_of_models*4))\n",
    "\n",
    "    for idx, model_ in enumerate(models_trained):\n",
    "        ax = axs[idx]\n",
    "        estimator_ = best_model_dict[model_]\n",
    "        input_features_ = input_features_dict[model_]\n",
    "\n",
    "\n",
    "        feature_series = pd.Series(data = estimator_.feature_importances_, index = input_features_)\n",
    "        feature_series = feature_series.sort_values(ascending = False)\n",
    "\n",
    "        colors = pd.Series('gray', index=feature_series.index)\n",
    "        colors[input_features_[-1]] = 'red'\n",
    "        \n",
    "        sns.barplot(ax=ax, x = feature_series[:10], y = feature_series.index[:10], palette=colors)\n",
    "        ax.set_title(model_)\n",
    "\n",
    "    plt.subplots_adjust(hspace=0.4, wspace=0)\n",
    "    plt.show()"
   ]
  },
  {
   "cell_type": "markdown",
   "id": "bf671969",
   "metadata": {},
   "source": [
    "윈도우 크기 1부터 14까지 훈련시킨 결과 각 특성의 중요도를 그래프로 그리면 다음과 같다.\n",
    "\n",
    "- 윈도우 크기 7까지 방류량 중요도가 가장 높음.\n",
    "- 윈도우 크기 4까지 방류량의 중요도가 계속 증가함."
   ]
  },
  {
   "cell_type": "code",
   "execution_count": 44,
   "id": "3f7b400c",
   "metadata": {},
   "outputs": [
    {
     "data": {
      "text/plain": [
       "<Figure size 1440x7200 with 0 Axes>"
      ]
     },
     "metadata": {},
     "output_type": "display_data"
    },
    {
     "data": {
      "image/png": "[encoded data removed]",
      "text/plain": [
       "<Figure size 720x4032 with 14 Axes>"
      ]
     },
     "metadata": {
      "needs_background": "light"
     },
     "output_type": "display_data"
    }
   ],
   "source": [
    "plt.figure(figsize=(20, 100))\n",
    "\n",
    "feature_importance_barplot(best_model_dict, input_features_dict)"
   ]
  },
  {
   "cell_type": "markdown",
   "id": "a56d3e7f",
   "metadata": {},
   "source": [
    "아래 그래프는 윈도우 크기에 따른 모델의 테스트 성능(score 기준)의 \n",
    "변화를 보여준다. 윈도우 크기 3에서 14까지 성능이 비슷하다."
   ]
  },
  {
   "cell_type": "code",
   "execution_count": 45,
   "id": "6ff85135",
   "metadata": {},
   "outputs": [
    {
     "data": {
      "image/png": "[encoded data removed]",
      "text/plain": [
       "<Figure size 720x432 with 1 Axes>"
      ]
     },
     "metadata": {
      "needs_background": "light"
     },
     "output_type": "display_data"
    }
   ],
   "source": [
    "score_df = pd.DataFrame(test_score_dict, index=['score']).T\n",
    "score_df.plot()\n",
    "plt.xticks(rotation=90)\n",
    "plt.show()"
   ]
  },
  {
   "cell_type": "code",
   "execution_count": null,
   "id": "4c39f5e1",
   "metadata": {},
   "outputs": [],
   "source": []
  }
 ],
 "metadata": {
  "kernelspec": {
   "display_name": "Python 3.9.12 ('base')",
   "language": "python",
   "name": "python3"
  },
  "language_info": {
   "codemirror_mode": {
    "name": "ipython",
    "version": 3
   },
   "file_extension": ".py",
   "mimetype": "text/x-python",
   "name": "python",
   "nbconvert_exporter": "python",
   "pygments_lexer": "ipython3",
   "version": "3.9.12"
  },
  "vscode": {
   "interpreter": {
    "hash": "ad0f3c8a064f687cbf898a0868fd45ba1c7e928ac8a0404f7c241d812ddc1e76"
   }
  }
 },
 "nbformat": 4,
 "nbformat_minor": 5
}
