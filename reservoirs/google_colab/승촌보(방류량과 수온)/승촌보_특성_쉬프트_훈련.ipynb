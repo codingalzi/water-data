{
 "cells": [
  {
   "cell_type": "markdown",
   "metadata": {},
   "source": [
    "# 승촌보 데이터 분석 \n",
    "\n",
    "* 승촌보 수질 데이터(Seungchonbo.xlsx)   \n",
    "    * 2012-2022년  \n",
    "    * 시간 단위 수집 데이터\n",
    "* 승촌보 유량 데이터(Seungchonbo_flow.xlsx)\n",
    "    * 2012-2022년\n",
    "    * 10분 단위 수집 데이터"
   ]
  },
  {
   "cell_type": "markdown",
   "metadata": {},
   "source": [
    "**필수 모듈 임포트**"
   ]
  },
  {
   "cell_type": "code",
   "execution_count": 1,
   "metadata": {},
   "outputs": [],
   "source": [
    "import numpy as np\n",
    "import pandas as pd\n",
    "\n",
    "import matplotlib.pyplot as plt\n",
    "import seaborn as sns\n",
    "\n",
    "import joblib\n",
    "\n",
    "from datetime import datetime"
   ]
  },
  {
   "cell_type": "markdown",
   "metadata": {},
   "source": [
    "**훈련 모델 준비**"
   ]
  },
  {
   "cell_type": "code",
   "execution_count": 2,
   "metadata": {},
   "outputs": [],
   "source": [
    "from sklearn.model_selection import train_test_split\n",
    "from sklearn.model_selection import GridSearchCV\n",
    "from sklearn.preprocessing import StandardScaler\n",
    "from sklearn.ensemble import RandomForestRegressor, GradientBoostingRegressor"
   ]
  },
  {
   "cell_type": "markdown",
   "metadata": {},
   "source": [
    "**matplotlib 한글 설정**"
   ]
  },
  {
   "cell_type": "code",
   "execution_count": 3,
   "metadata": {},
   "outputs": [],
   "source": [
    "# 운영체제에 따른 한글 지원을 설정한다. 지원되는 환경은 윈도우, 우분투, 구글 코랩 등이다.\n",
    "\n",
    "import platform\n",
    "plt.rc('figure', figsize=(10, 6))  # 그림 크기 설정\n",
    "if platform.system() == 'Windows': # 윈도우\n",
    "    from matplotlib import font_manager, rc\n",
    "    font_path = \"C:/Windows/Fonts/NGULIM.TTF\"\n",
    "    font = font_manager.FontProperties(fname=font_path).get_name()\n",
    "    rc('font', family=font)\n",
    "elif platform.system() == 'Linux': # 우분투 또는 구글 코랩\n",
    "    # !sudo apt-get install -y fonts-nanum*\n",
    "    # !fc-cache -fv\n",
    "    \n",
    "    applyfont = \"NanumBarunGothic\"\n",
    "    import matplotlib.font_manager as fm\n",
    "    if not any(map(lambda ft: ft.name == applyfont, fm.fontManager.ttflist)):\n",
    "        fm.fontManager.addfont(\"/usr/share/fonts/truetype/nanum/NanumBarunGothic.ttf\")\n",
    "    plt.rc(\"font\", family=applyfont)\n",
    "    plt.rc(\"axes\", unicode_minus=False)"
   ]
  },
  {
   "cell_type": "markdown",
   "metadata": {},
   "source": [
    "## 승촌보 데이터 불러오기"
   ]
  },
  {
   "cell_type": "markdown",
   "metadata": {},
   "source": [
    "### 수질 데이터 불러오기"
   ]
  },
  {
   "cell_type": "markdown",
   "metadata": {},
   "source": [
    "**보 이름**"
   ]
  },
  {
   "cell_type": "code",
   "execution_count": 4,
   "metadata": {},
   "outputs": [],
   "source": [
    "reservoir = 'Seungchonbo'"
   ]
  },
  {
   "cell_type": "markdown",
   "id": "67006279",
   "metadata": {},
   "source": [
    "**데이터 저장소**"
   ]
  },
  {
   "cell_type": "code",
   "execution_count": 5,
   "metadata": {},
   "outputs": [],
   "source": [
    "base_path = \"https://github.com/codingalzi/water-data/raw/master/reservoirs/\"\n",
    "# base_path = r\"C:\\Users\\owner\\Desktop\\water-source\\data\""
   ]
  },
  {
   "cell_type": "markdown",
   "metadata": {},
   "source": [
    "**시간 단위로 측정된 승촌보 연도별 수질 데이터 불러오기**"
   ]
  },
  {
   "cell_type": "code",
   "execution_count": 6,
   "metadata": {},
   "outputs": [],
   "source": [
    "# '측정일/월' 특성은 date time으로 파싱.\n",
    "# 반환값은 연도별 데이터프레임으로 구성된 사전. 2012년 ~ 2022년\n",
    "\n",
    "data_file = reservoir+\".xlsx\"\n",
    "scb_yearly = pd.read_excel(base_path+data_file, \n",
    "# scb_yearly = pd.read_excel(base_path+\"\\Seungchonbo.xlsx\", \n",
    "                            skiprows=0, \n",
    "                            header=1, \n",
    "                            sheet_name=None,\n",
    "                            na_values='ND',\n",
    "                            parse_dates=[0])  # 측정일/월 특성을 date time으로 파싱"
   ]
  },
  {
   "cell_type": "markdown",
   "metadata": {},
   "source": [
    "**시간 특성을 \"년-월-일 시\" 형식으로 변환하는 함수**"
   ]
  },
  {
   "cell_type": "code",
   "execution_count": 7,
   "metadata": {},
   "outputs": [],
   "source": [
    "# 연도별로 별도로 작동한다.\n",
    "\n",
    "def time2datetime(df_yearly_dict, feature):\n",
    "    for year in list(df_yearly_dict.keys()):\n",
    "        df_yearly_dict[year][feature] = df_yearly_dict[year][feature].apply(lambda x : x.strftime('%Y-%m-%d %H'))\n",
    "    \n",
    "    return df_yearly_dict"
   ]
  },
  {
   "cell_type": "markdown",
   "metadata": {},
   "source": [
    "`'측정일/월'` 특성을 '년-월-일 시'형식으로 변경한다."
   ]
  },
  {
   "cell_type": "code",
   "execution_count": 8,
   "metadata": {},
   "outputs": [],
   "source": [
    "scb_yearly = time2datetime(scb_yearly, '측정일/월')"
   ]
  },
  {
   "cell_type": "markdown",
   "metadata": {},
   "source": [
    "**2012년도 데이터를 제외한 모든 데이터 통합 함수**"
   ]
  },
  {
   "cell_type": "code",
   "execution_count": 9,
   "metadata": {},
   "outputs": [],
   "source": [
    "# 반환값은 데이터프레임\n",
    "\n",
    "def concat_yearly_df(df_yearly_dict):\n",
    "    df_concat = pd.DataFrame()\n",
    "\n",
    "    for year in list(df_yearly_dict.keys())[1:]:\n",
    "        df_concat = pd.concat([df_concat, df_yearly_dict[year]])\n",
    "\n",
    "    return df_concat"
   ]
  },
  {
   "cell_type": "markdown",
   "metadata": {},
   "source": [
    "**연도별 수질 데이터 통합**"
   ]
  },
  {
   "cell_type": "code",
   "execution_count": 10,
   "metadata": {},
   "outputs": [],
   "source": [
    "# 2013년도부터 통합\n",
    "scb_yearly_df13 = concat_yearly_df(scb_yearly)\n",
    "\n",
    "# 인덱스 재설정\n",
    "scb_yearly_df13 = scb_yearly_df13.reset_index(drop=True)"
   ]
  },
  {
   "cell_type": "markdown",
   "metadata": {},
   "source": [
    "### 유량 데이터 불러오기"
   ]
  },
  {
   "cell_type": "markdown",
   "metadata": {},
   "source": [
    "**10분 단위로 측정된 승촌보 연도별 유량 데이터 불러오기**"
   ]
  },
  {
   "cell_type": "code",
   "execution_count": 11,
   "metadata": {},
   "outputs": [],
   "source": [
    "# `시간` 특성은 date time으로 파싱해서 불러온다.\n",
    "# 반환값은 연도별 데이터프레임으로 구성된 사전. 2012년 ~ 2022년\n",
    "\n",
    "flow_data_file = reservoir+\"_flow.xlsx\"\n",
    "scb_flow_yearly = pd.read_excel(base_path+flow_data_file, \n",
    "# scb_flow_yearly = pd.read_excel(base_path+\"\\Seungchonbo_flow.xlsx\", \n",
    "                            header=0, \n",
    "                            sheet_name=None,\n",
    "                            na_values='ND',\n",
    "                            parse_dates=[0])  # 시간 특성을 date time으로 파싱"
   ]
  },
  {
   "cell_type": "markdown",
   "metadata": {},
   "source": [
    "`시간` 특성을 '년-월-일 시' 형식으로 변경한다. "
   ]
  },
  {
   "cell_type": "code",
   "execution_count": 12,
   "metadata": {},
   "outputs": [],
   "source": [
    "scb_flow_yearly = time2datetime(scb_flow_yearly, '시간')"
   ]
  },
  {
   "cell_type": "markdown",
   "metadata": {},
   "source": [
    "**10분 단위를 1시간 단위로 변경**\n",
    "\n",
    "시간별 평균값을 활용한다."
   ]
  },
  {
   "cell_type": "code",
   "execution_count": 13,
   "metadata": {},
   "outputs": [],
   "source": [
    "scb_flow_yearly_hour = {}\n",
    "\n",
    "# groupby의 as_index=False 옵션 사용. 인덱스 자동 재설정됨.\n",
    "for year in list(scb_flow_yearly.keys()):\n",
    "    scb_flow_yearly_hour[year] = scb_flow_yearly[year].groupby('시간', as_index=False).mean()"
   ]
  },
  {
   "cell_type": "markdown",
   "metadata": {},
   "source": [
    "**연도별 유량 데이터 통합**"
   ]
  },
  {
   "cell_type": "code",
   "execution_count": 14,
   "metadata": {},
   "outputs": [],
   "source": [
    "# 2013년부터 통합\n",
    "scb_flow_yearly_hour_df = concat_yearly_df(scb_flow_yearly_hour)\n",
    "\n",
    "# 인덱스 재설정\n",
    "scb_flow_yearly_hour_df = scb_flow_yearly_hour_df.reset_index(drop=True)"
   ]
  },
  {
   "cell_type": "markdown",
   "metadata": {},
   "source": [
    "### 수질/유량 데이터 합병"
   ]
  },
  {
   "cell_type": "markdown",
   "metadata": {},
   "source": [
    "수질 데이터와 유량 데이터를 `측정일/월`과 `시간` 기준으로 합병한다."
   ]
  },
  {
   "cell_type": "code",
   "execution_count": 15,
   "metadata": {},
   "outputs": [],
   "source": [
    "# 수질 데이터의 `측정일/월` 특성 이름을 `시간`으로 변경\n",
    "scb_yearly_df13 = scb_yearly_df13.rename(columns={'측정일/월':'시간'})\n",
    "\n",
    "# `pd.merge()`에서 `how = 'outer'` 키워드 인자 : 두 데이터에 사용된 모든 시간대의 데이터를 모두 추가한다(합집합).\n",
    "scb_data = pd.merge(scb_yearly_df13, scb_flow_yearly_hour_df, how='outer')\n",
    "\n",
    "# 유량 데이터 2022년도 데이터를 더 많이 포함하기에 삭제 필요.\n",
    "scb_data = scb_data[:len(scb_yearly_df13)]\n",
    "\n",
    "# 유량 특성 이름에 공백이 사용되었기에 특성명에 공백 제거\n",
    "scb_data.columns = [x.strip() for x in list(scb_data.columns)]"
   ]
  },
  {
   "cell_type": "markdown",
   "metadata": {},
   "source": [
    "## 데이터셋 전처리"
   ]
  },
  {
   "cell_type": "markdown",
   "metadata": {},
   "source": [
    "**특성 선택**"
   ]
  },
  {
   "cell_type": "markdown",
   "metadata": {},
   "source": [
    "모델 훈련에 사용하지 않을 특성들은 삭제한다."
   ]
  },
  {
   "cell_type": "code",
   "execution_count": 16,
   "metadata": {},
   "outputs": [],
   "source": [
    "to_be_removed = ['측정소명', '수소이온농도', '용존산소 mg/L', '하류수위(EL.m)', '유입량(㎥/s)']\n",
    "\n",
    "scb_data.drop(to_be_removed, axis=1, inplace=True)"
   ]
  },
  {
   "cell_type": "markdown",
   "metadata": {},
   "source": [
    "남은 특성은 다음과 같다."
   ]
  },
  {
   "cell_type": "code",
   "execution_count": 17,
   "metadata": {},
   "outputs": [
    {
     "data": {
      "text/plain": [
       "['시간',\n",
       " '수온 ℃',\n",
       " '전기전도도 μS/cm',\n",
       " '총유기탄소 mg/L',\n",
       " '총질소 mg/L',\n",
       " '총인 mg/L',\n",
       " '클로로필-a mg/㎥',\n",
       " '상류수위(EL.m)',\n",
       " '방류량(㎥/s)']"
      ]
     },
     "execution_count": 17,
     "metadata": {},
     "output_type": "execute_result"
    }
   ],
   "source": [
    "list(scb_data.columns)"
   ]
  },
  {
   "cell_type": "markdown",
   "metadata": {},
   "source": [
    "**클로로필-a 특성 정규화**"
   ]
  },
  {
   "cell_type": "markdown",
   "metadata": {},
   "source": [
    "`'클로로필-a mg/㎥'` 특성을 회귀 모델의 타깃으로 사용할 예정이다.\n",
    "그런데 클로로필 값이 왼편으로 치우친 형태이다."
   ]
  },
  {
   "cell_type": "code",
   "execution_count": 18,
   "metadata": {},
   "outputs": [
    {
     "data": {
      "image/png": "[encoded data removed]",
      "text/plain": [
       "<Figure size 720x432 with 1 Axes>"
      ]
     },
     "metadata": {
      "needs_background": "light"
     },
     "output_type": "display_data"
    }
   ],
   "source": [
    "sns.histplot(scb_data['클로로필-a mg/㎥'])\n",
    "plt.show()"
   ]
  },
  {
   "cell_type": "markdown",
   "metadata": {},
   "source": [
    "`np.log1p()`를 사용해 로그변환하면 클로로필 값이 정규 분포에 가까워진다."
   ]
  },
  {
   "cell_type": "code",
   "execution_count": 19,
   "metadata": {},
   "outputs": [
    {
     "data": {
      "image/png": "[encoded data removed]",
      "text/plain": [
       "<Figure size 720x432 with 1 Axes>"
      ]
     },
     "metadata": {
      "needs_background": "light"
     },
     "output_type": "display_data"
    }
   ],
   "source": [
    "sns.histplot(np.log1p(scb_data['클로로필-a mg/㎥']))\n",
    "plt.show()"
   ]
  },
  {
   "cell_type": "markdown",
   "metadata": {},
   "source": [
    "클로로필 값을 로그 변환한 뒤 `scb_data`에 추가한 뒤 기존의 클로로필 특성은 고려하지 않는다."
   ]
  },
  {
   "cell_type": "code",
   "execution_count": 20,
   "metadata": {},
   "outputs": [],
   "source": [
    "scb_data['log_Chl-a'] = np.log1p(scb_data['클로로필-a mg/㎥'])\n",
    "\n",
    "scb_data = scb_data.drop(['클로로필-a mg/㎥'], axis=1)"
   ]
  },
  {
   "cell_type": "markdown",
   "metadata": {},
   "source": [
    "## shift 특성 추가 함수와 모델 훈련 함수"
   ]
  },
  {
   "cell_type": "markdown",
   "metadata": {},
   "source": [
    "데이터셋을 복제해서 원본은 유지한다."
   ]
  },
  {
   "cell_type": "code",
   "execution_count": 21,
   "metadata": {},
   "outputs": [],
   "source": [
    "scb_df = scb_data.copy()"
   ]
  },
  {
   "cell_type": "markdown",
   "metadata": {},
   "source": [
    "**shift 특성 추가 함수**"
   ]
  },
  {
   "cell_type": "markdown",
   "metadata": {},
   "source": [
    "`feature_shifting()` 함수는 지정된 특성을 대상으로 지정된 크기만큼 shift한 특성을 추가한다. 함수의 인자로 다음 세 개의 값을 받는다.  \n",
    "\n",
    "* `df` : 기존 데이터프레임\n",
    "* `shift_feature` : shift 대상 특성\n",
    "* `shift_step` : shift 크기\n",
    "* 반환값: shift된 특성이 추가된 데이터프레임"
   ]
  },
  {
   "cell_type": "code",
   "execution_count": 22,
   "metadata": {},
   "outputs": [],
   "source": [
    "from pandas import DataFrame\n",
    "import re\n",
    "\n",
    "def feature_shifting(df : DataFrame, shift_feature : str, shift_step : int) -> DataFrame:\n",
    "    shift_feature_ = re.split(' |\\(', shift_feature)[0] # 특성 이름에 사용된 단위 삭제. 공백 또는 여는 괄호 기준 쪼개기\n",
    "\n",
    "    new_dict = dict()\n",
    "    new_dict[str(shift_step) + 'shift_' + shift_feature_] = df[shift_feature].shift(shift_step)\n",
    "    \n",
    "    new_dict = pd.DataFrame(new_dict)\n",
    "\n",
    "    return pd.concat([df, new_dict], axis=1)"
   ]
  },
  {
   "cell_type": "markdown",
   "metadata": {},
   "source": [
    "**그리드 탐색 일괄 처리 함수**"
   ]
  },
  {
   "cell_type": "markdown",
   "metadata": {},
   "source": [
    "`gridsearch()` 함수는 \n",
    "\n",
    "* `model` : 그리드 탐색 대상 모델\n",
    "* `parameters` : 그리드 탐색에 사용될 하이퍼파라미터 모음집\n",
    "* `shift_objects` : shift 대상 특성 및 크기 모음 사전\n",
    "* 반환값: shift 특성과 크기에 따른 최적의 모델과 연관된 네 개의 사전\n",
    "    - `best_model_dict`: 최적의 모델로 구성된 사전\n",
    "    - `model_params_dict`: 최적 모델의 하이퍼파라미터로 구성된 사전\n",
    "    - `test_score_dict`: 최적 모델의 성능지표로 구성된 사전\n",
    "    - `train_features_dict`: 최적 모델 훈련에 사용된 특성들의 리스트로 구성된 사전"
   ]
  },
  {
   "cell_type": "code",
   "execution_count": 23,
   "metadata": {},
   "outputs": [],
   "source": [
    "def gridsearch(model, parameters, shift_objects):\n",
    "    # kind of model\n",
    "    if isinstance(model, RandomForestRegressor):\n",
    "        model_kind = 'rf'\n",
    "    if isinstance(model, GradientBoostingRegressor):\n",
    "        model_kind = 'gb'\n",
    "\n",
    "    # best models\n",
    "    best_model_dict = dict()\n",
    "\n",
    "    # parameters of best models\n",
    "    model_params_dict = dict()\n",
    "\n",
    "    # test scores of the best models\n",
    "    test_score_dict = dict()\n",
    "\n",
    "    # train features of the best models\n",
    "    train_features_dict = dict()\n",
    "\n",
    "    # shift 특성 추가와 모델 훈련\n",
    "    for shift_feature in shift_objects:\n",
    "        # 지정된 특성을 지정된 크기만큼 shift한 새로운 특성 추가\n",
    "        shift_step = shift_objects[shift_feature]\n",
    "        scb_df_shifted = feature_shifting(scb_df, shift_feature, shift_step)\n",
    "\n",
    "        # 결측치는 양방향 12시간 선형 보간법으로 대체. 결측 구간별 최대 24시간의 결측치 대체.\n",
    "        scb_df_shifted['시간'] = scb_df_shifted['시간'].transform(lambda x: datetime.strptime(x, '%Y-%m-%d %H'))\n",
    "        scb_df_shifted = scb_df_shifted.copy().set_index('시간').interpolate(method='time', limit = 12, limit_direction='both')\n",
    "        scb_df_shifted.dropna(inplace=True)\n",
    "\n",
    "        # 타깃 특성\n",
    "        target_feature = 'log_Chl-a'\n",
    "\n",
    "        # 입력 데이터셋 특성\n",
    "        train_features = list(scb_df_shifted.columns)\n",
    "        train_features.remove(target_feature)\n",
    "\n",
    "        # 훈련셋과 테스트셋\n",
    "        inputs = scb_df_shifted[train_features]\n",
    "        targets = scb_df_shifted[target_feature]\n",
    "\n",
    "        X_train, X_test, y_train, y_test = train_test_split(inputs, targets, random_state=42)\n",
    "\n",
    "        # 훈련 모델 이름\n",
    "        shift_feature_ = re.split(' |\\(', shift_feature)[0]\n",
    "        model_name = f\"{reservoir}_{model_kind}_{shift_step}shift_{shift_feature_}\"\n",
    "        print(f\"=== Current model: {model_name} ===\")\n",
    "\n",
    "        # 모델 훈련: 그리드 탐색 적용\n",
    "        model_grid = GridSearchCV(model, param_grid=parameters, cv=3, \n",
    "                                # n_jobs=-1, \n",
    "                                verbose=5)\n",
    "\n",
    "        model_grid.fit(X_train, y_train)\n",
    "\n",
    "        # 그리드 탐색 후 최고 성능 모델 저장\n",
    "        estimator = model_grid.best_estimator_\n",
    "\n",
    "        best_model = model_name+\".pkl\"\n",
    "        joblib.dump(estimator, best_model)\n",
    "\n",
    "        # 저장된 모델 다시 불러오기\n",
    "        estimator = joblib.load(best_model)\n",
    "\n",
    "        # 최고 성능 및 모델 성능 리스트 추가\n",
    "        best_model_dict[model_name] = estimator\n",
    "        model_params_dict[model_name] = dict(DataFrame([estimator.get_params()])[parameters.keys()].iloc[0,:])\n",
    "        test_score_dict[model_name] = estimator.score(X_test, y_test)\n",
    "        train_features_dict[model_name] = train_features\n",
    "\n",
    "    return best_model_dict, model_params_dict, test_score_dict, train_features_dict"
   ]
  },
  {
   "cell_type": "markdown",
   "metadata": {},
   "source": [
    "**특성 중요도를 막대그래프로 그려주는 함수**"
   ]
  },
  {
   "cell_type": "markdown",
   "metadata": {},
   "source": [
    "그리트 탐색으로 얻어딘 각각의 경우에 대한 특성 중요도를 막대그래프로 그려본다."
   ]
  },
  {
   "cell_type": "code",
   "execution_count": 24,
   "metadata": {},
   "outputs": [],
   "source": [
    "# plt.figure(figsize=(10, 6))\n",
    "\n",
    "def feature_importance_barplot(best_model_dict, model_params_dict, test_score_dict, train_features_dict):\n",
    "    models_trained = best_model_dict.keys()\n",
    "    num_of_models = len(models_trained)\n",
    "\n",
    "    fig, axs = plt.subplots(num_of_models, sharex=True)\n",
    "\n",
    "    for idx, model_ in enumerate(models_trained):\n",
    "        ax = axs[idx]\n",
    "        estimator_ = best_model_dict[model_]\n",
    "        model_params_ = model_params_dict[model_]\n",
    "        train_features_ = train_features_dict[model_]\n",
    "\n",
    "        feature_series = pd.Series(data = estimator_.feature_importances_, index = train_features_)\n",
    "        feature_series = feature_series.sort_values(ascending = False)\n",
    "        sns.barplot(ax=ax, x = feature_series[:10], y = feature_series.index[:10], color = 'gray')\n",
    "        ax.set_title(model_+\": \"+str(model_params_))\n",
    "\n",
    "    plt.subplots_adjust(hspace=0.4, wspace=0)\n",
    "    plt.show()"
   ]
  },
  {
   "cell_type": "markdown",
   "metadata": {},
   "source": [
    "## 모델 훈련 - Random Forest"
   ]
  },
  {
   "cell_type": "markdown",
   "metadata": {},
   "source": [
    "**회귀 모델 지정**"
   ]
  },
  {
   "cell_type": "code",
   "execution_count": 25,
   "metadata": {},
   "outputs": [],
   "source": [
    "rf_reg = RandomForestRegressor(random_state=42, oob_score=True, \n",
    "                                # n_jobs=-1\n",
    "                                n_estimators=500)"
   ]
  },
  {
   "cell_type": "markdown",
   "metadata": {},
   "source": [
    "**그리드 탐색 대상 하이퍼파라미터 지정**"
   ]
  },
  {
   "cell_type": "code",
   "execution_count": 26,
   "metadata": {},
   "outputs": [],
   "source": [
    "# parameters = {'max_depth':[5, 10, 15], 'min_samples_leaf':[8, 12, 16]}\n",
    "# (15, 8) 조합이 좋게 나오기에 다음과 같이 해볼 필요 있음.\n",
    "# parameters = {'max_depth':[15, 17, 20], 'min_samples_leaf':[6, 7, 8]}\n",
    "\n",
    "# 아래 경우는 테스트용\n",
    "parameters = {'max_depth':[17], 'min_samples_leaf':[6]}"
   ]
  },
  {
   "cell_type": "markdown",
   "metadata": {},
   "source": [
    "**shift 대상 특성**"
   ]
  },
  {
   "cell_type": "markdown",
   "metadata": {},
   "source": [
    "shift 할 특성과 shift 크기의 쌍으로 이루어진 사전 자료형을 사용해서\n",
    "지정된 특성에 대해 차례대로 특성 추가와 훈련을 처리하도록 한다."
   ]
  },
  {
   "cell_type": "code",
   "execution_count": 27,
   "metadata": {},
   "outputs": [],
   "source": [
    "# shift 대상과 크기 목록 사전\n",
    "shift_objects = {'수온 ℃': 2, '방류량(㎥/s)':6}"
   ]
  },
  {
   "cell_type": "markdown",
   "metadata": {},
   "source": [
    "**특성 중요도 확인**"
   ]
  },
  {
   "cell_type": "markdown",
   "metadata": {},
   "source": [
    "지정된 shift 특성과 크기 각각에 대해 그리드 탐색을 시행한 후에 결과를 확인한다."
   ]
  },
  {
   "cell_type": "code",
   "execution_count": 28,
   "metadata": {},
   "outputs": [
    {
     "name": "stdout",
     "output_type": "stream",
     "text": [
      "=== Current model: Seungchonbo_rf_2shift_수온 ===\n",
      "Fitting 3 folds for each of 1 candidates, totalling 3 fits\n",
      "[CV 1/3] END ..max_depth=17, min_samples_leaf=6;, score=0.903 total time=  38.0s\n",
      "[CV 2/3] END ..max_depth=17, min_samples_leaf=6;, score=0.905 total time=  37.8s\n",
      "[CV 3/3] END ..max_depth=17, min_samples_leaf=6;, score=0.904 total time=  37.8s\n",
      "=== Current model: Seungchonbo_rf_6shift_방류량 ===\n",
      "Fitting 3 folds for each of 1 candidates, totalling 3 fits\n",
      "[CV 1/3] END ..max_depth=17, min_samples_leaf=6;, score=0.901 total time=  39.2s\n",
      "[CV 2/3] END ..max_depth=17, min_samples_leaf=6;, score=0.906 total time=  39.3s\n",
      "[CV 3/3] END ..max_depth=17, min_samples_leaf=6;, score=0.904 total time=  39.9s\n"
     ]
    }
   ],
   "source": [
    "best_model_dict, model_params_dict, test_score_dict, train_features_dict = gridsearch(rf_reg, parameters, shift_objects)"
   ]
  },
  {
   "cell_type": "markdown",
   "metadata": {},
   "source": [
    "각각의 경우에 대한 특성 중요도를 막대그래프로 그려본다."
   ]
  },
  {
   "cell_type": "code",
   "execution_count": 29,
   "metadata": {},
   "outputs": [
    {
     "data": {
      "image/png": "[encoded data removed]",
      "text/plain": [
       "<Figure size 720x432 with 2 Axes>"
      ]
     },
     "metadata": {
      "needs_background": "light"
     },
     "output_type": "display_data"
    }
   ],
   "source": [
    "feature_importance_barplot(best_model_dict, model_params_dict, test_score_dict, train_features_dict)"
   ]
  },
  {
   "cell_type": "markdown",
   "metadata": {},
   "source": [
    "## 모델 훈련 - Gradient Boosting"
   ]
  },
  {
   "cell_type": "markdown",
   "metadata": {},
   "source": [
    "**회귀 모델 지정**"
   ]
  },
  {
   "cell_type": "code",
   "execution_count": 30,
   "metadata": {},
   "outputs": [],
   "source": [
    "gb_reg = GradientBoostingRegressor(random_state=42)"
   ]
  },
  {
   "cell_type": "markdown",
   "metadata": {},
   "source": [
    "**그리드 탐색 대상 하이퍼파라미터 지정**"
   ]
  },
  {
   "cell_type": "code",
   "execution_count": 31,
   "metadata": {},
   "outputs": [],
   "source": [
    "\n",
    "parameters = {'max_depth':[10], 'learning_rate':[0.2]}\n",
    "# parameters = {'max_depth':[5, 10, 15], 'learning_rate':[0.05, 0.1, 0.2]}"
   ]
  },
  {
   "cell_type": "markdown",
   "metadata": {},
   "source": [
    "**shift 대상 특성**"
   ]
  },
  {
   "cell_type": "markdown",
   "metadata": {},
   "source": [
    "shift 할 특성과 shift 크기의 쌍으로 이루어진 사전 자료형을 사용해서\n",
    "지정된 특성에 대해 차례대로 특성 추가와 훈련을 처리하도록 한다."
   ]
  },
  {
   "cell_type": "code",
   "execution_count": 32,
   "metadata": {},
   "outputs": [],
   "source": [
    "# shift 대상과 크기 목록 사전\n",
    "shift_objects = {'수온 ℃': 2, '방류량(㎥/s)':6}"
   ]
  },
  {
   "cell_type": "markdown",
   "metadata": {},
   "source": [
    "**특성 중요도 확인**"
   ]
  },
  {
   "cell_type": "markdown",
   "metadata": {},
   "source": [
    "지정된 shift 특성과 크기 각각에 대해 그리드 탐색을 시행한 후에 결과를 확인한다."
   ]
  },
  {
   "cell_type": "code",
   "execution_count": 33,
   "metadata": {},
   "outputs": [
    {
     "name": "stdout",
     "output_type": "stream",
     "text": [
      "=== Current model: Seungchonbo_gb_2shift_수온 ===\n",
      "Fitting 3 folds for each of 1 candidates, totalling 3 fits\n",
      "[CV 1/3] END ...learning_rate=0.2, max_depth=10;, score=0.925 total time=   9.3s\n",
      "[CV 2/3] END ...learning_rate=0.2, max_depth=10;, score=0.926 total time=   9.2s\n",
      "[CV 3/3] END ...learning_rate=0.2, max_depth=10;, score=0.924 total time=   9.2s\n",
      "=== Current model: Seungchonbo_gb_6shift_방류량 ===\n",
      "Fitting 3 folds for each of 1 candidates, totalling 3 fits\n",
      "[CV 1/3] END ...learning_rate=0.2, max_depth=10;, score=0.926 total time=   9.8s\n",
      "[CV 2/3] END ...learning_rate=0.2, max_depth=10;, score=0.928 total time=   9.9s\n",
      "[CV 3/3] END ...learning_rate=0.2, max_depth=10;, score=0.927 total time=  10.0s\n"
     ]
    }
   ],
   "source": [
    "best_models = gridsearch(gb_reg, parameters, shift_objects)"
   ]
  },
  {
   "cell_type": "markdown",
   "metadata": {},
   "source": [
    "각각의 경우에 대한 특성 중요도를 막대그래프로 그려본다."
   ]
  },
  {
   "cell_type": "code",
   "execution_count": 34,
   "metadata": {},
   "outputs": [
    {
     "data": {
      "image/png": "[encoded data removed]",
      "text/plain": [
       "<Figure size 720x432 with 2 Axes>"
      ]
     },
     "metadata": {
      "needs_background": "light"
     },
     "output_type": "display_data"
    }
   ],
   "source": [
    "feature_importance_barplot(*best_models)"
   ]
  }
 ],
 "metadata": {
  "kernelspec": {
   "display_name": "Python 3.9.12 ('base')",
   "language": "python",
   "name": "python3"
  },
  "language_info": {
   "codemirror_mode": {
    "name": "ipython",
    "version": 3
   },
   "file_extension": ".py",
   "mimetype": "text/x-python",
   "name": "python",
   "nbconvert_exporter": "python",
   "pygments_lexer": "ipython3",
   "version": "3.9.12"
  },
  "vscode": {
   "interpreter": {
    "hash": "ad0f3c8a064f687cbf898a0868fd45ba1c7e928ac8a0404f7c241d812ddc1e76"
   }
  }
 },
 "nbformat": 4,
 "nbformat_minor": 2
}
