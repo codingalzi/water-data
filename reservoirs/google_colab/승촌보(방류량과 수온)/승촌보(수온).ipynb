{
 "cells": [
  {
   "cell_type": "markdown",
   "metadata": {},
   "source": [
    "# 승촌보 데이터 분석 \n",
    "\n",
    "* 승촌보 수질 데이터(Seungchonbo.xlsx)   \n",
    "    * 2012-2022년  \n",
    "    * 시간 단위 수집 데이터\n",
    "* 승촌보 유량 데이터(Seungchonbo_flow.xlsx)\n",
    "    * 2012-2022년\n",
    "    * 10분 단위 수집 데이터"
   ]
  },
  {
   "cell_type": "markdown",
   "metadata": {},
   "source": [
    "## 필요한 모듈 임포트"
   ]
  },
  {
   "cell_type": "code",
   "execution_count": 1,
   "metadata": {},
   "outputs": [],
   "source": [
    "import numpy as np\n",
    "import pandas as pd\n",
    "import matplotlib.pyplot as plt\n",
    "import seaborn as sns\n",
    "\n",
    "import joblib"
   ]
  },
  {
   "cell_type": "code",
   "execution_count": 2,
   "metadata": {},
   "outputs": [],
   "source": [
    "from sklearn.model_selection import train_test_split\n",
    "from sklearn.model_selection import GridSearchCV\n",
    "\n",
    "from sklearn.preprocessing import StandardScaler\n",
    "\n",
    "from sklearn.ensemble import RandomForestRegressor, GradientBoostingRegressor"
   ]
  },
  {
   "cell_type": "markdown",
   "metadata": {},
   "source": [
    "## matplotlib 한글 설정  \n",
    "* 운영체제에 따른 한글 지원 설정. 윈도우, 우분투, 구글 코랩 지원. "
   ]
  },
  {
   "cell_type": "code",
   "execution_count": 3,
   "metadata": {},
   "outputs": [],
   "source": [
    "import platform\n",
    "plt.rc('figure', figsize=(10, 6))  # 그림 크기 설정\n",
    "if platform.system() == 'Windows': # 윈도우\n",
    "    from matplotlib import font_manager, rc\n",
    "    font_path = \"C:/Windows/Fonts/NGULIM.TTF\"\n",
    "    font = font_manager.FontProperties(fname=font_path).get_name()\n",
    "    rc('font', family=font)\n",
    "elif platform.system() == 'Linux': # 우분투 또는 구글 코랩\n",
    "    # !sudo apt-get install -y fonts-nanum*\n",
    "    # !fc-cache -fv\n",
    "    \n",
    "    applyfont = \"NanumBarunGothic\"\n",
    "    import matplotlib.font_manager as fm\n",
    "    if not any(map(lambda ft: ft.name == applyfont, fm.fontManager.ttflist)):\n",
    "        fm.fontManager.addfont(\"/usr/share/fonts/truetype/nanum/NanumBarunGothic.ttf\")\n",
    "    plt.rc(\"font\", family=applyfont)\n",
    "    plt.rc(\"axes\", unicode_minus=False)"
   ]
  },
  {
   "cell_type": "markdown",
   "metadata": {},
   "source": [
    "## 승촌보 수질 데이터 불러오기"
   ]
  },
  {
   "cell_type": "markdown",
   "metadata": {},
   "source": [
    "데이터 저장소"
   ]
  },
  {
   "cell_type": "code",
   "execution_count": 4,
   "id": "67006279",
   "metadata": {},
   "outputs": [],
   "source": [
    "base_path = \"https://github.com/codingalzi/water-data/raw/master/reservoirs/\"\n",
    "# base_path = r\"C:\\Users\\owner\\Desktop\\water-source\\data\""
   ]
  },
  {
   "cell_type": "markdown",
   "metadata": {},
   "source": [
    "승촌보 데이터 불러오기. `'측정일/월'` 특성은 date time으로 파싱."
   ]
  },
  {
   "cell_type": "markdown",
   "metadata": {},
   "source": [
    "## "
   ]
  },
  {
   "cell_type": "code",
   "execution_count": 5,
   "metadata": {},
   "outputs": [],
   "source": [
    "scb_yearly = pd.read_excel(base_path+\"Seungchonbo.xlsx\", \n",
    "# scb_yearly = pd.read_excel(base_path+\"\\Seungchonbo.xlsx\", \n",
    "                            skiprows=0, \n",
    "                            header=1, \n",
    "                            sheet_name=None,\n",
    "                            na_values='ND',\n",
    "                            parse_dates=[0])  # 측정일/월 특성을 date time으로 파싱"
   ]
  },
  {
   "cell_type": "markdown",
   "metadata": {},
   "source": [
    "`scb_yearly`는 연도별 데이터프레임을 갖는 사전 자료형."
   ]
  },
  {
   "cell_type": "code",
   "execution_count": 6,
   "metadata": {},
   "outputs": [
    {
     "name": "stdout",
     "output_type": "stream",
     "text": [
      "<class 'dict'>\n",
      "==================================================\n",
      "dict_keys(['2012년', '2013년', '2014년', '2015년', '2016년', '2017년', '2018년', '2019년', '2020년', '2021년', '2022년'])\n",
      "==================================================\n",
      "RangeIndex(start=0, stop=8750, step=1)\n",
      "==================================================\n",
      "                측정일/월 측정소명  수온 ℃  수소이온농도  전기전도도 μS/cm  용존산소 mg/L  총유기탄소 mg/L  \\\n",
      "0 2013-01-01 00:00:00   용봉   3.9     6.9        374.0       11.4         2.5   \n",
      "1 2013-01-01 01:00:00   용봉   3.9     6.9        375.0       11.4         2.5   \n",
      "2 2013-01-01 02:00:00   용봉   4.0     6.9        374.0       11.4         2.5   \n",
      "\n",
      "   총질소 mg/L  총인 mg/L  클로로필-a mg/㎥  \n",
      "0       NaN      NaN          7.2  \n",
      "1       NaN      NaN          6.9  \n",
      "2       NaN      NaN          6.8  \n"
     ]
    }
   ],
   "source": [
    "print(type(scb_yearly))\n",
    "print('='*50)\n",
    "print(scb_yearly.keys())\n",
    "print('='*50)\n",
    "print(scb_yearly['2013년'].index)\n",
    "print('='*50)\n",
    "print(scb_yearly['2013년'].head(3))"
   ]
  },
  {
   "cell_type": "markdown",
   "metadata": {},
   "source": [
    "연도별 특성은 모두 동일하며 다음과 같다."
   ]
  },
  {
   "cell_type": "code",
   "execution_count": 7,
   "metadata": {},
   "outputs": [
    {
     "name": "stdout",
     "output_type": "stream",
     "text": [
      "Index(['측정일/월', '측정소명', '수온 ℃', '수소이온농도', '전기전도도 μS/cm', '용존산소 mg/L',\n",
      "       '총유기탄소 mg/L', '총질소 mg/L', '총인 mg/L', '클로로필-a mg/㎥'],\n",
      "      dtype='object')\n"
     ]
    }
   ],
   "source": [
    "print(scb_yearly['2013년'].columns)"
   ]
  },
  {
   "cell_type": "markdown",
   "metadata": {},
   "source": [
    "`'측정일/월'` 특성을 '년-월-일 시'형식으로 변경한다."
   ]
  },
  {
   "cell_type": "code",
   "execution_count": 8,
   "metadata": {},
   "outputs": [],
   "source": [
    "for year in scb_yearly:\n",
    "    scb_yearly[year]['측정일/월'] = scb_yearly[year]['측정일/월'].apply(lambda x :  x.strftime('%Y-%m-%d %H'))"
   ]
  },
  {
   "cell_type": "code",
   "execution_count": 9,
   "metadata": {},
   "outputs": [
    {
     "name": "stdout",
     "output_type": "stream",
     "text": [
      "           측정일/월 측정소명  수온 ℃  수소이온농도  전기전도도 μS/cm  용존산소 mg/L  총유기탄소 mg/L  \\\n",
      "0  2013-01-01 00   용봉   3.9     6.9        374.0       11.4         2.5   \n",
      "1  2013-01-01 01   용봉   3.9     6.9        375.0       11.4         2.5   \n",
      "2  2013-01-01 02   용봉   4.0     6.9        374.0       11.4         2.5   \n",
      "\n",
      "   총질소 mg/L  총인 mg/L  클로로필-a mg/㎥  \n",
      "0       NaN      NaN          7.2  \n",
      "1       NaN      NaN          6.9  \n",
      "2       NaN      NaN          6.8  \n"
     ]
    }
   ],
   "source": [
    "print(scb_yearly['2013년'].head(3))"
   ]
  },
  {
   "cell_type": "markdown",
   "metadata": {},
   "source": [
    "### 연도별 수질 데이터 통합\n",
    "\n",
    "2012년도 데이터를 제외한 모든 데이터를 통합"
   ]
  },
  {
   "cell_type": "code",
   "execution_count": 10,
   "metadata": {},
   "outputs": [],
   "source": [
    "scb_yearly_df13 = pd.DataFrame()\n",
    "\n",
    "for year in list(scb_yearly.keys())[1:]:\n",
    "    scb_yearly_df13 = pd.concat([scb_yearly_df13, scb_yearly[year]])"
   ]
  },
  {
   "cell_type": "code",
   "execution_count": 11,
   "metadata": {},
   "outputs": [
    {
     "name": "stdout",
     "output_type": "stream",
     "text": [
      "           측정일/월 측정소명  수온 ℃  수소이온농도  전기전도도 μS/cm  용존산소 mg/L  총유기탄소 mg/L  \\\n",
      "0  2013-01-01 00   용봉   3.9     6.9        374.0       11.4         2.5   \n",
      "1  2013-01-01 01   용봉   3.9     6.9        375.0       11.4         2.5   \n",
      "2  2013-01-01 02   용봉   4.0     6.9        374.0       11.4         2.5   \n",
      "\n",
      "   총질소 mg/L  총인 mg/L  클로로필-a mg/㎥  \n",
      "0       NaN      NaN          7.2  \n",
      "1       NaN      NaN          6.9  \n",
      "2       NaN      NaN          6.8  \n",
      "==================================================\n",
      "              측정일/월 측정소명  수온 ℃  수소이온농도  전기전도도 μS/cm  용존산소 mg/L  총유기탄소 mg/L  \\\n",
      "3429  2022-05-23 21   용봉  25.9     6.8        417.0        NaN         6.7   \n",
      "3430  2022-05-23 22   용봉  25.7     6.8        420.0        NaN         6.4   \n",
      "3431  2022-05-23 23   용봉  25.5     6.8        411.0        NaN         6.4   \n",
      "\n",
      "      총질소 mg/L  총인 mg/L  클로로필-a mg/㎥  \n",
      "3429     5.909    0.107         58.3  \n",
      "3430     5.921    0.106         54.4  \n",
      "3431     5.818    0.106         52.3  \n"
     ]
    }
   ],
   "source": [
    "print(scb_yearly_df13.head(3))\n",
    "print('='*50)\n",
    "print(scb_yearly_df13.tail(3))"
   ]
  },
  {
   "cell_type": "markdown",
   "metadata": {},
   "source": [
    "인덱스 리셋(기존 인덱스는 삭제)"
   ]
  },
  {
   "cell_type": "code",
   "execution_count": 12,
   "metadata": {},
   "outputs": [],
   "source": [
    "scb_yearly_df13 = scb_yearly_df13.reset_index(drop=True)"
   ]
  },
  {
   "cell_type": "code",
   "execution_count": 13,
   "metadata": {},
   "outputs": [
    {
     "name": "stdout",
     "output_type": "stream",
     "text": [
      "           측정일/월 측정소명  수온 ℃  수소이온농도  전기전도도 μS/cm  용존산소 mg/L  총유기탄소 mg/L  \\\n",
      "0  2013-01-01 00   용봉   3.9     6.9        374.0       11.4         2.5   \n",
      "1  2013-01-01 01   용봉   3.9     6.9        375.0       11.4         2.5   \n",
      "2  2013-01-01 02   용봉   4.0     6.9        374.0       11.4         2.5   \n",
      "\n",
      "   총질소 mg/L  총인 mg/L  클로로필-a mg/㎥  \n",
      "0       NaN      NaN          7.2  \n",
      "1       NaN      NaN          6.9  \n",
      "2       NaN      NaN          6.8  \n",
      "==================================================\n",
      "               측정일/월 측정소명  수온 ℃  수소이온농도  전기전도도 μS/cm  용존산소 mg/L  총유기탄소 mg/L  \\\n",
      "82254  2022-05-23 21   용봉  25.9     6.8        417.0        NaN         6.7   \n",
      "82255  2022-05-23 22   용봉  25.7     6.8        420.0        NaN         6.4   \n",
      "82256  2022-05-23 23   용봉  25.5     6.8        411.0        NaN         6.4   \n",
      "\n",
      "       총질소 mg/L  총인 mg/L  클로로필-a mg/㎥  \n",
      "82254     5.909    0.107         58.3  \n",
      "82255     5.921    0.106         54.4  \n",
      "82256     5.818    0.106         52.3  \n"
     ]
    }
   ],
   "source": [
    "print(scb_yearly_df13.head(3))\n",
    "print('='*50)\n",
    "print(scb_yearly_df13.tail(3))"
   ]
  },
  {
   "cell_type": "markdown",
   "metadata": {},
   "source": [
    "기본 정보 확인"
   ]
  },
  {
   "cell_type": "code",
   "execution_count": 14,
   "metadata": {},
   "outputs": [
    {
     "name": "stdout",
     "output_type": "stream",
     "text": [
      "<class 'pandas.core.frame.DataFrame'>\n",
      "RangeIndex: 82257 entries, 0 to 82256\n",
      "Data columns (total 10 columns):\n",
      " #   Column       Non-Null Count  Dtype  \n",
      "---  ------       --------------  -----  \n",
      " 0   측정일/월        82257 non-null  object \n",
      " 1   측정소명         82257 non-null  object \n",
      " 2   수온 ℃         64574 non-null  float64\n",
      " 3   수소이온농도       64561 non-null  float64\n",
      " 4   전기전도도 μS/cm  64524 non-null  float64\n",
      " 5   용존산소 mg/L    62656 non-null  float64\n",
      " 6   총유기탄소 mg/L   58675 non-null  float64\n",
      " 7   총질소 mg/L     59981 non-null  float64\n",
      " 8   총인 mg/L      58997 non-null  float64\n",
      " 9   클로로필-a mg/㎥  62876 non-null  float64\n",
      "dtypes: float64(8), object(2)\n",
      "memory usage: 6.3+ MB\n"
     ]
    }
   ],
   "source": [
    "scb_yearly_df13.info()"
   ]
  },
  {
   "cell_type": "markdown",
   "metadata": {},
   "source": [
    "**결측치 확인**  \n",
    "\n",
    "측정일과 측정소를 제외한 모든 특성에 다수의 결측치가 포함된다."
   ]
  },
  {
   "cell_type": "code",
   "execution_count": 15,
   "metadata": {},
   "outputs": [
    {
     "data": {
      "text/plain": [
       "측정일/월              0\n",
       "측정소명               0\n",
       "수온 ℃           17683\n",
       "수소이온농도         17696\n",
       "전기전도도 μS/cm    17733\n",
       "용존산소 mg/L      19601\n",
       "총유기탄소 mg/L     23582\n",
       "총질소 mg/L       22276\n",
       "총인 mg/L        23260\n",
       "클로로필-a mg/㎥    19381\n",
       "dtype: int64"
      ]
     },
     "execution_count": 15,
     "metadata": {},
     "output_type": "execute_result"
    }
   ],
   "source": [
    "scb_yearly_df13.isnull().sum()"
   ]
  },
  {
   "cell_type": "markdown",
   "metadata": {},
   "source": [
    "## 승촌보 유량 데이터 추가\n",
    "\n",
    "`시간` 특성은 date time으로 파싱해서 불러온다."
   ]
  },
  {
   "cell_type": "code",
   "execution_count": 16,
   "metadata": {},
   "outputs": [],
   "source": [
    "scb_flow_yearly = pd.read_excel(base_path+\"Seungchonbo_flow.xlsx\", \n",
    "# scb_flow_yearly = pd.read_excel(base_path+\"\\Seungchonbo_flow.xlsx\", \n",
    "                            header=0, \n",
    "                            sheet_name=None,\n",
    "                            na_values='ND',\n",
    "                            parse_dates=[0])  # 시간 특성을 date time으로 파싱"
   ]
  },
  {
   "cell_type": "markdown",
   "metadata": {},
   "source": [
    "`scb_flow_yearly`도 연도별 데이터프레임을 갖는 사전 자료형이다."
   ]
  },
  {
   "cell_type": "code",
   "execution_count": 17,
   "metadata": {},
   "outputs": [
    {
     "name": "stdout",
     "output_type": "stream",
     "text": [
      "<class 'dict'>\n",
      "==================================================\n",
      "dict_keys(['2012', '2013', '2014', '2015', '2016', '2017', '2018', '2019', '2020', '2021', '2022'])\n",
      "==================================================\n",
      "<class 'pandas.core.frame.DataFrame'>\n",
      "RangeIndex: 52560 entries, 0 to 52559\n",
      "Data columns (total 5 columns):\n",
      " #   Column       Non-Null Count  Dtype         \n",
      "---  ------       --------------  -----         \n",
      " 0   시간           52560 non-null  datetime64[ns]\n",
      " 1    상류수위(EL.m)  52560 non-null  float64       \n",
      " 2    하류수위(EL.m)  52560 non-null  float64       \n",
      " 3    유입량(㎥/s)    52560 non-null  float64       \n",
      " 4    방류량(㎥/s)    52560 non-null  float64       \n",
      "dtypes: datetime64[ns](1), float64(4)\n",
      "memory usage: 2.0 MB\n",
      "None\n",
      "==================================================\n",
      "                   시간   상류수위(EL.m)   하류수위(EL.m)   유입량(㎥/s)   방류량(㎥/s)\n",
      "0 2013-01-01 00:00:00          7.5         3.77      19.82      19.74\n",
      "1 2013-01-01 00:10:00          7.5         3.77      19.78      19.76\n",
      "2 2013-01-01 00:20:00          7.5         3.77      19.77      19.82\n"
     ]
    }
   ],
   "source": [
    "print(type(scb_flow_yearly))\n",
    "print('='*50)\n",
    "print(scb_flow_yearly.keys())\n",
    "print('='*50)\n",
    "print(scb_flow_yearly['2013'].info())\n",
    "print('='*50)\n",
    "print(scb_flow_yearly['2013'].head(3))"
   ]
  },
  {
   "cell_type": "markdown",
   "metadata": {},
   "source": [
    "`시간` 특성을 '년-월-일 시' 형식으로 변경한다. "
   ]
  },
  {
   "cell_type": "code",
   "execution_count": 18,
   "metadata": {},
   "outputs": [],
   "source": [
    "\n",
    "for year in list(scb_flow_yearly.keys())[1:]:\n",
    "    scb_flow_yearly[year]['시간'] = scb_flow_yearly[year]['시간'].apply(lambda x : x.strftime('%Y-%m-%d %H'))"
   ]
  },
  {
   "cell_type": "code",
   "execution_count": 19,
   "metadata": {},
   "outputs": [
    {
     "name": "stdout",
     "output_type": "stream",
     "text": [
      "              시간   상류수위(EL.m)   하류수위(EL.m)   유입량(㎥/s)   방류량(㎥/s)\n",
      "0  2013-01-01 00          7.5         3.77      19.82      19.74\n",
      "1  2013-01-01 00          7.5         3.77      19.78      19.76\n",
      "2  2013-01-01 00          7.5         3.77      19.77      19.82\n"
     ]
    }
   ],
   "source": [
    "print(scb_flow_yearly['2013'].head(3))"
   ]
  },
  {
   "cell_type": "markdown",
   "metadata": {},
   "source": [
    "10분 단위로 수집된 수량 데이터를 시간 단위 데이터로 변환한다(시간대별 평균). 단, 데이터가 적은 2012년도 데이터는 무시한다."
   ]
  },
  {
   "cell_type": "code",
   "execution_count": 20,
   "metadata": {},
   "outputs": [],
   "source": [
    "scb_flow_yearly_hour = {}\n",
    "\n",
    "for year in list(scb_flow_yearly.keys())[1:]:\n",
    "    scb_flow_yearly_hour[year] = scb_flow_yearly[year].groupby('시간').mean()"
   ]
  },
  {
   "cell_type": "code",
   "execution_count": 21,
   "metadata": {},
   "outputs": [
    {
     "name": "stdout",
     "output_type": "stream",
     "text": [
      "                상류수위(EL.m)   하류수위(EL.m)   유입량(㎥/s)   방류량(㎥/s)\n",
      "시간                                                           \n",
      "2013-01-01 00          7.5         3.77  19.773333  19.748333\n",
      "2013-01-01 01          7.5         3.77  19.701667  19.706667\n",
      "2013-01-01 02          7.5         3.77  19.748333  19.723333\n"
     ]
    }
   ],
   "source": [
    "print(scb_flow_yearly_hour['2013'].head(3))"
   ]
  },
  {
   "cell_type": "markdown",
   "metadata": {},
   "source": [
    "인덱스 추가"
   ]
  },
  {
   "cell_type": "code",
   "execution_count": 22,
   "metadata": {},
   "outputs": [],
   "source": [
    "for year in scb_flow_yearly_hour:\n",
    "    scb_flow_yearly_hour[year] = scb_flow_yearly_hour[year].reset_index()"
   ]
  },
  {
   "cell_type": "code",
   "execution_count": 23,
   "metadata": {},
   "outputs": [
    {
     "data": {
      "text/html": [
       "<div>\n",
       "<style scoped>\n",
       "    .dataframe tbody tr th:only-of-type {\n",
       "        vertical-align: middle;\n",
       "    }\n",
       "\n",
       "    .dataframe tbody tr th {\n",
       "        vertical-align: top;\n",
       "    }\n",
       "\n",
       "    .dataframe thead th {\n",
       "        text-align: right;\n",
       "    }\n",
       "</style>\n",
       "<table border=\"1\" class=\"dataframe\">\n",
       "  <thead>\n",
       "    <tr style=\"text-align: right;\">\n",
       "      <th></th>\n",
       "      <th>시간</th>\n",
       "      <th>상류수위(EL.m)</th>\n",
       "      <th>하류수위(EL.m)</th>\n",
       "      <th>유입량(㎥/s)</th>\n",
       "      <th>방류량(㎥/s)</th>\n",
       "    </tr>\n",
       "  </thead>\n",
       "  <tbody>\n",
       "    <tr>\n",
       "      <th>0</th>\n",
       "      <td>2013-01-01 00</td>\n",
       "      <td>7.5</td>\n",
       "      <td>3.77</td>\n",
       "      <td>19.773333</td>\n",
       "      <td>19.748333</td>\n",
       "    </tr>\n",
       "    <tr>\n",
       "      <th>1</th>\n",
       "      <td>2013-01-01 01</td>\n",
       "      <td>7.5</td>\n",
       "      <td>3.77</td>\n",
       "      <td>19.701667</td>\n",
       "      <td>19.706667</td>\n",
       "    </tr>\n",
       "    <tr>\n",
       "      <th>2</th>\n",
       "      <td>2013-01-01 02</td>\n",
       "      <td>7.5</td>\n",
       "      <td>3.77</td>\n",
       "      <td>19.748333</td>\n",
       "      <td>19.723333</td>\n",
       "    </tr>\n",
       "  </tbody>\n",
       "</table>\n",
       "</div>"
      ],
      "text/plain": [
       "              시간   상류수위(EL.m)   하류수위(EL.m)   유입량(㎥/s)   방류량(㎥/s)\n",
       "0  2013-01-01 00          7.5         3.77  19.773333  19.748333\n",
       "1  2013-01-01 01          7.5         3.77  19.701667  19.706667\n",
       "2  2013-01-01 02          7.5         3.77  19.748333  19.723333"
      ]
     },
     "execution_count": 23,
     "metadata": {},
     "output_type": "execute_result"
    }
   ],
   "source": [
    "scb_flow_yearly_hour['2013'].head(3)"
   ]
  },
  {
   "cell_type": "markdown",
   "metadata": {},
   "source": [
    "승촌보 유량 데이터 통합(2013년부터)"
   ]
  },
  {
   "cell_type": "code",
   "execution_count": 24,
   "metadata": {},
   "outputs": [],
   "source": [
    "scb_flow_yearly_hour_df = pd.DataFrame()\n",
    "\n",
    "for year in scb_flow_yearly_hour:\n",
    "    scb_flow_yearly_hour_df = pd.concat([scb_flow_yearly_hour_df, scb_flow_yearly_hour[year]])"
   ]
  },
  {
   "cell_type": "code",
   "execution_count": 25,
   "metadata": {},
   "outputs": [
    {
     "name": "stdout",
     "output_type": "stream",
     "text": [
      "              시간   상류수위(EL.m)   하류수위(EL.m)   유입량(㎥/s)   방류량(㎥/s)\n",
      "0  2013-01-01 00          7.5         3.77  19.773333  19.748333\n",
      "1  2013-01-01 01          7.5         3.77  19.701667  19.706667\n",
      "2  2013-01-01 02          7.5         3.77  19.748333  19.723333\n",
      "==================================================\n",
      "                 시간   상류수위(EL.m)   하류수위(EL.m)   유입량(㎥/s)   방류량(㎥/s)\n",
      "5489  2022-08-17 17     5.483333     1.626667  29.068333  44.878333\n",
      "5490  2022-08-17 18     5.470000     1.566667  19.131667  14.925000\n",
      "5491  2022-08-17 19     5.468333     1.581667  18.811667  19.368333\n"
     ]
    }
   ],
   "source": [
    "print(scb_flow_yearly_hour_df.head(3))\n",
    "print('='*50)\n",
    "print(scb_flow_yearly_hour_df.tail(3))"
   ]
  },
  {
   "cell_type": "markdown",
   "metadata": {},
   "source": [
    "유량 데이터 인덱스 리셋(기존 인덱스 삭제)"
   ]
  },
  {
   "cell_type": "code",
   "execution_count": 26,
   "metadata": {},
   "outputs": [],
   "source": [
    "scb_flow_yearly_hour_df = scb_flow_yearly_hour_df.reset_index(drop=True)"
   ]
  },
  {
   "cell_type": "code",
   "execution_count": 27,
   "metadata": {},
   "outputs": [
    {
     "name": "stdout",
     "output_type": "stream",
     "text": [
      "              시간   상류수위(EL.m)   하류수위(EL.m)   유입량(㎥/s)   방류량(㎥/s)\n",
      "0  2013-01-01 00          7.5         3.77  19.773333  19.748333\n",
      "1  2013-01-01 01          7.5         3.77  19.701667  19.706667\n",
      "2  2013-01-01 02          7.5         3.77  19.748333  19.723333\n",
      "==================================================\n",
      "                  시간   상류수위(EL.m)   하류수위(EL.m)   유입량(㎥/s)   방류량(㎥/s)\n",
      "84351  2022-08-17 17     5.483333     1.626667  29.068333  44.878333\n",
      "84352  2022-08-17 18     5.470000     1.566667  19.131667  14.925000\n",
      "84353  2022-08-17 19     5.468333     1.581667  18.811667  19.368333\n"
     ]
    }
   ],
   "source": [
    "print(scb_flow_yearly_hour_df.head(3))\n",
    "print('='*50)\n",
    "print(scb_flow_yearly_hour_df.tail(3))"
   ]
  },
  {
   "cell_type": "markdown",
   "metadata": {},
   "source": [
    "기본 정보 확인"
   ]
  },
  {
   "cell_type": "code",
   "execution_count": 28,
   "metadata": {},
   "outputs": [
    {
     "name": "stdout",
     "output_type": "stream",
     "text": [
      "<class 'pandas.core.frame.DataFrame'>\n",
      "RangeIndex: 84354 entries, 0 to 84353\n",
      "Data columns (total 5 columns):\n",
      " #   Column       Non-Null Count  Dtype  \n",
      "---  ------       --------------  -----  \n",
      " 0   시간           84354 non-null  object \n",
      " 1    상류수위(EL.m)  84354 non-null  float64\n",
      " 2    하류수위(EL.m)  84354 non-null  float64\n",
      " 3    유입량(㎥/s)    84354 non-null  float64\n",
      " 4    방류량(㎥/s)    84354 non-null  float64\n",
      "dtypes: float64(4), object(1)\n",
      "memory usage: 3.2+ MB\n"
     ]
    }
   ],
   "source": [
    "scb_flow_yearly_hour_df.info()"
   ]
  },
  {
   "cell_type": "markdown",
   "metadata": {},
   "source": [
    "## 수질/유량 데이터 합병  \n",
    "수질 데이터와 유량 데이터를 `측정일/월`과 `시간` 기준으로 합병한다.   \n",
    "\n",
    "* 수질 데이터의 `측정일/월` 특성 이름을 `시간`으로 변경"
   ]
  },
  {
   "cell_type": "code",
   "execution_count": 29,
   "metadata": {},
   "outputs": [],
   "source": [
    "scb_yearly_df13 = scb_yearly_df13.rename(columns={'측정일/월':'시간'})"
   ]
  },
  {
   "cell_type": "code",
   "execution_count": 30,
   "metadata": {},
   "outputs": [
    {
     "data": {
      "text/html": [
       "<div>\n",
       "<style scoped>\n",
       "    .dataframe tbody tr th:only-of-type {\n",
       "        vertical-align: middle;\n",
       "    }\n",
       "\n",
       "    .dataframe tbody tr th {\n",
       "        vertical-align: top;\n",
       "    }\n",
       "\n",
       "    .dataframe thead th {\n",
       "        text-align: right;\n",
       "    }\n",
       "</style>\n",
       "<table border=\"1\" class=\"dataframe\">\n",
       "  <thead>\n",
       "    <tr style=\"text-align: right;\">\n",
       "      <th></th>\n",
       "      <th>시간</th>\n",
       "      <th>측정소명</th>\n",
       "      <th>수온 ℃</th>\n",
       "      <th>수소이온농도</th>\n",
       "      <th>전기전도도 μS/cm</th>\n",
       "      <th>용존산소 mg/L</th>\n",
       "      <th>총유기탄소 mg/L</th>\n",
       "      <th>총질소 mg/L</th>\n",
       "      <th>총인 mg/L</th>\n",
       "      <th>클로로필-a mg/㎥</th>\n",
       "    </tr>\n",
       "  </thead>\n",
       "  <tbody>\n",
       "    <tr>\n",
       "      <th>0</th>\n",
       "      <td>2013-01-01 00</td>\n",
       "      <td>용봉</td>\n",
       "      <td>3.9</td>\n",
       "      <td>6.9</td>\n",
       "      <td>374.0</td>\n",
       "      <td>11.4</td>\n",
       "      <td>2.5</td>\n",
       "      <td>NaN</td>\n",
       "      <td>NaN</td>\n",
       "      <td>7.2</td>\n",
       "    </tr>\n",
       "    <tr>\n",
       "      <th>1</th>\n",
       "      <td>2013-01-01 01</td>\n",
       "      <td>용봉</td>\n",
       "      <td>3.9</td>\n",
       "      <td>6.9</td>\n",
       "      <td>375.0</td>\n",
       "      <td>11.4</td>\n",
       "      <td>2.5</td>\n",
       "      <td>NaN</td>\n",
       "      <td>NaN</td>\n",
       "      <td>6.9</td>\n",
       "    </tr>\n",
       "    <tr>\n",
       "      <th>2</th>\n",
       "      <td>2013-01-01 02</td>\n",
       "      <td>용봉</td>\n",
       "      <td>4.0</td>\n",
       "      <td>6.9</td>\n",
       "      <td>374.0</td>\n",
       "      <td>11.4</td>\n",
       "      <td>2.5</td>\n",
       "      <td>NaN</td>\n",
       "      <td>NaN</td>\n",
       "      <td>6.8</td>\n",
       "    </tr>\n",
       "  </tbody>\n",
       "</table>\n",
       "</div>"
      ],
      "text/plain": [
       "              시간 측정소명  수온 ℃  수소이온농도  전기전도도 μS/cm  용존산소 mg/L  총유기탄소 mg/L  \\\n",
       "0  2013-01-01 00   용봉   3.9     6.9        374.0       11.4         2.5   \n",
       "1  2013-01-01 01   용봉   3.9     6.9        375.0       11.4         2.5   \n",
       "2  2013-01-01 02   용봉   4.0     6.9        374.0       11.4         2.5   \n",
       "\n",
       "   총질소 mg/L  총인 mg/L  클로로필-a mg/㎥  \n",
       "0       NaN      NaN          7.2  \n",
       "1       NaN      NaN          6.9  \n",
       "2       NaN      NaN          6.8  "
      ]
     },
     "execution_count": 30,
     "metadata": {},
     "output_type": "execute_result"
    }
   ],
   "source": [
    "scb_yearly_df13.head(3)"
   ]
  },
  {
   "cell_type": "markdown",
   "metadata": {},
   "source": [
    "`pd.merge()`에서 `how = 'outer'` 키워드 인자 : 두 데이터에 사용된 모든 시간대의 데이터를 모두 추가한다(합집합)."
   ]
  },
  {
   "cell_type": "code",
   "execution_count": 31,
   "metadata": {},
   "outputs": [],
   "source": [
    "scb_data = pd.merge(scb_yearly_df13, scb_flow_yearly_hour_df, how='outer')"
   ]
  },
  {
   "cell_type": "code",
   "execution_count": 32,
   "metadata": {},
   "outputs": [
    {
     "name": "stdout",
     "output_type": "stream",
     "text": [
      "<class 'pandas.core.frame.DataFrame'>\n",
      "Int64Index: 84380 entries, 0 to 84379\n",
      "Data columns (total 14 columns):\n",
      " #   Column       Non-Null Count  Dtype  \n",
      "---  ------       --------------  -----  \n",
      " 0   시간           84380 non-null  object \n",
      " 1   측정소명         82257 non-null  object \n",
      " 2   수온 ℃         64574 non-null  float64\n",
      " 3   수소이온농도       64561 non-null  float64\n",
      " 4   전기전도도 μS/cm  64524 non-null  float64\n",
      " 5   용존산소 mg/L    62656 non-null  float64\n",
      " 6   총유기탄소 mg/L   58675 non-null  float64\n",
      " 7   총질소 mg/L     59981 non-null  float64\n",
      " 8   총인 mg/L      58997 non-null  float64\n",
      " 9   클로로필-a mg/㎥  62876 non-null  float64\n",
      " 10   상류수위(EL.m)  84354 non-null  float64\n",
      " 11   하류수위(EL.m)  84354 non-null  float64\n",
      " 12   유입량(㎥/s)    84354 non-null  float64\n",
      " 13   방류량(㎥/s)    84354 non-null  float64\n",
      "dtypes: float64(12), object(2)\n",
      "memory usage: 9.7+ MB\n"
     ]
    }
   ],
   "source": [
    "scb_data.info()"
   ]
  },
  {
   "cell_type": "markdown",
   "metadata": {},
   "source": [
    "수질 데이터(~22년5월23일)는 82257개의 데이터 샘플.  \n",
    "유량 데이터(~22년8월17일)는 84354개의 데이터 샘플"
   ]
  },
  {
   "cell_type": "code",
   "execution_count": 33,
   "metadata": {},
   "outputs": [
    {
     "name": "stdout",
     "output_type": "stream",
     "text": [
      "82257\n",
      "84354\n"
     ]
    }
   ],
   "source": [
    "print(scb_yearly_df13.__len__())\n",
    "print(scb_flow_yearly_hour_df.__len__())"
   ]
  },
  {
   "cell_type": "markdown",
   "metadata": {},
   "source": [
    "유량 데이터만 있는 일자의 데이터는 삭제"
   ]
  },
  {
   "cell_type": "code",
   "execution_count": 34,
   "metadata": {},
   "outputs": [],
   "source": [
    "scb_data = scb_data[:len(scb_yearly_df13)]"
   ]
  },
  {
   "cell_type": "code",
   "execution_count": 35,
   "metadata": {},
   "outputs": [
    {
     "data": {
      "text/html": [
       "<div>\n",
       "<style scoped>\n",
       "    .dataframe tbody tr th:only-of-type {\n",
       "        vertical-align: middle;\n",
       "    }\n",
       "\n",
       "    .dataframe tbody tr th {\n",
       "        vertical-align: top;\n",
       "    }\n",
       "\n",
       "    .dataframe thead th {\n",
       "        text-align: right;\n",
       "    }\n",
       "</style>\n",
       "<table border=\"1\" class=\"dataframe\">\n",
       "  <thead>\n",
       "    <tr style=\"text-align: right;\">\n",
       "      <th></th>\n",
       "      <th>시간</th>\n",
       "      <th>측정소명</th>\n",
       "      <th>수온 ℃</th>\n",
       "      <th>수소이온농도</th>\n",
       "      <th>전기전도도 μS/cm</th>\n",
       "      <th>용존산소 mg/L</th>\n",
       "      <th>총유기탄소 mg/L</th>\n",
       "      <th>총질소 mg/L</th>\n",
       "      <th>총인 mg/L</th>\n",
       "      <th>클로로필-a mg/㎥</th>\n",
       "      <th>상류수위(EL.m)</th>\n",
       "      <th>하류수위(EL.m)</th>\n",
       "      <th>유입량(㎥/s)</th>\n",
       "      <th>방류량(㎥/s)</th>\n",
       "    </tr>\n",
       "  </thead>\n",
       "  <tbody>\n",
       "    <tr>\n",
       "      <th>82254</th>\n",
       "      <td>2022-05-23 21</td>\n",
       "      <td>용봉</td>\n",
       "      <td>25.9</td>\n",
       "      <td>6.8</td>\n",
       "      <td>417.0</td>\n",
       "      <td>NaN</td>\n",
       "      <td>6.7</td>\n",
       "      <td>5.909</td>\n",
       "      <td>0.107</td>\n",
       "      <td>58.3</td>\n",
       "      <td>5.44</td>\n",
       "      <td>1.531667</td>\n",
       "      <td>12.753333</td>\n",
       "      <td>12.743333</td>\n",
       "    </tr>\n",
       "    <tr>\n",
       "      <th>82255</th>\n",
       "      <td>2022-05-23 22</td>\n",
       "      <td>용봉</td>\n",
       "      <td>25.7</td>\n",
       "      <td>6.8</td>\n",
       "      <td>420.0</td>\n",
       "      <td>NaN</td>\n",
       "      <td>6.4</td>\n",
       "      <td>5.921</td>\n",
       "      <td>0.106</td>\n",
       "      <td>54.4</td>\n",
       "      <td>5.44</td>\n",
       "      <td>1.530000</td>\n",
       "      <td>12.700000</td>\n",
       "      <td>12.700000</td>\n",
       "    </tr>\n",
       "    <tr>\n",
       "      <th>82256</th>\n",
       "      <td>2022-05-23 23</td>\n",
       "      <td>용봉</td>\n",
       "      <td>25.5</td>\n",
       "      <td>6.8</td>\n",
       "      <td>411.0</td>\n",
       "      <td>NaN</td>\n",
       "      <td>6.4</td>\n",
       "      <td>5.818</td>\n",
       "      <td>0.106</td>\n",
       "      <td>52.3</td>\n",
       "      <td>5.44</td>\n",
       "      <td>1.525000</td>\n",
       "      <td>12.760000</td>\n",
       "      <td>12.770000</td>\n",
       "    </tr>\n",
       "  </tbody>\n",
       "</table>\n",
       "</div>"
      ],
      "text/plain": [
       "                  시간 측정소명  수온 ℃  수소이온농도  전기전도도 μS/cm  용존산소 mg/L  총유기탄소 mg/L  \\\n",
       "82254  2022-05-23 21   용봉  25.9     6.8        417.0        NaN         6.7   \n",
       "82255  2022-05-23 22   용봉  25.7     6.8        420.0        NaN         6.4   \n",
       "82256  2022-05-23 23   용봉  25.5     6.8        411.0        NaN         6.4   \n",
       "\n",
       "       총질소 mg/L  총인 mg/L  클로로필-a mg/㎥   상류수위(EL.m)   하류수위(EL.m)   유입량(㎥/s)  \\\n",
       "82254     5.909    0.107         58.3         5.44     1.531667  12.753333   \n",
       "82255     5.921    0.106         54.4         5.44     1.530000  12.700000   \n",
       "82256     5.818    0.106         52.3         5.44     1.525000  12.760000   \n",
       "\n",
       "        방류량(㎥/s)  \n",
       "82254  12.743333  \n",
       "82255  12.700000  \n",
       "82256  12.770000  "
      ]
     },
     "execution_count": 35,
     "metadata": {},
     "output_type": "execute_result"
    }
   ],
   "source": [
    "scb_data.tail(3)"
   ]
  },
  {
   "cell_type": "markdown",
   "metadata": {},
   "source": [
    "유량 특성 이름에 공백이 사용되었기에 특성명에 공백 제거"
   ]
  },
  {
   "cell_type": "code",
   "execution_count": 36,
   "metadata": {},
   "outputs": [],
   "source": [
    "scb_data.columns = [x.strip() for x in list(scb_data.columns)]"
   ]
  },
  {
   "cell_type": "markdown",
   "metadata": {},
   "source": [
    "## 특성 선택\n",
    "\n",
    "훈련에 사용하지 않을 특성 삭제"
   ]
  },
  {
   "cell_type": "code",
   "execution_count": 37,
   "metadata": {},
   "outputs": [],
   "source": [
    "scb_data.drop(['수소이온농도', '용존산소 mg/L', '하류수위(EL.m)', '유입량(㎥/s)'], axis=1, inplace=True)"
   ]
  },
  {
   "cell_type": "code",
   "execution_count": 38,
   "metadata": {},
   "outputs": [
    {
     "data": {
      "text/plain": [
       "Index(['시간', '측정소명', '수온 ℃', '전기전도도 μS/cm', '총유기탄소 mg/L', '총질소 mg/L',\n",
       "       '총인 mg/L', '클로로필-a mg/㎥', '상류수위(EL.m)', '방류량(㎥/s)'],\n",
       "      dtype='object')"
      ]
     },
     "execution_count": 38,
     "metadata": {},
     "output_type": "execute_result"
    }
   ],
   "source": [
    "scb_data.columns"
   ]
  },
  {
   "cell_type": "markdown",
   "metadata": {},
   "source": [
    "## 결측치 확인\n",
    "\n",
    "* 특성별 결측치 비율"
   ]
  },
  {
   "cell_type": "code",
   "execution_count": 39,
   "metadata": {},
   "outputs": [
    {
     "data": {
      "text/plain": [
       "시간             0.000000\n",
       "측정소명           0.000000\n",
       "수온 ℃           0.214973\n",
       "전기전도도 μS/cm    0.215580\n",
       "총유기탄소 mg/L     0.286687\n",
       "총질소 mg/L       0.270810\n",
       "총인 mg/L        0.282772\n",
       "클로로필-a mg/㎥    0.235615\n",
       "상류수위(EL.m)     0.000316\n",
       "방류량(㎥/s)       0.000316\n",
       "dtype: float64"
      ]
     },
     "execution_count": 39,
     "metadata": {},
     "output_type": "execute_result"
    }
   ],
   "source": [
    "scb_data.isnull().sum() / len(scb_data)"
   ]
  },
  {
   "cell_type": "markdown",
   "metadata": {},
   "source": [
    "* 결측치 분포 히트맵: 결측치가 한 동안 없는 경우도 존재"
   ]
  },
  {
   "cell_type": "code",
   "execution_count": 40,
   "metadata": {},
   "outputs": [
    {
     "data": {
      "image/png": "[encoded data removed]",
      "text/plain": [
       "<Figure size 720x432 with 1 Axes>"
      ]
     },
     "metadata": {
      "needs_background": "light"
     },
     "output_type": "display_data"
    }
   ],
   "source": [
    "sns.heatmap(scb_data.isnull(), cbar=False)\n",
    "plt.show()"
   ]
  },
  {
   "cell_type": "markdown",
   "metadata": {},
   "source": [
    "수치형 특성 결측치들 사이의 피어슨 상관계수 확인 - 어떤 특성들이 함께 결측되었나를 확인함"
   ]
  },
  {
   "cell_type": "code",
   "execution_count": 41,
   "metadata": {},
   "outputs": [
    {
     "data": {
      "text/html": [
       "<div>\n",
       "<style scoped>\n",
       "    .dataframe tbody tr th:only-of-type {\n",
       "        vertical-align: middle;\n",
       "    }\n",
       "\n",
       "    .dataframe tbody tr th {\n",
       "        vertical-align: top;\n",
       "    }\n",
       "\n",
       "    .dataframe thead th {\n",
       "        text-align: right;\n",
       "    }\n",
       "</style>\n",
       "<table border=\"1\" class=\"dataframe\">\n",
       "  <thead>\n",
       "    <tr style=\"text-align: right;\">\n",
       "      <th></th>\n",
       "      <th>수온 ℃</th>\n",
       "      <th>전기전도도 μS/cm</th>\n",
       "      <th>총유기탄소 mg/L</th>\n",
       "      <th>총질소 mg/L</th>\n",
       "      <th>총인 mg/L</th>\n",
       "      <th>클로로필-a mg/㎥</th>\n",
       "      <th>상류수위(EL.m)</th>\n",
       "      <th>방류량(㎥/s)</th>\n",
       "    </tr>\n",
       "  </thead>\n",
       "  <tbody>\n",
       "    <tr>\n",
       "      <th>수온 ℃</th>\n",
       "      <td>1.000000</td>\n",
       "      <td>0.997627</td>\n",
       "      <td>0.784735</td>\n",
       "      <td>0.771253</td>\n",
       "      <td>0.753176</td>\n",
       "      <td>0.893317</td>\n",
       "      <td>-0.005975</td>\n",
       "      <td>-0.005975</td>\n",
       "    </tr>\n",
       "    <tr>\n",
       "      <th>전기전도도 μS/cm</th>\n",
       "      <td>0.997627</td>\n",
       "      <td>1.000000</td>\n",
       "      <td>0.784629</td>\n",
       "      <td>0.770361</td>\n",
       "      <td>0.752133</td>\n",
       "      <td>0.891512</td>\n",
       "      <td>-0.005996</td>\n",
       "      <td>-0.005996</td>\n",
       "    </tr>\n",
       "    <tr>\n",
       "      <th>총유기탄소 mg/L</th>\n",
       "      <td>0.784735</td>\n",
       "      <td>0.784629</td>\n",
       "      <td>1.000000</td>\n",
       "      <td>0.698539</td>\n",
       "      <td>0.677277</td>\n",
       "      <td>0.726571</td>\n",
       "      <td>-0.005223</td>\n",
       "      <td>-0.005223</td>\n",
       "    </tr>\n",
       "    <tr>\n",
       "      <th>총질소 mg/L</th>\n",
       "      <td>0.771253</td>\n",
       "      <td>0.770361</td>\n",
       "      <td>0.698539</td>\n",
       "      <td>1.000000</td>\n",
       "      <td>0.884298</td>\n",
       "      <td>0.771919</td>\n",
       "      <td>-0.007758</td>\n",
       "      <td>-0.007758</td>\n",
       "    </tr>\n",
       "    <tr>\n",
       "      <th>총인 mg/L</th>\n",
       "      <td>0.753176</td>\n",
       "      <td>0.752133</td>\n",
       "      <td>0.677277</td>\n",
       "      <td>0.884298</td>\n",
       "      <td>1.000000</td>\n",
       "      <td>0.747514</td>\n",
       "      <td>-0.008128</td>\n",
       "      <td>-0.008128</td>\n",
       "    </tr>\n",
       "    <tr>\n",
       "      <th>클로로필-a mg/㎥</th>\n",
       "      <td>0.893317</td>\n",
       "      <td>0.891512</td>\n",
       "      <td>0.726571</td>\n",
       "      <td>0.771919</td>\n",
       "      <td>0.747514</td>\n",
       "      <td>1.000000</td>\n",
       "      <td>-0.006649</td>\n",
       "      <td>-0.006649</td>\n",
       "    </tr>\n",
       "    <tr>\n",
       "      <th>상류수위(EL.m)</th>\n",
       "      <td>-0.005975</td>\n",
       "      <td>-0.005996</td>\n",
       "      <td>-0.005223</td>\n",
       "      <td>-0.007758</td>\n",
       "      <td>-0.008128</td>\n",
       "      <td>-0.006649</td>\n",
       "      <td>1.000000</td>\n",
       "      <td>1.000000</td>\n",
       "    </tr>\n",
       "    <tr>\n",
       "      <th>방류량(㎥/s)</th>\n",
       "      <td>-0.005975</td>\n",
       "      <td>-0.005996</td>\n",
       "      <td>-0.005223</td>\n",
       "      <td>-0.007758</td>\n",
       "      <td>-0.008128</td>\n",
       "      <td>-0.006649</td>\n",
       "      <td>1.000000</td>\n",
       "      <td>1.000000</td>\n",
       "    </tr>\n",
       "  </tbody>\n",
       "</table>\n",
       "</div>"
      ],
      "text/plain": [
       "                 수온 ℃  전기전도도 μS/cm  총유기탄소 mg/L  총질소 mg/L   총인 mg/L  \\\n",
       "수온 ℃         1.000000     0.997627    0.784735  0.771253  0.753176   \n",
       "전기전도도 μS/cm  0.997627     1.000000    0.784629  0.770361  0.752133   \n",
       "총유기탄소 mg/L   0.784735     0.784629    1.000000  0.698539  0.677277   \n",
       "총질소 mg/L     0.771253     0.770361    0.698539  1.000000  0.884298   \n",
       "총인 mg/L      0.753176     0.752133    0.677277  0.884298  1.000000   \n",
       "클로로필-a mg/㎥  0.893317     0.891512    0.726571  0.771919  0.747514   \n",
       "상류수위(EL.m)  -0.005975    -0.005996   -0.005223 -0.007758 -0.008128   \n",
       "방류량(㎥/s)    -0.005975    -0.005996   -0.005223 -0.007758 -0.008128   \n",
       "\n",
       "             클로로필-a mg/㎥  상류수위(EL.m)  방류량(㎥/s)  \n",
       "수온 ℃            0.893317   -0.005975 -0.005975  \n",
       "전기전도도 μS/cm     0.891512   -0.005996 -0.005996  \n",
       "총유기탄소 mg/L      0.726571   -0.005223 -0.005223  \n",
       "총질소 mg/L        0.771919   -0.007758 -0.007758  \n",
       "총인 mg/L         0.747514   -0.008128 -0.008128  \n",
       "클로로필-a mg/㎥     1.000000   -0.006649 -0.006649  \n",
       "상류수위(EL.m)     -0.006649    1.000000  1.000000  \n",
       "방류량(㎥/s)       -0.006649    1.000000  1.000000  "
      ]
     },
     "execution_count": 41,
     "metadata": {},
     "output_type": "execute_result"
    }
   ],
   "source": [
    "scb_data_numeric = scb_data.iloc[:, 2:]\n",
    "scb_data_numeric.isnull().corr(method='pearson')"
   ]
  },
  {
   "cell_type": "markdown",
   "metadata": {},
   "source": [
    "## 클로로필 정규화"
   ]
  },
  {
   "cell_type": "markdown",
   "metadata": {},
   "source": [
    "회귀 모델을 적용하기 전에 클로로필 값이 정규 분포인지 확인. 왼쪽으로 치우친 형태임."
   ]
  },
  {
   "cell_type": "code",
   "execution_count": 42,
   "metadata": {},
   "outputs": [
    {
     "data": {
      "image/png": "[encoded data removed]",
      "text/plain": [
       "<Figure size 720x432 with 1 Axes>"
      ]
     },
     "metadata": {
      "needs_background": "light"
     },
     "output_type": "display_data"
    }
   ],
   "source": [
    "sns.histplot(scb_data['클로로필-a mg/㎥'])\n",
    "plt.show()"
   ]
  },
  {
   "cell_type": "markdown",
   "metadata": {},
   "source": [
    "`np.log1p()`를 사용해 로그변환하면 클로로필 값이 정규 분포를 가짐. "
   ]
  },
  {
   "cell_type": "code",
   "execution_count": 43,
   "metadata": {},
   "outputs": [
    {
     "data": {
      "image/png": "[encoded data removed]",
      "text/plain": [
       "<Figure size 720x432 with 1 Axes>"
      ]
     },
     "metadata": {
      "needs_background": "light"
     },
     "output_type": "display_data"
    }
   ],
   "source": [
    "sns.histplot(np.log1p(scb_data['클로로필-a mg/㎥']))\n",
    "plt.show()"
   ]
  },
  {
   "cell_type": "markdown",
   "metadata": {},
   "source": [
    "클로로필 값을 로그 변환한 뒤 `scb_data`에 추가"
   ]
  },
  {
   "cell_type": "code",
   "execution_count": 44,
   "metadata": {},
   "outputs": [],
   "source": [
    "scb_data['log_Chl-a'] = np.log1p(scb_data['클로로필-a mg/㎥'])"
   ]
  },
  {
   "cell_type": "code",
   "execution_count": 45,
   "metadata": {},
   "outputs": [
    {
     "data": {
      "text/html": [
       "<div>\n",
       "<style scoped>\n",
       "    .dataframe tbody tr th:only-of-type {\n",
       "        vertical-align: middle;\n",
       "    }\n",
       "\n",
       "    .dataframe tbody tr th {\n",
       "        vertical-align: top;\n",
       "    }\n",
       "\n",
       "    .dataframe thead th {\n",
       "        text-align: right;\n",
       "    }\n",
       "</style>\n",
       "<table border=\"1\" class=\"dataframe\">\n",
       "  <thead>\n",
       "    <tr style=\"text-align: right;\">\n",
       "      <th></th>\n",
       "      <th>시간</th>\n",
       "      <th>측정소명</th>\n",
       "      <th>수온 ℃</th>\n",
       "      <th>전기전도도 μS/cm</th>\n",
       "      <th>총유기탄소 mg/L</th>\n",
       "      <th>총질소 mg/L</th>\n",
       "      <th>총인 mg/L</th>\n",
       "      <th>클로로필-a mg/㎥</th>\n",
       "      <th>상류수위(EL.m)</th>\n",
       "      <th>방류량(㎥/s)</th>\n",
       "      <th>log_Chl-a</th>\n",
       "    </tr>\n",
       "  </thead>\n",
       "  <tbody>\n",
       "    <tr>\n",
       "      <th>0</th>\n",
       "      <td>2013-01-01 00</td>\n",
       "      <td>용봉</td>\n",
       "      <td>3.9</td>\n",
       "      <td>374.0</td>\n",
       "      <td>2.5</td>\n",
       "      <td>NaN</td>\n",
       "      <td>NaN</td>\n",
       "      <td>7.2</td>\n",
       "      <td>7.5</td>\n",
       "      <td>19.748333</td>\n",
       "      <td>2.104134</td>\n",
       "    </tr>\n",
       "    <tr>\n",
       "      <th>1</th>\n",
       "      <td>2013-01-01 01</td>\n",
       "      <td>용봉</td>\n",
       "      <td>3.9</td>\n",
       "      <td>375.0</td>\n",
       "      <td>2.5</td>\n",
       "      <td>NaN</td>\n",
       "      <td>NaN</td>\n",
       "      <td>6.9</td>\n",
       "      <td>7.5</td>\n",
       "      <td>19.706667</td>\n",
       "      <td>2.066863</td>\n",
       "    </tr>\n",
       "    <tr>\n",
       "      <th>2</th>\n",
       "      <td>2013-01-01 02</td>\n",
       "      <td>용봉</td>\n",
       "      <td>4.0</td>\n",
       "      <td>374.0</td>\n",
       "      <td>2.5</td>\n",
       "      <td>NaN</td>\n",
       "      <td>NaN</td>\n",
       "      <td>6.8</td>\n",
       "      <td>7.5</td>\n",
       "      <td>19.723333</td>\n",
       "      <td>2.054124</td>\n",
       "    </tr>\n",
       "  </tbody>\n",
       "</table>\n",
       "</div>"
      ],
      "text/plain": [
       "              시간 측정소명  수온 ℃  전기전도도 μS/cm  총유기탄소 mg/L  총질소 mg/L  총인 mg/L  \\\n",
       "0  2013-01-01 00   용봉   3.9        374.0         2.5       NaN      NaN   \n",
       "1  2013-01-01 01   용봉   3.9        375.0         2.5       NaN      NaN   \n",
       "2  2013-01-01 02   용봉   4.0        374.0         2.5       NaN      NaN   \n",
       "\n",
       "   클로로필-a mg/㎥  상류수위(EL.m)   방류량(㎥/s)  log_Chl-a  \n",
       "0          7.2         7.5  19.748333   2.104134  \n",
       "1          6.9         7.5  19.706667   2.066863  \n",
       "2          6.8         7.5  19.723333   2.054124  "
      ]
     },
     "execution_count": 45,
     "metadata": {},
     "output_type": "execute_result"
    }
   ],
   "source": [
    "scb_data.head(3)"
   ]
  },
  {
   "cell_type": "markdown",
   "metadata": {},
   "source": [
    "## 수온 shift 데이터 추가"
   ]
  },
  {
   "cell_type": "code",
   "execution_count": 46,
   "metadata": {},
   "outputs": [],
   "source": [
    "scb_df = scb_data.copy()"
   ]
  },
  {
   "cell_type": "markdown",
   "metadata": {},
   "source": [
    "수온 shift 특성 추가  \n",
    "\n",
    "* 0 ~ 72시간 : 2시간 단위"
   ]
  },
  {
   "cell_type": "code",
   "execution_count": 47,
   "metadata": {},
   "outputs": [
    {
     "name": "stdout",
     "output_type": "stream",
     "text": [
      "[2, 4, 6, 8, 10, 12, 14, 16, 18, 20, 22, 24, 26, 28, 30, 32, 34, 36, 38, 40, 42, 44, 46, 48, 50, 52, 54, 56, 58, 60, 62, 64, 66, 68, 70, 72]\n"
     ]
    }
   ],
   "source": [
    "shift_step = list(range(2, 73, 2))\n",
    "print(shift_step)"
   ]
  },
  {
   "cell_type": "markdown",
   "metadata": {},
   "source": [
    "**shift 특성 추가 함수** \n",
    "\n",
    "`feature_shifting()` 함수는 특정 특성을 대상으로 shift 적용한 특성을 추가한다. 함수의 인자로 다음 세 개의 값을 받는다.  \n",
    "* `df` : 기존 데이터프레임\n",
    "* `feature` : shift 대상 특성\n",
    "* `shift_step` : 추가할 shift_step의 리스트 "
   ]
  },
  {
   "cell_type": "code",
   "execution_count": 48,
   "metadata": {},
   "outputs": [],
   "source": [
    "from pandas import DataFrame\n",
    "import re\n",
    "\n",
    "def feature_shifting(df : DataFrame, feature : str, shift_step : list) -> None:\n",
    "    feature_ = re.split(' |\\(', feature)[0] # 특성 이름에 사용된 단위 삭제. 공백 또는 여는 괄호 기준 쪼개기\n",
    "\n",
    "    new_features = dict()\n",
    "    for step in shift_step:\n",
    "        new_features[str(step) + 'shift ' + feature_] = df[feature].shift(step)\n",
    "    \n",
    "    new_features = pd.DataFrame(new_features)\n",
    "\n",
    "    return pd.concat([df, new_features], axis=1)"
   ]
  },
  {
   "cell_type": "code",
   "execution_count": 49,
   "metadata": {},
   "outputs": [],
   "source": [
    "scb_df = feature_shifting(scb_df, '수온 ℃', shift_step)"
   ]
  },
  {
   "cell_type": "code",
   "execution_count": 50,
   "metadata": {},
   "outputs": [
    {
     "data": {
      "text/plain": [
       "Index(['시간', '측정소명', '수온 ℃', '전기전도도 μS/cm', '총유기탄소 mg/L', '총질소 mg/L',\n",
       "       '총인 mg/L', '클로로필-a mg/㎥', '상류수위(EL.m)', '방류량(㎥/s)', 'log_Chl-a',\n",
       "       '2shift 수온', '4shift 수온', '6shift 수온', '8shift 수온', '10shift 수온',\n",
       "       '12shift 수온', '14shift 수온', '16shift 수온', '18shift 수온', '20shift 수온',\n",
       "       '22shift 수온', '24shift 수온', '26shift 수온', '28shift 수온', '30shift 수온',\n",
       "       '32shift 수온', '34shift 수온', '36shift 수온', '38shift 수온', '40shift 수온',\n",
       "       '42shift 수온', '44shift 수온', '46shift 수온', '48shift 수온', '50shift 수온',\n",
       "       '52shift 수온', '54shift 수온', '56shift 수온', '58shift 수온', '60shift 수온',\n",
       "       '62shift 수온', '64shift 수온', '66shift 수온', '68shift 수온', '70shift 수온',\n",
       "       '72shift 수온'],\n",
       "      dtype='object')"
      ]
     },
     "execution_count": 50,
     "metadata": {},
     "output_type": "execute_result"
    }
   ],
   "source": [
    "scb_df.columns"
   ]
  },
  {
   "cell_type": "markdown",
   "metadata": {},
   "source": [
    "## 결측치 보간법"
   ]
  },
  {
   "cell_type": "code",
   "execution_count": 51,
   "metadata": {},
   "outputs": [],
   "source": [
    "from datetime import datetime"
   ]
  },
  {
   "cell_type": "markdown",
   "metadata": {},
   "source": [
    "시간 특성을 date time 자료형으로 변환"
   ]
  },
  {
   "cell_type": "code",
   "execution_count": 52,
   "metadata": {},
   "outputs": [],
   "source": [
    "scb_df['시간'] = scb_df['시간'].transform(lambda x: datetime.strptime(x, '%Y-%m-%d %H'))"
   ]
  },
  {
   "cell_type": "markdown",
   "metadata": {},
   "source": [
    "결측치는 양방향 12시간 선형 보간법으로 대체. 결측 구간별 최대 24시간의 결측치 대체.      \n",
    "예) 결측치가 36개인 구간이 있다면 처음~12개와 25~36개만 결측치 대체.  "
   ]
  },
  {
   "cell_type": "code",
   "execution_count": 53,
   "metadata": {},
   "outputs": [],
   "source": [
    "scb_df = scb_df.copy().set_index('시간').interpolate(method='time', limit = 12, limit_direction='both')"
   ]
  },
  {
   "cell_type": "markdown",
   "metadata": {},
   "source": [
    "결측치 제거"
   ]
  },
  {
   "cell_type": "code",
   "execution_count": 54,
   "metadata": {},
   "outputs": [],
   "source": [
    "scb_df.dropna(inplace=True)"
   ]
  },
  {
   "cell_type": "code",
   "execution_count": 55,
   "metadata": {},
   "outputs": [
    {
     "name": "stdout",
     "output_type": "stream",
     "text": [
      "<class 'pandas.core.frame.DataFrame'>\n",
      "DatetimeIndex: 56950 entries, 2013-03-29 04:00:00 to 2022-05-23 23:00:00\n",
      "Data columns (total 46 columns):\n",
      " #   Column       Non-Null Count  Dtype  \n",
      "---  ------       --------------  -----  \n",
      " 0   측정소명         56950 non-null  object \n",
      " 1   수온 ℃         56950 non-null  float64\n",
      " 2   전기전도도 μS/cm  56950 non-null  float64\n",
      " 3   총유기탄소 mg/L   56950 non-null  float64\n",
      " 4   총질소 mg/L     56950 non-null  float64\n",
      " 5   총인 mg/L      56950 non-null  float64\n",
      " 6   클로로필-a mg/㎥  56950 non-null  float64\n",
      " 7   상류수위(EL.m)   56950 non-null  float64\n",
      " 8   방류량(㎥/s)     56950 non-null  float64\n",
      " 9   log_Chl-a    56950 non-null  float64\n",
      " 10  2shift 수온    56950 non-null  float64\n",
      " 11  4shift 수온    56950 non-null  float64\n",
      " 12  6shift 수온    56950 non-null  float64\n",
      " 13  8shift 수온    56950 non-null  float64\n",
      " 14  10shift 수온   56950 non-null  float64\n",
      " 15  12shift 수온   56950 non-null  float64\n",
      " 16  14shift 수온   56950 non-null  float64\n",
      " 17  16shift 수온   56950 non-null  float64\n",
      " 18  18shift 수온   56950 non-null  float64\n",
      " 19  20shift 수온   56950 non-null  float64\n",
      " 20  22shift 수온   56950 non-null  float64\n",
      " 21  24shift 수온   56950 non-null  float64\n",
      " 22  26shift 수온   56950 non-null  float64\n",
      " 23  28shift 수온   56950 non-null  float64\n",
      " 24  30shift 수온   56950 non-null  float64\n",
      " 25  32shift 수온   56950 non-null  float64\n",
      " 26  34shift 수온   56950 non-null  float64\n",
      " 27  36shift 수온   56950 non-null  float64\n",
      " 28  38shift 수온   56950 non-null  float64\n",
      " 29  40shift 수온   56950 non-null  float64\n",
      " 30  42shift 수온   56950 non-null  float64\n",
      " 31  44shift 수온   56950 non-null  float64\n",
      " 32  46shift 수온   56950 non-null  float64\n",
      " 33  48shift 수온   56950 non-null  float64\n",
      " 34  50shift 수온   56950 non-null  float64\n",
      " 35  52shift 수온   56950 non-null  float64\n",
      " 36  54shift 수온   56950 non-null  float64\n",
      " 37  56shift 수온   56950 non-null  float64\n",
      " 38  58shift 수온   56950 non-null  float64\n",
      " 39  60shift 수온   56950 non-null  float64\n",
      " 40  62shift 수온   56950 non-null  float64\n",
      " 41  64shift 수온   56950 non-null  float64\n",
      " 42  66shift 수온   56950 non-null  float64\n",
      " 43  68shift 수온   56950 non-null  float64\n",
      " 44  70shift 수온   56950 non-null  float64\n",
      " 45  72shift 수온   56950 non-null  float64\n",
      "dtypes: float64(45), object(1)\n",
      "memory usage: 20.4+ MB\n"
     ]
    }
   ],
   "source": [
    "scb_df.info()"
   ]
  },
  {
   "cell_type": "markdown",
   "metadata": {},
   "source": [
    "## 훈련 특성과 타깃  \n",
    "\n",
    "log_Chl-a 은 타깃. 측정소명과 클로로필을 제외한 특성을 이용."
   ]
  },
  {
   "cell_type": "code",
   "execution_count": 56,
   "metadata": {},
   "outputs": [],
   "source": [
    "remove_feature = ['측정소명', '클로로필-a mg/㎥', 'log_Chl-a']"
   ]
  },
  {
   "cell_type": "code",
   "execution_count": 57,
   "metadata": {},
   "outputs": [],
   "source": [
    "col = list(scb_df.columns)\n",
    "\n",
    "for i in remove_feature:\n",
    "    col.remove(i)"
   ]
  },
  {
   "cell_type": "markdown",
   "metadata": {},
   "source": [
    "## 모델 훈련 - RandomForest"
   ]
  },
  {
   "cell_type": "code",
   "execution_count": 58,
   "metadata": {},
   "outputs": [],
   "source": [
    "X_train, X_test, y_train, y_test = train_test_split(scb_df.drop(columns=remove_feature), scb_df['log_Chl-a'], random_state=42)\n",
    "rf_reg = RandomForestRegressor(random_state=42, oob_score=True, n_jobs=-1)\n",
    "\n",
    "parameters = {'n_estimators':[100, 500], 'max_depth':[5, 10, 15], 'min_samples_leaf':[8, 12, 16]}"
   ]
  },
  {
   "cell_type": "code",
   "execution_count": 59,
   "metadata": {},
   "outputs": [],
   "source": [
    "rf_grid = GridSearchCV(rf_reg, param_grid=parameters, cv=3, n_jobs=-1, verbose=5)"
   ]
  },
  {
   "cell_type": "code",
   "execution_count": 60,
   "metadata": {},
   "outputs": [
    {
     "name": "stdout",
     "output_type": "stream",
     "text": [
      "Fitting 3 folds for each of 18 candidates, totalling 54 fits\n"
     ]
    },
    {
     "data": {
      "text/plain": [
       "GridSearchCV(cv=3,\n",
       "             estimator=RandomForestRegressor(n_jobs=-1, oob_score=True,\n",
       "                                             random_state=42),\n",
       "             n_jobs=-1,\n",
       "             param_grid={'max_depth': [5, 10, 15],\n",
       "                         'min_samples_leaf': [8, 12, 16],\n",
       "                         'n_estimators': [100, 500]},\n",
       "             verbose=5)"
      ]
     },
     "execution_count": 60,
     "metadata": {},
     "output_type": "execute_result"
    }
   ],
   "source": [
    "rf_grid.fit(X_train, y_train)"
   ]
  },
  {
   "cell_type": "code",
   "execution_count": 61,
   "metadata": {},
   "outputs": [],
   "source": [
    "scores_df = pd.DataFrame(rf_grid.cv_results_)"
   ]
  },
  {
   "cell_type": "code",
   "execution_count": 62,
   "metadata": {},
   "outputs": [
    {
     "data": {
      "text/html": [
       "<div>\n",
       "<style scoped>\n",
       "    .dataframe tbody tr th:only-of-type {\n",
       "        vertical-align: middle;\n",
       "    }\n",
       "\n",
       "    .dataframe tbody tr th {\n",
       "        vertical-align: top;\n",
       "    }\n",
       "\n",
       "    .dataframe thead th {\n",
       "        text-align: right;\n",
       "    }\n",
       "</style>\n",
       "<table border=\"1\" class=\"dataframe\">\n",
       "  <thead>\n",
       "    <tr style=\"text-align: right;\">\n",
       "      <th></th>\n",
       "      <th>params</th>\n",
       "      <th>mean_test_score</th>\n",
       "      <th>rank_test_score</th>\n",
       "    </tr>\n",
       "  </thead>\n",
       "  <tbody>\n",
       "    <tr>\n",
       "      <th>13</th>\n",
       "      <td>{'max_depth': 15, 'min_samples_leaf': 8, 'n_es...</td>\n",
       "      <td>0.903189</td>\n",
       "      <td>1</td>\n",
       "    </tr>\n",
       "    <tr>\n",
       "      <th>12</th>\n",
       "      <td>{'max_depth': 15, 'min_samples_leaf': 8, 'n_es...</td>\n",
       "      <td>0.902471</td>\n",
       "      <td>2</td>\n",
       "    </tr>\n",
       "    <tr>\n",
       "      <th>15</th>\n",
       "      <td>{'max_depth': 15, 'min_samples_leaf': 12, 'n_e...</td>\n",
       "      <td>0.887533</td>\n",
       "      <td>3</td>\n",
       "    </tr>\n",
       "    <tr>\n",
       "      <th>14</th>\n",
       "      <td>{'max_depth': 15, 'min_samples_leaf': 12, 'n_e...</td>\n",
       "      <td>0.886590</td>\n",
       "      <td>4</td>\n",
       "    </tr>\n",
       "    <tr>\n",
       "      <th>17</th>\n",
       "      <td>{'max_depth': 15, 'min_samples_leaf': 16, 'n_e...</td>\n",
       "      <td>0.873281</td>\n",
       "      <td>5</td>\n",
       "    </tr>\n",
       "  </tbody>\n",
       "</table>\n",
       "</div>"
      ],
      "text/plain": [
       "                                               params  mean_test_score  \\\n",
       "13  {'max_depth': 15, 'min_samples_leaf': 8, 'n_es...         0.903189   \n",
       "12  {'max_depth': 15, 'min_samples_leaf': 8, 'n_es...         0.902471   \n",
       "15  {'max_depth': 15, 'min_samples_leaf': 12, 'n_e...         0.887533   \n",
       "14  {'max_depth': 15, 'min_samples_leaf': 12, 'n_e...         0.886590   \n",
       "17  {'max_depth': 15, 'min_samples_leaf': 16, 'n_e...         0.873281   \n",
       "\n",
       "    rank_test_score  \n",
       "13                1  \n",
       "12                2  \n",
       "15                3  \n",
       "14                4  \n",
       "17                5  "
      ]
     },
     "execution_count": 62,
     "metadata": {},
     "output_type": "execute_result"
    }
   ],
   "source": [
    "scores_df.sort_values(by=['rank_test_score'], inplace=True)\n",
    "scores_df[['params', 'mean_test_score', 'rank_test_score']].head()"
   ]
  },
  {
   "cell_type": "code",
   "execution_count": 63,
   "metadata": {},
   "outputs": [
    {
     "data": {
      "text/plain": [
       "{'max_depth': 15, 'min_samples_leaf': 8, 'n_estimators': 500}"
      ]
     },
     "execution_count": 63,
     "metadata": {},
     "output_type": "execute_result"
    }
   ],
   "source": [
    "rf_grid.best_params_"
   ]
  },
  {
   "cell_type": "code",
   "execution_count": 64,
   "metadata": {},
   "outputs": [],
   "source": [
    "estimator = rf_grid.best_estimator_"
   ]
  },
  {
   "cell_type": "markdown",
   "metadata": {},
   "source": [
    "최신 모델 저장"
   ]
  },
  {
   "cell_type": "code",
   "execution_count": 65,
   "metadata": {},
   "outputs": [
    {
     "data": {
      "text/plain": [
       "['승촌보_rf_수온.pkl']"
      ]
     },
     "execution_count": 65,
     "metadata": {},
     "output_type": "execute_result"
    }
   ],
   "source": [
    "joblib.dump(estimator, \"승촌보_rf_수온.pkl\")\n"
   ]
  },
  {
   "cell_type": "markdown",
   "metadata": {},
   "source": [
    "저장된 모델 다시 불러오기"
   ]
  },
  {
   "cell_type": "code",
   "execution_count": 66,
   "metadata": {},
   "outputs": [],
   "source": [
    "estimator = joblib.load(\"승촌보_rf_수온.pkl\")"
   ]
  },
  {
   "cell_type": "code",
   "execution_count": 67,
   "metadata": {},
   "outputs": [
    {
     "data": {
      "text/plain": [
       "0.9227335846961054"
      ]
     },
     "execution_count": 67,
     "metadata": {},
     "output_type": "execute_result"
    }
   ],
   "source": [
    "estimator.oob_score_"
   ]
  },
  {
   "cell_type": "code",
   "execution_count": 68,
   "metadata": {},
   "outputs": [],
   "source": [
    "pred = estimator.predict(X_test)"
   ]
  },
  {
   "cell_type": "code",
   "execution_count": 69,
   "metadata": {},
   "outputs": [
    {
     "name": "stdout",
     "output_type": "stream",
     "text": [
      "0.06 수온 ℃\n",
      "0.17 전기전도도 μS/cm\n",
      "0.05 총유기탄소 mg/L\n",
      "0.06 총질소 mg/L\n",
      "0.05 총인 mg/L\n",
      "0.14 상류수위(EL.m)\n",
      "0.22 방류량(㎥/s)\n",
      "0.07 2shift 수온\n",
      "0.02 4shift 수온\n",
      "0.01 6shift 수온\n",
      "0.0 8shift 수온\n",
      "0.0 10shift 수온\n",
      "0.0 12shift 수온\n",
      "0.0 14shift 수온\n",
      "0.0 16shift 수온\n",
      "0.0 18shift 수온\n",
      "0.0 20shift 수온\n",
      "0.0 22shift 수온\n",
      "0.0 24shift 수온\n",
      "0.01 26shift 수온\n",
      "0.0 28shift 수온\n",
      "0.0 30shift 수온\n",
      "0.0 32shift 수온\n",
      "0.0 34shift 수온\n",
      "0.0 36shift 수온\n",
      "0.0 38shift 수온\n",
      "0.0 40shift 수온\n",
      "0.0 42shift 수온\n",
      "0.0 44shift 수온\n",
      "0.0 46shift 수온\n",
      "0.0 48shift 수온\n",
      "0.0 50shift 수온\n",
      "0.0 52shift 수온\n",
      "0.0 54shift 수온\n",
      "0.0 56shift 수온\n",
      "0.0 58shift 수온\n",
      "0.01 60shift 수온\n",
      "0.01 62shift 수온\n",
      "0.01 64shift 수온\n",
      "0.01 66shift 수온\n",
      "0.0 68shift 수온\n",
      "0.01 70shift 수온\n",
      "0.01 72shift 수온\n"
     ]
    }
   ],
   "source": [
    "for score, name in zip(estimator.feature_importances_, col):\n",
    "    print(round(score, 2), name)"
   ]
  },
  {
   "cell_type": "code",
   "execution_count": 70,
   "metadata": {},
   "outputs": [
    {
     "data": {
      "image/png": "[encoded data removed]",
      "text/plain": [
       "<Figure size 720x432 with 1 Axes>"
      ]
     },
     "metadata": {
      "needs_background": "light"
     },
     "output_type": "display_data"
    }
   ],
   "source": [
    "feature_series = pd.Series(data = estimator.feature_importances_, index = col)\n",
    "feature_series = feature_series.sort_values(ascending = False)\n",
    "sns.barplot(x = feature_series[:10], y = feature_series.index[:10], color = 'gray')\n",
    "plt.show()"
   ]
  },
  {
   "cell_type": "code",
   "execution_count": 71,
   "metadata": {},
   "outputs": [
    {
     "data": {
      "text/plain": [
       "방류량(㎥/s)       0.221023\n",
       "전기전도도 μS/cm    0.170562\n",
       "상류수위(EL.m)     0.139988\n",
       "2shift 수온      0.073779\n",
       "수온 ℃           0.064560\n",
       "총질소 mg/L       0.063034\n",
       "총인 mg/L        0.049999\n",
       "총유기탄소 mg/L     0.047975\n",
       "4shift 수온      0.024226\n",
       "72shift 수온     0.013409\n",
       "dtype: float64"
      ]
     },
     "execution_count": 71,
     "metadata": {},
     "output_type": "execute_result"
    }
   ],
   "source": [
    "feature_series[:10]"
   ]
  },
  {
   "cell_type": "code",
   "execution_count": 72,
   "metadata": {},
   "outputs": [
    {
     "name": "stdout",
     "output_type": "stream",
     "text": [
      "score : 0.9221647183572951\n"
     ]
    }
   ],
   "source": [
    "print('score :', estimator.score(X_test, y_test))"
   ]
  },
  {
   "cell_type": "markdown",
   "metadata": {},
   "source": [
    "## 모델 훈련 - GradientBoosting"
   ]
  },
  {
   "cell_type": "code",
   "execution_count": 73,
   "metadata": {},
   "outputs": [],
   "source": [
    "X_train, X_test, y_train, y_test = train_test_split(scb_df.loc[:, col], scb_df['log_Chl-a'], random_state=42)\n",
    "gb_reg = GradientBoostingRegressor(random_state=42)\n",
    "\n",
    "parameters = {'max_depth':[5, 10, 15], 'learning_rate':[0.05, 0.1, 0.2]}"
   ]
  },
  {
   "cell_type": "code",
   "execution_count": 74,
   "metadata": {},
   "outputs": [],
   "source": [
    "gb_grid = GridSearchCV(gb_reg, param_grid=parameters, cv=3, verbose=5)"
   ]
  },
  {
   "cell_type": "code",
   "execution_count": 75,
   "metadata": {},
   "outputs": [
    {
     "name": "stdout",
     "output_type": "stream",
     "text": [
      "Fitting 3 folds for each of 9 candidates, totalling 27 fits\n",
      "[CV 1/3] END ...learning_rate=0.05, max_depth=5;, score=0.741 total time=  33.7s\n",
      "[CV 2/3] END ...learning_rate=0.05, max_depth=5;, score=0.742 total time=  33.7s\n",
      "[CV 3/3] END ...learning_rate=0.05, max_depth=5;, score=0.744 total time=  33.6s\n",
      "[CV 1/3] END ..learning_rate=0.05, max_depth=10;, score=0.928 total time= 1.1min\n",
      "[CV 2/3] END ..learning_rate=0.05, max_depth=10;, score=0.927 total time= 1.1min\n",
      "[CV 3/3] END ..learning_rate=0.05, max_depth=10;, score=0.926 total time= 1.1min\n",
      "[CV 1/3] END ..learning_rate=0.05, max_depth=15;, score=0.938 total time= 1.6min\n",
      "[CV 2/3] END ..learning_rate=0.05, max_depth=15;, score=0.942 total time= 1.6min\n",
      "[CV 3/3] END ..learning_rate=0.05, max_depth=15;, score=0.938 total time= 1.6min\n",
      "[CV 1/3] END ....learning_rate=0.1, max_depth=5;, score=0.791 total time=  33.9s\n",
      "[CV 2/3] END ....learning_rate=0.1, max_depth=5;, score=0.793 total time=  33.8s\n",
      "[CV 3/3] END ....learning_rate=0.1, max_depth=5;, score=0.791 total time=  33.8s\n",
      "[CV 1/3] END ...learning_rate=0.1, max_depth=10;, score=0.937 total time= 1.1min\n",
      "[CV 2/3] END ...learning_rate=0.1, max_depth=10;, score=0.937 total time= 1.1min\n",
      "[CV 3/3] END ...learning_rate=0.1, max_depth=10;, score=0.938 total time= 1.1min\n",
      "[CV 1/3] END ...learning_rate=0.1, max_depth=15;, score=0.939 total time= 1.6min\n",
      "[CV 2/3] END ...learning_rate=0.1, max_depth=15;, score=0.943 total time= 1.6min\n",
      "[CV 3/3] END ...learning_rate=0.1, max_depth=15;, score=0.940 total time= 1.6min\n",
      "[CV 1/3] END ....learning_rate=0.2, max_depth=5;, score=0.841 total time=  33.8s\n",
      "[CV 2/3] END ....learning_rate=0.2, max_depth=5;, score=0.836 total time=  33.7s\n",
      "[CV 3/3] END ....learning_rate=0.2, max_depth=5;, score=0.838 total time=  33.7s\n",
      "[CV 1/3] END ...learning_rate=0.2, max_depth=10;, score=0.943 total time= 1.1min\n",
      "[CV 2/3] END ...learning_rate=0.2, max_depth=10;, score=0.941 total time= 1.1min\n",
      "[CV 3/3] END ...learning_rate=0.2, max_depth=10;, score=0.944 total time= 1.1min\n",
      "[CV 1/3] END ...learning_rate=0.2, max_depth=15;, score=0.937 total time= 1.7min\n",
      "[CV 2/3] END ...learning_rate=0.2, max_depth=15;, score=0.941 total time= 1.6min\n",
      "[CV 3/3] END ...learning_rate=0.2, max_depth=15;, score=0.939 total time= 1.7min\n"
     ]
    },
    {
     "data": {
      "text/plain": [
       "GridSearchCV(cv=3, estimator=GradientBoostingRegressor(random_state=42),\n",
       "             param_grid={'learning_rate': [0.05, 0.1, 0.2],\n",
       "                         'max_depth': [5, 10, 15]},\n",
       "             verbose=5)"
      ]
     },
     "execution_count": 75,
     "metadata": {},
     "output_type": "execute_result"
    }
   ],
   "source": [
    "gb_grid.fit(X_train, y_train)"
   ]
  },
  {
   "cell_type": "code",
   "execution_count": 76,
   "metadata": {},
   "outputs": [],
   "source": [
    "scores_df = pd.DataFrame(gb_grid.cv_results_)"
   ]
  },
  {
   "cell_type": "code",
   "execution_count": 77,
   "metadata": {},
   "outputs": [
    {
     "data": {
      "text/html": [
       "<div>\n",
       "<style scoped>\n",
       "    .dataframe tbody tr th:only-of-type {\n",
       "        vertical-align: middle;\n",
       "    }\n",
       "\n",
       "    .dataframe tbody tr th {\n",
       "        vertical-align: top;\n",
       "    }\n",
       "\n",
       "    .dataframe thead th {\n",
       "        text-align: right;\n",
       "    }\n",
       "</style>\n",
       "<table border=\"1\" class=\"dataframe\">\n",
       "  <thead>\n",
       "    <tr style=\"text-align: right;\">\n",
       "      <th></th>\n",
       "      <th>params</th>\n",
       "      <th>mean_test_score</th>\n",
       "      <th>rank_test_score</th>\n",
       "    </tr>\n",
       "  </thead>\n",
       "  <tbody>\n",
       "    <tr>\n",
       "      <th>7</th>\n",
       "      <td>{'learning_rate': 0.2, 'max_depth': 10}</td>\n",
       "      <td>0.942837</td>\n",
       "      <td>1</td>\n",
       "    </tr>\n",
       "    <tr>\n",
       "      <th>5</th>\n",
       "      <td>{'learning_rate': 0.1, 'max_depth': 15}</td>\n",
       "      <td>0.940677</td>\n",
       "      <td>2</td>\n",
       "    </tr>\n",
       "    <tr>\n",
       "      <th>2</th>\n",
       "      <td>{'learning_rate': 0.05, 'max_depth': 15}</td>\n",
       "      <td>0.939444</td>\n",
       "      <td>3</td>\n",
       "    </tr>\n",
       "    <tr>\n",
       "      <th>8</th>\n",
       "      <td>{'learning_rate': 0.2, 'max_depth': 15}</td>\n",
       "      <td>0.939113</td>\n",
       "      <td>4</td>\n",
       "    </tr>\n",
       "    <tr>\n",
       "      <th>4</th>\n",
       "      <td>{'learning_rate': 0.1, 'max_depth': 10}</td>\n",
       "      <td>0.937523</td>\n",
       "      <td>5</td>\n",
       "    </tr>\n",
       "  </tbody>\n",
       "</table>\n",
       "</div>"
      ],
      "text/plain": [
       "                                     params  mean_test_score  rank_test_score\n",
       "7   {'learning_rate': 0.2, 'max_depth': 10}         0.942837                1\n",
       "5   {'learning_rate': 0.1, 'max_depth': 15}         0.940677                2\n",
       "2  {'learning_rate': 0.05, 'max_depth': 15}         0.939444                3\n",
       "8   {'learning_rate': 0.2, 'max_depth': 15}         0.939113                4\n",
       "4   {'learning_rate': 0.1, 'max_depth': 10}         0.937523                5"
      ]
     },
     "execution_count": 77,
     "metadata": {},
     "output_type": "execute_result"
    }
   ],
   "source": [
    "scores_df.sort_values(by=['rank_test_score'], inplace=True)\n",
    "scores_df[['params', 'mean_test_score', 'rank_test_score']].head()"
   ]
  },
  {
   "cell_type": "code",
   "execution_count": 78,
   "metadata": {},
   "outputs": [
    {
     "data": {
      "text/plain": [
       "{'learning_rate': 0.2, 'max_depth': 10}"
      ]
     },
     "execution_count": 78,
     "metadata": {},
     "output_type": "execute_result"
    }
   ],
   "source": [
    "gb_grid.best_params_"
   ]
  },
  {
   "cell_type": "code",
   "execution_count": 79,
   "metadata": {},
   "outputs": [],
   "source": [
    "estimator = gb_grid.best_estimator_"
   ]
  },
  {
   "cell_type": "markdown",
   "metadata": {},
   "source": [
    "**최신 모델 저장**"
   ]
  },
  {
   "cell_type": "code",
   "execution_count": 80,
   "metadata": {},
   "outputs": [],
   "source": [
    "import joblib"
   ]
  },
  {
   "cell_type": "code",
   "execution_count": 81,
   "metadata": {},
   "outputs": [
    {
     "data": {
      "text/plain": [
       "['승촌보_gb_수온.pkl']"
      ]
     },
     "execution_count": 81,
     "metadata": {},
     "output_type": "execute_result"
    }
   ],
   "source": [
    "joblib.dump(estimator, \"승촌보_gb_수온.pkl\")"
   ]
  },
  {
   "cell_type": "markdown",
   "metadata": {},
   "source": [
    "저장된 모델을 다시 불러오기"
   ]
  },
  {
   "cell_type": "code",
   "execution_count": 82,
   "metadata": {},
   "outputs": [],
   "source": [
    "estimator = joblib.load(\"승촌보_gb_수온.pkl\")"
   ]
  },
  {
   "cell_type": "code",
   "execution_count": 83,
   "metadata": {},
   "outputs": [],
   "source": [
    "pred = estimator.predict(X_test)"
   ]
  },
  {
   "cell_type": "code",
   "execution_count": 84,
   "metadata": {},
   "outputs": [
    {
     "name": "stdout",
     "output_type": "stream",
     "text": [
      "0.06 수온 ℃\n",
      "0.17 전기전도도 μS/cm\n",
      "0.05 총유기탄소 mg/L\n",
      "0.06 총질소 mg/L\n",
      "0.05 총인 mg/L\n",
      "0.14 상류수위(EL.m)\n",
      "0.21 방류량(㎥/s)\n",
      "0.08 2shift 수온\n",
      "0.02 4shift 수온\n",
      "0.0 6shift 수온\n",
      "0.0 8shift 수온\n",
      "0.0 10shift 수온\n",
      "0.0 12shift 수온\n",
      "0.0 14shift 수온\n",
      "0.0 16shift 수온\n",
      "0.01 18shift 수온\n",
      "0.0 20shift 수온\n",
      "0.0 22shift 수온\n",
      "0.0 24shift 수온\n",
      "0.01 26shift 수온\n",
      "0.0 28shift 수온\n",
      "0.0 30shift 수온\n",
      "0.0 32shift 수온\n",
      "0.0 34shift 수온\n",
      "0.0 36shift 수온\n",
      "0.0 38shift 수온\n",
      "0.01 40shift 수온\n",
      "0.0 42shift 수온\n",
      "0.0 44shift 수온\n",
      "0.0 46shift 수온\n",
      "0.0 48shift 수온\n",
      "0.0 50shift 수온\n",
      "0.0 52shift 수온\n",
      "0.0 54shift 수온\n",
      "0.0 56shift 수온\n",
      "0.01 58shift 수온\n",
      "0.01 60shift 수온\n",
      "0.01 62shift 수온\n",
      "0.01 64shift 수온\n",
      "0.01 66shift 수온\n",
      "0.01 68shift 수온\n",
      "0.0 70shift 수온\n",
      "0.02 72shift 수온\n"
     ]
    }
   ],
   "source": [
    "for score, name in zip(estimator.feature_importances_, col):\n",
    "    print(round(score, 2), name)"
   ]
  },
  {
   "cell_type": "code",
   "execution_count": 85,
   "metadata": {},
   "outputs": [
    {
     "data": {
      "image/png": "[encoded data removed]",
      "text/plain": [
       "<Figure size 720x432 with 1 Axes>"
      ]
     },
     "metadata": {
      "needs_background": "light"
     },
     "output_type": "display_data"
    }
   ],
   "source": [
    "feature_series = pd.Series(data = estimator.feature_importances_, index = col)\n",
    "feature_series = feature_series.sort_values(ascending = False)\n",
    "sns.barplot(x = feature_series[:10], y = feature_series.index[:10], color = 'gray')\n",
    "plt.show()"
   ]
  },
  {
   "cell_type": "code",
   "execution_count": 86,
   "metadata": {},
   "outputs": [
    {
     "data": {
      "text/plain": [
       "방류량(㎥/s)       0.208991\n",
       "전기전도도 μS/cm    0.168133\n",
       "상류수위(EL.m)     0.138403\n",
       "2shift 수온      0.078975\n",
       "총질소 mg/L       0.063097\n",
       "수온 ℃           0.057175\n",
       "총인 mg/L        0.051925\n",
       "총유기탄소 mg/L     0.049896\n",
       "4shift 수온      0.019267\n",
       "72shift 수온     0.016908\n",
       "dtype: float64"
      ]
     },
     "execution_count": 86,
     "metadata": {},
     "output_type": "execute_result"
    }
   ],
   "source": [
    "feature_series[:10]"
   ]
  },
  {
   "cell_type": "code",
   "execution_count": 87,
   "metadata": {},
   "outputs": [
    {
     "name": "stdout",
     "output_type": "stream",
     "text": [
      "score : 0.9570012244066335\n"
     ]
    }
   ],
   "source": [
    "print('score :', estimator.score(X_test, y_test))"
   ]
  },
  {
   "cell_type": "markdown",
   "metadata": {},
   "source": [
    "## shift수온 + 방류량 데이터만"
   ]
  },
  {
   "cell_type": "code",
   "execution_count": 88,
   "metadata": {},
   "outputs": [],
   "source": [
    "col_v = ['방류량(㎥/s)']\n",
    "\n",
    "for i in col:\n",
    "    if '수온' in i:\n",
    "        col_v.append(i)"
   ]
  },
  {
   "cell_type": "code",
   "execution_count": 89,
   "metadata": {},
   "outputs": [
    {
     "name": "stdout",
     "output_type": "stream",
     "text": [
      "['방류량(㎥/s)', '수온 ℃', '2shift 수온', '4shift 수온', '6shift 수온', '8shift 수온', '10shift 수온', '12shift 수온', '14shift 수온', '16shift 수온', '18shift 수온', '20shift 수온', '22shift 수온', '24shift 수온', '26shift 수온', '28shift 수온', '30shift 수온', '32shift 수온', '34shift 수온', '36shift 수온', '38shift 수온', '40shift 수온', '42shift 수온', '44shift 수온', '46shift 수온', '48shift 수온', '50shift 수온', '52shift 수온', '54shift 수온', '56shift 수온', '58shift 수온', '60shift 수온', '62shift 수온', '64shift 수온', '66shift 수온', '68shift 수온', '70shift 수온', '72shift 수온']\n"
     ]
    }
   ],
   "source": [
    "print(col_v)"
   ]
  },
  {
   "cell_type": "markdown",
   "metadata": {},
   "source": [
    "## 모델 훈련 - RandomForest(shift수온 + 방류량)"
   ]
  },
  {
   "cell_type": "code",
   "execution_count": 90,
   "metadata": {},
   "outputs": [],
   "source": [
    "X_train, X_test, y_train, y_test = train_test_split(scb_df.loc[:, col_v], scb_df['log_Chl-a'], random_state=42)\n",
    "rf_reg = RandomForestRegressor(random_state=42, oob_score=True, n_jobs=-1)\n",
    "\n",
    "parameters = {'n_estimators':[100, 500], 'max_depth':[5, 10, 15], 'min_samples_leaf':[8, 12, 16]}"
   ]
  },
  {
   "cell_type": "code",
   "execution_count": 91,
   "metadata": {},
   "outputs": [],
   "source": [
    "rf_grid = GridSearchCV(rf_reg, param_grid=parameters, cv=3, n_jobs=-1, verbose=5)"
   ]
  },
  {
   "cell_type": "code",
   "execution_count": 92,
   "metadata": {},
   "outputs": [
    {
     "name": "stdout",
     "output_type": "stream",
     "text": [
      "Fitting 3 folds for each of 18 candidates, totalling 54 fits\n"
     ]
    },
    {
     "data": {
      "text/plain": [
       "GridSearchCV(cv=3,\n",
       "             estimator=RandomForestRegressor(n_jobs=-1, oob_score=True,\n",
       "                                             random_state=42),\n",
       "             n_jobs=-1,\n",
       "             param_grid={'max_depth': [5, 10, 15],\n",
       "                         'min_samples_leaf': [8, 12, 16],\n",
       "                         'n_estimators': [100, 500]},\n",
       "             verbose=5)"
      ]
     },
     "execution_count": 92,
     "metadata": {},
     "output_type": "execute_result"
    }
   ],
   "source": [
    "rf_grid.fit(X_train, y_train)"
   ]
  },
  {
   "cell_type": "code",
   "execution_count": 93,
   "metadata": {},
   "outputs": [],
   "source": [
    "scores_df = pd.DataFrame(rf_grid.cv_results_)"
   ]
  },
  {
   "cell_type": "code",
   "execution_count": 94,
   "metadata": {},
   "outputs": [
    {
     "data": {
      "text/html": [
       "<div>\n",
       "<style scoped>\n",
       "    .dataframe tbody tr th:only-of-type {\n",
       "        vertical-align: middle;\n",
       "    }\n",
       "\n",
       "    .dataframe tbody tr th {\n",
       "        vertical-align: top;\n",
       "    }\n",
       "\n",
       "    .dataframe thead th {\n",
       "        text-align: right;\n",
       "    }\n",
       "</style>\n",
       "<table border=\"1\" class=\"dataframe\">\n",
       "  <thead>\n",
       "    <tr style=\"text-align: right;\">\n",
       "      <th></th>\n",
       "      <th>params</th>\n",
       "      <th>mean_test_score</th>\n",
       "      <th>rank_test_score</th>\n",
       "    </tr>\n",
       "  </thead>\n",
       "  <tbody>\n",
       "    <tr>\n",
       "      <th>13</th>\n",
       "      <td>{'max_depth': 15, 'min_samples_leaf': 8, 'n_es...</td>\n",
       "      <td>0.696213</td>\n",
       "      <td>1</td>\n",
       "    </tr>\n",
       "    <tr>\n",
       "      <th>12</th>\n",
       "      <td>{'max_depth': 15, 'min_samples_leaf': 8, 'n_es...</td>\n",
       "      <td>0.693913</td>\n",
       "      <td>2</td>\n",
       "    </tr>\n",
       "    <tr>\n",
       "      <th>15</th>\n",
       "      <td>{'max_depth': 15, 'min_samples_leaf': 12, 'n_e...</td>\n",
       "      <td>0.674208</td>\n",
       "      <td>3</td>\n",
       "    </tr>\n",
       "    <tr>\n",
       "      <th>14</th>\n",
       "      <td>{'max_depth': 15, 'min_samples_leaf': 12, 'n_e...</td>\n",
       "      <td>0.671974</td>\n",
       "      <td>4</td>\n",
       "    </tr>\n",
       "    <tr>\n",
       "      <th>17</th>\n",
       "      <td>{'max_depth': 15, 'min_samples_leaf': 16, 'n_e...</td>\n",
       "      <td>0.655448</td>\n",
       "      <td>5</td>\n",
       "    </tr>\n",
       "  </tbody>\n",
       "</table>\n",
       "</div>"
      ],
      "text/plain": [
       "                                               params  mean_test_score  \\\n",
       "13  {'max_depth': 15, 'min_samples_leaf': 8, 'n_es...         0.696213   \n",
       "12  {'max_depth': 15, 'min_samples_leaf': 8, 'n_es...         0.693913   \n",
       "15  {'max_depth': 15, 'min_samples_leaf': 12, 'n_e...         0.674208   \n",
       "14  {'max_depth': 15, 'min_samples_leaf': 12, 'n_e...         0.671974   \n",
       "17  {'max_depth': 15, 'min_samples_leaf': 16, 'n_e...         0.655448   \n",
       "\n",
       "    rank_test_score  \n",
       "13                1  \n",
       "12                2  \n",
       "15                3  \n",
       "14                4  \n",
       "17                5  "
      ]
     },
     "execution_count": 94,
     "metadata": {},
     "output_type": "execute_result"
    }
   ],
   "source": [
    "scores_df.sort_values(by=['rank_test_score'], inplace=True)\n",
    "scores_df[['params', 'mean_test_score', 'rank_test_score']].head()"
   ]
  },
  {
   "cell_type": "code",
   "execution_count": 95,
   "metadata": {},
   "outputs": [
    {
     "data": {
      "text/plain": [
       "{'max_depth': 15, 'min_samples_leaf': 8, 'n_estimators': 500}"
      ]
     },
     "execution_count": 95,
     "metadata": {},
     "output_type": "execute_result"
    }
   ],
   "source": [
    "rf_grid.best_params_"
   ]
  },
  {
   "cell_type": "code",
   "execution_count": 96,
   "metadata": {},
   "outputs": [],
   "source": [
    "estimator = rf_grid.best_estimator_"
   ]
  },
  {
   "cell_type": "markdown",
   "metadata": {},
   "source": [
    "최신 모델 저장"
   ]
  },
  {
   "cell_type": "code",
   "execution_count": 97,
   "metadata": {},
   "outputs": [
    {
     "data": {
      "text/plain": [
       "['승촌보_rf_only수온_방류량.pkl']"
      ]
     },
     "execution_count": 97,
     "metadata": {},
     "output_type": "execute_result"
    }
   ],
   "source": [
    "joblib.dump(estimator, \"승촌보_rf_only수온_방류량.pkl\")\n"
   ]
  },
  {
   "cell_type": "markdown",
   "metadata": {},
   "source": [
    "저장된 모델 다시 불러오기"
   ]
  },
  {
   "cell_type": "code",
   "execution_count": 98,
   "metadata": {},
   "outputs": [],
   "source": [
    "estimator = joblib.load(\"승촌보_rf_only수온_방류량.pkl\")"
   ]
  },
  {
   "cell_type": "code",
   "execution_count": 99,
   "metadata": {},
   "outputs": [
    {
     "data": {
      "text/plain": [
       "0.7306566371546388"
      ]
     },
     "execution_count": 99,
     "metadata": {},
     "output_type": "execute_result"
    }
   ],
   "source": [
    "estimator.oob_score_"
   ]
  },
  {
   "cell_type": "code",
   "execution_count": 100,
   "metadata": {},
   "outputs": [],
   "source": [
    "pred = estimator.predict(X_test)"
   ]
  },
  {
   "cell_type": "code",
   "execution_count": 101,
   "metadata": {},
   "outputs": [
    {
     "name": "stdout",
     "output_type": "stream",
     "text": [
      "0.42 방류량(㎥/s)\n",
      "0.1 수온 ℃\n",
      "0.07 2shift 수온\n",
      "0.03 4shift 수온\n",
      "0.02 6shift 수온\n",
      "0.01 8shift 수온\n",
      "0.01 10shift 수온\n",
      "0.01 12shift 수온\n",
      "0.01 14shift 수온\n",
      "0.01 16shift 수온\n",
      "0.01 18shift 수온\n",
      "0.01 20shift 수온\n",
      "0.01 22shift 수온\n",
      "0.01 24shift 수온\n",
      "0.01 26shift 수온\n",
      "0.01 28shift 수온\n",
      "0.01 30shift 수온\n",
      "0.01 32shift 수온\n",
      "0.01 34shift 수온\n",
      "0.01 36shift 수온\n",
      "0.01 38shift 수온\n",
      "0.01 40shift 수온\n",
      "0.01 42shift 수온\n",
      "0.01 44shift 수온\n",
      "0.01 46shift 수온\n",
      "0.01 48shift 수온\n",
      "0.01 50shift 수온\n",
      "0.01 52shift 수온\n",
      "0.01 54shift 수온\n",
      "0.01 56shift 수온\n",
      "0.01 58shift 수온\n",
      "0.01 60shift 수온\n",
      "0.01 62shift 수온\n",
      "0.01 64shift 수온\n",
      "0.01 66shift 수온\n",
      "0.01 68shift 수온\n",
      "0.01 70shift 수온\n",
      "0.03 72shift 수온\n"
     ]
    }
   ],
   "source": [
    "for score, name in zip(estimator.feature_importances_, col_v):\n",
    "    print(round(score, 2), name)"
   ]
  },
  {
   "cell_type": "code",
   "execution_count": 102,
   "metadata": {},
   "outputs": [
    {
     "data": {
      "image/png": "[encoded data removed]",
      "text/plain": [
       "<Figure size 720x432 with 1 Axes>"
      ]
     },
     "metadata": {
      "needs_background": "light"
     },
     "output_type": "display_data"
    }
   ],
   "source": [
    "feature_series = pd.Series(data = estimator.feature_importances_, index = col_v)\n",
    "feature_series = feature_series.sort_values(ascending = False)\n",
    "sns.barplot(x = feature_series[:10], y = feature_series.index[:10], color = 'gray')\n",
    "plt.show()"
   ]
  },
  {
   "cell_type": "code",
   "execution_count": 103,
   "metadata": {},
   "outputs": [
    {
     "data": {
      "text/plain": [
       "방류량(㎥/s)      0.421647\n",
       "수온 ℃          0.095918\n",
       "2shift 수온     0.069155\n",
       "4shift 수온     0.030120\n",
       "72shift 수온    0.027846\n",
       "6shift 수온     0.022897\n",
       "70shift 수온    0.014053\n",
       "68shift 수온    0.013945\n",
       "20shift 수온    0.013910\n",
       "24shift 수온    0.013634\n",
       "dtype: float64"
      ]
     },
     "execution_count": 103,
     "metadata": {},
     "output_type": "execute_result"
    }
   ],
   "source": [
    "feature_series[:10]"
   ]
  },
  {
   "cell_type": "code",
   "execution_count": 104,
   "metadata": {},
   "outputs": [
    {
     "name": "stdout",
     "output_type": "stream",
     "text": [
      "score : 0.7301860411749305\n"
     ]
    }
   ],
   "source": [
    "print('score :', estimator.score(X_test, y_test))"
   ]
  },
  {
   "cell_type": "markdown",
   "metadata": {},
   "source": [
    "## 모델 훈련 - GradientBoosting(shift수온+방류량)"
   ]
  },
  {
   "cell_type": "code",
   "execution_count": 105,
   "metadata": {},
   "outputs": [],
   "source": [
    "X_train, X_test, y_train, y_test = train_test_split(scb_df.loc[:, col_v], scb_df['log_Chl-a'], random_state=42)\n",
    "gb_reg = GradientBoostingRegressor(random_state=42)\n",
    "\n",
    "parameters = {'max_depth':[5, 10, 15], 'learning_rate':[0.05, 0.1, 0.2]}"
   ]
  },
  {
   "cell_type": "code",
   "execution_count": 106,
   "metadata": {},
   "outputs": [],
   "source": [
    "gb_grid = GridSearchCV(gb_reg, param_grid=parameters, cv=3, verbose=5)"
   ]
  },
  {
   "cell_type": "code",
   "execution_count": 107,
   "metadata": {},
   "outputs": [
    {
     "name": "stdout",
     "output_type": "stream",
     "text": [
      "Fitting 3 folds for each of 9 candidates, totalling 27 fits\n",
      "[CV 1/3] END ...learning_rate=0.05, max_depth=5;, score=0.526 total time=  28.5s\n",
      "[CV 2/3] END ...learning_rate=0.05, max_depth=5;, score=0.515 total time=  28.6s\n",
      "[CV 3/3] END ...learning_rate=0.05, max_depth=5;, score=0.518 total time=  28.7s\n",
      "[CV 1/3] END ..learning_rate=0.05, max_depth=10;, score=0.718 total time=  56.4s\n",
      "[CV 2/3] END ..learning_rate=0.05, max_depth=10;, score=0.706 total time=  56.8s\n",
      "[CV 3/3] END ..learning_rate=0.05, max_depth=10;, score=0.713 total time=  56.6s\n",
      "[CV 1/3] END ..learning_rate=0.05, max_depth=15;, score=0.790 total time= 1.4min\n",
      "[CV 2/3] END ..learning_rate=0.05, max_depth=15;, score=0.776 total time= 1.4min\n",
      "[CV 3/3] END ..learning_rate=0.05, max_depth=15;, score=0.768 total time= 1.4min\n",
      "[CV 1/3] END ....learning_rate=0.1, max_depth=5;, score=0.560 total time=  28.5s\n",
      "[CV 2/3] END ....learning_rate=0.1, max_depth=5;, score=0.551 total time=  28.4s\n",
      "[CV 3/3] END ....learning_rate=0.1, max_depth=5;, score=0.552 total time=  28.5s\n",
      "[CV 1/3] END ...learning_rate=0.1, max_depth=10;, score=0.743 total time=  56.1s\n",
      "[CV 2/3] END ...learning_rate=0.1, max_depth=10;, score=0.733 total time=  56.2s\n",
      "[CV 3/3] END ...learning_rate=0.1, max_depth=10;, score=0.738 total time=  56.2s\n",
      "[CV 1/3] END ...learning_rate=0.1, max_depth=15;, score=0.793 total time= 1.4min\n",
      "[CV 2/3] END ...learning_rate=0.1, max_depth=15;, score=0.783 total time= 1.4min\n",
      "[CV 3/3] END ...learning_rate=0.1, max_depth=15;, score=0.774 total time= 1.4min\n",
      "[CV 1/3] END ....learning_rate=0.2, max_depth=5;, score=0.604 total time=  28.4s\n",
      "[CV 2/3] END ....learning_rate=0.2, max_depth=5;, score=0.592 total time=  28.3s\n",
      "[CV 3/3] END ....learning_rate=0.2, max_depth=5;, score=0.602 total time=  28.4s\n",
      "[CV 1/3] END ...learning_rate=0.2, max_depth=10;, score=0.769 total time=  56.0s\n",
      "[CV 2/3] END ...learning_rate=0.2, max_depth=10;, score=0.751 total time=  56.0s\n",
      "[CV 3/3] END ...learning_rate=0.2, max_depth=10;, score=0.760 total time=  56.0s\n",
      "[CV 1/3] END ...learning_rate=0.2, max_depth=15;, score=0.787 total time= 1.4min\n",
      "[CV 2/3] END ...learning_rate=0.2, max_depth=15;, score=0.775 total time= 1.4min\n",
      "[CV 3/3] END ...learning_rate=0.2, max_depth=15;, score=0.770 total time= 1.4min\n"
     ]
    },
    {
     "data": {
      "text/plain": [
       "GridSearchCV(cv=3, estimator=GradientBoostingRegressor(random_state=42),\n",
       "             param_grid={'learning_rate': [0.05, 0.1, 0.2],\n",
       "                         'max_depth': [5, 10, 15]},\n",
       "             verbose=5)"
      ]
     },
     "execution_count": 107,
     "metadata": {},
     "output_type": "execute_result"
    }
   ],
   "source": [
    "gb_grid.fit(X_train, y_train)"
   ]
  },
  {
   "cell_type": "code",
   "execution_count": 108,
   "metadata": {},
   "outputs": [],
   "source": [
    "scores_df = pd.DataFrame(gb_grid.cv_results_)"
   ]
  },
  {
   "cell_type": "code",
   "execution_count": 109,
   "metadata": {},
   "outputs": [
    {
     "data": {
      "text/html": [
       "<div>\n",
       "<style scoped>\n",
       "    .dataframe tbody tr th:only-of-type {\n",
       "        vertical-align: middle;\n",
       "    }\n",
       "\n",
       "    .dataframe tbody tr th {\n",
       "        vertical-align: top;\n",
       "    }\n",
       "\n",
       "    .dataframe thead th {\n",
       "        text-align: right;\n",
       "    }\n",
       "</style>\n",
       "<table border=\"1\" class=\"dataframe\">\n",
       "  <thead>\n",
       "    <tr style=\"text-align: right;\">\n",
       "      <th></th>\n",
       "      <th>params</th>\n",
       "      <th>mean_test_score</th>\n",
       "      <th>rank_test_score</th>\n",
       "    </tr>\n",
       "  </thead>\n",
       "  <tbody>\n",
       "    <tr>\n",
       "      <th>5</th>\n",
       "      <td>{'learning_rate': 0.1, 'max_depth': 15}</td>\n",
       "      <td>0.783220</td>\n",
       "      <td>1</td>\n",
       "    </tr>\n",
       "    <tr>\n",
       "      <th>2</th>\n",
       "      <td>{'learning_rate': 0.05, 'max_depth': 15}</td>\n",
       "      <td>0.777931</td>\n",
       "      <td>2</td>\n",
       "    </tr>\n",
       "    <tr>\n",
       "      <th>8</th>\n",
       "      <td>{'learning_rate': 0.2, 'max_depth': 15}</td>\n",
       "      <td>0.777579</td>\n",
       "      <td>3</td>\n",
       "    </tr>\n",
       "    <tr>\n",
       "      <th>7</th>\n",
       "      <td>{'learning_rate': 0.2, 'max_depth': 10}</td>\n",
       "      <td>0.760120</td>\n",
       "      <td>4</td>\n",
       "    </tr>\n",
       "    <tr>\n",
       "      <th>4</th>\n",
       "      <td>{'learning_rate': 0.1, 'max_depth': 10}</td>\n",
       "      <td>0.738248</td>\n",
       "      <td>5</td>\n",
       "    </tr>\n",
       "  </tbody>\n",
       "</table>\n",
       "</div>"
      ],
      "text/plain": [
       "                                     params  mean_test_score  rank_test_score\n",
       "5   {'learning_rate': 0.1, 'max_depth': 15}         0.783220                1\n",
       "2  {'learning_rate': 0.05, 'max_depth': 15}         0.777931                2\n",
       "8   {'learning_rate': 0.2, 'max_depth': 15}         0.777579                3\n",
       "7   {'learning_rate': 0.2, 'max_depth': 10}         0.760120                4\n",
       "4   {'learning_rate': 0.1, 'max_depth': 10}         0.738248                5"
      ]
     },
     "execution_count": 109,
     "metadata": {},
     "output_type": "execute_result"
    }
   ],
   "source": [
    "scores_df.sort_values(by=['rank_test_score'], inplace=True)\n",
    "scores_df[['params', 'mean_test_score', 'rank_test_score']].head()"
   ]
  },
  {
   "cell_type": "code",
   "execution_count": 110,
   "metadata": {},
   "outputs": [
    {
     "data": {
      "text/plain": [
       "{'learning_rate': 0.1, 'max_depth': 15}"
      ]
     },
     "execution_count": 110,
     "metadata": {},
     "output_type": "execute_result"
    }
   ],
   "source": [
    "gb_grid.best_params_"
   ]
  },
  {
   "cell_type": "code",
   "execution_count": 111,
   "metadata": {},
   "outputs": [],
   "source": [
    "estimator = gb_grid.best_estimator_"
   ]
  },
  {
   "cell_type": "markdown",
   "metadata": {},
   "source": [
    "최신 모델 저장"
   ]
  },
  {
   "cell_type": "code",
   "execution_count": 112,
   "metadata": {},
   "outputs": [
    {
     "data": {
      "text/plain": [
       "['승촌보_gb_only수온_방류량.pkl']"
      ]
     },
     "execution_count": 112,
     "metadata": {},
     "output_type": "execute_result"
    }
   ],
   "source": [
    "joblib.dump(estimator, \"승촌보_gb_only수온_방류량.pkl\")"
   ]
  },
  {
   "cell_type": "markdown",
   "metadata": {},
   "source": [
    "저장된 모델을 다시 불러오기"
   ]
  },
  {
   "cell_type": "code",
   "execution_count": 113,
   "metadata": {},
   "outputs": [],
   "source": [
    "estimator = joblib.load(\"승촌보_gb_only수온_방류량.pkl\")"
   ]
  },
  {
   "cell_type": "code",
   "execution_count": 114,
   "metadata": {},
   "outputs": [],
   "source": [
    "pred = estimator.predict(X_test)"
   ]
  },
  {
   "cell_type": "code",
   "execution_count": 115,
   "metadata": {},
   "outputs": [
    {
     "name": "stdout",
     "output_type": "stream",
     "text": [
      "0.36 방류량(㎥/s)\n",
      "0.1 수온 ℃\n",
      "0.04 2shift 수온\n",
      "0.04 4shift 수온\n",
      "0.02 6shift 수온\n",
      "0.01 8shift 수온\n",
      "0.01 10shift 수온\n",
      "0.01 12shift 수온\n",
      "0.01 14shift 수온\n",
      "0.01 16shift 수온\n",
      "0.02 18shift 수온\n",
      "0.02 20shift 수온\n",
      "0.01 22shift 수온\n",
      "0.01 24shift 수온\n",
      "0.01 26shift 수온\n",
      "0.01 28shift 수온\n",
      "0.01 30shift 수온\n",
      "0.01 32shift 수온\n",
      "0.01 34shift 수온\n",
      "0.01 36shift 수온\n",
      "0.01 38shift 수온\n",
      "0.01 40shift 수온\n",
      "0.01 42shift 수온\n",
      "0.01 44shift 수온\n",
      "0.01 46shift 수온\n",
      "0.01 48shift 수온\n",
      "0.01 50shift 수온\n",
      "0.01 52shift 수온\n",
      "0.01 54shift 수온\n",
      "0.02 56shift 수온\n",
      "0.01 58shift 수온\n",
      "0.01 60shift 수온\n",
      "0.01 62shift 수온\n",
      "0.01 64shift 수온\n",
      "0.02 66shift 수온\n",
      "0.02 68shift 수온\n",
      "0.02 70shift 수온\n",
      "0.04 72shift 수온\n"
     ]
    }
   ],
   "source": [
    "for score, name in zip(estimator.feature_importances_, col_v):\n",
    "    print(round(score, 2), name)"
   ]
  },
  {
   "cell_type": "code",
   "execution_count": 116,
   "metadata": {},
   "outputs": [
    {
     "data": {
      "image/png": "[encoded data removed]",
      "text/plain": [
       "<Figure size 720x432 with 1 Axes>"
      ]
     },
     "metadata": {
      "needs_background": "light"
     },
     "output_type": "display_data"
    }
   ],
   "source": [
    "feature_series = pd.Series(data = estimator.feature_importances_, index = col_v)\n",
    "feature_series = feature_series.sort_values(ascending = False)\n",
    "sns.barplot(x = feature_series[:10], y = feature_series.index[:10], color = 'gray')\n",
    "plt.show()"
   ]
  },
  {
   "cell_type": "code",
   "execution_count": 117,
   "metadata": {},
   "outputs": [
    {
     "data": {
      "text/plain": [
       "방류량(㎥/s)      0.364591\n",
       "수온 ℃          0.099726\n",
       "4shift 수온     0.038093\n",
       "2shift 수온     0.037054\n",
       "72shift 수온    0.035487\n",
       "20shift 수온    0.024554\n",
       "6shift 수온     0.019544\n",
       "56shift 수온    0.018037\n",
       "68shift 수온    0.017890\n",
       "70shift 수온    0.017743\n",
       "dtype: float64"
      ]
     },
     "execution_count": 117,
     "metadata": {},
     "output_type": "execute_result"
    }
   ],
   "source": [
    "feature_series[:10]"
   ]
  },
  {
   "cell_type": "code",
   "execution_count": 118,
   "metadata": {},
   "outputs": [
    {
     "name": "stdout",
     "output_type": "stream",
     "text": [
      "score : 0.8306539060515679\n"
     ]
    }
   ],
   "source": [
    "print('score :', estimator.score(X_test, y_test))"
   ]
  },
  {
   "cell_type": "markdown",
   "metadata": {},
   "source": [
    "## 전체 + 수온대신 2shift수온만"
   ]
  },
  {
   "cell_type": "code",
   "execution_count": 119,
   "metadata": {},
   "outputs": [
    {
     "name": "stdout",
     "output_type": "stream",
     "text": [
      "['전기전도도 μS/cm', '총유기탄소 mg/L', '총질소 mg/L', '총인 mg/L', '상류수위(EL.m)', '방류량(㎥/s)', '2shift 수온']\n"
     ]
    }
   ],
   "source": [
    "col_2 = ['전기전도도 μS/cm', '총유기탄소 mg/L', '총질소 mg/L', '총인 mg/L', '상류수위(EL.m)', '방류량(㎥/s)', '2shift 수온']\n",
    "print(col_2)"
   ]
  },
  {
   "cell_type": "markdown",
   "metadata": {},
   "source": [
    "## 모델 훈련 - RandomForest(전체 + 수온대신 2shift수온)"
   ]
  },
  {
   "cell_type": "code",
   "execution_count": 120,
   "metadata": {},
   "outputs": [],
   "source": [
    "X_train, X_test, y_train, y_test = train_test_split(scb_df.loc[:, col_2], scb_df['log_Chl-a'], random_state=42)\n",
    "rf_reg = RandomForestRegressor(random_state=42, oob_score=True, n_jobs=-1)\n",
    "\n",
    "parameters = {'n_estimators':[100, 500], 'max_depth':[5, 10, 15], 'min_samples_leaf':[8, 12, 16]}"
   ]
  },
  {
   "cell_type": "code",
   "execution_count": 121,
   "metadata": {},
   "outputs": [],
   "source": [
    "rf_grid = GridSearchCV(rf_reg, param_grid=parameters, cv=3, n_jobs=-1, verbose=5)"
   ]
  },
  {
   "cell_type": "code",
   "execution_count": 122,
   "metadata": {},
   "outputs": [
    {
     "name": "stdout",
     "output_type": "stream",
     "text": [
      "Fitting 3 folds for each of 18 candidates, totalling 54 fits\n"
     ]
    },
    {
     "data": {
      "text/plain": [
       "GridSearchCV(cv=3,\n",
       "             estimator=RandomForestRegressor(n_jobs=-1, oob_score=True,\n",
       "                                             random_state=42),\n",
       "             n_jobs=-1,\n",
       "             param_grid={'max_depth': [5, 10, 15],\n",
       "                         'min_samples_leaf': [8, 12, 16],\n",
       "                         'n_estimators': [100, 500]},\n",
       "             verbose=5)"
      ]
     },
     "execution_count": 122,
     "metadata": {},
     "output_type": "execute_result"
    }
   ],
   "source": [
    "rf_grid.fit(X_train, y_train)"
   ]
  },
  {
   "cell_type": "code",
   "execution_count": 123,
   "metadata": {},
   "outputs": [],
   "source": [
    "scores_df = pd.DataFrame(rf_grid.cv_results_)"
   ]
  },
  {
   "cell_type": "code",
   "execution_count": 124,
   "metadata": {},
   "outputs": [
    {
     "data": {
      "text/html": [
       "<div>\n",
       "<style scoped>\n",
       "    .dataframe tbody tr th:only-of-type {\n",
       "        vertical-align: middle;\n",
       "    }\n",
       "\n",
       "    .dataframe tbody tr th {\n",
       "        vertical-align: top;\n",
       "    }\n",
       "\n",
       "    .dataframe thead th {\n",
       "        text-align: right;\n",
       "    }\n",
       "</style>\n",
       "<table border=\"1\" class=\"dataframe\">\n",
       "  <thead>\n",
       "    <tr style=\"text-align: right;\">\n",
       "      <th></th>\n",
       "      <th>params</th>\n",
       "      <th>mean_test_score</th>\n",
       "      <th>rank_test_score</th>\n",
       "    </tr>\n",
       "  </thead>\n",
       "  <tbody>\n",
       "    <tr>\n",
       "      <th>13</th>\n",
       "      <td>{'max_depth': 15, 'min_samples_leaf': 8, 'n_es...</td>\n",
       "      <td>0.884662</td>\n",
       "      <td>1</td>\n",
       "    </tr>\n",
       "    <tr>\n",
       "      <th>12</th>\n",
       "      <td>{'max_depth': 15, 'min_samples_leaf': 8, 'n_es...</td>\n",
       "      <td>0.884253</td>\n",
       "      <td>2</td>\n",
       "    </tr>\n",
       "    <tr>\n",
       "      <th>15</th>\n",
       "      <td>{'max_depth': 15, 'min_samples_leaf': 12, 'n_e...</td>\n",
       "      <td>0.867694</td>\n",
       "      <td>3</td>\n",
       "    </tr>\n",
       "    <tr>\n",
       "      <th>14</th>\n",
       "      <td>{'max_depth': 15, 'min_samples_leaf': 12, 'n_e...</td>\n",
       "      <td>0.867318</td>\n",
       "      <td>4</td>\n",
       "    </tr>\n",
       "    <tr>\n",
       "      <th>17</th>\n",
       "      <td>{'max_depth': 15, 'min_samples_leaf': 16, 'n_e...</td>\n",
       "      <td>0.852850</td>\n",
       "      <td>5</td>\n",
       "    </tr>\n",
       "  </tbody>\n",
       "</table>\n",
       "</div>"
      ],
      "text/plain": [
       "                                               params  mean_test_score  \\\n",
       "13  {'max_depth': 15, 'min_samples_leaf': 8, 'n_es...         0.884662   \n",
       "12  {'max_depth': 15, 'min_samples_leaf': 8, 'n_es...         0.884253   \n",
       "15  {'max_depth': 15, 'min_samples_leaf': 12, 'n_e...         0.867694   \n",
       "14  {'max_depth': 15, 'min_samples_leaf': 12, 'n_e...         0.867318   \n",
       "17  {'max_depth': 15, 'min_samples_leaf': 16, 'n_e...         0.852850   \n",
       "\n",
       "    rank_test_score  \n",
       "13                1  \n",
       "12                2  \n",
       "15                3  \n",
       "14                4  \n",
       "17                5  "
      ]
     },
     "execution_count": 124,
     "metadata": {},
     "output_type": "execute_result"
    }
   ],
   "source": [
    "scores_df.sort_values(by=['rank_test_score'], inplace=True)\n",
    "scores_df[['params', 'mean_test_score', 'rank_test_score']].head()"
   ]
  },
  {
   "cell_type": "code",
   "execution_count": 125,
   "metadata": {},
   "outputs": [
    {
     "data": {
      "text/plain": [
       "{'max_depth': 15, 'min_samples_leaf': 8, 'n_estimators': 500}"
      ]
     },
     "execution_count": 125,
     "metadata": {},
     "output_type": "execute_result"
    }
   ],
   "source": [
    "rf_grid.best_params_"
   ]
  },
  {
   "cell_type": "code",
   "execution_count": 126,
   "metadata": {},
   "outputs": [],
   "source": [
    "estimator = rf_grid.best_estimator_"
   ]
  },
  {
   "cell_type": "markdown",
   "metadata": {},
   "source": [
    "최신 모델 저장"
   ]
  },
  {
   "cell_type": "code",
   "execution_count": 127,
   "metadata": {},
   "outputs": [
    {
     "data": {
      "text/plain": [
       "['승촌보_rf_2shift수온.pkl']"
      ]
     },
     "execution_count": 127,
     "metadata": {},
     "output_type": "execute_result"
    }
   ],
   "source": [
    "joblib.dump(estimator, \"승촌보_rf_2shift수온.pkl\")"
   ]
  },
  {
   "cell_type": "markdown",
   "metadata": {},
   "source": [
    "저장된 모델 다시 불러오기"
   ]
  },
  {
   "cell_type": "code",
   "execution_count": 128,
   "metadata": {},
   "outputs": [],
   "source": [
    "estimator = joblib.load(\"승촌보_rf_2shift수온.pkl\")"
   ]
  },
  {
   "cell_type": "code",
   "execution_count": 129,
   "metadata": {},
   "outputs": [
    {
     "data": {
      "text/plain": [
       "0.9030601377760745"
      ]
     },
     "execution_count": 129,
     "metadata": {},
     "output_type": "execute_result"
    }
   ],
   "source": [
    "estimator.oob_score_"
   ]
  },
  {
   "cell_type": "code",
   "execution_count": 130,
   "metadata": {},
   "outputs": [],
   "source": [
    "pred = estimator.predict(X_test)"
   ]
  },
  {
   "cell_type": "code",
   "execution_count": 131,
   "metadata": {},
   "outputs": [
    {
     "name": "stdout",
     "output_type": "stream",
     "text": [
      "0.18 전기전도도 μS/cm\n",
      "0.06 총유기탄소 mg/L\n",
      "0.08 총질소 mg/L\n",
      "0.07 총인 mg/L\n",
      "0.15 상류수위(EL.m)\n",
      "0.23 방류량(㎥/s)\n",
      "0.22 2shift 수온\n"
     ]
    }
   ],
   "source": [
    "for score, name in zip(estimator.feature_importances_, col_2):\n",
    "    print(round(score, 2), name)"
   ]
  },
  {
   "cell_type": "code",
   "execution_count": 132,
   "metadata": {},
   "outputs": [
    {
     "data": {
      "image/png": "[encoded data removed]",
      "text/plain": [
       "<Figure size 720x432 with 1 Axes>"
      ]
     },
     "metadata": {
      "needs_background": "light"
     },
     "output_type": "display_data"
    }
   ],
   "source": [
    "feature_series = pd.Series(data = estimator.feature_importances_, index = col_2)\n",
    "feature_series = feature_series.sort_values(ascending = False)\n",
    "sns.barplot(x = feature_series[:10], y = feature_series.index[:10], color = 'gray')\n",
    "plt.show()"
   ]
  },
  {
   "cell_type": "code",
   "execution_count": 133,
   "metadata": {},
   "outputs": [
    {
     "data": {
      "text/plain": [
       "방류량(㎥/s)       0.233856\n",
       "2shift 수온      0.224564\n",
       "전기전도도 μS/cm    0.184187\n",
       "상류수위(EL.m)     0.150119\n",
       "총질소 mg/L       0.077781\n",
       "총인 mg/L        0.065858\n",
       "총유기탄소 mg/L     0.063636\n",
       "dtype: float64"
      ]
     },
     "execution_count": 133,
     "metadata": {},
     "output_type": "execute_result"
    }
   ],
   "source": [
    "feature_series[:10]"
   ]
  },
  {
   "cell_type": "code",
   "execution_count": 134,
   "metadata": {},
   "outputs": [
    {
     "name": "stdout",
     "output_type": "stream",
     "text": [
      "score : 0.9008286966361575\n"
     ]
    }
   ],
   "source": [
    "print('score :', estimator.score(X_test, y_test))"
   ]
  },
  {
   "cell_type": "markdown",
   "metadata": {},
   "source": [
    "## 모델 훈련 - GradientBoosting(전체 + 수온대신 2shift수온)"
   ]
  },
  {
   "cell_type": "code",
   "execution_count": 135,
   "metadata": {},
   "outputs": [],
   "source": [
    "X_train, X_test, y_train, y_test = train_test_split(scb_df.loc[:, col_2], scb_df['log_Chl-a'], random_state=42)\n",
    "gb_reg = GradientBoostingRegressor(random_state=42)\n",
    "\n",
    "parameters = {'max_depth':[5, 10, 15], 'learning_rate':[0.05, 0.1, 0.2]}"
   ]
  },
  {
   "cell_type": "code",
   "execution_count": 136,
   "metadata": {},
   "outputs": [],
   "source": [
    "gb_grid = GridSearchCV(gb_reg, param_grid=parameters, cv=3, verbose=5)"
   ]
  },
  {
   "cell_type": "code",
   "execution_count": 137,
   "metadata": {},
   "outputs": [
    {
     "name": "stdout",
     "output_type": "stream",
     "text": [
      "Fitting 3 folds for each of 9 candidates, totalling 27 fits\n",
      "[CV 1/3] END ...learning_rate=0.05, max_depth=5;, score=0.730 total time=   7.2s\n",
      "[CV 2/3] END ...learning_rate=0.05, max_depth=5;, score=0.728 total time=   7.2s\n",
      "[CV 3/3] END ...learning_rate=0.05, max_depth=5;, score=0.726 total time=   7.2s\n",
      "[CV 1/3] END ..learning_rate=0.05, max_depth=10;, score=0.902 total time=  14.0s\n",
      "[CV 2/3] END ..learning_rate=0.05, max_depth=10;, score=0.901 total time=  14.0s\n",
      "[CV 3/3] END ..learning_rate=0.05, max_depth=10;, score=0.904 total time=  14.0s\n",
      "[CV 1/3] END ..learning_rate=0.05, max_depth=15;, score=0.925 total time=  20.2s\n",
      "[CV 2/3] END ..learning_rate=0.05, max_depth=15;, score=0.924 total time=  20.2s\n",
      "[CV 3/3] END ..learning_rate=0.05, max_depth=15;, score=0.921 total time=  20.2s\n",
      "[CV 1/3] END ....learning_rate=0.1, max_depth=5;, score=0.771 total time=   7.2s\n",
      "[CV 2/3] END ....learning_rate=0.1, max_depth=5;, score=0.767 total time=   7.2s\n",
      "[CV 3/3] END ....learning_rate=0.1, max_depth=5;, score=0.767 total time=   7.2s\n",
      "[CV 1/3] END ...learning_rate=0.1, max_depth=10;, score=0.915 total time=  14.1s\n",
      "[CV 2/3] END ...learning_rate=0.1, max_depth=10;, score=0.915 total time=  14.1s\n",
      "[CV 3/3] END ...learning_rate=0.1, max_depth=10;, score=0.913 total time=  14.1s\n",
      "[CV 1/3] END ...learning_rate=0.1, max_depth=15;, score=0.926 total time=  20.5s\n",
      "[CV 2/3] END ...learning_rate=0.1, max_depth=15;, score=0.927 total time=  21.1s\n",
      "[CV 3/3] END ...learning_rate=0.1, max_depth=15;, score=0.922 total time=  20.6s\n",
      "[CV 1/3] END ....learning_rate=0.2, max_depth=5;, score=0.817 total time=   7.2s\n",
      "[CV 2/3] END ....learning_rate=0.2, max_depth=5;, score=0.811 total time=   7.3s\n",
      "[CV 3/3] END ....learning_rate=0.2, max_depth=5;, score=0.812 total time=   7.2s\n",
      "[CV 1/3] END ...learning_rate=0.2, max_depth=10;, score=0.922 total time=  14.2s\n",
      "[CV 2/3] END ...learning_rate=0.2, max_depth=10;, score=0.920 total time=  14.2s\n",
      "[CV 3/3] END ...learning_rate=0.2, max_depth=10;, score=0.921 total time=  14.2s\n",
      "[CV 1/3] END ...learning_rate=0.2, max_depth=15;, score=0.925 total time=  20.8s\n",
      "[CV 2/3] END ...learning_rate=0.2, max_depth=15;, score=0.925 total time=  20.9s\n",
      "[CV 3/3] END ...learning_rate=0.2, max_depth=15;, score=0.920 total time=  20.8s\n"
     ]
    },
    {
     "data": {
      "text/plain": [
       "GridSearchCV(cv=3, estimator=GradientBoostingRegressor(random_state=42),\n",
       "             param_grid={'learning_rate': [0.05, 0.1, 0.2],\n",
       "                         'max_depth': [5, 10, 15]},\n",
       "             verbose=5)"
      ]
     },
     "execution_count": 137,
     "metadata": {},
     "output_type": "execute_result"
    }
   ],
   "source": [
    "gb_grid.fit(X_train, y_train)"
   ]
  },
  {
   "cell_type": "code",
   "execution_count": 138,
   "metadata": {},
   "outputs": [],
   "source": [
    "scores_df = pd.DataFrame(gb_grid.cv_results_)"
   ]
  },
  {
   "cell_type": "code",
   "execution_count": 139,
   "metadata": {},
   "outputs": [
    {
     "data": {
      "text/html": [
       "<div>\n",
       "<style scoped>\n",
       "    .dataframe tbody tr th:only-of-type {\n",
       "        vertical-align: middle;\n",
       "    }\n",
       "\n",
       "    .dataframe tbody tr th {\n",
       "        vertical-align: top;\n",
       "    }\n",
       "\n",
       "    .dataframe thead th {\n",
       "        text-align: right;\n",
       "    }\n",
       "</style>\n",
       "<table border=\"1\" class=\"dataframe\">\n",
       "  <thead>\n",
       "    <tr style=\"text-align: right;\">\n",
       "      <th></th>\n",
       "      <th>params</th>\n",
       "      <th>mean_test_score</th>\n",
       "      <th>rank_test_score</th>\n",
       "    </tr>\n",
       "  </thead>\n",
       "  <tbody>\n",
       "    <tr>\n",
       "      <th>5</th>\n",
       "      <td>{'learning_rate': 0.1, 'max_depth': 15}</td>\n",
       "      <td>0.925326</td>\n",
       "      <td>1</td>\n",
       "    </tr>\n",
       "    <tr>\n",
       "      <th>8</th>\n",
       "      <td>{'learning_rate': 0.2, 'max_depth': 15}</td>\n",
       "      <td>0.923433</td>\n",
       "      <td>2</td>\n",
       "    </tr>\n",
       "    <tr>\n",
       "      <th>2</th>\n",
       "      <td>{'learning_rate': 0.05, 'max_depth': 15}</td>\n",
       "      <td>0.923265</td>\n",
       "      <td>3</td>\n",
       "    </tr>\n",
       "    <tr>\n",
       "      <th>7</th>\n",
       "      <td>{'learning_rate': 0.2, 'max_depth': 10}</td>\n",
       "      <td>0.921117</td>\n",
       "      <td>4</td>\n",
       "    </tr>\n",
       "    <tr>\n",
       "      <th>4</th>\n",
       "      <td>{'learning_rate': 0.1, 'max_depth': 10}</td>\n",
       "      <td>0.914253</td>\n",
       "      <td>5</td>\n",
       "    </tr>\n",
       "  </tbody>\n",
       "</table>\n",
       "</div>"
      ],
      "text/plain": [
       "                                     params  mean_test_score  rank_test_score\n",
       "5   {'learning_rate': 0.1, 'max_depth': 15}         0.925326                1\n",
       "8   {'learning_rate': 0.2, 'max_depth': 15}         0.923433                2\n",
       "2  {'learning_rate': 0.05, 'max_depth': 15}         0.923265                3\n",
       "7   {'learning_rate': 0.2, 'max_depth': 10}         0.921117                4\n",
       "4   {'learning_rate': 0.1, 'max_depth': 10}         0.914253                5"
      ]
     },
     "execution_count": 139,
     "metadata": {},
     "output_type": "execute_result"
    }
   ],
   "source": [
    "scores_df.sort_values(by=['rank_test_score'], inplace=True)\n",
    "scores_df[['params', 'mean_test_score', 'rank_test_score']].head()"
   ]
  },
  {
   "cell_type": "code",
   "execution_count": 140,
   "metadata": {},
   "outputs": [
    {
     "data": {
      "text/plain": [
       "{'learning_rate': 0.1, 'max_depth': 15}"
      ]
     },
     "execution_count": 140,
     "metadata": {},
     "output_type": "execute_result"
    }
   ],
   "source": [
    "gb_grid.best_params_"
   ]
  },
  {
   "cell_type": "code",
   "execution_count": 141,
   "metadata": {},
   "outputs": [],
   "source": [
    "estimator = gb_grid.best_estimator_"
   ]
  },
  {
   "cell_type": "markdown",
   "metadata": {},
   "source": [
    "최신 모델 저장"
   ]
  },
  {
   "cell_type": "code",
   "execution_count": 142,
   "metadata": {},
   "outputs": [
    {
     "data": {
      "text/plain": [
       "['승촌보_gb_2shift수온.pkl']"
      ]
     },
     "execution_count": 142,
     "metadata": {},
     "output_type": "execute_result"
    }
   ],
   "source": [
    "joblib.dump(estimator, \"승촌보_gb_2shift수온.pkl\")"
   ]
  },
  {
   "cell_type": "markdown",
   "metadata": {},
   "source": [
    "저장된 모델을 다시 불러오기"
   ]
  },
  {
   "cell_type": "code",
   "execution_count": 143,
   "metadata": {},
   "outputs": [],
   "source": [
    "estimator = joblib.load(\"승촌보_gb_2shift수온.pkl\")"
   ]
  },
  {
   "cell_type": "code",
   "execution_count": 144,
   "metadata": {},
   "outputs": [],
   "source": [
    "pred = estimator.predict(X_test)"
   ]
  },
  {
   "cell_type": "code",
   "execution_count": 145,
   "metadata": {},
   "outputs": [
    {
     "name": "stdout",
     "output_type": "stream",
     "text": [
      "0.18 전기전도도 μS/cm\n",
      "0.07 총유기탄소 mg/L\n",
      "0.08 총질소 mg/L\n",
      "0.07 총인 mg/L\n",
      "0.15 상류수위(EL.m)\n",
      "0.22 방류량(㎥/s)\n",
      "0.22 2shift 수온\n"
     ]
    }
   ],
   "source": [
    "for score, name in zip(estimator.feature_importances_, col_2):\n",
    "    print(round(score, 2), name)"
   ]
  },
  {
   "cell_type": "code",
   "execution_count": 146,
   "metadata": {},
   "outputs": [
    {
     "data": {
      "image/png": "[encoded data removed]",
      "text/plain": [
       "<Figure size 720x432 with 1 Axes>"
      ]
     },
     "metadata": {
      "needs_background": "light"
     },
     "output_type": "display_data"
    }
   ],
   "source": [
    "feature_series = pd.Series(data = estimator.feature_importances_, index = col_2)\n",
    "feature_series = feature_series.sort_values(ascending = False)\n",
    "sns.barplot(x = feature_series[:10], y = feature_series.index[:10], color = 'gray')\n",
    "plt.show()"
   ]
  },
  {
   "cell_type": "code",
   "execution_count": 147,
   "metadata": {},
   "outputs": [
    {
     "data": {
      "text/plain": [
       "2shift 수온      0.222313\n",
       "방류량(㎥/s)       0.220934\n",
       "전기전도도 μS/cm    0.184726\n",
       "상류수위(EL.m)     0.146993\n",
       "총질소 mg/L       0.083101\n",
       "총인 mg/L        0.074299\n",
       "총유기탄소 mg/L     0.067634\n",
       "dtype: float64"
      ]
     },
     "execution_count": 147,
     "metadata": {},
     "output_type": "execute_result"
    }
   ],
   "source": [
    "feature_series[:10]"
   ]
  },
  {
   "cell_type": "code",
   "execution_count": 148,
   "metadata": {},
   "outputs": [
    {
     "name": "stdout",
     "output_type": "stream",
     "text": [
      "score : 0.9447886142140157\n"
     ]
    }
   ],
   "source": [
    "print('score :', estimator.score(X_test, y_test))"
   ]
  },
  {
   "cell_type": "code",
   "execution_count": null,
   "metadata": {},
   "outputs": [],
   "source": []
  }
 ],
 "metadata": {
  "kernelspec": {
   "display_name": "Python 3.9.12 ('base')",
   "language": "python",
   "name": "python3"
  },
  "language_info": {
   "codemirror_mode": {
    "name": "ipython",
    "version": 3
   },
   "file_extension": ".py",
   "mimetype": "text/x-python",
   "name": "python",
   "nbconvert_exporter": "python",
   "pygments_lexer": "ipython3",
   "version": "3.9.12"
  },
  "vscode": {
   "interpreter": {
    "hash": "ad0f3c8a064f687cbf898a0868fd45ba1c7e928ac8a0404f7c241d812ddc1e76"
   }
  }
 },
 "nbformat": 4,
 "nbformat_minor": 2
}
