{
 "cells": [
  {
   "cell_type": "markdown",
   "metadata": {},
   "source": [
    "# 승촌보 데이터 분석 \n",
    "\n",
    "* 승촌보 수질 데이터(Seungchonbo.xlsx)   \n",
    "    * 2012-2022년  \n",
    "    * 시간 단위 수집 데이터\n",
    "* 승촌보 유량 데이터(Seungchonbo_flow.xlsx)\n",
    "    * 2012-2022년\n",
    "    * 10분 단위 수집 데이터"
   ]
  },
  {
   "cell_type": "markdown",
   "metadata": {},
   "source": [
    "**필수 모듈 임포트**"
   ]
  },
  {
   "cell_type": "code",
   "execution_count": 37,
   "metadata": {},
   "outputs": [],
   "source": [
    "import numpy as np\n",
    "import pandas as pd\n",
    "\n",
    "import matplotlib.pyplot as plt\n",
    "import seaborn as sns\n",
    "\n",
    "import joblib\n",
    "\n",
    "from datetime import datetime"
   ]
  },
  {
   "cell_type": "markdown",
   "metadata": {},
   "source": [
    "**훈련 모델 준비**"
   ]
  },
  {
   "cell_type": "code",
   "execution_count": 38,
   "metadata": {},
   "outputs": [],
   "source": [
    "from sklearn.model_selection import train_test_split\n",
    "from sklearn.model_selection import GridSearchCV\n",
    "from sklearn.preprocessing import StandardScaler\n",
    "from sklearn.ensemble import RandomForestRegressor, GradientBoostingRegressor"
   ]
  },
  {
   "cell_type": "markdown",
   "metadata": {},
   "source": [
    "**matplotlib 한글 설정**"
   ]
  },
  {
   "cell_type": "code",
   "execution_count": 3,
   "metadata": {},
   "outputs": [],
   "source": [
    "# 운영체제에 따른 한글 지원을 설정한다. 지원되는 환경은 윈도우, 우분투, 구글 코랩 등이다.\n",
    "\n",
    "import platform\n",
    "plt.rc('figure', figsize=(10, 6))  # 그림 크기 설정\n",
    "if platform.system() == 'Windows': # 윈도우\n",
    "    from matplotlib import font_manager, rc\n",
    "    font_path = \"C:/Windows/Fonts/NGULIM.TTF\"\n",
    "    font = font_manager.FontProperties(fname=font_path).get_name()\n",
    "    rc('font', family=font)\n",
    "elif platform.system() == 'Linux': # 우분투 또는 구글 코랩\n",
    "    # !sudo apt-get install -y fonts-nanum*\n",
    "    # !fc-cache -fv\n",
    "    \n",
    "    applyfont = \"NanumBarunGothic\"\n",
    "    import matplotlib.font_manager as fm\n",
    "    if not any(map(lambda ft: ft.name == applyfont, fm.fontManager.ttflist)):\n",
    "        fm.fontManager.addfont(\"/usr/share/fonts/truetype/nanum/NanumBarunGothic.ttf\")\n",
    "    plt.rc(\"font\", family=applyfont)\n",
    "    plt.rc(\"axes\", unicode_minus=False)"
   ]
  },
  {
   "cell_type": "markdown",
   "metadata": {},
   "source": [
    "## 승촌보 데이터 불러오기"
   ]
  },
  {
   "cell_type": "markdown",
   "metadata": {},
   "source": [
    "### 수질 데이터 불러오기"
   ]
  },
  {
   "cell_type": "markdown",
   "metadata": {},
   "source": [
    "**보 이름**"
   ]
  },
  {
   "cell_type": "code",
   "execution_count": 4,
   "metadata": {},
   "outputs": [],
   "source": [
    "reservoir = 'Seungchonbo'"
   ]
  },
  {
   "cell_type": "markdown",
   "id": "67006279",
   "metadata": {},
   "source": [
    "**데이터 저장소**"
   ]
  },
  {
   "cell_type": "code",
   "execution_count": 5,
   "metadata": {},
   "outputs": [],
   "source": [
    "base_path = \"https://github.com/codingalzi/water-data/raw/master/reservoirs/\"\n",
    "# base_path = r\"C:\\Users\\owner\\Desktop\\water-source\\data\""
   ]
  },
  {
   "cell_type": "markdown",
   "metadata": {},
   "source": [
    "**시간 단위로 측정된 승촌보 연도별 수질 데이터 불러오기**"
   ]
  },
  {
   "cell_type": "code",
   "execution_count": 6,
   "metadata": {},
   "outputs": [],
   "source": [
    "# '측정일/월' 특성은 date time으로 파싱.\n",
    "# 반환값은 연도별 데이터프레임으로 구성된 사전. 2012년 ~ 2022년\n",
    "\n",
    "data_file = reservoir+\".xlsx\"\n",
    "scb_yearly = pd.read_excel(base_path+data_file, \n",
    "# scb_yearly = pd.read_excel(base_path+\"\\Seungchonbo.xlsx\", \n",
    "                            skiprows=0, \n",
    "                            header=1, \n",
    "                            sheet_name=None,\n",
    "                            na_values='ND',\n",
    "                            parse_dates=[0])  # 측정일/월 특성을 date time으로 파싱"
   ]
  },
  {
   "cell_type": "markdown",
   "metadata": {},
   "source": [
    "**시간 특성을 \"년-월-일 시\" 형식으로 변환하는 함수**"
   ]
  },
  {
   "cell_type": "code",
   "execution_count": 7,
   "metadata": {},
   "outputs": [],
   "source": [
    "# 연도별로 별도로 작동한다.\n",
    "\n",
    "def time2datetime(df_yearly_dict, feature):\n",
    "    for year in list(df_yearly_dict.keys()):\n",
    "        df_yearly_dict[year][feature] = df_yearly_dict[year][feature].apply(lambda x : x.strftime('%Y-%m-%d %H'))\n",
    "    \n",
    "    return df_yearly_dict"
   ]
  },
  {
   "cell_type": "markdown",
   "metadata": {},
   "source": [
    "`'측정일/월'` 특성을 '년-월-일 시'형식으로 변경한다."
   ]
  },
  {
   "cell_type": "code",
   "execution_count": 8,
   "metadata": {},
   "outputs": [],
   "source": [
    "scb_yearly = time2datetime(scb_yearly, '측정일/월')"
   ]
  },
  {
   "cell_type": "markdown",
   "metadata": {},
   "source": [
    "**2012년도 데이터를 제외한 모든 데이터 통합 함수**"
   ]
  },
  {
   "cell_type": "code",
   "execution_count": 9,
   "metadata": {},
   "outputs": [],
   "source": [
    "# 반환값은 데이터프레임\n",
    "\n",
    "def concat_yearly_df(df_yearly_dict):\n",
    "    df_concat = pd.DataFrame()\n",
    "\n",
    "    for year in list(df_yearly_dict.keys())[1:]:\n",
    "        df_concat = pd.concat([df_concat, df_yearly_dict[year]])\n",
    "\n",
    "    return df_concat"
   ]
  },
  {
   "cell_type": "markdown",
   "metadata": {},
   "source": [
    "**연도별 수질 데이터 통합**"
   ]
  },
  {
   "cell_type": "code",
   "execution_count": 10,
   "metadata": {},
   "outputs": [],
   "source": [
    "# 2013년도부터 통합\n",
    "scb_yearly_df13 = concat_yearly_df(scb_yearly)\n",
    "\n",
    "# 인덱스 재설정\n",
    "scb_yearly_df13 = scb_yearly_df13.reset_index(drop=True)"
   ]
  },
  {
   "cell_type": "markdown",
   "metadata": {},
   "source": [
    "### 유량 데이터 불러오기"
   ]
  },
  {
   "cell_type": "markdown",
   "metadata": {},
   "source": [
    "**10분 단위로 측정된 승촌보 연도별 유량 데이터 불러오기**"
   ]
  },
  {
   "cell_type": "code",
   "execution_count": 11,
   "metadata": {},
   "outputs": [],
   "source": [
    "# `시간` 특성은 date time으로 파싱해서 불러온다.\n",
    "# 반환값은 연도별 데이터프레임으로 구성된 사전. 2012년 ~ 2022년\n",
    "\n",
    "flow_data_file = reservoir+\"_flow.xlsx\"\n",
    "scb_flow_yearly = pd.read_excel(base_path+flow_data_file, \n",
    "# scb_flow_yearly = pd.read_excel(base_path+\"\\Seungchonbo_flow.xlsx\", \n",
    "                            header=0, \n",
    "                            sheet_name=None,\n",
    "                            na_values='ND',\n",
    "                            parse_dates=[0])  # 시간 특성을 date time으로 파싱"
   ]
  },
  {
   "cell_type": "markdown",
   "metadata": {},
   "source": [
    "`시간` 특성을 '년-월-일 시' 형식으로 변경한다. "
   ]
  },
  {
   "cell_type": "code",
   "execution_count": 12,
   "metadata": {},
   "outputs": [],
   "source": [
    "scb_flow_yearly = time2datetime(scb_flow_yearly, '시간')"
   ]
  },
  {
   "cell_type": "markdown",
   "metadata": {},
   "source": [
    "**10분 단위를 1시간 단위로 변경**\n",
    "\n",
    "시간별 평균값을 활용한다."
   ]
  },
  {
   "cell_type": "code",
   "execution_count": 13,
   "metadata": {},
   "outputs": [],
   "source": [
    "scb_flow_yearly_hour = {}\n",
    "\n",
    "# groupby의 as_index=False 옵션 사용. 인덱스 자동 재설정됨.\n",
    "for year in list(scb_flow_yearly.keys()):\n",
    "    scb_flow_yearly_hour[year] = scb_flow_yearly[year].groupby('시간', as_index=False).mean()"
   ]
  },
  {
   "cell_type": "markdown",
   "metadata": {},
   "source": [
    "**연도별 유량 데이터 통합**"
   ]
  },
  {
   "cell_type": "code",
   "execution_count": 14,
   "metadata": {},
   "outputs": [],
   "source": [
    "# 2013년부터 통합\n",
    "scb_flow_yearly_hour_df = concat_yearly_df(scb_flow_yearly_hour)\n",
    "\n",
    "# 인덱스 재설정\n",
    "scb_flow_yearly_hour_df = scb_flow_yearly_hour_df.reset_index(drop=True)"
   ]
  },
  {
   "cell_type": "markdown",
   "metadata": {},
   "source": [
    "### 수질/유량 데이터 합병"
   ]
  },
  {
   "cell_type": "markdown",
   "metadata": {},
   "source": [
    "수질 데이터와 유량 데이터를 `측정일/월`과 `시간` 기준으로 합병한다."
   ]
  },
  {
   "cell_type": "code",
   "execution_count": 15,
   "metadata": {},
   "outputs": [],
   "source": [
    "# 수질 데이터의 `측정일/월` 특성 이름을 `시간`으로 변경\n",
    "scb_yearly_df13 = scb_yearly_df13.rename(columns={'측정일/월':'시간'})\n",
    "\n",
    "# `pd.merge()`에서 `how = 'outer'` 키워드 인자 : 두 데이터에 사용된 모든 시간대의 데이터를 모두 추가한다(합집합).\n",
    "scb_data = pd.merge(scb_yearly_df13, scb_flow_yearly_hour_df, how='outer')\n",
    "\n",
    "# 유량 데이터 2022년도 데이터를 더 많이 포함하기에 삭제 필요.\n",
    "scb_data = scb_data[:len(scb_yearly_df13)]\n",
    "\n",
    "# 유량 특성 이름에 공백이 사용되었기에 특성명에 공백 제거\n",
    "scb_data.columns = [x.strip() for x in list(scb_data.columns)]"
   ]
  },
  {
   "cell_type": "markdown",
   "metadata": {},
   "source": [
    "## 데이터셋 전처리"
   ]
  },
  {
   "cell_type": "markdown",
   "metadata": {},
   "source": [
    "**특성 선택**"
   ]
  },
  {
   "cell_type": "markdown",
   "metadata": {},
   "source": [
    "모델 훈련에 사용하지 않을 특성들은 삭제한다."
   ]
  },
  {
   "cell_type": "code",
   "execution_count": 16,
   "metadata": {},
   "outputs": [],
   "source": [
    "to_be_removed = ['측정소명', '수소이온농도', '용존산소 mg/L', '하류수위(EL.m)', '유입량(㎥/s)']\n",
    "\n",
    "scb_data.drop(to_be_removed, axis=1, inplace=True)"
   ]
  },
  {
   "cell_type": "markdown",
   "metadata": {},
   "source": [
    "남은 특성은 다음과 같다."
   ]
  },
  {
   "cell_type": "code",
   "execution_count": 17,
   "metadata": {},
   "outputs": [
    {
     "data": {
      "text/plain": [
       "['시간',\n",
       " '수온 ℃',\n",
       " '전기전도도 μS/cm',\n",
       " '총유기탄소 mg/L',\n",
       " '총질소 mg/L',\n",
       " '총인 mg/L',\n",
       " '클로로필-a mg/㎥',\n",
       " '상류수위(EL.m)',\n",
       " '방류량(㎥/s)']"
      ]
     },
     "execution_count": 17,
     "metadata": {},
     "output_type": "execute_result"
    }
   ],
   "source": [
    "list(scb_data.columns)"
   ]
  },
  {
   "cell_type": "markdown",
   "metadata": {},
   "source": [
    "## shift 특성 추가 함수와 모델 훈련 함수"
   ]
  },
  {
   "cell_type": "markdown",
   "metadata": {},
   "source": [
    "데이터셋을 복제해서 원본은 유지한다."
   ]
  },
  {
   "cell_type": "code",
   "execution_count": 20,
   "metadata": {},
   "outputs": [],
   "source": [
    "scb_df = scb_data.copy()"
   ]
  },
  {
   "cell_type": "markdown",
   "metadata": {},
   "source": [
    "## 녹조와 수온의 관계"
   ]
  },
  {
   "cell_type": "markdown",
   "metadata": {},
   "source": [
    "녹조 발생에 영향을 주는 수온의 임계점을 찾으려 시도한다."
   ]
  },
  {
   "cell_type": "code",
   "execution_count": 36,
   "metadata": {},
   "outputs": [
    {
     "name": "stdout",
     "output_type": "stream",
     "text": [
      "<class 'pandas.core.frame.DataFrame'>\n",
      "Int64Index: 82257 entries, 0 to 82256\n",
      "Data columns (total 9 columns):\n",
      " #   Column       Non-Null Count  Dtype  \n",
      "---  ------       --------------  -----  \n",
      " 0   시간           82257 non-null  object \n",
      " 1   수온 ℃         64574 non-null  float64\n",
      " 2   전기전도도 μS/cm  64524 non-null  float64\n",
      " 3   총유기탄소 mg/L   58675 non-null  float64\n",
      " 4   총질소 mg/L     59981 non-null  float64\n",
      " 5   총인 mg/L      58997 non-null  float64\n",
      " 6   클로로필-a mg/㎥  62876 non-null  float64\n",
      " 7   상류수위(EL.m)   82231 non-null  float64\n",
      " 8   방류량(㎥/s)     82231 non-null  float64\n",
      "dtypes: float64(8), object(1)\n",
      "memory usage: 6.3+ MB\n"
     ]
    }
   ],
   "source": [
    "scb_df.info()"
   ]
  },
  {
   "cell_type": "code",
   "execution_count": 39,
   "metadata": {},
   "outputs": [
    {
     "data": {
      "text/html": [
       "<div>\n",
       "<style scoped>\n",
       "    .dataframe tbody tr th:only-of-type {\n",
       "        vertical-align: middle;\n",
       "    }\n",
       "\n",
       "    .dataframe tbody tr th {\n",
       "        vertical-align: top;\n",
       "    }\n",
       "\n",
       "    .dataframe thead th {\n",
       "        text-align: right;\n",
       "    }\n",
       "</style>\n",
       "<table border=\"1\" class=\"dataframe\">\n",
       "  <thead>\n",
       "    <tr style=\"text-align: right;\">\n",
       "      <th></th>\n",
       "      <th>수온 ℃</th>\n",
       "      <th>전기전도도 μS/cm</th>\n",
       "      <th>총유기탄소 mg/L</th>\n",
       "      <th>총질소 mg/L</th>\n",
       "      <th>총인 mg/L</th>\n",
       "      <th>클로로필-a mg/㎥</th>\n",
       "      <th>상류수위(EL.m)</th>\n",
       "      <th>방류량(㎥/s)</th>\n",
       "    </tr>\n",
       "  </thead>\n",
       "  <tbody>\n",
       "    <tr>\n",
       "      <th>count</th>\n",
       "      <td>64574.000000</td>\n",
       "      <td>64524.000000</td>\n",
       "      <td>58675.000000</td>\n",
       "      <td>59981.000000</td>\n",
       "      <td>58997.000000</td>\n",
       "      <td>62876.000000</td>\n",
       "      <td>82231.000000</td>\n",
       "      <td>82231.000000</td>\n",
       "    </tr>\n",
       "    <tr>\n",
       "      <th>mean</th>\n",
       "      <td>17.309103</td>\n",
       "      <td>344.310877</td>\n",
       "      <td>4.341878</td>\n",
       "      <td>5.358875</td>\n",
       "      <td>0.118273</td>\n",
       "      <td>50.969729</td>\n",
       "      <td>6.451908</td>\n",
       "      <td>31.964258</td>\n",
       "    </tr>\n",
       "    <tr>\n",
       "      <th>std</th>\n",
       "      <td>8.099525</td>\n",
       "      <td>88.450084</td>\n",
       "      <td>1.032926</td>\n",
       "      <td>1.963933</td>\n",
       "      <td>0.062979</td>\n",
       "      <td>37.409147</td>\n",
       "      <td>1.528813</td>\n",
       "      <td>112.716473</td>\n",
       "    </tr>\n",
       "    <tr>\n",
       "      <th>min</th>\n",
       "      <td>1.800000</td>\n",
       "      <td>92.000000</td>\n",
       "      <td>1.600000</td>\n",
       "      <td>0.706000</td>\n",
       "      <td>0.003000</td>\n",
       "      <td>1.000000</td>\n",
       "      <td>2.600000</td>\n",
       "      <td>0.000000</td>\n",
       "    </tr>\n",
       "    <tr>\n",
       "      <th>25%</th>\n",
       "      <td>9.400000</td>\n",
       "      <td>280.000000</td>\n",
       "      <td>3.600000</td>\n",
       "      <td>3.820000</td>\n",
       "      <td>0.074000</td>\n",
       "      <td>20.975000</td>\n",
       "      <td>5.570000</td>\n",
       "      <td>11.133333</td>\n",
       "    </tr>\n",
       "    <tr>\n",
       "      <th>50%</th>\n",
       "      <td>17.300000</td>\n",
       "      <td>344.000000</td>\n",
       "      <td>4.200000</td>\n",
       "      <td>5.097000</td>\n",
       "      <td>0.106000</td>\n",
       "      <td>43.200000</td>\n",
       "      <td>7.290000</td>\n",
       "      <td>15.108333</td>\n",
       "    </tr>\n",
       "    <tr>\n",
       "      <th>75%</th>\n",
       "      <td>24.700000</td>\n",
       "      <td>415.000000</td>\n",
       "      <td>5.000000</td>\n",
       "      <td>6.660000</td>\n",
       "      <td>0.148000</td>\n",
       "      <td>74.100000</td>\n",
       "      <td>7.520000</td>\n",
       "      <td>26.649167</td>\n",
       "    </tr>\n",
       "    <tr>\n",
       "      <th>max</th>\n",
       "      <td>36.100000</td>\n",
       "      <td>730.000000</td>\n",
       "      <td>19.300000</td>\n",
       "      <td>12.357000</td>\n",
       "      <td>0.745000</td>\n",
       "      <td>453.500000</td>\n",
       "      <td>157.920000</td>\n",
       "      <td>4088.446667</td>\n",
       "    </tr>\n",
       "  </tbody>\n",
       "</table>\n",
       "</div>"
      ],
      "text/plain": [
       "               수온 ℃   전기전도도 μS/cm    총유기탄소 mg/L      총질소 mg/L       총인 mg/L  \\\n",
       "count  64574.000000  64524.000000  58675.000000  59981.000000  58997.000000   \n",
       "mean      17.309103    344.310877      4.341878      5.358875      0.118273   \n",
       "std        8.099525     88.450084      1.032926      1.963933      0.062979   \n",
       "min        1.800000     92.000000      1.600000      0.706000      0.003000   \n",
       "25%        9.400000    280.000000      3.600000      3.820000      0.074000   \n",
       "50%       17.300000    344.000000      4.200000      5.097000      0.106000   \n",
       "75%       24.700000    415.000000      5.000000      6.660000      0.148000   \n",
       "max       36.100000    730.000000     19.300000     12.357000      0.745000   \n",
       "\n",
       "        클로로필-a mg/㎥    상류수위(EL.m)      방류량(㎥/s)  \n",
       "count  62876.000000  82231.000000  82231.000000  \n",
       "mean      50.969729      6.451908     31.964258  \n",
       "std       37.409147      1.528813    112.716473  \n",
       "min        1.000000      2.600000      0.000000  \n",
       "25%       20.975000      5.570000     11.133333  \n",
       "50%       43.200000      7.290000     15.108333  \n",
       "75%       74.100000      7.520000     26.649167  \n",
       "max      453.500000    157.920000   4088.446667  "
      ]
     },
     "execution_count": 39,
     "metadata": {},
     "output_type": "execute_result"
    }
   ],
   "source": [
    "scb_df.describe()"
   ]
  },
  {
   "cell_type": "code",
   "execution_count": 62,
   "metadata": {},
   "outputs": [],
   "source": [
    "scb_df.index.name = 'id'"
   ]
  },
  {
   "cell_type": "code",
   "execution_count": 63,
   "metadata": {},
   "outputs": [],
   "source": [
    "chl_a = f'클로로필-a mg/㎥'\n",
    "temperature = f'수온 ℃'"
   ]
  },
  {
   "cell_type": "code",
   "execution_count": 64,
   "metadata": {},
   "outputs": [],
   "source": [
    "temp_chl = scb_df[[temperature, chl_a]]"
   ]
  },
  {
   "cell_type": "code",
   "execution_count": 65,
   "metadata": {},
   "outputs": [
    {
     "data": {
      "text/html": [
       "<div>\n",
       "<style scoped>\n",
       "    .dataframe tbody tr th:only-of-type {\n",
       "        vertical-align: middle;\n",
       "    }\n",
       "\n",
       "    .dataframe tbody tr th {\n",
       "        vertical-align: top;\n",
       "    }\n",
       "\n",
       "    .dataframe thead th {\n",
       "        text-align: right;\n",
       "    }\n",
       "</style>\n",
       "<table border=\"1\" class=\"dataframe\">\n",
       "  <thead>\n",
       "    <tr style=\"text-align: right;\">\n",
       "      <th></th>\n",
       "      <th>수온 ℃</th>\n",
       "      <th>클로로필-a mg/㎥</th>\n",
       "    </tr>\n",
       "    <tr>\n",
       "      <th>id</th>\n",
       "      <th></th>\n",
       "      <th></th>\n",
       "    </tr>\n",
       "  </thead>\n",
       "  <tbody>\n",
       "    <tr>\n",
       "      <th>0</th>\n",
       "      <td>3.9</td>\n",
       "      <td>7.2</td>\n",
       "    </tr>\n",
       "    <tr>\n",
       "      <th>1</th>\n",
       "      <td>3.9</td>\n",
       "      <td>6.9</td>\n",
       "    </tr>\n",
       "    <tr>\n",
       "      <th>2</th>\n",
       "      <td>4.0</td>\n",
       "      <td>6.8</td>\n",
       "    </tr>\n",
       "    <tr>\n",
       "      <th>3</th>\n",
       "      <td>4.1</td>\n",
       "      <td>6.9</td>\n",
       "    </tr>\n",
       "    <tr>\n",
       "      <th>4</th>\n",
       "      <td>4.0</td>\n",
       "      <td>6.9</td>\n",
       "    </tr>\n",
       "    <tr>\n",
       "      <th>...</th>\n",
       "      <td>...</td>\n",
       "      <td>...</td>\n",
       "    </tr>\n",
       "    <tr>\n",
       "      <th>82252</th>\n",
       "      <td>26.6</td>\n",
       "      <td>66.2</td>\n",
       "    </tr>\n",
       "    <tr>\n",
       "      <th>82253</th>\n",
       "      <td>26.3</td>\n",
       "      <td>61.2</td>\n",
       "    </tr>\n",
       "    <tr>\n",
       "      <th>82254</th>\n",
       "      <td>25.9</td>\n",
       "      <td>58.3</td>\n",
       "    </tr>\n",
       "    <tr>\n",
       "      <th>82255</th>\n",
       "      <td>25.7</td>\n",
       "      <td>54.4</td>\n",
       "    </tr>\n",
       "    <tr>\n",
       "      <th>82256</th>\n",
       "      <td>25.5</td>\n",
       "      <td>52.3</td>\n",
       "    </tr>\n",
       "  </tbody>\n",
       "</table>\n",
       "<p>82257 rows × 2 columns</p>\n",
       "</div>"
      ],
      "text/plain": [
       "       수온 ℃  클로로필-a mg/㎥\n",
       "id                      \n",
       "0       3.9          7.2\n",
       "1       3.9          6.9\n",
       "2       4.0          6.8\n",
       "3       4.1          6.9\n",
       "4       4.0          6.9\n",
       "...     ...          ...\n",
       "82252  26.6         66.2\n",
       "82253  26.3         61.2\n",
       "82254  25.9         58.3\n",
       "82255  25.7         54.4\n",
       "82256  25.5         52.3\n",
       "\n",
       "[82257 rows x 2 columns]"
      ]
     },
     "execution_count": 65,
     "metadata": {},
     "output_type": "execute_result"
    }
   ],
   "source": [
    "temp_chl"
   ]
  },
  {
   "cell_type": "code",
   "execution_count": 83,
   "metadata": {},
   "outputs": [],
   "source": [
    "df = temp_chl"
   ]
  },
  {
   "cell_type": "code",
   "execution_count": 90,
   "metadata": {},
   "outputs": [
    {
     "data": {
      "text/html": [
       "<div>\n",
       "<style scoped>\n",
       "    .dataframe tbody tr th:only-of-type {\n",
       "        vertical-align: middle;\n",
       "    }\n",
       "\n",
       "    .dataframe tbody tr th {\n",
       "        vertical-align: top;\n",
       "    }\n",
       "\n",
       "    .dataframe thead th {\n",
       "        text-align: right;\n",
       "    }\n",
       "</style>\n",
       "<table border=\"1\" class=\"dataframe\">\n",
       "  <thead>\n",
       "    <tr style=\"text-align: right;\">\n",
       "      <th></th>\n",
       "      <th></th>\n",
       "      <th>수온 ℃</th>\n",
       "      <th>클로로필-a mg/㎥</th>\n",
       "    </tr>\n",
       "    <tr>\n",
       "      <th>id</th>\n",
       "      <th>클로로필-a mg/㎥</th>\n",
       "      <th></th>\n",
       "      <th></th>\n",
       "    </tr>\n",
       "  </thead>\n",
       "  <tbody>\n",
       "    <tr>\n",
       "      <th>0</th>\n",
       "      <th>1</th>\n",
       "      <td>3.9</td>\n",
       "      <td>7.2</td>\n",
       "    </tr>\n",
       "    <tr>\n",
       "      <th>1</th>\n",
       "      <th>2</th>\n",
       "      <td>3.9</td>\n",
       "      <td>6.9</td>\n",
       "    </tr>\n",
       "    <tr>\n",
       "      <th>2</th>\n",
       "      <th>3</th>\n",
       "      <td>4.0</td>\n",
       "      <td>6.8</td>\n",
       "    </tr>\n",
       "    <tr>\n",
       "      <th>3</th>\n",
       "      <th>4</th>\n",
       "      <td>4.1</td>\n",
       "      <td>6.9</td>\n",
       "    </tr>\n",
       "    <tr>\n",
       "      <th>4</th>\n",
       "      <th>4</th>\n",
       "      <td>4.0</td>\n",
       "      <td>6.9</td>\n",
       "    </tr>\n",
       "    <tr>\n",
       "      <th>...</th>\n",
       "      <th>...</th>\n",
       "      <td>...</td>\n",
       "      <td>...</td>\n",
       "    </tr>\n",
       "    <tr>\n",
       "      <th>82252</th>\n",
       "      <th>79710</th>\n",
       "      <td>26.6</td>\n",
       "      <td>66.2</td>\n",
       "    </tr>\n",
       "    <tr>\n",
       "      <th>82253</th>\n",
       "      <th>79711</th>\n",
       "      <td>26.3</td>\n",
       "      <td>61.2</td>\n",
       "    </tr>\n",
       "    <tr>\n",
       "      <th>82254</th>\n",
       "      <th>79712</th>\n",
       "      <td>25.9</td>\n",
       "      <td>58.3</td>\n",
       "    </tr>\n",
       "    <tr>\n",
       "      <th>82255</th>\n",
       "      <th>79713</th>\n",
       "      <td>25.7</td>\n",
       "      <td>54.4</td>\n",
       "    </tr>\n",
       "    <tr>\n",
       "      <th>82256</th>\n",
       "      <th>79714</th>\n",
       "      <td>25.5</td>\n",
       "      <td>52.3</td>\n",
       "    </tr>\n",
       "  </tbody>\n",
       "</table>\n",
       "<p>82257 rows × 2 columns</p>\n",
       "</div>"
      ],
      "text/plain": [
       "                   수온 ℃  클로로필-a mg/㎥\n",
       "id    클로로필-a mg/㎥                   \n",
       "0     1             3.9          7.2\n",
       "1     2             3.9          6.9\n",
       "2     3             4.0          6.8\n",
       "3     4             4.1          6.9\n",
       "4     4             4.0          6.9\n",
       "...                 ...          ...\n",
       "82252 79710        26.6         66.2\n",
       "82253 79711        26.3         61.2\n",
       "82254 79712        25.9         58.3\n",
       "82255 79713        25.7         54.4\n",
       "82256 79714        25.5         52.3\n",
       "\n",
       "[82257 rows x 2 columns]"
      ]
     },
     "execution_count": 90,
     "metadata": {},
     "output_type": "execute_result"
    }
   ],
   "source": [
    "df.groupby(['id', df[chl_a].diff().ne(0).cumsum()]).mean()"
   ]
  },
  {
   "cell_type": "code",
   "execution_count": 99,
   "metadata": {},
   "outputs": [
    {
     "name": "stdout",
     "output_type": "stream",
     "text": [
      "|    |   a |   b |\n",
      "|---:|----:|----:|\n",
      "|  0 |   0 |   2 |\n",
      "|  1 |   1 |   3 |\n"
     ]
    }
   ],
   "source": [
    "print(pd.DataFrame({\"a\": [0, 1], \"b\":[2, 3]}).to_markdown())"
   ]
  },
  {
   "cell_type": "code",
   "execution_count": 104,
   "metadata": {},
   "outputs": [],
   "source": [
    "md = \"\"\"| id | date | value |\n",
    "| --- | --- | --- |\n",
    "| 1001 | 1-04-2021 | 61 |\n",
    "| 1001 | 3-04-2021 | 61 |\n",
    "| 1001 | 10-04-2021 | 61 |\n",
    "| 1002 | 11-04-2021 | 13 |\n",
    "| 1002 | 12-04-2021 | 12 |\n",
    "| 1015 | 18-04-2021 | 42 |\n",
    "| 1015 | 20-04-2021 | 42 |\n",
    "| 1015 | 21-04-2021 | 43 |\n",
    "| 2001 | 8-04-2021 | 27 |\n",
    "| 2001 | 11-04-2021 | 27 |\n",
    "| 2001 | 12-04-2021 | 27 |\n",
    "| 2001 | 27-04-2021 | 27 |\n",
    "| 2001 | 29-04-2021 | 27 |\"\"\""
   ]
  },
  {
   "cell_type": "code",
   "execution_count": 106,
   "metadata": {},
   "outputs": [
    {
     "name": "stdout",
     "output_type": "stream",
     "text": [
      "| id | date | value |\n",
      "| --- | --- | --- |\n",
      "| 1001 | 1-04-2021 | 61 |\n",
      "| 1001 | 3-04-2021 | 61 |\n",
      "| 1001 | 10-04-2021 | 61 |\n",
      "| 1002 | 11-04-2021 | 13 |\n",
      "| 1002 | 12-04-2021 | 12 |\n",
      "| 1015 | 18-04-2021 | 42 |\n",
      "| 1015 | 20-04-2021 | 42 |\n",
      "| 1015 | 21-04-2021 | 43 |\n",
      "| 2001 | 8-04-2021 | 27 |\n",
      "| 2001 | 11-04-2021 | 27 |\n",
      "| 2001 | 12-04-2021 | 27 |\n",
      "| 2001 | 27-04-2021 | 27 |\n",
      "| 2001 | 29-04-2021 | 27 |\n"
     ]
    }
   ],
   "source": [
    "print(md)"
   ]
  },
  {
   "cell_type": "code",
   "execution_count": 129,
   "metadata": {},
   "outputs": [],
   "source": [
    "df1 = pd.read_clipboard(sep=\"|\", header=0, skipinitialspace=True).dropna(\n",
    "    axis=1, how=\"all\"\n",
    ").iloc[1:]"
   ]
  },
  {
   "cell_type": "code",
   "execution_count": 131,
   "metadata": {},
   "outputs": [
    {
     "data": {
      "text/html": [
       "<div>\n",
       "<style scoped>\n",
       "    .dataframe tbody tr th:only-of-type {\n",
       "        vertical-align: middle;\n",
       "    }\n",
       "\n",
       "    .dataframe tbody tr th {\n",
       "        vertical-align: top;\n",
       "    }\n",
       "\n",
       "    .dataframe thead th {\n",
       "        text-align: right;\n",
       "    }\n",
       "</style>\n",
       "<table border=\"1\" class=\"dataframe\">\n",
       "  <thead>\n",
       "    <tr style=\"text-align: right;\">\n",
       "      <th></th>\n",
       "      <th>id</th>\n",
       "      <th>date</th>\n",
       "      <th>value</th>\n",
       "    </tr>\n",
       "  </thead>\n",
       "  <tbody>\n",
       "    <tr>\n",
       "      <th>1</th>\n",
       "      <td>1001</td>\n",
       "      <td>1-04-2021</td>\n",
       "      <td>61</td>\n",
       "    </tr>\n",
       "    <tr>\n",
       "      <th>2</th>\n",
       "      <td>1001</td>\n",
       "      <td>3-04-2021</td>\n",
       "      <td>61</td>\n",
       "    </tr>\n",
       "    <tr>\n",
       "      <th>3</th>\n",
       "      <td>1001</td>\n",
       "      <td>10-04-2021</td>\n",
       "      <td>61</td>\n",
       "    </tr>\n",
       "    <tr>\n",
       "      <th>4</th>\n",
       "      <td>1002</td>\n",
       "      <td>11-04-2021</td>\n",
       "      <td>13</td>\n",
       "    </tr>\n",
       "    <tr>\n",
       "      <th>5</th>\n",
       "      <td>1002</td>\n",
       "      <td>12-04-2021</td>\n",
       "      <td>12</td>\n",
       "    </tr>\n",
       "    <tr>\n",
       "      <th>6</th>\n",
       "      <td>1015</td>\n",
       "      <td>18-04-2021</td>\n",
       "      <td>42</td>\n",
       "    </tr>\n",
       "    <tr>\n",
       "      <th>7</th>\n",
       "      <td>1015</td>\n",
       "      <td>20-04-2021</td>\n",
       "      <td>42</td>\n",
       "    </tr>\n",
       "    <tr>\n",
       "      <th>8</th>\n",
       "      <td>1015</td>\n",
       "      <td>21-04-2021</td>\n",
       "      <td>43</td>\n",
       "    </tr>\n",
       "    <tr>\n",
       "      <th>9</th>\n",
       "      <td>2001</td>\n",
       "      <td>8-04-2021</td>\n",
       "      <td>27</td>\n",
       "    </tr>\n",
       "    <tr>\n",
       "      <th>10</th>\n",
       "      <td>2001</td>\n",
       "      <td>11-04-2021</td>\n",
       "      <td>27</td>\n",
       "    </tr>\n",
       "    <tr>\n",
       "      <th>11</th>\n",
       "      <td>2001</td>\n",
       "      <td>12-04-2021</td>\n",
       "      <td>27</td>\n",
       "    </tr>\n",
       "    <tr>\n",
       "      <th>12</th>\n",
       "      <td>2001</td>\n",
       "      <td>27-04-2021</td>\n",
       "      <td>27</td>\n",
       "    </tr>\n",
       "    <tr>\n",
       "      <th>13</th>\n",
       "      <td>2001</td>\n",
       "      <td>29-04-2021</td>\n",
       "      <td>27</td>\n",
       "    </tr>\n",
       "  </tbody>\n",
       "</table>\n",
       "</div>"
      ],
      "text/plain": [
       "      id         date  value \n",
       "1   1001    1-04-2021     61 \n",
       "2   1001    3-04-2021     61 \n",
       "3   1001   10-04-2021     61 \n",
       "4   1002   11-04-2021     13 \n",
       "5   1002   12-04-2021     12 \n",
       "6   1015   18-04-2021     42 \n",
       "7   1015   20-04-2021     42 \n",
       "8   1015   21-04-2021     43 \n",
       "9   2001    8-04-2021     27 \n",
       "10  2001   11-04-2021     27 \n",
       "11  2001   12-04-2021     27 \n",
       "12  2001   27-04-2021     27 \n",
       "13  2001   29-04-2021     27 "
      ]
     },
     "execution_count": 131,
     "metadata": {},
     "output_type": "execute_result"
    }
   ],
   "source": [
    "df = df1.copy()\n",
    "df"
   ]
  },
  {
   "cell_type": "code",
   "execution_count": 132,
   "metadata": {},
   "outputs": [],
   "source": [
    "df['value '] = df['value '].astype(int)"
   ]
  },
  {
   "cell_type": "code",
   "execution_count": 133,
   "metadata": {},
   "outputs": [
    {
     "name": "stdout",
     "output_type": "stream",
     "text": [
      "<class 'pandas.core.frame.DataFrame'>\n",
      "RangeIndex: 13 entries, 1 to 13\n",
      "Data columns (total 3 columns):\n",
      " #   Column  Non-Null Count  Dtype \n",
      "---  ------  --------------  ----- \n",
      " 0   id      13 non-null     object\n",
      " 1   date    13 non-null     object\n",
      " 2   value   13 non-null     int32 \n",
      "dtypes: int32(1), object(2)\n",
      "memory usage: 392.0+ bytes\n"
     ]
    }
   ],
   "source": [
    "df.info()"
   ]
  },
  {
   "cell_type": "code",
   "execution_count": 135,
   "metadata": {},
   "outputs": [
    {
     "data": {
      "text/html": [
       "<div>\n",
       "<style scoped>\n",
       "    .dataframe tbody tr th:only-of-type {\n",
       "        vertical-align: middle;\n",
       "    }\n",
       "\n",
       "    .dataframe tbody tr th {\n",
       "        vertical-align: top;\n",
       "    }\n",
       "\n",
       "    .dataframe thead th {\n",
       "        text-align: right;\n",
       "    }\n",
       "</style>\n",
       "<table border=\"1\" class=\"dataframe\">\n",
       "  <thead>\n",
       "    <tr style=\"text-align: right;\">\n",
       "      <th></th>\n",
       "      <th>id</th>\n",
       "      <th>date</th>\n",
       "      <th>value</th>\n",
       "    </tr>\n",
       "  </thead>\n",
       "  <tbody>\n",
       "    <tr>\n",
       "      <th>1</th>\n",
       "      <td>1001</td>\n",
       "      <td>1-04-2021</td>\n",
       "      <td>61</td>\n",
       "    </tr>\n",
       "    <tr>\n",
       "      <th>2</th>\n",
       "      <td>1001</td>\n",
       "      <td>3-04-2021</td>\n",
       "      <td>61</td>\n",
       "    </tr>\n",
       "    <tr>\n",
       "      <th>3</th>\n",
       "      <td>1001</td>\n",
       "      <td>10-04-2021</td>\n",
       "      <td>61</td>\n",
       "    </tr>\n",
       "    <tr>\n",
       "      <th>4</th>\n",
       "      <td>1002</td>\n",
       "      <td>11-04-2021</td>\n",
       "      <td>13</td>\n",
       "    </tr>\n",
       "    <tr>\n",
       "      <th>5</th>\n",
       "      <td>1002</td>\n",
       "      <td>12-04-2021</td>\n",
       "      <td>12</td>\n",
       "    </tr>\n",
       "    <tr>\n",
       "      <th>6</th>\n",
       "      <td>1015</td>\n",
       "      <td>18-04-2021</td>\n",
       "      <td>42</td>\n",
       "    </tr>\n",
       "    <tr>\n",
       "      <th>7</th>\n",
       "      <td>1015</td>\n",
       "      <td>20-04-2021</td>\n",
       "      <td>42</td>\n",
       "    </tr>\n",
       "    <tr>\n",
       "      <th>8</th>\n",
       "      <td>1015</td>\n",
       "      <td>21-04-2021</td>\n",
       "      <td>43</td>\n",
       "    </tr>\n",
       "    <tr>\n",
       "      <th>9</th>\n",
       "      <td>2001</td>\n",
       "      <td>8-04-2021</td>\n",
       "      <td>27</td>\n",
       "    </tr>\n",
       "    <tr>\n",
       "      <th>10</th>\n",
       "      <td>2001</td>\n",
       "      <td>11-04-2021</td>\n",
       "      <td>27</td>\n",
       "    </tr>\n",
       "    <tr>\n",
       "      <th>11</th>\n",
       "      <td>2001</td>\n",
       "      <td>12-04-2021</td>\n",
       "      <td>27</td>\n",
       "    </tr>\n",
       "    <tr>\n",
       "      <th>12</th>\n",
       "      <td>2001</td>\n",
       "      <td>27-04-2021</td>\n",
       "      <td>27</td>\n",
       "    </tr>\n",
       "    <tr>\n",
       "      <th>13</th>\n",
       "      <td>2001</td>\n",
       "      <td>29-04-2021</td>\n",
       "      <td>27</td>\n",
       "    </tr>\n",
       "  </tbody>\n",
       "</table>\n",
       "</div>"
      ],
      "text/plain": [
       "      id         date   value \n",
       "1   1001    1-04-2021       61\n",
       "2   1001    3-04-2021       61\n",
       "3   1001   10-04-2021       61\n",
       "4   1002   11-04-2021       13\n",
       "5   1002   12-04-2021       12\n",
       "6   1015   18-04-2021       42\n",
       "7   1015   20-04-2021       42\n",
       "8   1015   21-04-2021       43\n",
       "9   2001    8-04-2021       27\n",
       "10  2001   11-04-2021       27\n",
       "11  2001   12-04-2021       27\n",
       "12  2001   27-04-2021       27\n",
       "13  2001   29-04-2021       27"
      ]
     },
     "execution_count": 135,
     "metadata": {},
     "output_type": "execute_result"
    }
   ],
   "source": [
    "df"
   ]
  },
  {
   "cell_type": "code",
   "execution_count": 144,
   "metadata": {},
   "outputs": [
    {
     "data": {
      "text/plain": [
       "1     3\n",
       "2     3\n",
       "3     3\n",
       "4     1\n",
       "5     1\n",
       "6     2\n",
       "7     2\n",
       "8     1\n",
       "9     5\n",
       "10    5\n",
       "11    5\n",
       "12    5\n",
       "13    5\n",
       "Name: id , dtype: int64"
      ]
     },
     "execution_count": 144,
     "metadata": {},
     "output_type": "execute_result"
    }
   ],
   "source": [
    "df.groupby(['id ', df['value '].diff().ne(0).cumsum()])['id '].transform('size')"
   ]
  },
  {
   "cell_type": "code",
   "execution_count": 151,
   "metadata": {},
   "outputs": [
    {
     "data": {
      "text/plain": [
       "<pandas.core.groupby.generic.SeriesGroupBy object at 0x00000185C3728940>"
      ]
     },
     "execution_count": 151,
     "metadata": {},
     "output_type": "execute_result"
    }
   ],
   "source": [
    "df.groupby(['id ', df['value '].diff().ne(0).cumsum()])['id ']"
   ]
  },
  {
   "cell_type": "code",
   "execution_count": null,
   "metadata": {},
   "outputs": [
    {
     "data": {
      "text/plain": [
       "1     3\n",
       "2     3\n",
       "3     3\n",
       "4     1\n",
       "5     1\n",
       "6     2\n",
       "7     2\n",
       "8     1\n",
       "9     5\n",
       "10    5\n",
       "11    5\n",
       "12    5\n",
       "13    5\n",
       "Name: id , dtype: int64"
      ]
     },
     "metadata": {},
     "output_type": "display_data"
    }
   ],
   "source": [
    "df.groupby(['id ', df['value '].diff().ne(0).cumsum()])['id '].transform('size')"
   ]
  },
  {
   "cell_type": "code",
   "execution_count": null,
   "metadata": {},
   "outputs": [
    {
     "data": {
      "text/plain": [
       "1      True\n",
       "2      True\n",
       "3      True\n",
       "4     False\n",
       "5     False\n",
       "6     False\n",
       "7     False\n",
       "8     False\n",
       "9      True\n",
       "10     True\n",
       "11     True\n",
       "12     True\n",
       "13     True\n",
       "Name: id , dtype: bool"
      ]
     },
     "metadata": {},
     "output_type": "display_data"
    }
   ],
   "source": [
    "df.groupby(['id ', df['value '].diff().ne(0).cumsum()])['id '].transform('size').ge(3)"
   ]
  },
  {
   "cell_type": "code",
   "execution_count": null,
   "metadata": {},
   "outputs": [
    {
     "data": {
      "text/html": [
       "<div>\n",
       "<style scoped>\n",
       "    .dataframe tbody tr th:only-of-type {\n",
       "        vertical-align: middle;\n",
       "    }\n",
       "\n",
       "    .dataframe tbody tr th {\n",
       "        vertical-align: top;\n",
       "    }\n",
       "\n",
       "    .dataframe thead th {\n",
       "        text-align: right;\n",
       "    }\n",
       "</style>\n",
       "<table border=\"1\" class=\"dataframe\">\n",
       "  <thead>\n",
       "    <tr style=\"text-align: right;\">\n",
       "      <th></th>\n",
       "      <th>id</th>\n",
       "      <th>date</th>\n",
       "      <th>value</th>\n",
       "      <th>pattern</th>\n",
       "    </tr>\n",
       "  </thead>\n",
       "  <tbody>\n",
       "    <tr>\n",
       "      <th>1</th>\n",
       "      <td>1001</td>\n",
       "      <td>1-04-2021</td>\n",
       "      <td>61</td>\n",
       "      <td>1</td>\n",
       "    </tr>\n",
       "    <tr>\n",
       "      <th>2</th>\n",
       "      <td>1001</td>\n",
       "      <td>3-04-2021</td>\n",
       "      <td>61</td>\n",
       "      <td>1</td>\n",
       "    </tr>\n",
       "    <tr>\n",
       "      <th>3</th>\n",
       "      <td>1001</td>\n",
       "      <td>10-04-2021</td>\n",
       "      <td>61</td>\n",
       "      <td>1</td>\n",
       "    </tr>\n",
       "    <tr>\n",
       "      <th>4</th>\n",
       "      <td>1002</td>\n",
       "      <td>11-04-2021</td>\n",
       "      <td>13</td>\n",
       "      <td>0</td>\n",
       "    </tr>\n",
       "    <tr>\n",
       "      <th>5</th>\n",
       "      <td>1002</td>\n",
       "      <td>12-04-2021</td>\n",
       "      <td>12</td>\n",
       "      <td>0</td>\n",
       "    </tr>\n",
       "    <tr>\n",
       "      <th>6</th>\n",
       "      <td>1015</td>\n",
       "      <td>18-04-2021</td>\n",
       "      <td>42</td>\n",
       "      <td>0</td>\n",
       "    </tr>\n",
       "    <tr>\n",
       "      <th>7</th>\n",
       "      <td>1015</td>\n",
       "      <td>20-04-2021</td>\n",
       "      <td>42</td>\n",
       "      <td>0</td>\n",
       "    </tr>\n",
       "    <tr>\n",
       "      <th>8</th>\n",
       "      <td>1015</td>\n",
       "      <td>21-04-2021</td>\n",
       "      <td>43</td>\n",
       "      <td>0</td>\n",
       "    </tr>\n",
       "    <tr>\n",
       "      <th>9</th>\n",
       "      <td>2001</td>\n",
       "      <td>8-04-2021</td>\n",
       "      <td>27</td>\n",
       "      <td>1</td>\n",
       "    </tr>\n",
       "    <tr>\n",
       "      <th>10</th>\n",
       "      <td>2001</td>\n",
       "      <td>11-04-2021</td>\n",
       "      <td>27</td>\n",
       "      <td>1</td>\n",
       "    </tr>\n",
       "    <tr>\n",
       "      <th>11</th>\n",
       "      <td>2001</td>\n",
       "      <td>12-04-2021</td>\n",
       "      <td>27</td>\n",
       "      <td>1</td>\n",
       "    </tr>\n",
       "    <tr>\n",
       "      <th>12</th>\n",
       "      <td>2001</td>\n",
       "      <td>27-04-2021</td>\n",
       "      <td>27</td>\n",
       "      <td>1</td>\n",
       "    </tr>\n",
       "    <tr>\n",
       "      <th>13</th>\n",
       "      <td>2001</td>\n",
       "      <td>29-04-2021</td>\n",
       "      <td>27</td>\n",
       "      <td>1</td>\n",
       "    </tr>\n",
       "  </tbody>\n",
       "</table>\n",
       "</div>"
      ],
      "text/plain": [
       "      id         date   value   pattern\n",
       "1   1001    1-04-2021       61        1\n",
       "2   1001    3-04-2021       61        1\n",
       "3   1001   10-04-2021       61        1\n",
       "4   1002   11-04-2021       13        0\n",
       "5   1002   12-04-2021       12        0\n",
       "6   1015   18-04-2021       42        0\n",
       "7   1015   20-04-2021       42        0\n",
       "8   1015   21-04-2021       43        0\n",
       "9   2001    8-04-2021       27        1\n",
       "10  2001   11-04-2021       27        1\n",
       "11  2001   12-04-2021       27        1\n",
       "12  2001   27-04-2021       27        1\n",
       "13  2001   29-04-2021       27        1"
      ]
     },
     "metadata": {},
     "output_type": "display_data"
    }
   ],
   "source": [
    "df['pattern'] = (df.groupby(['id ', df['value '].diff().ne(0).cumsum()])\n",
    "                   ['id '].transform('size').ge(3).astype(int)\n",
    "                )\n",
    "df"
   ]
  },
  {
   "cell_type": "code",
   "execution_count": 147,
   "metadata": {},
   "outputs": [
    {
     "data": {
      "text/plain": [
       "1     1\n",
       "2     1\n",
       "3     1\n",
       "4     2\n",
       "5     3\n",
       "6     4\n",
       "7     4\n",
       "8     5\n",
       "9     6\n",
       "10    6\n",
       "11    6\n",
       "12    6\n",
       "13    6\n",
       "Name: value , dtype: int32"
      ]
     },
     "execution_count": 147,
     "metadata": {},
     "output_type": "execute_result"
    }
   ],
   "source": [
    "df['value '].diff().ne(0).cumsum()"
   ]
  },
  {
   "cell_type": "code",
   "execution_count": 148,
   "metadata": {},
   "outputs": [
    {
     "data": {
      "text/plain": [
       "id\n",
       "0            1\n",
       "1            2\n",
       "2            3\n",
       "3            4\n",
       "4            4\n",
       "         ...  \n",
       "82252    79710\n",
       "82253    79711\n",
       "82254    79712\n",
       "82255    79713\n",
       "82256    79714\n",
       "Name: 클로로필-a mg/㎥, Length: 82257, dtype: int32"
      ]
     },
     "execution_count": 148,
     "metadata": {},
     "output_type": "execute_result"
    }
   ],
   "source": [
    "temp_chl[chl_a].diff().ne(0).cumsum()"
   ]
  },
  {
   "cell_type": "code",
   "execution_count": 159,
   "metadata": {},
   "outputs": [
    {
     "ename": "KeyError",
     "evalue": "'id'",
     "output_type": "error",
     "traceback": [
      "\u001b[1;31m---------------------------------------------------------------------------\u001b[0m",
      "\u001b[1;31mKeyError\u001b[0m                                  Traceback (most recent call last)",
      "File \u001b[1;32mc:\\Users\\gslee\\anaconda3\\lib\\site-packages\\pandas\\core\\indexes\\base.py:3621\u001b[0m, in \u001b[0;36mIndex.get_loc\u001b[1;34m(self, key, method, tolerance)\u001b[0m\n\u001b[0;32m   3620\u001b[0m \u001b[39mtry\u001b[39;00m:\n\u001b[1;32m-> 3621\u001b[0m     \u001b[39mreturn\u001b[39;00m \u001b[39mself\u001b[39;49m\u001b[39m.\u001b[39;49m_engine\u001b[39m.\u001b[39;49mget_loc(casted_key)\n\u001b[0;32m   3622\u001b[0m \u001b[39mexcept\u001b[39;00m \u001b[39mKeyError\u001b[39;00m \u001b[39mas\u001b[39;00m err:\n",
      "File \u001b[1;32mc:\\Users\\gslee\\anaconda3\\lib\\site-packages\\pandas\\_libs\\index.pyx:136\u001b[0m, in \u001b[0;36mpandas._libs.index.IndexEngine.get_loc\u001b[1;34m()\u001b[0m\n",
      "File \u001b[1;32mc:\\Users\\gslee\\anaconda3\\lib\\site-packages\\pandas\\_libs\\index.pyx:163\u001b[0m, in \u001b[0;36mpandas._libs.index.IndexEngine.get_loc\u001b[1;34m()\u001b[0m\n",
      "File \u001b[1;32mpandas\\_libs\\hashtable_class_helper.pxi:5198\u001b[0m, in \u001b[0;36mpandas._libs.hashtable.PyObjectHashTable.get_item\u001b[1;34m()\u001b[0m\n",
      "File \u001b[1;32mpandas\\_libs\\hashtable_class_helper.pxi:5206\u001b[0m, in \u001b[0;36mpandas._libs.hashtable.PyObjectHashTable.get_item\u001b[1;34m()\u001b[0m\n",
      "\u001b[1;31mKeyError\u001b[0m: 'id'",
      "\nThe above exception was the direct cause of the following exception:\n",
      "\u001b[1;31mKeyError\u001b[0m                                  Traceback (most recent call last)",
      "\u001b[1;32mc:\\Users\\gslee\\Documents\\GitHub\\water-data\\reservoirs\\google_colab\\승촌보(방류량과 수온)\\승촌보_수온과녹조관계.ipynb 셀 70\u001b[0m in \u001b[0;36m<cell line: 1>\u001b[1;34m()\u001b[0m\n\u001b[1;32m----> <a href='vscode-notebook-cell:/c%3A/Users/gslee/Documents/GitHub/water-data/reservoirs/google_colab/%EC%8A%B9%EC%B4%8C%EB%B3%B4%28%EB%B0%A9%EB%A5%98%EB%9F%89%EA%B3%BC%20%EC%88%98%EC%98%A8%29/%EC%8A%B9%EC%B4%8C%EB%B3%B4_%EC%88%98%EC%98%A8%EA%B3%BC%EB%85%B9%EC%A1%B0%EA%B4%80%EA%B3%84.ipynb#Y233sZmlsZQ%3D%3D?line=0'>1</a>\u001b[0m temp_chl[\u001b[39m'\u001b[39;49m\u001b[39mid\u001b[39;49m\u001b[39m'\u001b[39;49m]\n",
      "File \u001b[1;32mc:\\Users\\gslee\\anaconda3\\lib\\site-packages\\pandas\\core\\frame.py:3505\u001b[0m, in \u001b[0;36mDataFrame.__getitem__\u001b[1;34m(self, key)\u001b[0m\n\u001b[0;32m   3503\u001b[0m \u001b[39mif\u001b[39;00m \u001b[39mself\u001b[39m\u001b[39m.\u001b[39mcolumns\u001b[39m.\u001b[39mnlevels \u001b[39m>\u001b[39m \u001b[39m1\u001b[39m:\n\u001b[0;32m   3504\u001b[0m     \u001b[39mreturn\u001b[39;00m \u001b[39mself\u001b[39m\u001b[39m.\u001b[39m_getitem_multilevel(key)\n\u001b[1;32m-> 3505\u001b[0m indexer \u001b[39m=\u001b[39m \u001b[39mself\u001b[39;49m\u001b[39m.\u001b[39;49mcolumns\u001b[39m.\u001b[39;49mget_loc(key)\n\u001b[0;32m   3506\u001b[0m \u001b[39mif\u001b[39;00m is_integer(indexer):\n\u001b[0;32m   3507\u001b[0m     indexer \u001b[39m=\u001b[39m [indexer]\n",
      "File \u001b[1;32mc:\\Users\\gslee\\anaconda3\\lib\\site-packages\\pandas\\core\\indexes\\base.py:3623\u001b[0m, in \u001b[0;36mIndex.get_loc\u001b[1;34m(self, key, method, tolerance)\u001b[0m\n\u001b[0;32m   3621\u001b[0m     \u001b[39mreturn\u001b[39;00m \u001b[39mself\u001b[39m\u001b[39m.\u001b[39m_engine\u001b[39m.\u001b[39mget_loc(casted_key)\n\u001b[0;32m   3622\u001b[0m \u001b[39mexcept\u001b[39;00m \u001b[39mKeyError\u001b[39;00m \u001b[39mas\u001b[39;00m err:\n\u001b[1;32m-> 3623\u001b[0m     \u001b[39mraise\u001b[39;00m \u001b[39mKeyError\u001b[39;00m(key) \u001b[39mfrom\u001b[39;00m \u001b[39merr\u001b[39;00m\n\u001b[0;32m   3624\u001b[0m \u001b[39mexcept\u001b[39;00m \u001b[39mTypeError\u001b[39;00m:\n\u001b[0;32m   3625\u001b[0m     \u001b[39m# If we have a listlike key, _check_indexing_error will raise\u001b[39;00m\n\u001b[0;32m   3626\u001b[0m     \u001b[39m#  InvalidIndexError. Otherwise we fall through and re-raise\u001b[39;00m\n\u001b[0;32m   3627\u001b[0m     \u001b[39m#  the TypeError.\u001b[39;00m\n\u001b[0;32m   3628\u001b[0m     \u001b[39mself\u001b[39m\u001b[39m.\u001b[39m_check_indexing_error(key)\n",
      "\u001b[1;31mKeyError\u001b[0m: 'id'"
     ]
    }
   ],
   "source": [
    "temp_chl['id']"
   ]
  },
  {
   "cell_type": "code",
   "execution_count": 157,
   "metadata": {},
   "outputs": [
    {
     "data": {
      "text/html": [
       "<div>\n",
       "<style scoped>\n",
       "    .dataframe tbody tr th:only-of-type {\n",
       "        vertical-align: middle;\n",
       "    }\n",
       "\n",
       "    .dataframe tbody tr th {\n",
       "        vertical-align: top;\n",
       "    }\n",
       "\n",
       "    .dataframe thead th {\n",
       "        text-align: right;\n",
       "    }\n",
       "</style>\n",
       "<table border=\"1\" class=\"dataframe\">\n",
       "  <thead>\n",
       "    <tr style=\"text-align: right;\">\n",
       "      <th></th>\n",
       "      <th>수온 ℃</th>\n",
       "      <th>클로로필-a mg/㎥</th>\n",
       "    </tr>\n",
       "  </thead>\n",
       "  <tbody>\n",
       "    <tr>\n",
       "      <th>0</th>\n",
       "      <td>3.9</td>\n",
       "      <td>7.2</td>\n",
       "    </tr>\n",
       "    <tr>\n",
       "      <th>1</th>\n",
       "      <td>3.9</td>\n",
       "      <td>6.9</td>\n",
       "    </tr>\n",
       "    <tr>\n",
       "      <th>2</th>\n",
       "      <td>4.0</td>\n",
       "      <td>6.8</td>\n",
       "    </tr>\n",
       "    <tr>\n",
       "      <th>3</th>\n",
       "      <td>4.1</td>\n",
       "      <td>6.9</td>\n",
       "    </tr>\n",
       "    <tr>\n",
       "      <th>4</th>\n",
       "      <td>4.0</td>\n",
       "      <td>6.9</td>\n",
       "    </tr>\n",
       "    <tr>\n",
       "      <th>...</th>\n",
       "      <td>...</td>\n",
       "      <td>...</td>\n",
       "    </tr>\n",
       "    <tr>\n",
       "      <th>82252</th>\n",
       "      <td>26.6</td>\n",
       "      <td>66.2</td>\n",
       "    </tr>\n",
       "    <tr>\n",
       "      <th>82253</th>\n",
       "      <td>26.3</td>\n",
       "      <td>61.2</td>\n",
       "    </tr>\n",
       "    <tr>\n",
       "      <th>82254</th>\n",
       "      <td>25.9</td>\n",
       "      <td>58.3</td>\n",
       "    </tr>\n",
       "    <tr>\n",
       "      <th>82255</th>\n",
       "      <td>25.7</td>\n",
       "      <td>54.4</td>\n",
       "    </tr>\n",
       "    <tr>\n",
       "      <th>82256</th>\n",
       "      <td>25.5</td>\n",
       "      <td>52.3</td>\n",
       "    </tr>\n",
       "  </tbody>\n",
       "</table>\n",
       "<p>82257 rows × 2 columns</p>\n",
       "</div>"
      ],
      "text/plain": [
       "       수온 ℃  클로로필-a mg/㎥\n",
       "0       3.9          7.2\n",
       "1       3.9          6.9\n",
       "2       4.0          6.8\n",
       "3       4.1          6.9\n",
       "4       4.0          6.9\n",
       "...     ...          ...\n",
       "82252  26.6         66.2\n",
       "82253  26.3         61.2\n",
       "82254  25.9         58.3\n",
       "82255  25.7         54.4\n",
       "82256  25.5         52.3\n",
       "\n",
       "[82257 rows x 2 columns]"
      ]
     },
     "execution_count": 157,
     "metadata": {},
     "output_type": "execute_result"
    }
   ],
   "source": [
    "temp_chl.groupby(['id', ], as_index=False).mean()"
   ]
  },
  {
   "cell_type": "code",
   "execution_count": 35,
   "metadata": {},
   "outputs": [
    {
     "data": {
      "text/plain": [
       "count    50764.000000\n",
       "mean        18.093704\n",
       "std          7.969046\n",
       "min          1.800000\n",
       "25%         10.400000\n",
       "50%         18.100000\n",
       "75%         25.200000\n",
       "max         36.100000\n",
       "Name: 수온 ℃, dtype: float64"
      ]
     },
     "execution_count": 35,
     "metadata": {},
     "output_type": "execute_result"
    }
   ],
   "source": [
    "scb_df[temperature][mask].describe()"
   ]
  },
  {
   "cell_type": "code",
   "execution_count": null,
   "metadata": {},
   "outputs": [],
   "source": []
  },
  {
   "cell_type": "code",
   "execution_count": null,
   "metadata": {},
   "outputs": [],
   "source": []
  },
  {
   "cell_type": "markdown",
   "metadata": {},
   "source": [
    "**shift 특성 추가 함수**"
   ]
  },
  {
   "cell_type": "markdown",
   "metadata": {},
   "source": [
    "`feature_shifting()` 함수는 지정된 특성을 대상으로 지정된 크기만큼 shift한 특성을 추가한다. 함수의 인자로 다음 세 개의 값을 받는다.  \n",
    "\n",
    "* `df` : 기존 데이터프레임\n",
    "* `shift_feature` : shift 대상 특성\n",
    "* `shift_step` : shift 크기\n",
    "* 반환값: shift된 특성이 추가된 데이터프레임"
   ]
  },
  {
   "cell_type": "code",
   "execution_count": 22,
   "metadata": {},
   "outputs": [],
   "source": [
    "from pandas import DataFrame\n",
    "import re\n",
    "\n",
    "def feature_shifting(df : DataFrame, shift_feature : str, shift_step : int) -> DataFrame:\n",
    "    shift_feature_ = re.split(' |\\(', shift_feature)[0] # 특성 이름에 사용된 단위 삭제. 공백 또는 여는 괄호 기준 쪼개기\n",
    "\n",
    "    new_dict = dict()\n",
    "    new_dict[str(shift_step) + 'shift_' + shift_feature_] = df[shift_feature].shift(shift_step)\n",
    "    \n",
    "    new_dict = pd.DataFrame(new_dict)\n",
    "\n",
    "    return pd.concat([df, new_dict], axis=1)"
   ]
  },
  {
   "cell_type": "markdown",
   "metadata": {},
   "source": [
    "**그리드 탐색 일괄 처리 함수**"
   ]
  },
  {
   "cell_type": "markdown",
   "metadata": {},
   "source": [
    "`gridsearch()` 함수는 \n",
    "\n",
    "* `model` : 그리드 탐색 대상 모델\n",
    "* `parameters` : 그리드 탐색에 사용될 하이퍼파라미터 모음집\n",
    "* `shift_objects` : shift 대상 특성 및 크기 모음 사전\n",
    "* 반환값: shift 특성과 크기에 따른 최적의 모델과 연관된 네 개의 사전\n",
    "    - `best_model_dict`: 최적의 모델로 구성된 사전\n",
    "    - `model_params_dict`: 최적 모델의 하이퍼파라미터로 구성된 사전\n",
    "    - `test_score_dict`: 최적 모델의 성능지표로 구성된 사전\n",
    "    - `train_features_dict`: 최적 모델 훈련에 사용된 특성들의 리스트로 구성된 사전"
   ]
  },
  {
   "cell_type": "code",
   "execution_count": 23,
   "metadata": {},
   "outputs": [],
   "source": [
    "def gridsearch(model, parameters, shift_objects):\n",
    "    # kind of model\n",
    "    if isinstance(model, RandomForestRegressor):\n",
    "        model_kind = 'rf'\n",
    "    if isinstance(model, GradientBoostingRegressor):\n",
    "        model_kind = 'gb'\n",
    "\n",
    "    # best models\n",
    "    best_model_dict = dict()\n",
    "\n",
    "    # parameters of best models\n",
    "    model_params_dict = dict()\n",
    "\n",
    "    # test scores of the best models\n",
    "    test_score_dict = dict()\n",
    "\n",
    "    # train features of the best models\n",
    "    train_features_dict = dict()\n",
    "\n",
    "    # shift 특성 추가와 모델 훈련\n",
    "    for shift_feature in shift_objects:\n",
    "        # 지정된 특성을 지정된 크기만큼 shift한 새로운 특성 추가\n",
    "        shift_step = shift_objects[shift_feature]\n",
    "        scb_df_shifted = feature_shifting(scb_df, shift_feature, shift_step)\n",
    "\n",
    "        # 결측치는 양방향 12시간 선형 보간법으로 대체. 결측 구간별 최대 24시간의 결측치 대체.\n",
    "        scb_df_shifted['시간'] = scb_df_shifted['시간'].transform(lambda x: datetime.strptime(x, '%Y-%m-%d %H'))\n",
    "        scb_df_shifted = scb_df_shifted.copy().set_index('시간').interpolate(method='time', limit = 12, limit_direction='both')\n",
    "        scb_df_shifted.dropna(inplace=True)\n",
    "\n",
    "        # 타깃 특성\n",
    "        target_feature = 'log_Chl-a'\n",
    "\n",
    "        # 입력 데이터셋 특성\n",
    "        train_features = list(scb_df_shifted.columns)\n",
    "        train_features.remove(target_feature)\n",
    "\n",
    "        # 훈련셋과 테스트셋\n",
    "        inputs = scb_df_shifted[train_features]\n",
    "        targets = scb_df_shifted[target_feature]\n",
    "\n",
    "        X_train, X_test, y_train, y_test = train_test_split(inputs, targets, random_state=42)\n",
    "\n",
    "        # 훈련 모델 이름\n",
    "        shift_feature_ = re.split(' |\\(', shift_feature)[0]\n",
    "        model_name = f\"{reservoir}_{model_kind}_{shift_step}shift_{shift_feature_}\"\n",
    "        print(f\"=== Current model: {model_name} ===\")\n",
    "\n",
    "        # 모델 훈련: 그리드 탐색 적용\n",
    "        model_grid = GridSearchCV(model, param_grid=parameters, cv=3, \n",
    "                                # n_jobs=-1, \n",
    "                                verbose=5)\n",
    "\n",
    "        model_grid.fit(X_train, y_train)\n",
    "\n",
    "        # 그리드 탐색 후 최고 성능 모델 저장\n",
    "        estimator = model_grid.best_estimator_\n",
    "\n",
    "        best_model = model_name+\".pkl\"\n",
    "        joblib.dump(estimator, best_model)\n",
    "\n",
    "        # 저장된 모델 다시 불러오기\n",
    "        estimator = joblib.load(best_model)\n",
    "\n",
    "        # 최고 성능 및 모델 성능 리스트 추가\n",
    "        best_model_dict[model_name] = estimator\n",
    "        model_params_dict[model_name] = dict(DataFrame([estimator.get_params()])[parameters.keys()].iloc[0,:])\n",
    "        test_score_dict[model_name] = estimator.score(X_test, y_test)\n",
    "        train_features_dict[model_name] = train_features\n",
    "\n",
    "    return best_model_dict, model_params_dict, test_score_dict, train_features_dict"
   ]
  },
  {
   "cell_type": "markdown",
   "metadata": {},
   "source": [
    "**특성 중요도를 막대그래프로 그려주는 함수**"
   ]
  },
  {
   "cell_type": "markdown",
   "metadata": {},
   "source": [
    "그리트 탐색으로 얻어딘 각각의 경우에 대한 특성 중요도를 막대그래프로 그려본다."
   ]
  },
  {
   "cell_type": "code",
   "execution_count": 24,
   "metadata": {},
   "outputs": [],
   "source": [
    "# plt.figure(figsize=(10, 6))\n",
    "\n",
    "def feature_importance_barplot(best_model_dict, model_params_dict, test_score_dict, train_features_dict):\n",
    "    models_trained = best_model_dict.keys()\n",
    "    num_of_models = len(models_trained)\n",
    "\n",
    "    fig, axs = plt.subplots(num_of_models, sharex=True)\n",
    "\n",
    "    for idx, model_ in enumerate(models_trained):\n",
    "        ax = axs[idx]\n",
    "        estimator_ = best_model_dict[model_]\n",
    "        model_params_ = model_params_dict[model_]\n",
    "        train_features_ = train_features_dict[model_]\n",
    "\n",
    "        feature_series = pd.Series(data = estimator_.feature_importances_, index = train_features_)\n",
    "        feature_series = feature_series.sort_values(ascending = False)\n",
    "        sns.barplot(ax=ax, x = feature_series[:10], y = feature_series.index[:10], color = 'gray')\n",
    "        ax.set_title(model_+\": \"+str(model_params_))\n",
    "\n",
    "    plt.subplots_adjust(hspace=0.4, wspace=0)\n",
    "    plt.show()"
   ]
  },
  {
   "cell_type": "markdown",
   "metadata": {},
   "source": [
    "## 모델 훈련 - Random Forest"
   ]
  },
  {
   "cell_type": "markdown",
   "metadata": {},
   "source": [
    "**회귀 모델 지정**"
   ]
  },
  {
   "cell_type": "code",
   "execution_count": 25,
   "metadata": {},
   "outputs": [],
   "source": [
    "rf_reg = RandomForestRegressor(random_state=42, oob_score=True, \n",
    "                                # n_jobs=-1\n",
    "                                n_estimators=500)"
   ]
  },
  {
   "cell_type": "markdown",
   "metadata": {},
   "source": [
    "**그리드 탐색 대상 하이퍼파라미터 지정**"
   ]
  },
  {
   "cell_type": "code",
   "execution_count": 26,
   "metadata": {},
   "outputs": [],
   "source": [
    "# parameters = {'max_depth':[5, 10, 15], 'min_samples_leaf':[8, 12, 16]}\n",
    "# (15, 8) 조합이 좋게 나오기에 다음과 같이 해볼 필요 있음.\n",
    "# parameters = {'max_depth':[15, 17, 20], 'min_samples_leaf':[6, 7, 8]}\n",
    "\n",
    "# 아래 경우는 테스트용\n",
    "parameters = {'max_depth':[17], 'min_samples_leaf':[6]}"
   ]
  },
  {
   "cell_type": "markdown",
   "metadata": {},
   "source": [
    "**shift 대상 특성**"
   ]
  },
  {
   "cell_type": "markdown",
   "metadata": {},
   "source": [
    "shift 할 특성과 shift 크기의 쌍으로 이루어진 사전 자료형을 사용해서\n",
    "지정된 특성에 대해 차례대로 특성 추가와 훈련을 처리하도록 한다."
   ]
  },
  {
   "cell_type": "code",
   "execution_count": 27,
   "metadata": {},
   "outputs": [],
   "source": [
    "# shift 대상과 크기 목록 사전\n",
    "shift_objects = {'수온 ℃': 2, '방류량(㎥/s)':6}"
   ]
  },
  {
   "cell_type": "markdown",
   "metadata": {},
   "source": [
    "**특성 중요도 확인**"
   ]
  },
  {
   "cell_type": "markdown",
   "metadata": {},
   "source": [
    "지정된 shift 특성과 크기 각각에 대해 그리드 탐색을 시행한 후에 결과를 확인한다."
   ]
  },
  {
   "cell_type": "code",
   "execution_count": 28,
   "metadata": {},
   "outputs": [
    {
     "name": "stdout",
     "output_type": "stream",
     "text": [
      "=== Current model: Seungchonbo_rf_2shift_수온 ===\n",
      "Fitting 3 folds for each of 1 candidates, totalling 3 fits\n",
      "[CV 1/3] END ..max_depth=17, min_samples_leaf=6;, score=0.903 total time=  38.0s\n",
      "[CV 2/3] END ..max_depth=17, min_samples_leaf=6;, score=0.905 total time=  37.8s\n",
      "[CV 3/3] END ..max_depth=17, min_samples_leaf=6;, score=0.904 total time=  37.8s\n",
      "=== Current model: Seungchonbo_rf_6shift_방류량 ===\n",
      "Fitting 3 folds for each of 1 candidates, totalling 3 fits\n",
      "[CV 1/3] END ..max_depth=17, min_samples_leaf=6;, score=0.901 total time=  39.2s\n",
      "[CV 2/3] END ..max_depth=17, min_samples_leaf=6;, score=0.906 total time=  39.3s\n",
      "[CV 3/3] END ..max_depth=17, min_samples_leaf=6;, score=0.904 total time=  39.9s\n"
     ]
    }
   ],
   "source": [
    "best_model_dict, model_params_dict, test_score_dict, train_features_dict = gridsearch(rf_reg, parameters, shift_objects)"
   ]
  },
  {
   "cell_type": "markdown",
   "metadata": {},
   "source": [
    "각각의 경우에 대한 특성 중요도를 막대그래프로 그려본다."
   ]
  },
  {
   "cell_type": "code",
   "execution_count": 29,
   "metadata": {},
   "outputs": [
    {
     "data": {
      "image/png": "[encoded data removed]",
      "text/plain": [
       "<Figure size 720x432 with 2 Axes>"
      ]
     },
     "metadata": {
      "needs_background": "light"
     },
     "output_type": "display_data"
    }
   ],
   "source": [
    "feature_importance_barplot(best_model_dict, model_params_dict, test_score_dict, train_features_dict)"
   ]
  },
  {
   "cell_type": "markdown",
   "metadata": {},
   "source": [
    "## 모델 훈련 - Gradient Boosting"
   ]
  },
  {
   "cell_type": "markdown",
   "metadata": {},
   "source": [
    "**회귀 모델 지정**"
   ]
  },
  {
   "cell_type": "code",
   "execution_count": 30,
   "metadata": {},
   "outputs": [],
   "source": [
    "gb_reg = GradientBoostingRegressor(random_state=42)"
   ]
  },
  {
   "cell_type": "markdown",
   "metadata": {},
   "source": [
    "**그리드 탐색 대상 하이퍼파라미터 지정**"
   ]
  },
  {
   "cell_type": "code",
   "execution_count": 31,
   "metadata": {},
   "outputs": [],
   "source": [
    "\n",
    "parameters = {'max_depth':[10], 'learning_rate':[0.2]}\n",
    "# parameters = {'max_depth':[5, 10, 15], 'learning_rate':[0.05, 0.1, 0.2]}"
   ]
  },
  {
   "cell_type": "markdown",
   "metadata": {},
   "source": [
    "**shift 대상 특성**"
   ]
  },
  {
   "cell_type": "markdown",
   "metadata": {},
   "source": [
    "shift 할 특성과 shift 크기의 쌍으로 이루어진 사전 자료형을 사용해서\n",
    "지정된 특성에 대해 차례대로 특성 추가와 훈련을 처리하도록 한다."
   ]
  },
  {
   "cell_type": "code",
   "execution_count": 32,
   "metadata": {},
   "outputs": [],
   "source": [
    "# shift 대상과 크기 목록 사전\n",
    "shift_objects = {'수온 ℃': 2, '방류량(㎥/s)':6}"
   ]
  },
  {
   "cell_type": "markdown",
   "metadata": {},
   "source": [
    "**특성 중요도 확인**"
   ]
  },
  {
   "cell_type": "markdown",
   "metadata": {},
   "source": [
    "지정된 shift 특성과 크기 각각에 대해 그리드 탐색을 시행한 후에 결과를 확인한다."
   ]
  },
  {
   "cell_type": "code",
   "execution_count": 33,
   "metadata": {},
   "outputs": [
    {
     "name": "stdout",
     "output_type": "stream",
     "text": [
      "=== Current model: Seungchonbo_gb_2shift_수온 ===\n",
      "Fitting 3 folds for each of 1 candidates, totalling 3 fits\n",
      "[CV 1/3] END ...learning_rate=0.2, max_depth=10;, score=0.925 total time=   9.3s\n",
      "[CV 2/3] END ...learning_rate=0.2, max_depth=10;, score=0.926 total time=   9.2s\n",
      "[CV 3/3] END ...learning_rate=0.2, max_depth=10;, score=0.924 total time=   9.2s\n",
      "=== Current model: Seungchonbo_gb_6shift_방류량 ===\n",
      "Fitting 3 folds for each of 1 candidates, totalling 3 fits\n",
      "[CV 1/3] END ...learning_rate=0.2, max_depth=10;, score=0.926 total time=   9.8s\n",
      "[CV 2/3] END ...learning_rate=0.2, max_depth=10;, score=0.928 total time=   9.9s\n",
      "[CV 3/3] END ...learning_rate=0.2, max_depth=10;, score=0.927 total time=  10.0s\n"
     ]
    }
   ],
   "source": [
    "best_models = gridsearch(gb_reg, parameters, shift_objects)"
   ]
  },
  {
   "cell_type": "markdown",
   "metadata": {},
   "source": [
    "각각의 경우에 대한 특성 중요도를 막대그래프로 그려본다."
   ]
  },
  {
   "cell_type": "code",
   "execution_count": 34,
   "metadata": {},
   "outputs": [
    {
     "data": {
      "image/png": "[encoded data removed]",
      "text/plain": [
       "<Figure size 720x432 with 2 Axes>"
      ]
     },
     "metadata": {
      "needs_background": "light"
     },
     "output_type": "display_data"
    }
   ],
   "source": [
    "feature_importance_barplot(*best_models)"
   ]
  }
 ],
 "metadata": {
  "kernelspec": {
   "display_name": "Python 3.9.12 ('base')",
   "language": "python",
   "name": "python3"
  },
  "language_info": {
   "codemirror_mode": {
    "name": "ipython",
    "version": 3
   },
   "file_extension": ".py",
   "mimetype": "text/x-python",
   "name": "python",
   "nbconvert_exporter": "python",
   "pygments_lexer": "ipython3",
   "version": "3.9.12"
  },
  "vscode": {
   "interpreter": {
    "hash": "ad0f3c8a064f687cbf898a0868fd45ba1c7e928ac8a0404f7c241d812ddc1e76"
   }
  }
 },
 "nbformat": 4,
 "nbformat_minor": 2
}
