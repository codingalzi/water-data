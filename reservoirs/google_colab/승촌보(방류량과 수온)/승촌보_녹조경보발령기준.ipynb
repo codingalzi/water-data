{
 "cells": [
  {
   "cell_type": "markdown",
   "metadata": {},
   "source": [
    "# 승촌보 데이터 분석 \n",
    "\n",
    "* 승촌보 수질 데이터(Seungchonbo.xlsx)   \n",
    "    * 2012-2022년  \n",
    "    * 시간 단위 수집 데이터\n",
    "* 승촌보 유량 데이터(Seungchonbo_flow.xlsx)\n",
    "    * 2012-2022년\n",
    "    * 10분 단위 수집 데이터"
   ]
  },
  {
   "cell_type": "markdown",
   "metadata": {},
   "source": [
    "**필수 모듈 임포트**"
   ]
  },
  {
   "cell_type": "code",
   "execution_count": 2,
   "metadata": {},
   "outputs": [],
   "source": [
    "import numpy as np\n",
    "import pandas as pd\n",
    "\n",
    "import matplotlib.pyplot as plt\n",
    "import seaborn as sns\n",
    "\n",
    "import joblib\n",
    "\n",
    "from datetime import datetime\n",
    "import datetime as dt"
   ]
  },
  {
   "cell_type": "markdown",
   "metadata": {},
   "source": [
    "**훈련 모델 준비**"
   ]
  },
  {
   "cell_type": "code",
   "execution_count": 3,
   "metadata": {},
   "outputs": [],
   "source": [
    "from sklearn.model_selection import train_test_split\n",
    "from sklearn.model_selection import GridSearchCV\n",
    "from sklearn.preprocessing import StandardScaler\n",
    "from sklearn.ensemble import RandomForestRegressor, GradientBoostingRegressor"
   ]
  },
  {
   "cell_type": "markdown",
   "metadata": {},
   "source": [
    "**matplotlib 한글 설정**"
   ]
  },
  {
   "cell_type": "code",
   "execution_count": 4,
   "metadata": {},
   "outputs": [],
   "source": [
    "# 운영체제에 따른 한글 지원을 설정한다. 지원되는 환경은 윈도우, 우분투, 구글 코랩 등이다.\n",
    "\n",
    "import platform\n",
    "plt.rc('figure', figsize=(10, 6))  # 그림 크기 설정\n",
    "if platform.system() == 'Windows': # 윈도우\n",
    "    from matplotlib import font_manager, rc\n",
    "    font_path = \"C:/Windows/Fonts/NGULIM.TTF\"\n",
    "    font = font_manager.FontProperties(fname=font_path).get_name()\n",
    "    rc('font', family=font)\n",
    "elif platform.system() == 'Linux': # 우분투 또는 구글 코랩\n",
    "    # !sudo apt-get install -y fonts-nanum*\n",
    "    # !fc-cache -fv\n",
    "    \n",
    "    applyfont = \"NanumBarunGothic\"\n",
    "    import matplotlib.font_manager as fm\n",
    "    if not any(map(lambda ft: ft.name == applyfont, fm.fontManager.ttflist)):\n",
    "        fm.fontManager.addfont(\"/usr/share/fonts/truetype/nanum/NanumBarunGothic.ttf\")\n",
    "    plt.rc(\"font\", family=applyfont)\n",
    "    plt.rc(\"axes\", unicode_minus=False)"
   ]
  },
  {
   "cell_type": "markdown",
   "metadata": {},
   "source": [
    "## 승촌보 데이터 불러오기"
   ]
  },
  {
   "cell_type": "markdown",
   "metadata": {},
   "source": [
    "### 수질 데이터 불러오기"
   ]
  },
  {
   "cell_type": "markdown",
   "metadata": {},
   "source": [
    "**보 이름**"
   ]
  },
  {
   "cell_type": "code",
   "execution_count": 5,
   "metadata": {},
   "outputs": [],
   "source": [
    "weir = 'Seungchonbo'"
   ]
  },
  {
   "cell_type": "markdown",
   "id": "67006279",
   "metadata": {},
   "source": [
    "**데이터 저장소**"
   ]
  },
  {
   "cell_type": "code",
   "execution_count": 6,
   "metadata": {},
   "outputs": [],
   "source": [
    "base_path = \"https://github.com/codingalzi/water-data/raw/master/reservoirs/\""
   ]
  },
  {
   "cell_type": "markdown",
   "metadata": {},
   "source": [
    "**시간 단위로 측정된 승촌보 연도별 수질 데이터 불러오기**"
   ]
  },
  {
   "cell_type": "markdown",
   "id": "1ac42783",
   "metadata": {},
   "source": [
    "`'측정일/월'` 특성은 date time으로 파싱."
   ]
  },
  {
   "cell_type": "code",
   "execution_count": null,
   "id": "350d2940",
   "metadata": {},
   "outputs": [],
   "source": [
    "# ! pip install openpyxl"
   ]
  },
  {
   "cell_type": "code",
   "execution_count": 7,
   "metadata": {},
   "outputs": [],
   "source": [
    "# '측정일/월' 특성은 date time으로 파싱.\n",
    "# 반환값은 연도별 데이터프레임으로 구성된 사전. 2012년 ~ 2022년\n",
    "\n",
    "data_file = weir+\".xlsx\"\n",
    "scb_yearly = pd.read_excel(base_path+data_file, \n",
    "# scb_yearly = pd.read_excel(base_path+\"\\Seungchonbo.xlsx\", \n",
    "                            skiprows=0, \n",
    "                            header=1, \n",
    "                            sheet_name=None,\n",
    "                            na_values='ND',\n",
    "                            parse_dates=[0])  # 측정일/월 특성을 date time으로 파싱"
   ]
  },
  {
   "cell_type": "markdown",
   "metadata": {},
   "source": [
    "**시간 특성을 \"년-월-일 시\" 형식으로 변환하는 함수**"
   ]
  },
  {
   "cell_type": "code",
   "execution_count": 7,
   "metadata": {},
   "outputs": [],
   "source": [
    "# 연도별로 별도로 작동한다.\n",
    "\n",
    "def time2datetime(df_yearly_dict, feature):\n",
    "    for year in list(df_yearly_dict.keys()):\n",
    "        df_yearly_dict[year][feature] = df_yearly_dict[year][feature].apply(lambda x : x.strftime('%Y-%m-%d %H'))\n",
    "    \n",
    "    return df_yearly_dict"
   ]
  },
  {
   "cell_type": "markdown",
   "metadata": {},
   "source": [
    "`'측정일/월'` 특성을 '년-월-일 시'형식으로 변경한다."
   ]
  },
  {
   "cell_type": "code",
   "execution_count": 8,
   "metadata": {},
   "outputs": [],
   "source": [
    "scb_yearly = time2datetime(scb_yearly, '측정일/월')"
   ]
  },
  {
   "cell_type": "markdown",
   "metadata": {},
   "source": [
    "**2012년도 데이터를 제외한 모든 데이터 통합 함수**"
   ]
  },
  {
   "cell_type": "code",
   "execution_count": 9,
   "metadata": {},
   "outputs": [],
   "source": [
    "# 반환값은 데이터프레임\n",
    "\n",
    "def concat_yearly_df(df_yearly_dict):\n",
    "    df_concat = pd.DataFrame()\n",
    "\n",
    "    for year in list(df_yearly_dict.keys())[1:]:\n",
    "        df_concat = pd.concat([df_concat, df_yearly_dict[year]])\n",
    "\n",
    "    return df_concat"
   ]
  },
  {
   "cell_type": "markdown",
   "metadata": {},
   "source": [
    "**연도별 수질 데이터 통합**"
   ]
  },
  {
   "cell_type": "code",
   "execution_count": 10,
   "metadata": {},
   "outputs": [],
   "source": [
    "# 2013년도부터 통합\n",
    "scb_yearly_df13 = concat_yearly_df(scb_yearly)\n",
    "\n",
    "# 인덱스 재설정\n",
    "scb_yearly_df13 = scb_yearly_df13.reset_index(drop=True)"
   ]
  },
  {
   "cell_type": "markdown",
   "metadata": {},
   "source": [
    "### 유량 데이터 불러오기"
   ]
  },
  {
   "cell_type": "markdown",
   "metadata": {},
   "source": [
    "**10분 단위로 측정된 승촌보 연도별 유량 데이터 불러오기**"
   ]
  },
  {
   "cell_type": "code",
   "execution_count": 11,
   "metadata": {},
   "outputs": [],
   "source": [
    "# `시간` 특성은 date time으로 파싱해서 불러온다.\n",
    "# 반환값은 연도별 데이터프레임으로 구성된 사전. 2012년 ~ 2022년\n",
    "\n",
    "flow_data_file = reservoir+\"_flow.xlsx\"\n",
    "scb_flow_yearly = pd.read_excel(base_path+flow_data_file, \n",
    "# scb_flow_yearly = pd.read_excel(base_path+\"\\Seungchonbo_flow.xlsx\", \n",
    "                            header=0, \n",
    "                            sheet_name=None,\n",
    "                            na_values='ND',\n",
    "                            parse_dates=[0])  # 시간 특성을 date time으로 파싱"
   ]
  },
  {
   "cell_type": "markdown",
   "metadata": {},
   "source": [
    "`시간` 특성을 '년-월-일 시' 형식으로 변경한다. "
   ]
  },
  {
   "cell_type": "code",
   "execution_count": 12,
   "metadata": {},
   "outputs": [],
   "source": [
    "scb_flow_yearly = time2datetime(scb_flow_yearly, '시간')"
   ]
  },
  {
   "cell_type": "markdown",
   "metadata": {},
   "source": [
    "**10분 단위를 1시간 단위로 변경**\n",
    "\n",
    "시간별 평균값을 활용한다."
   ]
  },
  {
   "cell_type": "code",
   "execution_count": 13,
   "metadata": {},
   "outputs": [],
   "source": [
    "scb_flow_yearly_hour = {}\n",
    "\n",
    "# groupby의 as_index=False 옵션 사용. 인덱스 자동 재설정됨.\n",
    "for year in list(scb_flow_yearly.keys()):\n",
    "    scb_flow_yearly_hour[year] = scb_flow_yearly[year].groupby('시간', as_index=False).mean()"
   ]
  },
  {
   "cell_type": "markdown",
   "metadata": {},
   "source": [
    "**연도별 유량 데이터 통합**"
   ]
  },
  {
   "cell_type": "code",
   "execution_count": 14,
   "metadata": {},
   "outputs": [],
   "source": [
    "# 2013년부터 통합\n",
    "scb_flow_yearly_hour_df = concat_yearly_df(scb_flow_yearly_hour)\n",
    "\n",
    "# 인덱스 재설정\n",
    "scb_flow_yearly_hour_df = scb_flow_yearly_hour_df.reset_index(drop=True)"
   ]
  },
  {
   "cell_type": "markdown",
   "metadata": {},
   "source": [
    "### 수질/유량 데이터 합병"
   ]
  },
  {
   "cell_type": "markdown",
   "metadata": {},
   "source": [
    "수질 데이터와 유량 데이터를 `측정일/월`과 `시간` 기준으로 합병한다."
   ]
  },
  {
   "cell_type": "code",
   "execution_count": 15,
   "metadata": {},
   "outputs": [],
   "source": [
    "# 수질 데이터의 `측정일/월` 특성 이름을 `시간`으로 변경\n",
    "scb_yearly_df13 = scb_yearly_df13.rename(columns={'측정일/월':'시간'})\n",
    "\n",
    "# `pd.merge()`에서 `how = 'outer'` 키워드 인자 : 두 데이터에 사용된 모든 시간대의 데이터를 모두 추가한다(합집합).\n",
    "scb_data = pd.merge(scb_yearly_df13, scb_flow_yearly_hour_df, how='outer')\n",
    "\n",
    "# 유량 데이터 2022년도 데이터를 더 많이 포함하기에 삭제 필요.\n",
    "scb_data = scb_data[:len(scb_yearly_df13)]\n",
    "\n",
    "# 유량 특성 이름에 공백이 사용되었기에 특성명에 공백 제거\n",
    "scb_data.columns = [x.strip() for x in list(scb_data.columns)]"
   ]
  },
  {
   "cell_type": "markdown",
   "metadata": {},
   "source": [
    "## 데이터셋 전처리"
   ]
  },
  {
   "cell_type": "markdown",
   "metadata": {},
   "source": [
    "**특성 선택**"
   ]
  },
  {
   "cell_type": "markdown",
   "metadata": {},
   "source": [
    "모델 훈련에 사용하지 않을 특성들은 삭제한다."
   ]
  },
  {
   "cell_type": "code",
   "execution_count": 16,
   "metadata": {},
   "outputs": [],
   "source": [
    "to_be_removed = ['측정소명', '수소이온농도', '용존산소 mg/L', '하류수위(EL.m)', '유입량(㎥/s)']\n",
    "\n",
    "scb_data.drop(to_be_removed, axis=1, inplace=True)"
   ]
  },
  {
   "cell_type": "markdown",
   "metadata": {},
   "source": [
    "남은 특성은 다음과 같다."
   ]
  },
  {
   "cell_type": "code",
   "execution_count": 17,
   "metadata": {},
   "outputs": [
    {
     "data": {
      "text/plain": [
       "['시간',\n",
       " '수온 ℃',\n",
       " '전기전도도 μS/cm',\n",
       " '총유기탄소 mg/L',\n",
       " '총질소 mg/L',\n",
       " '총인 mg/L',\n",
       " '클로로필-a mg/㎥',\n",
       " '상류수위(EL.m)',\n",
       " '방류량(㎥/s)']"
      ]
     },
     "execution_count": 17,
     "metadata": {},
     "output_type": "execute_result"
    }
   ],
   "source": [
    "list(scb_data.columns)"
   ]
  },
  {
   "cell_type": "markdown",
   "metadata": {},
   "source": [
    "## 클로로필-a와 기타 특성과의 관계"
   ]
  },
  {
   "cell_type": "markdown",
   "metadata": {},
   "source": [
    "클로로필-a 수치와 녹조발생 주의보/경보 발령을 기준으로 사용하여 다른 특성들의 수치 변화를 살펴본다."
   ]
  },
  {
   "cell_type": "markdown",
   "metadata": {},
   "source": [
    "| 구분 |클로로필-a (mg/m3) |\n",
    "| :---: | :---: |\n",
    "| 주의보 | 15 |\n",
    "| 경보 | 25 |\n",
    "| 대발생 | 100 |"
   ]
  },
  {
   "cell_type": "markdown",
   "metadata": {},
   "source": [
    "먼저 데이터셋을 복제해서 원본은 유지한다."
   ]
  },
  {
   "cell_type": "code",
   "execution_count": 18,
   "metadata": {},
   "outputs": [],
   "source": [
    "scb_df = scb_data.copy()"
   ]
  },
  {
   "cell_type": "code",
   "execution_count": 19,
   "metadata": {},
   "outputs": [
    {
     "data": {
      "text/plain": [
       "Index(['시간', '수온 ℃', '전기전도도 μS/cm', '총유기탄소 mg/L', '총질소 mg/L', '총인 mg/L',\n",
       "       '클로로필-a mg/㎥', '상류수위(EL.m)', '방류량(㎥/s)'],\n",
       "      dtype='object')"
      ]
     },
     "execution_count": 19,
     "metadata": {},
     "output_type": "execute_result"
    }
   ],
   "source": [
    "scb_df.columns"
   ]
  },
  {
   "cell_type": "markdown",
   "metadata": {},
   "source": [
    "### 1시간 단위로 정리된 데이터를 1일 단위로 변경"
   ]
  },
  {
   "cell_type": "markdown",
   "metadata": {},
   "source": [
    "모든 특성의 일별 평균값을 이용한다."
   ]
  },
  {
   "cell_type": "code",
   "execution_count": 20,
   "metadata": {},
   "outputs": [],
   "source": [
    "scb_df['시간'] = scb_df['시간'].apply(lambda x : datetime.strptime(x, '%Y-%m-%d %H').strftime('%Y-%m-%d'))"
   ]
  },
  {
   "cell_type": "code",
   "execution_count": 21,
   "metadata": {},
   "outputs": [
    {
     "data": {
      "text/html": [
       "<div>\n",
       "<style scoped>\n",
       "    .dataframe tbody tr th:only-of-type {\n",
       "        vertical-align: middle;\n",
       "    }\n",
       "\n",
       "    .dataframe tbody tr th {\n",
       "        vertical-align: top;\n",
       "    }\n",
       "\n",
       "    .dataframe thead th {\n",
       "        text-align: right;\n",
       "    }\n",
       "</style>\n",
       "<table border=\"1\" class=\"dataframe\">\n",
       "  <thead>\n",
       "    <tr style=\"text-align: right;\">\n",
       "      <th></th>\n",
       "      <th>시간</th>\n",
       "      <th>수온 ℃</th>\n",
       "      <th>전기전도도 μS/cm</th>\n",
       "      <th>총유기탄소 mg/L</th>\n",
       "      <th>총질소 mg/L</th>\n",
       "      <th>총인 mg/L</th>\n",
       "      <th>클로로필-a mg/㎥</th>\n",
       "      <th>상류수위(EL.m)</th>\n",
       "      <th>방류량(㎥/s)</th>\n",
       "    </tr>\n",
       "  </thead>\n",
       "  <tbody>\n",
       "    <tr>\n",
       "      <th>0</th>\n",
       "      <td>2013-01-01</td>\n",
       "      <td>4.113043</td>\n",
       "      <td>406.391304</td>\n",
       "      <td>2.791667</td>\n",
       "      <td>NaN</td>\n",
       "      <td>NaN</td>\n",
       "      <td>7.025000</td>\n",
       "      <td>7.490903</td>\n",
       "      <td>18.733472</td>\n",
       "    </tr>\n",
       "    <tr>\n",
       "      <th>1</th>\n",
       "      <td>2013-01-02</td>\n",
       "      <td>4.282609</td>\n",
       "      <td>431.260870</td>\n",
       "      <td>2.839130</td>\n",
       "      <td>NaN</td>\n",
       "      <td>NaN</td>\n",
       "      <td>7.056522</td>\n",
       "      <td>7.501458</td>\n",
       "      <td>18.929167</td>\n",
       "    </tr>\n",
       "    <tr>\n",
       "      <th>2</th>\n",
       "      <td>2013-01-03</td>\n",
       "      <td>3.830435</td>\n",
       "      <td>416.565217</td>\n",
       "      <td>3.058333</td>\n",
       "      <td>NaN</td>\n",
       "      <td>NaN</td>\n",
       "      <td>7.195833</td>\n",
       "      <td>7.499236</td>\n",
       "      <td>16.621250</td>\n",
       "    </tr>\n",
       "    <tr>\n",
       "      <th>3</th>\n",
       "      <td>2013-01-04</td>\n",
       "      <td>3.313043</td>\n",
       "      <td>402.000000</td>\n",
       "      <td>2.730435</td>\n",
       "      <td>NaN</td>\n",
       "      <td>NaN</td>\n",
       "      <td>7.126087</td>\n",
       "      <td>7.489722</td>\n",
       "      <td>15.805556</td>\n",
       "    </tr>\n",
       "    <tr>\n",
       "      <th>4</th>\n",
       "      <td>2013-01-05</td>\n",
       "      <td>3.165217</td>\n",
       "      <td>409.304348</td>\n",
       "      <td>2.800000</td>\n",
       "      <td>NaN</td>\n",
       "      <td>NaN</td>\n",
       "      <td>7.220833</td>\n",
       "      <td>7.494722</td>\n",
       "      <td>13.062361</td>\n",
       "    </tr>\n",
       "    <tr>\n",
       "      <th>...</th>\n",
       "      <td>...</td>\n",
       "      <td>...</td>\n",
       "      <td>...</td>\n",
       "      <td>...</td>\n",
       "      <td>...</td>\n",
       "      <td>...</td>\n",
       "      <td>...</td>\n",
       "      <td>...</td>\n",
       "      <td>...</td>\n",
       "    </tr>\n",
       "    <tr>\n",
       "      <th>3425</th>\n",
       "      <td>2022-05-19</td>\n",
       "      <td>21.933333</td>\n",
       "      <td>477.380952</td>\n",
       "      <td>6.066667</td>\n",
       "      <td>7.954952</td>\n",
       "      <td>0.096714</td>\n",
       "      <td>48.766667</td>\n",
       "      <td>5.422292</td>\n",
       "      <td>6.935208</td>\n",
       "    </tr>\n",
       "    <tr>\n",
       "      <th>3426</th>\n",
       "      <td>2022-05-20</td>\n",
       "      <td>22.391304</td>\n",
       "      <td>469.434783</td>\n",
       "      <td>6.323810</td>\n",
       "      <td>7.994000</td>\n",
       "      <td>0.094545</td>\n",
       "      <td>54.026087</td>\n",
       "      <td>5.483750</td>\n",
       "      <td>8.437014</td>\n",
       "    </tr>\n",
       "    <tr>\n",
       "      <th>3427</th>\n",
       "      <td>2022-05-21</td>\n",
       "      <td>23.054167</td>\n",
       "      <td>460.041667</td>\n",
       "      <td>6.162500</td>\n",
       "      <td>7.449708</td>\n",
       "      <td>0.107333</td>\n",
       "      <td>56.941667</td>\n",
       "      <td>5.530972</td>\n",
       "      <td>12.939444</td>\n",
       "    </tr>\n",
       "    <tr>\n",
       "      <th>3428</th>\n",
       "      <td>2022-05-22</td>\n",
       "      <td>24.270833</td>\n",
       "      <td>459.000000</td>\n",
       "      <td>6.020833</td>\n",
       "      <td>7.154875</td>\n",
       "      <td>0.092583</td>\n",
       "      <td>53.133333</td>\n",
       "      <td>5.459792</td>\n",
       "      <td>10.072014</td>\n",
       "    </tr>\n",
       "    <tr>\n",
       "      <th>3429</th>\n",
       "      <td>2022-05-23</td>\n",
       "      <td>25.213636</td>\n",
       "      <td>436.227273</td>\n",
       "      <td>6.273684</td>\n",
       "      <td>6.103143</td>\n",
       "      <td>0.098476</td>\n",
       "      <td>55.368182</td>\n",
       "      <td>5.471667</td>\n",
       "      <td>12.829653</td>\n",
       "    </tr>\n",
       "  </tbody>\n",
       "</table>\n",
       "<p>3430 rows × 9 columns</p>\n",
       "</div>"
      ],
      "text/plain": [
       "              시간       수온 ℃  전기전도도 μS/cm  총유기탄소 mg/L  총질소 mg/L   총인 mg/L  \\\n",
       "0     2013-01-01   4.113043   406.391304    2.791667       NaN       NaN   \n",
       "1     2013-01-02   4.282609   431.260870    2.839130       NaN       NaN   \n",
       "2     2013-01-03   3.830435   416.565217    3.058333       NaN       NaN   \n",
       "3     2013-01-04   3.313043   402.000000    2.730435       NaN       NaN   \n",
       "4     2013-01-05   3.165217   409.304348    2.800000       NaN       NaN   \n",
       "...          ...        ...          ...         ...       ...       ...   \n",
       "3425  2022-05-19  21.933333   477.380952    6.066667  7.954952  0.096714   \n",
       "3426  2022-05-20  22.391304   469.434783    6.323810  7.994000  0.094545   \n",
       "3427  2022-05-21  23.054167   460.041667    6.162500  7.449708  0.107333   \n",
       "3428  2022-05-22  24.270833   459.000000    6.020833  7.154875  0.092583   \n",
       "3429  2022-05-23  25.213636   436.227273    6.273684  6.103143  0.098476   \n",
       "\n",
       "      클로로필-a mg/㎥  상류수위(EL.m)   방류량(㎥/s)  \n",
       "0        7.025000    7.490903  18.733472  \n",
       "1        7.056522    7.501458  18.929167  \n",
       "2        7.195833    7.499236  16.621250  \n",
       "3        7.126087    7.489722  15.805556  \n",
       "4        7.220833    7.494722  13.062361  \n",
       "...           ...         ...        ...  \n",
       "3425    48.766667    5.422292   6.935208  \n",
       "3426    54.026087    5.483750   8.437014  \n",
       "3427    56.941667    5.530972  12.939444  \n",
       "3428    53.133333    5.459792  10.072014  \n",
       "3429    55.368182    5.471667  12.829653  \n",
       "\n",
       "[3430 rows x 9 columns]"
      ]
     },
     "execution_count": 21,
     "metadata": {},
     "output_type": "execute_result"
    }
   ],
   "source": [
    "# groupby의 as_index=False 옵션 사용. 인덱스 자동 재설정됨.\n",
    "scb_df_daily = scb_df.groupby('시간', as_index=False).mean()\n",
    "\n",
    "scb_df_daily"
   ]
  },
  {
   "cell_type": "markdown",
   "metadata": {},
   "source": [
    "## 클로로필-a 과 녹조경보 연관성 조사"
   ]
  },
  {
   "cell_type": "markdown",
   "metadata": {},
   "source": [
    "**클로로필-a: 15 이상 2주동안 지속되는 경우**"
   ]
  },
  {
   "cell_type": "code",
   "execution_count": 22,
   "metadata": {},
   "outputs": [
    {
     "data": {
      "text/html": [
       "<div>\n",
       "<style scoped>\n",
       "    .dataframe tbody tr th:only-of-type {\n",
       "        vertical-align: middle;\n",
       "    }\n",
       "\n",
       "    .dataframe tbody tr th {\n",
       "        vertical-align: top;\n",
       "    }\n",
       "\n",
       "    .dataframe thead th {\n",
       "        text-align: right;\n",
       "    }\n",
       "</style>\n",
       "<table border=\"1\" class=\"dataframe\">\n",
       "  <thead>\n",
       "    <tr style=\"text-align: right;\">\n",
       "      <th></th>\n",
       "      <th>수온 ℃</th>\n",
       "      <th>전기전도도 μS/cm</th>\n",
       "      <th>총유기탄소 mg/L</th>\n",
       "      <th>총질소 mg/L</th>\n",
       "      <th>총인 mg/L</th>\n",
       "      <th>클로로필-a mg/㎥</th>\n",
       "      <th>상류수위(EL.m)</th>\n",
       "      <th>방류량(㎥/s)</th>\n",
       "    </tr>\n",
       "  </thead>\n",
       "  <tbody>\n",
       "    <tr>\n",
       "      <th>count</th>\n",
       "      <td>1440.000000</td>\n",
       "      <td>1440.000000</td>\n",
       "      <td>1316.000000</td>\n",
       "      <td>1395.000000</td>\n",
       "      <td>1391.000000</td>\n",
       "      <td>1445.000000</td>\n",
       "      <td>1445.000000</td>\n",
       "      <td>1445.000000</td>\n",
       "    </tr>\n",
       "    <tr>\n",
       "      <th>mean</th>\n",
       "      <td>17.344083</td>\n",
       "      <td>368.767635</td>\n",
       "      <td>4.617135</td>\n",
       "      <td>5.800716</td>\n",
       "      <td>0.113522</td>\n",
       "      <td>65.327176</td>\n",
       "      <td>6.756246</td>\n",
       "      <td>18.339211</td>\n",
       "    </tr>\n",
       "    <tr>\n",
       "      <th>std</th>\n",
       "      <td>7.725484</td>\n",
       "      <td>73.387936</td>\n",
       "      <td>0.938584</td>\n",
       "      <td>1.996815</td>\n",
       "      <td>0.061915</td>\n",
       "      <td>32.482058</td>\n",
       "      <td>0.856470</td>\n",
       "      <td>25.034152</td>\n",
       "    </tr>\n",
       "    <tr>\n",
       "      <th>min</th>\n",
       "      <td>3.154167</td>\n",
       "      <td>150.708333</td>\n",
       "      <td>1.980000</td>\n",
       "      <td>1.019625</td>\n",
       "      <td>0.007583</td>\n",
       "      <td>15.008333</td>\n",
       "      <td>4.799236</td>\n",
       "      <td>0.000000</td>\n",
       "    </tr>\n",
       "    <tr>\n",
       "      <th>25%</th>\n",
       "      <td>9.916250</td>\n",
       "      <td>312.146739</td>\n",
       "      <td>3.957292</td>\n",
       "      <td>4.363167</td>\n",
       "      <td>0.072354</td>\n",
       "      <td>38.920833</td>\n",
       "      <td>5.981389</td>\n",
       "      <td>10.386806</td>\n",
       "    </tr>\n",
       "    <tr>\n",
       "      <th>50%</th>\n",
       "      <td>17.030072</td>\n",
       "      <td>369.518640</td>\n",
       "      <td>4.537500</td>\n",
       "      <td>5.748792</td>\n",
       "      <td>0.100500</td>\n",
       "      <td>61.258333</td>\n",
       "      <td>7.390347</td>\n",
       "      <td>13.310347</td>\n",
       "    </tr>\n",
       "    <tr>\n",
       "      <th>75%</th>\n",
       "      <td>24.372733</td>\n",
       "      <td>427.147727</td>\n",
       "      <td>5.190683</td>\n",
       "      <td>7.204708</td>\n",
       "      <td>0.138504</td>\n",
       "      <td>86.825000</td>\n",
       "      <td>7.511736</td>\n",
       "      <td>19.424792</td>\n",
       "    </tr>\n",
       "    <tr>\n",
       "      <th>max</th>\n",
       "      <td>33.571429</td>\n",
       "      <td>599.333333</td>\n",
       "      <td>8.536842</td>\n",
       "      <td>12.105417</td>\n",
       "      <td>0.601174</td>\n",
       "      <td>216.895238</td>\n",
       "      <td>7.704097</td>\n",
       "      <td>527.370694</td>\n",
       "    </tr>\n",
       "  </tbody>\n",
       "</table>\n",
       "</div>"
      ],
      "text/plain": [
       "              수온 ℃  전기전도도 μS/cm   총유기탄소 mg/L     총질소 mg/L      총인 mg/L  \\\n",
       "count  1440.000000  1440.000000  1316.000000  1395.000000  1391.000000   \n",
       "mean     17.344083   368.767635     4.617135     5.800716     0.113522   \n",
       "std       7.725484    73.387936     0.938584     1.996815     0.061915   \n",
       "min       3.154167   150.708333     1.980000     1.019625     0.007583   \n",
       "25%       9.916250   312.146739     3.957292     4.363167     0.072354   \n",
       "50%      17.030072   369.518640     4.537500     5.748792     0.100500   \n",
       "75%      24.372733   427.147727     5.190683     7.204708     0.138504   \n",
       "max      33.571429   599.333333     8.536842    12.105417     0.601174   \n",
       "\n",
       "       클로로필-a mg/㎥   상류수위(EL.m)     방류량(㎥/s)  \n",
       "count  1445.000000  1445.000000  1445.000000  \n",
       "mean     65.327176     6.756246    18.339211  \n",
       "std      32.482058     0.856470    25.034152  \n",
       "min      15.008333     4.799236     0.000000  \n",
       "25%      38.920833     5.981389    10.386806  \n",
       "50%      61.258333     7.390347    13.310347  \n",
       "75%      86.825000     7.511736    19.424792  \n",
       "max     216.895238     7.704097   527.370694  "
      ]
     },
     "execution_count": 22,
     "metadata": {},
     "output_type": "execute_result"
    }
   ],
   "source": [
    "mask15 = scb_df_daily['클로로필-a mg/㎥'].rolling(window=14).min() >= 15\n",
    "\n",
    "scb_df_daily[mask15].describe()"
   ]
  },
  {
   "cell_type": "markdown",
   "metadata": {},
   "source": [
    "**클로로필-a: 25 이상 2주동안 지속되는 경우**"
   ]
  },
  {
   "cell_type": "code",
   "execution_count": 23,
   "metadata": {},
   "outputs": [
    {
     "data": {
      "text/html": [
       "<div>\n",
       "<style scoped>\n",
       "    .dataframe tbody tr th:only-of-type {\n",
       "        vertical-align: middle;\n",
       "    }\n",
       "\n",
       "    .dataframe tbody tr th {\n",
       "        vertical-align: top;\n",
       "    }\n",
       "\n",
       "    .dataframe thead th {\n",
       "        text-align: right;\n",
       "    }\n",
       "</style>\n",
       "<table border=\"1\" class=\"dataframe\">\n",
       "  <thead>\n",
       "    <tr style=\"text-align: right;\">\n",
       "      <th></th>\n",
       "      <th>수온 ℃</th>\n",
       "      <th>전기전도도 μS/cm</th>\n",
       "      <th>총유기탄소 mg/L</th>\n",
       "      <th>총질소 mg/L</th>\n",
       "      <th>총인 mg/L</th>\n",
       "      <th>클로로필-a mg/㎥</th>\n",
       "      <th>상류수위(EL.m)</th>\n",
       "      <th>방류량(㎥/s)</th>\n",
       "    </tr>\n",
       "  </thead>\n",
       "  <tbody>\n",
       "    <tr>\n",
       "      <th>count</th>\n",
       "      <td>984.000000</td>\n",
       "      <td>984.000000</td>\n",
       "      <td>918.000000</td>\n",
       "      <td>954.000000</td>\n",
       "      <td>946.000000</td>\n",
       "      <td>988.000000</td>\n",
       "      <td>988.000000</td>\n",
       "      <td>988.000000</td>\n",
       "    </tr>\n",
       "    <tr>\n",
       "      <th>mean</th>\n",
       "      <td>16.363852</td>\n",
       "      <td>378.136313</td>\n",
       "      <td>4.625165</td>\n",
       "      <td>5.979717</td>\n",
       "      <td>0.111937</td>\n",
       "      <td>73.168973</td>\n",
       "      <td>6.621113</td>\n",
       "      <td>17.021399</td>\n",
       "    </tr>\n",
       "    <tr>\n",
       "      <th>std</th>\n",
       "      <td>8.049048</td>\n",
       "      <td>73.616102</td>\n",
       "      <td>0.908443</td>\n",
       "      <td>2.149805</td>\n",
       "      <td>0.063883</td>\n",
       "      <td>30.368973</td>\n",
       "      <td>0.851656</td>\n",
       "      <td>22.205000</td>\n",
       "    </tr>\n",
       "    <tr>\n",
       "      <th>min</th>\n",
       "      <td>3.154167</td>\n",
       "      <td>150.708333</td>\n",
       "      <td>2.737500</td>\n",
       "      <td>1.019625</td>\n",
       "      <td>0.007583</td>\n",
       "      <td>25.070833</td>\n",
       "      <td>5.337917</td>\n",
       "      <td>0.000000</td>\n",
       "    </tr>\n",
       "    <tr>\n",
       "      <th>25%</th>\n",
       "      <td>8.998201</td>\n",
       "      <td>322.020833</td>\n",
       "      <td>4.004212</td>\n",
       "      <td>4.385604</td>\n",
       "      <td>0.070302</td>\n",
       "      <td>48.447431</td>\n",
       "      <td>5.966806</td>\n",
       "      <td>9.749427</td>\n",
       "    </tr>\n",
       "    <tr>\n",
       "      <th>50%</th>\n",
       "      <td>15.306250</td>\n",
       "      <td>384.496212</td>\n",
       "      <td>4.491667</td>\n",
       "      <td>5.958792</td>\n",
       "      <td>0.097957</td>\n",
       "      <td>70.743750</td>\n",
       "      <td>6.040590</td>\n",
       "      <td>12.640833</td>\n",
       "    </tr>\n",
       "    <tr>\n",
       "      <th>75%</th>\n",
       "      <td>23.918845</td>\n",
       "      <td>439.835227</td>\n",
       "      <td>5.156399</td>\n",
       "      <td>7.610850</td>\n",
       "      <td>0.136988</td>\n",
       "      <td>92.559375</td>\n",
       "      <td>7.505712</td>\n",
       "      <td>18.554219</td>\n",
       "    </tr>\n",
       "    <tr>\n",
       "      <th>max</th>\n",
       "      <td>33.571429</td>\n",
       "      <td>559.000000</td>\n",
       "      <td>8.536842</td>\n",
       "      <td>12.105417</td>\n",
       "      <td>0.601174</td>\n",
       "      <td>184.663158</td>\n",
       "      <td>7.671319</td>\n",
       "      <td>527.370694</td>\n",
       "    </tr>\n",
       "  </tbody>\n",
       "</table>\n",
       "</div>"
      ],
      "text/plain": [
       "             수온 ℃  전기전도도 μS/cm  총유기탄소 mg/L    총질소 mg/L     총인 mg/L  \\\n",
       "count  984.000000   984.000000  918.000000  954.000000  946.000000   \n",
       "mean    16.363852   378.136313    4.625165    5.979717    0.111937   \n",
       "std      8.049048    73.616102    0.908443    2.149805    0.063883   \n",
       "min      3.154167   150.708333    2.737500    1.019625    0.007583   \n",
       "25%      8.998201   322.020833    4.004212    4.385604    0.070302   \n",
       "50%     15.306250   384.496212    4.491667    5.958792    0.097957   \n",
       "75%     23.918845   439.835227    5.156399    7.610850    0.136988   \n",
       "max     33.571429   559.000000    8.536842   12.105417    0.601174   \n",
       "\n",
       "       클로로필-a mg/㎥  상류수위(EL.m)    방류량(㎥/s)  \n",
       "count   988.000000  988.000000  988.000000  \n",
       "mean     73.168973    6.621113   17.021399  \n",
       "std      30.368973    0.851656   22.205000  \n",
       "min      25.070833    5.337917    0.000000  \n",
       "25%      48.447431    5.966806    9.749427  \n",
       "50%      70.743750    6.040590   12.640833  \n",
       "75%      92.559375    7.505712   18.554219  \n",
       "max     184.663158    7.671319  527.370694  "
      ]
     },
     "execution_count": 23,
     "metadata": {},
     "output_type": "execute_result"
    }
   ],
   "source": [
    "mask25 = scb_df_daily['클로로필-a mg/㎥'].rolling(window=14).min() >= 25\n",
    "\n",
    "scb_df_daily[mask25].describe()"
   ]
  },
  {
   "cell_type": "markdown",
   "metadata": {},
   "source": [
    "**클로로필-a: 50 이상 2주동안 지속되는 경우**"
   ]
  },
  {
   "cell_type": "code",
   "execution_count": 24,
   "metadata": {},
   "outputs": [
    {
     "data": {
      "text/html": [
       "<div>\n",
       "<style scoped>\n",
       "    .dataframe tbody tr th:only-of-type {\n",
       "        vertical-align: middle;\n",
       "    }\n",
       "\n",
       "    .dataframe tbody tr th {\n",
       "        vertical-align: top;\n",
       "    }\n",
       "\n",
       "    .dataframe thead th {\n",
       "        text-align: right;\n",
       "    }\n",
       "</style>\n",
       "<table border=\"1\" class=\"dataframe\">\n",
       "  <thead>\n",
       "    <tr style=\"text-align: right;\">\n",
       "      <th></th>\n",
       "      <th>수온 ℃</th>\n",
       "      <th>전기전도도 μS/cm</th>\n",
       "      <th>총유기탄소 mg/L</th>\n",
       "      <th>총질소 mg/L</th>\n",
       "      <th>총인 mg/L</th>\n",
       "      <th>클로로필-a mg/㎥</th>\n",
       "      <th>상류수위(EL.m)</th>\n",
       "      <th>방류량(㎥/s)</th>\n",
       "    </tr>\n",
       "  </thead>\n",
       "  <tbody>\n",
       "    <tr>\n",
       "      <th>count</th>\n",
       "      <td>295.000000</td>\n",
       "      <td>295.000000</td>\n",
       "      <td>273.000000</td>\n",
       "      <td>284.000000</td>\n",
       "      <td>280.000000</td>\n",
       "      <td>299.000000</td>\n",
       "      <td>299.000000</td>\n",
       "      <td>299.000000</td>\n",
       "    </tr>\n",
       "    <tr>\n",
       "      <th>mean</th>\n",
       "      <td>14.411360</td>\n",
       "      <td>400.709529</td>\n",
       "      <td>5.004242</td>\n",
       "      <td>6.654920</td>\n",
       "      <td>0.101800</td>\n",
       "      <td>98.168148</td>\n",
       "      <td>6.218915</td>\n",
       "      <td>13.278674</td>\n",
       "    </tr>\n",
       "    <tr>\n",
       "      <th>std</th>\n",
       "      <td>7.919687</td>\n",
       "      <td>54.748235</td>\n",
       "      <td>0.878793</td>\n",
       "      <td>2.189976</td>\n",
       "      <td>0.049811</td>\n",
       "      <td>26.636481</td>\n",
       "      <td>0.720535</td>\n",
       "      <td>11.941054</td>\n",
       "    </tr>\n",
       "    <tr>\n",
       "      <th>min</th>\n",
       "      <td>4.733333</td>\n",
       "      <td>243.500000</td>\n",
       "      <td>3.150000</td>\n",
       "      <td>2.337600</td>\n",
       "      <td>0.015875</td>\n",
       "      <td>52.078261</td>\n",
       "      <td>5.337917</td>\n",
       "      <td>0.000000</td>\n",
       "    </tr>\n",
       "    <tr>\n",
       "      <th>25%</th>\n",
       "      <td>7.585417</td>\n",
       "      <td>361.038949</td>\n",
       "      <td>4.356250</td>\n",
       "      <td>4.906134</td>\n",
       "      <td>0.069344</td>\n",
       "      <td>77.412500</td>\n",
       "      <td>5.953819</td>\n",
       "      <td>8.597708</td>\n",
       "    </tr>\n",
       "    <tr>\n",
       "      <th>50%</th>\n",
       "      <td>12.578571</td>\n",
       "      <td>413.333333</td>\n",
       "      <td>4.870000</td>\n",
       "      <td>6.576729</td>\n",
       "      <td>0.093354</td>\n",
       "      <td>94.562500</td>\n",
       "      <td>5.990139</td>\n",
       "      <td>10.939236</td>\n",
       "    </tr>\n",
       "    <tr>\n",
       "      <th>75%</th>\n",
       "      <td>18.408333</td>\n",
       "      <td>443.895833</td>\n",
       "      <td>5.479167</td>\n",
       "      <td>8.520579</td>\n",
       "      <td>0.117781</td>\n",
       "      <td>117.080616</td>\n",
       "      <td>6.026701</td>\n",
       "      <td>13.580000</td>\n",
       "    </tr>\n",
       "    <tr>\n",
       "      <th>max</th>\n",
       "      <td>32.926087</td>\n",
       "      <td>526.739130</td>\n",
       "      <td>7.691304</td>\n",
       "      <td>11.166100</td>\n",
       "      <td>0.390529</td>\n",
       "      <td>184.663158</td>\n",
       "      <td>7.671319</td>\n",
       "      <td>154.341389</td>\n",
       "    </tr>\n",
       "  </tbody>\n",
       "</table>\n",
       "</div>"
      ],
      "text/plain": [
       "             수온 ℃  전기전도도 μS/cm  총유기탄소 mg/L    총질소 mg/L     총인 mg/L  \\\n",
       "count  295.000000   295.000000  273.000000  284.000000  280.000000   \n",
       "mean    14.411360   400.709529    5.004242    6.654920    0.101800   \n",
       "std      7.919687    54.748235    0.878793    2.189976    0.049811   \n",
       "min      4.733333   243.500000    3.150000    2.337600    0.015875   \n",
       "25%      7.585417   361.038949    4.356250    4.906134    0.069344   \n",
       "50%     12.578571   413.333333    4.870000    6.576729    0.093354   \n",
       "75%     18.408333   443.895833    5.479167    8.520579    0.117781   \n",
       "max     32.926087   526.739130    7.691304   11.166100    0.390529   \n",
       "\n",
       "       클로로필-a mg/㎥  상류수위(EL.m)    방류량(㎥/s)  \n",
       "count   299.000000  299.000000  299.000000  \n",
       "mean     98.168148    6.218915   13.278674  \n",
       "std      26.636481    0.720535   11.941054  \n",
       "min      52.078261    5.337917    0.000000  \n",
       "25%      77.412500    5.953819    8.597708  \n",
       "50%      94.562500    5.990139   10.939236  \n",
       "75%     117.080616    6.026701   13.580000  \n",
       "max     184.663158    7.671319  154.341389  "
      ]
     },
     "execution_count": 24,
     "metadata": {},
     "output_type": "execute_result"
    }
   ],
   "source": [
    "mask50 = scb_df_daily['클로로필-a mg/㎥'].rolling(window=14).min() >= 50\n",
    "\n",
    "scb_df_daily[mask50].describe()"
   ]
  },
  {
   "cell_type": "markdown",
   "metadata": {},
   "source": [
    "시기 확인"
   ]
  },
  {
   "cell_type": "code",
   "execution_count": 25,
   "metadata": {},
   "outputs": [
    {
     "data": {
      "text/html": [
       "<div>\n",
       "<style scoped>\n",
       "    .dataframe tbody tr th:only-of-type {\n",
       "        vertical-align: middle;\n",
       "    }\n",
       "\n",
       "    .dataframe tbody tr th {\n",
       "        vertical-align: top;\n",
       "    }\n",
       "\n",
       "    .dataframe thead th {\n",
       "        text-align: right;\n",
       "    }\n",
       "</style>\n",
       "<table border=\"1\" class=\"dataframe\">\n",
       "  <thead>\n",
       "    <tr style=\"text-align: right;\">\n",
       "      <th></th>\n",
       "      <th>시간</th>\n",
       "      <th>수온 ℃</th>\n",
       "      <th>전기전도도 μS/cm</th>\n",
       "      <th>총유기탄소 mg/L</th>\n",
       "      <th>총질소 mg/L</th>\n",
       "      <th>총인 mg/L</th>\n",
       "      <th>클로로필-a mg/㎥</th>\n",
       "      <th>상류수위(EL.m)</th>\n",
       "      <th>방류량(㎥/s)</th>\n",
       "    </tr>\n",
       "  </thead>\n",
       "  <tbody>\n",
       "    <tr>\n",
       "      <th>225</th>\n",
       "      <td>2013-08-14</td>\n",
       "      <td>32.663636</td>\n",
       "      <td>269.863636</td>\n",
       "      <td>4.100000</td>\n",
       "      <td>2.962625</td>\n",
       "      <td>0.060667</td>\n",
       "      <td>67.104545</td>\n",
       "      <td>7.577639</td>\n",
       "      <td>15.610556</td>\n",
       "    </tr>\n",
       "    <tr>\n",
       "      <th>226</th>\n",
       "      <td>2013-08-15</td>\n",
       "      <td>32.686957</td>\n",
       "      <td>280.869565</td>\n",
       "      <td>4.579167</td>\n",
       "      <td>3.124458</td>\n",
       "      <td>0.065708</td>\n",
       "      <td>70.941667</td>\n",
       "      <td>7.580000</td>\n",
       "      <td>16.280000</td>\n",
       "    </tr>\n",
       "    <tr>\n",
       "      <th>227</th>\n",
       "      <td>2013-08-16</td>\n",
       "      <td>32.526087</td>\n",
       "      <td>291.826087</td>\n",
       "      <td>4.139130</td>\n",
       "      <td>3.375625</td>\n",
       "      <td>0.062833</td>\n",
       "      <td>78.878261</td>\n",
       "      <td>7.580000</td>\n",
       "      <td>16.280000</td>\n",
       "    </tr>\n",
       "    <tr>\n",
       "      <th>228</th>\n",
       "      <td>2013-08-17</td>\n",
       "      <td>32.213043</td>\n",
       "      <td>305.652174</td>\n",
       "      <td>4.325000</td>\n",
       "      <td>3.472250</td>\n",
       "      <td>0.093667</td>\n",
       "      <td>79.320833</td>\n",
       "      <td>7.583681</td>\n",
       "      <td>17.330625</td>\n",
       "    </tr>\n",
       "    <tr>\n",
       "      <th>229</th>\n",
       "      <td>2013-08-18</td>\n",
       "      <td>32.641667</td>\n",
       "      <td>310.958333</td>\n",
       "      <td>4.204167</td>\n",
       "      <td>3.231083</td>\n",
       "      <td>0.109917</td>\n",
       "      <td>82.475000</td>\n",
       "      <td>7.593264</td>\n",
       "      <td>20.071458</td>\n",
       "    </tr>\n",
       "    <tr>\n",
       "      <th>...</th>\n",
       "      <td>...</td>\n",
       "      <td>...</td>\n",
       "      <td>...</td>\n",
       "      <td>...</td>\n",
       "      <td>...</td>\n",
       "      <td>...</td>\n",
       "      <td>...</td>\n",
       "      <td>...</td>\n",
       "      <td>...</td>\n",
       "    </tr>\n",
       "    <tr>\n",
       "      <th>3345</th>\n",
       "      <td>2022-02-28</td>\n",
       "      <td>8.965217</td>\n",
       "      <td>435.043478</td>\n",
       "      <td>5.991304</td>\n",
       "      <td>9.401286</td>\n",
       "      <td>0.086952</td>\n",
       "      <td>122.778261</td>\n",
       "      <td>5.953472</td>\n",
       "      <td>6.833333</td>\n",
       "    </tr>\n",
       "    <tr>\n",
       "      <th>3346</th>\n",
       "      <td>2022-03-01</td>\n",
       "      <td>9.787500</td>\n",
       "      <td>444.083333</td>\n",
       "      <td>5.991667</td>\n",
       "      <td>NaN</td>\n",
       "      <td>0.078167</td>\n",
       "      <td>119.037500</td>\n",
       "      <td>5.984931</td>\n",
       "      <td>11.018819</td>\n",
       "    </tr>\n",
       "    <tr>\n",
       "      <th>3347</th>\n",
       "      <td>2022-03-02</td>\n",
       "      <td>9.736364</td>\n",
       "      <td>449.636364</td>\n",
       "      <td>6.077778</td>\n",
       "      <td>NaN</td>\n",
       "      <td>NaN</td>\n",
       "      <td>117.491667</td>\n",
       "      <td>5.960903</td>\n",
       "      <td>8.955486</td>\n",
       "    </tr>\n",
       "    <tr>\n",
       "      <th>3389</th>\n",
       "      <td>2022-04-13</td>\n",
       "      <td>21.470833</td>\n",
       "      <td>380.916667</td>\n",
       "      <td>4.837500</td>\n",
       "      <td>NaN</td>\n",
       "      <td>0.081000</td>\n",
       "      <td>78.575000</td>\n",
       "      <td>5.456250</td>\n",
       "      <td>10.418472</td>\n",
       "    </tr>\n",
       "    <tr>\n",
       "      <th>3390</th>\n",
       "      <td>2022-04-14</td>\n",
       "      <td>20.477273</td>\n",
       "      <td>411.909091</td>\n",
       "      <td>4.959091</td>\n",
       "      <td>7.674000</td>\n",
       "      <td>0.109542</td>\n",
       "      <td>71.727273</td>\n",
       "      <td>5.515903</td>\n",
       "      <td>12.863750</td>\n",
       "    </tr>\n",
       "  </tbody>\n",
       "</table>\n",
       "<p>299 rows × 9 columns</p>\n",
       "</div>"
      ],
      "text/plain": [
       "              시간       수온 ℃  전기전도도 μS/cm  총유기탄소 mg/L  총질소 mg/L   총인 mg/L  \\\n",
       "225   2013-08-14  32.663636   269.863636    4.100000  2.962625  0.060667   \n",
       "226   2013-08-15  32.686957   280.869565    4.579167  3.124458  0.065708   \n",
       "227   2013-08-16  32.526087   291.826087    4.139130  3.375625  0.062833   \n",
       "228   2013-08-17  32.213043   305.652174    4.325000  3.472250  0.093667   \n",
       "229   2013-08-18  32.641667   310.958333    4.204167  3.231083  0.109917   \n",
       "...          ...        ...          ...         ...       ...       ...   \n",
       "3345  2022-02-28   8.965217   435.043478    5.991304  9.401286  0.086952   \n",
       "3346  2022-03-01   9.787500   444.083333    5.991667       NaN  0.078167   \n",
       "3347  2022-03-02   9.736364   449.636364    6.077778       NaN       NaN   \n",
       "3389  2022-04-13  21.470833   380.916667    4.837500       NaN  0.081000   \n",
       "3390  2022-04-14  20.477273   411.909091    4.959091  7.674000  0.109542   \n",
       "\n",
       "      클로로필-a mg/㎥  상류수위(EL.m)   방류량(㎥/s)  \n",
       "225     67.104545    7.577639  15.610556  \n",
       "226     70.941667    7.580000  16.280000  \n",
       "227     78.878261    7.580000  16.280000  \n",
       "228     79.320833    7.583681  17.330625  \n",
       "229     82.475000    7.593264  20.071458  \n",
       "...           ...         ...        ...  \n",
       "3345   122.778261    5.953472   6.833333  \n",
       "3346   119.037500    5.984931  11.018819  \n",
       "3347   117.491667    5.960903   8.955486  \n",
       "3389    78.575000    5.456250  10.418472  \n",
       "3390    71.727273    5.515903  12.863750  \n",
       "\n",
       "[299 rows x 9 columns]"
      ]
     },
     "execution_count": 25,
     "metadata": {},
     "output_type": "execute_result"
    }
   ],
   "source": [
    "scb_df_daily[mask50]"
   ]
  },
  {
   "cell_type": "markdown",
   "metadata": {},
   "source": [
    "**클로로필-a: 100 이상 2주동안 지속되는 경우**"
   ]
  },
  {
   "cell_type": "code",
   "execution_count": 26,
   "metadata": {},
   "outputs": [
    {
     "data": {
      "text/html": [
       "<div>\n",
       "<style scoped>\n",
       "    .dataframe tbody tr th:only-of-type {\n",
       "        vertical-align: middle;\n",
       "    }\n",
       "\n",
       "    .dataframe tbody tr th {\n",
       "        vertical-align: top;\n",
       "    }\n",
       "\n",
       "    .dataframe thead th {\n",
       "        text-align: right;\n",
       "    }\n",
       "</style>\n",
       "<table border=\"1\" class=\"dataframe\">\n",
       "  <thead>\n",
       "    <tr style=\"text-align: right;\">\n",
       "      <th></th>\n",
       "      <th>수온 ℃</th>\n",
       "      <th>전기전도도 μS/cm</th>\n",
       "      <th>총유기탄소 mg/L</th>\n",
       "      <th>총질소 mg/L</th>\n",
       "      <th>총인 mg/L</th>\n",
       "      <th>클로로필-a mg/㎥</th>\n",
       "      <th>상류수위(EL.m)</th>\n",
       "      <th>방류량(㎥/s)</th>\n",
       "    </tr>\n",
       "  </thead>\n",
       "  <tbody>\n",
       "    <tr>\n",
       "      <th>count</th>\n",
       "      <td>15.000000</td>\n",
       "      <td>15.000000</td>\n",
       "      <td>14.000000</td>\n",
       "      <td>12.000000</td>\n",
       "      <td>14.000000</td>\n",
       "      <td>15.000000</td>\n",
       "      <td>15.000000</td>\n",
       "      <td>15.000000</td>\n",
       "    </tr>\n",
       "    <tr>\n",
       "      <th>mean</th>\n",
       "      <td>7.643970</td>\n",
       "      <td>449.625154</td>\n",
       "      <td>5.595887</td>\n",
       "      <td>10.217116</td>\n",
       "      <td>0.104333</td>\n",
       "      <td>124.862947</td>\n",
       "      <td>5.963903</td>\n",
       "      <td>9.191514</td>\n",
       "    </tr>\n",
       "    <tr>\n",
       "      <th>std</th>\n",
       "      <td>1.122911</td>\n",
       "      <td>8.215614</td>\n",
       "      <td>0.534616</td>\n",
       "      <td>0.510460</td>\n",
       "      <td>0.011908</td>\n",
       "      <td>12.234088</td>\n",
       "      <td>0.008860</td>\n",
       "      <td>1.582074</td>\n",
       "    </tr>\n",
       "    <tr>\n",
       "      <th>min</th>\n",
       "      <td>6.452174</td>\n",
       "      <td>435.043478</td>\n",
       "      <td>4.875000</td>\n",
       "      <td>9.401286</td>\n",
       "      <td>0.078167</td>\n",
       "      <td>102.059091</td>\n",
       "      <td>5.952986</td>\n",
       "      <td>6.059722</td>\n",
       "    </tr>\n",
       "    <tr>\n",
       "      <th>25%</th>\n",
       "      <td>6.790119</td>\n",
       "      <td>443.723485</td>\n",
       "      <td>5.101875</td>\n",
       "      <td>10.026146</td>\n",
       "      <td>0.100462</td>\n",
       "      <td>118.264583</td>\n",
       "      <td>5.958542</td>\n",
       "      <td>8.431493</td>\n",
       "    </tr>\n",
       "    <tr>\n",
       "      <th>50%</th>\n",
       "      <td>7.304348</td>\n",
       "      <td>450.250000</td>\n",
       "      <td>5.653152</td>\n",
       "      <td>10.207185</td>\n",
       "      <td>0.105729</td>\n",
       "      <td>122.778261</td>\n",
       "      <td>5.961597</td>\n",
       "      <td>8.917014</td>\n",
       "    </tr>\n",
       "    <tr>\n",
       "      <th>75%</th>\n",
       "      <td>8.227083</td>\n",
       "      <td>455.096014</td>\n",
       "      <td>6.083194</td>\n",
       "      <td>10.498991</td>\n",
       "      <td>0.111625</td>\n",
       "      <td>132.651705</td>\n",
       "      <td>5.966806</td>\n",
       "      <td>11.004965</td>\n",
       "    </tr>\n",
       "    <tr>\n",
       "      <th>max</th>\n",
       "      <td>9.787500</td>\n",
       "      <td>462.125000</td>\n",
       "      <td>6.275000</td>\n",
       "      <td>11.166100</td>\n",
       "      <td>0.121042</td>\n",
       "      <td>143.304348</td>\n",
       "      <td>5.984931</td>\n",
       "      <td>11.048403</td>\n",
       "    </tr>\n",
       "  </tbody>\n",
       "</table>\n",
       "</div>"
      ],
      "text/plain": [
       "            수온 ℃  전기전도도 μS/cm  총유기탄소 mg/L   총질소 mg/L    총인 mg/L  클로로필-a mg/㎥  \\\n",
       "count  15.000000    15.000000   14.000000  12.000000  14.000000    15.000000   \n",
       "mean    7.643970   449.625154    5.595887  10.217116   0.104333   124.862947   \n",
       "std     1.122911     8.215614    0.534616   0.510460   0.011908    12.234088   \n",
       "min     6.452174   435.043478    4.875000   9.401286   0.078167   102.059091   \n",
       "25%     6.790119   443.723485    5.101875  10.026146   0.100462   118.264583   \n",
       "50%     7.304348   450.250000    5.653152  10.207185   0.105729   122.778261   \n",
       "75%     8.227083   455.096014    6.083194  10.498991   0.111625   132.651705   \n",
       "max     9.787500   462.125000    6.275000  11.166100   0.121042   143.304348   \n",
       "\n",
       "       상류수위(EL.m)   방류량(㎥/s)  \n",
       "count   15.000000  15.000000  \n",
       "mean     5.963903   9.191514  \n",
       "std      0.008860   1.582074  \n",
       "min      5.952986   6.059722  \n",
       "25%      5.958542   8.431493  \n",
       "50%      5.961597   8.917014  \n",
       "75%      5.966806  11.004965  \n",
       "max      5.984931  11.048403  "
      ]
     },
     "execution_count": 26,
     "metadata": {},
     "output_type": "execute_result"
    }
   ],
   "source": [
    "mask100 = scb_df_daily['클로로필-a mg/㎥'].rolling(window=14).min() >= 100\n",
    "\n",
    "scb_df_daily[mask100].describe()"
   ]
  },
  {
   "cell_type": "markdown",
   "metadata": {},
   "source": [
    "시기 확인"
   ]
  },
  {
   "cell_type": "code",
   "execution_count": 27,
   "metadata": {},
   "outputs": [
    {
     "data": {
      "text/html": [
       "<div>\n",
       "<style scoped>\n",
       "    .dataframe tbody tr th:only-of-type {\n",
       "        vertical-align: middle;\n",
       "    }\n",
       "\n",
       "    .dataframe tbody tr th {\n",
       "        vertical-align: top;\n",
       "    }\n",
       "\n",
       "    .dataframe thead th {\n",
       "        text-align: right;\n",
       "    }\n",
       "</style>\n",
       "<table border=\"1\" class=\"dataframe\">\n",
       "  <thead>\n",
       "    <tr style=\"text-align: right;\">\n",
       "      <th></th>\n",
       "      <th>시간</th>\n",
       "      <th>수온 ℃</th>\n",
       "      <th>전기전도도 μS/cm</th>\n",
       "      <th>총유기탄소 mg/L</th>\n",
       "      <th>총질소 mg/L</th>\n",
       "      <th>총인 mg/L</th>\n",
       "      <th>클로로필-a mg/㎥</th>\n",
       "      <th>상류수위(EL.m)</th>\n",
       "      <th>방류량(㎥/s)</th>\n",
       "    </tr>\n",
       "  </thead>\n",
       "  <tbody>\n",
       "    <tr>\n",
       "      <th>3333</th>\n",
       "      <td>2022-02-16</td>\n",
       "      <td>8.083333</td>\n",
       "      <td>452.375000</td>\n",
       "      <td>4.991667</td>\n",
       "      <td>10.063625</td>\n",
       "      <td>0.112500</td>\n",
       "      <td>131.812500</td>\n",
       "      <td>5.959931</td>\n",
       "      <td>8.890486</td>\n",
       "    </tr>\n",
       "    <tr>\n",
       "      <th>3334</th>\n",
       "      <td>2022-02-17</td>\n",
       "      <td>7.325000</td>\n",
       "      <td>455.583333</td>\n",
       "      <td>5.137500</td>\n",
       "      <td>10.086625</td>\n",
       "      <td>0.117875</td>\n",
       "      <td>141.195833</td>\n",
       "      <td>5.964792</td>\n",
       "      <td>8.849236</td>\n",
       "    </tr>\n",
       "    <tr>\n",
       "      <th>3335</th>\n",
       "      <td>2022-02-18</td>\n",
       "      <td>7.304348</td>\n",
       "      <td>454.608696</td>\n",
       "      <td>5.315000</td>\n",
       "      <td>10.179952</td>\n",
       "      <td>0.109000</td>\n",
       "      <td>142.256522</td>\n",
       "      <td>5.966250</td>\n",
       "      <td>11.048403</td>\n",
       "    </tr>\n",
       "    <tr>\n",
       "      <th>3336</th>\n",
       "      <td>2022-02-19</td>\n",
       "      <td>7.062500</td>\n",
       "      <td>455.583333</td>\n",
       "      <td>5.166667</td>\n",
       "      <td>10.702762</td>\n",
       "      <td>0.103542</td>\n",
       "      <td>127.221739</td>\n",
       "      <td>5.956042</td>\n",
       "      <td>8.107431</td>\n",
       "    </tr>\n",
       "    <tr>\n",
       "      <th>3337</th>\n",
       "      <td>2022-02-20</td>\n",
       "      <td>6.458333</td>\n",
       "      <td>462.125000</td>\n",
       "      <td>5.075000</td>\n",
       "      <td>10.674091</td>\n",
       "      <td>0.105458</td>\n",
       "      <td>107.775000</td>\n",
       "      <td>5.977847</td>\n",
       "      <td>10.995069</td>\n",
       "    </tr>\n",
       "    <tr>\n",
       "      <th>3338</th>\n",
       "      <td>2022-02-21</td>\n",
       "      <td>6.745455</td>\n",
       "      <td>461.636364</td>\n",
       "      <td>5.090000</td>\n",
       "      <td>10.234417</td>\n",
       "      <td>0.106000</td>\n",
       "      <td>102.059091</td>\n",
       "      <td>5.959514</td>\n",
       "      <td>8.917014</td>\n",
       "    </tr>\n",
       "    <tr>\n",
       "      <th>3339</th>\n",
       "      <td>2022-02-22</td>\n",
       "      <td>6.834783</td>\n",
       "      <td>452.304348</td>\n",
       "      <td>4.875000</td>\n",
       "      <td>NaN</td>\n",
       "      <td>0.104500</td>\n",
       "      <td>113.804167</td>\n",
       "      <td>5.967361</td>\n",
       "      <td>11.014861</td>\n",
       "    </tr>\n",
       "    <tr>\n",
       "      <th>3340</th>\n",
       "      <td>2022-02-23</td>\n",
       "      <td>6.650000</td>\n",
       "      <td>450.250000</td>\n",
       "      <td>NaN</td>\n",
       "      <td>11.166100</td>\n",
       "      <td>0.115000</td>\n",
       "      <td>127.666667</td>\n",
       "      <td>5.957569</td>\n",
       "      <td>6.059722</td>\n",
       "    </tr>\n",
       "    <tr>\n",
       "      <th>3341</th>\n",
       "      <td>2022-02-24</td>\n",
       "      <td>6.452174</td>\n",
       "      <td>449.826087</td>\n",
       "      <td>6.275000</td>\n",
       "      <td>10.335700</td>\n",
       "      <td>0.121042</td>\n",
       "      <td>143.304348</td>\n",
       "      <td>5.963403</td>\n",
       "      <td>8.747569</td>\n",
       "    </tr>\n",
       "    <tr>\n",
       "      <th>3342</th>\n",
       "      <td>2022-02-25</td>\n",
       "      <td>7.054545</td>\n",
       "      <td>443.363636</td>\n",
       "      <td>6.085000</td>\n",
       "      <td>9.406500</td>\n",
       "      <td>0.108810</td>\n",
       "      <td>133.490909</td>\n",
       "      <td>5.952986</td>\n",
       "      <td>8.115417</td>\n",
       "    </tr>\n",
       "    <tr>\n",
       "      <th>3343</th>\n",
       "      <td>2022-02-26</td>\n",
       "      <td>7.829167</td>\n",
       "      <td>442.458333</td>\n",
       "      <td>6.170833</td>\n",
       "      <td>10.440625</td>\n",
       "      <td>0.092375</td>\n",
       "      <td>122.100000</td>\n",
       "      <td>5.971944</td>\n",
       "      <td>9.275903</td>\n",
       "    </tr>\n",
       "    <tr>\n",
       "      <th>3344</th>\n",
       "      <td>2022-02-27</td>\n",
       "      <td>8.370833</td>\n",
       "      <td>435.500000</td>\n",
       "      <td>6.100000</td>\n",
       "      <td>9.913708</td>\n",
       "      <td>0.099435</td>\n",
       "      <td>120.950000</td>\n",
       "      <td>5.961597</td>\n",
       "      <td>11.043958</td>\n",
       "    </tr>\n",
       "    <tr>\n",
       "      <th>3345</th>\n",
       "      <td>2022-02-28</td>\n",
       "      <td>8.965217</td>\n",
       "      <td>435.043478</td>\n",
       "      <td>5.991304</td>\n",
       "      <td>9.401286</td>\n",
       "      <td>0.086952</td>\n",
       "      <td>122.778261</td>\n",
       "      <td>5.953472</td>\n",
       "      <td>6.833333</td>\n",
       "    </tr>\n",
       "    <tr>\n",
       "      <th>3346</th>\n",
       "      <td>2022-03-01</td>\n",
       "      <td>9.787500</td>\n",
       "      <td>444.083333</td>\n",
       "      <td>5.991667</td>\n",
       "      <td>NaN</td>\n",
       "      <td>0.078167</td>\n",
       "      <td>119.037500</td>\n",
       "      <td>5.984931</td>\n",
       "      <td>11.018819</td>\n",
       "    </tr>\n",
       "    <tr>\n",
       "      <th>3347</th>\n",
       "      <td>2022-03-02</td>\n",
       "      <td>9.736364</td>\n",
       "      <td>449.636364</td>\n",
       "      <td>6.077778</td>\n",
       "      <td>NaN</td>\n",
       "      <td>NaN</td>\n",
       "      <td>117.491667</td>\n",
       "      <td>5.960903</td>\n",
       "      <td>8.955486</td>\n",
       "    </tr>\n",
       "  </tbody>\n",
       "</table>\n",
       "</div>"
      ],
      "text/plain": [
       "              시간      수온 ℃  전기전도도 μS/cm  총유기탄소 mg/L   총질소 mg/L   총인 mg/L  \\\n",
       "3333  2022-02-16  8.083333   452.375000    4.991667  10.063625  0.112500   \n",
       "3334  2022-02-17  7.325000   455.583333    5.137500  10.086625  0.117875   \n",
       "3335  2022-02-18  7.304348   454.608696    5.315000  10.179952  0.109000   \n",
       "3336  2022-02-19  7.062500   455.583333    5.166667  10.702762  0.103542   \n",
       "3337  2022-02-20  6.458333   462.125000    5.075000  10.674091  0.105458   \n",
       "3338  2022-02-21  6.745455   461.636364    5.090000  10.234417  0.106000   \n",
       "3339  2022-02-22  6.834783   452.304348    4.875000        NaN  0.104500   \n",
       "3340  2022-02-23  6.650000   450.250000         NaN  11.166100  0.115000   \n",
       "3341  2022-02-24  6.452174   449.826087    6.275000  10.335700  0.121042   \n",
       "3342  2022-02-25  7.054545   443.363636    6.085000   9.406500  0.108810   \n",
       "3343  2022-02-26  7.829167   442.458333    6.170833  10.440625  0.092375   \n",
       "3344  2022-02-27  8.370833   435.500000    6.100000   9.913708  0.099435   \n",
       "3345  2022-02-28  8.965217   435.043478    5.991304   9.401286  0.086952   \n",
       "3346  2022-03-01  9.787500   444.083333    5.991667        NaN  0.078167   \n",
       "3347  2022-03-02  9.736364   449.636364    6.077778        NaN       NaN   \n",
       "\n",
       "      클로로필-a mg/㎥  상류수위(EL.m)   방류량(㎥/s)  \n",
       "3333   131.812500    5.959931   8.890486  \n",
       "3334   141.195833    5.964792   8.849236  \n",
       "3335   142.256522    5.966250  11.048403  \n",
       "3336   127.221739    5.956042   8.107431  \n",
       "3337   107.775000    5.977847  10.995069  \n",
       "3338   102.059091    5.959514   8.917014  \n",
       "3339   113.804167    5.967361  11.014861  \n",
       "3340   127.666667    5.957569   6.059722  \n",
       "3341   143.304348    5.963403   8.747569  \n",
       "3342   133.490909    5.952986   8.115417  \n",
       "3343   122.100000    5.971944   9.275903  \n",
       "3344   120.950000    5.961597  11.043958  \n",
       "3345   122.778261    5.953472   6.833333  \n",
       "3346   119.037500    5.984931  11.018819  \n",
       "3347   117.491667    5.960903   8.955486  "
      ]
     },
     "execution_count": 27,
     "metadata": {},
     "output_type": "execute_result"
    }
   ],
   "source": [
    "scb_df_daily[mask100]"
   ]
  },
  {
   "cell_type": "markdown",
   "metadata": {},
   "source": [
    "### 클로로필-a 기준에 따른 특성들의 변화"
   ]
  },
  {
   "cell_type": "markdown",
   "metadata": {},
   "source": [
    "조류 경보 발령 기준별로 특성들의 사분위수 변화를 그래프로 그린다."
   ]
  },
  {
   "cell_type": "code",
   "execution_count": 28,
   "metadata": {},
   "outputs": [],
   "source": [
    "def green_tide(quartile='mean', period=14):\n",
    "\n",
    "    day_quartile_dict = dict()\n",
    "\n",
    "    for value in range(5, 101, 5):\n",
    "        mask = scb_df_daily['클로로필-a mg/㎥'].rolling(window=period).min() >= value\n",
    "        desc = scb_df_daily[mask].describe()\n",
    "        day_quartile = desc.loc[quartile]\n",
    "        day_quartile_dict[value] = day_quartile\n",
    "\n",
    "    day_quartile_df = pd.DataFrame(day_quartile_dict).T\n",
    "    \n",
    "    day_quartile_df.plot(subplots=True, figsize=(10, 15))"
   ]
  },
  {
   "cell_type": "markdown",
   "metadata": {},
   "source": [
    "**평균값의 변화**"
   ]
  },
  {
   "cell_type": "code",
   "execution_count": 29,
   "metadata": {},
   "outputs": [
    {
     "data": {
      "image/png": "[encoded data removed]",
      "text/plain": [
       "<Figure size 720x1080 with 8 Axes>"
      ]
     },
     "metadata": {
      "needs_background": "light"
     },
     "output_type": "display_data"
    }
   ],
   "source": [
    "green_tide(quartile='mean')"
   ]
  },
  {
   "cell_type": "markdown",
   "metadata": {},
   "source": [
    "**제1 사분위수의 변화**"
   ]
  },
  {
   "cell_type": "code",
   "execution_count": 30,
   "metadata": {},
   "outputs": [
    {
     "data": {
      "image/png": "[encoded data removed]",
      "text/plain": [
       "<Figure size 720x1080 with 8 Axes>"
      ]
     },
     "metadata": {
      "needs_background": "light"
     },
     "output_type": "display_data"
    }
   ],
   "source": [
    "green_tide(quartile='25%')"
   ]
  },
  {
   "cell_type": "markdown",
   "metadata": {},
   "source": [
    "**제3 사분위수의 변화**"
   ]
  },
  {
   "cell_type": "code",
   "execution_count": 31,
   "metadata": {},
   "outputs": [
    {
     "data": {
      "image/png": "[encoded data removed]",
      "text/plain": [
       "<Figure size 720x1080 with 8 Axes>"
      ]
     },
     "metadata": {
      "needs_background": "light"
     },
     "output_type": "display_data"
    }
   ],
   "source": [
    "green_tide(quartile='75%')"
   ]
  },
  {
   "cell_type": "markdown",
   "metadata": {},
   "source": [
    "**제1, 제3 사분위수 구간의 평균값의 변화**"
   ]
  },
  {
   "cell_type": "code",
   "execution_count": 32,
   "metadata": {},
   "outputs": [
    {
     "ename": "NameError",
     "evalue": "name 'period' is not defined",
     "output_type": "error",
     "traceback": [
      "\u001b[1;31m---------------------------------------------------------------------------\u001b[0m",
      "\u001b[1;31mNameError\u001b[0m                                 Traceback (most recent call last)",
      "\u001b[1;32m~\\AppData\\Local\\Temp\\ipykernel_22376\\593637786.py\u001b[0m in \u001b[0;36m<module>\u001b[1;34m\u001b[0m\n\u001b[1;32m----> 1\u001b[1;33m \u001b[0mmask\u001b[0m \u001b[1;33m=\u001b[0m \u001b[0mscb_df_daily\u001b[0m\u001b[1;33m[\u001b[0m\u001b[1;34m'클로로필-a mg/㎥'\u001b[0m\u001b[1;33m]\u001b[0m\u001b[1;33m.\u001b[0m\u001b[0mrolling\u001b[0m\u001b[1;33m(\u001b[0m\u001b[0mwindow\u001b[0m\u001b[1;33m=\u001b[0m\u001b[0mperiod\u001b[0m\u001b[1;33m)\u001b[0m\u001b[1;33m.\u001b[0m\u001b[0mmin\u001b[0m\u001b[1;33m(\u001b[0m\u001b[1;33m)\u001b[0m \u001b[1;33m>=\u001b[0m \u001b[1;36m14\u001b[0m\u001b[1;33m\u001b[0m\u001b[1;33m\u001b[0m\u001b[0m\n\u001b[0m\u001b[0;32m      2\u001b[0m \u001b[0mdesc\u001b[0m \u001b[1;33m=\u001b[0m \u001b[0mscb_df_daily\u001b[0m\u001b[1;33m[\u001b[0m\u001b[0mmask\u001b[0m\u001b[1;33m]\u001b[0m\u001b[1;33m.\u001b[0m\u001b[0mdescribe\u001b[0m\u001b[1;33m(\u001b[0m\u001b[1;33m)\u001b[0m\u001b[1;33m\u001b[0m\u001b[1;33m\u001b[0m\u001b[0m\n",
      "\u001b[1;31mNameError\u001b[0m: name 'period' is not defined"
     ]
    }
   ],
   "source": [
    "mask = scb_df_daily['클로로필-a mg/㎥'].rolling(window=period).min() >= 14\n",
    "desc = scb_df_daily[mask].describe()"
   ]
  },
  {
   "cell_type": "code",
   "execution_count": null,
   "metadata": {},
   "outputs": [
    {
     "data": {
      "text/plain": [
       "수온 ℃             9.964946\n",
       "전기전도도 μS/cm    312.178030\n",
       "총유기탄소 mg/L       3.944067\n",
       "총질소 mg/L         4.367885\n",
       "총인 mg/L          0.072063\n",
       "클로로필-a mg/㎥     37.838095\n",
       "상류수위(EL.m)       5.980069\n",
       "방류량(㎥/s)        10.373264\n",
       "Name: 25%, dtype: float64"
      ]
     },
     "execution_count": 51,
     "metadata": {},
     "output_type": "execute_result"
    }
   ],
   "source": [
    "desc.loc['25%']"
   ]
  },
  {
   "cell_type": "code",
   "execution_count": null,
   "metadata": {},
   "outputs": [
    {
     "data": {
      "text/plain": [
       "수온 ℃            24.243750\n",
       "전기전도도 μS/cm    427.347826\n",
       "총유기탄소 mg/L       5.195833\n",
       "총질소 mg/L         7.202631\n",
       "총인 mg/L          0.138406\n",
       "클로로필-a mg/㎥     85.940909\n",
       "상류수위(EL.m)       7.512639\n",
       "방류량(㎥/s)        19.423264\n",
       "Name: 75%, dtype: float64"
      ]
     },
     "execution_count": 52,
     "metadata": {},
     "output_type": "execute_result"
    }
   ],
   "source": [
    "desc.loc['75%']"
   ]
  }
 ],
 "metadata": {
  "kernelspec": {
   "display_name": "Python 3.9.12 ('base')",
   "language": "python",
   "name": "python3"
  },
  "language_info": {
   "codemirror_mode": {
    "name": "ipython",
    "version": 3
   },
   "file_extension": ".py",
   "mimetype": "text/x-python",
   "name": "python",
   "nbconvert_exporter": "python",
   "pygments_lexer": "ipython3",
   "version": "3.9.12"
  },
  "vscode": {
   "interpreter": {
    "hash": "6c86b3592b6800d985c04531f2c445f0fa6967131b8dd6395a925f7622e55602"
   }
  }
 },
 "nbformat": 4,
 "nbformat_minor": 2
}
