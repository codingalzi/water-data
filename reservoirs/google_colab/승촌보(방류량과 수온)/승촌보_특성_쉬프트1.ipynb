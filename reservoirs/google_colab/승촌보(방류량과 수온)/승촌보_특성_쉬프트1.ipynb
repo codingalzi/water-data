{
 "cells": [
  {
   "cell_type": "markdown",
   "metadata": {},
   "source": [
    "# 승촌보 데이터 분석 \n",
    "\n",
    "* 승촌보 수질 데이터(Seungchonbo.xlsx)   \n",
    "    * 2012-2022년  \n",
    "    * 시간 단위 수집 데이터\n",
    "* 승촌보 유량 데이터(Seungchonbo_flow.xlsx)\n",
    "    * 2012-2022년\n",
    "    * 10분 단위 수집 데이터"
   ]
  },
  {
   "cell_type": "markdown",
   "metadata": {},
   "source": [
    "## 필요한 모듈 임포트"
   ]
  },
  {
   "cell_type": "code",
   "execution_count": 1,
   "metadata": {},
   "outputs": [],
   "source": [
    "import numpy as np\n",
    "import pandas as pd\n",
    "\n",
    "import matplotlib.pyplot as plt\n",
    "import seaborn as sns\n",
    "\n",
    "import joblib\n",
    "\n",
    "from datetime import datetime"
   ]
  },
  {
   "cell_type": "code",
   "execution_count": 2,
   "metadata": {},
   "outputs": [],
   "source": [
    "from sklearn.model_selection import train_test_split\n",
    "from sklearn.model_selection import GridSearchCV\n",
    "from sklearn.preprocessing import StandardScaler\n",
    "from sklearn.ensemble import RandomForestRegressor, GradientBoostingRegressor"
   ]
  },
  {
   "cell_type": "markdown",
   "metadata": {},
   "source": [
    "## matplotlib 한글 설정  \n",
    "* 운영체제에 따른 한글 지원 설정. 윈도우, 우분투, 구글 코랩 지원. "
   ]
  },
  {
   "cell_type": "code",
   "execution_count": 3,
   "metadata": {},
   "outputs": [],
   "source": [
    "import platform\n",
    "plt.rc('figure', figsize=(10, 6))  # 그림 크기 설정\n",
    "if platform.system() == 'Windows': # 윈도우\n",
    "    from matplotlib import font_manager, rc\n",
    "    font_path = \"C:/Windows/Fonts/NGULIM.TTF\"\n",
    "    font = font_manager.FontProperties(fname=font_path).get_name()\n",
    "    rc('font', family=font)\n",
    "elif platform.system() == 'Linux': # 우분투 또는 구글 코랩\n",
    "    # !sudo apt-get install -y fonts-nanum*\n",
    "    # !fc-cache -fv\n",
    "    \n",
    "    applyfont = \"NanumBarunGothic\"\n",
    "    import matplotlib.font_manager as fm\n",
    "    if not any(map(lambda ft: ft.name == applyfont, fm.fontManager.ttflist)):\n",
    "        fm.fontManager.addfont(\"/usr/share/fonts/truetype/nanum/NanumBarunGothic.ttf\")\n",
    "    plt.rc(\"font\", family=applyfont)\n",
    "    plt.rc(\"axes\", unicode_minus=False)"
   ]
  },
  {
   "cell_type": "markdown",
   "metadata": {},
   "source": [
    "## 승촌보 수질 데이터 불러오기"
   ]
  },
  {
   "cell_type": "code",
   "execution_count": 4,
   "id": "67006279",
   "metadata": {},
   "outputs": [],
   "source": [
    "# 데이터 저장소 \n",
    "\n",
    "base_path = \"https://github.com/codingalzi/water-data/raw/master/reservoirs/\"\n",
    "# base_path = r\"C:\\Users\\owner\\Desktop\\water-source\\data\""
   ]
  },
  {
   "cell_type": "code",
   "execution_count": 5,
   "metadata": {},
   "outputs": [],
   "source": [
    "# 시간 단위로 측정된 승촌보 연도별 수질 데이터 불러오기. \n",
    "# '측정일/월' 특성은 date time으로 파싱.\n",
    "# 반환값은 연도별 데이터프레임으로 구성된 사전. 2012년 ~ 2022년\n",
    "\n",
    "scb_yearly = pd.read_excel(base_path+\"Seungchonbo.xlsx\", \n",
    "# scb_yearly = pd.read_excel(base_path+\"\\Seungchonbo.xlsx\", \n",
    "                            skiprows=0, \n",
    "                            header=1, \n",
    "                            sheet_name=None,\n",
    "                            na_values='ND',\n",
    "                            parse_dates=[0])  # 측정일/월 특성을 date time으로 파싱"
   ]
  },
  {
   "cell_type": "markdown",
   "metadata": {},
   "source": [
    "`'측정일/월'` 특성을 '년-월-일 시'형식으로 변경한다."
   ]
  },
  {
   "cell_type": "code",
   "execution_count": 6,
   "metadata": {},
   "outputs": [],
   "source": [
    "# 시간 특성을 지정된 형식으로 변환하는 함수\n",
    "\n",
    "def time2datetime(df_yearly_dict, feature):\n",
    "    for year in list(df_yearly_dict.keys()):\n",
    "        df_yearly_dict[year][feature] = df_yearly_dict[year][feature].apply(lambda x : x.strftime('%Y-%m-%d %H'))\n",
    "    \n",
    "    return df_yearly_dict"
   ]
  },
  {
   "cell_type": "code",
   "execution_count": 7,
   "metadata": {},
   "outputs": [],
   "source": [
    "scb_yearly = time2datetime(scb_yearly, '측정일/월')"
   ]
  },
  {
   "cell_type": "markdown",
   "metadata": {},
   "source": [
    "**연도별 수질 데이터 통합**\n",
    "\n",
    "* 2013년부터"
   ]
  },
  {
   "cell_type": "code",
   "execution_count": 8,
   "metadata": {},
   "outputs": [],
   "source": [
    "def concat_yearly_df(df_yearly_dict):\n",
    "    df_concat = pd.DataFrame()\n",
    "\n",
    "    for year in list(df_yearly_dict.keys())[1:]:\n",
    "        df_concat = pd.concat([df_concat, df_yearly_dict[year]])\n",
    "\n",
    "    return df_concat"
   ]
  },
  {
   "cell_type": "code",
   "execution_count": 9,
   "metadata": {},
   "outputs": [],
   "source": [
    "scb_yearly_df13 = concat_yearly_df(scb_yearly)"
   ]
  },
  {
   "cell_type": "markdown",
   "metadata": {},
   "source": [
    "**인덱스 재설정**"
   ]
  },
  {
   "cell_type": "code",
   "execution_count": 10,
   "metadata": {},
   "outputs": [],
   "source": [
    "scb_yearly_df13 = scb_yearly_df13.reset_index(drop=True)"
   ]
  },
  {
   "cell_type": "markdown",
   "metadata": {},
   "source": [
    "## 승촌보 유량 데이터 불러오기"
   ]
  },
  {
   "cell_type": "code",
   "execution_count": 11,
   "metadata": {},
   "outputs": [],
   "source": [
    "# 10분 단위로 측정된 연도별 승촌보 유량 데이터를 불러온다. \n",
    "# `시간` 특성은 date time으로 파싱해서 불러온다.\n",
    "# 반환값은 연도별 데이터프레임으로 구성된 사전. 2012년 ~ 2022년\n",
    "\n",
    "scb_flow_yearly = pd.read_excel(base_path+\"Seungchonbo_flow.xlsx\", \n",
    "# scb_flow_yearly = pd.read_excel(base_path+\"\\Seungchonbo_flow.xlsx\", \n",
    "                            header=0, \n",
    "                            sheet_name=None,\n",
    "                            na_values='ND',\n",
    "                            parse_dates=[0])  # 시간 특성을 date time으로 파싱"
   ]
  },
  {
   "cell_type": "markdown",
   "metadata": {},
   "source": [
    "`시간` 특성을 '년-월-일 시' 형식으로 변경한다. "
   ]
  },
  {
   "cell_type": "code",
   "execution_count": 12,
   "metadata": {},
   "outputs": [],
   "source": [
    "scb_flow_yearly = time2datetime(scb_flow_yearly, '시간')"
   ]
  },
  {
   "cell_type": "markdown",
   "metadata": {},
   "source": [
    "**10분 단위를 1시간 단위로 변경**\n",
    "\n",
    "시간별 평균값을 활용한다."
   ]
  },
  {
   "cell_type": "code",
   "execution_count": 13,
   "metadata": {},
   "outputs": [],
   "source": [
    "scb_flow_yearly_hour = {}\n",
    "\n",
    "# groupby의 as_index=False 옵션 사용. 인덱스 자동 재설정됨.\n",
    "for year in list(scb_flow_yearly.keys()):\n",
    "    scb_flow_yearly_hour[year] = scb_flow_yearly[year].groupby('시간', as_index=False).mean()"
   ]
  },
  {
   "cell_type": "code",
   "execution_count": 14,
   "metadata": {},
   "outputs": [],
   "source": [
    "# for year in scb_flow_yearly_hour:\n",
    "#     scb_flow_yearly_hour[year] = scb_flow_yearly_hour[year].reset_index()"
   ]
  },
  {
   "cell_type": "markdown",
   "metadata": {},
   "source": [
    "**연도별 유량 데이터 통합**\n",
    "\n",
    "- 2013년부터"
   ]
  },
  {
   "cell_type": "code",
   "execution_count": 15,
   "metadata": {},
   "outputs": [],
   "source": [
    "scb_flow_yearly_hour_df = concat_yearly_df(scb_flow_yearly_hour)"
   ]
  },
  {
   "cell_type": "markdown",
   "metadata": {},
   "source": [
    "**인덱스 재설정**"
   ]
  },
  {
   "cell_type": "code",
   "execution_count": 16,
   "metadata": {},
   "outputs": [],
   "source": [
    "scb_flow_yearly_hour_df = scb_flow_yearly_hour_df.reset_index(drop=True)"
   ]
  },
  {
   "cell_type": "markdown",
   "metadata": {},
   "source": [
    "## 수질/유량 데이터 합병"
   ]
  },
  {
   "cell_type": "markdown",
   "metadata": {},
   "source": [
    "수질 데이터와 유량 데이터를 `측정일/월`과 `시간` 기준으로 합병한다."
   ]
  },
  {
   "cell_type": "code",
   "execution_count": 17,
   "metadata": {},
   "outputs": [],
   "source": [
    "# 수질 데이터의 `측정일/월` 특성 이름을 `시간`으로 변경\n",
    "scb_yearly_df13 = scb_yearly_df13.rename(columns={'측정일/월':'시간'})\n",
    "\n",
    "# `pd.merge()`에서 `how = 'outer'` 키워드 인자 : 두 데이터에 사용된 모든 시간대의 데이터를 모두 추가한다(합집합).\n",
    "scb_data = pd.merge(scb_yearly_df13, scb_flow_yearly_hour_df, how='outer')\n",
    "\n",
    "# 유량 데이터 2022년도 데이터를 더 많이 포함하기에 삭제 필요.\n",
    "scb_data = scb_data[:len(scb_yearly_df13)]\n",
    "\n",
    "# 유량 특성 이름에 공백이 사용되었기에 특성명에 공백 제거\n",
    "scb_data.columns = [x.strip() for x in list(scb_data.columns)]"
   ]
  },
  {
   "cell_type": "markdown",
   "metadata": {},
   "source": [
    "## 데이터셋 전처리"
   ]
  },
  {
   "cell_type": "markdown",
   "metadata": {},
   "source": [
    "**특성 선택**"
   ]
  },
  {
   "cell_type": "markdown",
   "metadata": {},
   "source": [
    "모델 훈련에 사용하지 않을 특성들은 삭제한다."
   ]
  },
  {
   "cell_type": "code",
   "execution_count": 18,
   "metadata": {},
   "outputs": [],
   "source": [
    "to_be_removed = ['측정소명', '수소이온농도', '용존산소 mg/L', '하류수위(EL.m)', '유입량(㎥/s)']\n",
    "\n",
    "scb_data.drop(to_be_removed, axis=1, inplace=True)"
   ]
  },
  {
   "cell_type": "markdown",
   "metadata": {},
   "source": [
    "**클로로필-a 특성 정규화**"
   ]
  },
  {
   "cell_type": "markdown",
   "metadata": {},
   "source": [
    "`'클로로필-a mg/㎥'` 특성을 회귀 모델의 타깃으로 사용할 예정이다.\n",
    "그런데 클로로필 값이 왼편으로 치우친 형태이다."
   ]
  },
  {
   "cell_type": "code",
   "execution_count": 19,
   "metadata": {},
   "outputs": [
    {
     "data": {
      "image/png": "[encoded data removed]",
      "text/plain": [
       "<Figure size 720x432 with 1 Axes>"
      ]
     },
     "metadata": {
      "needs_background": "light"
     },
     "output_type": "display_data"
    }
   ],
   "source": [
    "sns.histplot(scb_data['클로로필-a mg/㎥'])\n",
    "plt.show()"
   ]
  },
  {
   "cell_type": "markdown",
   "metadata": {},
   "source": [
    "`np.log1p()`를 사용해 로그변환하면 클로로필 값이 정규 분포에 가까워진다."
   ]
  },
  {
   "cell_type": "code",
   "execution_count": 20,
   "metadata": {},
   "outputs": [
    {
     "data": {
      "image/png": "[encoded data removed]",
      "text/plain": [
       "<Figure size 720x432 with 1 Axes>"
      ]
     },
     "metadata": {
      "needs_background": "light"
     },
     "output_type": "display_data"
    }
   ],
   "source": [
    "sns.histplot(np.log1p(scb_data['클로로필-a mg/㎥']))\n",
    "plt.show()"
   ]
  },
  {
   "cell_type": "markdown",
   "metadata": {},
   "source": [
    "클로로필 값을 로그 변환한 뒤 `scb_data`에 추가한 뒤 기존의 클로로필 특성은 고려하지 않는다."
   ]
  },
  {
   "cell_type": "code",
   "execution_count": 21,
   "metadata": {},
   "outputs": [],
   "source": [
    "scb_data['log_Chl-a'] = np.log1p(scb_data['클로로필-a mg/㎥'])\n",
    "\n",
    "scb_data = scb_data.drop(['클로로필-a mg/㎥'], axis=1)"
   ]
  },
  {
   "cell_type": "markdown",
   "metadata": {},
   "source": [
    "## shift 특성 추가"
   ]
  },
  {
   "cell_type": "markdown",
   "metadata": {},
   "source": [
    "데이터셋을 복제해서 원본은 유지한다."
   ]
  },
  {
   "cell_type": "code",
   "execution_count": 22,
   "metadata": {},
   "outputs": [],
   "source": [
    "scb_df = scb_data.copy()"
   ]
  },
  {
   "cell_type": "markdown",
   "metadata": {},
   "source": [
    "**shift 특성 추가 함수** \n",
    "\n",
    "`feature_shifting()` 함수는 지정된 특성을 대상으로 지정된 크기만큼 shift한 특성을 추가한다. 함수의 인자로 다음 세 개의 값을 받는다.  \n",
    "\n",
    "* `df` : 기존 데이터프레임\n",
    "* `shift_feature` : shift 대상 특성\n",
    "* `shift_step` : shift 크기"
   ]
  },
  {
   "cell_type": "code",
   "execution_count": 23,
   "metadata": {},
   "outputs": [],
   "source": [
    "from pandas import DataFrame\n",
    "import re\n",
    "\n",
    "def feature_shifting(df : DataFrame, shift_feature : str, shift_step : int) -> DataFrame:\n",
    "    shift_feature_ = re.split(' |\\(', shift_feature)[0] # 특성 이름에 사용된 단위 삭제. 공백 또는 여는 괄호 기준 쪼개기\n",
    "\n",
    "    new_dict = dict()\n",
    "    new_dict[str(shift_step) + 'shift_' + shift_feature_] = df[shift_feature].shift(shift_step)\n",
    "    \n",
    "    new_dict = pd.DataFrame(new_dict)\n",
    "\n",
    "    return pd.concat([df, new_dict], axis=1)"
   ]
  },
  {
   "cell_type": "code",
   "execution_count": 24,
   "metadata": {},
   "outputs": [],
   "source": [
    "# shift 특성과 shift 크기 선택\n",
    "\n",
    "shift_objects = {'수온 ℃': 2}"
   ]
  },
  {
   "cell_type": "markdown",
   "metadata": {},
   "source": [
    "**회귀 모델 지정**"
   ]
  },
  {
   "cell_type": "code",
   "execution_count": 25,
   "metadata": {},
   "outputs": [],
   "source": [
    "reservoir = 'Seungchonbo'"
   ]
  },
  {
   "cell_type": "code",
   "execution_count": 26,
   "metadata": {},
   "outputs": [],
   "source": [
    "model_kind = 'rf' # random forest\n",
    "\n",
    "model_reg = RandomForestRegressor(random_state=42, oob_score=True, \n",
    "                                # n_jobs=-1\n",
    "                                n_estimators=500)"
   ]
  },
  {
   "cell_type": "code",
   "execution_count": 27,
   "metadata": {},
   "outputs": [],
   "source": [
    "# parameters = {'max_depth':[5, 10, 15], 'min_samples_leaf':[8, 12, 16]} \n",
    "# (15, 8) 조합이 좋게 나오기에 다음과 같이 해볼 필요 있음.\n",
    "# parameters = {'max_depth':[15, 17, 20], 'min_samples_leaf':[6, 7, 8]}\n",
    "\n",
    "# 아래 경우는 테스트용\n",
    "parameters = {'max_depth':[17], 'min_samples_leaf':[6]}"
   ]
  },
  {
   "cell_type": "markdown",
   "metadata": {},
   "source": [
    "## 모델 훈련"
   ]
  },
  {
   "cell_type": "code",
   "execution_count": 28,
   "metadata": {},
   "outputs": [],
   "source": [
    "def main(model, parameters, shift_feature, shift_step):\n",
    "    ..."
   ]
  },
  {
   "cell_type": "code",
   "execution_count": 34,
   "metadata": {},
   "outputs": [
    {
     "name": "stdout",
     "output_type": "stream",
     "text": [
      "=== Current model: Seungchonbo_rf_2shift_수온 ===\n",
      "Fitting 3 folds for each of 1 candidates, totalling 3 fits\n",
      "[CV 1/3] END ..max_depth=17, min_samples_leaf=6;, score=0.903 total time=  38.9s\n",
      "[CV 2/3] END ..max_depth=17, min_samples_leaf=6;, score=0.905 total time=  38.5s\n",
      "[CV 3/3] END ..max_depth=17, min_samples_leaf=6;, score=0.904 total time=  38.2s\n"
     ]
    }
   ],
   "source": [
    "# best models\n",
    "best_model_dict = dict()\n",
    "\n",
    "# oob scores of the best models\n",
    "oob_dict = dict()\n",
    "\n",
    "# test scores of the best models\n",
    "test_score_dict = dict()\n",
    "\n",
    "# train_features of the best models\n",
    "train_features_dict = dict()\n",
    "\n",
    "# shift 특성 추가와 모델 훈련\n",
    "for shift_feature in shift_objects:\n",
    "    # 지정된 특성을 지정된 크기만큼 shift한 새로운 특성 추가\n",
    "    shift_step = shift_objects[shift_feature]\n",
    "    scb_df_shifted = feature_shifting(scb_df, shift_feature, shift_step)\n",
    "\n",
    "    # 결측치는 양방향 12시간 선형 보간법으로 대체. 결측 구간별 최대 24시간의 결측치 대체.\n",
    "    scb_df_shifted['시간'] = scb_df_shifted['시간'].transform(lambda x: datetime.strptime(x, '%Y-%m-%d %H'))\n",
    "    scb_df_shifted = scb_df_shifted.copy().set_index('시간').interpolate(method='time', limit = 12, limit_direction='both')\n",
    "    scb_df_shifted.dropna(inplace=True)\n",
    "\n",
    "    # 타깃 특성\n",
    "    target_feature = 'log_Chl-a'\n",
    "\n",
    "    # 입력 특성\n",
    "    train_features = list(scb_df_shifted.columns)\n",
    "    train_features.remove(target_feature)\n",
    "\n",
    "    # 훈련셋과 테스트셋\n",
    "    inputs = scb_df_shifted[train_features]\n",
    "    targets = scb_df_shifted[target_feature]\n",
    "\n",
    "    X_train, X_test, y_train, y_test = train_test_split(inputs, targets, random_state=42)\n",
    "\n",
    "    # 모델 훈련: 그리드 탐색 적용\n",
    "    model_name = f\"{reservoir}_{model_kind}_{shift_step}shift_{shift_feature_}\"\n",
    "    print(f\"=== Current model: {model_name} ===\")\n",
    "\n",
    "    model_grid = GridSearchCV(model_reg, param_grid=parameters, cv=3, \n",
    "                            # n_jobs=-1, \n",
    "                            verbose=5)\n",
    "\n",
    "    model_grid.fit(X_train, y_train)\n",
    "\n",
    "    # 그리드 탐색 후 최고 성능 모델 저장\n",
    "    estimator = model_grid.best_estimator_\n",
    "\n",
    "    shift_feature_ = re.split(' |\\(', shift_feature)[0]\n",
    "    best_model = model_name+\".pkl\"\n",
    "\n",
    "    joblib.dump(estimator, best_model)\n",
    "\n",
    "    # 저장된 모델 다시 불러오기\n",
    "    estimator = joblib.load(best_model)\n",
    "\n",
    "    # 최고 성능 및 모델 성능 리스트 추가\n",
    "    best_model_dict[model_name] = estimator\n",
    "    oob_dict[model_name] = estimator.oob_score_\n",
    "    test_score_dict[model_name] = estimator.score(X_test, y_test)\n",
    "    train_features_dict[model_name] = train_features"
   ]
  },
  {
   "cell_type": "markdown",
   "metadata": {},
   "source": [
    "**특성 중요도**"
   ]
  },
  {
   "cell_type": "code",
   "execution_count": 56,
   "metadata": {},
   "outputs": [
    {
     "data": {
      "image/png": "[encoded data removed]",
      "text/plain": [
       "<Figure size 720x432 with 2 Axes>"
      ]
     },
     "metadata": {
      "needs_background": "light"
     },
     "output_type": "display_data"
    }
   ],
   "source": [
    "plt.figure(figsize=(10, 6))\n",
    "\n",
    "models_trained = list(best_model_dict.keys())\n",
    "num_of_models = len(models_trained)\n",
    "\n",
    "for idx in range(num_of_models):\n",
    "    plt.subplot(num_of_models, 1, idx)\n",
    "\n",
    "    model_ = models_trained[idx]\n",
    "    estimator_ = best_model_dict[model_]\n",
    "    train_features_ = train_features_dict[model_]\n",
    "\n",
    "    feature_series = pd.Series(data = estimator_.feature_importances_, index = train_features_)\n",
    "    feature_series = feature_series.sort_values(ascending = False)\n",
    "    sns.barplot(x = feature_series[:10], y = feature_series.index[:10], color = 'gray')\n",
    "\n",
    "plt.show()"
   ]
  },
  {
   "cell_type": "markdown",
   "metadata": {},
   "source": [
    "## 모델 훈련 - GradientBoosting"
   ]
  },
  {
   "cell_type": "code",
   "execution_count": 73,
   "metadata": {},
   "outputs": [],
   "source": [
    "X_train, X_test, y_train, y_test = train_test_split(scb_df.loc[:, col], scb_df['log_Chl-a'], random_state=42)\n",
    "gb_reg = GradientBoostingRegressor(random_state=42)\n",
    "\n",
    "parameters = {'max_depth':[5, 10, 15], 'learning_rate':[0.05, 0.1, 0.2]}"
   ]
  },
  {
   "cell_type": "code",
   "execution_count": 74,
   "metadata": {},
   "outputs": [],
   "source": [
    "gb_grid = GridSearchCV(gb_reg, param_grid=parameters, cv=3, verbose=5)"
   ]
  },
  {
   "cell_type": "code",
   "execution_count": 75,
   "metadata": {},
   "outputs": [
    {
     "name": "stdout",
     "output_type": "stream",
     "text": [
      "Fitting 3 folds for each of 9 candidates, totalling 27 fits\n",
      "[CV 1/3] END ...learning_rate=0.05, max_depth=5;, score=0.741 total time=  33.7s\n",
      "[CV 2/3] END ...learning_rate=0.05, max_depth=5;, score=0.742 total time=  33.7s\n",
      "[CV 3/3] END ...learning_rate=0.05, max_depth=5;, score=0.744 total time=  33.6s\n",
      "[CV 1/3] END ..learning_rate=0.05, max_depth=10;, score=0.928 total time= 1.1min\n",
      "[CV 2/3] END ..learning_rate=0.05, max_depth=10;, score=0.927 total time= 1.1min\n",
      "[CV 3/3] END ..learning_rate=0.05, max_depth=10;, score=0.926 total time= 1.1min\n",
      "[CV 1/3] END ..learning_rate=0.05, max_depth=15;, score=0.938 total time= 1.6min\n",
      "[CV 2/3] END ..learning_rate=0.05, max_depth=15;, score=0.942 total time= 1.6min\n",
      "[CV 3/3] END ..learning_rate=0.05, max_depth=15;, score=0.938 total time= 1.6min\n",
      "[CV 1/3] END ....learning_rate=0.1, max_depth=5;, score=0.791 total time=  33.9s\n",
      "[CV 2/3] END ....learning_rate=0.1, max_depth=5;, score=0.793 total time=  33.8s\n",
      "[CV 3/3] END ....learning_rate=0.1, max_depth=5;, score=0.791 total time=  33.8s\n",
      "[CV 1/3] END ...learning_rate=0.1, max_depth=10;, score=0.937 total time= 1.1min\n",
      "[CV 2/3] END ...learning_rate=0.1, max_depth=10;, score=0.937 total time= 1.1min\n",
      "[CV 3/3] END ...learning_rate=0.1, max_depth=10;, score=0.938 total time= 1.1min\n",
      "[CV 1/3] END ...learning_rate=0.1, max_depth=15;, score=0.939 total time= 1.6min\n",
      "[CV 2/3] END ...learning_rate=0.1, max_depth=15;, score=0.943 total time= 1.6min\n",
      "[CV 3/3] END ...learning_rate=0.1, max_depth=15;, score=0.940 total time= 1.6min\n",
      "[CV 1/3] END ....learning_rate=0.2, max_depth=5;, score=0.841 total time=  33.8s\n",
      "[CV 2/3] END ....learning_rate=0.2, max_depth=5;, score=0.836 total time=  33.7s\n",
      "[CV 3/3] END ....learning_rate=0.2, max_depth=5;, score=0.838 total time=  33.7s\n",
      "[CV 1/3] END ...learning_rate=0.2, max_depth=10;, score=0.943 total time= 1.1min\n",
      "[CV 2/3] END ...learning_rate=0.2, max_depth=10;, score=0.941 total time= 1.1min\n",
      "[CV 3/3] END ...learning_rate=0.2, max_depth=10;, score=0.944 total time= 1.1min\n",
      "[CV 1/3] END ...learning_rate=0.2, max_depth=15;, score=0.937 total time= 1.7min\n",
      "[CV 2/3] END ...learning_rate=0.2, max_depth=15;, score=0.941 total time= 1.6min\n",
      "[CV 3/3] END ...learning_rate=0.2, max_depth=15;, score=0.939 total time= 1.7min\n"
     ]
    },
    {
     "data": {
      "text/plain": [
       "GridSearchCV(cv=3, estimator=GradientBoostingRegressor(random_state=42),\n",
       "             param_grid={'learning_rate': [0.05, 0.1, 0.2],\n",
       "                         'max_depth': [5, 10, 15]},\n",
       "             verbose=5)"
      ]
     },
     "execution_count": 75,
     "metadata": {},
     "output_type": "execute_result"
    }
   ],
   "source": [
    "gb_grid.fit(X_train, y_train)"
   ]
  },
  {
   "cell_type": "code",
   "execution_count": 76,
   "metadata": {},
   "outputs": [],
   "source": [
    "scores_df = pd.DataFrame(gb_grid.cv_results_)"
   ]
  },
  {
   "cell_type": "code",
   "execution_count": 77,
   "metadata": {},
   "outputs": [
    {
     "data": {
      "text/html": [
       "<div>\n",
       "<style scoped>\n",
       "    .dataframe tbody tr th:only-of-type {\n",
       "        vertical-align: middle;\n",
       "    }\n",
       "\n",
       "    .dataframe tbody tr th {\n",
       "        vertical-align: top;\n",
       "    }\n",
       "\n",
       "    .dataframe thead th {\n",
       "        text-align: right;\n",
       "    }\n",
       "</style>\n",
       "<table border=\"1\" class=\"dataframe\">\n",
       "  <thead>\n",
       "    <tr style=\"text-align: right;\">\n",
       "      <th></th>\n",
       "      <th>params</th>\n",
       "      <th>mean_test_score</th>\n",
       "      <th>rank_test_score</th>\n",
       "    </tr>\n",
       "  </thead>\n",
       "  <tbody>\n",
       "    <tr>\n",
       "      <th>7</th>\n",
       "      <td>{'learning_rate': 0.2, 'max_depth': 10}</td>\n",
       "      <td>0.942837</td>\n",
       "      <td>1</td>\n",
       "    </tr>\n",
       "    <tr>\n",
       "      <th>5</th>\n",
       "      <td>{'learning_rate': 0.1, 'max_depth': 15}</td>\n",
       "      <td>0.940677</td>\n",
       "      <td>2</td>\n",
       "    </tr>\n",
       "    <tr>\n",
       "      <th>2</th>\n",
       "      <td>{'learning_rate': 0.05, 'max_depth': 15}</td>\n",
       "      <td>0.939444</td>\n",
       "      <td>3</td>\n",
       "    </tr>\n",
       "    <tr>\n",
       "      <th>8</th>\n",
       "      <td>{'learning_rate': 0.2, 'max_depth': 15}</td>\n",
       "      <td>0.939113</td>\n",
       "      <td>4</td>\n",
       "    </tr>\n",
       "    <tr>\n",
       "      <th>4</th>\n",
       "      <td>{'learning_rate': 0.1, 'max_depth': 10}</td>\n",
       "      <td>0.937523</td>\n",
       "      <td>5</td>\n",
       "    </tr>\n",
       "  </tbody>\n",
       "</table>\n",
       "</div>"
      ],
      "text/plain": [
       "                                     params  mean_test_score  rank_test_score\n",
       "7   {'learning_rate': 0.2, 'max_depth': 10}         0.942837                1\n",
       "5   {'learning_rate': 0.1, 'max_depth': 15}         0.940677                2\n",
       "2  {'learning_rate': 0.05, 'max_depth': 15}         0.939444                3\n",
       "8   {'learning_rate': 0.2, 'max_depth': 15}         0.939113                4\n",
       "4   {'learning_rate': 0.1, 'max_depth': 10}         0.937523                5"
      ]
     },
     "execution_count": 77,
     "metadata": {},
     "output_type": "execute_result"
    }
   ],
   "source": [
    "scores_df.sort_values(by=['rank_test_score'], inplace=True)\n",
    "scores_df[['params', 'mean_test_score', 'rank_test_score']].head()"
   ]
  },
  {
   "cell_type": "code",
   "execution_count": 78,
   "metadata": {},
   "outputs": [
    {
     "data": {
      "text/plain": [
       "{'learning_rate': 0.2, 'max_depth': 10}"
      ]
     },
     "execution_count": 78,
     "metadata": {},
     "output_type": "execute_result"
    }
   ],
   "source": [
    "gb_grid.best_params_"
   ]
  },
  {
   "cell_type": "code",
   "execution_count": 79,
   "metadata": {},
   "outputs": [],
   "source": [
    "estimator = gb_grid.best_estimator_"
   ]
  },
  {
   "cell_type": "markdown",
   "metadata": {},
   "source": [
    "**최신 모델 저장**"
   ]
  },
  {
   "cell_type": "code",
   "execution_count": 80,
   "metadata": {},
   "outputs": [],
   "source": [
    "import joblib"
   ]
  },
  {
   "cell_type": "code",
   "execution_count": 81,
   "metadata": {},
   "outputs": [
    {
     "data": {
      "text/plain": [
       "['승촌보_gb_수온.pkl']"
      ]
     },
     "execution_count": 81,
     "metadata": {},
     "output_type": "execute_result"
    }
   ],
   "source": [
    "joblib.dump(estimator, \"승촌보_gb_수온.pkl\")"
   ]
  },
  {
   "cell_type": "markdown",
   "metadata": {},
   "source": [
    "저장된 모델을 다시 불러오기"
   ]
  },
  {
   "cell_type": "code",
   "execution_count": 82,
   "metadata": {},
   "outputs": [],
   "source": [
    "estimator = joblib.load(\"승촌보_gb_수온.pkl\")"
   ]
  },
  {
   "cell_type": "code",
   "execution_count": 83,
   "metadata": {},
   "outputs": [],
   "source": [
    "pred = estimator.predict(X_test)"
   ]
  },
  {
   "cell_type": "code",
   "execution_count": 84,
   "metadata": {},
   "outputs": [
    {
     "name": "stdout",
     "output_type": "stream",
     "text": [
      "0.06 수온 ℃\n",
      "0.17 전기전도도 μS/cm\n",
      "0.05 총유기탄소 mg/L\n",
      "0.06 총질소 mg/L\n",
      "0.05 총인 mg/L\n",
      "0.14 상류수위(EL.m)\n",
      "0.21 방류량(㎥/s)\n",
      "0.08 2shift 수온\n",
      "0.02 4shift 수온\n",
      "0.0 6shift 수온\n",
      "0.0 8shift 수온\n",
      "0.0 10shift 수온\n",
      "0.0 12shift 수온\n",
      "0.0 14shift 수온\n",
      "0.0 16shift 수온\n",
      "0.01 18shift 수온\n",
      "0.0 20shift 수온\n",
      "0.0 22shift 수온\n",
      "0.0 24shift 수온\n",
      "0.01 26shift 수온\n",
      "0.0 28shift 수온\n",
      "0.0 30shift 수온\n",
      "0.0 32shift 수온\n",
      "0.0 34shift 수온\n",
      "0.0 36shift 수온\n",
      "0.0 38shift 수온\n",
      "0.01 40shift 수온\n",
      "0.0 42shift 수온\n",
      "0.0 44shift 수온\n",
      "0.0 46shift 수온\n",
      "0.0 48shift 수온\n",
      "0.0 50shift 수온\n",
      "0.0 52shift 수온\n",
      "0.0 54shift 수온\n",
      "0.0 56shift 수온\n",
      "0.01 58shift 수온\n",
      "0.01 60shift 수온\n",
      "0.01 62shift 수온\n",
      "0.01 64shift 수온\n",
      "0.01 66shift 수온\n",
      "0.01 68shift 수온\n",
      "0.0 70shift 수온\n",
      "0.02 72shift 수온\n"
     ]
    }
   ],
   "source": [
    "for score, name in zip(estimator.feature_importances_, col):\n",
    "    print(round(score, 2), name)"
   ]
  },
  {
   "cell_type": "code",
   "execution_count": 85,
   "metadata": {},
   "outputs": [
    {
     "data": {
      "image/png": "[encoded data removed]",
      "text/plain": [
       "<Figure size 720x432 with 1 Axes>"
      ]
     },
     "metadata": {
      "needs_background": "light"
     },
     "output_type": "display_data"
    }
   ],
   "source": [
    "feature_series = pd.Series(data = estimator.feature_importances_, index = col)\n",
    "feature_series = feature_series.sort_values(ascending = False)\n",
    "sns.barplot(x = feature_series[:10], y = feature_series.index[:10], color = 'gray')\n",
    "plt.show()"
   ]
  },
  {
   "cell_type": "code",
   "execution_count": 86,
   "metadata": {},
   "outputs": [
    {
     "data": {
      "text/plain": [
       "방류량(㎥/s)       0.208991\n",
       "전기전도도 μS/cm    0.168133\n",
       "상류수위(EL.m)     0.138403\n",
       "2shift 수온      0.078975\n",
       "총질소 mg/L       0.063097\n",
       "수온 ℃           0.057175\n",
       "총인 mg/L        0.051925\n",
       "총유기탄소 mg/L     0.049896\n",
       "4shift 수온      0.019267\n",
       "72shift 수온     0.016908\n",
       "dtype: float64"
      ]
     },
     "execution_count": 86,
     "metadata": {},
     "output_type": "execute_result"
    }
   ],
   "source": [
    "feature_series[:10]"
   ]
  },
  {
   "cell_type": "code",
   "execution_count": 87,
   "metadata": {},
   "outputs": [
    {
     "name": "stdout",
     "output_type": "stream",
     "text": [
      "score : 0.9570012244066335\n"
     ]
    }
   ],
   "source": [
    "print('score :', estimator.score(X_test, y_test))"
   ]
  },
  {
   "cell_type": "markdown",
   "metadata": {},
   "source": [
    "## shift수온 + 방류량 데이터만"
   ]
  },
  {
   "cell_type": "code",
   "execution_count": 88,
   "metadata": {},
   "outputs": [],
   "source": [
    "col_v = ['방류량(㎥/s)']\n",
    "\n",
    "for i in col:\n",
    "    if '수온' in i:\n",
    "        col_v.append(i)"
   ]
  },
  {
   "cell_type": "code",
   "execution_count": 89,
   "metadata": {},
   "outputs": [
    {
     "name": "stdout",
     "output_type": "stream",
     "text": [
      "['방류량(㎥/s)', '수온 ℃', '2shift 수온', '4shift 수온', '6shift 수온', '8shift 수온', '10shift 수온', '12shift 수온', '14shift 수온', '16shift 수온', '18shift 수온', '20shift 수온', '22shift 수온', '24shift 수온', '26shift 수온', '28shift 수온', '30shift 수온', '32shift 수온', '34shift 수온', '36shift 수온', '38shift 수온', '40shift 수온', '42shift 수온', '44shift 수온', '46shift 수온', '48shift 수온', '50shift 수온', '52shift 수온', '54shift 수온', '56shift 수온', '58shift 수온', '60shift 수온', '62shift 수온', '64shift 수온', '66shift 수온', '68shift 수온', '70shift 수온', '72shift 수온']\n"
     ]
    }
   ],
   "source": [
    "print(col_v)"
   ]
  },
  {
   "cell_type": "markdown",
   "metadata": {},
   "source": [
    "## 모델 훈련 - RandomForest(shift수온 + 방류량)"
   ]
  },
  {
   "cell_type": "code",
   "execution_count": 90,
   "metadata": {},
   "outputs": [],
   "source": [
    "X_train, X_test, y_train, y_test = train_test_split(scb_df.loc[:, col_v], scb_df['log_Chl-a'], random_state=42)\n",
    "rf_reg = RandomForestRegressor(random_state=42, oob_score=True, n_jobs=-1)\n",
    "\n",
    "parameters = {'n_estimators':[100, 500], 'max_depth':[5, 10, 15], 'min_samples_leaf':[8, 12, 16]}"
   ]
  },
  {
   "cell_type": "code",
   "execution_count": 91,
   "metadata": {},
   "outputs": [],
   "source": [
    "rf_grid = GridSearchCV(rf_reg, param_grid=parameters, cv=3, verbose=5)\n",
    "# rf_grid = GridSearchCV(rf_reg, param_grid=parameters, cv=3, n_jobs=-1, verbose=5)"
   ]
  },
  {
   "cell_type": "code",
   "execution_count": 92,
   "metadata": {},
   "outputs": [
    {
     "name": "stdout",
     "output_type": "stream",
     "text": [
      "Fitting 3 folds for each of 18 candidates, totalling 54 fits\n"
     ]
    },
    {
     "data": {
      "text/plain": [
       "GridSearchCV(cv=3,\n",
       "             estimator=RandomForestRegressor(n_jobs=-1, oob_score=True,\n",
       "                                             random_state=42),\n",
       "             n_jobs=-1,\n",
       "             param_grid={'max_depth': [5, 10, 15],\n",
       "                         'min_samples_leaf': [8, 12, 16],\n",
       "                         'n_estimators': [100, 500]},\n",
       "             verbose=5)"
      ]
     },
     "execution_count": 92,
     "metadata": {},
     "output_type": "execute_result"
    }
   ],
   "source": [
    "rf_grid.fit(X_train, y_train)"
   ]
  },
  {
   "cell_type": "code",
   "execution_count": 93,
   "metadata": {},
   "outputs": [],
   "source": [
    "scores_df = pd.DataFrame(rf_grid.cv_results_)"
   ]
  },
  {
   "cell_type": "code",
   "execution_count": 94,
   "metadata": {},
   "outputs": [
    {
     "data": {
      "text/html": [
       "<div>\n",
       "<style scoped>\n",
       "    .dataframe tbody tr th:only-of-type {\n",
       "        vertical-align: middle;\n",
       "    }\n",
       "\n",
       "    .dataframe tbody tr th {\n",
       "        vertical-align: top;\n",
       "    }\n",
       "\n",
       "    .dataframe thead th {\n",
       "        text-align: right;\n",
       "    }\n",
       "</style>\n",
       "<table border=\"1\" class=\"dataframe\">\n",
       "  <thead>\n",
       "    <tr style=\"text-align: right;\">\n",
       "      <th></th>\n",
       "      <th>params</th>\n",
       "      <th>mean_test_score</th>\n",
       "      <th>rank_test_score</th>\n",
       "    </tr>\n",
       "  </thead>\n",
       "  <tbody>\n",
       "    <tr>\n",
       "      <th>13</th>\n",
       "      <td>{'max_depth': 15, 'min_samples_leaf': 8, 'n_es...</td>\n",
       "      <td>0.696213</td>\n",
       "      <td>1</td>\n",
       "    </tr>\n",
       "    <tr>\n",
       "      <th>12</th>\n",
       "      <td>{'max_depth': 15, 'min_samples_leaf': 8, 'n_es...</td>\n",
       "      <td>0.693913</td>\n",
       "      <td>2</td>\n",
       "    </tr>\n",
       "    <tr>\n",
       "      <th>15</th>\n",
       "      <td>{'max_depth': 15, 'min_samples_leaf': 12, 'n_e...</td>\n",
       "      <td>0.674208</td>\n",
       "      <td>3</td>\n",
       "    </tr>\n",
       "    <tr>\n",
       "      <th>14</th>\n",
       "      <td>{'max_depth': 15, 'min_samples_leaf': 12, 'n_e...</td>\n",
       "      <td>0.671974</td>\n",
       "      <td>4</td>\n",
       "    </tr>\n",
       "    <tr>\n",
       "      <th>17</th>\n",
       "      <td>{'max_depth': 15, 'min_samples_leaf': 16, 'n_e...</td>\n",
       "      <td>0.655448</td>\n",
       "      <td>5</td>\n",
       "    </tr>\n",
       "  </tbody>\n",
       "</table>\n",
       "</div>"
      ],
      "text/plain": [
       "                                               params  mean_test_score  \\\n",
       "13  {'max_depth': 15, 'min_samples_leaf': 8, 'n_es...         0.696213   \n",
       "12  {'max_depth': 15, 'min_samples_leaf': 8, 'n_es...         0.693913   \n",
       "15  {'max_depth': 15, 'min_samples_leaf': 12, 'n_e...         0.674208   \n",
       "14  {'max_depth': 15, 'min_samples_leaf': 12, 'n_e...         0.671974   \n",
       "17  {'max_depth': 15, 'min_samples_leaf': 16, 'n_e...         0.655448   \n",
       "\n",
       "    rank_test_score  \n",
       "13                1  \n",
       "12                2  \n",
       "15                3  \n",
       "14                4  \n",
       "17                5  "
      ]
     },
     "execution_count": 94,
     "metadata": {},
     "output_type": "execute_result"
    }
   ],
   "source": [
    "scores_df.sort_values(by=['rank_test_score'], inplace=True)\n",
    "scores_df[['params', 'mean_test_score', 'rank_test_score']].head()"
   ]
  },
  {
   "cell_type": "code",
   "execution_count": 95,
   "metadata": {},
   "outputs": [
    {
     "data": {
      "text/plain": [
       "{'max_depth': 15, 'min_samples_leaf': 8, 'n_estimators': 500}"
      ]
     },
     "execution_count": 95,
     "metadata": {},
     "output_type": "execute_result"
    }
   ],
   "source": [
    "rf_grid.best_params_"
   ]
  },
  {
   "cell_type": "code",
   "execution_count": 96,
   "metadata": {},
   "outputs": [],
   "source": [
    "estimator = rf_grid.best_estimator_"
   ]
  },
  {
   "cell_type": "markdown",
   "metadata": {},
   "source": [
    "최신 모델 저장"
   ]
  },
  {
   "cell_type": "code",
   "execution_count": 97,
   "metadata": {},
   "outputs": [
    {
     "data": {
      "text/plain": [
       "['승촌보_rf_only수온_방류량.pkl']"
      ]
     },
     "execution_count": 97,
     "metadata": {},
     "output_type": "execute_result"
    }
   ],
   "source": [
    "joblib.dump(estimator, \"승촌보_rf_only수온_방류량.pkl\")\n"
   ]
  },
  {
   "cell_type": "markdown",
   "metadata": {},
   "source": [
    "저장된 모델 다시 불러오기"
   ]
  },
  {
   "cell_type": "code",
   "execution_count": 98,
   "metadata": {},
   "outputs": [],
   "source": [
    "estimator = joblib.load(\"승촌보_rf_only수온_방류량.pkl\")"
   ]
  },
  {
   "cell_type": "code",
   "execution_count": 99,
   "metadata": {},
   "outputs": [
    {
     "data": {
      "text/plain": [
       "0.7306566371546388"
      ]
     },
     "execution_count": 99,
     "metadata": {},
     "output_type": "execute_result"
    }
   ],
   "source": [
    "estimator.oob_score_"
   ]
  },
  {
   "cell_type": "code",
   "execution_count": 100,
   "metadata": {},
   "outputs": [],
   "source": [
    "pred = estimator.predict(X_test)"
   ]
  },
  {
   "cell_type": "code",
   "execution_count": 101,
   "metadata": {},
   "outputs": [
    {
     "name": "stdout",
     "output_type": "stream",
     "text": [
      "0.42 방류량(㎥/s)\n",
      "0.1 수온 ℃\n",
      "0.07 2shift 수온\n",
      "0.03 4shift 수온\n",
      "0.02 6shift 수온\n",
      "0.01 8shift 수온\n",
      "0.01 10shift 수온\n",
      "0.01 12shift 수온\n",
      "0.01 14shift 수온\n",
      "0.01 16shift 수온\n",
      "0.01 18shift 수온\n",
      "0.01 20shift 수온\n",
      "0.01 22shift 수온\n",
      "0.01 24shift 수온\n",
      "0.01 26shift 수온\n",
      "0.01 28shift 수온\n",
      "0.01 30shift 수온\n",
      "0.01 32shift 수온\n",
      "0.01 34shift 수온\n",
      "0.01 36shift 수온\n",
      "0.01 38shift 수온\n",
      "0.01 40shift 수온\n",
      "0.01 42shift 수온\n",
      "0.01 44shift 수온\n",
      "0.01 46shift 수온\n",
      "0.01 48shift 수온\n",
      "0.01 50shift 수온\n",
      "0.01 52shift 수온\n",
      "0.01 54shift 수온\n",
      "0.01 56shift 수온\n",
      "0.01 58shift 수온\n",
      "0.01 60shift 수온\n",
      "0.01 62shift 수온\n",
      "0.01 64shift 수온\n",
      "0.01 66shift 수온\n",
      "0.01 68shift 수온\n",
      "0.01 70shift 수온\n",
      "0.03 72shift 수온\n"
     ]
    }
   ],
   "source": [
    "for score, name in zip(estimator.feature_importances_, col_v):\n",
    "    print(round(score, 2), name)"
   ]
  },
  {
   "cell_type": "code",
   "execution_count": 102,
   "metadata": {},
   "outputs": [
    {
     "data": {
      "image/png": "[encoded data removed]",
      "text/plain": [
       "<Figure size 720x432 with 1 Axes>"
      ]
     },
     "metadata": {
      "needs_background": "light"
     },
     "output_type": "display_data"
    }
   ],
   "source": [
    "feature_series = pd.Series(data = estimator.feature_importances_, index = col_v)\n",
    "feature_series = feature_series.sort_values(ascending = False)\n",
    "sns.barplot(x = feature_series[:10], y = feature_series.index[:10], color = 'gray')\n",
    "plt.show()"
   ]
  },
  {
   "cell_type": "code",
   "execution_count": 103,
   "metadata": {},
   "outputs": [
    {
     "data": {
      "text/plain": [
       "방류량(㎥/s)      0.421647\n",
       "수온 ℃          0.095918\n",
       "2shift 수온     0.069155\n",
       "4shift 수온     0.030120\n",
       "72shift 수온    0.027846\n",
       "6shift 수온     0.022897\n",
       "70shift 수온    0.014053\n",
       "68shift 수온    0.013945\n",
       "20shift 수온    0.013910\n",
       "24shift 수온    0.013634\n",
       "dtype: float64"
      ]
     },
     "execution_count": 103,
     "metadata": {},
     "output_type": "execute_result"
    }
   ],
   "source": [
    "feature_series[:10]"
   ]
  },
  {
   "cell_type": "code",
   "execution_count": 104,
   "metadata": {},
   "outputs": [
    {
     "name": "stdout",
     "output_type": "stream",
     "text": [
      "score : 0.7301860411749305\n"
     ]
    }
   ],
   "source": [
    "print('score :', estimator.score(X_test, y_test))"
   ]
  },
  {
   "cell_type": "markdown",
   "metadata": {},
   "source": [
    "## 모델 훈련 - GradientBoosting(shift수온+방류량)"
   ]
  },
  {
   "cell_type": "code",
   "execution_count": 105,
   "metadata": {},
   "outputs": [],
   "source": [
    "X_train, X_test, y_train, y_test = train_test_split(scb_df.loc[:, col_v], scb_df['log_Chl-a'], random_state=42)\n",
    "gb_reg = GradientBoostingRegressor(random_state=42)\n",
    "\n",
    "parameters = {'max_depth':[5, 10, 15], 'learning_rate':[0.05, 0.1, 0.2]}"
   ]
  },
  {
   "cell_type": "code",
   "execution_count": 106,
   "metadata": {},
   "outputs": [],
   "source": [
    "gb_grid = GridSearchCV(gb_reg, param_grid=parameters, cv=3, verbose=5)"
   ]
  },
  {
   "cell_type": "code",
   "execution_count": 107,
   "metadata": {},
   "outputs": [
    {
     "name": "stdout",
     "output_type": "stream",
     "text": [
      "Fitting 3 folds for each of 9 candidates, totalling 27 fits\n",
      "[CV 1/3] END ...learning_rate=0.05, max_depth=5;, score=0.526 total time=  28.5s\n",
      "[CV 2/3] END ...learning_rate=0.05, max_depth=5;, score=0.515 total time=  28.6s\n",
      "[CV 3/3] END ...learning_rate=0.05, max_depth=5;, score=0.518 total time=  28.7s\n",
      "[CV 1/3] END ..learning_rate=0.05, max_depth=10;, score=0.718 total time=  56.4s\n",
      "[CV 2/3] END ..learning_rate=0.05, max_depth=10;, score=0.706 total time=  56.8s\n",
      "[CV 3/3] END ..learning_rate=0.05, max_depth=10;, score=0.713 total time=  56.6s\n",
      "[CV 1/3] END ..learning_rate=0.05, max_depth=15;, score=0.790 total time= 1.4min\n",
      "[CV 2/3] END ..learning_rate=0.05, max_depth=15;, score=0.776 total time= 1.4min\n",
      "[CV 3/3] END ..learning_rate=0.05, max_depth=15;, score=0.768 total time= 1.4min\n",
      "[CV 1/3] END ....learning_rate=0.1, max_depth=5;, score=0.560 total time=  28.5s\n",
      "[CV 2/3] END ....learning_rate=0.1, max_depth=5;, score=0.551 total time=  28.4s\n",
      "[CV 3/3] END ....learning_rate=0.1, max_depth=5;, score=0.552 total time=  28.5s\n",
      "[CV 1/3] END ...learning_rate=0.1, max_depth=10;, score=0.743 total time=  56.1s\n",
      "[CV 2/3] END ...learning_rate=0.1, max_depth=10;, score=0.733 total time=  56.2s\n",
      "[CV 3/3] END ...learning_rate=0.1, max_depth=10;, score=0.738 total time=  56.2s\n",
      "[CV 1/3] END ...learning_rate=0.1, max_depth=15;, score=0.793 total time= 1.4min\n",
      "[CV 2/3] END ...learning_rate=0.1, max_depth=15;, score=0.783 total time= 1.4min\n",
      "[CV 3/3] END ...learning_rate=0.1, max_depth=15;, score=0.774 total time= 1.4min\n",
      "[CV 1/3] END ....learning_rate=0.2, max_depth=5;, score=0.604 total time=  28.4s\n",
      "[CV 2/3] END ....learning_rate=0.2, max_depth=5;, score=0.592 total time=  28.3s\n",
      "[CV 3/3] END ....learning_rate=0.2, max_depth=5;, score=0.602 total time=  28.4s\n",
      "[CV 1/3] END ...learning_rate=0.2, max_depth=10;, score=0.769 total time=  56.0s\n",
      "[CV 2/3] END ...learning_rate=0.2, max_depth=10;, score=0.751 total time=  56.0s\n",
      "[CV 3/3] END ...learning_rate=0.2, max_depth=10;, score=0.760 total time=  56.0s\n",
      "[CV 1/3] END ...learning_rate=0.2, max_depth=15;, score=0.787 total time= 1.4min\n",
      "[CV 2/3] END ...learning_rate=0.2, max_depth=15;, score=0.775 total time= 1.4min\n",
      "[CV 3/3] END ...learning_rate=0.2, max_depth=15;, score=0.770 total time= 1.4min\n"
     ]
    },
    {
     "data": {
      "text/plain": [
       "GridSearchCV(cv=3, estimator=GradientBoostingRegressor(random_state=42),\n",
       "             param_grid={'learning_rate': [0.05, 0.1, 0.2],\n",
       "                         'max_depth': [5, 10, 15]},\n",
       "             verbose=5)"
      ]
     },
     "execution_count": 107,
     "metadata": {},
     "output_type": "execute_result"
    }
   ],
   "source": [
    "gb_grid.fit(X_train, y_train)"
   ]
  },
  {
   "cell_type": "code",
   "execution_count": 108,
   "metadata": {},
   "outputs": [],
   "source": [
    "scores_df = pd.DataFrame(gb_grid.cv_results_)"
   ]
  },
  {
   "cell_type": "code",
   "execution_count": 109,
   "metadata": {},
   "outputs": [
    {
     "data": {
      "text/html": [
       "<div>\n",
       "<style scoped>\n",
       "    .dataframe tbody tr th:only-of-type {\n",
       "        vertical-align: middle;\n",
       "    }\n",
       "\n",
       "    .dataframe tbody tr th {\n",
       "        vertical-align: top;\n",
       "    }\n",
       "\n",
       "    .dataframe thead th {\n",
       "        text-align: right;\n",
       "    }\n",
       "</style>\n",
       "<table border=\"1\" class=\"dataframe\">\n",
       "  <thead>\n",
       "    <tr style=\"text-align: right;\">\n",
       "      <th></th>\n",
       "      <th>params</th>\n",
       "      <th>mean_test_score</th>\n",
       "      <th>rank_test_score</th>\n",
       "    </tr>\n",
       "  </thead>\n",
       "  <tbody>\n",
       "    <tr>\n",
       "      <th>5</th>\n",
       "      <td>{'learning_rate': 0.1, 'max_depth': 15}</td>\n",
       "      <td>0.783220</td>\n",
       "      <td>1</td>\n",
       "    </tr>\n",
       "    <tr>\n",
       "      <th>2</th>\n",
       "      <td>{'learning_rate': 0.05, 'max_depth': 15}</td>\n",
       "      <td>0.777931</td>\n",
       "      <td>2</td>\n",
       "    </tr>\n",
       "    <tr>\n",
       "      <th>8</th>\n",
       "      <td>{'learning_rate': 0.2, 'max_depth': 15}</td>\n",
       "      <td>0.777579</td>\n",
       "      <td>3</td>\n",
       "    </tr>\n",
       "    <tr>\n",
       "      <th>7</th>\n",
       "      <td>{'learning_rate': 0.2, 'max_depth': 10}</td>\n",
       "      <td>0.760120</td>\n",
       "      <td>4</td>\n",
       "    </tr>\n",
       "    <tr>\n",
       "      <th>4</th>\n",
       "      <td>{'learning_rate': 0.1, 'max_depth': 10}</td>\n",
       "      <td>0.738248</td>\n",
       "      <td>5</td>\n",
       "    </tr>\n",
       "  </tbody>\n",
       "</table>\n",
       "</div>"
      ],
      "text/plain": [
       "                                     params  mean_test_score  rank_test_score\n",
       "5   {'learning_rate': 0.1, 'max_depth': 15}         0.783220                1\n",
       "2  {'learning_rate': 0.05, 'max_depth': 15}         0.777931                2\n",
       "8   {'learning_rate': 0.2, 'max_depth': 15}         0.777579                3\n",
       "7   {'learning_rate': 0.2, 'max_depth': 10}         0.760120                4\n",
       "4   {'learning_rate': 0.1, 'max_depth': 10}         0.738248                5"
      ]
     },
     "execution_count": 109,
     "metadata": {},
     "output_type": "execute_result"
    }
   ],
   "source": [
    "scores_df.sort_values(by=['rank_test_score'], inplace=True)\n",
    "scores_df[['params', 'mean_test_score', 'rank_test_score']].head()"
   ]
  },
  {
   "cell_type": "code",
   "execution_count": 110,
   "metadata": {},
   "outputs": [
    {
     "data": {
      "text/plain": [
       "{'learning_rate': 0.1, 'max_depth': 15}"
      ]
     },
     "execution_count": 110,
     "metadata": {},
     "output_type": "execute_result"
    }
   ],
   "source": [
    "gb_grid.best_params_"
   ]
  },
  {
   "cell_type": "code",
   "execution_count": 111,
   "metadata": {},
   "outputs": [],
   "source": [
    "estimator = gb_grid.best_estimator_"
   ]
  },
  {
   "cell_type": "markdown",
   "metadata": {},
   "source": [
    "최신 모델 저장"
   ]
  },
  {
   "cell_type": "code",
   "execution_count": 112,
   "metadata": {},
   "outputs": [
    {
     "data": {
      "text/plain": [
       "['승촌보_gb_only수온_방류량.pkl']"
      ]
     },
     "execution_count": 112,
     "metadata": {},
     "output_type": "execute_result"
    }
   ],
   "source": [
    "joblib.dump(estimator, \"승촌보_gb_only수온_방류량.pkl\")"
   ]
  },
  {
   "cell_type": "markdown",
   "metadata": {},
   "source": [
    "저장된 모델을 다시 불러오기"
   ]
  },
  {
   "cell_type": "code",
   "execution_count": 113,
   "metadata": {},
   "outputs": [],
   "source": [
    "estimator = joblib.load(\"승촌보_gb_only수온_방류량.pkl\")"
   ]
  },
  {
   "cell_type": "code",
   "execution_count": 114,
   "metadata": {},
   "outputs": [],
   "source": [
    "pred = estimator.predict(X_test)"
   ]
  },
  {
   "cell_type": "code",
   "execution_count": 115,
   "metadata": {},
   "outputs": [
    {
     "name": "stdout",
     "output_type": "stream",
     "text": [
      "0.36 방류량(㎥/s)\n",
      "0.1 수온 ℃\n",
      "0.04 2shift 수온\n",
      "0.04 4shift 수온\n",
      "0.02 6shift 수온\n",
      "0.01 8shift 수온\n",
      "0.01 10shift 수온\n",
      "0.01 12shift 수온\n",
      "0.01 14shift 수온\n",
      "0.01 16shift 수온\n",
      "0.02 18shift 수온\n",
      "0.02 20shift 수온\n",
      "0.01 22shift 수온\n",
      "0.01 24shift 수온\n",
      "0.01 26shift 수온\n",
      "0.01 28shift 수온\n",
      "0.01 30shift 수온\n",
      "0.01 32shift 수온\n",
      "0.01 34shift 수온\n",
      "0.01 36shift 수온\n",
      "0.01 38shift 수온\n",
      "0.01 40shift 수온\n",
      "0.01 42shift 수온\n",
      "0.01 44shift 수온\n",
      "0.01 46shift 수온\n",
      "0.01 48shift 수온\n",
      "0.01 50shift 수온\n",
      "0.01 52shift 수온\n",
      "0.01 54shift 수온\n",
      "0.02 56shift 수온\n",
      "0.01 58shift 수온\n",
      "0.01 60shift 수온\n",
      "0.01 62shift 수온\n",
      "0.01 64shift 수온\n",
      "0.02 66shift 수온\n",
      "0.02 68shift 수온\n",
      "0.02 70shift 수온\n",
      "0.04 72shift 수온\n"
     ]
    }
   ],
   "source": [
    "for score, name in zip(estimator.feature_importances_, col_v):\n",
    "    print(round(score, 2), name)"
   ]
  },
  {
   "cell_type": "code",
   "execution_count": 116,
   "metadata": {},
   "outputs": [
    {
     "data": {
      "image/png": "[encoded data removed]",
      "text/plain": [
       "<Figure size 720x432 with 1 Axes>"
      ]
     },
     "metadata": {
      "needs_background": "light"
     },
     "output_type": "display_data"
    }
   ],
   "source": [
    "feature_series = pd.Series(data = estimator.feature_importances_, index = col_v)\n",
    "feature_series = feature_series.sort_values(ascending = False)\n",
    "sns.barplot(x = feature_series[:10], y = feature_series.index[:10], color = 'gray')\n",
    "plt.show()"
   ]
  },
  {
   "cell_type": "code",
   "execution_count": 117,
   "metadata": {},
   "outputs": [
    {
     "data": {
      "text/plain": [
       "방류량(㎥/s)      0.364591\n",
       "수온 ℃          0.099726\n",
       "4shift 수온     0.038093\n",
       "2shift 수온     0.037054\n",
       "72shift 수온    0.035487\n",
       "20shift 수온    0.024554\n",
       "6shift 수온     0.019544\n",
       "56shift 수온    0.018037\n",
       "68shift 수온    0.017890\n",
       "70shift 수온    0.017743\n",
       "dtype: float64"
      ]
     },
     "execution_count": 117,
     "metadata": {},
     "output_type": "execute_result"
    }
   ],
   "source": [
    "feature_series[:10]"
   ]
  },
  {
   "cell_type": "code",
   "execution_count": 118,
   "metadata": {},
   "outputs": [
    {
     "name": "stdout",
     "output_type": "stream",
     "text": [
      "score : 0.8306539060515679\n"
     ]
    }
   ],
   "source": [
    "print('score :', estimator.score(X_test, y_test))"
   ]
  },
  {
   "cell_type": "markdown",
   "metadata": {},
   "source": [
    "## 전체 + 수온대신 2shift수온만"
   ]
  },
  {
   "cell_type": "code",
   "execution_count": 119,
   "metadata": {},
   "outputs": [
    {
     "name": "stdout",
     "output_type": "stream",
     "text": [
      "['전기전도도 μS/cm', '총유기탄소 mg/L', '총질소 mg/L', '총인 mg/L', '상류수위(EL.m)', '방류량(㎥/s)', '2shift 수온']\n"
     ]
    }
   ],
   "source": [
    "col_2 = ['전기전도도 μS/cm', '총유기탄소 mg/L', '총질소 mg/L', '총인 mg/L', '상류수위(EL.m)', '방류량(㎥/s)', '2shift 수온']\n",
    "print(col_2)"
   ]
  },
  {
   "cell_type": "markdown",
   "metadata": {},
   "source": [
    "## 모델 훈련 - RandomForest(전체 + 수온대신 2shift수온)"
   ]
  },
  {
   "cell_type": "code",
   "execution_count": 120,
   "metadata": {},
   "outputs": [],
   "source": [
    "X_train, X_test, y_train, y_test = train_test_split(scb_df.loc[:, col_2], scb_df['log_Chl-a'], random_state=42)\n",
    "rf_reg = RandomForestRegressor(random_state=42, oob_score=True, n_jobs=-1)\n",
    "\n",
    "parameters = {'n_estimators':[100, 500], 'max_depth':[5, 10, 15], 'min_samples_leaf':[8, 12, 16]}"
   ]
  },
  {
   "cell_type": "code",
   "execution_count": 121,
   "metadata": {},
   "outputs": [],
   "source": [
    "rf_grid = GridSearchCV(rf_reg, param_grid=parameters, cv=3, n_jobs=-1, verbose=5)"
   ]
  },
  {
   "cell_type": "code",
   "execution_count": 122,
   "metadata": {},
   "outputs": [
    {
     "name": "stdout",
     "output_type": "stream",
     "text": [
      "Fitting 3 folds for each of 18 candidates, totalling 54 fits\n"
     ]
    },
    {
     "data": {
      "text/plain": [
       "GridSearchCV(cv=3,\n",
       "             estimator=RandomForestRegressor(n_jobs=-1, oob_score=True,\n",
       "                                             random_state=42),\n",
       "             n_jobs=-1,\n",
       "             param_grid={'max_depth': [5, 10, 15],\n",
       "                         'min_samples_leaf': [8, 12, 16],\n",
       "                         'n_estimators': [100, 500]},\n",
       "             verbose=5)"
      ]
     },
     "execution_count": 122,
     "metadata": {},
     "output_type": "execute_result"
    }
   ],
   "source": [
    "rf_grid.fit(X_train, y_train)"
   ]
  },
  {
   "cell_type": "code",
   "execution_count": 123,
   "metadata": {},
   "outputs": [],
   "source": [
    "scores_df = pd.DataFrame(rf_grid.cv_results_)"
   ]
  },
  {
   "cell_type": "code",
   "execution_count": 124,
   "metadata": {},
   "outputs": [
    {
     "data": {
      "text/html": [
       "<div>\n",
       "<style scoped>\n",
       "    .dataframe tbody tr th:only-of-type {\n",
       "        vertical-align: middle;\n",
       "    }\n",
       "\n",
       "    .dataframe tbody tr th {\n",
       "        vertical-align: top;\n",
       "    }\n",
       "\n",
       "    .dataframe thead th {\n",
       "        text-align: right;\n",
       "    }\n",
       "</style>\n",
       "<table border=\"1\" class=\"dataframe\">\n",
       "  <thead>\n",
       "    <tr style=\"text-align: right;\">\n",
       "      <th></th>\n",
       "      <th>params</th>\n",
       "      <th>mean_test_score</th>\n",
       "      <th>rank_test_score</th>\n",
       "    </tr>\n",
       "  </thead>\n",
       "  <tbody>\n",
       "    <tr>\n",
       "      <th>13</th>\n",
       "      <td>{'max_depth': 15, 'min_samples_leaf': 8, 'n_es...</td>\n",
       "      <td>0.884662</td>\n",
       "      <td>1</td>\n",
       "    </tr>\n",
       "    <tr>\n",
       "      <th>12</th>\n",
       "      <td>{'max_depth': 15, 'min_samples_leaf': 8, 'n_es...</td>\n",
       "      <td>0.884253</td>\n",
       "      <td>2</td>\n",
       "    </tr>\n",
       "    <tr>\n",
       "      <th>15</th>\n",
       "      <td>{'max_depth': 15, 'min_samples_leaf': 12, 'n_e...</td>\n",
       "      <td>0.867694</td>\n",
       "      <td>3</td>\n",
       "    </tr>\n",
       "    <tr>\n",
       "      <th>14</th>\n",
       "      <td>{'max_depth': 15, 'min_samples_leaf': 12, 'n_e...</td>\n",
       "      <td>0.867318</td>\n",
       "      <td>4</td>\n",
       "    </tr>\n",
       "    <tr>\n",
       "      <th>17</th>\n",
       "      <td>{'max_depth': 15, 'min_samples_leaf': 16, 'n_e...</td>\n",
       "      <td>0.852850</td>\n",
       "      <td>5</td>\n",
       "    </tr>\n",
       "  </tbody>\n",
       "</table>\n",
       "</div>"
      ],
      "text/plain": [
       "                                               params  mean_test_score  \\\n",
       "13  {'max_depth': 15, 'min_samples_leaf': 8, 'n_es...         0.884662   \n",
       "12  {'max_depth': 15, 'min_samples_leaf': 8, 'n_es...         0.884253   \n",
       "15  {'max_depth': 15, 'min_samples_leaf': 12, 'n_e...         0.867694   \n",
       "14  {'max_depth': 15, 'min_samples_leaf': 12, 'n_e...         0.867318   \n",
       "17  {'max_depth': 15, 'min_samples_leaf': 16, 'n_e...         0.852850   \n",
       "\n",
       "    rank_test_score  \n",
       "13                1  \n",
       "12                2  \n",
       "15                3  \n",
       "14                4  \n",
       "17                5  "
      ]
     },
     "execution_count": 124,
     "metadata": {},
     "output_type": "execute_result"
    }
   ],
   "source": [
    "scores_df.sort_values(by=['rank_test_score'], inplace=True)\n",
    "scores_df[['params', 'mean_test_score', 'rank_test_score']].head()"
   ]
  },
  {
   "cell_type": "code",
   "execution_count": 125,
   "metadata": {},
   "outputs": [
    {
     "data": {
      "text/plain": [
       "{'max_depth': 15, 'min_samples_leaf': 8, 'n_estimators': 500}"
      ]
     },
     "execution_count": 125,
     "metadata": {},
     "output_type": "execute_result"
    }
   ],
   "source": [
    "rf_grid.best_params_"
   ]
  },
  {
   "cell_type": "code",
   "execution_count": 126,
   "metadata": {},
   "outputs": [],
   "source": [
    "estimator = rf_grid.best_estimator_"
   ]
  },
  {
   "cell_type": "markdown",
   "metadata": {},
   "source": [
    "최신 모델 저장"
   ]
  },
  {
   "cell_type": "code",
   "execution_count": 127,
   "metadata": {},
   "outputs": [
    {
     "data": {
      "text/plain": [
       "['승촌보_rf_2shift수온.pkl']"
      ]
     },
     "execution_count": 127,
     "metadata": {},
     "output_type": "execute_result"
    }
   ],
   "source": [
    "joblib.dump(estimator, \"승촌보_rf_2shift수온.pkl\")"
   ]
  },
  {
   "cell_type": "markdown",
   "metadata": {},
   "source": [
    "저장된 모델 다시 불러오기"
   ]
  },
  {
   "cell_type": "code",
   "execution_count": 128,
   "metadata": {},
   "outputs": [],
   "source": [
    "estimator = joblib.load(\"승촌보_rf_2shift수온.pkl\")"
   ]
  },
  {
   "cell_type": "code",
   "execution_count": 129,
   "metadata": {},
   "outputs": [
    {
     "data": {
      "text/plain": [
       "0.9030601377760745"
      ]
     },
     "execution_count": 129,
     "metadata": {},
     "output_type": "execute_result"
    }
   ],
   "source": [
    "estimator.oob_score_"
   ]
  },
  {
   "cell_type": "code",
   "execution_count": 130,
   "metadata": {},
   "outputs": [],
   "source": [
    "pred = estimator.predict(X_test)"
   ]
  },
  {
   "cell_type": "code",
   "execution_count": 131,
   "metadata": {},
   "outputs": [
    {
     "name": "stdout",
     "output_type": "stream",
     "text": [
      "0.18 전기전도도 μS/cm\n",
      "0.06 총유기탄소 mg/L\n",
      "0.08 총질소 mg/L\n",
      "0.07 총인 mg/L\n",
      "0.15 상류수위(EL.m)\n",
      "0.23 방류량(㎥/s)\n",
      "0.22 2shift 수온\n"
     ]
    }
   ],
   "source": [
    "for score, name in zip(estimator.feature_importances_, col_2):\n",
    "    print(round(score, 2), name)"
   ]
  },
  {
   "cell_type": "code",
   "execution_count": 132,
   "metadata": {},
   "outputs": [
    {
     "data": {
      "image/png": "[encoded data removed]",
      "text/plain": [
       "<Figure size 720x432 with 1 Axes>"
      ]
     },
     "metadata": {
      "needs_background": "light"
     },
     "output_type": "display_data"
    }
   ],
   "source": [
    "feature_series = pd.Series(data = estimator.feature_importances_, index = col_2)\n",
    "feature_series = feature_series.sort_values(ascending = False)\n",
    "sns.barplot(x = feature_series[:10], y = feature_series.index[:10], color = 'gray')\n",
    "plt.show()"
   ]
  },
  {
   "cell_type": "code",
   "execution_count": 133,
   "metadata": {},
   "outputs": [
    {
     "data": {
      "text/plain": [
       "방류량(㎥/s)       0.233856\n",
       "2shift 수온      0.224564\n",
       "전기전도도 μS/cm    0.184187\n",
       "상류수위(EL.m)     0.150119\n",
       "총질소 mg/L       0.077781\n",
       "총인 mg/L        0.065858\n",
       "총유기탄소 mg/L     0.063636\n",
       "dtype: float64"
      ]
     },
     "execution_count": 133,
     "metadata": {},
     "output_type": "execute_result"
    }
   ],
   "source": [
    "feature_series[:10]"
   ]
  },
  {
   "cell_type": "code",
   "execution_count": 134,
   "metadata": {},
   "outputs": [
    {
     "name": "stdout",
     "output_type": "stream",
     "text": [
      "score : 0.9008286966361575\n"
     ]
    }
   ],
   "source": [
    "print('score :', estimator.score(X_test, y_test))"
   ]
  },
  {
   "cell_type": "markdown",
   "metadata": {},
   "source": [
    "## 모델 훈련 - GradientBoosting(전체 + 수온대신 2shift수온)"
   ]
  },
  {
   "cell_type": "code",
   "execution_count": 135,
   "metadata": {},
   "outputs": [],
   "source": [
    "X_train, X_test, y_train, y_test = train_test_split(scb_df.loc[:, col_2], scb_df['log_Chl-a'], random_state=42)\n",
    "gb_reg = GradientBoostingRegressor(random_state=42)\n",
    "\n",
    "parameters = {'max_depth':[5, 10, 15], 'learning_rate':[0.05, 0.1, 0.2]}"
   ]
  },
  {
   "cell_type": "code",
   "execution_count": 136,
   "metadata": {},
   "outputs": [],
   "source": [
    "gb_grid = GridSearchCV(gb_reg, param_grid=parameters, cv=3, verbose=5)"
   ]
  },
  {
   "cell_type": "code",
   "execution_count": 137,
   "metadata": {},
   "outputs": [
    {
     "name": "stdout",
     "output_type": "stream",
     "text": [
      "Fitting 3 folds for each of 9 candidates, totalling 27 fits\n",
      "[CV 1/3] END ...learning_rate=0.05, max_depth=5;, score=0.730 total time=   7.2s\n",
      "[CV 2/3] END ...learning_rate=0.05, max_depth=5;, score=0.728 total time=   7.2s\n",
      "[CV 3/3] END ...learning_rate=0.05, max_depth=5;, score=0.726 total time=   7.2s\n",
      "[CV 1/3] END ..learning_rate=0.05, max_depth=10;, score=0.902 total time=  14.0s\n",
      "[CV 2/3] END ..learning_rate=0.05, max_depth=10;, score=0.901 total time=  14.0s\n",
      "[CV 3/3] END ..learning_rate=0.05, max_depth=10;, score=0.904 total time=  14.0s\n",
      "[CV 1/3] END ..learning_rate=0.05, max_depth=15;, score=0.925 total time=  20.2s\n",
      "[CV 2/3] END ..learning_rate=0.05, max_depth=15;, score=0.924 total time=  20.2s\n",
      "[CV 3/3] END ..learning_rate=0.05, max_depth=15;, score=0.921 total time=  20.2s\n",
      "[CV 1/3] END ....learning_rate=0.1, max_depth=5;, score=0.771 total time=   7.2s\n",
      "[CV 2/3] END ....learning_rate=0.1, max_depth=5;, score=0.767 total time=   7.2s\n",
      "[CV 3/3] END ....learning_rate=0.1, max_depth=5;, score=0.767 total time=   7.2s\n",
      "[CV 1/3] END ...learning_rate=0.1, max_depth=10;, score=0.915 total time=  14.1s\n",
      "[CV 2/3] END ...learning_rate=0.1, max_depth=10;, score=0.915 total time=  14.1s\n",
      "[CV 3/3] END ...learning_rate=0.1, max_depth=10;, score=0.913 total time=  14.1s\n",
      "[CV 1/3] END ...learning_rate=0.1, max_depth=15;, score=0.926 total time=  20.5s\n",
      "[CV 2/3] END ...learning_rate=0.1, max_depth=15;, score=0.927 total time=  21.1s\n",
      "[CV 3/3] END ...learning_rate=0.1, max_depth=15;, score=0.922 total time=  20.6s\n",
      "[CV 1/3] END ....learning_rate=0.2, max_depth=5;, score=0.817 total time=   7.2s\n",
      "[CV 2/3] END ....learning_rate=0.2, max_depth=5;, score=0.811 total time=   7.3s\n",
      "[CV 3/3] END ....learning_rate=0.2, max_depth=5;, score=0.812 total time=   7.2s\n",
      "[CV 1/3] END ...learning_rate=0.2, max_depth=10;, score=0.922 total time=  14.2s\n",
      "[CV 2/3] END ...learning_rate=0.2, max_depth=10;, score=0.920 total time=  14.2s\n",
      "[CV 3/3] END ...learning_rate=0.2, max_depth=10;, score=0.921 total time=  14.2s\n",
      "[CV 1/3] END ...learning_rate=0.2, max_depth=15;, score=0.925 total time=  20.8s\n",
      "[CV 2/3] END ...learning_rate=0.2, max_depth=15;, score=0.925 total time=  20.9s\n",
      "[CV 3/3] END ...learning_rate=0.2, max_depth=15;, score=0.920 total time=  20.8s\n"
     ]
    },
    {
     "data": {
      "text/plain": [
       "GridSearchCV(cv=3, estimator=GradientBoostingRegressor(random_state=42),\n",
       "             param_grid={'learning_rate': [0.05, 0.1, 0.2],\n",
       "                         'max_depth': [5, 10, 15]},\n",
       "             verbose=5)"
      ]
     },
     "execution_count": 137,
     "metadata": {},
     "output_type": "execute_result"
    }
   ],
   "source": [
    "gb_grid.fit(X_train, y_train)"
   ]
  },
  {
   "cell_type": "code",
   "execution_count": 138,
   "metadata": {},
   "outputs": [],
   "source": [
    "scores_df = pd.DataFrame(gb_grid.cv_results_)"
   ]
  },
  {
   "cell_type": "code",
   "execution_count": 139,
   "metadata": {},
   "outputs": [
    {
     "data": {
      "text/html": [
       "<div>\n",
       "<style scoped>\n",
       "    .dataframe tbody tr th:only-of-type {\n",
       "        vertical-align: middle;\n",
       "    }\n",
       "\n",
       "    .dataframe tbody tr th {\n",
       "        vertical-align: top;\n",
       "    }\n",
       "\n",
       "    .dataframe thead th {\n",
       "        text-align: right;\n",
       "    }\n",
       "</style>\n",
       "<table border=\"1\" class=\"dataframe\">\n",
       "  <thead>\n",
       "    <tr style=\"text-align: right;\">\n",
       "      <th></th>\n",
       "      <th>params</th>\n",
       "      <th>mean_test_score</th>\n",
       "      <th>rank_test_score</th>\n",
       "    </tr>\n",
       "  </thead>\n",
       "  <tbody>\n",
       "    <tr>\n",
       "      <th>5</th>\n",
       "      <td>{'learning_rate': 0.1, 'max_depth': 15}</td>\n",
       "      <td>0.925326</td>\n",
       "      <td>1</td>\n",
       "    </tr>\n",
       "    <tr>\n",
       "      <th>8</th>\n",
       "      <td>{'learning_rate': 0.2, 'max_depth': 15}</td>\n",
       "      <td>0.923433</td>\n",
       "      <td>2</td>\n",
       "    </tr>\n",
       "    <tr>\n",
       "      <th>2</th>\n",
       "      <td>{'learning_rate': 0.05, 'max_depth': 15}</td>\n",
       "      <td>0.923265</td>\n",
       "      <td>3</td>\n",
       "    </tr>\n",
       "    <tr>\n",
       "      <th>7</th>\n",
       "      <td>{'learning_rate': 0.2, 'max_depth': 10}</td>\n",
       "      <td>0.921117</td>\n",
       "      <td>4</td>\n",
       "    </tr>\n",
       "    <tr>\n",
       "      <th>4</th>\n",
       "      <td>{'learning_rate': 0.1, 'max_depth': 10}</td>\n",
       "      <td>0.914253</td>\n",
       "      <td>5</td>\n",
       "    </tr>\n",
       "  </tbody>\n",
       "</table>\n",
       "</div>"
      ],
      "text/plain": [
       "                                     params  mean_test_score  rank_test_score\n",
       "5   {'learning_rate': 0.1, 'max_depth': 15}         0.925326                1\n",
       "8   {'learning_rate': 0.2, 'max_depth': 15}         0.923433                2\n",
       "2  {'learning_rate': 0.05, 'max_depth': 15}         0.923265                3\n",
       "7   {'learning_rate': 0.2, 'max_depth': 10}         0.921117                4\n",
       "4   {'learning_rate': 0.1, 'max_depth': 10}         0.914253                5"
      ]
     },
     "execution_count": 139,
     "metadata": {},
     "output_type": "execute_result"
    }
   ],
   "source": [
    "scores_df.sort_values(by=['rank_test_score'], inplace=True)\n",
    "scores_df[['params', 'mean_test_score', 'rank_test_score']].head()"
   ]
  },
  {
   "cell_type": "code",
   "execution_count": 140,
   "metadata": {},
   "outputs": [
    {
     "data": {
      "text/plain": [
       "{'learning_rate': 0.1, 'max_depth': 15}"
      ]
     },
     "execution_count": 140,
     "metadata": {},
     "output_type": "execute_result"
    }
   ],
   "source": [
    "gb_grid.best_params_"
   ]
  },
  {
   "cell_type": "code",
   "execution_count": 141,
   "metadata": {},
   "outputs": [],
   "source": [
    "estimator = gb_grid.best_estimator_"
   ]
  },
  {
   "cell_type": "markdown",
   "metadata": {},
   "source": [
    "최신 모델 저장"
   ]
  },
  {
   "cell_type": "code",
   "execution_count": 142,
   "metadata": {},
   "outputs": [
    {
     "data": {
      "text/plain": [
       "['승촌보_gb_2shift수온.pkl']"
      ]
     },
     "execution_count": 142,
     "metadata": {},
     "output_type": "execute_result"
    }
   ],
   "source": [
    "joblib.dump(estimator, \"승촌보_gb_2shift수온.pkl\")"
   ]
  },
  {
   "cell_type": "markdown",
   "metadata": {},
   "source": [
    "저장된 모델을 다시 불러오기"
   ]
  },
  {
   "cell_type": "code",
   "execution_count": 143,
   "metadata": {},
   "outputs": [],
   "source": [
    "estimator = joblib.load(\"승촌보_gb_2shift수온.pkl\")"
   ]
  },
  {
   "cell_type": "code",
   "execution_count": 144,
   "metadata": {},
   "outputs": [],
   "source": [
    "pred = estimator.predict(X_test)"
   ]
  },
  {
   "cell_type": "code",
   "execution_count": 145,
   "metadata": {},
   "outputs": [
    {
     "name": "stdout",
     "output_type": "stream",
     "text": [
      "0.18 전기전도도 μS/cm\n",
      "0.07 총유기탄소 mg/L\n",
      "0.08 총질소 mg/L\n",
      "0.07 총인 mg/L\n",
      "0.15 상류수위(EL.m)\n",
      "0.22 방류량(㎥/s)\n",
      "0.22 2shift 수온\n"
     ]
    }
   ],
   "source": [
    "for score, name in zip(estimator.feature_importances_, col_2):\n",
    "    print(round(score, 2), name)"
   ]
  },
  {
   "cell_type": "code",
   "execution_count": 146,
   "metadata": {},
   "outputs": [
    {
     "data": {
      "image/png": "[encoded data removed]",
      "text/plain": [
       "<Figure size 720x432 with 1 Axes>"
      ]
     },
     "metadata": {
      "needs_background": "light"
     },
     "output_type": "display_data"
    }
   ],
   "source": [
    "feature_series = pd.Series(data = estimator.feature_importances_, index = col_2)\n",
    "feature_series = feature_series.sort_values(ascending = False)\n",
    "sns.barplot(x = feature_series[:10], y = feature_series.index[:10], color = 'gray')\n",
    "plt.show()"
   ]
  },
  {
   "cell_type": "code",
   "execution_count": 147,
   "metadata": {},
   "outputs": [
    {
     "data": {
      "text/plain": [
       "2shift 수온      0.222313\n",
       "방류량(㎥/s)       0.220934\n",
       "전기전도도 μS/cm    0.184726\n",
       "상류수위(EL.m)     0.146993\n",
       "총질소 mg/L       0.083101\n",
       "총인 mg/L        0.074299\n",
       "총유기탄소 mg/L     0.067634\n",
       "dtype: float64"
      ]
     },
     "execution_count": 147,
     "metadata": {},
     "output_type": "execute_result"
    }
   ],
   "source": [
    "feature_series[:10]"
   ]
  },
  {
   "cell_type": "code",
   "execution_count": 148,
   "metadata": {},
   "outputs": [
    {
     "name": "stdout",
     "output_type": "stream",
     "text": [
      "score : 0.9447886142140157\n"
     ]
    }
   ],
   "source": [
    "print('score :', estimator.score(X_test, y_test))"
   ]
  },
  {
   "cell_type": "code",
   "execution_count": null,
   "metadata": {},
   "outputs": [],
   "source": []
  }
 ],
 "metadata": {
  "kernelspec": {
   "display_name": "Python 3.9.12 ('base')",
   "language": "python",
   "name": "python3"
  },
  "language_info": {
   "codemirror_mode": {
    "name": "ipython",
    "version": 3
   },
   "file_extension": ".py",
   "mimetype": "text/x-python",
   "name": "python",
   "nbconvert_exporter": "python",
   "pygments_lexer": "ipython3",
   "version": "3.9.12"
  },
  "vscode": {
   "interpreter": {
    "hash": "ad0f3c8a064f687cbf898a0868fd45ba1c7e928ac8a0404f7c241d812ddc1e76"
   }
  }
 },
 "nbformat": 4,
 "nbformat_minor": 2
}
