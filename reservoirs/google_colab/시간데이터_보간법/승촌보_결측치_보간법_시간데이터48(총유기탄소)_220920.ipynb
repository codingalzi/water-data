{
 "cells": [
  {
   "cell_type": "markdown",
   "id": "ce925ce6",
   "metadata": {},
   "source": [
    "필요한 모듈 임포트"
   ]
  },
  {
   "cell_type": "code",
   "execution_count": 1,
   "id": "91e66a0b",
   "metadata": {},
   "outputs": [],
   "source": [
    "import numpy as np\n",
    "import pandas as pd\n",
    "import matplotlib.pyplot as plt\n",
    "import matplotlib"
   ]
  },
  {
   "cell_type": "code",
   "execution_count": 2,
   "id": "844b563e",
   "metadata": {},
   "outputs": [],
   "source": [
    "import platform\n",
    "plt.rc('figure', figsize=(10, 6))  # 그림 크기 설정\n",
    "if platform.system() == 'Windows': # 윈도우\n",
    "    from matplotlib import font_manager, rc\n",
    "    font_path = \"C:/Windows/Fonts/NGULIM.TTF\"\n",
    "    font = font_manager.FontProperties(fname=font_path).get_name()\n",
    "    rc('font', family=font)\n",
    "elif platform.system() == 'Linux': # 우분투 또는 구글 코랩\n",
    "    # !sudo apt-get install -y fonts-nanum*\n",
    "    # !fc-cache -fv\n",
    "    \n",
    "    applyfont = \"NanumBarunGothic\"\n",
    "    import matplotlib.font_manager as fm\n",
    "    if not any(map(lambda ft: ft.name == applyfont, fm.fontManager.ttflist)):\n",
    "        fm.fontManager.addfont(\"/usr/share/fonts/truetype/nanum/NanumBarunGothic.ttf\")\n",
    "    plt.rc(\"font\", family=applyfont)\n",
    "    plt.rc(\"axes\", unicode_minus=False)"
   ]
  },
  {
   "cell_type": "code",
   "execution_count": 3,
   "id": "ff6c28ef",
   "metadata": {},
   "outputs": [],
   "source": [
    "# GradientBoosting\n",
    "from sklearn.ensemble import GradientBoostingRegressor\n",
    "from sklearn.model_selection import train_test_split\n",
    "import seaborn as sns\n",
    "from sklearn.model_selection import GridSearchCV"
   ]
  },
  {
   "cell_type": "code",
   "execution_count": 4,
   "id": "7e6021d6",
   "metadata": {},
   "outputs": [],
   "source": [
    "from sklearn.preprocessing import StandardScaler"
   ]
  },
  {
   "cell_type": "markdown",
   "id": "50a6cce0",
   "metadata": {},
   "source": [
    "데이터 가져오기"
   ]
  },
  {
   "cell_type": "code",
   "execution_count": 5,
   "id": "67006279",
   "metadata": {},
   "outputs": [],
   "source": [
    "base_path = r\"C:\\Users\\owner\\Desktop\\water-source\\data\""
   ]
  },
  {
   "cell_type": "code",
   "execution_count": 6,
   "id": "f954b2a2",
   "metadata": {},
   "outputs": [],
   "source": [
    "scb_yearly = pd.read_excel(base_path+\"\\Seungchonbo.xlsx\", \n",
    "                            skiprows=0, \n",
    "                            header=1, \n",
    "                            sheet_name=None,\n",
    "                            na_values='ND',\n",
    "                            parse_dates=True)  # index_col = 0을 제외함"
   ]
  },
  {
   "cell_type": "code",
   "execution_count": 7,
   "id": "f72e1370",
   "metadata": {},
   "outputs": [
    {
     "name": "stdout",
     "output_type": "stream",
     "text": [
      "<class 'dict'>\n",
      "dict_keys(['2012년', '2013년', '2014년', '2015년', '2016년', '2017년', '2018년', '2019년', '2020년', '2021년', '2022년'])\n"
     ]
    }
   ],
   "source": [
    "print(type(scb_yearly))  # type-dict\n",
    "print(scb_yearly.keys())  # 2012년부터 2022년까지"
   ]
  },
  {
   "cell_type": "code",
   "execution_count": 8,
   "id": "b02c6e94",
   "metadata": {},
   "outputs": [
    {
     "data": {
      "text/plain": [
       "Index(['측정일/월', '측정소명', '수온 ℃', '수소이온농도', '전기전도도 μS/cm', '용존산소 mg/L',\n",
       "       '총유기탄소 mg/L', '총질소 mg/L', '총인 mg/L', '클로로필-a mg/㎥'],\n",
       "      dtype='object')"
      ]
     },
     "execution_count": 8,
     "metadata": {},
     "output_type": "execute_result"
    }
   ],
   "source": [
    "scb_yearly['2012년'].columns"
   ]
  },
  {
   "cell_type": "markdown",
   "id": "e63b1337",
   "metadata": {},
   "source": [
    "2013년 자료부터"
   ]
  },
  {
   "cell_type": "code",
   "execution_count": 9,
   "id": "67e6f6ff",
   "metadata": {},
   "outputs": [],
   "source": [
    "scb_yearly_df13 = pd.DataFrame()\n",
    "\n",
    "for item in list(scb_yearly.keys())[1:]:\n",
    "    scb_yearly_df13 = pd.concat([scb_yearly_df13, scb_yearly[item]])"
   ]
  },
  {
   "cell_type": "code",
   "execution_count": 10,
   "id": "72edb276",
   "metadata": {},
   "outputs": [],
   "source": [
    "scb_yearly_df13 = scb_yearly_df13.reset_index(drop=True)"
   ]
  },
  {
   "cell_type": "markdown",
   "id": "e21676f1",
   "metadata": {},
   "source": [
    "결측치 확인"
   ]
  },
  {
   "cell_type": "code",
   "execution_count": 11,
   "id": "529a98e6",
   "metadata": {},
   "outputs": [
    {
     "name": "stdout",
     "output_type": "stream",
     "text": [
      "<class 'pandas.core.frame.DataFrame'>\n",
      "RangeIndex: 82257 entries, 0 to 82256\n",
      "Data columns (total 10 columns):\n",
      " #   Column       Non-Null Count  Dtype  \n",
      "---  ------       --------------  -----  \n",
      " 0   측정일/월        82257 non-null  object \n",
      " 1   측정소명         82257 non-null  object \n",
      " 2   수온 ℃         64574 non-null  float64\n",
      " 3   수소이온농도       64561 non-null  float64\n",
      " 4   전기전도도 μS/cm  64524 non-null  float64\n",
      " 5   용존산소 mg/L    62656 non-null  float64\n",
      " 6   총유기탄소 mg/L   58675 non-null  float64\n",
      " 7   총질소 mg/L     59981 non-null  float64\n",
      " 8   총인 mg/L      58997 non-null  float64\n",
      " 9   클로로필-a mg/㎥  62876 non-null  float64\n",
      "dtypes: float64(8), object(2)\n",
      "memory usage: 6.3+ MB\n"
     ]
    }
   ],
   "source": [
    "scb_yearly_df13.info()"
   ]
  },
  {
   "cell_type": "code",
   "execution_count": 12,
   "id": "f59d2c99",
   "metadata": {},
   "outputs": [
    {
     "data": {
      "text/plain": [
       "측정일/월              0\n",
       "측정소명               0\n",
       "수온 ℃           17683\n",
       "수소이온농도         17696\n",
       "전기전도도 μS/cm    17733\n",
       "용존산소 mg/L      19601\n",
       "총유기탄소 mg/L     23582\n",
       "총질소 mg/L       22276\n",
       "총인 mg/L        23260\n",
       "클로로필-a mg/㎥    19381\n",
       "dtype: int64"
      ]
     },
     "execution_count": 12,
     "metadata": {},
     "output_type": "execute_result"
    }
   ],
   "source": [
    "scb_yearly_df13.isnull().sum()"
   ]
  },
  {
   "cell_type": "code",
   "execution_count": 13,
   "id": "42391d6e",
   "metadata": {},
   "outputs": [
    {
     "data": {
      "text/html": [
       "<div>\n",
       "<style scoped>\n",
       "    .dataframe tbody tr th:only-of-type {\n",
       "        vertical-align: middle;\n",
       "    }\n",
       "\n",
       "    .dataframe tbody tr th {\n",
       "        vertical-align: top;\n",
       "    }\n",
       "\n",
       "    .dataframe thead th {\n",
       "        text-align: right;\n",
       "    }\n",
       "</style>\n",
       "<table border=\"1\" class=\"dataframe\">\n",
       "  <thead>\n",
       "    <tr style=\"text-align: right;\">\n",
       "      <th></th>\n",
       "      <th>측정일/월</th>\n",
       "      <th>측정소명</th>\n",
       "      <th>수온 ℃</th>\n",
       "      <th>수소이온농도</th>\n",
       "      <th>전기전도도 μS/cm</th>\n",
       "      <th>용존산소 mg/L</th>\n",
       "      <th>총유기탄소 mg/L</th>\n",
       "      <th>총질소 mg/L</th>\n",
       "      <th>총인 mg/L</th>\n",
       "      <th>클로로필-a mg/㎥</th>\n",
       "    </tr>\n",
       "  </thead>\n",
       "  <tbody>\n",
       "    <tr>\n",
       "      <th>0</th>\n",
       "      <td>2013-01-01 00h</td>\n",
       "      <td>용봉</td>\n",
       "      <td>3.9</td>\n",
       "      <td>6.9</td>\n",
       "      <td>374.0</td>\n",
       "      <td>11.4</td>\n",
       "      <td>2.5</td>\n",
       "      <td>NaN</td>\n",
       "      <td>NaN</td>\n",
       "      <td>7.2</td>\n",
       "    </tr>\n",
       "    <tr>\n",
       "      <th>1</th>\n",
       "      <td>2013-01-01 01h</td>\n",
       "      <td>용봉</td>\n",
       "      <td>3.9</td>\n",
       "      <td>6.9</td>\n",
       "      <td>375.0</td>\n",
       "      <td>11.4</td>\n",
       "      <td>2.5</td>\n",
       "      <td>NaN</td>\n",
       "      <td>NaN</td>\n",
       "      <td>6.9</td>\n",
       "    </tr>\n",
       "    <tr>\n",
       "      <th>2</th>\n",
       "      <td>2013-01-01 02h</td>\n",
       "      <td>용봉</td>\n",
       "      <td>4.0</td>\n",
       "      <td>6.9</td>\n",
       "      <td>374.0</td>\n",
       "      <td>11.4</td>\n",
       "      <td>2.5</td>\n",
       "      <td>NaN</td>\n",
       "      <td>NaN</td>\n",
       "      <td>6.8</td>\n",
       "    </tr>\n",
       "    <tr>\n",
       "      <th>3</th>\n",
       "      <td>2013-01-01 03h</td>\n",
       "      <td>용봉</td>\n",
       "      <td>4.1</td>\n",
       "      <td>6.9</td>\n",
       "      <td>375.0</td>\n",
       "      <td>11.4</td>\n",
       "      <td>2.5</td>\n",
       "      <td>NaN</td>\n",
       "      <td>NaN</td>\n",
       "      <td>6.9</td>\n",
       "    </tr>\n",
       "    <tr>\n",
       "      <th>4</th>\n",
       "      <td>2013-01-01 04h</td>\n",
       "      <td>용봉</td>\n",
       "      <td>4.0</td>\n",
       "      <td>6.9</td>\n",
       "      <td>380.0</td>\n",
       "      <td>11.3</td>\n",
       "      <td>2.6</td>\n",
       "      <td>NaN</td>\n",
       "      <td>NaN</td>\n",
       "      <td>6.9</td>\n",
       "    </tr>\n",
       "  </tbody>\n",
       "</table>\n",
       "</div>"
      ],
      "text/plain": [
       "            측정일/월 측정소명  수온 ℃  수소이온농도  전기전도도 μS/cm  용존산소 mg/L  총유기탄소 mg/L  \\\n",
       "0  2013-01-01 00h   용봉   3.9     6.9        374.0       11.4         2.5   \n",
       "1  2013-01-01 01h   용봉   3.9     6.9        375.0       11.4         2.5   \n",
       "2  2013-01-01 02h   용봉   4.0     6.9        374.0       11.4         2.5   \n",
       "3  2013-01-01 03h   용봉   4.1     6.9        375.0       11.4         2.5   \n",
       "4  2013-01-01 04h   용봉   4.0     6.9        380.0       11.3         2.6   \n",
       "\n",
       "   총질소 mg/L  총인 mg/L  클로로필-a mg/㎥  \n",
       "0       NaN      NaN          7.2  \n",
       "1       NaN      NaN          6.9  \n",
       "2       NaN      NaN          6.8  \n",
       "3       NaN      NaN          6.9  \n",
       "4       NaN      NaN          6.9  "
      ]
     },
     "execution_count": 13,
     "metadata": {},
     "output_type": "execute_result"
    }
   ],
   "source": [
    "scb_yearly_df13.head()"
   ]
  },
  {
   "cell_type": "markdown",
   "id": "fe33dbb5",
   "metadata": {},
   "source": [
    "유량 데이터 추가하기"
   ]
  },
  {
   "cell_type": "code",
   "execution_count": 14,
   "id": "3dcd1b7c",
   "metadata": {},
   "outputs": [],
   "source": [
    "scb_flow_yearly = pd.read_excel(base_path+\"\\Seungchonbo_flow.xlsx\", \n",
    "                            header=0, \n",
    "                            sheet_name=None,\n",
    "                            na_values='ND',\n",
    "                            parse_dates=True)  # index_col = 0을 제외함"
   ]
  },
  {
   "cell_type": "code",
   "execution_count": 15,
   "id": "93384a27",
   "metadata": {},
   "outputs": [],
   "source": [
    "for year in list(scb_flow_yearly.keys())[1:]:\n",
    "    scb_flow_yearly[year]['연월일시'] = scb_flow_yearly[year]['시간'].apply(lambda x : x[:-3])"
   ]
  },
  {
   "cell_type": "code",
   "execution_count": 16,
   "id": "fc5d64be",
   "metadata": {},
   "outputs": [],
   "source": [
    "scb_flow_yearly_hour = {}\n",
    "\n",
    "for year in list(scb_flow_yearly.keys())[1:]:\n",
    "    scb_flow_yearly_hour[year] = scb_flow_yearly[year].groupby('연월일시').mean()"
   ]
  },
  {
   "cell_type": "code",
   "execution_count": 17,
   "id": "a9a687f6",
   "metadata": {},
   "outputs": [],
   "source": [
    "for year in scb_flow_yearly_hour:\n",
    "    scb_flow_yearly_hour[year] = scb_flow_yearly_hour[year].reset_index()"
   ]
  },
  {
   "cell_type": "code",
   "execution_count": 18,
   "id": "ea35293b",
   "metadata": {},
   "outputs": [],
   "source": [
    "scb_flow_yearly_hour_df = pd.DataFrame()\n",
    "\n",
    "for year in scb_flow_yearly_hour:\n",
    "    scb_flow_yearly_hour_df = pd.concat([scb_flow_yearly_hour_df, scb_flow_yearly_hour[year]])"
   ]
  },
  {
   "cell_type": "code",
   "execution_count": 19,
   "id": "6b039552",
   "metadata": {},
   "outputs": [],
   "source": [
    "scb_flow_yearly_hour_df = scb_flow_yearly_hour_df.reset_index(drop=True)"
   ]
  },
  {
   "cell_type": "code",
   "execution_count": 20,
   "id": "c79bbead",
   "metadata": {},
   "outputs": [
    {
     "name": "stdout",
     "output_type": "stream",
     "text": [
      "84393\n",
      "82257\n"
     ]
    }
   ],
   "source": [
    "print(scb_flow_yearly_hour_df.__len__())\n",
    "print(scb_yearly_df13.__len__())"
   ]
  },
  {
   "cell_type": "code",
   "execution_count": 21,
   "id": "6f07d7ab",
   "metadata": {},
   "outputs": [],
   "source": [
    "scb_yearly_df13['연월일시'] = scb_yearly_df13['측정일/월'].transform(lambda x: x.strip('h').replace('-', '.'))"
   ]
  },
  {
   "cell_type": "code",
   "execution_count": 22,
   "id": "7db334eb",
   "metadata": {},
   "outputs": [],
   "source": [
    "scb_data = pd.merge(scb_yearly_df13, scb_flow_yearly_hour_df, how='outer')"
   ]
  },
  {
   "cell_type": "code",
   "execution_count": 23,
   "id": "32293c2d",
   "metadata": {},
   "outputs": [],
   "source": [
    "scb_data = scb_data[:82257]"
   ]
  },
  {
   "cell_type": "code",
   "execution_count": 24,
   "id": "a5efb142",
   "metadata": {},
   "outputs": [
    {
     "name": "stdout",
     "output_type": "stream",
     "text": [
      "<class 'pandas.core.frame.DataFrame'>\n",
      "Int64Index: 82257 entries, 0 to 82256\n",
      "Data columns (total 15 columns):\n",
      " #   Column       Non-Null Count  Dtype  \n",
      "---  ------       --------------  -----  \n",
      " 0   측정일/월        82257 non-null  object \n",
      " 1   측정소명         82257 non-null  object \n",
      " 2   수온 ℃         64574 non-null  float64\n",
      " 3   수소이온농도       64561 non-null  float64\n",
      " 4   전기전도도 μS/cm  64524 non-null  float64\n",
      " 5   용존산소 mg/L    62656 non-null  float64\n",
      " 6   총유기탄소 mg/L   58675 non-null  float64\n",
      " 7   총질소 mg/L     59981 non-null  float64\n",
      " 8   총인 mg/L      58997 non-null  float64\n",
      " 9   클로로필-a mg/㎥  62876 non-null  float64\n",
      " 10  연월일시         82257 non-null  object \n",
      " 11   상류수위(EL.m)  82231 non-null  float64\n",
      " 12   하류수위(EL.m)  82231 non-null  float64\n",
      " 13   유입량(㎥/s)    82231 non-null  float64\n",
      " 14   방류량(㎥/s)    82231 non-null  float64\n",
      "dtypes: float64(12), object(3)\n",
      "memory usage: 10.0+ MB\n"
     ]
    }
   ],
   "source": [
    "scb_data.info()"
   ]
  },
  {
   "cell_type": "code",
   "execution_count": 25,
   "id": "51473373",
   "metadata": {},
   "outputs": [],
   "source": [
    "scb_data.columns = [x.strip() for x in list(scb_data.columns)]"
   ]
  },
  {
   "cell_type": "code",
   "execution_count": 26,
   "id": "88c0cc65",
   "metadata": {},
   "outputs": [
    {
     "name": "stdout",
     "output_type": "stream",
     "text": [
      "<class 'pandas.core.frame.DataFrame'>\n",
      "Int64Index: 82257 entries, 0 to 82256\n",
      "Data columns (total 15 columns):\n",
      " #   Column       Non-Null Count  Dtype  \n",
      "---  ------       --------------  -----  \n",
      " 0   측정일/월        82257 non-null  object \n",
      " 1   측정소명         82257 non-null  object \n",
      " 2   수온 ℃         64574 non-null  float64\n",
      " 3   수소이온농도       64561 non-null  float64\n",
      " 4   전기전도도 μS/cm  64524 non-null  float64\n",
      " 5   용존산소 mg/L    62656 non-null  float64\n",
      " 6   총유기탄소 mg/L   58675 non-null  float64\n",
      " 7   총질소 mg/L     59981 non-null  float64\n",
      " 8   총인 mg/L      58997 non-null  float64\n",
      " 9   클로로필-a mg/㎥  62876 non-null  float64\n",
      " 10  연월일시         82257 non-null  object \n",
      " 11  상류수위(EL.m)   82231 non-null  float64\n",
      " 12  하류수위(EL.m)   82231 non-null  float64\n",
      " 13  유입량(㎥/s)     82231 non-null  float64\n",
      " 14  방류량(㎥/s)     82231 non-null  float64\n",
      "dtypes: float64(12), object(3)\n",
      "memory usage: 10.0+ MB\n"
     ]
    }
   ],
   "source": [
    "scb_data.info()"
   ]
  },
  {
   "cell_type": "code",
   "execution_count": 27,
   "id": "c57ebe33",
   "metadata": {},
   "outputs": [],
   "source": [
    "scb_data = scb_data.loc[:, list(scb_data.columns)[:3]  + list(scb_data.columns)[4:5] + list(scb_data.columns)[6:-5] + list(scb_data.columns)[-4:-3] + list(scb_data.columns)[-1:]]"
   ]
  },
  {
   "cell_type": "code",
   "execution_count": 28,
   "id": "5588c0d5",
   "metadata": {},
   "outputs": [
    {
     "data": {
      "text/plain": [
       "Index(['측정일/월', '측정소명', '수온 ℃', '전기전도도 μS/cm', '총유기탄소 mg/L', '총질소 mg/L',\n",
       "       '총인 mg/L', '클로로필-a mg/㎥', '상류수위(EL.m)', '방류량(㎥/s)'],\n",
       "      dtype='object')"
      ]
     },
     "execution_count": 28,
     "metadata": {},
     "output_type": "execute_result"
    }
   ],
   "source": [
    "scb_data.columns"
   ]
  },
  {
   "cell_type": "code",
   "execution_count": 29,
   "id": "1b1383f1",
   "metadata": {},
   "outputs": [
    {
     "data": {
      "text/plain": [
       "측정일/월              0\n",
       "측정소명               0\n",
       "수온 ℃           17683\n",
       "전기전도도 μS/cm    17733\n",
       "총유기탄소 mg/L     23582\n",
       "총질소 mg/L       22276\n",
       "총인 mg/L        23260\n",
       "클로로필-a mg/㎥    19381\n",
       "상류수위(EL.m)        26\n",
       "방류량(㎥/s)          26\n",
       "dtype: int64"
      ]
     },
     "execution_count": 29,
     "metadata": {},
     "output_type": "execute_result"
    }
   ],
   "source": [
    "scb_data.isnull().sum()"
   ]
  },
  {
   "cell_type": "code",
   "execution_count": 30,
   "id": "e3200bfe",
   "metadata": {},
   "outputs": [
    {
     "data": {
      "text/plain": [
       "측정일/월          0.000000\n",
       "측정소명           0.000000\n",
       "수온 ℃           0.214973\n",
       "전기전도도 μS/cm    0.215580\n",
       "총유기탄소 mg/L     0.286687\n",
       "총질소 mg/L       0.270810\n",
       "총인 mg/L        0.282772\n",
       "클로로필-a mg/㎥    0.235615\n",
       "상류수위(EL.m)     0.000316\n",
       "방류량(㎥/s)       0.000316\n",
       "dtype: float64"
      ]
     },
     "execution_count": 30,
     "metadata": {},
     "output_type": "execute_result"
    }
   ],
   "source": [
    "scb_data.isnull().sum() /len(scb_data)"
   ]
  },
  {
   "cell_type": "code",
   "execution_count": 31,
   "id": "e39aea47",
   "metadata": {},
   "outputs": [
    {
     "data": {
      "text/plain": [
       "82257"
      ]
     },
     "execution_count": 31,
     "metadata": {},
     "output_type": "execute_result"
    }
   ],
   "source": [
    "len(scb_data)"
   ]
  },
  {
   "cell_type": "markdown",
   "id": "4d1d707c",
   "metadata": {},
   "source": [
    "시간데이터 추가"
   ]
  },
  {
   "cell_type": "code",
   "execution_count": 32,
   "id": "13a59b55",
   "metadata": {},
   "outputs": [],
   "source": [
    "scb_df = scb_data.copy()"
   ]
  },
  {
   "cell_type": "code",
   "execution_count": 33,
   "id": "97536231",
   "metadata": {},
   "outputs": [
    {
     "data": {
      "text/plain": [
       "Index(['측정일/월', '측정소명', '수온 ℃', '전기전도도 μS/cm', '총유기탄소 mg/L', '총질소 mg/L',\n",
       "       '총인 mg/L', '클로로필-a mg/㎥', '상류수위(EL.m)', '방류량(㎥/s)'],\n",
       "      dtype='object')"
      ]
     },
     "execution_count": 33,
     "metadata": {},
     "output_type": "execute_result"
    }
   ],
   "source": [
    "scb_df.columns"
   ]
  },
  {
   "cell_type": "code",
   "execution_count": 34,
   "id": "7741d9ca",
   "metadata": {},
   "outputs": [],
   "source": [
    "col_c = list(scb_df.columns.copy())\n",
    "col_c.remove('클로로필-a mg/㎥')"
   ]
  },
  {
   "cell_type": "code",
   "execution_count": 35,
   "id": "7ee7aa2c",
   "metadata": {},
   "outputs": [
    {
     "data": {
      "text/plain": [
       "['측정일/월',\n",
       " '측정소명',\n",
       " '수온 ℃',\n",
       " '전기전도도 μS/cm',\n",
       " '총유기탄소 mg/L',\n",
       " '총질소 mg/L',\n",
       " '총인 mg/L',\n",
       " '상류수위(EL.m)',\n",
       " '방류량(㎥/s)']"
      ]
     },
     "execution_count": 35,
     "metadata": {},
     "output_type": "execute_result"
    }
   ],
   "source": [
    "col_c"
   ]
  },
  {
   "cell_type": "code",
   "execution_count": 36,
   "id": "a3183cf1",
   "metadata": {},
   "outputs": [],
   "source": [
    "for i in range(1, 49):\n",
    "    scb_df[str(i) + 'shift 총유기탄소'] = scb_df['총유기탄소 mg/L'].shift(i)"
   ]
  },
  {
   "cell_type": "code",
   "execution_count": 37,
   "id": "f27b524e",
   "metadata": {},
   "outputs": [
    {
     "data": {
      "text/plain": [
       "82257"
      ]
     },
     "execution_count": 37,
     "metadata": {},
     "output_type": "execute_result"
    }
   ],
   "source": [
    "len(scb_df)"
   ]
  },
  {
   "cell_type": "code",
   "execution_count": 38,
   "id": "4d9b80a7",
   "metadata": {},
   "outputs": [
    {
     "data": {
      "text/plain": [
       "Index(['측정일/월', '측정소명', '수온 ℃', '전기전도도 μS/cm', '총유기탄소 mg/L', '총질소 mg/L',\n",
       "       '총인 mg/L', '클로로필-a mg/㎥', '상류수위(EL.m)', '방류량(㎥/s)', '1shift 총유기탄소',\n",
       "       '2shift 총유기탄소', '3shift 총유기탄소', '4shift 총유기탄소', '5shift 총유기탄소',\n",
       "       '6shift 총유기탄소', '7shift 총유기탄소', '8shift 총유기탄소', '9shift 총유기탄소',\n",
       "       '10shift 총유기탄소', '11shift 총유기탄소', '12shift 총유기탄소', '13shift 총유기탄소',\n",
       "       '14shift 총유기탄소', '15shift 총유기탄소', '16shift 총유기탄소', '17shift 총유기탄소',\n",
       "       '18shift 총유기탄소', '19shift 총유기탄소', '20shift 총유기탄소', '21shift 총유기탄소',\n",
       "       '22shift 총유기탄소', '23shift 총유기탄소', '24shift 총유기탄소', '25shift 총유기탄소',\n",
       "       '26shift 총유기탄소', '27shift 총유기탄소', '28shift 총유기탄소', '29shift 총유기탄소',\n",
       "       '30shift 총유기탄소', '31shift 총유기탄소', '32shift 총유기탄소', '33shift 총유기탄소',\n",
       "       '34shift 총유기탄소', '35shift 총유기탄소', '36shift 총유기탄소', '37shift 총유기탄소',\n",
       "       '38shift 총유기탄소', '39shift 총유기탄소', '40shift 총유기탄소', '41shift 총유기탄소',\n",
       "       '42shift 총유기탄소', '43shift 총유기탄소', '44shift 총유기탄소', '45shift 총유기탄소',\n",
       "       '46shift 총유기탄소', '47shift 총유기탄소', '48shift 총유기탄소'],\n",
       "      dtype='object')"
      ]
     },
     "execution_count": 38,
     "metadata": {},
     "output_type": "execute_result"
    }
   ],
   "source": [
    "scb_df.columns"
   ]
  },
  {
   "cell_type": "code",
   "execution_count": 39,
   "id": "31a383e5",
   "metadata": {},
   "outputs": [
    {
     "data": {
      "text/plain": [
       "82257"
      ]
     },
     "execution_count": 39,
     "metadata": {},
     "output_type": "execute_result"
    }
   ],
   "source": [
    "len(scb_df)"
   ]
  },
  {
   "cell_type": "markdown",
   "id": "03ff68eb",
   "metadata": {},
   "source": [
    "결측치 보간법"
   ]
  },
  {
   "cell_type": "code",
   "execution_count": 40,
   "id": "d3a50644",
   "metadata": {},
   "outputs": [],
   "source": [
    "from datetime import datetime"
   ]
  },
  {
   "cell_type": "code",
   "execution_count": 41,
   "id": "3d25efc0",
   "metadata": {},
   "outputs": [],
   "source": [
    "scb_df = scb_df.copy()"
   ]
  },
  {
   "cell_type": "code",
   "execution_count": 42,
   "id": "55f51afd",
   "metadata": {},
   "outputs": [],
   "source": [
    "scb_df['측정일/월'] = scb_df['측정일/월'].transform(lambda x: datetime.strptime(x[:-1], '%Y-%m-%d %H'))"
   ]
  },
  {
   "cell_type": "code",
   "execution_count": 43,
   "id": "603c9520",
   "metadata": {},
   "outputs": [],
   "source": [
    "scb_df = scb_df.copy().set_index('측정일/월').interpolate(method='time')"
   ]
  },
  {
   "cell_type": "code",
   "execution_count": 44,
   "id": "d7bff880",
   "metadata": {},
   "outputs": [],
   "source": [
    "scb_df = scb_df.dropna()"
   ]
  },
  {
   "cell_type": "code",
   "execution_count": 45,
   "id": "706d67b3",
   "metadata": {},
   "outputs": [
    {
     "data": {
      "text/plain": [
       "80154"
      ]
     },
     "execution_count": 45,
     "metadata": {},
     "output_type": "execute_result"
    }
   ],
   "source": [
    "scb_df.__len__()"
   ]
  },
  {
   "cell_type": "code",
   "execution_count": 46,
   "id": "5f390c10",
   "metadata": {},
   "outputs": [
    {
     "data": {
      "text/plain": [
       "Index(['측정소명', '수온 ℃', '전기전도도 μS/cm', '총유기탄소 mg/L', '총질소 mg/L', '총인 mg/L',\n",
       "       '클로로필-a mg/㎥', '상류수위(EL.m)', '방류량(㎥/s)', '1shift 총유기탄소', '2shift 총유기탄소',\n",
       "       '3shift 총유기탄소', '4shift 총유기탄소', '5shift 총유기탄소', '6shift 총유기탄소',\n",
       "       '7shift 총유기탄소', '8shift 총유기탄소', '9shift 총유기탄소', '10shift 총유기탄소',\n",
       "       '11shift 총유기탄소', '12shift 총유기탄소', '13shift 총유기탄소', '14shift 총유기탄소',\n",
       "       '15shift 총유기탄소', '16shift 총유기탄소', '17shift 총유기탄소', '18shift 총유기탄소',\n",
       "       '19shift 총유기탄소', '20shift 총유기탄소', '21shift 총유기탄소', '22shift 총유기탄소',\n",
       "       '23shift 총유기탄소', '24shift 총유기탄소', '25shift 총유기탄소', '26shift 총유기탄소',\n",
       "       '27shift 총유기탄소', '28shift 총유기탄소', '29shift 총유기탄소', '30shift 총유기탄소',\n",
       "       '31shift 총유기탄소', '32shift 총유기탄소', '33shift 총유기탄소', '34shift 총유기탄소',\n",
       "       '35shift 총유기탄소', '36shift 총유기탄소', '37shift 총유기탄소', '38shift 총유기탄소',\n",
       "       '39shift 총유기탄소', '40shift 총유기탄소', '41shift 총유기탄소', '42shift 총유기탄소',\n",
       "       '43shift 총유기탄소', '44shift 총유기탄소', '45shift 총유기탄소', '46shift 총유기탄소',\n",
       "       '47shift 총유기탄소', '48shift 총유기탄소'],\n",
       "      dtype='object')"
      ]
     },
     "execution_count": 46,
     "metadata": {},
     "output_type": "execute_result"
    }
   ],
   "source": [
    "scb_df.columns"
   ]
  },
  {
   "cell_type": "code",
   "execution_count": 47,
   "id": "06d5f2de",
   "metadata": {},
   "outputs": [
    {
     "data": {
      "text/html": [
       "<div>\n",
       "<style scoped>\n",
       "    .dataframe tbody tr th:only-of-type {\n",
       "        vertical-align: middle;\n",
       "    }\n",
       "\n",
       "    .dataframe tbody tr th {\n",
       "        vertical-align: top;\n",
       "    }\n",
       "\n",
       "    .dataframe thead th {\n",
       "        text-align: right;\n",
       "    }\n",
       "</style>\n",
       "<table border=\"1\" class=\"dataframe\">\n",
       "  <thead>\n",
       "    <tr style=\"text-align: right;\">\n",
       "      <th></th>\n",
       "      <th>측정소명</th>\n",
       "      <th>수온 ℃</th>\n",
       "      <th>전기전도도 μS/cm</th>\n",
       "      <th>총유기탄소 mg/L</th>\n",
       "      <th>총질소 mg/L</th>\n",
       "      <th>총인 mg/L</th>\n",
       "      <th>클로로필-a mg/㎥</th>\n",
       "      <th>상류수위(EL.m)</th>\n",
       "      <th>방류량(㎥/s)</th>\n",
       "      <th>1shift 총유기탄소</th>\n",
       "      <th>...</th>\n",
       "      <th>39shift 총유기탄소</th>\n",
       "      <th>40shift 총유기탄소</th>\n",
       "      <th>41shift 총유기탄소</th>\n",
       "      <th>42shift 총유기탄소</th>\n",
       "      <th>43shift 총유기탄소</th>\n",
       "      <th>44shift 총유기탄소</th>\n",
       "      <th>45shift 총유기탄소</th>\n",
       "      <th>46shift 총유기탄소</th>\n",
       "      <th>47shift 총유기탄소</th>\n",
       "      <th>48shift 총유기탄소</th>\n",
       "    </tr>\n",
       "    <tr>\n",
       "      <th>측정일/월</th>\n",
       "      <th></th>\n",
       "      <th></th>\n",
       "      <th></th>\n",
       "      <th></th>\n",
       "      <th></th>\n",
       "      <th></th>\n",
       "      <th></th>\n",
       "      <th></th>\n",
       "      <th></th>\n",
       "      <th></th>\n",
       "      <th></th>\n",
       "      <th></th>\n",
       "      <th></th>\n",
       "      <th></th>\n",
       "      <th></th>\n",
       "      <th></th>\n",
       "      <th></th>\n",
       "      <th></th>\n",
       "      <th></th>\n",
       "      <th></th>\n",
       "      <th></th>\n",
       "    </tr>\n",
       "  </thead>\n",
       "  <tbody>\n",
       "    <tr>\n",
       "      <th>2013-03-29 16:00:00</th>\n",
       "      <td>용봉</td>\n",
       "      <td>12.733333</td>\n",
       "      <td>294.0</td>\n",
       "      <td>3.366667</td>\n",
       "      <td>5.866</td>\n",
       "      <td>0.104</td>\n",
       "      <td>43.533333</td>\n",
       "      <td>7.535000</td>\n",
       "      <td>12.343333</td>\n",
       "      <td>3.433333</td>\n",
       "      <td>...</td>\n",
       "      <td>3.6</td>\n",
       "      <td>3.6</td>\n",
       "      <td>3.6</td>\n",
       "      <td>4.1</td>\n",
       "      <td>4.1</td>\n",
       "      <td>4.3</td>\n",
       "      <td>4.2</td>\n",
       "      <td>3.8</td>\n",
       "      <td>3.7</td>\n",
       "      <td>3.6</td>\n",
       "    </tr>\n",
       "    <tr>\n",
       "      <th>2013-03-29 17:00:00</th>\n",
       "      <td>용봉</td>\n",
       "      <td>12.600000</td>\n",
       "      <td>293.0</td>\n",
       "      <td>3.300000</td>\n",
       "      <td>5.850</td>\n",
       "      <td>0.105</td>\n",
       "      <td>45.200000</td>\n",
       "      <td>7.540000</td>\n",
       "      <td>13.275000</td>\n",
       "      <td>3.366667</td>\n",
       "      <td>...</td>\n",
       "      <td>3.7</td>\n",
       "      <td>3.6</td>\n",
       "      <td>3.6</td>\n",
       "      <td>3.6</td>\n",
       "      <td>4.1</td>\n",
       "      <td>4.1</td>\n",
       "      <td>4.3</td>\n",
       "      <td>4.2</td>\n",
       "      <td>3.8</td>\n",
       "      <td>3.7</td>\n",
       "    </tr>\n",
       "    <tr>\n",
       "      <th>2013-03-29 18:00:00</th>\n",
       "      <td>용봉</td>\n",
       "      <td>12.700000</td>\n",
       "      <td>298.0</td>\n",
       "      <td>3.400000</td>\n",
       "      <td>5.809</td>\n",
       "      <td>0.106</td>\n",
       "      <td>48.000000</td>\n",
       "      <td>7.541667</td>\n",
       "      <td>15.973333</td>\n",
       "      <td>3.300000</td>\n",
       "      <td>...</td>\n",
       "      <td>3.6</td>\n",
       "      <td>3.7</td>\n",
       "      <td>3.6</td>\n",
       "      <td>3.6</td>\n",
       "      <td>3.6</td>\n",
       "      <td>4.1</td>\n",
       "      <td>4.1</td>\n",
       "      <td>4.3</td>\n",
       "      <td>4.2</td>\n",
       "      <td>3.8</td>\n",
       "    </tr>\n",
       "    <tr>\n",
       "      <th>2013-03-29 19:00:00</th>\n",
       "      <td>용봉</td>\n",
       "      <td>12.700000</td>\n",
       "      <td>299.0</td>\n",
       "      <td>3.400000</td>\n",
       "      <td>5.822</td>\n",
       "      <td>0.107</td>\n",
       "      <td>50.100000</td>\n",
       "      <td>7.533333</td>\n",
       "      <td>15.346667</td>\n",
       "      <td>3.400000</td>\n",
       "      <td>...</td>\n",
       "      <td>3.7</td>\n",
       "      <td>3.6</td>\n",
       "      <td>3.7</td>\n",
       "      <td>3.6</td>\n",
       "      <td>3.6</td>\n",
       "      <td>3.6</td>\n",
       "      <td>4.1</td>\n",
       "      <td>4.1</td>\n",
       "      <td>4.3</td>\n",
       "      <td>4.2</td>\n",
       "    </tr>\n",
       "    <tr>\n",
       "      <th>2013-03-29 20:00:00</th>\n",
       "      <td>용봉</td>\n",
       "      <td>12.500000</td>\n",
       "      <td>299.0</td>\n",
       "      <td>3.300000</td>\n",
       "      <td>5.812</td>\n",
       "      <td>0.106</td>\n",
       "      <td>50.300000</td>\n",
       "      <td>7.530000</td>\n",
       "      <td>14.615000</td>\n",
       "      <td>3.400000</td>\n",
       "      <td>...</td>\n",
       "      <td>4.0</td>\n",
       "      <td>3.7</td>\n",
       "      <td>3.6</td>\n",
       "      <td>3.7</td>\n",
       "      <td>3.6</td>\n",
       "      <td>3.6</td>\n",
       "      <td>3.6</td>\n",
       "      <td>4.1</td>\n",
       "      <td>4.1</td>\n",
       "      <td>4.3</td>\n",
       "    </tr>\n",
       "  </tbody>\n",
       "</table>\n",
       "<p>5 rows × 57 columns</p>\n",
       "</div>"
      ],
      "text/plain": [
       "                    측정소명       수온 ℃  전기전도도 μS/cm  총유기탄소 mg/L  총질소 mg/L  \\\n",
       "측정일/월                                                                    \n",
       "2013-03-29 16:00:00   용봉  12.733333        294.0    3.366667     5.866   \n",
       "2013-03-29 17:00:00   용봉  12.600000        293.0    3.300000     5.850   \n",
       "2013-03-29 18:00:00   용봉  12.700000        298.0    3.400000     5.809   \n",
       "2013-03-29 19:00:00   용봉  12.700000        299.0    3.400000     5.822   \n",
       "2013-03-29 20:00:00   용봉  12.500000        299.0    3.300000     5.812   \n",
       "\n",
       "                     총인 mg/L  클로로필-a mg/㎥  상류수위(EL.m)   방류량(㎥/s)  \\\n",
       "측정일/월                                                              \n",
       "2013-03-29 16:00:00    0.104    43.533333    7.535000  12.343333   \n",
       "2013-03-29 17:00:00    0.105    45.200000    7.540000  13.275000   \n",
       "2013-03-29 18:00:00    0.106    48.000000    7.541667  15.973333   \n",
       "2013-03-29 19:00:00    0.107    50.100000    7.533333  15.346667   \n",
       "2013-03-29 20:00:00    0.106    50.300000    7.530000  14.615000   \n",
       "\n",
       "                     1shift 총유기탄소  ...  39shift 총유기탄소  40shift 총유기탄소  \\\n",
       "측정일/월                              ...                                 \n",
       "2013-03-29 16:00:00      3.433333  ...            3.6            3.6   \n",
       "2013-03-29 17:00:00      3.366667  ...            3.7            3.6   \n",
       "2013-03-29 18:00:00      3.300000  ...            3.6            3.7   \n",
       "2013-03-29 19:00:00      3.400000  ...            3.7            3.6   \n",
       "2013-03-29 20:00:00      3.400000  ...            4.0            3.7   \n",
       "\n",
       "                     41shift 총유기탄소  42shift 총유기탄소  43shift 총유기탄소  \\\n",
       "측정일/월                                                              \n",
       "2013-03-29 16:00:00            3.6            4.1            4.1   \n",
       "2013-03-29 17:00:00            3.6            3.6            4.1   \n",
       "2013-03-29 18:00:00            3.6            3.6            3.6   \n",
       "2013-03-29 19:00:00            3.7            3.6            3.6   \n",
       "2013-03-29 20:00:00            3.6            3.7            3.6   \n",
       "\n",
       "                     44shift 총유기탄소  45shift 총유기탄소  46shift 총유기탄소  \\\n",
       "측정일/월                                                              \n",
       "2013-03-29 16:00:00            4.3            4.2            3.8   \n",
       "2013-03-29 17:00:00            4.1            4.3            4.2   \n",
       "2013-03-29 18:00:00            4.1            4.1            4.3   \n",
       "2013-03-29 19:00:00            3.6            4.1            4.1   \n",
       "2013-03-29 20:00:00            3.6            3.6            4.1   \n",
       "\n",
       "                     47shift 총유기탄소  48shift 총유기탄소  \n",
       "측정일/월                                              \n",
       "2013-03-29 16:00:00            3.7            3.6  \n",
       "2013-03-29 17:00:00            3.8            3.7  \n",
       "2013-03-29 18:00:00            4.2            3.8  \n",
       "2013-03-29 19:00:00            4.3            4.2  \n",
       "2013-03-29 20:00:00            4.1            4.3  \n",
       "\n",
       "[5 rows x 57 columns]"
      ]
     },
     "execution_count": 47,
     "metadata": {},
     "output_type": "execute_result"
    }
   ],
   "source": [
    "scb_df.head()"
   ]
  },
  {
   "cell_type": "code",
   "execution_count": 48,
   "id": "a6c11321",
   "metadata": {},
   "outputs": [],
   "source": [
    "col = list(scb_df.columns[1:])\n",
    "#print(col)"
   ]
  },
  {
   "cell_type": "code",
   "execution_count": 49,
   "id": "b4ca5757",
   "metadata": {},
   "outputs": [],
   "source": [
    "col_v = col.copy()\n",
    "col_v.remove('클로로필-a mg/㎥')\n",
    "#print(col_v)"
   ]
  },
  {
   "cell_type": "markdown",
   "id": "76ed6bd8",
   "metadata": {},
   "source": [
    "피처 정규화 없이"
   ]
  },
  {
   "cell_type": "code",
   "execution_count": 50,
   "id": "d9cab61c",
   "metadata": {},
   "outputs": [],
   "source": [
    "X_train, X_test, y_train, y_test = train_test_split(scb_df.loc[:, col_v], scb_df['클로로필-a mg/㎥'], random_state=42)\n",
    "gb_reg = GradientBoostingRegressor(random_state=42)\n",
    "\n",
    "parameters = {'max_depth':[5, 10, 15], 'learning_rate':[0.05, 0.1, 0.2]}"
   ]
  },
  {
   "cell_type": "code",
   "execution_count": 51,
   "id": "2679576d",
   "metadata": {},
   "outputs": [],
   "source": [
    "gb_grid = GridSearchCV(gb_reg, param_grid=parameters, cv=3)"
   ]
  },
  {
   "cell_type": "code",
   "execution_count": 52,
   "id": "9bf00bfc",
   "metadata": {},
   "outputs": [
    {
     "data": {
      "text/plain": [
       "GridSearchCV(cv=3, estimator=GradientBoostingRegressor(random_state=42),\n",
       "             param_grid={'learning_rate': [0.05, 0.1, 0.2],\n",
       "                         'max_depth': [5, 10, 15]})"
      ]
     },
     "execution_count": 52,
     "metadata": {},
     "output_type": "execute_result"
    }
   ],
   "source": [
    "gb_grid.fit(X_train, np.log1p(y_train))"
   ]
  },
  {
   "cell_type": "code",
   "execution_count": 53,
   "id": "aac5435c",
   "metadata": {},
   "outputs": [],
   "source": [
    "scores_df = pd.DataFrame(gb_grid.cv_results_)"
   ]
  },
  {
   "cell_type": "code",
   "execution_count": 54,
   "id": "21ea33c2",
   "metadata": {},
   "outputs": [
    {
     "data": {
      "text/html": [
       "<div>\n",
       "<style scoped>\n",
       "    .dataframe tbody tr th:only-of-type {\n",
       "        vertical-align: middle;\n",
       "    }\n",
       "\n",
       "    .dataframe tbody tr th {\n",
       "        vertical-align: top;\n",
       "    }\n",
       "\n",
       "    .dataframe thead th {\n",
       "        text-align: right;\n",
       "    }\n",
       "</style>\n",
       "<table border=\"1\" class=\"dataframe\">\n",
       "  <thead>\n",
       "    <tr style=\"text-align: right;\">\n",
       "      <th></th>\n",
       "      <th>params</th>\n",
       "      <th>mean_test_score</th>\n",
       "      <th>rank_test_score</th>\n",
       "    </tr>\n",
       "  </thead>\n",
       "  <tbody>\n",
       "    <tr>\n",
       "      <th>5</th>\n",
       "      <td>{'learning_rate': 0.1, 'max_depth': 15}</td>\n",
       "      <td>0.934651</td>\n",
       "      <td>1</td>\n",
       "    </tr>\n",
       "    <tr>\n",
       "      <th>2</th>\n",
       "      <td>{'learning_rate': 0.05, 'max_depth': 15}</td>\n",
       "      <td>0.934546</td>\n",
       "      <td>2</td>\n",
       "    </tr>\n",
       "    <tr>\n",
       "      <th>8</th>\n",
       "      <td>{'learning_rate': 0.2, 'max_depth': 15}</td>\n",
       "      <td>0.933155</td>\n",
       "      <td>3</td>\n",
       "    </tr>\n",
       "    <tr>\n",
       "      <th>7</th>\n",
       "      <td>{'learning_rate': 0.2, 'max_depth': 10}</td>\n",
       "      <td>0.930736</td>\n",
       "      <td>4</td>\n",
       "    </tr>\n",
       "    <tr>\n",
       "      <th>4</th>\n",
       "      <td>{'learning_rate': 0.1, 'max_depth': 10}</td>\n",
       "      <td>0.925036</td>\n",
       "      <td>5</td>\n",
       "    </tr>\n",
       "  </tbody>\n",
       "</table>\n",
       "</div>"
      ],
      "text/plain": [
       "                                     params  mean_test_score  rank_test_score\n",
       "5   {'learning_rate': 0.1, 'max_depth': 15}         0.934651                1\n",
       "2  {'learning_rate': 0.05, 'max_depth': 15}         0.934546                2\n",
       "8   {'learning_rate': 0.2, 'max_depth': 15}         0.933155                3\n",
       "7   {'learning_rate': 0.2, 'max_depth': 10}         0.930736                4\n",
       "4   {'learning_rate': 0.1, 'max_depth': 10}         0.925036                5"
      ]
     },
     "execution_count": 54,
     "metadata": {},
     "output_type": "execute_result"
    }
   ],
   "source": [
    "scores_df.sort_values(by=['rank_test_score'], inplace=True)\n",
    "scores_df[['params', 'mean_test_score', 'rank_test_score']].head()"
   ]
  },
  {
   "cell_type": "code",
   "execution_count": 55,
   "id": "e3f68506",
   "metadata": {},
   "outputs": [
    {
     "data": {
      "text/plain": [
       "{'learning_rate': 0.1, 'max_depth': 15}"
      ]
     },
     "execution_count": 55,
     "metadata": {},
     "output_type": "execute_result"
    }
   ],
   "source": [
    "gb_grid.best_params_"
   ]
  },
  {
   "cell_type": "code",
   "execution_count": 56,
   "id": "5def039b",
   "metadata": {},
   "outputs": [],
   "source": [
    "estimator = gb_grid.best_estimator_"
   ]
  },
  {
   "cell_type": "code",
   "execution_count": 57,
   "id": "fcef3a34",
   "metadata": {},
   "outputs": [],
   "source": [
    "pred = estimator.predict(X_test)"
   ]
  },
  {
   "cell_type": "code",
   "execution_count": 58,
   "id": "bbea888b",
   "metadata": {},
   "outputs": [
    {
     "name": "stdout",
     "output_type": "stream",
     "text": [
      "0.19 수온 ℃\n",
      "0.25 전기전도도 μS/cm\n",
      "0.02 총유기탄소 mg/L\n",
      "0.08 총질소 mg/L\n",
      "0.07 총인 mg/L\n",
      "0.13 상류수위(EL.m)\n",
      "0.11 방류량(㎥/s)\n",
      "0.01 1shift 총유기탄소\n",
      "0.01 2shift 총유기탄소\n",
      "0.0 3shift 총유기탄소\n",
      "0.0 4shift 총유기탄소\n",
      "0.0 5shift 총유기탄소\n",
      "0.0 6shift 총유기탄소\n",
      "0.0 7shift 총유기탄소\n",
      "0.0 8shift 총유기탄소\n",
      "0.0 9shift 총유기탄소\n",
      "0.0 10shift 총유기탄소\n",
      "0.0 11shift 총유기탄소\n",
      "0.01 12shift 총유기탄소\n",
      "0.0 13shift 총유기탄소\n",
      "0.0 14shift 총유기탄소\n",
      "0.0 15shift 총유기탄소\n",
      "0.0 16shift 총유기탄소\n",
      "0.0 17shift 총유기탄소\n",
      "0.0 18shift 총유기탄소\n",
      "0.0 19shift 총유기탄소\n",
      "0.0 20shift 총유기탄소\n",
      "0.0 21shift 총유기탄소\n",
      "0.0 22shift 총유기탄소\n",
      "0.0 23shift 총유기탄소\n",
      "0.0 24shift 총유기탄소\n",
      "0.01 25shift 총유기탄소\n",
      "0.0 26shift 총유기탄소\n",
      "0.0 27shift 총유기탄소\n",
      "0.0 28shift 총유기탄소\n",
      "0.0 29shift 총유기탄소\n",
      "0.0 30shift 총유기탄소\n",
      "0.0 31shift 총유기탄소\n",
      "0.0 32shift 총유기탄소\n",
      "0.01 33shift 총유기탄소\n",
      "0.0 34shift 총유기탄소\n",
      "0.0 35shift 총유기탄소\n",
      "0.0 36shift 총유기탄소\n",
      "0.0 37shift 총유기탄소\n",
      "0.0 38shift 총유기탄소\n",
      "0.0 39shift 총유기탄소\n",
      "0.0 40shift 총유기탄소\n",
      "0.0 41shift 총유기탄소\n",
      "0.0 42shift 총유기탄소\n",
      "0.0 43shift 총유기탄소\n",
      "0.0 44shift 총유기탄소\n",
      "0.0 45shift 총유기탄소\n",
      "0.0 46shift 총유기탄소\n",
      "0.0 47shift 총유기탄소\n",
      "0.01 48shift 총유기탄소\n"
     ]
    }
   ],
   "source": [
    "for score, name in zip(estimator.feature_importances_, col_v):\n",
    "    print(round(score, 2), name)"
   ]
  },
  {
   "cell_type": "code",
   "execution_count": 59,
   "id": "dc00ce30",
   "metadata": {},
   "outputs": [
    {
     "data": {
      "image/png": "[encoded data removed]",
      "text/plain": [
       "<Figure size 720x432 with 1 Axes>"
      ]
     },
     "metadata": {
      "needs_background": "light"
     },
     "output_type": "display_data"
    }
   ],
   "source": [
    "feature_series = pd.Series(data = estimator.feature_importances_, index = col_v)\n",
    "feature_series = feature_series.sort_values(ascending = False)\n",
    "sns.barplot(x = feature_series[:10], y = feature_series.index[:10], color = 'gray')\n",
    "plt.show()"
   ]
  },
  {
   "cell_type": "code",
   "execution_count": 60,
   "id": "10f7fb34",
   "metadata": {},
   "outputs": [
    {
     "data": {
      "text/plain": [
       "전기전도도 μS/cm      0.246835\n",
       "수온 ℃             0.188362\n",
       "상류수위(EL.m)       0.132579\n",
       "방류량(㎥/s)         0.113827\n",
       "총질소 mg/L         0.079174\n",
       "총인 mg/L          0.074106\n",
       "총유기탄소 mg/L       0.019833\n",
       "1shift 총유기탄소     0.009490\n",
       "48shift 총유기탄소    0.007319\n",
       "33shift 총유기탄소    0.006386\n",
       "dtype: float64"
      ]
     },
     "execution_count": 60,
     "metadata": {},
     "output_type": "execute_result"
    }
   ],
   "source": [
    "feature_series[:10]"
   ]
  },
  {
   "cell_type": "code",
   "execution_count": 61,
   "id": "ddc9b419",
   "metadata": {},
   "outputs": [
    {
     "name": "stdout",
     "output_type": "stream",
     "text": [
      "score : 0.9549304459215887\n"
     ]
    }
   ],
   "source": [
    "print('score :', estimator.score(X_test, np.log1p(y_test)))"
   ]
  },
  {
   "cell_type": "markdown",
   "id": "8fe50766",
   "metadata": {},
   "source": [
    "피처 정규화"
   ]
  },
  {
   "cell_type": "code",
   "execution_count": 62,
   "id": "3f8fed5d",
   "metadata": {},
   "outputs": [],
   "source": [
    "scaler = StandardScaler()\n",
    "scaler.fit(scb_df.loc[:, col_v])\n",
    "scb_scaled = scaler.transform(scb_df.loc[:, col_v])\n",
    "\n",
    "scb_df_scaled = pd.DataFrame(data = scb_scaled, columns = col_v)"
   ]
  },
  {
   "cell_type": "code",
   "execution_count": 63,
   "id": "79e0f792",
   "metadata": {},
   "outputs": [
    {
     "data": {
      "text/html": [
       "<div>\n",
       "<style scoped>\n",
       "    .dataframe tbody tr th:only-of-type {\n",
       "        vertical-align: middle;\n",
       "    }\n",
       "\n",
       "    .dataframe tbody tr th {\n",
       "        vertical-align: top;\n",
       "    }\n",
       "\n",
       "    .dataframe thead th {\n",
       "        text-align: right;\n",
       "    }\n",
       "</style>\n",
       "<table border=\"1\" class=\"dataframe\">\n",
       "  <thead>\n",
       "    <tr style=\"text-align: right;\">\n",
       "      <th></th>\n",
       "      <th>수온 ℃</th>\n",
       "      <th>전기전도도 μS/cm</th>\n",
       "      <th>총유기탄소 mg/L</th>\n",
       "      <th>총질소 mg/L</th>\n",
       "      <th>총인 mg/L</th>\n",
       "      <th>상류수위(EL.m)</th>\n",
       "      <th>방류량(㎥/s)</th>\n",
       "      <th>1shift 총유기탄소</th>\n",
       "      <th>2shift 총유기탄소</th>\n",
       "      <th>3shift 총유기탄소</th>\n",
       "      <th>...</th>\n",
       "      <th>39shift 총유기탄소</th>\n",
       "      <th>40shift 총유기탄소</th>\n",
       "      <th>41shift 총유기탄소</th>\n",
       "      <th>42shift 총유기탄소</th>\n",
       "      <th>43shift 총유기탄소</th>\n",
       "      <th>44shift 총유기탄소</th>\n",
       "      <th>45shift 총유기탄소</th>\n",
       "      <th>46shift 총유기탄소</th>\n",
       "      <th>47shift 총유기탄소</th>\n",
       "      <th>48shift 총유기탄소</th>\n",
       "    </tr>\n",
       "  </thead>\n",
       "  <tbody>\n",
       "    <tr>\n",
       "      <th>0</th>\n",
       "      <td>-0.625427</td>\n",
       "      <td>-0.567492</td>\n",
       "      <td>-1.099594</td>\n",
       "      <td>0.207057</td>\n",
       "      <td>-0.375331</td>\n",
       "      <td>0.722272</td>\n",
       "      <td>-0.173845</td>\n",
       "      <td>-1.032502</td>\n",
       "      <td>-0.965414</td>\n",
       "      <td>-1.267270</td>\n",
       "      <td>...</td>\n",
       "      <td>-0.863895</td>\n",
       "      <td>-0.863870</td>\n",
       "      <td>-0.863856</td>\n",
       "      <td>-0.360460</td>\n",
       "      <td>-0.360452</td>\n",
       "      <td>-0.159059</td>\n",
       "      <td>-0.259723</td>\n",
       "      <td>-0.662438</td>\n",
       "      <td>-0.763105</td>\n",
       "      <td>-0.863767</td>\n",
       "    </tr>\n",
       "    <tr>\n",
       "      <th>1</th>\n",
       "      <td>-0.642856</td>\n",
       "      <td>-0.578842</td>\n",
       "      <td>-1.166677</td>\n",
       "      <td>0.198992</td>\n",
       "      <td>-0.360653</td>\n",
       "      <td>0.725522</td>\n",
       "      <td>-0.165679</td>\n",
       "      <td>-1.099586</td>\n",
       "      <td>-1.032499</td>\n",
       "      <td>-0.965379</td>\n",
       "      <td>...</td>\n",
       "      <td>-0.763218</td>\n",
       "      <td>-0.863870</td>\n",
       "      <td>-0.863856</td>\n",
       "      <td>-0.863858</td>\n",
       "      <td>-0.360452</td>\n",
       "      <td>-0.360422</td>\n",
       "      <td>-0.159040</td>\n",
       "      <td>-0.259698</td>\n",
       "      <td>-0.662418</td>\n",
       "      <td>-0.763079</td>\n",
       "    </tr>\n",
       "    <tr>\n",
       "      <th>2</th>\n",
       "      <td>-0.629784</td>\n",
       "      <td>-0.522092</td>\n",
       "      <td>-1.066053</td>\n",
       "      <td>0.178325</td>\n",
       "      <td>-0.345975</td>\n",
       "      <td>0.726605</td>\n",
       "      <td>-0.142030</td>\n",
       "      <td>-1.166669</td>\n",
       "      <td>-1.099585</td>\n",
       "      <td>-1.032466</td>\n",
       "      <td>...</td>\n",
       "      <td>-0.863895</td>\n",
       "      <td>-0.763192</td>\n",
       "      <td>-0.863856</td>\n",
       "      <td>-0.863858</td>\n",
       "      <td>-0.863855</td>\n",
       "      <td>-0.360422</td>\n",
       "      <td>-0.360406</td>\n",
       "      <td>-0.159013</td>\n",
       "      <td>-0.259672</td>\n",
       "      <td>-0.662392</td>\n",
       "    </tr>\n",
       "    <tr>\n",
       "      <th>3</th>\n",
       "      <td>-0.629784</td>\n",
       "      <td>-0.510742</td>\n",
       "      <td>-1.066053</td>\n",
       "      <td>0.184878</td>\n",
       "      <td>-0.331297</td>\n",
       "      <td>0.721189</td>\n",
       "      <td>-0.147522</td>\n",
       "      <td>-1.066044</td>\n",
       "      <td>-1.166670</td>\n",
       "      <td>-1.099553</td>\n",
       "      <td>...</td>\n",
       "      <td>-0.763218</td>\n",
       "      <td>-0.863870</td>\n",
       "      <td>-0.763178</td>\n",
       "      <td>-0.863858</td>\n",
       "      <td>-0.863855</td>\n",
       "      <td>-0.863832</td>\n",
       "      <td>-0.360406</td>\n",
       "      <td>-0.360383</td>\n",
       "      <td>-0.158985</td>\n",
       "      <td>-0.259640</td>\n",
       "    </tr>\n",
       "    <tr>\n",
       "      <th>4</th>\n",
       "      <td>-0.655927</td>\n",
       "      <td>-0.510742</td>\n",
       "      <td>-1.166677</td>\n",
       "      <td>0.179838</td>\n",
       "      <td>-0.345975</td>\n",
       "      <td>0.719023</td>\n",
       "      <td>-0.153935</td>\n",
       "      <td>-1.066044</td>\n",
       "      <td>-1.066042</td>\n",
       "      <td>-1.166640</td>\n",
       "      <td>...</td>\n",
       "      <td>-0.461187</td>\n",
       "      <td>-0.763192</td>\n",
       "      <td>-0.863856</td>\n",
       "      <td>-0.763178</td>\n",
       "      <td>-0.863855</td>\n",
       "      <td>-0.863832</td>\n",
       "      <td>-0.863822</td>\n",
       "      <td>-0.360383</td>\n",
       "      <td>-0.360358</td>\n",
       "      <td>-0.158953</td>\n",
       "    </tr>\n",
       "  </tbody>\n",
       "</table>\n",
       "<p>5 rows × 55 columns</p>\n",
       "</div>"
      ],
      "text/plain": [
       "       수온 ℃  전기전도도 μS/cm  총유기탄소 mg/L  총질소 mg/L   총인 mg/L  상류수위(EL.m)  \\\n",
       "0 -0.625427    -0.567492   -1.099594  0.207057 -0.375331    0.722272   \n",
       "1 -0.642856    -0.578842   -1.166677  0.198992 -0.360653    0.725522   \n",
       "2 -0.629784    -0.522092   -1.066053  0.178325 -0.345975    0.726605   \n",
       "3 -0.629784    -0.510742   -1.066053  0.184878 -0.331297    0.721189   \n",
       "4 -0.655927    -0.510742   -1.166677  0.179838 -0.345975    0.719023   \n",
       "\n",
       "   방류량(㎥/s)  1shift 총유기탄소  2shift 총유기탄소  3shift 총유기탄소  ...  39shift 총유기탄소  \\\n",
       "0 -0.173845     -1.032502     -0.965414     -1.267270  ...      -0.863895   \n",
       "1 -0.165679     -1.099586     -1.032499     -0.965379  ...      -0.763218   \n",
       "2 -0.142030     -1.166669     -1.099585     -1.032466  ...      -0.863895   \n",
       "3 -0.147522     -1.066044     -1.166670     -1.099553  ...      -0.763218   \n",
       "4 -0.153935     -1.066044     -1.066042     -1.166640  ...      -0.461187   \n",
       "\n",
       "   40shift 총유기탄소  41shift 총유기탄소  42shift 총유기탄소  43shift 총유기탄소  44shift 총유기탄소  \\\n",
       "0      -0.863870      -0.863856      -0.360460      -0.360452      -0.159059   \n",
       "1      -0.863870      -0.863856      -0.863858      -0.360452      -0.360422   \n",
       "2      -0.763192      -0.863856      -0.863858      -0.863855      -0.360422   \n",
       "3      -0.863870      -0.763178      -0.863858      -0.863855      -0.863832   \n",
       "4      -0.763192      -0.863856      -0.763178      -0.863855      -0.863832   \n",
       "\n",
       "   45shift 총유기탄소  46shift 총유기탄소  47shift 총유기탄소  48shift 총유기탄소  \n",
       "0      -0.259723      -0.662438      -0.763105      -0.863767  \n",
       "1      -0.159040      -0.259698      -0.662418      -0.763079  \n",
       "2      -0.360406      -0.159013      -0.259672      -0.662392  \n",
       "3      -0.360406      -0.360383      -0.158985      -0.259640  \n",
       "4      -0.863822      -0.360383      -0.360358      -0.158953  \n",
       "\n",
       "[5 rows x 55 columns]"
      ]
     },
     "execution_count": 63,
     "metadata": {},
     "output_type": "execute_result"
    }
   ],
   "source": [
    "scb_df_scaled.head()"
   ]
  },
  {
   "cell_type": "code",
   "execution_count": 64,
   "id": "c86ea2aa",
   "metadata": {},
   "outputs": [],
   "source": [
    "X_trains, X_tests, y_trains, y_tests = train_test_split(scb_df_scaled.loc[:, col_v], scb_df['클로로필-a mg/㎥'], random_state=42)\n",
    "gb_regs = GradientBoostingRegressor(random_state=42)\n",
    "\n",
    "parameters = {'max_depth':[5, 10, 15], 'learning_rate':[0.05, 0.1, 0.2]}"
   ]
  },
  {
   "cell_type": "code",
   "execution_count": 65,
   "id": "6671bce0",
   "metadata": {},
   "outputs": [],
   "source": [
    "gb_grids = GridSearchCV(gb_regs, param_grid=parameters, cv=3)"
   ]
  },
  {
   "cell_type": "code",
   "execution_count": 66,
   "id": "835b7a20",
   "metadata": {},
   "outputs": [
    {
     "data": {
      "text/plain": [
       "GridSearchCV(cv=3, estimator=GradientBoostingRegressor(random_state=42),\n",
       "             param_grid={'learning_rate': [0.05, 0.1, 0.2],\n",
       "                         'max_depth': [5, 10, 15]})"
      ]
     },
     "execution_count": 66,
     "metadata": {},
     "output_type": "execute_result"
    }
   ],
   "source": [
    "gb_grids.fit(X_trains, np.log1p(y_trains))"
   ]
  },
  {
   "cell_type": "code",
   "execution_count": 67,
   "id": "3072b5aa",
   "metadata": {},
   "outputs": [],
   "source": [
    "scores_dfs = pd.DataFrame(gb_grids.cv_results_)"
   ]
  },
  {
   "cell_type": "code",
   "execution_count": 68,
   "id": "22591261",
   "metadata": {},
   "outputs": [
    {
     "data": {
      "text/html": [
       "<div>\n",
       "<style scoped>\n",
       "    .dataframe tbody tr th:only-of-type {\n",
       "        vertical-align: middle;\n",
       "    }\n",
       "\n",
       "    .dataframe tbody tr th {\n",
       "        vertical-align: top;\n",
       "    }\n",
       "\n",
       "    .dataframe thead th {\n",
       "        text-align: right;\n",
       "    }\n",
       "</style>\n",
       "<table border=\"1\" class=\"dataframe\">\n",
       "  <thead>\n",
       "    <tr style=\"text-align: right;\">\n",
       "      <th></th>\n",
       "      <th>params</th>\n",
       "      <th>mean_test_score</th>\n",
       "      <th>rank_test_score</th>\n",
       "    </tr>\n",
       "  </thead>\n",
       "  <tbody>\n",
       "    <tr>\n",
       "      <th>5</th>\n",
       "      <td>{'learning_rate': 0.1, 'max_depth': 15}</td>\n",
       "      <td>0.934807</td>\n",
       "      <td>1</td>\n",
       "    </tr>\n",
       "    <tr>\n",
       "      <th>2</th>\n",
       "      <td>{'learning_rate': 0.05, 'max_depth': 15}</td>\n",
       "      <td>0.934550</td>\n",
       "      <td>2</td>\n",
       "    </tr>\n",
       "    <tr>\n",
       "      <th>8</th>\n",
       "      <td>{'learning_rate': 0.2, 'max_depth': 15}</td>\n",
       "      <td>0.933325</td>\n",
       "      <td>3</td>\n",
       "    </tr>\n",
       "    <tr>\n",
       "      <th>7</th>\n",
       "      <td>{'learning_rate': 0.2, 'max_depth': 10}</td>\n",
       "      <td>0.930394</td>\n",
       "      <td>4</td>\n",
       "    </tr>\n",
       "    <tr>\n",
       "      <th>4</th>\n",
       "      <td>{'learning_rate': 0.1, 'max_depth': 10}</td>\n",
       "      <td>0.924893</td>\n",
       "      <td>5</td>\n",
       "    </tr>\n",
       "  </tbody>\n",
       "</table>\n",
       "</div>"
      ],
      "text/plain": [
       "                                     params  mean_test_score  rank_test_score\n",
       "5   {'learning_rate': 0.1, 'max_depth': 15}         0.934807                1\n",
       "2  {'learning_rate': 0.05, 'max_depth': 15}         0.934550                2\n",
       "8   {'learning_rate': 0.2, 'max_depth': 15}         0.933325                3\n",
       "7   {'learning_rate': 0.2, 'max_depth': 10}         0.930394                4\n",
       "4   {'learning_rate': 0.1, 'max_depth': 10}         0.924893                5"
      ]
     },
     "execution_count": 68,
     "metadata": {},
     "output_type": "execute_result"
    }
   ],
   "source": [
    "scores_dfs.sort_values(by=['rank_test_score'], inplace=True)\n",
    "scores_dfs[['params', 'mean_test_score', 'rank_test_score']].head()"
   ]
  },
  {
   "cell_type": "code",
   "execution_count": 69,
   "id": "487e924f",
   "metadata": {},
   "outputs": [
    {
     "data": {
      "text/plain": [
       "{'learning_rate': 0.1, 'max_depth': 15}"
      ]
     },
     "execution_count": 69,
     "metadata": {},
     "output_type": "execute_result"
    }
   ],
   "source": [
    "gb_grids.best_params_"
   ]
  },
  {
   "cell_type": "code",
   "execution_count": 70,
   "id": "96864efe",
   "metadata": {},
   "outputs": [],
   "source": [
    "estimators = gb_grids.best_estimator_"
   ]
  },
  {
   "cell_type": "code",
   "execution_count": 71,
   "id": "8ba35716",
   "metadata": {},
   "outputs": [],
   "source": [
    "preds = estimators.predict(X_tests)"
   ]
  },
  {
   "cell_type": "code",
   "execution_count": 72,
   "id": "3c96bb3c",
   "metadata": {},
   "outputs": [
    {
     "name": "stdout",
     "output_type": "stream",
     "text": [
      "0.19 수온 ℃\n",
      "0.25 전기전도도 μS/cm\n",
      "0.02 총유기탄소 mg/L\n",
      "0.08 총질소 mg/L\n",
      "0.07 총인 mg/L\n",
      "0.13 상류수위(EL.m)\n",
      "0.11 방류량(㎥/s)\n",
      "0.01 1shift 총유기탄소\n",
      "0.01 2shift 총유기탄소\n",
      "0.0 3shift 총유기탄소\n",
      "0.0 4shift 총유기탄소\n",
      "0.0 5shift 총유기탄소\n",
      "0.0 6shift 총유기탄소\n",
      "0.0 7shift 총유기탄소\n",
      "0.0 8shift 총유기탄소\n",
      "0.0 9shift 총유기탄소\n",
      "0.0 10shift 총유기탄소\n",
      "0.0 11shift 총유기탄소\n",
      "0.01 12shift 총유기탄소\n",
      "0.0 13shift 총유기탄소\n",
      "0.0 14shift 총유기탄소\n",
      "0.0 15shift 총유기탄소\n",
      "0.0 16shift 총유기탄소\n",
      "0.0 17shift 총유기탄소\n",
      "0.0 18shift 총유기탄소\n",
      "0.0 19shift 총유기탄소\n",
      "0.0 20shift 총유기탄소\n",
      "0.0 21shift 총유기탄소\n",
      "0.0 22shift 총유기탄소\n",
      "0.0 23shift 총유기탄소\n",
      "0.0 24shift 총유기탄소\n",
      "0.01 25shift 총유기탄소\n",
      "0.0 26shift 총유기탄소\n",
      "0.0 27shift 총유기탄소\n",
      "0.0 28shift 총유기탄소\n",
      "0.0 29shift 총유기탄소\n",
      "0.0 30shift 총유기탄소\n",
      "0.0 31shift 총유기탄소\n",
      "0.0 32shift 총유기탄소\n",
      "0.01 33shift 총유기탄소\n",
      "0.0 34shift 총유기탄소\n",
      "0.0 35shift 총유기탄소\n",
      "0.0 36shift 총유기탄소\n",
      "0.0 37shift 총유기탄소\n",
      "0.0 38shift 총유기탄소\n",
      "0.0 39shift 총유기탄소\n",
      "0.0 40shift 총유기탄소\n",
      "0.0 41shift 총유기탄소\n",
      "0.0 42shift 총유기탄소\n",
      "0.0 43shift 총유기탄소\n",
      "0.0 44shift 총유기탄소\n",
      "0.0 45shift 총유기탄소\n",
      "0.0 46shift 총유기탄소\n",
      "0.0 47shift 총유기탄소\n",
      "0.01 48shift 총유기탄소\n"
     ]
    }
   ],
   "source": [
    "for score, name in zip(estimators.feature_importances_, col_v):\n",
    "    print(round(score, 2), name)"
   ]
  },
  {
   "cell_type": "code",
   "execution_count": 73,
   "id": "d689b7cc",
   "metadata": {},
   "outputs": [
    {
     "data": {
      "image/png": "[encoded data removed]",
      "text/plain": [
       "<Figure size 720x432 with 1 Axes>"
      ]
     },
     "metadata": {
      "needs_background": "light"
     },
     "output_type": "display_data"
    }
   ],
   "source": [
    "feature_seriess = pd.Series(data = estimators.feature_importances_, index = col_v)\n",
    "feature_seriess = feature_seriess.sort_values(ascending = False)\n",
    "sns.barplot(x = feature_seriess[:10], y = feature_seriess.index[:10], color = 'gray')\n",
    "plt.show()"
   ]
  },
  {
   "cell_type": "code",
   "execution_count": 74,
   "id": "5ff9d0d5",
   "metadata": {},
   "outputs": [
    {
     "data": {
      "text/plain": [
       "전기전도도 μS/cm      0.246924\n",
       "수온 ℃             0.188165\n",
       "상류수위(EL.m)       0.132703\n",
       "방류량(㎥/s)         0.113894\n",
       "총질소 mg/L         0.079227\n",
       "총인 mg/L          0.074191\n",
       "총유기탄소 mg/L       0.019914\n",
       "1shift 총유기탄소     0.009547\n",
       "48shift 총유기탄소    0.007262\n",
       "33shift 총유기탄소    0.006393\n",
       "dtype: float64"
      ]
     },
     "execution_count": 74,
     "metadata": {},
     "output_type": "execute_result"
    }
   ],
   "source": [
    "feature_seriess[:10]"
   ]
  },
  {
   "cell_type": "code",
   "execution_count": 75,
   "id": "6aad7be2",
   "metadata": {},
   "outputs": [
    {
     "name": "stdout",
     "output_type": "stream",
     "text": [
      "score : 0.9550219170651421\n"
     ]
    }
   ],
   "source": [
    "print('score :', estimators.score(X_tests, np.log1p(y_tests)))"
   ]
  },
  {
   "cell_type": "code",
   "execution_count": null,
   "id": "a34152e6",
   "metadata": {},
   "outputs": [],
   "source": []
  },
  {
   "cell_type": "code",
   "execution_count": null,
   "id": "6eb3337f",
   "metadata": {},
   "outputs": [],
   "source": []
  },
  {
   "cell_type": "code",
   "execution_count": null,
   "id": "036e66d4",
   "metadata": {},
   "outputs": [],
   "source": []
  },
  {
   "cell_type": "code",
   "execution_count": null,
   "id": "ca55bc2c",
   "metadata": {},
   "outputs": [],
   "source": []
  }
 ],
 "metadata": {
  "kernelspec": {
   "display_name": "Python 3.9.7 ('base': conda)",
   "language": "python",
   "name": "python3"
  },
  "language_info": {
   "codemirror_mode": {
    "name": "ipython",
    "version": 3
   },
   "file_extension": ".py",
   "mimetype": "text/x-python",
   "name": "python",
   "nbconvert_exporter": "python",
   "pygments_lexer": "ipython3",
   "version": "3.9.7"
  },
  "vscode": {
   "interpreter": {
    "hash": "e6b9563c2d5f39a0f14e96863a92c28173db3617b8e00a6322a2465c297cc121"
   }
  }
 },
 "nbformat": 4,
 "nbformat_minor": 5
}
