{
 "cells": [
  {
   "cell_type": "markdown",
   "id": "ce925ce6",
   "metadata": {},
   "source": [
    "필요한 모듈 임포트"
   ]
  },
  {
   "cell_type": "code",
   "execution_count": 1,
   "id": "91e66a0b",
   "metadata": {},
   "outputs": [],
   "source": [
    "import numpy as np\n",
    "import pandas as pd\n",
    "import matplotlib.pyplot as plt\n",
    "import matplotlib"
   ]
  },
  {
   "cell_type": "code",
   "execution_count": 2,
   "id": "844b563e",
   "metadata": {},
   "outputs": [],
   "source": [
    "import platform\n",
    "plt.rc('figure', figsize=(10, 6))  # 그림 크기 설정\n",
    "if platform.system() == 'Windows': # 윈도우\n",
    "    from matplotlib import font_manager, rc\n",
    "    font_path = \"C:/Windows/Fonts/NGULIM.TTF\"\n",
    "    font = font_manager.FontProperties(fname=font_path).get_name()\n",
    "    rc('font', family=font)\n",
    "elif platform.system() == 'Linux': # 우분투 또는 구글 코랩\n",
    "    # !sudo apt-get install -y fonts-nanum*\n",
    "    # !fc-cache -fv\n",
    "    \n",
    "    applyfont = \"NanumBarunGothic\"\n",
    "    import matplotlib.font_manager as fm\n",
    "    if not any(map(lambda ft: ft.name == applyfont, fm.fontManager.ttflist)):\n",
    "        fm.fontManager.addfont(\"/usr/share/fonts/truetype/nanum/NanumBarunGothic.ttf\")\n",
    "    plt.rc(\"font\", family=applyfont)\n",
    "    plt.rc(\"axes\", unicode_minus=False)"
   ]
  },
  {
   "cell_type": "code",
   "execution_count": 3,
   "id": "ff6c28ef",
   "metadata": {},
   "outputs": [],
   "source": [
    "# GradientBoosting\n",
    "from sklearn.ensemble import GradientBoostingRegressor\n",
    "from sklearn.model_selection import train_test_split\n",
    "import seaborn as sns\n",
    "from sklearn.model_selection import GridSearchCV"
   ]
  },
  {
   "cell_type": "code",
   "execution_count": 4,
   "id": "f7f5dd40",
   "metadata": {},
   "outputs": [],
   "source": [
    "from sklearn.preprocessing import StandardScaler"
   ]
  },
  {
   "cell_type": "markdown",
   "id": "50a6cce0",
   "metadata": {},
   "source": [
    "데이터 가져오기"
   ]
  },
  {
   "cell_type": "code",
   "execution_count": 5,
   "id": "67006279",
   "metadata": {},
   "outputs": [],
   "source": [
    "base_path = r\"C:\\Users\\owner\\Desktop\\water-source\\data\""
   ]
  },
  {
   "cell_type": "code",
   "execution_count": 6,
   "id": "f954b2a2",
   "metadata": {},
   "outputs": [],
   "source": [
    "jsb_yearly = pd.read_excel(base_path+\"\\Jugsanbo.xlsx\", \n",
    "                            skiprows=0, \n",
    "                            header=1, \n",
    "                            sheet_name=None,\n",
    "                            na_values='ND',\n",
    "                            parse_dates=True)  # index_col = 0을 제외함"
   ]
  },
  {
   "cell_type": "code",
   "execution_count": 7,
   "id": "f72e1370",
   "metadata": {},
   "outputs": [
    {
     "name": "stdout",
     "output_type": "stream",
     "text": [
      "<class 'dict'>\n",
      "dict_keys(['2012년', '2013년', '2014년', '2015년', '2016년', '2017년', '2018년', '2019년', '2020년', '2021년', '2022년'])\n"
     ]
    }
   ],
   "source": [
    "print(type(jsb_yearly))  # type-dict\n",
    "print(jsb_yearly.keys())  # 2012년부터 2022년까지"
   ]
  },
  {
   "cell_type": "code",
   "execution_count": 8,
   "id": "b02c6e94",
   "metadata": {},
   "outputs": [
    {
     "data": {
      "text/plain": [
       "Index(['측정일/월', '측정소명', '수온 ℃', '수소이온농도', '전기전도도 μS/cm', '용존산소 mg/L', '탁도 NTU',\n",
       "       '총유기탄소 mg/L', '총질소 mg/L', '총인 mg/L', '클로로필-a mg/㎥'],\n",
       "      dtype='object')"
      ]
     },
     "execution_count": 8,
     "metadata": {},
     "output_type": "execute_result"
    }
   ],
   "source": [
    "jsb_yearly['2012년'].columns"
   ]
  },
  {
   "cell_type": "markdown",
   "id": "e63b1337",
   "metadata": {},
   "source": [
    "2013년 자료부터"
   ]
  },
  {
   "cell_type": "code",
   "execution_count": 9,
   "id": "67e6f6ff",
   "metadata": {},
   "outputs": [],
   "source": [
    "jsb_yearly_df13 = pd.DataFrame()\n",
    "\n",
    "for item in list(jsb_yearly.keys())[1:]:\n",
    "    jsb_yearly_df13 = pd.concat([jsb_yearly_df13, jsb_yearly[item]])"
   ]
  },
  {
   "cell_type": "code",
   "execution_count": 10,
   "id": "72edb276",
   "metadata": {},
   "outputs": [],
   "source": [
    "jsb_yearly_df13 = jsb_yearly_df13.reset_index(drop=True)"
   ]
  },
  {
   "cell_type": "markdown",
   "id": "e21676f1",
   "metadata": {},
   "source": [
    "결측치 확인"
   ]
  },
  {
   "cell_type": "code",
   "execution_count": 11,
   "id": "529a98e6",
   "metadata": {},
   "outputs": [
    {
     "name": "stdout",
     "output_type": "stream",
     "text": [
      "<class 'pandas.core.frame.DataFrame'>\n",
      "RangeIndex: 82064 entries, 0 to 82063\n",
      "Data columns (total 11 columns):\n",
      " #   Column       Non-Null Count  Dtype  \n",
      "---  ------       --------------  -----  \n",
      " 0   측정일/월        82064 non-null  object \n",
      " 1   측정소명         82064 non-null  object \n",
      " 2   수온 ℃         71955 non-null  float64\n",
      " 3   수소이온농도       72092 non-null  float64\n",
      " 4   전기전도도 μS/cm  72139 non-null  float64\n",
      " 5   용존산소 mg/L    70998 non-null  float64\n",
      " 6   탁도 NTU       71312 non-null  float64\n",
      " 7   총유기탄소 mg/L   66051 non-null  float64\n",
      " 8   총질소 mg/L     67124 non-null  float64\n",
      " 9   총인 mg/L      67772 non-null  float64\n",
      " 10  클로로필-a mg/㎥  69643 non-null  float64\n",
      "dtypes: float64(9), object(2)\n",
      "memory usage: 6.9+ MB\n"
     ]
    }
   ],
   "source": [
    "jsb_yearly_df13.info()"
   ]
  },
  {
   "cell_type": "code",
   "execution_count": 12,
   "id": "f59d2c99",
   "metadata": {},
   "outputs": [
    {
     "data": {
      "text/plain": [
       "측정일/월              0\n",
       "측정소명               0\n",
       "수온 ℃           10109\n",
       "수소이온농도          9972\n",
       "전기전도도 μS/cm     9925\n",
       "용존산소 mg/L      11066\n",
       "탁도 NTU         10752\n",
       "총유기탄소 mg/L     16013\n",
       "총질소 mg/L       14940\n",
       "총인 mg/L        14292\n",
       "클로로필-a mg/㎥    12421\n",
       "dtype: int64"
      ]
     },
     "execution_count": 12,
     "metadata": {},
     "output_type": "execute_result"
    }
   ],
   "source": [
    "jsb_yearly_df13.isnull().sum()"
   ]
  },
  {
   "cell_type": "code",
   "execution_count": 13,
   "id": "42391d6e",
   "metadata": {},
   "outputs": [
    {
     "data": {
      "text/html": [
       "<div>\n",
       "<style scoped>\n",
       "    .dataframe tbody tr th:only-of-type {\n",
       "        vertical-align: middle;\n",
       "    }\n",
       "\n",
       "    .dataframe tbody tr th {\n",
       "        vertical-align: top;\n",
       "    }\n",
       "\n",
       "    .dataframe thead th {\n",
       "        text-align: right;\n",
       "    }\n",
       "</style>\n",
       "<table border=\"1\" class=\"dataframe\">\n",
       "  <thead>\n",
       "    <tr style=\"text-align: right;\">\n",
       "      <th></th>\n",
       "      <th>측정일/월</th>\n",
       "      <th>측정소명</th>\n",
       "      <th>수온 ℃</th>\n",
       "      <th>수소이온농도</th>\n",
       "      <th>전기전도도 μS/cm</th>\n",
       "      <th>용존산소 mg/L</th>\n",
       "      <th>탁도 NTU</th>\n",
       "      <th>총유기탄소 mg/L</th>\n",
       "      <th>총질소 mg/L</th>\n",
       "      <th>총인 mg/L</th>\n",
       "      <th>클로로필-a mg/㎥</th>\n",
       "    </tr>\n",
       "  </thead>\n",
       "  <tbody>\n",
       "    <tr>\n",
       "      <th>0</th>\n",
       "      <td>2013-01-01 00h</td>\n",
       "      <td>나주</td>\n",
       "      <td>3.3</td>\n",
       "      <td>6.8</td>\n",
       "      <td>272.0</td>\n",
       "      <td>12.0</td>\n",
       "      <td>1.8</td>\n",
       "      <td>1.9</td>\n",
       "      <td>NaN</td>\n",
       "      <td>NaN</td>\n",
       "      <td>12.2</td>\n",
       "    </tr>\n",
       "    <tr>\n",
       "      <th>1</th>\n",
       "      <td>2013-01-01 01h</td>\n",
       "      <td>나주</td>\n",
       "      <td>3.1</td>\n",
       "      <td>6.7</td>\n",
       "      <td>272.0</td>\n",
       "      <td>12.0</td>\n",
       "      <td>1.7</td>\n",
       "      <td>1.9</td>\n",
       "      <td>NaN</td>\n",
       "      <td>NaN</td>\n",
       "      <td>12.0</td>\n",
       "    </tr>\n",
       "    <tr>\n",
       "      <th>2</th>\n",
       "      <td>2013-01-01 02h</td>\n",
       "      <td>나주</td>\n",
       "      <td>3.0</td>\n",
       "      <td>6.7</td>\n",
       "      <td>273.0</td>\n",
       "      <td>12.0</td>\n",
       "      <td>1.7</td>\n",
       "      <td>1.9</td>\n",
       "      <td>NaN</td>\n",
       "      <td>NaN</td>\n",
       "      <td>12.1</td>\n",
       "    </tr>\n",
       "    <tr>\n",
       "      <th>3</th>\n",
       "      <td>2013-01-01 03h</td>\n",
       "      <td>나주</td>\n",
       "      <td>3.0</td>\n",
       "      <td>6.7</td>\n",
       "      <td>275.0</td>\n",
       "      <td>12.0</td>\n",
       "      <td>1.6</td>\n",
       "      <td>1.9</td>\n",
       "      <td>NaN</td>\n",
       "      <td>NaN</td>\n",
       "      <td>12.2</td>\n",
       "    </tr>\n",
       "    <tr>\n",
       "      <th>4</th>\n",
       "      <td>2013-01-01 04h</td>\n",
       "      <td>나주</td>\n",
       "      <td>2.9</td>\n",
       "      <td>6.7</td>\n",
       "      <td>276.0</td>\n",
       "      <td>12.0</td>\n",
       "      <td>1.5</td>\n",
       "      <td>1.9</td>\n",
       "      <td>NaN</td>\n",
       "      <td>NaN</td>\n",
       "      <td>12.1</td>\n",
       "    </tr>\n",
       "  </tbody>\n",
       "</table>\n",
       "</div>"
      ],
      "text/plain": [
       "            측정일/월 측정소명  수온 ℃  수소이온농도  전기전도도 μS/cm  용존산소 mg/L  탁도 NTU  \\\n",
       "0  2013-01-01 00h   나주   3.3     6.8        272.0       12.0     1.8   \n",
       "1  2013-01-01 01h   나주   3.1     6.7        272.0       12.0     1.7   \n",
       "2  2013-01-01 02h   나주   3.0     6.7        273.0       12.0     1.7   \n",
       "3  2013-01-01 03h   나주   3.0     6.7        275.0       12.0     1.6   \n",
       "4  2013-01-01 04h   나주   2.9     6.7        276.0       12.0     1.5   \n",
       "\n",
       "   총유기탄소 mg/L  총질소 mg/L  총인 mg/L  클로로필-a mg/㎥  \n",
       "0         1.9       NaN      NaN         12.2  \n",
       "1         1.9       NaN      NaN         12.0  \n",
       "2         1.9       NaN      NaN         12.1  \n",
       "3         1.9       NaN      NaN         12.2  \n",
       "4         1.9       NaN      NaN         12.1  "
      ]
     },
     "execution_count": 13,
     "metadata": {},
     "output_type": "execute_result"
    }
   ],
   "source": [
    "jsb_yearly_df13.head()"
   ]
  },
  {
   "cell_type": "markdown",
   "id": "fe33dbb5",
   "metadata": {},
   "source": [
    "유량 데이터 추가하기"
   ]
  },
  {
   "cell_type": "code",
   "execution_count": 14,
   "id": "3dcd1b7c",
   "metadata": {},
   "outputs": [],
   "source": [
    "jsb_flow_yearly = pd.read_excel(base_path+\"\\Jugsanbo_flow.xlsx\", \n",
    "                            header=0, \n",
    "                            sheet_name=None,\n",
    "                            na_values='ND',\n",
    "                            parse_dates=True)  # index_col = 0을 제외함"
   ]
  },
  {
   "cell_type": "code",
   "execution_count": 15,
   "id": "93384a27",
   "metadata": {},
   "outputs": [],
   "source": [
    "for year in list(jsb_flow_yearly.keys())[1:]:\n",
    "    jsb_flow_yearly[year]['연월일시'] = jsb_flow_yearly[year]['시간'].apply(lambda x : x[:-3])"
   ]
  },
  {
   "cell_type": "code",
   "execution_count": 16,
   "id": "fc5d64be",
   "metadata": {},
   "outputs": [],
   "source": [
    "jsb_flow_yearly_hour = {}\n",
    "\n",
    "for year in list(jsb_flow_yearly.keys())[1:]:\n",
    "    jsb_flow_yearly_hour[year] = jsb_flow_yearly[year].groupby('연월일시').mean()"
   ]
  },
  {
   "cell_type": "code",
   "execution_count": 17,
   "id": "a9a687f6",
   "metadata": {},
   "outputs": [],
   "source": [
    "for year in jsb_flow_yearly_hour:\n",
    "    jsb_flow_yearly_hour[year] = jsb_flow_yearly_hour[year].reset_index()"
   ]
  },
  {
   "cell_type": "code",
   "execution_count": 18,
   "id": "ea35293b",
   "metadata": {},
   "outputs": [],
   "source": [
    "jsb_flow_yearly_hour_df = pd.DataFrame()\n",
    "\n",
    "for year in jsb_flow_yearly_hour:\n",
    "    jsb_flow_yearly_hour_df = pd.concat([jsb_flow_yearly_hour_df, jsb_flow_yearly_hour[year]])"
   ]
  },
  {
   "cell_type": "code",
   "execution_count": 19,
   "id": "6b039552",
   "metadata": {},
   "outputs": [],
   "source": [
    "jsb_flow_yearly_hour_df = jsb_flow_yearly_hour_df.reset_index(drop=True)"
   ]
  },
  {
   "cell_type": "code",
   "execution_count": 20,
   "id": "c79bbead",
   "metadata": {},
   "outputs": [
    {
     "name": "stdout",
     "output_type": "stream",
     "text": [
      "84462\n",
      "82064\n"
     ]
    }
   ],
   "source": [
    "print(jsb_flow_yearly_hour_df.__len__())\n",
    "print(jsb_yearly_df13.__len__())"
   ]
  },
  {
   "cell_type": "code",
   "execution_count": 21,
   "id": "6f07d7ab",
   "metadata": {},
   "outputs": [],
   "source": [
    "jsb_yearly_df13['연월일시'] = jsb_yearly_df13['측정일/월'].transform(lambda x: x.strip('h').replace('-', '.'))"
   ]
  },
  {
   "cell_type": "code",
   "execution_count": 22,
   "id": "7db334eb",
   "metadata": {},
   "outputs": [],
   "source": [
    "jsb_data = pd.merge(jsb_yearly_df13, jsb_flow_yearly_hour_df, how='outer')"
   ]
  },
  {
   "cell_type": "code",
   "execution_count": 23,
   "id": "32293c2d",
   "metadata": {},
   "outputs": [],
   "source": [
    "jsb_data = jsb_data[:82064]"
   ]
  },
  {
   "cell_type": "code",
   "execution_count": 24,
   "id": "a5efb142",
   "metadata": {},
   "outputs": [
    {
     "name": "stdout",
     "output_type": "stream",
     "text": [
      "<class 'pandas.core.frame.DataFrame'>\n",
      "Int64Index: 82064 entries, 0 to 82063\n",
      "Data columns (total 16 columns):\n",
      " #   Column       Non-Null Count  Dtype  \n",
      "---  ------       --------------  -----  \n",
      " 0   측정일/월        82064 non-null  object \n",
      " 1   측정소명         82064 non-null  object \n",
      " 2   수온 ℃         71955 non-null  float64\n",
      " 3   수소이온농도       72092 non-null  float64\n",
      " 4   전기전도도 μS/cm  72139 non-null  float64\n",
      " 5   용존산소 mg/L    70998 non-null  float64\n",
      " 6   탁도 NTU       71312 non-null  float64\n",
      " 7   총유기탄소 mg/L   66051 non-null  float64\n",
      " 8   총질소 mg/L     67124 non-null  float64\n",
      " 9   총인 mg/L      67772 non-null  float64\n",
      " 10  클로로필-a mg/㎥  69643 non-null  float64\n",
      " 11  연월일시         82064 non-null  object \n",
      " 12   상류수위(EL.m)  82051 non-null  float64\n",
      " 13   하류수위(EL.m)  82051 non-null  float64\n",
      " 14   유입량(㎥/s)    82051 non-null  float64\n",
      " 15   방류량(㎥/s)    82051 non-null  float64\n",
      "dtypes: float64(13), object(3)\n",
      "memory usage: 10.6+ MB\n"
     ]
    }
   ],
   "source": [
    "jsb_data.info()"
   ]
  },
  {
   "cell_type": "code",
   "execution_count": 25,
   "id": "51473373",
   "metadata": {},
   "outputs": [],
   "source": [
    "jsb_data.columns = [x.strip() for x in list(jsb_data.columns)]"
   ]
  },
  {
   "cell_type": "code",
   "execution_count": 26,
   "id": "88c0cc65",
   "metadata": {},
   "outputs": [
    {
     "name": "stdout",
     "output_type": "stream",
     "text": [
      "<class 'pandas.core.frame.DataFrame'>\n",
      "Int64Index: 82064 entries, 0 to 82063\n",
      "Data columns (total 16 columns):\n",
      " #   Column       Non-Null Count  Dtype  \n",
      "---  ------       --------------  -----  \n",
      " 0   측정일/월        82064 non-null  object \n",
      " 1   측정소명         82064 non-null  object \n",
      " 2   수온 ℃         71955 non-null  float64\n",
      " 3   수소이온농도       72092 non-null  float64\n",
      " 4   전기전도도 μS/cm  72139 non-null  float64\n",
      " 5   용존산소 mg/L    70998 non-null  float64\n",
      " 6   탁도 NTU       71312 non-null  float64\n",
      " 7   총유기탄소 mg/L   66051 non-null  float64\n",
      " 8   총질소 mg/L     67124 non-null  float64\n",
      " 9   총인 mg/L      67772 non-null  float64\n",
      " 10  클로로필-a mg/㎥  69643 non-null  float64\n",
      " 11  연월일시         82064 non-null  object \n",
      " 12  상류수위(EL.m)   82051 non-null  float64\n",
      " 13  하류수위(EL.m)   82051 non-null  float64\n",
      " 14  유입량(㎥/s)     82051 non-null  float64\n",
      " 15  방류량(㎥/s)     82051 non-null  float64\n",
      "dtypes: float64(13), object(3)\n",
      "memory usage: 10.6+ MB\n"
     ]
    }
   ],
   "source": [
    "jsb_data.info()"
   ]
  },
  {
   "cell_type": "code",
   "execution_count": 27,
   "id": "c57ebe33",
   "metadata": {},
   "outputs": [],
   "source": [
    "jsb_data = jsb_data.loc[:, list(jsb_data.columns)[:3]  + list(jsb_data.columns)[4:5] + list(jsb_data.columns)[6:-5] + list(jsb_data.columns)[-4:-3] + list(jsb_data.columns)[-1:]]"
   ]
  },
  {
   "cell_type": "code",
   "execution_count": 28,
   "id": "5588c0d5",
   "metadata": {},
   "outputs": [
    {
     "data": {
      "text/plain": [
       "Index(['측정일/월', '측정소명', '수온 ℃', '전기전도도 μS/cm', '탁도 NTU', '총유기탄소 mg/L',\n",
       "       '총질소 mg/L', '총인 mg/L', '클로로필-a mg/㎥', '상류수위(EL.m)', '방류량(㎥/s)'],\n",
       "      dtype='object')"
      ]
     },
     "execution_count": 28,
     "metadata": {},
     "output_type": "execute_result"
    }
   ],
   "source": [
    "jsb_data.columns"
   ]
  },
  {
   "cell_type": "code",
   "execution_count": 29,
   "id": "1b1383f1",
   "metadata": {},
   "outputs": [
    {
     "data": {
      "text/plain": [
       "측정일/월              0\n",
       "측정소명               0\n",
       "수온 ℃           10109\n",
       "전기전도도 μS/cm     9925\n",
       "탁도 NTU         10752\n",
       "총유기탄소 mg/L     16013\n",
       "총질소 mg/L       14940\n",
       "총인 mg/L        14292\n",
       "클로로필-a mg/㎥    12421\n",
       "상류수위(EL.m)        13\n",
       "방류량(㎥/s)          13\n",
       "dtype: int64"
      ]
     },
     "execution_count": 29,
     "metadata": {},
     "output_type": "execute_result"
    }
   ],
   "source": [
    "jsb_data.isnull().sum()"
   ]
  },
  {
   "cell_type": "code",
   "execution_count": 30,
   "id": "e3200bfe",
   "metadata": {},
   "outputs": [
    {
     "data": {
      "text/plain": [
       "측정일/월          0.000000\n",
       "측정소명           0.000000\n",
       "수온 ℃           0.123184\n",
       "전기전도도 μS/cm    0.120942\n",
       "탁도 NTU         0.131020\n",
       "총유기탄소 mg/L     0.195128\n",
       "총질소 mg/L       0.182053\n",
       "총인 mg/L        0.174157\n",
       "클로로필-a mg/㎥    0.151357\n",
       "상류수위(EL.m)     0.000158\n",
       "방류량(㎥/s)       0.000158\n",
       "dtype: float64"
      ]
     },
     "execution_count": 30,
     "metadata": {},
     "output_type": "execute_result"
    }
   ],
   "source": [
    "jsb_data.isnull().sum() /len(jsb_data)"
   ]
  },
  {
   "cell_type": "code",
   "execution_count": 31,
   "id": "e39aea47",
   "metadata": {},
   "outputs": [
    {
     "data": {
      "text/plain": [
       "82064"
      ]
     },
     "execution_count": 31,
     "metadata": {},
     "output_type": "execute_result"
    }
   ],
   "source": [
    "len(jsb_data)"
   ]
  },
  {
   "cell_type": "markdown",
   "id": "046c1bbc",
   "metadata": {},
   "source": [
    "시간데이터 추가"
   ]
  },
  {
   "cell_type": "code",
   "execution_count": 32,
   "id": "b877edef",
   "metadata": {},
   "outputs": [],
   "source": [
    "jsb_df = jsb_data.copy()"
   ]
  },
  {
   "cell_type": "code",
   "execution_count": 33,
   "id": "56dad7e0",
   "metadata": {},
   "outputs": [
    {
     "data": {
      "text/plain": [
       "Index(['측정일/월', '측정소명', '수온 ℃', '전기전도도 μS/cm', '탁도 NTU', '총유기탄소 mg/L',\n",
       "       '총질소 mg/L', '총인 mg/L', '클로로필-a mg/㎥', '상류수위(EL.m)', '방류량(㎥/s)'],\n",
       "      dtype='object')"
      ]
     },
     "execution_count": 33,
     "metadata": {},
     "output_type": "execute_result"
    }
   ],
   "source": [
    "jsb_df.columns"
   ]
  },
  {
   "cell_type": "code",
   "execution_count": 34,
   "id": "cbec438b",
   "metadata": {},
   "outputs": [],
   "source": [
    "col_c = list(jsb_df.columns.copy())\n",
    "col_c.remove('클로로필-a mg/㎥')"
   ]
  },
  {
   "cell_type": "code",
   "execution_count": 35,
   "id": "a34ab547",
   "metadata": {},
   "outputs": [
    {
     "data": {
      "text/plain": [
       "['측정일/월',\n",
       " '측정소명',\n",
       " '수온 ℃',\n",
       " '전기전도도 μS/cm',\n",
       " '탁도 NTU',\n",
       " '총유기탄소 mg/L',\n",
       " '총질소 mg/L',\n",
       " '총인 mg/L',\n",
       " '상류수위(EL.m)',\n",
       " '방류량(㎥/s)']"
      ]
     },
     "execution_count": 35,
     "metadata": {},
     "output_type": "execute_result"
    }
   ],
   "source": [
    "col_c"
   ]
  },
  {
   "cell_type": "code",
   "execution_count": 36,
   "id": "5c3ed198",
   "metadata": {},
   "outputs": [],
   "source": [
    "for i in range(1, 49):\n",
    "    jsb_df[str(i) + 'shift 총유기탄소'] = jsb_df['총유기탄소 mg/L'].shift(i)"
   ]
  },
  {
   "cell_type": "code",
   "execution_count": 37,
   "id": "c32892ef",
   "metadata": {},
   "outputs": [
    {
     "data": {
      "text/plain": [
       "82064"
      ]
     },
     "execution_count": 37,
     "metadata": {},
     "output_type": "execute_result"
    }
   ],
   "source": [
    "len(jsb_df)"
   ]
  },
  {
   "cell_type": "code",
   "execution_count": 38,
   "id": "09435085",
   "metadata": {},
   "outputs": [
    {
     "data": {
      "text/plain": [
       "Index(['측정일/월', '측정소명', '수온 ℃', '전기전도도 μS/cm', '탁도 NTU', '총유기탄소 mg/L',\n",
       "       '총질소 mg/L', '총인 mg/L', '클로로필-a mg/㎥', '상류수위(EL.m)', '방류량(㎥/s)',\n",
       "       '1shift 총유기탄소', '2shift 총유기탄소', '3shift 총유기탄소', '4shift 총유기탄소',\n",
       "       '5shift 총유기탄소', '6shift 총유기탄소', '7shift 총유기탄소', '8shift 총유기탄소',\n",
       "       '9shift 총유기탄소', '10shift 총유기탄소', '11shift 총유기탄소', '12shift 총유기탄소',\n",
       "       '13shift 총유기탄소', '14shift 총유기탄소', '15shift 총유기탄소', '16shift 총유기탄소',\n",
       "       '17shift 총유기탄소', '18shift 총유기탄소', '19shift 총유기탄소', '20shift 총유기탄소',\n",
       "       '21shift 총유기탄소', '22shift 총유기탄소', '23shift 총유기탄소', '24shift 총유기탄소',\n",
       "       '25shift 총유기탄소', '26shift 총유기탄소', '27shift 총유기탄소', '28shift 총유기탄소',\n",
       "       '29shift 총유기탄소', '30shift 총유기탄소', '31shift 총유기탄소', '32shift 총유기탄소',\n",
       "       '33shift 총유기탄소', '34shift 총유기탄소', '35shift 총유기탄소', '36shift 총유기탄소',\n",
       "       '37shift 총유기탄소', '38shift 총유기탄소', '39shift 총유기탄소', '40shift 총유기탄소',\n",
       "       '41shift 총유기탄소', '42shift 총유기탄소', '43shift 총유기탄소', '44shift 총유기탄소',\n",
       "       '45shift 총유기탄소', '46shift 총유기탄소', '47shift 총유기탄소', '48shift 총유기탄소'],\n",
       "      dtype='object')"
      ]
     },
     "execution_count": 38,
     "metadata": {},
     "output_type": "execute_result"
    }
   ],
   "source": [
    "jsb_df.columns"
   ]
  },
  {
   "cell_type": "code",
   "execution_count": 39,
   "id": "2e1e1935",
   "metadata": {},
   "outputs": [
    {
     "data": {
      "text/plain": [
       "82064"
      ]
     },
     "execution_count": 39,
     "metadata": {},
     "output_type": "execute_result"
    }
   ],
   "source": [
    "len(jsb_df)"
   ]
  },
  {
   "cell_type": "markdown",
   "id": "fed67ec4",
   "metadata": {},
   "source": [
    "결측치 보간법"
   ]
  },
  {
   "cell_type": "code",
   "execution_count": 40,
   "id": "c0d98c84",
   "metadata": {},
   "outputs": [],
   "source": [
    "from datetime import datetime"
   ]
  },
  {
   "cell_type": "code",
   "execution_count": 41,
   "id": "9fd90744",
   "metadata": {},
   "outputs": [],
   "source": [
    "jsb_df = jsb_df.copy()"
   ]
  },
  {
   "cell_type": "code",
   "execution_count": 42,
   "id": "34e8ef6b",
   "metadata": {},
   "outputs": [],
   "source": [
    "jsb_df['측정일/월'] = jsb_df['측정일/월'].transform(lambda x: datetime.strptime(x[:-1], '%Y-%m-%d %H'))"
   ]
  },
  {
   "cell_type": "code",
   "execution_count": 43,
   "id": "3e46fd1a",
   "metadata": {},
   "outputs": [],
   "source": [
    "jsb_df = jsb_df.copy().set_index('측정일/월').interpolate(method='time')"
   ]
  },
  {
   "cell_type": "code",
   "execution_count": 44,
   "id": "51aa80ea",
   "metadata": {},
   "outputs": [],
   "source": [
    "jsb_df = jsb_df.dropna()"
   ]
  },
  {
   "cell_type": "code",
   "execution_count": 45,
   "id": "d9c55669",
   "metadata": {},
   "outputs": [
    {
     "data": {
      "text/plain": [
       "79963"
      ]
     },
     "execution_count": 45,
     "metadata": {},
     "output_type": "execute_result"
    }
   ],
   "source": [
    "jsb_df.__len__()"
   ]
  },
  {
   "cell_type": "code",
   "execution_count": 46,
   "id": "5f390c10",
   "metadata": {},
   "outputs": [
    {
     "data": {
      "text/plain": [
       "Index(['측정소명', '수온 ℃', '전기전도도 μS/cm', '탁도 NTU', '총유기탄소 mg/L', '총질소 mg/L',\n",
       "       '총인 mg/L', '클로로필-a mg/㎥', '상류수위(EL.m)', '방류량(㎥/s)', '1shift 총유기탄소',\n",
       "       '2shift 총유기탄소', '3shift 총유기탄소', '4shift 총유기탄소', '5shift 총유기탄소',\n",
       "       '6shift 총유기탄소', '7shift 총유기탄소', '8shift 총유기탄소', '9shift 총유기탄소',\n",
       "       '10shift 총유기탄소', '11shift 총유기탄소', '12shift 총유기탄소', '13shift 총유기탄소',\n",
       "       '14shift 총유기탄소', '15shift 총유기탄소', '16shift 총유기탄소', '17shift 총유기탄소',\n",
       "       '18shift 총유기탄소', '19shift 총유기탄소', '20shift 총유기탄소', '21shift 총유기탄소',\n",
       "       '22shift 총유기탄소', '23shift 총유기탄소', '24shift 총유기탄소', '25shift 총유기탄소',\n",
       "       '26shift 총유기탄소', '27shift 총유기탄소', '28shift 총유기탄소', '29shift 총유기탄소',\n",
       "       '30shift 총유기탄소', '31shift 총유기탄소', '32shift 총유기탄소', '33shift 총유기탄소',\n",
       "       '34shift 총유기탄소', '35shift 총유기탄소', '36shift 총유기탄소', '37shift 총유기탄소',\n",
       "       '38shift 총유기탄소', '39shift 총유기탄소', '40shift 총유기탄소', '41shift 총유기탄소',\n",
       "       '42shift 총유기탄소', '43shift 총유기탄소', '44shift 총유기탄소', '45shift 총유기탄소',\n",
       "       '46shift 총유기탄소', '47shift 총유기탄소', '48shift 총유기탄소'],\n",
       "      dtype='object')"
      ]
     },
     "execution_count": 46,
     "metadata": {},
     "output_type": "execute_result"
    }
   ],
   "source": [
    "jsb_df.columns"
   ]
  },
  {
   "cell_type": "code",
   "execution_count": 47,
   "id": "a6c11321",
   "metadata": {},
   "outputs": [
    {
     "name": "stdout",
     "output_type": "stream",
     "text": [
      "['전기전도도 μS/cm', '탁도 NTU', '총유기탄소 mg/L', '총질소 mg/L', '총인 mg/L', '클로로필-a mg/㎥', '상류수위(EL.m)', '방류량(㎥/s)', '1shift 총유기탄소', '2shift 총유기탄소', '3shift 총유기탄소', '4shift 총유기탄소', '5shift 총유기탄소', '6shift 총유기탄소', '7shift 총유기탄소', '8shift 총유기탄소', '9shift 총유기탄소', '10shift 총유기탄소', '11shift 총유기탄소', '12shift 총유기탄소', '13shift 총유기탄소', '14shift 총유기탄소', '15shift 총유기탄소', '16shift 총유기탄소', '17shift 총유기탄소', '18shift 총유기탄소', '19shift 총유기탄소', '20shift 총유기탄소', '21shift 총유기탄소', '22shift 총유기탄소', '23shift 총유기탄소', '24shift 총유기탄소', '25shift 총유기탄소', '26shift 총유기탄소', '27shift 총유기탄소', '28shift 총유기탄소', '29shift 총유기탄소', '30shift 총유기탄소', '31shift 총유기탄소', '32shift 총유기탄소', '33shift 총유기탄소', '34shift 총유기탄소', '35shift 총유기탄소', '36shift 총유기탄소', '37shift 총유기탄소', '38shift 총유기탄소', '39shift 총유기탄소', '40shift 총유기탄소', '41shift 총유기탄소', '42shift 총유기탄소', '43shift 총유기탄소', '44shift 총유기탄소', '45shift 총유기탄소', '46shift 총유기탄소', '47shift 총유기탄소', '48shift 총유기탄소']\n"
     ]
    }
   ],
   "source": [
    "col = list(jsb_df.columns[2:])\n",
    "print(col)"
   ]
  },
  {
   "cell_type": "code",
   "execution_count": 48,
   "id": "a2ed2492",
   "metadata": {},
   "outputs": [
    {
     "name": "stdout",
     "output_type": "stream",
     "text": [
      "['전기전도도 μS/cm', '탁도 NTU', '총유기탄소 mg/L', '총질소 mg/L', '총인 mg/L', '상류수위(EL.m)', '방류량(㎥/s)', '1shift 총유기탄소', '2shift 총유기탄소', '3shift 총유기탄소', '4shift 총유기탄소', '5shift 총유기탄소', '6shift 총유기탄소', '7shift 총유기탄소', '8shift 총유기탄소', '9shift 총유기탄소', '10shift 총유기탄소', '11shift 총유기탄소', '12shift 총유기탄소', '13shift 총유기탄소', '14shift 총유기탄소', '15shift 총유기탄소', '16shift 총유기탄소', '17shift 총유기탄소', '18shift 총유기탄소', '19shift 총유기탄소', '20shift 총유기탄소', '21shift 총유기탄소', '22shift 총유기탄소', '23shift 총유기탄소', '24shift 총유기탄소', '25shift 총유기탄소', '26shift 총유기탄소', '27shift 총유기탄소', '28shift 총유기탄소', '29shift 총유기탄소', '30shift 총유기탄소', '31shift 총유기탄소', '32shift 총유기탄소', '33shift 총유기탄소', '34shift 총유기탄소', '35shift 총유기탄소', '36shift 총유기탄소', '37shift 총유기탄소', '38shift 총유기탄소', '39shift 총유기탄소', '40shift 총유기탄소', '41shift 총유기탄소', '42shift 총유기탄소', '43shift 총유기탄소', '44shift 총유기탄소', '45shift 총유기탄소', '46shift 총유기탄소', '47shift 총유기탄소', '48shift 총유기탄소']\n"
     ]
    }
   ],
   "source": [
    "col_v = col.copy()\n",
    "col_v.remove('클로로필-a mg/㎥')\n",
    "print(col_v)"
   ]
  },
  {
   "cell_type": "markdown",
   "id": "e3f17bb7",
   "metadata": {},
   "source": [
    "피처 정규화 없이"
   ]
  },
  {
   "cell_type": "code",
   "execution_count": 49,
   "id": "33f19cbe",
   "metadata": {},
   "outputs": [],
   "source": [
    "X_train, X_test, y_train, y_test = train_test_split(jsb_df.loc[:, col_v], jsb_df['클로로필-a mg/㎥'], random_state=42)\n",
    "gb_reg = GradientBoostingRegressor(random_state=42)\n",
    "\n",
    "parameters = {'max_depth':[5, 10, 15], 'learning_rate':[0.05, 0.1, 0.2]}"
   ]
  },
  {
   "cell_type": "code",
   "execution_count": 50,
   "id": "0e0ab910",
   "metadata": {},
   "outputs": [],
   "source": [
    "gb_grid = GridSearchCV(gb_reg, param_grid=parameters, cv=3)"
   ]
  },
  {
   "cell_type": "code",
   "execution_count": 51,
   "id": "82f4cac1",
   "metadata": {},
   "outputs": [
    {
     "data": {
      "text/plain": [
       "GridSearchCV(cv=3, estimator=GradientBoostingRegressor(random_state=42),\n",
       "             param_grid={'learning_rate': [0.05, 0.1, 0.2],\n",
       "                         'max_depth': [5, 10, 15]})"
      ]
     },
     "execution_count": 51,
     "metadata": {},
     "output_type": "execute_result"
    }
   ],
   "source": [
    "gb_grid.fit(X_train, np.log1p(y_train))"
   ]
  },
  {
   "cell_type": "code",
   "execution_count": 52,
   "id": "aac5435c",
   "metadata": {},
   "outputs": [],
   "source": [
    "scores_df = pd.DataFrame(gb_grid.cv_results_)"
   ]
  },
  {
   "cell_type": "code",
   "execution_count": 53,
   "id": "07a4735f",
   "metadata": {},
   "outputs": [
    {
     "data": {
      "text/html": [
       "<div>\n",
       "<style scoped>\n",
       "    .dataframe tbody tr th:only-of-type {\n",
       "        vertical-align: middle;\n",
       "    }\n",
       "\n",
       "    .dataframe tbody tr th {\n",
       "        vertical-align: top;\n",
       "    }\n",
       "\n",
       "    .dataframe thead th {\n",
       "        text-align: right;\n",
       "    }\n",
       "</style>\n",
       "<table border=\"1\" class=\"dataframe\">\n",
       "  <thead>\n",
       "    <tr style=\"text-align: right;\">\n",
       "      <th></th>\n",
       "      <th>params</th>\n",
       "      <th>mean_test_score</th>\n",
       "      <th>rank_test_score</th>\n",
       "    </tr>\n",
       "  </thead>\n",
       "  <tbody>\n",
       "    <tr>\n",
       "      <th>5</th>\n",
       "      <td>{'learning_rate': 0.1, 'max_depth': 15}</td>\n",
       "      <td>0.930339</td>\n",
       "      <td>1</td>\n",
       "    </tr>\n",
       "    <tr>\n",
       "      <th>2</th>\n",
       "      <td>{'learning_rate': 0.05, 'max_depth': 15}</td>\n",
       "      <td>0.930135</td>\n",
       "      <td>2</td>\n",
       "    </tr>\n",
       "    <tr>\n",
       "      <th>8</th>\n",
       "      <td>{'learning_rate': 0.2, 'max_depth': 15}</td>\n",
       "      <td>0.925268</td>\n",
       "      <td>3</td>\n",
       "    </tr>\n",
       "    <tr>\n",
       "      <th>7</th>\n",
       "      <td>{'learning_rate': 0.2, 'max_depth': 10}</td>\n",
       "      <td>0.917073</td>\n",
       "      <td>4</td>\n",
       "    </tr>\n",
       "    <tr>\n",
       "      <th>4</th>\n",
       "      <td>{'learning_rate': 0.1, 'max_depth': 10}</td>\n",
       "      <td>0.903206</td>\n",
       "      <td>5</td>\n",
       "    </tr>\n",
       "  </tbody>\n",
       "</table>\n",
       "</div>"
      ],
      "text/plain": [
       "                                     params  mean_test_score  rank_test_score\n",
       "5   {'learning_rate': 0.1, 'max_depth': 15}         0.930339                1\n",
       "2  {'learning_rate': 0.05, 'max_depth': 15}         0.930135                2\n",
       "8   {'learning_rate': 0.2, 'max_depth': 15}         0.925268                3\n",
       "7   {'learning_rate': 0.2, 'max_depth': 10}         0.917073                4\n",
       "4   {'learning_rate': 0.1, 'max_depth': 10}         0.903206                5"
      ]
     },
     "execution_count": 53,
     "metadata": {},
     "output_type": "execute_result"
    }
   ],
   "source": [
    "scores_df.sort_values(by=['rank_test_score'], inplace=True)\n",
    "scores_df[['params', 'mean_test_score', 'rank_test_score']].head()"
   ]
  },
  {
   "cell_type": "code",
   "execution_count": 54,
   "id": "f2b0ac71",
   "metadata": {},
   "outputs": [
    {
     "data": {
      "text/plain": [
       "{'learning_rate': 0.1, 'max_depth': 15}"
      ]
     },
     "execution_count": 54,
     "metadata": {},
     "output_type": "execute_result"
    }
   ],
   "source": [
    "gb_grid.best_params_"
   ]
  },
  {
   "cell_type": "code",
   "execution_count": 55,
   "id": "4288881b",
   "metadata": {},
   "outputs": [],
   "source": [
    "estimator = gb_grid.best_estimator_"
   ]
  },
  {
   "cell_type": "code",
   "execution_count": 56,
   "id": "2395e787",
   "metadata": {},
   "outputs": [],
   "source": [
    "pred = estimator.predict(X_test)"
   ]
  },
  {
   "cell_type": "code",
   "execution_count": 57,
   "id": "58d3d39a",
   "metadata": {},
   "outputs": [
    {
     "name": "stdout",
     "output_type": "stream",
     "text": [
      "0.15 전기전도도 μS/cm\n",
      "0.09 탁도 NTU\n",
      "0.16 총유기탄소 mg/L\n",
      "0.16 총질소 mg/L\n",
      "0.09 총인 mg/L\n",
      "0.12 상류수위(EL.m)\n",
      "0.06 방류량(㎥/s)\n",
      "0.01 1shift 총유기탄소\n",
      "0.01 2shift 총유기탄소\n",
      "0.0 3shift 총유기탄소\n",
      "0.0 4shift 총유기탄소\n",
      "0.0 5shift 총유기탄소\n",
      "0.0 6shift 총유기탄소\n",
      "0.0 7shift 총유기탄소\n",
      "0.0 8shift 총유기탄소\n",
      "0.0 9shift 총유기탄소\n",
      "0.0 10shift 총유기탄소\n",
      "0.0 11shift 총유기탄소\n",
      "0.0 12shift 총유기탄소\n",
      "0.0 13shift 총유기탄소\n",
      "0.0 14shift 총유기탄소\n",
      "0.0 15shift 총유기탄소\n",
      "0.0 16shift 총유기탄소\n",
      "0.0 17shift 총유기탄소\n",
      "0.0 18shift 총유기탄소\n",
      "0.0 19shift 총유기탄소\n",
      "0.0 20shift 총유기탄소\n",
      "0.0 21shift 총유기탄소\n",
      "0.0 22shift 총유기탄소\n",
      "0.0 23shift 총유기탄소\n",
      "0.0 24shift 총유기탄소\n",
      "0.0 25shift 총유기탄소\n",
      "0.0 26shift 총유기탄소\n",
      "0.0 27shift 총유기탄소\n",
      "0.0 28shift 총유기탄소\n",
      "0.0 29shift 총유기탄소\n",
      "0.0 30shift 총유기탄소\n",
      "0.0 31shift 총유기탄소\n",
      "0.01 32shift 총유기탄소\n",
      "0.0 33shift 총유기탄소\n",
      "0.0 34shift 총유기탄소\n",
      "0.0 35shift 총유기탄소\n",
      "0.0 36shift 총유기탄소\n",
      "0.0 37shift 총유기탄소\n",
      "0.0 38shift 총유기탄소\n",
      "0.0 39shift 총유기탄소\n",
      "0.0 40shift 총유기탄소\n",
      "0.0 41shift 총유기탄소\n",
      "0.0 42shift 총유기탄소\n",
      "0.0 43shift 총유기탄소\n",
      "0.0 44shift 총유기탄소\n",
      "0.0 45shift 총유기탄소\n",
      "0.0 46shift 총유기탄소\n",
      "0.01 47shift 총유기탄소\n",
      "0.01 48shift 총유기탄소\n"
     ]
    }
   ],
   "source": [
    "for score, name in zip(estimator.feature_importances_, col_v):\n",
    "    print(round(score, 2), name)"
   ]
  },
  {
   "cell_type": "code",
   "execution_count": 58,
   "id": "92f9e4f9",
   "metadata": {},
   "outputs": [
    {
     "data": {
      "image/png": "[encoded data removed]",
      "text/plain": [
       "<Figure size 720x432 with 1 Axes>"
      ]
     },
     "metadata": {
      "needs_background": "light"
     },
     "output_type": "display_data"
    }
   ],
   "source": [
    "feature_series = pd.Series(data = estimator.feature_importances_, index = col_v)\n",
    "feature_series = feature_series.sort_values(ascending = False)\n",
    "sns.barplot(x = feature_series[:10], y = feature_series.index[:10], color = 'gray')\n",
    "plt.show()"
   ]
  },
  {
   "cell_type": "code",
   "execution_count": 59,
   "id": "8de88284",
   "metadata": {},
   "outputs": [
    {
     "name": "stdout",
     "output_type": "stream",
     "text": [
      "score : 0.9512136957724884\n"
     ]
    }
   ],
   "source": [
    "print('score :', estimator.score(X_test, np.log1p(y_test)))"
   ]
  },
  {
   "cell_type": "code",
   "execution_count": 60,
   "id": "c7e844fa",
   "metadata": {},
   "outputs": [
    {
     "data": {
      "text/plain": [
       "총질소 mg/L         0.164769\n",
       "총유기탄소 mg/L       0.155861\n",
       "전기전도도 μS/cm      0.152738\n",
       "상류수위(EL.m)       0.121709\n",
       "총인 mg/L          0.093696\n",
       "탁도 NTU           0.089308\n",
       "방류량(㎥/s)         0.061107\n",
       "1shift 총유기탄소     0.014114\n",
       "48shift 총유기탄소    0.007906\n",
       "47shift 총유기탄소    0.006730\n",
       "dtype: float64"
      ]
     },
     "execution_count": 60,
     "metadata": {},
     "output_type": "execute_result"
    }
   ],
   "source": [
    "feature_series[:10]"
   ]
  },
  {
   "cell_type": "markdown",
   "id": "bf04733e",
   "metadata": {},
   "source": [
    "피처 정규화"
   ]
  },
  {
   "cell_type": "code",
   "execution_count": 61,
   "id": "62726ead",
   "metadata": {},
   "outputs": [],
   "source": [
    "scaler = StandardScaler()\n",
    "scaler.fit(jsb_df.loc[:, col_v])\n",
    "jsb_scaled = scaler.transform(jsb_df.loc[:, col_v])\n",
    "\n",
    "jsb_df_scaled = pd.DataFrame(data = jsb_scaled, columns = col_v)"
   ]
  },
  {
   "cell_type": "code",
   "execution_count": 62,
   "id": "d8e52199",
   "metadata": {},
   "outputs": [
    {
     "data": {
      "text/html": [
       "<div>\n",
       "<style scoped>\n",
       "    .dataframe tbody tr th:only-of-type {\n",
       "        vertical-align: middle;\n",
       "    }\n",
       "\n",
       "    .dataframe tbody tr th {\n",
       "        vertical-align: top;\n",
       "    }\n",
       "\n",
       "    .dataframe thead th {\n",
       "        text-align: right;\n",
       "    }\n",
       "</style>\n",
       "<table border=\"1\" class=\"dataframe\">\n",
       "  <thead>\n",
       "    <tr style=\"text-align: right;\">\n",
       "      <th></th>\n",
       "      <th>전기전도도 μS/cm</th>\n",
       "      <th>탁도 NTU</th>\n",
       "      <th>총유기탄소 mg/L</th>\n",
       "      <th>총질소 mg/L</th>\n",
       "      <th>총인 mg/L</th>\n",
       "      <th>상류수위(EL.m)</th>\n",
       "      <th>방류량(㎥/s)</th>\n",
       "      <th>1shift 총유기탄소</th>\n",
       "      <th>2shift 총유기탄소</th>\n",
       "      <th>3shift 총유기탄소</th>\n",
       "      <th>...</th>\n",
       "      <th>39shift 총유기탄소</th>\n",
       "      <th>40shift 총유기탄소</th>\n",
       "      <th>41shift 총유기탄소</th>\n",
       "      <th>42shift 총유기탄소</th>\n",
       "      <th>43shift 총유기탄소</th>\n",
       "      <th>44shift 총유기탄소</th>\n",
       "      <th>45shift 총유기탄소</th>\n",
       "      <th>46shift 총유기탄소</th>\n",
       "      <th>47shift 총유기탄소</th>\n",
       "      <th>48shift 총유기탄소</th>\n",
       "    </tr>\n",
       "  </thead>\n",
       "  <tbody>\n",
       "    <tr>\n",
       "      <th>0</th>\n",
       "      <td>-1.198346</td>\n",
       "      <td>0.044874</td>\n",
       "      <td>-0.355037</td>\n",
       "      <td>-0.555441</td>\n",
       "      <td>1.071211</td>\n",
       "      <td>0.526046</td>\n",
       "      <td>-0.277792</td>\n",
       "      <td>-0.254283</td>\n",
       "      <td>-0.153574</td>\n",
       "      <td>-0.153563</td>\n",
       "      <td>...</td>\n",
       "      <td>-0.757552</td>\n",
       "      <td>-0.858375</td>\n",
       "      <td>-0.858356</td>\n",
       "      <td>-0.757508</td>\n",
       "      <td>-0.858339</td>\n",
       "      <td>-0.858328</td>\n",
       "      <td>-0.858318</td>\n",
       "      <td>-0.95913</td>\n",
       "      <td>-0.858277</td>\n",
       "      <td>-0.959130</td>\n",
       "    </tr>\n",
       "    <tr>\n",
       "      <th>1</th>\n",
       "      <td>-1.187208</td>\n",
       "      <td>0.062630</td>\n",
       "      <td>-0.355037</td>\n",
       "      <td>-0.518827</td>\n",
       "      <td>1.131865</td>\n",
       "      <td>0.552987</td>\n",
       "      <td>-0.277792</td>\n",
       "      <td>-0.354969</td>\n",
       "      <td>-0.254262</td>\n",
       "      <td>-0.153563</td>\n",
       "      <td>...</td>\n",
       "      <td>-0.757552</td>\n",
       "      <td>-0.757540</td>\n",
       "      <td>-0.858356</td>\n",
       "      <td>-0.858349</td>\n",
       "      <td>-0.757496</td>\n",
       "      <td>-0.858328</td>\n",
       "      <td>-0.858318</td>\n",
       "      <td>-0.85828</td>\n",
       "      <td>-0.959130</td>\n",
       "      <td>-0.858274</td>\n",
       "    </tr>\n",
       "    <tr>\n",
       "      <th>2</th>\n",
       "      <td>-1.198346</td>\n",
       "      <td>0.074467</td>\n",
       "      <td>-0.355037</td>\n",
       "      <td>-0.530421</td>\n",
       "      <td>1.192519</td>\n",
       "      <td>0.552987</td>\n",
       "      <td>-0.277792</td>\n",
       "      <td>-0.354969</td>\n",
       "      <td>-0.354949</td>\n",
       "      <td>-0.254253</td>\n",
       "      <td>...</td>\n",
       "      <td>-0.757552</td>\n",
       "      <td>-0.757540</td>\n",
       "      <td>-0.757518</td>\n",
       "      <td>-0.858349</td>\n",
       "      <td>-0.858339</td>\n",
       "      <td>-0.757482</td>\n",
       "      <td>-0.858318</td>\n",
       "      <td>-0.85828</td>\n",
       "      <td>-0.858277</td>\n",
       "      <td>-0.959130</td>\n",
       "    </tr>\n",
       "    <tr>\n",
       "      <th>3</th>\n",
       "      <td>-1.198346</td>\n",
       "      <td>0.098142</td>\n",
       "      <td>-0.254360</td>\n",
       "      <td>-0.513335</td>\n",
       "      <td>1.172301</td>\n",
       "      <td>0.571845</td>\n",
       "      <td>-0.277792</td>\n",
       "      <td>-0.354969</td>\n",
       "      <td>-0.354949</td>\n",
       "      <td>-0.354942</td>\n",
       "      <td>...</td>\n",
       "      <td>-0.757552</td>\n",
       "      <td>-0.757540</td>\n",
       "      <td>-0.757518</td>\n",
       "      <td>-0.757508</td>\n",
       "      <td>-0.858339</td>\n",
       "      <td>-0.858328</td>\n",
       "      <td>-0.757469</td>\n",
       "      <td>-0.85828</td>\n",
       "      <td>-0.858277</td>\n",
       "      <td>-0.858274</td>\n",
       "    </tr>\n",
       "    <tr>\n",
       "      <th>4</th>\n",
       "      <td>-1.187208</td>\n",
       "      <td>0.157330</td>\n",
       "      <td>-0.254360</td>\n",
       "      <td>-0.480383</td>\n",
       "      <td>1.192519</td>\n",
       "      <td>0.577233</td>\n",
       "      <td>-0.277792</td>\n",
       "      <td>-0.254283</td>\n",
       "      <td>-0.354949</td>\n",
       "      <td>-0.354942</td>\n",
       "      <td>...</td>\n",
       "      <td>-0.656720</td>\n",
       "      <td>-0.757540</td>\n",
       "      <td>-0.757518</td>\n",
       "      <td>-0.757508</td>\n",
       "      <td>-0.757496</td>\n",
       "      <td>-0.858328</td>\n",
       "      <td>-0.858318</td>\n",
       "      <td>-0.75743</td>\n",
       "      <td>-0.858277</td>\n",
       "      <td>-0.858274</td>\n",
       "    </tr>\n",
       "  </tbody>\n",
       "</table>\n",
       "<p>5 rows × 55 columns</p>\n",
       "</div>"
      ],
      "text/plain": [
       "   전기전도도 μS/cm    탁도 NTU  총유기탄소 mg/L  총질소 mg/L   총인 mg/L  상류수위(EL.m)  \\\n",
       "0    -1.198346  0.044874   -0.355037 -0.555441  1.071211    0.526046   \n",
       "1    -1.187208  0.062630   -0.355037 -0.518827  1.131865    0.552987   \n",
       "2    -1.198346  0.074467   -0.355037 -0.530421  1.192519    0.552987   \n",
       "3    -1.198346  0.098142   -0.254360 -0.513335  1.172301    0.571845   \n",
       "4    -1.187208  0.157330   -0.254360 -0.480383  1.192519    0.577233   \n",
       "\n",
       "   방류량(㎥/s)  1shift 총유기탄소  2shift 총유기탄소  3shift 총유기탄소  ...  39shift 총유기탄소  \\\n",
       "0 -0.277792     -0.254283     -0.153574     -0.153563  ...      -0.757552   \n",
       "1 -0.277792     -0.354969     -0.254262     -0.153563  ...      -0.757552   \n",
       "2 -0.277792     -0.354969     -0.354949     -0.254253  ...      -0.757552   \n",
       "3 -0.277792     -0.354969     -0.354949     -0.354942  ...      -0.757552   \n",
       "4 -0.277792     -0.254283     -0.354949     -0.354942  ...      -0.656720   \n",
       "\n",
       "   40shift 총유기탄소  41shift 총유기탄소  42shift 총유기탄소  43shift 총유기탄소  44shift 총유기탄소  \\\n",
       "0      -0.858375      -0.858356      -0.757508      -0.858339      -0.858328   \n",
       "1      -0.757540      -0.858356      -0.858349      -0.757496      -0.858328   \n",
       "2      -0.757540      -0.757518      -0.858349      -0.858339      -0.757482   \n",
       "3      -0.757540      -0.757518      -0.757508      -0.858339      -0.858328   \n",
       "4      -0.757540      -0.757518      -0.757508      -0.757496      -0.858328   \n",
       "\n",
       "   45shift 총유기탄소  46shift 총유기탄소  47shift 총유기탄소  48shift 총유기탄소  \n",
       "0      -0.858318       -0.95913      -0.858277      -0.959130  \n",
       "1      -0.858318       -0.85828      -0.959130      -0.858274  \n",
       "2      -0.858318       -0.85828      -0.858277      -0.959130  \n",
       "3      -0.757469       -0.85828      -0.858277      -0.858274  \n",
       "4      -0.858318       -0.75743      -0.858277      -0.858274  \n",
       "\n",
       "[5 rows x 55 columns]"
      ]
     },
     "execution_count": 62,
     "metadata": {},
     "output_type": "execute_result"
    }
   ],
   "source": [
    "jsb_df_scaled.head()"
   ]
  },
  {
   "cell_type": "code",
   "execution_count": 63,
   "id": "42551890",
   "metadata": {},
   "outputs": [],
   "source": [
    "X_trains, X_tests, y_trains, y_tests = train_test_split(jsb_df_scaled.loc[:, col_v], jsb_df['클로로필-a mg/㎥'], random_state=42)\n",
    "gb_regs = GradientBoostingRegressor(random_state=42)\n",
    "\n",
    "parameters = {'max_depth':[5, 10, 15], 'learning_rate':[0.05, 0.1, 0.2]}"
   ]
  },
  {
   "cell_type": "code",
   "execution_count": 64,
   "id": "30a92fdb",
   "metadata": {},
   "outputs": [],
   "source": [
    "gb_grids = GridSearchCV(gb_regs, param_grid=parameters, cv=3)"
   ]
  },
  {
   "cell_type": "code",
   "execution_count": 65,
   "id": "1ff20800",
   "metadata": {},
   "outputs": [
    {
     "data": {
      "text/plain": [
       "GridSearchCV(cv=3, estimator=GradientBoostingRegressor(random_state=42),\n",
       "             param_grid={'learning_rate': [0.05, 0.1, 0.2],\n",
       "                         'max_depth': [5, 10, 15]})"
      ]
     },
     "execution_count": 65,
     "metadata": {},
     "output_type": "execute_result"
    }
   ],
   "source": [
    "gb_grids.fit(X_trains, np.log1p(y_trains))"
   ]
  },
  {
   "cell_type": "code",
   "execution_count": 66,
   "id": "3072b5aa",
   "metadata": {},
   "outputs": [],
   "source": [
    "scores_dfs = pd.DataFrame(gb_grids.cv_results_)"
   ]
  },
  {
   "cell_type": "code",
   "execution_count": 67,
   "id": "ca491a41",
   "metadata": {},
   "outputs": [
    {
     "data": {
      "text/html": [
       "<div>\n",
       "<style scoped>\n",
       "    .dataframe tbody tr th:only-of-type {\n",
       "        vertical-align: middle;\n",
       "    }\n",
       "\n",
       "    .dataframe tbody tr th {\n",
       "        vertical-align: top;\n",
       "    }\n",
       "\n",
       "    .dataframe thead th {\n",
       "        text-align: right;\n",
       "    }\n",
       "</style>\n",
       "<table border=\"1\" class=\"dataframe\">\n",
       "  <thead>\n",
       "    <tr style=\"text-align: right;\">\n",
       "      <th></th>\n",
       "      <th>params</th>\n",
       "      <th>mean_test_score</th>\n",
       "      <th>rank_test_score</th>\n",
       "    </tr>\n",
       "  </thead>\n",
       "  <tbody>\n",
       "    <tr>\n",
       "      <th>5</th>\n",
       "      <td>{'learning_rate': 0.1, 'max_depth': 15}</td>\n",
       "      <td>0.930820</td>\n",
       "      <td>1</td>\n",
       "    </tr>\n",
       "    <tr>\n",
       "      <th>2</th>\n",
       "      <td>{'learning_rate': 0.05, 'max_depth': 15}</td>\n",
       "      <td>0.930158</td>\n",
       "      <td>2</td>\n",
       "    </tr>\n",
       "    <tr>\n",
       "      <th>8</th>\n",
       "      <td>{'learning_rate': 0.2, 'max_depth': 15}</td>\n",
       "      <td>0.925572</td>\n",
       "      <td>3</td>\n",
       "    </tr>\n",
       "    <tr>\n",
       "      <th>7</th>\n",
       "      <td>{'learning_rate': 0.2, 'max_depth': 10}</td>\n",
       "      <td>0.917009</td>\n",
       "      <td>4</td>\n",
       "    </tr>\n",
       "    <tr>\n",
       "      <th>4</th>\n",
       "      <td>{'learning_rate': 0.1, 'max_depth': 10}</td>\n",
       "      <td>0.903383</td>\n",
       "      <td>5</td>\n",
       "    </tr>\n",
       "  </tbody>\n",
       "</table>\n",
       "</div>"
      ],
      "text/plain": [
       "                                     params  mean_test_score  rank_test_score\n",
       "5   {'learning_rate': 0.1, 'max_depth': 15}         0.930820                1\n",
       "2  {'learning_rate': 0.05, 'max_depth': 15}         0.930158                2\n",
       "8   {'learning_rate': 0.2, 'max_depth': 15}         0.925572                3\n",
       "7   {'learning_rate': 0.2, 'max_depth': 10}         0.917009                4\n",
       "4   {'learning_rate': 0.1, 'max_depth': 10}         0.903383                5"
      ]
     },
     "execution_count": 67,
     "metadata": {},
     "output_type": "execute_result"
    }
   ],
   "source": [
    "scores_dfs.sort_values(by=['rank_test_score'], inplace=True)\n",
    "scores_dfs[['params', 'mean_test_score', 'rank_test_score']].head()"
   ]
  },
  {
   "cell_type": "code",
   "execution_count": 68,
   "id": "5f407266",
   "metadata": {},
   "outputs": [
    {
     "data": {
      "text/plain": [
       "{'learning_rate': 0.1, 'max_depth': 15}"
      ]
     },
     "execution_count": 68,
     "metadata": {},
     "output_type": "execute_result"
    }
   ],
   "source": [
    "gb_grids.best_params_"
   ]
  },
  {
   "cell_type": "code",
   "execution_count": 69,
   "id": "edb6f6ee",
   "metadata": {},
   "outputs": [],
   "source": [
    "estimators = gb_grids.best_estimator_"
   ]
  },
  {
   "cell_type": "code",
   "execution_count": 70,
   "id": "fc3a75e3",
   "metadata": {},
   "outputs": [],
   "source": [
    "preds = estimators.predict(X_tests)"
   ]
  },
  {
   "cell_type": "code",
   "execution_count": 71,
   "id": "5e7ebdab",
   "metadata": {},
   "outputs": [
    {
     "name": "stdout",
     "output_type": "stream",
     "text": [
      "0.15 전기전도도 μS/cm\n",
      "0.09 탁도 NTU\n",
      "0.16 총유기탄소 mg/L\n",
      "0.16 총질소 mg/L\n",
      "0.09 총인 mg/L\n",
      "0.12 상류수위(EL.m)\n",
      "0.06 방류량(㎥/s)\n",
      "0.01 1shift 총유기탄소\n",
      "0.0 2shift 총유기탄소\n",
      "0.0 3shift 총유기탄소\n",
      "0.0 4shift 총유기탄소\n",
      "0.0 5shift 총유기탄소\n",
      "0.0 6shift 총유기탄소\n",
      "0.0 7shift 총유기탄소\n",
      "0.0 8shift 총유기탄소\n",
      "0.0 9shift 총유기탄소\n",
      "0.0 10shift 총유기탄소\n",
      "0.0 11shift 총유기탄소\n",
      "0.0 12shift 총유기탄소\n",
      "0.0 13shift 총유기탄소\n",
      "0.0 14shift 총유기탄소\n",
      "0.0 15shift 총유기탄소\n",
      "0.0 16shift 총유기탄소\n",
      "0.0 17shift 총유기탄소\n",
      "0.0 18shift 총유기탄소\n",
      "0.0 19shift 총유기탄소\n",
      "0.0 20shift 총유기탄소\n",
      "0.0 21shift 총유기탄소\n",
      "0.0 22shift 총유기탄소\n",
      "0.0 23shift 총유기탄소\n",
      "0.0 24shift 총유기탄소\n",
      "0.0 25shift 총유기탄소\n",
      "0.0 26shift 총유기탄소\n",
      "0.0 27shift 총유기탄소\n",
      "0.0 28shift 총유기탄소\n",
      "0.0 29shift 총유기탄소\n",
      "0.0 30shift 총유기탄소\n",
      "0.0 31shift 총유기탄소\n",
      "0.01 32shift 총유기탄소\n",
      "0.0 33shift 총유기탄소\n",
      "0.0 34shift 총유기탄소\n",
      "0.0 35shift 총유기탄소\n",
      "0.0 36shift 총유기탄소\n",
      "0.0 37shift 총유기탄소\n",
      "0.0 38shift 총유기탄소\n",
      "0.0 39shift 총유기탄소\n",
      "0.0 40shift 총유기탄소\n",
      "0.0 41shift 총유기탄소\n",
      "0.0 42shift 총유기탄소\n",
      "0.0 43shift 총유기탄소\n",
      "0.0 44shift 총유기탄소\n",
      "0.0 45shift 총유기탄소\n",
      "0.0 46shift 총유기탄소\n",
      "0.01 47shift 총유기탄소\n",
      "0.01 48shift 총유기탄소\n"
     ]
    }
   ],
   "source": [
    "for score, name in zip(estimators.feature_importances_, col_v):\n",
    "    print(round(score, 2), name)"
   ]
  },
  {
   "cell_type": "code",
   "execution_count": 72,
   "id": "51a43b85",
   "metadata": {},
   "outputs": [
    {
     "data": {
      "image/png": "[encoded data removed]",
      "text/plain": [
       "<Figure size 720x432 with 1 Axes>"
      ]
     },
     "metadata": {
      "needs_background": "light"
     },
     "output_type": "display_data"
    }
   ],
   "source": [
    "feature_seriess = pd.Series(data = estimators.feature_importances_, index = col_v)\n",
    "feature_seriess = feature_seriess.sort_values(ascending = False)\n",
    "sns.barplot(x = feature_seriess[:10], y = feature_seriess.index[:10], color = 'gray')\n",
    "plt.show()"
   ]
  },
  {
   "cell_type": "code",
   "execution_count": 73,
   "id": "b5069d10",
   "metadata": {},
   "outputs": [
    {
     "name": "stdout",
     "output_type": "stream",
     "text": [
      "score : 0.9510061137152194\n"
     ]
    }
   ],
   "source": [
    "print('score :', estimators.score(X_tests, np.log1p(y_tests)))"
   ]
  },
  {
   "cell_type": "code",
   "execution_count": 74,
   "id": "a7a31cf1",
   "metadata": {},
   "outputs": [
    {
     "data": {
      "text/plain": [
       "총질소 mg/L         0.164769\n",
       "총유기탄소 mg/L       0.155861\n",
       "전기전도도 μS/cm      0.152738\n",
       "상류수위(EL.m)       0.121709\n",
       "총인 mg/L          0.093696\n",
       "탁도 NTU           0.089308\n",
       "방류량(㎥/s)         0.061107\n",
       "1shift 총유기탄소     0.014114\n",
       "48shift 총유기탄소    0.007906\n",
       "47shift 총유기탄소    0.006730\n",
       "dtype: float64"
      ]
     },
     "execution_count": 74,
     "metadata": {},
     "output_type": "execute_result"
    }
   ],
   "source": [
    "feature_series[:10]"
   ]
  },
  {
   "cell_type": "code",
   "execution_count": null,
   "id": "90984090",
   "metadata": {},
   "outputs": [],
   "source": []
  },
  {
   "cell_type": "code",
   "execution_count": null,
   "id": "e2c6cd8a",
   "metadata": {},
   "outputs": [],
   "source": []
  },
  {
   "cell_type": "code",
   "execution_count": null,
   "id": "e3f74677",
   "metadata": {},
   "outputs": [],
   "source": []
  }
 ],
 "metadata": {
  "kernelspec": {
   "display_name": "Python 3.9.7 ('base': conda)",
   "language": "python",
   "name": "python3"
  },
  "language_info": {
   "codemirror_mode": {
    "name": "ipython",
    "version": 3
   },
   "file_extension": ".py",
   "mimetype": "text/x-python",
   "name": "python",
   "nbconvert_exporter": "python",
   "pygments_lexer": "ipython3",
   "version": "3.9.7"
  },
  "vscode": {
   "interpreter": {
    "hash": "e6b9563c2d5f39a0f14e96863a92c28173db3617b8e00a6322a2465c297cc121"
   }
  }
 },
 "nbformat": 4,
 "nbformat_minor": 5
}
