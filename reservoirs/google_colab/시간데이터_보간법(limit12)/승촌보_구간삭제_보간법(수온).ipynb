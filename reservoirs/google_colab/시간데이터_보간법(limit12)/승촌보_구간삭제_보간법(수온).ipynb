{
 "cells": [
  {
   "cell_type": "markdown",
   "metadata": {},
   "source": [
    "# 승촌보 데이터 분석"
   ]
  },
  {
   "cell_type": "markdown",
   "metadata": {},
   "source": [
    "- 승촌보 수질 데이터\n",
    "    - 2012-2022\n",
    "    - 시간 단위 수집 데이터\n",
    "- 승촌보 유량 데이터\n",
    "    - 2012-2022\n",
    "    - 10분 단위 수집 데이터"
   ]
  },
  {
   "cell_type": "markdown",
   "metadata": {},
   "source": [
    "**필수 라이브러리**"
   ]
  },
  {
   "cell_type": "code",
   "execution_count": 1,
   "metadata": {},
   "outputs": [],
   "source": [
    "import numpy as np\n",
    "import pandas as pd\n",
    "import matplotlib.pyplot as plt\n",
    "import matplotlib"
   ]
  },
  {
   "cell_type": "markdown",
   "metadata": {},
   "source": [
    "**matplotlib 한글 설정**\n",
    "\n",
    "- 운영체제에 따른 한글 지원 설정. 윈도우, 우분투, 구글 코랩 지원.\n",
    "- 참고: [matplotlib에서 한글 지원하기](https://github.com/codingalzi/datapy/blob/master/matplotlib-korean.md)"
   ]
  },
  {
   "cell_type": "code",
   "execution_count": 2,
   "metadata": {},
   "outputs": [],
   "source": [
    "import platform\n",
    "plt.rc('figure', figsize=(10, 6))  # 그림 크기 설정\n",
    "if platform.system() == 'Windows': # 윈도우\n",
    "    from matplotlib import font_manager, rc\n",
    "    font_path = \"C:/Windows/Fonts/NGULIM.TTF\"\n",
    "    font = font_manager.FontProperties(fname=font_path).get_name()\n",
    "    rc('font', family=font)\n",
    "elif platform.system() == 'Linux': # 우분투 또는 구글 코랩\n",
    "    # !sudo apt-get install -y fonts-nanum*\n",
    "    # !fc-cache -fv\n",
    "    \n",
    "    applyfont = \"NanumBarunGothic\"\n",
    "    import matplotlib.font_manager as fm\n",
    "    if not any(map(lambda ft: ft.name == applyfont, fm.fontManager.ttflist)):\n",
    "        fm.fontManager.addfont(\"/usr/share/fonts/truetype/nanum/NanumBarunGothic.ttf\")\n",
    "    plt.rc(\"font\", family=applyfont)\n",
    "    plt.rc(\"axes\", unicode_minus=False)"
   ]
  },
  {
   "cell_type": "markdown",
   "metadata": {},
   "source": [
    "그레이디언트 부스팅 모델을 활용한다."
   ]
  },
  {
   "cell_type": "code",
   "execution_count": 3,
   "metadata": {},
   "outputs": [],
   "source": [
    "# GradientBoosting\n",
    "from sklearn.ensemble import GradientBoostingRegressor\n",
    "from sklearn.model_selection import train_test_split\n",
    "import seaborn as sns\n",
    "from sklearn.model_selection import GridSearchCV"
   ]
  },
  {
   "cell_type": "markdown",
   "metadata": {},
   "source": [
    "표준화 라이브러리도 준비한다."
   ]
  },
  {
   "cell_type": "code",
   "execution_count": 4,
   "metadata": {},
   "outputs": [],
   "source": [
    "from sklearn.preprocessing import StandardScaler"
   ]
  },
  {
   "cell_type": "markdown",
   "metadata": {},
   "source": [
    "## 승촌보 수질 데이터 불러오기"
   ]
  },
  {
   "cell_type": "markdown",
   "metadata": {},
   "source": [
    "- 2012년부터 2022년까지\n",
    "- 시간 단위 수집 데이터"
   ]
  },
  {
   "cell_type": "markdown",
   "metadata": {},
   "source": [
    "**데이터 저장소**"
   ]
  },
  {
   "cell_type": "code",
   "execution_count": 5,
   "id": "67006279",
   "metadata": {},
   "outputs": [],
   "source": [
    "base_path = \"https://github.com/codingalzi/water-data/raw/master/reservoirs/\"\n",
    "# base_path = r\"C:\\Users\\owner\\Desktop\\water-source\\data\""
   ]
  },
  {
   "cell_type": "markdown",
   "metadata": {},
   "source": [
    "승촌보 데이터를 불러온다. \n",
    "`'측정일/월'` 특성은 date time으로 파싱한다."
   ]
  },
  {
   "cell_type": "code",
   "execution_count": 6,
   "metadata": {},
   "outputs": [],
   "source": [
    "scb_yearly = pd.read_excel(base_path+\"Seungchonbo.xlsx\", \n",
    "# scb_yearly = pd.read_excel(base_path+\"\\Seungchonbo.xlsx\", \n",
    "                            skiprows=0, \n",
    "                            header=1, \n",
    "                            sheet_name=None,\n",
    "                            na_values='ND',\n",
    "                            parse_dates=[0])  # 측정일/월 특성을 date time으로 파싱"
   ]
  },
  {
   "cell_type": "markdown",
   "metadata": {},
   "source": [
    "`scb_yearly`는 연도별 데이터프레임을 갖는 사전 자료형이다."
   ]
  },
  {
   "cell_type": "code",
   "execution_count": 7,
   "metadata": {},
   "outputs": [
    {
     "data": {
      "text/plain": [
       "dict"
      ]
     },
     "execution_count": 7,
     "metadata": {},
     "output_type": "execute_result"
    }
   ],
   "source": [
    "type(scb_yearly)"
   ]
  },
  {
   "cell_type": "markdown",
   "metadata": {},
   "source": [
    "년도가 키(key)로 사용된다."
   ]
  },
  {
   "cell_type": "code",
   "execution_count": 8,
   "metadata": {},
   "outputs": [
    {
     "data": {
      "text/plain": [
       "dict_keys(['2012년', '2013년', '2014년', '2015년', '2016년', '2017년', '2018년', '2019년', '2020년', '2021년', '2022년'])"
      ]
     },
     "execution_count": 8,
     "metadata": {},
     "output_type": "execute_result"
    }
   ],
   "source": [
    "scb_yearly.keys()  # 2012년부터 2022년까지"
   ]
  },
  {
   "cell_type": "markdown",
   "metadata": {},
   "source": [
    "년도별 특성은 모두 동일하며 다음과 같다."
   ]
  },
  {
   "cell_type": "code",
   "execution_count": 9,
   "metadata": {},
   "outputs": [
    {
     "data": {
      "text/plain": [
       "['측정일/월',\n",
       " '측정소명',\n",
       " '수온 ℃',\n",
       " '수소이온농도',\n",
       " '전기전도도 μS/cm',\n",
       " '용존산소 mg/L',\n",
       " '총유기탄소 mg/L',\n",
       " '총질소 mg/L',\n",
       " '총인 mg/L',\n",
       " '클로로필-a mg/㎥']"
      ]
     },
     "execution_count": 9,
     "metadata": {},
     "output_type": "execute_result"
    }
   ],
   "source": [
    "list(scb_yearly['2012년'].columns)"
   ]
  },
  {
   "cell_type": "markdown",
   "metadata": {},
   "source": [
    "예를 들어 2013년 데이터는 다음과 같다."
   ]
  },
  {
   "cell_type": "code",
   "execution_count": 10,
   "metadata": {},
   "outputs": [
    {
     "data": {
      "text/html": [
       "<div>\n",
       "<style scoped>\n",
       "    .dataframe tbody tr th:only-of-type {\n",
       "        vertical-align: middle;\n",
       "    }\n",
       "\n",
       "    .dataframe tbody tr th {\n",
       "        vertical-align: top;\n",
       "    }\n",
       "\n",
       "    .dataframe thead th {\n",
       "        text-align: right;\n",
       "    }\n",
       "</style>\n",
       "<table border=\"1\" class=\"dataframe\">\n",
       "  <thead>\n",
       "    <tr style=\"text-align: right;\">\n",
       "      <th></th>\n",
       "      <th>측정일/월</th>\n",
       "      <th>측정소명</th>\n",
       "      <th>수온 ℃</th>\n",
       "      <th>수소이온농도</th>\n",
       "      <th>전기전도도 μS/cm</th>\n",
       "      <th>용존산소 mg/L</th>\n",
       "      <th>총유기탄소 mg/L</th>\n",
       "      <th>총질소 mg/L</th>\n",
       "      <th>총인 mg/L</th>\n",
       "      <th>클로로필-a mg/㎥</th>\n",
       "    </tr>\n",
       "  </thead>\n",
       "  <tbody>\n",
       "    <tr>\n",
       "      <th>0</th>\n",
       "      <td>2013-01-01 00:00:00</td>\n",
       "      <td>용봉</td>\n",
       "      <td>3.9</td>\n",
       "      <td>6.9</td>\n",
       "      <td>374.0</td>\n",
       "      <td>11.4</td>\n",
       "      <td>2.5</td>\n",
       "      <td>NaN</td>\n",
       "      <td>NaN</td>\n",
       "      <td>7.2</td>\n",
       "    </tr>\n",
       "    <tr>\n",
       "      <th>1</th>\n",
       "      <td>2013-01-01 01:00:00</td>\n",
       "      <td>용봉</td>\n",
       "      <td>3.9</td>\n",
       "      <td>6.9</td>\n",
       "      <td>375.0</td>\n",
       "      <td>11.4</td>\n",
       "      <td>2.5</td>\n",
       "      <td>NaN</td>\n",
       "      <td>NaN</td>\n",
       "      <td>6.9</td>\n",
       "    </tr>\n",
       "    <tr>\n",
       "      <th>2</th>\n",
       "      <td>2013-01-01 02:00:00</td>\n",
       "      <td>용봉</td>\n",
       "      <td>4.0</td>\n",
       "      <td>6.9</td>\n",
       "      <td>374.0</td>\n",
       "      <td>11.4</td>\n",
       "      <td>2.5</td>\n",
       "      <td>NaN</td>\n",
       "      <td>NaN</td>\n",
       "      <td>6.8</td>\n",
       "    </tr>\n",
       "    <tr>\n",
       "      <th>3</th>\n",
       "      <td>2013-01-01 03:00:00</td>\n",
       "      <td>용봉</td>\n",
       "      <td>4.1</td>\n",
       "      <td>6.9</td>\n",
       "      <td>375.0</td>\n",
       "      <td>11.4</td>\n",
       "      <td>2.5</td>\n",
       "      <td>NaN</td>\n",
       "      <td>NaN</td>\n",
       "      <td>6.9</td>\n",
       "    </tr>\n",
       "    <tr>\n",
       "      <th>4</th>\n",
       "      <td>2013-01-01 04:00:00</td>\n",
       "      <td>용봉</td>\n",
       "      <td>4.0</td>\n",
       "      <td>6.9</td>\n",
       "      <td>380.0</td>\n",
       "      <td>11.3</td>\n",
       "      <td>2.6</td>\n",
       "      <td>NaN</td>\n",
       "      <td>NaN</td>\n",
       "      <td>6.9</td>\n",
       "    </tr>\n",
       "    <tr>\n",
       "      <th>...</th>\n",
       "      <td>...</td>\n",
       "      <td>...</td>\n",
       "      <td>...</td>\n",
       "      <td>...</td>\n",
       "      <td>...</td>\n",
       "      <td>...</td>\n",
       "      <td>...</td>\n",
       "      <td>...</td>\n",
       "      <td>...</td>\n",
       "      <td>...</td>\n",
       "    </tr>\n",
       "    <tr>\n",
       "      <th>8745</th>\n",
       "      <td>2013-12-31 19:00:00</td>\n",
       "      <td>용봉</td>\n",
       "      <td>6.1</td>\n",
       "      <td>6.7</td>\n",
       "      <td>414.0</td>\n",
       "      <td>8.0</td>\n",
       "      <td>3.9</td>\n",
       "      <td>6.523</td>\n",
       "      <td>0.058</td>\n",
       "      <td>10.3</td>\n",
       "    </tr>\n",
       "    <tr>\n",
       "      <th>8746</th>\n",
       "      <td>2013-12-31 20:00:00</td>\n",
       "      <td>용봉</td>\n",
       "      <td>6.1</td>\n",
       "      <td>6.7</td>\n",
       "      <td>416.0</td>\n",
       "      <td>7.8</td>\n",
       "      <td>3.8</td>\n",
       "      <td>6.489</td>\n",
       "      <td>0.059</td>\n",
       "      <td>9.9</td>\n",
       "    </tr>\n",
       "    <tr>\n",
       "      <th>8747</th>\n",
       "      <td>2013-12-31 21:00:00</td>\n",
       "      <td>용봉</td>\n",
       "      <td>6.1</td>\n",
       "      <td>6.7</td>\n",
       "      <td>416.0</td>\n",
       "      <td>7.9</td>\n",
       "      <td>3.5</td>\n",
       "      <td>6.522</td>\n",
       "      <td>0.058</td>\n",
       "      <td>10.0</td>\n",
       "    </tr>\n",
       "    <tr>\n",
       "      <th>8748</th>\n",
       "      <td>2013-12-31 22:00:00</td>\n",
       "      <td>용봉</td>\n",
       "      <td>5.9</td>\n",
       "      <td>6.7</td>\n",
       "      <td>413.0</td>\n",
       "      <td>8.3</td>\n",
       "      <td>3.5</td>\n",
       "      <td>6.600</td>\n",
       "      <td>0.056</td>\n",
       "      <td>11.7</td>\n",
       "    </tr>\n",
       "    <tr>\n",
       "      <th>8749</th>\n",
       "      <td>2013-12-31 23:00:00</td>\n",
       "      <td>용봉</td>\n",
       "      <td>5.8</td>\n",
       "      <td>6.7</td>\n",
       "      <td>410.0</td>\n",
       "      <td>8.5</td>\n",
       "      <td>3.5</td>\n",
       "      <td>6.574</td>\n",
       "      <td>0.056</td>\n",
       "      <td>13.2</td>\n",
       "    </tr>\n",
       "  </tbody>\n",
       "</table>\n",
       "<p>8750 rows × 10 columns</p>\n",
       "</div>"
      ],
      "text/plain": [
       "                   측정일/월 측정소명  수온 ℃  수소이온농도  전기전도도 μS/cm  용존산소 mg/L  \\\n",
       "0    2013-01-01 00:00:00   용봉   3.9     6.9        374.0       11.4   \n",
       "1    2013-01-01 01:00:00   용봉   3.9     6.9        375.0       11.4   \n",
       "2    2013-01-01 02:00:00   용봉   4.0     6.9        374.0       11.4   \n",
       "3    2013-01-01 03:00:00   용봉   4.1     6.9        375.0       11.4   \n",
       "4    2013-01-01 04:00:00   용봉   4.0     6.9        380.0       11.3   \n",
       "...                  ...  ...   ...     ...          ...        ...   \n",
       "8745 2013-12-31 19:00:00   용봉   6.1     6.7        414.0        8.0   \n",
       "8746 2013-12-31 20:00:00   용봉   6.1     6.7        416.0        7.8   \n",
       "8747 2013-12-31 21:00:00   용봉   6.1     6.7        416.0        7.9   \n",
       "8748 2013-12-31 22:00:00   용봉   5.9     6.7        413.0        8.3   \n",
       "8749 2013-12-31 23:00:00   용봉   5.8     6.7        410.0        8.5   \n",
       "\n",
       "      총유기탄소 mg/L  총질소 mg/L  총인 mg/L  클로로필-a mg/㎥  \n",
       "0            2.5       NaN      NaN          7.2  \n",
       "1            2.5       NaN      NaN          6.9  \n",
       "2            2.5       NaN      NaN          6.8  \n",
       "3            2.5       NaN      NaN          6.9  \n",
       "4            2.6       NaN      NaN          6.9  \n",
       "...          ...       ...      ...          ...  \n",
       "8745         3.9     6.523    0.058         10.3  \n",
       "8746         3.8     6.489    0.059          9.9  \n",
       "8747         3.5     6.522    0.058         10.0  \n",
       "8748         3.5     6.600    0.056         11.7  \n",
       "8749         3.5     6.574    0.056         13.2  \n",
       "\n",
       "[8750 rows x 10 columns]"
      ]
     },
     "execution_count": 10,
     "metadata": {},
     "output_type": "execute_result"
    }
   ],
   "source": [
    "scb_yearly['2013년']"
   ]
  },
  {
   "cell_type": "code",
   "execution_count": 11,
   "metadata": {},
   "outputs": [
    {
     "name": "stdout",
     "output_type": "stream",
     "text": [
      "<class 'pandas.core.frame.DataFrame'>\n",
      "RangeIndex: 8750 entries, 0 to 8749\n",
      "Data columns (total 10 columns):\n",
      " #   Column       Non-Null Count  Dtype         \n",
      "---  ------       --------------  -----         \n",
      " 0   측정일/월        8750 non-null   datetime64[ns]\n",
      " 1   측정소명         8750 non-null   object        \n",
      " 2   수온 ℃         8052 non-null   float64       \n",
      " 3   수소이온농도       8052 non-null   float64       \n",
      " 4   전기전도도 μS/cm  8050 non-null   float64       \n",
      " 5   용존산소 mg/L    7935 non-null   float64       \n",
      " 6   총유기탄소 mg/L   8042 non-null   float64       \n",
      " 7   총질소 mg/L     5993 non-null   float64       \n",
      " 8   총인 mg/L      6048 non-null   float64       \n",
      " 9   클로로필-a mg/㎥  7109 non-null   float64       \n",
      "dtypes: datetime64[ns](1), float64(8), object(1)\n",
      "memory usage: 683.7+ KB\n"
     ]
    }
   ],
   "source": [
    "scb_yearly['2013년'].info()"
   ]
  },
  {
   "cell_type": "markdown",
   "metadata": {},
   "source": [
    "`'측정일/월'` 특성을 '년-월-일 시' 형식으로 변경한다."
   ]
  },
  {
   "cell_type": "code",
   "execution_count": 12,
   "metadata": {},
   "outputs": [],
   "source": [
    "for year in list(scb_yearly.keys())[1:]:\n",
    "    scb_yearly[year]['측정일/월'] = scb_yearly[year]['측정일/월'].apply(lambda x : x.strftime('%Y-%m-%d %H'))"
   ]
  },
  {
   "cell_type": "code",
   "execution_count": 13,
   "metadata": {},
   "outputs": [
    {
     "data": {
      "text/html": [
       "<div>\n",
       "<style scoped>\n",
       "    .dataframe tbody tr th:only-of-type {\n",
       "        vertical-align: middle;\n",
       "    }\n",
       "\n",
       "    .dataframe tbody tr th {\n",
       "        vertical-align: top;\n",
       "    }\n",
       "\n",
       "    .dataframe thead th {\n",
       "        text-align: right;\n",
       "    }\n",
       "</style>\n",
       "<table border=\"1\" class=\"dataframe\">\n",
       "  <thead>\n",
       "    <tr style=\"text-align: right;\">\n",
       "      <th></th>\n",
       "      <th>측정일/월</th>\n",
       "      <th>측정소명</th>\n",
       "      <th>수온 ℃</th>\n",
       "      <th>수소이온농도</th>\n",
       "      <th>전기전도도 μS/cm</th>\n",
       "      <th>용존산소 mg/L</th>\n",
       "      <th>총유기탄소 mg/L</th>\n",
       "      <th>총질소 mg/L</th>\n",
       "      <th>총인 mg/L</th>\n",
       "      <th>클로로필-a mg/㎥</th>\n",
       "    </tr>\n",
       "  </thead>\n",
       "  <tbody>\n",
       "    <tr>\n",
       "      <th>0</th>\n",
       "      <td>2013-01-01 00</td>\n",
       "      <td>용봉</td>\n",
       "      <td>3.9</td>\n",
       "      <td>6.9</td>\n",
       "      <td>374.0</td>\n",
       "      <td>11.4</td>\n",
       "      <td>2.5</td>\n",
       "      <td>NaN</td>\n",
       "      <td>NaN</td>\n",
       "      <td>7.2</td>\n",
       "    </tr>\n",
       "    <tr>\n",
       "      <th>1</th>\n",
       "      <td>2013-01-01 01</td>\n",
       "      <td>용봉</td>\n",
       "      <td>3.9</td>\n",
       "      <td>6.9</td>\n",
       "      <td>375.0</td>\n",
       "      <td>11.4</td>\n",
       "      <td>2.5</td>\n",
       "      <td>NaN</td>\n",
       "      <td>NaN</td>\n",
       "      <td>6.9</td>\n",
       "    </tr>\n",
       "    <tr>\n",
       "      <th>2</th>\n",
       "      <td>2013-01-01 02</td>\n",
       "      <td>용봉</td>\n",
       "      <td>4.0</td>\n",
       "      <td>6.9</td>\n",
       "      <td>374.0</td>\n",
       "      <td>11.4</td>\n",
       "      <td>2.5</td>\n",
       "      <td>NaN</td>\n",
       "      <td>NaN</td>\n",
       "      <td>6.8</td>\n",
       "    </tr>\n",
       "    <tr>\n",
       "      <th>3</th>\n",
       "      <td>2013-01-01 03</td>\n",
       "      <td>용봉</td>\n",
       "      <td>4.1</td>\n",
       "      <td>6.9</td>\n",
       "      <td>375.0</td>\n",
       "      <td>11.4</td>\n",
       "      <td>2.5</td>\n",
       "      <td>NaN</td>\n",
       "      <td>NaN</td>\n",
       "      <td>6.9</td>\n",
       "    </tr>\n",
       "    <tr>\n",
       "      <th>4</th>\n",
       "      <td>2013-01-01 04</td>\n",
       "      <td>용봉</td>\n",
       "      <td>4.0</td>\n",
       "      <td>6.9</td>\n",
       "      <td>380.0</td>\n",
       "      <td>11.3</td>\n",
       "      <td>2.6</td>\n",
       "      <td>NaN</td>\n",
       "      <td>NaN</td>\n",
       "      <td>6.9</td>\n",
       "    </tr>\n",
       "    <tr>\n",
       "      <th>...</th>\n",
       "      <td>...</td>\n",
       "      <td>...</td>\n",
       "      <td>...</td>\n",
       "      <td>...</td>\n",
       "      <td>...</td>\n",
       "      <td>...</td>\n",
       "      <td>...</td>\n",
       "      <td>...</td>\n",
       "      <td>...</td>\n",
       "      <td>...</td>\n",
       "    </tr>\n",
       "    <tr>\n",
       "      <th>8745</th>\n",
       "      <td>2013-12-31 19</td>\n",
       "      <td>용봉</td>\n",
       "      <td>6.1</td>\n",
       "      <td>6.7</td>\n",
       "      <td>414.0</td>\n",
       "      <td>8.0</td>\n",
       "      <td>3.9</td>\n",
       "      <td>6.523</td>\n",
       "      <td>0.058</td>\n",
       "      <td>10.3</td>\n",
       "    </tr>\n",
       "    <tr>\n",
       "      <th>8746</th>\n",
       "      <td>2013-12-31 20</td>\n",
       "      <td>용봉</td>\n",
       "      <td>6.1</td>\n",
       "      <td>6.7</td>\n",
       "      <td>416.0</td>\n",
       "      <td>7.8</td>\n",
       "      <td>3.8</td>\n",
       "      <td>6.489</td>\n",
       "      <td>0.059</td>\n",
       "      <td>9.9</td>\n",
       "    </tr>\n",
       "    <tr>\n",
       "      <th>8747</th>\n",
       "      <td>2013-12-31 21</td>\n",
       "      <td>용봉</td>\n",
       "      <td>6.1</td>\n",
       "      <td>6.7</td>\n",
       "      <td>416.0</td>\n",
       "      <td>7.9</td>\n",
       "      <td>3.5</td>\n",
       "      <td>6.522</td>\n",
       "      <td>0.058</td>\n",
       "      <td>10.0</td>\n",
       "    </tr>\n",
       "    <tr>\n",
       "      <th>8748</th>\n",
       "      <td>2013-12-31 22</td>\n",
       "      <td>용봉</td>\n",
       "      <td>5.9</td>\n",
       "      <td>6.7</td>\n",
       "      <td>413.0</td>\n",
       "      <td>8.3</td>\n",
       "      <td>3.5</td>\n",
       "      <td>6.600</td>\n",
       "      <td>0.056</td>\n",
       "      <td>11.7</td>\n",
       "    </tr>\n",
       "    <tr>\n",
       "      <th>8749</th>\n",
       "      <td>2013-12-31 23</td>\n",
       "      <td>용봉</td>\n",
       "      <td>5.8</td>\n",
       "      <td>6.7</td>\n",
       "      <td>410.0</td>\n",
       "      <td>8.5</td>\n",
       "      <td>3.5</td>\n",
       "      <td>6.574</td>\n",
       "      <td>0.056</td>\n",
       "      <td>13.2</td>\n",
       "    </tr>\n",
       "  </tbody>\n",
       "</table>\n",
       "<p>8750 rows × 10 columns</p>\n",
       "</div>"
      ],
      "text/plain": [
       "              측정일/월 측정소명  수온 ℃  수소이온농도  전기전도도 μS/cm  용존산소 mg/L  총유기탄소 mg/L  \\\n",
       "0     2013-01-01 00   용봉   3.9     6.9        374.0       11.4         2.5   \n",
       "1     2013-01-01 01   용봉   3.9     6.9        375.0       11.4         2.5   \n",
       "2     2013-01-01 02   용봉   4.0     6.9        374.0       11.4         2.5   \n",
       "3     2013-01-01 03   용봉   4.1     6.9        375.0       11.4         2.5   \n",
       "4     2013-01-01 04   용봉   4.0     6.9        380.0       11.3         2.6   \n",
       "...             ...  ...   ...     ...          ...        ...         ...   \n",
       "8745  2013-12-31 19   용봉   6.1     6.7        414.0        8.0         3.9   \n",
       "8746  2013-12-31 20   용봉   6.1     6.7        416.0        7.8         3.8   \n",
       "8747  2013-12-31 21   용봉   6.1     6.7        416.0        7.9         3.5   \n",
       "8748  2013-12-31 22   용봉   5.9     6.7        413.0        8.3         3.5   \n",
       "8749  2013-12-31 23   용봉   5.8     6.7        410.0        8.5         3.5   \n",
       "\n",
       "      총질소 mg/L  총인 mg/L  클로로필-a mg/㎥  \n",
       "0          NaN      NaN          7.2  \n",
       "1          NaN      NaN          6.9  \n",
       "2          NaN      NaN          6.8  \n",
       "3          NaN      NaN          6.9  \n",
       "4          NaN      NaN          6.9  \n",
       "...        ...      ...          ...  \n",
       "8745     6.523    0.058         10.3  \n",
       "8746     6.489    0.059          9.9  \n",
       "8747     6.522    0.058         10.0  \n",
       "8748     6.600    0.056         11.7  \n",
       "8749     6.574    0.056         13.2  \n",
       "\n",
       "[8750 rows x 10 columns]"
      ]
     },
     "execution_count": 13,
     "metadata": {},
     "output_type": "execute_result"
    }
   ],
   "source": [
    "scb_yearly['2013년']"
   ]
  },
  {
   "cell_type": "markdown",
   "metadata": {},
   "source": [
    "**연도별 수질 데이터 통합**"
   ]
  },
  {
   "cell_type": "markdown",
   "metadata": {},
   "source": [
    "2012년도 데이터를 제외한 모든 데이터를 통합한다."
   ]
  },
  {
   "cell_type": "code",
   "execution_count": 14,
   "metadata": {},
   "outputs": [],
   "source": [
    "scb_yearly_df13 = pd.DataFrame()\n",
    "\n",
    "for year in list(scb_yearly.keys())[1:]:\n",
    "    scb_yearly_df13 = pd.concat([scb_yearly_df13, scb_yearly[year]])"
   ]
  },
  {
   "cell_type": "code",
   "execution_count": 15,
   "metadata": {},
   "outputs": [
    {
     "data": {
      "text/html": [
       "<div>\n",
       "<style scoped>\n",
       "    .dataframe tbody tr th:only-of-type {\n",
       "        vertical-align: middle;\n",
       "    }\n",
       "\n",
       "    .dataframe tbody tr th {\n",
       "        vertical-align: top;\n",
       "    }\n",
       "\n",
       "    .dataframe thead th {\n",
       "        text-align: right;\n",
       "    }\n",
       "</style>\n",
       "<table border=\"1\" class=\"dataframe\">\n",
       "  <thead>\n",
       "    <tr style=\"text-align: right;\">\n",
       "      <th></th>\n",
       "      <th>측정일/월</th>\n",
       "      <th>측정소명</th>\n",
       "      <th>수온 ℃</th>\n",
       "      <th>수소이온농도</th>\n",
       "      <th>전기전도도 μS/cm</th>\n",
       "      <th>용존산소 mg/L</th>\n",
       "      <th>총유기탄소 mg/L</th>\n",
       "      <th>총질소 mg/L</th>\n",
       "      <th>총인 mg/L</th>\n",
       "      <th>클로로필-a mg/㎥</th>\n",
       "    </tr>\n",
       "  </thead>\n",
       "  <tbody>\n",
       "    <tr>\n",
       "      <th>0</th>\n",
       "      <td>2013-01-01 00</td>\n",
       "      <td>용봉</td>\n",
       "      <td>3.9</td>\n",
       "      <td>6.9</td>\n",
       "      <td>374.0</td>\n",
       "      <td>11.4</td>\n",
       "      <td>2.5</td>\n",
       "      <td>NaN</td>\n",
       "      <td>NaN</td>\n",
       "      <td>7.2</td>\n",
       "    </tr>\n",
       "    <tr>\n",
       "      <th>1</th>\n",
       "      <td>2013-01-01 01</td>\n",
       "      <td>용봉</td>\n",
       "      <td>3.9</td>\n",
       "      <td>6.9</td>\n",
       "      <td>375.0</td>\n",
       "      <td>11.4</td>\n",
       "      <td>2.5</td>\n",
       "      <td>NaN</td>\n",
       "      <td>NaN</td>\n",
       "      <td>6.9</td>\n",
       "    </tr>\n",
       "    <tr>\n",
       "      <th>2</th>\n",
       "      <td>2013-01-01 02</td>\n",
       "      <td>용봉</td>\n",
       "      <td>4.0</td>\n",
       "      <td>6.9</td>\n",
       "      <td>374.0</td>\n",
       "      <td>11.4</td>\n",
       "      <td>2.5</td>\n",
       "      <td>NaN</td>\n",
       "      <td>NaN</td>\n",
       "      <td>6.8</td>\n",
       "    </tr>\n",
       "    <tr>\n",
       "      <th>3</th>\n",
       "      <td>2013-01-01 03</td>\n",
       "      <td>용봉</td>\n",
       "      <td>4.1</td>\n",
       "      <td>6.9</td>\n",
       "      <td>375.0</td>\n",
       "      <td>11.4</td>\n",
       "      <td>2.5</td>\n",
       "      <td>NaN</td>\n",
       "      <td>NaN</td>\n",
       "      <td>6.9</td>\n",
       "    </tr>\n",
       "    <tr>\n",
       "      <th>4</th>\n",
       "      <td>2013-01-01 04</td>\n",
       "      <td>용봉</td>\n",
       "      <td>4.0</td>\n",
       "      <td>6.9</td>\n",
       "      <td>380.0</td>\n",
       "      <td>11.3</td>\n",
       "      <td>2.6</td>\n",
       "      <td>NaN</td>\n",
       "      <td>NaN</td>\n",
       "      <td>6.9</td>\n",
       "    </tr>\n",
       "    <tr>\n",
       "      <th>...</th>\n",
       "      <td>...</td>\n",
       "      <td>...</td>\n",
       "      <td>...</td>\n",
       "      <td>...</td>\n",
       "      <td>...</td>\n",
       "      <td>...</td>\n",
       "      <td>...</td>\n",
       "      <td>...</td>\n",
       "      <td>...</td>\n",
       "      <td>...</td>\n",
       "    </tr>\n",
       "    <tr>\n",
       "      <th>3427</th>\n",
       "      <td>2022-05-23 19</td>\n",
       "      <td>용봉</td>\n",
       "      <td>26.6</td>\n",
       "      <td>6.9</td>\n",
       "      <td>419.0</td>\n",
       "      <td>NaN</td>\n",
       "      <td>6.7</td>\n",
       "      <td>5.825</td>\n",
       "      <td>0.108</td>\n",
       "      <td>66.2</td>\n",
       "    </tr>\n",
       "    <tr>\n",
       "      <th>3428</th>\n",
       "      <td>2022-05-23 20</td>\n",
       "      <td>용봉</td>\n",
       "      <td>26.3</td>\n",
       "      <td>6.8</td>\n",
       "      <td>425.0</td>\n",
       "      <td>NaN</td>\n",
       "      <td>6.5</td>\n",
       "      <td>5.803</td>\n",
       "      <td>0.107</td>\n",
       "      <td>61.2</td>\n",
       "    </tr>\n",
       "    <tr>\n",
       "      <th>3429</th>\n",
       "      <td>2022-05-23 21</td>\n",
       "      <td>용봉</td>\n",
       "      <td>25.9</td>\n",
       "      <td>6.8</td>\n",
       "      <td>417.0</td>\n",
       "      <td>NaN</td>\n",
       "      <td>6.7</td>\n",
       "      <td>5.909</td>\n",
       "      <td>0.107</td>\n",
       "      <td>58.3</td>\n",
       "    </tr>\n",
       "    <tr>\n",
       "      <th>3430</th>\n",
       "      <td>2022-05-23 22</td>\n",
       "      <td>용봉</td>\n",
       "      <td>25.7</td>\n",
       "      <td>6.8</td>\n",
       "      <td>420.0</td>\n",
       "      <td>NaN</td>\n",
       "      <td>6.4</td>\n",
       "      <td>5.921</td>\n",
       "      <td>0.106</td>\n",
       "      <td>54.4</td>\n",
       "    </tr>\n",
       "    <tr>\n",
       "      <th>3431</th>\n",
       "      <td>2022-05-23 23</td>\n",
       "      <td>용봉</td>\n",
       "      <td>25.5</td>\n",
       "      <td>6.8</td>\n",
       "      <td>411.0</td>\n",
       "      <td>NaN</td>\n",
       "      <td>6.4</td>\n",
       "      <td>5.818</td>\n",
       "      <td>0.106</td>\n",
       "      <td>52.3</td>\n",
       "    </tr>\n",
       "  </tbody>\n",
       "</table>\n",
       "<p>82257 rows × 10 columns</p>\n",
       "</div>"
      ],
      "text/plain": [
       "              측정일/월 측정소명  수온 ℃  수소이온농도  전기전도도 μS/cm  용존산소 mg/L  총유기탄소 mg/L  \\\n",
       "0     2013-01-01 00   용봉   3.9     6.9        374.0       11.4         2.5   \n",
       "1     2013-01-01 01   용봉   3.9     6.9        375.0       11.4         2.5   \n",
       "2     2013-01-01 02   용봉   4.0     6.9        374.0       11.4         2.5   \n",
       "3     2013-01-01 03   용봉   4.1     6.9        375.0       11.4         2.5   \n",
       "4     2013-01-01 04   용봉   4.0     6.9        380.0       11.3         2.6   \n",
       "...             ...  ...   ...     ...          ...        ...         ...   \n",
       "3427  2022-05-23 19   용봉  26.6     6.9        419.0        NaN         6.7   \n",
       "3428  2022-05-23 20   용봉  26.3     6.8        425.0        NaN         6.5   \n",
       "3429  2022-05-23 21   용봉  25.9     6.8        417.0        NaN         6.7   \n",
       "3430  2022-05-23 22   용봉  25.7     6.8        420.0        NaN         6.4   \n",
       "3431  2022-05-23 23   용봉  25.5     6.8        411.0        NaN         6.4   \n",
       "\n",
       "      총질소 mg/L  총인 mg/L  클로로필-a mg/㎥  \n",
       "0          NaN      NaN          7.2  \n",
       "1          NaN      NaN          6.9  \n",
       "2          NaN      NaN          6.8  \n",
       "3          NaN      NaN          6.9  \n",
       "4          NaN      NaN          6.9  \n",
       "...        ...      ...          ...  \n",
       "3427     5.825    0.108         66.2  \n",
       "3428     5.803    0.107         61.2  \n",
       "3429     5.909    0.107         58.3  \n",
       "3430     5.921    0.106         54.4  \n",
       "3431     5.818    0.106         52.3  \n",
       "\n",
       "[82257 rows x 10 columns]"
      ]
     },
     "execution_count": 15,
     "metadata": {},
     "output_type": "execute_result"
    }
   ],
   "source": [
    "scb_yearly_df13"
   ]
  },
  {
   "cell_type": "markdown",
   "metadata": {},
   "source": [
    "인덱스를 리셋한다. 기존 인덱스는 제거한다."
   ]
  },
  {
   "cell_type": "code",
   "execution_count": 16,
   "metadata": {},
   "outputs": [],
   "source": [
    "scb_yearly_df13 = scb_yearly_df13.reset_index(drop=True)"
   ]
  },
  {
   "cell_type": "code",
   "execution_count": 17,
   "metadata": {},
   "outputs": [
    {
     "data": {
      "text/html": [
       "<div>\n",
       "<style scoped>\n",
       "    .dataframe tbody tr th:only-of-type {\n",
       "        vertical-align: middle;\n",
       "    }\n",
       "\n",
       "    .dataframe tbody tr th {\n",
       "        vertical-align: top;\n",
       "    }\n",
       "\n",
       "    .dataframe thead th {\n",
       "        text-align: right;\n",
       "    }\n",
       "</style>\n",
       "<table border=\"1\" class=\"dataframe\">\n",
       "  <thead>\n",
       "    <tr style=\"text-align: right;\">\n",
       "      <th></th>\n",
       "      <th>측정일/월</th>\n",
       "      <th>측정소명</th>\n",
       "      <th>수온 ℃</th>\n",
       "      <th>수소이온농도</th>\n",
       "      <th>전기전도도 μS/cm</th>\n",
       "      <th>용존산소 mg/L</th>\n",
       "      <th>총유기탄소 mg/L</th>\n",
       "      <th>총질소 mg/L</th>\n",
       "      <th>총인 mg/L</th>\n",
       "      <th>클로로필-a mg/㎥</th>\n",
       "    </tr>\n",
       "  </thead>\n",
       "  <tbody>\n",
       "    <tr>\n",
       "      <th>0</th>\n",
       "      <td>2013-01-01 00</td>\n",
       "      <td>용봉</td>\n",
       "      <td>3.9</td>\n",
       "      <td>6.9</td>\n",
       "      <td>374.0</td>\n",
       "      <td>11.4</td>\n",
       "      <td>2.5</td>\n",
       "      <td>NaN</td>\n",
       "      <td>NaN</td>\n",
       "      <td>7.2</td>\n",
       "    </tr>\n",
       "    <tr>\n",
       "      <th>1</th>\n",
       "      <td>2013-01-01 01</td>\n",
       "      <td>용봉</td>\n",
       "      <td>3.9</td>\n",
       "      <td>6.9</td>\n",
       "      <td>375.0</td>\n",
       "      <td>11.4</td>\n",
       "      <td>2.5</td>\n",
       "      <td>NaN</td>\n",
       "      <td>NaN</td>\n",
       "      <td>6.9</td>\n",
       "    </tr>\n",
       "    <tr>\n",
       "      <th>2</th>\n",
       "      <td>2013-01-01 02</td>\n",
       "      <td>용봉</td>\n",
       "      <td>4.0</td>\n",
       "      <td>6.9</td>\n",
       "      <td>374.0</td>\n",
       "      <td>11.4</td>\n",
       "      <td>2.5</td>\n",
       "      <td>NaN</td>\n",
       "      <td>NaN</td>\n",
       "      <td>6.8</td>\n",
       "    </tr>\n",
       "    <tr>\n",
       "      <th>3</th>\n",
       "      <td>2013-01-01 03</td>\n",
       "      <td>용봉</td>\n",
       "      <td>4.1</td>\n",
       "      <td>6.9</td>\n",
       "      <td>375.0</td>\n",
       "      <td>11.4</td>\n",
       "      <td>2.5</td>\n",
       "      <td>NaN</td>\n",
       "      <td>NaN</td>\n",
       "      <td>6.9</td>\n",
       "    </tr>\n",
       "    <tr>\n",
       "      <th>4</th>\n",
       "      <td>2013-01-01 04</td>\n",
       "      <td>용봉</td>\n",
       "      <td>4.0</td>\n",
       "      <td>6.9</td>\n",
       "      <td>380.0</td>\n",
       "      <td>11.3</td>\n",
       "      <td>2.6</td>\n",
       "      <td>NaN</td>\n",
       "      <td>NaN</td>\n",
       "      <td>6.9</td>\n",
       "    </tr>\n",
       "    <tr>\n",
       "      <th>...</th>\n",
       "      <td>...</td>\n",
       "      <td>...</td>\n",
       "      <td>...</td>\n",
       "      <td>...</td>\n",
       "      <td>...</td>\n",
       "      <td>...</td>\n",
       "      <td>...</td>\n",
       "      <td>...</td>\n",
       "      <td>...</td>\n",
       "      <td>...</td>\n",
       "    </tr>\n",
       "    <tr>\n",
       "      <th>82252</th>\n",
       "      <td>2022-05-23 19</td>\n",
       "      <td>용봉</td>\n",
       "      <td>26.6</td>\n",
       "      <td>6.9</td>\n",
       "      <td>419.0</td>\n",
       "      <td>NaN</td>\n",
       "      <td>6.7</td>\n",
       "      <td>5.825</td>\n",
       "      <td>0.108</td>\n",
       "      <td>66.2</td>\n",
       "    </tr>\n",
       "    <tr>\n",
       "      <th>82253</th>\n",
       "      <td>2022-05-23 20</td>\n",
       "      <td>용봉</td>\n",
       "      <td>26.3</td>\n",
       "      <td>6.8</td>\n",
       "      <td>425.0</td>\n",
       "      <td>NaN</td>\n",
       "      <td>6.5</td>\n",
       "      <td>5.803</td>\n",
       "      <td>0.107</td>\n",
       "      <td>61.2</td>\n",
       "    </tr>\n",
       "    <tr>\n",
       "      <th>82254</th>\n",
       "      <td>2022-05-23 21</td>\n",
       "      <td>용봉</td>\n",
       "      <td>25.9</td>\n",
       "      <td>6.8</td>\n",
       "      <td>417.0</td>\n",
       "      <td>NaN</td>\n",
       "      <td>6.7</td>\n",
       "      <td>5.909</td>\n",
       "      <td>0.107</td>\n",
       "      <td>58.3</td>\n",
       "    </tr>\n",
       "    <tr>\n",
       "      <th>82255</th>\n",
       "      <td>2022-05-23 22</td>\n",
       "      <td>용봉</td>\n",
       "      <td>25.7</td>\n",
       "      <td>6.8</td>\n",
       "      <td>420.0</td>\n",
       "      <td>NaN</td>\n",
       "      <td>6.4</td>\n",
       "      <td>5.921</td>\n",
       "      <td>0.106</td>\n",
       "      <td>54.4</td>\n",
       "    </tr>\n",
       "    <tr>\n",
       "      <th>82256</th>\n",
       "      <td>2022-05-23 23</td>\n",
       "      <td>용봉</td>\n",
       "      <td>25.5</td>\n",
       "      <td>6.8</td>\n",
       "      <td>411.0</td>\n",
       "      <td>NaN</td>\n",
       "      <td>6.4</td>\n",
       "      <td>5.818</td>\n",
       "      <td>0.106</td>\n",
       "      <td>52.3</td>\n",
       "    </tr>\n",
       "  </tbody>\n",
       "</table>\n",
       "<p>82257 rows × 10 columns</p>\n",
       "</div>"
      ],
      "text/plain": [
       "               측정일/월 측정소명  수온 ℃  수소이온농도  전기전도도 μS/cm  용존산소 mg/L  총유기탄소 mg/L  \\\n",
       "0      2013-01-01 00   용봉   3.9     6.9        374.0       11.4         2.5   \n",
       "1      2013-01-01 01   용봉   3.9     6.9        375.0       11.4         2.5   \n",
       "2      2013-01-01 02   용봉   4.0     6.9        374.0       11.4         2.5   \n",
       "3      2013-01-01 03   용봉   4.1     6.9        375.0       11.4         2.5   \n",
       "4      2013-01-01 04   용봉   4.0     6.9        380.0       11.3         2.6   \n",
       "...              ...  ...   ...     ...          ...        ...         ...   \n",
       "82252  2022-05-23 19   용봉  26.6     6.9        419.0        NaN         6.7   \n",
       "82253  2022-05-23 20   용봉  26.3     6.8        425.0        NaN         6.5   \n",
       "82254  2022-05-23 21   용봉  25.9     6.8        417.0        NaN         6.7   \n",
       "82255  2022-05-23 22   용봉  25.7     6.8        420.0        NaN         6.4   \n",
       "82256  2022-05-23 23   용봉  25.5     6.8        411.0        NaN         6.4   \n",
       "\n",
       "       총질소 mg/L  총인 mg/L  클로로필-a mg/㎥  \n",
       "0           NaN      NaN          7.2  \n",
       "1           NaN      NaN          6.9  \n",
       "2           NaN      NaN          6.8  \n",
       "3           NaN      NaN          6.9  \n",
       "4           NaN      NaN          6.9  \n",
       "...         ...      ...          ...  \n",
       "82252     5.825    0.108         66.2  \n",
       "82253     5.803    0.107         61.2  \n",
       "82254     5.909    0.107         58.3  \n",
       "82255     5.921    0.106         54.4  \n",
       "82256     5.818    0.106         52.3  \n",
       "\n",
       "[82257 rows x 10 columns]"
      ]
     },
     "execution_count": 17,
     "metadata": {},
     "output_type": "execute_result"
    }
   ],
   "source": [
    "scb_yearly_df13"
   ]
  },
  {
   "cell_type": "code",
   "execution_count": 18,
   "metadata": {},
   "outputs": [
    {
     "name": "stdout",
     "output_type": "stream",
     "text": [
      "<class 'pandas.core.frame.DataFrame'>\n",
      "RangeIndex: 82257 entries, 0 to 82256\n",
      "Data columns (total 10 columns):\n",
      " #   Column       Non-Null Count  Dtype  \n",
      "---  ------       --------------  -----  \n",
      " 0   측정일/월        82257 non-null  object \n",
      " 1   측정소명         82257 non-null  object \n",
      " 2   수온 ℃         64574 non-null  float64\n",
      " 3   수소이온농도       64561 non-null  float64\n",
      " 4   전기전도도 μS/cm  64524 non-null  float64\n",
      " 5   용존산소 mg/L    62656 non-null  float64\n",
      " 6   총유기탄소 mg/L   58675 non-null  float64\n",
      " 7   총질소 mg/L     59981 non-null  float64\n",
      " 8   총인 mg/L      58997 non-null  float64\n",
      " 9   클로로필-a mg/㎥  62876 non-null  float64\n",
      "dtypes: float64(8), object(2)\n",
      "memory usage: 6.3+ MB\n"
     ]
    }
   ],
   "source": [
    "scb_yearly_df13.info()"
   ]
  },
  {
   "cell_type": "markdown",
   "metadata": {},
   "source": [
    "**결측치 확인**"
   ]
  },
  {
   "cell_type": "markdown",
   "metadata": {},
   "source": [
    "측정일과 측정소를 제외한 모든 특성에 다수의 결측치가 포함된다."
   ]
  },
  {
   "cell_type": "code",
   "execution_count": 19,
   "metadata": {},
   "outputs": [
    {
     "data": {
      "text/plain": [
       "측정일/월              0\n",
       "측정소명               0\n",
       "수온 ℃           17683\n",
       "수소이온농도         17696\n",
       "전기전도도 μS/cm    17733\n",
       "용존산소 mg/L      19601\n",
       "총유기탄소 mg/L     23582\n",
       "총질소 mg/L       22276\n",
       "총인 mg/L        23260\n",
       "클로로필-a mg/㎥    19381\n",
       "dtype: int64"
      ]
     },
     "execution_count": 19,
     "metadata": {},
     "output_type": "execute_result"
    }
   ],
   "source": [
    "scb_yearly_df13.isnull().sum()"
   ]
  },
  {
   "cell_type": "markdown",
   "metadata": {},
   "source": [
    "## 승촌보 유량 데이터 추가"
   ]
  },
  {
   "cell_type": "markdown",
   "metadata": {},
   "source": [
    "- 2012년부터 2022까지\n",
    "- 10분 단위 수집 데이터"
   ]
  },
  {
   "cell_type": "markdown",
   "metadata": {},
   "source": [
    "**승촌보 유량 데이터 불러오기**"
   ]
  },
  {
   "cell_type": "markdown",
   "metadata": {},
   "source": [
    "`'시간'` 특성은 date time으로 파싱해서 불러온다."
   ]
  },
  {
   "cell_type": "code",
   "execution_count": 20,
   "metadata": {},
   "outputs": [],
   "source": [
    "scb_flow_yearly = pd.read_excel(base_path+\"Seungchonbo_flow.xlsx\", \n",
    "# scb_flow_yearly = pd.read_excel(base_path+\"\\Seungchonbo_flow.xlsx\", \n",
    "                            header=0, \n",
    "                            sheet_name=None,\n",
    "                            na_values='ND',\n",
    "                            parse_dates=[0])  # 시간 특성을 date time으로 파싱"
   ]
  },
  {
   "cell_type": "markdown",
   "metadata": {},
   "source": [
    "`scb_flow_yearly` 또한 연도별 데이터프레임을 갖는 사전이다."
   ]
  },
  {
   "cell_type": "code",
   "execution_count": 21,
   "metadata": {},
   "outputs": [
    {
     "data": {
      "text/plain": [
       "dict_keys(['2012', '2013', '2014', '2015', '2016', '2017', '2018', '2019', '2020', '2021', '2022'])"
      ]
     },
     "execution_count": 21,
     "metadata": {},
     "output_type": "execute_result"
    }
   ],
   "source": [
    "scb_flow_yearly.keys()"
   ]
  },
  {
   "cell_type": "markdown",
   "metadata": {},
   "source": [
    "예를 들어, 2013년 수량 데이터는 다음과 같다."
   ]
  },
  {
   "cell_type": "code",
   "execution_count": 22,
   "metadata": {},
   "outputs": [
    {
     "name": "stdout",
     "output_type": "stream",
     "text": [
      "<class 'pandas.core.frame.DataFrame'>\n",
      "RangeIndex: 52560 entries, 0 to 52559\n",
      "Data columns (total 5 columns):\n",
      " #   Column       Non-Null Count  Dtype         \n",
      "---  ------       --------------  -----         \n",
      " 0   시간           52560 non-null  datetime64[ns]\n",
      " 1    상류수위(EL.m)  52560 non-null  float64       \n",
      " 2    하류수위(EL.m)  52560 non-null  float64       \n",
      " 3    유입량(㎥/s)    52560 non-null  float64       \n",
      " 4    방류량(㎥/s)    52560 non-null  float64       \n",
      "dtypes: datetime64[ns](1), float64(4)\n",
      "memory usage: 2.0 MB\n"
     ]
    }
   ],
   "source": [
    "scb_flow_yearly[\"2013\"].info()"
   ]
  },
  {
   "cell_type": "code",
   "execution_count": 23,
   "metadata": {},
   "outputs": [
    {
     "data": {
      "text/html": [
       "<div>\n",
       "<style scoped>\n",
       "    .dataframe tbody tr th:only-of-type {\n",
       "        vertical-align: middle;\n",
       "    }\n",
       "\n",
       "    .dataframe tbody tr th {\n",
       "        vertical-align: top;\n",
       "    }\n",
       "\n",
       "    .dataframe thead th {\n",
       "        text-align: right;\n",
       "    }\n",
       "</style>\n",
       "<table border=\"1\" class=\"dataframe\">\n",
       "  <thead>\n",
       "    <tr style=\"text-align: right;\">\n",
       "      <th></th>\n",
       "      <th>시간</th>\n",
       "      <th>상류수위(EL.m)</th>\n",
       "      <th>하류수위(EL.m)</th>\n",
       "      <th>유입량(㎥/s)</th>\n",
       "      <th>방류량(㎥/s)</th>\n",
       "    </tr>\n",
       "  </thead>\n",
       "  <tbody>\n",
       "    <tr>\n",
       "      <th>0</th>\n",
       "      <td>2013-01-01 00:00:00</td>\n",
       "      <td>7.5</td>\n",
       "      <td>3.77</td>\n",
       "      <td>19.82</td>\n",
       "      <td>19.74</td>\n",
       "    </tr>\n",
       "    <tr>\n",
       "      <th>1</th>\n",
       "      <td>2013-01-01 00:10:00</td>\n",
       "      <td>7.5</td>\n",
       "      <td>3.77</td>\n",
       "      <td>19.78</td>\n",
       "      <td>19.76</td>\n",
       "    </tr>\n",
       "    <tr>\n",
       "      <th>2</th>\n",
       "      <td>2013-01-01 00:20:00</td>\n",
       "      <td>7.5</td>\n",
       "      <td>3.77</td>\n",
       "      <td>19.77</td>\n",
       "      <td>19.82</td>\n",
       "    </tr>\n",
       "    <tr>\n",
       "      <th>3</th>\n",
       "      <td>2013-01-01 00:30:00</td>\n",
       "      <td>7.5</td>\n",
       "      <td>3.77</td>\n",
       "      <td>19.77</td>\n",
       "      <td>19.73</td>\n",
       "    </tr>\n",
       "    <tr>\n",
       "      <th>4</th>\n",
       "      <td>2013-01-01 00:40:00</td>\n",
       "      <td>7.5</td>\n",
       "      <td>3.77</td>\n",
       "      <td>19.78</td>\n",
       "      <td>19.79</td>\n",
       "    </tr>\n",
       "    <tr>\n",
       "      <th>5</th>\n",
       "      <td>2013-01-01 00:50:00</td>\n",
       "      <td>7.5</td>\n",
       "      <td>3.77</td>\n",
       "      <td>19.72</td>\n",
       "      <td>19.65</td>\n",
       "    </tr>\n",
       "    <tr>\n",
       "      <th>6</th>\n",
       "      <td>2013-01-01 01:00:00</td>\n",
       "      <td>7.5</td>\n",
       "      <td>3.77</td>\n",
       "      <td>19.67</td>\n",
       "      <td>19.58</td>\n",
       "    </tr>\n",
       "    <tr>\n",
       "      <th>7</th>\n",
       "      <td>2013-01-01 01:10:00</td>\n",
       "      <td>7.5</td>\n",
       "      <td>3.77</td>\n",
       "      <td>19.61</td>\n",
       "      <td>19.60</td>\n",
       "    </tr>\n",
       "    <tr>\n",
       "      <th>8</th>\n",
       "      <td>2013-01-01 01:20:00</td>\n",
       "      <td>7.5</td>\n",
       "      <td>3.77</td>\n",
       "      <td>19.61</td>\n",
       "      <td>19.66</td>\n",
       "    </tr>\n",
       "    <tr>\n",
       "      <th>9</th>\n",
       "      <td>2013-01-01 01:30:00</td>\n",
       "      <td>7.5</td>\n",
       "      <td>3.77</td>\n",
       "      <td>19.68</td>\n",
       "      <td>19.77</td>\n",
       "    </tr>\n",
       "  </tbody>\n",
       "</table>\n",
       "</div>"
      ],
      "text/plain": [
       "                   시간   상류수위(EL.m)   하류수위(EL.m)   유입량(㎥/s)   방류량(㎥/s)\n",
       "0 2013-01-01 00:00:00          7.5         3.77      19.82      19.74\n",
       "1 2013-01-01 00:10:00          7.5         3.77      19.78      19.76\n",
       "2 2013-01-01 00:20:00          7.5         3.77      19.77      19.82\n",
       "3 2013-01-01 00:30:00          7.5         3.77      19.77      19.73\n",
       "4 2013-01-01 00:40:00          7.5         3.77      19.78      19.79\n",
       "5 2013-01-01 00:50:00          7.5         3.77      19.72      19.65\n",
       "6 2013-01-01 01:00:00          7.5         3.77      19.67      19.58\n",
       "7 2013-01-01 01:10:00          7.5         3.77      19.61      19.60\n",
       "8 2013-01-01 01:20:00          7.5         3.77      19.61      19.66\n",
       "9 2013-01-01 01:30:00          7.5         3.77      19.68      19.77"
      ]
     },
     "execution_count": 23,
     "metadata": {},
     "output_type": "execute_result"
    }
   ],
   "source": [
    "scb_flow_yearly[\"2013\"].head(10)"
   ]
  },
  {
   "cell_type": "markdown",
   "metadata": {},
   "source": [
    "**시간 단위 데이터로 변환**\n",
    "\n",
    "10분 단위로 수집된 수량 데이터를 시간 단위 데이터로 변환한다.\n",
    "단,  데이터가 적은 2012년도 데이터는 무시한다."
   ]
  },
  {
   "cell_type": "markdown",
   "metadata": {},
   "source": [
    "- `'시간'` 특성을 '년-월-일 시' 형식으로 변경한다."
   ]
  },
  {
   "cell_type": "code",
   "execution_count": 24,
   "metadata": {},
   "outputs": [],
   "source": [
    "for year in list(scb_flow_yearly.keys())[1:]:\n",
    "    scb_flow_yearly[year]['시간'] = scb_flow_yearly[year]['시간'].apply(lambda x : x.strftime('%Y-%m-%d %H'))"
   ]
  },
  {
   "cell_type": "code",
   "execution_count": 25,
   "metadata": {},
   "outputs": [
    {
     "data": {
      "text/html": [
       "<div>\n",
       "<style scoped>\n",
       "    .dataframe tbody tr th:only-of-type {\n",
       "        vertical-align: middle;\n",
       "    }\n",
       "\n",
       "    .dataframe tbody tr th {\n",
       "        vertical-align: top;\n",
       "    }\n",
       "\n",
       "    .dataframe thead th {\n",
       "        text-align: right;\n",
       "    }\n",
       "</style>\n",
       "<table border=\"1\" class=\"dataframe\">\n",
       "  <thead>\n",
       "    <tr style=\"text-align: right;\">\n",
       "      <th></th>\n",
       "      <th>시간</th>\n",
       "      <th>상류수위(EL.m)</th>\n",
       "      <th>하류수위(EL.m)</th>\n",
       "      <th>유입량(㎥/s)</th>\n",
       "      <th>방류량(㎥/s)</th>\n",
       "    </tr>\n",
       "  </thead>\n",
       "  <tbody>\n",
       "    <tr>\n",
       "      <th>0</th>\n",
       "      <td>2013-01-01 00</td>\n",
       "      <td>7.5</td>\n",
       "      <td>3.77</td>\n",
       "      <td>19.82</td>\n",
       "      <td>19.74</td>\n",
       "    </tr>\n",
       "    <tr>\n",
       "      <th>1</th>\n",
       "      <td>2013-01-01 00</td>\n",
       "      <td>7.5</td>\n",
       "      <td>3.77</td>\n",
       "      <td>19.78</td>\n",
       "      <td>19.76</td>\n",
       "    </tr>\n",
       "    <tr>\n",
       "      <th>2</th>\n",
       "      <td>2013-01-01 00</td>\n",
       "      <td>7.5</td>\n",
       "      <td>3.77</td>\n",
       "      <td>19.77</td>\n",
       "      <td>19.82</td>\n",
       "    </tr>\n",
       "    <tr>\n",
       "      <th>3</th>\n",
       "      <td>2013-01-01 00</td>\n",
       "      <td>7.5</td>\n",
       "      <td>3.77</td>\n",
       "      <td>19.77</td>\n",
       "      <td>19.73</td>\n",
       "    </tr>\n",
       "    <tr>\n",
       "      <th>4</th>\n",
       "      <td>2013-01-01 00</td>\n",
       "      <td>7.5</td>\n",
       "      <td>3.77</td>\n",
       "      <td>19.78</td>\n",
       "      <td>19.79</td>\n",
       "    </tr>\n",
       "    <tr>\n",
       "      <th>5</th>\n",
       "      <td>2013-01-01 00</td>\n",
       "      <td>7.5</td>\n",
       "      <td>3.77</td>\n",
       "      <td>19.72</td>\n",
       "      <td>19.65</td>\n",
       "    </tr>\n",
       "    <tr>\n",
       "      <th>6</th>\n",
       "      <td>2013-01-01 01</td>\n",
       "      <td>7.5</td>\n",
       "      <td>3.77</td>\n",
       "      <td>19.67</td>\n",
       "      <td>19.58</td>\n",
       "    </tr>\n",
       "    <tr>\n",
       "      <th>7</th>\n",
       "      <td>2013-01-01 01</td>\n",
       "      <td>7.5</td>\n",
       "      <td>3.77</td>\n",
       "      <td>19.61</td>\n",
       "      <td>19.60</td>\n",
       "    </tr>\n",
       "    <tr>\n",
       "      <th>8</th>\n",
       "      <td>2013-01-01 01</td>\n",
       "      <td>7.5</td>\n",
       "      <td>3.77</td>\n",
       "      <td>19.61</td>\n",
       "      <td>19.66</td>\n",
       "    </tr>\n",
       "    <tr>\n",
       "      <th>9</th>\n",
       "      <td>2013-01-01 01</td>\n",
       "      <td>7.5</td>\n",
       "      <td>3.77</td>\n",
       "      <td>19.68</td>\n",
       "      <td>19.77</td>\n",
       "    </tr>\n",
       "  </tbody>\n",
       "</table>\n",
       "</div>"
      ],
      "text/plain": [
       "              시간   상류수위(EL.m)   하류수위(EL.m)   유입량(㎥/s)   방류량(㎥/s)\n",
       "0  2013-01-01 00          7.5         3.77      19.82      19.74\n",
       "1  2013-01-01 00          7.5         3.77      19.78      19.76\n",
       "2  2013-01-01 00          7.5         3.77      19.77      19.82\n",
       "3  2013-01-01 00          7.5         3.77      19.77      19.73\n",
       "4  2013-01-01 00          7.5         3.77      19.78      19.79\n",
       "5  2013-01-01 00          7.5         3.77      19.72      19.65\n",
       "6  2013-01-01 01          7.5         3.77      19.67      19.58\n",
       "7  2013-01-01 01          7.5         3.77      19.61      19.60\n",
       "8  2013-01-01 01          7.5         3.77      19.61      19.66\n",
       "9  2013-01-01 01          7.5         3.77      19.68      19.77"
      ]
     },
     "execution_count": 25,
     "metadata": {},
     "output_type": "execute_result"
    }
   ],
   "source": [
    "scb_flow_yearly['2013'].head(10)"
   ]
  },
  {
   "cell_type": "markdown",
   "metadata": {},
   "source": [
    "- 시간대별 평균 수량으로 구성된 데이터셋 구현한다. 즉, 시 기준 데이터로 변환한다."
   ]
  },
  {
   "cell_type": "code",
   "execution_count": 26,
   "metadata": {},
   "outputs": [],
   "source": [
    "scb_flow_yearly_hour = {}\n",
    "\n",
    "for year in list(scb_flow_yearly.keys())[1:]:\n",
    "    scb_flow_yearly_hour[year] = scb_flow_yearly[year].groupby('시간').mean()"
   ]
  },
  {
   "cell_type": "code",
   "execution_count": 27,
   "metadata": {},
   "outputs": [
    {
     "data": {
      "text/html": [
       "<div>\n",
       "<style scoped>\n",
       "    .dataframe tbody tr th:only-of-type {\n",
       "        vertical-align: middle;\n",
       "    }\n",
       "\n",
       "    .dataframe tbody tr th {\n",
       "        vertical-align: top;\n",
       "    }\n",
       "\n",
       "    .dataframe thead th {\n",
       "        text-align: right;\n",
       "    }\n",
       "</style>\n",
       "<table border=\"1\" class=\"dataframe\">\n",
       "  <thead>\n",
       "    <tr style=\"text-align: right;\">\n",
       "      <th></th>\n",
       "      <th>상류수위(EL.m)</th>\n",
       "      <th>하류수위(EL.m)</th>\n",
       "      <th>유입량(㎥/s)</th>\n",
       "      <th>방류량(㎥/s)</th>\n",
       "    </tr>\n",
       "    <tr>\n",
       "      <th>시간</th>\n",
       "      <th></th>\n",
       "      <th></th>\n",
       "      <th></th>\n",
       "      <th></th>\n",
       "    </tr>\n",
       "  </thead>\n",
       "  <tbody>\n",
       "    <tr>\n",
       "      <th>2013-01-01 00</th>\n",
       "      <td>7.50</td>\n",
       "      <td>3.770000</td>\n",
       "      <td>19.773333</td>\n",
       "      <td>19.748333</td>\n",
       "    </tr>\n",
       "    <tr>\n",
       "      <th>2013-01-01 01</th>\n",
       "      <td>7.50</td>\n",
       "      <td>3.770000</td>\n",
       "      <td>19.701667</td>\n",
       "      <td>19.706667</td>\n",
       "    </tr>\n",
       "    <tr>\n",
       "      <th>2013-01-01 02</th>\n",
       "      <td>7.50</td>\n",
       "      <td>3.770000</td>\n",
       "      <td>19.748333</td>\n",
       "      <td>19.723333</td>\n",
       "    </tr>\n",
       "    <tr>\n",
       "      <th>2013-01-01 03</th>\n",
       "      <td>7.50</td>\n",
       "      <td>3.770000</td>\n",
       "      <td>19.613333</td>\n",
       "      <td>19.610000</td>\n",
       "    </tr>\n",
       "    <tr>\n",
       "      <th>2013-01-01 04</th>\n",
       "      <td>7.50</td>\n",
       "      <td>3.770000</td>\n",
       "      <td>19.661667</td>\n",
       "      <td>19.665000</td>\n",
       "    </tr>\n",
       "    <tr>\n",
       "      <th>...</th>\n",
       "      <td>...</td>\n",
       "      <td>...</td>\n",
       "      <td>...</td>\n",
       "      <td>...</td>\n",
       "    </tr>\n",
       "    <tr>\n",
       "      <th>2013-12-31 19</th>\n",
       "      <td>7.52</td>\n",
       "      <td>3.558333</td>\n",
       "      <td>10.901667</td>\n",
       "      <td>10.910000</td>\n",
       "    </tr>\n",
       "    <tr>\n",
       "      <th>2013-12-31 20</th>\n",
       "      <td>7.52</td>\n",
       "      <td>3.555000</td>\n",
       "      <td>10.845000</td>\n",
       "      <td>10.843333</td>\n",
       "    </tr>\n",
       "    <tr>\n",
       "      <th>2013-12-31 21</th>\n",
       "      <td>7.52</td>\n",
       "      <td>3.551667</td>\n",
       "      <td>10.850000</td>\n",
       "      <td>10.845000</td>\n",
       "    </tr>\n",
       "    <tr>\n",
       "      <th>2013-12-31 22</th>\n",
       "      <td>7.52</td>\n",
       "      <td>3.555000</td>\n",
       "      <td>10.870000</td>\n",
       "      <td>10.876667</td>\n",
       "    </tr>\n",
       "    <tr>\n",
       "      <th>2013-12-31 23</th>\n",
       "      <td>7.52</td>\n",
       "      <td>3.550000</td>\n",
       "      <td>10.865000</td>\n",
       "      <td>10.863333</td>\n",
       "    </tr>\n",
       "  </tbody>\n",
       "</table>\n",
       "<p>8760 rows × 4 columns</p>\n",
       "</div>"
      ],
      "text/plain": [
       "                상류수위(EL.m)   하류수위(EL.m)   유입량(㎥/s)   방류량(㎥/s)\n",
       "시간                                                           \n",
       "2013-01-01 00         7.50     3.770000  19.773333  19.748333\n",
       "2013-01-01 01         7.50     3.770000  19.701667  19.706667\n",
       "2013-01-01 02         7.50     3.770000  19.748333  19.723333\n",
       "2013-01-01 03         7.50     3.770000  19.613333  19.610000\n",
       "2013-01-01 04         7.50     3.770000  19.661667  19.665000\n",
       "...                    ...          ...        ...        ...\n",
       "2013-12-31 19         7.52     3.558333  10.901667  10.910000\n",
       "2013-12-31 20         7.52     3.555000  10.845000  10.843333\n",
       "2013-12-31 21         7.52     3.551667  10.850000  10.845000\n",
       "2013-12-31 22         7.52     3.555000  10.870000  10.876667\n",
       "2013-12-31 23         7.52     3.550000  10.865000  10.863333\n",
       "\n",
       "[8760 rows x 4 columns]"
      ]
     },
     "execution_count": 27,
     "metadata": {},
     "output_type": "execute_result"
    }
   ],
   "source": [
    "scb_flow_yearly_hour['2013']"
   ]
  },
  {
   "cell_type": "markdown",
   "metadata": {},
   "source": [
    "- 인덱스 추가"
   ]
  },
  {
   "cell_type": "code",
   "execution_count": 28,
   "metadata": {},
   "outputs": [],
   "source": [
    "for year in scb_flow_yearly_hour:\n",
    "    scb_flow_yearly_hour[year] = scb_flow_yearly_hour[year].reset_index()"
   ]
  },
  {
   "cell_type": "code",
   "execution_count": 29,
   "metadata": {},
   "outputs": [
    {
     "data": {
      "text/html": [
       "<div>\n",
       "<style scoped>\n",
       "    .dataframe tbody tr th:only-of-type {\n",
       "        vertical-align: middle;\n",
       "    }\n",
       "\n",
       "    .dataframe tbody tr th {\n",
       "        vertical-align: top;\n",
       "    }\n",
       "\n",
       "    .dataframe thead th {\n",
       "        text-align: right;\n",
       "    }\n",
       "</style>\n",
       "<table border=\"1\" class=\"dataframe\">\n",
       "  <thead>\n",
       "    <tr style=\"text-align: right;\">\n",
       "      <th></th>\n",
       "      <th>시간</th>\n",
       "      <th>상류수위(EL.m)</th>\n",
       "      <th>하류수위(EL.m)</th>\n",
       "      <th>유입량(㎥/s)</th>\n",
       "      <th>방류량(㎥/s)</th>\n",
       "    </tr>\n",
       "  </thead>\n",
       "  <tbody>\n",
       "    <tr>\n",
       "      <th>0</th>\n",
       "      <td>2013-01-01 00</td>\n",
       "      <td>7.500000</td>\n",
       "      <td>3.77</td>\n",
       "      <td>19.773333</td>\n",
       "      <td>19.748333</td>\n",
       "    </tr>\n",
       "    <tr>\n",
       "      <th>1</th>\n",
       "      <td>2013-01-01 01</td>\n",
       "      <td>7.500000</td>\n",
       "      <td>3.77</td>\n",
       "      <td>19.701667</td>\n",
       "      <td>19.706667</td>\n",
       "    </tr>\n",
       "    <tr>\n",
       "      <th>2</th>\n",
       "      <td>2013-01-01 02</td>\n",
       "      <td>7.500000</td>\n",
       "      <td>3.77</td>\n",
       "      <td>19.748333</td>\n",
       "      <td>19.723333</td>\n",
       "    </tr>\n",
       "    <tr>\n",
       "      <th>3</th>\n",
       "      <td>2013-01-01 03</td>\n",
       "      <td>7.500000</td>\n",
       "      <td>3.77</td>\n",
       "      <td>19.613333</td>\n",
       "      <td>19.610000</td>\n",
       "    </tr>\n",
       "    <tr>\n",
       "      <th>4</th>\n",
       "      <td>2013-01-01 04</td>\n",
       "      <td>7.500000</td>\n",
       "      <td>3.77</td>\n",
       "      <td>19.661667</td>\n",
       "      <td>19.665000</td>\n",
       "    </tr>\n",
       "    <tr>\n",
       "      <th>5</th>\n",
       "      <td>2013-01-01 05</td>\n",
       "      <td>7.500000</td>\n",
       "      <td>3.77</td>\n",
       "      <td>19.641667</td>\n",
       "      <td>19.635000</td>\n",
       "    </tr>\n",
       "    <tr>\n",
       "      <th>6</th>\n",
       "      <td>2013-01-01 06</td>\n",
       "      <td>7.500000</td>\n",
       "      <td>3.77</td>\n",
       "      <td>19.573333</td>\n",
       "      <td>19.566667</td>\n",
       "    </tr>\n",
       "    <tr>\n",
       "      <th>7</th>\n",
       "      <td>2013-01-01 07</td>\n",
       "      <td>7.491667</td>\n",
       "      <td>3.77</td>\n",
       "      <td>16.646667</td>\n",
       "      <td>19.496667</td>\n",
       "    </tr>\n",
       "    <tr>\n",
       "      <th>8</th>\n",
       "      <td>2013-01-01 08</td>\n",
       "      <td>7.490000</td>\n",
       "      <td>3.77</td>\n",
       "      <td>19.495000</td>\n",
       "      <td>19.500000</td>\n",
       "    </tr>\n",
       "    <tr>\n",
       "      <th>9</th>\n",
       "      <td>2013-01-01 09</td>\n",
       "      <td>7.486667</td>\n",
       "      <td>3.77</td>\n",
       "      <td>17.576667</td>\n",
       "      <td>19.478333</td>\n",
       "    </tr>\n",
       "  </tbody>\n",
       "</table>\n",
       "</div>"
      ],
      "text/plain": [
       "              시간   상류수위(EL.m)   하류수위(EL.m)   유입량(㎥/s)   방류량(㎥/s)\n",
       "0  2013-01-01 00     7.500000         3.77  19.773333  19.748333\n",
       "1  2013-01-01 01     7.500000         3.77  19.701667  19.706667\n",
       "2  2013-01-01 02     7.500000         3.77  19.748333  19.723333\n",
       "3  2013-01-01 03     7.500000         3.77  19.613333  19.610000\n",
       "4  2013-01-01 04     7.500000         3.77  19.661667  19.665000\n",
       "5  2013-01-01 05     7.500000         3.77  19.641667  19.635000\n",
       "6  2013-01-01 06     7.500000         3.77  19.573333  19.566667\n",
       "7  2013-01-01 07     7.491667         3.77  16.646667  19.496667\n",
       "8  2013-01-01 08     7.490000         3.77  19.495000  19.500000\n",
       "9  2013-01-01 09     7.486667         3.77  17.576667  19.478333"
      ]
     },
     "execution_count": 29,
     "metadata": {},
     "output_type": "execute_result"
    }
   ],
   "source": [
    "scb_flow_yearly_hour['2013'].head(10)"
   ]
  },
  {
   "cell_type": "markdown",
   "metadata": {},
   "source": [
    "**승촌보 수량 통합 데이터**\n",
    "\n",
    "2013년 이후의 연도별 데이터를 모두 통합한다. "
   ]
  },
  {
   "cell_type": "code",
   "execution_count": 30,
   "metadata": {},
   "outputs": [],
   "source": [
    "scb_flow_yearly_hour_df = pd.DataFrame()\n",
    "\n",
    "for year in scb_flow_yearly_hour:\n",
    "    scb_flow_yearly_hour_df = pd.concat([scb_flow_yearly_hour_df, scb_flow_yearly_hour[year]])"
   ]
  },
  {
   "cell_type": "code",
   "execution_count": 31,
   "metadata": {},
   "outputs": [
    {
     "data": {
      "text/html": [
       "<div>\n",
       "<style scoped>\n",
       "    .dataframe tbody tr th:only-of-type {\n",
       "        vertical-align: middle;\n",
       "    }\n",
       "\n",
       "    .dataframe tbody tr th {\n",
       "        vertical-align: top;\n",
       "    }\n",
       "\n",
       "    .dataframe thead th {\n",
       "        text-align: right;\n",
       "    }\n",
       "</style>\n",
       "<table border=\"1\" class=\"dataframe\">\n",
       "  <thead>\n",
       "    <tr style=\"text-align: right;\">\n",
       "      <th></th>\n",
       "      <th>시간</th>\n",
       "      <th>상류수위(EL.m)</th>\n",
       "      <th>하류수위(EL.m)</th>\n",
       "      <th>유입량(㎥/s)</th>\n",
       "      <th>방류량(㎥/s)</th>\n",
       "    </tr>\n",
       "  </thead>\n",
       "  <tbody>\n",
       "    <tr>\n",
       "      <th>0</th>\n",
       "      <td>2013-01-01 00</td>\n",
       "      <td>7.500000</td>\n",
       "      <td>3.770000</td>\n",
       "      <td>19.773333</td>\n",
       "      <td>19.748333</td>\n",
       "    </tr>\n",
       "    <tr>\n",
       "      <th>1</th>\n",
       "      <td>2013-01-01 01</td>\n",
       "      <td>7.500000</td>\n",
       "      <td>3.770000</td>\n",
       "      <td>19.701667</td>\n",
       "      <td>19.706667</td>\n",
       "    </tr>\n",
       "    <tr>\n",
       "      <th>2</th>\n",
       "      <td>2013-01-01 02</td>\n",
       "      <td>7.500000</td>\n",
       "      <td>3.770000</td>\n",
       "      <td>19.748333</td>\n",
       "      <td>19.723333</td>\n",
       "    </tr>\n",
       "    <tr>\n",
       "      <th>3</th>\n",
       "      <td>2013-01-01 03</td>\n",
       "      <td>7.500000</td>\n",
       "      <td>3.770000</td>\n",
       "      <td>19.613333</td>\n",
       "      <td>19.610000</td>\n",
       "    </tr>\n",
       "    <tr>\n",
       "      <th>4</th>\n",
       "      <td>2013-01-01 04</td>\n",
       "      <td>7.500000</td>\n",
       "      <td>3.770000</td>\n",
       "      <td>19.661667</td>\n",
       "      <td>19.665000</td>\n",
       "    </tr>\n",
       "    <tr>\n",
       "      <th>...</th>\n",
       "      <td>...</td>\n",
       "      <td>...</td>\n",
       "      <td>...</td>\n",
       "      <td>...</td>\n",
       "      <td>...</td>\n",
       "    </tr>\n",
       "    <tr>\n",
       "      <th>5487</th>\n",
       "      <td>2022-08-17 15</td>\n",
       "      <td>5.536667</td>\n",
       "      <td>1.618333</td>\n",
       "      <td>29.261667</td>\n",
       "      <td>25.190000</td>\n",
       "    </tr>\n",
       "    <tr>\n",
       "      <th>5488</th>\n",
       "      <td>2022-08-17 16</td>\n",
       "      <td>5.525000</td>\n",
       "      <td>1.638333</td>\n",
       "      <td>23.243333</td>\n",
       "      <td>38.923333</td>\n",
       "    </tr>\n",
       "    <tr>\n",
       "      <th>5489</th>\n",
       "      <td>2022-08-17 17</td>\n",
       "      <td>5.483333</td>\n",
       "      <td>1.626667</td>\n",
       "      <td>29.068333</td>\n",
       "      <td>44.878333</td>\n",
       "    </tr>\n",
       "    <tr>\n",
       "      <th>5490</th>\n",
       "      <td>2022-08-17 18</td>\n",
       "      <td>5.470000</td>\n",
       "      <td>1.566667</td>\n",
       "      <td>19.131667</td>\n",
       "      <td>14.925000</td>\n",
       "    </tr>\n",
       "    <tr>\n",
       "      <th>5491</th>\n",
       "      <td>2022-08-17 19</td>\n",
       "      <td>5.468333</td>\n",
       "      <td>1.581667</td>\n",
       "      <td>18.811667</td>\n",
       "      <td>19.368333</td>\n",
       "    </tr>\n",
       "  </tbody>\n",
       "</table>\n",
       "<p>84354 rows × 5 columns</p>\n",
       "</div>"
      ],
      "text/plain": [
       "                 시간   상류수위(EL.m)   하류수위(EL.m)   유입량(㎥/s)   방류량(㎥/s)\n",
       "0     2013-01-01 00     7.500000     3.770000  19.773333  19.748333\n",
       "1     2013-01-01 01     7.500000     3.770000  19.701667  19.706667\n",
       "2     2013-01-01 02     7.500000     3.770000  19.748333  19.723333\n",
       "3     2013-01-01 03     7.500000     3.770000  19.613333  19.610000\n",
       "4     2013-01-01 04     7.500000     3.770000  19.661667  19.665000\n",
       "...             ...          ...          ...        ...        ...\n",
       "5487  2022-08-17 15     5.536667     1.618333  29.261667  25.190000\n",
       "5488  2022-08-17 16     5.525000     1.638333  23.243333  38.923333\n",
       "5489  2022-08-17 17     5.483333     1.626667  29.068333  44.878333\n",
       "5490  2022-08-17 18     5.470000     1.566667  19.131667  14.925000\n",
       "5491  2022-08-17 19     5.468333     1.581667  18.811667  19.368333\n",
       "\n",
       "[84354 rows x 5 columns]"
      ]
     },
     "execution_count": 31,
     "metadata": {},
     "output_type": "execute_result"
    }
   ],
   "source": [
    "scb_flow_yearly_hour_df"
   ]
  },
  {
   "cell_type": "markdown",
   "metadata": {},
   "source": [
    "수량 통합 데이터의 인덱스를 새로 구성한다."
   ]
  },
  {
   "cell_type": "code",
   "execution_count": 32,
   "metadata": {},
   "outputs": [],
   "source": [
    "scb_flow_yearly_hour_df = scb_flow_yearly_hour_df.reset_index(drop=True)"
   ]
  },
  {
   "cell_type": "markdown",
   "metadata": {},
   "source": [
    "총 84,354개의 수량 데이터 샘플이 포함된다."
   ]
  },
  {
   "cell_type": "code",
   "execution_count": 33,
   "metadata": {},
   "outputs": [
    {
     "name": "stdout",
     "output_type": "stream",
     "text": [
      "<class 'pandas.core.frame.DataFrame'>\n",
      "RangeIndex: 84354 entries, 0 to 84353\n",
      "Data columns (total 5 columns):\n",
      " #   Column       Non-Null Count  Dtype  \n",
      "---  ------       --------------  -----  \n",
      " 0   시간           84354 non-null  object \n",
      " 1    상류수위(EL.m)  84354 non-null  float64\n",
      " 2    하류수위(EL.m)  84354 non-null  float64\n",
      " 3    유입량(㎥/s)    84354 non-null  float64\n",
      " 4    방류량(㎥/s)    84354 non-null  float64\n",
      "dtypes: float64(4), object(1)\n",
      "memory usage: 3.2+ MB\n"
     ]
    }
   ],
   "source": [
    "scb_flow_yearly_hour_df.info()"
   ]
  },
  {
   "cell_type": "markdown",
   "metadata": {},
   "source": [
    "## 수질/수량 데이터 합병"
   ]
  },
  {
   "cell_type": "markdown",
   "metadata": {},
   "source": [
    "수질 데이터와 수량 데이터를 `'측정일/월'`과 `'시간'` 기준으로 합병한다.\n",
    "이를 위해 수질 데이터의 `'측정일/월'` 특성 이름을 `'시간'`으로 변경한다."
   ]
  },
  {
   "cell_type": "code",
   "execution_count": 34,
   "metadata": {},
   "outputs": [
    {
     "data": {
      "text/html": [
       "<div>\n",
       "<style scoped>\n",
       "    .dataframe tbody tr th:only-of-type {\n",
       "        vertical-align: middle;\n",
       "    }\n",
       "\n",
       "    .dataframe tbody tr th {\n",
       "        vertical-align: top;\n",
       "    }\n",
       "\n",
       "    .dataframe thead th {\n",
       "        text-align: right;\n",
       "    }\n",
       "</style>\n",
       "<table border=\"1\" class=\"dataframe\">\n",
       "  <thead>\n",
       "    <tr style=\"text-align: right;\">\n",
       "      <th></th>\n",
       "      <th>시간</th>\n",
       "      <th>측정소명</th>\n",
       "      <th>수온 ℃</th>\n",
       "      <th>수소이온농도</th>\n",
       "      <th>전기전도도 μS/cm</th>\n",
       "      <th>용존산소 mg/L</th>\n",
       "      <th>총유기탄소 mg/L</th>\n",
       "      <th>총질소 mg/L</th>\n",
       "      <th>총인 mg/L</th>\n",
       "      <th>클로로필-a mg/㎥</th>\n",
       "    </tr>\n",
       "  </thead>\n",
       "  <tbody>\n",
       "    <tr>\n",
       "      <th>0</th>\n",
       "      <td>2013-01-01 00</td>\n",
       "      <td>용봉</td>\n",
       "      <td>3.9</td>\n",
       "      <td>6.9</td>\n",
       "      <td>374.0</td>\n",
       "      <td>11.4</td>\n",
       "      <td>2.5</td>\n",
       "      <td>NaN</td>\n",
       "      <td>NaN</td>\n",
       "      <td>7.2</td>\n",
       "    </tr>\n",
       "    <tr>\n",
       "      <th>1</th>\n",
       "      <td>2013-01-01 01</td>\n",
       "      <td>용봉</td>\n",
       "      <td>3.9</td>\n",
       "      <td>6.9</td>\n",
       "      <td>375.0</td>\n",
       "      <td>11.4</td>\n",
       "      <td>2.5</td>\n",
       "      <td>NaN</td>\n",
       "      <td>NaN</td>\n",
       "      <td>6.9</td>\n",
       "    </tr>\n",
       "    <tr>\n",
       "      <th>2</th>\n",
       "      <td>2013-01-01 02</td>\n",
       "      <td>용봉</td>\n",
       "      <td>4.0</td>\n",
       "      <td>6.9</td>\n",
       "      <td>374.0</td>\n",
       "      <td>11.4</td>\n",
       "      <td>2.5</td>\n",
       "      <td>NaN</td>\n",
       "      <td>NaN</td>\n",
       "      <td>6.8</td>\n",
       "    </tr>\n",
       "    <tr>\n",
       "      <th>3</th>\n",
       "      <td>2013-01-01 03</td>\n",
       "      <td>용봉</td>\n",
       "      <td>4.1</td>\n",
       "      <td>6.9</td>\n",
       "      <td>375.0</td>\n",
       "      <td>11.4</td>\n",
       "      <td>2.5</td>\n",
       "      <td>NaN</td>\n",
       "      <td>NaN</td>\n",
       "      <td>6.9</td>\n",
       "    </tr>\n",
       "    <tr>\n",
       "      <th>4</th>\n",
       "      <td>2013-01-01 04</td>\n",
       "      <td>용봉</td>\n",
       "      <td>4.0</td>\n",
       "      <td>6.9</td>\n",
       "      <td>380.0</td>\n",
       "      <td>11.3</td>\n",
       "      <td>2.6</td>\n",
       "      <td>NaN</td>\n",
       "      <td>NaN</td>\n",
       "      <td>6.9</td>\n",
       "    </tr>\n",
       "    <tr>\n",
       "      <th>...</th>\n",
       "      <td>...</td>\n",
       "      <td>...</td>\n",
       "      <td>...</td>\n",
       "      <td>...</td>\n",
       "      <td>...</td>\n",
       "      <td>...</td>\n",
       "      <td>...</td>\n",
       "      <td>...</td>\n",
       "      <td>...</td>\n",
       "      <td>...</td>\n",
       "    </tr>\n",
       "    <tr>\n",
       "      <th>82252</th>\n",
       "      <td>2022-05-23 19</td>\n",
       "      <td>용봉</td>\n",
       "      <td>26.6</td>\n",
       "      <td>6.9</td>\n",
       "      <td>419.0</td>\n",
       "      <td>NaN</td>\n",
       "      <td>6.7</td>\n",
       "      <td>5.825</td>\n",
       "      <td>0.108</td>\n",
       "      <td>66.2</td>\n",
       "    </tr>\n",
       "    <tr>\n",
       "      <th>82253</th>\n",
       "      <td>2022-05-23 20</td>\n",
       "      <td>용봉</td>\n",
       "      <td>26.3</td>\n",
       "      <td>6.8</td>\n",
       "      <td>425.0</td>\n",
       "      <td>NaN</td>\n",
       "      <td>6.5</td>\n",
       "      <td>5.803</td>\n",
       "      <td>0.107</td>\n",
       "      <td>61.2</td>\n",
       "    </tr>\n",
       "    <tr>\n",
       "      <th>82254</th>\n",
       "      <td>2022-05-23 21</td>\n",
       "      <td>용봉</td>\n",
       "      <td>25.9</td>\n",
       "      <td>6.8</td>\n",
       "      <td>417.0</td>\n",
       "      <td>NaN</td>\n",
       "      <td>6.7</td>\n",
       "      <td>5.909</td>\n",
       "      <td>0.107</td>\n",
       "      <td>58.3</td>\n",
       "    </tr>\n",
       "    <tr>\n",
       "      <th>82255</th>\n",
       "      <td>2022-05-23 22</td>\n",
       "      <td>용봉</td>\n",
       "      <td>25.7</td>\n",
       "      <td>6.8</td>\n",
       "      <td>420.0</td>\n",
       "      <td>NaN</td>\n",
       "      <td>6.4</td>\n",
       "      <td>5.921</td>\n",
       "      <td>0.106</td>\n",
       "      <td>54.4</td>\n",
       "    </tr>\n",
       "    <tr>\n",
       "      <th>82256</th>\n",
       "      <td>2022-05-23 23</td>\n",
       "      <td>용봉</td>\n",
       "      <td>25.5</td>\n",
       "      <td>6.8</td>\n",
       "      <td>411.0</td>\n",
       "      <td>NaN</td>\n",
       "      <td>6.4</td>\n",
       "      <td>5.818</td>\n",
       "      <td>0.106</td>\n",
       "      <td>52.3</td>\n",
       "    </tr>\n",
       "  </tbody>\n",
       "</table>\n",
       "<p>82257 rows × 10 columns</p>\n",
       "</div>"
      ],
      "text/plain": [
       "                  시간 측정소명  수온 ℃  수소이온농도  전기전도도 μS/cm  용존산소 mg/L  총유기탄소 mg/L  \\\n",
       "0      2013-01-01 00   용봉   3.9     6.9        374.0       11.4         2.5   \n",
       "1      2013-01-01 01   용봉   3.9     6.9        375.0       11.4         2.5   \n",
       "2      2013-01-01 02   용봉   4.0     6.9        374.0       11.4         2.5   \n",
       "3      2013-01-01 03   용봉   4.1     6.9        375.0       11.4         2.5   \n",
       "4      2013-01-01 04   용봉   4.0     6.9        380.0       11.3         2.6   \n",
       "...              ...  ...   ...     ...          ...        ...         ...   \n",
       "82252  2022-05-23 19   용봉  26.6     6.9        419.0        NaN         6.7   \n",
       "82253  2022-05-23 20   용봉  26.3     6.8        425.0        NaN         6.5   \n",
       "82254  2022-05-23 21   용봉  25.9     6.8        417.0        NaN         6.7   \n",
       "82255  2022-05-23 22   용봉  25.7     6.8        420.0        NaN         6.4   \n",
       "82256  2022-05-23 23   용봉  25.5     6.8        411.0        NaN         6.4   \n",
       "\n",
       "       총질소 mg/L  총인 mg/L  클로로필-a mg/㎥  \n",
       "0           NaN      NaN          7.2  \n",
       "1           NaN      NaN          6.9  \n",
       "2           NaN      NaN          6.8  \n",
       "3           NaN      NaN          6.9  \n",
       "4           NaN      NaN          6.9  \n",
       "...         ...      ...          ...  \n",
       "82252     5.825    0.108         66.2  \n",
       "82253     5.803    0.107         61.2  \n",
       "82254     5.909    0.107         58.3  \n",
       "82255     5.921    0.106         54.4  \n",
       "82256     5.818    0.106         52.3  \n",
       "\n",
       "[82257 rows x 10 columns]"
      ]
     },
     "execution_count": 34,
     "metadata": {},
     "output_type": "execute_result"
    }
   ],
   "source": [
    "scb_yearly_df13 = scb_yearly_df13.rename(columns={'측정일/월':'시간'})\n",
    "scb_yearly_df13"
   ]
  },
  {
   "cell_type": "markdown",
   "metadata": {},
   "source": [
    "이제 `'시간'` 특성 기준으로 합병(merge)이 가능하다.\n",
    "- `how=outer` 키워드 인자: 두 데이터에 사용된 모든 시간대의 데이터를 모두 추가한다."
   ]
  },
  {
   "cell_type": "code",
   "execution_count": 35,
   "metadata": {},
   "outputs": [
    {
     "name": "stdout",
     "output_type": "stream",
     "text": [
      "<class 'pandas.core.frame.DataFrame'>\n",
      "Int64Index: 84380 entries, 0 to 84379\n",
      "Data columns (total 14 columns):\n",
      " #   Column       Non-Null Count  Dtype  \n",
      "---  ------       --------------  -----  \n",
      " 0   시간           84380 non-null  object \n",
      " 1   측정소명         82257 non-null  object \n",
      " 2   수온 ℃         64574 non-null  float64\n",
      " 3   수소이온농도       64561 non-null  float64\n",
      " 4   전기전도도 μS/cm  64524 non-null  float64\n",
      " 5   용존산소 mg/L    62656 non-null  float64\n",
      " 6   총유기탄소 mg/L   58675 non-null  float64\n",
      " 7   총질소 mg/L     59981 non-null  float64\n",
      " 8   총인 mg/L      58997 non-null  float64\n",
      " 9   클로로필-a mg/㎥  62876 non-null  float64\n",
      " 10   상류수위(EL.m)  84354 non-null  float64\n",
      " 11   하류수위(EL.m)  84354 non-null  float64\n",
      " 12   유입량(㎥/s)    84354 non-null  float64\n",
      " 13   방류량(㎥/s)    84354 non-null  float64\n",
      "dtypes: float64(12), object(2)\n",
      "memory usage: 9.7+ MB\n"
     ]
    }
   ],
   "source": [
    "scb_data = pd.merge(scb_yearly_df13, scb_flow_yearly_hour_df, how='outer')\n",
    "scb_data.info()"
   ]
  },
  {
   "cell_type": "code",
   "execution_count": 36,
   "metadata": {},
   "outputs": [
    {
     "data": {
      "text/html": [
       "<div>\n",
       "<style scoped>\n",
       "    .dataframe tbody tr th:only-of-type {\n",
       "        vertical-align: middle;\n",
       "    }\n",
       "\n",
       "    .dataframe tbody tr th {\n",
       "        vertical-align: top;\n",
       "    }\n",
       "\n",
       "    .dataframe thead th {\n",
       "        text-align: right;\n",
       "    }\n",
       "</style>\n",
       "<table border=\"1\" class=\"dataframe\">\n",
       "  <thead>\n",
       "    <tr style=\"text-align: right;\">\n",
       "      <th></th>\n",
       "      <th>시간</th>\n",
       "      <th>측정소명</th>\n",
       "      <th>수온 ℃</th>\n",
       "      <th>수소이온농도</th>\n",
       "      <th>전기전도도 μS/cm</th>\n",
       "      <th>용존산소 mg/L</th>\n",
       "      <th>총유기탄소 mg/L</th>\n",
       "      <th>총질소 mg/L</th>\n",
       "      <th>총인 mg/L</th>\n",
       "      <th>클로로필-a mg/㎥</th>\n",
       "      <th>상류수위(EL.m)</th>\n",
       "      <th>하류수위(EL.m)</th>\n",
       "      <th>유입량(㎥/s)</th>\n",
       "      <th>방류량(㎥/s)</th>\n",
       "    </tr>\n",
       "  </thead>\n",
       "  <tbody>\n",
       "    <tr>\n",
       "      <th>0</th>\n",
       "      <td>2013-01-01 00</td>\n",
       "      <td>용봉</td>\n",
       "      <td>3.9</td>\n",
       "      <td>6.9</td>\n",
       "      <td>374.0</td>\n",
       "      <td>11.4</td>\n",
       "      <td>2.5</td>\n",
       "      <td>NaN</td>\n",
       "      <td>NaN</td>\n",
       "      <td>7.2</td>\n",
       "      <td>7.500000</td>\n",
       "      <td>3.770000</td>\n",
       "      <td>19.773333</td>\n",
       "      <td>19.748333</td>\n",
       "    </tr>\n",
       "    <tr>\n",
       "      <th>1</th>\n",
       "      <td>2013-01-01 01</td>\n",
       "      <td>용봉</td>\n",
       "      <td>3.9</td>\n",
       "      <td>6.9</td>\n",
       "      <td>375.0</td>\n",
       "      <td>11.4</td>\n",
       "      <td>2.5</td>\n",
       "      <td>NaN</td>\n",
       "      <td>NaN</td>\n",
       "      <td>6.9</td>\n",
       "      <td>7.500000</td>\n",
       "      <td>3.770000</td>\n",
       "      <td>19.701667</td>\n",
       "      <td>19.706667</td>\n",
       "    </tr>\n",
       "    <tr>\n",
       "      <th>2</th>\n",
       "      <td>2013-01-01 02</td>\n",
       "      <td>용봉</td>\n",
       "      <td>4.0</td>\n",
       "      <td>6.9</td>\n",
       "      <td>374.0</td>\n",
       "      <td>11.4</td>\n",
       "      <td>2.5</td>\n",
       "      <td>NaN</td>\n",
       "      <td>NaN</td>\n",
       "      <td>6.8</td>\n",
       "      <td>7.500000</td>\n",
       "      <td>3.770000</td>\n",
       "      <td>19.748333</td>\n",
       "      <td>19.723333</td>\n",
       "    </tr>\n",
       "    <tr>\n",
       "      <th>3</th>\n",
       "      <td>2013-01-01 03</td>\n",
       "      <td>용봉</td>\n",
       "      <td>4.1</td>\n",
       "      <td>6.9</td>\n",
       "      <td>375.0</td>\n",
       "      <td>11.4</td>\n",
       "      <td>2.5</td>\n",
       "      <td>NaN</td>\n",
       "      <td>NaN</td>\n",
       "      <td>6.9</td>\n",
       "      <td>7.500000</td>\n",
       "      <td>3.770000</td>\n",
       "      <td>19.613333</td>\n",
       "      <td>19.610000</td>\n",
       "    </tr>\n",
       "    <tr>\n",
       "      <th>4</th>\n",
       "      <td>2013-01-01 04</td>\n",
       "      <td>용봉</td>\n",
       "      <td>4.0</td>\n",
       "      <td>6.9</td>\n",
       "      <td>380.0</td>\n",
       "      <td>11.3</td>\n",
       "      <td>2.6</td>\n",
       "      <td>NaN</td>\n",
       "      <td>NaN</td>\n",
       "      <td>6.9</td>\n",
       "      <td>7.500000</td>\n",
       "      <td>3.770000</td>\n",
       "      <td>19.661667</td>\n",
       "      <td>19.665000</td>\n",
       "    </tr>\n",
       "    <tr>\n",
       "      <th>...</th>\n",
       "      <td>...</td>\n",
       "      <td>...</td>\n",
       "      <td>...</td>\n",
       "      <td>...</td>\n",
       "      <td>...</td>\n",
       "      <td>...</td>\n",
       "      <td>...</td>\n",
       "      <td>...</td>\n",
       "      <td>...</td>\n",
       "      <td>...</td>\n",
       "      <td>...</td>\n",
       "      <td>...</td>\n",
       "      <td>...</td>\n",
       "      <td>...</td>\n",
       "    </tr>\n",
       "    <tr>\n",
       "      <th>84375</th>\n",
       "      <td>2022-08-17 15</td>\n",
       "      <td>NaN</td>\n",
       "      <td>NaN</td>\n",
       "      <td>NaN</td>\n",
       "      <td>NaN</td>\n",
       "      <td>NaN</td>\n",
       "      <td>NaN</td>\n",
       "      <td>NaN</td>\n",
       "      <td>NaN</td>\n",
       "      <td>NaN</td>\n",
       "      <td>5.536667</td>\n",
       "      <td>1.618333</td>\n",
       "      <td>29.261667</td>\n",
       "      <td>25.190000</td>\n",
       "    </tr>\n",
       "    <tr>\n",
       "      <th>84376</th>\n",
       "      <td>2022-08-17 16</td>\n",
       "      <td>NaN</td>\n",
       "      <td>NaN</td>\n",
       "      <td>NaN</td>\n",
       "      <td>NaN</td>\n",
       "      <td>NaN</td>\n",
       "      <td>NaN</td>\n",
       "      <td>NaN</td>\n",
       "      <td>NaN</td>\n",
       "      <td>NaN</td>\n",
       "      <td>5.525000</td>\n",
       "      <td>1.638333</td>\n",
       "      <td>23.243333</td>\n",
       "      <td>38.923333</td>\n",
       "    </tr>\n",
       "    <tr>\n",
       "      <th>84377</th>\n",
       "      <td>2022-08-17 17</td>\n",
       "      <td>NaN</td>\n",
       "      <td>NaN</td>\n",
       "      <td>NaN</td>\n",
       "      <td>NaN</td>\n",
       "      <td>NaN</td>\n",
       "      <td>NaN</td>\n",
       "      <td>NaN</td>\n",
       "      <td>NaN</td>\n",
       "      <td>NaN</td>\n",
       "      <td>5.483333</td>\n",
       "      <td>1.626667</td>\n",
       "      <td>29.068333</td>\n",
       "      <td>44.878333</td>\n",
       "    </tr>\n",
       "    <tr>\n",
       "      <th>84378</th>\n",
       "      <td>2022-08-17 18</td>\n",
       "      <td>NaN</td>\n",
       "      <td>NaN</td>\n",
       "      <td>NaN</td>\n",
       "      <td>NaN</td>\n",
       "      <td>NaN</td>\n",
       "      <td>NaN</td>\n",
       "      <td>NaN</td>\n",
       "      <td>NaN</td>\n",
       "      <td>NaN</td>\n",
       "      <td>5.470000</td>\n",
       "      <td>1.566667</td>\n",
       "      <td>19.131667</td>\n",
       "      <td>14.925000</td>\n",
       "    </tr>\n",
       "    <tr>\n",
       "      <th>84379</th>\n",
       "      <td>2022-08-17 19</td>\n",
       "      <td>NaN</td>\n",
       "      <td>NaN</td>\n",
       "      <td>NaN</td>\n",
       "      <td>NaN</td>\n",
       "      <td>NaN</td>\n",
       "      <td>NaN</td>\n",
       "      <td>NaN</td>\n",
       "      <td>NaN</td>\n",
       "      <td>NaN</td>\n",
       "      <td>5.468333</td>\n",
       "      <td>1.581667</td>\n",
       "      <td>18.811667</td>\n",
       "      <td>19.368333</td>\n",
       "    </tr>\n",
       "  </tbody>\n",
       "</table>\n",
       "<p>84380 rows × 14 columns</p>\n",
       "</div>"
      ],
      "text/plain": [
       "                  시간 측정소명  수온 ℃  수소이온농도  전기전도도 μS/cm  용존산소 mg/L  총유기탄소 mg/L  \\\n",
       "0      2013-01-01 00   용봉   3.9     6.9        374.0       11.4         2.5   \n",
       "1      2013-01-01 01   용봉   3.9     6.9        375.0       11.4         2.5   \n",
       "2      2013-01-01 02   용봉   4.0     6.9        374.0       11.4         2.5   \n",
       "3      2013-01-01 03   용봉   4.1     6.9        375.0       11.4         2.5   \n",
       "4      2013-01-01 04   용봉   4.0     6.9        380.0       11.3         2.6   \n",
       "...              ...  ...   ...     ...          ...        ...         ...   \n",
       "84375  2022-08-17 15  NaN   NaN     NaN          NaN        NaN         NaN   \n",
       "84376  2022-08-17 16  NaN   NaN     NaN          NaN        NaN         NaN   \n",
       "84377  2022-08-17 17  NaN   NaN     NaN          NaN        NaN         NaN   \n",
       "84378  2022-08-17 18  NaN   NaN     NaN          NaN        NaN         NaN   \n",
       "84379  2022-08-17 19  NaN   NaN     NaN          NaN        NaN         NaN   \n",
       "\n",
       "       총질소 mg/L  총인 mg/L  클로로필-a mg/㎥   상류수위(EL.m)   하류수위(EL.m)   유입량(㎥/s)  \\\n",
       "0           NaN      NaN          7.2     7.500000     3.770000  19.773333   \n",
       "1           NaN      NaN          6.9     7.500000     3.770000  19.701667   \n",
       "2           NaN      NaN          6.8     7.500000     3.770000  19.748333   \n",
       "3           NaN      NaN          6.9     7.500000     3.770000  19.613333   \n",
       "4           NaN      NaN          6.9     7.500000     3.770000  19.661667   \n",
       "...         ...      ...          ...          ...          ...        ...   \n",
       "84375       NaN      NaN          NaN     5.536667     1.618333  29.261667   \n",
       "84376       NaN      NaN          NaN     5.525000     1.638333  23.243333   \n",
       "84377       NaN      NaN          NaN     5.483333     1.626667  29.068333   \n",
       "84378       NaN      NaN          NaN     5.470000     1.566667  19.131667   \n",
       "84379       NaN      NaN          NaN     5.468333     1.581667  18.811667   \n",
       "\n",
       "        방류량(㎥/s)  \n",
       "0      19.748333  \n",
       "1      19.706667  \n",
       "2      19.723333  \n",
       "3      19.610000  \n",
       "4      19.665000  \n",
       "...          ...  \n",
       "84375  25.190000  \n",
       "84376  38.923333  \n",
       "84377  44.878333  \n",
       "84378  14.925000  \n",
       "84379  19.368333  \n",
       "\n",
       "[84380 rows x 14 columns]"
      ]
     },
     "execution_count": 36,
     "metadata": {},
     "output_type": "execute_result"
    }
   ],
   "source": [
    "scb_data"
   ]
  },
  {
   "cell_type": "markdown",
   "metadata": {},
   "source": [
    "수질 데이터는 총 82,257개의 데이터 샘플이 포함된다."
   ]
  },
  {
   "cell_type": "code",
   "execution_count": 37,
   "metadata": {},
   "outputs": [
    {
     "data": {
      "text/plain": [
       "82257"
      ]
     },
     "execution_count": 37,
     "metadata": {},
     "output_type": "execute_result"
    }
   ],
   "source": [
    "scb_len = len(scb_yearly_df13)\n",
    "scb_len\n"
   ]
  },
  {
   "cell_type": "markdown",
   "metadata": {},
   "source": [
    "수질 데이터 크기만큼만 합병된 데이터를 다룬다. (<font color='red'>이유는 수량 데이터 뒷쪽이 추가되었기 때문?</font>)"
   ]
  },
  {
   "cell_type": "code",
   "execution_count": 38,
   "metadata": {},
   "outputs": [],
   "source": [
    "scb_data = scb_data[:scb_len]"
   ]
  },
  {
   "cell_type": "markdown",
   "metadata": {},
   "source": [
    "특성명을 다듬는다. (<font color='red'>필요?</font>)"
   ]
  },
  {
   "cell_type": "code",
   "execution_count": 39,
   "metadata": {},
   "outputs": [
    {
     "name": "stdout",
     "output_type": "stream",
     "text": [
      "<class 'pandas.core.frame.DataFrame'>\n",
      "Int64Index: 82257 entries, 0 to 82256\n",
      "Data columns (total 14 columns):\n",
      " #   Column       Non-Null Count  Dtype  \n",
      "---  ------       --------------  -----  \n",
      " 0   시간           82257 non-null  object \n",
      " 1   측정소명         82257 non-null  object \n",
      " 2   수온 ℃         64574 non-null  float64\n",
      " 3   수소이온농도       64561 non-null  float64\n",
      " 4   전기전도도 μS/cm  64524 non-null  float64\n",
      " 5   용존산소 mg/L    62656 non-null  float64\n",
      " 6   총유기탄소 mg/L   58675 non-null  float64\n",
      " 7   총질소 mg/L     59981 non-null  float64\n",
      " 8   총인 mg/L      58997 non-null  float64\n",
      " 9   클로로필-a mg/㎥  62876 non-null  float64\n",
      " 10  상류수위(EL.m)   82231 non-null  float64\n",
      " 11  하류수위(EL.m)   82231 non-null  float64\n",
      " 12  유입량(㎥/s)     82231 non-null  float64\n",
      " 13  방류량(㎥/s)     82231 non-null  float64\n",
      "dtypes: float64(12), object(2)\n",
      "memory usage: 9.4+ MB\n"
     ]
    }
   ],
   "source": [
    "scb_data.columns = [x.strip() for x in list(scb_data.columns)]\n",
    "scb_data.info()"
   ]
  },
  {
   "cell_type": "markdown",
   "metadata": {},
   "source": [
    "**특성 선택**\n",
    "\n",
    "훈련에 사용할 특성을 선택한다."
   ]
  },
  {
   "cell_type": "code",
   "execution_count": 40,
   "metadata": {},
   "outputs": [],
   "source": [
    "scb_features = list(scb_data.columns)\n",
    "scb_features = scb_features[:3]  + scb_features[4:5] + scb_features[6:-3] + scb_features[-1:]\n",
    "scb_data = scb_data.loc[:, scb_features]"
   ]
  },
  {
   "cell_type": "code",
   "execution_count": 41,
   "metadata": {},
   "outputs": [
    {
     "data": {
      "text/html": [
       "<div>\n",
       "<style scoped>\n",
       "    .dataframe tbody tr th:only-of-type {\n",
       "        vertical-align: middle;\n",
       "    }\n",
       "\n",
       "    .dataframe tbody tr th {\n",
       "        vertical-align: top;\n",
       "    }\n",
       "\n",
       "    .dataframe thead th {\n",
       "        text-align: right;\n",
       "    }\n",
       "</style>\n",
       "<table border=\"1\" class=\"dataframe\">\n",
       "  <thead>\n",
       "    <tr style=\"text-align: right;\">\n",
       "      <th></th>\n",
       "      <th>시간</th>\n",
       "      <th>측정소명</th>\n",
       "      <th>수온 ℃</th>\n",
       "      <th>전기전도도 μS/cm</th>\n",
       "      <th>총유기탄소 mg/L</th>\n",
       "      <th>총질소 mg/L</th>\n",
       "      <th>총인 mg/L</th>\n",
       "      <th>클로로필-a mg/㎥</th>\n",
       "      <th>상류수위(EL.m)</th>\n",
       "      <th>방류량(㎥/s)</th>\n",
       "    </tr>\n",
       "  </thead>\n",
       "  <tbody>\n",
       "    <tr>\n",
       "      <th>0</th>\n",
       "      <td>2013-01-01 00</td>\n",
       "      <td>용봉</td>\n",
       "      <td>3.9</td>\n",
       "      <td>374.0</td>\n",
       "      <td>2.5</td>\n",
       "      <td>NaN</td>\n",
       "      <td>NaN</td>\n",
       "      <td>7.2</td>\n",
       "      <td>7.50</td>\n",
       "      <td>19.748333</td>\n",
       "    </tr>\n",
       "    <tr>\n",
       "      <th>1</th>\n",
       "      <td>2013-01-01 01</td>\n",
       "      <td>용봉</td>\n",
       "      <td>3.9</td>\n",
       "      <td>375.0</td>\n",
       "      <td>2.5</td>\n",
       "      <td>NaN</td>\n",
       "      <td>NaN</td>\n",
       "      <td>6.9</td>\n",
       "      <td>7.50</td>\n",
       "      <td>19.706667</td>\n",
       "    </tr>\n",
       "    <tr>\n",
       "      <th>2</th>\n",
       "      <td>2013-01-01 02</td>\n",
       "      <td>용봉</td>\n",
       "      <td>4.0</td>\n",
       "      <td>374.0</td>\n",
       "      <td>2.5</td>\n",
       "      <td>NaN</td>\n",
       "      <td>NaN</td>\n",
       "      <td>6.8</td>\n",
       "      <td>7.50</td>\n",
       "      <td>19.723333</td>\n",
       "    </tr>\n",
       "    <tr>\n",
       "      <th>3</th>\n",
       "      <td>2013-01-01 03</td>\n",
       "      <td>용봉</td>\n",
       "      <td>4.1</td>\n",
       "      <td>375.0</td>\n",
       "      <td>2.5</td>\n",
       "      <td>NaN</td>\n",
       "      <td>NaN</td>\n",
       "      <td>6.9</td>\n",
       "      <td>7.50</td>\n",
       "      <td>19.610000</td>\n",
       "    </tr>\n",
       "    <tr>\n",
       "      <th>4</th>\n",
       "      <td>2013-01-01 04</td>\n",
       "      <td>용봉</td>\n",
       "      <td>4.0</td>\n",
       "      <td>380.0</td>\n",
       "      <td>2.6</td>\n",
       "      <td>NaN</td>\n",
       "      <td>NaN</td>\n",
       "      <td>6.9</td>\n",
       "      <td>7.50</td>\n",
       "      <td>19.665000</td>\n",
       "    </tr>\n",
       "    <tr>\n",
       "      <th>...</th>\n",
       "      <td>...</td>\n",
       "      <td>...</td>\n",
       "      <td>...</td>\n",
       "      <td>...</td>\n",
       "      <td>...</td>\n",
       "      <td>...</td>\n",
       "      <td>...</td>\n",
       "      <td>...</td>\n",
       "      <td>...</td>\n",
       "      <td>...</td>\n",
       "    </tr>\n",
       "    <tr>\n",
       "      <th>82252</th>\n",
       "      <td>2022-05-23 19</td>\n",
       "      <td>용봉</td>\n",
       "      <td>26.6</td>\n",
       "      <td>419.0</td>\n",
       "      <td>6.7</td>\n",
       "      <td>5.825</td>\n",
       "      <td>0.108</td>\n",
       "      <td>66.2</td>\n",
       "      <td>5.44</td>\n",
       "      <td>12.766667</td>\n",
       "    </tr>\n",
       "    <tr>\n",
       "      <th>82253</th>\n",
       "      <td>2022-05-23 20</td>\n",
       "      <td>용봉</td>\n",
       "      <td>26.3</td>\n",
       "      <td>425.0</td>\n",
       "      <td>6.5</td>\n",
       "      <td>5.803</td>\n",
       "      <td>0.107</td>\n",
       "      <td>61.2</td>\n",
       "      <td>5.44</td>\n",
       "      <td>12.786667</td>\n",
       "    </tr>\n",
       "    <tr>\n",
       "      <th>82254</th>\n",
       "      <td>2022-05-23 21</td>\n",
       "      <td>용봉</td>\n",
       "      <td>25.9</td>\n",
       "      <td>417.0</td>\n",
       "      <td>6.7</td>\n",
       "      <td>5.909</td>\n",
       "      <td>0.107</td>\n",
       "      <td>58.3</td>\n",
       "      <td>5.44</td>\n",
       "      <td>12.743333</td>\n",
       "    </tr>\n",
       "    <tr>\n",
       "      <th>82255</th>\n",
       "      <td>2022-05-23 22</td>\n",
       "      <td>용봉</td>\n",
       "      <td>25.7</td>\n",
       "      <td>420.0</td>\n",
       "      <td>6.4</td>\n",
       "      <td>5.921</td>\n",
       "      <td>0.106</td>\n",
       "      <td>54.4</td>\n",
       "      <td>5.44</td>\n",
       "      <td>12.700000</td>\n",
       "    </tr>\n",
       "    <tr>\n",
       "      <th>82256</th>\n",
       "      <td>2022-05-23 23</td>\n",
       "      <td>용봉</td>\n",
       "      <td>25.5</td>\n",
       "      <td>411.0</td>\n",
       "      <td>6.4</td>\n",
       "      <td>5.818</td>\n",
       "      <td>0.106</td>\n",
       "      <td>52.3</td>\n",
       "      <td>5.44</td>\n",
       "      <td>12.770000</td>\n",
       "    </tr>\n",
       "  </tbody>\n",
       "</table>\n",
       "<p>82257 rows × 10 columns</p>\n",
       "</div>"
      ],
      "text/plain": [
       "                  시간 측정소명  수온 ℃  전기전도도 μS/cm  총유기탄소 mg/L  총질소 mg/L  총인 mg/L  \\\n",
       "0      2013-01-01 00   용봉   3.9        374.0         2.5       NaN      NaN   \n",
       "1      2013-01-01 01   용봉   3.9        375.0         2.5       NaN      NaN   \n",
       "2      2013-01-01 02   용봉   4.0        374.0         2.5       NaN      NaN   \n",
       "3      2013-01-01 03   용봉   4.1        375.0         2.5       NaN      NaN   \n",
       "4      2013-01-01 04   용봉   4.0        380.0         2.6       NaN      NaN   \n",
       "...              ...  ...   ...          ...         ...       ...      ...   \n",
       "82252  2022-05-23 19   용봉  26.6        419.0         6.7     5.825    0.108   \n",
       "82253  2022-05-23 20   용봉  26.3        425.0         6.5     5.803    0.107   \n",
       "82254  2022-05-23 21   용봉  25.9        417.0         6.7     5.909    0.107   \n",
       "82255  2022-05-23 22   용봉  25.7        420.0         6.4     5.921    0.106   \n",
       "82256  2022-05-23 23   용봉  25.5        411.0         6.4     5.818    0.106   \n",
       "\n",
       "       클로로필-a mg/㎥  상류수위(EL.m)   방류량(㎥/s)  \n",
       "0              7.2        7.50  19.748333  \n",
       "1              6.9        7.50  19.706667  \n",
       "2              6.8        7.50  19.723333  \n",
       "3              6.9        7.50  19.610000  \n",
       "4              6.9        7.50  19.665000  \n",
       "...            ...         ...        ...  \n",
       "82252         66.2        5.44  12.766667  \n",
       "82253         61.2        5.44  12.786667  \n",
       "82254         58.3        5.44  12.743333  \n",
       "82255         54.4        5.44  12.700000  \n",
       "82256         52.3        5.44  12.770000  \n",
       "\n",
       "[82257 rows x 10 columns]"
      ]
     },
     "execution_count": 41,
     "metadata": {},
     "output_type": "execute_result"
    }
   ],
   "source": [
    "scb_data"
   ]
  },
  {
   "cell_type": "code",
   "execution_count": 42,
   "metadata": {},
   "outputs": [
    {
     "name": "stdout",
     "output_type": "stream",
     "text": [
      "<class 'pandas.core.frame.DataFrame'>\n",
      "Int64Index: 82257 entries, 0 to 82256\n",
      "Data columns (total 10 columns):\n",
      " #   Column       Non-Null Count  Dtype  \n",
      "---  ------       --------------  -----  \n",
      " 0   시간           82257 non-null  object \n",
      " 1   측정소명         82257 non-null  object \n",
      " 2   수온 ℃         64574 non-null  float64\n",
      " 3   전기전도도 μS/cm  64524 non-null  float64\n",
      " 4   총유기탄소 mg/L   58675 non-null  float64\n",
      " 5   총질소 mg/L     59981 non-null  float64\n",
      " 6   총인 mg/L      58997 non-null  float64\n",
      " 7   클로로필-a mg/㎥  62876 non-null  float64\n",
      " 8   상류수위(EL.m)   82231 non-null  float64\n",
      " 9   방류량(㎥/s)     82231 non-null  float64\n",
      "dtypes: float64(8), object(2)\n",
      "memory usage: 6.9+ MB\n"
     ]
    }
   ],
   "source": [
    "scb_data.info()"
   ]
  },
  {
   "cell_type": "markdown",
   "metadata": {},
   "source": [
    "**결측치 확인**"
   ]
  },
  {
   "cell_type": "markdown",
   "metadata": {},
   "source": [
    "- 특성별 결측치 비율"
   ]
  },
  {
   "cell_type": "code",
   "execution_count": 43,
   "metadata": {},
   "outputs": [
    {
     "data": {
      "text/plain": [
       "시간             0.000000\n",
       "측정소명           0.000000\n",
       "수온 ℃           0.214973\n",
       "전기전도도 μS/cm    0.215580\n",
       "총유기탄소 mg/L     0.286687\n",
       "총질소 mg/L       0.270810\n",
       "총인 mg/L        0.282772\n",
       "클로로필-a mg/㎥    0.235615\n",
       "상류수위(EL.m)     0.000316\n",
       "방류량(㎥/s)       0.000316\n",
       "dtype: float64"
      ]
     },
     "execution_count": 43,
     "metadata": {},
     "output_type": "execute_result"
    }
   ],
   "source": [
    "scb_data.isnull().sum() / len(scb_data)"
   ]
  },
  {
   "cell_type": "markdown",
   "metadata": {},
   "source": [
    "- 결측치 분포 히트맵: 결측치가 한 동안 없는 경우도 존재"
   ]
  },
  {
   "cell_type": "code",
   "execution_count": 44,
   "metadata": {},
   "outputs": [
    {
     "data": {
      "image/png": "[encoded data removed]",
      "text/plain": [
       "<Figure size 432x288 with 1 Axes>"
      ]
     },
     "metadata": {
      "needs_background": "light"
     },
     "output_type": "display_data"
    }
   ],
   "source": [
    "sns.heatmap(scb_data.isnull(), cbar=False)\n",
    "plt.show()"
   ]
  },
  {
   "cell_type": "markdown",
   "metadata": {},
   "source": [
    "수치형 특성들 사이의 피어슨 상관관계를 살펴본다. (<font color='red'>왜 필요?</font>)\n",
    "\n",
    "- `'상류수위'`와 `'방류량'` 을 제외한 나머지 특성들 사이의 상관관계 정도가 매우 높음.\n",
    "- `'상류수위'`와 `'방류량'`의 상관관계 지수가 1임. 둘중에 하나 삭제 가능?"
   ]
  },
  {
   "cell_type": "code",
   "execution_count": 45,
   "metadata": {},
   "outputs": [
    {
     "data": {
      "text/html": [
       "<div>\n",
       "<style scoped>\n",
       "    .dataframe tbody tr th:only-of-type {\n",
       "        vertical-align: middle;\n",
       "    }\n",
       "\n",
       "    .dataframe tbody tr th {\n",
       "        vertical-align: top;\n",
       "    }\n",
       "\n",
       "    .dataframe thead th {\n",
       "        text-align: right;\n",
       "    }\n",
       "</style>\n",
       "<table border=\"1\" class=\"dataframe\">\n",
       "  <thead>\n",
       "    <tr style=\"text-align: right;\">\n",
       "      <th></th>\n",
       "      <th>수온 ℃</th>\n",
       "      <th>전기전도도 μS/cm</th>\n",
       "      <th>총유기탄소 mg/L</th>\n",
       "      <th>총질소 mg/L</th>\n",
       "      <th>총인 mg/L</th>\n",
       "      <th>클로로필-a mg/㎥</th>\n",
       "      <th>상류수위(EL.m)</th>\n",
       "      <th>방류량(㎥/s)</th>\n",
       "    </tr>\n",
       "  </thead>\n",
       "  <tbody>\n",
       "    <tr>\n",
       "      <th>수온 ℃</th>\n",
       "      <td>1.000000</td>\n",
       "      <td>0.997627</td>\n",
       "      <td>0.784735</td>\n",
       "      <td>0.771253</td>\n",
       "      <td>0.753176</td>\n",
       "      <td>0.893317</td>\n",
       "      <td>-0.005975</td>\n",
       "      <td>-0.005975</td>\n",
       "    </tr>\n",
       "    <tr>\n",
       "      <th>전기전도도 μS/cm</th>\n",
       "      <td>0.997627</td>\n",
       "      <td>1.000000</td>\n",
       "      <td>0.784629</td>\n",
       "      <td>0.770361</td>\n",
       "      <td>0.752133</td>\n",
       "      <td>0.891512</td>\n",
       "      <td>-0.005996</td>\n",
       "      <td>-0.005996</td>\n",
       "    </tr>\n",
       "    <tr>\n",
       "      <th>총유기탄소 mg/L</th>\n",
       "      <td>0.784735</td>\n",
       "      <td>0.784629</td>\n",
       "      <td>1.000000</td>\n",
       "      <td>0.698539</td>\n",
       "      <td>0.677277</td>\n",
       "      <td>0.726571</td>\n",
       "      <td>-0.005223</td>\n",
       "      <td>-0.005223</td>\n",
       "    </tr>\n",
       "    <tr>\n",
       "      <th>총질소 mg/L</th>\n",
       "      <td>0.771253</td>\n",
       "      <td>0.770361</td>\n",
       "      <td>0.698539</td>\n",
       "      <td>1.000000</td>\n",
       "      <td>0.884298</td>\n",
       "      <td>0.771919</td>\n",
       "      <td>-0.007758</td>\n",
       "      <td>-0.007758</td>\n",
       "    </tr>\n",
       "    <tr>\n",
       "      <th>총인 mg/L</th>\n",
       "      <td>0.753176</td>\n",
       "      <td>0.752133</td>\n",
       "      <td>0.677277</td>\n",
       "      <td>0.884298</td>\n",
       "      <td>1.000000</td>\n",
       "      <td>0.747514</td>\n",
       "      <td>-0.008128</td>\n",
       "      <td>-0.008128</td>\n",
       "    </tr>\n",
       "    <tr>\n",
       "      <th>클로로필-a mg/㎥</th>\n",
       "      <td>0.893317</td>\n",
       "      <td>0.891512</td>\n",
       "      <td>0.726571</td>\n",
       "      <td>0.771919</td>\n",
       "      <td>0.747514</td>\n",
       "      <td>1.000000</td>\n",
       "      <td>-0.006649</td>\n",
       "      <td>-0.006649</td>\n",
       "    </tr>\n",
       "    <tr>\n",
       "      <th>상류수위(EL.m)</th>\n",
       "      <td>-0.005975</td>\n",
       "      <td>-0.005996</td>\n",
       "      <td>-0.005223</td>\n",
       "      <td>-0.007758</td>\n",
       "      <td>-0.008128</td>\n",
       "      <td>-0.006649</td>\n",
       "      <td>1.000000</td>\n",
       "      <td>1.000000</td>\n",
       "    </tr>\n",
       "    <tr>\n",
       "      <th>방류량(㎥/s)</th>\n",
       "      <td>-0.005975</td>\n",
       "      <td>-0.005996</td>\n",
       "      <td>-0.005223</td>\n",
       "      <td>-0.007758</td>\n",
       "      <td>-0.008128</td>\n",
       "      <td>-0.006649</td>\n",
       "      <td>1.000000</td>\n",
       "      <td>1.000000</td>\n",
       "    </tr>\n",
       "  </tbody>\n",
       "</table>\n",
       "</div>"
      ],
      "text/plain": [
       "                 수온 ℃  전기전도도 μS/cm  총유기탄소 mg/L  총질소 mg/L   총인 mg/L  \\\n",
       "수온 ℃         1.000000     0.997627    0.784735  0.771253  0.753176   \n",
       "전기전도도 μS/cm  0.997627     1.000000    0.784629  0.770361  0.752133   \n",
       "총유기탄소 mg/L   0.784735     0.784629    1.000000  0.698539  0.677277   \n",
       "총질소 mg/L     0.771253     0.770361    0.698539  1.000000  0.884298   \n",
       "총인 mg/L      0.753176     0.752133    0.677277  0.884298  1.000000   \n",
       "클로로필-a mg/㎥  0.893317     0.891512    0.726571  0.771919  0.747514   \n",
       "상류수위(EL.m)  -0.005975    -0.005996   -0.005223 -0.007758 -0.008128   \n",
       "방류량(㎥/s)    -0.005975    -0.005996   -0.005223 -0.007758 -0.008128   \n",
       "\n",
       "             클로로필-a mg/㎥  상류수위(EL.m)  방류량(㎥/s)  \n",
       "수온 ℃            0.893317   -0.005975 -0.005975  \n",
       "전기전도도 μS/cm     0.891512   -0.005996 -0.005996  \n",
       "총유기탄소 mg/L      0.726571   -0.005223 -0.005223  \n",
       "총질소 mg/L        0.771919   -0.007758 -0.007758  \n",
       "총인 mg/L         0.747514   -0.008128 -0.008128  \n",
       "클로로필-a mg/㎥     1.000000   -0.006649 -0.006649  \n",
       "상류수위(EL.m)     -0.006649    1.000000  1.000000  \n",
       "방류량(㎥/s)       -0.006649    1.000000  1.000000  "
      ]
     },
     "execution_count": 45,
     "metadata": {},
     "output_type": "execute_result"
    }
   ],
   "source": [
    "scb_data_numeric = scb_data.iloc[:, 2:]\n",
    "scb_data_numeric.isnull().corr(method='pearson')"
   ]
  },
  {
   "cell_type": "markdown",
   "metadata": {},
   "source": [
    "## 수온 shift 데이터 추가"
   ]
  },
  {
   "cell_type": "markdown",
   "metadata": {},
   "source": [
    "재활용을 위해 통합 데이터를 복제해서 사용한다."
   ]
  },
  {
   "cell_type": "code",
   "execution_count": 46,
   "metadata": {},
   "outputs": [],
   "source": [
    "scb_df = scb_data.copy()  # deep copy"
   ]
  },
  {
   "cell_type": "markdown",
   "metadata": {},
   "source": [
    "**수온 shift 특성 추가**"
   ]
  },
  {
   "cell_type": "markdown",
   "metadata": {},
   "source": [
    "시간별로 쉬프트된 과거 수온 정보가 현재의 클로로필-a 예측에 기여하는 정도도 함께 측정한다.\n",
    "shift 대상은 다음과 같다.\n",
    "\n",
    "- 0 ~ 24시간 이전: 2시간 단위\n",
    "- 24 ~ 76시간 이전: 6시간 단위\n",
    "- <font color='red'>더 이전도 살펴볼 필요가 있나?</font>"
   ]
  },
  {
   "cell_type": "code",
   "execution_count": 47,
   "metadata": {},
   "outputs": [
    {
     "data": {
      "text/plain": [
       "[2, 4, 6, 8, 10, 12, 14, 16, 18, 20, 22, 24, 30, 36, 42, 48, 54, 60, 66, 72]"
      ]
     },
     "execution_count": 47,
     "metadata": {},
     "output_type": "execute_result"
    }
   ],
   "source": [
    "shift_step = list(range(2, 24, 2)) \\\n",
    "             + list(range(24, 73, 6))\n",
    "\n",
    "shift_step"
   ]
  },
  {
   "cell_type": "markdown",
   "metadata": {},
   "source": [
    "**쉬프트 특성 추가 함수**"
   ]
  },
  {
   "cell_type": "markdown",
   "metadata": {},
   "source": [
    "`feature_shifting()` 함수는 특정 특성을 대상으로 shift 적용한 특성을 추가한다.\n",
    "함수의 인자로 다음 세 개의 값을 받는다.\n",
    "\n",
    "- `df`: 기존 데이터프레임\n",
    "- `feature`: shift 대상 특성\n",
    "- `shift_step`: 추가할 shift 스텝의 리스트"
   ]
  },
  {
   "cell_type": "code",
   "execution_count": 48,
   "metadata": {},
   "outputs": [],
   "source": [
    "from pandas import DataFrame\n",
    "import re\n",
    "\n",
    "def feature_shifting(df : DataFrame, feature : str, shift_step : list) -> None:\n",
    "    feature_ = re.split(' |\\(', feature)[0] # 특성 단위 삭제. 공백 또는 여는 괄호 기준 쪼개기\n",
    "    for step in shift_step:\n",
    "        df[str(step) + 'shift ' + feature_] = df[feature].shift(step)"
   ]
  },
  {
   "cell_type": "code",
   "execution_count": 49,
   "metadata": {},
   "outputs": [],
   "source": [
    "feature_shifting(scb_df, '수온 ℃', shift_step)"
   ]
  },
  {
   "cell_type": "code",
   "execution_count": 50,
   "metadata": {},
   "outputs": [
    {
     "data": {
      "text/plain": [
       "Index(['시간', '측정소명', '수온 ℃', '전기전도도 μS/cm', '총유기탄소 mg/L', '총질소 mg/L',\n",
       "       '총인 mg/L', '클로로필-a mg/㎥', '상류수위(EL.m)', '방류량(㎥/s)', '2shift 수온',\n",
       "       '4shift 수온', '6shift 수온', '8shift 수온', '10shift 수온', '12shift 수온',\n",
       "       '14shift 수온', '16shift 수온', '18shift 수온', '20shift 수온', '22shift 수온',\n",
       "       '24shift 수온', '30shift 수온', '36shift 수온', '42shift 수온', '48shift 수온',\n",
       "       '54shift 수온', '60shift 수온', '66shift 수온', '72shift 수온'],\n",
       "      dtype='object')"
      ]
     },
     "execution_count": 50,
     "metadata": {},
     "output_type": "execute_result"
    }
   ],
   "source": [
    "scb_df.columns"
   ]
  },
  {
   "cell_type": "markdown",
   "metadata": {},
   "source": [
    "shift 된 데이터가 추가되기에 그에 상응해서 결측치도 많아진다."
   ]
  },
  {
   "cell_type": "code",
   "execution_count": 51,
   "metadata": {},
   "outputs": [
    {
     "data": {
      "text/plain": [
       "시간                 0\n",
       "측정소명               0\n",
       "수온 ℃           17683\n",
       "전기전도도 μS/cm    17733\n",
       "총유기탄소 mg/L     23582\n",
       "총질소 mg/L       22276\n",
       "총인 mg/L        23260\n",
       "클로로필-a mg/㎥    19381\n",
       "상류수위(EL.m)        26\n",
       "방류량(㎥/s)          26\n",
       "2shift 수온      17685\n",
       "4shift 수온      17687\n",
       "6shift 수온      17689\n",
       "8shift 수온      17691\n",
       "10shift 수온     17693\n",
       "12shift 수온     17695\n",
       "14shift 수온     17695\n",
       "16shift 수온     17697\n",
       "18shift 수온     17699\n",
       "20shift 수온     17701\n",
       "22shift 수온     17703\n",
       "24shift 수온     17705\n",
       "30shift 수온     17711\n",
       "36shift 수온     17717\n",
       "42shift 수온     17723\n",
       "48shift 수온     17729\n",
       "54shift 수온     17735\n",
       "60shift 수온     17741\n",
       "66shift 수온     17747\n",
       "72shift 수온     17753\n",
       "dtype: int64"
      ]
     },
     "execution_count": 51,
     "metadata": {},
     "output_type": "execute_result"
    }
   ],
   "source": [
    "scb_df.isnull().sum()"
   ]
  },
  {
   "cell_type": "markdown",
   "metadata": {},
   "source": [
    "**결측치 보간법 적용**"
   ]
  },
  {
   "cell_type": "code",
   "execution_count": 52,
   "metadata": {},
   "outputs": [],
   "source": [
    "from datetime import datetime"
   ]
  },
  {
   "cell_type": "markdown",
   "metadata": {},
   "source": [
    "- 시간 특성을 `datetime` 자료형으로 변환 "
   ]
  },
  {
   "cell_type": "code",
   "execution_count": 53,
   "metadata": {},
   "outputs": [],
   "source": [
    "scb_df['시간'] = scb_df['시간'].transform(lambda x: datetime.strptime(x, '%Y-%m-%d %H'))\n",
    "# scb_df['시간'] = scb_df['시간'].transform(lambda x: datetime.strptime(x[:-1], '%Y-%m-%d %H'))"
   ]
  },
  {
   "cell_type": "markdown",
   "metadata": {},
   "source": [
    "12시간 정도까지의 기간동안 존재하는 결측치는 보간법으로 채운다."
   ]
  },
  {
   "cell_type": "code",
   "execution_count": 54,
   "metadata": {},
   "outputs": [],
   "source": [
    "scb_df = scb_df.copy().set_index('시간').interpolate(method='time', limit = 12, limit_direction='both')"
   ]
  },
  {
   "cell_type": "markdown",
   "metadata": {},
   "source": [
    "12시간 보다 긴 시간동의 결측치는 제거한다."
   ]
  },
  {
   "cell_type": "code",
   "execution_count": 55,
   "metadata": {},
   "outputs": [],
   "source": [
    "scb_df = scb_df.dropna()"
   ]
  },
  {
   "cell_type": "code",
   "execution_count": 56,
   "metadata": {},
   "outputs": [
    {
     "name": "stdout",
     "output_type": "stream",
     "text": [
      "<class 'pandas.core.frame.DataFrame'>\n",
      "DatetimeIndex: 57002 entries, 2013-03-29 04:00:00 to 2022-05-23 23:00:00\n",
      "Data columns (total 29 columns):\n",
      " #   Column       Non-Null Count  Dtype  \n",
      "---  ------       --------------  -----  \n",
      " 0   측정소명         57002 non-null  object \n",
      " 1   수온 ℃         57002 non-null  float64\n",
      " 2   전기전도도 μS/cm  57002 non-null  float64\n",
      " 3   총유기탄소 mg/L   57002 non-null  float64\n",
      " 4   총질소 mg/L     57002 non-null  float64\n",
      " 5   총인 mg/L      57002 non-null  float64\n",
      " 6   클로로필-a mg/㎥  57002 non-null  float64\n",
      " 7   상류수위(EL.m)   57002 non-null  float64\n",
      " 8   방류량(㎥/s)     57002 non-null  float64\n",
      " 9   2shift 수온    57002 non-null  float64\n",
      " 10  4shift 수온    57002 non-null  float64\n",
      " 11  6shift 수온    57002 non-null  float64\n",
      " 12  8shift 수온    57002 non-null  float64\n",
      " 13  10shift 수온   57002 non-null  float64\n",
      " 14  12shift 수온   57002 non-null  float64\n",
      " 15  14shift 수온   57002 non-null  float64\n",
      " 16  16shift 수온   57002 non-null  float64\n",
      " 17  18shift 수온   57002 non-null  float64\n",
      " 18  20shift 수온   57002 non-null  float64\n",
      " 19  22shift 수온   57002 non-null  float64\n",
      " 20  24shift 수온   57002 non-null  float64\n",
      " 21  30shift 수온   57002 non-null  float64\n",
      " 22  36shift 수온   57002 non-null  float64\n",
      " 23  42shift 수온   57002 non-null  float64\n",
      " 24  48shift 수온   57002 non-null  float64\n",
      " 25  54shift 수온   57002 non-null  float64\n",
      " 26  60shift 수온   57002 non-null  float64\n",
      " 27  66shift 수온   57002 non-null  float64\n",
      " 28  72shift 수온   57002 non-null  float64\n",
      "dtypes: float64(28), object(1)\n",
      "memory usage: 13.0+ MB\n"
     ]
    }
   ],
   "source": [
    "scb_df.info()"
   ]
  },
  {
   "cell_type": "markdown",
   "metadata": {},
   "source": [
    "**훈련 특성과 타깃**"
   ]
  },
  {
   "cell_type": "markdown",
   "metadata": {},
   "source": [
    "먼저 `'시간'` 속성을 훈련 대상에 제외한다."
   ]
  },
  {
   "cell_type": "code",
   "execution_count": 57,
   "metadata": {},
   "outputs": [],
   "source": [
    "col = list(scb_df.columns[1:])"
   ]
  },
  {
   "cell_type": "markdown",
   "metadata": {},
   "source": [
    "`'클로로필-a mg/㎥'` 속성은 타깃 속성으로 제외한다.\n",
    "나머지 특성을 이용하여 타깃(클로로필-a) 값을 예측할 때 가장 중요한 특성을 확인한다."
   ]
  },
  {
   "cell_type": "code",
   "execution_count": 58,
   "metadata": {},
   "outputs": [],
   "source": [
    "col_v = col.copy()\n",
    "col_v.remove('클로로필-a mg/㎥')\n",
    "#print(col_v)"
   ]
  },
  {
   "cell_type": "markdown",
   "metadata": {},
   "source": [
    "## 모델 훈련"
   ]
  },
  {
   "cell_type": "markdown",
   "metadata": {},
   "source": [
    "먼저 특성 정규화없이 진행한다."
   ]
  },
  {
   "cell_type": "code",
   "execution_count": 59,
   "metadata": {},
   "outputs": [],
   "source": [
    "X_train, X_test, y_train, y_test = train_test_split(scb_df.loc[:, col_v], scb_df['클로로필-a mg/㎥'], random_state=42)\n",
    "gb_reg = GradientBoostingRegressor(random_state=42)\n",
    "\n",
    "parameters = {'max_depth':[5, 10, 15], 'learning_rate':[0.05, 0.1, 0.2]}"
   ]
  },
  {
   "cell_type": "code",
   "execution_count": 60,
   "metadata": {},
   "outputs": [],
   "source": [
    "gb_grid = GridSearchCV(gb_reg, param_grid=parameters, cv=3, verbose=5)"
   ]
  },
  {
   "cell_type": "code",
   "execution_count": 61,
   "metadata": {},
   "outputs": [
    {
     "name": "stdout",
     "output_type": "stream",
     "text": [
      "Fitting 3 folds for each of 9 candidates, totalling 27 fits\n",
      "[CV 1/3] END ...learning_rate=0.05, max_depth=5;, score=0.749 total time=  13.1s\n",
      "[CV 2/3] END ...learning_rate=0.05, max_depth=5;, score=0.748 total time=  13.1s\n",
      "[CV 3/3] END ...learning_rate=0.05, max_depth=5;, score=0.735 total time=  13.0s\n",
      "[CV 1/3] END ..learning_rate=0.05, max_depth=10;, score=0.927 total time=  26.0s\n",
      "[CV 2/3] END ..learning_rate=0.05, max_depth=10;, score=0.924 total time=  25.8s\n",
      "[CV 3/3] END ..learning_rate=0.05, max_depth=10;, score=0.927 total time=  25.9s\n",
      "[CV 1/3] END ..learning_rate=0.05, max_depth=15;, score=0.943 total time=  37.4s\n",
      "[CV 2/3] END ..learning_rate=0.05, max_depth=15;, score=0.945 total time=  37.3s\n",
      "[CV 3/3] END ..learning_rate=0.05, max_depth=15;, score=0.943 total time=  37.4s\n",
      "[CV 1/3] END ....learning_rate=0.1, max_depth=5;, score=0.791 total time=  13.1s\n",
      "[CV 2/3] END ....learning_rate=0.1, max_depth=5;, score=0.792 total time=  13.0s\n",
      "[CV 3/3] END ....learning_rate=0.1, max_depth=5;, score=0.788 total time=  13.2s\n",
      "[CV 1/3] END ...learning_rate=0.1, max_depth=10;, score=0.938 total time=  26.0s\n",
      "[CV 2/3] END ...learning_rate=0.1, max_depth=10;, score=0.937 total time=  25.9s\n",
      "[CV 3/3] END ...learning_rate=0.1, max_depth=10;, score=0.938 total time=  25.8s\n",
      "[CV 1/3] END ...learning_rate=0.1, max_depth=15;, score=0.943 total time=  38.0s\n",
      "[CV 2/3] END ...learning_rate=0.1, max_depth=15;, score=0.945 total time=  37.9s\n",
      "[CV 3/3] END ...learning_rate=0.1, max_depth=15;, score=0.944 total time=  38.0s\n",
      "[CV 1/3] END ....learning_rate=0.2, max_depth=5;, score=0.840 total time=  13.1s\n",
      "[CV 2/3] END ....learning_rate=0.2, max_depth=5;, score=0.839 total time=  13.1s\n",
      "[CV 3/3] END ....learning_rate=0.2, max_depth=5;, score=0.830 total time=  13.1s\n",
      "[CV 1/3] END ...learning_rate=0.2, max_depth=10;, score=0.943 total time=  25.9s\n",
      "[CV 2/3] END ...learning_rate=0.2, max_depth=10;, score=0.943 total time=  25.8s\n",
      "[CV 3/3] END ...learning_rate=0.2, max_depth=10;, score=0.943 total time=  25.9s\n",
      "[CV 1/3] END ...learning_rate=0.2, max_depth=15;, score=0.941 total time=  38.2s\n",
      "[CV 2/3] END ...learning_rate=0.2, max_depth=15;, score=0.943 total time=  38.2s\n",
      "[CV 3/3] END ...learning_rate=0.2, max_depth=15;, score=0.941 total time=  38.2s\n"
     ]
    },
    {
     "data": {
      "text/html": [
       "<style>#sk-container-id-1 {color: black;background-color: white;}#sk-container-id-1 pre{padding: 0;}#sk-container-id-1 div.sk-toggleable {background-color: white;}#sk-container-id-1 label.sk-toggleable__label {cursor: pointer;display: block;width: 100%;margin-bottom: 0;padding: 0.3em;box-sizing: border-box;text-align: center;}#sk-container-id-1 label.sk-toggleable__label-arrow:before {content: \"▸\";float: left;margin-right: 0.25em;color: #696969;}#sk-container-id-1 label.sk-toggleable__label-arrow:hover:before {color: black;}#sk-container-id-1 div.sk-estimator:hover label.sk-toggleable__label-arrow:before {color: black;}#sk-container-id-1 div.sk-toggleable__content {max-height: 0;max-width: 0;overflow: hidden;text-align: left;background-color: #f0f8ff;}#sk-container-id-1 div.sk-toggleable__content pre {margin: 0.2em;color: black;border-radius: 0.25em;background-color: #f0f8ff;}#sk-container-id-1 input.sk-toggleable__control:checked~div.sk-toggleable__content {max-height: 200px;max-width: 100%;overflow: auto;}#sk-container-id-1 input.sk-toggleable__control:checked~label.sk-toggleable__label-arrow:before {content: \"▾\";}#sk-container-id-1 div.sk-estimator input.sk-toggleable__control:checked~label.sk-toggleable__label {background-color: #d4ebff;}#sk-container-id-1 div.sk-label input.sk-toggleable__control:checked~label.sk-toggleable__label {background-color: #d4ebff;}#sk-container-id-1 input.sk-hidden--visually {border: 0;clip: rect(1px 1px 1px 1px);clip: rect(1px, 1px, 1px, 1px);height: 1px;margin: -1px;overflow: hidden;padding: 0;position: absolute;width: 1px;}#sk-container-id-1 div.sk-estimator {font-family: monospace;background-color: #f0f8ff;border: 1px dotted black;border-radius: 0.25em;box-sizing: border-box;margin-bottom: 0.5em;}#sk-container-id-1 div.sk-estimator:hover {background-color: #d4ebff;}#sk-container-id-1 div.sk-parallel-item::after {content: \"\";width: 100%;border-bottom: 1px solid gray;flex-grow: 1;}#sk-container-id-1 div.sk-label:hover label.sk-toggleable__label {background-color: #d4ebff;}#sk-container-id-1 div.sk-serial::before {content: \"\";position: absolute;border-left: 1px solid gray;box-sizing: border-box;top: 0;bottom: 0;left: 50%;z-index: 0;}#sk-container-id-1 div.sk-serial {display: flex;flex-direction: column;align-items: center;background-color: white;padding-right: 0.2em;padding-left: 0.2em;position: relative;}#sk-container-id-1 div.sk-item {position: relative;z-index: 1;}#sk-container-id-1 div.sk-parallel {display: flex;align-items: stretch;justify-content: center;background-color: white;position: relative;}#sk-container-id-1 div.sk-item::before, #sk-container-id-1 div.sk-parallel-item::before {content: \"\";position: absolute;border-left: 1px solid gray;box-sizing: border-box;top: 0;bottom: 0;left: 50%;z-index: -1;}#sk-container-id-1 div.sk-parallel-item {display: flex;flex-direction: column;z-index: 1;position: relative;background-color: white;}#sk-container-id-1 div.sk-parallel-item:first-child::after {align-self: flex-end;width: 50%;}#sk-container-id-1 div.sk-parallel-item:last-child::after {align-self: flex-start;width: 50%;}#sk-container-id-1 div.sk-parallel-item:only-child::after {width: 0;}#sk-container-id-1 div.sk-dashed-wrapped {border: 1px dashed gray;margin: 0 0.4em 0.5em 0.4em;box-sizing: border-box;padding-bottom: 0.4em;background-color: white;}#sk-container-id-1 div.sk-label label {font-family: monospace;font-weight: bold;display: inline-block;line-height: 1.2em;}#sk-container-id-1 div.sk-label-container {text-align: center;}#sk-container-id-1 div.sk-container {/* jupyter's `normalize.less` sets `[hidden] { display: none; }` but bootstrap.min.css set `[hidden] { display: none !important; }` so we also need the `!important` here to be able to override the default hidden behavior on the sphinx rendered scikit-learn.org. See: https://github.com/scikit-learn/scikit-learn/issues/21755 */display: inline-block !important;position: relative;}#sk-container-id-1 div.sk-text-repr-fallback {display: none;}</style><div id=\"sk-container-id-1\" class=\"sk-top-container\"><div class=\"sk-text-repr-fallback\"><pre>GridSearchCV(cv=3, estimator=GradientBoostingRegressor(random_state=42),\n",
       "             param_grid={&#x27;learning_rate&#x27;: [0.05, 0.1, 0.2],\n",
       "                         &#x27;max_depth&#x27;: [5, 10, 15]},\n",
       "             verbose=5)</pre><b>In a Jupyter environment, please rerun this cell to show the HTML representation or trust the notebook. <br />On GitHub, the HTML representation is unable to render, please try loading this page with nbviewer.org.</b></div><div class=\"sk-container\" hidden><div class=\"sk-item sk-dashed-wrapped\"><div class=\"sk-label-container\"><div class=\"sk-label sk-toggleable\"><input class=\"sk-toggleable__control sk-hidden--visually\" id=\"sk-estimator-id-1\" type=\"checkbox\" ><label for=\"sk-estimator-id-1\" class=\"sk-toggleable__label sk-toggleable__label-arrow\">GridSearchCV</label><div class=\"sk-toggleable__content\"><pre>GridSearchCV(cv=3, estimator=GradientBoostingRegressor(random_state=42),\n",
       "             param_grid={&#x27;learning_rate&#x27;: [0.05, 0.1, 0.2],\n",
       "                         &#x27;max_depth&#x27;: [5, 10, 15]},\n",
       "             verbose=5)</pre></div></div></div><div class=\"sk-parallel\"><div class=\"sk-parallel-item\"><div class=\"sk-item\"><div class=\"sk-label-container\"><div class=\"sk-label sk-toggleable\"><input class=\"sk-toggleable__control sk-hidden--visually\" id=\"sk-estimator-id-2\" type=\"checkbox\" ><label for=\"sk-estimator-id-2\" class=\"sk-toggleable__label sk-toggleable__label-arrow\">estimator: GradientBoostingRegressor</label><div class=\"sk-toggleable__content\"><pre>GradientBoostingRegressor(random_state=42)</pre></div></div></div><div class=\"sk-serial\"><div class=\"sk-item\"><div class=\"sk-estimator sk-toggleable\"><input class=\"sk-toggleable__control sk-hidden--visually\" id=\"sk-estimator-id-3\" type=\"checkbox\" ><label for=\"sk-estimator-id-3\" class=\"sk-toggleable__label sk-toggleable__label-arrow\">GradientBoostingRegressor</label><div class=\"sk-toggleable__content\"><pre>GradientBoostingRegressor(random_state=42)</pre></div></div></div></div></div></div></div></div></div></div>"
      ],
      "text/plain": [
       "GridSearchCV(cv=3, estimator=GradientBoostingRegressor(random_state=42),\n",
       "             param_grid={'learning_rate': [0.05, 0.1, 0.2],\n",
       "                         'max_depth': [5, 10, 15]},\n",
       "             verbose=5)"
      ]
     },
     "execution_count": 61,
     "metadata": {},
     "output_type": "execute_result"
    }
   ],
   "source": [
    "gb_grid.fit(X_train, np.log1p(y_train))"
   ]
  },
  {
   "cell_type": "code",
   "execution_count": 62,
   "metadata": {},
   "outputs": [],
   "source": [
    "scores_df = pd.DataFrame(gb_grid.cv_results_)"
   ]
  },
  {
   "cell_type": "code",
   "execution_count": 63,
   "metadata": {},
   "outputs": [
    {
     "data": {
      "text/html": [
       "<div>\n",
       "<style scoped>\n",
       "    .dataframe tbody tr th:only-of-type {\n",
       "        vertical-align: middle;\n",
       "    }\n",
       "\n",
       "    .dataframe tbody tr th {\n",
       "        vertical-align: top;\n",
       "    }\n",
       "\n",
       "    .dataframe thead th {\n",
       "        text-align: right;\n",
       "    }\n",
       "</style>\n",
       "<table border=\"1\" class=\"dataframe\">\n",
       "  <thead>\n",
       "    <tr style=\"text-align: right;\">\n",
       "      <th></th>\n",
       "      <th>params</th>\n",
       "      <th>mean_test_score</th>\n",
       "      <th>rank_test_score</th>\n",
       "    </tr>\n",
       "  </thead>\n",
       "  <tbody>\n",
       "    <tr>\n",
       "      <th>5</th>\n",
       "      <td>{'learning_rate': 0.1, 'max_depth': 15}</td>\n",
       "      <td>0.943937</td>\n",
       "      <td>1</td>\n",
       "    </tr>\n",
       "    <tr>\n",
       "      <th>2</th>\n",
       "      <td>{'learning_rate': 0.05, 'max_depth': 15}</td>\n",
       "      <td>0.943501</td>\n",
       "      <td>2</td>\n",
       "    </tr>\n",
       "    <tr>\n",
       "      <th>7</th>\n",
       "      <td>{'learning_rate': 0.2, 'max_depth': 10}</td>\n",
       "      <td>0.943158</td>\n",
       "      <td>3</td>\n",
       "    </tr>\n",
       "    <tr>\n",
       "      <th>8</th>\n",
       "      <td>{'learning_rate': 0.2, 'max_depth': 15}</td>\n",
       "      <td>0.941930</td>\n",
       "      <td>4</td>\n",
       "    </tr>\n",
       "    <tr>\n",
       "      <th>4</th>\n",
       "      <td>{'learning_rate': 0.1, 'max_depth': 10}</td>\n",
       "      <td>0.937623</td>\n",
       "      <td>5</td>\n",
       "    </tr>\n",
       "  </tbody>\n",
       "</table>\n",
       "</div>"
      ],
      "text/plain": [
       "                                     params  mean_test_score  rank_test_score\n",
       "5   {'learning_rate': 0.1, 'max_depth': 15}         0.943937                1\n",
       "2  {'learning_rate': 0.05, 'max_depth': 15}         0.943501                2\n",
       "7   {'learning_rate': 0.2, 'max_depth': 10}         0.943158                3\n",
       "8   {'learning_rate': 0.2, 'max_depth': 15}         0.941930                4\n",
       "4   {'learning_rate': 0.1, 'max_depth': 10}         0.937623                5"
      ]
     },
     "execution_count": 63,
     "metadata": {},
     "output_type": "execute_result"
    }
   ],
   "source": [
    "scores_df.sort_values(by=['rank_test_score'], inplace=True)\n",
    "scores_df[['params', 'mean_test_score', 'rank_test_score']].head()"
   ]
  },
  {
   "cell_type": "code",
   "execution_count": 64,
   "metadata": {},
   "outputs": [
    {
     "data": {
      "text/plain": [
       "{'learning_rate': 0.1, 'max_depth': 15}"
      ]
     },
     "execution_count": 64,
     "metadata": {},
     "output_type": "execute_result"
    }
   ],
   "source": [
    "gb_grid.best_params_"
   ]
  },
  {
   "cell_type": "code",
   "execution_count": 65,
   "metadata": {},
   "outputs": [],
   "source": [
    "estimator = gb_grid.best_estimator_"
   ]
  },
  {
   "cell_type": "code",
   "execution_count": 66,
   "metadata": {},
   "outputs": [],
   "source": [
    "pred = estimator.predict(X_test)"
   ]
  },
  {
   "cell_type": "code",
   "execution_count": 67,
   "metadata": {},
   "outputs": [
    {
     "name": "stdout",
     "output_type": "stream",
     "text": [
      "0.04 수온 ℃\n",
      "0.17 전기전도도 μS/cm\n",
      "0.05 총유기탄소 mg/L\n",
      "0.06 총질소 mg/L\n",
      "0.05 총인 mg/L\n",
      "0.14 상류수위(EL.m)\n",
      "0.21 방류량(㎥/s)\n",
      "0.1 2shift 수온\n",
      "0.03 4shift 수온\n",
      "0.01 6shift 수온\n",
      "0.0 8shift 수온\n",
      "0.0 10shift 수온\n",
      "0.0 12shift 수온\n",
      "0.0 14shift 수온\n",
      "0.0 16shift 수온\n",
      "0.0 18shift 수온\n",
      "0.0 20shift 수온\n",
      "0.0 22shift 수온\n",
      "0.01 24shift 수온\n",
      "0.01 30shift 수온\n",
      "0.01 36shift 수온\n",
      "0.01 42shift 수온\n",
      "0.01 48shift 수온\n",
      "0.01 54shift 수온\n",
      "0.02 60shift 수온\n",
      "0.02 66shift 수온\n",
      "0.02 72shift 수온\n"
     ]
    }
   ],
   "source": [
    "for score, name in zip(estimator.feature_importances_, col_v):\n",
    "    print(round(score, 2), name)"
   ]
  },
  {
   "cell_type": "code",
   "execution_count": 68,
   "metadata": {},
   "outputs": [
    {
     "data": {
      "image/png": "[encoded data removed]",
      "text/plain": [
       "<Figure size 432x288 with 1 Axes>"
      ]
     },
     "metadata": {
      "needs_background": "light"
     },
     "output_type": "display_data"
    }
   ],
   "source": [
    "feature_series = pd.Series(data = estimator.feature_importances_, index = col_v)\n",
    "feature_series = feature_series.sort_values(ascending = False)\n",
    "sns.barplot(x = feature_series[:10], y = feature_series.index[:10], color = 'gray')\n",
    "plt.show()"
   ]
  },
  {
   "cell_type": "code",
   "execution_count": 69,
   "metadata": {},
   "outputs": [
    {
     "data": {
      "text/plain": [
       "방류량(㎥/s)       0.208181\n",
       "전기전도도 μS/cm    0.172090\n",
       "상류수위(EL.m)     0.137524\n",
       "2shift 수온      0.099806\n",
       "총질소 mg/L       0.062059\n",
       "총인 mg/L        0.054695\n",
       "총유기탄소 mg/L     0.049990\n",
       "수온 ℃           0.042197\n",
       "4shift 수온      0.025087\n",
       "66shift 수온     0.021257\n",
       "dtype: float64"
      ]
     },
     "execution_count": 69,
     "metadata": {},
     "output_type": "execute_result"
    }
   ],
   "source": [
    "feature_series[:10]"
   ]
  },
  {
   "cell_type": "code",
   "execution_count": 70,
   "metadata": {},
   "outputs": [
    {
     "name": "stdout",
     "output_type": "stream",
     "text": [
      "score : 0.9632928883346922\n"
     ]
    }
   ],
   "source": [
    "print('score :', estimator.score(X_test, np.log1p(y_test)))"
   ]
  },
  {
   "cell_type": "markdown",
   "metadata": {},
   "source": [
    "피처 정규화"
   ]
  },
  {
   "cell_type": "code",
   "execution_count": 71,
   "metadata": {},
   "outputs": [],
   "source": [
    "scaler = StandardScaler()\n",
    "scaler.fit(scb_df.loc[:, col_v])\n",
    "scb_scaled = scaler.transform(scb_df.loc[:, col_v])\n",
    "\n",
    "scb_df_scaled = pd.DataFrame(data = scb_scaled, columns = col_v)"
   ]
  },
  {
   "cell_type": "code",
   "execution_count": 72,
   "metadata": {},
   "outputs": [
    {
     "data": {
      "text/html": [
       "<div>\n",
       "<style scoped>\n",
       "    .dataframe tbody tr th:only-of-type {\n",
       "        vertical-align: middle;\n",
       "    }\n",
       "\n",
       "    .dataframe tbody tr th {\n",
       "        vertical-align: top;\n",
       "    }\n",
       "\n",
       "    .dataframe thead th {\n",
       "        text-align: right;\n",
       "    }\n",
       "</style>\n",
       "<table border=\"1\" class=\"dataframe\">\n",
       "  <thead>\n",
       "    <tr style=\"text-align: right;\">\n",
       "      <th></th>\n",
       "      <th>수온 ℃</th>\n",
       "      <th>전기전도도 μS/cm</th>\n",
       "      <th>총유기탄소 mg/L</th>\n",
       "      <th>총질소 mg/L</th>\n",
       "      <th>총인 mg/L</th>\n",
       "      <th>상류수위(EL.m)</th>\n",
       "      <th>방류량(㎥/s)</th>\n",
       "      <th>2shift 수온</th>\n",
       "      <th>4shift 수온</th>\n",
       "      <th>6shift 수온</th>\n",
       "      <th>...</th>\n",
       "      <th>22shift 수온</th>\n",
       "      <th>24shift 수온</th>\n",
       "      <th>30shift 수온</th>\n",
       "      <th>36shift 수온</th>\n",
       "      <th>42shift 수온</th>\n",
       "      <th>48shift 수온</th>\n",
       "      <th>54shift 수온</th>\n",
       "      <th>60shift 수온</th>\n",
       "      <th>66shift 수온</th>\n",
       "      <th>72shift 수온</th>\n",
       "    </tr>\n",
       "  </thead>\n",
       "  <tbody>\n",
       "    <tr>\n",
       "      <th>0</th>\n",
       "      <td>-0.583879</td>\n",
       "      <td>-0.517932</td>\n",
       "      <td>-0.938145</td>\n",
       "      <td>0.222144</td>\n",
       "      <td>-0.225036</td>\n",
       "      <td>0.778067</td>\n",
       "      <td>-0.198824</td>\n",
       "      <td>-0.509093</td>\n",
       "      <td>-0.459184</td>\n",
       "      <td>-0.434192</td>\n",
       "      <td>...</td>\n",
       "      <td>-0.708055</td>\n",
       "      <td>-0.683085</td>\n",
       "      <td>-0.608145</td>\n",
       "      <td>-0.421054</td>\n",
       "      <td>-0.692148</td>\n",
       "      <td>-0.757565</td>\n",
       "      <td>-0.732488</td>\n",
       "      <td>-0.557855</td>\n",
       "      <td>-0.819854</td>\n",
       "      <td>-0.882173</td>\n",
       "    </tr>\n",
       "    <tr>\n",
       "      <th>1</th>\n",
       "      <td>-0.596330</td>\n",
       "      <td>-0.517932</td>\n",
       "      <td>-1.035787</td>\n",
       "      <td>0.222144</td>\n",
       "      <td>-0.225036</td>\n",
       "      <td>0.778067</td>\n",
       "      <td>-0.199062</td>\n",
       "      <td>-0.533995</td>\n",
       "      <td>-0.484085</td>\n",
       "      <td>-0.434192</td>\n",
       "      <td>...</td>\n",
       "      <td>-0.708055</td>\n",
       "      <td>-0.695533</td>\n",
       "      <td>-0.620598</td>\n",
       "      <td>-0.433510</td>\n",
       "      <td>-0.639214</td>\n",
       "      <td>-0.757565</td>\n",
       "      <td>-0.732488</td>\n",
       "      <td>-0.607706</td>\n",
       "      <td>-0.757555</td>\n",
       "      <td>-0.894629</td>\n",
       "    </tr>\n",
       "    <tr>\n",
       "      <th>2</th>\n",
       "      <td>-0.621232</td>\n",
       "      <td>-0.517932</td>\n",
       "      <td>-1.035787</td>\n",
       "      <td>0.222144</td>\n",
       "      <td>-0.225036</td>\n",
       "      <td>0.778067</td>\n",
       "      <td>-0.198824</td>\n",
       "      <td>-0.583799</td>\n",
       "      <td>-0.508985</td>\n",
       "      <td>-0.459093</td>\n",
       "      <td>...</td>\n",
       "      <td>-0.708055</td>\n",
       "      <td>-0.707981</td>\n",
       "      <td>-0.633051</td>\n",
       "      <td>-0.495790</td>\n",
       "      <td>-0.586279</td>\n",
       "      <td>-0.770021</td>\n",
       "      <td>-0.732488</td>\n",
       "      <td>-0.657556</td>\n",
       "      <td>-0.695256</td>\n",
       "      <td>-0.907086</td>\n",
       "    </tr>\n",
       "    <tr>\n",
       "      <th>3</th>\n",
       "      <td>-0.658586</td>\n",
       "      <td>-0.540930</td>\n",
       "      <td>-1.035787</td>\n",
       "      <td>0.222144</td>\n",
       "      <td>-0.225036</td>\n",
       "      <td>0.774235</td>\n",
       "      <td>-0.204930</td>\n",
       "      <td>-0.596249</td>\n",
       "      <td>-0.533886</td>\n",
       "      <td>-0.483993</td>\n",
       "      <td>...</td>\n",
       "      <td>-0.670714</td>\n",
       "      <td>-0.707981</td>\n",
       "      <td>-0.645504</td>\n",
       "      <td>-0.570525</td>\n",
       "      <td>-0.533344</td>\n",
       "      <td>-0.770021</td>\n",
       "      <td>-0.744949</td>\n",
       "      <td>-0.694944</td>\n",
       "      <td>-0.632956</td>\n",
       "      <td>-0.907086</td>\n",
       "    </tr>\n",
       "    <tr>\n",
       "      <th>4</th>\n",
       "      <td>-0.671038</td>\n",
       "      <td>-0.563928</td>\n",
       "      <td>-1.035787</td>\n",
       "      <td>0.222144</td>\n",
       "      <td>-0.225036</td>\n",
       "      <td>0.766571</td>\n",
       "      <td>-0.218570</td>\n",
       "      <td>-0.621151</td>\n",
       "      <td>-0.583688</td>\n",
       "      <td>-0.508893</td>\n",
       "      <td>...</td>\n",
       "      <td>-0.620926</td>\n",
       "      <td>-0.707981</td>\n",
       "      <td>-0.657957</td>\n",
       "      <td>-0.607893</td>\n",
       "      <td>-0.458613</td>\n",
       "      <td>-0.770021</td>\n",
       "      <td>-0.757409</td>\n",
       "      <td>-0.682481</td>\n",
       "      <td>-0.570657</td>\n",
       "      <td>-0.894629</td>\n",
       "    </tr>\n",
       "  </tbody>\n",
       "</table>\n",
       "<p>5 rows × 27 columns</p>\n",
       "</div>"
      ],
      "text/plain": [
       "       수온 ℃  전기전도도 μS/cm  총유기탄소 mg/L  총질소 mg/L   총인 mg/L  상류수위(EL.m)  \\\n",
       "0 -0.583879    -0.517932   -0.938145  0.222144 -0.225036    0.778067   \n",
       "1 -0.596330    -0.517932   -1.035787  0.222144 -0.225036    0.778067   \n",
       "2 -0.621232    -0.517932   -1.035787  0.222144 -0.225036    0.778067   \n",
       "3 -0.658586    -0.540930   -1.035787  0.222144 -0.225036    0.774235   \n",
       "4 -0.671038    -0.563928   -1.035787  0.222144 -0.225036    0.766571   \n",
       "\n",
       "   방류량(㎥/s)  2shift 수온  4shift 수온  6shift 수온  ...  22shift 수온  24shift 수온  \\\n",
       "0 -0.198824  -0.509093  -0.459184  -0.434192  ...   -0.708055   -0.683085   \n",
       "1 -0.199062  -0.533995  -0.484085  -0.434192  ...   -0.708055   -0.695533   \n",
       "2 -0.198824  -0.583799  -0.508985  -0.459093  ...   -0.708055   -0.707981   \n",
       "3 -0.204930  -0.596249  -0.533886  -0.483993  ...   -0.670714   -0.707981   \n",
       "4 -0.218570  -0.621151  -0.583688  -0.508893  ...   -0.620926   -0.707981   \n",
       "\n",
       "   30shift 수온  36shift 수온  42shift 수온  48shift 수온  54shift 수온  60shift 수온  \\\n",
       "0   -0.608145   -0.421054   -0.692148   -0.757565   -0.732488   -0.557855   \n",
       "1   -0.620598   -0.433510   -0.639214   -0.757565   -0.732488   -0.607706   \n",
       "2   -0.633051   -0.495790   -0.586279   -0.770021   -0.732488   -0.657556   \n",
       "3   -0.645504   -0.570525   -0.533344   -0.770021   -0.744949   -0.694944   \n",
       "4   -0.657957   -0.607893   -0.458613   -0.770021   -0.757409   -0.682481   \n",
       "\n",
       "   66shift 수온  72shift 수온  \n",
       "0   -0.819854   -0.882173  \n",
       "1   -0.757555   -0.894629  \n",
       "2   -0.695256   -0.907086  \n",
       "3   -0.632956   -0.907086  \n",
       "4   -0.570657   -0.894629  \n",
       "\n",
       "[5 rows x 27 columns]"
      ]
     },
     "execution_count": 72,
     "metadata": {},
     "output_type": "execute_result"
    }
   ],
   "source": [
    "scb_df_scaled.head()"
   ]
  },
  {
   "cell_type": "code",
   "execution_count": 73,
   "metadata": {},
   "outputs": [],
   "source": [
    "X_trains, X_tests, y_trains, y_tests = train_test_split(scb_df_scaled.loc[:, col_v], scb_df['클로로필-a mg/㎥'], random_state=42)\n",
    "gb_regs = GradientBoostingRegressor(random_state=42)\n",
    "\n",
    "parameters = {'max_depth':[5, 10, 15], 'learning_rate':[0.05, 0.1, 0.2]}"
   ]
  },
  {
   "cell_type": "code",
   "execution_count": 74,
   "metadata": {},
   "outputs": [],
   "source": [
    "gb_grids = GridSearchCV(gb_regs, param_grid=parameters, cv=3, verbose=5)"
   ]
  },
  {
   "cell_type": "code",
   "execution_count": 75,
   "metadata": {},
   "outputs": [
    {
     "name": "stdout",
     "output_type": "stream",
     "text": [
      "Fitting 3 folds for each of 9 candidates, totalling 27 fits\n",
      "[CV 1/3] END ...learning_rate=0.05, max_depth=5;, score=0.749 total time=  13.1s\n",
      "[CV 2/3] END ...learning_rate=0.05, max_depth=5;, score=0.747 total time=  13.1s\n",
      "[CV 3/3] END ...learning_rate=0.05, max_depth=5;, score=0.735 total time=  13.0s\n",
      "[CV 1/3] END ..learning_rate=0.05, max_depth=10;, score=0.927 total time=  25.6s\n",
      "[CV 2/3] END ..learning_rate=0.05, max_depth=10;, score=0.925 total time=  25.6s\n",
      "[CV 3/3] END ..learning_rate=0.05, max_depth=10;, score=0.927 total time=  25.7s\n",
      "[CV 1/3] END ..learning_rate=0.05, max_depth=15;, score=0.943 total time=  37.1s\n",
      "[CV 2/3] END ..learning_rate=0.05, max_depth=15;, score=0.945 total time=  36.9s\n",
      "[CV 3/3] END ..learning_rate=0.05, max_depth=15;, score=0.943 total time=  37.0s\n",
      "[CV 1/3] END ....learning_rate=0.1, max_depth=5;, score=0.791 total time=  13.0s\n",
      "[CV 2/3] END ....learning_rate=0.1, max_depth=5;, score=0.792 total time=  13.0s\n",
      "[CV 3/3] END ....learning_rate=0.1, max_depth=5;, score=0.788 total time=  13.0s\n",
      "[CV 1/3] END ...learning_rate=0.1, max_depth=10;, score=0.938 total time=  25.9s\n",
      "[CV 2/3] END ...learning_rate=0.1, max_depth=10;, score=0.937 total time=  25.9s\n",
      "[CV 3/3] END ...learning_rate=0.1, max_depth=10;, score=0.938 total time=  25.7s\n",
      "[CV 1/3] END ...learning_rate=0.1, max_depth=15;, score=0.943 total time=  37.5s\n",
      "[CV 2/3] END ...learning_rate=0.1, max_depth=15;, score=0.945 total time=  37.3s\n",
      "[CV 3/3] END ...learning_rate=0.1, max_depth=15;, score=0.943 total time=  37.5s\n",
      "[CV 1/3] END ....learning_rate=0.2, max_depth=5;, score=0.840 total time=  12.9s\n",
      "[CV 2/3] END ....learning_rate=0.2, max_depth=5;, score=0.839 total time=  12.9s\n",
      "[CV 3/3] END ....learning_rate=0.2, max_depth=5;, score=0.830 total time=  13.2s\n",
      "[CV 1/3] END ...learning_rate=0.2, max_depth=10;, score=0.943 total time=  27.1s\n",
      "[CV 2/3] END ...learning_rate=0.2, max_depth=10;, score=0.943 total time=  27.2s\n",
      "[CV 3/3] END ...learning_rate=0.2, max_depth=10;, score=0.943 total time=  26.7s\n",
      "[CV 1/3] END ...learning_rate=0.2, max_depth=15;, score=0.941 total time=  39.1s\n",
      "[CV 2/3] END ...learning_rate=0.2, max_depth=15;, score=0.943 total time=  38.2s\n",
      "[CV 3/3] END ...learning_rate=0.2, max_depth=15;, score=0.941 total time=  38.3s\n"
     ]
    },
    {
     "data": {
      "text/html": [
       "<style>#sk-container-id-2 {color: black;background-color: white;}#sk-container-id-2 pre{padding: 0;}#sk-container-id-2 div.sk-toggleable {background-color: white;}#sk-container-id-2 label.sk-toggleable__label {cursor: pointer;display: block;width: 100%;margin-bottom: 0;padding: 0.3em;box-sizing: border-box;text-align: center;}#sk-container-id-2 label.sk-toggleable__label-arrow:before {content: \"▸\";float: left;margin-right: 0.25em;color: #696969;}#sk-container-id-2 label.sk-toggleable__label-arrow:hover:before {color: black;}#sk-container-id-2 div.sk-estimator:hover label.sk-toggleable__label-arrow:before {color: black;}#sk-container-id-2 div.sk-toggleable__content {max-height: 0;max-width: 0;overflow: hidden;text-align: left;background-color: #f0f8ff;}#sk-container-id-2 div.sk-toggleable__content pre {margin: 0.2em;color: black;border-radius: 0.25em;background-color: #f0f8ff;}#sk-container-id-2 input.sk-toggleable__control:checked~div.sk-toggleable__content {max-height: 200px;max-width: 100%;overflow: auto;}#sk-container-id-2 input.sk-toggleable__control:checked~label.sk-toggleable__label-arrow:before {content: \"▾\";}#sk-container-id-2 div.sk-estimator input.sk-toggleable__control:checked~label.sk-toggleable__label {background-color: #d4ebff;}#sk-container-id-2 div.sk-label input.sk-toggleable__control:checked~label.sk-toggleable__label {background-color: #d4ebff;}#sk-container-id-2 input.sk-hidden--visually {border: 0;clip: rect(1px 1px 1px 1px);clip: rect(1px, 1px, 1px, 1px);height: 1px;margin: -1px;overflow: hidden;padding: 0;position: absolute;width: 1px;}#sk-container-id-2 div.sk-estimator {font-family: monospace;background-color: #f0f8ff;border: 1px dotted black;border-radius: 0.25em;box-sizing: border-box;margin-bottom: 0.5em;}#sk-container-id-2 div.sk-estimator:hover {background-color: #d4ebff;}#sk-container-id-2 div.sk-parallel-item::after {content: \"\";width: 100%;border-bottom: 1px solid gray;flex-grow: 1;}#sk-container-id-2 div.sk-label:hover label.sk-toggleable__label {background-color: #d4ebff;}#sk-container-id-2 div.sk-serial::before {content: \"\";position: absolute;border-left: 1px solid gray;box-sizing: border-box;top: 0;bottom: 0;left: 50%;z-index: 0;}#sk-container-id-2 div.sk-serial {display: flex;flex-direction: column;align-items: center;background-color: white;padding-right: 0.2em;padding-left: 0.2em;position: relative;}#sk-container-id-2 div.sk-item {position: relative;z-index: 1;}#sk-container-id-2 div.sk-parallel {display: flex;align-items: stretch;justify-content: center;background-color: white;position: relative;}#sk-container-id-2 div.sk-item::before, #sk-container-id-2 div.sk-parallel-item::before {content: \"\";position: absolute;border-left: 1px solid gray;box-sizing: border-box;top: 0;bottom: 0;left: 50%;z-index: -1;}#sk-container-id-2 div.sk-parallel-item {display: flex;flex-direction: column;z-index: 1;position: relative;background-color: white;}#sk-container-id-2 div.sk-parallel-item:first-child::after {align-self: flex-end;width: 50%;}#sk-container-id-2 div.sk-parallel-item:last-child::after {align-self: flex-start;width: 50%;}#sk-container-id-2 div.sk-parallel-item:only-child::after {width: 0;}#sk-container-id-2 div.sk-dashed-wrapped {border: 1px dashed gray;margin: 0 0.4em 0.5em 0.4em;box-sizing: border-box;padding-bottom: 0.4em;background-color: white;}#sk-container-id-2 div.sk-label label {font-family: monospace;font-weight: bold;display: inline-block;line-height: 1.2em;}#sk-container-id-2 div.sk-label-container {text-align: center;}#sk-container-id-2 div.sk-container {/* jupyter's `normalize.less` sets `[hidden] { display: none; }` but bootstrap.min.css set `[hidden] { display: none !important; }` so we also need the `!important` here to be able to override the default hidden behavior on the sphinx rendered scikit-learn.org. See: https://github.com/scikit-learn/scikit-learn/issues/21755 */display: inline-block !important;position: relative;}#sk-container-id-2 div.sk-text-repr-fallback {display: none;}</style><div id=\"sk-container-id-2\" class=\"sk-top-container\"><div class=\"sk-text-repr-fallback\"><pre>GridSearchCV(cv=3, estimator=GradientBoostingRegressor(random_state=42),\n",
       "             param_grid={&#x27;learning_rate&#x27;: [0.05, 0.1, 0.2],\n",
       "                         &#x27;max_depth&#x27;: [5, 10, 15]},\n",
       "             verbose=5)</pre><b>In a Jupyter environment, please rerun this cell to show the HTML representation or trust the notebook. <br />On GitHub, the HTML representation is unable to render, please try loading this page with nbviewer.org.</b></div><div class=\"sk-container\" hidden><div class=\"sk-item sk-dashed-wrapped\"><div class=\"sk-label-container\"><div class=\"sk-label sk-toggleable\"><input class=\"sk-toggleable__control sk-hidden--visually\" id=\"sk-estimator-id-4\" type=\"checkbox\" ><label for=\"sk-estimator-id-4\" class=\"sk-toggleable__label sk-toggleable__label-arrow\">GridSearchCV</label><div class=\"sk-toggleable__content\"><pre>GridSearchCV(cv=3, estimator=GradientBoostingRegressor(random_state=42),\n",
       "             param_grid={&#x27;learning_rate&#x27;: [0.05, 0.1, 0.2],\n",
       "                         &#x27;max_depth&#x27;: [5, 10, 15]},\n",
       "             verbose=5)</pre></div></div></div><div class=\"sk-parallel\"><div class=\"sk-parallel-item\"><div class=\"sk-item\"><div class=\"sk-label-container\"><div class=\"sk-label sk-toggleable\"><input class=\"sk-toggleable__control sk-hidden--visually\" id=\"sk-estimator-id-5\" type=\"checkbox\" ><label for=\"sk-estimator-id-5\" class=\"sk-toggleable__label sk-toggleable__label-arrow\">estimator: GradientBoostingRegressor</label><div class=\"sk-toggleable__content\"><pre>GradientBoostingRegressor(random_state=42)</pre></div></div></div><div class=\"sk-serial\"><div class=\"sk-item\"><div class=\"sk-estimator sk-toggleable\"><input class=\"sk-toggleable__control sk-hidden--visually\" id=\"sk-estimator-id-6\" type=\"checkbox\" ><label for=\"sk-estimator-id-6\" class=\"sk-toggleable__label sk-toggleable__label-arrow\">GradientBoostingRegressor</label><div class=\"sk-toggleable__content\"><pre>GradientBoostingRegressor(random_state=42)</pre></div></div></div></div></div></div></div></div></div></div>"
      ],
      "text/plain": [
       "GridSearchCV(cv=3, estimator=GradientBoostingRegressor(random_state=42),\n",
       "             param_grid={'learning_rate': [0.05, 0.1, 0.2],\n",
       "                         'max_depth': [5, 10, 15]},\n",
       "             verbose=5)"
      ]
     },
     "execution_count": 75,
     "metadata": {},
     "output_type": "execute_result"
    }
   ],
   "source": [
    "gb_grids.fit(X_trains, np.log1p(y_trains))"
   ]
  },
  {
   "cell_type": "code",
   "execution_count": 76,
   "metadata": {},
   "outputs": [],
   "source": [
    "scores_dfs = pd.DataFrame(gb_grids.cv_results_)"
   ]
  },
  {
   "cell_type": "code",
   "execution_count": 77,
   "metadata": {},
   "outputs": [
    {
     "data": {
      "text/html": [
       "<div>\n",
       "<style scoped>\n",
       "    .dataframe tbody tr th:only-of-type {\n",
       "        vertical-align: middle;\n",
       "    }\n",
       "\n",
       "    .dataframe tbody tr th {\n",
       "        vertical-align: top;\n",
       "    }\n",
       "\n",
       "    .dataframe thead th {\n",
       "        text-align: right;\n",
       "    }\n",
       "</style>\n",
       "<table border=\"1\" class=\"dataframe\">\n",
       "  <thead>\n",
       "    <tr style=\"text-align: right;\">\n",
       "      <th></th>\n",
       "      <th>params</th>\n",
       "      <th>mean_test_score</th>\n",
       "      <th>rank_test_score</th>\n",
       "    </tr>\n",
       "  </thead>\n",
       "  <tbody>\n",
       "    <tr>\n",
       "      <th>5</th>\n",
       "      <td>{'learning_rate': 0.1, 'max_depth': 15}</td>\n",
       "      <td>0.943735</td>\n",
       "      <td>1</td>\n",
       "    </tr>\n",
       "    <tr>\n",
       "      <th>2</th>\n",
       "      <td>{'learning_rate': 0.05, 'max_depth': 15}</td>\n",
       "      <td>0.943334</td>\n",
       "      <td>2</td>\n",
       "    </tr>\n",
       "    <tr>\n",
       "      <th>7</th>\n",
       "      <td>{'learning_rate': 0.2, 'max_depth': 10}</td>\n",
       "      <td>0.943146</td>\n",
       "      <td>3</td>\n",
       "    </tr>\n",
       "    <tr>\n",
       "      <th>8</th>\n",
       "      <td>{'learning_rate': 0.2, 'max_depth': 15}</td>\n",
       "      <td>0.941764</td>\n",
       "      <td>4</td>\n",
       "    </tr>\n",
       "    <tr>\n",
       "      <th>4</th>\n",
       "      <td>{'learning_rate': 0.1, 'max_depth': 10}</td>\n",
       "      <td>0.937686</td>\n",
       "      <td>5</td>\n",
       "    </tr>\n",
       "  </tbody>\n",
       "</table>\n",
       "</div>"
      ],
      "text/plain": [
       "                                     params  mean_test_score  rank_test_score\n",
       "5   {'learning_rate': 0.1, 'max_depth': 15}         0.943735                1\n",
       "2  {'learning_rate': 0.05, 'max_depth': 15}         0.943334                2\n",
       "7   {'learning_rate': 0.2, 'max_depth': 10}         0.943146                3\n",
       "8   {'learning_rate': 0.2, 'max_depth': 15}         0.941764                4\n",
       "4   {'learning_rate': 0.1, 'max_depth': 10}         0.937686                5"
      ]
     },
     "execution_count": 77,
     "metadata": {},
     "output_type": "execute_result"
    }
   ],
   "source": [
    "scores_dfs.sort_values(by=['rank_test_score'], inplace=True)\n",
    "scores_dfs[['params', 'mean_test_score', 'rank_test_score']].head()"
   ]
  },
  {
   "cell_type": "code",
   "execution_count": 78,
   "metadata": {},
   "outputs": [
    {
     "data": {
      "text/plain": [
       "{'learning_rate': 0.1, 'max_depth': 15}"
      ]
     },
     "execution_count": 78,
     "metadata": {},
     "output_type": "execute_result"
    }
   ],
   "source": [
    "gb_grids.best_params_"
   ]
  },
  {
   "cell_type": "code",
   "execution_count": 79,
   "metadata": {},
   "outputs": [],
   "source": [
    "estimators = gb_grids.best_estimator_"
   ]
  },
  {
   "cell_type": "code",
   "execution_count": 80,
   "metadata": {},
   "outputs": [],
   "source": [
    "preds = estimators.predict(X_tests)"
   ]
  },
  {
   "cell_type": "code",
   "execution_count": 81,
   "metadata": {},
   "outputs": [
    {
     "name": "stdout",
     "output_type": "stream",
     "text": [
      "0.04 수온 ℃\n",
      "0.17 전기전도도 μS/cm\n",
      "0.05 총유기탄소 mg/L\n",
      "0.06 총질소 mg/L\n",
      "0.05 총인 mg/L\n",
      "0.14 상류수위(EL.m)\n",
      "0.21 방류량(㎥/s)\n",
      "0.1 2shift 수온\n",
      "0.03 4shift 수온\n",
      "0.01 6shift 수온\n",
      "0.0 8shift 수온\n",
      "0.0 10shift 수온\n",
      "0.0 12shift 수온\n",
      "0.0 14shift 수온\n",
      "0.0 16shift 수온\n",
      "0.0 18shift 수온\n",
      "0.0 20shift 수온\n",
      "0.0 22shift 수온\n",
      "0.01 24shift 수온\n",
      "0.01 30shift 수온\n",
      "0.01 36shift 수온\n",
      "0.01 42shift 수온\n",
      "0.01 48shift 수온\n",
      "0.01 54shift 수온\n",
      "0.02 60shift 수온\n",
      "0.02 66shift 수온\n",
      "0.02 72shift 수온\n"
     ]
    }
   ],
   "source": [
    "for score, name in zip(estimators.feature_importances_, col_v):\n",
    "    print(round(score, 2), name)"
   ]
  },
  {
   "cell_type": "code",
   "execution_count": 82,
   "metadata": {},
   "outputs": [
    {
     "data": {
      "image/png": "[encoded data removed]",
      "text/plain": [
       "<Figure size 432x288 with 1 Axes>"
      ]
     },
     "metadata": {
      "needs_background": "light"
     },
     "output_type": "display_data"
    }
   ],
   "source": [
    "feature_seriess = pd.Series(data = estimators.feature_importances_, index = col_v)\n",
    "feature_seriess = feature_seriess.sort_values(ascending = False)\n",
    "sns.barplot(x = feature_seriess[:10], y = feature_seriess.index[:10], color = 'gray')\n",
    "plt.show()"
   ]
  },
  {
   "cell_type": "code",
   "execution_count": 83,
   "metadata": {},
   "outputs": [
    {
     "data": {
      "text/plain": [
       "방류량(㎥/s)       0.208181\n",
       "전기전도도 μS/cm    0.172090\n",
       "상류수위(EL.m)     0.137524\n",
       "2shift 수온      0.099806\n",
       "총질소 mg/L       0.062059\n",
       "총인 mg/L        0.054695\n",
       "총유기탄소 mg/L     0.049990\n",
       "수온 ℃           0.042197\n",
       "4shift 수온      0.025087\n",
       "66shift 수온     0.021257\n",
       "dtype: float64"
      ]
     },
     "execution_count": 83,
     "metadata": {},
     "output_type": "execute_result"
    }
   ],
   "source": [
    "feature_seriess[:10]"
   ]
  },
  {
   "cell_type": "code",
   "execution_count": 84,
   "metadata": {},
   "outputs": [
    {
     "name": "stdout",
     "output_type": "stream",
     "text": [
      "score : 0.9633798891941563\n"
     ]
    }
   ],
   "source": [
    "print('score :', estimators.score(X_tests, np.log1p(y_tests)))"
   ]
  },
  {
   "cell_type": "code",
   "execution_count": null,
   "metadata": {},
   "outputs": [],
   "source": []
  }
 ],
 "metadata": {
  "kernelspec": {
   "display_name": "Python 3.9.12 ('base')",
   "language": "python",
   "name": "python3"
  },
  "language_info": {
   "codemirror_mode": {
    "name": "ipython",
    "version": 3
   },
   "file_extension": ".py",
   "mimetype": "text/x-python",
   "name": "python",
   "nbconvert_exporter": "python",
   "pygments_lexer": "ipython3",
   "version": "3.9.12"
  },
  "vscode": {
   "interpreter": {
    "hash": "6c86b3592b6800d985c04531f2c445f0fa6967131b8dd6395a925f7622e55602"
   }
  }
 },
 "nbformat": 4,
 "nbformat_minor": 2
}
