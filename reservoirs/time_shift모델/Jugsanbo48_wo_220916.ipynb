{
 "cells": [
  {
   "cell_type": "markdown",
   "id": "ce925ce6",
   "metadata": {},
   "source": [
    "필요한 모듈 임포트"
   ]
  },
  {
   "cell_type": "code",
   "execution_count": 1,
   "id": "91e66a0b",
   "metadata": {},
   "outputs": [],
   "source": [
    "import numpy as np\n",
    "import pandas as pd\n",
    "import matplotlib.pyplot as plt\n",
    "import matplotlib"
   ]
  },
  {
   "cell_type": "code",
   "execution_count": 2,
   "id": "ff6c28ef",
   "metadata": {},
   "outputs": [],
   "source": [
    "# GradientBoosting\n",
    "from sklearn.ensemble import GradientBoostingRegressor\n",
    "from sklearn.model_selection import train_test_split\n",
    "import seaborn as sns\n",
    "from sklearn.model_selection import GridSearchCV"
   ]
  },
  {
   "cell_type": "code",
   "execution_count": 3,
   "id": "f7f5dd40",
   "metadata": {},
   "outputs": [],
   "source": [
    "from sklearn.preprocessing import StandardScaler"
   ]
  },
  {
   "cell_type": "markdown",
   "id": "50a6cce0",
   "metadata": {},
   "source": [
    "데이터 가져오기"
   ]
  },
  {
   "cell_type": "code",
   "execution_count": 4,
   "id": "67006279",
   "metadata": {},
   "outputs": [],
   "source": [
    "base_path = \"https://github.com/codingalzi/water-data/raw/master/reservoirs/\"\n",
    "# base_path = r\"C:\\Users\\owner\\Desktop\\water-source\\data\""
   ]
  },
  {
   "cell_type": "code",
   "execution_count": 5,
   "id": "f954b2a2",
   "metadata": {},
   "outputs": [],
   "source": [
    "jsb_yearly = pd.read_excel(base_path+\"Jugsanbo.xlsx\", \n",
    "# jsb_yearly = pd.read_excel(base_path+\"\\Jugsanbo.xlsx\", \n",
    "                            skiprows=0, \n",
    "                            header=1, \n",
    "                            sheet_name=None,\n",
    "                            na_values='ND',\n",
    "                            parse_dates=True)  # index_col = 0을 제외함"
   ]
  },
  {
   "cell_type": "code",
   "execution_count": 6,
   "id": "f72e1370",
   "metadata": {},
   "outputs": [
    {
     "name": "stdout",
     "output_type": "stream",
     "text": [
      "<class 'dict'>\n",
      "dict_keys(['2012년', '2013년', '2014년', '2015년', '2016년', '2017년', '2018년', '2019년', '2020년', '2021년', '2022년'])\n"
     ]
    }
   ],
   "source": [
    "print(type(jsb_yearly))  # type-dict\n",
    "print(jsb_yearly.keys())  # 2012년부터 2022년까지"
   ]
  },
  {
   "cell_type": "code",
   "execution_count": 7,
   "id": "b02c6e94",
   "metadata": {},
   "outputs": [
    {
     "data": {
      "text/plain": [
       "Index(['측정일/월', '측정소명', '수온 ℃', '수소이온농도', '전기전도도 μS/cm', '용존산소 mg/L', '탁도 NTU',\n",
       "       '총유기탄소 mg/L', '총질소 mg/L', '총인 mg/L', '클로로필-a mg/㎥'],\n",
       "      dtype='object')"
      ]
     },
     "execution_count": 7,
     "metadata": {},
     "output_type": "execute_result"
    }
   ],
   "source": [
    "jsb_yearly['2012년'].columns"
   ]
  },
  {
   "cell_type": "markdown",
   "id": "e63b1337",
   "metadata": {},
   "source": [
    "2013년 자료부터"
   ]
  },
  {
   "cell_type": "code",
   "execution_count": 8,
   "id": "67e6f6ff",
   "metadata": {},
   "outputs": [],
   "source": [
    "jsb_yearly_df13 = pd.DataFrame()\n",
    "\n",
    "for item in list(jsb_yearly.keys())[1:]:\n",
    "    jsb_yearly_df13 = pd.concat([jsb_yearly_df13, jsb_yearly[item]])"
   ]
  },
  {
   "cell_type": "code",
   "execution_count": 9,
   "id": "72edb276",
   "metadata": {},
   "outputs": [],
   "source": [
    "jsb_yearly_df13 = jsb_yearly_df13.reset_index(drop=True)"
   ]
  },
  {
   "cell_type": "markdown",
   "id": "e21676f1",
   "metadata": {},
   "source": [
    "결측치 확인"
   ]
  },
  {
   "cell_type": "code",
   "execution_count": 10,
   "id": "529a98e6",
   "metadata": {},
   "outputs": [
    {
     "name": "stdout",
     "output_type": "stream",
     "text": [
      "<class 'pandas.core.frame.DataFrame'>\n",
      "RangeIndex: 82064 entries, 0 to 82063\n",
      "Data columns (total 11 columns):\n",
      " #   Column       Non-Null Count  Dtype  \n",
      "---  ------       --------------  -----  \n",
      " 0   측정일/월        82064 non-null  object \n",
      " 1   측정소명         82064 non-null  object \n",
      " 2   수온 ℃         71955 non-null  float64\n",
      " 3   수소이온농도       72092 non-null  float64\n",
      " 4   전기전도도 μS/cm  72139 non-null  float64\n",
      " 5   용존산소 mg/L    70998 non-null  float64\n",
      " 6   탁도 NTU       71312 non-null  float64\n",
      " 7   총유기탄소 mg/L   66051 non-null  float64\n",
      " 8   총질소 mg/L     67124 non-null  float64\n",
      " 9   총인 mg/L      67772 non-null  float64\n",
      " 10  클로로필-a mg/㎥  69643 non-null  float64\n",
      "dtypes: float64(9), object(2)\n",
      "memory usage: 6.9+ MB\n"
     ]
    }
   ],
   "source": [
    "jsb_yearly_df13.info()"
   ]
  },
  {
   "cell_type": "code",
   "execution_count": 11,
   "id": "f59d2c99",
   "metadata": {},
   "outputs": [
    {
     "data": {
      "text/plain": [
       "측정일/월              0\n",
       "측정소명               0\n",
       "수온 ℃           10109\n",
       "수소이온농도          9972\n",
       "전기전도도 μS/cm     9925\n",
       "용존산소 mg/L      11066\n",
       "탁도 NTU         10752\n",
       "총유기탄소 mg/L     16013\n",
       "총질소 mg/L       14940\n",
       "총인 mg/L        14292\n",
       "클로로필-a mg/㎥    12421\n",
       "dtype: int64"
      ]
     },
     "execution_count": 11,
     "metadata": {},
     "output_type": "execute_result"
    }
   ],
   "source": [
    "jsb_yearly_df13.isnull().sum()"
   ]
  },
  {
   "cell_type": "code",
   "execution_count": 12,
   "id": "42391d6e",
   "metadata": {},
   "outputs": [
    {
     "data": {
      "text/html": [
       "<div>\n",
       "<style scoped>\n",
       "    .dataframe tbody tr th:only-of-type {\n",
       "        vertical-align: middle;\n",
       "    }\n",
       "\n",
       "    .dataframe tbody tr th {\n",
       "        vertical-align: top;\n",
       "    }\n",
       "\n",
       "    .dataframe thead th {\n",
       "        text-align: right;\n",
       "    }\n",
       "</style>\n",
       "<table border=\"1\" class=\"dataframe\">\n",
       "  <thead>\n",
       "    <tr style=\"text-align: right;\">\n",
       "      <th></th>\n",
       "      <th>측정일/월</th>\n",
       "      <th>측정소명</th>\n",
       "      <th>수온 ℃</th>\n",
       "      <th>수소이온농도</th>\n",
       "      <th>전기전도도 μS/cm</th>\n",
       "      <th>용존산소 mg/L</th>\n",
       "      <th>탁도 NTU</th>\n",
       "      <th>총유기탄소 mg/L</th>\n",
       "      <th>총질소 mg/L</th>\n",
       "      <th>총인 mg/L</th>\n",
       "      <th>클로로필-a mg/㎥</th>\n",
       "    </tr>\n",
       "  </thead>\n",
       "  <tbody>\n",
       "    <tr>\n",
       "      <th>0</th>\n",
       "      <td>2013-01-01 00h</td>\n",
       "      <td>나주</td>\n",
       "      <td>3.3</td>\n",
       "      <td>6.8</td>\n",
       "      <td>272.0</td>\n",
       "      <td>12.0</td>\n",
       "      <td>1.8</td>\n",
       "      <td>1.9</td>\n",
       "      <td>NaN</td>\n",
       "      <td>NaN</td>\n",
       "      <td>12.2</td>\n",
       "    </tr>\n",
       "    <tr>\n",
       "      <th>1</th>\n",
       "      <td>2013-01-01 01h</td>\n",
       "      <td>나주</td>\n",
       "      <td>3.1</td>\n",
       "      <td>6.7</td>\n",
       "      <td>272.0</td>\n",
       "      <td>12.0</td>\n",
       "      <td>1.7</td>\n",
       "      <td>1.9</td>\n",
       "      <td>NaN</td>\n",
       "      <td>NaN</td>\n",
       "      <td>12.0</td>\n",
       "    </tr>\n",
       "    <tr>\n",
       "      <th>2</th>\n",
       "      <td>2013-01-01 02h</td>\n",
       "      <td>나주</td>\n",
       "      <td>3.0</td>\n",
       "      <td>6.7</td>\n",
       "      <td>273.0</td>\n",
       "      <td>12.0</td>\n",
       "      <td>1.7</td>\n",
       "      <td>1.9</td>\n",
       "      <td>NaN</td>\n",
       "      <td>NaN</td>\n",
       "      <td>12.1</td>\n",
       "    </tr>\n",
       "    <tr>\n",
       "      <th>3</th>\n",
       "      <td>2013-01-01 03h</td>\n",
       "      <td>나주</td>\n",
       "      <td>3.0</td>\n",
       "      <td>6.7</td>\n",
       "      <td>275.0</td>\n",
       "      <td>12.0</td>\n",
       "      <td>1.6</td>\n",
       "      <td>1.9</td>\n",
       "      <td>NaN</td>\n",
       "      <td>NaN</td>\n",
       "      <td>12.2</td>\n",
       "    </tr>\n",
       "    <tr>\n",
       "      <th>4</th>\n",
       "      <td>2013-01-01 04h</td>\n",
       "      <td>나주</td>\n",
       "      <td>2.9</td>\n",
       "      <td>6.7</td>\n",
       "      <td>276.0</td>\n",
       "      <td>12.0</td>\n",
       "      <td>1.5</td>\n",
       "      <td>1.9</td>\n",
       "      <td>NaN</td>\n",
       "      <td>NaN</td>\n",
       "      <td>12.1</td>\n",
       "    </tr>\n",
       "  </tbody>\n",
       "</table>\n",
       "</div>"
      ],
      "text/plain": [
       "            측정일/월 측정소명  수온 ℃  수소이온농도  전기전도도 μS/cm  용존산소 mg/L  탁도 NTU  \\\n",
       "0  2013-01-01 00h   나주   3.3     6.8        272.0       12.0     1.8   \n",
       "1  2013-01-01 01h   나주   3.1     6.7        272.0       12.0     1.7   \n",
       "2  2013-01-01 02h   나주   3.0     6.7        273.0       12.0     1.7   \n",
       "3  2013-01-01 03h   나주   3.0     6.7        275.0       12.0     1.6   \n",
       "4  2013-01-01 04h   나주   2.9     6.7        276.0       12.0     1.5   \n",
       "\n",
       "   총유기탄소 mg/L  총질소 mg/L  총인 mg/L  클로로필-a mg/㎥  \n",
       "0         1.9       NaN      NaN         12.2  \n",
       "1         1.9       NaN      NaN         12.0  \n",
       "2         1.9       NaN      NaN         12.1  \n",
       "3         1.9       NaN      NaN         12.2  \n",
       "4         1.9       NaN      NaN         12.1  "
      ]
     },
     "execution_count": 12,
     "metadata": {},
     "output_type": "execute_result"
    }
   ],
   "source": [
    "jsb_yearly_df13.head()"
   ]
  },
  {
   "cell_type": "markdown",
   "id": "fe33dbb5",
   "metadata": {},
   "source": [
    "유량 데이터 추가하기"
   ]
  },
  {
   "cell_type": "code",
   "execution_count": 13,
   "id": "3dcd1b7c",
   "metadata": {},
   "outputs": [],
   "source": [
    "jsb_flow_yearly = pd.read_excel(base_path+\"Jugsanbo_flow.xlsx\", \n",
    "# jsb_flow_yearly = pd.read_excel(base_path+\"\\Jugsanbo_flow.xlsx\", \n",
    "                            header=0, \n",
    "                            sheet_name=None,\n",
    "                            na_values='ND',\n",
    "                            parse_dates=True)  # index_col = 0을 제외함"
   ]
  },
  {
   "cell_type": "code",
   "execution_count": 14,
   "id": "93384a27",
   "metadata": {},
   "outputs": [],
   "source": [
    "for year in list(jsb_flow_yearly.keys())[1:]:\n",
    "    jsb_flow_yearly[year]['연월일시'] = jsb_flow_yearly[year]['시간'].apply(lambda x : x[:-3])"
   ]
  },
  {
   "cell_type": "code",
   "execution_count": 15,
   "id": "fc5d64be",
   "metadata": {},
   "outputs": [],
   "source": [
    "jsb_flow_yearly_hour = {}\n",
    "\n",
    "for year in list(jsb_flow_yearly.keys())[1:]:\n",
    "    jsb_flow_yearly_hour[year] = jsb_flow_yearly[year].groupby('연월일시').mean()"
   ]
  },
  {
   "cell_type": "code",
   "execution_count": 16,
   "id": "a9a687f6",
   "metadata": {},
   "outputs": [],
   "source": [
    "for year in jsb_flow_yearly_hour:\n",
    "    jsb_flow_yearly_hour[year] = jsb_flow_yearly_hour[year].reset_index()"
   ]
  },
  {
   "cell_type": "code",
   "execution_count": 17,
   "id": "ea35293b",
   "metadata": {},
   "outputs": [],
   "source": [
    "jsb_flow_yearly_hour_df = pd.DataFrame()\n",
    "\n",
    "for year in jsb_flow_yearly_hour:\n",
    "    jsb_flow_yearly_hour_df = pd.concat([jsb_flow_yearly_hour_df, jsb_flow_yearly_hour[year]])"
   ]
  },
  {
   "cell_type": "code",
   "execution_count": 18,
   "id": "6b039552",
   "metadata": {},
   "outputs": [],
   "source": [
    "jsb_flow_yearly_hour_df = jsb_flow_yearly_hour_df.reset_index(drop=True)"
   ]
  },
  {
   "cell_type": "code",
   "execution_count": 19,
   "id": "c79bbead",
   "metadata": {},
   "outputs": [
    {
     "name": "stdout",
     "output_type": "stream",
     "text": [
      "84462\n",
      "82064\n"
     ]
    }
   ],
   "source": [
    "print(jsb_flow_yearly_hour_df.__len__())\n",
    "print(jsb_yearly_df13.__len__())"
   ]
  },
  {
   "cell_type": "code",
   "execution_count": 20,
   "id": "6f07d7ab",
   "metadata": {},
   "outputs": [],
   "source": [
    "jsb_yearly_df13['연월일시'] = jsb_yearly_df13['측정일/월'].transform(lambda x: x.strip('h').replace('-', '.'))"
   ]
  },
  {
   "cell_type": "code",
   "execution_count": 21,
   "id": "7db334eb",
   "metadata": {},
   "outputs": [],
   "source": [
    "jsb_data = pd.merge(jsb_yearly_df13, jsb_flow_yearly_hour_df, how='outer')"
   ]
  },
  {
   "cell_type": "code",
   "execution_count": 22,
   "id": "32293c2d",
   "metadata": {},
   "outputs": [],
   "source": [
    "jsb_data = jsb_data[:82064]"
   ]
  },
  {
   "cell_type": "code",
   "execution_count": 23,
   "id": "a5efb142",
   "metadata": {},
   "outputs": [
    {
     "name": "stdout",
     "output_type": "stream",
     "text": [
      "<class 'pandas.core.frame.DataFrame'>\n",
      "Int64Index: 82064 entries, 0 to 82063\n",
      "Data columns (total 16 columns):\n",
      " #   Column       Non-Null Count  Dtype  \n",
      "---  ------       --------------  -----  \n",
      " 0   측정일/월        82064 non-null  object \n",
      " 1   측정소명         82064 non-null  object \n",
      " 2   수온 ℃         71955 non-null  float64\n",
      " 3   수소이온농도       72092 non-null  float64\n",
      " 4   전기전도도 μS/cm  72139 non-null  float64\n",
      " 5   용존산소 mg/L    70998 non-null  float64\n",
      " 6   탁도 NTU       71312 non-null  float64\n",
      " 7   총유기탄소 mg/L   66051 non-null  float64\n",
      " 8   총질소 mg/L     67124 non-null  float64\n",
      " 9   총인 mg/L      67772 non-null  float64\n",
      " 10  클로로필-a mg/㎥  69643 non-null  float64\n",
      " 11  연월일시         82064 non-null  object \n",
      " 12   상류수위(EL.m)  82051 non-null  float64\n",
      " 13   하류수위(EL.m)  82051 non-null  float64\n",
      " 14   유입량(㎥/s)    82051 non-null  float64\n",
      " 15   방류량(㎥/s)    82051 non-null  float64\n",
      "dtypes: float64(13), object(3)\n",
      "memory usage: 10.6+ MB\n"
     ]
    }
   ],
   "source": [
    "jsb_data.info()"
   ]
  },
  {
   "cell_type": "code",
   "execution_count": 24,
   "id": "51473373",
   "metadata": {},
   "outputs": [],
   "source": [
    "jsb_data.columns = [x.strip() for x in list(jsb_data.columns)]"
   ]
  },
  {
   "cell_type": "code",
   "execution_count": 25,
   "id": "88c0cc65",
   "metadata": {},
   "outputs": [
    {
     "name": "stdout",
     "output_type": "stream",
     "text": [
      "<class 'pandas.core.frame.DataFrame'>\n",
      "Int64Index: 82064 entries, 0 to 82063\n",
      "Data columns (total 16 columns):\n",
      " #   Column       Non-Null Count  Dtype  \n",
      "---  ------       --------------  -----  \n",
      " 0   측정일/월        82064 non-null  object \n",
      " 1   측정소명         82064 non-null  object \n",
      " 2   수온 ℃         71955 non-null  float64\n",
      " 3   수소이온농도       72092 non-null  float64\n",
      " 4   전기전도도 μS/cm  72139 non-null  float64\n",
      " 5   용존산소 mg/L    70998 non-null  float64\n",
      " 6   탁도 NTU       71312 non-null  float64\n",
      " 7   총유기탄소 mg/L   66051 non-null  float64\n",
      " 8   총질소 mg/L     67124 non-null  float64\n",
      " 9   총인 mg/L      67772 non-null  float64\n",
      " 10  클로로필-a mg/㎥  69643 non-null  float64\n",
      " 11  연월일시         82064 non-null  object \n",
      " 12  상류수위(EL.m)   82051 non-null  float64\n",
      " 13  하류수위(EL.m)   82051 non-null  float64\n",
      " 14  유입량(㎥/s)     82051 non-null  float64\n",
      " 15  방류량(㎥/s)     82051 non-null  float64\n",
      "dtypes: float64(13), object(3)\n",
      "memory usage: 10.6+ MB\n"
     ]
    }
   ],
   "source": [
    "jsb_data.info()"
   ]
  },
  {
   "cell_type": "code",
   "execution_count": 26,
   "id": "c57ebe33",
   "metadata": {},
   "outputs": [],
   "source": [
    "jsb_data = jsb_data.loc[:, list(jsb_data.columns)[:3]  + list(jsb_data.columns)[4:5] + list(jsb_data.columns)[6:-5] + list(jsb_data.columns)[-4:-3] + list(jsb_data.columns)[-1:]]"
   ]
  },
  {
   "cell_type": "code",
   "execution_count": 27,
   "id": "5588c0d5",
   "metadata": {},
   "outputs": [
    {
     "data": {
      "text/plain": [
       "Index(['측정일/월', '측정소명', '수온 ℃', '전기전도도 μS/cm', '탁도 NTU', '총유기탄소 mg/L',\n",
       "       '총질소 mg/L', '총인 mg/L', '클로로필-a mg/㎥', '상류수위(EL.m)', '방류량(㎥/s)'],\n",
       "      dtype='object')"
      ]
     },
     "execution_count": 27,
     "metadata": {},
     "output_type": "execute_result"
    }
   ],
   "source": [
    "jsb_data.columns"
   ]
  },
  {
   "cell_type": "code",
   "execution_count": 28,
   "id": "1b1383f1",
   "metadata": {},
   "outputs": [
    {
     "data": {
      "text/plain": [
       "측정일/월              0\n",
       "측정소명               0\n",
       "수온 ℃           10109\n",
       "전기전도도 μS/cm     9925\n",
       "탁도 NTU         10752\n",
       "총유기탄소 mg/L     16013\n",
       "총질소 mg/L       14940\n",
       "총인 mg/L        14292\n",
       "클로로필-a mg/㎥    12421\n",
       "상류수위(EL.m)        13\n",
       "방류량(㎥/s)          13\n",
       "dtype: int64"
      ]
     },
     "execution_count": 28,
     "metadata": {},
     "output_type": "execute_result"
    }
   ],
   "source": [
    "jsb_data.isnull().sum()"
   ]
  },
  {
   "cell_type": "code",
   "execution_count": 29,
   "id": "e3200bfe",
   "metadata": {},
   "outputs": [
    {
     "data": {
      "text/plain": [
       "측정일/월          0.000000\n",
       "측정소명           0.000000\n",
       "수온 ℃           0.123184\n",
       "전기전도도 μS/cm    0.120942\n",
       "탁도 NTU         0.131020\n",
       "총유기탄소 mg/L     0.195128\n",
       "총질소 mg/L       0.182053\n",
       "총인 mg/L        0.174157\n",
       "클로로필-a mg/㎥    0.151357\n",
       "상류수위(EL.m)     0.000158\n",
       "방류량(㎥/s)       0.000158\n",
       "dtype: float64"
      ]
     },
     "execution_count": 29,
     "metadata": {},
     "output_type": "execute_result"
    }
   ],
   "source": [
    "jsb_data.isnull().sum() /len(jsb_data)"
   ]
  },
  {
   "cell_type": "code",
   "execution_count": 30,
   "id": "e39aea47",
   "metadata": {},
   "outputs": [
    {
     "data": {
      "text/plain": [
       "82064"
      ]
     },
     "execution_count": 30,
     "metadata": {},
     "output_type": "execute_result"
    }
   ],
   "source": [
    "len(jsb_data)"
   ]
  },
  {
   "cell_type": "markdown",
   "id": "046c1bbc",
   "metadata": {},
   "source": [
    "시간데이터 추가"
   ]
  },
  {
   "cell_type": "code",
   "execution_count": 31,
   "id": "b877edef",
   "metadata": {},
   "outputs": [],
   "source": [
    "jsb_df = jsb_data.copy()"
   ]
  },
  {
   "cell_type": "code",
   "execution_count": 32,
   "id": "56dad7e0",
   "metadata": {},
   "outputs": [
    {
     "data": {
      "text/plain": [
       "Index(['측정일/월', '측정소명', '수온 ℃', '전기전도도 μS/cm', '탁도 NTU', '총유기탄소 mg/L',\n",
       "       '총질소 mg/L', '총인 mg/L', '클로로필-a mg/㎥', '상류수위(EL.m)', '방류량(㎥/s)'],\n",
       "      dtype='object')"
      ]
     },
     "execution_count": 32,
     "metadata": {},
     "output_type": "execute_result"
    }
   ],
   "source": [
    "jsb_df.columns"
   ]
  },
  {
   "cell_type": "code",
   "execution_count": 33,
   "id": "cbec438b",
   "metadata": {},
   "outputs": [],
   "source": [
    "col_c = list(jsb_df.columns.copy())\n",
    "col_c.remove('클로로필-a mg/㎥')"
   ]
  },
  {
   "cell_type": "code",
   "execution_count": 34,
   "id": "a34ab547",
   "metadata": {},
   "outputs": [
    {
     "data": {
      "text/plain": [
       "['측정일/월',\n",
       " '측정소명',\n",
       " '수온 ℃',\n",
       " '전기전도도 μS/cm',\n",
       " '탁도 NTU',\n",
       " '총유기탄소 mg/L',\n",
       " '총질소 mg/L',\n",
       " '총인 mg/L',\n",
       " '상류수위(EL.m)',\n",
       " '방류량(㎥/s)']"
      ]
     },
     "execution_count": 34,
     "metadata": {},
     "output_type": "execute_result"
    }
   ],
   "source": [
    "col_c"
   ]
  },
  {
   "cell_type": "code",
   "execution_count": 35,
   "id": "5c3ed198",
   "metadata": {},
   "outputs": [
    {
     "name": "stderr",
     "output_type": "stream",
     "text": [
      "/tmp/ipykernel_3049/3950707837.py:3: PerformanceWarning: DataFrame is highly fragmented.  This is usually the result of calling `frame.insert` many times, which has poor performance.  Consider joining all columns at once using pd.concat(axis=1) instead.  To get a de-fragmented frame, use `newframe = frame.copy()`\n",
      "  jsb_df[str(i) + 'shift' + var] = jsb_df[var].shift(i)\n"
     ]
    }
   ],
   "source": [
    "for var in col_c[2:]:\n",
    "    for i in range(1, 49):\n",
    "        jsb_df[str(i) + 'shift' + var] = jsb_df[var].shift(i)"
   ]
  },
  {
   "cell_type": "code",
   "execution_count": 36,
   "id": "c32892ef",
   "metadata": {},
   "outputs": [
    {
     "data": {
      "text/plain": [
       "82064"
      ]
     },
     "execution_count": 36,
     "metadata": {},
     "output_type": "execute_result"
    }
   ],
   "source": [
    "len(jsb_df)"
   ]
  },
  {
   "cell_type": "code",
   "execution_count": 37,
   "id": "09435085",
   "metadata": {},
   "outputs": [
    {
     "data": {
      "text/plain": [
       "Index(['측정일/월', '측정소명', '수온 ℃', '전기전도도 μS/cm', '탁도 NTU', '총유기탄소 mg/L',\n",
       "       '총질소 mg/L', '총인 mg/L', '클로로필-a mg/㎥', '상류수위(EL.m)',\n",
       "       ...\n",
       "       '39shift방류량(㎥/s)', '40shift방류량(㎥/s)', '41shift방류량(㎥/s)',\n",
       "       '42shift방류량(㎥/s)', '43shift방류량(㎥/s)', '44shift방류량(㎥/s)',\n",
       "       '45shift방류량(㎥/s)', '46shift방류량(㎥/s)', '47shift방류량(㎥/s)',\n",
       "       '48shift방류량(㎥/s)'],\n",
       "      dtype='object', length=395)"
      ]
     },
     "execution_count": 37,
     "metadata": {},
     "output_type": "execute_result"
    }
   ],
   "source": [
    "jsb_df.columns"
   ]
  },
  {
   "cell_type": "code",
   "execution_count": 38,
   "id": "2e1e1935",
   "metadata": {},
   "outputs": [
    {
     "data": {
      "text/plain": [
       "82064"
      ]
     },
     "execution_count": 38,
     "metadata": {},
     "output_type": "execute_result"
    }
   ],
   "source": [
    "len(jsb_df)"
   ]
  },
  {
   "cell_type": "markdown",
   "id": "fed67ec4",
   "metadata": {},
   "source": [
    "결측치 보간법"
   ]
  },
  {
   "cell_type": "code",
   "execution_count": 39,
   "id": "c0d98c84",
   "metadata": {},
   "outputs": [],
   "source": [
    "from datetime import datetime"
   ]
  },
  {
   "cell_type": "code",
   "execution_count": 40,
   "id": "9fd90744",
   "metadata": {},
   "outputs": [],
   "source": [
    "jsb_df = jsb_df.copy()"
   ]
  },
  {
   "cell_type": "code",
   "execution_count": 41,
   "id": "34e8ef6b",
   "metadata": {},
   "outputs": [],
   "source": [
    "jsb_df['측정일/월'] = jsb_df['측정일/월'].transform(lambda x: datetime.strptime(x[:-1], '%Y-%m-%d %H'))"
   ]
  },
  {
   "cell_type": "code",
   "execution_count": 42,
   "id": "3e46fd1a",
   "metadata": {},
   "outputs": [],
   "source": [
    "jsb_df = jsb_df.copy().set_index('측정일/월').interpolate(method='time')"
   ]
  },
  {
   "cell_type": "code",
   "execution_count": 43,
   "id": "51aa80ea",
   "metadata": {},
   "outputs": [],
   "source": [
    "jsb_df = jsb_df.dropna()"
   ]
  },
  {
   "cell_type": "code",
   "execution_count": 44,
   "id": "d9c55669",
   "metadata": {},
   "outputs": [
    {
     "data": {
      "text/plain": [
       "79915"
      ]
     },
     "execution_count": 44,
     "metadata": {},
     "output_type": "execute_result"
    }
   ],
   "source": [
    "jsb_df.__len__()"
   ]
  },
  {
   "cell_type": "code",
   "execution_count": 45,
   "id": "5f390c10",
   "metadata": {},
   "outputs": [
    {
     "data": {
      "text/plain": [
       "Index(['측정소명', '수온 ℃', '전기전도도 μS/cm', '탁도 NTU', '총유기탄소 mg/L', '총질소 mg/L',\n",
       "       '총인 mg/L', '클로로필-a mg/㎥', '상류수위(EL.m)', '방류량(㎥/s)',\n",
       "       ...\n",
       "       '39shift방류량(㎥/s)', '40shift방류량(㎥/s)', '41shift방류량(㎥/s)',\n",
       "       '42shift방류량(㎥/s)', '43shift방류량(㎥/s)', '44shift방류량(㎥/s)',\n",
       "       '45shift방류량(㎥/s)', '46shift방류량(㎥/s)', '47shift방류량(㎥/s)',\n",
       "       '48shift방류량(㎥/s)'],\n",
       "      dtype='object', length=394)"
      ]
     },
     "execution_count": 45,
     "metadata": {},
     "output_type": "execute_result"
    }
   ],
   "source": [
    "jsb_df.columns"
   ]
  },
  {
   "cell_type": "code",
   "execution_count": 46,
   "id": "a6c11321",
   "metadata": {},
   "outputs": [
    {
     "name": "stdout",
     "output_type": "stream",
     "text": [
      "['전기전도도 μS/cm', '탁도 NTU', '총유기탄소 mg/L', '총질소 mg/L', '총인 mg/L', '클로로필-a mg/㎥', '상류수위(EL.m)', '방류량(㎥/s)', '1shift수온 ℃', '2shift수온 ℃', '3shift수온 ℃', '4shift수온 ℃', '5shift수온 ℃', '6shift수온 ℃', '7shift수온 ℃', '8shift수온 ℃', '9shift수온 ℃', '10shift수온 ℃', '11shift수온 ℃', '12shift수온 ℃', '13shift수온 ℃', '14shift수온 ℃', '15shift수온 ℃', '16shift수온 ℃', '17shift수온 ℃', '18shift수온 ℃', '19shift수온 ℃', '20shift수온 ℃', '21shift수온 ℃', '22shift수온 ℃', '23shift수온 ℃', '24shift수온 ℃', '25shift수온 ℃', '26shift수온 ℃', '27shift수온 ℃', '28shift수온 ℃', '29shift수온 ℃', '30shift수온 ℃', '31shift수온 ℃', '32shift수온 ℃', '33shift수온 ℃', '34shift수온 ℃', '35shift수온 ℃', '36shift수온 ℃', '37shift수온 ℃', '38shift수온 ℃', '39shift수온 ℃', '40shift수온 ℃', '41shift수온 ℃', '42shift수온 ℃', '43shift수온 ℃', '44shift수온 ℃', '45shift수온 ℃', '46shift수온 ℃', '47shift수온 ℃', '48shift수온 ℃', '1shift전기전도도 μS/cm', '2shift전기전도도 μS/cm', '3shift전기전도도 μS/cm', '4shift전기전도도 μS/cm', '5shift전기전도도 μS/cm', '6shift전기전도도 μS/cm', '7shift전기전도도 μS/cm', '8shift전기전도도 μS/cm', '9shift전기전도도 μS/cm', '10shift전기전도도 μS/cm', '11shift전기전도도 μS/cm', '12shift전기전도도 μS/cm', '13shift전기전도도 μS/cm', '14shift전기전도도 μS/cm', '15shift전기전도도 μS/cm', '16shift전기전도도 μS/cm', '17shift전기전도도 μS/cm', '18shift전기전도도 μS/cm', '19shift전기전도도 μS/cm', '20shift전기전도도 μS/cm', '21shift전기전도도 μS/cm', '22shift전기전도도 μS/cm', '23shift전기전도도 μS/cm', '24shift전기전도도 μS/cm', '25shift전기전도도 μS/cm', '26shift전기전도도 μS/cm', '27shift전기전도도 μS/cm', '28shift전기전도도 μS/cm', '29shift전기전도도 μS/cm', '30shift전기전도도 μS/cm', '31shift전기전도도 μS/cm', '32shift전기전도도 μS/cm', '33shift전기전도도 μS/cm', '34shift전기전도도 μS/cm', '35shift전기전도도 μS/cm', '36shift전기전도도 μS/cm', '37shift전기전도도 μS/cm', '38shift전기전도도 μS/cm', '39shift전기전도도 μS/cm', '40shift전기전도도 μS/cm', '41shift전기전도도 μS/cm', '42shift전기전도도 μS/cm', '43shift전기전도도 μS/cm', '44shift전기전도도 μS/cm', '45shift전기전도도 μS/cm', '46shift전기전도도 μS/cm', '47shift전기전도도 μS/cm', '48shift전기전도도 μS/cm', '1shift탁도 NTU', '2shift탁도 NTU', '3shift탁도 NTU', '4shift탁도 NTU', '5shift탁도 NTU', '6shift탁도 NTU', '7shift탁도 NTU', '8shift탁도 NTU', '9shift탁도 NTU', '10shift탁도 NTU', '11shift탁도 NTU', '12shift탁도 NTU', '13shift탁도 NTU', '14shift탁도 NTU', '15shift탁도 NTU', '16shift탁도 NTU', '17shift탁도 NTU', '18shift탁도 NTU', '19shift탁도 NTU', '20shift탁도 NTU', '21shift탁도 NTU', '22shift탁도 NTU', '23shift탁도 NTU', '24shift탁도 NTU', '25shift탁도 NTU', '26shift탁도 NTU', '27shift탁도 NTU', '28shift탁도 NTU', '29shift탁도 NTU', '30shift탁도 NTU', '31shift탁도 NTU', '32shift탁도 NTU', '33shift탁도 NTU', '34shift탁도 NTU', '35shift탁도 NTU', '36shift탁도 NTU', '37shift탁도 NTU', '38shift탁도 NTU', '39shift탁도 NTU', '40shift탁도 NTU', '41shift탁도 NTU', '42shift탁도 NTU', '43shift탁도 NTU', '44shift탁도 NTU', '45shift탁도 NTU', '46shift탁도 NTU', '47shift탁도 NTU', '48shift탁도 NTU', '1shift총유기탄소 mg/L', '2shift총유기탄소 mg/L', '3shift총유기탄소 mg/L', '4shift총유기탄소 mg/L', '5shift총유기탄소 mg/L', '6shift총유기탄소 mg/L', '7shift총유기탄소 mg/L', '8shift총유기탄소 mg/L', '9shift총유기탄소 mg/L', '10shift총유기탄소 mg/L', '11shift총유기탄소 mg/L', '12shift총유기탄소 mg/L', '13shift총유기탄소 mg/L', '14shift총유기탄소 mg/L', '15shift총유기탄소 mg/L', '16shift총유기탄소 mg/L', '17shift총유기탄소 mg/L', '18shift총유기탄소 mg/L', '19shift총유기탄소 mg/L', '20shift총유기탄소 mg/L', '21shift총유기탄소 mg/L', '22shift총유기탄소 mg/L', '23shift총유기탄소 mg/L', '24shift총유기탄소 mg/L', '25shift총유기탄소 mg/L', '26shift총유기탄소 mg/L', '27shift총유기탄소 mg/L', '28shift총유기탄소 mg/L', '29shift총유기탄소 mg/L', '30shift총유기탄소 mg/L', '31shift총유기탄소 mg/L', '32shift총유기탄소 mg/L', '33shift총유기탄소 mg/L', '34shift총유기탄소 mg/L', '35shift총유기탄소 mg/L', '36shift총유기탄소 mg/L', '37shift총유기탄소 mg/L', '38shift총유기탄소 mg/L', '39shift총유기탄소 mg/L', '40shift총유기탄소 mg/L', '41shift총유기탄소 mg/L', '42shift총유기탄소 mg/L', '43shift총유기탄소 mg/L', '44shift총유기탄소 mg/L', '45shift총유기탄소 mg/L', '46shift총유기탄소 mg/L', '47shift총유기탄소 mg/L', '48shift총유기탄소 mg/L', '1shift총질소 mg/L', '2shift총질소 mg/L', '3shift총질소 mg/L', '4shift총질소 mg/L', '5shift총질소 mg/L', '6shift총질소 mg/L', '7shift총질소 mg/L', '8shift총질소 mg/L', '9shift총질소 mg/L', '10shift총질소 mg/L', '11shift총질소 mg/L', '12shift총질소 mg/L', '13shift총질소 mg/L', '14shift총질소 mg/L', '15shift총질소 mg/L', '16shift총질소 mg/L', '17shift총질소 mg/L', '18shift총질소 mg/L', '19shift총질소 mg/L', '20shift총질소 mg/L', '21shift총질소 mg/L', '22shift총질소 mg/L', '23shift총질소 mg/L', '24shift총질소 mg/L', '25shift총질소 mg/L', '26shift총질소 mg/L', '27shift총질소 mg/L', '28shift총질소 mg/L', '29shift총질소 mg/L', '30shift총질소 mg/L', '31shift총질소 mg/L', '32shift총질소 mg/L', '33shift총질소 mg/L', '34shift총질소 mg/L', '35shift총질소 mg/L', '36shift총질소 mg/L', '37shift총질소 mg/L', '38shift총질소 mg/L', '39shift총질소 mg/L', '40shift총질소 mg/L', '41shift총질소 mg/L', '42shift총질소 mg/L', '43shift총질소 mg/L', '44shift총질소 mg/L', '45shift총질소 mg/L', '46shift총질소 mg/L', '47shift총질소 mg/L', '48shift총질소 mg/L', '1shift총인 mg/L', '2shift총인 mg/L', '3shift총인 mg/L', '4shift총인 mg/L', '5shift총인 mg/L', '6shift총인 mg/L', '7shift총인 mg/L', '8shift총인 mg/L', '9shift총인 mg/L', '10shift총인 mg/L', '11shift총인 mg/L', '12shift총인 mg/L', '13shift총인 mg/L', '14shift총인 mg/L', '15shift총인 mg/L', '16shift총인 mg/L', '17shift총인 mg/L', '18shift총인 mg/L', '19shift총인 mg/L', '20shift총인 mg/L', '21shift총인 mg/L', '22shift총인 mg/L', '23shift총인 mg/L', '24shift총인 mg/L', '25shift총인 mg/L', '26shift총인 mg/L', '27shift총인 mg/L', '28shift총인 mg/L', '29shift총인 mg/L', '30shift총인 mg/L', '31shift총인 mg/L', '32shift총인 mg/L', '33shift총인 mg/L', '34shift총인 mg/L', '35shift총인 mg/L', '36shift총인 mg/L', '37shift총인 mg/L', '38shift총인 mg/L', '39shift총인 mg/L', '40shift총인 mg/L', '41shift총인 mg/L', '42shift총인 mg/L', '43shift총인 mg/L', '44shift총인 mg/L', '45shift총인 mg/L', '46shift총인 mg/L', '47shift총인 mg/L', '48shift총인 mg/L', '1shift상류수위(EL.m)', '2shift상류수위(EL.m)', '3shift상류수위(EL.m)', '4shift상류수위(EL.m)', '5shift상류수위(EL.m)', '6shift상류수위(EL.m)', '7shift상류수위(EL.m)', '8shift상류수위(EL.m)', '9shift상류수위(EL.m)', '10shift상류수위(EL.m)', '11shift상류수위(EL.m)', '12shift상류수위(EL.m)', '13shift상류수위(EL.m)', '14shift상류수위(EL.m)', '15shift상류수위(EL.m)', '16shift상류수위(EL.m)', '17shift상류수위(EL.m)', '18shift상류수위(EL.m)', '19shift상류수위(EL.m)', '20shift상류수위(EL.m)', '21shift상류수위(EL.m)', '22shift상류수위(EL.m)', '23shift상류수위(EL.m)', '24shift상류수위(EL.m)', '25shift상류수위(EL.m)', '26shift상류수위(EL.m)', '27shift상류수위(EL.m)', '28shift상류수위(EL.m)', '29shift상류수위(EL.m)', '30shift상류수위(EL.m)', '31shift상류수위(EL.m)', '32shift상류수위(EL.m)', '33shift상류수위(EL.m)', '34shift상류수위(EL.m)', '35shift상류수위(EL.m)', '36shift상류수위(EL.m)', '37shift상류수위(EL.m)', '38shift상류수위(EL.m)', '39shift상류수위(EL.m)', '40shift상류수위(EL.m)', '41shift상류수위(EL.m)', '42shift상류수위(EL.m)', '43shift상류수위(EL.m)', '44shift상류수위(EL.m)', '45shift상류수위(EL.m)', '46shift상류수위(EL.m)', '47shift상류수위(EL.m)', '48shift상류수위(EL.m)', '1shift방류량(㎥/s)', '2shift방류량(㎥/s)', '3shift방류량(㎥/s)', '4shift방류량(㎥/s)', '5shift방류량(㎥/s)', '6shift방류량(㎥/s)', '7shift방류량(㎥/s)', '8shift방류량(㎥/s)', '9shift방류량(㎥/s)', '10shift방류량(㎥/s)', '11shift방류량(㎥/s)', '12shift방류량(㎥/s)', '13shift방류량(㎥/s)', '14shift방류량(㎥/s)', '15shift방류량(㎥/s)', '16shift방류량(㎥/s)', '17shift방류량(㎥/s)', '18shift방류량(㎥/s)', '19shift방류량(㎥/s)', '20shift방류량(㎥/s)', '21shift방류량(㎥/s)', '22shift방류량(㎥/s)', '23shift방류량(㎥/s)', '24shift방류량(㎥/s)', '25shift방류량(㎥/s)', '26shift방류량(㎥/s)', '27shift방류량(㎥/s)', '28shift방류량(㎥/s)', '29shift방류량(㎥/s)', '30shift방류량(㎥/s)', '31shift방류량(㎥/s)', '32shift방류량(㎥/s)', '33shift방류량(㎥/s)', '34shift방류량(㎥/s)', '35shift방류량(㎥/s)', '36shift방류량(㎥/s)', '37shift방류량(㎥/s)', '38shift방류량(㎥/s)', '39shift방류량(㎥/s)', '40shift방류량(㎥/s)', '41shift방류량(㎥/s)', '42shift방류량(㎥/s)', '43shift방류량(㎥/s)', '44shift방류량(㎥/s)', '45shift방류량(㎥/s)', '46shift방류량(㎥/s)', '47shift방류량(㎥/s)', '48shift방류량(㎥/s)']\n"
     ]
    }
   ],
   "source": [
    "col = list(jsb_df.columns[2:])\n",
    "print(col)"
   ]
  },
  {
   "cell_type": "code",
   "execution_count": 47,
   "id": "a2ed2492",
   "metadata": {},
   "outputs": [
    {
     "name": "stdout",
     "output_type": "stream",
     "text": [
      "['전기전도도 μS/cm', '탁도 NTU', '총유기탄소 mg/L', '총질소 mg/L', '총인 mg/L', '상류수위(EL.m)', '방류량(㎥/s)', '1shift수온 ℃', '2shift수온 ℃', '3shift수온 ℃', '4shift수온 ℃', '5shift수온 ℃', '6shift수온 ℃', '7shift수온 ℃', '8shift수온 ℃', '9shift수온 ℃', '10shift수온 ℃', '11shift수온 ℃', '12shift수온 ℃', '13shift수온 ℃', '14shift수온 ℃', '15shift수온 ℃', '16shift수온 ℃', '17shift수온 ℃', '18shift수온 ℃', '19shift수온 ℃', '20shift수온 ℃', '21shift수온 ℃', '22shift수온 ℃', '23shift수온 ℃', '24shift수온 ℃', '25shift수온 ℃', '26shift수온 ℃', '27shift수온 ℃', '28shift수온 ℃', '29shift수온 ℃', '30shift수온 ℃', '31shift수온 ℃', '32shift수온 ℃', '33shift수온 ℃', '34shift수온 ℃', '35shift수온 ℃', '36shift수온 ℃', '37shift수온 ℃', '38shift수온 ℃', '39shift수온 ℃', '40shift수온 ℃', '41shift수온 ℃', '42shift수온 ℃', '43shift수온 ℃', '44shift수온 ℃', '45shift수온 ℃', '46shift수온 ℃', '47shift수온 ℃', '48shift수온 ℃', '1shift전기전도도 μS/cm', '2shift전기전도도 μS/cm', '3shift전기전도도 μS/cm', '4shift전기전도도 μS/cm', '5shift전기전도도 μS/cm', '6shift전기전도도 μS/cm', '7shift전기전도도 μS/cm', '8shift전기전도도 μS/cm', '9shift전기전도도 μS/cm', '10shift전기전도도 μS/cm', '11shift전기전도도 μS/cm', '12shift전기전도도 μS/cm', '13shift전기전도도 μS/cm', '14shift전기전도도 μS/cm', '15shift전기전도도 μS/cm', '16shift전기전도도 μS/cm', '17shift전기전도도 μS/cm', '18shift전기전도도 μS/cm', '19shift전기전도도 μS/cm', '20shift전기전도도 μS/cm', '21shift전기전도도 μS/cm', '22shift전기전도도 μS/cm', '23shift전기전도도 μS/cm', '24shift전기전도도 μS/cm', '25shift전기전도도 μS/cm', '26shift전기전도도 μS/cm', '27shift전기전도도 μS/cm', '28shift전기전도도 μS/cm', '29shift전기전도도 μS/cm', '30shift전기전도도 μS/cm', '31shift전기전도도 μS/cm', '32shift전기전도도 μS/cm', '33shift전기전도도 μS/cm', '34shift전기전도도 μS/cm', '35shift전기전도도 μS/cm', '36shift전기전도도 μS/cm', '37shift전기전도도 μS/cm', '38shift전기전도도 μS/cm', '39shift전기전도도 μS/cm', '40shift전기전도도 μS/cm', '41shift전기전도도 μS/cm', '42shift전기전도도 μS/cm', '43shift전기전도도 μS/cm', '44shift전기전도도 μS/cm', '45shift전기전도도 μS/cm', '46shift전기전도도 μS/cm', '47shift전기전도도 μS/cm', '48shift전기전도도 μS/cm', '1shift탁도 NTU', '2shift탁도 NTU', '3shift탁도 NTU', '4shift탁도 NTU', '5shift탁도 NTU', '6shift탁도 NTU', '7shift탁도 NTU', '8shift탁도 NTU', '9shift탁도 NTU', '10shift탁도 NTU', '11shift탁도 NTU', '12shift탁도 NTU', '13shift탁도 NTU', '14shift탁도 NTU', '15shift탁도 NTU', '16shift탁도 NTU', '17shift탁도 NTU', '18shift탁도 NTU', '19shift탁도 NTU', '20shift탁도 NTU', '21shift탁도 NTU', '22shift탁도 NTU', '23shift탁도 NTU', '24shift탁도 NTU', '25shift탁도 NTU', '26shift탁도 NTU', '27shift탁도 NTU', '28shift탁도 NTU', '29shift탁도 NTU', '30shift탁도 NTU', '31shift탁도 NTU', '32shift탁도 NTU', '33shift탁도 NTU', '34shift탁도 NTU', '35shift탁도 NTU', '36shift탁도 NTU', '37shift탁도 NTU', '38shift탁도 NTU', '39shift탁도 NTU', '40shift탁도 NTU', '41shift탁도 NTU', '42shift탁도 NTU', '43shift탁도 NTU', '44shift탁도 NTU', '45shift탁도 NTU', '46shift탁도 NTU', '47shift탁도 NTU', '48shift탁도 NTU', '1shift총유기탄소 mg/L', '2shift총유기탄소 mg/L', '3shift총유기탄소 mg/L', '4shift총유기탄소 mg/L', '5shift총유기탄소 mg/L', '6shift총유기탄소 mg/L', '7shift총유기탄소 mg/L', '8shift총유기탄소 mg/L', '9shift총유기탄소 mg/L', '10shift총유기탄소 mg/L', '11shift총유기탄소 mg/L', '12shift총유기탄소 mg/L', '13shift총유기탄소 mg/L', '14shift총유기탄소 mg/L', '15shift총유기탄소 mg/L', '16shift총유기탄소 mg/L', '17shift총유기탄소 mg/L', '18shift총유기탄소 mg/L', '19shift총유기탄소 mg/L', '20shift총유기탄소 mg/L', '21shift총유기탄소 mg/L', '22shift총유기탄소 mg/L', '23shift총유기탄소 mg/L', '24shift총유기탄소 mg/L', '25shift총유기탄소 mg/L', '26shift총유기탄소 mg/L', '27shift총유기탄소 mg/L', '28shift총유기탄소 mg/L', '29shift총유기탄소 mg/L', '30shift총유기탄소 mg/L', '31shift총유기탄소 mg/L', '32shift총유기탄소 mg/L', '33shift총유기탄소 mg/L', '34shift총유기탄소 mg/L', '35shift총유기탄소 mg/L', '36shift총유기탄소 mg/L', '37shift총유기탄소 mg/L', '38shift총유기탄소 mg/L', '39shift총유기탄소 mg/L', '40shift총유기탄소 mg/L', '41shift총유기탄소 mg/L', '42shift총유기탄소 mg/L', '43shift총유기탄소 mg/L', '44shift총유기탄소 mg/L', '45shift총유기탄소 mg/L', '46shift총유기탄소 mg/L', '47shift총유기탄소 mg/L', '48shift총유기탄소 mg/L', '1shift총질소 mg/L', '2shift총질소 mg/L', '3shift총질소 mg/L', '4shift총질소 mg/L', '5shift총질소 mg/L', '6shift총질소 mg/L', '7shift총질소 mg/L', '8shift총질소 mg/L', '9shift총질소 mg/L', '10shift총질소 mg/L', '11shift총질소 mg/L', '12shift총질소 mg/L', '13shift총질소 mg/L', '14shift총질소 mg/L', '15shift총질소 mg/L', '16shift총질소 mg/L', '17shift총질소 mg/L', '18shift총질소 mg/L', '19shift총질소 mg/L', '20shift총질소 mg/L', '21shift총질소 mg/L', '22shift총질소 mg/L', '23shift총질소 mg/L', '24shift총질소 mg/L', '25shift총질소 mg/L', '26shift총질소 mg/L', '27shift총질소 mg/L', '28shift총질소 mg/L', '29shift총질소 mg/L', '30shift총질소 mg/L', '31shift총질소 mg/L', '32shift총질소 mg/L', '33shift총질소 mg/L', '34shift총질소 mg/L', '35shift총질소 mg/L', '36shift총질소 mg/L', '37shift총질소 mg/L', '38shift총질소 mg/L', '39shift총질소 mg/L', '40shift총질소 mg/L', '41shift총질소 mg/L', '42shift총질소 mg/L', '43shift총질소 mg/L', '44shift총질소 mg/L', '45shift총질소 mg/L', '46shift총질소 mg/L', '47shift총질소 mg/L', '48shift총질소 mg/L', '1shift총인 mg/L', '2shift총인 mg/L', '3shift총인 mg/L', '4shift총인 mg/L', '5shift총인 mg/L', '6shift총인 mg/L', '7shift총인 mg/L', '8shift총인 mg/L', '9shift총인 mg/L', '10shift총인 mg/L', '11shift총인 mg/L', '12shift총인 mg/L', '13shift총인 mg/L', '14shift총인 mg/L', '15shift총인 mg/L', '16shift총인 mg/L', '17shift총인 mg/L', '18shift총인 mg/L', '19shift총인 mg/L', '20shift총인 mg/L', '21shift총인 mg/L', '22shift총인 mg/L', '23shift총인 mg/L', '24shift총인 mg/L', '25shift총인 mg/L', '26shift총인 mg/L', '27shift총인 mg/L', '28shift총인 mg/L', '29shift총인 mg/L', '30shift총인 mg/L', '31shift총인 mg/L', '32shift총인 mg/L', '33shift총인 mg/L', '34shift총인 mg/L', '35shift총인 mg/L', '36shift총인 mg/L', '37shift총인 mg/L', '38shift총인 mg/L', '39shift총인 mg/L', '40shift총인 mg/L', '41shift총인 mg/L', '42shift총인 mg/L', '43shift총인 mg/L', '44shift총인 mg/L', '45shift총인 mg/L', '46shift총인 mg/L', '47shift총인 mg/L', '48shift총인 mg/L', '1shift상류수위(EL.m)', '2shift상류수위(EL.m)', '3shift상류수위(EL.m)', '4shift상류수위(EL.m)', '5shift상류수위(EL.m)', '6shift상류수위(EL.m)', '7shift상류수위(EL.m)', '8shift상류수위(EL.m)', '9shift상류수위(EL.m)', '10shift상류수위(EL.m)', '11shift상류수위(EL.m)', '12shift상류수위(EL.m)', '13shift상류수위(EL.m)', '14shift상류수위(EL.m)', '15shift상류수위(EL.m)', '16shift상류수위(EL.m)', '17shift상류수위(EL.m)', '18shift상류수위(EL.m)', '19shift상류수위(EL.m)', '20shift상류수위(EL.m)', '21shift상류수위(EL.m)', '22shift상류수위(EL.m)', '23shift상류수위(EL.m)', '24shift상류수위(EL.m)', '25shift상류수위(EL.m)', '26shift상류수위(EL.m)', '27shift상류수위(EL.m)', '28shift상류수위(EL.m)', '29shift상류수위(EL.m)', '30shift상류수위(EL.m)', '31shift상류수위(EL.m)', '32shift상류수위(EL.m)', '33shift상류수위(EL.m)', '34shift상류수위(EL.m)', '35shift상류수위(EL.m)', '36shift상류수위(EL.m)', '37shift상류수위(EL.m)', '38shift상류수위(EL.m)', '39shift상류수위(EL.m)', '40shift상류수위(EL.m)', '41shift상류수위(EL.m)', '42shift상류수위(EL.m)', '43shift상류수위(EL.m)', '44shift상류수위(EL.m)', '45shift상류수위(EL.m)', '46shift상류수위(EL.m)', '47shift상류수위(EL.m)', '48shift상류수위(EL.m)', '1shift방류량(㎥/s)', '2shift방류량(㎥/s)', '3shift방류량(㎥/s)', '4shift방류량(㎥/s)', '5shift방류량(㎥/s)', '6shift방류량(㎥/s)', '7shift방류량(㎥/s)', '8shift방류량(㎥/s)', '9shift방류량(㎥/s)', '10shift방류량(㎥/s)', '11shift방류량(㎥/s)', '12shift방류량(㎥/s)', '13shift방류량(㎥/s)', '14shift방류량(㎥/s)', '15shift방류량(㎥/s)', '16shift방류량(㎥/s)', '17shift방류량(㎥/s)', '18shift방류량(㎥/s)', '19shift방류량(㎥/s)', '20shift방류량(㎥/s)', '21shift방류량(㎥/s)', '22shift방류량(㎥/s)', '23shift방류량(㎥/s)', '24shift방류량(㎥/s)', '25shift방류량(㎥/s)', '26shift방류량(㎥/s)', '27shift방류량(㎥/s)', '28shift방류량(㎥/s)', '29shift방류량(㎥/s)', '30shift방류량(㎥/s)', '31shift방류량(㎥/s)', '32shift방류량(㎥/s)', '33shift방류량(㎥/s)', '34shift방류량(㎥/s)', '35shift방류량(㎥/s)', '36shift방류량(㎥/s)', '37shift방류량(㎥/s)', '38shift방류량(㎥/s)', '39shift방류량(㎥/s)', '40shift방류량(㎥/s)', '41shift방류량(㎥/s)', '42shift방류량(㎥/s)', '43shift방류량(㎥/s)', '44shift방류량(㎥/s)', '45shift방류량(㎥/s)', '46shift방류량(㎥/s)', '47shift방류량(㎥/s)', '48shift방류량(㎥/s)']\n"
     ]
    }
   ],
   "source": [
    "col_v = col.copy()\n",
    "col_v.remove('클로로필-a mg/㎥')\n",
    "print(col_v)"
   ]
  },
  {
   "cell_type": "markdown",
   "id": "e3f17bb7",
   "metadata": {},
   "source": [
    "피처 정규화 없이"
   ]
  },
  {
   "cell_type": "code",
   "execution_count": 48,
   "id": "33f19cbe",
   "metadata": {},
   "outputs": [],
   "source": [
    "X_train, X_test, y_train, y_test = train_test_split(jsb_df.loc[:, col_v], jsb_df['클로로필-a mg/㎥'], random_state=42)\n",
    "gb_reg = GradientBoostingRegressor(random_state=42)\n",
    "\n",
    "parameters = {'max_depth':[5, 10, 15], 'learning_rate':[0.05, 0.1, 0.2]}"
   ]
  },
  {
   "cell_type": "code",
   "execution_count": 49,
   "id": "0e0ab910",
   "metadata": {},
   "outputs": [],
   "source": [
    "gb_grid = GridSearchCV(gb_reg, param_grid=parameters, cv=3, verbose=5)"
   ]
  },
  {
   "cell_type": "code",
   "execution_count": 50,
   "id": "82f4cac1",
   "metadata": {},
   "outputs": [
    {
     "name": "stdout",
     "output_type": "stream",
     "text": [
      "Fitting 3 folds for each of 9 candidates, totalling 27 fits\n",
      "[CV 1/3] END ...learning_rate=0.05, max_depth=5;, score=0.747 total time= 9.3min\n",
      "[CV 2/3] END ...learning_rate=0.05, max_depth=5;, score=0.739 total time= 9.3min\n",
      "[CV 3/3] END ...learning_rate=0.05, max_depth=5;, score=0.737 total time= 9.2min\n",
      "[CV 1/3] END ..learning_rate=0.05, max_depth=10;, score=0.946 total time=18.1min\n",
      "[CV 2/3] END ..learning_rate=0.05, max_depth=10;, score=0.946 total time=18.2min\n",
      "[CV 3/3] END ..learning_rate=0.05, max_depth=10;, score=0.944 total time=18.2min\n",
      "[CV 1/3] END ..learning_rate=0.05, max_depth=15;, score=0.963 total time=25.9min\n",
      "[CV 2/3] END ..learning_rate=0.05, max_depth=15;, score=0.960 total time=25.8min\n",
      "[CV 3/3] END ..learning_rate=0.05, max_depth=15;, score=0.960 total time=26.0min\n",
      "[CV 1/3] END ....learning_rate=0.1, max_depth=5;, score=0.812 total time= 9.3min\n",
      "[CV 2/3] END ....learning_rate=0.1, max_depth=5;, score=0.801 total time= 9.3min\n",
      "[CV 3/3] END ....learning_rate=0.1, max_depth=5;, score=0.803 total time= 9.3min\n",
      "[CV 1/3] END ...learning_rate=0.1, max_depth=10;, score=0.956 total time=18.4min\n",
      "[CV 2/3] END ...learning_rate=0.1, max_depth=10;, score=0.956 total time=18.3min\n",
      "[CV 3/3] END ...learning_rate=0.1, max_depth=10;, score=0.956 total time=18.3min\n",
      "[CV 1/3] END ...learning_rate=0.1, max_depth=15;, score=0.963 total time=26.5min\n",
      "[CV 2/3] END ...learning_rate=0.1, max_depth=15;, score=0.961 total time=26.3min\n",
      "[CV 3/3] END ...learning_rate=0.1, max_depth=15;, score=0.959 total time=26.5min\n",
      "[CV 1/3] END ....learning_rate=0.2, max_depth=5;, score=0.867 total time= 9.4min\n",
      "[CV 2/3] END ....learning_rate=0.2, max_depth=5;, score=0.862 total time= 9.5min\n",
      "[CV 3/3] END ....learning_rate=0.2, max_depth=5;, score=0.860 total time= 9.5min\n",
      "[CV 1/3] END ...learning_rate=0.2, max_depth=10;, score=0.957 total time=18.8min\n",
      "[CV 2/3] END ...learning_rate=0.2, max_depth=10;, score=0.957 total time=18.6min\n",
      "[CV 3/3] END ...learning_rate=0.2, max_depth=10;, score=0.955 total time=18.4min\n",
      "[CV 1/3] END ...learning_rate=0.2, max_depth=15;, score=0.958 total time=27.1min\n",
      "[CV 2/3] END ...learning_rate=0.2, max_depth=15;, score=0.957 total time=27.2min\n",
      "[CV 3/3] END ...learning_rate=0.2, max_depth=15;, score=0.956 total time=27.2min\n"
     ]
    },
    {
     "data": {
      "text/plain": [
       "GridSearchCV(cv=3, estimator=GradientBoostingRegressor(random_state=42),\n",
       "             param_grid={'learning_rate': [0.05, 0.1, 0.2],\n",
       "                         'max_depth': [5, 10, 15]},\n",
       "             verbose=5)"
      ]
     },
     "execution_count": 50,
     "metadata": {},
     "output_type": "execute_result"
    }
   ],
   "source": [
    "gb_grid.fit(X_train, np.log1p(y_train))"
   ]
  },
  {
   "cell_type": "code",
   "execution_count": 51,
   "id": "aac5435c",
   "metadata": {},
   "outputs": [],
   "source": [
    "scores_df = pd.DataFrame(gb_grid.cv_results_)"
   ]
  },
  {
   "cell_type": "code",
   "execution_count": 52,
   "id": "07a4735f",
   "metadata": {},
   "outputs": [
    {
     "data": {
      "text/html": [
       "<div>\n",
       "<style scoped>\n",
       "    .dataframe tbody tr th:only-of-type {\n",
       "        vertical-align: middle;\n",
       "    }\n",
       "\n",
       "    .dataframe tbody tr th {\n",
       "        vertical-align: top;\n",
       "    }\n",
       "\n",
       "    .dataframe thead th {\n",
       "        text-align: right;\n",
       "    }\n",
       "</style>\n",
       "<table border=\"1\" class=\"dataframe\">\n",
       "  <thead>\n",
       "    <tr style=\"text-align: right;\">\n",
       "      <th></th>\n",
       "      <th>params</th>\n",
       "      <th>mean_test_score</th>\n",
       "      <th>rank_test_score</th>\n",
       "    </tr>\n",
       "  </thead>\n",
       "  <tbody>\n",
       "    <tr>\n",
       "      <th>2</th>\n",
       "      <td>{'learning_rate': 0.05, 'max_depth': 15}</td>\n",
       "      <td>0.961046</td>\n",
       "      <td>1</td>\n",
       "    </tr>\n",
       "    <tr>\n",
       "      <th>5</th>\n",
       "      <td>{'learning_rate': 0.1, 'max_depth': 15}</td>\n",
       "      <td>0.961029</td>\n",
       "      <td>2</td>\n",
       "    </tr>\n",
       "    <tr>\n",
       "      <th>8</th>\n",
       "      <td>{'learning_rate': 0.2, 'max_depth': 15}</td>\n",
       "      <td>0.957207</td>\n",
       "      <td>3</td>\n",
       "    </tr>\n",
       "    <tr>\n",
       "      <th>7</th>\n",
       "      <td>{'learning_rate': 0.2, 'max_depth': 10}</td>\n",
       "      <td>0.956227</td>\n",
       "      <td>4</td>\n",
       "    </tr>\n",
       "    <tr>\n",
       "      <th>4</th>\n",
       "      <td>{'learning_rate': 0.1, 'max_depth': 10}</td>\n",
       "      <td>0.955974</td>\n",
       "      <td>5</td>\n",
       "    </tr>\n",
       "  </tbody>\n",
       "</table>\n",
       "</div>"
      ],
      "text/plain": [
       "                                     params  mean_test_score  rank_test_score\n",
       "2  {'learning_rate': 0.05, 'max_depth': 15}         0.961046                1\n",
       "5   {'learning_rate': 0.1, 'max_depth': 15}         0.961029                2\n",
       "8   {'learning_rate': 0.2, 'max_depth': 15}         0.957207                3\n",
       "7   {'learning_rate': 0.2, 'max_depth': 10}         0.956227                4\n",
       "4   {'learning_rate': 0.1, 'max_depth': 10}         0.955974                5"
      ]
     },
     "execution_count": 52,
     "metadata": {},
     "output_type": "execute_result"
    }
   ],
   "source": [
    "scores_df.sort_values(by=['rank_test_score'], inplace=True)\n",
    "scores_df[['params', 'mean_test_score', 'rank_test_score']].head()"
   ]
  },
  {
   "cell_type": "code",
   "execution_count": 53,
   "id": "f2b0ac71",
   "metadata": {},
   "outputs": [
    {
     "data": {
      "text/plain": [
       "{'learning_rate': 0.05, 'max_depth': 15}"
      ]
     },
     "execution_count": 53,
     "metadata": {},
     "output_type": "execute_result"
    }
   ],
   "source": [
    "gb_grid.best_params_"
   ]
  },
  {
   "cell_type": "code",
   "execution_count": 54,
   "id": "4288881b",
   "metadata": {},
   "outputs": [],
   "source": [
    "estimator = gb_grid.best_estimator_"
   ]
  },
  {
   "cell_type": "code",
   "execution_count": 55,
   "id": "2395e787",
   "metadata": {},
   "outputs": [],
   "source": [
    "pred = estimator.predict(X_test)"
   ]
  },
  {
   "cell_type": "code",
   "execution_count": 56,
   "id": "58d3d39a",
   "metadata": {},
   "outputs": [
    {
     "name": "stdout",
     "output_type": "stream",
     "text": [
      "0.01 전기전도도 μS/cm\n",
      "0.1 탁도 NTU\n",
      "0.11 총유기탄소 mg/L\n",
      "0.01 총질소 mg/L\n",
      "0.02 총인 mg/L\n",
      "0.02 상류수위(EL.m)\n",
      "0.0 방류량(㎥/s)\n",
      "0.02 1shift수온 ℃\n",
      "0.0 2shift수온 ℃\n",
      "0.0 3shift수온 ℃\n",
      "0.0 4shift수온 ℃\n",
      "0.0 5shift수온 ℃\n",
      "0.0 6shift수온 ℃\n",
      "0.0 7shift수온 ℃\n",
      "0.0 8shift수온 ℃\n",
      "0.0 9shift수온 ℃\n",
      "0.0 10shift수온 ℃\n",
      "0.0 11shift수온 ℃\n",
      "0.0 12shift수온 ℃\n",
      "0.0 13shift수온 ℃\n",
      "0.0 14shift수온 ℃\n",
      "0.0 15shift수온 ℃\n",
      "0.0 16shift수온 ℃\n",
      "0.0 17shift수온 ℃\n",
      "0.0 18shift수온 ℃\n",
      "0.0 19shift수온 ℃\n",
      "0.0 20shift수온 ℃\n",
      "0.0 21shift수온 ℃\n",
      "0.0 22shift수온 ℃\n",
      "0.0 23shift수온 ℃\n",
      "0.0 24shift수온 ℃\n",
      "0.0 25shift수온 ℃\n",
      "0.0 26shift수온 ℃\n",
      "0.0 27shift수온 ℃\n",
      "0.0 28shift수온 ℃\n",
      "0.0 29shift수온 ℃\n",
      "0.0 30shift수온 ℃\n",
      "0.0 31shift수온 ℃\n",
      "0.0 32shift수온 ℃\n",
      "0.01 33shift수온 ℃\n",
      "0.0 34shift수온 ℃\n",
      "0.0 35shift수온 ℃\n",
      "0.0 36shift수온 ℃\n",
      "0.0 37shift수온 ℃\n",
      "0.01 38shift수온 ℃\n",
      "0.0 39shift수온 ℃\n",
      "0.0 40shift수온 ℃\n",
      "0.0 41shift수온 ℃\n",
      "0.0 42shift수온 ℃\n",
      "0.01 43shift수온 ℃\n",
      "0.01 44shift수온 ℃\n",
      "0.0 45shift수온 ℃\n",
      "0.01 46shift수온 ℃\n",
      "0.0 47shift수온 ℃\n",
      "0.15 48shift수온 ℃\n",
      "0.01 1shift전기전도도 μS/cm\n",
      "0.0 2shift전기전도도 μS/cm\n",
      "0.0 3shift전기전도도 μS/cm\n",
      "0.0 4shift전기전도도 μS/cm\n",
      "0.0 5shift전기전도도 μS/cm\n",
      "0.0 6shift전기전도도 μS/cm\n",
      "0.0 7shift전기전도도 μS/cm\n",
      "0.0 8shift전기전도도 μS/cm\n",
      "0.0 9shift전기전도도 μS/cm\n",
      "0.0 10shift전기전도도 μS/cm\n",
      "0.0 11shift전기전도도 μS/cm\n",
      "0.0 12shift전기전도도 μS/cm\n",
      "0.0 13shift전기전도도 μS/cm\n",
      "0.0 14shift전기전도도 μS/cm\n",
      "0.0 15shift전기전도도 μS/cm\n",
      "0.0 16shift전기전도도 μS/cm\n",
      "0.0 17shift전기전도도 μS/cm\n",
      "0.0 18shift전기전도도 μS/cm\n",
      "0.0 19shift전기전도도 μS/cm\n",
      "0.0 20shift전기전도도 μS/cm\n",
      "0.0 21shift전기전도도 μS/cm\n",
      "0.0 22shift전기전도도 μS/cm\n",
      "0.0 23shift전기전도도 μS/cm\n",
      "0.0 24shift전기전도도 μS/cm\n",
      "0.0 25shift전기전도도 μS/cm\n",
      "0.0 26shift전기전도도 μS/cm\n",
      "0.0 27shift전기전도도 μS/cm\n",
      "0.0 28shift전기전도도 μS/cm\n",
      "0.0 29shift전기전도도 μS/cm\n",
      "0.0 30shift전기전도도 μS/cm\n",
      "0.0 31shift전기전도도 μS/cm\n",
      "0.0 32shift전기전도도 μS/cm\n",
      "0.0 33shift전기전도도 μS/cm\n",
      "0.0 34shift전기전도도 μS/cm\n",
      "0.0 35shift전기전도도 μS/cm\n",
      "0.01 36shift전기전도도 μS/cm\n",
      "0.0 37shift전기전도도 μS/cm\n",
      "0.0 38shift전기전도도 μS/cm\n",
      "0.0 39shift전기전도도 μS/cm\n",
      "0.0 40shift전기전도도 μS/cm\n",
      "0.0 41shift전기전도도 μS/cm\n",
      "0.0 42shift전기전도도 μS/cm\n",
      "0.0 43shift전기전도도 μS/cm\n",
      "0.0 44shift전기전도도 μS/cm\n",
      "0.0 45shift전기전도도 μS/cm\n",
      "0.0 46shift전기전도도 μS/cm\n",
      "0.0 47shift전기전도도 μS/cm\n",
      "0.02 48shift전기전도도 μS/cm\n",
      "0.0 1shift탁도 NTU\n",
      "0.01 2shift탁도 NTU\n",
      "0.0 3shift탁도 NTU\n",
      "0.0 4shift탁도 NTU\n",
      "0.0 5shift탁도 NTU\n",
      "0.0 6shift탁도 NTU\n",
      "0.0 7shift탁도 NTU\n",
      "0.0 8shift탁도 NTU\n",
      "0.0 9shift탁도 NTU\n",
      "0.0 10shift탁도 NTU\n",
      "0.0 11shift탁도 NTU\n",
      "0.0 12shift탁도 NTU\n",
      "0.0 13shift탁도 NTU\n",
      "0.0 14shift탁도 NTU\n",
      "0.0 15shift탁도 NTU\n",
      "0.0 16shift탁도 NTU\n",
      "0.0 17shift탁도 NTU\n",
      "0.0 18shift탁도 NTU\n",
      "0.0 19shift탁도 NTU\n",
      "0.0 20shift탁도 NTU\n",
      "0.0 21shift탁도 NTU\n",
      "0.0 22shift탁도 NTU\n",
      "0.0 23shift탁도 NTU\n",
      "0.0 24shift탁도 NTU\n",
      "0.0 25shift탁도 NTU\n",
      "0.0 26shift탁도 NTU\n",
      "0.0 27shift탁도 NTU\n",
      "0.0 28shift탁도 NTU\n",
      "0.0 29shift탁도 NTU\n",
      "0.0 30shift탁도 NTU\n",
      "0.0 31shift탁도 NTU\n",
      "0.0 32shift탁도 NTU\n",
      "0.0 33shift탁도 NTU\n",
      "0.0 34shift탁도 NTU\n",
      "0.0 35shift탁도 NTU\n",
      "0.0 36shift탁도 NTU\n",
      "0.0 37shift탁도 NTU\n",
      "0.0 38shift탁도 NTU\n",
      "0.0 39shift탁도 NTU\n",
      "0.0 40shift탁도 NTU\n",
      "0.0 41shift탁도 NTU\n",
      "0.0 42shift탁도 NTU\n",
      "0.0 43shift탁도 NTU\n",
      "0.0 44shift탁도 NTU\n",
      "0.0 45shift탁도 NTU\n",
      "0.0 46shift탁도 NTU\n",
      "0.0 47shift탁도 NTU\n",
      "0.0 48shift탁도 NTU\n",
      "0.0 1shift총유기탄소 mg/L\n",
      "0.0 2shift총유기탄소 mg/L\n",
      "0.0 3shift총유기탄소 mg/L\n",
      "0.0 4shift총유기탄소 mg/L\n",
      "0.0 5shift총유기탄소 mg/L\n",
      "0.0 6shift총유기탄소 mg/L\n",
      "0.0 7shift총유기탄소 mg/L\n",
      "0.0 8shift총유기탄소 mg/L\n",
      "0.0 9shift총유기탄소 mg/L\n",
      "0.0 10shift총유기탄소 mg/L\n",
      "0.0 11shift총유기탄소 mg/L\n",
      "0.0 12shift총유기탄소 mg/L\n",
      "0.0 13shift총유기탄소 mg/L\n",
      "0.0 14shift총유기탄소 mg/L\n",
      "0.0 15shift총유기탄소 mg/L\n",
      "0.0 16shift총유기탄소 mg/L\n",
      "0.0 17shift총유기탄소 mg/L\n",
      "0.0 18shift총유기탄소 mg/L\n",
      "0.0 19shift총유기탄소 mg/L\n",
      "0.0 20shift총유기탄소 mg/L\n",
      "0.0 21shift총유기탄소 mg/L\n",
      "0.0 22shift총유기탄소 mg/L\n",
      "0.0 23shift총유기탄소 mg/L\n",
      "0.0 24shift총유기탄소 mg/L\n",
      "0.0 25shift총유기탄소 mg/L\n",
      "0.0 26shift총유기탄소 mg/L\n",
      "0.0 27shift총유기탄소 mg/L\n",
      "0.0 28shift총유기탄소 mg/L\n",
      "0.0 29shift총유기탄소 mg/L\n",
      "0.0 30shift총유기탄소 mg/L\n",
      "0.0 31shift총유기탄소 mg/L\n",
      "0.0 32shift총유기탄소 mg/L\n",
      "0.0 33shift총유기탄소 mg/L\n",
      "0.0 34shift총유기탄소 mg/L\n",
      "0.0 35shift총유기탄소 mg/L\n",
      "0.0 36shift총유기탄소 mg/L\n",
      "0.0 37shift총유기탄소 mg/L\n",
      "0.0 38shift총유기탄소 mg/L\n",
      "0.0 39shift총유기탄소 mg/L\n",
      "0.0 40shift총유기탄소 mg/L\n",
      "0.0 41shift총유기탄소 mg/L\n",
      "0.0 42shift총유기탄소 mg/L\n",
      "0.0 43shift총유기탄소 mg/L\n",
      "0.0 44shift총유기탄소 mg/L\n",
      "0.0 45shift총유기탄소 mg/L\n",
      "0.0 46shift총유기탄소 mg/L\n",
      "0.01 47shift총유기탄소 mg/L\n",
      "0.0 48shift총유기탄소 mg/L\n",
      "0.0 1shift총질소 mg/L\n",
      "0.0 2shift총질소 mg/L\n",
      "0.0 3shift총질소 mg/L\n",
      "0.0 4shift총질소 mg/L\n",
      "0.0 5shift총질소 mg/L\n",
      "0.0 6shift총질소 mg/L\n",
      "0.0 7shift총질소 mg/L\n",
      "0.0 8shift총질소 mg/L\n",
      "0.0 9shift총질소 mg/L\n",
      "0.0 10shift총질소 mg/L\n",
      "0.0 11shift총질소 mg/L\n",
      "0.0 12shift총질소 mg/L\n",
      "0.0 13shift총질소 mg/L\n",
      "0.0 14shift총질소 mg/L\n",
      "0.0 15shift총질소 mg/L\n",
      "0.0 16shift총질소 mg/L\n",
      "0.0 17shift총질소 mg/L\n",
      "0.0 18shift총질소 mg/L\n",
      "0.0 19shift총질소 mg/L\n",
      "0.0 20shift총질소 mg/L\n",
      "0.0 21shift총질소 mg/L\n",
      "0.0 22shift총질소 mg/L\n",
      "0.0 23shift총질소 mg/L\n",
      "0.0 24shift총질소 mg/L\n",
      "0.0 25shift총질소 mg/L\n",
      "0.0 26shift총질소 mg/L\n",
      "0.0 27shift총질소 mg/L\n",
      "0.0 28shift총질소 mg/L\n",
      "0.0 29shift총질소 mg/L\n",
      "0.0 30shift총질소 mg/L\n",
      "0.0 31shift총질소 mg/L\n",
      "0.0 32shift총질소 mg/L\n",
      "0.0 33shift총질소 mg/L\n",
      "0.0 34shift총질소 mg/L\n",
      "0.0 35shift총질소 mg/L\n",
      "0.0 36shift총질소 mg/L\n",
      "0.0 37shift총질소 mg/L\n",
      "0.0 38shift총질소 mg/L\n",
      "0.0 39shift총질소 mg/L\n",
      "0.0 40shift총질소 mg/L\n",
      "0.0 41shift총질소 mg/L\n",
      "0.0 42shift총질소 mg/L\n",
      "0.0 43shift총질소 mg/L\n",
      "0.0 44shift총질소 mg/L\n",
      "0.0 45shift총질소 mg/L\n",
      "0.0 46shift총질소 mg/L\n",
      "0.0 47shift총질소 mg/L\n",
      "0.0 48shift총질소 mg/L\n",
      "0.0 1shift총인 mg/L\n",
      "0.0 2shift총인 mg/L\n",
      "0.0 3shift총인 mg/L\n",
      "0.0 4shift총인 mg/L\n",
      "0.0 5shift총인 mg/L\n",
      "0.0 6shift총인 mg/L\n",
      "0.0 7shift총인 mg/L\n",
      "0.0 8shift총인 mg/L\n",
      "0.0 9shift총인 mg/L\n",
      "0.0 10shift총인 mg/L\n",
      "0.0 11shift총인 mg/L\n",
      "0.0 12shift총인 mg/L\n",
      "0.0 13shift총인 mg/L\n",
      "0.0 14shift총인 mg/L\n",
      "0.0 15shift총인 mg/L\n",
      "0.0 16shift총인 mg/L\n",
      "0.0 17shift총인 mg/L\n",
      "0.0 18shift총인 mg/L\n",
      "0.0 19shift총인 mg/L\n",
      "0.0 20shift총인 mg/L\n",
      "0.0 21shift총인 mg/L\n",
      "0.0 22shift총인 mg/L\n",
      "0.0 23shift총인 mg/L\n",
      "0.0 24shift총인 mg/L\n",
      "0.0 25shift총인 mg/L\n",
      "0.0 26shift총인 mg/L\n",
      "0.0 27shift총인 mg/L\n",
      "0.0 28shift총인 mg/L\n",
      "0.0 29shift총인 mg/L\n",
      "0.0 30shift총인 mg/L\n",
      "0.0 31shift총인 mg/L\n",
      "0.0 32shift총인 mg/L\n",
      "0.0 33shift총인 mg/L\n",
      "0.0 34shift총인 mg/L\n",
      "0.0 35shift총인 mg/L\n",
      "0.0 36shift총인 mg/L\n",
      "0.0 37shift총인 mg/L\n",
      "0.0 38shift총인 mg/L\n",
      "0.0 39shift총인 mg/L\n",
      "0.0 40shift총인 mg/L\n",
      "0.0 41shift총인 mg/L\n",
      "0.0 42shift총인 mg/L\n",
      "0.0 43shift총인 mg/L\n",
      "0.0 44shift총인 mg/L\n",
      "0.0 45shift총인 mg/L\n",
      "0.01 46shift총인 mg/L\n",
      "0.0 47shift총인 mg/L\n",
      "0.0 48shift총인 mg/L\n",
      "0.01 1shift상류수위(EL.m)\n",
      "0.0 2shift상류수위(EL.m)\n",
      "0.0 3shift상류수위(EL.m)\n",
      "0.0 4shift상류수위(EL.m)\n",
      "0.0 5shift상류수위(EL.m)\n",
      "0.0 6shift상류수위(EL.m)\n",
      "0.0 7shift상류수위(EL.m)\n",
      "0.0 8shift상류수위(EL.m)\n",
      "0.0 9shift상류수위(EL.m)\n",
      "0.0 10shift상류수위(EL.m)\n",
      "0.0 11shift상류수위(EL.m)\n",
      "0.0 12shift상류수위(EL.m)\n",
      "0.0 13shift상류수위(EL.m)\n",
      "0.0 14shift상류수위(EL.m)\n",
      "0.0 15shift상류수위(EL.m)\n",
      "0.0 16shift상류수위(EL.m)\n",
      "0.0 17shift상류수위(EL.m)\n",
      "0.0 18shift상류수위(EL.m)\n",
      "0.0 19shift상류수위(EL.m)\n",
      "0.0 20shift상류수위(EL.m)\n",
      "0.0 21shift상류수위(EL.m)\n",
      "0.0 22shift상류수위(EL.m)\n",
      "0.0 23shift상류수위(EL.m)\n",
      "0.0 24shift상류수위(EL.m)\n",
      "0.0 25shift상류수위(EL.m)\n",
      "0.0 26shift상류수위(EL.m)\n",
      "0.0 27shift상류수위(EL.m)\n",
      "0.0 28shift상류수위(EL.m)\n",
      "0.0 29shift상류수위(EL.m)\n",
      "0.0 30shift상류수위(EL.m)\n",
      "0.0 31shift상류수위(EL.m)\n",
      "0.0 32shift상류수위(EL.m)\n",
      "0.0 33shift상류수위(EL.m)\n",
      "0.0 34shift상류수위(EL.m)\n",
      "0.0 35shift상류수위(EL.m)\n",
      "0.0 36shift상류수위(EL.m)\n",
      "0.0 37shift상류수위(EL.m)\n",
      "0.0 38shift상류수위(EL.m)\n",
      "0.0 39shift상류수위(EL.m)\n",
      "0.0 40shift상류수위(EL.m)\n",
      "0.0 41shift상류수위(EL.m)\n",
      "0.0 42shift상류수위(EL.m)\n",
      "0.0 43shift상류수위(EL.m)\n",
      "0.0 44shift상류수위(EL.m)\n",
      "0.0 45shift상류수위(EL.m)\n",
      "0.0 46shift상류수위(EL.m)\n",
      "0.0 47shift상류수위(EL.m)\n",
      "0.0 48shift상류수위(EL.m)\n",
      "0.0 1shift방류량(㎥/s)\n",
      "0.0 2shift방류량(㎥/s)\n",
      "0.0 3shift방류량(㎥/s)\n",
      "0.0 4shift방류량(㎥/s)\n",
      "0.0 5shift방류량(㎥/s)\n",
      "0.0 6shift방류량(㎥/s)\n",
      "0.0 7shift방류량(㎥/s)\n",
      "0.0 8shift방류량(㎥/s)\n",
      "0.0 9shift방류량(㎥/s)\n",
      "0.0 10shift방류량(㎥/s)\n",
      "0.0 11shift방류량(㎥/s)\n",
      "0.0 12shift방류량(㎥/s)\n",
      "0.0 13shift방류량(㎥/s)\n",
      "0.0 14shift방류량(㎥/s)\n",
      "0.01 15shift방류량(㎥/s)\n",
      "0.0 16shift방류량(㎥/s)\n",
      "0.0 17shift방류량(㎥/s)\n",
      "0.0 18shift방류량(㎥/s)\n",
      "0.0 19shift방류량(㎥/s)\n",
      "0.01 20shift방류량(㎥/s)\n",
      "0.0 21shift방류량(㎥/s)\n",
      "0.0 22shift방류량(㎥/s)\n",
      "0.0 23shift방류량(㎥/s)\n",
      "0.0 24shift방류량(㎥/s)\n",
      "0.0 25shift방류량(㎥/s)\n",
      "0.0 26shift방류량(㎥/s)\n",
      "0.0 27shift방류량(㎥/s)\n",
      "0.0 28shift방류량(㎥/s)\n",
      "0.0 29shift방류량(㎥/s)\n",
      "0.0 30shift방류량(㎥/s)\n",
      "0.01 31shift방류량(㎥/s)\n",
      "0.0 32shift방류량(㎥/s)\n",
      "0.0 33shift방류량(㎥/s)\n",
      "0.0 34shift방류량(㎥/s)\n",
      "0.0 35shift방류량(㎥/s)\n",
      "0.0 36shift방류량(㎥/s)\n",
      "0.0 37shift방류량(㎥/s)\n",
      "0.0 38shift방류량(㎥/s)\n",
      "0.0 39shift방류량(㎥/s)\n",
      "0.0 40shift방류량(㎥/s)\n",
      "0.0 41shift방류량(㎥/s)\n",
      "0.0 42shift방류량(㎥/s)\n",
      "0.0 43shift방류량(㎥/s)\n",
      "0.0 44shift방류량(㎥/s)\n",
      "0.0 45shift방류량(㎥/s)\n",
      "0.0 46shift방류량(㎥/s)\n",
      "0.0 47shift방류량(㎥/s)\n",
      "0.01 48shift방류량(㎥/s)\n"
     ]
    }
   ],
   "source": [
    "for score, name in zip(estimator.feature_importances_, col_v):\n",
    "    print(round(score, 2), name)"
   ]
  },
  {
   "cell_type": "code",
   "execution_count": 57,
   "id": "92f9e4f9",
   "metadata": {},
   "outputs": [
    {
     "name": "stderr",
     "output_type": "stream",
     "text": [
      "/home/gslee/anaconda3/lib/python3.9/site-packages/matplotlib/backends/backend_agg.py:240: RuntimeWarning: Glyph 49688 missing from current font.\n",
      "  font.set_text(s, 0.0, flags=flags)\n",
      "/home/gslee/anaconda3/lib/python3.9/site-packages/matplotlib/backends/backend_agg.py:240: RuntimeWarning: Glyph 50728 missing from current font.\n",
      "  font.set_text(s, 0.0, flags=flags)\n",
      "/home/gslee/anaconda3/lib/python3.9/site-packages/matplotlib/backends/backend_agg.py:240: RuntimeWarning: Glyph 52509 missing from current font.\n",
      "  font.set_text(s, 0.0, flags=flags)\n",
      "/home/gslee/anaconda3/lib/python3.9/site-packages/matplotlib/backends/backend_agg.py:240: RuntimeWarning: Glyph 50976 missing from current font.\n",
      "  font.set_text(s, 0.0, flags=flags)\n",
      "/home/gslee/anaconda3/lib/python3.9/site-packages/matplotlib/backends/backend_agg.py:240: RuntimeWarning: Glyph 44592 missing from current font.\n",
      "  font.set_text(s, 0.0, flags=flags)\n",
      "/home/gslee/anaconda3/lib/python3.9/site-packages/matplotlib/backends/backend_agg.py:240: RuntimeWarning: Glyph 53444 missing from current font.\n",
      "  font.set_text(s, 0.0, flags=flags)\n",
      "/home/gslee/anaconda3/lib/python3.9/site-packages/matplotlib/backends/backend_agg.py:240: RuntimeWarning: Glyph 49548 missing from current font.\n",
      "  font.set_text(s, 0.0, flags=flags)\n",
      "/home/gslee/anaconda3/lib/python3.9/site-packages/matplotlib/backends/backend_agg.py:240: RuntimeWarning: Glyph 53441 missing from current font.\n",
      "  font.set_text(s, 0.0, flags=flags)\n",
      "/home/gslee/anaconda3/lib/python3.9/site-packages/matplotlib/backends/backend_agg.py:240: RuntimeWarning: Glyph 46020 missing from current font.\n",
      "  font.set_text(s, 0.0, flags=flags)\n",
      "/home/gslee/anaconda3/lib/python3.9/site-packages/matplotlib/backends/backend_agg.py:240: RuntimeWarning: Glyph 51064 missing from current font.\n",
      "  font.set_text(s, 0.0, flags=flags)\n",
      "/home/gslee/anaconda3/lib/python3.9/site-packages/matplotlib/backends/backend_agg.py:240: RuntimeWarning: Glyph 51204 missing from current font.\n",
      "  font.set_text(s, 0.0, flags=flags)\n",
      "/home/gslee/anaconda3/lib/python3.9/site-packages/matplotlib/backends/backend_agg.py:240: RuntimeWarning: Glyph 49345 missing from current font.\n",
      "  font.set_text(s, 0.0, flags=flags)\n",
      "/home/gslee/anaconda3/lib/python3.9/site-packages/matplotlib/backends/backend_agg.py:240: RuntimeWarning: Glyph 47448 missing from current font.\n",
      "  font.set_text(s, 0.0, flags=flags)\n",
      "/home/gslee/anaconda3/lib/python3.9/site-packages/matplotlib/backends/backend_agg.py:240: RuntimeWarning: Glyph 50948 missing from current font.\n",
      "  font.set_text(s, 0.0, flags=flags)\n",
      "/home/gslee/anaconda3/lib/python3.9/site-packages/matplotlib/backends/backend_agg.py:240: RuntimeWarning: Glyph 48169 missing from current font.\n",
      "  font.set_text(s, 0.0, flags=flags)\n",
      "/home/gslee/anaconda3/lib/python3.9/site-packages/matplotlib/backends/backend_agg.py:240: RuntimeWarning: Glyph 47049 missing from current font.\n",
      "  font.set_text(s, 0.0, flags=flags)\n",
      "/home/gslee/anaconda3/lib/python3.9/site-packages/matplotlib/backends/backend_agg.py:240: RuntimeWarning: Glyph 13221 missing from current font.\n",
      "  font.set_text(s, 0.0, flags=flags)\n",
      "/home/gslee/anaconda3/lib/python3.9/site-packages/matplotlib/backends/backend_agg.py:203: RuntimeWarning: Glyph 49688 missing from current font.\n",
      "  font.set_text(s, 0, flags=flags)\n",
      "/home/gslee/anaconda3/lib/python3.9/site-packages/matplotlib/backends/backend_agg.py:203: RuntimeWarning: Glyph 50728 missing from current font.\n",
      "  font.set_text(s, 0, flags=flags)\n",
      "/home/gslee/anaconda3/lib/python3.9/site-packages/matplotlib/backends/backend_agg.py:203: RuntimeWarning: Glyph 52509 missing from current font.\n",
      "  font.set_text(s, 0, flags=flags)\n",
      "/home/gslee/anaconda3/lib/python3.9/site-packages/matplotlib/backends/backend_agg.py:203: RuntimeWarning: Glyph 50976 missing from current font.\n",
      "  font.set_text(s, 0, flags=flags)\n",
      "/home/gslee/anaconda3/lib/python3.9/site-packages/matplotlib/backends/backend_agg.py:203: RuntimeWarning: Glyph 44592 missing from current font.\n",
      "  font.set_text(s, 0, flags=flags)\n",
      "/home/gslee/anaconda3/lib/python3.9/site-packages/matplotlib/backends/backend_agg.py:203: RuntimeWarning: Glyph 53444 missing from current font.\n",
      "  font.set_text(s, 0, flags=flags)\n",
      "/home/gslee/anaconda3/lib/python3.9/site-packages/matplotlib/backends/backend_agg.py:203: RuntimeWarning: Glyph 49548 missing from current font.\n",
      "  font.set_text(s, 0, flags=flags)\n",
      "/home/gslee/anaconda3/lib/python3.9/site-packages/matplotlib/backends/backend_agg.py:203: RuntimeWarning: Glyph 53441 missing from current font.\n",
      "  font.set_text(s, 0, flags=flags)\n",
      "/home/gslee/anaconda3/lib/python3.9/site-packages/matplotlib/backends/backend_agg.py:203: RuntimeWarning: Glyph 46020 missing from current font.\n",
      "  font.set_text(s, 0, flags=flags)\n",
      "/home/gslee/anaconda3/lib/python3.9/site-packages/matplotlib/backends/backend_agg.py:203: RuntimeWarning: Glyph 51064 missing from current font.\n",
      "  font.set_text(s, 0, flags=flags)\n",
      "/home/gslee/anaconda3/lib/python3.9/site-packages/matplotlib/backends/backend_agg.py:203: RuntimeWarning: Glyph 51204 missing from current font.\n",
      "  font.set_text(s, 0, flags=flags)\n",
      "/home/gslee/anaconda3/lib/python3.9/site-packages/matplotlib/backends/backend_agg.py:203: RuntimeWarning: Glyph 49345 missing from current font.\n",
      "  font.set_text(s, 0, flags=flags)\n",
      "/home/gslee/anaconda3/lib/python3.9/site-packages/matplotlib/backends/backend_agg.py:203: RuntimeWarning: Glyph 47448 missing from current font.\n",
      "  font.set_text(s, 0, flags=flags)\n",
      "/home/gslee/anaconda3/lib/python3.9/site-packages/matplotlib/backends/backend_agg.py:203: RuntimeWarning: Glyph 50948 missing from current font.\n",
      "  font.set_text(s, 0, flags=flags)\n",
      "/home/gslee/anaconda3/lib/python3.9/site-packages/matplotlib/backends/backend_agg.py:203: RuntimeWarning: Glyph 48169 missing from current font.\n",
      "  font.set_text(s, 0, flags=flags)\n",
      "/home/gslee/anaconda3/lib/python3.9/site-packages/matplotlib/backends/backend_agg.py:203: RuntimeWarning: Glyph 47049 missing from current font.\n",
      "  font.set_text(s, 0, flags=flags)\n",
      "/home/gslee/anaconda3/lib/python3.9/site-packages/matplotlib/backends/backend_agg.py:203: RuntimeWarning: Glyph 13221 missing from current font.\n",
      "  font.set_text(s, 0, flags=flags)\n"
     ]
    },
    {
     "data": {
      "image/png": "[encoded data removed]",
      "text/plain": [
       "<Figure size 432x288 with 1 Axes>"
      ]
     },
     "metadata": {
      "needs_background": "light"
     },
     "output_type": "display_data"
    }
   ],
   "source": [
    "feature_series = pd.Series(data = estimator.feature_importances_, index = col_v)\n",
    "feature_series = feature_series.sort_values(ascending = False)\n",
    "sns.barplot(x = feature_series[:10], y = feature_series.index[:10], color = 'gray')\n",
    "plt.show()"
   ]
  },
  {
   "cell_type": "code",
   "execution_count": 58,
   "id": "8de88284",
   "metadata": {},
   "outputs": [
    {
     "name": "stdout",
     "output_type": "stream",
     "text": [
      "score : 0.9742779674057184\n"
     ]
    }
   ],
   "source": [
    "print('score :', estimator.score(X_test, np.log1p(y_test)))"
   ]
  },
  {
   "cell_type": "code",
   "execution_count": 59,
   "id": "c7e844fa",
   "metadata": {},
   "outputs": [
    {
     "data": {
      "text/plain": [
       "48shift수온 ℃           0.154569\n",
       "총유기탄소 mg/L            0.107062\n",
       "탁도 NTU                0.102870\n",
       "총인 mg/L               0.022938\n",
       "48shift전기전도도 μS/cm    0.019304\n",
       "1shift수온 ℃            0.017328\n",
       "상류수위(EL.m)            0.016301\n",
       "33shift수온 ℃           0.014879\n",
       "38shift수온 ℃           0.013138\n",
       "20shift방류량(㎥/s)       0.012075\n",
       "dtype: float64"
      ]
     },
     "execution_count": 59,
     "metadata": {},
     "output_type": "execute_result"
    }
   ],
   "source": [
    "feature_series[:10]"
   ]
  },
  {
   "cell_type": "markdown",
   "id": "bf04733e",
   "metadata": {},
   "source": [
    "피처 정규화"
   ]
  },
  {
   "cell_type": "code",
   "execution_count": 60,
   "id": "62726ead",
   "metadata": {},
   "outputs": [],
   "source": [
    "scaler = StandardScaler()\n",
    "scaler.fit(jsb_df.loc[:, col_v])\n",
    "jsb_scaled = scaler.transform(jsb_df.loc[:, col_v])\n",
    "\n",
    "jsb_df_scaled = pd.DataFrame(data = jsb_scaled, columns = col_v)"
   ]
  },
  {
   "cell_type": "code",
   "execution_count": 61,
   "id": "d8e52199",
   "metadata": {},
   "outputs": [
    {
     "data": {
      "text/html": [
       "<div>\n",
       "<style scoped>\n",
       "    .dataframe tbody tr th:only-of-type {\n",
       "        vertical-align: middle;\n",
       "    }\n",
       "\n",
       "    .dataframe tbody tr th {\n",
       "        vertical-align: top;\n",
       "    }\n",
       "\n",
       "    .dataframe thead th {\n",
       "        text-align: right;\n",
       "    }\n",
       "</style>\n",
       "<table border=\"1\" class=\"dataframe\">\n",
       "  <thead>\n",
       "    <tr style=\"text-align: right;\">\n",
       "      <th></th>\n",
       "      <th>전기전도도 μS/cm</th>\n",
       "      <th>탁도 NTU</th>\n",
       "      <th>총유기탄소 mg/L</th>\n",
       "      <th>총질소 mg/L</th>\n",
       "      <th>총인 mg/L</th>\n",
       "      <th>상류수위(EL.m)</th>\n",
       "      <th>방류량(㎥/s)</th>\n",
       "      <th>1shift수온 ℃</th>\n",
       "      <th>2shift수온 ℃</th>\n",
       "      <th>3shift수온 ℃</th>\n",
       "      <th>...</th>\n",
       "      <th>39shift방류량(㎥/s)</th>\n",
       "      <th>40shift방류량(㎥/s)</th>\n",
       "      <th>41shift방류량(㎥/s)</th>\n",
       "      <th>42shift방류량(㎥/s)</th>\n",
       "      <th>43shift방류량(㎥/s)</th>\n",
       "      <th>44shift방류량(㎥/s)</th>\n",
       "      <th>45shift방류량(㎥/s)</th>\n",
       "      <th>46shift방류량(㎥/s)</th>\n",
       "      <th>47shift방류량(㎥/s)</th>\n",
       "      <th>48shift방류량(㎥/s)</th>\n",
       "    </tr>\n",
       "  </thead>\n",
       "  <tbody>\n",
       "    <tr>\n",
       "      <th>0</th>\n",
       "      <td>-1.199211</td>\n",
       "      <td>-0.203693</td>\n",
       "      <td>-0.556513</td>\n",
       "      <td>-0.368312</td>\n",
       "      <td>1.557556</td>\n",
       "      <td>1.019431</td>\n",
       "      <td>-0.178349</td>\n",
       "      <td>-0.672491</td>\n",
       "      <td>-0.684551</td>\n",
       "      <td>-0.696599</td>\n",
       "      <td>...</td>\n",
       "      <td>-0.277834</td>\n",
       "      <td>-0.277833</td>\n",
       "      <td>-0.277831</td>\n",
       "      <td>-0.277829</td>\n",
       "      <td>-0.277828</td>\n",
       "      <td>-0.277826</td>\n",
       "      <td>-0.277824</td>\n",
       "      <td>-0.277823</td>\n",
       "      <td>-0.277821</td>\n",
       "      <td>-0.277819</td>\n",
       "    </tr>\n",
       "    <tr>\n",
       "      <th>1</th>\n",
       "      <td>-1.188071</td>\n",
       "      <td>-0.191859</td>\n",
       "      <td>-0.556513</td>\n",
       "      <td>-0.432372</td>\n",
       "      <td>1.537334</td>\n",
       "      <td>1.030206</td>\n",
       "      <td>-0.165746</td>\n",
       "      <td>-0.660425</td>\n",
       "      <td>-0.672485</td>\n",
       "      <td>-0.684532</td>\n",
       "      <td>...</td>\n",
       "      <td>-0.277834</td>\n",
       "      <td>-0.277833</td>\n",
       "      <td>-0.277831</td>\n",
       "      <td>-0.277829</td>\n",
       "      <td>-0.277828</td>\n",
       "      <td>-0.277826</td>\n",
       "      <td>-0.277824</td>\n",
       "      <td>-0.277823</td>\n",
       "      <td>-0.277821</td>\n",
       "      <td>-0.277819</td>\n",
       "    </tr>\n",
       "    <tr>\n",
       "      <th>2</th>\n",
       "      <td>-1.176931</td>\n",
       "      <td>-0.197776</td>\n",
       "      <td>-0.556513</td>\n",
       "      <td>-0.487279</td>\n",
       "      <td>1.537334</td>\n",
       "      <td>1.032900</td>\n",
       "      <td>-0.162187</td>\n",
       "      <td>-0.636292</td>\n",
       "      <td>-0.660418</td>\n",
       "      <td>-0.672466</td>\n",
       "      <td>...</td>\n",
       "      <td>-0.277834</td>\n",
       "      <td>-0.277833</td>\n",
       "      <td>-0.277831</td>\n",
       "      <td>-0.277829</td>\n",
       "      <td>-0.277828</td>\n",
       "      <td>-0.277826</td>\n",
       "      <td>-0.277824</td>\n",
       "      <td>-0.277823</td>\n",
       "      <td>-0.277821</td>\n",
       "      <td>-0.277819</td>\n",
       "    </tr>\n",
       "    <tr>\n",
       "      <th>3</th>\n",
       "      <td>-1.176931</td>\n",
       "      <td>-0.197776</td>\n",
       "      <td>-0.556513</td>\n",
       "      <td>-0.437862</td>\n",
       "      <td>1.577778</td>\n",
       "      <td>1.032900</td>\n",
       "      <td>-0.162187</td>\n",
       "      <td>-0.624225</td>\n",
       "      <td>-0.636285</td>\n",
       "      <td>-0.660399</td>\n",
       "      <td>...</td>\n",
       "      <td>-0.277834</td>\n",
       "      <td>-0.277833</td>\n",
       "      <td>-0.277831</td>\n",
       "      <td>-0.277829</td>\n",
       "      <td>-0.277828</td>\n",
       "      <td>-0.277826</td>\n",
       "      <td>-0.277824</td>\n",
       "      <td>-0.277823</td>\n",
       "      <td>-0.277821</td>\n",
       "      <td>-0.277819</td>\n",
       "    </tr>\n",
       "    <tr>\n",
       "      <th>4</th>\n",
       "      <td>-1.176931</td>\n",
       "      <td>-0.197776</td>\n",
       "      <td>-0.556513</td>\n",
       "      <td>-0.412849</td>\n",
       "      <td>1.577778</td>\n",
       "      <td>1.032900</td>\n",
       "      <td>-0.162187</td>\n",
       "      <td>-0.624225</td>\n",
       "      <td>-0.624219</td>\n",
       "      <td>-0.636266</td>\n",
       "      <td>...</td>\n",
       "      <td>-0.277834</td>\n",
       "      <td>-0.277833</td>\n",
       "      <td>-0.277831</td>\n",
       "      <td>-0.277829</td>\n",
       "      <td>-0.277828</td>\n",
       "      <td>-0.277826</td>\n",
       "      <td>-0.277824</td>\n",
       "      <td>-0.277823</td>\n",
       "      <td>-0.277821</td>\n",
       "      <td>-0.277819</td>\n",
       "    </tr>\n",
       "  </tbody>\n",
       "</table>\n",
       "<p>5 rows × 391 columns</p>\n",
       "</div>"
      ],
      "text/plain": [
       "   전기전도도 μS/cm    탁도 NTU  총유기탄소 mg/L  총질소 mg/L   총인 mg/L  상류수위(EL.m)  \\\n",
       "0    -1.199211 -0.203693   -0.556513 -0.368312  1.557556    1.019431   \n",
       "1    -1.188071 -0.191859   -0.556513 -0.432372  1.537334    1.030206   \n",
       "2    -1.176931 -0.197776   -0.556513 -0.487279  1.537334    1.032900   \n",
       "3    -1.176931 -0.197776   -0.556513 -0.437862  1.577778    1.032900   \n",
       "4    -1.176931 -0.197776   -0.556513 -0.412849  1.577778    1.032900   \n",
       "\n",
       "   방류량(㎥/s)  1shift수온 ℃  2shift수온 ℃  3shift수온 ℃  ...  39shift방류량(㎥/s)  \\\n",
       "0 -0.178349   -0.672491   -0.684551   -0.696599  ...        -0.277834   \n",
       "1 -0.165746   -0.660425   -0.672485   -0.684532  ...        -0.277834   \n",
       "2 -0.162187   -0.636292   -0.660418   -0.672466  ...        -0.277834   \n",
       "3 -0.162187   -0.624225   -0.636285   -0.660399  ...        -0.277834   \n",
       "4 -0.162187   -0.624225   -0.624219   -0.636266  ...        -0.277834   \n",
       "\n",
       "   40shift방류량(㎥/s)  41shift방류량(㎥/s)  42shift방류량(㎥/s)  43shift방류량(㎥/s)  \\\n",
       "0        -0.277833        -0.277831        -0.277829        -0.277828   \n",
       "1        -0.277833        -0.277831        -0.277829        -0.277828   \n",
       "2        -0.277833        -0.277831        -0.277829        -0.277828   \n",
       "3        -0.277833        -0.277831        -0.277829        -0.277828   \n",
       "4        -0.277833        -0.277831        -0.277829        -0.277828   \n",
       "\n",
       "   44shift방류량(㎥/s)  45shift방류량(㎥/s)  46shift방류량(㎥/s)  47shift방류량(㎥/s)  \\\n",
       "0        -0.277826        -0.277824        -0.277823        -0.277821   \n",
       "1        -0.277826        -0.277824        -0.277823        -0.277821   \n",
       "2        -0.277826        -0.277824        -0.277823        -0.277821   \n",
       "3        -0.277826        -0.277824        -0.277823        -0.277821   \n",
       "4        -0.277826        -0.277824        -0.277823        -0.277821   \n",
       "\n",
       "   48shift방류량(㎥/s)  \n",
       "0        -0.277819  \n",
       "1        -0.277819  \n",
       "2        -0.277819  \n",
       "3        -0.277819  \n",
       "4        -0.277819  \n",
       "\n",
       "[5 rows x 391 columns]"
      ]
     },
     "execution_count": 61,
     "metadata": {},
     "output_type": "execute_result"
    }
   ],
   "source": [
    "jsb_df_scaled.head()"
   ]
  },
  {
   "cell_type": "code",
   "execution_count": 62,
   "id": "42551890",
   "metadata": {},
   "outputs": [],
   "source": [
    "X_trains, X_tests, y_trains, y_tests = train_test_split(jsb_df_scaled.loc[:, col_v], jsb_df['클로로필-a mg/㎥'], random_state=42)\n",
    "gb_regs = GradientBoostingRegressor(random_state=42)\n",
    "\n",
    "parameters = {'max_depth':[5, 10, 15], 'learning_rate':[0.05, 0.1, 0.2]}"
   ]
  },
  {
   "cell_type": "code",
   "execution_count": 63,
   "id": "30a92fdb",
   "metadata": {},
   "outputs": [],
   "source": [
    "gb_grids = GridSearchCV(gb_regs, param_grid=parameters, cv=3, verbose=5)"
   ]
  },
  {
   "cell_type": "code",
   "execution_count": 64,
   "id": "1ff20800",
   "metadata": {},
   "outputs": [
    {
     "name": "stdout",
     "output_type": "stream",
     "text": [
      "Fitting 3 folds for each of 9 candidates, totalling 27 fits\n",
      "[CV 1/3] END ...learning_rate=0.05, max_depth=5;, score=0.747 total time= 9.3min\n",
      "[CV 2/3] END ...learning_rate=0.05, max_depth=5;, score=0.739 total time= 9.3min\n",
      "[CV 3/3] END ...learning_rate=0.05, max_depth=5;, score=0.737 total time= 9.3min\n",
      "[CV 1/3] END ..learning_rate=0.05, max_depth=10;, score=0.946 total time=18.2min\n",
      "[CV 2/3] END ..learning_rate=0.05, max_depth=10;, score=0.946 total time=18.4min\n",
      "[CV 3/3] END ..learning_rate=0.05, max_depth=10;, score=0.945 total time=18.4min\n",
      "[CV 1/3] END ..learning_rate=0.05, max_depth=15;, score=0.963 total time=25.8min\n",
      "[CV 2/3] END ..learning_rate=0.05, max_depth=15;, score=0.959 total time=25.9min\n",
      "[CV 3/3] END ..learning_rate=0.05, max_depth=15;, score=0.960 total time=26.0min\n",
      "[CV 1/3] END ....learning_rate=0.1, max_depth=5;, score=0.812 total time= 9.3min\n",
      "[CV 2/3] END ....learning_rate=0.1, max_depth=5;, score=0.801 total time= 9.3min\n",
      "[CV 3/3] END ....learning_rate=0.1, max_depth=5;, score=0.804 total time= 9.4min\n",
      "[CV 1/3] END ...learning_rate=0.1, max_depth=10;, score=0.956 total time=18.5min\n",
      "[CV 2/3] END ...learning_rate=0.1, max_depth=10;, score=0.956 total time=18.5min\n",
      "[CV 3/3] END ...learning_rate=0.1, max_depth=10;, score=0.955 total time=18.6min\n",
      "[CV 1/3] END ...learning_rate=0.1, max_depth=15;, score=0.964 total time=26.6min\n",
      "[CV 2/3] END ...learning_rate=0.1, max_depth=15;, score=0.960 total time=26.6min\n",
      "[CV 3/3] END ...learning_rate=0.1, max_depth=15;, score=0.959 total time=26.7min\n",
      "[CV 1/3] END ....learning_rate=0.2, max_depth=5;, score=0.867 total time= 9.4min\n",
      "[CV 2/3] END ....learning_rate=0.2, max_depth=5;, score=0.862 total time= 9.3min\n",
      "[CV 3/3] END ....learning_rate=0.2, max_depth=5;, score=0.860 total time= 9.3min\n",
      "[CV 1/3] END ...learning_rate=0.2, max_depth=10;, score=0.956 total time=18.6min\n",
      "[CV 2/3] END ...learning_rate=0.2, max_depth=10;, score=0.956 total time=18.5min\n",
      "[CV 3/3] END ...learning_rate=0.2, max_depth=10;, score=0.955 total time=18.5min\n",
      "[CV 1/3] END ...learning_rate=0.2, max_depth=15;, score=0.958 total time=27.4min\n",
      "[CV 2/3] END ...learning_rate=0.2, max_depth=15;, score=0.958 total time=27.3min\n",
      "[CV 3/3] END ...learning_rate=0.2, max_depth=15;, score=0.956 total time=27.5min\n"
     ]
    },
    {
     "data": {
      "text/plain": [
       "GridSearchCV(cv=3, estimator=GradientBoostingRegressor(random_state=42),\n",
       "             param_grid={'learning_rate': [0.05, 0.1, 0.2],\n",
       "                         'max_depth': [5, 10, 15]},\n",
       "             verbose=5)"
      ]
     },
     "execution_count": 64,
     "metadata": {},
     "output_type": "execute_result"
    }
   ],
   "source": [
    "gb_grids.fit(X_trains, np.log1p(y_trains))"
   ]
  },
  {
   "cell_type": "code",
   "execution_count": 65,
   "id": "3072b5aa",
   "metadata": {},
   "outputs": [],
   "source": [
    "scores_dfs = pd.DataFrame(gb_grids.cv_results_)"
   ]
  },
  {
   "cell_type": "code",
   "execution_count": 66,
   "id": "ca491a41",
   "metadata": {},
   "outputs": [
    {
     "data": {
      "text/html": [
       "<div>\n",
       "<style scoped>\n",
       "    .dataframe tbody tr th:only-of-type {\n",
       "        vertical-align: middle;\n",
       "    }\n",
       "\n",
       "    .dataframe tbody tr th {\n",
       "        vertical-align: top;\n",
       "    }\n",
       "\n",
       "    .dataframe thead th {\n",
       "        text-align: right;\n",
       "    }\n",
       "</style>\n",
       "<table border=\"1\" class=\"dataframe\">\n",
       "  <thead>\n",
       "    <tr style=\"text-align: right;\">\n",
       "      <th></th>\n",
       "      <th>params</th>\n",
       "      <th>mean_test_score</th>\n",
       "      <th>rank_test_score</th>\n",
       "    </tr>\n",
       "  </thead>\n",
       "  <tbody>\n",
       "    <tr>\n",
       "      <th>5</th>\n",
       "      <td>{'learning_rate': 0.1, 'max_depth': 15}</td>\n",
       "      <td>0.961180</td>\n",
       "      <td>1</td>\n",
       "    </tr>\n",
       "    <tr>\n",
       "      <th>2</th>\n",
       "      <td>{'learning_rate': 0.05, 'max_depth': 15}</td>\n",
       "      <td>0.961111</td>\n",
       "      <td>2</td>\n",
       "    </tr>\n",
       "    <tr>\n",
       "      <th>8</th>\n",
       "      <td>{'learning_rate': 0.2, 'max_depth': 15}</td>\n",
       "      <td>0.957407</td>\n",
       "      <td>3</td>\n",
       "    </tr>\n",
       "    <tr>\n",
       "      <th>7</th>\n",
       "      <td>{'learning_rate': 0.2, 'max_depth': 10}</td>\n",
       "      <td>0.956083</td>\n",
       "      <td>4</td>\n",
       "    </tr>\n",
       "    <tr>\n",
       "      <th>4</th>\n",
       "      <td>{'learning_rate': 0.1, 'max_depth': 10}</td>\n",
       "      <td>0.955959</td>\n",
       "      <td>5</td>\n",
       "    </tr>\n",
       "  </tbody>\n",
       "</table>\n",
       "</div>"
      ],
      "text/plain": [
       "                                     params  mean_test_score  rank_test_score\n",
       "5   {'learning_rate': 0.1, 'max_depth': 15}         0.961180                1\n",
       "2  {'learning_rate': 0.05, 'max_depth': 15}         0.961111                2\n",
       "8   {'learning_rate': 0.2, 'max_depth': 15}         0.957407                3\n",
       "7   {'learning_rate': 0.2, 'max_depth': 10}         0.956083                4\n",
       "4   {'learning_rate': 0.1, 'max_depth': 10}         0.955959                5"
      ]
     },
     "execution_count": 66,
     "metadata": {},
     "output_type": "execute_result"
    }
   ],
   "source": [
    "scores_dfs.sort_values(by=['rank_test_score'], inplace=True)\n",
    "scores_dfs[['params', 'mean_test_score', 'rank_test_score']].head()"
   ]
  },
  {
   "cell_type": "code",
   "execution_count": 67,
   "id": "5f407266",
   "metadata": {},
   "outputs": [
    {
     "data": {
      "text/plain": [
       "{'learning_rate': 0.1, 'max_depth': 15}"
      ]
     },
     "execution_count": 67,
     "metadata": {},
     "output_type": "execute_result"
    }
   ],
   "source": [
    "gb_grids.best_params_"
   ]
  },
  {
   "cell_type": "code",
   "execution_count": 68,
   "id": "edb6f6ee",
   "metadata": {},
   "outputs": [],
   "source": [
    "estimators = gb_grids.best_estimator_"
   ]
  },
  {
   "cell_type": "code",
   "execution_count": 69,
   "id": "fc3a75e3",
   "metadata": {},
   "outputs": [],
   "source": [
    "preds = estimators.predict(X_tests)"
   ]
  },
  {
   "cell_type": "code",
   "execution_count": 70,
   "id": "5e7ebdab",
   "metadata": {},
   "outputs": [
    {
     "name": "stdout",
     "output_type": "stream",
     "text": [
      "0.01 전기전도도 μS/cm\n",
      "0.1 탁도 NTU\n",
      "0.11 총유기탄소 mg/L\n",
      "0.01 총질소 mg/L\n",
      "0.02 총인 mg/L\n",
      "0.02 상류수위(EL.m)\n",
      "0.0 방류량(㎥/s)\n",
      "0.02 1shift수온 ℃\n",
      "0.0 2shift수온 ℃\n",
      "0.0 3shift수온 ℃\n",
      "0.0 4shift수온 ℃\n",
      "0.0 5shift수온 ℃\n",
      "0.0 6shift수온 ℃\n",
      "0.0 7shift수온 ℃\n",
      "0.0 8shift수온 ℃\n",
      "0.0 9shift수온 ℃\n",
      "0.0 10shift수온 ℃\n",
      "0.0 11shift수온 ℃\n",
      "0.0 12shift수온 ℃\n",
      "0.0 13shift수온 ℃\n",
      "0.0 14shift수온 ℃\n",
      "0.0 15shift수온 ℃\n",
      "0.0 16shift수온 ℃\n",
      "0.0 17shift수온 ℃\n",
      "0.0 18shift수온 ℃\n",
      "0.0 19shift수온 ℃\n",
      "0.0 20shift수온 ℃\n",
      "0.0 21shift수온 ℃\n",
      "0.0 22shift수온 ℃\n",
      "0.0 23shift수온 ℃\n",
      "0.0 24shift수온 ℃\n",
      "0.0 25shift수온 ℃\n",
      "0.0 26shift수온 ℃\n",
      "0.0 27shift수온 ℃\n",
      "0.0 28shift수온 ℃\n",
      "0.0 29shift수온 ℃\n",
      "0.0 30shift수온 ℃\n",
      "0.0 31shift수온 ℃\n",
      "0.0 32shift수온 ℃\n",
      "0.02 33shift수온 ℃\n",
      "0.0 34shift수온 ℃\n",
      "0.0 35shift수온 ℃\n",
      "0.0 36shift수온 ℃\n",
      "0.0 37shift수온 ℃\n",
      "0.01 38shift수온 ℃\n",
      "0.0 39shift수온 ℃\n",
      "0.0 40shift수온 ℃\n",
      "0.0 41shift수온 ℃\n",
      "0.0 42shift수온 ℃\n",
      "0.01 43shift수온 ℃\n",
      "0.01 44shift수온 ℃\n",
      "0.0 45shift수온 ℃\n",
      "0.01 46shift수온 ℃\n",
      "0.0 47shift수온 ℃\n",
      "0.15 48shift수온 ℃\n",
      "0.0 1shift전기전도도 μS/cm\n",
      "0.0 2shift전기전도도 μS/cm\n",
      "0.0 3shift전기전도도 μS/cm\n",
      "0.0 4shift전기전도도 μS/cm\n",
      "0.0 5shift전기전도도 μS/cm\n",
      "0.0 6shift전기전도도 μS/cm\n",
      "0.0 7shift전기전도도 μS/cm\n",
      "0.0 8shift전기전도도 μS/cm\n",
      "0.0 9shift전기전도도 μS/cm\n",
      "0.0 10shift전기전도도 μS/cm\n",
      "0.0 11shift전기전도도 μS/cm\n",
      "0.0 12shift전기전도도 μS/cm\n",
      "0.0 13shift전기전도도 μS/cm\n",
      "0.0 14shift전기전도도 μS/cm\n",
      "0.0 15shift전기전도도 μS/cm\n",
      "0.0 16shift전기전도도 μS/cm\n",
      "0.0 17shift전기전도도 μS/cm\n",
      "0.0 18shift전기전도도 μS/cm\n",
      "0.0 19shift전기전도도 μS/cm\n",
      "0.0 20shift전기전도도 μS/cm\n",
      "0.0 21shift전기전도도 μS/cm\n",
      "0.0 22shift전기전도도 μS/cm\n",
      "0.0 23shift전기전도도 μS/cm\n",
      "0.0 24shift전기전도도 μS/cm\n",
      "0.0 25shift전기전도도 μS/cm\n",
      "0.0 26shift전기전도도 μS/cm\n",
      "0.0 27shift전기전도도 μS/cm\n",
      "0.0 28shift전기전도도 μS/cm\n",
      "0.0 29shift전기전도도 μS/cm\n",
      "0.0 30shift전기전도도 μS/cm\n",
      "0.0 31shift전기전도도 μS/cm\n",
      "0.0 32shift전기전도도 μS/cm\n",
      "0.0 33shift전기전도도 μS/cm\n",
      "0.0 34shift전기전도도 μS/cm\n",
      "0.0 35shift전기전도도 μS/cm\n",
      "0.01 36shift전기전도도 μS/cm\n",
      "0.0 37shift전기전도도 μS/cm\n",
      "0.0 38shift전기전도도 μS/cm\n",
      "0.0 39shift전기전도도 μS/cm\n",
      "0.0 40shift전기전도도 μS/cm\n",
      "0.0 41shift전기전도도 μS/cm\n",
      "0.0 42shift전기전도도 μS/cm\n",
      "0.0 43shift전기전도도 μS/cm\n",
      "0.0 44shift전기전도도 μS/cm\n",
      "0.0 45shift전기전도도 μS/cm\n",
      "0.0 46shift전기전도도 μS/cm\n",
      "0.0 47shift전기전도도 μS/cm\n",
      "0.02 48shift전기전도도 μS/cm\n",
      "0.0 1shift탁도 NTU\n",
      "0.01 2shift탁도 NTU\n",
      "0.0 3shift탁도 NTU\n",
      "0.0 4shift탁도 NTU\n",
      "0.0 5shift탁도 NTU\n",
      "0.0 6shift탁도 NTU\n",
      "0.0 7shift탁도 NTU\n",
      "0.0 8shift탁도 NTU\n",
      "0.0 9shift탁도 NTU\n",
      "0.0 10shift탁도 NTU\n",
      "0.0 11shift탁도 NTU\n",
      "0.0 12shift탁도 NTU\n",
      "0.0 13shift탁도 NTU\n",
      "0.0 14shift탁도 NTU\n",
      "0.0 15shift탁도 NTU\n",
      "0.0 16shift탁도 NTU\n",
      "0.0 17shift탁도 NTU\n",
      "0.0 18shift탁도 NTU\n",
      "0.0 19shift탁도 NTU\n",
      "0.0 20shift탁도 NTU\n",
      "0.0 21shift탁도 NTU\n",
      "0.0 22shift탁도 NTU\n",
      "0.0 23shift탁도 NTU\n",
      "0.0 24shift탁도 NTU\n",
      "0.0 25shift탁도 NTU\n",
      "0.0 26shift탁도 NTU\n",
      "0.0 27shift탁도 NTU\n",
      "0.0 28shift탁도 NTU\n",
      "0.0 29shift탁도 NTU\n",
      "0.0 30shift탁도 NTU\n",
      "0.0 31shift탁도 NTU\n",
      "0.0 32shift탁도 NTU\n",
      "0.0 33shift탁도 NTU\n",
      "0.0 34shift탁도 NTU\n",
      "0.0 35shift탁도 NTU\n",
      "0.0 36shift탁도 NTU\n",
      "0.0 37shift탁도 NTU\n",
      "0.0 38shift탁도 NTU\n",
      "0.0 39shift탁도 NTU\n",
      "0.0 40shift탁도 NTU\n",
      "0.0 41shift탁도 NTU\n",
      "0.0 42shift탁도 NTU\n",
      "0.0 43shift탁도 NTU\n",
      "0.0 44shift탁도 NTU\n",
      "0.0 45shift탁도 NTU\n",
      "0.0 46shift탁도 NTU\n",
      "0.0 47shift탁도 NTU\n",
      "0.0 48shift탁도 NTU\n",
      "0.0 1shift총유기탄소 mg/L\n",
      "0.0 2shift총유기탄소 mg/L\n",
      "0.0 3shift총유기탄소 mg/L\n",
      "0.0 4shift총유기탄소 mg/L\n",
      "0.0 5shift총유기탄소 mg/L\n",
      "0.0 6shift총유기탄소 mg/L\n",
      "0.0 7shift총유기탄소 mg/L\n",
      "0.0 8shift총유기탄소 mg/L\n",
      "0.0 9shift총유기탄소 mg/L\n",
      "0.0 10shift총유기탄소 mg/L\n",
      "0.0 11shift총유기탄소 mg/L\n",
      "0.0 12shift총유기탄소 mg/L\n",
      "0.0 13shift총유기탄소 mg/L\n",
      "0.0 14shift총유기탄소 mg/L\n",
      "0.0 15shift총유기탄소 mg/L\n",
      "0.0 16shift총유기탄소 mg/L\n",
      "0.0 17shift총유기탄소 mg/L\n",
      "0.0 18shift총유기탄소 mg/L\n",
      "0.0 19shift총유기탄소 mg/L\n",
      "0.0 20shift총유기탄소 mg/L\n",
      "0.0 21shift총유기탄소 mg/L\n",
      "0.0 22shift총유기탄소 mg/L\n",
      "0.0 23shift총유기탄소 mg/L\n",
      "0.0 24shift총유기탄소 mg/L\n",
      "0.0 25shift총유기탄소 mg/L\n",
      "0.0 26shift총유기탄소 mg/L\n",
      "0.0 27shift총유기탄소 mg/L\n",
      "0.0 28shift총유기탄소 mg/L\n",
      "0.0 29shift총유기탄소 mg/L\n",
      "0.0 30shift총유기탄소 mg/L\n",
      "0.0 31shift총유기탄소 mg/L\n",
      "0.0 32shift총유기탄소 mg/L\n",
      "0.0 33shift총유기탄소 mg/L\n",
      "0.0 34shift총유기탄소 mg/L\n",
      "0.0 35shift총유기탄소 mg/L\n",
      "0.0 36shift총유기탄소 mg/L\n",
      "0.0 37shift총유기탄소 mg/L\n",
      "0.0 38shift총유기탄소 mg/L\n",
      "0.0 39shift총유기탄소 mg/L\n",
      "0.0 40shift총유기탄소 mg/L\n",
      "0.0 41shift총유기탄소 mg/L\n",
      "0.0 42shift총유기탄소 mg/L\n",
      "0.0 43shift총유기탄소 mg/L\n",
      "0.0 44shift총유기탄소 mg/L\n",
      "0.0 45shift총유기탄소 mg/L\n",
      "0.0 46shift총유기탄소 mg/L\n",
      "0.01 47shift총유기탄소 mg/L\n",
      "0.0 48shift총유기탄소 mg/L\n",
      "0.01 1shift총질소 mg/L\n",
      "0.0 2shift총질소 mg/L\n",
      "0.0 3shift총질소 mg/L\n",
      "0.0 4shift총질소 mg/L\n",
      "0.0 5shift총질소 mg/L\n",
      "0.0 6shift총질소 mg/L\n",
      "0.0 7shift총질소 mg/L\n",
      "0.0 8shift총질소 mg/L\n",
      "0.0 9shift총질소 mg/L\n",
      "0.0 10shift총질소 mg/L\n",
      "0.0 11shift총질소 mg/L\n",
      "0.0 12shift총질소 mg/L\n",
      "0.0 13shift총질소 mg/L\n",
      "0.0 14shift총질소 mg/L\n",
      "0.0 15shift총질소 mg/L\n",
      "0.0 16shift총질소 mg/L\n",
      "0.0 17shift총질소 mg/L\n",
      "0.0 18shift총질소 mg/L\n",
      "0.0 19shift총질소 mg/L\n",
      "0.0 20shift총질소 mg/L\n",
      "0.0 21shift총질소 mg/L\n",
      "0.0 22shift총질소 mg/L\n",
      "0.0 23shift총질소 mg/L\n",
      "0.0 24shift총질소 mg/L\n",
      "0.0 25shift총질소 mg/L\n",
      "0.0 26shift총질소 mg/L\n",
      "0.0 27shift총질소 mg/L\n",
      "0.0 28shift총질소 mg/L\n",
      "0.0 29shift총질소 mg/L\n",
      "0.0 30shift총질소 mg/L\n",
      "0.0 31shift총질소 mg/L\n",
      "0.0 32shift총질소 mg/L\n",
      "0.0 33shift총질소 mg/L\n",
      "0.0 34shift총질소 mg/L\n",
      "0.0 35shift총질소 mg/L\n",
      "0.0 36shift총질소 mg/L\n",
      "0.0 37shift총질소 mg/L\n",
      "0.0 38shift총질소 mg/L\n",
      "0.0 39shift총질소 mg/L\n",
      "0.0 40shift총질소 mg/L\n",
      "0.0 41shift총질소 mg/L\n",
      "0.0 42shift총질소 mg/L\n",
      "0.0 43shift총질소 mg/L\n",
      "0.0 44shift총질소 mg/L\n",
      "0.0 45shift총질소 mg/L\n",
      "0.0 46shift총질소 mg/L\n",
      "0.0 47shift총질소 mg/L\n",
      "0.0 48shift총질소 mg/L\n",
      "0.0 1shift총인 mg/L\n",
      "0.0 2shift총인 mg/L\n",
      "0.0 3shift총인 mg/L\n",
      "0.0 4shift총인 mg/L\n",
      "0.0 5shift총인 mg/L\n",
      "0.0 6shift총인 mg/L\n",
      "0.0 7shift총인 mg/L\n",
      "0.0 8shift총인 mg/L\n",
      "0.0 9shift총인 mg/L\n",
      "0.0 10shift총인 mg/L\n",
      "0.0 11shift총인 mg/L\n",
      "0.0 12shift총인 mg/L\n",
      "0.0 13shift총인 mg/L\n",
      "0.0 14shift총인 mg/L\n",
      "0.0 15shift총인 mg/L\n",
      "0.0 16shift총인 mg/L\n",
      "0.0 17shift총인 mg/L\n",
      "0.0 18shift총인 mg/L\n",
      "0.0 19shift총인 mg/L\n",
      "0.0 20shift총인 mg/L\n",
      "0.0 21shift총인 mg/L\n",
      "0.0 22shift총인 mg/L\n",
      "0.0 23shift총인 mg/L\n",
      "0.0 24shift총인 mg/L\n",
      "0.0 25shift총인 mg/L\n",
      "0.0 26shift총인 mg/L\n",
      "0.0 27shift총인 mg/L\n",
      "0.0 28shift총인 mg/L\n",
      "0.0 29shift총인 mg/L\n",
      "0.0 30shift총인 mg/L\n",
      "0.0 31shift총인 mg/L\n",
      "0.0 32shift총인 mg/L\n",
      "0.0 33shift총인 mg/L\n",
      "0.0 34shift총인 mg/L\n",
      "0.0 35shift총인 mg/L\n",
      "0.0 36shift총인 mg/L\n",
      "0.0 37shift총인 mg/L\n",
      "0.0 38shift총인 mg/L\n",
      "0.0 39shift총인 mg/L\n",
      "0.0 40shift총인 mg/L\n",
      "0.0 41shift총인 mg/L\n",
      "0.0 42shift총인 mg/L\n",
      "0.0 43shift총인 mg/L\n",
      "0.0 44shift총인 mg/L\n",
      "0.0 45shift총인 mg/L\n",
      "0.01 46shift총인 mg/L\n",
      "0.0 47shift총인 mg/L\n",
      "0.0 48shift총인 mg/L\n",
      "0.0 1shift상류수위(EL.m)\n",
      "0.0 2shift상류수위(EL.m)\n",
      "0.0 3shift상류수위(EL.m)\n",
      "0.0 4shift상류수위(EL.m)\n",
      "0.0 5shift상류수위(EL.m)\n",
      "0.0 6shift상류수위(EL.m)\n",
      "0.0 7shift상류수위(EL.m)\n",
      "0.0 8shift상류수위(EL.m)\n",
      "0.0 9shift상류수위(EL.m)\n",
      "0.0 10shift상류수위(EL.m)\n",
      "0.0 11shift상류수위(EL.m)\n",
      "0.0 12shift상류수위(EL.m)\n",
      "0.0 13shift상류수위(EL.m)\n",
      "0.0 14shift상류수위(EL.m)\n",
      "0.0 15shift상류수위(EL.m)\n",
      "0.0 16shift상류수위(EL.m)\n",
      "0.0 17shift상류수위(EL.m)\n",
      "0.0 18shift상류수위(EL.m)\n",
      "0.0 19shift상류수위(EL.m)\n",
      "0.0 20shift상류수위(EL.m)\n",
      "0.0 21shift상류수위(EL.m)\n",
      "0.0 22shift상류수위(EL.m)\n",
      "0.0 23shift상류수위(EL.m)\n",
      "0.0 24shift상류수위(EL.m)\n",
      "0.0 25shift상류수위(EL.m)\n",
      "0.0 26shift상류수위(EL.m)\n",
      "0.0 27shift상류수위(EL.m)\n",
      "0.0 28shift상류수위(EL.m)\n",
      "0.0 29shift상류수위(EL.m)\n",
      "0.0 30shift상류수위(EL.m)\n",
      "0.0 31shift상류수위(EL.m)\n",
      "0.0 32shift상류수위(EL.m)\n",
      "0.0 33shift상류수위(EL.m)\n",
      "0.0 34shift상류수위(EL.m)\n",
      "0.0 35shift상류수위(EL.m)\n",
      "0.0 36shift상류수위(EL.m)\n",
      "0.0 37shift상류수위(EL.m)\n",
      "0.0 38shift상류수위(EL.m)\n",
      "0.0 39shift상류수위(EL.m)\n",
      "0.0 40shift상류수위(EL.m)\n",
      "0.0 41shift상류수위(EL.m)\n",
      "0.0 42shift상류수위(EL.m)\n",
      "0.0 43shift상류수위(EL.m)\n",
      "0.0 44shift상류수위(EL.m)\n",
      "0.0 45shift상류수위(EL.m)\n",
      "0.0 46shift상류수위(EL.m)\n",
      "0.0 47shift상류수위(EL.m)\n",
      "0.0 48shift상류수위(EL.m)\n",
      "0.0 1shift방류량(㎥/s)\n",
      "0.0 2shift방류량(㎥/s)\n",
      "0.0 3shift방류량(㎥/s)\n",
      "0.0 4shift방류량(㎥/s)\n",
      "0.0 5shift방류량(㎥/s)\n",
      "0.0 6shift방류량(㎥/s)\n",
      "0.0 7shift방류량(㎥/s)\n",
      "0.0 8shift방류량(㎥/s)\n",
      "0.0 9shift방류량(㎥/s)\n",
      "0.0 10shift방류량(㎥/s)\n",
      "0.0 11shift방류량(㎥/s)\n",
      "0.0 12shift방류량(㎥/s)\n",
      "0.0 13shift방류량(㎥/s)\n",
      "0.0 14shift방류량(㎥/s)\n",
      "0.01 15shift방류량(㎥/s)\n",
      "0.0 16shift방류량(㎥/s)\n",
      "0.0 17shift방류량(㎥/s)\n",
      "0.0 18shift방류량(㎥/s)\n",
      "0.0 19shift방류량(㎥/s)\n",
      "0.01 20shift방류량(㎥/s)\n",
      "0.0 21shift방류량(㎥/s)\n",
      "0.0 22shift방류량(㎥/s)\n",
      "0.0 23shift방류량(㎥/s)\n",
      "0.0 24shift방류량(㎥/s)\n",
      "0.0 25shift방류량(㎥/s)\n",
      "0.0 26shift방류량(㎥/s)\n",
      "0.0 27shift방류량(㎥/s)\n",
      "0.0 28shift방류량(㎥/s)\n",
      "0.0 29shift방류량(㎥/s)\n",
      "0.0 30shift방류량(㎥/s)\n",
      "0.01 31shift방류량(㎥/s)\n",
      "0.0 32shift방류량(㎥/s)\n",
      "0.0 33shift방류량(㎥/s)\n",
      "0.0 34shift방류량(㎥/s)\n",
      "0.0 35shift방류량(㎥/s)\n",
      "0.0 36shift방류량(㎥/s)\n",
      "0.0 37shift방류량(㎥/s)\n",
      "0.0 38shift방류량(㎥/s)\n",
      "0.0 39shift방류량(㎥/s)\n",
      "0.0 40shift방류량(㎥/s)\n",
      "0.0 41shift방류량(㎥/s)\n",
      "0.0 42shift방류량(㎥/s)\n",
      "0.0 43shift방류량(㎥/s)\n",
      "0.0 44shift방류량(㎥/s)\n",
      "0.0 45shift방류량(㎥/s)\n",
      "0.0 46shift방류량(㎥/s)\n",
      "0.0 47shift방류량(㎥/s)\n",
      "0.01 48shift방류량(㎥/s)\n"
     ]
    }
   ],
   "source": [
    "for score, name in zip(estimators.feature_importances_, col_v):\n",
    "    print(round(score, 2), name)"
   ]
  },
  {
   "cell_type": "code",
   "execution_count": 71,
   "id": "51a43b85",
   "metadata": {},
   "outputs": [
    {
     "name": "stderr",
     "output_type": "stream",
     "text": [
      "/home/gslee/anaconda3/lib/python3.9/site-packages/matplotlib/backends/backend_agg.py:240: RuntimeWarning: Glyph 49688 missing from current font.\n",
      "  font.set_text(s, 0.0, flags=flags)\n",
      "/home/gslee/anaconda3/lib/python3.9/site-packages/matplotlib/backends/backend_agg.py:240: RuntimeWarning: Glyph 50728 missing from current font.\n",
      "  font.set_text(s, 0.0, flags=flags)\n",
      "/home/gslee/anaconda3/lib/python3.9/site-packages/matplotlib/backends/backend_agg.py:240: RuntimeWarning: Glyph 52509 missing from current font.\n",
      "  font.set_text(s, 0.0, flags=flags)\n",
      "/home/gslee/anaconda3/lib/python3.9/site-packages/matplotlib/backends/backend_agg.py:240: RuntimeWarning: Glyph 50976 missing from current font.\n",
      "  font.set_text(s, 0.0, flags=flags)\n",
      "/home/gslee/anaconda3/lib/python3.9/site-packages/matplotlib/backends/backend_agg.py:240: RuntimeWarning: Glyph 44592 missing from current font.\n",
      "  font.set_text(s, 0.0, flags=flags)\n",
      "/home/gslee/anaconda3/lib/python3.9/site-packages/matplotlib/backends/backend_agg.py:240: RuntimeWarning: Glyph 53444 missing from current font.\n",
      "  font.set_text(s, 0.0, flags=flags)\n",
      "/home/gslee/anaconda3/lib/python3.9/site-packages/matplotlib/backends/backend_agg.py:240: RuntimeWarning: Glyph 49548 missing from current font.\n",
      "  font.set_text(s, 0.0, flags=flags)\n",
      "/home/gslee/anaconda3/lib/python3.9/site-packages/matplotlib/backends/backend_agg.py:240: RuntimeWarning: Glyph 53441 missing from current font.\n",
      "  font.set_text(s, 0.0, flags=flags)\n",
      "/home/gslee/anaconda3/lib/python3.9/site-packages/matplotlib/backends/backend_agg.py:240: RuntimeWarning: Glyph 46020 missing from current font.\n",
      "  font.set_text(s, 0.0, flags=flags)\n",
      "/home/gslee/anaconda3/lib/python3.9/site-packages/matplotlib/backends/backend_agg.py:240: RuntimeWarning: Glyph 51064 missing from current font.\n",
      "  font.set_text(s, 0.0, flags=flags)\n",
      "/home/gslee/anaconda3/lib/python3.9/site-packages/matplotlib/backends/backend_agg.py:240: RuntimeWarning: Glyph 49345 missing from current font.\n",
      "  font.set_text(s, 0.0, flags=flags)\n",
      "/home/gslee/anaconda3/lib/python3.9/site-packages/matplotlib/backends/backend_agg.py:240: RuntimeWarning: Glyph 47448 missing from current font.\n",
      "  font.set_text(s, 0.0, flags=flags)\n",
      "/home/gslee/anaconda3/lib/python3.9/site-packages/matplotlib/backends/backend_agg.py:240: RuntimeWarning: Glyph 50948 missing from current font.\n",
      "  font.set_text(s, 0.0, flags=flags)\n",
      "/home/gslee/anaconda3/lib/python3.9/site-packages/matplotlib/backends/backend_agg.py:240: RuntimeWarning: Glyph 51204 missing from current font.\n",
      "  font.set_text(s, 0.0, flags=flags)\n",
      "/home/gslee/anaconda3/lib/python3.9/site-packages/matplotlib/backends/backend_agg.py:240: RuntimeWarning: Glyph 48169 missing from current font.\n",
      "  font.set_text(s, 0.0, flags=flags)\n",
      "/home/gslee/anaconda3/lib/python3.9/site-packages/matplotlib/backends/backend_agg.py:240: RuntimeWarning: Glyph 47049 missing from current font.\n",
      "  font.set_text(s, 0.0, flags=flags)\n",
      "/home/gslee/anaconda3/lib/python3.9/site-packages/matplotlib/backends/backend_agg.py:240: RuntimeWarning: Glyph 13221 missing from current font.\n",
      "  font.set_text(s, 0.0, flags=flags)\n",
      "/home/gslee/anaconda3/lib/python3.9/site-packages/matplotlib/backends/backend_agg.py:203: RuntimeWarning: Glyph 49688 missing from current font.\n",
      "  font.set_text(s, 0, flags=flags)\n",
      "/home/gslee/anaconda3/lib/python3.9/site-packages/matplotlib/backends/backend_agg.py:203: RuntimeWarning: Glyph 50728 missing from current font.\n",
      "  font.set_text(s, 0, flags=flags)\n",
      "/home/gslee/anaconda3/lib/python3.9/site-packages/matplotlib/backends/backend_agg.py:203: RuntimeWarning: Glyph 52509 missing from current font.\n",
      "  font.set_text(s, 0, flags=flags)\n",
      "/home/gslee/anaconda3/lib/python3.9/site-packages/matplotlib/backends/backend_agg.py:203: RuntimeWarning: Glyph 50976 missing from current font.\n",
      "  font.set_text(s, 0, flags=flags)\n",
      "/home/gslee/anaconda3/lib/python3.9/site-packages/matplotlib/backends/backend_agg.py:203: RuntimeWarning: Glyph 44592 missing from current font.\n",
      "  font.set_text(s, 0, flags=flags)\n",
      "/home/gslee/anaconda3/lib/python3.9/site-packages/matplotlib/backends/backend_agg.py:203: RuntimeWarning: Glyph 53444 missing from current font.\n",
      "  font.set_text(s, 0, flags=flags)\n",
      "/home/gslee/anaconda3/lib/python3.9/site-packages/matplotlib/backends/backend_agg.py:203: RuntimeWarning: Glyph 49548 missing from current font.\n",
      "  font.set_text(s, 0, flags=flags)\n",
      "/home/gslee/anaconda3/lib/python3.9/site-packages/matplotlib/backends/backend_agg.py:203: RuntimeWarning: Glyph 53441 missing from current font.\n",
      "  font.set_text(s, 0, flags=flags)\n",
      "/home/gslee/anaconda3/lib/python3.9/site-packages/matplotlib/backends/backend_agg.py:203: RuntimeWarning: Glyph 46020 missing from current font.\n",
      "  font.set_text(s, 0, flags=flags)\n",
      "/home/gslee/anaconda3/lib/python3.9/site-packages/matplotlib/backends/backend_agg.py:203: RuntimeWarning: Glyph 51064 missing from current font.\n",
      "  font.set_text(s, 0, flags=flags)\n",
      "/home/gslee/anaconda3/lib/python3.9/site-packages/matplotlib/backends/backend_agg.py:203: RuntimeWarning: Glyph 49345 missing from current font.\n",
      "  font.set_text(s, 0, flags=flags)\n",
      "/home/gslee/anaconda3/lib/python3.9/site-packages/matplotlib/backends/backend_agg.py:203: RuntimeWarning: Glyph 47448 missing from current font.\n",
      "  font.set_text(s, 0, flags=flags)\n",
      "/home/gslee/anaconda3/lib/python3.9/site-packages/matplotlib/backends/backend_agg.py:203: RuntimeWarning: Glyph 50948 missing from current font.\n",
      "  font.set_text(s, 0, flags=flags)\n",
      "/home/gslee/anaconda3/lib/python3.9/site-packages/matplotlib/backends/backend_agg.py:203: RuntimeWarning: Glyph 51204 missing from current font.\n",
      "  font.set_text(s, 0, flags=flags)\n",
      "/home/gslee/anaconda3/lib/python3.9/site-packages/matplotlib/backends/backend_agg.py:203: RuntimeWarning: Glyph 48169 missing from current font.\n",
      "  font.set_text(s, 0, flags=flags)\n",
      "/home/gslee/anaconda3/lib/python3.9/site-packages/matplotlib/backends/backend_agg.py:203: RuntimeWarning: Glyph 47049 missing from current font.\n",
      "  font.set_text(s, 0, flags=flags)\n",
      "/home/gslee/anaconda3/lib/python3.9/site-packages/matplotlib/backends/backend_agg.py:203: RuntimeWarning: Glyph 13221 missing from current font.\n",
      "  font.set_text(s, 0, flags=flags)\n"
     ]
    },
    {
     "data": {
      "image/png": "[encoded data removed]",
      "text/plain": [
       "<Figure size 432x288 with 1 Axes>"
      ]
     },
     "metadata": {
      "needs_background": "light"
     },
     "output_type": "display_data"
    }
   ],
   "source": [
    "feature_seriess = pd.Series(data = estimators.feature_importances_, index = col_v)\n",
    "feature_seriess = feature_seriess.sort_values(ascending = False)\n",
    "sns.barplot(x = feature_seriess[:10], y = feature_seriess.index[:10], color = 'gray')\n",
    "plt.show()"
   ]
  },
  {
   "cell_type": "code",
   "execution_count": 72,
   "id": "b5069d10",
   "metadata": {},
   "outputs": [
    {
     "name": "stdout",
     "output_type": "stream",
     "text": [
      "score : 0.97534875670348\n"
     ]
    }
   ],
   "source": [
    "print('score :', estimators.score(X_tests, np.log1p(y_tests)))"
   ]
  },
  {
   "cell_type": "code",
   "execution_count": 73,
   "id": "a7a31cf1",
   "metadata": {},
   "outputs": [
    {
     "data": {
      "text/plain": [
       "48shift수온 ℃           0.154569\n",
       "총유기탄소 mg/L            0.107062\n",
       "탁도 NTU                0.102870\n",
       "총인 mg/L               0.022938\n",
       "48shift전기전도도 μS/cm    0.019304\n",
       "1shift수온 ℃            0.017328\n",
       "상류수위(EL.m)            0.016301\n",
       "33shift수온 ℃           0.014879\n",
       "38shift수온 ℃           0.013138\n",
       "20shift방류량(㎥/s)       0.012075\n",
       "dtype: float64"
      ]
     },
     "execution_count": 73,
     "metadata": {},
     "output_type": "execute_result"
    }
   ],
   "source": [
    "feature_series[:10]"
   ]
  },
  {
   "cell_type": "code",
   "execution_count": null,
   "id": "90984090",
   "metadata": {},
   "outputs": [],
   "source": []
  },
  {
   "cell_type": "code",
   "execution_count": null,
   "id": "e2c6cd8a",
   "metadata": {},
   "outputs": [],
   "source": []
  },
  {
   "cell_type": "code",
   "execution_count": null,
   "id": "e3f74677",
   "metadata": {},
   "outputs": [],
   "source": []
  }
 ],
 "metadata": {
  "kernelspec": {
   "display_name": "Python 3.9.7 ('base')",
   "language": "python",
   "name": "python3"
  },
  "language_info": {
   "codemirror_mode": {
    "name": "ipython",
    "version": 3
   },
   "file_extension": ".py",
   "mimetype": "text/x-python",
   "name": "python",
   "nbconvert_exporter": "python",
   "pygments_lexer": "ipython3",
   "version": "3.9.7"
  },
  "vscode": {
   "interpreter": {
    "hash": "4f1c27f6da107cbb19cc7f388eb21cff313e366dc533bc97937a0f5f8534034c"
   }
  }
 },
 "nbformat": 4,
 "nbformat_minor": 5
}
