{
 "cells": [
  {
   "cell_type": "markdown",
   "metadata": {},
   "source": [
    "# 영산강 보 통합 데이터"
   ]
  },
  {
   "cell_type": "markdown",
   "metadata": {},
   "source": [
    "**필수 라이브러리**"
   ]
  },
  {
   "cell_type": "code",
   "execution_count": 1,
   "metadata": {},
   "outputs": [],
   "source": [
    "import numpy as np\n",
    "import pandas as pd\n",
    "import matplotlib.pyplot as plt\n",
    "import matplotlib"
   ]
  },
  {
   "cell_type": "markdown",
   "metadata": {},
   "source": [
    "**matplotlib 한글 설정**\n",
    "\n",
    "- 운영체제에 따른 한글 지원 설정. 윈도우, 우분투, 구글 코랩 지원.\n",
    "- 참고: [matplotlib에서 한글 지원하기](https://github.com/codingalzi/datapy/blob/master/matplotlib-korean.md)"
   ]
  },
  {
   "cell_type": "code",
   "execution_count": 2,
   "metadata": {},
   "outputs": [],
   "source": [
    "import platform\n",
    "\n",
    "if platform.system() == 'Windows': # 윈도우\n",
    "    from matplotlib import font_manager, rc\n",
    "    font_path = \"C:/Windows/Fonts/NGULIM.TTF\"\n",
    "    font = font_manager.FontProperties(fname=font_path).get_name()\n",
    "    rc('font', family=font)\n",
    "elif platform.system() == 'Linux': # 우분투 또는 구글 코랩\n",
    "    # please run the following commented out codes just once\n",
    "#     if 'google.colab' in str(get_ipython()):\n",
    "#         !apt-get install -y fonts-nanum*\n",
    "#     else:\n",
    "#         !sudo apt-get install -y fonts-nanum*\n",
    "#     !fc-cache -fv\n",
    "    \n",
    "    applyfont = \"NanumBarunGothic\"\n",
    "    import matplotlib.font_manager as fm\n",
    "    if not any(map(lambda ft: ft.name == applyfont, fm.fontManager.ttflist)):\n",
    "        fm.fontManager.addfont(\"/usr/share/fonts/truetype/nanum/NanumBarunGothic.ttf\")\n",
    "    plt.rc(\"font\", family=applyfont)\n",
    "    plt.rc(\"axes\", unicode_minus=False)\n",
    "    "
   ]
  },
  {
   "cell_type": "markdown",
   "metadata": {},
   "source": [
    "## 데이터 준비"
   ]
  },
  {
   "cell_type": "markdown",
   "metadata": {},
   "source": [
    "**데이터 저장소**\n",
    "\n",
    "데이터 원본 파일 저장소는 다음과 같다."
   ]
  },
  {
   "cell_type": "code",
   "execution_count": 3,
   "metadata": {},
   "outputs": [],
   "source": [
    "base_url = \"https://github.com/codingalzi/water-data/raw/master/reservoirs/\""
   ]
  },
  {
   "cell_type": "markdown",
   "metadata": {},
   "source": [
    "**영산강(엑셀) 자료를 데이터프레임으로 불러오기**"
   ]
  },
  {
   "cell_type": "markdown",
   "metadata": {},
   "source": [
    "모든 지역의 데이터 불러오기: 평동천, 광산, 장성천2, 문평천, 영산포2, 함평, 무안2\n",
    "\n",
    "- `header=0`: 0번 행을 header로 지정, 즉 열 인덱스로 사용.\n",
    "- `sheet_name=None`: 모든 워크시트 가져오기. 워크시트별로 하나의 df 생성. 반환값은 사전.\n",
    "- `na_values=0`: 0으로 입력된 값도 결측치로 처리\n",
    "- `index_col=1`: 측정일을 행 인덱스로 사용\n",
    "- `parse_dates=True`: 행 인덱스로 사용되는 날짜 대상 파싱 실행"
   ]
  },
  {
   "cell_type": "code",
   "execution_count": 4,
   "metadata": {},
   "outputs": [],
   "source": [
    "# 주의: 엑셀파일을 불러오기 위해 아래 모듈이 필요하다.\n",
    "\n",
    "# !pip install openpyxl"
   ]
  },
  {
   "cell_type": "code",
   "execution_count": 5,
   "metadata": {},
   "outputs": [],
   "source": [
    "yeongsan = pd.read_excel(base_url+\"Yeongsan.xlsx\",\n",
    "                            header=0, \n",
    "                            sheet_name=None,\n",
    "                            na_values=0,\n",
    "                            index_col=1, \n",
    "                            parse_dates=True)"
   ]
  },
  {
   "cell_type": "markdown",
   "metadata": {},
   "source": [
    "포함된 보(reservoir)의 지역명은 다음과 같다."
   ]
  },
  {
   "cell_type": "code",
   "execution_count": 6,
   "metadata": {},
   "outputs": [
    {
     "data": {
      "text/plain": [
       "dict_keys(['1_평동천', '2_광산', '3_장성천2', '4_문평천', '5_영산포2', '6_함평', '7_무안2'])"
      ]
     },
     "execution_count": 6,
     "metadata": {},
     "output_type": "execute_result"
    }
   ],
   "source": [
    "locations = yeongsan.keys()\n",
    "locations"
   ]
  },
  {
   "cell_type": "markdown",
   "metadata": {},
   "source": [
    "**주요 특성**"
   ]
  },
  {
   "cell_type": "markdown",
   "metadata": {},
   "source": [
    "수온, BOD, COD, TN, TP, 유량 등 6개의 주요 특성만을 이용하여 클로로필-A 예측하려 한다.\n",
    "원 데이터셋에 포함된 19개의 특성은 다음과 같다."
   ]
  },
  {
   "cell_type": "code",
   "execution_count": 17,
   "metadata": {},
   "outputs": [
    {
     "data": {
      "text/plain": [
       "['측정소명',\n",
       " '회차',\n",
       " '수온(℃)',\n",
       " 'DO(㎎/L)',\n",
       " 'BOD(㎎/L)',\n",
       " 'COD(㎎/L)',\n",
       " '클로로필 a(㎎/㎥)',\n",
       " 'TN(㎎/L)',\n",
       " 'TP(㎎/L)',\n",
       " 'TOC(㎎/L)',\n",
       " '수소이온농도',\n",
       " '전기전도도(μS/㎝)',\n",
       " '용존총질소(㎎/L)',\n",
       " '암모니아성 질소(㎎/L)',\n",
       " '질산성 질소(㎎/L)',\n",
       " '용존총인(㎎/L)',\n",
       " '인산염인(㎎/L)',\n",
       " 'SS(㎎/L)',\n",
       " '유량(㎥/s)']"
      ]
     },
     "execution_count": 17,
     "metadata": {},
     "output_type": "execute_result"
    }
   ],
   "source": [
    "list(yeongsan['1_평동천'].columns)"
   ]
  },
  {
   "cell_type": "markdown",
   "metadata": {},
   "source": [
    "주요 특성 6개와 타깃으로 사용될 특성인 클로로필-A를 별도로 지정한다."
   ]
  },
  {
   "cell_type": "code",
   "execution_count": 18,
   "metadata": {},
   "outputs": [],
   "source": [
    "features_important = ['수온(℃)', 'BOD(㎎/L)', 'COD(㎎/L)', 'TN(㎎/L)', 'TP(㎎/L)', '유량(㎥/s)', '클로로필 a(㎎/㎥)']"
   ]
  },
  {
   "cell_type": "markdown",
   "metadata": {},
   "source": [
    "- 입력데이터셋 특성 6개"
   ]
  },
  {
   "cell_type": "code",
   "execution_count": 19,
   "metadata": {},
   "outputs": [],
   "source": [
    "six_features = features_important[:6]"
   ]
  },
  {
   "cell_type": "markdown",
   "metadata": {},
   "source": [
    "* 타깃 특성: 클로로필-A"
   ]
  },
  {
   "cell_type": "code",
   "execution_count": 20,
   "metadata": {},
   "outputs": [],
   "source": [
    "target_feature = features_important[-1]"
   ]
  },
  {
   "cell_type": "markdown",
   "metadata": {},
   "source": [
    "**지역별 데이터**"
   ]
  },
  {
   "cell_type": "markdown",
   "metadata": {},
   "source": [
    "지역별 데이터셋 크기는 다음과 같다."
   ]
  },
  {
   "cell_type": "code",
   "execution_count": 7,
   "metadata": {},
   "outputs": [
    {
     "name": "stdout",
     "output_type": "stream",
     "text": [
      "1_평동천: \t(440, 19)\n",
      "2_광산: \t(510, 19)\n",
      "3_장성천2: \t(435, 19)\n",
      "4_문평천: \t(435, 19)\n",
      "5_영산포2: \t(456, 19)\n",
      "6_함평: \t(456, 19)\n",
      "7_무안2: \t(534, 19)\n",
      "총 데이터수: 3266\n"
     ]
    }
   ],
   "source": [
    "total_data = 0\n",
    "\n",
    "for loc in locations:\n",
    "    ys_loc = yeongsan[loc]\n",
    "    total_data += ys_loc.shape[0]\n",
    "    print(f\"{loc}: \\t{ys_loc.shape}\")\n",
    "    \n",
    "print(\"총 데이터수:\", total_data)"
   ]
  },
  {
   "cell_type": "markdown",
   "metadata": {},
   "source": [
    "**지역별 데이터 분포**"
   ]
  },
  {
   "cell_type": "code",
   "execution_count": 23,
   "metadata": {},
   "outputs": [
    {
     "name": "stdout",
     "output_type": "stream",
     "text": [
      "<class 'pandas.core.frame.DataFrame'>\n",
      "DatetimeIndex: 440 entries, 2012-06-05 to 2022-06-27\n",
      "Data columns (total 7 columns):\n",
      " #   Column       Non-Null Count  Dtype  \n",
      "---  ------       --------------  -----  \n",
      " 0   수온(℃)        440 non-null    float64\n",
      " 1   BOD(㎎/L)     440 non-null    float64\n",
      " 2   COD(㎎/L)     440 non-null    float64\n",
      " 3   TN(㎎/L)      440 non-null    float64\n",
      " 4   TP(㎎/L)      440 non-null    float64\n",
      " 5   유량(㎥/s)      437 non-null    float64\n",
      " 6   클로로필 a(㎎/㎥)  424 non-null    float64\n",
      "dtypes: float64(7)\n",
      "memory usage: 27.5 KB\n"
     ]
    }
   ],
   "source": [
    "loc = list(locations)[0]\n",
    "ys_loc = yeongsan[loc][features_important]\n",
    "ys_loc.info()"
   ]
  },
  {
   "cell_type": "markdown",
   "metadata": {},
   "source": [
    "모든 지역에서 유량과 클로로필-A 특성에서 일부 결측지가 존재한다.\n",
    "\n",
    "- 광산 데이터셋이 가장 크면서 가장 적은 유량 결측치를 가진다."
   ]
  },
  {
   "cell_type": "code",
   "execution_count": 28,
   "metadata": {},
   "outputs": [
    {
     "name": "stdout",
     "output_type": "stream",
     "text": [
      "\n",
      "=== 1_평동천 ===\n",
      "\n",
      "<class 'pandas.core.frame.DataFrame'>\n",
      "DatetimeIndex: 440 entries, 2012-06-05 to 2022-06-27\n",
      "Data columns (total 7 columns):\n",
      " #   Column       Non-Null Count  Dtype  \n",
      "---  ------       --------------  -----  \n",
      " 0   수온(℃)        440 non-null    float64\n",
      " 1   BOD(㎎/L)     440 non-null    float64\n",
      " 2   COD(㎎/L)     440 non-null    float64\n",
      " 3   TN(㎎/L)      440 non-null    float64\n",
      " 4   TP(㎎/L)      440 non-null    float64\n",
      " 5   유량(㎥/s)      437 non-null    float64\n",
      " 6   클로로필 a(㎎/㎥)  424 non-null    float64\n",
      "dtypes: float64(7)\n",
      "memory usage: 27.5 KB\n",
      "\n",
      "=== 2_광산 ===\n",
      "\n",
      "<class 'pandas.core.frame.DataFrame'>\n",
      "DatetimeIndex: 510 entries, 2012-01-04 to 2021-12-20\n",
      "Data columns (total 7 columns):\n",
      " #   Column       Non-Null Count  Dtype  \n",
      "---  ------       --------------  -----  \n",
      " 0   수온(℃)        510 non-null    float64\n",
      " 1   BOD(㎎/L)     510 non-null    float64\n",
      " 2   COD(㎎/L)     510 non-null    float64\n",
      " 3   TN(㎎/L)      510 non-null    float64\n",
      " 4   TP(㎎/L)      510 non-null    float64\n",
      " 5   유량(㎥/s)      508 non-null    float64\n",
      " 6   클로로필 a(㎎/㎥)  510 non-null    float64\n",
      "dtypes: float64(7)\n",
      "memory usage: 31.9 KB\n",
      "\n",
      "=== 3_장성천2 ===\n",
      "\n",
      "<class 'pandas.core.frame.DataFrame'>\n",
      "DatetimeIndex: 435 entries, 2012-06-07 to 2022-06-29\n",
      "Data columns (total 7 columns):\n",
      " #   Column       Non-Null Count  Dtype  \n",
      "---  ------       --------------  -----  \n",
      " 0   수온(℃)        435 non-null    float64\n",
      " 1   BOD(㎎/L)     435 non-null    float64\n",
      " 2   COD(㎎/L)     435 non-null    float64\n",
      " 3   TN(㎎/L)      435 non-null    float64\n",
      " 4   TP(㎎/L)      435 non-null    float64\n",
      " 5   유량(㎥/s)      426 non-null    float64\n",
      " 6   클로로필 a(㎎/㎥)  419 non-null    float64\n",
      "dtypes: float64(7)\n",
      "memory usage: 27.2 KB\n",
      "\n",
      "=== 4_문평천 ===\n",
      "\n",
      "<class 'pandas.core.frame.DataFrame'>\n",
      "DatetimeIndex: 435 entries, 2012-06-07 to 2022-06-29\n",
      "Data columns (total 7 columns):\n",
      " #   Column       Non-Null Count  Dtype  \n",
      "---  ------       --------------  -----  \n",
      " 0   수온(℃)        435 non-null    float64\n",
      " 1   BOD(㎎/L)     435 non-null    float64\n",
      " 2   COD(㎎/L)     435 non-null    float64\n",
      " 3   TN(㎎/L)      435 non-null    float64\n",
      " 4   TP(㎎/L)      435 non-null    float64\n",
      " 5   유량(㎥/s)      426 non-null    float64\n",
      " 6   클로로필 a(㎎/㎥)  419 non-null    float64\n",
      "dtypes: float64(7)\n",
      "memory usage: 27.2 KB\n",
      "\n",
      "=== 5_영산포2 ===\n",
      "\n",
      "<class 'pandas.core.frame.DataFrame'>\n",
      "DatetimeIndex: 456 entries, 2012-01-10 to 2022-06-28\n",
      "Data columns (total 7 columns):\n",
      " #   Column       Non-Null Count  Dtype  \n",
      "---  ------       --------------  -----  \n",
      " 0   수온(℃)        456 non-null    float64\n",
      " 1   BOD(㎎/L)     456 non-null    float64\n",
      " 2   COD(㎎/L)     456 non-null    float64\n",
      " 3   TN(㎎/L)      456 non-null    float64\n",
      " 4   TP(㎎/L)      456 non-null    float64\n",
      " 5   유량(㎥/s)      451 non-null    float64\n",
      " 6   클로로필 a(㎎/㎥)  456 non-null    float64\n",
      "dtypes: float64(7)\n",
      "memory usage: 28.5 KB\n",
      "\n",
      "=== 6_함평 ===\n",
      "\n",
      "<class 'pandas.core.frame.DataFrame'>\n",
      "DatetimeIndex: 456 entries, 2012-01-10 to 2022-06-28\n",
      "Data columns (total 7 columns):\n",
      " #   Column       Non-Null Count  Dtype  \n",
      "---  ------       --------------  -----  \n",
      " 0   수온(℃)        456 non-null    float64\n",
      " 1   BOD(㎎/L)     456 non-null    float64\n",
      " 2   COD(㎎/L)     456 non-null    float64\n",
      " 3   TN(㎎/L)      456 non-null    float64\n",
      " 4   TP(㎎/L)      456 non-null    float64\n",
      " 5   유량(㎥/s)      449 non-null    float64\n",
      " 6   클로로필 a(㎎/㎥)  456 non-null    float64\n",
      "dtypes: float64(7)\n",
      "memory usage: 28.5 KB\n",
      "\n",
      "=== 7_무안2 ===\n",
      "\n",
      "<class 'pandas.core.frame.DataFrame'>\n",
      "DatetimeIndex: 534 entries, 2012-01-05 to 2022-06-28\n",
      "Data columns (total 7 columns):\n",
      " #   Column       Non-Null Count  Dtype  \n",
      "---  ------       --------------  -----  \n",
      " 0   수온(℃)        534 non-null    float64\n",
      " 1   BOD(㎎/L)     534 non-null    float64\n",
      " 2   COD(㎎/L)     534 non-null    float64\n",
      " 3   TN(㎎/L)      534 non-null    float64\n",
      " 4   TP(㎎/L)      534 non-null    float64\n",
      " 5   유량(㎥/s)      229 non-null    float64\n",
      " 6   클로로필 a(㎎/㎥)  534 non-null    float64\n",
      "dtypes: float64(7)\n",
      "memory usage: 33.4 KB\n"
     ]
    }
   ],
   "source": [
    "for loc in locations:\n",
    "    print(f\"\\n=== {loc} ===\\n\")\n",
    "    ys_loc = yeongsan[loc][features_important]\n",
    "    ys_loc.info()\n"
   ]
  },
  {
   "cell_type": "markdown",
   "metadata": {},
   "source": [
    "**광산 지역 데이터**"
   ]
  },
  {
   "cell_type": "code",
   "execution_count": 31,
   "metadata": {},
   "outputs": [],
   "source": [
    "kwangsan = yeongsan['2_광산'][features_important]"
   ]
  },
  {
   "cell_type": "code",
   "execution_count": 32,
   "metadata": {},
   "outputs": [
    {
     "name": "stdout",
     "output_type": "stream",
     "text": [
      "<class 'pandas.core.frame.DataFrame'>\n",
      "DatetimeIndex: 510 entries, 2012-01-04 to 2021-12-20\n",
      "Data columns (total 7 columns):\n",
      " #   Column       Non-Null Count  Dtype  \n",
      "---  ------       --------------  -----  \n",
      " 0   수온(℃)        510 non-null    float64\n",
      " 1   BOD(㎎/L)     510 non-null    float64\n",
      " 2   COD(㎎/L)     510 non-null    float64\n",
      " 3   TN(㎎/L)      510 non-null    float64\n",
      " 4   TP(㎎/L)      510 non-null    float64\n",
      " 5   유량(㎥/s)      508 non-null    float64\n",
      " 6   클로로필 a(㎎/㎥)  510 non-null    float64\n",
      "dtypes: float64(7)\n",
      "memory usage: 31.9 KB\n"
     ]
    }
   ],
   "source": [
    "kwangsan.info()"
   ]
  },
  {
   "cell_type": "markdown",
   "metadata": {},
   "source": [
    "결측치를 포함한 데이터 2개는 제거한다."
   ]
  },
  {
   "cell_type": "code",
   "execution_count": 33,
   "metadata": {},
   "outputs": [],
   "source": [
    "kwangsan = kwangsan.dropna()"
   ]
  },
  {
   "cell_type": "markdown",
   "metadata": {},
   "source": [
    "**특성 정규화**"
   ]
  },
  {
   "cell_type": "markdown",
   "metadata": {},
   "source": [
    "모든 특성을 정규화한다. \n",
    "\n",
    "먼저 특성별 평균값과 표준편차를 계산한다."
   ]
  },
  {
   "cell_type": "code",
   "execution_count": 35,
   "metadata": {},
   "outputs": [],
   "source": [
    "kwangsan_mean = kwangsan.mean(axis=0)\n",
    "kwangsan_std = kwangsan.std(axis=0)"
   ]
  },
  {
   "cell_type": "markdown",
   "metadata": {},
   "source": [
    "평균은 0, 표준편차는 1로 변환한다."
   ]
  },
  {
   "cell_type": "code",
   "execution_count": 36,
   "metadata": {},
   "outputs": [
    {
     "data": {
      "text/html": [
       "<div>\n",
       "<style scoped>\n",
       "    .dataframe tbody tr th:only-of-type {\n",
       "        vertical-align: middle;\n",
       "    }\n",
       "\n",
       "    .dataframe tbody tr th {\n",
       "        vertical-align: top;\n",
       "    }\n",
       "\n",
       "    .dataframe thead th {\n",
       "        text-align: right;\n",
       "    }\n",
       "</style>\n",
       "<table border=\"1\" class=\"dataframe\">\n",
       "  <thead>\n",
       "    <tr style=\"text-align: right;\">\n",
       "      <th></th>\n",
       "      <th>수온(℃)</th>\n",
       "      <th>BOD(㎎/L)</th>\n",
       "      <th>COD(㎎/L)</th>\n",
       "      <th>TN(㎎/L)</th>\n",
       "      <th>TP(㎎/L)</th>\n",
       "      <th>유량(㎥/s)</th>\n",
       "      <th>클로로필 a(㎎/㎥)</th>\n",
       "    </tr>\n",
       "    <tr>\n",
       "      <th>년/월/일</th>\n",
       "      <th></th>\n",
       "      <th></th>\n",
       "      <th></th>\n",
       "      <th></th>\n",
       "      <th></th>\n",
       "      <th></th>\n",
       "      <th></th>\n",
       "    </tr>\n",
       "  </thead>\n",
       "  <tbody>\n",
       "    <tr>\n",
       "      <th>2012-01-04</th>\n",
       "      <td>-1.669834</td>\n",
       "      <td>-0.126796</td>\n",
       "      <td>-0.403615</td>\n",
       "      <td>1.064816</td>\n",
       "      <td>4.079187</td>\n",
       "      <td>-0.477342</td>\n",
       "      <td>-0.669352</td>\n",
       "    </tr>\n",
       "    <tr>\n",
       "      <th>2012-01-09</th>\n",
       "      <td>-1.441486</td>\n",
       "      <td>-0.190132</td>\n",
       "      <td>-0.246860</td>\n",
       "      <td>2.530872</td>\n",
       "      <td>6.795254</td>\n",
       "      <td>-0.426468</td>\n",
       "      <td>-0.669352</td>\n",
       "    </tr>\n",
       "    <tr>\n",
       "      <th>2012-01-18</th>\n",
       "      <td>-1.416114</td>\n",
       "      <td>1.076584</td>\n",
       "      <td>0.497731</td>\n",
       "      <td>3.238200</td>\n",
       "      <td>6.380299</td>\n",
       "      <td>-0.478248</td>\n",
       "      <td>0.421764</td>\n",
       "    </tr>\n",
       "    <tr>\n",
       "      <th>2012-01-27</th>\n",
       "      <td>-1.644462</td>\n",
       "      <td>0.379890</td>\n",
       "      <td>0.889620</td>\n",
       "      <td>2.218704</td>\n",
       "      <td>0.646380</td>\n",
       "      <td>-0.397462</td>\n",
       "      <td>0.657466</td>\n",
       "    </tr>\n",
       "    <tr>\n",
       "      <th>2012-01-30</th>\n",
       "      <td>-1.441486</td>\n",
       "      <td>0.886577</td>\n",
       "      <td>0.497731</td>\n",
       "      <td>1.588710</td>\n",
       "      <td>4.182925</td>\n",
       "      <td>-0.450120</td>\n",
       "      <td>0.098666</td>\n",
       "    </tr>\n",
       "    <tr>\n",
       "      <th>...</th>\n",
       "      <td>...</td>\n",
       "      <td>...</td>\n",
       "      <td>...</td>\n",
       "      <td>...</td>\n",
       "      <td>...</td>\n",
       "      <td>...</td>\n",
       "      <td>...</td>\n",
       "    </tr>\n",
       "    <tr>\n",
       "      <th>2021-11-22</th>\n",
       "      <td>-0.502721</td>\n",
       "      <td>-0.570147</td>\n",
       "      <td>-0.286049</td>\n",
       "      <td>-0.375304</td>\n",
       "      <td>-0.664499</td>\n",
       "      <td>-0.529255</td>\n",
       "      <td>0.040403</td>\n",
       "    </tr>\n",
       "    <tr>\n",
       "      <th>2021-11-29</th>\n",
       "      <td>-0.718383</td>\n",
       "      <td>-0.633483</td>\n",
       "      <td>-0.403615</td>\n",
       "      <td>0.371634</td>\n",
       "      <td>0.363457</td>\n",
       "      <td>-0.545875</td>\n",
       "      <td>-0.581957</td>\n",
       "    </tr>\n",
       "    <tr>\n",
       "      <th>2021-12-06</th>\n",
       "      <td>-1.010161</td>\n",
       "      <td>-0.063460</td>\n",
       "      <td>-0.756316</td>\n",
       "      <td>-0.173480</td>\n",
       "      <td>0.221995</td>\n",
       "      <td>-0.396050</td>\n",
       "      <td>-0.216486</td>\n",
       "    </tr>\n",
       "    <tr>\n",
       "      <th>2021-12-13</th>\n",
       "      <td>-0.870615</td>\n",
       "      <td>0.316554</td>\n",
       "      <td>-0.050915</td>\n",
       "      <td>0.378707</td>\n",
       "      <td>-0.089221</td>\n",
       "      <td>-0.464078</td>\n",
       "      <td>0.201952</td>\n",
       "    </tr>\n",
       "    <tr>\n",
       "      <th>2021-12-20</th>\n",
       "      <td>-1.251196</td>\n",
       "      <td>0.506562</td>\n",
       "      <td>-0.481993</td>\n",
       "      <td>0.824324</td>\n",
       "      <td>-0.400437</td>\n",
       "      <td>-0.408409</td>\n",
       "      <td>-0.372738</td>\n",
       "    </tr>\n",
       "  </tbody>\n",
       "</table>\n",
       "<p>508 rows × 7 columns</p>\n",
       "</div>"
      ],
      "text/plain": [
       "               수온(℃)  BOD(㎎/L)  COD(㎎/L)   TN(㎎/L)   TP(㎎/L)   유량(㎥/s)  \\\n",
       "년/월/일                                                                    \n",
       "2012-01-04 -1.669834 -0.126796 -0.403615  1.064816  4.079187 -0.477342   \n",
       "2012-01-09 -1.441486 -0.190132 -0.246860  2.530872  6.795254 -0.426468   \n",
       "2012-01-18 -1.416114  1.076584  0.497731  3.238200  6.380299 -0.478248   \n",
       "2012-01-27 -1.644462  0.379890  0.889620  2.218704  0.646380 -0.397462   \n",
       "2012-01-30 -1.441486  0.886577  0.497731  1.588710  4.182925 -0.450120   \n",
       "...              ...       ...       ...       ...       ...       ...   \n",
       "2021-11-22 -0.502721 -0.570147 -0.286049 -0.375304 -0.664499 -0.529255   \n",
       "2021-11-29 -0.718383 -0.633483 -0.403615  0.371634  0.363457 -0.545875   \n",
       "2021-12-06 -1.010161 -0.063460 -0.756316 -0.173480  0.221995 -0.396050   \n",
       "2021-12-13 -0.870615  0.316554 -0.050915  0.378707 -0.089221 -0.464078   \n",
       "2021-12-20 -1.251196  0.506562 -0.481993  0.824324 -0.400437 -0.408409   \n",
       "\n",
       "            클로로필 a(㎎/㎥)  \n",
       "년/월/일                    \n",
       "2012-01-04    -0.669352  \n",
       "2012-01-09    -0.669352  \n",
       "2012-01-18     0.421764  \n",
       "2012-01-27     0.657466  \n",
       "2012-01-30     0.098666  \n",
       "...                 ...  \n",
       "2021-11-22     0.040403  \n",
       "2021-11-29    -0.581957  \n",
       "2021-12-06    -0.216486  \n",
       "2021-12-13     0.201952  \n",
       "2021-12-20    -0.372738  \n",
       "\n",
       "[508 rows x 7 columns]"
      ]
     },
     "execution_count": 36,
     "metadata": {},
     "output_type": "execute_result"
    }
   ],
   "source": [
    "kwangsan = (kwangsan - kwangsan_mean)/kwangsan_std\n",
    "kwangsan"
   ]
  },
  {
   "cell_type": "markdown",
   "metadata": {},
   "source": [
    "## 시계열 데이터 분석"
   ]
  },
  {
   "cell_type": "markdown",
   "metadata": {},
   "source": [
    "시간의 흐름을 고려해서 시계열(timeseries) 데이터로 처리한다."
   ]
  },
  {
   "cell_type": "markdown",
   "metadata": {},
   "source": [
    "**날짜별로 정렬**"
   ]
  },
  {
   "cell_type": "markdown",
   "metadata": {},
   "source": [
    "먼저 날짜별로 정렬한다."
   ]
  },
  {
   "cell_type": "code",
   "execution_count": 37,
   "metadata": {},
   "outputs": [],
   "source": [
    "kwangsan = kwangsan.sort_index()"
   ]
  },
  {
   "cell_type": "markdown",
   "metadata": {},
   "source": [
    "**훈련셋과 테스트셋 지정**"
   ]
  },
  {
   "cell_type": "markdown",
   "metadata": {},
   "source": [
    "훈련셋, 검증셋, 테스트셋을 7:2:1의 비율로 나눈다.\n",
    "단, 테스트셋은 날짜를 기준으로 나중에 측정된 데이터를 이용한다."
   ]
  },
  {
   "cell_type": "code",
   "execution_count": 38,
   "metadata": {},
   "outputs": [],
   "source": [
    "train_size = int(kwangsan.shape[0] * 0.7)\n",
    "val_size = int(kwangsan.shape[0] * 0.2)"
   ]
  },
  {
   "cell_type": "markdown",
   "metadata": {},
   "source": [
    "- 훈련셋"
   ]
  },
  {
   "cell_type": "code",
   "execution_count": 39,
   "metadata": {},
   "outputs": [],
   "source": [
    "train_set = kwangsan[six_features][:train_size]\n",
    "train_targets = kwangsan[target_feature][:train_size]"
   ]
  },
  {
   "cell_type": "markdown",
   "metadata": {},
   "source": [
    "- 검증셋"
   ]
  },
  {
   "cell_type": "code",
   "execution_count": 40,
   "metadata": {},
   "outputs": [],
   "source": [
    "val_set = kwangsan[six_features][train_size : train_size + val_size]\n",
    "val_targets = kwangsan[target_feature][train_size : train_size + val_size]"
   ]
  },
  {
   "cell_type": "markdown",
   "metadata": {},
   "source": [
    "- 테스트셋"
   ]
  },
  {
   "cell_type": "code",
   "execution_count": 41,
   "metadata": {},
   "outputs": [],
   "source": [
    "test_set = kwangsan[six_features][train_size + val_size:]\n",
    "test_targets = kwangsan[target_feature][train_size + val_size:]"
   ]
  },
  {
   "cell_type": "markdown",
   "metadata": {},
   "source": [
    "**시계열 데이터로 변환**"
   ]
  },
  {
   "cell_type": "code",
   "execution_count": 42,
   "metadata": {},
   "outputs": [],
   "source": [
    "import tensorflow as tf"
   ]
  },
  {
   "cell_type": "markdown",
   "metadata": {},
   "source": [
    "시계열 데이터 샘플을 `sequence_length` 만큼의 타임 스텝(time step)로\n",
    "구성한다.\n",
    "예측값은 미래가 아닌 현재의 클로로필-A 수치로 지정한다.\n",
    "\n",
    "- 배치 크기: 32\n",
    "- 공정한 훈련을 위해 구성된 시계열 샘플을 뒤섞는다."
   ]
  },
  {
   "cell_type": "code",
   "execution_count": 51,
   "metadata": {},
   "outputs": [],
   "source": [
    "sequence_length=8  # 타임 스텝 크기\n",
    "\n",
    "train_dataset = tf.keras.utils.timeseries_dataset_from_array(\n",
    "    train_set,\n",
    "    targets=train_targets[sequence_length-1:],\n",
    "    sequence_length=sequence_length,\n",
    "    shuffle=True,\n",
    "    batch_size=32)\n",
    "\n",
    "val_dataset = tf.keras.utils.timeseries_dataset_from_array(\n",
    "    val_set,\n",
    "    targets=val_targets[sequence_length-1:],\n",
    "    sequence_length=sequence_length,\n",
    "    shuffle=True,\n",
    "    batch_size=32)\n",
    "\n",
    "test_dataset = tf.keras.utils.timeseries_dataset_from_array(\n",
    "    test_set,\n",
    "    targets=test_targets[sequence_length-1:],\n",
    "    sequence_length=sequence_length,\n",
    "    shuffle=True,\n",
    "    batch_size=32)"
   ]
  },
  {
   "cell_type": "markdown",
   "metadata": {},
   "source": [
    "입력 데이터셋의 배치의 모양은 `(32, sequence_length, 6)`이다."
   ]
  },
  {
   "cell_type": "code",
   "execution_count": 52,
   "metadata": {},
   "outputs": [
    {
     "name": "stdout",
     "output_type": "stream",
     "text": [
      "samples shape: (32, 8, 6)\n",
      "targets shape: (32,)\n"
     ]
    }
   ],
   "source": [
    "for samples, targets in train_dataset:\n",
    "    print(\"samples shape:\", samples.shape)\n",
    "    print(\"targets shape:\", targets.shape)\n",
    "    break"
   ]
  },
  {
   "cell_type": "markdown",
   "metadata": {},
   "source": [
    "**LSTM 모델 사용**"
   ]
  },
  {
   "cell_type": "code",
   "execution_count": 53,
   "metadata": {},
   "outputs": [],
   "source": [
    "from tensorflow import keras\n",
    "from tensorflow.keras import layers"
   ]
  },
  {
   "cell_type": "code",
   "execution_count": 55,
   "metadata": {},
   "outputs": [
    {
     "name": "stdout",
     "output_type": "stream",
     "text": [
      "WARNING:tensorflow:Layer gru_12 will not use cuDNN kernels since it doesn't meet the criteria. It will use a generic GPU kernel as fallback when running on GPU.\n",
      "WARNING:tensorflow:Layer gru_13 will not use cuDNN kernels since it doesn't meet the criteria. It will use a generic GPU kernel as fallback when running on GPU.\n",
      "Epoch 1/100\n",
      "11/11 [==============================] - 6s 174ms/step - loss: 0.7634 - mae: 0.6912 - val_loss: 1.3470 - val_mae: 0.8345\n",
      "Epoch 2/100\n",
      "11/11 [==============================] - 1s 118ms/step - loss: 0.6657 - mae: 0.6464 - val_loss: 1.2550 - val_mae: 0.8026\n",
      "Epoch 3/100\n",
      "11/11 [==============================] - 1s 119ms/step - loss: 0.6102 - mae: 0.6181 - val_loss: 1.2065 - val_mae: 0.7861\n",
      "Epoch 4/100\n",
      "11/11 [==============================] - 1s 116ms/step - loss: 0.5603 - mae: 0.5841 - val_loss: 1.1118 - val_mae: 0.7534\n",
      "Epoch 5/100\n",
      "11/11 [==============================] - 1s 124ms/step - loss: 0.5197 - mae: 0.5730 - val_loss: 1.0560 - val_mae: 0.7298\n",
      "Epoch 6/100\n",
      "11/11 [==============================] - 1s 118ms/step - loss: 0.4975 - mae: 0.5610 - val_loss: 1.0203 - val_mae: 0.7110\n",
      "Epoch 7/100\n",
      "11/11 [==============================] - 1s 113ms/step - loss: 0.4706 - mae: 0.5339 - val_loss: 0.9583 - val_mae: 0.6978\n",
      "Epoch 8/100\n",
      "11/11 [==============================] - 1s 119ms/step - loss: 0.4440 - mae: 0.5146 - val_loss: 0.9103 - val_mae: 0.6863\n",
      "Epoch 9/100\n",
      "11/11 [==============================] - 1s 114ms/step - loss: 0.4484 - mae: 0.5208 - val_loss: 0.9032 - val_mae: 0.6695\n",
      "Epoch 10/100\n",
      "11/11 [==============================] - 1s 111ms/step - loss: 0.4230 - mae: 0.4970 - val_loss: 0.8614 - val_mae: 0.6617\n",
      "Epoch 11/100\n",
      "11/11 [==============================] - 1s 126ms/step - loss: 0.4040 - mae: 0.4850 - val_loss: 0.8512 - val_mae: 0.6433\n",
      "Epoch 12/100\n",
      "11/11 [==============================] - 1s 121ms/step - loss: 0.3979 - mae: 0.4927 - val_loss: 0.8460 - val_mae: 0.6413\n",
      "Epoch 13/100\n",
      "11/11 [==============================] - 1s 115ms/step - loss: 0.3791 - mae: 0.4729 - val_loss: 0.8258 - val_mae: 0.6254\n",
      "Epoch 14/100\n",
      "11/11 [==============================] - 1s 114ms/step - loss: 0.3760 - mae: 0.4642 - val_loss: 0.8069 - val_mae: 0.6261\n",
      "Epoch 15/100\n",
      "11/11 [==============================] - 1s 118ms/step - loss: 0.3901 - mae: 0.4859 - val_loss: 0.7922 - val_mae: 0.6093\n",
      "Epoch 16/100\n",
      "11/11 [==============================] - 1s 118ms/step - loss: 0.3837 - mae: 0.4704 - val_loss: 0.7911 - val_mae: 0.6065\n",
      "Epoch 17/100\n",
      "11/11 [==============================] - 1s 120ms/step - loss: 0.3757 - mae: 0.4646 - val_loss: 0.7971 - val_mae: 0.6002\n",
      "Epoch 18/100\n",
      "11/11 [==============================] - 1s 121ms/step - loss: 0.3457 - mae: 0.4617 - val_loss: 0.7813 - val_mae: 0.6041\n",
      "Epoch 19/100\n",
      "11/11 [==============================] - 1s 122ms/step - loss: 0.3599 - mae: 0.4664 - val_loss: 0.7780 - val_mae: 0.6011\n",
      "Epoch 20/100\n",
      "11/11 [==============================] - 1s 111ms/step - loss: 0.3692 - mae: 0.4719 - val_loss: 0.8047 - val_mae: 0.6066\n",
      "Epoch 21/100\n",
      "11/11 [==============================] - 1s 115ms/step - loss: 0.3715 - mae: 0.4700 - val_loss: 0.7856 - val_mae: 0.5947\n",
      "Epoch 22/100\n",
      "11/11 [==============================] - 1s 106ms/step - loss: 0.3548 - mae: 0.4569 - val_loss: 0.7861 - val_mae: 0.5994\n",
      "Epoch 23/100\n",
      "11/11 [==============================] - 1s 115ms/step - loss: 0.3444 - mae: 0.4563 - val_loss: 0.7695 - val_mae: 0.5904\n",
      "Epoch 24/100\n",
      "11/11 [==============================] - 1s 114ms/step - loss: 0.3393 - mae: 0.4470 - val_loss: 0.7658 - val_mae: 0.5902\n",
      "Epoch 25/100\n",
      "11/11 [==============================] - 1s 112ms/step - loss: 0.3489 - mae: 0.4526 - val_loss: 0.7855 - val_mae: 0.6009\n",
      "Epoch 26/100\n",
      "11/11 [==============================] - 1s 115ms/step - loss: 0.3392 - mae: 0.4436 - val_loss: 0.7672 - val_mae: 0.5877\n",
      "Epoch 27/100\n",
      "11/11 [==============================] - 1s 119ms/step - loss: 0.3192 - mae: 0.4424 - val_loss: 0.7537 - val_mae: 0.5768\n",
      "Epoch 28/100\n",
      "11/11 [==============================] - 1s 118ms/step - loss: 0.3460 - mae: 0.4569 - val_loss: 0.7705 - val_mae: 0.5873\n",
      "Epoch 29/100\n",
      "11/11 [==============================] - 1s 119ms/step - loss: 0.3417 - mae: 0.4543 - val_loss: 0.7579 - val_mae: 0.5831\n",
      "Epoch 30/100\n",
      "11/11 [==============================] - 1s 117ms/step - loss: 0.3408 - mae: 0.4552 - val_loss: 0.7684 - val_mae: 0.5868\n",
      "Epoch 31/100\n",
      "11/11 [==============================] - 1s 112ms/step - loss: 0.3359 - mae: 0.4452 - val_loss: 0.7630 - val_mae: 0.5844\n",
      "Epoch 32/100\n",
      "11/11 [==============================] - 1s 111ms/step - loss: 0.3480 - mae: 0.4543 - val_loss: 0.7733 - val_mae: 0.5842\n",
      "Epoch 33/100\n",
      "11/11 [==============================] - 1s 108ms/step - loss: 0.3235 - mae: 0.4304 - val_loss: 0.7552 - val_mae: 0.5834\n",
      "Epoch 34/100\n",
      "11/11 [==============================] - 1s 117ms/step - loss: 0.3149 - mae: 0.4393 - val_loss: 0.7564 - val_mae: 0.5805\n",
      "Epoch 35/100\n",
      "11/11 [==============================] - 1s 123ms/step - loss: 0.3089 - mae: 0.4277 - val_loss: 0.7538 - val_mae: 0.5731\n",
      "Epoch 36/100\n",
      "11/11 [==============================] - 1s 121ms/step - loss: 0.3278 - mae: 0.4389 - val_loss: 0.7649 - val_mae: 0.5823\n",
      "Epoch 37/100\n",
      "11/11 [==============================] - 1s 127ms/step - loss: 0.3413 - mae: 0.4556 - val_loss: 0.7507 - val_mae: 0.5684\n",
      "Epoch 38/100\n",
      "11/11 [==============================] - 1s 115ms/step - loss: 0.3172 - mae: 0.4393 - val_loss: 0.7613 - val_mae: 0.5869\n",
      "Epoch 39/100\n",
      "11/11 [==============================] - 1s 114ms/step - loss: 0.3227 - mae: 0.4464 - val_loss: 0.7744 - val_mae: 0.5790\n",
      "Epoch 40/100\n",
      "11/11 [==============================] - 1s 110ms/step - loss: 0.3091 - mae: 0.4337 - val_loss: 0.7582 - val_mae: 0.5720\n",
      "Epoch 41/100\n",
      "11/11 [==============================] - 1s 119ms/step - loss: 0.3168 - mae: 0.4464 - val_loss: 0.7397 - val_mae: 0.5631\n",
      "Epoch 42/100\n",
      "11/11 [==============================] - 1s 124ms/step - loss: 0.3135 - mae: 0.4326 - val_loss: 0.7385 - val_mae: 0.5685\n",
      "Epoch 43/100\n",
      "11/11 [==============================] - 1s 113ms/step - loss: 0.3070 - mae: 0.4281 - val_loss: 0.7192 - val_mae: 0.5708\n",
      "Epoch 44/100\n",
      "11/11 [==============================] - 1s 114ms/step - loss: 0.3013 - mae: 0.4321 - val_loss: 0.7283 - val_mae: 0.5742\n",
      "Epoch 45/100\n",
      "11/11 [==============================] - 1s 123ms/step - loss: 0.3030 - mae: 0.4195 - val_loss: 0.6988 - val_mae: 0.5605\n",
      "Epoch 46/100\n",
      "11/11 [==============================] - 1s 107ms/step - loss: 0.2765 - mae: 0.4125 - val_loss: 0.7333 - val_mae: 0.5687\n",
      "Epoch 47/100\n",
      "11/11 [==============================] - 1s 132ms/step - loss: 0.3173 - mae: 0.4470 - val_loss: 0.7478 - val_mae: 0.5741\n",
      "Epoch 48/100\n",
      "11/11 [==============================] - 1s 110ms/step - loss: 0.3164 - mae: 0.4371 - val_loss: 0.7067 - val_mae: 0.5660\n",
      "Epoch 49/100\n",
      "11/11 [==============================] - 1s 113ms/step - loss: 0.3033 - mae: 0.4302 - val_loss: 0.7339 - val_mae: 0.5811\n",
      "Epoch 50/100\n",
      "11/11 [==============================] - 1s 112ms/step - loss: 0.3224 - mae: 0.4442 - val_loss: 0.7152 - val_mae: 0.5709\n",
      "Epoch 51/100\n",
      "11/11 [==============================] - 1s 107ms/step - loss: 0.2901 - mae: 0.4198 - val_loss: 0.7228 - val_mae: 0.5727\n",
      "Epoch 52/100\n",
      "11/11 [==============================] - 1s 112ms/step - loss: 0.3026 - mae: 0.4179 - val_loss: 0.7357 - val_mae: 0.5764\n",
      "Epoch 53/100\n",
      "11/11 [==============================] - 1s 112ms/step - loss: 0.3032 - mae: 0.4340 - val_loss: 0.7194 - val_mae: 0.5706\n",
      "Epoch 54/100\n",
      "11/11 [==============================] - 1s 112ms/step - loss: 0.3060 - mae: 0.4306 - val_loss: 0.7260 - val_mae: 0.5685\n",
      "Epoch 55/100\n",
      "11/11 [==============================] - 1s 114ms/step - loss: 0.3027 - mae: 0.4303 - val_loss: 0.7060 - val_mae: 0.5681\n",
      "Epoch 56/100\n",
      "11/11 [==============================] - 1s 122ms/step - loss: 0.2886 - mae: 0.4187 - val_loss: 0.7173 - val_mae: 0.5640\n",
      "Epoch 57/100\n",
      "11/11 [==============================] - 1s 106ms/step - loss: 0.2915 - mae: 0.4100 - val_loss: 0.7230 - val_mae: 0.5785\n",
      "Epoch 58/100\n",
      "11/11 [==============================] - 1s 117ms/step - loss: 0.2845 - mae: 0.4116 - val_loss: 0.6909 - val_mae: 0.5544\n",
      "Epoch 59/100\n",
      "11/11 [==============================] - 1s 110ms/step - loss: 0.2809 - mae: 0.4098 - val_loss: 0.7031 - val_mae: 0.5660\n"
     ]
    },
    {
     "name": "stdout",
     "output_type": "stream",
     "text": [
      "Epoch 60/100\n",
      "11/11 [==============================] - 1s 107ms/step - loss: 0.2948 - mae: 0.4275 - val_loss: 0.7249 - val_mae: 0.5718\n",
      "Epoch 61/100\n",
      "11/11 [==============================] - 1s 105ms/step - loss: 0.2759 - mae: 0.4110 - val_loss: 0.7313 - val_mae: 0.5669\n",
      "Epoch 62/100\n",
      "11/11 [==============================] - 1s 105ms/step - loss: 0.2946 - mae: 0.4294 - val_loss: 0.6982 - val_mae: 0.5620\n",
      "Epoch 63/100\n",
      "11/11 [==============================] - 1s 107ms/step - loss: 0.2728 - mae: 0.4012 - val_loss: 0.7008 - val_mae: 0.5583\n",
      "Epoch 64/100\n",
      "11/11 [==============================] - 1s 124ms/step - loss: 0.2633 - mae: 0.4087 - val_loss: 0.6936 - val_mae: 0.5614\n",
      "Epoch 65/100\n",
      "11/11 [==============================] - 1s 121ms/step - loss: 0.2966 - mae: 0.4259 - val_loss: 0.6860 - val_mae: 0.5575\n",
      "Epoch 66/100\n",
      "11/11 [==============================] - 1s 121ms/step - loss: 0.2947 - mae: 0.4286 - val_loss: 0.7151 - val_mae: 0.5766\n",
      "Epoch 67/100\n",
      "11/11 [==============================] - 1s 109ms/step - loss: 0.3008 - mae: 0.4155 - val_loss: 0.7301 - val_mae: 0.5721\n",
      "Epoch 68/100\n",
      "11/11 [==============================] - 1s 112ms/step - loss: 0.2708 - mae: 0.4112 - val_loss: 0.7592 - val_mae: 0.5853\n",
      "Epoch 69/100\n",
      "11/11 [==============================] - 1s 115ms/step - loss: 0.2787 - mae: 0.4125 - val_loss: 0.7461 - val_mae: 0.5763\n",
      "Epoch 70/100\n",
      "11/11 [==============================] - 1s 106ms/step - loss: 0.2942 - mae: 0.4168 - val_loss: 0.7049 - val_mae: 0.5632\n",
      "Epoch 71/100\n",
      "11/11 [==============================] - 1s 103ms/step - loss: 0.2502 - mae: 0.3886 - val_loss: 0.6895 - val_mae: 0.5589\n",
      "Epoch 72/100\n",
      "11/11 [==============================] - 1s 107ms/step - loss: 0.2642 - mae: 0.3991 - val_loss: 0.7516 - val_mae: 0.5783\n",
      "Epoch 73/100\n",
      "11/11 [==============================] - 1s 105ms/step - loss: 0.2730 - mae: 0.4064 - val_loss: 0.7114 - val_mae: 0.5705\n",
      "Epoch 74/100\n",
      "11/11 [==============================] - 1s 109ms/step - loss: 0.2699 - mae: 0.4070 - val_loss: 0.6665 - val_mae: 0.5524\n",
      "Epoch 75/100\n",
      "11/11 [==============================] - 1s 110ms/step - loss: 0.2735 - mae: 0.4128 - val_loss: 0.6874 - val_mae: 0.5588\n",
      "Epoch 76/100\n",
      "11/11 [==============================] - 1s 107ms/step - loss: 0.2574 - mae: 0.3972 - val_loss: 0.6975 - val_mae: 0.5627\n",
      "Epoch 77/100\n",
      "11/11 [==============================] - 1s 109ms/step - loss: 0.2696 - mae: 0.4007 - val_loss: 0.6739 - val_mae: 0.5540\n",
      "Epoch 78/100\n",
      "11/11 [==============================] - 1s 108ms/step - loss: 0.2639 - mae: 0.3996 - val_loss: 0.6928 - val_mae: 0.5555\n",
      "Epoch 79/100\n",
      "11/11 [==============================] - 1s 106ms/step - loss: 0.2854 - mae: 0.4238 - val_loss: 0.6887 - val_mae: 0.5600\n",
      "Epoch 80/100\n",
      "11/11 [==============================] - 1s 107ms/step - loss: 0.2478 - mae: 0.4014 - val_loss: 0.6698 - val_mae: 0.5592\n",
      "Epoch 81/100\n",
      "11/11 [==============================] - 1s 103ms/step - loss: 0.3186 - mae: 0.4393 - val_loss: 0.7158 - val_mae: 0.5722\n",
      "Epoch 82/100\n",
      "11/11 [==============================] - 1s 108ms/step - loss: 0.2692 - mae: 0.4136 - val_loss: 0.7117 - val_mae: 0.5686\n",
      "Epoch 83/100\n",
      "11/11 [==============================] - 1s 111ms/step - loss: 0.2671 - mae: 0.4059 - val_loss: 0.7402 - val_mae: 0.5882\n",
      "Epoch 84/100\n",
      "11/11 [==============================] - 1s 118ms/step - loss: 0.2638 - mae: 0.3953 - val_loss: 0.7173 - val_mae: 0.5678\n",
      "Epoch 85/100\n",
      "11/11 [==============================] - 1s 108ms/step - loss: 0.2718 - mae: 0.4037 - val_loss: 0.7035 - val_mae: 0.5635\n",
      "Epoch 86/100\n",
      "11/11 [==============================] - 1s 108ms/step - loss: 0.2702 - mae: 0.4055 - val_loss: 0.7229 - val_mae: 0.5814\n",
      "Epoch 87/100\n",
      "11/11 [==============================] - 1s 110ms/step - loss: 0.2664 - mae: 0.4123 - val_loss: 0.7017 - val_mae: 0.5650\n",
      "Epoch 88/100\n",
      "11/11 [==============================] - 1s 112ms/step - loss: 0.2487 - mae: 0.3840 - val_loss: 0.6984 - val_mae: 0.5689\n",
      "Epoch 89/100\n",
      "11/11 [==============================] - 1s 108ms/step - loss: 0.2761 - mae: 0.4131 - val_loss: 0.7135 - val_mae: 0.5652\n",
      "Epoch 90/100\n",
      "11/11 [==============================] - 1s 113ms/step - loss: 0.2691 - mae: 0.4078 - val_loss: 0.6994 - val_mae: 0.5703\n",
      "Epoch 91/100\n",
      "11/11 [==============================] - 1s 115ms/step - loss: 0.2863 - mae: 0.4159 - val_loss: 0.6980 - val_mae: 0.5694\n",
      "Epoch 92/100\n",
      "11/11 [==============================] - 1s 115ms/step - loss: 0.2572 - mae: 0.3969 - val_loss: 0.7193 - val_mae: 0.5676\n",
      "Epoch 93/100\n",
      "11/11 [==============================] - 1s 112ms/step - loss: 0.2484 - mae: 0.3931 - val_loss: 0.7457 - val_mae: 0.5819\n",
      "Epoch 94/100\n",
      "11/11 [==============================] - 1s 111ms/step - loss: 0.2485 - mae: 0.3871 - val_loss: 0.6989 - val_mae: 0.5657\n",
      "WARNING:tensorflow:Layer gru_12 will not use cuDNN kernels since it doesn't meet the criteria. It will use a generic GPU kernel as fallback when running on GPU.\n",
      "WARNING:tensorflow:Layer gru_13 will not use cuDNN kernels since it doesn't meet the criteria. It will use a generic GPU kernel as fallback when running on GPU.\n",
      "2/2 [==============================] - 1s 23ms/step - loss: 1.2543 - mae: 0.7583\n",
      "Test MAE: 0.76\n"
     ]
    }
   ],
   "source": [
    "dropout_rate = 0.5\n",
    "\n",
    "inputs = keras.Input(shape=(sequence_length, len(features_important)-1))\n",
    "x = layers.GRU(48, recurrent_dropout=dropout_rate, return_sequences=True)(inputs)\n",
    "x = layers.GRU(48, recurrent_dropout=dropout_rate)(x)\n",
    "x = layers.Dropout(dropout_rate)(x)\n",
    "outputs = layers.Dense(1)(x)\n",
    "model = keras.Model(inputs, outputs)\n",
    "  \n",
    "early_stopping_cb = keras.callbacks.EarlyStopping(\n",
    "        monitor=\"val_mae\", patience=20, restore_best_weights=True)\n",
    "\n",
    "callbacks = [\n",
    "    keras.callbacks.ModelCheckpoint(\"yeongsan_gru.keras\",\n",
    "                                    save_best_only=True),\n",
    "    early_stopping_cb\n",
    "]\n",
    "\n",
    "model.compile(optimizer=\"rmsprop\", loss=\"mse\", metrics=[\"mae\"])\n",
    "\n",
    "history = model.fit(train_dataset,\n",
    "                    epochs=100,\n",
    "                    validation_data=val_dataset,\n",
    "                    callbacks=callbacks)\n",
    "\n",
    "model = keras.models.load_model(\"yeongsan_gru.keras\") \n",
    "\n",
    "print(f\"Test MAE: {model.evaluate(test_dataset)[1]:.2f}\")"
   ]
  }
 ],
 "metadata": {
  "kernelspec": {
   "display_name": "Python 3 (ipykernel)",
   "language": "python",
   "name": "python3"
  },
  "language_info": {
   "codemirror_mode": {
    "name": "ipython",
    "version": 3
   },
   "file_extension": ".py",
   "mimetype": "text/x-python",
   "name": "python",
   "nbconvert_exporter": "python",
   "pygments_lexer": "ipython3",
   "version": "3.9.13"
  },
  "vscode": {
   "interpreter": {
    "hash": "87326548fe22e0f6dacd268b079dcc7a15583d9081b3203af40b067350baf618"
   }
  }
 },
 "nbformat": 4,
 "nbformat_minor": 2
}
