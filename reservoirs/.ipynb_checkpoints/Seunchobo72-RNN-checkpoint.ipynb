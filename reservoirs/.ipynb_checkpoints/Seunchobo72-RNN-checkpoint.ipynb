{
 "cells": [
  {
   "cell_type": "markdown",
   "id": "ce925ce6",
   "metadata": {},
   "source": [
    "필요한 모듈 임포트"
   ]
  },
  {
   "cell_type": "code",
   "execution_count": 1,
   "id": "91e66a0b",
   "metadata": {},
   "outputs": [],
   "source": [
    "import numpy as np\n",
    "import pandas as pd\n",
    "import matplotlib.pyplot as plt\n",
    "import matplotlib"
   ]
  },
  {
   "cell_type": "code",
   "execution_count": 2,
   "id": "844b563e",
   "metadata": {},
   "outputs": [],
   "source": [
    "import platform\n",
    "plt.rc('figure', figsize=(10, 6))  # 그림 크기 설정\n",
    "if platform.system() == 'Windows': # 윈도우\n",
    "    from matplotlib import font_manager, rc\n",
    "    font_path = \"C:/Windows/Fonts/NGULIM.TTF\"\n",
    "    font = font_manager.FontProperties(fname=font_path).get_name()\n",
    "    rc('font', family=font)\n",
    "elif platform.system() == 'Linux': # 우분투 또는 구글 코랩\n",
    "    # !sudo apt-get install -y fonts-nanum*\n",
    "    # !fc-cache -fv\n",
    "    \n",
    "    applyfont = \"NanumBarunGothic\"\n",
    "    import matplotlib.font_manager as fm\n",
    "    if not any(map(lambda ft: ft.name == applyfont, fm.fontManager.ttflist)):\n",
    "        fm.fontManager.addfont(\"/usr/share/fonts/truetype/nanum/NanumBarunGothic.ttf\")\n",
    "    plt.rc(\"font\", family=applyfont)\n",
    "    plt.rc(\"axes\", unicode_minus=False)"
   ]
  },
  {
   "cell_type": "code",
   "execution_count": 3,
   "id": "ff6c28ef",
   "metadata": {},
   "outputs": [],
   "source": [
    "# GradientBoosting\n",
    "from sklearn.ensemble import GradientBoostingRegressor\n",
    "from sklearn.model_selection import train_test_split\n",
    "import seaborn as sns\n",
    "from sklearn.model_selection import GridSearchCV"
   ]
  },
  {
   "cell_type": "code",
   "execution_count": 4,
   "id": "7e6021d6",
   "metadata": {},
   "outputs": [],
   "source": [
    "from sklearn.preprocessing import StandardScaler"
   ]
  },
  {
   "cell_type": "markdown",
   "id": "50a6cce0",
   "metadata": {},
   "source": [
    "데이터 가져오기"
   ]
  },
  {
   "cell_type": "code",
   "execution_count": 5,
   "id": "87c6116c",
   "metadata": {},
   "outputs": [],
   "source": [
    "base_path = \"https://github.com/codingalzi/water-data/raw/master/reservoirs/\""
   ]
  },
  {
   "cell_type": "code",
   "execution_count": 6,
   "id": "67006279",
   "metadata": {},
   "outputs": [],
   "source": [
    "# base_path = r\"C:\\Users\\owner\\Desktop\\water-source\\data\""
   ]
  },
  {
   "cell_type": "code",
   "execution_count": 7,
   "id": "f954b2a2",
   "metadata": {},
   "outputs": [],
   "source": [
    "scb_yearly = pd.read_excel(base_path+\"Seungchonbo.xlsx\", \n",
    "                            skiprows=0, \n",
    "                            header=1, \n",
    "                            sheet_name=None,\n",
    "                            na_values='ND',\n",
    "                            parse_dates=True)  # index_col = 0을 제외함"
   ]
  },
  {
   "cell_type": "code",
   "execution_count": 8,
   "id": "f72e1370",
   "metadata": {},
   "outputs": [
    {
     "name": "stdout",
     "output_type": "stream",
     "text": [
      "<class 'dict'>\n",
      "dict_keys(['2012년', '2013년', '2014년', '2015년', '2016년', '2017년', '2018년', '2019년', '2020년', '2021년', '2022년'])\n"
     ]
    }
   ],
   "source": [
    "print(type(scb_yearly))  # type-dict\n",
    "print(scb_yearly.keys())  # 2012년부터 2022년까지"
   ]
  },
  {
   "cell_type": "code",
   "execution_count": 9,
   "id": "b02c6e94",
   "metadata": {},
   "outputs": [
    {
     "data": {
      "text/plain": [
       "Index(['측정일/월', '측정소명', '수온 ℃', '수소이온농도', '전기전도도 μS/cm', '용존산소 mg/L',\n",
       "       '총유기탄소 mg/L', '총질소 mg/L', '총인 mg/L', '클로로필-a mg/㎥'],\n",
       "      dtype='object')"
      ]
     },
     "execution_count": 9,
     "metadata": {},
     "output_type": "execute_result"
    }
   ],
   "source": [
    "scb_yearly['2012년'].columns"
   ]
  },
  {
   "cell_type": "markdown",
   "id": "e63b1337",
   "metadata": {},
   "source": [
    "2013년 자료부터"
   ]
  },
  {
   "cell_type": "code",
   "execution_count": 10,
   "id": "67e6f6ff",
   "metadata": {},
   "outputs": [],
   "source": [
    "scb_yearly_df13 = pd.DataFrame()\n",
    "\n",
    "for item in list(scb_yearly.keys())[1:]:\n",
    "    scb_yearly_df13 = pd.concat([scb_yearly_df13, scb_yearly[item]])"
   ]
  },
  {
   "cell_type": "code",
   "execution_count": 11,
   "id": "72edb276",
   "metadata": {},
   "outputs": [],
   "source": [
    "scb_yearly_df13 = scb_yearly_df13.reset_index(drop=True)"
   ]
  },
  {
   "cell_type": "markdown",
   "id": "e21676f1",
   "metadata": {},
   "source": [
    "결측치 확인"
   ]
  },
  {
   "cell_type": "code",
   "execution_count": 12,
   "id": "529a98e6",
   "metadata": {},
   "outputs": [
    {
     "name": "stdout",
     "output_type": "stream",
     "text": [
      "<class 'pandas.core.frame.DataFrame'>\n",
      "RangeIndex: 82257 entries, 0 to 82256\n",
      "Data columns (total 10 columns):\n",
      " #   Column       Non-Null Count  Dtype  \n",
      "---  ------       --------------  -----  \n",
      " 0   측정일/월        82257 non-null  object \n",
      " 1   측정소명         82257 non-null  object \n",
      " 2   수온 ℃         64574 non-null  float64\n",
      " 3   수소이온농도       64561 non-null  float64\n",
      " 4   전기전도도 μS/cm  64524 non-null  float64\n",
      " 5   용존산소 mg/L    62656 non-null  float64\n",
      " 6   총유기탄소 mg/L   58675 non-null  float64\n",
      " 7   총질소 mg/L     59981 non-null  float64\n",
      " 8   총인 mg/L      58997 non-null  float64\n",
      " 9   클로로필-a mg/㎥  62876 non-null  float64\n",
      "dtypes: float64(8), object(2)\n",
      "memory usage: 6.3+ MB\n"
     ]
    }
   ],
   "source": [
    "scb_yearly_df13.info()"
   ]
  },
  {
   "cell_type": "code",
   "execution_count": 13,
   "id": "f59d2c99",
   "metadata": {},
   "outputs": [
    {
     "data": {
      "text/plain": [
       "측정일/월              0\n",
       "측정소명               0\n",
       "수온 ℃           17683\n",
       "수소이온농도         17696\n",
       "전기전도도 μS/cm    17733\n",
       "용존산소 mg/L      19601\n",
       "총유기탄소 mg/L     23582\n",
       "총질소 mg/L       22276\n",
       "총인 mg/L        23260\n",
       "클로로필-a mg/㎥    19381\n",
       "dtype: int64"
      ]
     },
     "execution_count": 13,
     "metadata": {},
     "output_type": "execute_result"
    }
   ],
   "source": [
    "scb_yearly_df13.isnull().sum()"
   ]
  },
  {
   "cell_type": "code",
   "execution_count": 14,
   "id": "42391d6e",
   "metadata": {},
   "outputs": [
    {
     "data": {
      "text/html": [
       "<div>\n",
       "<style scoped>\n",
       "    .dataframe tbody tr th:only-of-type {\n",
       "        vertical-align: middle;\n",
       "    }\n",
       "\n",
       "    .dataframe tbody tr th {\n",
       "        vertical-align: top;\n",
       "    }\n",
       "\n",
       "    .dataframe thead th {\n",
       "        text-align: right;\n",
       "    }\n",
       "</style>\n",
       "<table border=\"1\" class=\"dataframe\">\n",
       "  <thead>\n",
       "    <tr style=\"text-align: right;\">\n",
       "      <th></th>\n",
       "      <th>측정일/월</th>\n",
       "      <th>측정소명</th>\n",
       "      <th>수온 ℃</th>\n",
       "      <th>수소이온농도</th>\n",
       "      <th>전기전도도 μS/cm</th>\n",
       "      <th>용존산소 mg/L</th>\n",
       "      <th>총유기탄소 mg/L</th>\n",
       "      <th>총질소 mg/L</th>\n",
       "      <th>총인 mg/L</th>\n",
       "      <th>클로로필-a mg/㎥</th>\n",
       "    </tr>\n",
       "  </thead>\n",
       "  <tbody>\n",
       "    <tr>\n",
       "      <th>0</th>\n",
       "      <td>2013-01-01 00h</td>\n",
       "      <td>용봉</td>\n",
       "      <td>3.9</td>\n",
       "      <td>6.9</td>\n",
       "      <td>374.0</td>\n",
       "      <td>11.4</td>\n",
       "      <td>2.5</td>\n",
       "      <td>NaN</td>\n",
       "      <td>NaN</td>\n",
       "      <td>7.2</td>\n",
       "    </tr>\n",
       "    <tr>\n",
       "      <th>1</th>\n",
       "      <td>2013-01-01 01h</td>\n",
       "      <td>용봉</td>\n",
       "      <td>3.9</td>\n",
       "      <td>6.9</td>\n",
       "      <td>375.0</td>\n",
       "      <td>11.4</td>\n",
       "      <td>2.5</td>\n",
       "      <td>NaN</td>\n",
       "      <td>NaN</td>\n",
       "      <td>6.9</td>\n",
       "    </tr>\n",
       "    <tr>\n",
       "      <th>2</th>\n",
       "      <td>2013-01-01 02h</td>\n",
       "      <td>용봉</td>\n",
       "      <td>4.0</td>\n",
       "      <td>6.9</td>\n",
       "      <td>374.0</td>\n",
       "      <td>11.4</td>\n",
       "      <td>2.5</td>\n",
       "      <td>NaN</td>\n",
       "      <td>NaN</td>\n",
       "      <td>6.8</td>\n",
       "    </tr>\n",
       "    <tr>\n",
       "      <th>3</th>\n",
       "      <td>2013-01-01 03h</td>\n",
       "      <td>용봉</td>\n",
       "      <td>4.1</td>\n",
       "      <td>6.9</td>\n",
       "      <td>375.0</td>\n",
       "      <td>11.4</td>\n",
       "      <td>2.5</td>\n",
       "      <td>NaN</td>\n",
       "      <td>NaN</td>\n",
       "      <td>6.9</td>\n",
       "    </tr>\n",
       "    <tr>\n",
       "      <th>4</th>\n",
       "      <td>2013-01-01 04h</td>\n",
       "      <td>용봉</td>\n",
       "      <td>4.0</td>\n",
       "      <td>6.9</td>\n",
       "      <td>380.0</td>\n",
       "      <td>11.3</td>\n",
       "      <td>2.6</td>\n",
       "      <td>NaN</td>\n",
       "      <td>NaN</td>\n",
       "      <td>6.9</td>\n",
       "    </tr>\n",
       "  </tbody>\n",
       "</table>\n",
       "</div>"
      ],
      "text/plain": [
       "            측정일/월 측정소명  수온 ℃  수소이온농도  전기전도도 μS/cm  용존산소 mg/L  총유기탄소 mg/L  \\\n",
       "0  2013-01-01 00h   용봉   3.9     6.9        374.0       11.4         2.5   \n",
       "1  2013-01-01 01h   용봉   3.9     6.9        375.0       11.4         2.5   \n",
       "2  2013-01-01 02h   용봉   4.0     6.9        374.0       11.4         2.5   \n",
       "3  2013-01-01 03h   용봉   4.1     6.9        375.0       11.4         2.5   \n",
       "4  2013-01-01 04h   용봉   4.0     6.9        380.0       11.3         2.6   \n",
       "\n",
       "   총질소 mg/L  총인 mg/L  클로로필-a mg/㎥  \n",
       "0       NaN      NaN          7.2  \n",
       "1       NaN      NaN          6.9  \n",
       "2       NaN      NaN          6.8  \n",
       "3       NaN      NaN          6.9  \n",
       "4       NaN      NaN          6.9  "
      ]
     },
     "execution_count": 14,
     "metadata": {},
     "output_type": "execute_result"
    }
   ],
   "source": [
    "scb_yearly_df13.head()"
   ]
  },
  {
   "cell_type": "markdown",
   "id": "fe33dbb5",
   "metadata": {},
   "source": [
    "유량 데이터 추가하기"
   ]
  },
  {
   "cell_type": "code",
   "execution_count": 15,
   "id": "3dcd1b7c",
   "metadata": {},
   "outputs": [],
   "source": [
    "scb_flow_yearly = pd.read_excel(base_path+\"Seungchonbo-flow_rate.xlsx\", \n",
    "                            header=0, \n",
    "                            sheet_name=None,\n",
    "                            na_values='ND',\n",
    "                            parse_dates=True)  # index_col = 0을 제외함"
   ]
  },
  {
   "cell_type": "code",
   "execution_count": 16,
   "id": "93384a27",
   "metadata": {},
   "outputs": [],
   "source": [
    "for year in list(scb_flow_yearly.keys())[1:]:\n",
    "    scb_flow_yearly[year]['연월일시'] = scb_flow_yearly[year]['시간'].apply(lambda x : x[:-3])"
   ]
  },
  {
   "cell_type": "code",
   "execution_count": 28,
   "id": "c274daea",
   "metadata": {},
   "outputs": [
    {
     "data": {
      "text/html": [
       "<div>\n",
       "<style scoped>\n",
       "    .dataframe tbody tr th:only-of-type {\n",
       "        vertical-align: middle;\n",
       "    }\n",
       "\n",
       "    .dataframe tbody tr th {\n",
       "        vertical-align: top;\n",
       "    }\n",
       "\n",
       "    .dataframe thead th {\n",
       "        text-align: right;\n",
       "    }\n",
       "</style>\n",
       "<table border=\"1\" class=\"dataframe\">\n",
       "  <thead>\n",
       "    <tr style=\"text-align: right;\">\n",
       "      <th></th>\n",
       "      <th>시간</th>\n",
       "      <th>상류수위(EL.m)</th>\n",
       "      <th>하류수위(EL.m)</th>\n",
       "      <th>유입량(㎥/s)</th>\n",
       "      <th>방류량(㎥/s)</th>\n",
       "      <th>연월일시</th>\n",
       "    </tr>\n",
       "  </thead>\n",
       "  <tbody>\n",
       "    <tr>\n",
       "      <th>0</th>\n",
       "      <td>2013.01.01 00:00</td>\n",
       "      <td>7.50</td>\n",
       "      <td>3.77</td>\n",
       "      <td>19.82</td>\n",
       "      <td>19.74</td>\n",
       "      <td>2013.01.01 00</td>\n",
       "    </tr>\n",
       "    <tr>\n",
       "      <th>1</th>\n",
       "      <td>2013.01.01 00:10</td>\n",
       "      <td>7.50</td>\n",
       "      <td>3.77</td>\n",
       "      <td>19.78</td>\n",
       "      <td>19.76</td>\n",
       "      <td>2013.01.01 00</td>\n",
       "    </tr>\n",
       "    <tr>\n",
       "      <th>2</th>\n",
       "      <td>2013.01.01 00:20</td>\n",
       "      <td>7.50</td>\n",
       "      <td>3.77</td>\n",
       "      <td>19.77</td>\n",
       "      <td>19.82</td>\n",
       "      <td>2013.01.01 00</td>\n",
       "    </tr>\n",
       "    <tr>\n",
       "      <th>3</th>\n",
       "      <td>2013.01.01 00:30</td>\n",
       "      <td>7.50</td>\n",
       "      <td>3.77</td>\n",
       "      <td>19.77</td>\n",
       "      <td>19.73</td>\n",
       "      <td>2013.01.01 00</td>\n",
       "    </tr>\n",
       "    <tr>\n",
       "      <th>4</th>\n",
       "      <td>2013.01.01 00:40</td>\n",
       "      <td>7.50</td>\n",
       "      <td>3.77</td>\n",
       "      <td>19.78</td>\n",
       "      <td>19.79</td>\n",
       "      <td>2013.01.01 00</td>\n",
       "    </tr>\n",
       "    <tr>\n",
       "      <th>...</th>\n",
       "      <td>...</td>\n",
       "      <td>...</td>\n",
       "      <td>...</td>\n",
       "      <td>...</td>\n",
       "      <td>...</td>\n",
       "      <td>...</td>\n",
       "    </tr>\n",
       "    <tr>\n",
       "      <th>52555</th>\n",
       "      <td>2013.12.31 23:10</td>\n",
       "      <td>7.52</td>\n",
       "      <td>3.55</td>\n",
       "      <td>10.87</td>\n",
       "      <td>10.86</td>\n",
       "      <td>2013.12.31 23</td>\n",
       "    </tr>\n",
       "    <tr>\n",
       "      <th>52556</th>\n",
       "      <td>2013.12.31 23:20</td>\n",
       "      <td>7.52</td>\n",
       "      <td>3.55</td>\n",
       "      <td>10.87</td>\n",
       "      <td>10.87</td>\n",
       "      <td>2013.12.31 23</td>\n",
       "    </tr>\n",
       "    <tr>\n",
       "      <th>52557</th>\n",
       "      <td>2013.12.31 23:30</td>\n",
       "      <td>7.52</td>\n",
       "      <td>3.55</td>\n",
       "      <td>10.86</td>\n",
       "      <td>10.85</td>\n",
       "      <td>2013.12.31 23</td>\n",
       "    </tr>\n",
       "    <tr>\n",
       "      <th>52558</th>\n",
       "      <td>2013.12.31 23:40</td>\n",
       "      <td>7.52</td>\n",
       "      <td>3.55</td>\n",
       "      <td>10.86</td>\n",
       "      <td>10.85</td>\n",
       "      <td>2013.12.31 23</td>\n",
       "    </tr>\n",
       "    <tr>\n",
       "      <th>52559</th>\n",
       "      <td>2013.12.31 23:50</td>\n",
       "      <td>7.52</td>\n",
       "      <td>3.55</td>\n",
       "      <td>10.86</td>\n",
       "      <td>10.87</td>\n",
       "      <td>2013.12.31 23</td>\n",
       "    </tr>\n",
       "  </tbody>\n",
       "</table>\n",
       "<p>52560 rows × 6 columns</p>\n",
       "</div>"
      ],
      "text/plain": [
       "                     시간   상류수위(EL.m)   하류수위(EL.m)   유입량(㎥/s)   방류량(㎥/s)  \\\n",
       "0      2013.01.01 00:00         7.50         3.77      19.82      19.74   \n",
       "1      2013.01.01 00:10         7.50         3.77      19.78      19.76   \n",
       "2      2013.01.01 00:20         7.50         3.77      19.77      19.82   \n",
       "3      2013.01.01 00:30         7.50         3.77      19.77      19.73   \n",
       "4      2013.01.01 00:40         7.50         3.77      19.78      19.79   \n",
       "...                 ...          ...          ...        ...        ...   \n",
       "52555  2013.12.31 23:10         7.52         3.55      10.87      10.86   \n",
       "52556  2013.12.31 23:20         7.52         3.55      10.87      10.87   \n",
       "52557  2013.12.31 23:30         7.52         3.55      10.86      10.85   \n",
       "52558  2013.12.31 23:40         7.52         3.55      10.86      10.85   \n",
       "52559  2013.12.31 23:50         7.52         3.55      10.86      10.87   \n",
       "\n",
       "                연월일시  \n",
       "0      2013.01.01 00  \n",
       "1      2013.01.01 00  \n",
       "2      2013.01.01 00  \n",
       "3      2013.01.01 00  \n",
       "4      2013.01.01 00  \n",
       "...              ...  \n",
       "52555  2013.12.31 23  \n",
       "52556  2013.12.31 23  \n",
       "52557  2013.12.31 23  \n",
       "52558  2013.12.31 23  \n",
       "52559  2013.12.31 23  \n",
       "\n",
       "[52560 rows x 6 columns]"
      ]
     },
     "execution_count": 28,
     "metadata": {},
     "output_type": "execute_result"
    }
   ],
   "source": [
    "scb_flow_yearly['2013']"
   ]
  },
  {
   "cell_type": "code",
   "execution_count": 17,
   "id": "fc5d64be",
   "metadata": {},
   "outputs": [],
   "source": [
    "scb_flow_yearly_hour = {}\n",
    "\n",
    "for year in list(scb_flow_yearly.keys())[1:]:\n",
    "    scb_flow_yearly_hour[year] = scb_flow_yearly[year].groupby('연월일시').mean()"
   ]
  },
  {
   "cell_type": "code",
   "execution_count": 18,
   "id": "a9a687f6",
   "metadata": {},
   "outputs": [],
   "source": [
    "for year in scb_flow_yearly_hour:\n",
    "    scb_flow_yearly_hour[year] = scb_flow_yearly_hour[year].reset_index()"
   ]
  },
  {
   "cell_type": "code",
   "execution_count": 30,
   "id": "02f7dfd6",
   "metadata": {},
   "outputs": [
    {
     "data": {
      "text/html": [
       "<div>\n",
       "<style scoped>\n",
       "    .dataframe tbody tr th:only-of-type {\n",
       "        vertical-align: middle;\n",
       "    }\n",
       "\n",
       "    .dataframe tbody tr th {\n",
       "        vertical-align: top;\n",
       "    }\n",
       "\n",
       "    .dataframe thead th {\n",
       "        text-align: right;\n",
       "    }\n",
       "</style>\n",
       "<table border=\"1\" class=\"dataframe\">\n",
       "  <thead>\n",
       "    <tr style=\"text-align: right;\">\n",
       "      <th></th>\n",
       "      <th>연월일시</th>\n",
       "      <th>상류수위(EL.m)</th>\n",
       "      <th>하류수위(EL.m)</th>\n",
       "      <th>유입량(㎥/s)</th>\n",
       "      <th>방류량(㎥/s)</th>\n",
       "    </tr>\n",
       "  </thead>\n",
       "  <tbody>\n",
       "    <tr>\n",
       "      <th>0</th>\n",
       "      <td>2013.01.01 00</td>\n",
       "      <td>7.50</td>\n",
       "      <td>3.770000</td>\n",
       "      <td>19.773333</td>\n",
       "      <td>19.748333</td>\n",
       "    </tr>\n",
       "    <tr>\n",
       "      <th>1</th>\n",
       "      <td>2013.01.01 01</td>\n",
       "      <td>7.50</td>\n",
       "      <td>3.770000</td>\n",
       "      <td>19.701667</td>\n",
       "      <td>19.706667</td>\n",
       "    </tr>\n",
       "    <tr>\n",
       "      <th>2</th>\n",
       "      <td>2013.01.01 02</td>\n",
       "      <td>7.50</td>\n",
       "      <td>3.770000</td>\n",
       "      <td>19.748333</td>\n",
       "      <td>19.723333</td>\n",
       "    </tr>\n",
       "    <tr>\n",
       "      <th>3</th>\n",
       "      <td>2013.01.01 03</td>\n",
       "      <td>7.50</td>\n",
       "      <td>3.770000</td>\n",
       "      <td>19.613333</td>\n",
       "      <td>19.610000</td>\n",
       "    </tr>\n",
       "    <tr>\n",
       "      <th>4</th>\n",
       "      <td>2013.01.01 04</td>\n",
       "      <td>7.50</td>\n",
       "      <td>3.770000</td>\n",
       "      <td>19.661667</td>\n",
       "      <td>19.665000</td>\n",
       "    </tr>\n",
       "    <tr>\n",
       "      <th>...</th>\n",
       "      <td>...</td>\n",
       "      <td>...</td>\n",
       "      <td>...</td>\n",
       "      <td>...</td>\n",
       "      <td>...</td>\n",
       "    </tr>\n",
       "    <tr>\n",
       "      <th>8755</th>\n",
       "      <td>2013.12.31 19</td>\n",
       "      <td>7.52</td>\n",
       "      <td>3.558333</td>\n",
       "      <td>10.901667</td>\n",
       "      <td>10.910000</td>\n",
       "    </tr>\n",
       "    <tr>\n",
       "      <th>8756</th>\n",
       "      <td>2013.12.31 20</td>\n",
       "      <td>7.52</td>\n",
       "      <td>3.555000</td>\n",
       "      <td>10.845000</td>\n",
       "      <td>10.843333</td>\n",
       "    </tr>\n",
       "    <tr>\n",
       "      <th>8757</th>\n",
       "      <td>2013.12.31 21</td>\n",
       "      <td>7.52</td>\n",
       "      <td>3.551667</td>\n",
       "      <td>10.850000</td>\n",
       "      <td>10.845000</td>\n",
       "    </tr>\n",
       "    <tr>\n",
       "      <th>8758</th>\n",
       "      <td>2013.12.31 22</td>\n",
       "      <td>7.52</td>\n",
       "      <td>3.555000</td>\n",
       "      <td>10.870000</td>\n",
       "      <td>10.876667</td>\n",
       "    </tr>\n",
       "    <tr>\n",
       "      <th>8759</th>\n",
       "      <td>2013.12.31 23</td>\n",
       "      <td>7.52</td>\n",
       "      <td>3.550000</td>\n",
       "      <td>10.865000</td>\n",
       "      <td>10.863333</td>\n",
       "    </tr>\n",
       "  </tbody>\n",
       "</table>\n",
       "<p>8760 rows × 5 columns</p>\n",
       "</div>"
      ],
      "text/plain": [
       "               연월일시   상류수위(EL.m)   하류수위(EL.m)   유입량(㎥/s)   방류량(㎥/s)\n",
       "0     2013.01.01 00         7.50     3.770000  19.773333  19.748333\n",
       "1     2013.01.01 01         7.50     3.770000  19.701667  19.706667\n",
       "2     2013.01.01 02         7.50     3.770000  19.748333  19.723333\n",
       "3     2013.01.01 03         7.50     3.770000  19.613333  19.610000\n",
       "4     2013.01.01 04         7.50     3.770000  19.661667  19.665000\n",
       "...             ...          ...          ...        ...        ...\n",
       "8755  2013.12.31 19         7.52     3.558333  10.901667  10.910000\n",
       "8756  2013.12.31 20         7.52     3.555000  10.845000  10.843333\n",
       "8757  2013.12.31 21         7.52     3.551667  10.850000  10.845000\n",
       "8758  2013.12.31 22         7.52     3.555000  10.870000  10.876667\n",
       "8759  2013.12.31 23         7.52     3.550000  10.865000  10.863333\n",
       "\n",
       "[8760 rows x 5 columns]"
      ]
     },
     "execution_count": 30,
     "metadata": {},
     "output_type": "execute_result"
    }
   ],
   "source": [
    "scb_flow_yearly_hour['2013']"
   ]
  },
  {
   "cell_type": "code",
   "execution_count": 19,
   "id": "ea35293b",
   "metadata": {},
   "outputs": [],
   "source": [
    "scb_flow_yearly_hour_df = pd.DataFrame()\n",
    "\n",
    "for year in scb_flow_yearly_hour:\n",
    "    scb_flow_yearly_hour_df = pd.concat([scb_flow_yearly_hour_df, scb_flow_yearly_hour[year]])"
   ]
  },
  {
   "cell_type": "code",
   "execution_count": 20,
   "id": "6b039552",
   "metadata": {},
   "outputs": [],
   "source": [
    "scb_flow_yearly_hour_df = scb_flow_yearly_hour_df.reset_index(drop=True)"
   ]
  },
  {
   "cell_type": "code",
   "execution_count": 31,
   "id": "c63264a0",
   "metadata": {
    "scrolled": true
   },
   "outputs": [
    {
     "data": {
      "text/html": [
       "<div>\n",
       "<style scoped>\n",
       "    .dataframe tbody tr th:only-of-type {\n",
       "        vertical-align: middle;\n",
       "    }\n",
       "\n",
       "    .dataframe tbody tr th {\n",
       "        vertical-align: top;\n",
       "    }\n",
       "\n",
       "    .dataframe thead th {\n",
       "        text-align: right;\n",
       "    }\n",
       "</style>\n",
       "<table border=\"1\" class=\"dataframe\">\n",
       "  <thead>\n",
       "    <tr style=\"text-align: right;\">\n",
       "      <th></th>\n",
       "      <th>연월일시</th>\n",
       "      <th>상류수위(EL.m)</th>\n",
       "      <th>하류수위(EL.m)</th>\n",
       "      <th>유입량(㎥/s)</th>\n",
       "      <th>방류량(㎥/s)</th>\n",
       "    </tr>\n",
       "  </thead>\n",
       "  <tbody>\n",
       "    <tr>\n",
       "      <th>0</th>\n",
       "      <td>2013.01.01 00</td>\n",
       "      <td>7.500000</td>\n",
       "      <td>3.770000</td>\n",
       "      <td>19.773333</td>\n",
       "      <td>19.748333</td>\n",
       "    </tr>\n",
       "    <tr>\n",
       "      <th>1</th>\n",
       "      <td>2013.01.01 01</td>\n",
       "      <td>7.500000</td>\n",
       "      <td>3.770000</td>\n",
       "      <td>19.701667</td>\n",
       "      <td>19.706667</td>\n",
       "    </tr>\n",
       "    <tr>\n",
       "      <th>2</th>\n",
       "      <td>2013.01.01 02</td>\n",
       "      <td>7.500000</td>\n",
       "      <td>3.770000</td>\n",
       "      <td>19.748333</td>\n",
       "      <td>19.723333</td>\n",
       "    </tr>\n",
       "    <tr>\n",
       "      <th>3</th>\n",
       "      <td>2013.01.01 03</td>\n",
       "      <td>7.500000</td>\n",
       "      <td>3.770000</td>\n",
       "      <td>19.613333</td>\n",
       "      <td>19.610000</td>\n",
       "    </tr>\n",
       "    <tr>\n",
       "      <th>4</th>\n",
       "      <td>2013.01.01 04</td>\n",
       "      <td>7.500000</td>\n",
       "      <td>3.770000</td>\n",
       "      <td>19.661667</td>\n",
       "      <td>19.665000</td>\n",
       "    </tr>\n",
       "    <tr>\n",
       "      <th>...</th>\n",
       "      <td>...</td>\n",
       "      <td>...</td>\n",
       "      <td>...</td>\n",
       "      <td>...</td>\n",
       "      <td>...</td>\n",
       "    </tr>\n",
       "    <tr>\n",
       "      <th>84388</th>\n",
       "      <td>2022.08.17 15</td>\n",
       "      <td>5.536667</td>\n",
       "      <td>1.618333</td>\n",
       "      <td>29.261667</td>\n",
       "      <td>25.190000</td>\n",
       "    </tr>\n",
       "    <tr>\n",
       "      <th>84389</th>\n",
       "      <td>2022.08.17 16</td>\n",
       "      <td>5.525000</td>\n",
       "      <td>1.638333</td>\n",
       "      <td>23.243333</td>\n",
       "      <td>38.923333</td>\n",
       "    </tr>\n",
       "    <tr>\n",
       "      <th>84390</th>\n",
       "      <td>2022.08.17 17</td>\n",
       "      <td>5.483333</td>\n",
       "      <td>1.626667</td>\n",
       "      <td>29.068333</td>\n",
       "      <td>44.878333</td>\n",
       "    </tr>\n",
       "    <tr>\n",
       "      <th>84391</th>\n",
       "      <td>2022.08.17 18</td>\n",
       "      <td>5.470000</td>\n",
       "      <td>1.566667</td>\n",
       "      <td>19.131667</td>\n",
       "      <td>14.925000</td>\n",
       "    </tr>\n",
       "    <tr>\n",
       "      <th>84392</th>\n",
       "      <td>2022.08.17 19</td>\n",
       "      <td>5.468333</td>\n",
       "      <td>1.581667</td>\n",
       "      <td>18.811667</td>\n",
       "      <td>19.368333</td>\n",
       "    </tr>\n",
       "  </tbody>\n",
       "</table>\n",
       "<p>84393 rows × 5 columns</p>\n",
       "</div>"
      ],
      "text/plain": [
       "                연월일시   상류수위(EL.m)   하류수위(EL.m)   유입량(㎥/s)   방류량(㎥/s)\n",
       "0      2013.01.01 00     7.500000     3.770000  19.773333  19.748333\n",
       "1      2013.01.01 01     7.500000     3.770000  19.701667  19.706667\n",
       "2      2013.01.01 02     7.500000     3.770000  19.748333  19.723333\n",
       "3      2013.01.01 03     7.500000     3.770000  19.613333  19.610000\n",
       "4      2013.01.01 04     7.500000     3.770000  19.661667  19.665000\n",
       "...              ...          ...          ...        ...        ...\n",
       "84388  2022.08.17 15     5.536667     1.618333  29.261667  25.190000\n",
       "84389  2022.08.17 16     5.525000     1.638333  23.243333  38.923333\n",
       "84390  2022.08.17 17     5.483333     1.626667  29.068333  44.878333\n",
       "84391  2022.08.17 18     5.470000     1.566667  19.131667  14.925000\n",
       "84392  2022.08.17 19     5.468333     1.581667  18.811667  19.368333\n",
       "\n",
       "[84393 rows x 5 columns]"
      ]
     },
     "execution_count": 31,
     "metadata": {},
     "output_type": "execute_result"
    }
   ],
   "source": [
    "scb_flow_yearly_hour_df"
   ]
  },
  {
   "cell_type": "code",
   "execution_count": 21,
   "id": "c79bbead",
   "metadata": {},
   "outputs": [
    {
     "name": "stdout",
     "output_type": "stream",
     "text": [
      "84393\n",
      "82257\n"
     ]
    }
   ],
   "source": [
    "print(scb_flow_yearly_hour_df.__len__())\n",
    "print(scb_yearly_df13.__len__())"
   ]
  },
  {
   "cell_type": "code",
   "execution_count": 22,
   "id": "6f07d7ab",
   "metadata": {},
   "outputs": [],
   "source": [
    "scb_yearly_df13['연월일시'] = scb_yearly_df13['측정일/월'].transform(lambda x: x.strip('h').replace('-', '.'))"
   ]
  },
  {
   "cell_type": "code",
   "execution_count": 23,
   "id": "7db334eb",
   "metadata": {},
   "outputs": [],
   "source": [
    "scb_data = pd.merge(scb_yearly_df13, scb_flow_yearly_hour_df, how='outer')"
   ]
  },
  {
   "cell_type": "code",
   "execution_count": 24,
   "id": "32293c2d",
   "metadata": {},
   "outputs": [],
   "source": [
    "scb_data = scb_data[:82257]"
   ]
  },
  {
   "cell_type": "code",
   "execution_count": 25,
   "id": "a5efb142",
   "metadata": {},
   "outputs": [
    {
     "name": "stdout",
     "output_type": "stream",
     "text": [
      "<class 'pandas.core.frame.DataFrame'>\n",
      "Int64Index: 82257 entries, 0 to 82256\n",
      "Data columns (total 15 columns):\n",
      " #   Column       Non-Null Count  Dtype  \n",
      "---  ------       --------------  -----  \n",
      " 0   측정일/월        82257 non-null  object \n",
      " 1   측정소명         82257 non-null  object \n",
      " 2   수온 ℃         64574 non-null  float64\n",
      " 3   수소이온농도       64561 non-null  float64\n",
      " 4   전기전도도 μS/cm  64524 non-null  float64\n",
      " 5   용존산소 mg/L    62656 non-null  float64\n",
      " 6   총유기탄소 mg/L   58675 non-null  float64\n",
      " 7   총질소 mg/L     59981 non-null  float64\n",
      " 8   총인 mg/L      58997 non-null  float64\n",
      " 9   클로로필-a mg/㎥  62876 non-null  float64\n",
      " 10  연월일시         82257 non-null  object \n",
      " 11   상류수위(EL.m)  82231 non-null  float64\n",
      " 12   하류수위(EL.m)  82231 non-null  float64\n",
      " 13   유입량(㎥/s)    82231 non-null  float64\n",
      " 14   방류량(㎥/s)    82231 non-null  float64\n",
      "dtypes: float64(12), object(3)\n",
      "memory usage: 10.0+ MB\n"
     ]
    }
   ],
   "source": [
    "scb_data.info()"
   ]
  },
  {
   "cell_type": "code",
   "execution_count": 26,
   "id": "9c217bff",
   "metadata": {},
   "outputs": [
    {
     "data": {
      "text/html": [
       "<div>\n",
       "<style scoped>\n",
       "    .dataframe tbody tr th:only-of-type {\n",
       "        vertical-align: middle;\n",
       "    }\n",
       "\n",
       "    .dataframe tbody tr th {\n",
       "        vertical-align: top;\n",
       "    }\n",
       "\n",
       "    .dataframe thead th {\n",
       "        text-align: right;\n",
       "    }\n",
       "</style>\n",
       "<table border=\"1\" class=\"dataframe\">\n",
       "  <thead>\n",
       "    <tr style=\"text-align: right;\">\n",
       "      <th></th>\n",
       "      <th>측정일/월</th>\n",
       "      <th>측정소명</th>\n",
       "      <th>수온 ℃</th>\n",
       "      <th>수소이온농도</th>\n",
       "      <th>전기전도도 μS/cm</th>\n",
       "      <th>용존산소 mg/L</th>\n",
       "      <th>총유기탄소 mg/L</th>\n",
       "      <th>총질소 mg/L</th>\n",
       "      <th>총인 mg/L</th>\n",
       "      <th>클로로필-a mg/㎥</th>\n",
       "      <th>연월일시</th>\n",
       "      <th>상류수위(EL.m)</th>\n",
       "      <th>하류수위(EL.m)</th>\n",
       "      <th>유입량(㎥/s)</th>\n",
       "      <th>방류량(㎥/s)</th>\n",
       "    </tr>\n",
       "  </thead>\n",
       "  <tbody>\n",
       "    <tr>\n",
       "      <th>0</th>\n",
       "      <td>2013-01-01 00h</td>\n",
       "      <td>용봉</td>\n",
       "      <td>3.9</td>\n",
       "      <td>6.9</td>\n",
       "      <td>374.0</td>\n",
       "      <td>11.4</td>\n",
       "      <td>2.5</td>\n",
       "      <td>NaN</td>\n",
       "      <td>NaN</td>\n",
       "      <td>7.2</td>\n",
       "      <td>2013.01.01 00</td>\n",
       "      <td>7.5</td>\n",
       "      <td>3.77</td>\n",
       "      <td>19.773333</td>\n",
       "      <td>19.748333</td>\n",
       "    </tr>\n",
       "    <tr>\n",
       "      <th>1</th>\n",
       "      <td>2013-01-01 01h</td>\n",
       "      <td>용봉</td>\n",
       "      <td>3.9</td>\n",
       "      <td>6.9</td>\n",
       "      <td>375.0</td>\n",
       "      <td>11.4</td>\n",
       "      <td>2.5</td>\n",
       "      <td>NaN</td>\n",
       "      <td>NaN</td>\n",
       "      <td>6.9</td>\n",
       "      <td>2013.01.01 01</td>\n",
       "      <td>7.5</td>\n",
       "      <td>3.77</td>\n",
       "      <td>19.701667</td>\n",
       "      <td>19.706667</td>\n",
       "    </tr>\n",
       "    <tr>\n",
       "      <th>2</th>\n",
       "      <td>2013-01-01 02h</td>\n",
       "      <td>용봉</td>\n",
       "      <td>4.0</td>\n",
       "      <td>6.9</td>\n",
       "      <td>374.0</td>\n",
       "      <td>11.4</td>\n",
       "      <td>2.5</td>\n",
       "      <td>NaN</td>\n",
       "      <td>NaN</td>\n",
       "      <td>6.8</td>\n",
       "      <td>2013.01.01 02</td>\n",
       "      <td>7.5</td>\n",
       "      <td>3.77</td>\n",
       "      <td>19.748333</td>\n",
       "      <td>19.723333</td>\n",
       "    </tr>\n",
       "    <tr>\n",
       "      <th>3</th>\n",
       "      <td>2013-01-01 03h</td>\n",
       "      <td>용봉</td>\n",
       "      <td>4.1</td>\n",
       "      <td>6.9</td>\n",
       "      <td>375.0</td>\n",
       "      <td>11.4</td>\n",
       "      <td>2.5</td>\n",
       "      <td>NaN</td>\n",
       "      <td>NaN</td>\n",
       "      <td>6.9</td>\n",
       "      <td>2013.01.01 03</td>\n",
       "      <td>7.5</td>\n",
       "      <td>3.77</td>\n",
       "      <td>19.613333</td>\n",
       "      <td>19.610000</td>\n",
       "    </tr>\n",
       "    <tr>\n",
       "      <th>4</th>\n",
       "      <td>2013-01-01 04h</td>\n",
       "      <td>용봉</td>\n",
       "      <td>4.0</td>\n",
       "      <td>6.9</td>\n",
       "      <td>380.0</td>\n",
       "      <td>11.3</td>\n",
       "      <td>2.6</td>\n",
       "      <td>NaN</td>\n",
       "      <td>NaN</td>\n",
       "      <td>6.9</td>\n",
       "      <td>2013.01.01 04</td>\n",
       "      <td>7.5</td>\n",
       "      <td>3.77</td>\n",
       "      <td>19.661667</td>\n",
       "      <td>19.665000</td>\n",
       "    </tr>\n",
       "  </tbody>\n",
       "</table>\n",
       "</div>"
      ],
      "text/plain": [
       "            측정일/월 측정소명  수온 ℃  수소이온농도  전기전도도 μS/cm  용존산소 mg/L  총유기탄소 mg/L  \\\n",
       "0  2013-01-01 00h   용봉   3.9     6.9        374.0       11.4         2.5   \n",
       "1  2013-01-01 01h   용봉   3.9     6.9        375.0       11.4         2.5   \n",
       "2  2013-01-01 02h   용봉   4.0     6.9        374.0       11.4         2.5   \n",
       "3  2013-01-01 03h   용봉   4.1     6.9        375.0       11.4         2.5   \n",
       "4  2013-01-01 04h   용봉   4.0     6.9        380.0       11.3         2.6   \n",
       "\n",
       "   총질소 mg/L  총인 mg/L  클로로필-a mg/㎥           연월일시   상류수위(EL.m)   하류수위(EL.m)  \\\n",
       "0       NaN      NaN          7.2  2013.01.01 00          7.5         3.77   \n",
       "1       NaN      NaN          6.9  2013.01.01 01          7.5         3.77   \n",
       "2       NaN      NaN          6.8  2013.01.01 02          7.5         3.77   \n",
       "3       NaN      NaN          6.9  2013.01.01 03          7.5         3.77   \n",
       "4       NaN      NaN          6.9  2013.01.01 04          7.5         3.77   \n",
       "\n",
       "    유입량(㎥/s)   방류량(㎥/s)  \n",
       "0  19.773333  19.748333  \n",
       "1  19.701667  19.706667  \n",
       "2  19.748333  19.723333  \n",
       "3  19.613333  19.610000  \n",
       "4  19.661667  19.665000  "
      ]
     },
     "execution_count": 26,
     "metadata": {},
     "output_type": "execute_result"
    }
   ],
   "source": [
    "scb_data.head()"
   ]
  },
  {
   "cell_type": "code",
   "execution_count": 32,
   "id": "51473373",
   "metadata": {},
   "outputs": [],
   "source": [
    "scb_data.columns = [x.strip() for x in list(scb_data.columns)]"
   ]
  },
  {
   "cell_type": "code",
   "execution_count": 33,
   "id": "88c0cc65",
   "metadata": {},
   "outputs": [
    {
     "name": "stdout",
     "output_type": "stream",
     "text": [
      "<class 'pandas.core.frame.DataFrame'>\n",
      "Int64Index: 82257 entries, 0 to 82256\n",
      "Data columns (total 15 columns):\n",
      " #   Column       Non-Null Count  Dtype  \n",
      "---  ------       --------------  -----  \n",
      " 0   측정일/월        82257 non-null  object \n",
      " 1   측정소명         82257 non-null  object \n",
      " 2   수온 ℃         64574 non-null  float64\n",
      " 3   수소이온농도       64561 non-null  float64\n",
      " 4   전기전도도 μS/cm  64524 non-null  float64\n",
      " 5   용존산소 mg/L    62656 non-null  float64\n",
      " 6   총유기탄소 mg/L   58675 non-null  float64\n",
      " 7   총질소 mg/L     59981 non-null  float64\n",
      " 8   총인 mg/L      58997 non-null  float64\n",
      " 9   클로로필-a mg/㎥  62876 non-null  float64\n",
      " 10  연월일시         82257 non-null  object \n",
      " 11  상류수위(EL.m)   82231 non-null  float64\n",
      " 12  하류수위(EL.m)   82231 non-null  float64\n",
      " 13  유입량(㎥/s)     82231 non-null  float64\n",
      " 14  방류량(㎥/s)     82231 non-null  float64\n",
      "dtypes: float64(12), object(3)\n",
      "memory usage: 10.0+ MB\n"
     ]
    }
   ],
   "source": [
    "scb_data.info()"
   ]
  },
  {
   "cell_type": "code",
   "execution_count": 34,
   "id": "c57ebe33",
   "metadata": {},
   "outputs": [],
   "source": [
    "scb_data = scb_data.loc[:, list(scb_data.columns)[:-5] + list(scb_data.columns)[-4:-3] + list(scb_data.columns)[-1:]]"
   ]
  },
  {
   "cell_type": "code",
   "execution_count": 35,
   "id": "5588c0d5",
   "metadata": {},
   "outputs": [
    {
     "data": {
      "text/plain": [
       "Index(['측정일/월', '측정소명', '수온 ℃', '수소이온농도', '전기전도도 μS/cm', '용존산소 mg/L',\n",
       "       '총유기탄소 mg/L', '총질소 mg/L', '총인 mg/L', '클로로필-a mg/㎥', '상류수위(EL.m)',\n",
       "       '방류량(㎥/s)'],\n",
       "      dtype='object')"
      ]
     },
     "execution_count": 35,
     "metadata": {},
     "output_type": "execute_result"
    }
   ],
   "source": [
    "scb_data.columns"
   ]
  },
  {
   "cell_type": "code",
   "execution_count": 36,
   "id": "66f45342",
   "metadata": {},
   "outputs": [
    {
     "data": {
      "text/html": [
       "<div>\n",
       "<style scoped>\n",
       "    .dataframe tbody tr th:only-of-type {\n",
       "        vertical-align: middle;\n",
       "    }\n",
       "\n",
       "    .dataframe tbody tr th {\n",
       "        vertical-align: top;\n",
       "    }\n",
       "\n",
       "    .dataframe thead th {\n",
       "        text-align: right;\n",
       "    }\n",
       "</style>\n",
       "<table border=\"1\" class=\"dataframe\">\n",
       "  <thead>\n",
       "    <tr style=\"text-align: right;\">\n",
       "      <th></th>\n",
       "      <th>측정일/월</th>\n",
       "      <th>측정소명</th>\n",
       "      <th>수온 ℃</th>\n",
       "      <th>수소이온농도</th>\n",
       "      <th>전기전도도 μS/cm</th>\n",
       "      <th>용존산소 mg/L</th>\n",
       "      <th>총유기탄소 mg/L</th>\n",
       "      <th>총질소 mg/L</th>\n",
       "      <th>총인 mg/L</th>\n",
       "      <th>클로로필-a mg/㎥</th>\n",
       "      <th>상류수위(EL.m)</th>\n",
       "      <th>방류량(㎥/s)</th>\n",
       "    </tr>\n",
       "  </thead>\n",
       "  <tbody>\n",
       "    <tr>\n",
       "      <th>0</th>\n",
       "      <td>2013-01-01 00h</td>\n",
       "      <td>용봉</td>\n",
       "      <td>3.9</td>\n",
       "      <td>6.9</td>\n",
       "      <td>374.0</td>\n",
       "      <td>11.4</td>\n",
       "      <td>2.5</td>\n",
       "      <td>NaN</td>\n",
       "      <td>NaN</td>\n",
       "      <td>7.2</td>\n",
       "      <td>7.50</td>\n",
       "      <td>19.748333</td>\n",
       "    </tr>\n",
       "    <tr>\n",
       "      <th>1</th>\n",
       "      <td>2013-01-01 01h</td>\n",
       "      <td>용봉</td>\n",
       "      <td>3.9</td>\n",
       "      <td>6.9</td>\n",
       "      <td>375.0</td>\n",
       "      <td>11.4</td>\n",
       "      <td>2.5</td>\n",
       "      <td>NaN</td>\n",
       "      <td>NaN</td>\n",
       "      <td>6.9</td>\n",
       "      <td>7.50</td>\n",
       "      <td>19.706667</td>\n",
       "    </tr>\n",
       "    <tr>\n",
       "      <th>2</th>\n",
       "      <td>2013-01-01 02h</td>\n",
       "      <td>용봉</td>\n",
       "      <td>4.0</td>\n",
       "      <td>6.9</td>\n",
       "      <td>374.0</td>\n",
       "      <td>11.4</td>\n",
       "      <td>2.5</td>\n",
       "      <td>NaN</td>\n",
       "      <td>NaN</td>\n",
       "      <td>6.8</td>\n",
       "      <td>7.50</td>\n",
       "      <td>19.723333</td>\n",
       "    </tr>\n",
       "    <tr>\n",
       "      <th>3</th>\n",
       "      <td>2013-01-01 03h</td>\n",
       "      <td>용봉</td>\n",
       "      <td>4.1</td>\n",
       "      <td>6.9</td>\n",
       "      <td>375.0</td>\n",
       "      <td>11.4</td>\n",
       "      <td>2.5</td>\n",
       "      <td>NaN</td>\n",
       "      <td>NaN</td>\n",
       "      <td>6.9</td>\n",
       "      <td>7.50</td>\n",
       "      <td>19.610000</td>\n",
       "    </tr>\n",
       "    <tr>\n",
       "      <th>4</th>\n",
       "      <td>2013-01-01 04h</td>\n",
       "      <td>용봉</td>\n",
       "      <td>4.0</td>\n",
       "      <td>6.9</td>\n",
       "      <td>380.0</td>\n",
       "      <td>11.3</td>\n",
       "      <td>2.6</td>\n",
       "      <td>NaN</td>\n",
       "      <td>NaN</td>\n",
       "      <td>6.9</td>\n",
       "      <td>7.50</td>\n",
       "      <td>19.665000</td>\n",
       "    </tr>\n",
       "    <tr>\n",
       "      <th>...</th>\n",
       "      <td>...</td>\n",
       "      <td>...</td>\n",
       "      <td>...</td>\n",
       "      <td>...</td>\n",
       "      <td>...</td>\n",
       "      <td>...</td>\n",
       "      <td>...</td>\n",
       "      <td>...</td>\n",
       "      <td>...</td>\n",
       "      <td>...</td>\n",
       "      <td>...</td>\n",
       "      <td>...</td>\n",
       "    </tr>\n",
       "    <tr>\n",
       "      <th>82252</th>\n",
       "      <td>2022-05-23 19h</td>\n",
       "      <td>용봉</td>\n",
       "      <td>26.6</td>\n",
       "      <td>6.9</td>\n",
       "      <td>419.0</td>\n",
       "      <td>NaN</td>\n",
       "      <td>6.7</td>\n",
       "      <td>5.825</td>\n",
       "      <td>0.108</td>\n",
       "      <td>66.2</td>\n",
       "      <td>5.44</td>\n",
       "      <td>12.766667</td>\n",
       "    </tr>\n",
       "    <tr>\n",
       "      <th>82253</th>\n",
       "      <td>2022-05-23 20h</td>\n",
       "      <td>용봉</td>\n",
       "      <td>26.3</td>\n",
       "      <td>6.8</td>\n",
       "      <td>425.0</td>\n",
       "      <td>NaN</td>\n",
       "      <td>6.5</td>\n",
       "      <td>5.803</td>\n",
       "      <td>0.107</td>\n",
       "      <td>61.2</td>\n",
       "      <td>5.44</td>\n",
       "      <td>12.786667</td>\n",
       "    </tr>\n",
       "    <tr>\n",
       "      <th>82254</th>\n",
       "      <td>2022-05-23 21h</td>\n",
       "      <td>용봉</td>\n",
       "      <td>25.9</td>\n",
       "      <td>6.8</td>\n",
       "      <td>417.0</td>\n",
       "      <td>NaN</td>\n",
       "      <td>6.7</td>\n",
       "      <td>5.909</td>\n",
       "      <td>0.107</td>\n",
       "      <td>58.3</td>\n",
       "      <td>5.44</td>\n",
       "      <td>12.743333</td>\n",
       "    </tr>\n",
       "    <tr>\n",
       "      <th>82255</th>\n",
       "      <td>2022-05-23 22h</td>\n",
       "      <td>용봉</td>\n",
       "      <td>25.7</td>\n",
       "      <td>6.8</td>\n",
       "      <td>420.0</td>\n",
       "      <td>NaN</td>\n",
       "      <td>6.4</td>\n",
       "      <td>5.921</td>\n",
       "      <td>0.106</td>\n",
       "      <td>54.4</td>\n",
       "      <td>5.44</td>\n",
       "      <td>12.700000</td>\n",
       "    </tr>\n",
       "    <tr>\n",
       "      <th>82256</th>\n",
       "      <td>2022-05-23 23h</td>\n",
       "      <td>용봉</td>\n",
       "      <td>25.5</td>\n",
       "      <td>6.8</td>\n",
       "      <td>411.0</td>\n",
       "      <td>NaN</td>\n",
       "      <td>6.4</td>\n",
       "      <td>5.818</td>\n",
       "      <td>0.106</td>\n",
       "      <td>52.3</td>\n",
       "      <td>5.44</td>\n",
       "      <td>12.770000</td>\n",
       "    </tr>\n",
       "  </tbody>\n",
       "</table>\n",
       "<p>82257 rows × 12 columns</p>\n",
       "</div>"
      ],
      "text/plain": [
       "                측정일/월 측정소명  수온 ℃  수소이온농도  전기전도도 μS/cm  용존산소 mg/L  총유기탄소 mg/L  \\\n",
       "0      2013-01-01 00h   용봉   3.9     6.9        374.0       11.4         2.5   \n",
       "1      2013-01-01 01h   용봉   3.9     6.9        375.0       11.4         2.5   \n",
       "2      2013-01-01 02h   용봉   4.0     6.9        374.0       11.4         2.5   \n",
       "3      2013-01-01 03h   용봉   4.1     6.9        375.0       11.4         2.5   \n",
       "4      2013-01-01 04h   용봉   4.0     6.9        380.0       11.3         2.6   \n",
       "...               ...  ...   ...     ...          ...        ...         ...   \n",
       "82252  2022-05-23 19h   용봉  26.6     6.9        419.0        NaN         6.7   \n",
       "82253  2022-05-23 20h   용봉  26.3     6.8        425.0        NaN         6.5   \n",
       "82254  2022-05-23 21h   용봉  25.9     6.8        417.0        NaN         6.7   \n",
       "82255  2022-05-23 22h   용봉  25.7     6.8        420.0        NaN         6.4   \n",
       "82256  2022-05-23 23h   용봉  25.5     6.8        411.0        NaN         6.4   \n",
       "\n",
       "       총질소 mg/L  총인 mg/L  클로로필-a mg/㎥  상류수위(EL.m)   방류량(㎥/s)  \n",
       "0           NaN      NaN          7.2        7.50  19.748333  \n",
       "1           NaN      NaN          6.9        7.50  19.706667  \n",
       "2           NaN      NaN          6.8        7.50  19.723333  \n",
       "3           NaN      NaN          6.9        7.50  19.610000  \n",
       "4           NaN      NaN          6.9        7.50  19.665000  \n",
       "...         ...      ...          ...         ...        ...  \n",
       "82252     5.825    0.108         66.2        5.44  12.766667  \n",
       "82253     5.803    0.107         61.2        5.44  12.786667  \n",
       "82254     5.909    0.107         58.3        5.44  12.743333  \n",
       "82255     5.921    0.106         54.4        5.44  12.700000  \n",
       "82256     5.818    0.106         52.3        5.44  12.770000  \n",
       "\n",
       "[82257 rows x 12 columns]"
      ]
     },
     "execution_count": 36,
     "metadata": {},
     "output_type": "execute_result"
    }
   ],
   "source": [
    "scb_data"
   ]
  },
  {
   "cell_type": "code",
   "execution_count": 37,
   "id": "1b1383f1",
   "metadata": {},
   "outputs": [
    {
     "data": {
      "text/plain": [
       "측정일/월              0\n",
       "측정소명               0\n",
       "수온 ℃           17683\n",
       "수소이온농도         17696\n",
       "전기전도도 μS/cm    17733\n",
       "용존산소 mg/L      19601\n",
       "총유기탄소 mg/L     23582\n",
       "총질소 mg/L       22276\n",
       "총인 mg/L        23260\n",
       "클로로필-a mg/㎥    19381\n",
       "상류수위(EL.m)        26\n",
       "방류량(㎥/s)          26\n",
       "dtype: int64"
      ]
     },
     "execution_count": 37,
     "metadata": {},
     "output_type": "execute_result"
    }
   ],
   "source": [
    "scb_data.isnull().sum()"
   ]
  },
  {
   "cell_type": "code",
   "execution_count": 38,
   "id": "e3200bfe",
   "metadata": {},
   "outputs": [
    {
     "data": {
      "text/plain": [
       "측정일/월          0.000000\n",
       "측정소명           0.000000\n",
       "수온 ℃           0.214973\n",
       "수소이온농도         0.215131\n",
       "전기전도도 μS/cm    0.215580\n",
       "용존산소 mg/L      0.238290\n",
       "총유기탄소 mg/L     0.286687\n",
       "총질소 mg/L       0.270810\n",
       "총인 mg/L        0.282772\n",
       "클로로필-a mg/㎥    0.235615\n",
       "상류수위(EL.m)     0.000316\n",
       "방류량(㎥/s)       0.000316\n",
       "dtype: float64"
      ]
     },
     "execution_count": 38,
     "metadata": {},
     "output_type": "execute_result"
    }
   ],
   "source": [
    "scb_data.isnull().sum() /len(scb_data)"
   ]
  },
  {
   "cell_type": "code",
   "execution_count": 39,
   "id": "e39aea47",
   "metadata": {},
   "outputs": [
    {
     "data": {
      "text/plain": [
       "82257"
      ]
     },
     "execution_count": 39,
     "metadata": {},
     "output_type": "execute_result"
    }
   ],
   "source": [
    "len(scb_data)"
   ]
  },
  {
   "cell_type": "markdown",
   "id": "4d1d707c",
   "metadata": {},
   "source": [
    "시간데이터 추가"
   ]
  },
  {
   "cell_type": "code",
   "execution_count": 40,
   "id": "13a59b55",
   "metadata": {},
   "outputs": [],
   "source": [
    "scb_df = scb_data.copy()"
   ]
  },
  {
   "cell_type": "code",
   "execution_count": 41,
   "id": "97536231",
   "metadata": {},
   "outputs": [
    {
     "data": {
      "text/plain": [
       "Index(['측정일/월', '측정소명', '수온 ℃', '수소이온농도', '전기전도도 μS/cm', '용존산소 mg/L',\n",
       "       '총유기탄소 mg/L', '총질소 mg/L', '총인 mg/L', '클로로필-a mg/㎥', '상류수위(EL.m)',\n",
       "       '방류량(㎥/s)'],\n",
       "      dtype='object')"
      ]
     },
     "execution_count": 41,
     "metadata": {},
     "output_type": "execute_result"
    }
   ],
   "source": [
    "scb_df.columns"
   ]
  },
  {
   "cell_type": "code",
   "execution_count": 42,
   "id": "7741d9ca",
   "metadata": {},
   "outputs": [],
   "source": [
    "col_c = list(scb_df.columns.copy())\n",
    "col_c.remove('클로로필-a mg/㎥')"
   ]
  },
  {
   "cell_type": "code",
   "execution_count": 43,
   "id": "7ee7aa2c",
   "metadata": {},
   "outputs": [
    {
     "data": {
      "text/plain": [
       "['측정일/월',\n",
       " '측정소명',\n",
       " '수온 ℃',\n",
       " '수소이온농도',\n",
       " '전기전도도 μS/cm',\n",
       " '용존산소 mg/L',\n",
       " '총유기탄소 mg/L',\n",
       " '총질소 mg/L',\n",
       " '총인 mg/L',\n",
       " '상류수위(EL.m)',\n",
       " '방류량(㎥/s)']"
      ]
     },
     "execution_count": 43,
     "metadata": {},
     "output_type": "execute_result"
    }
   ],
   "source": [
    "col_c"
   ]
  },
  {
   "cell_type": "markdown",
   "id": "03ff68eb",
   "metadata": {},
   "source": [
    "결측치 보간법"
   ]
  },
  {
   "cell_type": "code",
   "execution_count": 47,
   "id": "d3a50644",
   "metadata": {},
   "outputs": [],
   "source": [
    "from datetime import datetime"
   ]
  },
  {
   "cell_type": "code",
   "execution_count": 48,
   "id": "3d25efc0",
   "metadata": {},
   "outputs": [],
   "source": [
    "scb_df1 = scb_df.copy()"
   ]
  },
  {
   "cell_type": "code",
   "execution_count": 49,
   "id": "55f51afd",
   "metadata": {},
   "outputs": [],
   "source": [
    "scb_df1['측정일/월'] = scb_df1['측정일/월'].transform(lambda x: datetime.strptime(x[:-1], '%Y-%m-%d %H'))"
   ]
  },
  {
   "cell_type": "code",
   "execution_count": 50,
   "id": "d6af8329",
   "metadata": {},
   "outputs": [
    {
     "data": {
      "text/html": [
       "<div>\n",
       "<style scoped>\n",
       "    .dataframe tbody tr th:only-of-type {\n",
       "        vertical-align: middle;\n",
       "    }\n",
       "\n",
       "    .dataframe tbody tr th {\n",
       "        vertical-align: top;\n",
       "    }\n",
       "\n",
       "    .dataframe thead th {\n",
       "        text-align: right;\n",
       "    }\n",
       "</style>\n",
       "<table border=\"1\" class=\"dataframe\">\n",
       "  <thead>\n",
       "    <tr style=\"text-align: right;\">\n",
       "      <th></th>\n",
       "      <th>측정일/월</th>\n",
       "      <th>측정소명</th>\n",
       "      <th>수온 ℃</th>\n",
       "      <th>수소이온농도</th>\n",
       "      <th>전기전도도 μS/cm</th>\n",
       "      <th>용존산소 mg/L</th>\n",
       "      <th>총유기탄소 mg/L</th>\n",
       "      <th>총질소 mg/L</th>\n",
       "      <th>총인 mg/L</th>\n",
       "      <th>클로로필-a mg/㎥</th>\n",
       "      <th>상류수위(EL.m)</th>\n",
       "      <th>방류량(㎥/s)</th>\n",
       "    </tr>\n",
       "  </thead>\n",
       "  <tbody>\n",
       "    <tr>\n",
       "      <th>0</th>\n",
       "      <td>2013-01-01 00:00:00</td>\n",
       "      <td>용봉</td>\n",
       "      <td>3.9</td>\n",
       "      <td>6.9</td>\n",
       "      <td>374.0</td>\n",
       "      <td>11.4</td>\n",
       "      <td>2.5</td>\n",
       "      <td>NaN</td>\n",
       "      <td>NaN</td>\n",
       "      <td>7.2</td>\n",
       "      <td>7.50</td>\n",
       "      <td>19.748333</td>\n",
       "    </tr>\n",
       "    <tr>\n",
       "      <th>1</th>\n",
       "      <td>2013-01-01 01:00:00</td>\n",
       "      <td>용봉</td>\n",
       "      <td>3.9</td>\n",
       "      <td>6.9</td>\n",
       "      <td>375.0</td>\n",
       "      <td>11.4</td>\n",
       "      <td>2.5</td>\n",
       "      <td>NaN</td>\n",
       "      <td>NaN</td>\n",
       "      <td>6.9</td>\n",
       "      <td>7.50</td>\n",
       "      <td>19.706667</td>\n",
       "    </tr>\n",
       "    <tr>\n",
       "      <th>2</th>\n",
       "      <td>2013-01-01 02:00:00</td>\n",
       "      <td>용봉</td>\n",
       "      <td>4.0</td>\n",
       "      <td>6.9</td>\n",
       "      <td>374.0</td>\n",
       "      <td>11.4</td>\n",
       "      <td>2.5</td>\n",
       "      <td>NaN</td>\n",
       "      <td>NaN</td>\n",
       "      <td>6.8</td>\n",
       "      <td>7.50</td>\n",
       "      <td>19.723333</td>\n",
       "    </tr>\n",
       "    <tr>\n",
       "      <th>3</th>\n",
       "      <td>2013-01-01 03:00:00</td>\n",
       "      <td>용봉</td>\n",
       "      <td>4.1</td>\n",
       "      <td>6.9</td>\n",
       "      <td>375.0</td>\n",
       "      <td>11.4</td>\n",
       "      <td>2.5</td>\n",
       "      <td>NaN</td>\n",
       "      <td>NaN</td>\n",
       "      <td>6.9</td>\n",
       "      <td>7.50</td>\n",
       "      <td>19.610000</td>\n",
       "    </tr>\n",
       "    <tr>\n",
       "      <th>4</th>\n",
       "      <td>2013-01-01 04:00:00</td>\n",
       "      <td>용봉</td>\n",
       "      <td>4.0</td>\n",
       "      <td>6.9</td>\n",
       "      <td>380.0</td>\n",
       "      <td>11.3</td>\n",
       "      <td>2.6</td>\n",
       "      <td>NaN</td>\n",
       "      <td>NaN</td>\n",
       "      <td>6.9</td>\n",
       "      <td>7.50</td>\n",
       "      <td>19.665000</td>\n",
       "    </tr>\n",
       "    <tr>\n",
       "      <th>...</th>\n",
       "      <td>...</td>\n",
       "      <td>...</td>\n",
       "      <td>...</td>\n",
       "      <td>...</td>\n",
       "      <td>...</td>\n",
       "      <td>...</td>\n",
       "      <td>...</td>\n",
       "      <td>...</td>\n",
       "      <td>...</td>\n",
       "      <td>...</td>\n",
       "      <td>...</td>\n",
       "      <td>...</td>\n",
       "    </tr>\n",
       "    <tr>\n",
       "      <th>82252</th>\n",
       "      <td>2022-05-23 19:00:00</td>\n",
       "      <td>용봉</td>\n",
       "      <td>26.6</td>\n",
       "      <td>6.9</td>\n",
       "      <td>419.0</td>\n",
       "      <td>NaN</td>\n",
       "      <td>6.7</td>\n",
       "      <td>5.825</td>\n",
       "      <td>0.108</td>\n",
       "      <td>66.2</td>\n",
       "      <td>5.44</td>\n",
       "      <td>12.766667</td>\n",
       "    </tr>\n",
       "    <tr>\n",
       "      <th>82253</th>\n",
       "      <td>2022-05-23 20:00:00</td>\n",
       "      <td>용봉</td>\n",
       "      <td>26.3</td>\n",
       "      <td>6.8</td>\n",
       "      <td>425.0</td>\n",
       "      <td>NaN</td>\n",
       "      <td>6.5</td>\n",
       "      <td>5.803</td>\n",
       "      <td>0.107</td>\n",
       "      <td>61.2</td>\n",
       "      <td>5.44</td>\n",
       "      <td>12.786667</td>\n",
       "    </tr>\n",
       "    <tr>\n",
       "      <th>82254</th>\n",
       "      <td>2022-05-23 21:00:00</td>\n",
       "      <td>용봉</td>\n",
       "      <td>25.9</td>\n",
       "      <td>6.8</td>\n",
       "      <td>417.0</td>\n",
       "      <td>NaN</td>\n",
       "      <td>6.7</td>\n",
       "      <td>5.909</td>\n",
       "      <td>0.107</td>\n",
       "      <td>58.3</td>\n",
       "      <td>5.44</td>\n",
       "      <td>12.743333</td>\n",
       "    </tr>\n",
       "    <tr>\n",
       "      <th>82255</th>\n",
       "      <td>2022-05-23 22:00:00</td>\n",
       "      <td>용봉</td>\n",
       "      <td>25.7</td>\n",
       "      <td>6.8</td>\n",
       "      <td>420.0</td>\n",
       "      <td>NaN</td>\n",
       "      <td>6.4</td>\n",
       "      <td>5.921</td>\n",
       "      <td>0.106</td>\n",
       "      <td>54.4</td>\n",
       "      <td>5.44</td>\n",
       "      <td>12.700000</td>\n",
       "    </tr>\n",
       "    <tr>\n",
       "      <th>82256</th>\n",
       "      <td>2022-05-23 23:00:00</td>\n",
       "      <td>용봉</td>\n",
       "      <td>25.5</td>\n",
       "      <td>6.8</td>\n",
       "      <td>411.0</td>\n",
       "      <td>NaN</td>\n",
       "      <td>6.4</td>\n",
       "      <td>5.818</td>\n",
       "      <td>0.106</td>\n",
       "      <td>52.3</td>\n",
       "      <td>5.44</td>\n",
       "      <td>12.770000</td>\n",
       "    </tr>\n",
       "  </tbody>\n",
       "</table>\n",
       "<p>82257 rows × 12 columns</p>\n",
       "</div>"
      ],
      "text/plain": [
       "                    측정일/월 측정소명  수온 ℃  수소이온농도  전기전도도 μS/cm  용존산소 mg/L  \\\n",
       "0     2013-01-01 00:00:00   용봉   3.9     6.9        374.0       11.4   \n",
       "1     2013-01-01 01:00:00   용봉   3.9     6.9        375.0       11.4   \n",
       "2     2013-01-01 02:00:00   용봉   4.0     6.9        374.0       11.4   \n",
       "3     2013-01-01 03:00:00   용봉   4.1     6.9        375.0       11.4   \n",
       "4     2013-01-01 04:00:00   용봉   4.0     6.9        380.0       11.3   \n",
       "...                   ...  ...   ...     ...          ...        ...   \n",
       "82252 2022-05-23 19:00:00   용봉  26.6     6.9        419.0        NaN   \n",
       "82253 2022-05-23 20:00:00   용봉  26.3     6.8        425.0        NaN   \n",
       "82254 2022-05-23 21:00:00   용봉  25.9     6.8        417.0        NaN   \n",
       "82255 2022-05-23 22:00:00   용봉  25.7     6.8        420.0        NaN   \n",
       "82256 2022-05-23 23:00:00   용봉  25.5     6.8        411.0        NaN   \n",
       "\n",
       "       총유기탄소 mg/L  총질소 mg/L  총인 mg/L  클로로필-a mg/㎥  상류수위(EL.m)   방류량(㎥/s)  \n",
       "0             2.5       NaN      NaN          7.2        7.50  19.748333  \n",
       "1             2.5       NaN      NaN          6.9        7.50  19.706667  \n",
       "2             2.5       NaN      NaN          6.8        7.50  19.723333  \n",
       "3             2.5       NaN      NaN          6.9        7.50  19.610000  \n",
       "4             2.6       NaN      NaN          6.9        7.50  19.665000  \n",
       "...           ...       ...      ...          ...         ...        ...  \n",
       "82252         6.7     5.825    0.108         66.2        5.44  12.766667  \n",
       "82253         6.5     5.803    0.107         61.2        5.44  12.786667  \n",
       "82254         6.7     5.909    0.107         58.3        5.44  12.743333  \n",
       "82255         6.4     5.921    0.106         54.4        5.44  12.700000  \n",
       "82256         6.4     5.818    0.106         52.3        5.44  12.770000  \n",
       "\n",
       "[82257 rows x 12 columns]"
      ]
     },
     "execution_count": 50,
     "metadata": {},
     "output_type": "execute_result"
    }
   ],
   "source": [
    "scb_df1"
   ]
  },
  {
   "cell_type": "code",
   "execution_count": 51,
   "id": "603c9520",
   "metadata": {},
   "outputs": [],
   "source": [
    "scb_df1 = scb_df1.copy().set_index('측정일/월').interpolate(method='time')"
   ]
  },
  {
   "cell_type": "code",
   "execution_count": 53,
   "id": "40a22c1d",
   "metadata": {},
   "outputs": [
    {
     "name": "stdout",
     "output_type": "stream",
     "text": [
      "<class 'pandas.core.frame.DataFrame'>\n",
      "DatetimeIndex: 82257 entries, 2013-01-01 00:00:00 to 2022-05-23 23:00:00\n",
      "Data columns (total 11 columns):\n",
      " #   Column       Non-Null Count  Dtype  \n",
      "---  ------       --------------  -----  \n",
      " 0   측정소명         82257 non-null  object \n",
      " 1   수온 ℃         82257 non-null  float64\n",
      " 2   수소이온농도       82257 non-null  float64\n",
      " 3   전기전도도 μS/cm  82257 non-null  float64\n",
      " 4   용존산소 mg/L    82257 non-null  float64\n",
      " 5   총유기탄소 mg/L   82257 non-null  float64\n",
      " 6   총질소 mg/L     80154 non-null  float64\n",
      " 7   총인 mg/L      80154 non-null  float64\n",
      " 8   클로로필-a mg/㎥  82257 non-null  float64\n",
      " 9   상류수위(EL.m)   82257 non-null  float64\n",
      " 10  방류량(㎥/s)     82257 non-null  float64\n",
      "dtypes: float64(10), object(1)\n",
      "memory usage: 7.5+ MB\n"
     ]
    }
   ],
   "source": [
    "scb_df1.info()"
   ]
  },
  {
   "cell_type": "code",
   "execution_count": 54,
   "id": "d7bff880",
   "metadata": {},
   "outputs": [],
   "source": [
    "scb_df1 = scb_df1.dropna()"
   ]
  },
  {
   "cell_type": "code",
   "execution_count": 55,
   "id": "706d67b3",
   "metadata": {},
   "outputs": [
    {
     "data": {
      "text/plain": [
       "80154"
      ]
     },
     "execution_count": 55,
     "metadata": {},
     "output_type": "execute_result"
    }
   ],
   "source": [
    "scb_df1.__len__()"
   ]
  },
  {
   "cell_type": "code",
   "execution_count": 62,
   "id": "5f390c10",
   "metadata": {},
   "outputs": [
    {
     "data": {
      "text/plain": [
       "Index(['측정소명', '수온 ℃', '수소이온농도', '전기전도도 μS/cm', '용존산소 mg/L', '총유기탄소 mg/L',\n",
       "       '총질소 mg/L', '총인 mg/L', '클로로필-a mg/㎥', '상류수위(EL.m)', '방류량(㎥/s)'],\n",
       "      dtype='object')"
      ]
     },
     "execution_count": 62,
     "metadata": {},
     "output_type": "execute_result"
    }
   ],
   "source": [
    "scb_df1.columns"
   ]
  },
  {
   "cell_type": "code",
   "execution_count": 70,
   "id": "a6c11321",
   "metadata": {},
   "outputs": [
    {
     "name": "stdout",
     "output_type": "stream",
     "text": [
      "['수온 ℃', '수소이온농도', '전기전도도 μS/cm', '용존산소 mg/L', '총유기탄소 mg/L', '총질소 mg/L', '총인 mg/L', '클로로필-a mg/㎥', '상류수위(EL.m)', '방류량(㎥/s)']\n"
     ]
    }
   ],
   "source": [
    "col = list(scb_df1.columns[1:])\n",
    "print(col)"
   ]
  },
  {
   "cell_type": "code",
   "execution_count": 71,
   "id": "c993891d",
   "metadata": {},
   "outputs": [],
   "source": [
    "target_feature = '클로로필-a mg/㎥'"
   ]
  },
  {
   "cell_type": "code",
   "execution_count": 72,
   "id": "b4ca5757",
   "metadata": {},
   "outputs": [
    {
     "name": "stdout",
     "output_type": "stream",
     "text": [
      "['수온 ℃', '수소이온농도', '전기전도도 μS/cm', '용존산소 mg/L', '총유기탄소 mg/L', '총질소 mg/L', '총인 mg/L', '상류수위(EL.m)', '방류량(㎥/s)']\n"
     ]
    }
   ],
   "source": [
    "col_v = col.copy()\n",
    "col_v.remove(target_feature)\n",
    "print(col_v)"
   ]
  },
  {
   "cell_type": "markdown",
   "id": "ca3fb400",
   "metadata": {},
   "source": [
    "**시계열 데이터로 전처리**"
   ]
  },
  {
   "cell_type": "markdown",
   "id": "6a2c1b9f",
   "metadata": {},
   "source": [
    "날짜별로 정렬"
   ]
  },
  {
   "cell_type": "code",
   "execution_count": 66,
   "id": "4b41b3d2",
   "metadata": {},
   "outputs": [],
   "source": [
    "scb_df1 = scb_df1.sort_index()"
   ]
  },
  {
   "cell_type": "markdown",
   "id": "6b7dc0a4",
   "metadata": {},
   "source": [
    "훈련셋, 검증셋, 테스트셋 지정"
   ]
  },
  {
   "cell_type": "code",
   "execution_count": 67,
   "id": "e3a3f253",
   "metadata": {},
   "outputs": [],
   "source": [
    "train_size = int(scb_df1.shape[0] * 0.7)\n",
    "val_size = int(scb_df1.shape[0] * 0.2)"
   ]
  },
  {
   "cell_type": "markdown",
   "id": "e707515f",
   "metadata": {},
   "source": [
    "- 훈련셋"
   ]
  },
  {
   "cell_type": "code",
   "execution_count": 74,
   "id": "9827371b",
   "metadata": {},
   "outputs": [],
   "source": [
    "train_set = scb_df1[col_v][:train_size]\n",
    "train_targets = scb_df1[target_feature][:train_size]"
   ]
  },
  {
   "cell_type": "markdown",
   "id": "a7edfb21",
   "metadata": {},
   "source": [
    "- 검증셋"
   ]
  },
  {
   "cell_type": "code",
   "execution_count": 76,
   "id": "737fa05f",
   "metadata": {},
   "outputs": [],
   "source": [
    "val_set = scb_df1[col_v][train_size : train_size+val_size]\n",
    "val_targets = scb_df1[target_feature][train_size : train_size+val_size]"
   ]
  },
  {
   "cell_type": "markdown",
   "id": "951d532c",
   "metadata": {},
   "source": [
    "- 검증셋"
   ]
  },
  {
   "cell_type": "code",
   "execution_count": 77,
   "id": "1f67d621",
   "metadata": {},
   "outputs": [],
   "source": [
    "test_set = scb_df1[col_v][train_size+val_size:]\n",
    "test_targets = scb_df1[target_feature][train_size+val_size:]"
   ]
  },
  {
   "cell_type": "markdown",
   "id": "ccc4e6e1",
   "metadata": {},
   "source": [
    "시계열 데이터로 변환"
   ]
  },
  {
   "cell_type": "code",
   "execution_count": 78,
   "id": "b0550d22",
   "metadata": {},
   "outputs": [],
   "source": [
    "import tensorflow as tf"
   ]
  },
  {
   "cell_type": "markdown",
   "id": "ea5c2194",
   "metadata": {},
   "source": [
    "시계열 데이터 샘플을 `sequence_length` 만큼의 타임 스텝(time step)로\n",
    "구성한다.\n",
    "예측값은 미래가 아닌 현재의 클로로필-A 수치로 지정한다.\n",
    "\n",
    "- 배치 크기: 32\n",
    "- 공정한 훈련을 위해 구성된 시계열 샘플을 뒤섞는다."
   ]
  },
  {
   "cell_type": "code",
   "execution_count": 79,
   "id": "7bcfbfb3",
   "metadata": {},
   "outputs": [],
   "source": [
    "sequence_length=72  # 타임 스텝 크기\n",
    "\n",
    "train_dataset = tf.keras.utils.timeseries_dataset_from_array(\n",
    "    train_set,\n",
    "    targets=train_targets[sequence_length-1:],\n",
    "    sequence_length=sequence_length,\n",
    "    shuffle=True,\n",
    "    batch_size=32)\n",
    "\n",
    "val_dataset = tf.keras.utils.timeseries_dataset_from_array(\n",
    "    val_set,\n",
    "    targets=val_targets[sequence_length-1:],\n",
    "    sequence_length=sequence_length,\n",
    "    shuffle=True,\n",
    "    batch_size=32)\n",
    "\n",
    "test_dataset = tf.keras.utils.timeseries_dataset_from_array(\n",
    "    test_set,\n",
    "    targets=test_targets[sequence_length-1:],\n",
    "    sequence_length=sequence_length,\n",
    "    shuffle=True,\n",
    "    batch_size=32)"
   ]
  },
  {
   "cell_type": "markdown",
   "id": "9a90b283",
   "metadata": {},
   "source": [
    "입력 데이터셋의 배치의 모양은 `(32, 72, 9)`이다."
   ]
  },
  {
   "cell_type": "code",
   "execution_count": 80,
   "id": "9a8895ae",
   "metadata": {},
   "outputs": [
    {
     "name": "stdout",
     "output_type": "stream",
     "text": [
      "samples shape: (32, 72, 9)\n",
      "targets shape: (32,)\n"
     ]
    }
   ],
   "source": [
    "for samples, targets in train_dataset:\n",
    "    print(\"samples shape:\", samples.shape)\n",
    "    print(\"targets shape:\", targets.shape)\n",
    "    break"
   ]
  },
  {
   "cell_type": "markdown",
   "id": "101f2624",
   "metadata": {},
   "source": [
    "**케라스 활용**"
   ]
  },
  {
   "cell_type": "code",
   "execution_count": 81,
   "id": "bdcd30e8",
   "metadata": {},
   "outputs": [],
   "source": [
    "from tensorflow import keras\n",
    "from tensorflow.keras import layers"
   ]
  },
  {
   "cell_type": "markdown",
   "id": "c486e5c1",
   "metadata": {},
   "source": [
    "**`Dense` 모델 사용**"
   ]
  },
  {
   "cell_type": "markdown",
   "id": "19dae37c",
   "metadata": {},
   "source": [
    "타임시리즈로 구성된 샘플을 1차원 텐서로 푼 다음에 `Dense` 모델을 적용해본다."
   ]
  },
  {
   "cell_type": "code",
   "execution_count": 84,
   "id": "1ad7c017",
   "metadata": {},
   "outputs": [
    {
     "name": "stdout",
     "output_type": "stream",
     "text": [
      "Epoch 1/100\n",
      "1752/1752 [==============================] - 6s 3ms/step - loss: 4881.8154 - mae: 34.7810 - val_loss: 1054.2013 - val_mae: 26.1185\n",
      "Epoch 2/100\n",
      "1752/1752 [==============================] - 5s 3ms/step - loss: 619.7990 - mae: 18.0452 - val_loss: 993.0393 - val_mae: 23.7847\n",
      "Epoch 3/100\n",
      "1752/1752 [==============================] - 4s 3ms/step - loss: 567.6293 - mae: 17.1500 - val_loss: 1485.4109 - val_mae: 28.5682\n",
      "Epoch 4/100\n",
      "1752/1752 [==============================] - 4s 3ms/step - loss: 535.9996 - mae: 16.5574 - val_loss: 1326.5981 - val_mae: 29.3600\n",
      "Epoch 5/100\n",
      "1752/1752 [==============================] - 5s 3ms/step - loss: 519.4167 - mae: 16.2488 - val_loss: 1392.9696 - val_mae: 26.6217\n",
      "Epoch 6/100\n",
      "1752/1752 [==============================] - 5s 3ms/step - loss: 506.2576 - mae: 16.0000 - val_loss: 1020.5278 - val_mae: 24.7464\n",
      "Epoch 7/100\n",
      "1752/1752 [==============================] - 5s 3ms/step - loss: 494.6244 - mae: 15.8200 - val_loss: 1334.8397 - val_mae: 28.6748\n",
      "Epoch 8/100\n",
      "1752/1752 [==============================] - 4s 3ms/step - loss: 488.5743 - mae: 15.7208 - val_loss: 1043.6686 - val_mae: 24.7067\n",
      "Epoch 9/100\n",
      "1752/1752 [==============================] - 5s 3ms/step - loss: 479.9223 - mae: 15.5798 - val_loss: 991.3671 - val_mae: 23.9342\n",
      "Epoch 10/100\n",
      "1752/1752 [==============================] - 4s 3ms/step - loss: 470.1738 - mae: 15.3685 - val_loss: 1145.9229 - val_mae: 26.1006\n",
      "Epoch 11/100\n",
      "1752/1752 [==============================] - 5s 3ms/step - loss: 470.5040 - mae: 15.3066 - val_loss: 1120.6902 - val_mae: 26.0088\n",
      "Epoch 12/100\n",
      "1752/1752 [==============================] - 4s 3ms/step - loss: 468.2206 - mae: 15.2424 - val_loss: 1717.2596 - val_mae: 27.5879\n",
      "Epoch 13/100\n",
      "1752/1752 [==============================] - 4s 3ms/step - loss: 461.9400 - mae: 15.1338 - val_loss: 1771.3242 - val_mae: 27.6073\n",
      "Epoch 14/100\n",
      "1752/1752 [==============================] - 5s 3ms/step - loss: 460.4828 - mae: 15.0458 - val_loss: 1501.9951 - val_mae: 27.9186\n",
      "Epoch 15/100\n",
      "1752/1752 [==============================] - 5s 3ms/step - loss: 458.3997 - mae: 15.0055 - val_loss: 1663.6946 - val_mae: 31.9163\n",
      "Epoch 16/100\n",
      "1752/1752 [==============================] - 5s 3ms/step - loss: 461.3900 - mae: 14.9576 - val_loss: 1535.7168 - val_mae: 28.4844\n",
      "Epoch 17/100\n",
      "1752/1752 [==============================] - 5s 3ms/step - loss: 457.9432 - mae: 14.8307 - val_loss: 1380.9728 - val_mae: 26.4299\n",
      "Epoch 18/100\n",
      "1752/1752 [==============================] - 5s 3ms/step - loss: 454.5265 - mae: 14.8286 - val_loss: 1361.9613 - val_mae: 26.7372\n",
      "Epoch 19/100\n",
      "1752/1752 [==============================] - 4s 3ms/step - loss: 456.6419 - mae: 14.7705 - val_loss: 1133.0312 - val_mae: 25.1517\n",
      "Epoch 20/100\n",
      "1752/1752 [==============================] - 5s 3ms/step - loss: 451.2516 - mae: 14.7179 - val_loss: 1376.5732 - val_mae: 29.1698\n",
      "Epoch 21/100\n",
      "1752/1752 [==============================] - 4s 3ms/step - loss: 447.9558 - mae: 14.6768 - val_loss: 1282.7955 - val_mae: 28.1514\n",
      "Epoch 22/100\n",
      "1752/1752 [==============================] - 5s 3ms/step - loss: 451.7556 - mae: 14.6459 - val_loss: 1466.3153 - val_mae: 30.8138\n",
      "Epoch 23/100\n",
      "1752/1752 [==============================] - 4s 3ms/step - loss: 454.7445 - mae: 14.5894 - val_loss: 1349.5575 - val_mae: 26.8954\n",
      "Epoch 24/100\n",
      "1752/1752 [==============================] - 5s 3ms/step - loss: 450.3663 - mae: 14.5543 - val_loss: 1290.4504 - val_mae: 26.5041\n",
      "Epoch 25/100\n",
      "1752/1752 [==============================] - 4s 3ms/step - loss: 441.7299 - mae: 14.5164 - val_loss: 1313.9348 - val_mae: 26.8529\n",
      "Epoch 26/100\n",
      "1752/1752 [==============================] - 5s 3ms/step - loss: 440.8773 - mae: 14.5153 - val_loss: 1113.0956 - val_mae: 26.3739\n",
      "Epoch 27/100\n",
      "1752/1752 [==============================] - 5s 3ms/step - loss: 435.1164 - mae: 14.4494 - val_loss: 1483.0928 - val_mae: 27.7531\n",
      "Epoch 28/100\n",
      "1752/1752 [==============================] - 5s 3ms/step - loss: 432.1821 - mae: 14.4382 - val_loss: 1350.3690 - val_mae: 28.0170\n",
      "Epoch 29/100\n",
      "1752/1752 [==============================] - 4s 3ms/step - loss: 429.9620 - mae: 14.3779 - val_loss: 1474.8590 - val_mae: 28.3139\n",
      "Epoch 30/100\n",
      "1752/1752 [==============================] - 5s 3ms/step - loss: 429.4193 - mae: 14.3547 - val_loss: 1500.1351 - val_mae: 28.3451\n",
      "Epoch 31/100\n",
      "1752/1752 [==============================] - 4s 3ms/step - loss: 426.8915 - mae: 14.3086 - val_loss: 1192.2240 - val_mae: 27.2623\n",
      "Epoch 32/100\n",
      "1752/1752 [==============================] - 5s 3ms/step - loss: 425.1189 - mae: 14.2986 - val_loss: 1410.1104 - val_mae: 29.0515\n",
      "Epoch 33/100\n",
      "1752/1752 [==============================] - 5s 3ms/step - loss: 419.4032 - mae: 14.2326 - val_loss: 1325.0951 - val_mae: 28.7331\n",
      "Epoch 34/100\n",
      "1752/1752 [==============================] - 5s 3ms/step - loss: 420.2646 - mae: 14.2249 - val_loss: 1272.1586 - val_mae: 27.2039\n",
      "Epoch 35/100\n",
      "1752/1752 [==============================] - 5s 3ms/step - loss: 419.5441 - mae: 14.1790 - val_loss: 1281.2076 - val_mae: 28.8320\n",
      "Epoch 36/100\n",
      "1752/1752 [==============================] - 5s 3ms/step - loss: 417.0891 - mae: 14.1700 - val_loss: 1350.5298 - val_mae: 27.6666\n",
      "Epoch 37/100\n",
      "1752/1752 [==============================] - 5s 3ms/step - loss: 417.7519 - mae: 14.1624 - val_loss: 1176.3932 - val_mae: 26.2772\n",
      "Epoch 38/100\n",
      "1752/1752 [==============================] - 5s 3ms/step - loss: 417.8308 - mae: 14.1106 - val_loss: 1306.0638 - val_mae: 28.0758\n",
      "Epoch 39/100\n",
      "1752/1752 [==============================] - 4s 3ms/step - loss: 411.2703 - mae: 14.0834 - val_loss: 1363.4733 - val_mae: 27.9531\n",
      "Epoch 40/100\n",
      "1752/1752 [==============================] - 5s 3ms/step - loss: 412.0936 - mae: 14.0699 - val_loss: 1383.6512 - val_mae: 28.2037\n",
      "Epoch 41/100\n",
      "1752/1752 [==============================] - 5s 3ms/step - loss: 411.5181 - mae: 14.0382 - val_loss: 1871.5671 - val_mae: 32.7319\n",
      "Epoch 42/100\n",
      "1752/1752 [==============================] - 5s 3ms/step - loss: 410.4870 - mae: 14.0413 - val_loss: 1342.1010 - val_mae: 27.4577\n",
      "Epoch 43/100\n",
      "1752/1752 [==============================] - 5s 3ms/step - loss: 409.7631 - mae: 14.0035 - val_loss: 1207.9989 - val_mae: 27.5533\n",
      "Epoch 44/100\n",
      "1752/1752 [==============================] - 5s 3ms/step - loss: 406.2043 - mae: 13.9780 - val_loss: 1325.9152 - val_mae: 27.0008\n",
      "Epoch 45/100\n",
      "1752/1752 [==============================] - 5s 3ms/step - loss: 404.2982 - mae: 13.9634 - val_loss: 1214.1277 - val_mae: 27.5292\n",
      "Epoch 46/100\n",
      "1752/1752 [==============================] - 5s 3ms/step - loss: 406.2704 - mae: 13.9831 - val_loss: 1286.5586 - val_mae: 28.9913\n",
      "Epoch 47/100\n",
      "1752/1752 [==============================] - 5s 3ms/step - loss: 406.0160 - mae: 13.9620 - val_loss: 1244.5730 - val_mae: 27.7356\n",
      "Epoch 48/100\n",
      "1752/1752 [==============================] - 5s 3ms/step - loss: 402.3206 - mae: 13.9210 - val_loss: 1208.9375 - val_mae: 27.1900\n",
      "Epoch 49/100\n",
      "1752/1752 [==============================] - 5s 3ms/step - loss: 403.2296 - mae: 13.9099 - val_loss: 1428.2881 - val_mae: 28.1379\n",
      "Epoch 50/100\n",
      "1752/1752 [==============================] - 5s 3ms/step - loss: 403.2461 - mae: 13.9197 - val_loss: 1358.2496 - val_mae: 29.5645\n",
      "Epoch 51/100\n",
      "1752/1752 [==============================] - 5s 3ms/step - loss: 402.8582 - mae: 13.8953 - val_loss: 1620.2379 - val_mae: 29.7216\n",
      "Epoch 52/100\n",
      "1752/1752 [==============================] - 5s 3ms/step - loss: 401.5869 - mae: 13.9001 - val_loss: 1867.0601 - val_mae: 31.8952\n",
      "Epoch 53/100\n",
      "1752/1752 [==============================] - 5s 3ms/step - loss: 401.9817 - mae: 13.8697 - val_loss: 1314.8265 - val_mae: 28.7360\n",
      "Epoch 54/100\n",
      "1752/1752 [==============================] - 5s 3ms/step - loss: 400.6783 - mae: 13.8456 - val_loss: 1538.8562 - val_mae: 29.8735\n",
      "Epoch 55/100\n",
      "1752/1752 [==============================] - 5s 3ms/step - loss: 400.7650 - mae: 13.8934 - val_loss: 1465.8850 - val_mae: 28.8225\n",
      "Epoch 56/100\n",
      "1752/1752 [==============================] - 5s 3ms/step - loss: 400.9115 - mae: 13.8472 - val_loss: 1373.5760 - val_mae: 29.7987\n",
      "Epoch 57/100\n",
      "1752/1752 [==============================] - 5s 3ms/step - loss: 397.9015 - mae: 13.8353 - val_loss: 1478.0919 - val_mae: 31.3807\n",
      "Epoch 58/100\n"
     ]
    },
    {
     "name": "stdout",
     "output_type": "stream",
     "text": [
      "1752/1752 [==============================] - 5s 3ms/step - loss: 396.2394 - mae: 13.8165 - val_loss: 1368.4290 - val_mae: 28.4109\n",
      "Epoch 59/100\n",
      "1752/1752 [==============================] - 5s 3ms/step - loss: 397.1551 - mae: 13.7841 - val_loss: 1355.2256 - val_mae: 29.7222\n",
      "Epoch 60/100\n",
      "1752/1752 [==============================] - 5s 3ms/step - loss: 393.8260 - mae: 13.7429 - val_loss: 1335.6476 - val_mae: 29.1872\n",
      "Epoch 61/100\n",
      "1752/1752 [==============================] - 5s 3ms/step - loss: 392.9634 - mae: 13.7614 - val_loss: 1465.2206 - val_mae: 29.7070\n",
      "Epoch 62/100\n",
      "1752/1752 [==============================] - 5s 3ms/step - loss: 394.1443 - mae: 13.7712 - val_loss: 1302.7238 - val_mae: 27.9062\n",
      "Epoch 63/100\n",
      "1752/1752 [==============================] - 5s 3ms/step - loss: 394.5410 - mae: 13.7560 - val_loss: 1304.3123 - val_mae: 28.0874\n",
      "Epoch 64/100\n",
      "1752/1752 [==============================] - 5s 3ms/step - loss: 391.5191 - mae: 13.7290 - val_loss: 1342.8896 - val_mae: 29.0846\n",
      "Epoch 65/100\n",
      "1752/1752 [==============================] - 5s 3ms/step - loss: 394.8909 - mae: 13.7238 - val_loss: 1553.7003 - val_mae: 29.9332\n",
      "Epoch 66/100\n",
      "1752/1752 [==============================] - 5s 3ms/step - loss: 393.3951 - mae: 13.7441 - val_loss: 1532.1082 - val_mae: 31.8063\n",
      "Epoch 67/100\n",
      "1752/1752 [==============================] - 5s 3ms/step - loss: 391.3921 - mae: 13.7204 - val_loss: 1429.6946 - val_mae: 28.3505\n",
      "Epoch 68/100\n",
      "1752/1752 [==============================] - 5s 3ms/step - loss: 388.0811 - mae: 13.6701 - val_loss: 1407.7206 - val_mae: 30.3465\n",
      "Epoch 69/100\n",
      "1752/1752 [==============================] - 5s 3ms/step - loss: 389.3309 - mae: 13.6778 - val_loss: 1348.1656 - val_mae: 28.1489\n",
      "Epoch 70/100\n",
      "1752/1752 [==============================] - 5s 3ms/step - loss: 390.9183 - mae: 13.6904 - val_loss: 1278.4316 - val_mae: 28.2988\n",
      "Epoch 71/100\n",
      "1752/1752 [==============================] - 5s 3ms/step - loss: 388.0512 - mae: 13.6535 - val_loss: 1299.2668 - val_mae: 28.6584\n",
      "Epoch 72/100\n",
      "1752/1752 [==============================] - 5s 3ms/step - loss: 386.2920 - mae: 13.6123 - val_loss: 1355.7097 - val_mae: 27.9642\n",
      "Epoch 73/100\n",
      "1752/1752 [==============================] - 5s 3ms/step - loss: 386.1732 - mae: 13.6120 - val_loss: 1337.7087 - val_mae: 29.0420\n",
      "Epoch 74/100\n",
      "1752/1752 [==============================] - 5s 3ms/step - loss: 386.8758 - mae: 13.6275 - val_loss: 1371.7269 - val_mae: 27.7770\n",
      "Epoch 75/100\n",
      "1752/1752 [==============================] - 5s 3ms/step - loss: 386.5731 - mae: 13.6458 - val_loss: 1378.0912 - val_mae: 27.6588\n",
      "Epoch 76/100\n",
      "1752/1752 [==============================] - 5s 3ms/step - loss: 385.5663 - mae: 13.6453 - val_loss: 1563.0880 - val_mae: 28.7531\n",
      "Epoch 77/100\n",
      "1752/1752 [==============================] - 5s 3ms/step - loss: 382.2526 - mae: 13.5611 - val_loss: 1410.5101 - val_mae: 29.5998\n",
      "Epoch 78/100\n",
      "1752/1752 [==============================] - 5s 3ms/step - loss: 383.4663 - mae: 13.5614 - val_loss: 1558.0367 - val_mae: 31.6639\n",
      "Epoch 79/100\n",
      "1752/1752 [==============================] - 5s 3ms/step - loss: 382.3266 - mae: 13.6006 - val_loss: 1553.9210 - val_mae: 29.6534\n",
      "Epoch 80/100\n",
      "1752/1752 [==============================] - 5s 3ms/step - loss: 382.4324 - mae: 13.5561 - val_loss: 1472.7994 - val_mae: 29.1863\n",
      "Epoch 81/100\n",
      "1752/1752 [==============================] - 5s 3ms/step - loss: 381.8123 - mae: 13.5381 - val_loss: 1490.2645 - val_mae: 29.3114\n",
      "Epoch 82/100\n",
      "1752/1752 [==============================] - 5s 3ms/step - loss: 384.3327 - mae: 13.5394 - val_loss: 1382.7881 - val_mae: 28.8073\n",
      "Epoch 83/100\n",
      "1752/1752 [==============================] - 5s 3ms/step - loss: 376.9896 - mae: 13.4756 - val_loss: 1414.3480 - val_mae: 28.1157\n",
      "Epoch 84/100\n",
      "1752/1752 [==============================] - 5s 3ms/step - loss: 381.3920 - mae: 13.5076 - val_loss: 1472.3832 - val_mae: 30.9314\n",
      "Epoch 85/100\n",
      "1752/1752 [==============================] - 5s 3ms/step - loss: 376.9256 - mae: 13.4602 - val_loss: 1548.8416 - val_mae: 29.6294\n",
      "Epoch 86/100\n",
      "1752/1752 [==============================] - 5s 3ms/step - loss: 376.9402 - mae: 13.4801 - val_loss: 1361.5710 - val_mae: 27.3351\n",
      "Epoch 87/100\n",
      "1752/1752 [==============================] - 5s 3ms/step - loss: 377.3148 - mae: 13.4619 - val_loss: 1391.8640 - val_mae: 28.8550\n",
      "Epoch 88/100\n",
      "1752/1752 [==============================] - 5s 3ms/step - loss: 376.6284 - mae: 13.4245 - val_loss: 1434.9531 - val_mae: 28.9243\n",
      "Epoch 89/100\n",
      "1752/1752 [==============================] - 5s 3ms/step - loss: 373.9881 - mae: 13.3853 - val_loss: 1396.0237 - val_mae: 27.9242\n",
      "Epoch 90/100\n",
      "1752/1752 [==============================] - 5s 3ms/step - loss: 375.1869 - mae: 13.3918 - val_loss: 1371.4198 - val_mae: 27.2955\n",
      "Epoch 91/100\n",
      "1752/1752 [==============================] - 5s 3ms/step - loss: 374.6142 - mae: 13.3760 - val_loss: 1377.9393 - val_mae: 27.7114\n",
      "Epoch 92/100\n",
      "1752/1752 [==============================] - 5s 3ms/step - loss: 374.3383 - mae: 13.3963 - val_loss: 1463.8691 - val_mae: 28.5287\n",
      "Epoch 93/100\n",
      "1752/1752 [==============================] - 5s 3ms/step - loss: 374.6327 - mae: 13.3890 - val_loss: 1467.2405 - val_mae: 29.1170\n",
      "Epoch 94/100\n",
      "1752/1752 [==============================] - 4s 3ms/step - loss: 372.7139 - mae: 13.3535 - val_loss: 1485.6755 - val_mae: 30.7514\n",
      "Epoch 95/100\n",
      "1752/1752 [==============================] - 5s 3ms/step - loss: 373.8836 - mae: 13.3618 - val_loss: 1722.5272 - val_mae: 31.2722\n",
      "Epoch 96/100\n",
      "1752/1752 [==============================] - 5s 3ms/step - loss: 371.4525 - mae: 13.3367 - val_loss: 1618.2794 - val_mae: 30.3261\n",
      "Epoch 97/100\n",
      "1752/1752 [==============================] - 5s 3ms/step - loss: 370.7844 - mae: 13.2910 - val_loss: 1440.0057 - val_mae: 27.6542\n",
      "Epoch 98/100\n",
      "1752/1752 [==============================] - 5s 3ms/step - loss: 368.9632 - mae: 13.3003 - val_loss: 1455.9932 - val_mae: 29.6984\n",
      "Epoch 99/100\n",
      "1752/1752 [==============================] - 5s 3ms/step - loss: 368.1659 - mae: 13.2848 - val_loss: 1389.1112 - val_mae: 29.3397\n",
      "Epoch 100/100\n",
      "1752/1752 [==============================] - 5s 3ms/step - loss: 371.0346 - mae: 13.3012 - val_loss: 1435.2395 - val_mae: 29.1431\n",
      "249/249 [==============================] - 0s 2ms/step - loss: 1228.2018 - mae: 26.6241\n",
      "Test MAE: 26.62\n"
     ]
    }
   ],
   "source": [
    "inputs = keras.Input(shape=(sequence_length, len(col)-1))\n",
    "x = layers.Flatten()(inputs)\n",
    "x = layers.Dense(1024, activation=\"relu\")(x)\n",
    "# x = layers.Dense(1024, activation=\"relu\")(x)\n",
    "# x = layers.Dense(1024, activation=\"relu\")(x)\n",
    "outputs = layers.Dense(1)(x)\n",
    "model = keras.Model(inputs, outputs)\n",
    "\n",
    "callbacks = [\n",
    "    keras.callbacks.ModelCheckpoint(\"seuncheonbo_dense.keras\",\n",
    "                                    save_best_only=True)\n",
    "] \n",
    "\n",
    "model.compile(optimizer=\"rmsprop\", loss=\"mse\", metrics=[\"mae\"])\n",
    "\n",
    "history = model.fit(train_dataset,\n",
    "                    epochs=100,\n",
    "                    validation_data=val_dataset,\n",
    "                    callbacks=callbacks)\n",
    "\n",
    "model = keras.models.load_model(\"seuncheonbo_dense.keras\")\n",
    "print(f\"Test MAE: {model.evaluate(test_dataset)[1]:.2f}\")"
   ]
  },
  {
   "cell_type": "code",
   "execution_count": null,
   "id": "8249a3fb",
   "metadata": {},
   "outputs": [],
   "source": []
  },
  {
   "cell_type": "code",
   "execution_count": null,
   "id": "958a41f1",
   "metadata": {},
   "outputs": [],
   "source": []
  },
  {
   "cell_type": "code",
   "execution_count": null,
   "id": "3540b1a5",
   "metadata": {},
   "outputs": [],
   "source": []
  },
  {
   "cell_type": "code",
   "execution_count": null,
   "id": "7a094273",
   "metadata": {},
   "outputs": [],
   "source": []
  },
  {
   "cell_type": "code",
   "execution_count": null,
   "id": "1c721a60",
   "metadata": {},
   "outputs": [],
   "source": []
  },
  {
   "cell_type": "markdown",
   "id": "76ed6bd8",
   "metadata": {},
   "source": [
    "피처 정규화 없이"
   ]
  },
  {
   "cell_type": "code",
   "execution_count": 124,
   "id": "d9cab61c",
   "metadata": {},
   "outputs": [],
   "source": [
    "X_train, X_test, y_train, y_test = train_test_split(scb_df.loc[:, col_v], scb_df['클로로필-a mg/㎥'], random_state=42)\n",
    "gb_reg = GradientBoostingRegressor(random_state=42)\n",
    "\n",
    "parameters = {'max_depth':[5], 'learning_rate':[0.05]}\n",
    "# parameters = {'max_depth':[5, 10, 15], 'learning_rate':[0.05, 0.1, 0.2]}"
   ]
  },
  {
   "cell_type": "code",
   "execution_count": 125,
   "id": "2679576d",
   "metadata": {},
   "outputs": [],
   "source": [
    "gb_grid = GridSearchCV(gb_reg, param_grid=parameters, cv=3, verbose=5)"
   ]
  },
  {
   "cell_type": "code",
   "execution_count": null,
   "id": "9bf00bfc",
   "metadata": {},
   "outputs": [
    {
     "name": "stdout",
     "output_type": "stream",
     "text": [
      "Fitting 3 folds for each of 1 candidates, totalling 3 fits\n"
     ]
    }
   ],
   "source": [
    "gb_grid.fit(X_train, np.log1p(y_train))"
   ]
  },
  {
   "cell_type": "code",
   "execution_count": null,
   "id": "aac5435c",
   "metadata": {},
   "outputs": [],
   "source": [
    "scores_df = pd.DataFrame(gb_grid.cv_results_)"
   ]
  },
  {
   "cell_type": "code",
   "execution_count": null,
   "id": "21ea33c2",
   "metadata": {},
   "outputs": [],
   "source": [
    "scores_df.sort_values(by=['rank_test_score'], inplace=True)\n",
    "scores_df[['params', 'mean_test_score', 'rank_test_score']].head()"
   ]
  },
  {
   "cell_type": "code",
   "execution_count": null,
   "id": "e3f68506",
   "metadata": {},
   "outputs": [],
   "source": [
    "gb_grid.best_params_"
   ]
  },
  {
   "cell_type": "code",
   "execution_count": null,
   "id": "5def039b",
   "metadata": {},
   "outputs": [],
   "source": [
    "estimator = gb_grid.best_estimator_"
   ]
  },
  {
   "cell_type": "code",
   "execution_count": null,
   "id": "fcef3a34",
   "metadata": {},
   "outputs": [],
   "source": [
    "pred = estimator.predict(X_test)"
   ]
  },
  {
   "cell_type": "code",
   "execution_count": null,
   "id": "bbea888b",
   "metadata": {},
   "outputs": [],
   "source": [
    "for score, name in zip(estimator.feature_importances_, col_v):\n",
    "    print(round(score, 2), name)"
   ]
  },
  {
   "cell_type": "code",
   "execution_count": null,
   "id": "dc00ce30",
   "metadata": {},
   "outputs": [],
   "source": [
    "feature_series = pd.Series(data = estimator.feature_importances_, index = col_v)\n",
    "feature_series = feature_series.sort_values(ascending = False)\n",
    "sns.barplot(x = feature_series[:10], y = feature_series.index[:10], color = 'gray')\n",
    "plt.show()"
   ]
  },
  {
   "cell_type": "code",
   "execution_count": null,
   "id": "10f7fb34",
   "metadata": {},
   "outputs": [],
   "source": [
    "feature_series[:10]"
   ]
  },
  {
   "cell_type": "code",
   "execution_count": null,
   "id": "ddc9b419",
   "metadata": {},
   "outputs": [],
   "source": [
    "print('score :', estimator.score(X_test, np.log1p(y_test)))"
   ]
  },
  {
   "cell_type": "markdown",
   "id": "8fe50766",
   "metadata": {},
   "source": [
    "피처 정규화"
   ]
  },
  {
   "cell_type": "code",
   "execution_count": 102,
   "id": "3f8fed5d",
   "metadata": {},
   "outputs": [],
   "source": [
    "scaler = StandardScaler()\n",
    "scaler.fit(scb_df.loc[:, col_v])\n",
    "scb_scaled = scaler.transform(scb_df.loc[:, col_v])\n",
    "\n",
    "scb_df_scaled = pd.DataFrame(data = scb_scaled, columns = col_v)"
   ]
  },
  {
   "cell_type": "code",
   "execution_count": 103,
   "id": "79e0f792",
   "metadata": {},
   "outputs": [
    {
     "data": {
      "text/html": [
       "<div>\n",
       "<style scoped>\n",
       "    .dataframe tbody tr th:only-of-type {\n",
       "        vertical-align: middle;\n",
       "    }\n",
       "\n",
       "    .dataframe tbody tr th {\n",
       "        vertical-align: top;\n",
       "    }\n",
       "\n",
       "    .dataframe thead th {\n",
       "        text-align: right;\n",
       "    }\n",
       "</style>\n",
       "<table border=\"1\" class=\"dataframe\">\n",
       "  <thead>\n",
       "    <tr style=\"text-align: right;\">\n",
       "      <th></th>\n",
       "      <th>수온 ℃</th>\n",
       "      <th>수소이온농도</th>\n",
       "      <th>전기전도도 μS/cm</th>\n",
       "      <th>용존산소 mg/L</th>\n",
       "      <th>총유기탄소 mg/L</th>\n",
       "      <th>총질소 mg/L</th>\n",
       "      <th>총인 mg/L</th>\n",
       "      <th>상류수위(EL.m)</th>\n",
       "      <th>방류량(㎥/s)</th>\n",
       "      <th>1shift수온 ℃</th>\n",
       "      <th>...</th>\n",
       "      <th>14shift방류량(㎥/s)</th>\n",
       "      <th>15shift방류량(㎥/s)</th>\n",
       "      <th>16shift방류량(㎥/s)</th>\n",
       "      <th>17shift방류량(㎥/s)</th>\n",
       "      <th>18shift방류량(㎥/s)</th>\n",
       "      <th>19shift방류량(㎥/s)</th>\n",
       "      <th>20shift방류량(㎥/s)</th>\n",
       "      <th>21shift방류량(㎥/s)</th>\n",
       "      <th>22shift방류량(㎥/s)</th>\n",
       "      <th>23shift방류량(㎥/s)</th>\n",
       "    </tr>\n",
       "  </thead>\n",
       "  <tbody>\n",
       "    <tr>\n",
       "      <th>0</th>\n",
       "      <td>-0.427326</td>\n",
       "      <td>-0.371733</td>\n",
       "      <td>-0.340571</td>\n",
       "      <td>-0.040054</td>\n",
       "      <td>-0.764456</td>\n",
       "      <td>0.562457</td>\n",
       "      <td>-0.287339</td>\n",
       "      <td>0.707264</td>\n",
       "      <td>-0.187245</td>\n",
       "      <td>-0.394638</td>\n",
       "      <td>...</td>\n",
       "      <td>-0.155523</td>\n",
       "      <td>-0.154998</td>\n",
       "      <td>-0.154939</td>\n",
       "      <td>-0.154516</td>\n",
       "      <td>-0.154268</td>\n",
       "      <td>-0.153962</td>\n",
       "      <td>-0.147550</td>\n",
       "      <td>-0.142059</td>\n",
       "      <td>-0.165705</td>\n",
       "      <td>-0.173869</td>\n",
       "    </tr>\n",
       "    <tr>\n",
       "      <th>1</th>\n",
       "      <td>-0.460002</td>\n",
       "      <td>-0.371733</td>\n",
       "      <td>-0.351920</td>\n",
       "      <td>0.012973</td>\n",
       "      <td>-0.764456</td>\n",
       "      <td>0.564473</td>\n",
       "      <td>-0.302015</td>\n",
       "      <td>0.712680</td>\n",
       "      <td>-0.175998</td>\n",
       "      <td>-0.427314</td>\n",
       "      <td>...</td>\n",
       "      <td>-0.155713</td>\n",
       "      <td>-0.155523</td>\n",
       "      <td>-0.154998</td>\n",
       "      <td>-0.154940</td>\n",
       "      <td>-0.154516</td>\n",
       "      <td>-0.154268</td>\n",
       "      <td>-0.153962</td>\n",
       "      <td>-0.147550</td>\n",
       "      <td>-0.142059</td>\n",
       "      <td>-0.165705</td>\n",
       "    </tr>\n",
       "    <tr>\n",
       "      <th>2</th>\n",
       "      <td>-0.486143</td>\n",
       "      <td>-0.371733</td>\n",
       "      <td>-0.340571</td>\n",
       "      <td>0.012973</td>\n",
       "      <td>-0.764456</td>\n",
       "      <td>0.623441</td>\n",
       "      <td>-0.316691</td>\n",
       "      <td>0.714846</td>\n",
       "      <td>-0.173676</td>\n",
       "      <td>-0.459990</td>\n",
       "      <td>...</td>\n",
       "      <td>-0.156414</td>\n",
       "      <td>-0.155713</td>\n",
       "      <td>-0.155524</td>\n",
       "      <td>-0.154998</td>\n",
       "      <td>-0.154940</td>\n",
       "      <td>-0.154517</td>\n",
       "      <td>-0.154268</td>\n",
       "      <td>-0.153962</td>\n",
       "      <td>-0.147550</td>\n",
       "      <td>-0.142059</td>\n",
       "    </tr>\n",
       "    <tr>\n",
       "      <th>3</th>\n",
       "      <td>-0.499213</td>\n",
       "      <td>-0.371733</td>\n",
       "      <td>-0.340571</td>\n",
       "      <td>0.012973</td>\n",
       "      <td>-0.663832</td>\n",
       "      <td>0.686441</td>\n",
       "      <td>-0.302015</td>\n",
       "      <td>0.714846</td>\n",
       "      <td>-0.174772</td>\n",
       "      <td>-0.486131</td>\n",
       "      <td>...</td>\n",
       "      <td>-0.156458</td>\n",
       "      <td>-0.156414</td>\n",
       "      <td>-0.155714</td>\n",
       "      <td>-0.155524</td>\n",
       "      <td>-0.154998</td>\n",
       "      <td>-0.154940</td>\n",
       "      <td>-0.154517</td>\n",
       "      <td>-0.154269</td>\n",
       "      <td>-0.153962</td>\n",
       "      <td>-0.147550</td>\n",
       "    </tr>\n",
       "    <tr>\n",
       "      <th>4</th>\n",
       "      <td>-0.512283</td>\n",
       "      <td>-0.371733</td>\n",
       "      <td>-0.351920</td>\n",
       "      <td>0.012973</td>\n",
       "      <td>-0.764456</td>\n",
       "      <td>0.713152</td>\n",
       "      <td>-0.331367</td>\n",
       "      <td>0.712680</td>\n",
       "      <td>-0.178832</td>\n",
       "      <td>-0.499201</td>\n",
       "      <td>...</td>\n",
       "      <td>-0.156589</td>\n",
       "      <td>-0.156458</td>\n",
       "      <td>-0.156415</td>\n",
       "      <td>-0.155714</td>\n",
       "      <td>-0.155524</td>\n",
       "      <td>-0.154998</td>\n",
       "      <td>-0.154940</td>\n",
       "      <td>-0.154517</td>\n",
       "      <td>-0.154269</td>\n",
       "      <td>-0.153962</td>\n",
       "    </tr>\n",
       "  </tbody>\n",
       "</table>\n",
       "<p>5 rows × 216 columns</p>\n",
       "</div>"
      ],
      "text/plain": [
       "       수온 ℃    수소이온농도  전기전도도 μS/cm  용존산소 mg/L  총유기탄소 mg/L  총질소 mg/L   총인 mg/L  \\\n",
       "0 -0.427326 -0.371733    -0.340571  -0.040054   -0.764456  0.562457 -0.287339   \n",
       "1 -0.460002 -0.371733    -0.351920   0.012973   -0.764456  0.564473 -0.302015   \n",
       "2 -0.486143 -0.371733    -0.340571   0.012973   -0.764456  0.623441 -0.316691   \n",
       "3 -0.499213 -0.371733    -0.340571   0.012973   -0.663832  0.686441 -0.302015   \n",
       "4 -0.512283 -0.371733    -0.351920   0.012973   -0.764456  0.713152 -0.331367   \n",
       "\n",
       "   상류수위(EL.m)  방류량(㎥/s)  1shift수온 ℃  ...  14shift방류량(㎥/s)  15shift방류량(㎥/s)  \\\n",
       "0    0.707264 -0.187245   -0.394638  ...        -0.155523        -0.154998   \n",
       "1    0.712680 -0.175998   -0.427314  ...        -0.155713        -0.155523   \n",
       "2    0.714846 -0.173676   -0.459990  ...        -0.156414        -0.155713   \n",
       "3    0.714846 -0.174772   -0.486131  ...        -0.156458        -0.156414   \n",
       "4    0.712680 -0.178832   -0.499201  ...        -0.156589        -0.156458   \n",
       "\n",
       "   16shift방류량(㎥/s)  17shift방류량(㎥/s)  18shift방류량(㎥/s)  19shift방류량(㎥/s)  \\\n",
       "0        -0.154939        -0.154516        -0.154268        -0.153962   \n",
       "1        -0.154998        -0.154940        -0.154516        -0.154268   \n",
       "2        -0.155524        -0.154998        -0.154940        -0.154517   \n",
       "3        -0.155714        -0.155524        -0.154998        -0.154940   \n",
       "4        -0.156415        -0.155714        -0.155524        -0.154998   \n",
       "\n",
       "   20shift방류량(㎥/s)  21shift방류량(㎥/s)  22shift방류량(㎥/s)  23shift방류량(㎥/s)  \n",
       "0        -0.147550        -0.142059        -0.165705        -0.173869  \n",
       "1        -0.153962        -0.147550        -0.142059        -0.165705  \n",
       "2        -0.154268        -0.153962        -0.147550        -0.142059  \n",
       "3        -0.154517        -0.154269        -0.153962        -0.147550  \n",
       "4        -0.154940        -0.154517        -0.154269        -0.153962  \n",
       "\n",
       "[5 rows x 216 columns]"
      ]
     },
     "execution_count": 103,
     "metadata": {},
     "output_type": "execute_result"
    }
   ],
   "source": [
    "scb_df_scaled.head()"
   ]
  },
  {
   "cell_type": "code",
   "execution_count": 74,
   "id": "c86ea2aa",
   "metadata": {},
   "outputs": [],
   "source": [
    "X_trains, X_tests, y_trains, y_tests = train_test_split(scb_df_scaled.loc[:, col_v], scb_df['클로로필-a mg/㎥'], random_state=42)\n",
    "gb_regs = GradientBoostingRegressor(random_state=42)\n",
    "\n",
    "parameters = {'max_depth':[5, 10, 15], 'learning_rate':[0.05, 0.1, 0.2]}"
   ]
  },
  {
   "cell_type": "code",
   "execution_count": 75,
   "id": "6671bce0",
   "metadata": {},
   "outputs": [],
   "source": [
    "gb_grids = GridSearchCV(gb_regs, param_grid=parameters, cv=3)"
   ]
  },
  {
   "cell_type": "code",
   "execution_count": null,
   "id": "835b7a20",
   "metadata": {},
   "outputs": [],
   "source": [
    "gb_grids.fit(X_trains, np.log1p(y_trains))"
   ]
  },
  {
   "cell_type": "code",
   "execution_count": null,
   "id": "3072b5aa",
   "metadata": {},
   "outputs": [],
   "source": [
    "scores_dfs = pd.DataFrame(gb_grids.cv_results_)"
   ]
  },
  {
   "cell_type": "code",
   "execution_count": null,
   "id": "22591261",
   "metadata": {},
   "outputs": [],
   "source": [
    "scores_dfs.sort_values(by=['rank_test_score'], inplace=True)\n",
    "scores_dfs[['params', 'mean_test_score', 'rank_test_score']].head()"
   ]
  },
  {
   "cell_type": "code",
   "execution_count": null,
   "id": "487e924f",
   "metadata": {},
   "outputs": [],
   "source": [
    "gb_grids.best_params_"
   ]
  },
  {
   "cell_type": "code",
   "execution_count": null,
   "id": "96864efe",
   "metadata": {},
   "outputs": [],
   "source": [
    "estimators = gb_grids.best_estimator_"
   ]
  },
  {
   "cell_type": "code",
   "execution_count": null,
   "id": "8ba35716",
   "metadata": {},
   "outputs": [],
   "source": [
    "preds = estimators.predict(X_tests)"
   ]
  },
  {
   "cell_type": "code",
   "execution_count": null,
   "id": "3c96bb3c",
   "metadata": {},
   "outputs": [],
   "source": [
    "for score, name in zip(estimators.feature_importances_, col_v):\n",
    "    print(round(score, 2), name)"
   ]
  },
  {
   "cell_type": "code",
   "execution_count": null,
   "id": "d689b7cc",
   "metadata": {},
   "outputs": [],
   "source": [
    "feature_seriess = pd.Series(data = estimators.feature_importances_, index = col_v)\n",
    "feature_seriess = feature_seriess.sort_values(ascending = False)\n",
    "sns.barplot(x = feature_seriess[:10], y = feature_seriess.index[:10], color = 'gray')\n",
    "plt.show()"
   ]
  },
  {
   "cell_type": "code",
   "execution_count": null,
   "id": "5ff9d0d5",
   "metadata": {},
   "outputs": [],
   "source": [
    "feature_seriess[:10]"
   ]
  },
  {
   "cell_type": "code",
   "execution_count": null,
   "id": "6aad7be2",
   "metadata": {},
   "outputs": [],
   "source": [
    "print('score :', estimators.score(X_tests, np.log1p(y_tests)))"
   ]
  },
  {
   "cell_type": "code",
   "execution_count": null,
   "id": "a34152e6",
   "metadata": {},
   "outputs": [],
   "source": []
  },
  {
   "cell_type": "code",
   "execution_count": null,
   "id": "6eb3337f",
   "metadata": {},
   "outputs": [],
   "source": []
  },
  {
   "cell_type": "code",
   "execution_count": null,
   "id": "ca55bc2c",
   "metadata": {},
   "outputs": [],
   "source": []
  }
 ],
 "metadata": {
  "kernelspec": {
   "display_name": "Python 3 (ipykernel)",
   "language": "python",
   "name": "python3"
  },
  "language_info": {
   "codemirror_mode": {
    "name": "ipython",
    "version": 3
   },
   "file_extension": ".py",
   "mimetype": "text/x-python",
   "name": "python",
   "nbconvert_exporter": "python",
   "pygments_lexer": "ipython3",
   "version": "3.9.13"
  }
 },
 "nbformat": 4,
 "nbformat_minor": 5
}
