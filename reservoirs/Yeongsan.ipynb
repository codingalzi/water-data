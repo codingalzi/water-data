{
 "cells": [
  {
   "cell_type": "markdown",
   "metadata": {},
   "source": [
    "**필수 라이브러리**"
   ]
  },
  {
   "cell_type": "code",
   "execution_count": 1,
   "metadata": {},
   "outputs": [],
   "source": [
    "import numpy as np\n",
    "import pandas as pd\n",
    "import matplotlib.pyplot as plt\n",
    "import matplotlib"
   ]
  },
  {
   "cell_type": "markdown",
   "metadata": {},
   "source": [
    "**matplotlib 한글 설정**\n",
    "\n",
    "- 운영체제에 따른 한글 지원 설정. 윈도우, 우분투, 구글 코랩 지원.\n",
    "- 참고: [matplotlib에서 한글 지원하기](https://github.com/codingalzi/datapy/blob/master/matplotlib-korean.md)"
   ]
  },
  {
   "cell_type": "code",
   "execution_count": 2,
   "metadata": {},
   "outputs": [],
   "source": [
    "import platform\n",
    "\n",
    "if platform.system() == 'Windows': # 윈도우\n",
    "    from matplotlib import font_manager, rc\n",
    "    font_path = \"C:/Windows/Fonts/NGULIM.TTF\"\n",
    "    font = font_manager.FontProperties(fname=font_path).get_name()\n",
    "    rc('font', family=font)\n",
    "elif platform.system() == 'Linux': # 우분투 또는 구글 코랩\n",
    "    # please run the following commented out codes just once\n",
    "#     if 'google.colab' in str(get_ipython()):\n",
    "#         !apt-get install -y fonts-nanum*\n",
    "#     else:\n",
    "#         !sudo apt-get install -y fonts-nanum*\n",
    "#     !fc-cache -fv\n",
    "    \n",
    "    applyfont = \"NanumBarunGothic\"\n",
    "    import matplotlib.font_manager as fm\n",
    "    if not any(map(lambda ft: ft.name == applyfont, fm.fontManager.ttflist)):\n",
    "        fm.fontManager.addfont(\"/usr/share/fonts/truetype/nanum/NanumBarunGothic.ttf\")\n",
    "    plt.rc(\"font\", family=applyfont)\n",
    "    plt.rc(\"axes\", unicode_minus=False)\n",
    "    "
   ]
  },
  {
   "cell_type": "markdown",
   "metadata": {},
   "source": [
    "**데이터**\n",
    "\n",
    "데이터는 연도별로 정리되어 있음."
   ]
  },
  {
   "cell_type": "code",
   "execution_count": 3,
   "metadata": {},
   "outputs": [],
   "source": [
    "base_url = \"https://github.com/codingalzi/water-data/raw/master/reservoirs/\""
   ]
  },
  {
   "cell_type": "markdown",
   "metadata": {},
   "source": [
    "**영산강(엑셀) 자료를 데이터프레임으로 불러오기**\n",
    "\n",
    "- `header=0`: 0번 행을 header로 지정, 즉 열 인덱스로 사용.\n",
    "- `sheet_name=None`: 모든 워크시트 가져오기. 워크시트별로 하나의 df 생성. 반환값은 사전.\n",
    "- `na_values=0`: 0으로 입력된 값도 결측치로 처리\n",
    "- `index_col=1`: 측정일을 행 인덱스로 사용\n",
    "- `parse_dates=True`: 행 인덱스로 사용되는 날짜 대상 파싱 실행"
   ]
  },
  {
   "cell_type": "code",
   "execution_count": 4,
   "metadata": {},
   "outputs": [],
   "source": [
    "# 주의: 아래 모듈을 먼저 설치해야 할 수도 있다.\n",
    "\n",
    "# !pip install openpyxl"
   ]
  },
  {
   "cell_type": "markdown",
   "metadata": {},
   "source": [
    "모든 지역의 데이터 불러오기: 평동천, 광산, 장성천2, 문평천, 영산포2, 함평, 무안2"
   ]
  },
  {
   "cell_type": "code",
   "execution_count": 5,
   "metadata": {},
   "outputs": [],
   "source": [
    "yeongsan = pd.read_excel(base_url+\"Yeongsan.xlsx\",\n",
    "                            header=0, \n",
    "                            sheet_name=None,\n",
    "                            na_values=0,\n",
    "                            index_col=1, \n",
    "                            parse_dates=True)"
   ]
  },
  {
   "cell_type": "markdown",
   "metadata": {},
   "source": [
    "측정소와 횟수 삭제"
   ]
  },
  {
   "cell_type": "code",
   "execution_count": 6,
   "metadata": {},
   "outputs": [
    {
     "data": {
      "text/plain": [
       "dict_keys(['1_평동천', '2_광산', '3_장성천2', '4_문평천', '5_영산포2', '6_함평', '7_무안2'])"
      ]
     },
     "execution_count": 6,
     "metadata": {},
     "output_type": "execute_result"
    }
   ],
   "source": [
    "locations = yeongsan.keys()\n",
    "locations"
   ]
  },
  {
   "cell_type": "markdown",
   "metadata": {},
   "source": [
    "**데이터 합치기**\n",
    "\n",
    "모든 지역의 데이터를 단순히 합친다."
   ]
  },
  {
   "cell_type": "code",
   "execution_count": 7,
   "metadata": {},
   "outputs": [
    {
     "name": "stdout",
     "output_type": "stream",
     "text": [
      "1_평동천: \t(440, 19)\n",
      "2_광산: \t(510, 19)\n",
      "3_장성천2: \t(435, 19)\n",
      "4_문평천: \t(435, 19)\n",
      "5_영산포2: \t(456, 19)\n",
      "6_함평: \t(456, 19)\n",
      "7_무안2: \t(534, 19)\n",
      "총 데이터수: 3266\n"
     ]
    }
   ],
   "source": [
    "total_data = 0\n",
    "\n",
    "for loc in locations:\n",
    "    ys_loc = yeongsan[loc]\n",
    "    total_data += ys_loc.shape[0]\n",
    "    print(f\"{loc}: \\t{ys_loc.shape}\")\n",
    "    \n",
    "print(\"총 데이터수:\", total_data)"
   ]
  },
  {
   "cell_type": "code",
   "execution_count": 8,
   "metadata": {},
   "outputs": [
    {
     "data": {
      "text/plain": [
       "(3266, 19)"
      ]
     },
     "execution_count": 8,
     "metadata": {},
     "output_type": "execute_result"
    }
   ],
   "source": [
    "yongsan_total = pd.concat([yeongsan[loc] for loc in locations])\n",
    "yongsan_total.shape"
   ]
  },
  {
   "cell_type": "markdown",
   "metadata": {},
   "source": [
    "동일 날짜를 제외하면 1310개의 데이터에 불과하다.\n",
    "하지만 장소가 다르기에 중복 날짜를 모두 인정한다. "
   ]
  },
  {
   "cell_type": "code",
   "execution_count": 9,
   "metadata": {},
   "outputs": [
    {
     "data": {
      "text/plain": [
       "(1310,)"
      ]
     },
     "execution_count": 9,
     "metadata": {},
     "output_type": "execute_result"
    }
   ],
   "source": [
    "# 중복 날짜 수\n",
    "\n",
    "yongsan_total.index.unique().shape"
   ]
  },
  {
   "cell_type": "markdown",
   "metadata": {},
   "source": [
    "**날짜별로 정렬**"
   ]
  },
  {
   "cell_type": "markdown",
   "metadata": {},
   "source": [
    "먼저 날짜별로 정렬한다."
   ]
  },
  {
   "cell_type": "code",
   "execution_count": 10,
   "metadata": {},
   "outputs": [],
   "source": [
    "yongsan_total = yongsan_total.sort_index()"
   ]
  },
  {
   "cell_type": "markdown",
   "metadata": {},
   "source": [
    "**주요 특성**"
   ]
  },
  {
   "cell_type": "markdown",
   "metadata": {},
   "source": [
    "수온, BOD, COD, TN, TP, 유량 등 6개의 주요 특성만을 이용하여 클로로필-A 예측하려 한다.\n",
    "원 데이터셋에 포함된 특성은 다음과 같다."
   ]
  },
  {
   "cell_type": "code",
   "execution_count": 11,
   "metadata": {},
   "outputs": [
    {
     "data": {
      "text/plain": [
       "Index(['측정소명', '회차', '수온(℃)', 'DO(㎎/L)', 'BOD(㎎/L)', 'COD(㎎/L)', '클로로필 a(㎎/㎥)',\n",
       "       'TN(㎎/L)', 'TP(㎎/L)', 'TOC(㎎/L)', '수소이온농도', '전기전도도(μS/㎝)', '용존총질소(㎎/L)',\n",
       "       '암모니아성 질소(㎎/L)', '질산성 질소(㎎/L)', '용존총인(㎎/L)', '인산염인(㎎/L)', 'SS(㎎/L)',\n",
       "       '유량(㎥/s)'],\n",
       "      dtype='object')"
      ]
     },
     "execution_count": 11,
     "metadata": {},
     "output_type": "execute_result"
    }
   ],
   "source": [
    "yongsan_total.columns"
   ]
  },
  {
   "cell_type": "markdown",
   "metadata": {},
   "source": [
    "주요 특성 6개와 타깃으로 사용될 특성인 클로로필-A를 별도로 지정한다."
   ]
  },
  {
   "cell_type": "code",
   "execution_count": 33,
   "metadata": {},
   "outputs": [],
   "source": [
    "features_important = ['수온(℃)', 'BOD(㎎/L)', 'COD(㎎/L)', 'TN(㎎/L)', 'TP(㎎/L)', '유량(㎥/s)', '클로로필 a(㎎/㎥)']"
   ]
  },
  {
   "cell_type": "markdown",
   "metadata": {},
   "source": [
    "- 입력데이터셋 특성 6개"
   ]
  },
  {
   "cell_type": "code",
   "execution_count": 34,
   "metadata": {},
   "outputs": [],
   "source": [
    "six_features = features_important[:6]"
   ]
  },
  {
   "cell_type": "markdown",
   "metadata": {},
   "source": [
    "* 타깃 특성: 클로로필-A"
   ]
  },
  {
   "cell_type": "code",
   "execution_count": 35,
   "metadata": {},
   "outputs": [],
   "source": [
    "target_feature = features_important[-1]"
   ]
  },
  {
   "cell_type": "markdown",
   "metadata": {},
   "source": [
    "먼저 클로로필-A 특성이 결측치인 샘플 데이터 48개는 제거한다."
   ]
  },
  {
   "cell_type": "code",
   "execution_count": 36,
   "metadata": {},
   "outputs": [
    {
     "data": {
      "text/plain": [
       "48"
      ]
     },
     "execution_count": 36,
     "metadata": {},
     "output_type": "execute_result"
    }
   ],
   "source": [
    "mask = yongsan_total[target_feature].isna()\n",
    "mask.sum()"
   ]
  },
  {
   "cell_type": "code",
   "execution_count": 37,
   "metadata": {},
   "outputs": [
    {
     "data": {
      "text/plain": [
       "(3218, 19)"
      ]
     },
     "execution_count": 37,
     "metadata": {},
     "output_type": "execute_result"
    }
   ],
   "source": [
    "ys_total = yongsan_total[~mask]\n",
    "\n",
    "ys_total.shape"
   ]
  },
  {
   "cell_type": "markdown",
   "metadata": {},
   "source": [
    "**핵심 특성만 사용**"
   ]
  },
  {
   "cell_type": "code",
   "execution_count": 39,
   "metadata": {},
   "outputs": [],
   "source": [
    "ys_total = ys_total[features_important]"
   ]
  },
  {
   "cell_type": "code",
   "execution_count": 41,
   "metadata": {},
   "outputs": [
    {
     "data": {
      "text/html": [
       "<div>\n",
       "<style scoped>\n",
       "    .dataframe tbody tr th:only-of-type {\n",
       "        vertical-align: middle;\n",
       "    }\n",
       "\n",
       "    .dataframe tbody tr th {\n",
       "        vertical-align: top;\n",
       "    }\n",
       "\n",
       "    .dataframe thead th {\n",
       "        text-align: right;\n",
       "    }\n",
       "</style>\n",
       "<table border=\"1\" class=\"dataframe\">\n",
       "  <thead>\n",
       "    <tr style=\"text-align: right;\">\n",
       "      <th></th>\n",
       "      <th>수온(℃)</th>\n",
       "      <th>BOD(㎎/L)</th>\n",
       "      <th>COD(㎎/L)</th>\n",
       "      <th>TN(㎎/L)</th>\n",
       "      <th>TP(㎎/L)</th>\n",
       "      <th>유량(㎥/s)</th>\n",
       "      <th>클로로필 a(㎎/㎥)</th>\n",
       "    </tr>\n",
       "    <tr>\n",
       "      <th>년/월/일</th>\n",
       "      <th></th>\n",
       "      <th></th>\n",
       "      <th></th>\n",
       "      <th></th>\n",
       "      <th></th>\n",
       "      <th></th>\n",
       "      <th></th>\n",
       "    </tr>\n",
       "  </thead>\n",
       "  <tbody>\n",
       "    <tr>\n",
       "      <th>2012-01-04</th>\n",
       "      <td>4.1</td>\n",
       "      <td>4.8</td>\n",
       "      <td>8.0</td>\n",
       "      <td>7.792</td>\n",
       "      <td>0.600</td>\n",
       "      <td>10.403</td>\n",
       "      <td>25.4</td>\n",
       "    </tr>\n",
       "    <tr>\n",
       "      <th>2012-01-05</th>\n",
       "      <td>4.2</td>\n",
       "      <td>1.1</td>\n",
       "      <td>4.9</td>\n",
       "      <td>2.863</td>\n",
       "      <td>0.089</td>\n",
       "      <td>NaN</td>\n",
       "      <td>4.1</td>\n",
       "    </tr>\n",
       "    <tr>\n",
       "      <th>2012-01-09</th>\n",
       "      <td>5.9</td>\n",
       "      <td>4.7</td>\n",
       "      <td>8.4</td>\n",
       "      <td>10.901</td>\n",
       "      <td>0.888</td>\n",
       "      <td>12.313</td>\n",
       "      <td>25.4</td>\n",
       "    </tr>\n",
       "    <tr>\n",
       "      <th>2012-01-10</th>\n",
       "      <td>4.1</td>\n",
       "      <td>3.9</td>\n",
       "      <td>8.2</td>\n",
       "      <td>6.924</td>\n",
       "      <td>0.357</td>\n",
       "      <td>16.604</td>\n",
       "      <td>71.8</td>\n",
       "    </tr>\n",
       "    <tr>\n",
       "      <th>2012-01-10</th>\n",
       "      <td>3.4</td>\n",
       "      <td>5.4</td>\n",
       "      <td>8.9</td>\n",
       "      <td>8.250</td>\n",
       "      <td>0.364</td>\n",
       "      <td>13.449</td>\n",
       "      <td>88.2</td>\n",
       "    </tr>\n",
       "    <tr>\n",
       "      <th>...</th>\n",
       "      <td>...</td>\n",
       "      <td>...</td>\n",
       "      <td>...</td>\n",
       "      <td>...</td>\n",
       "      <td>...</td>\n",
       "      <td>...</td>\n",
       "      <td>...</td>\n",
       "    </tr>\n",
       "    <tr>\n",
       "      <th>2022-06-28</th>\n",
       "      <td>26.6</td>\n",
       "      <td>4.9</td>\n",
       "      <td>11.4</td>\n",
       "      <td>4.329</td>\n",
       "      <td>0.192</td>\n",
       "      <td>27.756</td>\n",
       "      <td>14.8</td>\n",
       "    </tr>\n",
       "    <tr>\n",
       "      <th>2022-06-28</th>\n",
       "      <td>26.4</td>\n",
       "      <td>5.6</td>\n",
       "      <td>9.5</td>\n",
       "      <td>3.125</td>\n",
       "      <td>0.165</td>\n",
       "      <td>24.727</td>\n",
       "      <td>23.0</td>\n",
       "    </tr>\n",
       "    <tr>\n",
       "      <th>2022-06-28</th>\n",
       "      <td>25.5</td>\n",
       "      <td>2.4</td>\n",
       "      <td>8.3</td>\n",
       "      <td>2.249</td>\n",
       "      <td>0.054</td>\n",
       "      <td>101.127</td>\n",
       "      <td>12.7</td>\n",
       "    </tr>\n",
       "    <tr>\n",
       "      <th>2022-06-29</th>\n",
       "      <td>24.7</td>\n",
       "      <td>1.6</td>\n",
       "      <td>6.4</td>\n",
       "      <td>2.855</td>\n",
       "      <td>0.079</td>\n",
       "      <td>0.138</td>\n",
       "      <td>7.6</td>\n",
       "    </tr>\n",
       "    <tr>\n",
       "      <th>2022-06-29</th>\n",
       "      <td>28.2</td>\n",
       "      <td>3.2</td>\n",
       "      <td>12.7</td>\n",
       "      <td>2.500</td>\n",
       "      <td>0.256</td>\n",
       "      <td>0.406</td>\n",
       "      <td>7.6</td>\n",
       "    </tr>\n",
       "  </tbody>\n",
       "</table>\n",
       "<p>3218 rows × 7 columns</p>\n",
       "</div>"
      ],
      "text/plain": [
       "            수온(℃)  BOD(㎎/L)  COD(㎎/L)  TN(㎎/L)  TP(㎎/L)  유량(㎥/s)  클로로필 a(㎎/㎥)\n",
       "년/월/일                                                                        \n",
       "2012-01-04    4.1       4.8       8.0    7.792    0.600   10.403         25.4\n",
       "2012-01-05    4.2       1.1       4.9    2.863    0.089      NaN          4.1\n",
       "2012-01-09    5.9       4.7       8.4   10.901    0.888   12.313         25.4\n",
       "2012-01-10    4.1       3.9       8.2    6.924    0.357   16.604         71.8\n",
       "2012-01-10    3.4       5.4       8.9    8.250    0.364   13.449         88.2\n",
       "...           ...       ...       ...      ...      ...      ...          ...\n",
       "2022-06-28   26.6       4.9      11.4    4.329    0.192   27.756         14.8\n",
       "2022-06-28   26.4       5.6       9.5    3.125    0.165   24.727         23.0\n",
       "2022-06-28   25.5       2.4       8.3    2.249    0.054  101.127         12.7\n",
       "2022-06-29   24.7       1.6       6.4    2.855    0.079    0.138          7.6\n",
       "2022-06-29   28.2       3.2      12.7    2.500    0.256    0.406          7.6\n",
       "\n",
       "[3218 rows x 7 columns]"
      ]
     },
     "execution_count": 41,
     "metadata": {},
     "output_type": "execute_result"
    }
   ],
   "source": [
    "ys_total"
   ]
  },
  {
   "cell_type": "markdown",
   "metadata": {},
   "source": [
    "**결측치 처리**"
   ]
  },
  {
   "cell_type": "markdown",
   "metadata": {},
   "source": [
    "유량 특성만 335개의 결측치를 갖는다."
   ]
  },
  {
   "cell_type": "code",
   "execution_count": 42,
   "metadata": {},
   "outputs": [
    {
     "data": {
      "text/plain": [
       "수온(℃)            0\n",
       "BOD(㎎/L)         0\n",
       "COD(㎎/L)         0\n",
       "TN(㎎/L)          0\n",
       "TP(㎎/L)          0\n",
       "유량(㎥/s)        335\n",
       "클로로필 a(㎎/㎥)      0\n",
       "dtype: int64"
      ]
     },
     "execution_count": 42,
     "metadata": {},
     "output_type": "execute_result"
    }
   ],
   "source": [
    "ys_total.isna().sum()"
   ]
  },
  {
   "cell_type": "markdown",
   "metadata": {},
   "source": [
    "335개는 전체 데이터셋의 10% 정도이다."
   ]
  },
  {
   "cell_type": "code",
   "execution_count": 48,
   "metadata": {},
   "outputs": [
    {
     "data": {
      "text/plain": [
       "0.10410192666252331"
      ]
     },
     "execution_count": 48,
     "metadata": {},
     "output_type": "execute_result"
    }
   ],
   "source": [
    "num_missing_values = ys_total.isna().sum().sum()\n",
    "\n",
    "num_missing_values/ys_total.shape[0]"
   ]
  },
  {
   "cell_type": "markdown",
   "metadata": {},
   "source": [
    "유량 특성에만 있는 결측치는 모두 0으로 대체한다.\n",
    "RNN 모델에 드롭아웃(dropout)을 적용하면 일부 특성이 어차피 0으로 지정된다.\n",
    "따라서 입력 데이터셋의 결측치가 너무 많지 않다면\n",
    "드롭아웃 효과에 의해 결측치의 영향이 묻히게 된다."
   ]
  },
  {
   "cell_type": "code",
   "execution_count": 50,
   "metadata": {},
   "outputs": [],
   "source": [
    "ys_total.fillna(0, inplace=True)"
   ]
  },
  {
   "cell_type": "markdown",
   "metadata": {},
   "source": [
    "**훈련셋과 테스트셋 지정**"
   ]
  },
  {
   "cell_type": "markdown",
   "metadata": {},
   "source": [
    "훈련셋과 테스트셋을 8:2의 비율로 나눈다.\n",
    "단, 테스트셋은 날짜를 기준으로 나중에 측정된 데이터를 이용한다."
   ]
  },
  {
   "cell_type": "code",
   "execution_count": 52,
   "metadata": {},
   "outputs": [
    {
     "data": {
      "text/plain": [
       "2574"
      ]
     },
     "execution_count": 52,
     "metadata": {},
     "output_type": "execute_result"
    }
   ],
   "source": [
    "train_size = int(ys_total.shape[0] * 0.8)\n",
    "train_size"
   ]
  },
  {
   "cell_type": "markdown",
   "metadata": {},
   "source": [
    "- 훈련셋"
   ]
  },
  {
   "cell_type": "code",
   "execution_count": 56,
   "metadata": {},
   "outputs": [],
   "source": [
    "train_set = ys_total[six_features][:train_size]\n",
    "train_targets = ys_total[target_feature][:train_size]"
   ]
  },
  {
   "cell_type": "markdown",
   "metadata": {},
   "source": [
    "- 테스트셋"
   ]
  },
  {
   "cell_type": "code",
   "execution_count": 57,
   "metadata": {},
   "outputs": [],
   "source": [
    "test_set = ys_total[six_features][train_size:]\n",
    "test_targets = ys_total[target_feature][train_size:]"
   ]
  },
  {
   "cell_type": "markdown",
   "metadata": {},
   "source": [
    "**모델 지정**"
   ]
  },
  {
   "cell_type": "code",
   "execution_count": null,
   "metadata": {},
   "outputs": [],
   "source": []
  },
  {
   "cell_type": "code",
   "execution_count": null,
   "metadata": {},
   "outputs": [],
   "source": []
  }
 ],
 "metadata": {
  "kernelspec": {
   "display_name": "Python 3 (ipykernel)",
   "language": "python",
   "name": "python3"
  },
  "language_info": {
   "codemirror_mode": {
    "name": "ipython",
    "version": 3
   },
   "file_extension": ".py",
   "mimetype": "text/x-python",
   "name": "python",
   "nbconvert_exporter": "python",
   "pygments_lexer": "ipython3",
   "version": "3.9.13"
  },
  "vscode": {
   "interpreter": {
    "hash": "87326548fe22e0f6dacd268b079dcc7a15583d9081b3203af40b067350baf618"
   }
  }
 },
 "nbformat": 4,
 "nbformat_minor": 2
}
