{
 "cells": [
  {
   "cell_type": "markdown",
   "metadata": {},
   "source": [
    "**주요 라이브러리**"
   ]
  },
  {
   "cell_type": "code",
   "execution_count": null,
   "metadata": {},
   "outputs": [],
   "source": [
    "import numpy as np\n",
    "import pandas as pd\n",
    "import matplotlib.pyplot as plt"
   ]
  },
  {
   "cell_type": "markdown",
   "metadata": {},
   "source": [
    "**matplotlib 한글 설정**\n",
    "\n",
    "- 윈도우 10/11 운영체제에서 그래프에서 한글 표현하기.\n",
    "- 우분투, 구글 코랩에서의 설정은 [matplotlib에서 한글 지원하기](https://github.com/codingalzi/datapy/blob/master/matplotlib-korean.md) 참고할 것."
   ]
  },
  {
   "cell_type": "code",
   "execution_count": null,
   "metadata": {},
   "outputs": [],
   "source": [
    "from matplotlib import font_manager, rc\n",
    "font_path = \"C:/Windows/Fonts/NGULIM.TTF\"\n",
    "font = font_manager.FontProperties(fname=font_path).get_name()\n",
    "rc('font', family=font)"
   ]
  },
  {
   "cell_type": "markdown",
   "metadata": {},
   "source": [
    "**데이터 파일 저장소**"
   ]
  },
  {
   "cell_type": "code",
   "execution_count": 2,
   "metadata": {},
   "outputs": [],
   "source": [
    "base_url = \"https://github.com/codingalzi/water-data/raw/master/reservoirs/\""
   ]
  },
  {
   "cell_type": "markdown",
   "metadata": {},
   "source": [
    "**승천보 자료 불러오기**"
   ]
  },
  {
   "cell_type": "code",
   "execution_count": 13,
   "metadata": {},
   "outputs": [],
   "source": [
    "seungchonbo_df = pd.read_excel(base_url+\"Seungchonbo.xlsx\", skiprows=0, header=1, sheet_name=None)"
   ]
  },
  {
   "cell_type": "markdown",
   "metadata": {},
   "source": [
    "- 2012년부터 2022년까지의 데이터가 각각의 워크시트(worksheet)로 존재.\n",
    "- 따라서 년도를 키로 갖는 사전 자료형으로 불러옴.\n",
    "- 키값은 각각의 워크시트를 담은 데이터프레임."
   ]
  },
  {
   "cell_type": "code",
   "execution_count": 23,
   "metadata": {},
   "outputs": [
    {
     "data": {
      "text/plain": [
       "dict"
      ]
     },
     "execution_count": 23,
     "metadata": {},
     "output_type": "execute_result"
    }
   ],
   "source": [
    "type(seungchonbo_df)"
   ]
  },
  {
   "cell_type": "code",
   "execution_count": 30,
   "metadata": {},
   "outputs": [
    {
     "data": {
      "text/plain": [
       "dict_keys(['2012년', '2013년', '2014년', '2015년', '2016년', '2017년', '2018년', '2019년', '2020년', '2021년', '2022년'])"
      ]
     },
     "execution_count": 30,
     "metadata": {},
     "output_type": "execute_result"
    }
   ],
   "source": [
    "seungchonbo_df.keys()"
   ]
  },
  {
   "cell_type": "markdown",
   "metadata": {},
   "source": [
    "- 2012년 데이터 정보 요약"
   ]
  },
  {
   "cell_type": "code",
   "execution_count": 34,
   "metadata": {},
   "outputs": [
    {
     "data": {
      "text/plain": [
       "<bound method DataFrame.info of                측정일/월 측정소명  수온 ℃  수소이온농도  전기전도도 μS/cm  용존산소 mg/L  총유기탄소 mg/L  \\\n",
       "0     2012-07-01 00h   용봉   NaN     NaN          NaN        NaN         NaN   \n",
       "1     2012-07-01 01h   용봉   NaN     NaN          NaN        NaN         NaN   \n",
       "2     2012-07-01 02h   용봉   NaN     NaN          NaN        NaN         NaN   \n",
       "3     2012-07-01 03h   용봉   NaN     NaN          NaN        NaN         NaN   \n",
       "4     2012-07-01 04h   용봉   NaN     NaN          NaN        NaN         NaN   \n",
       "...              ...  ...   ...     ...          ...        ...         ...   \n",
       "4338  2012-12-31 19h   용봉   4.4     6.9        374.0       11.3         2.5   \n",
       "4339  2012-12-31 20h   용봉   4.3     6.9        374.0       11.4         2.5   \n",
       "4340  2012-12-31 21h   용봉   4.3     6.9        373.0       11.4         2.5   \n",
       "4341  2012-12-31 22h   용봉   4.3     6.9        375.0       11.4         2.5   \n",
       "4342  2012-12-31 23h   용봉   4.1     6.9        375.0       11.4         2.5   \n",
       "\n",
       "      총질소 mg/L  총인 mg/L  클로로필-a mg/㎥  \n",
       "0          NaN      NaN          NaN  \n",
       "1          NaN      NaN          NaN  \n",
       "2          NaN      NaN          NaN  \n",
       "3          NaN      NaN          NaN  \n",
       "4          NaN      NaN          NaN  \n",
       "...        ...      ...          ...  \n",
       "4338       NaN      NaN          6.9  \n",
       "4339       NaN      NaN          7.2  \n",
       "4340       NaN      NaN          7.0  \n",
       "4341       NaN      NaN          7.1  \n",
       "4342       NaN      NaN          7.1  \n",
       "\n",
       "[4343 rows x 10 columns]>"
      ]
     },
     "execution_count": 34,
     "metadata": {},
     "output_type": "execute_result"
    }
   ],
   "source": [
    "seungchonbo_df['2012년'].info"
   ]
  },
  {
   "cell_type": "markdown",
   "metadata": {},
   "source": [
    "- 연도별 데이터 수"
   ]
  },
  {
   "cell_type": "code",
   "execution_count": 36,
   "metadata": {},
   "outputs": [
    {
     "name": "stdout",
     "output_type": "stream",
     "text": [
      "4343\n",
      "8750\n",
      "8760\n",
      "8739\n",
      "8784\n",
      "8730\n",
      "8758\n",
      "8760\n",
      "8784\n",
      "8760\n",
      "3432\n"
     ]
    }
   ],
   "source": [
    "for year in seungchonbo_df:\n",
    "    print(len(seungchonbo_df[year]))"
   ]
  },
  {
   "cell_type": "markdown",
   "metadata": {},
   "source": [
    "**승천보 데이터 다시 불러오기**\n",
    "\n",
    "- 측정일을 행 인덱스로 사용\n",
    "- 날짜 대상 파싱 실행"
   ]
  },
  {
   "cell_type": "code",
   "execution_count": 29,
   "metadata": {},
   "outputs": [],
   "source": [
    "seungchonbo_df = pd.read_excel(base_url+\"Seungchonbo.xlsx\", skiprows=0, header=1, sheet_name=None, \n",
    "                                index_col=0, parse_dates=True)"
   ]
  },
  {
   "cell_type": "markdown",
   "metadata": {},
   "source": [
    "* 2012년 데이터 정보 요약"
   ]
  },
  {
   "cell_type": "code",
   "execution_count": 31,
   "metadata": {},
   "outputs": [
    {
     "data": {
      "text/plain": [
       "<bound method DataFrame.info of                     측정소명  수온 ℃  수소이온농도  전기전도도 μS/cm  용존산소 mg/L  총유기탄소 mg/L  \\\n",
       "측정일/월                                                                        \n",
       "2012-07-01 00:00:00   용봉   NaN     NaN          NaN        NaN         NaN   \n",
       "2012-07-01 01:00:00   용봉   NaN     NaN          NaN        NaN         NaN   \n",
       "2012-07-01 02:00:00   용봉   NaN     NaN          NaN        NaN         NaN   \n",
       "2012-07-01 03:00:00   용봉   NaN     NaN          NaN        NaN         NaN   \n",
       "2012-07-01 04:00:00   용봉   NaN     NaN          NaN        NaN         NaN   \n",
       "...                  ...   ...     ...          ...        ...         ...   \n",
       "2012-12-31 19:00:00   용봉   4.4     6.9        374.0       11.3         2.5   \n",
       "2012-12-31 20:00:00   용봉   4.3     6.9        374.0       11.4         2.5   \n",
       "2012-12-31 21:00:00   용봉   4.3     6.9        373.0       11.4         2.5   \n",
       "2012-12-31 22:00:00   용봉   4.3     6.9        375.0       11.4         2.5   \n",
       "2012-12-31 23:00:00   용봉   4.1     6.9        375.0       11.4         2.5   \n",
       "\n",
       "                     총질소 mg/L  총인 mg/L  클로로필-a mg/㎥  \n",
       "측정일/월                                                \n",
       "2012-07-01 00:00:00       NaN      NaN          NaN  \n",
       "2012-07-01 01:00:00       NaN      NaN          NaN  \n",
       "2012-07-01 02:00:00       NaN      NaN          NaN  \n",
       "2012-07-01 03:00:00       NaN      NaN          NaN  \n",
       "2012-07-01 04:00:00       NaN      NaN          NaN  \n",
       "...                       ...      ...          ...  \n",
       "2012-12-31 19:00:00       NaN      NaN          6.9  \n",
       "2012-12-31 20:00:00       NaN      NaN          7.2  \n",
       "2012-12-31 21:00:00       NaN      NaN          7.0  \n",
       "2012-12-31 22:00:00       NaN      NaN          7.1  \n",
       "2012-12-31 23:00:00       NaN      NaN          7.1  \n",
       "\n",
       "[4343 rows x 9 columns]>"
      ]
     },
     "execution_count": 31,
     "metadata": {},
     "output_type": "execute_result"
    }
   ],
   "source": [
    "seungchonbo_df['2012년'].info"
   ]
  },
  {
   "cell_type": "markdown",
   "metadata": {},
   "source": [
    "**2012년 클로로필 A(조류) 열 대상**"
   ]
  },
  {
   "cell_type": "code",
   "execution_count": 18,
   "metadata": {},
   "outputs": [],
   "source": [
    "seungchonbo2012CHLA = seungchonbo_df['2012년'].iloc[:, [-1]].copy()"
   ]
  },
  {
   "cell_type": "code",
   "execution_count": 19,
   "metadata": {},
   "outputs": [
    {
     "data": {
      "text/html": [
       "<div>\n",
       "<style scoped>\n",
       "    .dataframe tbody tr th:only-of-type {\n",
       "        vertical-align: middle;\n",
       "    }\n",
       "\n",
       "    .dataframe tbody tr th {\n",
       "        vertical-align: top;\n",
       "    }\n",
       "\n",
       "    .dataframe thead th {\n",
       "        text-align: right;\n",
       "    }\n",
       "</style>\n",
       "<table border=\"1\" class=\"dataframe\">\n",
       "  <thead>\n",
       "    <tr style=\"text-align: right;\">\n",
       "      <th></th>\n",
       "      <th>클로로필-a mg/㎥</th>\n",
       "    </tr>\n",
       "    <tr>\n",
       "      <th>측정일/월</th>\n",
       "      <th></th>\n",
       "    </tr>\n",
       "  </thead>\n",
       "  <tbody>\n",
       "    <tr>\n",
       "      <th>2012-07-01 00:00:00</th>\n",
       "      <td>NaN</td>\n",
       "    </tr>\n",
       "    <tr>\n",
       "      <th>2012-07-01 01:00:00</th>\n",
       "      <td>NaN</td>\n",
       "    </tr>\n",
       "    <tr>\n",
       "      <th>2012-07-01 02:00:00</th>\n",
       "      <td>NaN</td>\n",
       "    </tr>\n",
       "    <tr>\n",
       "      <th>2012-07-01 03:00:00</th>\n",
       "      <td>NaN</td>\n",
       "    </tr>\n",
       "    <tr>\n",
       "      <th>2012-07-01 04:00:00</th>\n",
       "      <td>NaN</td>\n",
       "    </tr>\n",
       "    <tr>\n",
       "      <th>...</th>\n",
       "      <td>...</td>\n",
       "    </tr>\n",
       "    <tr>\n",
       "      <th>2012-12-31 19:00:00</th>\n",
       "      <td>6.9</td>\n",
       "    </tr>\n",
       "    <tr>\n",
       "      <th>2012-12-31 20:00:00</th>\n",
       "      <td>7.2</td>\n",
       "    </tr>\n",
       "    <tr>\n",
       "      <th>2012-12-31 21:00:00</th>\n",
       "      <td>7.0</td>\n",
       "    </tr>\n",
       "    <tr>\n",
       "      <th>2012-12-31 22:00:00</th>\n",
       "      <td>7.1</td>\n",
       "    </tr>\n",
       "    <tr>\n",
       "      <th>2012-12-31 23:00:00</th>\n",
       "      <td>7.1</td>\n",
       "    </tr>\n",
       "  </tbody>\n",
       "</table>\n",
       "<p>4343 rows × 1 columns</p>\n",
       "</div>"
      ],
      "text/plain": [
       "                     클로로필-a mg/㎥\n",
       "측정일/월                           \n",
       "2012-07-01 00:00:00          NaN\n",
       "2012-07-01 01:00:00          NaN\n",
       "2012-07-01 02:00:00          NaN\n",
       "2012-07-01 03:00:00          NaN\n",
       "2012-07-01 04:00:00          NaN\n",
       "...                          ...\n",
       "2012-12-31 19:00:00          6.9\n",
       "2012-12-31 20:00:00          7.2\n",
       "2012-12-31 21:00:00          7.0\n",
       "2012-12-31 22:00:00          7.1\n",
       "2012-12-31 23:00:00          7.1\n",
       "\n",
       "[4343 rows x 1 columns]"
      ]
     },
     "execution_count": 19,
     "metadata": {},
     "output_type": "execute_result"
    }
   ],
   "source": [
    "seungchonbo2012CHLA"
   ]
  },
  {
   "cell_type": "markdown",
   "metadata": {},
   "source": [
    "- 결측치 행 삭제"
   ]
  },
  {
   "cell_type": "code",
   "execution_count": 33,
   "metadata": {},
   "outputs": [
    {
     "data": {
      "text/html": [
       "<div>\n",
       "<style scoped>\n",
       "    .dataframe tbody tr th:only-of-type {\n",
       "        vertical-align: middle;\n",
       "    }\n",
       "\n",
       "    .dataframe tbody tr th {\n",
       "        vertical-align: top;\n",
       "    }\n",
       "\n",
       "    .dataframe thead th {\n",
       "        text-align: right;\n",
       "    }\n",
       "</style>\n",
       "<table border=\"1\" class=\"dataframe\">\n",
       "  <thead>\n",
       "    <tr style=\"text-align: right;\">\n",
       "      <th></th>\n",
       "      <th>클로로필-a mg/㎥</th>\n",
       "    </tr>\n",
       "    <tr>\n",
       "      <th>측정일/월</th>\n",
       "      <th></th>\n",
       "    </tr>\n",
       "  </thead>\n",
       "  <tbody>\n",
       "    <tr>\n",
       "      <th>2012-09-20 15:00:00</th>\n",
       "      <td>6.0</td>\n",
       "    </tr>\n",
       "    <tr>\n",
       "      <th>2012-09-20 16:00:00</th>\n",
       "      <td>6.0</td>\n",
       "    </tr>\n",
       "    <tr>\n",
       "      <th>2012-09-20 17:00:00</th>\n",
       "      <td>6.0</td>\n",
       "    </tr>\n",
       "    <tr>\n",
       "      <th>2012-09-20 18:00:00</th>\n",
       "      <td>5.9</td>\n",
       "    </tr>\n",
       "    <tr>\n",
       "      <th>2012-09-20 19:00:00</th>\n",
       "      <td>5.8</td>\n",
       "    </tr>\n",
       "    <tr>\n",
       "      <th>...</th>\n",
       "      <td>...</td>\n",
       "    </tr>\n",
       "    <tr>\n",
       "      <th>2012-12-31 19:00:00</th>\n",
       "      <td>6.9</td>\n",
       "    </tr>\n",
       "    <tr>\n",
       "      <th>2012-12-31 20:00:00</th>\n",
       "      <td>7.2</td>\n",
       "    </tr>\n",
       "    <tr>\n",
       "      <th>2012-12-31 21:00:00</th>\n",
       "      <td>7.0</td>\n",
       "    </tr>\n",
       "    <tr>\n",
       "      <th>2012-12-31 22:00:00</th>\n",
       "      <td>7.1</td>\n",
       "    </tr>\n",
       "    <tr>\n",
       "      <th>2012-12-31 23:00:00</th>\n",
       "      <td>7.1</td>\n",
       "    </tr>\n",
       "  </tbody>\n",
       "</table>\n",
       "<p>2270 rows × 1 columns</p>\n",
       "</div>"
      ],
      "text/plain": [
       "                     클로로필-a mg/㎥\n",
       "측정일/월                           \n",
       "2012-09-20 15:00:00          6.0\n",
       "2012-09-20 16:00:00          6.0\n",
       "2012-09-20 17:00:00          6.0\n",
       "2012-09-20 18:00:00          5.9\n",
       "2012-09-20 19:00:00          5.8\n",
       "...                          ...\n",
       "2012-12-31 19:00:00          6.9\n",
       "2012-12-31 20:00:00          7.2\n",
       "2012-12-31 21:00:00          7.0\n",
       "2012-12-31 22:00:00          7.1\n",
       "2012-12-31 23:00:00          7.1\n",
       "\n",
       "[2270 rows x 1 columns]"
      ]
     },
     "execution_count": 33,
     "metadata": {},
     "output_type": "execute_result"
    }
   ],
   "source": [
    "SC2012CHLA_wo_NA = seungchonbo2012CHLA.dropna()\n",
    "SC2012CHLA_wo_NA"
   ]
  },
  {
   "cell_type": "markdown",
   "metadata": {},
   "source": [
    "**조류가 가장 심한 시기 확인용 선그래프**\n",
    "\n",
    "- 10월 초순이 가장 높아 보임\n",
    "- 여름 데이터가 없음"
   ]
  },
  {
   "cell_type": "code",
   "execution_count": 34,
   "metadata": {},
   "outputs": [
    {
     "data": {
      "text/plain": [
       "<AxesSubplot:xlabel='측정일/월'>"
      ]
     },
     "execution_count": 34,
     "metadata": {},
     "output_type": "execute_result"
    },
    {
     "data": {
      "image/png": "[encoded data removed]",
      "text/plain": [
       "<Figure size 432x288 with 1 Axes>"
      ]
     },
     "metadata": {
      "needs_background": "light"
     },
     "output_type": "display_data"
    }
   ],
   "source": [
    "SC2012CHLA_wo_NA.plot()"
   ]
  },
  {
   "cell_type": "markdown",
   "metadata": {},
   "source": [
    "- 2012년 10월 2일, 15시에 가장 조류 가장 심함"
   ]
  },
  {
   "cell_type": "code",
   "execution_count": 35,
   "metadata": {},
   "outputs": [
    {
     "data": {
      "text/plain": [
       "클로로필-a mg/㎥   2012-10-02 15:00:00\n",
       "dtype: datetime64[ns]"
      ]
     },
     "execution_count": 35,
     "metadata": {},
     "output_type": "execute_result"
    }
   ],
   "source": [
    "SC2012CHLA_wo_NA.idxmax()"
   ]
  },
  {
   "cell_type": "markdown",
   "metadata": {},
   "source": [
    "## 2013년 데이터"
   ]
  },
  {
   "cell_type": "code",
   "execution_count": 43,
   "metadata": {},
   "outputs": [],
   "source": [
    "seungchonbo2013CHLA = seungchonbo_df['2013년'].iloc[:, [-1]].copy()"
   ]
  },
  {
   "cell_type": "code",
   "execution_count": 37,
   "metadata": {},
   "outputs": [
    {
     "data": {
      "text/html": [
       "<div>\n",
       "<style scoped>\n",
       "    .dataframe tbody tr th:only-of-type {\n",
       "        vertical-align: middle;\n",
       "    }\n",
       "\n",
       "    .dataframe tbody tr th {\n",
       "        vertical-align: top;\n",
       "    }\n",
       "\n",
       "    .dataframe thead th {\n",
       "        text-align: right;\n",
       "    }\n",
       "</style>\n",
       "<table border=\"1\" class=\"dataframe\">\n",
       "  <thead>\n",
       "    <tr style=\"text-align: right;\">\n",
       "      <th></th>\n",
       "      <th>클로로필-a mg/㎥</th>\n",
       "    </tr>\n",
       "    <tr>\n",
       "      <th>측정일/월</th>\n",
       "      <th></th>\n",
       "    </tr>\n",
       "  </thead>\n",
       "  <tbody>\n",
       "    <tr>\n",
       "      <th>2013-01-01 00:00:00</th>\n",
       "      <td>7.2</td>\n",
       "    </tr>\n",
       "    <tr>\n",
       "      <th>2013-01-01 01:00:00</th>\n",
       "      <td>6.9</td>\n",
       "    </tr>\n",
       "    <tr>\n",
       "      <th>2013-01-01 02:00:00</th>\n",
       "      <td>6.8</td>\n",
       "    </tr>\n",
       "    <tr>\n",
       "      <th>2013-01-01 03:00:00</th>\n",
       "      <td>6.9</td>\n",
       "    </tr>\n",
       "    <tr>\n",
       "      <th>2013-01-01 04:00:00</th>\n",
       "      <td>6.9</td>\n",
       "    </tr>\n",
       "    <tr>\n",
       "      <th>...</th>\n",
       "      <td>...</td>\n",
       "    </tr>\n",
       "    <tr>\n",
       "      <th>2013-12-31 19:00:00</th>\n",
       "      <td>10.3</td>\n",
       "    </tr>\n",
       "    <tr>\n",
       "      <th>2013-12-31 20:00:00</th>\n",
       "      <td>9.9</td>\n",
       "    </tr>\n",
       "    <tr>\n",
       "      <th>2013-12-31 21:00:00</th>\n",
       "      <td>10.0</td>\n",
       "    </tr>\n",
       "    <tr>\n",
       "      <th>2013-12-31 22:00:00</th>\n",
       "      <td>11.7</td>\n",
       "    </tr>\n",
       "    <tr>\n",
       "      <th>2013-12-31 23:00:00</th>\n",
       "      <td>13.2</td>\n",
       "    </tr>\n",
       "  </tbody>\n",
       "</table>\n",
       "<p>8750 rows × 1 columns</p>\n",
       "</div>"
      ],
      "text/plain": [
       "                     클로로필-a mg/㎥\n",
       "측정일/월                           \n",
       "2013-01-01 00:00:00          7.2\n",
       "2013-01-01 01:00:00          6.9\n",
       "2013-01-01 02:00:00          6.8\n",
       "2013-01-01 03:00:00          6.9\n",
       "2013-01-01 04:00:00          6.9\n",
       "...                          ...\n",
       "2013-12-31 19:00:00         10.3\n",
       "2013-12-31 20:00:00          9.9\n",
       "2013-12-31 21:00:00         10.0\n",
       "2013-12-31 22:00:00         11.7\n",
       "2013-12-31 23:00:00         13.2\n",
       "\n",
       "[8750 rows x 1 columns]"
      ]
     },
     "execution_count": 37,
     "metadata": {},
     "output_type": "execute_result"
    }
   ],
   "source": [
    "seungchonbo2013CHLA"
   ]
  },
  {
   "cell_type": "markdown",
   "metadata": {},
   "source": [
    "- 결측치 행 삭제"
   ]
  },
  {
   "cell_type": "code",
   "execution_count": 38,
   "metadata": {},
   "outputs": [
    {
     "data": {
      "text/html": [
       "<div>\n",
       "<style scoped>\n",
       "    .dataframe tbody tr th:only-of-type {\n",
       "        vertical-align: middle;\n",
       "    }\n",
       "\n",
       "    .dataframe tbody tr th {\n",
       "        vertical-align: top;\n",
       "    }\n",
       "\n",
       "    .dataframe thead th {\n",
       "        text-align: right;\n",
       "    }\n",
       "</style>\n",
       "<table border=\"1\" class=\"dataframe\">\n",
       "  <thead>\n",
       "    <tr style=\"text-align: right;\">\n",
       "      <th></th>\n",
       "      <th>클로로필-a mg/㎥</th>\n",
       "    </tr>\n",
       "    <tr>\n",
       "      <th>측정일/월</th>\n",
       "      <th></th>\n",
       "    </tr>\n",
       "  </thead>\n",
       "  <tbody>\n",
       "    <tr>\n",
       "      <th>2013-01-01 00:00:00</th>\n",
       "      <td>7.2</td>\n",
       "    </tr>\n",
       "    <tr>\n",
       "      <th>2013-01-01 01:00:00</th>\n",
       "      <td>6.9</td>\n",
       "    </tr>\n",
       "    <tr>\n",
       "      <th>2013-01-01 02:00:00</th>\n",
       "      <td>6.8</td>\n",
       "    </tr>\n",
       "    <tr>\n",
       "      <th>2013-01-01 03:00:00</th>\n",
       "      <td>6.9</td>\n",
       "    </tr>\n",
       "    <tr>\n",
       "      <th>2013-01-01 04:00:00</th>\n",
       "      <td>6.9</td>\n",
       "    </tr>\n",
       "    <tr>\n",
       "      <th>...</th>\n",
       "      <td>...</td>\n",
       "    </tr>\n",
       "    <tr>\n",
       "      <th>2013-12-31 19:00:00</th>\n",
       "      <td>10.3</td>\n",
       "    </tr>\n",
       "    <tr>\n",
       "      <th>2013-12-31 20:00:00</th>\n",
       "      <td>9.9</td>\n",
       "    </tr>\n",
       "    <tr>\n",
       "      <th>2013-12-31 21:00:00</th>\n",
       "      <td>10.0</td>\n",
       "    </tr>\n",
       "    <tr>\n",
       "      <th>2013-12-31 22:00:00</th>\n",
       "      <td>11.7</td>\n",
       "    </tr>\n",
       "    <tr>\n",
       "      <th>2013-12-31 23:00:00</th>\n",
       "      <td>13.2</td>\n",
       "    </tr>\n",
       "  </tbody>\n",
       "</table>\n",
       "<p>7109 rows × 1 columns</p>\n",
       "</div>"
      ],
      "text/plain": [
       "                     클로로필-a mg/㎥\n",
       "측정일/월                           \n",
       "2013-01-01 00:00:00          7.2\n",
       "2013-01-01 01:00:00          6.9\n",
       "2013-01-01 02:00:00          6.8\n",
       "2013-01-01 03:00:00          6.9\n",
       "2013-01-01 04:00:00          6.9\n",
       "...                          ...\n",
       "2013-12-31 19:00:00         10.3\n",
       "2013-12-31 20:00:00          9.9\n",
       "2013-12-31 21:00:00         10.0\n",
       "2013-12-31 22:00:00         11.7\n",
       "2013-12-31 23:00:00         13.2\n",
       "\n",
       "[7109 rows x 1 columns]"
      ]
     },
     "execution_count": 38,
     "metadata": {},
     "output_type": "execute_result"
    }
   ],
   "source": [
    "SC2013CHLA_wo_NA = seungchonbo2013CHLA.dropna()\n",
    "SC2013CHLA_wo_NA"
   ]
  },
  {
   "cell_type": "markdown",
   "metadata": {},
   "source": [
    "**조류가 가장 심한 시기 확인용 선그래프**\n",
    "\n",
    "- 5월 초순이 가장 높아 보임"
   ]
  },
  {
   "cell_type": "code",
   "execution_count": 39,
   "metadata": {},
   "outputs": [
    {
     "data": {
      "text/plain": [
       "<AxesSubplot:xlabel='측정일/월'>"
      ]
     },
     "execution_count": 39,
     "metadata": {},
     "output_type": "execute_result"
    },
    {
     "data": {
      "image/png": "[encoded data removed]",
      "text/plain": [
       "<Figure size 432x288 with 1 Axes>"
      ]
     },
     "metadata": {
      "needs_background": "light"
     },
     "output_type": "display_data"
    }
   ],
   "source": [
    "SC2013CHLA_wo_NA.plot()"
   ]
  },
  {
   "cell_type": "markdown",
   "metadata": {},
   "source": [
    "- 2013년 5월 7일, 14시에 가장 조류 가장 심함"
   ]
  },
  {
   "cell_type": "code",
   "execution_count": 40,
   "metadata": {},
   "outputs": [
    {
     "data": {
      "text/plain": [
       "클로로필-a mg/㎥   2013-05-07 14:00:00\n",
       "dtype: datetime64[ns]"
      ]
     },
     "execution_count": 40,
     "metadata": {},
     "output_type": "execute_result"
    }
   ],
   "source": [
    "SC2013CHLA_wo_NA.idxmax()"
   ]
  },
  {
   "cell_type": "markdown",
   "metadata": {},
   "source": [
    "## 연도별 조류 최고점"
   ]
  },
  {
   "cell_type": "code",
   "execution_count": 44,
   "metadata": {},
   "outputs": [
    {
     "name": "stdout",
     "output_type": "stream",
     "text": [
      "클로로필-a mg/㎥   2012-10-02 15:00:00\n",
      "dtype: datetime64[ns]\n",
      "클로로필-a mg/㎥   2013-05-07 14:00:00\n",
      "dtype: datetime64[ns]\n",
      "클로로필-a mg/㎥   2014-04-08 14:00:00\n",
      "dtype: datetime64[ns]\n",
      "클로로필-a mg/㎥   2015-03-30 10:00:00\n",
      "dtype: datetime64[ns]\n",
      "클로로필-a mg/㎥   2016-08-06 14:00:00\n",
      "dtype: datetime64[ns]\n",
      "클로로필-a mg/㎥   2017-07-31 13:00:00\n",
      "dtype: datetime64[ns]\n",
      "클로로필-a mg/㎥   2018-01-31 19:00:00\n",
      "dtype: datetime64[ns]\n",
      "클로로필-a mg/㎥   2019-08-04 22:00:00\n",
      "dtype: datetime64[ns]\n",
      "클로로필-a mg/㎥   2020-03-16 15:00:00\n",
      "dtype: datetime64[ns]\n",
      "클로로필-a mg/㎥   2021-04-19 18:00:00\n",
      "dtype: datetime64[ns]\n",
      "클로로필-a mg/㎥   2022-04-04 18:00:00\n",
      "dtype: datetime64[ns]\n"
     ]
    }
   ],
   "source": [
    "for year in seungchonbo_df:\n",
    "    seungchonboCHLA_year = seungchonbo_df[year].iloc[:, [-1]].copy()\n",
    "    SC_CHLA_wo_NA = seungchonboCHLA_year.dropna()\n",
    "    print(SC_CHLA_wo_NA.idxmax())"
   ]
  },
  {
   "cell_type": "markdown",
   "metadata": {},
   "source": [
    "## 연도별 결측치 개수"
   ]
  },
  {
   "cell_type": "code",
   "execution_count": 50,
   "metadata": {},
   "outputs": [
    {
     "name": "stdout",
     "output_type": "stream",
     "text": [
      "2012년 전체 데이터 수: 4343\n",
      "2012년 결측치 데이터 수: 클로로필-a mg/㎥    2073\n",
      "dtype: int64\n",
      "2013년 전체 데이터 수: 8750\n",
      "2013년 결측치 데이터 수: 클로로필-a mg/㎥    1641\n",
      "dtype: int64\n",
      "2014년 전체 데이터 수: 8760\n",
      "2014년 결측치 데이터 수: 클로로필-a mg/㎥    618\n",
      "dtype: int64\n",
      "2015년 전체 데이터 수: 8739\n",
      "2015년 결측치 데이터 수: 클로로필-a mg/㎥    323\n",
      "dtype: int64\n",
      "2016년 전체 데이터 수: 8784\n",
      "2016년 결측치 데이터 수: 클로로필-a mg/㎥    598\n",
      "dtype: int64\n",
      "2017년 전체 데이터 수: 8730\n",
      "2017년 결측치 데이터 수: 클로로필-a mg/㎥    1545\n",
      "dtype: int64\n",
      "2018년 전체 데이터 수: 8758\n",
      "2018년 결측치 데이터 수: 클로로필-a mg/㎥    6720\n",
      "dtype: int64\n",
      "2019년 전체 데이터 수: 8760\n",
      "2019년 결측치 데이터 수: 클로로필-a mg/㎥    3517\n",
      "dtype: int64\n",
      "2020년 전체 데이터 수: 8784\n",
      "2020년 결측치 데이터 수: 클로로필-a mg/㎥    2930\n",
      "dtype: int64\n",
      "2021년 전체 데이터 수: 8760\n",
      "2021년 결측치 데이터 수: 클로로필-a mg/㎥    1319\n",
      "dtype: int64\n",
      "2022년 전체 데이터 수: 3432\n",
      "2022년 결측치 데이터 수: 클로로필-a mg/㎥    170\n",
      "dtype: int64\n"
     ]
    }
   ],
   "source": [
    "for year in seungchonbo_df:\n",
    "    seungchonboCHLA_year = seungchonbo_df[year].iloc[:, [-1]].copy()\n",
    "    print(f\"{year} 전체 데이터 수: {len(seungchonboCHLA_year)}\")\n",
    "    print(f\"{year} 결측치 데이터 수: {seungchonboCHLA_year.isna().sum()}\")"
   ]
  }
 ],
 "metadata": {
  "kernelspec": {
   "display_name": "Python 3.9.13 ('homl3')",
   "language": "python",
   "name": "python3"
  },
  "language_info": {
   "codemirror_mode": {
    "name": "ipython",
    "version": 3
   },
   "file_extension": ".py",
   "mimetype": "text/x-python",
   "name": "python",
   "nbconvert_exporter": "python",
   "pygments_lexer": "ipython3",
   "version": "3.9.13"
  },
  "orig_nbformat": 4,
  "vscode": {
   "interpreter": {
    "hash": "87326548fe22e0f6dacd268b079dcc7a15583d9081b3203af40b067350baf618"
   }
  }
 },
 "nbformat": 4,
 "nbformat_minor": 2
}
