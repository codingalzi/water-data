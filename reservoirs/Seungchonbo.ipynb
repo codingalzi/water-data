{
 "cells": [
  {
   "cell_type": "code",
   "execution_count": 1,
   "metadata": {},
   "outputs": [],
   "source": [
    "import numpy as np\n",
    "import pandas as pd\n",
    "import matplotlib.pyplot as plt"
   ]
  },
  {
   "cell_type": "code",
   "execution_count": 2,
   "metadata": {},
   "outputs": [],
   "source": [
    "base_url = \"https://github.com/codingalzi/water-data/raw/master/reservoirs/\""
   ]
  },
  {
   "cell_type": "code",
   "execution_count": 13,
   "metadata": {},
   "outputs": [],
   "source": [
    "seungchonbo_df = pd.read_excel(base_url+\"Seungchonbo.xlsx\", skiprows=0, header=1, sheet_name=None)"
   ]
  },
  {
   "cell_type": "code",
   "execution_count": 23,
   "metadata": {},
   "outputs": [
    {
     "data": {
      "text/plain": [
       "dict"
      ]
     },
     "execution_count": 23,
     "metadata": {},
     "output_type": "execute_result"
    }
   ],
   "source": [
    "type(seungchonbo_df)"
   ]
  },
  {
   "cell_type": "code",
   "execution_count": 30,
   "metadata": {},
   "outputs": [
    {
     "data": {
      "text/plain": [
       "dict_keys(['2012년', '2013년', '2014년', '2015년', '2016년', '2017년', '2018년', '2019년', '2020년', '2021년', '2022년'])"
      ]
     },
     "execution_count": 30,
     "metadata": {},
     "output_type": "execute_result"
    }
   ],
   "source": [
    "seungchonbo_df.keys()"
   ]
  },
  {
   "cell_type": "code",
   "execution_count": 34,
   "metadata": {},
   "outputs": [
    {
     "data": {
      "text/plain": [
       "<bound method DataFrame.info of                측정일/월 측정소명  수온 ℃  수소이온농도  전기전도도 μS/cm  용존산소 mg/L  총유기탄소 mg/L  \\\n",
       "0     2012-07-01 00h   용봉   NaN     NaN          NaN        NaN         NaN   \n",
       "1     2012-07-01 01h   용봉   NaN     NaN          NaN        NaN         NaN   \n",
       "2     2012-07-01 02h   용봉   NaN     NaN          NaN        NaN         NaN   \n",
       "3     2012-07-01 03h   용봉   NaN     NaN          NaN        NaN         NaN   \n",
       "4     2012-07-01 04h   용봉   NaN     NaN          NaN        NaN         NaN   \n",
       "...              ...  ...   ...     ...          ...        ...         ...   \n",
       "4338  2012-12-31 19h   용봉   4.4     6.9        374.0       11.3         2.5   \n",
       "4339  2012-12-31 20h   용봉   4.3     6.9        374.0       11.4         2.5   \n",
       "4340  2012-12-31 21h   용봉   4.3     6.9        373.0       11.4         2.5   \n",
       "4341  2012-12-31 22h   용봉   4.3     6.9        375.0       11.4         2.5   \n",
       "4342  2012-12-31 23h   용봉   4.1     6.9        375.0       11.4         2.5   \n",
       "\n",
       "      총질소 mg/L  총인 mg/L  클로로필-a mg/㎥  \n",
       "0          NaN      NaN          NaN  \n",
       "1          NaN      NaN          NaN  \n",
       "2          NaN      NaN          NaN  \n",
       "3          NaN      NaN          NaN  \n",
       "4          NaN      NaN          NaN  \n",
       "...        ...      ...          ...  \n",
       "4338       NaN      NaN          6.9  \n",
       "4339       NaN      NaN          7.2  \n",
       "4340       NaN      NaN          7.0  \n",
       "4341       NaN      NaN          7.1  \n",
       "4342       NaN      NaN          7.1  \n",
       "\n",
       "[4343 rows x 10 columns]>"
      ]
     },
     "execution_count": 34,
     "metadata": {},
     "output_type": "execute_result"
    }
   ],
   "source": [
    "seungchonbo_df['2012년'].info"
   ]
  },
  {
   "cell_type": "code",
   "execution_count": 36,
   "metadata": {},
   "outputs": [
    {
     "name": "stdout",
     "output_type": "stream",
     "text": [
      "4343\n",
      "8750\n",
      "8760\n",
      "8739\n",
      "8784\n",
      "8730\n",
      "8758\n",
      "8760\n",
      "8784\n",
      "8760\n",
      "3432\n"
     ]
    }
   ],
   "source": [
    "for year in seungchonbo_df:\n",
    "    print(len(seungchonbo_df[year]))"
   ]
  }
 ],
 "metadata": {
  "kernelspec": {
   "display_name": "Python 3.9.13 ('homl3')",
   "language": "python",
   "name": "python3"
  },
  "language_info": {
   "codemirror_mode": {
    "name": "ipython",
    "version": 3
   },
   "file_extension": ".py",
   "mimetype": "text/x-python",
   "name": "python",
   "nbconvert_exporter": "python",
   "pygments_lexer": "ipython3",
   "version": "3.9.13"
  },
  "orig_nbformat": 4,
  "vscode": {
   "interpreter": {
    "hash": "87326548fe22e0f6dacd268b079dcc7a15583d9081b3203af40b067350baf618"
   }
  }
 },
 "nbformat": 4,
 "nbformat_minor": 2
}
