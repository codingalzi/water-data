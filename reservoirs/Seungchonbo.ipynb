{
 "cells": [
  {
   "cell_type": "markdown",
   "metadata": {},
   "source": [
    "**목표**\n",
    "\n",
    "용봉은 승촌보 인근에 위치하고 있는데, 조류 발생 문제가 빈번하게 발생한다.\n",
    "광주에서 나오는 하수처리장의 방류수가 하천 유량의 70% 정도가 되어 수질이 매우 안 좋으며\n",
    "녹조도 많이 발생한다.\n",
    "\n",
    "1. 조류 발생과 관련하여 조류(클로로필) 농도가 높게 나타나는 계절을 찾는다. 주로 여름철?\n",
    "2. 조류 발생 관련 인자로 총질소, 총인, 온도 등 중에 어느 요인이 가장 중요한지 찾는다.\n",
    "    현재 국내 정책은 총인의 농도가 가장 중요하다고 여기고 정책을 진행한다.\n",
    "3. 보 건설에 따른 영향을 보고 싶지만 보 건설은 2011년에 했고, \n",
    "    수질 데이터는 2012년부터 공개가 되었어서 보 건설 전후로 설명은 어렵다.\n",
    "    다만, 2017년부터 보개방을 시작했기에 수문 개방에 따른 수질 효과 분석은 가능하다.\n",
    "4. 승촌보(용봉) 데이터와 하류에 있는 죽산보(나주) 측정망 자료를 이용하여\n",
    "    상류와 하류의 비교도 진행한다."
   ]
  },
  {
   "cell_type": "markdown",
   "metadata": {},
   "source": [
    "**필수 라이브러리**"
   ]
  },
  {
   "cell_type": "code",
   "execution_count": 1,
   "metadata": {},
   "outputs": [],
   "source": [
    "import numpy as np\n",
    "import pandas as pd\n",
    "import matplotlib.pyplot as plt\n",
    "import matplotlib\n",
    "\n",
    "plt.rc('figure', figsize=(10, 6))  # 그림 크기 설정"
   ]
  },
  {
   "cell_type": "markdown",
   "metadata": {},
   "source": [
    "**matplotlib 한글 설정**\n",
    "\n",
    "- 운영체제에 따른 한글 지원 설정. 윈도우, 우분투, 구글 코랩 지원.\n",
    "- 참고: [matplotlib에서 한글 지원하기](https://github.com/codingalzi/datapy/blob/master/matplotlib-korean.md)"
   ]
  },
  {
   "cell_type": "code",
   "execution_count": 6,
   "metadata": {},
   "outputs": [],
   "source": [
    "import platform\n",
    "\n",
    "if platform.system() == 'Windows': # 윈도우\n",
    "    from matplotlib import font_manager, rc\n",
    "    font_path = \"C:/Windows/Fonts/NGULIM.TTF\"\n",
    "    font = font_manager.FontProperties(fname=font_path).get_name()\n",
    "    rc('font', family=font)\n",
    "elif platform.system() == 'Linux': # 우분투 또는 구글 코랩\n",
    "    # !sudo apt-get install -y fonts-nanum*\n",
    "    # !fc-cache -fv\n",
    "    \n",
    "    applyfont = \"NanumBarunGothic\"\n",
    "    import matplotlib.font_manager as fm\n",
    "    if not any(map(lambda ft: ft.name == applyfont, fm.fontManager.ttflist)):\n",
    "        fm.fontManager.addfont(\"/usr/share/fonts/truetype/nanum/NanumBarunGothic.ttf\")\n",
    "    plt.rc(\"font\", family=applyfont)\n",
    "    plt.rc(\"axes\", unicode_minus=False)\n",
    "    "
   ]
  },
  {
   "cell_type": "markdown",
   "metadata": {},
   "source": [
    "**데이터**\n",
    "\n",
    "데이터는 연도별로 분리되어 있으며 원본 엑셀 파일은 아래 서버에 저장되어 있다."
   ]
  },
  {
   "cell_type": "code",
   "execution_count": 3,
   "metadata": {},
   "outputs": [],
   "source": [
    "base_url = \"https://github.com/codingalzi/water-data/raw/master/reservoirs/\""
   ]
  },
  {
   "cell_type": "markdown",
   "metadata": {},
   "source": [
    "**승촌보 (엑셀) 자료를 데이터프레임으로 불러오기**\n",
    "\n",
    "- `skiprows=0`: 0번 행 무시. 모든 워크시트 대상.\n",
    "- `header=1`: 1번 행을 header로 지정, 즉 열 인덱스로 사용.\n",
    "- `sheet_name=None`: 모든 워크시트 가져오기. 워크시트별로 하나의 df 생성. 반환값은 사전.\n",
    "- `na_values='ND'`: ND(No Data/Not Determinded) 또한 결측치로 처리. 용조산소 열에 포함되어 있음.\n",
    "- `index_col=0`: 측정일을 행 인덱스로 사용\n",
    "- `parse_dates=True`: 행 인덱스로 사용되는 날짜 대상 파싱 실행"
   ]
  },
  {
   "cell_type": "markdown",
   "metadata": {},
   "source": [
    "주의: 아래 모듈을 먼저 설치해야 할 수도 있다.\n",
    "\n",
    "```python\n",
    "!pip install openpyxl\n",
    "```"
   ]
  },
  {
   "cell_type": "code",
   "execution_count": 4,
   "metadata": {},
   "outputs": [],
   "source": [
    "scb_yearly = pd.read_excel(base_url+\"Seungchonbo.xlsx\", \n",
    "                            skiprows=0, \n",
    "                            header=1, \n",
    "                            sheet_name=None,\n",
    "                            na_values='ND',\n",
    "                            index_col=0, \n",
    "                            parse_dates=True)"
   ]
  },
  {
   "cell_type": "markdown",
   "metadata": {},
   "source": [
    "- 2012년부터 2022년까지의 데이터가 각각의 워크시트(worksheet)로 존재.\n",
    "- 따라서 년도를 키로 갖는 사전 자료형으로 불러옴.\n",
    "- 키값은 각각의 워크시트를 담은 데이터프레임."
   ]
  },
  {
   "cell_type": "code",
   "execution_count": 5,
   "metadata": {},
   "outputs": [
    {
     "data": {
      "text/plain": [
       "dict"
      ]
     },
     "execution_count": 5,
     "metadata": {},
     "output_type": "execute_result"
    }
   ],
   "source": [
    "type(scb_yearly)"
   ]
  },
  {
   "cell_type": "code",
   "execution_count": 7,
   "metadata": {},
   "outputs": [
    {
     "data": {
      "text/plain": [
       "dict_keys(['2012년', '2013년', '2014년', '2015년', '2016년', '2017년', '2018년', '2019년', '2020년', '2021년', '2022년'])"
      ]
     },
     "execution_count": 7,
     "metadata": {},
     "output_type": "execute_result"
    }
   ],
   "source": [
    "scb_yearly.keys()"
   ]
  },
  {
   "cell_type": "markdown",
   "metadata": {},
   "source": [
    "**연도별 데이터 수**\n",
    "\n",
    "- 2012년과 2022년 데이터 수는 크지 않음.\n"
   ]
  },
  {
   "cell_type": "code",
   "execution_count": 8,
   "metadata": {},
   "outputs": [
    {
     "name": "stdout",
     "output_type": "stream",
     "text": [
      "4343\n",
      "8750\n",
      "8760\n",
      "8739\n",
      "8784\n",
      "8730\n",
      "8758\n",
      "8760\n",
      "8784\n",
      "8760\n",
      "3432\n"
     ]
    }
   ],
   "source": [
    "for year in scb_yearly:\n",
    "    print(len(scb_yearly[year]))"
   ]
  },
  {
   "cell_type": "markdown",
   "metadata": {},
   "source": [
    "**2013년 데이터 정보 요약**"
   ]
  },
  {
   "cell_type": "code",
   "execution_count": 9,
   "metadata": {},
   "outputs": [
    {
     "data": {
      "text/plain": [
       "<bound method DataFrame.info of                     측정소명  수온 ℃  수소이온농도  전기전도도 μS/cm  용존산소 mg/L  총유기탄소 mg/L  \\\n",
       "측정일/월                                                                        \n",
       "2013-01-01 00:00:00   용봉   3.9     6.9        374.0       11.4         2.5   \n",
       "2013-01-01 01:00:00   용봉   3.9     6.9        375.0       11.4         2.5   \n",
       "2013-01-01 02:00:00   용봉   4.0     6.9        374.0       11.4         2.5   \n",
       "2013-01-01 03:00:00   용봉   4.1     6.9        375.0       11.4         2.5   \n",
       "2013-01-01 04:00:00   용봉   4.0     6.9        380.0       11.3         2.6   \n",
       "...                  ...   ...     ...          ...        ...         ...   \n",
       "2013-12-31 19:00:00   용봉   6.1     6.7        414.0        8.0         3.9   \n",
       "2013-12-31 20:00:00   용봉   6.1     6.7        416.0        7.8         3.8   \n",
       "2013-12-31 21:00:00   용봉   6.1     6.7        416.0        7.9         3.5   \n",
       "2013-12-31 22:00:00   용봉   5.9     6.7        413.0        8.3         3.5   \n",
       "2013-12-31 23:00:00   용봉   5.8     6.7        410.0        8.5         3.5   \n",
       "\n",
       "                     총질소 mg/L  총인 mg/L  클로로필-a mg/㎥  \n",
       "측정일/월                                                \n",
       "2013-01-01 00:00:00       NaN      NaN          7.2  \n",
       "2013-01-01 01:00:00       NaN      NaN          6.9  \n",
       "2013-01-01 02:00:00       NaN      NaN          6.8  \n",
       "2013-01-01 03:00:00       NaN      NaN          6.9  \n",
       "2013-01-01 04:00:00       NaN      NaN          6.9  \n",
       "...                       ...      ...          ...  \n",
       "2013-12-31 19:00:00     6.523    0.058         10.3  \n",
       "2013-12-31 20:00:00     6.489    0.059          9.9  \n",
       "2013-12-31 21:00:00     6.522    0.058         10.0  \n",
       "2013-12-31 22:00:00     6.600    0.056         11.7  \n",
       "2013-12-31 23:00:00     6.574    0.056         13.2  \n",
       "\n",
       "[8750 rows x 9 columns]>"
      ]
     },
     "execution_count": 9,
     "metadata": {},
     "output_type": "execute_result"
    }
   ],
   "source": [
    "scb_yearly['2013년'].info"
   ]
  },
  {
   "cell_type": "code",
   "execution_count": 10,
   "metadata": {},
   "outputs": [
    {
     "data": {
      "text/html": [
       "<div>\n",
       "<style scoped>\n",
       "    .dataframe tbody tr th:only-of-type {\n",
       "        vertical-align: middle;\n",
       "    }\n",
       "\n",
       "    .dataframe tbody tr th {\n",
       "        vertical-align: top;\n",
       "    }\n",
       "\n",
       "    .dataframe thead th {\n",
       "        text-align: right;\n",
       "    }\n",
       "</style>\n",
       "<table border=\"1\" class=\"dataframe\">\n",
       "  <thead>\n",
       "    <tr style=\"text-align: right;\">\n",
       "      <th></th>\n",
       "      <th>수온 ℃</th>\n",
       "      <th>수소이온농도</th>\n",
       "      <th>전기전도도 μS/cm</th>\n",
       "      <th>용존산소 mg/L</th>\n",
       "      <th>총유기탄소 mg/L</th>\n",
       "      <th>총질소 mg/L</th>\n",
       "      <th>총인 mg/L</th>\n",
       "      <th>클로로필-a mg/㎥</th>\n",
       "    </tr>\n",
       "  </thead>\n",
       "  <tbody>\n",
       "    <tr>\n",
       "      <th>count</th>\n",
       "      <td>8052.000000</td>\n",
       "      <td>8052.000000</td>\n",
       "      <td>8050.000000</td>\n",
       "      <td>7935.000000</td>\n",
       "      <td>8042.000000</td>\n",
       "      <td>5993.000000</td>\n",
       "      <td>6048.000000</td>\n",
       "      <td>7109.000000</td>\n",
       "    </tr>\n",
       "    <tr>\n",
       "      <th>mean</th>\n",
       "      <td>17.321436</td>\n",
       "      <td>6.987332</td>\n",
       "      <td>306.202360</td>\n",
       "      <td>6.767360</td>\n",
       "      <td>4.000037</td>\n",
       "      <td>4.665678</td>\n",
       "      <td>0.121389</td>\n",
       "      <td>45.495344</td>\n",
       "    </tr>\n",
       "    <tr>\n",
       "      <th>std</th>\n",
       "      <td>8.929434</td>\n",
       "      <td>0.540216</td>\n",
       "      <td>70.726738</td>\n",
       "      <td>3.853567</td>\n",
       "      <td>1.139817</td>\n",
       "      <td>1.371038</td>\n",
       "      <td>0.079755</td>\n",
       "      <td>37.615432</td>\n",
       "    </tr>\n",
       "    <tr>\n",
       "      <th>min</th>\n",
       "      <td>2.200000</td>\n",
       "      <td>6.300000</td>\n",
       "      <td>101.000000</td>\n",
       "      <td>0.500000</td>\n",
       "      <td>2.100000</td>\n",
       "      <td>1.929000</td>\n",
       "      <td>0.030000</td>\n",
       "      <td>2.600000</td>\n",
       "    </tr>\n",
       "    <tr>\n",
       "      <th>25%</th>\n",
       "      <td>8.700000</td>\n",
       "      <td>6.700000</td>\n",
       "      <td>258.000000</td>\n",
       "      <td>3.700000</td>\n",
       "      <td>3.200000</td>\n",
       "      <td>3.470000</td>\n",
       "      <td>0.066000</td>\n",
       "      <td>14.500000</td>\n",
       "    </tr>\n",
       "    <tr>\n",
       "      <th>50%</th>\n",
       "      <td>17.200000</td>\n",
       "      <td>6.800000</td>\n",
       "      <td>305.000000</td>\n",
       "      <td>6.300000</td>\n",
       "      <td>3.700000</td>\n",
       "      <td>4.704000</td>\n",
       "      <td>0.099000</td>\n",
       "      <td>37.700000</td>\n",
       "    </tr>\n",
       "    <tr>\n",
       "      <th>75%</th>\n",
       "      <td>25.400000</td>\n",
       "      <td>7.100000</td>\n",
       "      <td>359.000000</td>\n",
       "      <td>9.500000</td>\n",
       "      <td>4.600000</td>\n",
       "      <td>5.705000</td>\n",
       "      <td>0.146000</td>\n",
       "      <td>64.800000</td>\n",
       "    </tr>\n",
       "    <tr>\n",
       "      <th>max</th>\n",
       "      <td>36.100000</td>\n",
       "      <td>9.600000</td>\n",
       "      <td>456.000000</td>\n",
       "      <td>24.300000</td>\n",
       "      <td>19.300000</td>\n",
       "      <td>9.972000</td>\n",
       "      <td>0.745000</td>\n",
       "      <td>453.500000</td>\n",
       "    </tr>\n",
       "  </tbody>\n",
       "</table>\n",
       "</div>"
      ],
      "text/plain": [
       "              수온 ℃       수소이온농도  전기전도도 μS/cm    용존산소 mg/L   총유기탄소 mg/L  \\\n",
       "count  8052.000000  8052.000000  8050.000000  7935.000000  8042.000000   \n",
       "mean     17.321436     6.987332   306.202360     6.767360     4.000037   \n",
       "std       8.929434     0.540216    70.726738     3.853567     1.139817   \n",
       "min       2.200000     6.300000   101.000000     0.500000     2.100000   \n",
       "25%       8.700000     6.700000   258.000000     3.700000     3.200000   \n",
       "50%      17.200000     6.800000   305.000000     6.300000     3.700000   \n",
       "75%      25.400000     7.100000   359.000000     9.500000     4.600000   \n",
       "max      36.100000     9.600000   456.000000    24.300000    19.300000   \n",
       "\n",
       "          총질소 mg/L      총인 mg/L  클로로필-a mg/㎥  \n",
       "count  5993.000000  6048.000000  7109.000000  \n",
       "mean      4.665678     0.121389    45.495344  \n",
       "std       1.371038     0.079755    37.615432  \n",
       "min       1.929000     0.030000     2.600000  \n",
       "25%       3.470000     0.066000    14.500000  \n",
       "50%       4.704000     0.099000    37.700000  \n",
       "75%       5.705000     0.146000    64.800000  \n",
       "max       9.972000     0.745000   453.500000  "
      ]
     },
     "execution_count": 10,
     "metadata": {},
     "output_type": "execute_result"
    }
   ],
   "source": [
    "scb_yearly['2013년'].describe()"
   ]
  },
  {
   "cell_type": "markdown",
   "metadata": {},
   "source": [
    "**2013년 조류(클로로필 A) 데이터**"
   ]
  },
  {
   "cell_type": "code",
   "execution_count": 11,
   "metadata": {},
   "outputs": [
    {
     "data": {
      "text/html": [
       "<div>\n",
       "<style scoped>\n",
       "    .dataframe tbody tr th:only-of-type {\n",
       "        vertical-align: middle;\n",
       "    }\n",
       "\n",
       "    .dataframe tbody tr th {\n",
       "        vertical-align: top;\n",
       "    }\n",
       "\n",
       "    .dataframe thead th {\n",
       "        text-align: right;\n",
       "    }\n",
       "</style>\n",
       "<table border=\"1\" class=\"dataframe\">\n",
       "  <thead>\n",
       "    <tr style=\"text-align: right;\">\n",
       "      <th></th>\n",
       "      <th>클로로필-a mg/㎥</th>\n",
       "    </tr>\n",
       "    <tr>\n",
       "      <th>측정일/월</th>\n",
       "      <th></th>\n",
       "    </tr>\n",
       "  </thead>\n",
       "  <tbody>\n",
       "    <tr>\n",
       "      <th>2013-01-01 00:00:00</th>\n",
       "      <td>7.2</td>\n",
       "    </tr>\n",
       "    <tr>\n",
       "      <th>2013-01-01 01:00:00</th>\n",
       "      <td>6.9</td>\n",
       "    </tr>\n",
       "    <tr>\n",
       "      <th>2013-01-01 02:00:00</th>\n",
       "      <td>6.8</td>\n",
       "    </tr>\n",
       "    <tr>\n",
       "      <th>2013-01-01 03:00:00</th>\n",
       "      <td>6.9</td>\n",
       "    </tr>\n",
       "    <tr>\n",
       "      <th>2013-01-01 04:00:00</th>\n",
       "      <td>6.9</td>\n",
       "    </tr>\n",
       "    <tr>\n",
       "      <th>...</th>\n",
       "      <td>...</td>\n",
       "    </tr>\n",
       "    <tr>\n",
       "      <th>2013-12-31 19:00:00</th>\n",
       "      <td>10.3</td>\n",
       "    </tr>\n",
       "    <tr>\n",
       "      <th>2013-12-31 20:00:00</th>\n",
       "      <td>9.9</td>\n",
       "    </tr>\n",
       "    <tr>\n",
       "      <th>2013-12-31 21:00:00</th>\n",
       "      <td>10.0</td>\n",
       "    </tr>\n",
       "    <tr>\n",
       "      <th>2013-12-31 22:00:00</th>\n",
       "      <td>11.7</td>\n",
       "    </tr>\n",
       "    <tr>\n",
       "      <th>2013-12-31 23:00:00</th>\n",
       "      <td>13.2</td>\n",
       "    </tr>\n",
       "  </tbody>\n",
       "</table>\n",
       "<p>8750 rows × 1 columns</p>\n",
       "</div>"
      ],
      "text/plain": [
       "                     클로로필-a mg/㎥\n",
       "측정일/월                           \n",
       "2013-01-01 00:00:00          7.2\n",
       "2013-01-01 01:00:00          6.9\n",
       "2013-01-01 02:00:00          6.8\n",
       "2013-01-01 03:00:00          6.9\n",
       "2013-01-01 04:00:00          6.9\n",
       "...                          ...\n",
       "2013-12-31 19:00:00         10.3\n",
       "2013-12-31 20:00:00          9.9\n",
       "2013-12-31 21:00:00         10.0\n",
       "2013-12-31 22:00:00         11.7\n",
       "2013-12-31 23:00:00         13.2\n",
       "\n",
       "[8750 rows x 1 columns]"
      ]
     },
     "execution_count": 11,
     "metadata": {},
     "output_type": "execute_result"
    }
   ],
   "source": [
    "scb2013_CHLA = scb_yearly['2013년'].iloc[:, [-1]].copy()\n",
    "scb2013_CHLA"
   ]
  },
  {
   "cell_type": "markdown",
   "metadata": {},
   "source": [
    "- 2013년 조류(클로로필 A) 결측치 수"
   ]
  },
  {
   "cell_type": "code",
   "execution_count": 12,
   "metadata": {},
   "outputs": [
    {
     "data": {
      "text/plain": [
       "클로로필-a mg/㎥    1641\n",
       "dtype: int64"
      ]
     },
     "execution_count": 12,
     "metadata": {},
     "output_type": "execute_result"
    }
   ],
   "source": [
    "scb2013_CHLA.isna().sum()"
   ]
  },
  {
   "cell_type": "markdown",
   "metadata": {},
   "source": [
    "- 2013년 조류(클로로필 A) 결측치 제거"
   ]
  },
  {
   "cell_type": "code",
   "execution_count": 13,
   "metadata": {},
   "outputs": [],
   "source": [
    "scb2013_CHLA_wo_NA = scb2013_CHLA.dropna()"
   ]
  },
  {
   "cell_type": "markdown",
   "metadata": {},
   "source": [
    "* 조류 변화 선그래프"
   ]
  },
  {
   "cell_type": "code",
   "execution_count": 14,
   "metadata": {},
   "outputs": [
    {
     "data": {
      "text/plain": [
       "<AxesSubplot:xlabel='측정일/월'>"
      ]
     },
     "execution_count": 14,
     "metadata": {},
     "output_type": "execute_result"
    },
    {
     "data": {
      "image/png": "[encoded data removed]",
      "text/plain": [
       "<Figure size 720x432 with 1 Axes>"
      ]
     },
     "metadata": {
      "needs_background": "light"
     },
     "output_type": "display_data"
    }
   ],
   "source": [
    "scb2013_CHLA_wo_NA.plot()"
   ]
  },
  {
   "cell_type": "markdown",
   "metadata": {},
   "source": [
    "- 2013년 5월 7일, 14시에 가장 조류 가장 심함"
   ]
  },
  {
   "cell_type": "code",
   "execution_count": 15,
   "metadata": {},
   "outputs": [
    {
     "data": {
      "text/plain": [
       "클로로필-a mg/㎥   2013-05-07 14:00:00\n",
       "dtype: datetime64[ns]"
      ]
     },
     "execution_count": 15,
     "metadata": {},
     "output_type": "execute_result"
    }
   ],
   "source": [
    "scb2013_CHLA_wo_NA.idxmax()"
   ]
  },
  {
   "cell_type": "markdown",
   "metadata": {},
   "source": [
    "* 2013년 조류 기준 정렬"
   ]
  },
  {
   "cell_type": "code",
   "execution_count": 16,
   "metadata": {},
   "outputs": [
    {
     "data": {
      "text/plain": [
       "Index(['클로로필-a mg/㎥'], dtype='object')"
      ]
     },
     "execution_count": 16,
     "metadata": {},
     "output_type": "execute_result"
    }
   ],
   "source": [
    "scb2013_CHLA_wo_NA.columns"
   ]
  },
  {
   "cell_type": "markdown",
   "metadata": {},
   "source": [
    "5월 7일 전후로 조류가 가장 심함."
   ]
  },
  {
   "cell_type": "code",
   "execution_count": 17,
   "metadata": {},
   "outputs": [
    {
     "data": {
      "text/html": [
       "<div>\n",
       "<style scoped>\n",
       "    .dataframe tbody tr th:only-of-type {\n",
       "        vertical-align: middle;\n",
       "    }\n",
       "\n",
       "    .dataframe tbody tr th {\n",
       "        vertical-align: top;\n",
       "    }\n",
       "\n",
       "    .dataframe thead th {\n",
       "        text-align: right;\n",
       "    }\n",
       "</style>\n",
       "<table border=\"1\" class=\"dataframe\">\n",
       "  <thead>\n",
       "    <tr style=\"text-align: right;\">\n",
       "      <th></th>\n",
       "      <th>클로로필-a mg/㎥</th>\n",
       "    </tr>\n",
       "    <tr>\n",
       "      <th>측정일/월</th>\n",
       "      <th></th>\n",
       "    </tr>\n",
       "  </thead>\n",
       "  <tbody>\n",
       "    <tr>\n",
       "      <th>2013-05-07 14:00:00</th>\n",
       "      <td>453.5</td>\n",
       "    </tr>\n",
       "    <tr>\n",
       "      <th>2013-05-08 18:00:00</th>\n",
       "      <td>430.4</td>\n",
       "    </tr>\n",
       "    <tr>\n",
       "      <th>2013-05-06 14:00:00</th>\n",
       "      <td>423.5</td>\n",
       "    </tr>\n",
       "    <tr>\n",
       "      <th>2013-05-08 19:00:00</th>\n",
       "      <td>416.0</td>\n",
       "    </tr>\n",
       "    <tr>\n",
       "      <th>2013-05-06 13:00:00</th>\n",
       "      <td>409.7</td>\n",
       "    </tr>\n",
       "  </tbody>\n",
       "</table>\n",
       "</div>"
      ],
      "text/plain": [
       "                     클로로필-a mg/㎥\n",
       "측정일/월                           \n",
       "2013-05-07 14:00:00        453.5\n",
       "2013-05-08 18:00:00        430.4\n",
       "2013-05-06 14:00:00        423.5\n",
       "2013-05-08 19:00:00        416.0\n",
       "2013-05-06 13:00:00        409.7"
      ]
     },
     "execution_count": 17,
     "metadata": {},
     "output_type": "execute_result"
    }
   ],
   "source": [
    "scb2013_CHLA_wo_NA.sort_values('클로로필-a mg/㎥', ascending=False).head()"
   ]
  },
  {
   "cell_type": "markdown",
   "metadata": {},
   "source": [
    "## 연도별 조류 최고점"
   ]
  },
  {
   "cell_type": "code",
   "execution_count": 18,
   "metadata": {},
   "outputs": [
    {
     "name": "stdout",
     "output_type": "stream",
     "text": [
      "클로로필-a mg/㎥   2012-10-02 15:00:00\n",
      "dtype: datetime64[ns]\n",
      "클로로필-a mg/㎥   2013-05-07 14:00:00\n",
      "dtype: datetime64[ns]\n",
      "클로로필-a mg/㎥   2014-04-08 14:00:00\n",
      "dtype: datetime64[ns]\n",
      "클로로필-a mg/㎥   2015-03-30 10:00:00\n",
      "dtype: datetime64[ns]\n",
      "클로로필-a mg/㎥   2016-08-06 14:00:00\n",
      "dtype: datetime64[ns]\n",
      "클로로필-a mg/㎥   2017-07-31 13:00:00\n",
      "dtype: datetime64[ns]\n",
      "클로로필-a mg/㎥   2018-01-31 19:00:00\n",
      "dtype: datetime64[ns]\n",
      "클로로필-a mg/㎥   2019-08-04 22:00:00\n",
      "dtype: datetime64[ns]\n",
      "클로로필-a mg/㎥   2020-03-16 15:00:00\n",
      "dtype: datetime64[ns]\n",
      "클로로필-a mg/㎥   2021-04-19 18:00:00\n",
      "dtype: datetime64[ns]\n",
      "클로로필-a mg/㎥   2022-04-04 18:00:00\n",
      "dtype: datetime64[ns]\n"
     ]
    }
   ],
   "source": [
    "for year in scb_yearly:\n",
    "    scb_CHLA_year = scb_yearly[year].iloc[:, [-1]].copy()\n",
    "    scb_CHLA_year_wo_NA = scb_CHLA_year.dropna()\n",
    "    print(scb_CHLA_year_wo_NA.idxmax())"
   ]
  },
  {
   "cell_type": "markdown",
   "metadata": {},
   "source": [
    "연도별로 조류 최고점 시기가 다른 이유를 찾아야 함.\n",
    "\n",
    "- 첫째, 결측치 수와 연관되었을 수 있음."
   ]
  },
  {
   "cell_type": "markdown",
   "metadata": {},
   "source": [
    "## 연도별 결측치 수"
   ]
  },
  {
   "cell_type": "code",
   "execution_count": 19,
   "metadata": {},
   "outputs": [
    {
     "name": "stdout",
     "output_type": "stream",
     "text": [
      "2012년 전체 데이터 수: 4343\n",
      "2012년 결측치 데이터 수: 클로로필-a mg/㎥    2073\n",
      "dtype: int64\n",
      "2013년 전체 데이터 수: 8750\n",
      "2013년 결측치 데이터 수: 클로로필-a mg/㎥    1641\n",
      "dtype: int64\n",
      "2014년 전체 데이터 수: 8760\n",
      "2014년 결측치 데이터 수: 클로로필-a mg/㎥    618\n",
      "dtype: int64\n",
      "2015년 전체 데이터 수: 8739\n",
      "2015년 결측치 데이터 수: 클로로필-a mg/㎥    323\n",
      "dtype: int64\n",
      "2016년 전체 데이터 수: 8784\n",
      "2016년 결측치 데이터 수: 클로로필-a mg/㎥    598\n",
      "dtype: int64\n",
      "2017년 전체 데이터 수: 8730\n",
      "2017년 결측치 데이터 수: 클로로필-a mg/㎥    1545\n",
      "dtype: int64\n",
      "2018년 전체 데이터 수: 8758\n",
      "2018년 결측치 데이터 수: 클로로필-a mg/㎥    6720\n",
      "dtype: int64\n",
      "2019년 전체 데이터 수: 8760\n",
      "2019년 결측치 데이터 수: 클로로필-a mg/㎥    3517\n",
      "dtype: int64\n",
      "2020년 전체 데이터 수: 8784\n",
      "2020년 결측치 데이터 수: 클로로필-a mg/㎥    2930\n",
      "dtype: int64\n",
      "2021년 전체 데이터 수: 8760\n",
      "2021년 결측치 데이터 수: 클로로필-a mg/㎥    1319\n",
      "dtype: int64\n",
      "2022년 전체 데이터 수: 3432\n",
      "2022년 결측치 데이터 수: 클로로필-a mg/㎥    170\n",
      "dtype: int64\n"
     ]
    }
   ],
   "source": [
    "for year in scb_yearly:\n",
    "    scb_CHLA_year = scb_yearly[year].iloc[:, [-1]].copy()\n",
    "    print(f\"{year} 전체 데이터 수: {len(scb_CHLA_year)}\")\n",
    "    print(f\"{year} 결측치 데이터 수: {scb_CHLA_year.isna().sum()}\")"
   ]
  },
  {
   "cell_type": "markdown",
   "metadata": {},
   "source": [
    "## 조류 발생 관련 인자"
   ]
  },
  {
   "cell_type": "markdown",
   "metadata": {},
   "source": [
    "결측치가 가장 적은 2015년 자료를 이용하여 조류 발생에 가장 큰 영향을 주는 요소를 확인한다."
   ]
  },
  {
   "cell_type": "code",
   "execution_count": 20,
   "metadata": {},
   "outputs": [
    {
     "data": {
      "text/html": [
       "<div>\n",
       "<style scoped>\n",
       "    .dataframe tbody tr th:only-of-type {\n",
       "        vertical-align: middle;\n",
       "    }\n",
       "\n",
       "    .dataframe tbody tr th {\n",
       "        vertical-align: top;\n",
       "    }\n",
       "\n",
       "    .dataframe thead th {\n",
       "        text-align: right;\n",
       "    }\n",
       "</style>\n",
       "<table border=\"1\" class=\"dataframe\">\n",
       "  <thead>\n",
       "    <tr style=\"text-align: right;\">\n",
       "      <th></th>\n",
       "      <th>측정소명</th>\n",
       "      <th>수온 ℃</th>\n",
       "      <th>수소이온농도</th>\n",
       "      <th>전기전도도 μS/cm</th>\n",
       "      <th>용존산소 mg/L</th>\n",
       "      <th>총유기탄소 mg/L</th>\n",
       "      <th>총질소 mg/L</th>\n",
       "      <th>총인 mg/L</th>\n",
       "      <th>클로로필-a mg/㎥</th>\n",
       "    </tr>\n",
       "    <tr>\n",
       "      <th>측정일/월</th>\n",
       "      <th></th>\n",
       "      <th></th>\n",
       "      <th></th>\n",
       "      <th></th>\n",
       "      <th></th>\n",
       "      <th></th>\n",
       "      <th></th>\n",
       "      <th></th>\n",
       "      <th></th>\n",
       "    </tr>\n",
       "  </thead>\n",
       "  <tbody>\n",
       "    <tr>\n",
       "      <th>2015-01-01 00:00:00</th>\n",
       "      <td>용봉</td>\n",
       "      <td>6.3</td>\n",
       "      <td>7.0</td>\n",
       "      <td>410.0</td>\n",
       "      <td>9.2</td>\n",
       "      <td>2.5</td>\n",
       "      <td>5.607</td>\n",
       "      <td>0.057</td>\n",
       "      <td>3.9</td>\n",
       "    </tr>\n",
       "    <tr>\n",
       "      <th>2015-01-01 01:00:00</th>\n",
       "      <td>용봉</td>\n",
       "      <td>6.2</td>\n",
       "      <td>7.0</td>\n",
       "      <td>410.0</td>\n",
       "      <td>9.2</td>\n",
       "      <td>2.5</td>\n",
       "      <td>5.596</td>\n",
       "      <td>0.056</td>\n",
       "      <td>3.9</td>\n",
       "    </tr>\n",
       "    <tr>\n",
       "      <th>2015-01-01 02:00:00</th>\n",
       "      <td>용봉</td>\n",
       "      <td>6.1</td>\n",
       "      <td>7.0</td>\n",
       "      <td>409.0</td>\n",
       "      <td>9.2</td>\n",
       "      <td>2.4</td>\n",
       "      <td>5.485</td>\n",
       "      <td>0.053</td>\n",
       "      <td>3.7</td>\n",
       "    </tr>\n",
       "    <tr>\n",
       "      <th>2015-01-01 03:00:00</th>\n",
       "      <td>용봉</td>\n",
       "      <td>6.1</td>\n",
       "      <td>7.0</td>\n",
       "      <td>410.0</td>\n",
       "      <td>9.2</td>\n",
       "      <td>2.4</td>\n",
       "      <td>5.487</td>\n",
       "      <td>0.052</td>\n",
       "      <td>3.7</td>\n",
       "    </tr>\n",
       "    <tr>\n",
       "      <th>2015-01-01 04:00:00</th>\n",
       "      <td>용봉</td>\n",
       "      <td>6.0</td>\n",
       "      <td>7.0</td>\n",
       "      <td>412.0</td>\n",
       "      <td>9.3</td>\n",
       "      <td>2.4</td>\n",
       "      <td>5.625</td>\n",
       "      <td>0.052</td>\n",
       "      <td>3.8</td>\n",
       "    </tr>\n",
       "    <tr>\n",
       "      <th>...</th>\n",
       "      <td>...</td>\n",
       "      <td>...</td>\n",
       "      <td>...</td>\n",
       "      <td>...</td>\n",
       "      <td>...</td>\n",
       "      <td>...</td>\n",
       "      <td>...</td>\n",
       "      <td>...</td>\n",
       "      <td>...</td>\n",
       "    </tr>\n",
       "    <tr>\n",
       "      <th>2015-12-31 19:00:00</th>\n",
       "      <td>용봉</td>\n",
       "      <td>7.8</td>\n",
       "      <td>6.9</td>\n",
       "      <td>399.0</td>\n",
       "      <td>9.0</td>\n",
       "      <td>3.2</td>\n",
       "      <td>6.088</td>\n",
       "      <td>0.062</td>\n",
       "      <td>9.8</td>\n",
       "    </tr>\n",
       "    <tr>\n",
       "      <th>2015-12-31 20:00:00</th>\n",
       "      <td>용봉</td>\n",
       "      <td>7.7</td>\n",
       "      <td>6.9</td>\n",
       "      <td>401.0</td>\n",
       "      <td>9.0</td>\n",
       "      <td>3.3</td>\n",
       "      <td>6.052</td>\n",
       "      <td>0.056</td>\n",
       "      <td>9.4</td>\n",
       "    </tr>\n",
       "    <tr>\n",
       "      <th>2015-12-31 21:00:00</th>\n",
       "      <td>용봉</td>\n",
       "      <td>7.7</td>\n",
       "      <td>6.9</td>\n",
       "      <td>401.0</td>\n",
       "      <td>9.0</td>\n",
       "      <td>3.4</td>\n",
       "      <td>6.152</td>\n",
       "      <td>0.053</td>\n",
       "      <td>9.6</td>\n",
       "    </tr>\n",
       "    <tr>\n",
       "      <th>2015-12-31 22:00:00</th>\n",
       "      <td>용봉</td>\n",
       "      <td>7.6</td>\n",
       "      <td>6.9</td>\n",
       "      <td>401.0</td>\n",
       "      <td>9.0</td>\n",
       "      <td>3.2</td>\n",
       "      <td>6.203</td>\n",
       "      <td>0.052</td>\n",
       "      <td>9.6</td>\n",
       "    </tr>\n",
       "    <tr>\n",
       "      <th>2015-12-31 23:00:00</th>\n",
       "      <td>용봉</td>\n",
       "      <td>7.6</td>\n",
       "      <td>6.9</td>\n",
       "      <td>403.0</td>\n",
       "      <td>9.0</td>\n",
       "      <td>3.3</td>\n",
       "      <td>6.120</td>\n",
       "      <td>0.052</td>\n",
       "      <td>8.9</td>\n",
       "    </tr>\n",
       "  </tbody>\n",
       "</table>\n",
       "<p>8739 rows × 9 columns</p>\n",
       "</div>"
      ],
      "text/plain": [
       "                    측정소명  수온 ℃  수소이온농도  전기전도도 μS/cm  용존산소 mg/L  총유기탄소 mg/L  \\\n",
       "측정일/월                                                                        \n",
       "2015-01-01 00:00:00   용봉   6.3     7.0        410.0        9.2         2.5   \n",
       "2015-01-01 01:00:00   용봉   6.2     7.0        410.0        9.2         2.5   \n",
       "2015-01-01 02:00:00   용봉   6.1     7.0        409.0        9.2         2.4   \n",
       "2015-01-01 03:00:00   용봉   6.1     7.0        410.0        9.2         2.4   \n",
       "2015-01-01 04:00:00   용봉   6.0     7.0        412.0        9.3         2.4   \n",
       "...                  ...   ...     ...          ...        ...         ...   \n",
       "2015-12-31 19:00:00   용봉   7.8     6.9        399.0        9.0         3.2   \n",
       "2015-12-31 20:00:00   용봉   7.7     6.9        401.0        9.0         3.3   \n",
       "2015-12-31 21:00:00   용봉   7.7     6.9        401.0        9.0         3.4   \n",
       "2015-12-31 22:00:00   용봉   7.6     6.9        401.0        9.0         3.2   \n",
       "2015-12-31 23:00:00   용봉   7.6     6.9        403.0        9.0         3.3   \n",
       "\n",
       "                     총질소 mg/L  총인 mg/L  클로로필-a mg/㎥  \n",
       "측정일/월                                                \n",
       "2015-01-01 00:00:00     5.607    0.057          3.9  \n",
       "2015-01-01 01:00:00     5.596    0.056          3.9  \n",
       "2015-01-01 02:00:00     5.485    0.053          3.7  \n",
       "2015-01-01 03:00:00     5.487    0.052          3.7  \n",
       "2015-01-01 04:00:00     5.625    0.052          3.8  \n",
       "...                       ...      ...          ...  \n",
       "2015-12-31 19:00:00     6.088    0.062          9.8  \n",
       "2015-12-31 20:00:00     6.052    0.056          9.4  \n",
       "2015-12-31 21:00:00     6.152    0.053          9.6  \n",
       "2015-12-31 22:00:00     6.203    0.052          9.6  \n",
       "2015-12-31 23:00:00     6.120    0.052          8.9  \n",
       "\n",
       "[8739 rows x 9 columns]"
      ]
     },
     "execution_count": 20,
     "metadata": {},
     "output_type": "execute_result"
    }
   ],
   "source": [
    "scb2015 = scb_yearly['2015년'].copy()\n",
    "scb2015"
   ]
  },
  {
   "cell_type": "markdown",
   "metadata": {},
   "source": [
    "총 8739개의 샘플 중에서 평균 438개의 샘플이 결측치를 갖는다."
   ]
  },
  {
   "cell_type": "code",
   "execution_count": 21,
   "metadata": {},
   "outputs": [
    {
     "data": {
      "text/plain": [
       "437.55555555555554"
      ]
     },
     "execution_count": 21,
     "metadata": {},
     "output_type": "execute_result"
    }
   ],
   "source": [
    "scb2015.isna().sum().mean()"
   ]
  },
  {
   "cell_type": "markdown",
   "metadata": {},
   "source": [
    "결측치를 하나라도 갖고 있는 행은 모두 제거한다."
   ]
  },
  {
   "cell_type": "code",
   "execution_count": 22,
   "metadata": {},
   "outputs": [
    {
     "data": {
      "text/html": [
       "<div>\n",
       "<style scoped>\n",
       "    .dataframe tbody tr th:only-of-type {\n",
       "        vertical-align: middle;\n",
       "    }\n",
       "\n",
       "    .dataframe tbody tr th {\n",
       "        vertical-align: top;\n",
       "    }\n",
       "\n",
       "    .dataframe thead th {\n",
       "        text-align: right;\n",
       "    }\n",
       "</style>\n",
       "<table border=\"1\" class=\"dataframe\">\n",
       "  <thead>\n",
       "    <tr style=\"text-align: right;\">\n",
       "      <th></th>\n",
       "      <th>측정소명</th>\n",
       "      <th>수온 ℃</th>\n",
       "      <th>수소이온농도</th>\n",
       "      <th>전기전도도 μS/cm</th>\n",
       "      <th>용존산소 mg/L</th>\n",
       "      <th>총유기탄소 mg/L</th>\n",
       "      <th>총질소 mg/L</th>\n",
       "      <th>총인 mg/L</th>\n",
       "      <th>클로로필-a mg/㎥</th>\n",
       "    </tr>\n",
       "    <tr>\n",
       "      <th>측정일/월</th>\n",
       "      <th></th>\n",
       "      <th></th>\n",
       "      <th></th>\n",
       "      <th></th>\n",
       "      <th></th>\n",
       "      <th></th>\n",
       "      <th></th>\n",
       "      <th></th>\n",
       "      <th></th>\n",
       "    </tr>\n",
       "  </thead>\n",
       "  <tbody>\n",
       "    <tr>\n",
       "      <th>2015-01-01 00:00:00</th>\n",
       "      <td>용봉</td>\n",
       "      <td>6.3</td>\n",
       "      <td>7.0</td>\n",
       "      <td>410.0</td>\n",
       "      <td>9.2</td>\n",
       "      <td>2.5</td>\n",
       "      <td>5.607</td>\n",
       "      <td>0.057</td>\n",
       "      <td>3.9</td>\n",
       "    </tr>\n",
       "    <tr>\n",
       "      <th>2015-01-01 01:00:00</th>\n",
       "      <td>용봉</td>\n",
       "      <td>6.2</td>\n",
       "      <td>7.0</td>\n",
       "      <td>410.0</td>\n",
       "      <td>9.2</td>\n",
       "      <td>2.5</td>\n",
       "      <td>5.596</td>\n",
       "      <td>0.056</td>\n",
       "      <td>3.9</td>\n",
       "    </tr>\n",
       "    <tr>\n",
       "      <th>2015-01-01 02:00:00</th>\n",
       "      <td>용봉</td>\n",
       "      <td>6.1</td>\n",
       "      <td>7.0</td>\n",
       "      <td>409.0</td>\n",
       "      <td>9.2</td>\n",
       "      <td>2.4</td>\n",
       "      <td>5.485</td>\n",
       "      <td>0.053</td>\n",
       "      <td>3.7</td>\n",
       "    </tr>\n",
       "    <tr>\n",
       "      <th>2015-01-01 03:00:00</th>\n",
       "      <td>용봉</td>\n",
       "      <td>6.1</td>\n",
       "      <td>7.0</td>\n",
       "      <td>410.0</td>\n",
       "      <td>9.2</td>\n",
       "      <td>2.4</td>\n",
       "      <td>5.487</td>\n",
       "      <td>0.052</td>\n",
       "      <td>3.7</td>\n",
       "    </tr>\n",
       "    <tr>\n",
       "      <th>2015-01-01 04:00:00</th>\n",
       "      <td>용봉</td>\n",
       "      <td>6.0</td>\n",
       "      <td>7.0</td>\n",
       "      <td>412.0</td>\n",
       "      <td>9.3</td>\n",
       "      <td>2.4</td>\n",
       "      <td>5.625</td>\n",
       "      <td>0.052</td>\n",
       "      <td>3.8</td>\n",
       "    </tr>\n",
       "    <tr>\n",
       "      <th>...</th>\n",
       "      <td>...</td>\n",
       "      <td>...</td>\n",
       "      <td>...</td>\n",
       "      <td>...</td>\n",
       "      <td>...</td>\n",
       "      <td>...</td>\n",
       "      <td>...</td>\n",
       "      <td>...</td>\n",
       "      <td>...</td>\n",
       "    </tr>\n",
       "    <tr>\n",
       "      <th>2015-12-31 19:00:00</th>\n",
       "      <td>용봉</td>\n",
       "      <td>7.8</td>\n",
       "      <td>6.9</td>\n",
       "      <td>399.0</td>\n",
       "      <td>9.0</td>\n",
       "      <td>3.2</td>\n",
       "      <td>6.088</td>\n",
       "      <td>0.062</td>\n",
       "      <td>9.8</td>\n",
       "    </tr>\n",
       "    <tr>\n",
       "      <th>2015-12-31 20:00:00</th>\n",
       "      <td>용봉</td>\n",
       "      <td>7.7</td>\n",
       "      <td>6.9</td>\n",
       "      <td>401.0</td>\n",
       "      <td>9.0</td>\n",
       "      <td>3.3</td>\n",
       "      <td>6.052</td>\n",
       "      <td>0.056</td>\n",
       "      <td>9.4</td>\n",
       "    </tr>\n",
       "    <tr>\n",
       "      <th>2015-12-31 21:00:00</th>\n",
       "      <td>용봉</td>\n",
       "      <td>7.7</td>\n",
       "      <td>6.9</td>\n",
       "      <td>401.0</td>\n",
       "      <td>9.0</td>\n",
       "      <td>3.4</td>\n",
       "      <td>6.152</td>\n",
       "      <td>0.053</td>\n",
       "      <td>9.6</td>\n",
       "    </tr>\n",
       "    <tr>\n",
       "      <th>2015-12-31 22:00:00</th>\n",
       "      <td>용봉</td>\n",
       "      <td>7.6</td>\n",
       "      <td>6.9</td>\n",
       "      <td>401.0</td>\n",
       "      <td>9.0</td>\n",
       "      <td>3.2</td>\n",
       "      <td>6.203</td>\n",
       "      <td>0.052</td>\n",
       "      <td>9.6</td>\n",
       "    </tr>\n",
       "    <tr>\n",
       "      <th>2015-12-31 23:00:00</th>\n",
       "      <td>용봉</td>\n",
       "      <td>7.6</td>\n",
       "      <td>6.9</td>\n",
       "      <td>403.0</td>\n",
       "      <td>9.0</td>\n",
       "      <td>3.3</td>\n",
       "      <td>6.120</td>\n",
       "      <td>0.052</td>\n",
       "      <td>8.9</td>\n",
       "    </tr>\n",
       "  </tbody>\n",
       "</table>\n",
       "<p>7289 rows × 9 columns</p>\n",
       "</div>"
      ],
      "text/plain": [
       "                    측정소명  수온 ℃  수소이온농도  전기전도도 μS/cm  용존산소 mg/L  총유기탄소 mg/L  \\\n",
       "측정일/월                                                                        \n",
       "2015-01-01 00:00:00   용봉   6.3     7.0        410.0        9.2         2.5   \n",
       "2015-01-01 01:00:00   용봉   6.2     7.0        410.0        9.2         2.5   \n",
       "2015-01-01 02:00:00   용봉   6.1     7.0        409.0        9.2         2.4   \n",
       "2015-01-01 03:00:00   용봉   6.1     7.0        410.0        9.2         2.4   \n",
       "2015-01-01 04:00:00   용봉   6.0     7.0        412.0        9.3         2.4   \n",
       "...                  ...   ...     ...          ...        ...         ...   \n",
       "2015-12-31 19:00:00   용봉   7.8     6.9        399.0        9.0         3.2   \n",
       "2015-12-31 20:00:00   용봉   7.7     6.9        401.0        9.0         3.3   \n",
       "2015-12-31 21:00:00   용봉   7.7     6.9        401.0        9.0         3.4   \n",
       "2015-12-31 22:00:00   용봉   7.6     6.9        401.0        9.0         3.2   \n",
       "2015-12-31 23:00:00   용봉   7.6     6.9        403.0        9.0         3.3   \n",
       "\n",
       "                     총질소 mg/L  총인 mg/L  클로로필-a mg/㎥  \n",
       "측정일/월                                                \n",
       "2015-01-01 00:00:00     5.607    0.057          3.9  \n",
       "2015-01-01 01:00:00     5.596    0.056          3.9  \n",
       "2015-01-01 02:00:00     5.485    0.053          3.7  \n",
       "2015-01-01 03:00:00     5.487    0.052          3.7  \n",
       "2015-01-01 04:00:00     5.625    0.052          3.8  \n",
       "...                       ...      ...          ...  \n",
       "2015-12-31 19:00:00     6.088    0.062          9.8  \n",
       "2015-12-31 20:00:00     6.052    0.056          9.4  \n",
       "2015-12-31 21:00:00     6.152    0.053          9.6  \n",
       "2015-12-31 22:00:00     6.203    0.052          9.6  \n",
       "2015-12-31 23:00:00     6.120    0.052          8.9  \n",
       "\n",
       "[7289 rows x 9 columns]"
      ]
     },
     "execution_count": 22,
     "metadata": {},
     "output_type": "execute_result"
    }
   ],
   "source": [
    "scb2015_wo_NA = scb2015.dropna()\n",
    "scb2015_wo_NA"
   ]
  },
  {
   "cell_type": "code",
   "execution_count": 23,
   "metadata": {},
   "outputs": [
    {
     "data": {
      "text/plain": [
       "측정소명            object\n",
       "수온 ℃           float64\n",
       "수소이온농도         float64\n",
       "전기전도도 μS/cm    float64\n",
       "용존산소 mg/L      float64\n",
       "총유기탄소 mg/L     float64\n",
       "총질소 mg/L       float64\n",
       "총인 mg/L        float64\n",
       "클로로필-a mg/㎥    float64\n",
       "dtype: object"
      ]
     },
     "execution_count": 23,
     "metadata": {},
     "output_type": "execute_result"
    }
   ],
   "source": [
    "scb2015_wo_NA.dtypes"
   ]
  },
  {
   "cell_type": "markdown",
   "metadata": {},
   "source": [
    "결측치가 없는 것을 확인한다."
   ]
  },
  {
   "cell_type": "code",
   "execution_count": 24,
   "metadata": {},
   "outputs": [
    {
     "data": {
      "text/plain": [
       "0"
      ]
     },
     "execution_count": 24,
     "metadata": {},
     "output_type": "execute_result"
    }
   ],
   "source": [
    "scb2015_wo_NA.isna().sum().sum()"
   ]
  },
  {
   "cell_type": "markdown",
   "metadata": {},
   "source": [
    "타깃 데이터셋으로 '클로로필-a mg/㎥' 열을 사용한다."
   ]
  },
  {
   "cell_type": "code",
   "execution_count": 44,
   "metadata": {},
   "outputs": [],
   "source": [
    "targets_scb2015_s = scb2015_wo_NA['클로로필-a mg/㎥'].astype('f4')"
   ]
  },
  {
   "cell_type": "code",
   "execution_count": null,
   "metadata": {},
   "outputs": [],
   "source": [
    "targets_scb2015 = scb2015_wo_NA['클로로필-a mg/㎥'].astype('f4').to_numpy()"
   ]
  },
  {
   "cell_type": "code",
   "execution_count": 34,
   "metadata": {},
   "outputs": [
    {
     "data": {
      "text/plain": [
       "array([3.9, 3.9, 3.7, ..., 9.6, 9.6, 8.9], dtype=float32)"
      ]
     },
     "execution_count": 34,
     "metadata": {},
     "output_type": "execute_result"
    }
   ],
   "source": [
    "targets_scb2015"
   ]
  },
  {
   "cell_type": "markdown",
   "metadata": {},
   "source": [
    "입력 데이터셋으로 '클로로필-a mg/㎥' 열과 '측정소명' 열을 제외한 나머지를 사용한다."
   ]
  },
  {
   "cell_type": "code",
   "execution_count": 35,
   "metadata": {},
   "outputs": [
    {
     "data": {
      "text/plain": [
       "array([[6.300e+00, 7.000e+00, 4.100e+02, ..., 2.500e+00, 5.607e+00,\n",
       "        5.700e-02],\n",
       "       [6.200e+00, 7.000e+00, 4.100e+02, ..., 2.500e+00, 5.596e+00,\n",
       "        5.600e-02],\n",
       "       [6.100e+00, 7.000e+00, 4.090e+02, ..., 2.400e+00, 5.485e+00,\n",
       "        5.300e-02],\n",
       "       ...,\n",
       "       [7.700e+00, 6.900e+00, 4.010e+02, ..., 3.400e+00, 6.152e+00,\n",
       "        5.300e-02],\n",
       "       [7.600e+00, 6.900e+00, 4.010e+02, ..., 3.200e+00, 6.203e+00,\n",
       "        5.200e-02],\n",
       "       [7.600e+00, 6.900e+00, 4.030e+02, ..., 3.300e+00, 6.120e+00,\n",
       "        5.200e-02]], dtype=float32)"
      ]
     },
     "execution_count": 35,
     "metadata": {},
     "output_type": "execute_result"
    }
   ],
   "source": [
    "inputs_scb2015 = scb2015_wo_NA.iloc[:, 1:-1].astype('f4').to_numpy()\n",
    "inputs_scb2015"
   ]
  },
  {
   "cell_type": "markdown",
   "metadata": {},
   "source": [
    "### 랜덤 포레스트 활용"
   ]
  },
  {
   "cell_type": "code",
   "execution_count": 36,
   "metadata": {},
   "outputs": [],
   "source": [
    "from sklearn.ensemble import RandomForestRegressor\n",
    "\n",
    "rnd_reg = RandomForestRegressor(n_estimators=500, max_leaf_nodes=16,\n",
    "                                 n_jobs=-1, random_state=42)"
   ]
  },
  {
   "cell_type": "code",
   "execution_count": 37,
   "metadata": {},
   "outputs": [
    {
     "data": {
      "text/plain": [
       "RandomForestRegressor(max_leaf_nodes=16, n_estimators=500, n_jobs=-1,\n",
       "                      random_state=42)"
      ]
     },
     "execution_count": 37,
     "metadata": {},
     "output_type": "execute_result"
    }
   ],
   "source": [
    "rnd_reg.fit(inputs_scb2015, targets_scb2015)"
   ]
  },
  {
   "cell_type": "code",
   "execution_count": 45,
   "metadata": {},
   "outputs": [],
   "source": [
    "scb2015_inputs = scb2015_wo_NA.iloc[:, 1:-1]"
   ]
  },
  {
   "cell_type": "code",
   "execution_count": 41,
   "metadata": {},
   "outputs": [
    {
     "data": {
      "text/plain": [
       "Index(['수온 ℃', '수소이온농도', '전기전도도 μS/cm', '용존산소 mg/L', '총유기탄소 mg/L', '총질소 mg/L',\n",
       "       '총인 mg/L'],\n",
       "      dtype='object')"
      ]
     },
     "execution_count": 41,
     "metadata": {},
     "output_type": "execute_result"
    }
   ],
   "source": [
    "scb2015_inputs.columns"
   ]
  },
  {
   "cell_type": "code",
   "execution_count": 46,
   "metadata": {},
   "outputs": [
    {
     "data": {
      "text/plain": [
       "RandomForestRegressor(max_leaf_nodes=16, n_estimators=500, n_jobs=-1,\n",
       "                      random_state=42)"
      ]
     },
     "execution_count": 46,
     "metadata": {},
     "output_type": "execute_result"
    }
   ],
   "source": [
    "rnd_reg.fit(scb2015_inputs, targets_scb2015_s)"
   ]
  },
  {
   "cell_type": "code",
   "execution_count": 47,
   "metadata": {},
   "outputs": [
    {
     "name": "stdout",
     "output_type": "stream",
     "text": [
      "0.3 수온 ℃\n",
      "0.48 수소이온농도\n",
      "0.02 전기전도도 μS/cm\n",
      "0.09 용존산소 mg/L\n",
      "0.04 총유기탄소 mg/L\n",
      "0.05 총질소 mg/L\n",
      "0.02 총인 mg/L\n"
     ]
    }
   ],
   "source": [
    "for score, name in zip(rnd_reg.feature_importances_, scb2015_inputs.columns):\n",
    "    print(round(score, 2), name)"
   ]
  },
  {
   "cell_type": "code",
   "execution_count": 43,
   "metadata": {},
   "outputs": [
    {
     "data": {
      "text/plain": [
       "array([0.30152097, 0.48446883, 0.01809752, 0.09372636, 0.03865583,\n",
       "       0.04788953, 0.01564096])"
      ]
     },
     "execution_count": 43,
     "metadata": {},
     "output_type": "execute_result"
    }
   ],
   "source": [
    "rnd_reg.feature_importances_"
   ]
  }
 ],
 "metadata": {
  "kernelspec": {
   "display_name": "Python 3.9.7 ('base')",
   "language": "python",
   "name": "python3"
  },
  "language_info": {
   "codemirror_mode": {
    "name": "ipython",
    "version": 3
   },
   "file_extension": ".py",
   "mimetype": "text/x-python",
   "name": "python",
   "nbconvert_exporter": "python",
   "pygments_lexer": "ipython3",
   "version": "3.9.7"
  },
  "orig_nbformat": 4,
  "vscode": {
   "interpreter": {
    "hash": "4f1c27f6da107cbb19cc7f388eb21cff313e366dc533bc97937a0f5f8534034c"
   }
  }
 },
 "nbformat": 4,
 "nbformat_minor": 2
}
