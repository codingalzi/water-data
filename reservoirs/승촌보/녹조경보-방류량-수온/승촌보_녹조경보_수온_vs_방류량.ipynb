{
 "cells": [
  {
   "cell_type": "markdown",
   "metadata": {},
   "source": [
    "# 승촌보 데이터 분석 \n",
    "\n",
    "* 승촌보 수질 데이터(Seungchonbo.xlsx)   \n",
    "    * 2012-2022년  \n",
    "    * 시간 단위 수집 데이터\n",
    "* 승촌보 유량 데이터(Seungchonbo_flow.xlsx)\n",
    "    * 2012-2022년\n",
    "    * 10분 단위 수집 데이터"
   ]
  },
  {
   "cell_type": "markdown",
   "metadata": {},
   "source": [
    "**필수 모듈 임포트**"
   ]
  },
  {
   "cell_type": "code",
   "execution_count": 1,
   "metadata": {},
   "outputs": [],
   "source": [
    "import numpy as np\n",
    "import pandas as pd\n",
    "\n",
    "import matplotlib.pyplot as plt\n",
    "import seaborn as sns\n",
    "\n",
    "import joblib\n",
    "\n",
    "from datetime import datetime\n",
    "import datetime as dt"
   ]
  },
  {
   "cell_type": "markdown",
   "metadata": {},
   "source": [
    "**훈련 모델 준비**"
   ]
  },
  {
   "cell_type": "code",
   "execution_count": 2,
   "metadata": {},
   "outputs": [],
   "source": [
    "from sklearn.model_selection import train_test_split\n",
    "from sklearn.model_selection import GridSearchCV\n",
    "from sklearn.preprocessing import StandardScaler\n",
    "from sklearn.ensemble import RandomForestRegressor, GradientBoostingRegressor"
   ]
  },
  {
   "cell_type": "markdown",
   "metadata": {},
   "source": [
    "**matplotlib 한글 설정**"
   ]
  },
  {
   "cell_type": "code",
   "execution_count": 3,
   "metadata": {},
   "outputs": [],
   "source": [
    "# 운영체제에 따른 한글 지원을 설정한다. 지원되는 환경은 윈도우, 우분투, 구글 코랩 등이다.\n",
    "\n",
    "import platform\n",
    "plt.rc('figure', figsize=(10, 6))  # 그림 크기 설정\n",
    "if platform.system() == 'Windows': # 윈도우\n",
    "    from matplotlib import font_manager, rc\n",
    "    font_path = \"C:/Windows/Fonts/NGULIM.TTF\"\n",
    "    font = font_manager.FontProperties(fname=font_path).get_name()\n",
    "    rc('font', family=font)\n",
    "elif platform.system() == 'Linux': # 우분투 또는 구글 코랩\n",
    "    # !sudo apt-get install -y fonts-nanum*\n",
    "    # !fc-cache -fv\n",
    "    \n",
    "    applyfont = \"NanumBarunGothic\"\n",
    "    import matplotlib.font_manager as fm\n",
    "    if not any(map(lambda ft: ft.name == applyfont, fm.fontManager.ttflist)):\n",
    "        fm.fontManager.addfont(\"/usr/share/fonts/truetype/nanum/NanumBarunGothic.ttf\")\n",
    "    plt.rc(\"font\", family=applyfont)\n",
    "    plt.rc(\"axes\", unicode_minus=False)"
   ]
  },
  {
   "cell_type": "markdown",
   "metadata": {},
   "source": [
    "**이미지 저장 함수**"
   ]
  },
  {
   "cell_type": "code",
   "execution_count": 4,
   "metadata": {},
   "outputs": [],
   "source": [
    "from pathlib import Path\n",
    "\n",
    "IMAGES_PATH = Path() / \"images\" \n",
    "IMAGES_PATH.mkdir(parents=True, exist_ok=True)\n",
    "\n",
    "def save_fig(fig_id, tight_layout=True, fig_extension=\"png\", resolution=300):\n",
    "    path = IMAGES_PATH / f\"{fig_id}.{fig_extension}\"\n",
    "    if tight_layout:\n",
    "        plt.tight_layout()\n",
    "    plt.savefig(path, format=fig_extension, dpi=resolution)"
   ]
  },
  {
   "cell_type": "markdown",
   "metadata": {},
   "source": [
    "폰트 크기"
   ]
  },
  {
   "cell_type": "code",
   "execution_count": null,
   "metadata": {},
   "outputs": [],
   "source": [
    "plt.rc('font', size=14) "
   ]
  },
  {
   "cell_type": "markdown",
   "metadata": {},
   "source": [
    "## 승촌보 데이터 불러오기"
   ]
  },
  {
   "cell_type": "markdown",
   "metadata": {},
   "source": [
    "### 수질 데이터 불러오기"
   ]
  },
  {
   "cell_type": "markdown",
   "metadata": {},
   "source": [
    "**보 이름**"
   ]
  },
  {
   "cell_type": "code",
   "execution_count": 5,
   "metadata": {},
   "outputs": [],
   "source": [
    "weir = 'Seungchonbo'"
   ]
  },
  {
   "cell_type": "markdown",
   "id": "67006279",
   "metadata": {},
   "source": [
    "**데이터 저장소**"
   ]
  },
  {
   "cell_type": "code",
   "execution_count": 6,
   "metadata": {},
   "outputs": [],
   "source": [
    "base_path = \"https://github.com/codingalzi/water-data/raw/master/reservoirs/data/\""
   ]
  },
  {
   "cell_type": "markdown",
   "metadata": {},
   "source": [
    "**시간 단위로 측정된 승촌보 연도별 수질 데이터 불러오기**"
   ]
  },
  {
   "cell_type": "markdown",
   "id": "1ac42783",
   "metadata": {},
   "source": [
    "`'측정일/월'` 특성은 date time으로 파싱."
   ]
  },
  {
   "cell_type": "code",
   "execution_count": 7,
   "id": "350d2940",
   "metadata": {},
   "outputs": [],
   "source": [
    "# ! pip install openpyxl"
   ]
  },
  {
   "cell_type": "code",
   "execution_count": 8,
   "metadata": {},
   "outputs": [],
   "source": [
    "# '측정일/월' 특성은 date time으로 파싱.\n",
    "# 반환값은 연도별 데이터프레임으로 구성된 사전. 2012년 ~ 2022년\n",
    "\n",
    "data_file = weir+\".xlsx\"\n",
    "scb_yearly = pd.read_excel(base_path+data_file, \n",
    "                            skiprows=0, \n",
    "                            header=1, \n",
    "                            sheet_name=None,\n",
    "                            na_values='ND',\n",
    "                            parse_dates=[0])  # 측정일/월 특성을 date time으로 파싱"
   ]
  },
  {
   "cell_type": "markdown",
   "metadata": {},
   "source": [
    "**2012년도 데이터를 제외한 모든 데이터 통합 함수**"
   ]
  },
  {
   "cell_type": "markdown",
   "metadata": {},
   "source": [
    "2012년도 데이터는 결측치가 너무 많음."
   ]
  },
  {
   "cell_type": "code",
   "execution_count": 9,
   "metadata": {},
   "outputs": [],
   "source": [
    "# 2013년도 데이터부터 합침\n",
    "# 반환값은 데이터프레임\n",
    "\n",
    "def concat_yearly_df(df_yearly_dict):\n",
    "    df_concat = pd.DataFrame()\n",
    "\n",
    "    for year in list(df_yearly_dict.keys())[1:]:\n",
    "        df_concat = pd.concat([df_concat, df_yearly_dict[year]])\n",
    "\n",
    "    return df_concat"
   ]
  },
  {
   "cell_type": "markdown",
   "metadata": {},
   "source": [
    "**연도별 수질 데이터 통합**"
   ]
  },
  {
   "cell_type": "code",
   "execution_count": 10,
   "metadata": {},
   "outputs": [],
   "source": [
    "# 2013년도부터 통합\n",
    "scb_yearly_df13 = concat_yearly_df(scb_yearly)"
   ]
  },
  {
   "cell_type": "code",
   "execution_count": 11,
   "metadata": {},
   "outputs": [
    {
     "data": {
      "text/plain": [
       "Index(['측정일/월', '측정소명', '수온 ℃', '수소이온농도', '전기전도도 μS/cm', '용존산소 mg/L',\n",
       "       '총유기탄소 mg/L', '총질소 mg/L', '총인 mg/L', '클로로필-a mg/㎥'],\n",
       "      dtype='object')"
      ]
     },
     "execution_count": 11,
     "metadata": {},
     "output_type": "execute_result"
    }
   ],
   "source": [
    "scb_yearly_df13.columns"
   ]
  },
  {
   "cell_type": "markdown",
   "id": "f2785db0",
   "metadata": {},
   "source": [
    "**인덱스 지정 및 이름 수정**"
   ]
  },
  {
   "cell_type": "markdown",
   "id": "00a7e6c4",
   "metadata": {},
   "source": [
    "인덱스를 `'측정일/월'` 특성으로 변경한다."
   ]
  },
  {
   "cell_type": "code",
   "execution_count": 12,
   "id": "00c25b4e",
   "metadata": {},
   "outputs": [],
   "source": [
    "scb_yearly_df13 = scb_yearly_df13.set_index('측정일/월')"
   ]
  },
  {
   "cell_type": "markdown",
   "metadata": {},
   "source": [
    "인덱스의 이름도 변경한다."
   ]
  },
  {
   "cell_type": "code",
   "execution_count": 13,
   "id": "f25d1474",
   "metadata": {},
   "outputs": [],
   "source": [
    "scb_yearly_df13.index.name = 'DateTime'"
   ]
  },
  {
   "cell_type": "markdown",
   "metadata": {},
   "source": [
    "인덱스(`'DateTime'`) 기준으로 정렬한다."
   ]
  },
  {
   "cell_type": "code",
   "execution_count": 14,
   "id": "d807cafe",
   "metadata": {},
   "outputs": [],
   "source": [
    "scb_yearly_df13 = scb_yearly_df13.sort_index()"
   ]
  },
  {
   "cell_type": "code",
   "execution_count": 15,
   "id": "f9f10755",
   "metadata": {},
   "outputs": [
    {
     "data": {
      "text/html": [
       "<div>\n",
       "<style scoped>\n",
       "    .dataframe tbody tr th:only-of-type {\n",
       "        vertical-align: middle;\n",
       "    }\n",
       "\n",
       "    .dataframe tbody tr th {\n",
       "        vertical-align: top;\n",
       "    }\n",
       "\n",
       "    .dataframe thead th {\n",
       "        text-align: right;\n",
       "    }\n",
       "</style>\n",
       "<table border=\"1\" class=\"dataframe\">\n",
       "  <thead>\n",
       "    <tr style=\"text-align: right;\">\n",
       "      <th></th>\n",
       "      <th>측정소명</th>\n",
       "      <th>수온 ℃</th>\n",
       "      <th>수소이온농도</th>\n",
       "      <th>전기전도도 μS/cm</th>\n",
       "      <th>용존산소 mg/L</th>\n",
       "      <th>총유기탄소 mg/L</th>\n",
       "      <th>총질소 mg/L</th>\n",
       "      <th>총인 mg/L</th>\n",
       "      <th>클로로필-a mg/㎥</th>\n",
       "    </tr>\n",
       "    <tr>\n",
       "      <th>DateTime</th>\n",
       "      <th></th>\n",
       "      <th></th>\n",
       "      <th></th>\n",
       "      <th></th>\n",
       "      <th></th>\n",
       "      <th></th>\n",
       "      <th></th>\n",
       "      <th></th>\n",
       "      <th></th>\n",
       "    </tr>\n",
       "  </thead>\n",
       "  <tbody>\n",
       "    <tr>\n",
       "      <th>2013-01-01 00:00:00</th>\n",
       "      <td>용봉</td>\n",
       "      <td>3.9</td>\n",
       "      <td>6.9</td>\n",
       "      <td>374.0</td>\n",
       "      <td>11.4</td>\n",
       "      <td>2.5</td>\n",
       "      <td>NaN</td>\n",
       "      <td>NaN</td>\n",
       "      <td>7.2</td>\n",
       "    </tr>\n",
       "    <tr>\n",
       "      <th>2013-01-01 01:00:00</th>\n",
       "      <td>용봉</td>\n",
       "      <td>3.9</td>\n",
       "      <td>6.9</td>\n",
       "      <td>375.0</td>\n",
       "      <td>11.4</td>\n",
       "      <td>2.5</td>\n",
       "      <td>NaN</td>\n",
       "      <td>NaN</td>\n",
       "      <td>6.9</td>\n",
       "    </tr>\n",
       "    <tr>\n",
       "      <th>2013-01-01 02:00:00</th>\n",
       "      <td>용봉</td>\n",
       "      <td>4.0</td>\n",
       "      <td>6.9</td>\n",
       "      <td>374.0</td>\n",
       "      <td>11.4</td>\n",
       "      <td>2.5</td>\n",
       "      <td>NaN</td>\n",
       "      <td>NaN</td>\n",
       "      <td>6.8</td>\n",
       "    </tr>\n",
       "    <tr>\n",
       "      <th>2013-01-01 03:00:00</th>\n",
       "      <td>용봉</td>\n",
       "      <td>4.1</td>\n",
       "      <td>6.9</td>\n",
       "      <td>375.0</td>\n",
       "      <td>11.4</td>\n",
       "      <td>2.5</td>\n",
       "      <td>NaN</td>\n",
       "      <td>NaN</td>\n",
       "      <td>6.9</td>\n",
       "    </tr>\n",
       "    <tr>\n",
       "      <th>2013-01-01 04:00:00</th>\n",
       "      <td>용봉</td>\n",
       "      <td>4.0</td>\n",
       "      <td>6.9</td>\n",
       "      <td>380.0</td>\n",
       "      <td>11.3</td>\n",
       "      <td>2.6</td>\n",
       "      <td>NaN</td>\n",
       "      <td>NaN</td>\n",
       "      <td>6.9</td>\n",
       "    </tr>\n",
       "    <tr>\n",
       "      <th>...</th>\n",
       "      <td>...</td>\n",
       "      <td>...</td>\n",
       "      <td>...</td>\n",
       "      <td>...</td>\n",
       "      <td>...</td>\n",
       "      <td>...</td>\n",
       "      <td>...</td>\n",
       "      <td>...</td>\n",
       "      <td>...</td>\n",
       "    </tr>\n",
       "    <tr>\n",
       "      <th>2022-05-23 19:00:00</th>\n",
       "      <td>용봉</td>\n",
       "      <td>26.6</td>\n",
       "      <td>6.9</td>\n",
       "      <td>419.0</td>\n",
       "      <td>NaN</td>\n",
       "      <td>6.7</td>\n",
       "      <td>5.825</td>\n",
       "      <td>0.108</td>\n",
       "      <td>66.2</td>\n",
       "    </tr>\n",
       "    <tr>\n",
       "      <th>2022-05-23 20:00:00</th>\n",
       "      <td>용봉</td>\n",
       "      <td>26.3</td>\n",
       "      <td>6.8</td>\n",
       "      <td>425.0</td>\n",
       "      <td>NaN</td>\n",
       "      <td>6.5</td>\n",
       "      <td>5.803</td>\n",
       "      <td>0.107</td>\n",
       "      <td>61.2</td>\n",
       "    </tr>\n",
       "    <tr>\n",
       "      <th>2022-05-23 21:00:00</th>\n",
       "      <td>용봉</td>\n",
       "      <td>25.9</td>\n",
       "      <td>6.8</td>\n",
       "      <td>417.0</td>\n",
       "      <td>NaN</td>\n",
       "      <td>6.7</td>\n",
       "      <td>5.909</td>\n",
       "      <td>0.107</td>\n",
       "      <td>58.3</td>\n",
       "    </tr>\n",
       "    <tr>\n",
       "      <th>2022-05-23 22:00:00</th>\n",
       "      <td>용봉</td>\n",
       "      <td>25.7</td>\n",
       "      <td>6.8</td>\n",
       "      <td>420.0</td>\n",
       "      <td>NaN</td>\n",
       "      <td>6.4</td>\n",
       "      <td>5.921</td>\n",
       "      <td>0.106</td>\n",
       "      <td>54.4</td>\n",
       "    </tr>\n",
       "    <tr>\n",
       "      <th>2022-05-23 23:00:00</th>\n",
       "      <td>용봉</td>\n",
       "      <td>25.5</td>\n",
       "      <td>6.8</td>\n",
       "      <td>411.0</td>\n",
       "      <td>NaN</td>\n",
       "      <td>6.4</td>\n",
       "      <td>5.818</td>\n",
       "      <td>0.106</td>\n",
       "      <td>52.3</td>\n",
       "    </tr>\n",
       "  </tbody>\n",
       "</table>\n",
       "<p>82257 rows × 9 columns</p>\n",
       "</div>"
      ],
      "text/plain": [
       "                    측정소명  수온 ℃  수소이온농도  전기전도도 μS/cm  용존산소 mg/L  총유기탄소 mg/L  \\\n",
       "DateTime                                                                     \n",
       "2013-01-01 00:00:00   용봉   3.9     6.9        374.0       11.4         2.5   \n",
       "2013-01-01 01:00:00   용봉   3.9     6.9        375.0       11.4         2.5   \n",
       "2013-01-01 02:00:00   용봉   4.0     6.9        374.0       11.4         2.5   \n",
       "2013-01-01 03:00:00   용봉   4.1     6.9        375.0       11.4         2.5   \n",
       "2013-01-01 04:00:00   용봉   4.0     6.9        380.0       11.3         2.6   \n",
       "...                  ...   ...     ...          ...        ...         ...   \n",
       "2022-05-23 19:00:00   용봉  26.6     6.9        419.0        NaN         6.7   \n",
       "2022-05-23 20:00:00   용봉  26.3     6.8        425.0        NaN         6.5   \n",
       "2022-05-23 21:00:00   용봉  25.9     6.8        417.0        NaN         6.7   \n",
       "2022-05-23 22:00:00   용봉  25.7     6.8        420.0        NaN         6.4   \n",
       "2022-05-23 23:00:00   용봉  25.5     6.8        411.0        NaN         6.4   \n",
       "\n",
       "                     총질소 mg/L  총인 mg/L  클로로필-a mg/㎥  \n",
       "DateTime                                             \n",
       "2013-01-01 00:00:00       NaN      NaN          7.2  \n",
       "2013-01-01 01:00:00       NaN      NaN          6.9  \n",
       "2013-01-01 02:00:00       NaN      NaN          6.8  \n",
       "2013-01-01 03:00:00       NaN      NaN          6.9  \n",
       "2013-01-01 04:00:00       NaN      NaN          6.9  \n",
       "...                       ...      ...          ...  \n",
       "2022-05-23 19:00:00     5.825    0.108         66.2  \n",
       "2022-05-23 20:00:00     5.803    0.107         61.2  \n",
       "2022-05-23 21:00:00     5.909    0.107         58.3  \n",
       "2022-05-23 22:00:00     5.921    0.106         54.4  \n",
       "2022-05-23 23:00:00     5.818    0.106         52.3  \n",
       "\n",
       "[82257 rows x 9 columns]"
      ]
     },
     "execution_count": 15,
     "metadata": {},
     "output_type": "execute_result"
    }
   ],
   "source": [
    "scb_yearly_df13"
   ]
  },
  {
   "cell_type": "markdown",
   "id": "16759e9d",
   "metadata": {},
   "source": [
    "## 승촌보 유량 데이터 추가\n",
    "\n",
    "`시간` 특성은 date time으로 파싱해서 불러온다."
   ]
  },
  {
   "cell_type": "markdown",
   "metadata": {},
   "source": [
    "**10분 단위로 측정된 승촌보 연도별 유량 데이터 불러오기**"
   ]
  },
  {
   "cell_type": "code",
   "execution_count": 16,
   "metadata": {},
   "outputs": [],
   "source": [
    "# `시간` 특성은 date time으로 파싱해서 불러온다.\n",
    "# 반환값은 연도별 데이터프레임으로 구성된 사전. 2012년 ~ 2022년\n",
    "\n",
    "flow_data_file = weir + \"_flow.xlsx\"\n",
    "scb_flow_yearly = pd.read_excel(base_path+flow_data_file, \n",
    "                            header=0, \n",
    "                            sheet_name=None,\n",
    "                            na_values='ND',\n",
    "                            parse_dates=[0])  # 시간 특성을 date time으로 파싱"
   ]
  },
  {
   "cell_type": "markdown",
   "id": "cc2e380b",
   "metadata": {},
   "source": [
    "### 연도별 유량 데이터 통합"
   ]
  },
  {
   "cell_type": "markdown",
   "metadata": {},
   "source": [
    "수질 데이터셋과 맞추기 위해 2012년도 데이터를 제외한 데이터를 통합한다."
   ]
  },
  {
   "cell_type": "code",
   "execution_count": 17,
   "id": "993a1ded",
   "metadata": {},
   "outputs": [],
   "source": [
    "# 2013년부터 통합\n",
    "scb_flow_yearly_df = concat_yearly_df(scb_flow_yearly)"
   ]
  },
  {
   "cell_type": "code",
   "execution_count": 18,
   "id": "75393010",
   "metadata": {},
   "outputs": [
    {
     "data": {
      "text/html": [
       "<div>\n",
       "<style scoped>\n",
       "    .dataframe tbody tr th:only-of-type {\n",
       "        vertical-align: middle;\n",
       "    }\n",
       "\n",
       "    .dataframe tbody tr th {\n",
       "        vertical-align: top;\n",
       "    }\n",
       "\n",
       "    .dataframe thead th {\n",
       "        text-align: right;\n",
       "    }\n",
       "</style>\n",
       "<table border=\"1\" class=\"dataframe\">\n",
       "  <thead>\n",
       "    <tr style=\"text-align: right;\">\n",
       "      <th></th>\n",
       "      <th>시간</th>\n",
       "      <th>상류수위(EL.m)</th>\n",
       "      <th>하류수위(EL.m)</th>\n",
       "      <th>유입량(㎥/s)</th>\n",
       "      <th>방류량(㎥/s)</th>\n",
       "    </tr>\n",
       "  </thead>\n",
       "  <tbody>\n",
       "    <tr>\n",
       "      <th>0</th>\n",
       "      <td>2013-01-01 00:00:00</td>\n",
       "      <td>7.50</td>\n",
       "      <td>3.77</td>\n",
       "      <td>19.82</td>\n",
       "      <td>19.74</td>\n",
       "    </tr>\n",
       "    <tr>\n",
       "      <th>1</th>\n",
       "      <td>2013-01-01 00:10:00</td>\n",
       "      <td>7.50</td>\n",
       "      <td>3.77</td>\n",
       "      <td>19.78</td>\n",
       "      <td>19.76</td>\n",
       "    </tr>\n",
       "    <tr>\n",
       "      <th>2</th>\n",
       "      <td>2013-01-01 00:20:00</td>\n",
       "      <td>7.50</td>\n",
       "      <td>3.77</td>\n",
       "      <td>19.77</td>\n",
       "      <td>19.82</td>\n",
       "    </tr>\n",
       "    <tr>\n",
       "      <th>3</th>\n",
       "      <td>2013-01-01 00:30:00</td>\n",
       "      <td>7.50</td>\n",
       "      <td>3.77</td>\n",
       "      <td>19.77</td>\n",
       "      <td>19.73</td>\n",
       "    </tr>\n",
       "    <tr>\n",
       "      <th>4</th>\n",
       "      <td>2013-01-01 00:40:00</td>\n",
       "      <td>7.50</td>\n",
       "      <td>3.77</td>\n",
       "      <td>19.78</td>\n",
       "      <td>19.79</td>\n",
       "    </tr>\n",
       "    <tr>\n",
       "      <th>...</th>\n",
       "      <td>...</td>\n",
       "      <td>...</td>\n",
       "      <td>...</td>\n",
       "      <td>...</td>\n",
       "      <td>...</td>\n",
       "    </tr>\n",
       "    <tr>\n",
       "      <th>32947</th>\n",
       "      <td>2022-08-17 19:10:00</td>\n",
       "      <td>5.46</td>\n",
       "      <td>1.60</td>\n",
       "      <td>14.01</td>\n",
       "      <td>19.78</td>\n",
       "    </tr>\n",
       "    <tr>\n",
       "      <th>32948</th>\n",
       "      <td>2022-08-17 19:20:00</td>\n",
       "      <td>5.47</td>\n",
       "      <td>1.59</td>\n",
       "      <td>18.96</td>\n",
       "      <td>19.78</td>\n",
       "    </tr>\n",
       "    <tr>\n",
       "      <th>32949</th>\n",
       "      <td>2022-08-17 19:30:00</td>\n",
       "      <td>5.47</td>\n",
       "      <td>1.58</td>\n",
       "      <td>19.78</td>\n",
       "      <td>19.78</td>\n",
       "    </tr>\n",
       "    <tr>\n",
       "      <th>32950</th>\n",
       "      <td>2022-08-17 19:40:00</td>\n",
       "      <td>5.47</td>\n",
       "      <td>1.57</td>\n",
       "      <td>24.72</td>\n",
       "      <td>19.78</td>\n",
       "    </tr>\n",
       "    <tr>\n",
       "      <th>32951</th>\n",
       "      <td>2022-08-17 19:50:00</td>\n",
       "      <td>5.47</td>\n",
       "      <td>1.56</td>\n",
       "      <td>19.78</td>\n",
       "      <td>19.78</td>\n",
       "    </tr>\n",
       "  </tbody>\n",
       "</table>\n",
       "<p>505981 rows × 5 columns</p>\n",
       "</div>"
      ],
      "text/plain": [
       "                       시간   상류수위(EL.m)   하류수위(EL.m)   유입량(㎥/s)   방류량(㎥/s)\n",
       "0     2013-01-01 00:00:00         7.50         3.77      19.82      19.74\n",
       "1     2013-01-01 00:10:00         7.50         3.77      19.78      19.76\n",
       "2     2013-01-01 00:20:00         7.50         3.77      19.77      19.82\n",
       "3     2013-01-01 00:30:00         7.50         3.77      19.77      19.73\n",
       "4     2013-01-01 00:40:00         7.50         3.77      19.78      19.79\n",
       "...                   ...          ...          ...        ...        ...\n",
       "32947 2022-08-17 19:10:00         5.46         1.60      14.01      19.78\n",
       "32948 2022-08-17 19:20:00         5.47         1.59      18.96      19.78\n",
       "32949 2022-08-17 19:30:00         5.47         1.58      19.78      19.78\n",
       "32950 2022-08-17 19:40:00         5.47         1.57      24.72      19.78\n",
       "32951 2022-08-17 19:50:00         5.47         1.56      19.78      19.78\n",
       "\n",
       "[505981 rows x 5 columns]"
      ]
     },
     "execution_count": 18,
     "metadata": {},
     "output_type": "execute_result"
    }
   ],
   "source": [
    "scb_flow_yearly_df"
   ]
  },
  {
   "cell_type": "markdown",
   "id": "7acd82c0",
   "metadata": {},
   "source": [
    "인덱스를 시간으로 지정"
   ]
  },
  {
   "cell_type": "code",
   "execution_count": 19,
   "id": "00c25b4e",
   "metadata": {},
   "outputs": [],
   "source": [
    "scb_flow_yearly_df = scb_flow_yearly_df.set_index('시간')"
   ]
  },
  {
   "cell_type": "markdown",
   "id": "4d8e0c9d",
   "metadata": {},
   "source": [
    "인덱스 이름도 수질 데이터와의 통합을 위해 동일한 이름으로 변경한다."
   ]
  },
  {
   "cell_type": "code",
   "execution_count": 20,
   "id": "f25d1474",
   "metadata": {},
   "outputs": [],
   "source": [
    "scb_flow_yearly_df.index.name = 'DateTime'"
   ]
  },
  {
   "cell_type": "markdown",
   "id": "a6420f1a",
   "metadata": {},
   "source": [
    "시간 기준으로 정렬"
   ]
  },
  {
   "cell_type": "code",
   "execution_count": 21,
   "id": "d807cafe",
   "metadata": {},
   "outputs": [],
   "source": [
    "scb_flow_yearly_df = scb_flow_yearly_df.sort_index()"
   ]
  },
  {
   "cell_type": "code",
   "execution_count": 22,
   "metadata": {},
   "outputs": [
    {
     "data": {
      "text/html": [
       "<div>\n",
       "<style scoped>\n",
       "    .dataframe tbody tr th:only-of-type {\n",
       "        vertical-align: middle;\n",
       "    }\n",
       "\n",
       "    .dataframe tbody tr th {\n",
       "        vertical-align: top;\n",
       "    }\n",
       "\n",
       "    .dataframe thead th {\n",
       "        text-align: right;\n",
       "    }\n",
       "</style>\n",
       "<table border=\"1\" class=\"dataframe\">\n",
       "  <thead>\n",
       "    <tr style=\"text-align: right;\">\n",
       "      <th></th>\n",
       "      <th>상류수위(EL.m)</th>\n",
       "      <th>하류수위(EL.m)</th>\n",
       "      <th>유입량(㎥/s)</th>\n",
       "      <th>방류량(㎥/s)</th>\n",
       "    </tr>\n",
       "    <tr>\n",
       "      <th>DateTime</th>\n",
       "      <th></th>\n",
       "      <th></th>\n",
       "      <th></th>\n",
       "      <th></th>\n",
       "    </tr>\n",
       "  </thead>\n",
       "  <tbody>\n",
       "    <tr>\n",
       "      <th>2013-01-01 00:00:00</th>\n",
       "      <td>7.50</td>\n",
       "      <td>3.77</td>\n",
       "      <td>19.82</td>\n",
       "      <td>19.74</td>\n",
       "    </tr>\n",
       "    <tr>\n",
       "      <th>2013-01-01 00:10:00</th>\n",
       "      <td>7.50</td>\n",
       "      <td>3.77</td>\n",
       "      <td>19.78</td>\n",
       "      <td>19.76</td>\n",
       "    </tr>\n",
       "    <tr>\n",
       "      <th>2013-01-01 00:20:00</th>\n",
       "      <td>7.50</td>\n",
       "      <td>3.77</td>\n",
       "      <td>19.77</td>\n",
       "      <td>19.82</td>\n",
       "    </tr>\n",
       "    <tr>\n",
       "      <th>2013-01-01 00:30:00</th>\n",
       "      <td>7.50</td>\n",
       "      <td>3.77</td>\n",
       "      <td>19.77</td>\n",
       "      <td>19.73</td>\n",
       "    </tr>\n",
       "    <tr>\n",
       "      <th>2013-01-01 00:40:00</th>\n",
       "      <td>7.50</td>\n",
       "      <td>3.77</td>\n",
       "      <td>19.78</td>\n",
       "      <td>19.79</td>\n",
       "    </tr>\n",
       "    <tr>\n",
       "      <th>...</th>\n",
       "      <td>...</td>\n",
       "      <td>...</td>\n",
       "      <td>...</td>\n",
       "      <td>...</td>\n",
       "    </tr>\n",
       "    <tr>\n",
       "      <th>2022-08-17 19:10:00</th>\n",
       "      <td>5.46</td>\n",
       "      <td>1.60</td>\n",
       "      <td>14.01</td>\n",
       "      <td>19.78</td>\n",
       "    </tr>\n",
       "    <tr>\n",
       "      <th>2022-08-17 19:20:00</th>\n",
       "      <td>5.47</td>\n",
       "      <td>1.59</td>\n",
       "      <td>18.96</td>\n",
       "      <td>19.78</td>\n",
       "    </tr>\n",
       "    <tr>\n",
       "      <th>2022-08-17 19:30:00</th>\n",
       "      <td>5.47</td>\n",
       "      <td>1.58</td>\n",
       "      <td>19.78</td>\n",
       "      <td>19.78</td>\n",
       "    </tr>\n",
       "    <tr>\n",
       "      <th>2022-08-17 19:40:00</th>\n",
       "      <td>5.47</td>\n",
       "      <td>1.57</td>\n",
       "      <td>24.72</td>\n",
       "      <td>19.78</td>\n",
       "    </tr>\n",
       "    <tr>\n",
       "      <th>2022-08-17 19:50:00</th>\n",
       "      <td>5.47</td>\n",
       "      <td>1.56</td>\n",
       "      <td>19.78</td>\n",
       "      <td>19.78</td>\n",
       "    </tr>\n",
       "  </tbody>\n",
       "</table>\n",
       "<p>505981 rows × 4 columns</p>\n",
       "</div>"
      ],
      "text/plain": [
       "                      상류수위(EL.m)   하류수위(EL.m)   유입량(㎥/s)   방류량(㎥/s)\n",
       "DateTime                                                           \n",
       "2013-01-01 00:00:00         7.50         3.77      19.82      19.74\n",
       "2013-01-01 00:10:00         7.50         3.77      19.78      19.76\n",
       "2013-01-01 00:20:00         7.50         3.77      19.77      19.82\n",
       "2013-01-01 00:30:00         7.50         3.77      19.77      19.73\n",
       "2013-01-01 00:40:00         7.50         3.77      19.78      19.79\n",
       "...                          ...          ...        ...        ...\n",
       "2022-08-17 19:10:00         5.46         1.60      14.01      19.78\n",
       "2022-08-17 19:20:00         5.47         1.59      18.96      19.78\n",
       "2022-08-17 19:30:00         5.47         1.58      19.78      19.78\n",
       "2022-08-17 19:40:00         5.47         1.57      24.72      19.78\n",
       "2022-08-17 19:50:00         5.47         1.56      19.78      19.78\n",
       "\n",
       "[505981 rows x 4 columns]"
      ]
     },
     "execution_count": 22,
     "metadata": {},
     "output_type": "execute_result"
    }
   ],
   "source": [
    "scb_flow_yearly_df"
   ]
  },
  {
   "cell_type": "markdown",
   "metadata": {},
   "source": [
    "**10분 단위를 1시간 단위로 변경**\n",
    "\n",
    "수질 데이터와의 통합을 위해 시간별 평균값을 활용한다."
   ]
  },
  {
   "cell_type": "code",
   "execution_count": 23,
   "id": "412a4364",
   "metadata": {},
   "outputs": [],
   "source": [
    "scb_flow_yearly_hour_df = scb_flow_yearly_df.resample(\"H\").mean()"
   ]
  },
  {
   "cell_type": "code",
   "execution_count": 24,
   "id": "8bf9efb6",
   "metadata": {},
   "outputs": [
    {
     "data": {
      "text/html": [
       "<div>\n",
       "<style scoped>\n",
       "    .dataframe tbody tr th:only-of-type {\n",
       "        vertical-align: middle;\n",
       "    }\n",
       "\n",
       "    .dataframe tbody tr th {\n",
       "        vertical-align: top;\n",
       "    }\n",
       "\n",
       "    .dataframe thead th {\n",
       "        text-align: right;\n",
       "    }\n",
       "</style>\n",
       "<table border=\"1\" class=\"dataframe\">\n",
       "  <thead>\n",
       "    <tr style=\"text-align: right;\">\n",
       "      <th></th>\n",
       "      <th>상류수위(EL.m)</th>\n",
       "      <th>하류수위(EL.m)</th>\n",
       "      <th>유입량(㎥/s)</th>\n",
       "      <th>방류량(㎥/s)</th>\n",
       "    </tr>\n",
       "    <tr>\n",
       "      <th>DateTime</th>\n",
       "      <th></th>\n",
       "      <th></th>\n",
       "      <th></th>\n",
       "      <th></th>\n",
       "    </tr>\n",
       "  </thead>\n",
       "  <tbody>\n",
       "    <tr>\n",
       "      <th>2013-01-01 00:00:00</th>\n",
       "      <td>7.500000</td>\n",
       "      <td>3.770000</td>\n",
       "      <td>19.773333</td>\n",
       "      <td>19.748333</td>\n",
       "    </tr>\n",
       "    <tr>\n",
       "      <th>2013-01-01 01:00:00</th>\n",
       "      <td>7.500000</td>\n",
       "      <td>3.770000</td>\n",
       "      <td>19.701667</td>\n",
       "      <td>19.706667</td>\n",
       "    </tr>\n",
       "    <tr>\n",
       "      <th>2013-01-01 02:00:00</th>\n",
       "      <td>7.500000</td>\n",
       "      <td>3.770000</td>\n",
       "      <td>19.748333</td>\n",
       "      <td>19.723333</td>\n",
       "    </tr>\n",
       "    <tr>\n",
       "      <th>2013-01-01 03:00:00</th>\n",
       "      <td>7.500000</td>\n",
       "      <td>3.770000</td>\n",
       "      <td>19.613333</td>\n",
       "      <td>19.610000</td>\n",
       "    </tr>\n",
       "    <tr>\n",
       "      <th>2013-01-01 04:00:00</th>\n",
       "      <td>7.500000</td>\n",
       "      <td>3.770000</td>\n",
       "      <td>19.661667</td>\n",
       "      <td>19.665000</td>\n",
       "    </tr>\n",
       "    <tr>\n",
       "      <th>...</th>\n",
       "      <td>...</td>\n",
       "      <td>...</td>\n",
       "      <td>...</td>\n",
       "      <td>...</td>\n",
       "    </tr>\n",
       "    <tr>\n",
       "      <th>2022-08-17 15:00:00</th>\n",
       "      <td>5.536667</td>\n",
       "      <td>1.618333</td>\n",
       "      <td>29.261667</td>\n",
       "      <td>25.190000</td>\n",
       "    </tr>\n",
       "    <tr>\n",
       "      <th>2022-08-17 16:00:00</th>\n",
       "      <td>5.525000</td>\n",
       "      <td>1.638333</td>\n",
       "      <td>23.243333</td>\n",
       "      <td>38.923333</td>\n",
       "    </tr>\n",
       "    <tr>\n",
       "      <th>2022-08-17 17:00:00</th>\n",
       "      <td>5.483333</td>\n",
       "      <td>1.626667</td>\n",
       "      <td>29.068333</td>\n",
       "      <td>44.878333</td>\n",
       "    </tr>\n",
       "    <tr>\n",
       "      <th>2022-08-17 18:00:00</th>\n",
       "      <td>5.470000</td>\n",
       "      <td>1.566667</td>\n",
       "      <td>19.131667</td>\n",
       "      <td>14.925000</td>\n",
       "    </tr>\n",
       "    <tr>\n",
       "      <th>2022-08-17 19:00:00</th>\n",
       "      <td>5.468333</td>\n",
       "      <td>1.581667</td>\n",
       "      <td>18.811667</td>\n",
       "      <td>19.368333</td>\n",
       "    </tr>\n",
       "  </tbody>\n",
       "</table>\n",
       "<p>84380 rows × 4 columns</p>\n",
       "</div>"
      ],
      "text/plain": [
       "                      상류수위(EL.m)   하류수위(EL.m)   유입량(㎥/s)   방류량(㎥/s)\n",
       "DateTime                                                           \n",
       "2013-01-01 00:00:00     7.500000     3.770000  19.773333  19.748333\n",
       "2013-01-01 01:00:00     7.500000     3.770000  19.701667  19.706667\n",
       "2013-01-01 02:00:00     7.500000     3.770000  19.748333  19.723333\n",
       "2013-01-01 03:00:00     7.500000     3.770000  19.613333  19.610000\n",
       "2013-01-01 04:00:00     7.500000     3.770000  19.661667  19.665000\n",
       "...                          ...          ...        ...        ...\n",
       "2022-08-17 15:00:00     5.536667     1.618333  29.261667  25.190000\n",
       "2022-08-17 16:00:00     5.525000     1.638333  23.243333  38.923333\n",
       "2022-08-17 17:00:00     5.483333     1.626667  29.068333  44.878333\n",
       "2022-08-17 18:00:00     5.470000     1.566667  19.131667  14.925000\n",
       "2022-08-17 19:00:00     5.468333     1.581667  18.811667  19.368333\n",
       "\n",
       "[84380 rows x 4 columns]"
      ]
     },
     "execution_count": 24,
     "metadata": {},
     "output_type": "execute_result"
    }
   ],
   "source": [
    "scb_flow_yearly_hour_df"
   ]
  },
  {
   "cell_type": "markdown",
   "metadata": {},
   "source": [
    "## 수질/유량 데이터 합병"
   ]
  },
  {
   "cell_type": "markdown",
   "id": "5f5f68b0",
   "metadata": {},
   "source": [
    "수질 데이터와 유량 데이터를 `date/time` 기준으로 합병한다."
   ]
  },
  {
   "cell_type": "code",
   "execution_count": 59,
   "id": "70f86e48",
   "metadata": {},
   "outputs": [],
   "source": [
    "# `pd.merge()`에서 `how = 'outer'` 키워드 인자 : 두 데이터에 사용된 모든 시간대의 데이터를 모두 추가한다(합집합).\n",
    "scb_data = pd.merge(scb_yearly_df13, scb_flow_yearly_hour_df, left_index=True, right_index=True, how='outer')"
   ]
  },
  {
   "cell_type": "code",
   "execution_count": 60,
   "id": "a8bcd8fa",
   "metadata": {},
   "outputs": [
    {
     "data": {
      "text/html": [
       "<div>\n",
       "<style scoped>\n",
       "    .dataframe tbody tr th:only-of-type {\n",
       "        vertical-align: middle;\n",
       "    }\n",
       "\n",
       "    .dataframe tbody tr th {\n",
       "        vertical-align: top;\n",
       "    }\n",
       "\n",
       "    .dataframe thead th {\n",
       "        text-align: right;\n",
       "    }\n",
       "</style>\n",
       "<table border=\"1\" class=\"dataframe\">\n",
       "  <thead>\n",
       "    <tr style=\"text-align: right;\">\n",
       "      <th></th>\n",
       "      <th>측정소명</th>\n",
       "      <th>수온 ℃</th>\n",
       "      <th>수소이온농도</th>\n",
       "      <th>전기전도도 μS/cm</th>\n",
       "      <th>용존산소 mg/L</th>\n",
       "      <th>총유기탄소 mg/L</th>\n",
       "      <th>총질소 mg/L</th>\n",
       "      <th>총인 mg/L</th>\n",
       "      <th>클로로필-a mg/㎥</th>\n",
       "      <th>상류수위(EL.m)</th>\n",
       "      <th>하류수위(EL.m)</th>\n",
       "      <th>유입량(㎥/s)</th>\n",
       "      <th>방류량(㎥/s)</th>\n",
       "    </tr>\n",
       "    <tr>\n",
       "      <th>DateTime</th>\n",
       "      <th></th>\n",
       "      <th></th>\n",
       "      <th></th>\n",
       "      <th></th>\n",
       "      <th></th>\n",
       "      <th></th>\n",
       "      <th></th>\n",
       "      <th></th>\n",
       "      <th></th>\n",
       "      <th></th>\n",
       "      <th></th>\n",
       "      <th></th>\n",
       "      <th></th>\n",
       "    </tr>\n",
       "  </thead>\n",
       "  <tbody>\n",
       "    <tr>\n",
       "      <th>2013-01-01 00:00:00</th>\n",
       "      <td>용봉</td>\n",
       "      <td>3.9</td>\n",
       "      <td>6.9</td>\n",
       "      <td>374.0</td>\n",
       "      <td>11.4</td>\n",
       "      <td>2.5</td>\n",
       "      <td>NaN</td>\n",
       "      <td>NaN</td>\n",
       "      <td>7.2</td>\n",
       "      <td>7.500000</td>\n",
       "      <td>3.770000</td>\n",
       "      <td>19.773333</td>\n",
       "      <td>19.748333</td>\n",
       "    </tr>\n",
       "    <tr>\n",
       "      <th>2013-01-01 01:00:00</th>\n",
       "      <td>용봉</td>\n",
       "      <td>3.9</td>\n",
       "      <td>6.9</td>\n",
       "      <td>375.0</td>\n",
       "      <td>11.4</td>\n",
       "      <td>2.5</td>\n",
       "      <td>NaN</td>\n",
       "      <td>NaN</td>\n",
       "      <td>6.9</td>\n",
       "      <td>7.500000</td>\n",
       "      <td>3.770000</td>\n",
       "      <td>19.701667</td>\n",
       "      <td>19.706667</td>\n",
       "    </tr>\n",
       "    <tr>\n",
       "      <th>2013-01-01 02:00:00</th>\n",
       "      <td>용봉</td>\n",
       "      <td>4.0</td>\n",
       "      <td>6.9</td>\n",
       "      <td>374.0</td>\n",
       "      <td>11.4</td>\n",
       "      <td>2.5</td>\n",
       "      <td>NaN</td>\n",
       "      <td>NaN</td>\n",
       "      <td>6.8</td>\n",
       "      <td>7.500000</td>\n",
       "      <td>3.770000</td>\n",
       "      <td>19.748333</td>\n",
       "      <td>19.723333</td>\n",
       "    </tr>\n",
       "    <tr>\n",
       "      <th>2013-01-01 03:00:00</th>\n",
       "      <td>용봉</td>\n",
       "      <td>4.1</td>\n",
       "      <td>6.9</td>\n",
       "      <td>375.0</td>\n",
       "      <td>11.4</td>\n",
       "      <td>2.5</td>\n",
       "      <td>NaN</td>\n",
       "      <td>NaN</td>\n",
       "      <td>6.9</td>\n",
       "      <td>7.500000</td>\n",
       "      <td>3.770000</td>\n",
       "      <td>19.613333</td>\n",
       "      <td>19.610000</td>\n",
       "    </tr>\n",
       "    <tr>\n",
       "      <th>2013-01-01 04:00:00</th>\n",
       "      <td>용봉</td>\n",
       "      <td>4.0</td>\n",
       "      <td>6.9</td>\n",
       "      <td>380.0</td>\n",
       "      <td>11.3</td>\n",
       "      <td>2.6</td>\n",
       "      <td>NaN</td>\n",
       "      <td>NaN</td>\n",
       "      <td>6.9</td>\n",
       "      <td>7.500000</td>\n",
       "      <td>3.770000</td>\n",
       "      <td>19.661667</td>\n",
       "      <td>19.665000</td>\n",
       "    </tr>\n",
       "    <tr>\n",
       "      <th>...</th>\n",
       "      <td>...</td>\n",
       "      <td>...</td>\n",
       "      <td>...</td>\n",
       "      <td>...</td>\n",
       "      <td>...</td>\n",
       "      <td>...</td>\n",
       "      <td>...</td>\n",
       "      <td>...</td>\n",
       "      <td>...</td>\n",
       "      <td>...</td>\n",
       "      <td>...</td>\n",
       "      <td>...</td>\n",
       "      <td>...</td>\n",
       "    </tr>\n",
       "    <tr>\n",
       "      <th>2022-08-17 15:00:00</th>\n",
       "      <td>NaN</td>\n",
       "      <td>NaN</td>\n",
       "      <td>NaN</td>\n",
       "      <td>NaN</td>\n",
       "      <td>NaN</td>\n",
       "      <td>NaN</td>\n",
       "      <td>NaN</td>\n",
       "      <td>NaN</td>\n",
       "      <td>NaN</td>\n",
       "      <td>5.536667</td>\n",
       "      <td>1.618333</td>\n",
       "      <td>29.261667</td>\n",
       "      <td>25.190000</td>\n",
       "    </tr>\n",
       "    <tr>\n",
       "      <th>2022-08-17 16:00:00</th>\n",
       "      <td>NaN</td>\n",
       "      <td>NaN</td>\n",
       "      <td>NaN</td>\n",
       "      <td>NaN</td>\n",
       "      <td>NaN</td>\n",
       "      <td>NaN</td>\n",
       "      <td>NaN</td>\n",
       "      <td>NaN</td>\n",
       "      <td>NaN</td>\n",
       "      <td>5.525000</td>\n",
       "      <td>1.638333</td>\n",
       "      <td>23.243333</td>\n",
       "      <td>38.923333</td>\n",
       "    </tr>\n",
       "    <tr>\n",
       "      <th>2022-08-17 17:00:00</th>\n",
       "      <td>NaN</td>\n",
       "      <td>NaN</td>\n",
       "      <td>NaN</td>\n",
       "      <td>NaN</td>\n",
       "      <td>NaN</td>\n",
       "      <td>NaN</td>\n",
       "      <td>NaN</td>\n",
       "      <td>NaN</td>\n",
       "      <td>NaN</td>\n",
       "      <td>5.483333</td>\n",
       "      <td>1.626667</td>\n",
       "      <td>29.068333</td>\n",
       "      <td>44.878333</td>\n",
       "    </tr>\n",
       "    <tr>\n",
       "      <th>2022-08-17 18:00:00</th>\n",
       "      <td>NaN</td>\n",
       "      <td>NaN</td>\n",
       "      <td>NaN</td>\n",
       "      <td>NaN</td>\n",
       "      <td>NaN</td>\n",
       "      <td>NaN</td>\n",
       "      <td>NaN</td>\n",
       "      <td>NaN</td>\n",
       "      <td>NaN</td>\n",
       "      <td>5.470000</td>\n",
       "      <td>1.566667</td>\n",
       "      <td>19.131667</td>\n",
       "      <td>14.925000</td>\n",
       "    </tr>\n",
       "    <tr>\n",
       "      <th>2022-08-17 19:00:00</th>\n",
       "      <td>NaN</td>\n",
       "      <td>NaN</td>\n",
       "      <td>NaN</td>\n",
       "      <td>NaN</td>\n",
       "      <td>NaN</td>\n",
       "      <td>NaN</td>\n",
       "      <td>NaN</td>\n",
       "      <td>NaN</td>\n",
       "      <td>NaN</td>\n",
       "      <td>5.468333</td>\n",
       "      <td>1.581667</td>\n",
       "      <td>18.811667</td>\n",
       "      <td>19.368333</td>\n",
       "    </tr>\n",
       "  </tbody>\n",
       "</table>\n",
       "<p>84380 rows × 13 columns</p>\n",
       "</div>"
      ],
      "text/plain": [
       "                    측정소명  수온 ℃  수소이온농도  전기전도도 μS/cm  용존산소 mg/L  총유기탄소 mg/L  \\\n",
       "DateTime                                                                     \n",
       "2013-01-01 00:00:00   용봉   3.9     6.9        374.0       11.4         2.5   \n",
       "2013-01-01 01:00:00   용봉   3.9     6.9        375.0       11.4         2.5   \n",
       "2013-01-01 02:00:00   용봉   4.0     6.9        374.0       11.4         2.5   \n",
       "2013-01-01 03:00:00   용봉   4.1     6.9        375.0       11.4         2.5   \n",
       "2013-01-01 04:00:00   용봉   4.0     6.9        380.0       11.3         2.6   \n",
       "...                  ...   ...     ...          ...        ...         ...   \n",
       "2022-08-17 15:00:00  NaN   NaN     NaN          NaN        NaN         NaN   \n",
       "2022-08-17 16:00:00  NaN   NaN     NaN          NaN        NaN         NaN   \n",
       "2022-08-17 17:00:00  NaN   NaN     NaN          NaN        NaN         NaN   \n",
       "2022-08-17 18:00:00  NaN   NaN     NaN          NaN        NaN         NaN   \n",
       "2022-08-17 19:00:00  NaN   NaN     NaN          NaN        NaN         NaN   \n",
       "\n",
       "                     총질소 mg/L  총인 mg/L  클로로필-a mg/㎥   상류수위(EL.m)   하류수위(EL.m)  \\\n",
       "DateTime                                                                        \n",
       "2013-01-01 00:00:00       NaN      NaN          7.2     7.500000     3.770000   \n",
       "2013-01-01 01:00:00       NaN      NaN          6.9     7.500000     3.770000   \n",
       "2013-01-01 02:00:00       NaN      NaN          6.8     7.500000     3.770000   \n",
       "2013-01-01 03:00:00       NaN      NaN          6.9     7.500000     3.770000   \n",
       "2013-01-01 04:00:00       NaN      NaN          6.9     7.500000     3.770000   \n",
       "...                       ...      ...          ...          ...          ...   \n",
       "2022-08-17 15:00:00       NaN      NaN          NaN     5.536667     1.618333   \n",
       "2022-08-17 16:00:00       NaN      NaN          NaN     5.525000     1.638333   \n",
       "2022-08-17 17:00:00       NaN      NaN          NaN     5.483333     1.626667   \n",
       "2022-08-17 18:00:00       NaN      NaN          NaN     5.470000     1.566667   \n",
       "2022-08-17 19:00:00       NaN      NaN          NaN     5.468333     1.581667   \n",
       "\n",
       "                      유입량(㎥/s)   방류량(㎥/s)  \n",
       "DateTime                                   \n",
       "2013-01-01 00:00:00  19.773333  19.748333  \n",
       "2013-01-01 01:00:00  19.701667  19.706667  \n",
       "2013-01-01 02:00:00  19.748333  19.723333  \n",
       "2013-01-01 03:00:00  19.613333  19.610000  \n",
       "2013-01-01 04:00:00  19.661667  19.665000  \n",
       "...                        ...        ...  \n",
       "2022-08-17 15:00:00  29.261667  25.190000  \n",
       "2022-08-17 16:00:00  23.243333  38.923333  \n",
       "2022-08-17 17:00:00  29.068333  44.878333  \n",
       "2022-08-17 18:00:00  19.131667  14.925000  \n",
       "2022-08-17 19:00:00  18.811667  19.368333  \n",
       "\n",
       "[84380 rows x 13 columns]"
      ]
     },
     "execution_count": 60,
     "metadata": {},
     "output_type": "execute_result"
    }
   ],
   "source": [
    "scb_data"
   ]
  },
  {
   "cell_type": "markdown",
   "metadata": {},
   "source": [
    "2022년도 유량 데이터가 수질 데이터보다 더 많기에 수질 데이터에 포함되지 않는 날짜의 유량 데이터에 해당하는 부분을 삭제한다."
   ]
  },
  {
   "cell_type": "code",
   "execution_count": 61,
   "metadata": {},
   "outputs": [],
   "source": [
    "day_first = scb_yearly_df13.index[0]\n",
    "day_last = scb_yearly_df13.index[-1]\n",
    "\n",
    "scb_data = scb_data[day_first : day_last]"
   ]
  },
  {
   "cell_type": "code",
   "execution_count": 62,
   "metadata": {},
   "outputs": [],
   "source": [
    "# 유량 특성 이름에 공백이 사용되었기에 특성명에 공백 제거\n",
    "scb_data.columns = [x.strip() for x in list(scb_data.columns)]"
   ]
  },
  {
   "cell_type": "markdown",
   "metadata": {},
   "source": [
    "## 데이터셋 전처리"
   ]
  },
  {
   "cell_type": "markdown",
   "metadata": {},
   "source": [
    "**특성 선택**"
   ]
  },
  {
   "cell_type": "markdown",
   "metadata": {},
   "source": [
    "모델 훈련에 사용하지 않을 특성들은 삭제한다."
   ]
  },
  {
   "cell_type": "code",
   "execution_count": 63,
   "metadata": {},
   "outputs": [],
   "source": [
    "# 일부 특성 제거\n",
    "to_be_removed = ['측정소명', '수소이온농도', '용존산소 mg/L', '하류수위(EL.m)', '유입량(㎥/s)']\n",
    "scb_data = scb_data.drop(to_be_removed, axis=1)"
   ]
  },
  {
   "cell_type": "markdown",
   "id": "97bd482d",
   "metadata": {},
   "source": [
    "**특성 영문명 지정**"
   ]
  },
  {
   "cell_type": "markdown",
   "id": "dfc056bc",
   "metadata": {},
   "source": [
    "모델 훈련에 사용되는 모든 특성명을 영문으로 변경한다.\n",
    "현재 남아 있는 특성들은 다음과 같다."
   ]
  },
  {
   "cell_type": "code",
   "execution_count": 64,
   "id": "d41c996a",
   "metadata": {},
   "outputs": [
    {
     "data": {
      "text/plain": [
       "Index(['수온 ℃', '전기전도도 μS/cm', '총유기탄소 mg/L', '총질소 mg/L', '총인 mg/L',\n",
       "       '클로로필-a mg/㎥', '상류수위(EL.m)', '방류량(㎥/s)'],\n",
       "      dtype='object')"
      ]
     },
     "execution_count": 64,
     "metadata": {},
     "output_type": "execute_result"
    }
   ],
   "source": [
    "scb_data.columns"
   ]
  },
  {
   "cell_type": "markdown",
   "id": "da250b8c",
   "metadata": {},
   "source": [
    "각 특성의 영문명은 다음과 같다."
   ]
  },
  {
   "cell_type": "code",
   "execution_count": 65,
   "id": "123ecbf5",
   "metadata": {},
   "outputs": [],
   "source": [
    "features_english = {\n",
    "    '수온 ℃' : 'Temp (℃)',\n",
    "    '전기전도도 μS/cm' : 'EC (μS/cm)',\n",
    "    '총유기탄소 mg/L' : 'TOC (mg/L)',\n",
    "    '총질소 mg/L' : 'T-N (mg/L)',\n",
    "    '총인 mg/L' : 'T-P (mg/L)',\n",
    "    '클로로필-a mg/㎥' : 'Chl-a (mg/㎥)',\n",
    "    '상류수위(EL.m)' : 'Up_H (EL.m)',\n",
    "    '방류량(㎥/s)' : 'D_Flow (㎥/s)'\n",
    "}"
   ]
  },
  {
   "cell_type": "markdown",
   "id": "e710a52f",
   "metadata": {},
   "source": [
    "영문명으로 변경(renaming)한다."
   ]
  },
  {
   "cell_type": "code",
   "execution_count": 66,
   "id": "cda93a26",
   "metadata": {},
   "outputs": [
    {
     "data": {
      "text/html": [
       "<div>\n",
       "<style scoped>\n",
       "    .dataframe tbody tr th:only-of-type {\n",
       "        vertical-align: middle;\n",
       "    }\n",
       "\n",
       "    .dataframe tbody tr th {\n",
       "        vertical-align: top;\n",
       "    }\n",
       "\n",
       "    .dataframe thead th {\n",
       "        text-align: right;\n",
       "    }\n",
       "</style>\n",
       "<table border=\"1\" class=\"dataframe\">\n",
       "  <thead>\n",
       "    <tr style=\"text-align: right;\">\n",
       "      <th></th>\n",
       "      <th>Temp (℃)</th>\n",
       "      <th>EC (μS/cm)</th>\n",
       "      <th>TOC (mg/L)</th>\n",
       "      <th>T-N (mg/L)</th>\n",
       "      <th>T-P (mg/L)</th>\n",
       "      <th>Chl-a (mg/㎥)</th>\n",
       "      <th>Up_H (EL.m)</th>\n",
       "      <th>D_Flow (㎥/s)</th>\n",
       "    </tr>\n",
       "    <tr>\n",
       "      <th>DateTime</th>\n",
       "      <th></th>\n",
       "      <th></th>\n",
       "      <th></th>\n",
       "      <th></th>\n",
       "      <th></th>\n",
       "      <th></th>\n",
       "      <th></th>\n",
       "      <th></th>\n",
       "    </tr>\n",
       "  </thead>\n",
       "  <tbody>\n",
       "    <tr>\n",
       "      <th>2013-01-01 00:00:00</th>\n",
       "      <td>3.9</td>\n",
       "      <td>374.0</td>\n",
       "      <td>2.5</td>\n",
       "      <td>NaN</td>\n",
       "      <td>NaN</td>\n",
       "      <td>7.2</td>\n",
       "      <td>7.50</td>\n",
       "      <td>19.748333</td>\n",
       "    </tr>\n",
       "    <tr>\n",
       "      <th>2013-01-01 01:00:00</th>\n",
       "      <td>3.9</td>\n",
       "      <td>375.0</td>\n",
       "      <td>2.5</td>\n",
       "      <td>NaN</td>\n",
       "      <td>NaN</td>\n",
       "      <td>6.9</td>\n",
       "      <td>7.50</td>\n",
       "      <td>19.706667</td>\n",
       "    </tr>\n",
       "    <tr>\n",
       "      <th>2013-01-01 02:00:00</th>\n",
       "      <td>4.0</td>\n",
       "      <td>374.0</td>\n",
       "      <td>2.5</td>\n",
       "      <td>NaN</td>\n",
       "      <td>NaN</td>\n",
       "      <td>6.8</td>\n",
       "      <td>7.50</td>\n",
       "      <td>19.723333</td>\n",
       "    </tr>\n",
       "    <tr>\n",
       "      <th>2013-01-01 03:00:00</th>\n",
       "      <td>4.1</td>\n",
       "      <td>375.0</td>\n",
       "      <td>2.5</td>\n",
       "      <td>NaN</td>\n",
       "      <td>NaN</td>\n",
       "      <td>6.9</td>\n",
       "      <td>7.50</td>\n",
       "      <td>19.610000</td>\n",
       "    </tr>\n",
       "    <tr>\n",
       "      <th>2013-01-01 04:00:00</th>\n",
       "      <td>4.0</td>\n",
       "      <td>380.0</td>\n",
       "      <td>2.6</td>\n",
       "      <td>NaN</td>\n",
       "      <td>NaN</td>\n",
       "      <td>6.9</td>\n",
       "      <td>7.50</td>\n",
       "      <td>19.665000</td>\n",
       "    </tr>\n",
       "    <tr>\n",
       "      <th>...</th>\n",
       "      <td>...</td>\n",
       "      <td>...</td>\n",
       "      <td>...</td>\n",
       "      <td>...</td>\n",
       "      <td>...</td>\n",
       "      <td>...</td>\n",
       "      <td>...</td>\n",
       "      <td>...</td>\n",
       "    </tr>\n",
       "    <tr>\n",
       "      <th>2022-05-23 19:00:00</th>\n",
       "      <td>26.6</td>\n",
       "      <td>419.0</td>\n",
       "      <td>6.7</td>\n",
       "      <td>5.825</td>\n",
       "      <td>0.108</td>\n",
       "      <td>66.2</td>\n",
       "      <td>5.44</td>\n",
       "      <td>12.766667</td>\n",
       "    </tr>\n",
       "    <tr>\n",
       "      <th>2022-05-23 20:00:00</th>\n",
       "      <td>26.3</td>\n",
       "      <td>425.0</td>\n",
       "      <td>6.5</td>\n",
       "      <td>5.803</td>\n",
       "      <td>0.107</td>\n",
       "      <td>61.2</td>\n",
       "      <td>5.44</td>\n",
       "      <td>12.786667</td>\n",
       "    </tr>\n",
       "    <tr>\n",
       "      <th>2022-05-23 21:00:00</th>\n",
       "      <td>25.9</td>\n",
       "      <td>417.0</td>\n",
       "      <td>6.7</td>\n",
       "      <td>5.909</td>\n",
       "      <td>0.107</td>\n",
       "      <td>58.3</td>\n",
       "      <td>5.44</td>\n",
       "      <td>12.743333</td>\n",
       "    </tr>\n",
       "    <tr>\n",
       "      <th>2022-05-23 22:00:00</th>\n",
       "      <td>25.7</td>\n",
       "      <td>420.0</td>\n",
       "      <td>6.4</td>\n",
       "      <td>5.921</td>\n",
       "      <td>0.106</td>\n",
       "      <td>54.4</td>\n",
       "      <td>5.44</td>\n",
       "      <td>12.700000</td>\n",
       "    </tr>\n",
       "    <tr>\n",
       "      <th>2022-05-23 23:00:00</th>\n",
       "      <td>25.5</td>\n",
       "      <td>411.0</td>\n",
       "      <td>6.4</td>\n",
       "      <td>5.818</td>\n",
       "      <td>0.106</td>\n",
       "      <td>52.3</td>\n",
       "      <td>5.44</td>\n",
       "      <td>12.770000</td>\n",
       "    </tr>\n",
       "  </tbody>\n",
       "</table>\n",
       "<p>82320 rows × 8 columns</p>\n",
       "</div>"
      ],
      "text/plain": [
       "                     Temp (℃)  EC (μS/cm)  TOC (mg/L)  T-N (mg/L)  T-P (mg/L)  \\\n",
       "DateTime                                                                        \n",
       "2013-01-01 00:00:00       3.9       374.0         2.5         NaN         NaN   \n",
       "2013-01-01 01:00:00       3.9       375.0         2.5         NaN         NaN   \n",
       "2013-01-01 02:00:00       4.0       374.0         2.5         NaN         NaN   \n",
       "2013-01-01 03:00:00       4.1       375.0         2.5         NaN         NaN   \n",
       "2013-01-01 04:00:00       4.0       380.0         2.6         NaN         NaN   \n",
       "...                       ...         ...         ...         ...         ...   \n",
       "2022-05-23 19:00:00      26.6       419.0         6.7       5.825       0.108   \n",
       "2022-05-23 20:00:00      26.3       425.0         6.5       5.803       0.107   \n",
       "2022-05-23 21:00:00      25.9       417.0         6.7       5.909       0.107   \n",
       "2022-05-23 22:00:00      25.7       420.0         6.4       5.921       0.106   \n",
       "2022-05-23 23:00:00      25.5       411.0         6.4       5.818       0.106   \n",
       "\n",
       "                     Chl-a (mg/㎥)  Up_H (EL.m)  D_Flow (㎥/s)  \n",
       "DateTime                                                      \n",
       "2013-01-01 00:00:00           7.2         7.50     19.748333  \n",
       "2013-01-01 01:00:00           6.9         7.50     19.706667  \n",
       "2013-01-01 02:00:00           6.8         7.50     19.723333  \n",
       "2013-01-01 03:00:00           6.9         7.50     19.610000  \n",
       "2013-01-01 04:00:00           6.9         7.50     19.665000  \n",
       "...                           ...          ...           ...  \n",
       "2022-05-23 19:00:00          66.2         5.44     12.766667  \n",
       "2022-05-23 20:00:00          61.2         5.44     12.786667  \n",
       "2022-05-23 21:00:00          58.3         5.44     12.743333  \n",
       "2022-05-23 22:00:00          54.4         5.44     12.700000  \n",
       "2022-05-23 23:00:00          52.3         5.44     12.770000  \n",
       "\n",
       "[82320 rows x 8 columns]"
      ]
     },
     "execution_count": 66,
     "metadata": {},
     "output_type": "execute_result"
    }
   ],
   "source": [
    "scb_data = scb_data.rename(columns=features_english)\n",
    "scb_data"
   ]
  },
  {
   "cell_type": "markdown",
   "metadata": {},
   "source": [
    "## 클로로필-a와 기타 특성과의 관계"
   ]
  },
  {
   "cell_type": "markdown",
   "metadata": {},
   "source": [
    "2015년도까지 클로로필-a 수치가 특정 값 이상으로 2주동안 지속되는 경우 녹조발생 주의보/경보를 발령했다.\n",
    "이 점에 착안해서 클로로필-a 수치가 특정값 이상으로 2주 동안 지속될 때의 수온과 방류량를 조사해보려 한다."
   ]
  },
  {
   "cell_type": "markdown",
   "metadata": {},
   "source": [
    "| 구분 |클로로필-a (mg/m3) |\n",
    "| :---: | :---: |\n",
    "| 주의보 | 15 |\n",
    "| 경보 | 25 |\n",
    "| 대발생 | 100 |"
   ]
  },
  {
   "cell_type": "markdown",
   "metadata": {},
   "source": [
    "먼저 데이터셋을 복제해서 원본은 유지한다."
   ]
  },
  {
   "cell_type": "code",
   "execution_count": 67,
   "metadata": {},
   "outputs": [],
   "source": [
    "scb_df = scb_data.copy()"
   ]
  },
  {
   "cell_type": "markdown",
   "metadata": {},
   "source": [
    "### 1시간 단위로 정리된 데이터를 1일 단위로 변경"
   ]
  },
  {
   "cell_type": "markdown",
   "metadata": {},
   "source": [
    "클로로필-a 수치가 일정 기간 유지될 때 각 특성의 일별 변화를 추적하려 한다.\n",
    "이를 위해 모든 특성의 일별 평균값을 이용한다."
   ]
  },
  {
   "cell_type": "code",
   "execution_count": 68,
   "id": "412a4364",
   "metadata": {},
   "outputs": [],
   "source": [
    "scb_df_daily = scb_df.resample(\"D\").mean()"
   ]
  },
  {
   "cell_type": "code",
   "execution_count": 69,
   "metadata": {},
   "outputs": [
    {
     "data": {
      "text/html": [
       "<div>\n",
       "<style scoped>\n",
       "    .dataframe tbody tr th:only-of-type {\n",
       "        vertical-align: middle;\n",
       "    }\n",
       "\n",
       "    .dataframe tbody tr th {\n",
       "        vertical-align: top;\n",
       "    }\n",
       "\n",
       "    .dataframe thead th {\n",
       "        text-align: right;\n",
       "    }\n",
       "</style>\n",
       "<table border=\"1\" class=\"dataframe\">\n",
       "  <thead>\n",
       "    <tr style=\"text-align: right;\">\n",
       "      <th></th>\n",
       "      <th>Temp (℃)</th>\n",
       "      <th>EC (μS/cm)</th>\n",
       "      <th>TOC (mg/L)</th>\n",
       "      <th>T-N (mg/L)</th>\n",
       "      <th>T-P (mg/L)</th>\n",
       "      <th>Chl-a (mg/㎥)</th>\n",
       "      <th>Up_H (EL.m)</th>\n",
       "      <th>D_Flow (㎥/s)</th>\n",
       "    </tr>\n",
       "    <tr>\n",
       "      <th>DateTime</th>\n",
       "      <th></th>\n",
       "      <th></th>\n",
       "      <th></th>\n",
       "      <th></th>\n",
       "      <th></th>\n",
       "      <th></th>\n",
       "      <th></th>\n",
       "      <th></th>\n",
       "    </tr>\n",
       "  </thead>\n",
       "  <tbody>\n",
       "    <tr>\n",
       "      <th>2013-01-01</th>\n",
       "      <td>4.113043</td>\n",
       "      <td>406.391304</td>\n",
       "      <td>2.791667</td>\n",
       "      <td>NaN</td>\n",
       "      <td>NaN</td>\n",
       "      <td>7.025000</td>\n",
       "      <td>7.490903</td>\n",
       "      <td>18.733472</td>\n",
       "    </tr>\n",
       "    <tr>\n",
       "      <th>2013-01-02</th>\n",
       "      <td>4.282609</td>\n",
       "      <td>431.260870</td>\n",
       "      <td>2.839130</td>\n",
       "      <td>NaN</td>\n",
       "      <td>NaN</td>\n",
       "      <td>7.056522</td>\n",
       "      <td>7.501458</td>\n",
       "      <td>18.929167</td>\n",
       "    </tr>\n",
       "    <tr>\n",
       "      <th>2013-01-03</th>\n",
       "      <td>3.830435</td>\n",
       "      <td>416.565217</td>\n",
       "      <td>3.058333</td>\n",
       "      <td>NaN</td>\n",
       "      <td>NaN</td>\n",
       "      <td>7.195833</td>\n",
       "      <td>7.499236</td>\n",
       "      <td>16.621250</td>\n",
       "    </tr>\n",
       "    <tr>\n",
       "      <th>2013-01-04</th>\n",
       "      <td>3.313043</td>\n",
       "      <td>402.000000</td>\n",
       "      <td>2.730435</td>\n",
       "      <td>NaN</td>\n",
       "      <td>NaN</td>\n",
       "      <td>7.126087</td>\n",
       "      <td>7.489722</td>\n",
       "      <td>15.805556</td>\n",
       "    </tr>\n",
       "    <tr>\n",
       "      <th>2013-01-05</th>\n",
       "      <td>3.165217</td>\n",
       "      <td>409.304348</td>\n",
       "      <td>2.800000</td>\n",
       "      <td>NaN</td>\n",
       "      <td>NaN</td>\n",
       "      <td>7.220833</td>\n",
       "      <td>7.494722</td>\n",
       "      <td>13.062361</td>\n",
       "    </tr>\n",
       "    <tr>\n",
       "      <th>...</th>\n",
       "      <td>...</td>\n",
       "      <td>...</td>\n",
       "      <td>...</td>\n",
       "      <td>...</td>\n",
       "      <td>...</td>\n",
       "      <td>...</td>\n",
       "      <td>...</td>\n",
       "      <td>...</td>\n",
       "    </tr>\n",
       "    <tr>\n",
       "      <th>2022-05-19</th>\n",
       "      <td>21.933333</td>\n",
       "      <td>477.380952</td>\n",
       "      <td>6.066667</td>\n",
       "      <td>7.954952</td>\n",
       "      <td>0.096714</td>\n",
       "      <td>48.766667</td>\n",
       "      <td>5.422292</td>\n",
       "      <td>6.935208</td>\n",
       "    </tr>\n",
       "    <tr>\n",
       "      <th>2022-05-20</th>\n",
       "      <td>22.391304</td>\n",
       "      <td>469.434783</td>\n",
       "      <td>6.323810</td>\n",
       "      <td>7.994000</td>\n",
       "      <td>0.094545</td>\n",
       "      <td>54.026087</td>\n",
       "      <td>5.483750</td>\n",
       "      <td>8.437014</td>\n",
       "    </tr>\n",
       "    <tr>\n",
       "      <th>2022-05-21</th>\n",
       "      <td>23.054167</td>\n",
       "      <td>460.041667</td>\n",
       "      <td>6.162500</td>\n",
       "      <td>7.449708</td>\n",
       "      <td>0.107333</td>\n",
       "      <td>56.941667</td>\n",
       "      <td>5.530972</td>\n",
       "      <td>12.939444</td>\n",
       "    </tr>\n",
       "    <tr>\n",
       "      <th>2022-05-22</th>\n",
       "      <td>24.270833</td>\n",
       "      <td>459.000000</td>\n",
       "      <td>6.020833</td>\n",
       "      <td>7.154875</td>\n",
       "      <td>0.092583</td>\n",
       "      <td>53.133333</td>\n",
       "      <td>5.459792</td>\n",
       "      <td>10.072014</td>\n",
       "    </tr>\n",
       "    <tr>\n",
       "      <th>2022-05-23</th>\n",
       "      <td>25.213636</td>\n",
       "      <td>436.227273</td>\n",
       "      <td>6.273684</td>\n",
       "      <td>6.103143</td>\n",
       "      <td>0.098476</td>\n",
       "      <td>55.368182</td>\n",
       "      <td>5.471667</td>\n",
       "      <td>12.829653</td>\n",
       "    </tr>\n",
       "  </tbody>\n",
       "</table>\n",
       "<p>3430 rows × 8 columns</p>\n",
       "</div>"
      ],
      "text/plain": [
       "             Temp (℃)  EC (μS/cm)  TOC (mg/L)  T-N (mg/L)  T-P (mg/L)  \\\n",
       "DateTime                                                                \n",
       "2013-01-01   4.113043  406.391304    2.791667         NaN         NaN   \n",
       "2013-01-02   4.282609  431.260870    2.839130         NaN         NaN   \n",
       "2013-01-03   3.830435  416.565217    3.058333         NaN         NaN   \n",
       "2013-01-04   3.313043  402.000000    2.730435         NaN         NaN   \n",
       "2013-01-05   3.165217  409.304348    2.800000         NaN         NaN   \n",
       "...               ...         ...         ...         ...         ...   \n",
       "2022-05-19  21.933333  477.380952    6.066667    7.954952    0.096714   \n",
       "2022-05-20  22.391304  469.434783    6.323810    7.994000    0.094545   \n",
       "2022-05-21  23.054167  460.041667    6.162500    7.449708    0.107333   \n",
       "2022-05-22  24.270833  459.000000    6.020833    7.154875    0.092583   \n",
       "2022-05-23  25.213636  436.227273    6.273684    6.103143    0.098476   \n",
       "\n",
       "            Chl-a (mg/㎥)  Up_H (EL.m)  D_Flow (㎥/s)  \n",
       "DateTime                                             \n",
       "2013-01-01      7.025000     7.490903     18.733472  \n",
       "2013-01-02      7.056522     7.501458     18.929167  \n",
       "2013-01-03      7.195833     7.499236     16.621250  \n",
       "2013-01-04      7.126087     7.489722     15.805556  \n",
       "2013-01-05      7.220833     7.494722     13.062361  \n",
       "...                  ...          ...           ...  \n",
       "2022-05-19     48.766667     5.422292      6.935208  \n",
       "2022-05-20     54.026087     5.483750      8.437014  \n",
       "2022-05-21     56.941667     5.530972     12.939444  \n",
       "2022-05-22     53.133333     5.459792     10.072014  \n",
       "2022-05-23     55.368182     5.471667     12.829653  \n",
       "\n",
       "[3430 rows x 8 columns]"
      ]
     },
     "execution_count": 69,
     "metadata": {},
     "output_type": "execute_result"
    }
   ],
   "source": [
    "scb_df_daily"
   ]
  },
  {
   "cell_type": "markdown",
   "metadata": {},
   "source": [
    "## 클로로필-a와 녹조경보 연관성 조사"
   ]
  },
  {
   "cell_type": "markdown",
   "metadata": {},
   "source": [
    "예를 들어, 클로로필-a의 수치가 15 이상 2주동안 지속되는 경우에 각 특성별 수치의 특성은 다음과 같다."
   ]
  },
  {
   "cell_type": "code",
   "execution_count": 70,
   "metadata": {},
   "outputs": [],
   "source": [
    "chl_a = 'Chl-a (mg/㎥)'\n",
    "temp = 'Temp (℃)'\n",
    "flow = 'D_Flow (㎥/s)'"
   ]
  },
  {
   "cell_type": "code",
   "execution_count": 71,
   "metadata": {},
   "outputs": [
    {
     "data": {
      "text/html": [
       "<div>\n",
       "<style scoped>\n",
       "    .dataframe tbody tr th:only-of-type {\n",
       "        vertical-align: middle;\n",
       "    }\n",
       "\n",
       "    .dataframe tbody tr th {\n",
       "        vertical-align: top;\n",
       "    }\n",
       "\n",
       "    .dataframe thead th {\n",
       "        text-align: right;\n",
       "    }\n",
       "</style>\n",
       "<table border=\"1\" class=\"dataframe\">\n",
       "  <thead>\n",
       "    <tr style=\"text-align: right;\">\n",
       "      <th></th>\n",
       "      <th>Temp (℃)</th>\n",
       "      <th>EC (μS/cm)</th>\n",
       "      <th>TOC (mg/L)</th>\n",
       "      <th>T-N (mg/L)</th>\n",
       "      <th>T-P (mg/L)</th>\n",
       "      <th>Chl-a (mg/㎥)</th>\n",
       "      <th>Up_H (EL.m)</th>\n",
       "      <th>D_Flow (㎥/s)</th>\n",
       "    </tr>\n",
       "  </thead>\n",
       "  <tbody>\n",
       "    <tr>\n",
       "      <th>count</th>\n",
       "      <td>1440.000000</td>\n",
       "      <td>1440.000000</td>\n",
       "      <td>1316.000000</td>\n",
       "      <td>1395.000000</td>\n",
       "      <td>1391.000000</td>\n",
       "      <td>1445.000000</td>\n",
       "      <td>1445.000000</td>\n",
       "      <td>1445.000000</td>\n",
       "    </tr>\n",
       "    <tr>\n",
       "      <th>mean</th>\n",
       "      <td>17.344083</td>\n",
       "      <td>368.767635</td>\n",
       "      <td>4.617135</td>\n",
       "      <td>5.800716</td>\n",
       "      <td>0.113522</td>\n",
       "      <td>65.327176</td>\n",
       "      <td>6.756246</td>\n",
       "      <td>18.338890</td>\n",
       "    </tr>\n",
       "    <tr>\n",
       "      <th>std</th>\n",
       "      <td>7.725484</td>\n",
       "      <td>73.387936</td>\n",
       "      <td>0.938584</td>\n",
       "      <td>1.996815</td>\n",
       "      <td>0.061915</td>\n",
       "      <td>32.482058</td>\n",
       "      <td>0.856469</td>\n",
       "      <td>25.034180</td>\n",
       "    </tr>\n",
       "    <tr>\n",
       "      <th>min</th>\n",
       "      <td>3.154167</td>\n",
       "      <td>150.708333</td>\n",
       "      <td>1.980000</td>\n",
       "      <td>1.019625</td>\n",
       "      <td>0.007583</td>\n",
       "      <td>15.008333</td>\n",
       "      <td>4.799236</td>\n",
       "      <td>0.000000</td>\n",
       "    </tr>\n",
       "    <tr>\n",
       "      <th>25%</th>\n",
       "      <td>9.916250</td>\n",
       "      <td>312.146739</td>\n",
       "      <td>3.957292</td>\n",
       "      <td>4.363167</td>\n",
       "      <td>0.072354</td>\n",
       "      <td>38.920833</td>\n",
       "      <td>5.981389</td>\n",
       "      <td>10.386806</td>\n",
       "    </tr>\n",
       "    <tr>\n",
       "      <th>50%</th>\n",
       "      <td>17.030072</td>\n",
       "      <td>369.518640</td>\n",
       "      <td>4.537500</td>\n",
       "      <td>5.748792</td>\n",
       "      <td>0.100500</td>\n",
       "      <td>61.258333</td>\n",
       "      <td>7.390347</td>\n",
       "      <td>13.310347</td>\n",
       "    </tr>\n",
       "    <tr>\n",
       "      <th>75%</th>\n",
       "      <td>24.372733</td>\n",
       "      <td>427.147727</td>\n",
       "      <td>5.190683</td>\n",
       "      <td>7.204708</td>\n",
       "      <td>0.138504</td>\n",
       "      <td>86.825000</td>\n",
       "      <td>7.511736</td>\n",
       "      <td>19.424792</td>\n",
       "    </tr>\n",
       "    <tr>\n",
       "      <th>max</th>\n",
       "      <td>33.571429</td>\n",
       "      <td>599.333333</td>\n",
       "      <td>8.536842</td>\n",
       "      <td>12.105417</td>\n",
       "      <td>0.601174</td>\n",
       "      <td>216.895238</td>\n",
       "      <td>7.704097</td>\n",
       "      <td>527.370694</td>\n",
       "    </tr>\n",
       "  </tbody>\n",
       "</table>\n",
       "</div>"
      ],
      "text/plain": [
       "          Temp (℃)   EC (μS/cm)   TOC (mg/L)   T-N (mg/L)   T-P (mg/L)  \\\n",
       "count  1440.000000  1440.000000  1316.000000  1395.000000  1391.000000   \n",
       "mean     17.344083   368.767635     4.617135     5.800716     0.113522   \n",
       "std       7.725484    73.387936     0.938584     1.996815     0.061915   \n",
       "min       3.154167   150.708333     1.980000     1.019625     0.007583   \n",
       "25%       9.916250   312.146739     3.957292     4.363167     0.072354   \n",
       "50%      17.030072   369.518640     4.537500     5.748792     0.100500   \n",
       "75%      24.372733   427.147727     5.190683     7.204708     0.138504   \n",
       "max      33.571429   599.333333     8.536842    12.105417     0.601174   \n",
       "\n",
       "       Chl-a (mg/㎥)  Up_H (EL.m)  D_Flow (㎥/s)  \n",
       "count   1445.000000  1445.000000   1445.000000  \n",
       "mean      65.327176     6.756246     18.338890  \n",
       "std       32.482058     0.856469     25.034180  \n",
       "min       15.008333     4.799236      0.000000  \n",
       "25%       38.920833     5.981389     10.386806  \n",
       "50%       61.258333     7.390347     13.310347  \n",
       "75%       86.825000     7.511736     19.424792  \n",
       "max      216.895238     7.704097    527.370694  "
      ]
     },
     "execution_count": 71,
     "metadata": {},
     "output_type": "execute_result"
    }
   ],
   "source": [
    "mask15 = scb_df_daily[chl_a].rolling(window=14).min() >= 15\n",
    "scb_df_daily_15 = scb_df_daily[mask15]\n",
    "scb_df_daily_15.describe()"
   ]
  },
  {
   "cell_type": "markdown",
   "metadata": {},
   "source": [
    "클로로필-a의 수치가 15 이상 2주동안 지속되는 시기를 확인하면\n",
    "평균 수온이 7~8도로 낮은 경우도 존재한다."
   ]
  },
  {
   "cell_type": "code",
   "execution_count": 72,
   "metadata": {},
   "outputs": [
    {
     "data": {
      "image/png": "[encoded data removed]",
      "text/plain": [
       "<Figure size 720x432 with 1 Axes>"
      ]
     },
     "metadata": {
      "needs_background": "light"
     },
     "output_type": "display_data"
    }
   ],
   "source": [
    "scb_df_daily_15.hist(column=temp)\n",
    "\n",
    "plt.xlabel('Temperature')\n",
    "plt.title('Histogram for temperature while Chl-a >=15 for 2 weeks')\n",
    "\n",
    "save_fig(\"chl_a_15_temp\")\n",
    "plt.show()"
   ]
  },
  {
   "cell_type": "code",
   "execution_count": 73,
   "metadata": {},
   "outputs": [
    {
     "data": {
      "image/png": "[encoded data removed]",
      "text/plain": [
       "<Figure size 720x432 with 1 Axes>"
      ]
     },
     "metadata": {
      "needs_background": "light"
     },
     "output_type": "display_data"
    }
   ],
   "source": [
    "scb_df_daily_15.hist(column=flow, bins=range(0, 100, 5))\n",
    "\n",
    "plt.xlabel('Flow')\n",
    "plt.title('Histogram for flow quantity while Chl-a >=15 for 2 weeks')\n",
    "\n",
    "save_fig(\"chl_a_15_flow\")\n",
    "plt.show()"
   ]
  },
  {
   "cell_type": "markdown",
   "metadata": {},
   "source": [
    "클로로필-a의 수치가 25 이상 2주동안 지속되는 경우는 다음과 같다."
   ]
  },
  {
   "cell_type": "code",
   "execution_count": 74,
   "metadata": {},
   "outputs": [
    {
     "data": {
      "text/html": [
       "<div>\n",
       "<style scoped>\n",
       "    .dataframe tbody tr th:only-of-type {\n",
       "        vertical-align: middle;\n",
       "    }\n",
       "\n",
       "    .dataframe tbody tr th {\n",
       "        vertical-align: top;\n",
       "    }\n",
       "\n",
       "    .dataframe thead th {\n",
       "        text-align: right;\n",
       "    }\n",
       "</style>\n",
       "<table border=\"1\" class=\"dataframe\">\n",
       "  <thead>\n",
       "    <tr style=\"text-align: right;\">\n",
       "      <th></th>\n",
       "      <th>Temp (℃)</th>\n",
       "      <th>EC (μS/cm)</th>\n",
       "      <th>TOC (mg/L)</th>\n",
       "      <th>T-N (mg/L)</th>\n",
       "      <th>T-P (mg/L)</th>\n",
       "      <th>Chl-a (mg/㎥)</th>\n",
       "      <th>Up_H (EL.m)</th>\n",
       "      <th>D_Flow (㎥/s)</th>\n",
       "    </tr>\n",
       "  </thead>\n",
       "  <tbody>\n",
       "    <tr>\n",
       "      <th>count</th>\n",
       "      <td>984.000000</td>\n",
       "      <td>984.000000</td>\n",
       "      <td>918.000000</td>\n",
       "      <td>954.000000</td>\n",
       "      <td>946.000000</td>\n",
       "      <td>988.000000</td>\n",
       "      <td>988.000000</td>\n",
       "      <td>988.000000</td>\n",
       "    </tr>\n",
       "    <tr>\n",
       "      <th>mean</th>\n",
       "      <td>16.363852</td>\n",
       "      <td>378.136313</td>\n",
       "      <td>4.625165</td>\n",
       "      <td>5.979717</td>\n",
       "      <td>0.111937</td>\n",
       "      <td>73.168973</td>\n",
       "      <td>6.621110</td>\n",
       "      <td>17.021436</td>\n",
       "    </tr>\n",
       "    <tr>\n",
       "      <th>std</th>\n",
       "      <td>8.049048</td>\n",
       "      <td>73.616102</td>\n",
       "      <td>0.908443</td>\n",
       "      <td>2.149805</td>\n",
       "      <td>0.063883</td>\n",
       "      <td>30.368973</td>\n",
       "      <td>0.851653</td>\n",
       "      <td>22.204984</td>\n",
       "    </tr>\n",
       "    <tr>\n",
       "      <th>min</th>\n",
       "      <td>3.154167</td>\n",
       "      <td>150.708333</td>\n",
       "      <td>2.737500</td>\n",
       "      <td>1.019625</td>\n",
       "      <td>0.007583</td>\n",
       "      <td>25.070833</td>\n",
       "      <td>5.337917</td>\n",
       "      <td>0.000000</td>\n",
       "    </tr>\n",
       "    <tr>\n",
       "      <th>25%</th>\n",
       "      <td>8.998201</td>\n",
       "      <td>322.020833</td>\n",
       "      <td>4.004212</td>\n",
       "      <td>4.385604</td>\n",
       "      <td>0.070302</td>\n",
       "      <td>48.447431</td>\n",
       "      <td>5.966806</td>\n",
       "      <td>9.749427</td>\n",
       "    </tr>\n",
       "    <tr>\n",
       "      <th>50%</th>\n",
       "      <td>15.306250</td>\n",
       "      <td>384.496212</td>\n",
       "      <td>4.491667</td>\n",
       "      <td>5.958792</td>\n",
       "      <td>0.097957</td>\n",
       "      <td>70.743750</td>\n",
       "      <td>6.040590</td>\n",
       "      <td>12.640833</td>\n",
       "    </tr>\n",
       "    <tr>\n",
       "      <th>75%</th>\n",
       "      <td>23.918845</td>\n",
       "      <td>439.835227</td>\n",
       "      <td>5.156399</td>\n",
       "      <td>7.610850</td>\n",
       "      <td>0.136988</td>\n",
       "      <td>92.559375</td>\n",
       "      <td>7.505642</td>\n",
       "      <td>18.554219</td>\n",
       "    </tr>\n",
       "    <tr>\n",
       "      <th>max</th>\n",
       "      <td>33.571429</td>\n",
       "      <td>559.000000</td>\n",
       "      <td>8.536842</td>\n",
       "      <td>12.105417</td>\n",
       "      <td>0.601174</td>\n",
       "      <td>184.663158</td>\n",
       "      <td>7.671319</td>\n",
       "      <td>527.370694</td>\n",
       "    </tr>\n",
       "  </tbody>\n",
       "</table>\n",
       "</div>"
      ],
      "text/plain": [
       "         Temp (℃)  EC (μS/cm)  TOC (mg/L)  T-N (mg/L)  T-P (mg/L)  \\\n",
       "count  984.000000  984.000000  918.000000  954.000000  946.000000   \n",
       "mean    16.363852  378.136313    4.625165    5.979717    0.111937   \n",
       "std      8.049048   73.616102    0.908443    2.149805    0.063883   \n",
       "min      3.154167  150.708333    2.737500    1.019625    0.007583   \n",
       "25%      8.998201  322.020833    4.004212    4.385604    0.070302   \n",
       "50%     15.306250  384.496212    4.491667    5.958792    0.097957   \n",
       "75%     23.918845  439.835227    5.156399    7.610850    0.136988   \n",
       "max     33.571429  559.000000    8.536842   12.105417    0.601174   \n",
       "\n",
       "       Chl-a (mg/㎥)  Up_H (EL.m)  D_Flow (㎥/s)  \n",
       "count    988.000000   988.000000    988.000000  \n",
       "mean      73.168973     6.621110     17.021436  \n",
       "std       30.368973     0.851653     22.204984  \n",
       "min       25.070833     5.337917      0.000000  \n",
       "25%       48.447431     5.966806      9.749427  \n",
       "50%       70.743750     6.040590     12.640833  \n",
       "75%       92.559375     7.505642     18.554219  \n",
       "max      184.663158     7.671319    527.370694  "
      ]
     },
     "execution_count": 74,
     "metadata": {},
     "output_type": "execute_result"
    }
   ],
   "source": [
    "mask25 = scb_df_daily[chl_a].rolling(window=14).min() >= 25\n",
    "\n",
    "scb_df_daily[mask25].describe()"
   ]
  },
  {
   "cell_type": "markdown",
   "metadata": {},
   "source": [
    "클로로필-a의 수치가 100 이상 2주동안 지속되는 시기를 확인하면\n",
    "평균 수온이 7~8도 정도인 경우도 존재한다."
   ]
  },
  {
   "cell_type": "code",
   "execution_count": 75,
   "metadata": {},
   "outputs": [
    {
     "data": {
      "image/png": "[encoded data removed]",
      "text/plain": [
       "<Figure size 720x432 with 1 Axes>"
      ]
     },
     "metadata": {
      "needs_background": "light"
     },
     "output_type": "display_data"
    }
   ],
   "source": [
    "scb_df_daily[mask25].hist(column=temp)\n",
    "\n",
    "plt.xlabel('Temperature')\n",
    "plt.title('Histogram for temperature while Chl-a >=25 for 2 weeks')\n",
    "\n",
    "save_fig(\"chl_a_25_temp\")\n",
    "plt.show()"
   ]
  },
  {
   "cell_type": "code",
   "execution_count": 76,
   "metadata": {},
   "outputs": [
    {
     "data": {
      "image/png": "[encoded data removed]",
      "text/plain": [
       "<Figure size 720x432 with 1 Axes>"
      ]
     },
     "metadata": {
      "needs_background": "light"
     },
     "output_type": "display_data"
    }
   ],
   "source": [
    "scb_df_daily[mask25].hist(column=flow, bins=range(0, 100, 5))\n",
    "\n",
    "plt.xlabel('Flow')\n",
    "plt.title('Histogram for flow quantity while Chl-a >=25 for 2 weeks')\n",
    "\n",
    "save_fig(\"chl_a_25_flow\")\n",
    "plt.show()"
   ]
  },
  {
   "cell_type": "markdown",
   "metadata": {},
   "source": [
    "클로로필-a의 수치가 50 이상 2주동안 지속되는 경우는 다음과 같다."
   ]
  },
  {
   "cell_type": "code",
   "execution_count": 77,
   "metadata": {},
   "outputs": [
    {
     "data": {
      "text/html": [
       "<div>\n",
       "<style scoped>\n",
       "    .dataframe tbody tr th:only-of-type {\n",
       "        vertical-align: middle;\n",
       "    }\n",
       "\n",
       "    .dataframe tbody tr th {\n",
       "        vertical-align: top;\n",
       "    }\n",
       "\n",
       "    .dataframe thead th {\n",
       "        text-align: right;\n",
       "    }\n",
       "</style>\n",
       "<table border=\"1\" class=\"dataframe\">\n",
       "  <thead>\n",
       "    <tr style=\"text-align: right;\">\n",
       "      <th></th>\n",
       "      <th>Temp (℃)</th>\n",
       "      <th>EC (μS/cm)</th>\n",
       "      <th>TOC (mg/L)</th>\n",
       "      <th>T-N (mg/L)</th>\n",
       "      <th>T-P (mg/L)</th>\n",
       "      <th>Chl-a (mg/㎥)</th>\n",
       "      <th>Up_H (EL.m)</th>\n",
       "      <th>D_Flow (㎥/s)</th>\n",
       "    </tr>\n",
       "  </thead>\n",
       "  <tbody>\n",
       "    <tr>\n",
       "      <th>count</th>\n",
       "      <td>295.000000</td>\n",
       "      <td>295.000000</td>\n",
       "      <td>273.000000</td>\n",
       "      <td>284.000000</td>\n",
       "      <td>280.000000</td>\n",
       "      <td>299.000000</td>\n",
       "      <td>299.000000</td>\n",
       "      <td>299.000000</td>\n",
       "    </tr>\n",
       "    <tr>\n",
       "      <th>mean</th>\n",
       "      <td>14.411360</td>\n",
       "      <td>400.709529</td>\n",
       "      <td>5.004242</td>\n",
       "      <td>6.654920</td>\n",
       "      <td>0.101800</td>\n",
       "      <td>98.168148</td>\n",
       "      <td>6.218915</td>\n",
       "      <td>13.278674</td>\n",
       "    </tr>\n",
       "    <tr>\n",
       "      <th>std</th>\n",
       "      <td>7.919687</td>\n",
       "      <td>54.748235</td>\n",
       "      <td>0.878793</td>\n",
       "      <td>2.189976</td>\n",
       "      <td>0.049811</td>\n",
       "      <td>26.636481</td>\n",
       "      <td>0.720535</td>\n",
       "      <td>11.941054</td>\n",
       "    </tr>\n",
       "    <tr>\n",
       "      <th>min</th>\n",
       "      <td>4.733333</td>\n",
       "      <td>243.500000</td>\n",
       "      <td>3.150000</td>\n",
       "      <td>2.337600</td>\n",
       "      <td>0.015875</td>\n",
       "      <td>52.078261</td>\n",
       "      <td>5.337917</td>\n",
       "      <td>0.000000</td>\n",
       "    </tr>\n",
       "    <tr>\n",
       "      <th>25%</th>\n",
       "      <td>7.585417</td>\n",
       "      <td>361.038949</td>\n",
       "      <td>4.356250</td>\n",
       "      <td>4.906134</td>\n",
       "      <td>0.069344</td>\n",
       "      <td>77.412500</td>\n",
       "      <td>5.953819</td>\n",
       "      <td>8.597708</td>\n",
       "    </tr>\n",
       "    <tr>\n",
       "      <th>50%</th>\n",
       "      <td>12.578571</td>\n",
       "      <td>413.333333</td>\n",
       "      <td>4.870000</td>\n",
       "      <td>6.576729</td>\n",
       "      <td>0.093354</td>\n",
       "      <td>94.562500</td>\n",
       "      <td>5.990139</td>\n",
       "      <td>10.939236</td>\n",
       "    </tr>\n",
       "    <tr>\n",
       "      <th>75%</th>\n",
       "      <td>18.408333</td>\n",
       "      <td>443.895833</td>\n",
       "      <td>5.479167</td>\n",
       "      <td>8.520579</td>\n",
       "      <td>0.117781</td>\n",
       "      <td>117.080616</td>\n",
       "      <td>6.026701</td>\n",
       "      <td>13.580000</td>\n",
       "    </tr>\n",
       "    <tr>\n",
       "      <th>max</th>\n",
       "      <td>32.926087</td>\n",
       "      <td>526.739130</td>\n",
       "      <td>7.691304</td>\n",
       "      <td>11.166100</td>\n",
       "      <td>0.390529</td>\n",
       "      <td>184.663158</td>\n",
       "      <td>7.671319</td>\n",
       "      <td>154.341389</td>\n",
       "    </tr>\n",
       "  </tbody>\n",
       "</table>\n",
       "</div>"
      ],
      "text/plain": [
       "         Temp (℃)  EC (μS/cm)  TOC (mg/L)  T-N (mg/L)  T-P (mg/L)  \\\n",
       "count  295.000000  295.000000  273.000000  284.000000  280.000000   \n",
       "mean    14.411360  400.709529    5.004242    6.654920    0.101800   \n",
       "std      7.919687   54.748235    0.878793    2.189976    0.049811   \n",
       "min      4.733333  243.500000    3.150000    2.337600    0.015875   \n",
       "25%      7.585417  361.038949    4.356250    4.906134    0.069344   \n",
       "50%     12.578571  413.333333    4.870000    6.576729    0.093354   \n",
       "75%     18.408333  443.895833    5.479167    8.520579    0.117781   \n",
       "max     32.926087  526.739130    7.691304   11.166100    0.390529   \n",
       "\n",
       "       Chl-a (mg/㎥)  Up_H (EL.m)  D_Flow (㎥/s)  \n",
       "count    299.000000   299.000000    299.000000  \n",
       "mean      98.168148     6.218915     13.278674  \n",
       "std       26.636481     0.720535     11.941054  \n",
       "min       52.078261     5.337917      0.000000  \n",
       "25%       77.412500     5.953819      8.597708  \n",
       "50%       94.562500     5.990139     10.939236  \n",
       "75%      117.080616     6.026701     13.580000  \n",
       "max      184.663158     7.671319    154.341389  "
      ]
     },
     "execution_count": 77,
     "metadata": {},
     "output_type": "execute_result"
    }
   ],
   "source": [
    "mask50 = scb_df_daily[chl_a].rolling(window=14).min() >= 50\n",
    "\n",
    "scb_df_daily[mask50].describe()"
   ]
  },
  {
   "cell_type": "markdown",
   "metadata": {},
   "source": [
    "수온에 대한 히스토그램을 그려보면, 낮은 수온에서도 클로로필-a 수치가 50이상 2주동안 지속되는 경우가 많음을 알 수 있다."
   ]
  },
  {
   "cell_type": "code",
   "execution_count": 78,
   "metadata": {},
   "outputs": [
    {
     "data": {
      "image/png": "[encoded data removed]",
      "text/plain": [
       "<Figure size 720x432 with 1 Axes>"
      ]
     },
     "metadata": {
      "needs_background": "light"
     },
     "output_type": "display_data"
    }
   ],
   "source": [
    "scb_df_daily[mask50].hist(column=temp)\n",
    "\n",
    "plt.xlabel('Temperature')\n",
    "plt.title('Histogram for temperature while Chl-a >=50 for 2 weeks')\n",
    "\n",
    "save_fig(\"chl_a_50_temp\")\n",
    "plt.show()"
   ]
  },
  {
   "cell_type": "code",
   "execution_count": 79,
   "metadata": {},
   "outputs": [
    {
     "data": {
      "image/png": "[encoded data removed]",
      "text/plain": [
       "<Figure size 720x432 with 1 Axes>"
      ]
     },
     "metadata": {
      "needs_background": "light"
     },
     "output_type": "display_data"
    }
   ],
   "source": [
    "scb_df_daily[mask50].hist(column=flow, bins=range(0, 100, 5))\n",
    "\n",
    "plt.xlabel('Flow')\n",
    "plt.title('Histogram for flow quantity while Chl-a >=50 for 2 weeks')\n",
    "\n",
    "save_fig(\"chl_a_50_flow\")\n",
    "plt.show()"
   ]
  },
  {
   "cell_type": "markdown",
   "metadata": {},
   "source": [
    "클로로필-a의 수치가 100 이상 2주동안 지속되는 경우는 다음과 같다."
   ]
  },
  {
   "cell_type": "code",
   "execution_count": 80,
   "metadata": {},
   "outputs": [
    {
     "data": {
      "text/html": [
       "<div>\n",
       "<style scoped>\n",
       "    .dataframe tbody tr th:only-of-type {\n",
       "        vertical-align: middle;\n",
       "    }\n",
       "\n",
       "    .dataframe tbody tr th {\n",
       "        vertical-align: top;\n",
       "    }\n",
       "\n",
       "    .dataframe thead th {\n",
       "        text-align: right;\n",
       "    }\n",
       "</style>\n",
       "<table border=\"1\" class=\"dataframe\">\n",
       "  <thead>\n",
       "    <tr style=\"text-align: right;\">\n",
       "      <th></th>\n",
       "      <th>Temp (℃)</th>\n",
       "      <th>EC (μS/cm)</th>\n",
       "      <th>TOC (mg/L)</th>\n",
       "      <th>T-N (mg/L)</th>\n",
       "      <th>T-P (mg/L)</th>\n",
       "      <th>Chl-a (mg/㎥)</th>\n",
       "      <th>Up_H (EL.m)</th>\n",
       "      <th>D_Flow (㎥/s)</th>\n",
       "    </tr>\n",
       "  </thead>\n",
       "  <tbody>\n",
       "    <tr>\n",
       "      <th>count</th>\n",
       "      <td>15.000000</td>\n",
       "      <td>15.000000</td>\n",
       "      <td>14.000000</td>\n",
       "      <td>12.000000</td>\n",
       "      <td>14.000000</td>\n",
       "      <td>15.000000</td>\n",
       "      <td>15.000000</td>\n",
       "      <td>15.000000</td>\n",
       "    </tr>\n",
       "    <tr>\n",
       "      <th>mean</th>\n",
       "      <td>7.643970</td>\n",
       "      <td>449.625154</td>\n",
       "      <td>5.595887</td>\n",
       "      <td>10.217116</td>\n",
       "      <td>0.104333</td>\n",
       "      <td>124.862947</td>\n",
       "      <td>5.963903</td>\n",
       "      <td>9.191514</td>\n",
       "    </tr>\n",
       "    <tr>\n",
       "      <th>std</th>\n",
       "      <td>1.122911</td>\n",
       "      <td>8.215614</td>\n",
       "      <td>0.534616</td>\n",
       "      <td>0.510460</td>\n",
       "      <td>0.011908</td>\n",
       "      <td>12.234088</td>\n",
       "      <td>0.008860</td>\n",
       "      <td>1.582074</td>\n",
       "    </tr>\n",
       "    <tr>\n",
       "      <th>min</th>\n",
       "      <td>6.452174</td>\n",
       "      <td>435.043478</td>\n",
       "      <td>4.875000</td>\n",
       "      <td>9.401286</td>\n",
       "      <td>0.078167</td>\n",
       "      <td>102.059091</td>\n",
       "      <td>5.952986</td>\n",
       "      <td>6.059722</td>\n",
       "    </tr>\n",
       "    <tr>\n",
       "      <th>25%</th>\n",
       "      <td>6.790119</td>\n",
       "      <td>443.723485</td>\n",
       "      <td>5.101875</td>\n",
       "      <td>10.026146</td>\n",
       "      <td>0.100462</td>\n",
       "      <td>118.264583</td>\n",
       "      <td>5.958542</td>\n",
       "      <td>8.431493</td>\n",
       "    </tr>\n",
       "    <tr>\n",
       "      <th>50%</th>\n",
       "      <td>7.304348</td>\n",
       "      <td>450.250000</td>\n",
       "      <td>5.653152</td>\n",
       "      <td>10.207185</td>\n",
       "      <td>0.105729</td>\n",
       "      <td>122.778261</td>\n",
       "      <td>5.961597</td>\n",
       "      <td>8.917014</td>\n",
       "    </tr>\n",
       "    <tr>\n",
       "      <th>75%</th>\n",
       "      <td>8.227083</td>\n",
       "      <td>455.096014</td>\n",
       "      <td>6.083194</td>\n",
       "      <td>10.498991</td>\n",
       "      <td>0.111625</td>\n",
       "      <td>132.651705</td>\n",
       "      <td>5.966806</td>\n",
       "      <td>11.004965</td>\n",
       "    </tr>\n",
       "    <tr>\n",
       "      <th>max</th>\n",
       "      <td>9.787500</td>\n",
       "      <td>462.125000</td>\n",
       "      <td>6.275000</td>\n",
       "      <td>11.166100</td>\n",
       "      <td>0.121042</td>\n",
       "      <td>143.304348</td>\n",
       "      <td>5.984931</td>\n",
       "      <td>11.048403</td>\n",
       "    </tr>\n",
       "  </tbody>\n",
       "</table>\n",
       "</div>"
      ],
      "text/plain": [
       "        Temp (℃)  EC (μS/cm)  TOC (mg/L)  T-N (mg/L)  T-P (mg/L)  \\\n",
       "count  15.000000   15.000000   14.000000   12.000000   14.000000   \n",
       "mean    7.643970  449.625154    5.595887   10.217116    0.104333   \n",
       "std     1.122911    8.215614    0.534616    0.510460    0.011908   \n",
       "min     6.452174  435.043478    4.875000    9.401286    0.078167   \n",
       "25%     6.790119  443.723485    5.101875   10.026146    0.100462   \n",
       "50%     7.304348  450.250000    5.653152   10.207185    0.105729   \n",
       "75%     8.227083  455.096014    6.083194   10.498991    0.111625   \n",
       "max     9.787500  462.125000    6.275000   11.166100    0.121042   \n",
       "\n",
       "       Chl-a (mg/㎥)  Up_H (EL.m)  D_Flow (㎥/s)  \n",
       "count     15.000000    15.000000     15.000000  \n",
       "mean     124.862947     5.963903      9.191514  \n",
       "std       12.234088     0.008860      1.582074  \n",
       "min      102.059091     5.952986      6.059722  \n",
       "25%      118.264583     5.958542      8.431493  \n",
       "50%      122.778261     5.961597      8.917014  \n",
       "75%      132.651705     5.966806     11.004965  \n",
       "max      143.304348     5.984931     11.048403  "
      ]
     },
     "execution_count": 80,
     "metadata": {},
     "output_type": "execute_result"
    }
   ],
   "source": [
    "mask100 = scb_df_daily[chl_a].rolling(window=14).min() >= 100\n",
    "\n",
    "scb_df_daily[mask100].describe()"
   ]
  },
  {
   "cell_type": "markdown",
   "metadata": {},
   "source": [
    "클로로필-a의 수치가 100 이상 2주동안 지속되는 시기를 확인하면 다음과 같이 2022년 2월 중순, 하순이다.\n",
    "평균 수온이 7~8도 정도임에도 불구하도 높은 클로로필-a 수치가 한동안 유지된 이유는 방류량이\n",
    "극도로 적은 탓으로 보인다."
   ]
  },
  {
   "cell_type": "code",
   "execution_count": 81,
   "metadata": {},
   "outputs": [
    {
     "data": {
      "image/png": "[encoded data removed]",
      "text/plain": [
       "<Figure size 720x432 with 1 Axes>"
      ]
     },
     "metadata": {
      "needs_background": "light"
     },
     "output_type": "display_data"
    }
   ],
   "source": [
    "scb_df_daily[mask100].hist(column=temp)\n",
    "\n",
    "plt.xlabel('Temperature')\n",
    "plt.title('Histogram for temperature while Chl-a >=100 for 2 weeks')\n",
    "\n",
    "save_fig(\"chl_a_100_temp\")\n",
    "plt.show()"
   ]
  },
  {
   "cell_type": "code",
   "execution_count": 82,
   "metadata": {},
   "outputs": [
    {
     "data": {
      "image/png": "[encoded data removed]",
      "text/plain": [
       "<Figure size 720x432 with 1 Axes>"
      ]
     },
     "metadata": {
      "needs_background": "light"
     },
     "output_type": "display_data"
    }
   ],
   "source": [
    "scb_df_daily[mask100].hist(column=flow, bins=range(0, 100, 5))\n",
    "\n",
    "plt.xlabel('Flow')\n",
    "plt.title('Histogram for flow quantity while Chl-a >=100 for 2 weeks')\n",
    "\n",
    "save_fig(\"chl_a_100_flow\")\n",
    "plt.show()"
   ]
  },
  {
   "cell_type": "markdown",
   "metadata": {},
   "source": [
    "### 클로로필-a 기준에 따른 특성들의 변화"
   ]
  },
  {
   "cell_type": "markdown",
   "metadata": {},
   "source": [
    "조류 경보 발령 기준별로 특성들의 사분위수 변화를 그래프로 그린다."
   ]
  },
  {
   "cell_type": "code",
   "execution_count": 83,
   "metadata": {},
   "outputs": [],
   "source": [
    "def green_tide(quartile='mean', period=14):\n",
    "\n",
    "    day_quartile_dict = dict()\n",
    "\n",
    "    for value in range(5, 101, 5):\n",
    "        mask = scb_df_daily[chl_a].rolling(window=period).min() >= value\n",
    "        desc = scb_df_daily[mask].describe()\n",
    "        day_quartile = desc.loc[quartile]\n",
    "        day_quartile_dict[value] = day_quartile\n",
    "\n",
    "    day_quartile_df = pd.DataFrame(day_quartile_dict).T\n",
    "    \n",
    "    return day_quartile_df"
   ]
  },
  {
   "cell_type": "markdown",
   "metadata": {},
   "source": [
    "**평균값의 변화**"
   ]
  },
  {
   "cell_type": "code",
   "execution_count": 84,
   "metadata": {},
   "outputs": [
    {
     "data": {
      "text/plain": [
       "array([<AxesSubplot:>, <AxesSubplot:>, <AxesSubplot:>, <AxesSubplot:>,\n",
       "       <AxesSubplot:>, <AxesSubplot:>, <AxesSubplot:>, <AxesSubplot:>],\n",
       "      dtype=object)"
      ]
     },
     "execution_count": 84,
     "metadata": {},
     "output_type": "execute_result"
    },
    {
     "data": {
      "image/png": "[encoded data removed]",
      "text/plain": [
       "<Figure size 720x1080 with 8 Axes>"
      ]
     },
     "metadata": {
      "needs_background": "light"
     },
     "output_type": "display_data"
    }
   ],
   "source": [
    "day_quartile_df = green_tide(quartile='mean')\n",
    "day_quartile_df.plot(subplots=True, figsize=(10, 15))"
   ]
  },
  {
   "cell_type": "markdown",
   "metadata": {},
   "source": [
    "수온과 방류량만 확인하면 수온이 낮음에도 불구하고 클로로필-a 수치가 높게 오랫동안\n",
    "유지될 수 있는 이유가 매우 적은 양의 방류량 때문이라는 점을 언급할 수 있다."
   ]
  },
  {
   "cell_type": "code",
   "execution_count": 88,
   "metadata": {},
   "outputs": [
    {
     "data": {
      "image/png": "[encoded data removed]",
      "text/plain": [
       "<Figure size 720x432 with 1 Axes>"
      ]
     },
     "metadata": {
      "needs_background": "light"
     },
     "output_type": "display_data"
    }
   ],
   "source": [
    "fig = day_quartile_df[[temp, flow]].plot(figsize=(10, 6))\n",
    "plt.xlabel('Chl_a')\n",
    "plt.title('Temperament & Flow for 2 Weeks')\n",
    "\n",
    "save_fig('temp_flow_rel.png')\n",
    "plt.show()"
   ]
  }
 ],
 "metadata": {
  "kernelspec": {
   "display_name": "Python 3.9.12 ('base')",
   "language": "python",
   "name": "python3"
  },
  "language_info": {
   "codemirror_mode": {
    "name": "ipython",
    "version": 3
   },
   "file_extension": ".py",
   "mimetype": "text/x-python",
   "name": "python",
   "nbconvert_exporter": "python",
   "pygments_lexer": "ipython3",
   "version": "3.9.12 (main, Apr  4 2022, 05:22:27) [MSC v.1916 64 bit (AMD64)]"
  },
  "vscode": {
   "interpreter": {
    "hash": "ad0f3c8a064f687cbf898a0868fd45ba1c7e928ac8a0404f7c241d812ddc1e76"
   }
  }
 },
 "nbformat": 4,
 "nbformat_minor": 2
}
