{
 "cells": [
  {
   "attachments": {},
   "cell_type": "markdown",
   "id": "8e9b8f8b",
   "metadata": {},
   "source": [
    "**주요 내용**\n",
    "\n",
    "1일부터 14일 동안 방류량의 평균값의 중요도를 측정하고자 한다.\n",
    "이를 위해 데이터를 모두 1일 평균값의 데이터로 전환한다."
   ]
  },
  {
   "cell_type": "markdown",
   "id": "b6f2a40d",
   "metadata": {},
   "source": [
    "## 필요한 모듈 임포트"
   ]
  },
  {
   "cell_type": "code",
   "execution_count": 1,
   "id": "db986dc9",
   "metadata": {},
   "outputs": [],
   "source": [
    "import numpy as np\n",
    "import pandas as pd\n",
    "\n",
    "import matplotlib.pyplot as plt\n",
    "import seaborn as sns\n",
    "\n",
    "import joblib\n",
    "\n",
    "from datetime import datetime"
   ]
  },
  {
   "cell_type": "code",
   "execution_count": 2,
   "id": "c9f103a4",
   "metadata": {},
   "outputs": [],
   "source": [
    "from sklearn.model_selection import train_test_split\n",
    "from sklearn.model_selection import GridSearchCV\n",
    "\n",
    "from sklearn.preprocessing import StandardScaler\n",
    "\n",
    "from sklearn.ensemble import RandomForestRegressor, GradientBoostingRegressor\n",
    "\n",
    "from sklearn.tree import DecisionTreeRegressor\n",
    "\n",
    "from sklearn.linear_model import ElasticNet\n",
    "\n",
    "from sklearn.metrics import mean_squared_error"
   ]
  },
  {
   "cell_type": "code",
   "execution_count": 3,
   "id": "68d015e4",
   "metadata": {},
   "outputs": [],
   "source": [
    "# 운영체제에 따른 한글 지원을 설정한다. 지원되는 환경은 윈도우, 우분투, 구글 코랩 등이다.\n",
    "\n",
    "import platform\n",
    "plt.rc('figure', figsize=(10, 6))  # 그림 크기 설정\n",
    "if platform.system() == 'Windows': # 윈도우\n",
    "    from matplotlib import font_manager, rc\n",
    "    font_path = \"C:/Windows/Fonts/gulim.ttc\"\n",
    "    font = font_manager.FontProperties(fname=font_path).get_name()\n",
    "    rc('font', family=font)\n",
    "elif platform.system() == 'Linux': # 우분투 또는 구글 코랩\n",
    "    # !sudo apt-get install -y fonts-nanum*\n",
    "    # !fc-cache -fv\n",
    "    \n",
    "    applyfont = \"NanumBarunGothic\"\n",
    "    import matplotlib.font_manager as fm\n",
    "    if not any(map(lambda ft: ft.name == applyfont, fm.fontManager.ttflist)):\n",
    "        fm.fontManager.addfont(\"/usr/share/fonts/truetype/nanum/NanumBarunGothic.ttf\")\n",
    "    plt.rc(\"font\", family=applyfont)\n",
    "    plt.rc(\"axes\", unicode_minus=False)"
   ]
  },
  {
   "cell_type": "markdown",
   "id": "c1380141",
   "metadata": {},
   "source": [
    "## 승촌보 수질 데이터 불러오기"
   ]
  },
  {
   "cell_type": "markdown",
   "id": "e2fb0858",
   "metadata": {},
   "source": [
    "보 이름"
   ]
  },
  {
   "cell_type": "code",
   "execution_count": 4,
   "id": "62d32771",
   "metadata": {},
   "outputs": [],
   "source": [
    "reservoir = 'Seungchonbo'"
   ]
  },
  {
   "cell_type": "markdown",
   "id": "86b02d16",
   "metadata": {},
   "source": [
    "데이터 저장소"
   ]
  },
  {
   "cell_type": "code",
   "execution_count": 5,
   "id": "e57fbebc",
   "metadata": {},
   "outputs": [],
   "source": [
    "base_path = \"https://github.com/codingalzi/water-data/raw/master/reservoirs/\""
   ]
  },
  {
   "cell_type": "markdown",
   "id": "1ac42783",
   "metadata": {},
   "source": [
    "승촌보 데이터 불러오기. `'측정일/월'` 특성은 date time으로 파싱."
   ]
  },
  {
   "cell_type": "code",
   "execution_count": 6,
   "id": "6f7ca4b2",
   "metadata": {},
   "outputs": [],
   "source": [
    "data_file = reservoir+\".xlsx\"\n",
    "scb_yearly = pd.read_excel(base_path+data_file, \n",
    "                            skiprows=0, \n",
    "                            header=1, \n",
    "                            sheet_name=None,\n",
    "                            na_values='ND',\n",
    "                            parse_dates=[0])  # 측정일/월 특성을 date time으로 파싱"
   ]
  },
  {
   "attachments": {},
   "cell_type": "markdown",
   "id": "f6650bf1",
   "metadata": {},
   "source": [
    "**주의사항**\n",
    "\n",
    "아래 함수는 시간특성에 대한 파싱이 제대로 실행되지 않았을 경우 수동으로 시간 특성을 '년.월.일 시' 형식으로 변환한다.\n",
    "파싱이 제대로 되지 않은(않았던) 이유는 원본 엑셀 파일에 일부 데이터의 시간이 0시 0분 대신 12시 0분으로 표기되었기 때문이다."
   ]
  },
  {
   "cell_type": "code",
   "execution_count": 7,
   "id": "63c79e59",
   "metadata": {},
   "outputs": [],
   "source": [
    "# 연도별로 별도로 작동한다.\n",
    "\n",
    "def time2datetime(df_yearly_dict, feature):\n",
    "    for year in list(df_yearly_dict.keys()):\n",
    "        df_yearly_dict[year][feature] = df_yearly_dict[year][feature].apply(lambda x : x.strftime('%Y-%m-%d %H'))\n",
    "    \n",
    "    return df_yearly_dict"
   ]
  },
  {
   "cell_type": "markdown",
   "id": "cb4fa8a8",
   "metadata": {},
   "source": [
    "'측정일/월' 특성을 '년-월-일 시'형식으로 변경한다."
   ]
  },
  {
   "cell_type": "code",
   "execution_count": 8,
   "id": "97f19d92",
   "metadata": {},
   "outputs": [],
   "source": [
    "scb_yearly = time2datetime(scb_yearly, '측정일/월')"
   ]
  },
  {
   "cell_type": "markdown",
   "id": "0f8ee864",
   "metadata": {},
   "source": [
    "2012년도 데이터를 제외한 모든 데이터 통합 함수"
   ]
  },
  {
   "cell_type": "code",
   "execution_count": 9,
   "id": "badef293",
   "metadata": {},
   "outputs": [],
   "source": [
    "# 반환값은 데이터프레임\n",
    "\n",
    "def concat_yearly_df(df_yearly_dict):\n",
    "    df_concat = pd.DataFrame()\n",
    "\n",
    "    for year in list(df_yearly_dict.keys())[1:]:\n",
    "        df_concat = pd.concat([df_concat, df_yearly_dict[year]])\n",
    "\n",
    "    return df_concat"
   ]
  },
  {
   "cell_type": "markdown",
   "id": "accd13c0",
   "metadata": {},
   "source": [
    "### 연도별 수질 데이터 통합"
   ]
  },
  {
   "cell_type": "code",
   "execution_count": 10,
   "id": "4168d2e2",
   "metadata": {},
   "outputs": [],
   "source": [
    "# 2013년도부터 통합\n",
    "scb_yearly_df13 = concat_yearly_df(scb_yearly)\n",
    "\n",
    "# 인덱스 재설정\n",
    "scb_yearly_df13 = scb_yearly_df13.reset_index(drop=True)"
   ]
  },
  {
   "cell_type": "markdown",
   "id": "16759e9d",
   "metadata": {},
   "source": [
    "## 승촌보 유량 데이터 추가\n",
    "\n",
    "`시간` 특성은 date time으로 파싱해서 불러온다."
   ]
  },
  {
   "cell_type": "code",
   "execution_count": 11,
   "id": "50435dce",
   "metadata": {},
   "outputs": [],
   "source": [
    "flow_data_file = reservoir+\"_flow.xlsx\"\n",
    "scb_flow_yearly = pd.read_excel(base_path+flow_data_file, \n",
    "                            header=0, \n",
    "                            sheet_name=None,\n",
    "                            na_values='ND',\n",
    "                            parse_dates=[0])  # 시간 특성을 date time으로 파싱"
   ]
  },
  {
   "cell_type": "markdown",
   "id": "65238a13",
   "metadata": {},
   "source": [
    "시간 특성을 '년-월-일 시'형식으로 변경한다."
   ]
  },
  {
   "cell_type": "code",
   "execution_count": 12,
   "id": "42f355de",
   "metadata": {},
   "outputs": [],
   "source": [
    "scb_flow_yearly = time2datetime(scb_flow_yearly, '시간')"
   ]
  },
  {
   "cell_type": "markdown",
   "id": "6963d466",
   "metadata": {},
   "source": [
    "**10분 단위를 1시간 단위로 변경**  \n",
    "\n",
    "시간별 평균값을 활용한다."
   ]
  },
  {
   "cell_type": "code",
   "execution_count": 13,
   "id": "4871d440",
   "metadata": {},
   "outputs": [],
   "source": [
    "scb_flow_yearly_hour = {}\n",
    "\n",
    "# groupby의 as_index=False 옵션 사용. 인덱스 자동 재설정됨.\n",
    "for year in list(scb_flow_yearly.keys()):\n",
    "    scb_flow_yearly_hour[year] = scb_flow_yearly[year].groupby('시간', as_index=False).mean()"
   ]
  },
  {
   "cell_type": "markdown",
   "id": "cc2e380b",
   "metadata": {},
   "source": [
    "### 연도별 유량 데이터 통합"
   ]
  },
  {
   "cell_type": "code",
   "execution_count": 14,
   "id": "993a1ded",
   "metadata": {},
   "outputs": [],
   "source": [
    "# 2013년부터 통합\n",
    "scb_flow_yearly_hour_df = concat_yearly_df(scb_flow_yearly_hour)\n",
    "\n",
    "# 인덱스 재설정\n",
    "scb_flow_yearly_hour_df = scb_flow_yearly_hour_df.reset_index(drop=True)"
   ]
  },
  {
   "cell_type": "markdown",
   "id": "0e9a3f69",
   "metadata": {},
   "source": [
    "## 수질/유량 데이터 합병  \n",
    "\n",
    "수질 데이터와 유량 데이터를 `측정일/월`과 `시간` 기준으로 합병한다."
   ]
  },
  {
   "cell_type": "code",
   "execution_count": 15,
   "id": "70f86e48",
   "metadata": {},
   "outputs": [],
   "source": [
    "# 수질 데이터의 `측정일/월` 특성 이름을 `시간`으로 변경\n",
    "scb_yearly_df13 = scb_yearly_df13.rename(columns={'측정일/월':'시간'})\n",
    "\n",
    "# `pd.merge()`에서 `how = 'outer'` 키워드 인자 : 두 데이터에 사용된 모든 시간대의 데이터를 모두 추가한다(합집합).\n",
    "scb_data = pd.merge(scb_yearly_df13, scb_flow_yearly_hour_df, how='outer')\n",
    "\n",
    "# 유량 데이터 2022년도 데이터를 더 많이 포함하기에 삭제 필요.\n",
    "scb_data = scb_data[:len(scb_yearly_df13)]\n",
    "\n",
    "# 유량 특성 이름에 공백이 사용되었기에 특성명에 공백 제거\n",
    "scb_data.columns = [x.strip() for x in list(scb_data.columns)]"
   ]
  },
  {
   "cell_type": "markdown",
   "id": "dd2b43fb",
   "metadata": {},
   "source": [
    "## 데이터셋 전처리"
   ]
  },
  {
   "cell_type": "markdown",
   "id": "dfafd558",
   "metadata": {},
   "source": [
    "### 특성 선택\n",
    "\n",
    "훈련에 사용하지 않을 특성 삭제"
   ]
  },
  {
   "cell_type": "code",
   "execution_count": 16,
   "id": "14c528df",
   "metadata": {},
   "outputs": [],
   "source": [
    "# scb_data.drop(['측정소명', '수소이온농도', '용존산소 mg/L'], axis=1, inplace=True)\n",
    "scb_data.drop(['측정소명', '수소이온농도', '용존산소 mg/L', '하류수위(EL.m)', '유입량(㎥/s)'], axis=1, inplace=True)"
   ]
  },
  {
   "cell_type": "code",
   "execution_count": 17,
   "id": "6ff5a758",
   "metadata": {
    "scrolled": true
   },
   "outputs": [
    {
     "data": {
      "text/plain": [
       "Index(['시간', '수온 ℃', '전기전도도 μS/cm', '총유기탄소 mg/L', '총질소 mg/L', '총인 mg/L',\n",
       "       '클로로필-a mg/㎥', '상류수위(EL.m)', '방류량(㎥/s)'],\n",
       "      dtype='object')"
      ]
     },
     "execution_count": 17,
     "metadata": {},
     "output_type": "execute_result"
    }
   ],
   "source": [
    "scb_data.columns"
   ]
  },
  {
   "cell_type": "markdown",
   "id": "8feb8403",
   "metadata": {},
   "source": [
    "### 클로로필 정규화"
   ]
  },
  {
   "cell_type": "markdown",
   "id": "b184e5b1",
   "metadata": {},
   "source": [
    "회귀 모델을 적용하기 전에 클로로필 값이 정규 분포인지 확인. 왼쪽으로 치우친 형태임."
   ]
  },
  {
   "cell_type": "code",
   "execution_count": 18,
   "id": "5bb3fc63",
   "metadata": {},
   "outputs": [
    {
     "data": {
      "image/png": "[encoded data removed]",
      "text/plain": [
       "<Figure size 720x432 with 1 Axes>"
      ]
     },
     "metadata": {
      "needs_background": "light"
     },
     "output_type": "display_data"
    }
   ],
   "source": [
    "sns.histplot(scb_data['클로로필-a mg/㎥'])\n",
    "plt.show()"
   ]
  },
  {
   "cell_type": "markdown",
   "id": "551aaa7e",
   "metadata": {},
   "source": [
    "`np.log1p()`를 사용해 로그변환하면 클로로필 값이 정규 분포에 가까워짐 "
   ]
  },
  {
   "cell_type": "code",
   "execution_count": 19,
   "id": "307d730b",
   "metadata": {},
   "outputs": [
    {
     "data": {
      "image/png": "[encoded data removed]",
      "text/plain": [
       "<Figure size 720x432 with 1 Axes>"
      ]
     },
     "metadata": {
      "needs_background": "light"
     },
     "output_type": "display_data"
    }
   ],
   "source": [
    "sns.histplot(np.log1p(scb_data['클로로필-a mg/㎥']))\n",
    "plt.show()"
   ]
  },
  {
   "cell_type": "markdown",
   "id": "57b3f945",
   "metadata": {},
   "source": [
    "클로로필 값을 로그 변환 뒤 `scb_data`에 추가"
   ]
  },
  {
   "cell_type": "code",
   "execution_count": 20,
   "id": "51151a0f",
   "metadata": {},
   "outputs": [],
   "source": [
    "scb_data['log_Chl-a'] = np.log1p(scb_data['클로로필-a mg/㎥'])"
   ]
  },
  {
   "cell_type": "code",
   "execution_count": 21,
   "id": "19cd8f50",
   "metadata": {
    "scrolled": true
   },
   "outputs": [
    {
     "data": {
      "text/html": [
       "<div>\n",
       "<style scoped>\n",
       "    .dataframe tbody tr th:only-of-type {\n",
       "        vertical-align: middle;\n",
       "    }\n",
       "\n",
       "    .dataframe tbody tr th {\n",
       "        vertical-align: top;\n",
       "    }\n",
       "\n",
       "    .dataframe thead th {\n",
       "        text-align: right;\n",
       "    }\n",
       "</style>\n",
       "<table border=\"1\" class=\"dataframe\">\n",
       "  <thead>\n",
       "    <tr style=\"text-align: right;\">\n",
       "      <th></th>\n",
       "      <th>시간</th>\n",
       "      <th>수온 ℃</th>\n",
       "      <th>전기전도도 μS/cm</th>\n",
       "      <th>총유기탄소 mg/L</th>\n",
       "      <th>총질소 mg/L</th>\n",
       "      <th>총인 mg/L</th>\n",
       "      <th>클로로필-a mg/㎥</th>\n",
       "      <th>상류수위(EL.m)</th>\n",
       "      <th>방류량(㎥/s)</th>\n",
       "      <th>log_Chl-a</th>\n",
       "    </tr>\n",
       "  </thead>\n",
       "  <tbody>\n",
       "    <tr>\n",
       "      <th>0</th>\n",
       "      <td>2013-01-01 00</td>\n",
       "      <td>3.9</td>\n",
       "      <td>374.0</td>\n",
       "      <td>2.5</td>\n",
       "      <td>NaN</td>\n",
       "      <td>NaN</td>\n",
       "      <td>7.2</td>\n",
       "      <td>7.5</td>\n",
       "      <td>19.748333</td>\n",
       "      <td>2.104134</td>\n",
       "    </tr>\n",
       "    <tr>\n",
       "      <th>1</th>\n",
       "      <td>2013-01-01 01</td>\n",
       "      <td>3.9</td>\n",
       "      <td>375.0</td>\n",
       "      <td>2.5</td>\n",
       "      <td>NaN</td>\n",
       "      <td>NaN</td>\n",
       "      <td>6.9</td>\n",
       "      <td>7.5</td>\n",
       "      <td>19.706667</td>\n",
       "      <td>2.066863</td>\n",
       "    </tr>\n",
       "    <tr>\n",
       "      <th>2</th>\n",
       "      <td>2013-01-01 02</td>\n",
       "      <td>4.0</td>\n",
       "      <td>374.0</td>\n",
       "      <td>2.5</td>\n",
       "      <td>NaN</td>\n",
       "      <td>NaN</td>\n",
       "      <td>6.8</td>\n",
       "      <td>7.5</td>\n",
       "      <td>19.723333</td>\n",
       "      <td>2.054124</td>\n",
       "    </tr>\n",
       "  </tbody>\n",
       "</table>\n",
       "</div>"
      ],
      "text/plain": [
       "              시간  수온 ℃  전기전도도 μS/cm  총유기탄소 mg/L  총질소 mg/L  총인 mg/L  \\\n",
       "0  2013-01-01 00   3.9        374.0         2.5       NaN      NaN   \n",
       "1  2013-01-01 01   3.9        375.0         2.5       NaN      NaN   \n",
       "2  2013-01-01 02   4.0        374.0         2.5       NaN      NaN   \n",
       "\n",
       "   클로로필-a mg/㎥  상류수위(EL.m)   방류량(㎥/s)  log_Chl-a  \n",
       "0          7.2         7.5  19.748333   2.104134  \n",
       "1          6.9         7.5  19.706667   2.066863  \n",
       "2          6.8         7.5  19.723333   2.054124  "
      ]
     },
     "execution_count": 21,
     "metadata": {},
     "output_type": "execute_result"
    }
   ],
   "source": [
    "scb_data.head(3)"
   ]
  },
  {
   "attachments": {},
   "cell_type": "markdown",
   "id": "32b87a27",
   "metadata": {},
   "source": [
    "## 방류량 평균값 활용"
   ]
  },
  {
   "attachments": {},
   "cell_type": "markdown",
   "id": "8e9b8f8b",
   "metadata": {},
   "source": [
    "**주의사항**\n",
    "\n",
    "1일부터 14일 동안 방류량의 평균값의 중요도를 측정하고자 한다.\n",
    "이를 위해 데이터를 모두 1일 평균값의 데이터로 전환한다."
   ]
  },
  {
   "cell_type": "markdown",
   "id": "d18c087a",
   "metadata": {},
   "source": [
    "먼저 데이터셋을 복제해서 원본은 유지한다."
   ]
  },
  {
   "cell_type": "code",
   "execution_count": 22,
   "id": "943b5740",
   "metadata": {},
   "outputs": [],
   "source": [
    "scb_df = scb_data.copy()"
   ]
  },
  {
   "cell_type": "code",
   "execution_count": 23,
   "id": "1e2b3aad",
   "metadata": {},
   "outputs": [
    {
     "data": {
      "text/plain": [
       "Index(['시간', '수온 ℃', '전기전도도 μS/cm', '총유기탄소 mg/L', '총질소 mg/L', '총인 mg/L',\n",
       "       '클로로필-a mg/㎥', '상류수위(EL.m)', '방류량(㎥/s)', 'log_Chl-a'],\n",
       "      dtype='object')"
      ]
     },
     "execution_count": 23,
     "metadata": {},
     "output_type": "execute_result"
    }
   ],
   "source": [
    "scb_df.columns"
   ]
  },
  {
   "cell_type": "markdown",
   "id": "c25641e2",
   "metadata": {},
   "source": [
    "### 1시간 단위로 정리된 데이터를 1일 단위로 변경  \n",
    "\n",
    "모든 특성의 일별 평균값을 이용한다."
   ]
  },
  {
   "cell_type": "code",
   "execution_count": 24,
   "id": "bb16f007",
   "metadata": {},
   "outputs": [
    {
     "data": {
      "text/html": [
       "<div>\n",
       "<style scoped>\n",
       "    .dataframe tbody tr th:only-of-type {\n",
       "        vertical-align: middle;\n",
       "    }\n",
       "\n",
       "    .dataframe tbody tr th {\n",
       "        vertical-align: top;\n",
       "    }\n",
       "\n",
       "    .dataframe thead th {\n",
       "        text-align: right;\n",
       "    }\n",
       "</style>\n",
       "<table border=\"1\" class=\"dataframe\">\n",
       "  <thead>\n",
       "    <tr style=\"text-align: right;\">\n",
       "      <th></th>\n",
       "      <th>시간</th>\n",
       "      <th>수온 ℃</th>\n",
       "      <th>전기전도도 μS/cm</th>\n",
       "      <th>총유기탄소 mg/L</th>\n",
       "      <th>총질소 mg/L</th>\n",
       "      <th>총인 mg/L</th>\n",
       "      <th>클로로필-a mg/㎥</th>\n",
       "      <th>상류수위(EL.m)</th>\n",
       "      <th>방류량(㎥/s)</th>\n",
       "      <th>log_Chl-a</th>\n",
       "    </tr>\n",
       "  </thead>\n",
       "  <tbody>\n",
       "    <tr>\n",
       "      <th>0</th>\n",
       "      <td>2013-01-01</td>\n",
       "      <td>4.113043</td>\n",
       "      <td>406.391304</td>\n",
       "      <td>2.791667</td>\n",
       "      <td>NaN</td>\n",
       "      <td>NaN</td>\n",
       "      <td>7.025000</td>\n",
       "      <td>7.490903</td>\n",
       "      <td>18.733472</td>\n",
       "      <td>2.082450</td>\n",
       "    </tr>\n",
       "    <tr>\n",
       "      <th>1</th>\n",
       "      <td>2013-01-02</td>\n",
       "      <td>4.282609</td>\n",
       "      <td>431.260870</td>\n",
       "      <td>2.839130</td>\n",
       "      <td>NaN</td>\n",
       "      <td>NaN</td>\n",
       "      <td>7.056522</td>\n",
       "      <td>7.501458</td>\n",
       "      <td>18.929167</td>\n",
       "      <td>2.086322</td>\n",
       "    </tr>\n",
       "    <tr>\n",
       "      <th>2</th>\n",
       "      <td>2013-01-03</td>\n",
       "      <td>3.830435</td>\n",
       "      <td>416.565217</td>\n",
       "      <td>3.058333</td>\n",
       "      <td>NaN</td>\n",
       "      <td>NaN</td>\n",
       "      <td>7.195833</td>\n",
       "      <td>7.499236</td>\n",
       "      <td>16.621250</td>\n",
       "      <td>2.103194</td>\n",
       "    </tr>\n",
       "    <tr>\n",
       "      <th>3</th>\n",
       "      <td>2013-01-04</td>\n",
       "      <td>3.313043</td>\n",
       "      <td>402.000000</td>\n",
       "      <td>2.730435</td>\n",
       "      <td>NaN</td>\n",
       "      <td>NaN</td>\n",
       "      <td>7.126087</td>\n",
       "      <td>7.489722</td>\n",
       "      <td>15.805556</td>\n",
       "      <td>2.094838</td>\n",
       "    </tr>\n",
       "    <tr>\n",
       "      <th>4</th>\n",
       "      <td>2013-01-05</td>\n",
       "      <td>3.165217</td>\n",
       "      <td>409.304348</td>\n",
       "      <td>2.800000</td>\n",
       "      <td>NaN</td>\n",
       "      <td>NaN</td>\n",
       "      <td>7.220833</td>\n",
       "      <td>7.494722</td>\n",
       "      <td>13.062361</td>\n",
       "      <td>2.106349</td>\n",
       "    </tr>\n",
       "  </tbody>\n",
       "</table>\n",
       "</div>"
      ],
      "text/plain": [
       "           시간      수온 ℃  전기전도도 μS/cm  총유기탄소 mg/L  총질소 mg/L  총인 mg/L  \\\n",
       "0  2013-01-01  4.113043   406.391304    2.791667       NaN      NaN   \n",
       "1  2013-01-02  4.282609   431.260870    2.839130       NaN      NaN   \n",
       "2  2013-01-03  3.830435   416.565217    3.058333       NaN      NaN   \n",
       "3  2013-01-04  3.313043   402.000000    2.730435       NaN      NaN   \n",
       "4  2013-01-05  3.165217   409.304348    2.800000       NaN      NaN   \n",
       "\n",
       "   클로로필-a mg/㎥  상류수위(EL.m)   방류량(㎥/s)  log_Chl-a  \n",
       "0     7.025000    7.490903  18.733472   2.082450  \n",
       "1     7.056522    7.501458  18.929167   2.086322  \n",
       "2     7.195833    7.499236  16.621250   2.103194  \n",
       "3     7.126087    7.489722  15.805556   2.094838  \n",
       "4     7.220833    7.494722  13.062361   2.106349  "
      ]
     },
     "execution_count": 24,
     "metadata": {},
     "output_type": "execute_result"
    }
   ],
   "source": [
    "scb_df['시간'] = scb_df['시간'].apply(lambda x : datetime.strptime(x, '%Y-%m-%d %H').strftime('%Y-%m-%d'))\n",
    "\n",
    "# groupby의 as_index=False 옵션 사용. 인덱스 자동 재설정됨.\n",
    "scb_df_daily = scb_df.groupby('시간', as_index=False).mean()\n",
    "\n",
    "scb_df_daily.head()"
   ]
  },
  {
   "cell_type": "code",
   "execution_count": 25,
   "id": "a248660c",
   "metadata": {},
   "outputs": [
    {
     "name": "stdout",
     "output_type": "stream",
     "text": [
      "<class 'pandas.core.frame.DataFrame'>\n",
      "RangeIndex: 3430 entries, 0 to 3429\n",
      "Data columns (total 10 columns):\n",
      " #   Column       Non-Null Count  Dtype  \n",
      "---  ------       --------------  -----  \n",
      " 0   시간           3430 non-null   object \n",
      " 1   수온 ℃         2849 non-null   float64\n",
      " 2   전기전도도 μS/cm  2849 non-null   float64\n",
      " 3   총유기탄소 mg/L   2682 non-null   float64\n",
      " 4   총질소 mg/L     2698 non-null   float64\n",
      " 5   총인 mg/L      2691 non-null   float64\n",
      " 6   클로로필-a mg/㎥  2772 non-null   float64\n",
      " 7   상류수위(EL.m)   3430 non-null   float64\n",
      " 8   방류량(㎥/s)     3430 non-null   float64\n",
      " 9   log_Chl-a    2772 non-null   float64\n",
      "dtypes: float64(9), object(1)\n",
      "memory usage: 268.1+ KB\n"
     ]
    }
   ],
   "source": [
    "scb_df_daily.info()"
   ]
  },
  {
   "cell_type": "markdown",
   "id": "b03ca40d",
   "metadata": {},
   "source": [
    "### 훈련 특성과 타깃  \n",
    "\n",
    "- 훈련 특성: 측정소명과 클로로필을 제외한 특성 + 최대 14일 동안의 방류량/수온 평균값\n",
    "- 타깃 특성: `log_Chl-a`"
   ]
  },
  {
   "cell_type": "code",
   "execution_count": 26,
   "id": "a4204e50",
   "metadata": {},
   "outputs": [
    {
     "data": {
      "text/plain": [
       "Index(['시간', '수온 ℃', '전기전도도 μS/cm', '총유기탄소 mg/L', '총질소 mg/L', '총인 mg/L',\n",
       "       '클로로필-a mg/㎥', '상류수위(EL.m)', '방류량(㎥/s)', 'log_Chl-a'],\n",
       "      dtype='object')"
      ]
     },
     "execution_count": 26,
     "metadata": {},
     "output_type": "execute_result"
    }
   ],
   "source": [
    "scb_df_daily.columns"
   ]
  },
  {
   "cell_type": "code",
   "execution_count": 27,
   "id": "a5243799",
   "metadata": {},
   "outputs": [],
   "source": [
    "features_to_remove = ['시간', '클로로필-a mg/㎥', 'log_Chl-a']\n",
    "basic_features = ['수온 ℃', '전기전도도 μS/cm', '총유기탄소 mg/L', '총질소 mg/L', '총인 mg/L', '상류수위(EL.m)', '방류량(㎥/s)']\n"
   ]
  },
  {
   "cell_type": "markdown",
   "id": "82c3ce6a",
   "metadata": {},
   "source": [
    "아래 함수는 지정된 특성에 대해 윈도우 크기만큼의 기간동안의 평균값을 특성으로 추가한다."
   ]
  },
  {
   "cell_type": "code",
   "execution_count": 28,
   "id": "451112f2",
   "metadata": {},
   "outputs": [],
   "source": [
    "from pandas import DataFrame\n",
    "import re\n",
    "\n",
    "def feature_windowing(df : DataFrame, feature : str, window: int) -> None:\n",
    "    feature_ = re.split(' |\\(', feature)[0] # 공백 또는 여는 괄호 기준 쪼개기 후 특성 이름만 사용. 단위 등은 삭제됨. \n",
    "\n",
    "    new_features = dict()\n",
    "    new_features[str(window) + 'window' + feature_] = df[feature].rolling(window=window, min_periods=1).mean() # 1개 이상의 값이 있는 경우 평균값 계산\n",
    "    \n",
    "    new_features = pd.DataFrame(new_features)\n",
    "\n",
    "    return pd.concat([df, new_features], axis=1)"
   ]
  },
  {
   "cell_type": "markdown",
   "id": "ef7a7a62",
   "metadata": {},
   "source": [
    "## 모델 훈련"
   ]
  },
  {
   "cell_type": "markdown",
   "id": "1df2b1db",
   "metadata": {},
   "source": [
    "### GradientBoosting"
   ]
  },
  {
   "cell_type": "code",
   "execution_count": 29,
   "id": "c4c73664",
   "metadata": {},
   "outputs": [],
   "source": [
    "gb_reg = GradientBoostingRegressor(random_state=42)"
   ]
  },
  {
   "cell_type": "markdown",
   "id": "d26c96a0",
   "metadata": {},
   "source": [
    "이전 훈련 결과에 의해 하이퍼파라미터의 아래 조합이 가장 좋은 성능을 보였음.\n",
    "따라서 여기서는 훈련 시간을 절약하기 위해 하나의 조합만 사용함."
   ]
  },
  {
   "cell_type": "code",
   "execution_count": 30,
   "id": "43abf05d",
   "metadata": {},
   "outputs": [],
   "source": [
    "parameters = {'n_estimators':[1200], 'max_depth':[25], 'min_samples_leaf':[10]}"
   ]
  },
  {
   "cell_type": "markdown",
   "id": "f388e92e",
   "metadata": {},
   "source": [
    "그리드 탐색 실행 함수\n",
    "\n",
    "- 모델, 하이퍼파라미터 조합, 특성, 윈도우 크기가 정해지면 해당 특성의 지정된 크기만큼의 \n",
    "    윈도우 기간 동안의 평균값을 새로운 특성으로 추가함.\n",
    "- 윈도우의 단위는 일(day)"
   ]
  },
  {
   "cell_type": "code",
   "execution_count": 31,
   "id": "0b7ce9b6",
   "metadata": {},
   "outputs": [],
   "source": [
    "def gridsearch(model, parameters, feature, windows, cv=3):\n",
    "\n",
    "      # best models\n",
    "    best_model_dict = dict()\n",
    "    # test scores of the best models\n",
    "    test_score_dict = dict()\n",
    "    # train features of the best models\n",
    "    input_features_dict = dict()\n",
    "\n",
    "    for window in windows:\n",
    "        # window 특성 추가\n",
    "        scb_df_daily_window = feature_windowing(scb_df_daily, feature, window)\n",
    "        # 결측치 제거\n",
    "        scb_df_daily_window.dropna(inplace=True)\n",
    "\n",
    "        # 입력 및 타깃 특성 지정\n",
    "        features_to_remove_ = features_to_remove + [feature]\n",
    "\n",
    "        features_ = list(scb_df_daily_window.columns)\n",
    "        print(features_)\n",
    "        for ft in features_to_remove_:\n",
    "          features_.remove(ft)\n",
    "        \n",
    "        print(features_)\n",
    "        input_features = features_\n",
    "        target_feature = 'log_Chl-a'\n",
    "\n",
    "        # 입력 및 타깃 데이터셋 지정\n",
    "        inputs = scb_df_daily_window.loc[:, input_features]\n",
    "        targets = scb_df_daily_window[target_feature]\n",
    "\n",
    "        # 훈련셋과 테스트셋 분리\n",
    "        X_train, X_test, y_train, y_test = train_test_split(inputs, targets, random_state=42)\n",
    "\n",
    "        added_feature = input_features[-1]\n",
    "        print(f\"==={added_feature} 모델 훈련===\")\n",
    "        # 그리드 탐색 훈련 시작\n",
    "        model_grid = GridSearchCV(model, param_grid=parameters, cv=cv, verbose=5)\n",
    "        model_grid.fit(X_train, y_train)\n",
    "\n",
    "        estimator = model_grid.best_estimator_\n",
    "\n",
    "        best_model_dict[added_feature] = estimator\n",
    "        test_score_dict[added_feature] = estimator.score(X_test, y_test)\n",
    "        input_features_dict[added_feature] = input_features\n",
    "\n",
    "    return best_model_dict, test_score_dict, input_features_dict\n"
   ]
  },
  {
   "cell_type": "markdown",
   "id": "cf9dfb6d",
   "metadata": {},
   "source": [
    "방류량을 기준으로 1일부터 14일까지의 윈도우를 개별적으로 적용하여 훈련한다."
   ]
  },
  {
   "cell_type": "code",
   "execution_count": 32,
   "id": "429118b6",
   "metadata": {},
   "outputs": [
    {
     "name": "stdout",
     "output_type": "stream",
     "text": [
      "['시간', '수온 ℃', '전기전도도 μS/cm', '총유기탄소 mg/L', '총질소 mg/L', '총인 mg/L', '클로로필-a mg/㎥', '상류수위(EL.m)', '방류량(㎥/s)', 'log_Chl-a', '1window방류량']\n",
      "['수온 ℃', '전기전도도 μS/cm', '총유기탄소 mg/L', '총질소 mg/L', '총인 mg/L', '상류수위(EL.m)', '1window방류량']\n",
      "===1window방류량 모델 훈련===\n",
      "Fitting 3 folds for each of 1 candidates, totalling 3 fits\n",
      "[CV 1/3] END max_depth=25, min_samples_leaf=10, n_estimators=1200;, score=0.716 total time=   8.7s\n",
      "[CV 2/3] END max_depth=25, min_samples_leaf=10, n_estimators=1200;, score=0.728 total time=   9.1s\n",
      "[CV 3/3] END max_depth=25, min_samples_leaf=10, n_estimators=1200;, score=0.764 total time=   9.0s\n",
      "['시간', '수온 ℃', '전기전도도 μS/cm', '총유기탄소 mg/L', '총질소 mg/L', '총인 mg/L', '클로로필-a mg/㎥', '상류수위(EL.m)', '방류량(㎥/s)', 'log_Chl-a', '2window방류량']\n",
      "['수온 ℃', '전기전도도 μS/cm', '총유기탄소 mg/L', '총질소 mg/L', '총인 mg/L', '상류수위(EL.m)', '2window방류량']\n",
      "===2window방류량 모델 훈련===\n",
      "Fitting 3 folds for each of 1 candidates, totalling 3 fits\n",
      "[CV 1/3] END max_depth=25, min_samples_leaf=10, n_estimators=1200;, score=0.740 total time=   9.2s\n",
      "[CV 2/3] END max_depth=25, min_samples_leaf=10, n_estimators=1200;, score=0.732 total time=   9.5s\n",
      "[CV 3/3] END max_depth=25, min_samples_leaf=10, n_estimators=1200;, score=0.751 total time=   9.1s\n",
      "['시간', '수온 ℃', '전기전도도 μS/cm', '총유기탄소 mg/L', '총질소 mg/L', '총인 mg/L', '클로로필-a mg/㎥', '상류수위(EL.m)', '방류량(㎥/s)', 'log_Chl-a', '3window방류량']\n",
      "['수온 ℃', '전기전도도 μS/cm', '총유기탄소 mg/L', '총질소 mg/L', '총인 mg/L', '상류수위(EL.m)', '3window방류량']\n",
      "===3window방류량 모델 훈련===\n",
      "Fitting 3 folds for each of 1 candidates, totalling 3 fits\n",
      "[CV 1/3] END max_depth=25, min_samples_leaf=10, n_estimators=1200;, score=0.732 total time=   9.3s\n",
      "[CV 2/3] END max_depth=25, min_samples_leaf=10, n_estimators=1200;, score=0.760 total time=   9.6s\n",
      "[CV 3/3] END max_depth=25, min_samples_leaf=10, n_estimators=1200;, score=0.757 total time=   9.1s\n",
      "['시간', '수온 ℃', '전기전도도 μS/cm', '총유기탄소 mg/L', '총질소 mg/L', '총인 mg/L', '클로로필-a mg/㎥', '상류수위(EL.m)', '방류량(㎥/s)', 'log_Chl-a', '4window방류량']\n",
      "['수온 ℃', '전기전도도 μS/cm', '총유기탄소 mg/L', '총질소 mg/L', '총인 mg/L', '상류수위(EL.m)', '4window방류량']\n",
      "===4window방류량 모델 훈련===\n",
      "Fitting 3 folds for each of 1 candidates, totalling 3 fits\n",
      "[CV 1/3] END max_depth=25, min_samples_leaf=10, n_estimators=1200;, score=0.754 total time=   9.0s\n",
      "[CV 2/3] END max_depth=25, min_samples_leaf=10, n_estimators=1200;, score=0.763 total time=   9.3s\n",
      "[CV 3/3] END max_depth=25, min_samples_leaf=10, n_estimators=1200;, score=0.773 total time=   9.1s\n",
      "['시간', '수온 ℃', '전기전도도 μS/cm', '총유기탄소 mg/L', '총질소 mg/L', '총인 mg/L', '클로로필-a mg/㎥', '상류수위(EL.m)', '방류량(㎥/s)', 'log_Chl-a', '5window방류량']\n",
      "['수온 ℃', '전기전도도 μS/cm', '총유기탄소 mg/L', '총질소 mg/L', '총인 mg/L', '상류수위(EL.m)', '5window방류량']\n",
      "===5window방류량 모델 훈련===\n",
      "Fitting 3 folds for each of 1 candidates, totalling 3 fits\n",
      "[CV 1/3] END max_depth=25, min_samples_leaf=10, n_estimators=1200;, score=0.741 total time=   9.3s\n",
      "[CV 2/3] END max_depth=25, min_samples_leaf=10, n_estimators=1200;, score=0.782 total time=   8.8s\n",
      "[CV 3/3] END max_depth=25, min_samples_leaf=10, n_estimators=1200;, score=0.765 total time=   9.1s\n",
      "['시간', '수온 ℃', '전기전도도 μS/cm', '총유기탄소 mg/L', '총질소 mg/L', '총인 mg/L', '클로로필-a mg/㎥', '상류수위(EL.m)', '방류량(㎥/s)', 'log_Chl-a', '6window방류량']\n",
      "['수온 ℃', '전기전도도 μS/cm', '총유기탄소 mg/L', '총질소 mg/L', '총인 mg/L', '상류수위(EL.m)', '6window방류량']\n",
      "===6window방류량 모델 훈련===\n",
      "Fitting 3 folds for each of 1 candidates, totalling 3 fits\n",
      "[CV 1/3] END max_depth=25, min_samples_leaf=10, n_estimators=1200;, score=0.747 total time=   9.2s\n",
      "[CV 2/3] END max_depth=25, min_samples_leaf=10, n_estimators=1200;, score=0.785 total time=   9.0s\n",
      "[CV 3/3] END max_depth=25, min_samples_leaf=10, n_estimators=1200;, score=0.773 total time=   9.0s\n",
      "['시간', '수온 ℃', '전기전도도 μS/cm', '총유기탄소 mg/L', '총질소 mg/L', '총인 mg/L', '클로로필-a mg/㎥', '상류수위(EL.m)', '방류량(㎥/s)', 'log_Chl-a', '7window방류량']\n",
      "['수온 ℃', '전기전도도 μS/cm', '총유기탄소 mg/L', '총질소 mg/L', '총인 mg/L', '상류수위(EL.m)', '7window방류량']\n",
      "===7window방류량 모델 훈련===\n",
      "Fitting 3 folds for each of 1 candidates, totalling 3 fits\n",
      "[CV 1/3] END max_depth=25, min_samples_leaf=10, n_estimators=1200;, score=0.776 total time=   9.7s\n",
      "[CV 2/3] END max_depth=25, min_samples_leaf=10, n_estimators=1200;, score=0.778 total time=   9.7s\n",
      "[CV 3/3] END max_depth=25, min_samples_leaf=10, n_estimators=1200;, score=0.794 total time=   9.7s\n",
      "['시간', '수온 ℃', '전기전도도 μS/cm', '총유기탄소 mg/L', '총질소 mg/L', '총인 mg/L', '클로로필-a mg/㎥', '상류수위(EL.m)', '방류량(㎥/s)', 'log_Chl-a', '8window방류량']\n",
      "['수온 ℃', '전기전도도 μS/cm', '총유기탄소 mg/L', '총질소 mg/L', '총인 mg/L', '상류수위(EL.m)', '8window방류량']\n",
      "===8window방류량 모델 훈련===\n",
      "Fitting 3 folds for each of 1 candidates, totalling 3 fits\n",
      "[CV 1/3] END max_depth=25, min_samples_leaf=10, n_estimators=1200;, score=0.797 total time=  10.0s\n",
      "[CV 2/3] END max_depth=25, min_samples_leaf=10, n_estimators=1200;, score=0.787 total time=   9.8s\n",
      "[CV 3/3] END max_depth=25, min_samples_leaf=10, n_estimators=1200;, score=0.799 total time=   9.6s\n",
      "['시간', '수온 ℃', '전기전도도 μS/cm', '총유기탄소 mg/L', '총질소 mg/L', '총인 mg/L', '클로로필-a mg/㎥', '상류수위(EL.m)', '방류량(㎥/s)', 'log_Chl-a', '9window방류량']\n",
      "['수온 ℃', '전기전도도 μS/cm', '총유기탄소 mg/L', '총질소 mg/L', '총인 mg/L', '상류수위(EL.m)', '9window방류량']\n",
      "===9window방류량 모델 훈련===\n",
      "Fitting 3 folds for each of 1 candidates, totalling 3 fits\n",
      "[CV 1/3] END max_depth=25, min_samples_leaf=10, n_estimators=1200;, score=0.787 total time=   9.9s\n",
      "[CV 2/3] END max_depth=25, min_samples_leaf=10, n_estimators=1200;, score=0.790 total time=  10.1s\n",
      "[CV 3/3] END max_depth=25, min_samples_leaf=10, n_estimators=1200;, score=0.800 total time=   9.4s\n",
      "['시간', '수온 ℃', '전기전도도 μS/cm', '총유기탄소 mg/L', '총질소 mg/L', '총인 mg/L', '클로로필-a mg/㎥', '상류수위(EL.m)', '방류량(㎥/s)', 'log_Chl-a', '10window방류량']\n",
      "['수온 ℃', '전기전도도 μS/cm', '총유기탄소 mg/L', '총질소 mg/L', '총인 mg/L', '상류수위(EL.m)', '10window방류량']\n",
      "===10window방류량 모델 훈련===\n",
      "Fitting 3 folds for each of 1 candidates, totalling 3 fits\n",
      "[CV 1/3] END max_depth=25, min_samples_leaf=10, n_estimators=1200;, score=0.794 total time=  10.0s\n",
      "[CV 2/3] END max_depth=25, min_samples_leaf=10, n_estimators=1200;, score=0.789 total time=  10.2s\n",
      "[CV 3/3] END max_depth=25, min_samples_leaf=10, n_estimators=1200;, score=0.795 total time=  10.3s\n",
      "['시간', '수온 ℃', '전기전도도 μS/cm', '총유기탄소 mg/L', '총질소 mg/L', '총인 mg/L', '클로로필-a mg/㎥', '상류수위(EL.m)', '방류량(㎥/s)', 'log_Chl-a', '11window방류량']\n",
      "['수온 ℃', '전기전도도 μS/cm', '총유기탄소 mg/L', '총질소 mg/L', '총인 mg/L', '상류수위(EL.m)', '11window방류량']\n",
      "===11window방류량 모델 훈련===\n",
      "Fitting 3 folds for each of 1 candidates, totalling 3 fits\n",
      "[CV 1/3] END max_depth=25, min_samples_leaf=10, n_estimators=1200;, score=0.787 total time=  10.2s\n",
      "[CV 2/3] END max_depth=25, min_samples_leaf=10, n_estimators=1200;, score=0.781 total time=   9.8s\n",
      "[CV 3/3] END max_depth=25, min_samples_leaf=10, n_estimators=1200;, score=0.786 total time=   9.8s\n",
      "['시간', '수온 ℃', '전기전도도 μS/cm', '총유기탄소 mg/L', '총질소 mg/L', '총인 mg/L', '클로로필-a mg/㎥', '상류수위(EL.m)', '방류량(㎥/s)', 'log_Chl-a', '12window방류량']\n",
      "['수온 ℃', '전기전도도 μS/cm', '총유기탄소 mg/L', '총질소 mg/L', '총인 mg/L', '상류수위(EL.m)', '12window방류량']\n",
      "===12window방류량 모델 훈련===\n",
      "Fitting 3 folds for each of 1 candidates, totalling 3 fits\n",
      "[CV 1/3] END max_depth=25, min_samples_leaf=10, n_estimators=1200;, score=0.790 total time=  10.6s\n",
      "[CV 2/3] END max_depth=25, min_samples_leaf=10, n_estimators=1200;, score=0.783 total time=   9.6s\n",
      "[CV 3/3] END max_depth=25, min_samples_leaf=10, n_estimators=1200;, score=0.790 total time=   9.9s\n",
      "['시간', '수온 ℃', '전기전도도 μS/cm', '총유기탄소 mg/L', '총질소 mg/L', '총인 mg/L', '클로로필-a mg/㎥', '상류수위(EL.m)', '방류량(㎥/s)', 'log_Chl-a', '13window방류량']\n",
      "['수온 ℃', '전기전도도 μS/cm', '총유기탄소 mg/L', '총질소 mg/L', '총인 mg/L', '상류수위(EL.m)', '13window방류량']\n",
      "===13window방류량 모델 훈련===\n",
      "Fitting 3 folds for each of 1 candidates, totalling 3 fits\n",
      "[CV 1/3] END max_depth=25, min_samples_leaf=10, n_estimators=1200;, score=0.791 total time=  10.0s\n",
      "[CV 2/3] END max_depth=25, min_samples_leaf=10, n_estimators=1200;, score=0.784 total time=   9.8s\n",
      "[CV 3/3] END max_depth=25, min_samples_leaf=10, n_estimators=1200;, score=0.794 total time=   9.7s\n",
      "['시간', '수온 ℃', '전기전도도 μS/cm', '총유기탄소 mg/L', '총질소 mg/L', '총인 mg/L', '클로로필-a mg/㎥', '상류수위(EL.m)', '방류량(㎥/s)', 'log_Chl-a', '14window방류량']\n",
      "['수온 ℃', '전기전도도 μS/cm', '총유기탄소 mg/L', '총질소 mg/L', '총인 mg/L', '상류수위(EL.m)', '14window방류량']\n",
      "===14window방류량 모델 훈련===\n",
      "Fitting 3 folds for each of 1 candidates, totalling 3 fits\n",
      "[CV 1/3] END max_depth=25, min_samples_leaf=10, n_estimators=1200;, score=0.789 total time=  10.4s\n",
      "[CV 2/3] END max_depth=25, min_samples_leaf=10, n_estimators=1200;, score=0.783 total time=   9.9s\n",
      "[CV 3/3] END max_depth=25, min_samples_leaf=10, n_estimators=1200;, score=0.801 total time=   9.8s\n"
     ]
    }
   ],
   "source": [
    "window_feature = '방류량(㎥/s)'\n",
    "windows = range(1, 15)\n",
    "best_model_dict, test_score_dict, input_features_dict = gridsearch(gb_reg, parameters, window_feature, windows, cv=3)"
   ]
  },
  {
   "cell_type": "markdown",
   "id": "072f0cb7",
   "metadata": {},
   "source": [
    "아래 함수는 훈련 후 각 특성의 중요도를 그래프로 그린다."
   ]
  },
  {
   "cell_type": "code",
   "execution_count": 33,
   "id": "6ff85135",
   "metadata": {},
   "outputs": [],
   "source": [
    "def feature_importance_barplot(best_model_dict, input_features_dict):\n",
    "    models_trained = best_model_dict.keys()\n",
    "    num_of_models = len(models_trained)\n",
    "\n",
    "    fig, axs = plt.subplots(num_of_models, sharex=True, figsize=(10, num_of_models*4))\n",
    "\n",
    "    for idx, model_ in enumerate(models_trained):\n",
    "        ax = axs[idx]\n",
    "        estimator_ = best_model_dict[model_]\n",
    "        input_features_ = input_features_dict[model_]\n",
    "\n",
    "\n",
    "        feature_series = pd.Series(data = estimator_.feature_importances_, index = input_features_)\n",
    "        feature_series = feature_series.sort_values(ascending = False)\n",
    "\n",
    "        colors = pd.Series('gray', index=feature_series.index)\n",
    "        colors[input_features_[-1]] = 'red'\n",
    "        \n",
    "        sns.barplot(ax=ax, x = feature_series[:10], y = feature_series.index[:10], palette=colors)\n",
    "        ax.set_title(model_)\n",
    "\n",
    "    plt.subplots_adjust(hspace=0.4, wspace=0)\n",
    "    plt.show()"
   ]
  },
  {
   "cell_type": "markdown",
   "id": "bf671969",
   "metadata": {},
   "source": [
    "윈도우 크기 1부터 14까지 훈련시킨 결과 각 특성의 중요도를 그래프로 그리면 다음과 같다.\n",
    "\n",
    "- 윈도우 크기 7까지 방류량 중요도가 가장 높음.\n",
    "- 윈도우 크기 4까지 방류량의 중요도가 계속 증가함."
   ]
  },
  {
   "cell_type": "code",
   "execution_count": 34,
   "id": "3f7b400c",
   "metadata": {},
   "outputs": [
    {
     "data": {
      "text/plain": [
       "<Figure size 1440x7200 with 0 Axes>"
      ]
     },
     "metadata": {},
     "output_type": "display_data"
    },
    {
     "data": {
      "image/png": "[encoded data removed]",
      "text/plain": [
       "<Figure size 720x4032 with 14 Axes>"
      ]
     },
     "metadata": {
      "needs_background": "light"
     },
     "output_type": "display_data"
    }
   ],
   "source": [
    "plt.figure(figsize=(20, 100))\n",
    "\n",
    "feature_importance_barplot(best_model_dict, input_features_dict)"
   ]
  },
  {
   "cell_type": "markdown",
   "id": "a56d3e7f",
   "metadata": {},
   "source": [
    "아래 그래프는 윈도우 크기에 따른 모델의 테스트 성능(score 기준)의 \n",
    "변화를 보여준다. 윈도우 크기 3에서 14까지 성능이 비슷하다."
   ]
  },
  {
   "cell_type": "code",
   "execution_count": 35,
   "id": "6ff85135",
   "metadata": {},
   "outputs": [
    {
     "data": {
      "image/png": "[encoded data removed]",
      "text/plain": [
       "<Figure size 720x432 with 1 Axes>"
      ]
     },
     "metadata": {
      "needs_background": "light"
     },
     "output_type": "display_data"
    }
   ],
   "source": [
    "score_df = pd.DataFrame(test_score_dict, index=['score']).T\n",
    "score_df.plot()\n",
    "plt.xticks(rotation=90)\n",
    "plt.show()"
   ]
  },
  {
   "cell_type": "code",
   "execution_count": null,
   "id": "4c39f5e1",
   "metadata": {},
   "outputs": [],
   "source": []
  }
 ],
 "metadata": {
  "kernelspec": {
   "display_name": "Python 3.9.12 ('base')",
   "language": "python",
   "name": "python3"
  },
  "language_info": {
   "codemirror_mode": {
    "name": "ipython",
    "version": 3
   },
   "file_extension": ".py",
   "mimetype": "text/x-python",
   "name": "python",
   "nbconvert_exporter": "python",
   "pygments_lexer": "ipython3",
   "version": "3.9.12 (main, Apr  4 2022, 05:22:27) [MSC v.1916 64 bit (AMD64)]"
  },
  "vscode": {
   "interpreter": {
    "hash": "ad0f3c8a064f687cbf898a0868fd45ba1c7e928ac8a0404f7c241d812ddc1e76"
   }
  }
 },
 "nbformat": 4,
 "nbformat_minor": 5
}
