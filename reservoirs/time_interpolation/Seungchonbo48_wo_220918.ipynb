{
 "cells": [
  {
   "cell_type": "markdown",
   "id": "ce925ce6",
   "metadata": {},
   "source": [
    "필요한 모듈 임포트"
   ]
  },
  {
   "cell_type": "code",
   "execution_count": 1,
   "id": "91e66a0b",
   "metadata": {},
   "outputs": [],
   "source": [
    "import numpy as np\n",
    "import pandas as pd\n",
    "import matplotlib.pyplot as plt\n",
    "import matplotlib"
   ]
  },
  {
   "cell_type": "code",
   "execution_count": 2,
   "id": "844b563e",
   "metadata": {},
   "outputs": [],
   "source": [
    "import platform\n",
    "plt.rc('figure', figsize=(10, 6))  # 그림 크기 설정\n",
    "if platform.system() == 'Windows': # 윈도우\n",
    "    from matplotlib import font_manager, rc\n",
    "    font_path = \"C:/Windows/Fonts/NGULIM.TTF\"\n",
    "    font = font_manager.FontProperties(fname=font_path).get_name()\n",
    "    rc('font', family=font)\n",
    "elif platform.system() == 'Linux': # 우분투 또는 구글 코랩\n",
    "    # !sudo apt-get install -y fonts-nanum*\n",
    "    # !fc-cache -fv\n",
    "    \n",
    "    applyfont = \"NanumBarunGothic\"\n",
    "    import matplotlib.font_manager as fm\n",
    "    if not any(map(lambda ft: ft.name == applyfont, fm.fontManager.ttflist)):\n",
    "        fm.fontManager.addfont(\"/usr/share/fonts/truetype/nanum/NanumBarunGothic.ttf\")\n",
    "    plt.rc(\"font\", family=applyfont)\n",
    "    plt.rc(\"axes\", unicode_minus=False)"
   ]
  },
  {
   "cell_type": "code",
   "execution_count": 3,
   "id": "ff6c28ef",
   "metadata": {},
   "outputs": [],
   "source": [
    "# GradientBoosting\n",
    "from sklearn.ensemble import GradientBoostingRegressor\n",
    "from sklearn.model_selection import train_test_split\n",
    "import seaborn as sns\n",
    "from sklearn.model_selection import GridSearchCV"
   ]
  },
  {
   "cell_type": "code",
   "execution_count": 4,
   "id": "7e6021d6",
   "metadata": {},
   "outputs": [],
   "source": [
    "from sklearn.preprocessing import StandardScaler"
   ]
  },
  {
   "cell_type": "markdown",
   "id": "50a6cce0",
   "metadata": {},
   "source": [
    "데이터 가져오기"
   ]
  },
  {
   "cell_type": "code",
   "execution_count": 5,
   "id": "67006279",
   "metadata": {},
   "outputs": [],
   "source": [
    "base_path = \"https://github.com/codingalzi/water-data/raw/master/reservoirs/\"\n",
    "# base_path = r\"C:\\Users\\owner\\Desktop\\water-source\\data\""
   ]
  },
  {
   "cell_type": "code",
   "execution_count": 6,
   "id": "f954b2a2",
   "metadata": {},
   "outputs": [],
   "source": [
    "scb_yearly = pd.read_excel(base_path+\"Seungchonbo.xlsx\", \n",
    "# scb_yearly = pd.read_excel(base_path+\"\\Seungchonbo.xlsx\", \n",
    "                            skiprows=0, \n",
    "                            header=1, \n",
    "                            sheet_name=None,\n",
    "                            na_values='ND',\n",
    "                            parse_dates=True)  # index_col = 0을 제외함"
   ]
  },
  {
   "cell_type": "code",
   "execution_count": 7,
   "id": "f72e1370",
   "metadata": {},
   "outputs": [
    {
     "name": "stdout",
     "output_type": "stream",
     "text": [
      "<class 'dict'>\n",
      "dict_keys(['2012년', '2013년', '2014년', '2015년', '2016년', '2017년', '2018년', '2019년', '2020년', '2021년', '2022년'])\n"
     ]
    }
   ],
   "source": [
    "print(type(scb_yearly))  # type-dict\n",
    "print(scb_yearly.keys())  # 2012년부터 2022년까지"
   ]
  },
  {
   "cell_type": "code",
   "execution_count": 8,
   "id": "b02c6e94",
   "metadata": {},
   "outputs": [
    {
     "data": {
      "text/plain": [
       "Index(['측정일/월', '측정소명', '수온 ℃', '수소이온농도', '전기전도도 μS/cm', '용존산소 mg/L',\n",
       "       '총유기탄소 mg/L', '총질소 mg/L', '총인 mg/L', '클로로필-a mg/㎥'],\n",
       "      dtype='object')"
      ]
     },
     "execution_count": 8,
     "metadata": {},
     "output_type": "execute_result"
    }
   ],
   "source": [
    "scb_yearly['2012년'].columns"
   ]
  },
  {
   "cell_type": "markdown",
   "id": "e63b1337",
   "metadata": {},
   "source": [
    "2013년 자료부터"
   ]
  },
  {
   "cell_type": "code",
   "execution_count": 9,
   "id": "67e6f6ff",
   "metadata": {},
   "outputs": [],
   "source": [
    "scb_yearly_df13 = pd.DataFrame()\n",
    "\n",
    "for item in list(scb_yearly.keys())[1:]:\n",
    "    scb_yearly_df13 = pd.concat([scb_yearly_df13, scb_yearly[item]])"
   ]
  },
  {
   "cell_type": "code",
   "execution_count": 10,
   "id": "72edb276",
   "metadata": {},
   "outputs": [],
   "source": [
    "scb_yearly_df13 = scb_yearly_df13.reset_index(drop=True)"
   ]
  },
  {
   "cell_type": "markdown",
   "id": "e21676f1",
   "metadata": {},
   "source": [
    "결측치 확인"
   ]
  },
  {
   "cell_type": "code",
   "execution_count": 11,
   "id": "529a98e6",
   "metadata": {},
   "outputs": [
    {
     "name": "stdout",
     "output_type": "stream",
     "text": [
      "<class 'pandas.core.frame.DataFrame'>\n",
      "RangeIndex: 82257 entries, 0 to 82256\n",
      "Data columns (total 10 columns):\n",
      " #   Column       Non-Null Count  Dtype  \n",
      "---  ------       --------------  -----  \n",
      " 0   측정일/월        82257 non-null  object \n",
      " 1   측정소명         82257 non-null  object \n",
      " 2   수온 ℃         64574 non-null  float64\n",
      " 3   수소이온농도       64561 non-null  float64\n",
      " 4   전기전도도 μS/cm  64524 non-null  float64\n",
      " 5   용존산소 mg/L    62656 non-null  float64\n",
      " 6   총유기탄소 mg/L   58675 non-null  float64\n",
      " 7   총질소 mg/L     59981 non-null  float64\n",
      " 8   총인 mg/L      58997 non-null  float64\n",
      " 9   클로로필-a mg/㎥  62876 non-null  float64\n",
      "dtypes: float64(8), object(2)\n",
      "memory usage: 6.3+ MB\n"
     ]
    }
   ],
   "source": [
    "scb_yearly_df13.info()"
   ]
  },
  {
   "cell_type": "code",
   "execution_count": 12,
   "id": "f59d2c99",
   "metadata": {},
   "outputs": [
    {
     "data": {
      "text/plain": [
       "측정일/월              0\n",
       "측정소명               0\n",
       "수온 ℃           17683\n",
       "수소이온농도         17696\n",
       "전기전도도 μS/cm    17733\n",
       "용존산소 mg/L      19601\n",
       "총유기탄소 mg/L     23582\n",
       "총질소 mg/L       22276\n",
       "총인 mg/L        23260\n",
       "클로로필-a mg/㎥    19381\n",
       "dtype: int64"
      ]
     },
     "execution_count": 12,
     "metadata": {},
     "output_type": "execute_result"
    }
   ],
   "source": [
    "scb_yearly_df13.isnull().sum()"
   ]
  },
  {
   "cell_type": "code",
   "execution_count": 13,
   "id": "42391d6e",
   "metadata": {},
   "outputs": [
    {
     "data": {
      "text/html": [
       "<div>\n",
       "<style scoped>\n",
       "    .dataframe tbody tr th:only-of-type {\n",
       "        vertical-align: middle;\n",
       "    }\n",
       "\n",
       "    .dataframe tbody tr th {\n",
       "        vertical-align: top;\n",
       "    }\n",
       "\n",
       "    .dataframe thead th {\n",
       "        text-align: right;\n",
       "    }\n",
       "</style>\n",
       "<table border=\"1\" class=\"dataframe\">\n",
       "  <thead>\n",
       "    <tr style=\"text-align: right;\">\n",
       "      <th></th>\n",
       "      <th>측정일/월</th>\n",
       "      <th>측정소명</th>\n",
       "      <th>수온 ℃</th>\n",
       "      <th>수소이온농도</th>\n",
       "      <th>전기전도도 μS/cm</th>\n",
       "      <th>용존산소 mg/L</th>\n",
       "      <th>총유기탄소 mg/L</th>\n",
       "      <th>총질소 mg/L</th>\n",
       "      <th>총인 mg/L</th>\n",
       "      <th>클로로필-a mg/㎥</th>\n",
       "    </tr>\n",
       "  </thead>\n",
       "  <tbody>\n",
       "    <tr>\n",
       "      <th>0</th>\n",
       "      <td>2013-01-01 00h</td>\n",
       "      <td>용봉</td>\n",
       "      <td>3.9</td>\n",
       "      <td>6.9</td>\n",
       "      <td>374.0</td>\n",
       "      <td>11.4</td>\n",
       "      <td>2.5</td>\n",
       "      <td>NaN</td>\n",
       "      <td>NaN</td>\n",
       "      <td>7.2</td>\n",
       "    </tr>\n",
       "    <tr>\n",
       "      <th>1</th>\n",
       "      <td>2013-01-01 01h</td>\n",
       "      <td>용봉</td>\n",
       "      <td>3.9</td>\n",
       "      <td>6.9</td>\n",
       "      <td>375.0</td>\n",
       "      <td>11.4</td>\n",
       "      <td>2.5</td>\n",
       "      <td>NaN</td>\n",
       "      <td>NaN</td>\n",
       "      <td>6.9</td>\n",
       "    </tr>\n",
       "    <tr>\n",
       "      <th>2</th>\n",
       "      <td>2013-01-01 02h</td>\n",
       "      <td>용봉</td>\n",
       "      <td>4.0</td>\n",
       "      <td>6.9</td>\n",
       "      <td>374.0</td>\n",
       "      <td>11.4</td>\n",
       "      <td>2.5</td>\n",
       "      <td>NaN</td>\n",
       "      <td>NaN</td>\n",
       "      <td>6.8</td>\n",
       "    </tr>\n",
       "    <tr>\n",
       "      <th>3</th>\n",
       "      <td>2013-01-01 03h</td>\n",
       "      <td>용봉</td>\n",
       "      <td>4.1</td>\n",
       "      <td>6.9</td>\n",
       "      <td>375.0</td>\n",
       "      <td>11.4</td>\n",
       "      <td>2.5</td>\n",
       "      <td>NaN</td>\n",
       "      <td>NaN</td>\n",
       "      <td>6.9</td>\n",
       "    </tr>\n",
       "    <tr>\n",
       "      <th>4</th>\n",
       "      <td>2013-01-01 04h</td>\n",
       "      <td>용봉</td>\n",
       "      <td>4.0</td>\n",
       "      <td>6.9</td>\n",
       "      <td>380.0</td>\n",
       "      <td>11.3</td>\n",
       "      <td>2.6</td>\n",
       "      <td>NaN</td>\n",
       "      <td>NaN</td>\n",
       "      <td>6.9</td>\n",
       "    </tr>\n",
       "  </tbody>\n",
       "</table>\n",
       "</div>"
      ],
      "text/plain": [
       "            측정일/월 측정소명  수온 ℃  수소이온농도  전기전도도 μS/cm  용존산소 mg/L  총유기탄소 mg/L  \\\n",
       "0  2013-01-01 00h   용봉   3.9     6.9        374.0       11.4         2.5   \n",
       "1  2013-01-01 01h   용봉   3.9     6.9        375.0       11.4         2.5   \n",
       "2  2013-01-01 02h   용봉   4.0     6.9        374.0       11.4         2.5   \n",
       "3  2013-01-01 03h   용봉   4.1     6.9        375.0       11.4         2.5   \n",
       "4  2013-01-01 04h   용봉   4.0     6.9        380.0       11.3         2.6   \n",
       "\n",
       "   총질소 mg/L  총인 mg/L  클로로필-a mg/㎥  \n",
       "0       NaN      NaN          7.2  \n",
       "1       NaN      NaN          6.9  \n",
       "2       NaN      NaN          6.8  \n",
       "3       NaN      NaN          6.9  \n",
       "4       NaN      NaN          6.9  "
      ]
     },
     "execution_count": 13,
     "metadata": {},
     "output_type": "execute_result"
    }
   ],
   "source": [
    "scb_yearly_df13.head()"
   ]
  },
  {
   "cell_type": "markdown",
   "id": "fe33dbb5",
   "metadata": {},
   "source": [
    "유량 데이터 추가하기"
   ]
  },
  {
   "cell_type": "code",
   "execution_count": 14,
   "id": "3dcd1b7c",
   "metadata": {},
   "outputs": [],
   "source": [
    "scb_flow_yearly = pd.read_excel(base_path+\"Seungchonbo_flow.xlsx\", \n",
    "# scb_flow_yearly = pd.read_excel(base_path+\"\\Seungchonbo_flow.xlsx\", \n",
    "                            header=0, \n",
    "                            sheet_name=None,\n",
    "                            na_values='ND',\n",
    "                            parse_dates=True)  # index_col = 0을 제외함"
   ]
  },
  {
   "cell_type": "code",
   "execution_count": 15,
   "id": "93384a27",
   "metadata": {},
   "outputs": [],
   "source": [
    "for year in list(scb_flow_yearly.keys())[1:]:\n",
    "    scb_flow_yearly[year]['연월일시'] = scb_flow_yearly[year]['시간'].apply(lambda x : x[:-3])"
   ]
  },
  {
   "cell_type": "code",
   "execution_count": 16,
   "id": "fc5d64be",
   "metadata": {},
   "outputs": [],
   "source": [
    "scb_flow_yearly_hour = {}\n",
    "\n",
    "for year in list(scb_flow_yearly.keys())[1:]:\n",
    "    scb_flow_yearly_hour[year] = scb_flow_yearly[year].groupby('연월일시').mean()"
   ]
  },
  {
   "cell_type": "code",
   "execution_count": 17,
   "id": "a9a687f6",
   "metadata": {},
   "outputs": [],
   "source": [
    "for year in scb_flow_yearly_hour:\n",
    "    scb_flow_yearly_hour[year] = scb_flow_yearly_hour[year].reset_index()"
   ]
  },
  {
   "cell_type": "code",
   "execution_count": 18,
   "id": "ea35293b",
   "metadata": {},
   "outputs": [],
   "source": [
    "scb_flow_yearly_hour_df = pd.DataFrame()\n",
    "\n",
    "for year in scb_flow_yearly_hour:\n",
    "    scb_flow_yearly_hour_df = pd.concat([scb_flow_yearly_hour_df, scb_flow_yearly_hour[year]])"
   ]
  },
  {
   "cell_type": "code",
   "execution_count": 19,
   "id": "6b039552",
   "metadata": {},
   "outputs": [],
   "source": [
    "scb_flow_yearly_hour_df = scb_flow_yearly_hour_df.reset_index(drop=True)"
   ]
  },
  {
   "cell_type": "code",
   "execution_count": 20,
   "id": "c79bbead",
   "metadata": {},
   "outputs": [
    {
     "name": "stdout",
     "output_type": "stream",
     "text": [
      "84393\n",
      "82257\n"
     ]
    }
   ],
   "source": [
    "print(scb_flow_yearly_hour_df.__len__())\n",
    "print(scb_yearly_df13.__len__())"
   ]
  },
  {
   "cell_type": "code",
   "execution_count": 21,
   "id": "6f07d7ab",
   "metadata": {},
   "outputs": [],
   "source": [
    "scb_yearly_df13['연월일시'] = scb_yearly_df13['측정일/월'].transform(lambda x: x.strip('h').replace('-', '.'))"
   ]
  },
  {
   "cell_type": "code",
   "execution_count": 22,
   "id": "7db334eb",
   "metadata": {},
   "outputs": [],
   "source": [
    "scb_data = pd.merge(scb_yearly_df13, scb_flow_yearly_hour_df, how='outer')"
   ]
  },
  {
   "cell_type": "code",
   "execution_count": 23,
   "id": "32293c2d",
   "metadata": {},
   "outputs": [],
   "source": [
    "scb_data = scb_data[:82257]"
   ]
  },
  {
   "cell_type": "code",
   "execution_count": 24,
   "id": "a5efb142",
   "metadata": {},
   "outputs": [
    {
     "name": "stdout",
     "output_type": "stream",
     "text": [
      "<class 'pandas.core.frame.DataFrame'>\n",
      "Int64Index: 82257 entries, 0 to 82256\n",
      "Data columns (total 15 columns):\n",
      " #   Column       Non-Null Count  Dtype  \n",
      "---  ------       --------------  -----  \n",
      " 0   측정일/월        82257 non-null  object \n",
      " 1   측정소명         82257 non-null  object \n",
      " 2   수온 ℃         64574 non-null  float64\n",
      " 3   수소이온농도       64561 non-null  float64\n",
      " 4   전기전도도 μS/cm  64524 non-null  float64\n",
      " 5   용존산소 mg/L    62656 non-null  float64\n",
      " 6   총유기탄소 mg/L   58675 non-null  float64\n",
      " 7   총질소 mg/L     59981 non-null  float64\n",
      " 8   총인 mg/L      58997 non-null  float64\n",
      " 9   클로로필-a mg/㎥  62876 non-null  float64\n",
      " 10  연월일시         82257 non-null  object \n",
      " 11   상류수위(EL.m)  82231 non-null  float64\n",
      " 12   하류수위(EL.m)  82231 non-null  float64\n",
      " 13   유입량(㎥/s)    82231 non-null  float64\n",
      " 14   방류량(㎥/s)    82231 non-null  float64\n",
      "dtypes: float64(12), object(3)\n",
      "memory usage: 10.0+ MB\n"
     ]
    }
   ],
   "source": [
    "scb_data.info()"
   ]
  },
  {
   "cell_type": "code",
   "execution_count": 25,
   "id": "51473373",
   "metadata": {},
   "outputs": [],
   "source": [
    "scb_data.columns = [x.strip() for x in list(scb_data.columns)]"
   ]
  },
  {
   "cell_type": "code",
   "execution_count": 26,
   "id": "88c0cc65",
   "metadata": {},
   "outputs": [
    {
     "name": "stdout",
     "output_type": "stream",
     "text": [
      "<class 'pandas.core.frame.DataFrame'>\n",
      "Int64Index: 82257 entries, 0 to 82256\n",
      "Data columns (total 15 columns):\n",
      " #   Column       Non-Null Count  Dtype  \n",
      "---  ------       --------------  -----  \n",
      " 0   측정일/월        82257 non-null  object \n",
      " 1   측정소명         82257 non-null  object \n",
      " 2   수온 ℃         64574 non-null  float64\n",
      " 3   수소이온농도       64561 non-null  float64\n",
      " 4   전기전도도 μS/cm  64524 non-null  float64\n",
      " 5   용존산소 mg/L    62656 non-null  float64\n",
      " 6   총유기탄소 mg/L   58675 non-null  float64\n",
      " 7   총질소 mg/L     59981 non-null  float64\n",
      " 8   총인 mg/L      58997 non-null  float64\n",
      " 9   클로로필-a mg/㎥  62876 non-null  float64\n",
      " 10  연월일시         82257 non-null  object \n",
      " 11  상류수위(EL.m)   82231 non-null  float64\n",
      " 12  하류수위(EL.m)   82231 non-null  float64\n",
      " 13  유입량(㎥/s)     82231 non-null  float64\n",
      " 14  방류량(㎥/s)     82231 non-null  float64\n",
      "dtypes: float64(12), object(3)\n",
      "memory usage: 10.0+ MB\n"
     ]
    }
   ],
   "source": [
    "scb_data.info()"
   ]
  },
  {
   "cell_type": "code",
   "execution_count": 27,
   "id": "c57ebe33",
   "metadata": {},
   "outputs": [],
   "source": [
    "scb_data = scb_data.loc[:, list(scb_data.columns)[:3]  + list(scb_data.columns)[4:5] + list(scb_data.columns)[6:-5] + list(scb_data.columns)[-4:-3] + list(scb_data.columns)[-1:]]"
   ]
  },
  {
   "cell_type": "code",
   "execution_count": 28,
   "id": "5588c0d5",
   "metadata": {},
   "outputs": [
    {
     "data": {
      "text/plain": [
       "Index(['측정일/월', '측정소명', '수온 ℃', '전기전도도 μS/cm', '총유기탄소 mg/L', '총질소 mg/L',\n",
       "       '총인 mg/L', '클로로필-a mg/㎥', '상류수위(EL.m)', '방류량(㎥/s)'],\n",
       "      dtype='object')"
      ]
     },
     "execution_count": 28,
     "metadata": {},
     "output_type": "execute_result"
    }
   ],
   "source": [
    "scb_data.columns"
   ]
  },
  {
   "cell_type": "code",
   "execution_count": 29,
   "id": "1b1383f1",
   "metadata": {},
   "outputs": [
    {
     "data": {
      "text/plain": [
       "측정일/월              0\n",
       "측정소명               0\n",
       "수온 ℃           17683\n",
       "전기전도도 μS/cm    17733\n",
       "총유기탄소 mg/L     23582\n",
       "총질소 mg/L       22276\n",
       "총인 mg/L        23260\n",
       "클로로필-a mg/㎥    19381\n",
       "상류수위(EL.m)        26\n",
       "방류량(㎥/s)          26\n",
       "dtype: int64"
      ]
     },
     "execution_count": 29,
     "metadata": {},
     "output_type": "execute_result"
    }
   ],
   "source": [
    "scb_data.isnull().sum()"
   ]
  },
  {
   "cell_type": "code",
   "execution_count": 30,
   "id": "e3200bfe",
   "metadata": {},
   "outputs": [
    {
     "data": {
      "text/plain": [
       "측정일/월          0.000000\n",
       "측정소명           0.000000\n",
       "수온 ℃           0.214973\n",
       "전기전도도 μS/cm    0.215580\n",
       "총유기탄소 mg/L     0.286687\n",
       "총질소 mg/L       0.270810\n",
       "총인 mg/L        0.282772\n",
       "클로로필-a mg/㎥    0.235615\n",
       "상류수위(EL.m)     0.000316\n",
       "방류량(㎥/s)       0.000316\n",
       "dtype: float64"
      ]
     },
     "execution_count": 30,
     "metadata": {},
     "output_type": "execute_result"
    }
   ],
   "source": [
    "scb_data.isnull().sum() /len(scb_data)"
   ]
  },
  {
   "cell_type": "code",
   "execution_count": 31,
   "id": "e39aea47",
   "metadata": {},
   "outputs": [
    {
     "data": {
      "text/plain": [
       "82257"
      ]
     },
     "execution_count": 31,
     "metadata": {},
     "output_type": "execute_result"
    }
   ],
   "source": [
    "len(scb_data)"
   ]
  },
  {
   "cell_type": "markdown",
   "id": "4d1d707c",
   "metadata": {},
   "source": [
    "시간데이터 추가"
   ]
  },
  {
   "cell_type": "code",
   "execution_count": 32,
   "id": "13a59b55",
   "metadata": {},
   "outputs": [],
   "source": [
    "scb_df = scb_data.copy()"
   ]
  },
  {
   "cell_type": "code",
   "execution_count": 33,
   "id": "97536231",
   "metadata": {},
   "outputs": [
    {
     "data": {
      "text/plain": [
       "Index(['측정일/월', '측정소명', '수온 ℃', '전기전도도 μS/cm', '총유기탄소 mg/L', '총질소 mg/L',\n",
       "       '총인 mg/L', '클로로필-a mg/㎥', '상류수위(EL.m)', '방류량(㎥/s)'],\n",
       "      dtype='object')"
      ]
     },
     "execution_count": 33,
     "metadata": {},
     "output_type": "execute_result"
    }
   ],
   "source": [
    "scb_df.columns"
   ]
  },
  {
   "cell_type": "code",
   "execution_count": 34,
   "id": "7741d9ca",
   "metadata": {},
   "outputs": [],
   "source": [
    "col_c = list(scb_df.columns.copy())\n",
    "col_c.remove('클로로필-a mg/㎥')"
   ]
  },
  {
   "cell_type": "code",
   "execution_count": 35,
   "id": "7ee7aa2c",
   "metadata": {},
   "outputs": [
    {
     "data": {
      "text/plain": [
       "['측정일/월',\n",
       " '측정소명',\n",
       " '수온 ℃',\n",
       " '전기전도도 μS/cm',\n",
       " '총유기탄소 mg/L',\n",
       " '총질소 mg/L',\n",
       " '총인 mg/L',\n",
       " '상류수위(EL.m)',\n",
       " '방류량(㎥/s)']"
      ]
     },
     "execution_count": 35,
     "metadata": {},
     "output_type": "execute_result"
    }
   ],
   "source": [
    "col_c"
   ]
  },
  {
   "cell_type": "code",
   "execution_count": 36,
   "id": "2f74e71f",
   "metadata": {},
   "outputs": [
    {
     "name": "stderr",
     "output_type": "stream",
     "text": [
      "/tmp/ipykernel_659/2842552105.py:3: PerformanceWarning: DataFrame is highly fragmented.  This is usually the result of calling `frame.insert` many times, which has poor performance.  Consider joining all columns at once using pd.concat(axis=1) instead.  To get a de-fragmented frame, use `newframe = frame.copy()`\n",
      "  scb_df[str(i) + 'shift' + var] = scb_df[var].shift(i)\n"
     ]
    }
   ],
   "source": [
    "for var in col_c[2:]:\n",
    "    for i in range(1, 49):\n",
    "        scb_df[str(i) + 'shift' + var] = scb_df[var].shift(i)"
   ]
  },
  {
   "cell_type": "code",
   "execution_count": 37,
   "id": "f27b524e",
   "metadata": {},
   "outputs": [
    {
     "data": {
      "text/plain": [
       "82257"
      ]
     },
     "execution_count": 37,
     "metadata": {},
     "output_type": "execute_result"
    }
   ],
   "source": [
    "len(scb_df)"
   ]
  },
  {
   "cell_type": "code",
   "execution_count": 38,
   "id": "4d9b80a7",
   "metadata": {},
   "outputs": [
    {
     "data": {
      "text/plain": [
       "Index(['측정일/월', '측정소명', '수온 ℃', '전기전도도 μS/cm', '총유기탄소 mg/L', '총질소 mg/L',\n",
       "       '총인 mg/L', '클로로필-a mg/㎥', '상류수위(EL.m)', '방류량(㎥/s)',\n",
       "       ...\n",
       "       '39shift방류량(㎥/s)', '40shift방류량(㎥/s)', '41shift방류량(㎥/s)',\n",
       "       '42shift방류량(㎥/s)', '43shift방류량(㎥/s)', '44shift방류량(㎥/s)',\n",
       "       '45shift방류량(㎥/s)', '46shift방류량(㎥/s)', '47shift방류량(㎥/s)',\n",
       "       '48shift방류량(㎥/s)'],\n",
       "      dtype='object', length=346)"
      ]
     },
     "execution_count": 38,
     "metadata": {},
     "output_type": "execute_result"
    }
   ],
   "source": [
    "scb_df.columns"
   ]
  },
  {
   "cell_type": "code",
   "execution_count": 39,
   "id": "31a383e5",
   "metadata": {},
   "outputs": [
    {
     "data": {
      "text/plain": [
       "82257"
      ]
     },
     "execution_count": 39,
     "metadata": {},
     "output_type": "execute_result"
    }
   ],
   "source": [
    "len(scb_df)"
   ]
  },
  {
   "cell_type": "markdown",
   "id": "03ff68eb",
   "metadata": {},
   "source": [
    "결측치 보간법"
   ]
  },
  {
   "cell_type": "code",
   "execution_count": 40,
   "id": "d3a50644",
   "metadata": {},
   "outputs": [],
   "source": [
    "from datetime import datetime"
   ]
  },
  {
   "cell_type": "code",
   "execution_count": 41,
   "id": "3d25efc0",
   "metadata": {},
   "outputs": [],
   "source": [
    "scb_df = scb_df.copy()"
   ]
  },
  {
   "cell_type": "code",
   "execution_count": 42,
   "id": "55f51afd",
   "metadata": {},
   "outputs": [],
   "source": [
    "scb_df['측정일/월'] = scb_df['측정일/월'].transform(lambda x: datetime.strptime(x[:-1], '%Y-%m-%d %H'))"
   ]
  },
  {
   "cell_type": "code",
   "execution_count": 43,
   "id": "603c9520",
   "metadata": {},
   "outputs": [],
   "source": [
    "scb_df = scb_df.copy().set_index('측정일/월').interpolate(method='time')"
   ]
  },
  {
   "cell_type": "code",
   "execution_count": 44,
   "id": "d7bff880",
   "metadata": {},
   "outputs": [],
   "source": [
    "scb_df = scb_df.dropna()"
   ]
  },
  {
   "cell_type": "code",
   "execution_count": 45,
   "id": "706d67b3",
   "metadata": {},
   "outputs": [
    {
     "data": {
      "text/plain": [
       "80106"
      ]
     },
     "execution_count": 45,
     "metadata": {},
     "output_type": "execute_result"
    }
   ],
   "source": [
    "scb_df.__len__()"
   ]
  },
  {
   "cell_type": "code",
   "execution_count": 46,
   "id": "5f390c10",
   "metadata": {},
   "outputs": [
    {
     "data": {
      "text/plain": [
       "Index(['측정소명', '수온 ℃', '전기전도도 μS/cm', '총유기탄소 mg/L', '총질소 mg/L', '총인 mg/L',\n",
       "       '클로로필-a mg/㎥', '상류수위(EL.m)', '방류량(㎥/s)', '1shift수온 ℃',\n",
       "       ...\n",
       "       '39shift방류량(㎥/s)', '40shift방류량(㎥/s)', '41shift방류량(㎥/s)',\n",
       "       '42shift방류량(㎥/s)', '43shift방류량(㎥/s)', '44shift방류량(㎥/s)',\n",
       "       '45shift방류량(㎥/s)', '46shift방류량(㎥/s)', '47shift방류량(㎥/s)',\n",
       "       '48shift방류량(㎥/s)'],\n",
       "      dtype='object', length=345)"
      ]
     },
     "execution_count": 46,
     "metadata": {},
     "output_type": "execute_result"
    }
   ],
   "source": [
    "scb_df.columns"
   ]
  },
  {
   "cell_type": "code",
   "execution_count": 47,
   "id": "06d5f2de",
   "metadata": {},
   "outputs": [
    {
     "data": {
      "text/html": [
       "<div>\n",
       "<style scoped>\n",
       "    .dataframe tbody tr th:only-of-type {\n",
       "        vertical-align: middle;\n",
       "    }\n",
       "\n",
       "    .dataframe tbody tr th {\n",
       "        vertical-align: top;\n",
       "    }\n",
       "\n",
       "    .dataframe thead th {\n",
       "        text-align: right;\n",
       "    }\n",
       "</style>\n",
       "<table border=\"1\" class=\"dataframe\">\n",
       "  <thead>\n",
       "    <tr style=\"text-align: right;\">\n",
       "      <th></th>\n",
       "      <th>측정소명</th>\n",
       "      <th>수온 ℃</th>\n",
       "      <th>전기전도도 μS/cm</th>\n",
       "      <th>총유기탄소 mg/L</th>\n",
       "      <th>총질소 mg/L</th>\n",
       "      <th>총인 mg/L</th>\n",
       "      <th>클로로필-a mg/㎥</th>\n",
       "      <th>상류수위(EL.m)</th>\n",
       "      <th>방류량(㎥/s)</th>\n",
       "      <th>1shift수온 ℃</th>\n",
       "      <th>...</th>\n",
       "      <th>39shift방류량(㎥/s)</th>\n",
       "      <th>40shift방류량(㎥/s)</th>\n",
       "      <th>41shift방류량(㎥/s)</th>\n",
       "      <th>42shift방류량(㎥/s)</th>\n",
       "      <th>43shift방류량(㎥/s)</th>\n",
       "      <th>44shift방류량(㎥/s)</th>\n",
       "      <th>45shift방류량(㎥/s)</th>\n",
       "      <th>46shift방류량(㎥/s)</th>\n",
       "      <th>47shift방류량(㎥/s)</th>\n",
       "      <th>48shift방류량(㎥/s)</th>\n",
       "    </tr>\n",
       "    <tr>\n",
       "      <th>측정일/월</th>\n",
       "      <th></th>\n",
       "      <th></th>\n",
       "      <th></th>\n",
       "      <th></th>\n",
       "      <th></th>\n",
       "      <th></th>\n",
       "      <th></th>\n",
       "      <th></th>\n",
       "      <th></th>\n",
       "      <th></th>\n",
       "      <th></th>\n",
       "      <th></th>\n",
       "      <th></th>\n",
       "      <th></th>\n",
       "      <th></th>\n",
       "      <th></th>\n",
       "      <th></th>\n",
       "      <th></th>\n",
       "      <th></th>\n",
       "      <th></th>\n",
       "      <th></th>\n",
       "    </tr>\n",
       "  </thead>\n",
       "  <tbody>\n",
       "    <tr>\n",
       "      <th>2013-03-31 16:00:00</th>\n",
       "      <td>용봉</td>\n",
       "      <td>14.0</td>\n",
       "      <td>326.0</td>\n",
       "      <td>3.4</td>\n",
       "      <td>6.847</td>\n",
       "      <td>0.102</td>\n",
       "      <td>41.0</td>\n",
       "      <td>7.52</td>\n",
       "      <td>12.426667</td>\n",
       "      <td>14.1</td>\n",
       "      <td>...</td>\n",
       "      <td>14.436667</td>\n",
       "      <td>14.496667</td>\n",
       "      <td>14.503333</td>\n",
       "      <td>14.551667</td>\n",
       "      <td>14.580000</td>\n",
       "      <td>14.615000</td>\n",
       "      <td>15.346667</td>\n",
       "      <td>15.973333</td>\n",
       "      <td>13.275000</td>\n",
       "      <td>12.343333</td>\n",
       "    </tr>\n",
       "    <tr>\n",
       "      <th>2013-03-31 17:00:00</th>\n",
       "      <td>용봉</td>\n",
       "      <td>14.0</td>\n",
       "      <td>329.0</td>\n",
       "      <td>3.4</td>\n",
       "      <td>6.967</td>\n",
       "      <td>0.102</td>\n",
       "      <td>42.4</td>\n",
       "      <td>7.52</td>\n",
       "      <td>12.426667</td>\n",
       "      <td>14.0</td>\n",
       "      <td>...</td>\n",
       "      <td>14.415000</td>\n",
       "      <td>14.436667</td>\n",
       "      <td>14.496667</td>\n",
       "      <td>14.503333</td>\n",
       "      <td>14.551667</td>\n",
       "      <td>14.580000</td>\n",
       "      <td>14.615000</td>\n",
       "      <td>15.346667</td>\n",
       "      <td>15.973333</td>\n",
       "      <td>13.275000</td>\n",
       "    </tr>\n",
       "    <tr>\n",
       "      <th>2013-03-31 18:00:00</th>\n",
       "      <td>용봉</td>\n",
       "      <td>13.6</td>\n",
       "      <td>328.0</td>\n",
       "      <td>3.4</td>\n",
       "      <td>7.094</td>\n",
       "      <td>0.101</td>\n",
       "      <td>40.1</td>\n",
       "      <td>7.52</td>\n",
       "      <td>12.390000</td>\n",
       "      <td>14.0</td>\n",
       "      <td>...</td>\n",
       "      <td>14.335000</td>\n",
       "      <td>14.415000</td>\n",
       "      <td>14.436667</td>\n",
       "      <td>14.496667</td>\n",
       "      <td>14.503333</td>\n",
       "      <td>14.551667</td>\n",
       "      <td>14.580000</td>\n",
       "      <td>14.615000</td>\n",
       "      <td>15.346667</td>\n",
       "      <td>15.973333</td>\n",
       "    </tr>\n",
       "    <tr>\n",
       "      <th>2013-03-31 19:00:00</th>\n",
       "      <td>용봉</td>\n",
       "      <td>13.4</td>\n",
       "      <td>330.0</td>\n",
       "      <td>3.4</td>\n",
       "      <td>7.146</td>\n",
       "      <td>0.099</td>\n",
       "      <td>39.7</td>\n",
       "      <td>7.52</td>\n",
       "      <td>12.383333</td>\n",
       "      <td>13.6</td>\n",
       "      <td>...</td>\n",
       "      <td>14.330000</td>\n",
       "      <td>14.335000</td>\n",
       "      <td>14.415000</td>\n",
       "      <td>14.436667</td>\n",
       "      <td>14.496667</td>\n",
       "      <td>14.503333</td>\n",
       "      <td>14.551667</td>\n",
       "      <td>14.580000</td>\n",
       "      <td>14.615000</td>\n",
       "      <td>15.346667</td>\n",
       "    </tr>\n",
       "    <tr>\n",
       "      <th>2013-03-31 20:00:00</th>\n",
       "      <td>용봉</td>\n",
       "      <td>13.3</td>\n",
       "      <td>333.0</td>\n",
       "      <td>3.4</td>\n",
       "      <td>7.038</td>\n",
       "      <td>0.098</td>\n",
       "      <td>39.4</td>\n",
       "      <td>7.52</td>\n",
       "      <td>12.370000</td>\n",
       "      <td>13.4</td>\n",
       "      <td>...</td>\n",
       "      <td>14.315000</td>\n",
       "      <td>14.330000</td>\n",
       "      <td>14.335000</td>\n",
       "      <td>14.415000</td>\n",
       "      <td>14.436667</td>\n",
       "      <td>14.496667</td>\n",
       "      <td>14.503333</td>\n",
       "      <td>14.551667</td>\n",
       "      <td>14.580000</td>\n",
       "      <td>14.615000</td>\n",
       "    </tr>\n",
       "  </tbody>\n",
       "</table>\n",
       "<p>5 rows × 345 columns</p>\n",
       "</div>"
      ],
      "text/plain": [
       "                    측정소명  수온 ℃  전기전도도 μS/cm  총유기탄소 mg/L  총질소 mg/L  총인 mg/L  \\\n",
       "측정일/월                                                                        \n",
       "2013-03-31 16:00:00   용봉  14.0        326.0         3.4     6.847    0.102   \n",
       "2013-03-31 17:00:00   용봉  14.0        329.0         3.4     6.967    0.102   \n",
       "2013-03-31 18:00:00   용봉  13.6        328.0         3.4     7.094    0.101   \n",
       "2013-03-31 19:00:00   용봉  13.4        330.0         3.4     7.146    0.099   \n",
       "2013-03-31 20:00:00   용봉  13.3        333.0         3.4     7.038    0.098   \n",
       "\n",
       "                     클로로필-a mg/㎥  상류수위(EL.m)   방류량(㎥/s)  1shift수온 ℃  ...  \\\n",
       "측정일/월                                                                ...   \n",
       "2013-03-31 16:00:00         41.0        7.52  12.426667        14.1  ...   \n",
       "2013-03-31 17:00:00         42.4        7.52  12.426667        14.0  ...   \n",
       "2013-03-31 18:00:00         40.1        7.52  12.390000        14.0  ...   \n",
       "2013-03-31 19:00:00         39.7        7.52  12.383333        13.6  ...   \n",
       "2013-03-31 20:00:00         39.4        7.52  12.370000        13.4  ...   \n",
       "\n",
       "                     39shift방류량(㎥/s)  40shift방류량(㎥/s)  41shift방류량(㎥/s)  \\\n",
       "측정일/월                                                                    \n",
       "2013-03-31 16:00:00        14.436667        14.496667        14.503333   \n",
       "2013-03-31 17:00:00        14.415000        14.436667        14.496667   \n",
       "2013-03-31 18:00:00        14.335000        14.415000        14.436667   \n",
       "2013-03-31 19:00:00        14.330000        14.335000        14.415000   \n",
       "2013-03-31 20:00:00        14.315000        14.330000        14.335000   \n",
       "\n",
       "                     42shift방류량(㎥/s)  43shift방류량(㎥/s)  44shift방류량(㎥/s)  \\\n",
       "측정일/월                                                                    \n",
       "2013-03-31 16:00:00        14.551667        14.580000        14.615000   \n",
       "2013-03-31 17:00:00        14.503333        14.551667        14.580000   \n",
       "2013-03-31 18:00:00        14.496667        14.503333        14.551667   \n",
       "2013-03-31 19:00:00        14.436667        14.496667        14.503333   \n",
       "2013-03-31 20:00:00        14.415000        14.436667        14.496667   \n",
       "\n",
       "                     45shift방류량(㎥/s)  46shift방류량(㎥/s)  47shift방류량(㎥/s)  \\\n",
       "측정일/월                                                                    \n",
       "2013-03-31 16:00:00        15.346667        15.973333        13.275000   \n",
       "2013-03-31 17:00:00        14.615000        15.346667        15.973333   \n",
       "2013-03-31 18:00:00        14.580000        14.615000        15.346667   \n",
       "2013-03-31 19:00:00        14.551667        14.580000        14.615000   \n",
       "2013-03-31 20:00:00        14.503333        14.551667        14.580000   \n",
       "\n",
       "                     48shift방류량(㎥/s)  \n",
       "측정일/월                                 \n",
       "2013-03-31 16:00:00        12.343333  \n",
       "2013-03-31 17:00:00        13.275000  \n",
       "2013-03-31 18:00:00        15.973333  \n",
       "2013-03-31 19:00:00        15.346667  \n",
       "2013-03-31 20:00:00        14.615000  \n",
       "\n",
       "[5 rows x 345 columns]"
      ]
     },
     "execution_count": 47,
     "metadata": {},
     "output_type": "execute_result"
    }
   ],
   "source": [
    "scb_df.head()"
   ]
  },
  {
   "cell_type": "code",
   "execution_count": 48,
   "id": "a6c11321",
   "metadata": {},
   "outputs": [],
   "source": [
    "col = list(scb_df.columns[1:])\n",
    "#print(col)"
   ]
  },
  {
   "cell_type": "code",
   "execution_count": 49,
   "id": "b4ca5757",
   "metadata": {},
   "outputs": [],
   "source": [
    "col_v = col.copy()\n",
    "col_v.remove('클로로필-a mg/㎥')\n",
    "#print(col_v)"
   ]
  },
  {
   "cell_type": "markdown",
   "id": "76ed6bd8",
   "metadata": {},
   "source": [
    "피처 정규화 없이"
   ]
  },
  {
   "cell_type": "code",
   "execution_count": 50,
   "id": "d9cab61c",
   "metadata": {},
   "outputs": [],
   "source": [
    "X_train, X_test, y_train, y_test = train_test_split(scb_df.loc[:, col_v], scb_df['클로로필-a mg/㎥'], random_state=42)\n",
    "gb_reg = GradientBoostingRegressor(random_state=42)\n",
    "\n",
    "parameters = {'max_depth':[5, 10, 15], 'learning_rate':[0.05, 0.1, 0.2]}"
   ]
  },
  {
   "cell_type": "code",
   "execution_count": 51,
   "id": "2679576d",
   "metadata": {},
   "outputs": [],
   "source": [
    "gb_grid = GridSearchCV(gb_reg, param_grid=parameters, cv=3, verbose=5)"
   ]
  },
  {
   "cell_type": "code",
   "execution_count": 52,
   "id": "9bf00bfc",
   "metadata": {},
   "outputs": [
    {
     "name": "stdout",
     "output_type": "stream",
     "text": [
      "Fitting 3 folds for each of 9 candidates, totalling 27 fits\n",
      "[CV 1/3] END ...learning_rate=0.05, max_depth=5;, score=0.767 total time= 8.7min\n",
      "[CV 2/3] END ...learning_rate=0.05, max_depth=5;, score=0.762 total time= 8.7min\n",
      "[CV 3/3] END ...learning_rate=0.05, max_depth=5;, score=0.762 total time= 8.7min\n",
      "[CV 1/3] END ..learning_rate=0.05, max_depth=10;, score=0.943 total time=16.7min\n",
      "[CV 2/3] END ..learning_rate=0.05, max_depth=10;, score=0.942 total time=16.6min\n",
      "[CV 3/3] END ..learning_rate=0.05, max_depth=10;, score=0.942 total time=16.6min\n",
      "[CV 1/3] END ..learning_rate=0.05, max_depth=15;, score=0.963 total time=23.0min\n",
      "[CV 2/3] END ..learning_rate=0.05, max_depth=15;, score=0.962 total time=23.1min\n",
      "[CV 3/3] END ..learning_rate=0.05, max_depth=15;, score=0.961 total time=23.0min\n",
      "[CV 1/3] END ....learning_rate=0.1, max_depth=5;, score=0.817 total time= 8.6min\n",
      "[CV 2/3] END ....learning_rate=0.1, max_depth=5;, score=0.814 total time= 8.7min\n",
      "[CV 3/3] END ....learning_rate=0.1, max_depth=5;, score=0.812 total time= 8.6min\n",
      "[CV 1/3] END ...learning_rate=0.1, max_depth=10;, score=0.958 total time=16.9min\n",
      "[CV 2/3] END ...learning_rate=0.1, max_depth=10;, score=0.956 total time=17.0min\n",
      "[CV 3/3] END ...learning_rate=0.1, max_depth=10;, score=0.956 total time=17.0min\n",
      "[CV 1/3] END ...learning_rate=0.1, max_depth=15;, score=0.963 total time=23.7min\n",
      "[CV 2/3] END ...learning_rate=0.1, max_depth=15;, score=0.961 total time=23.8min\n",
      "[CV 3/3] END ...learning_rate=0.1, max_depth=15;, score=0.961 total time=23.9min\n",
      "[CV 1/3] END ....learning_rate=0.2, max_depth=5;, score=0.873 total time= 8.7min\n",
      "[CV 2/3] END ....learning_rate=0.2, max_depth=5;, score=0.867 total time= 8.7min\n",
      "[CV 3/3] END ....learning_rate=0.2, max_depth=5;, score=0.864 total time= 8.7min\n",
      "[CV 1/3] END ...learning_rate=0.2, max_depth=10;, score=0.958 total time=17.2min\n",
      "[CV 2/3] END ...learning_rate=0.2, max_depth=10;, score=0.957 total time=17.1min\n",
      "[CV 3/3] END ...learning_rate=0.2, max_depth=10;, score=0.956 total time=17.0min\n",
      "[CV 1/3] END ...learning_rate=0.2, max_depth=15;, score=0.958 total time=24.7min\n",
      "[CV 2/3] END ...learning_rate=0.2, max_depth=15;, score=0.957 total time=24.7min\n",
      "[CV 3/3] END ...learning_rate=0.2, max_depth=15;, score=0.956 total time=24.8min\n"
     ]
    },
    {
     "data": {
      "text/plain": [
       "GridSearchCV(cv=3, estimator=GradientBoostingRegressor(random_state=42),\n",
       "             param_grid={'learning_rate': [0.05, 0.1, 0.2],\n",
       "                         'max_depth': [5, 10, 15]},\n",
       "             verbose=5)"
      ]
     },
     "execution_count": 52,
     "metadata": {},
     "output_type": "execute_result"
    }
   ],
   "source": [
    "gb_grid.fit(X_train, np.log1p(y_train))"
   ]
  },
  {
   "cell_type": "code",
   "execution_count": 53,
   "id": "aac5435c",
   "metadata": {},
   "outputs": [],
   "source": [
    "scores_df = pd.DataFrame(gb_grid.cv_results_)"
   ]
  },
  {
   "cell_type": "code",
   "execution_count": 54,
   "id": "21ea33c2",
   "metadata": {},
   "outputs": [
    {
     "data": {
      "text/html": [
       "<div>\n",
       "<style scoped>\n",
       "    .dataframe tbody tr th:only-of-type {\n",
       "        vertical-align: middle;\n",
       "    }\n",
       "\n",
       "    .dataframe tbody tr th {\n",
       "        vertical-align: top;\n",
       "    }\n",
       "\n",
       "    .dataframe thead th {\n",
       "        text-align: right;\n",
       "    }\n",
       "</style>\n",
       "<table border=\"1\" class=\"dataframe\">\n",
       "  <thead>\n",
       "    <tr style=\"text-align: right;\">\n",
       "      <th></th>\n",
       "      <th>params</th>\n",
       "      <th>mean_test_score</th>\n",
       "      <th>rank_test_score</th>\n",
       "    </tr>\n",
       "  </thead>\n",
       "  <tbody>\n",
       "    <tr>\n",
       "      <th>2</th>\n",
       "      <td>{'learning_rate': 0.05, 'max_depth': 15}</td>\n",
       "      <td>0.961936</td>\n",
       "      <td>1</td>\n",
       "    </tr>\n",
       "    <tr>\n",
       "      <th>5</th>\n",
       "      <td>{'learning_rate': 0.1, 'max_depth': 15}</td>\n",
       "      <td>0.961811</td>\n",
       "      <td>2</td>\n",
       "    </tr>\n",
       "    <tr>\n",
       "      <th>7</th>\n",
       "      <td>{'learning_rate': 0.2, 'max_depth': 10}</td>\n",
       "      <td>0.957199</td>\n",
       "      <td>3</td>\n",
       "    </tr>\n",
       "    <tr>\n",
       "      <th>8</th>\n",
       "      <td>{'learning_rate': 0.2, 'max_depth': 15}</td>\n",
       "      <td>0.957147</td>\n",
       "      <td>4</td>\n",
       "    </tr>\n",
       "    <tr>\n",
       "      <th>4</th>\n",
       "      <td>{'learning_rate': 0.1, 'max_depth': 10}</td>\n",
       "      <td>0.956450</td>\n",
       "      <td>5</td>\n",
       "    </tr>\n",
       "  </tbody>\n",
       "</table>\n",
       "</div>"
      ],
      "text/plain": [
       "                                     params  mean_test_score  rank_test_score\n",
       "2  {'learning_rate': 0.05, 'max_depth': 15}         0.961936                1\n",
       "5   {'learning_rate': 0.1, 'max_depth': 15}         0.961811                2\n",
       "7   {'learning_rate': 0.2, 'max_depth': 10}         0.957199                3\n",
       "8   {'learning_rate': 0.2, 'max_depth': 15}         0.957147                4\n",
       "4   {'learning_rate': 0.1, 'max_depth': 10}         0.956450                5"
      ]
     },
     "execution_count": 54,
     "metadata": {},
     "output_type": "execute_result"
    }
   ],
   "source": [
    "scores_df.sort_values(by=['rank_test_score'], inplace=True)\n",
    "scores_df[['params', 'mean_test_score', 'rank_test_score']].head()"
   ]
  },
  {
   "cell_type": "code",
   "execution_count": 55,
   "id": "e3f68506",
   "metadata": {},
   "outputs": [
    {
     "data": {
      "text/plain": [
       "{'learning_rate': 0.05, 'max_depth': 15}"
      ]
     },
     "execution_count": 55,
     "metadata": {},
     "output_type": "execute_result"
    }
   ],
   "source": [
    "gb_grid.best_params_"
   ]
  },
  {
   "cell_type": "code",
   "execution_count": 56,
   "id": "5def039b",
   "metadata": {},
   "outputs": [],
   "source": [
    "estimator = gb_grid.best_estimator_"
   ]
  },
  {
   "cell_type": "code",
   "execution_count": 57,
   "id": "fcef3a34",
   "metadata": {},
   "outputs": [],
   "source": [
    "pred = estimator.predict(X_test)"
   ]
  },
  {
   "cell_type": "code",
   "execution_count": 58,
   "id": "bbea888b",
   "metadata": {},
   "outputs": [
    {
     "name": "stdout",
     "output_type": "stream",
     "text": [
      "0.02 수온 ℃\n",
      "0.13 전기전도도 μS/cm\n",
      "0.01 총유기탄소 mg/L\n",
      "0.01 총질소 mg/L\n",
      "0.01 총인 mg/L\n",
      "0.06 상류수위(EL.m)\n",
      "0.0 방류량(㎥/s)\n",
      "0.08 1shift수온 ℃\n",
      "0.01 2shift수온 ℃\n",
      "0.0 3shift수온 ℃\n",
      "0.0 4shift수온 ℃\n",
      "0.0 5shift수온 ℃\n",
      "0.0 6shift수온 ℃\n",
      "0.0 7shift수온 ℃\n",
      "0.01 8shift수온 ℃\n",
      "0.0 9shift수온 ℃\n",
      "0.0 10shift수온 ℃\n",
      "0.0 11shift수온 ℃\n",
      "0.0 12shift수온 ℃\n",
      "0.0 13shift수온 ℃\n",
      "0.0 14shift수온 ℃\n",
      "0.0 15shift수온 ℃\n",
      "0.0 16shift수온 ℃\n",
      "0.0 17shift수온 ℃\n",
      "0.0 18shift수온 ℃\n",
      "0.0 19shift수온 ℃\n",
      "0.0 20shift수온 ℃\n",
      "0.0 21shift수온 ℃\n",
      "0.0 22shift수온 ℃\n",
      "0.0 23shift수온 ℃\n",
      "0.0 24shift수온 ℃\n",
      "0.0 25shift수온 ℃\n",
      "0.0 26shift수온 ℃\n",
      "0.0 27shift수온 ℃\n",
      "0.0 28shift수온 ℃\n",
      "0.0 29shift수온 ℃\n",
      "0.0 30shift수온 ℃\n",
      "0.0 31shift수온 ℃\n",
      "0.0 32shift수온 ℃\n",
      "0.0 33shift수온 ℃\n",
      "0.0 34shift수온 ℃\n",
      "0.0 35shift수온 ℃\n",
      "0.0 36shift수온 ℃\n",
      "0.0 37shift수온 ℃\n",
      "0.0 38shift수온 ℃\n",
      "0.0 39shift수온 ℃\n",
      "0.0 40shift수온 ℃\n",
      "0.0 41shift수온 ℃\n",
      "0.0 42shift수온 ℃\n",
      "0.0 43shift수온 ℃\n",
      "0.0 44shift수온 ℃\n",
      "0.0 45shift수온 ℃\n",
      "0.0 46shift수온 ℃\n",
      "0.0 47shift수온 ℃\n",
      "0.01 48shift수온 ℃\n",
      "0.0 1shift전기전도도 μS/cm\n",
      "0.0 2shift전기전도도 μS/cm\n",
      "0.0 3shift전기전도도 μS/cm\n",
      "0.0 4shift전기전도도 μS/cm\n",
      "0.0 5shift전기전도도 μS/cm\n",
      "0.0 6shift전기전도도 μS/cm\n",
      "0.0 7shift전기전도도 μS/cm\n",
      "0.0 8shift전기전도도 μS/cm\n",
      "0.0 9shift전기전도도 μS/cm\n",
      "0.0 10shift전기전도도 μS/cm\n",
      "0.0 11shift전기전도도 μS/cm\n",
      "0.0 12shift전기전도도 μS/cm\n",
      "0.0 13shift전기전도도 μS/cm\n",
      "0.0 14shift전기전도도 μS/cm\n",
      "0.0 15shift전기전도도 μS/cm\n",
      "0.0 16shift전기전도도 μS/cm\n",
      "0.0 17shift전기전도도 μS/cm\n",
      "0.0 18shift전기전도도 μS/cm\n",
      "0.0 19shift전기전도도 μS/cm\n",
      "0.0 20shift전기전도도 μS/cm\n",
      "0.0 21shift전기전도도 μS/cm\n",
      "0.0 22shift전기전도도 μS/cm\n",
      "0.0 23shift전기전도도 μS/cm\n",
      "0.0 24shift전기전도도 μS/cm\n",
      "0.0 25shift전기전도도 μS/cm\n",
      "0.0 26shift전기전도도 μS/cm\n",
      "0.0 27shift전기전도도 μS/cm\n",
      "0.0 28shift전기전도도 μS/cm\n",
      "0.0 29shift전기전도도 μS/cm\n",
      "0.0 30shift전기전도도 μS/cm\n",
      "0.0 31shift전기전도도 μS/cm\n",
      "0.0 32shift전기전도도 μS/cm\n",
      "0.0 33shift전기전도도 μS/cm\n",
      "0.0 34shift전기전도도 μS/cm\n",
      "0.0 35shift전기전도도 μS/cm\n",
      "0.0 36shift전기전도도 μS/cm\n",
      "0.0 37shift전기전도도 μS/cm\n",
      "0.0 38shift전기전도도 μS/cm\n",
      "0.01 39shift전기전도도 μS/cm\n",
      "0.0 40shift전기전도도 μS/cm\n",
      "0.0 41shift전기전도도 μS/cm\n",
      "0.0 42shift전기전도도 μS/cm\n",
      "0.0 43shift전기전도도 μS/cm\n",
      "0.0 44shift전기전도도 μS/cm\n",
      "0.0 45shift전기전도도 μS/cm\n",
      "0.0 46shift전기전도도 μS/cm\n",
      "0.0 47shift전기전도도 μS/cm\n",
      "0.0 48shift전기전도도 μS/cm\n",
      "0.0 1shift총유기탄소 mg/L\n",
      "0.0 2shift총유기탄소 mg/L\n",
      "0.0 3shift총유기탄소 mg/L\n",
      "0.0 4shift총유기탄소 mg/L\n",
      "0.0 5shift총유기탄소 mg/L\n",
      "0.0 6shift총유기탄소 mg/L\n",
      "0.0 7shift총유기탄소 mg/L\n",
      "0.0 8shift총유기탄소 mg/L\n",
      "0.0 9shift총유기탄소 mg/L\n",
      "0.0 10shift총유기탄소 mg/L\n",
      "0.0 11shift총유기탄소 mg/L\n",
      "0.0 12shift총유기탄소 mg/L\n",
      "0.0 13shift총유기탄소 mg/L\n",
      "0.0 14shift총유기탄소 mg/L\n",
      "0.0 15shift총유기탄소 mg/L\n",
      "0.0 16shift총유기탄소 mg/L\n",
      "0.0 17shift총유기탄소 mg/L\n",
      "0.0 18shift총유기탄소 mg/L\n",
      "0.0 19shift총유기탄소 mg/L\n",
      "0.0 20shift총유기탄소 mg/L\n",
      "0.0 21shift총유기탄소 mg/L\n",
      "0.0 22shift총유기탄소 mg/L\n",
      "0.0 23shift총유기탄소 mg/L\n",
      "0.0 24shift총유기탄소 mg/L\n",
      "0.0 25shift총유기탄소 mg/L\n",
      "0.0 26shift총유기탄소 mg/L\n",
      "0.0 27shift총유기탄소 mg/L\n",
      "0.0 28shift총유기탄소 mg/L\n",
      "0.0 29shift총유기탄소 mg/L\n",
      "0.0 30shift총유기탄소 mg/L\n",
      "0.0 31shift총유기탄소 mg/L\n",
      "0.0 32shift총유기탄소 mg/L\n",
      "0.0 33shift총유기탄소 mg/L\n",
      "0.0 34shift총유기탄소 mg/L\n",
      "0.0 35shift총유기탄소 mg/L\n",
      "0.0 36shift총유기탄소 mg/L\n",
      "0.0 37shift총유기탄소 mg/L\n",
      "0.0 38shift총유기탄소 mg/L\n",
      "0.0 39shift총유기탄소 mg/L\n",
      "0.0 40shift총유기탄소 mg/L\n",
      "0.0 41shift총유기탄소 mg/L\n",
      "0.0 42shift총유기탄소 mg/L\n",
      "0.0 43shift총유기탄소 mg/L\n",
      "0.0 44shift총유기탄소 mg/L\n",
      "0.0 45shift총유기탄소 mg/L\n",
      "0.0 46shift총유기탄소 mg/L\n",
      "0.0 47shift총유기탄소 mg/L\n",
      "0.01 48shift총유기탄소 mg/L\n",
      "0.01 1shift총질소 mg/L\n",
      "0.0 2shift총질소 mg/L\n",
      "0.0 3shift총질소 mg/L\n",
      "0.0 4shift총질소 mg/L\n",
      "0.0 5shift총질소 mg/L\n",
      "0.0 6shift총질소 mg/L\n",
      "0.0 7shift총질소 mg/L\n",
      "0.01 8shift총질소 mg/L\n",
      "0.0 9shift총질소 mg/L\n",
      "0.0 10shift총질소 mg/L\n",
      "0.0 11shift총질소 mg/L\n",
      "0.0 12shift총질소 mg/L\n",
      "0.0 13shift총질소 mg/L\n",
      "0.0 14shift총질소 mg/L\n",
      "0.0 15shift총질소 mg/L\n",
      "0.0 16shift총질소 mg/L\n",
      "0.0 17shift총질소 mg/L\n",
      "0.0 18shift총질소 mg/L\n",
      "0.0 19shift총질소 mg/L\n",
      "0.0 20shift총질소 mg/L\n",
      "0.0 21shift총질소 mg/L\n",
      "0.0 22shift총질소 mg/L\n",
      "0.0 23shift총질소 mg/L\n",
      "0.0 24shift총질소 mg/L\n",
      "0.0 25shift총질소 mg/L\n",
      "0.0 26shift총질소 mg/L\n",
      "0.0 27shift총질소 mg/L\n",
      "0.0 28shift총질소 mg/L\n",
      "0.0 29shift총질소 mg/L\n",
      "0.0 30shift총질소 mg/L\n",
      "0.0 31shift총질소 mg/L\n",
      "0.0 32shift총질소 mg/L\n",
      "0.0 33shift총질소 mg/L\n",
      "0.0 34shift총질소 mg/L\n",
      "0.0 35shift총질소 mg/L\n",
      "0.0 36shift총질소 mg/L\n",
      "0.0 37shift총질소 mg/L\n",
      "0.0 38shift총질소 mg/L\n",
      "0.0 39shift총질소 mg/L\n",
      "0.0 40shift총질소 mg/L\n",
      "0.0 41shift총질소 mg/L\n",
      "0.0 42shift총질소 mg/L\n",
      "0.0 43shift총질소 mg/L\n",
      "0.0 44shift총질소 mg/L\n",
      "0.0 45shift총질소 mg/L\n",
      "0.0 46shift총질소 mg/L\n",
      "0.0 47shift총질소 mg/L\n",
      "0.0 48shift총질소 mg/L\n",
      "0.0 1shift총인 mg/L\n",
      "0.0 2shift총인 mg/L\n",
      "0.0 3shift총인 mg/L\n",
      "0.0 4shift총인 mg/L\n",
      "0.0 5shift총인 mg/L\n",
      "0.0 6shift총인 mg/L\n",
      "0.0 7shift총인 mg/L\n",
      "0.0 8shift총인 mg/L\n",
      "0.0 9shift총인 mg/L\n",
      "0.0 10shift총인 mg/L\n",
      "0.0 11shift총인 mg/L\n",
      "0.0 12shift총인 mg/L\n",
      "0.0 13shift총인 mg/L\n",
      "0.0 14shift총인 mg/L\n",
      "0.0 15shift총인 mg/L\n",
      "0.0 16shift총인 mg/L\n",
      "0.0 17shift총인 mg/L\n",
      "0.0 18shift총인 mg/L\n",
      "0.0 19shift총인 mg/L\n",
      "0.0 20shift총인 mg/L\n",
      "0.0 21shift총인 mg/L\n",
      "0.0 22shift총인 mg/L\n",
      "0.0 23shift총인 mg/L\n",
      "0.0 24shift총인 mg/L\n",
      "0.0 25shift총인 mg/L\n",
      "0.0 26shift총인 mg/L\n",
      "0.0 27shift총인 mg/L\n",
      "0.0 28shift총인 mg/L\n",
      "0.0 29shift총인 mg/L\n",
      "0.0 30shift총인 mg/L\n",
      "0.0 31shift총인 mg/L\n",
      "0.0 32shift총인 mg/L\n",
      "0.0 33shift총인 mg/L\n",
      "0.0 34shift총인 mg/L\n",
      "0.0 35shift총인 mg/L\n",
      "0.0 36shift총인 mg/L\n",
      "0.0 37shift총인 mg/L\n",
      "0.0 38shift총인 mg/L\n",
      "0.0 39shift총인 mg/L\n",
      "0.0 40shift총인 mg/L\n",
      "0.0 41shift총인 mg/L\n",
      "0.0 42shift총인 mg/L\n",
      "0.0 43shift총인 mg/L\n",
      "0.0 44shift총인 mg/L\n",
      "0.0 45shift총인 mg/L\n",
      "0.0 46shift총인 mg/L\n",
      "0.0 47shift총인 mg/L\n",
      "0.0 48shift총인 mg/L\n",
      "0.0 1shift상류수위(EL.m)\n",
      "0.01 2shift상류수위(EL.m)\n",
      "0.0 3shift상류수위(EL.m)\n",
      "0.0 4shift상류수위(EL.m)\n",
      "0.0 5shift상류수위(EL.m)\n",
      "0.0 6shift상류수위(EL.m)\n",
      "0.0 7shift상류수위(EL.m)\n",
      "0.0 8shift상류수위(EL.m)\n",
      "0.0 9shift상류수위(EL.m)\n",
      "0.0 10shift상류수위(EL.m)\n",
      "0.0 11shift상류수위(EL.m)\n",
      "0.0 12shift상류수위(EL.m)\n",
      "0.0 13shift상류수위(EL.m)\n",
      "0.0 14shift상류수위(EL.m)\n",
      "0.0 15shift상류수위(EL.m)\n",
      "0.0 16shift상류수위(EL.m)\n",
      "0.0 17shift상류수위(EL.m)\n",
      "0.0 18shift상류수위(EL.m)\n",
      "0.0 19shift상류수위(EL.m)\n",
      "0.0 20shift상류수위(EL.m)\n",
      "0.0 21shift상류수위(EL.m)\n",
      "0.0 22shift상류수위(EL.m)\n",
      "0.0 23shift상류수위(EL.m)\n",
      "0.0 24shift상류수위(EL.m)\n",
      "0.0 25shift상류수위(EL.m)\n",
      "0.0 26shift상류수위(EL.m)\n",
      "0.0 27shift상류수위(EL.m)\n",
      "0.01 28shift상류수위(EL.m)\n",
      "0.01 29shift상류수위(EL.m)\n",
      "0.0 30shift상류수위(EL.m)\n",
      "0.0 31shift상류수위(EL.m)\n",
      "0.0 32shift상류수위(EL.m)\n",
      "0.0 33shift상류수위(EL.m)\n",
      "0.0 34shift상류수위(EL.m)\n",
      "0.0 35shift상류수위(EL.m)\n",
      "0.0 36shift상류수위(EL.m)\n",
      "0.0 37shift상류수위(EL.m)\n",
      "0.0 38shift상류수위(EL.m)\n",
      "0.0 39shift상류수위(EL.m)\n",
      "0.0 40shift상류수위(EL.m)\n",
      "0.0 41shift상류수위(EL.m)\n",
      "0.0 42shift상류수위(EL.m)\n",
      "0.0 43shift상류수위(EL.m)\n",
      "0.0 44shift상류수위(EL.m)\n",
      "0.0 45shift상류수위(EL.m)\n",
      "0.0 46shift상류수위(EL.m)\n",
      "0.0 47shift상류수위(EL.m)\n",
      "0.01 48shift상류수위(EL.m)\n",
      "0.0 1shift방류량(㎥/s)\n",
      "0.03 2shift방류량(㎥/s)\n",
      "0.02 3shift방류량(㎥/s)\n",
      "0.08 4shift방류량(㎥/s)\n",
      "0.01 5shift방류량(㎥/s)\n",
      "0.0 6shift방류량(㎥/s)\n",
      "0.03 7shift방류량(㎥/s)\n",
      "0.0 8shift방류량(㎥/s)\n",
      "0.01 9shift방류량(㎥/s)\n",
      "0.0 10shift방류량(㎥/s)\n",
      "0.0 11shift방류량(㎥/s)\n",
      "0.0 12shift방류량(㎥/s)\n",
      "0.0 13shift방류량(㎥/s)\n",
      "0.0 14shift방류량(㎥/s)\n",
      "0.0 15shift방류량(㎥/s)\n",
      "0.0 16shift방류량(㎥/s)\n",
      "0.01 17shift방류량(㎥/s)\n",
      "0.0 18shift방류량(㎥/s)\n",
      "0.0 19shift방류량(㎥/s)\n",
      "0.0 20shift방류량(㎥/s)\n",
      "0.0 21shift방류량(㎥/s)\n",
      "0.0 22shift방류량(㎥/s)\n",
      "0.0 23shift방류량(㎥/s)\n",
      "0.0 24shift방류량(㎥/s)\n",
      "0.0 25shift방류량(㎥/s)\n",
      "0.0 26shift방류량(㎥/s)\n",
      "0.0 27shift방류량(㎥/s)\n",
      "0.0 28shift방류량(㎥/s)\n",
      "0.0 29shift방류량(㎥/s)\n",
      "0.0 30shift방류량(㎥/s)\n",
      "0.0 31shift방류량(㎥/s)\n",
      "0.0 32shift방류량(㎥/s)\n",
      "0.0 33shift방류량(㎥/s)\n",
      "0.0 34shift방류량(㎥/s)\n",
      "0.0 35shift방류량(㎥/s)\n",
      "0.0 36shift방류량(㎥/s)\n",
      "0.0 37shift방류량(㎥/s)\n",
      "0.0 38shift방류량(㎥/s)\n",
      "0.0 39shift방류량(㎥/s)\n",
      "0.0 40shift방류량(㎥/s)\n",
      "0.0 41shift방류량(㎥/s)\n",
      "0.0 42shift방류량(㎥/s)\n",
      "0.0 43shift방류량(㎥/s)\n",
      "0.0 44shift방류량(㎥/s)\n",
      "0.0 45shift방류량(㎥/s)\n",
      "0.0 46shift방류량(㎥/s)\n",
      "0.0 47shift방류량(㎥/s)\n",
      "0.0 48shift방류량(㎥/s)\n"
     ]
    }
   ],
   "source": [
    "for score, name in zip(estimator.feature_importances_, col_v):\n",
    "    print(round(score, 2), name)"
   ]
  },
  {
   "cell_type": "code",
   "execution_count": 59,
   "id": "dc00ce30",
   "metadata": {},
   "outputs": [
    {
     "data": {
      "image/png": "[encoded data removed]",
      "text/plain": [
       "<Figure size 720x432 with 1 Axes>"
      ]
     },
     "metadata": {
      "needs_background": "light"
     },
     "output_type": "display_data"
    }
   ],
   "source": [
    "feature_series = pd.Series(data = estimator.feature_importances_, index = col_v)\n",
    "feature_series = feature_series.sort_values(ascending = False)\n",
    "sns.barplot(x = feature_series[:10], y = feature_series.index[:10], color = 'gray')\n",
    "plt.show()"
   ]
  },
  {
   "cell_type": "code",
   "execution_count": 60,
   "id": "10f7fb34",
   "metadata": {},
   "outputs": [
    {
     "data": {
      "text/plain": [
       "전기전도도 μS/cm       0.127398\n",
       "4shift방류량(㎥/s)    0.078724\n",
       "1shift수온 ℃        0.077856\n",
       "상류수위(EL.m)        0.060555\n",
       "7shift방류량(㎥/s)    0.031234\n",
       "2shift방류량(㎥/s)    0.029635\n",
       "수온 ℃              0.022235\n",
       "3shift방류량(㎥/s)    0.018647\n",
       "총인 mg/L           0.012142\n",
       "9shift방류량(㎥/s)    0.010319\n",
       "dtype: float64"
      ]
     },
     "execution_count": 60,
     "metadata": {},
     "output_type": "execute_result"
    }
   ],
   "source": [
    "feature_series[:10]"
   ]
  },
  {
   "cell_type": "code",
   "execution_count": 61,
   "id": "ddc9b419",
   "metadata": {},
   "outputs": [
    {
     "name": "stdout",
     "output_type": "stream",
     "text": [
      "score : 0.9762544600153231\n"
     ]
    }
   ],
   "source": [
    "print('score :', estimator.score(X_test, np.log1p(y_test)))"
   ]
  },
  {
   "cell_type": "markdown",
   "id": "8fe50766",
   "metadata": {},
   "source": [
    "피처 정규화"
   ]
  },
  {
   "cell_type": "code",
   "execution_count": 62,
   "id": "3f8fed5d",
   "metadata": {},
   "outputs": [],
   "source": [
    "scaler = StandardScaler()\n",
    "scaler.fit(scb_df.loc[:, col_v])\n",
    "scb_scaled = scaler.transform(scb_df.loc[:, col_v])\n",
    "\n",
    "scb_df_scaled = pd.DataFrame(data = scb_scaled, columns = col_v)"
   ]
  },
  {
   "cell_type": "code",
   "execution_count": 63,
   "id": "79e0f792",
   "metadata": {},
   "outputs": [
    {
     "data": {
      "text/html": [
       "<div>\n",
       "<style scoped>\n",
       "    .dataframe tbody tr th:only-of-type {\n",
       "        vertical-align: middle;\n",
       "    }\n",
       "\n",
       "    .dataframe tbody tr th {\n",
       "        vertical-align: top;\n",
       "    }\n",
       "\n",
       "    .dataframe thead th {\n",
       "        text-align: right;\n",
       "    }\n",
       "</style>\n",
       "<table border=\"1\" class=\"dataframe\">\n",
       "  <thead>\n",
       "    <tr style=\"text-align: right;\">\n",
       "      <th></th>\n",
       "      <th>수온 ℃</th>\n",
       "      <th>전기전도도 μS/cm</th>\n",
       "      <th>총유기탄소 mg/L</th>\n",
       "      <th>총질소 mg/L</th>\n",
       "      <th>총인 mg/L</th>\n",
       "      <th>상류수위(EL.m)</th>\n",
       "      <th>방류량(㎥/s)</th>\n",
       "      <th>1shift수온 ℃</th>\n",
       "      <th>2shift수온 ℃</th>\n",
       "      <th>3shift수온 ℃</th>\n",
       "      <th>...</th>\n",
       "      <th>39shift방류량(㎥/s)</th>\n",
       "      <th>40shift방류량(㎥/s)</th>\n",
       "      <th>41shift방류량(㎥/s)</th>\n",
       "      <th>42shift방류량(㎥/s)</th>\n",
       "      <th>43shift방류량(㎥/s)</th>\n",
       "      <th>44shift방류량(㎥/s)</th>\n",
       "      <th>45shift방류량(㎥/s)</th>\n",
       "      <th>46shift방류량(㎥/s)</th>\n",
       "      <th>47shift방류량(㎥/s)</th>\n",
       "      <th>48shift방류량(㎥/s)</th>\n",
       "    </tr>\n",
       "  </thead>\n",
       "  <tbody>\n",
       "    <tr>\n",
       "      <th>0</th>\n",
       "      <td>-0.460123</td>\n",
       "      <td>-0.204436</td>\n",
       "      <td>-1.066592</td>\n",
       "      <td>0.701736</td>\n",
       "      <td>-0.404844</td>\n",
       "      <td>0.712847</td>\n",
       "      <td>-0.173164</td>\n",
       "      <td>-0.447041</td>\n",
       "      <td>-0.447026</td>\n",
       "      <td>-0.486216</td>\n",
       "      <td>...</td>\n",
       "      <td>-0.155560</td>\n",
       "      <td>-0.155034</td>\n",
       "      <td>-0.154976</td>\n",
       "      <td>-0.154553</td>\n",
       "      <td>-0.154305</td>\n",
       "      <td>-0.153998</td>\n",
       "      <td>-0.147588</td>\n",
       "      <td>-0.142098</td>\n",
       "      <td>-0.165740</td>\n",
       "      <td>-0.173903</td>\n",
       "    </tr>\n",
       "    <tr>\n",
       "      <th>1</th>\n",
       "      <td>-0.460123</td>\n",
       "      <td>-0.170395</td>\n",
       "      <td>-1.066592</td>\n",
       "      <td>0.762211</td>\n",
       "      <td>-0.404844</td>\n",
       "      <td>0.712847</td>\n",
       "      <td>-0.173164</td>\n",
       "      <td>-0.460110</td>\n",
       "      <td>-0.447026</td>\n",
       "      <td>-0.447009</td>\n",
       "      <td>...</td>\n",
       "      <td>-0.155750</td>\n",
       "      <td>-0.155560</td>\n",
       "      <td>-0.155035</td>\n",
       "      <td>-0.154976</td>\n",
       "      <td>-0.154553</td>\n",
       "      <td>-0.154305</td>\n",
       "      <td>-0.153999</td>\n",
       "      <td>-0.147588</td>\n",
       "      <td>-0.142098</td>\n",
       "      <td>-0.165740</td>\n",
       "    </tr>\n",
       "    <tr>\n",
       "      <th>2</th>\n",
       "      <td>-0.512399</td>\n",
       "      <td>-0.181742</td>\n",
       "      <td>-1.066592</td>\n",
       "      <td>0.826214</td>\n",
       "      <td>-0.419518</td>\n",
       "      <td>0.712847</td>\n",
       "      <td>-0.173485</td>\n",
       "      <td>-0.460110</td>\n",
       "      <td>-0.460095</td>\n",
       "      <td>-0.447009</td>\n",
       "      <td>...</td>\n",
       "      <td>-0.156451</td>\n",
       "      <td>-0.155750</td>\n",
       "      <td>-0.155560</td>\n",
       "      <td>-0.155035</td>\n",
       "      <td>-0.154977</td>\n",
       "      <td>-0.154553</td>\n",
       "      <td>-0.154305</td>\n",
       "      <td>-0.153999</td>\n",
       "      <td>-0.147588</td>\n",
       "      <td>-0.142098</td>\n",
       "    </tr>\n",
       "    <tr>\n",
       "      <th>3</th>\n",
       "      <td>-0.538537</td>\n",
       "      <td>-0.159048</td>\n",
       "      <td>-1.066592</td>\n",
       "      <td>0.852420</td>\n",
       "      <td>-0.448867</td>\n",
       "      <td>0.712847</td>\n",
       "      <td>-0.173544</td>\n",
       "      <td>-0.512387</td>\n",
       "      <td>-0.460095</td>\n",
       "      <td>-0.460078</td>\n",
       "      <td>...</td>\n",
       "      <td>-0.156495</td>\n",
       "      <td>-0.156451</td>\n",
       "      <td>-0.155750</td>\n",
       "      <td>-0.155561</td>\n",
       "      <td>-0.155035</td>\n",
       "      <td>-0.154977</td>\n",
       "      <td>-0.154554</td>\n",
       "      <td>-0.154306</td>\n",
       "      <td>-0.153999</td>\n",
       "      <td>-0.147588</td>\n",
       "    </tr>\n",
       "    <tr>\n",
       "      <th>4</th>\n",
       "      <td>-0.551606</td>\n",
       "      <td>-0.125007</td>\n",
       "      <td>-1.066592</td>\n",
       "      <td>0.797992</td>\n",
       "      <td>-0.463541</td>\n",
       "      <td>0.712847</td>\n",
       "      <td>-0.173661</td>\n",
       "      <td>-0.538525</td>\n",
       "      <td>-0.512372</td>\n",
       "      <td>-0.460078</td>\n",
       "      <td>...</td>\n",
       "      <td>-0.156626</td>\n",
       "      <td>-0.156495</td>\n",
       "      <td>-0.156451</td>\n",
       "      <td>-0.155750</td>\n",
       "      <td>-0.155561</td>\n",
       "      <td>-0.155035</td>\n",
       "      <td>-0.154977</td>\n",
       "      <td>-0.154554</td>\n",
       "      <td>-0.154306</td>\n",
       "      <td>-0.153999</td>\n",
       "    </tr>\n",
       "  </tbody>\n",
       "</table>\n",
       "<p>5 rows × 343 columns</p>\n",
       "</div>"
      ],
      "text/plain": [
       "       수온 ℃  전기전도도 μS/cm  총유기탄소 mg/L  총질소 mg/L   총인 mg/L  상류수위(EL.m)  \\\n",
       "0 -0.460123    -0.204436   -1.066592  0.701736 -0.404844    0.712847   \n",
       "1 -0.460123    -0.170395   -1.066592  0.762211 -0.404844    0.712847   \n",
       "2 -0.512399    -0.181742   -1.066592  0.826214 -0.419518    0.712847   \n",
       "3 -0.538537    -0.159048   -1.066592  0.852420 -0.448867    0.712847   \n",
       "4 -0.551606    -0.125007   -1.066592  0.797992 -0.463541    0.712847   \n",
       "\n",
       "   방류량(㎥/s)  1shift수온 ℃  2shift수온 ℃  3shift수온 ℃  ...  39shift방류량(㎥/s)  \\\n",
       "0 -0.173164   -0.447041   -0.447026   -0.486216  ...        -0.155560   \n",
       "1 -0.173164   -0.460110   -0.447026   -0.447009  ...        -0.155750   \n",
       "2 -0.173485   -0.460110   -0.460095   -0.447009  ...        -0.156451   \n",
       "3 -0.173544   -0.512387   -0.460095   -0.460078  ...        -0.156495   \n",
       "4 -0.173661   -0.538525   -0.512372   -0.460078  ...        -0.156626   \n",
       "\n",
       "   40shift방류량(㎥/s)  41shift방류량(㎥/s)  42shift방류량(㎥/s)  43shift방류량(㎥/s)  \\\n",
       "0        -0.155034        -0.154976        -0.154553        -0.154305   \n",
       "1        -0.155560        -0.155035        -0.154976        -0.154553   \n",
       "2        -0.155750        -0.155560        -0.155035        -0.154977   \n",
       "3        -0.156451        -0.155750        -0.155561        -0.155035   \n",
       "4        -0.156495        -0.156451        -0.155750        -0.155561   \n",
       "\n",
       "   44shift방류량(㎥/s)  45shift방류량(㎥/s)  46shift방류량(㎥/s)  47shift방류량(㎥/s)  \\\n",
       "0        -0.153998        -0.147588        -0.142098        -0.165740   \n",
       "1        -0.154305        -0.153999        -0.147588        -0.142098   \n",
       "2        -0.154553        -0.154305        -0.153999        -0.147588   \n",
       "3        -0.154977        -0.154554        -0.154306        -0.153999   \n",
       "4        -0.155035        -0.154977        -0.154554        -0.154306   \n",
       "\n",
       "   48shift방류량(㎥/s)  \n",
       "0        -0.173903  \n",
       "1        -0.165740  \n",
       "2        -0.142098  \n",
       "3        -0.147588  \n",
       "4        -0.153999  \n",
       "\n",
       "[5 rows x 343 columns]"
      ]
     },
     "execution_count": 63,
     "metadata": {},
     "output_type": "execute_result"
    }
   ],
   "source": [
    "scb_df_scaled.head()"
   ]
  },
  {
   "cell_type": "code",
   "execution_count": 64,
   "id": "c86ea2aa",
   "metadata": {},
   "outputs": [],
   "source": [
    "X_trains, X_tests, y_trains, y_tests = train_test_split(scb_df_scaled.loc[:, col_v], scb_df['클로로필-a mg/㎥'], random_state=42)\n",
    "gb_regs = GradientBoostingRegressor(random_state=42)\n",
    "\n",
    "parameters = {'max_depth':[5, 10, 15], 'learning_rate':[0.05, 0.1, 0.2]}"
   ]
  },
  {
   "cell_type": "code",
   "execution_count": 65,
   "id": "6671bce0",
   "metadata": {},
   "outputs": [],
   "source": [
    "gb_grids = GridSearchCV(gb_regs, param_grid=parameters, cv=3, verbose=5)"
   ]
  },
  {
   "cell_type": "code",
   "execution_count": 66,
   "id": "835b7a20",
   "metadata": {},
   "outputs": [
    {
     "name": "stdout",
     "output_type": "stream",
     "text": [
      "Fitting 3 folds for each of 9 candidates, totalling 27 fits\n",
      "[CV 1/3] END ...learning_rate=0.05, max_depth=5;, score=0.767 total time= 8.6min\n",
      "[CV 2/3] END ...learning_rate=0.05, max_depth=5;, score=0.762 total time= 8.6min\n",
      "[CV 3/3] END ...learning_rate=0.05, max_depth=5;, score=0.762 total time= 8.6min\n",
      "[CV 1/3] END ..learning_rate=0.05, max_depth=10;, score=0.942 total time=16.5min\n",
      "[CV 2/3] END ..learning_rate=0.05, max_depth=10;, score=0.942 total time=16.7min\n",
      "[CV 3/3] END ..learning_rate=0.05, max_depth=10;, score=0.942 total time=16.6min\n",
      "[CV 1/3] END ..learning_rate=0.05, max_depth=15;, score=0.963 total time=23.2min\n",
      "[CV 2/3] END ..learning_rate=0.05, max_depth=15;, score=0.962 total time=23.3min\n",
      "[CV 3/3] END ..learning_rate=0.05, max_depth=15;, score=0.961 total time=23.5min\n",
      "[CV 1/3] END ....learning_rate=0.1, max_depth=5;, score=0.817 total time= 8.7min\n",
      "[CV 2/3] END ....learning_rate=0.1, max_depth=5;, score=0.814 total time= 8.7min\n",
      "[CV 3/3] END ....learning_rate=0.1, max_depth=5;, score=0.812 total time= 8.7min\n",
      "[CV 1/3] END ...learning_rate=0.1, max_depth=10;, score=0.958 total time=17.0min\n",
      "[CV 2/3] END ...learning_rate=0.1, max_depth=10;, score=0.956 total time=16.9min\n",
      "[CV 3/3] END ...learning_rate=0.1, max_depth=10;, score=0.956 total time=17.0min\n",
      "[CV 1/3] END ...learning_rate=0.1, max_depth=15;, score=0.963 total time=24.1min\n",
      "[CV 2/3] END ...learning_rate=0.1, max_depth=15;, score=0.961 total time=24.2min\n",
      "[CV 3/3] END ...learning_rate=0.1, max_depth=15;, score=0.961 total time=24.1min\n",
      "[CV 1/3] END ....learning_rate=0.2, max_depth=5;, score=0.873 total time= 8.7min\n",
      "[CV 2/3] END ....learning_rate=0.2, max_depth=5;, score=0.867 total time= 8.7min\n",
      "[CV 3/3] END ....learning_rate=0.2, max_depth=5;, score=0.864 total time= 8.7min\n",
      "[CV 1/3] END ...learning_rate=0.2, max_depth=10;, score=0.958 total time=17.2min\n",
      "[CV 2/3] END ...learning_rate=0.2, max_depth=10;, score=0.957 total time=17.3min\n",
      "[CV 3/3] END ...learning_rate=0.2, max_depth=10;, score=0.957 total time=17.2min\n",
      "[CV 1/3] END ...learning_rate=0.2, max_depth=15;, score=0.958 total time=24.9min\n",
      "[CV 2/3] END ...learning_rate=0.2, max_depth=15;, score=0.957 total time=25.1min\n",
      "[CV 3/3] END ...learning_rate=0.2, max_depth=15;, score=0.957 total time=25.0min\n"
     ]
    },
    {
     "data": {
      "text/plain": [
       "GridSearchCV(cv=3, estimator=GradientBoostingRegressor(random_state=42),\n",
       "             param_grid={'learning_rate': [0.05, 0.1, 0.2],\n",
       "                         'max_depth': [5, 10, 15]},\n",
       "             verbose=5)"
      ]
     },
     "execution_count": 66,
     "metadata": {},
     "output_type": "execute_result"
    }
   ],
   "source": [
    "gb_grids.fit(X_trains, np.log1p(y_trains))"
   ]
  },
  {
   "cell_type": "code",
   "execution_count": 67,
   "id": "3072b5aa",
   "metadata": {},
   "outputs": [],
   "source": [
    "scores_dfs = pd.DataFrame(gb_grids.cv_results_)"
   ]
  },
  {
   "cell_type": "code",
   "execution_count": 68,
   "id": "22591261",
   "metadata": {},
   "outputs": [
    {
     "data": {
      "text/html": [
       "<div>\n",
       "<style scoped>\n",
       "    .dataframe tbody tr th:only-of-type {\n",
       "        vertical-align: middle;\n",
       "    }\n",
       "\n",
       "    .dataframe tbody tr th {\n",
       "        vertical-align: top;\n",
       "    }\n",
       "\n",
       "    .dataframe thead th {\n",
       "        text-align: right;\n",
       "    }\n",
       "</style>\n",
       "<table border=\"1\" class=\"dataframe\">\n",
       "  <thead>\n",
       "    <tr style=\"text-align: right;\">\n",
       "      <th></th>\n",
       "      <th>params</th>\n",
       "      <th>mean_test_score</th>\n",
       "      <th>rank_test_score</th>\n",
       "    </tr>\n",
       "  </thead>\n",
       "  <tbody>\n",
       "    <tr>\n",
       "      <th>2</th>\n",
       "      <td>{'learning_rate': 0.05, 'max_depth': 15}</td>\n",
       "      <td>0.961783</td>\n",
       "      <td>1</td>\n",
       "    </tr>\n",
       "    <tr>\n",
       "      <th>5</th>\n",
       "      <td>{'learning_rate': 0.1, 'max_depth': 15}</td>\n",
       "      <td>0.961757</td>\n",
       "      <td>2</td>\n",
       "    </tr>\n",
       "    <tr>\n",
       "      <th>8</th>\n",
       "      <td>{'learning_rate': 0.2, 'max_depth': 15}</td>\n",
       "      <td>0.957211</td>\n",
       "      <td>3</td>\n",
       "    </tr>\n",
       "    <tr>\n",
       "      <th>7</th>\n",
       "      <td>{'learning_rate': 0.2, 'max_depth': 10}</td>\n",
       "      <td>0.957162</td>\n",
       "      <td>4</td>\n",
       "    </tr>\n",
       "    <tr>\n",
       "      <th>4</th>\n",
       "      <td>{'learning_rate': 0.1, 'max_depth': 10}</td>\n",
       "      <td>0.956456</td>\n",
       "      <td>5</td>\n",
       "    </tr>\n",
       "  </tbody>\n",
       "</table>\n",
       "</div>"
      ],
      "text/plain": [
       "                                     params  mean_test_score  rank_test_score\n",
       "2  {'learning_rate': 0.05, 'max_depth': 15}         0.961783                1\n",
       "5   {'learning_rate': 0.1, 'max_depth': 15}         0.961757                2\n",
       "8   {'learning_rate': 0.2, 'max_depth': 15}         0.957211                3\n",
       "7   {'learning_rate': 0.2, 'max_depth': 10}         0.957162                4\n",
       "4   {'learning_rate': 0.1, 'max_depth': 10}         0.956456                5"
      ]
     },
     "execution_count": 68,
     "metadata": {},
     "output_type": "execute_result"
    }
   ],
   "source": [
    "scores_dfs.sort_values(by=['rank_test_score'], inplace=True)\n",
    "scores_dfs[['params', 'mean_test_score', 'rank_test_score']].head()"
   ]
  },
  {
   "cell_type": "code",
   "execution_count": 69,
   "id": "487e924f",
   "metadata": {},
   "outputs": [
    {
     "data": {
      "text/plain": [
       "{'learning_rate': 0.05, 'max_depth': 15}"
      ]
     },
     "execution_count": 69,
     "metadata": {},
     "output_type": "execute_result"
    }
   ],
   "source": [
    "gb_grids.best_params_"
   ]
  },
  {
   "cell_type": "code",
   "execution_count": 70,
   "id": "96864efe",
   "metadata": {},
   "outputs": [],
   "source": [
    "estimators = gb_grids.best_estimator_"
   ]
  },
  {
   "cell_type": "code",
   "execution_count": 71,
   "id": "8ba35716",
   "metadata": {},
   "outputs": [],
   "source": [
    "preds = estimators.predict(X_tests)"
   ]
  },
  {
   "cell_type": "code",
   "execution_count": 72,
   "id": "3c96bb3c",
   "metadata": {},
   "outputs": [
    {
     "name": "stdout",
     "output_type": "stream",
     "text": [
      "0.02 수온 ℃\n",
      "0.13 전기전도도 μS/cm\n",
      "0.01 총유기탄소 mg/L\n",
      "0.01 총질소 mg/L\n",
      "0.01 총인 mg/L\n",
      "0.06 상류수위(EL.m)\n",
      "0.0 방류량(㎥/s)\n",
      "0.08 1shift수온 ℃\n",
      "0.01 2shift수온 ℃\n",
      "0.0 3shift수온 ℃\n",
      "0.0 4shift수온 ℃\n",
      "0.0 5shift수온 ℃\n",
      "0.0 6shift수온 ℃\n",
      "0.0 7shift수온 ℃\n",
      "0.01 8shift수온 ℃\n",
      "0.0 9shift수온 ℃\n",
      "0.0 10shift수온 ℃\n",
      "0.0 11shift수온 ℃\n",
      "0.0 12shift수온 ℃\n",
      "0.0 13shift수온 ℃\n",
      "0.0 14shift수온 ℃\n",
      "0.0 15shift수온 ℃\n",
      "0.0 16shift수온 ℃\n",
      "0.0 17shift수온 ℃\n",
      "0.0 18shift수온 ℃\n",
      "0.0 19shift수온 ℃\n",
      "0.0 20shift수온 ℃\n",
      "0.0 21shift수온 ℃\n",
      "0.0 22shift수온 ℃\n",
      "0.0 23shift수온 ℃\n",
      "0.0 24shift수온 ℃\n",
      "0.0 25shift수온 ℃\n",
      "0.0 26shift수온 ℃\n",
      "0.0 27shift수온 ℃\n",
      "0.0 28shift수온 ℃\n",
      "0.0 29shift수온 ℃\n",
      "0.0 30shift수온 ℃\n",
      "0.0 31shift수온 ℃\n",
      "0.0 32shift수온 ℃\n",
      "0.0 33shift수온 ℃\n",
      "0.0 34shift수온 ℃\n",
      "0.0 35shift수온 ℃\n",
      "0.0 36shift수온 ℃\n",
      "0.0 37shift수온 ℃\n",
      "0.0 38shift수온 ℃\n",
      "0.0 39shift수온 ℃\n",
      "0.0 40shift수온 ℃\n",
      "0.0 41shift수온 ℃\n",
      "0.0 42shift수온 ℃\n",
      "0.0 43shift수온 ℃\n",
      "0.0 44shift수온 ℃\n",
      "0.0 45shift수온 ℃\n",
      "0.0 46shift수온 ℃\n",
      "0.0 47shift수온 ℃\n",
      "0.01 48shift수온 ℃\n",
      "0.0 1shift전기전도도 μS/cm\n",
      "0.0 2shift전기전도도 μS/cm\n",
      "0.0 3shift전기전도도 μS/cm\n",
      "0.0 4shift전기전도도 μS/cm\n",
      "0.0 5shift전기전도도 μS/cm\n",
      "0.0 6shift전기전도도 μS/cm\n",
      "0.0 7shift전기전도도 μS/cm\n",
      "0.0 8shift전기전도도 μS/cm\n",
      "0.0 9shift전기전도도 μS/cm\n",
      "0.0 10shift전기전도도 μS/cm\n",
      "0.0 11shift전기전도도 μS/cm\n",
      "0.0 12shift전기전도도 μS/cm\n",
      "0.0 13shift전기전도도 μS/cm\n",
      "0.0 14shift전기전도도 μS/cm\n",
      "0.0 15shift전기전도도 μS/cm\n",
      "0.0 16shift전기전도도 μS/cm\n",
      "0.0 17shift전기전도도 μS/cm\n",
      "0.0 18shift전기전도도 μS/cm\n",
      "0.0 19shift전기전도도 μS/cm\n",
      "0.0 20shift전기전도도 μS/cm\n",
      "0.0 21shift전기전도도 μS/cm\n",
      "0.0 22shift전기전도도 μS/cm\n",
      "0.0 23shift전기전도도 μS/cm\n",
      "0.0 24shift전기전도도 μS/cm\n",
      "0.0 25shift전기전도도 μS/cm\n",
      "0.0 26shift전기전도도 μS/cm\n",
      "0.0 27shift전기전도도 μS/cm\n",
      "0.0 28shift전기전도도 μS/cm\n",
      "0.0 29shift전기전도도 μS/cm\n",
      "0.0 30shift전기전도도 μS/cm\n",
      "0.0 31shift전기전도도 μS/cm\n",
      "0.0 32shift전기전도도 μS/cm\n",
      "0.0 33shift전기전도도 μS/cm\n",
      "0.0 34shift전기전도도 μS/cm\n",
      "0.0 35shift전기전도도 μS/cm\n",
      "0.0 36shift전기전도도 μS/cm\n",
      "0.0 37shift전기전도도 μS/cm\n",
      "0.0 38shift전기전도도 μS/cm\n",
      "0.01 39shift전기전도도 μS/cm\n",
      "0.0 40shift전기전도도 μS/cm\n",
      "0.0 41shift전기전도도 μS/cm\n",
      "0.0 42shift전기전도도 μS/cm\n",
      "0.0 43shift전기전도도 μS/cm\n",
      "0.0 44shift전기전도도 μS/cm\n",
      "0.0 45shift전기전도도 μS/cm\n",
      "0.0 46shift전기전도도 μS/cm\n",
      "0.0 47shift전기전도도 μS/cm\n",
      "0.0 48shift전기전도도 μS/cm\n",
      "0.0 1shift총유기탄소 mg/L\n",
      "0.0 2shift총유기탄소 mg/L\n",
      "0.0 3shift총유기탄소 mg/L\n",
      "0.0 4shift총유기탄소 mg/L\n",
      "0.0 5shift총유기탄소 mg/L\n",
      "0.0 6shift총유기탄소 mg/L\n",
      "0.0 7shift총유기탄소 mg/L\n",
      "0.0 8shift총유기탄소 mg/L\n",
      "0.0 9shift총유기탄소 mg/L\n",
      "0.0 10shift총유기탄소 mg/L\n",
      "0.0 11shift총유기탄소 mg/L\n",
      "0.0 12shift총유기탄소 mg/L\n",
      "0.0 13shift총유기탄소 mg/L\n",
      "0.0 14shift총유기탄소 mg/L\n",
      "0.0 15shift총유기탄소 mg/L\n",
      "0.0 16shift총유기탄소 mg/L\n",
      "0.0 17shift총유기탄소 mg/L\n",
      "0.0 18shift총유기탄소 mg/L\n",
      "0.0 19shift총유기탄소 mg/L\n",
      "0.0 20shift총유기탄소 mg/L\n",
      "0.0 21shift총유기탄소 mg/L\n",
      "0.0 22shift총유기탄소 mg/L\n",
      "0.0 23shift총유기탄소 mg/L\n",
      "0.0 24shift총유기탄소 mg/L\n",
      "0.0 25shift총유기탄소 mg/L\n",
      "0.0 26shift총유기탄소 mg/L\n",
      "0.0 27shift총유기탄소 mg/L\n",
      "0.0 28shift총유기탄소 mg/L\n",
      "0.0 29shift총유기탄소 mg/L\n",
      "0.0 30shift총유기탄소 mg/L\n",
      "0.0 31shift총유기탄소 mg/L\n",
      "0.0 32shift총유기탄소 mg/L\n",
      "0.0 33shift총유기탄소 mg/L\n",
      "0.0 34shift총유기탄소 mg/L\n",
      "0.0 35shift총유기탄소 mg/L\n",
      "0.0 36shift총유기탄소 mg/L\n",
      "0.0 37shift총유기탄소 mg/L\n",
      "0.0 38shift총유기탄소 mg/L\n",
      "0.0 39shift총유기탄소 mg/L\n",
      "0.0 40shift총유기탄소 mg/L\n",
      "0.0 41shift총유기탄소 mg/L\n",
      "0.0 42shift총유기탄소 mg/L\n",
      "0.0 43shift총유기탄소 mg/L\n",
      "0.0 44shift총유기탄소 mg/L\n",
      "0.0 45shift총유기탄소 mg/L\n",
      "0.0 46shift총유기탄소 mg/L\n",
      "0.0 47shift총유기탄소 mg/L\n",
      "0.01 48shift총유기탄소 mg/L\n",
      "0.01 1shift총질소 mg/L\n",
      "0.0 2shift총질소 mg/L\n",
      "0.0 3shift총질소 mg/L\n",
      "0.0 4shift총질소 mg/L\n",
      "0.0 5shift총질소 mg/L\n",
      "0.0 6shift총질소 mg/L\n",
      "0.0 7shift총질소 mg/L\n",
      "0.01 8shift총질소 mg/L\n",
      "0.0 9shift총질소 mg/L\n",
      "0.0 10shift총질소 mg/L\n",
      "0.0 11shift총질소 mg/L\n",
      "0.0 12shift총질소 mg/L\n",
      "0.0 13shift총질소 mg/L\n",
      "0.0 14shift총질소 mg/L\n",
      "0.0 15shift총질소 mg/L\n",
      "0.0 16shift총질소 mg/L\n",
      "0.0 17shift총질소 mg/L\n",
      "0.0 18shift총질소 mg/L\n",
      "0.0 19shift총질소 mg/L\n",
      "0.0 20shift총질소 mg/L\n",
      "0.0 21shift총질소 mg/L\n",
      "0.0 22shift총질소 mg/L\n",
      "0.0 23shift총질소 mg/L\n",
      "0.0 24shift총질소 mg/L\n",
      "0.0 25shift총질소 mg/L\n",
      "0.0 26shift총질소 mg/L\n",
      "0.0 27shift총질소 mg/L\n",
      "0.0 28shift총질소 mg/L\n",
      "0.0 29shift총질소 mg/L\n",
      "0.0 30shift총질소 mg/L\n",
      "0.0 31shift총질소 mg/L\n",
      "0.0 32shift총질소 mg/L\n",
      "0.0 33shift총질소 mg/L\n",
      "0.0 34shift총질소 mg/L\n",
      "0.0 35shift총질소 mg/L\n",
      "0.0 36shift총질소 mg/L\n",
      "0.0 37shift총질소 mg/L\n",
      "0.0 38shift총질소 mg/L\n",
      "0.0 39shift총질소 mg/L\n",
      "0.0 40shift총질소 mg/L\n",
      "0.0 41shift총질소 mg/L\n",
      "0.0 42shift총질소 mg/L\n",
      "0.0 43shift총질소 mg/L\n",
      "0.0 44shift총질소 mg/L\n",
      "0.0 45shift총질소 mg/L\n",
      "0.0 46shift총질소 mg/L\n",
      "0.0 47shift총질소 mg/L\n",
      "0.0 48shift총질소 mg/L\n",
      "0.0 1shift총인 mg/L\n",
      "0.0 2shift총인 mg/L\n",
      "0.0 3shift총인 mg/L\n",
      "0.0 4shift총인 mg/L\n",
      "0.0 5shift총인 mg/L\n",
      "0.0 6shift총인 mg/L\n",
      "0.0 7shift총인 mg/L\n",
      "0.0 8shift총인 mg/L\n",
      "0.0 9shift총인 mg/L\n",
      "0.0 10shift총인 mg/L\n",
      "0.0 11shift총인 mg/L\n",
      "0.0 12shift총인 mg/L\n",
      "0.0 13shift총인 mg/L\n",
      "0.0 14shift총인 mg/L\n",
      "0.0 15shift총인 mg/L\n",
      "0.0 16shift총인 mg/L\n",
      "0.0 17shift총인 mg/L\n",
      "0.0 18shift총인 mg/L\n",
      "0.0 19shift총인 mg/L\n",
      "0.0 20shift총인 mg/L\n",
      "0.0 21shift총인 mg/L\n",
      "0.0 22shift총인 mg/L\n",
      "0.0 23shift총인 mg/L\n",
      "0.0 24shift총인 mg/L\n",
      "0.0 25shift총인 mg/L\n",
      "0.0 26shift총인 mg/L\n",
      "0.0 27shift총인 mg/L\n",
      "0.0 28shift총인 mg/L\n",
      "0.0 29shift총인 mg/L\n",
      "0.0 30shift총인 mg/L\n",
      "0.0 31shift총인 mg/L\n",
      "0.0 32shift총인 mg/L\n",
      "0.0 33shift총인 mg/L\n",
      "0.0 34shift총인 mg/L\n",
      "0.0 35shift총인 mg/L\n",
      "0.0 36shift총인 mg/L\n",
      "0.0 37shift총인 mg/L\n",
      "0.0 38shift총인 mg/L\n",
      "0.0 39shift총인 mg/L\n",
      "0.0 40shift총인 mg/L\n",
      "0.0 41shift총인 mg/L\n",
      "0.0 42shift총인 mg/L\n",
      "0.0 43shift총인 mg/L\n",
      "0.0 44shift총인 mg/L\n",
      "0.0 45shift총인 mg/L\n",
      "0.0 46shift총인 mg/L\n",
      "0.0 47shift총인 mg/L\n",
      "0.0 48shift총인 mg/L\n",
      "0.0 1shift상류수위(EL.m)\n",
      "0.01 2shift상류수위(EL.m)\n",
      "0.0 3shift상류수위(EL.m)\n",
      "0.0 4shift상류수위(EL.m)\n",
      "0.0 5shift상류수위(EL.m)\n",
      "0.0 6shift상류수위(EL.m)\n",
      "0.0 7shift상류수위(EL.m)\n",
      "0.0 8shift상류수위(EL.m)\n",
      "0.0 9shift상류수위(EL.m)\n",
      "0.0 10shift상류수위(EL.m)\n",
      "0.0 11shift상류수위(EL.m)\n",
      "0.0 12shift상류수위(EL.m)\n",
      "0.0 13shift상류수위(EL.m)\n",
      "0.0 14shift상류수위(EL.m)\n",
      "0.0 15shift상류수위(EL.m)\n",
      "0.0 16shift상류수위(EL.m)\n",
      "0.0 17shift상류수위(EL.m)\n",
      "0.0 18shift상류수위(EL.m)\n",
      "0.0 19shift상류수위(EL.m)\n",
      "0.0 20shift상류수위(EL.m)\n",
      "0.0 21shift상류수위(EL.m)\n",
      "0.0 22shift상류수위(EL.m)\n",
      "0.0 23shift상류수위(EL.m)\n",
      "0.0 24shift상류수위(EL.m)\n",
      "0.0 25shift상류수위(EL.m)\n",
      "0.0 26shift상류수위(EL.m)\n",
      "0.0 27shift상류수위(EL.m)\n",
      "0.01 28shift상류수위(EL.m)\n",
      "0.01 29shift상류수위(EL.m)\n",
      "0.0 30shift상류수위(EL.m)\n",
      "0.0 31shift상류수위(EL.m)\n",
      "0.0 32shift상류수위(EL.m)\n",
      "0.0 33shift상류수위(EL.m)\n",
      "0.0 34shift상류수위(EL.m)\n",
      "0.0 35shift상류수위(EL.m)\n",
      "0.0 36shift상류수위(EL.m)\n",
      "0.0 37shift상류수위(EL.m)\n",
      "0.0 38shift상류수위(EL.m)\n",
      "0.0 39shift상류수위(EL.m)\n",
      "0.0 40shift상류수위(EL.m)\n",
      "0.0 41shift상류수위(EL.m)\n",
      "0.0 42shift상류수위(EL.m)\n",
      "0.0 43shift상류수위(EL.m)\n",
      "0.0 44shift상류수위(EL.m)\n",
      "0.0 45shift상류수위(EL.m)\n",
      "0.0 46shift상류수위(EL.m)\n",
      "0.0 47shift상류수위(EL.m)\n",
      "0.01 48shift상류수위(EL.m)\n",
      "0.0 1shift방류량(㎥/s)\n",
      "0.03 2shift방류량(㎥/s)\n",
      "0.02 3shift방류량(㎥/s)\n",
      "0.08 4shift방류량(㎥/s)\n",
      "0.01 5shift방류량(㎥/s)\n",
      "0.0 6shift방류량(㎥/s)\n",
      "0.03 7shift방류량(㎥/s)\n",
      "0.0 8shift방류량(㎥/s)\n",
      "0.01 9shift방류량(㎥/s)\n",
      "0.0 10shift방류량(㎥/s)\n",
      "0.0 11shift방류량(㎥/s)\n",
      "0.0 12shift방류량(㎥/s)\n",
      "0.0 13shift방류량(㎥/s)\n",
      "0.0 14shift방류량(㎥/s)\n",
      "0.0 15shift방류량(㎥/s)\n",
      "0.0 16shift방류량(㎥/s)\n",
      "0.01 17shift방류량(㎥/s)\n",
      "0.0 18shift방류량(㎥/s)\n",
      "0.0 19shift방류량(㎥/s)\n",
      "0.0 20shift방류량(㎥/s)\n",
      "0.0 21shift방류량(㎥/s)\n",
      "0.0 22shift방류량(㎥/s)\n",
      "0.0 23shift방류량(㎥/s)\n",
      "0.0 24shift방류량(㎥/s)\n",
      "0.0 25shift방류량(㎥/s)\n",
      "0.0 26shift방류량(㎥/s)\n",
      "0.0 27shift방류량(㎥/s)\n",
      "0.0 28shift방류량(㎥/s)\n",
      "0.0 29shift방류량(㎥/s)\n",
      "0.0 30shift방류량(㎥/s)\n",
      "0.0 31shift방류량(㎥/s)\n",
      "0.0 32shift방류량(㎥/s)\n",
      "0.0 33shift방류량(㎥/s)\n",
      "0.0 34shift방류량(㎥/s)\n",
      "0.0 35shift방류량(㎥/s)\n",
      "0.0 36shift방류량(㎥/s)\n",
      "0.0 37shift방류량(㎥/s)\n",
      "0.0 38shift방류량(㎥/s)\n",
      "0.0 39shift방류량(㎥/s)\n",
      "0.0 40shift방류량(㎥/s)\n",
      "0.0 41shift방류량(㎥/s)\n",
      "0.0 42shift방류량(㎥/s)\n",
      "0.0 43shift방류량(㎥/s)\n",
      "0.0 44shift방류량(㎥/s)\n",
      "0.0 45shift방류량(㎥/s)\n",
      "0.0 46shift방류량(㎥/s)\n",
      "0.0 47shift방류량(㎥/s)\n",
      "0.0 48shift방류량(㎥/s)\n"
     ]
    }
   ],
   "source": [
    "for score, name in zip(estimators.feature_importances_, col_v):\n",
    "    print(round(score, 2), name)"
   ]
  },
  {
   "cell_type": "code",
   "execution_count": 73,
   "id": "d689b7cc",
   "metadata": {},
   "outputs": [
    {
     "data": {
      "image/png": "[encoded data removed]",
      "text/plain": [
       "<Figure size 720x432 with 1 Axes>"
      ]
     },
     "metadata": {
      "needs_background": "light"
     },
     "output_type": "display_data"
    }
   ],
   "source": [
    "feature_seriess = pd.Series(data = estimators.feature_importances_, index = col_v)\n",
    "feature_seriess = feature_seriess.sort_values(ascending = False)\n",
    "sns.barplot(x = feature_seriess[:10], y = feature_seriess.index[:10], color = 'gray')\n",
    "plt.show()"
   ]
  },
  {
   "cell_type": "code",
   "execution_count": 74,
   "id": "5ff9d0d5",
   "metadata": {},
   "outputs": [
    {
     "data": {
      "text/plain": [
       "전기전도도 μS/cm       0.127046\n",
       "4shift방류량(㎥/s)    0.078717\n",
       "1shift수온 ℃        0.077831\n",
       "상류수위(EL.m)        0.060580\n",
       "7shift방류량(㎥/s)    0.031210\n",
       "2shift방류량(㎥/s)    0.029641\n",
       "수온 ℃              0.022141\n",
       "3shift방류량(㎥/s)    0.018646\n",
       "총인 mg/L           0.012155\n",
       "9shift방류량(㎥/s)    0.010409\n",
       "dtype: float64"
      ]
     },
     "execution_count": 74,
     "metadata": {},
     "output_type": "execute_result"
    }
   ],
   "source": [
    "feature_seriess[:10]"
   ]
  },
  {
   "cell_type": "code",
   "execution_count": 75,
   "id": "6aad7be2",
   "metadata": {},
   "outputs": [
    {
     "name": "stdout",
     "output_type": "stream",
     "text": [
      "score : 0.9762411209713237\n"
     ]
    }
   ],
   "source": [
    "print('score :', estimators.score(X_tests, np.log1p(y_tests)))"
   ]
  },
  {
   "cell_type": "code",
   "execution_count": null,
   "id": "a34152e6",
   "metadata": {},
   "outputs": [],
   "source": []
  },
  {
   "cell_type": "code",
   "execution_count": null,
   "id": "6eb3337f",
   "metadata": {},
   "outputs": [],
   "source": []
  },
  {
   "cell_type": "code",
   "execution_count": null,
   "id": "ca55bc2c",
   "metadata": {},
   "outputs": [],
   "source": []
  }
 ],
 "metadata": {
  "kernelspec": {
   "display_name": "Python 3.9.7 ('base')",
   "language": "python",
   "name": "python3"
  },
  "language_info": {
   "codemirror_mode": {
    "name": "ipython",
    "version": 3
   },
   "file_extension": ".py",
   "mimetype": "text/x-python",
   "name": "python",
   "nbconvert_exporter": "python",
   "pygments_lexer": "ipython3",
   "version": "3.9.7"
  },
  "vscode": {
   "interpreter": {
    "hash": "4f1c27f6da107cbb19cc7f388eb21cff313e366dc533bc97937a0f5f8534034c"
   }
  }
 },
 "nbformat": 4,
 "nbformat_minor": 5
}
